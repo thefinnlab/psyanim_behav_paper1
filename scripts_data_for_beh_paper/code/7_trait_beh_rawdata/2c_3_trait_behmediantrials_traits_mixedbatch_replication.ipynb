{
 "cells": [
  {
   "cell_type": "code",
   "execution_count": 1,
   "source": [
    "print(\"Hello, R in Jupyter!\")"
   ],
   "outputs": [
    {
     "output_type": "stream",
     "name": "stdout",
     "text": [
      "[1] \"Hello, R in Jupyter!\"\n"
     ]
    }
   ],
   "metadata": {}
  },
  {
   "cell_type": "code",
   "execution_count": 2,
   "source": [
    "# Basic arithmetic\n",
    "result <- 2 + 2\n",
    "print(result)"
   ],
   "outputs": [
    {
     "output_type": "stream",
     "name": "stdout",
     "text": [
      "[1] 4\n"
     ]
    }
   ],
   "metadata": {}
  },
  {
   "cell_type": "code",
   "execution_count": 7,
   "source": [
    "root_dir = '../../data/subtlety_playfight_data/'#/Users/f0053cz/Documents/psyanim_v2/scripts_for_beh_paper/data/subtlety_playfight_data/'\n",
    "flname = paste('median_mixedbatch_traits.csv', sep = \"\")\n",
    "data <- read.csv(paste(root_dir,flname, sep = \"/\"))\n",
    "# print(data)\n",
    "head(data, 5)"
   ],
   "outputs": [
    {
     "output_type": "display_data",
     "data": {
      "text/html": [
       "<table class=\"dataframe\">\n",
       "<caption>A data.frame: 5 × 24</caption>\n",
       "<thead>\n",
       "\t<tr><th></th><th scope=col>X</th><th scope=col>subID</th><th scope=col>subtlety</th><th scope=col>block_type</th><th scope=col>responses_subt_1</th><th scope=col>responses_pf</th><th scope=col>RT</th><th scope=col>accuracy</th><th scope=col>rating180</th><th scope=col>diff_from_180</th><th scope=col>⋯</th><th scope=col>comm</th><th scope=col>posAffect</th><th scope=col>negAffect</th><th scope=col>neuroticism</th><th scope=col>extraversion</th><th scope=col>openness</th><th scope=col>agreeableness</th><th scope=col>conscientiousness</th><th scope=col>loneliness</th><th scope=col>nfriends</th></tr>\n",
       "\t<tr><th></th><th scope=col>&lt;int&gt;</th><th scope=col>&lt;int&gt;</th><th scope=col>&lt;dbl&gt;</th><th scope=col>&lt;dbl&gt;</th><th scope=col>&lt;dbl&gt;</th><th scope=col>&lt;lgl&gt;</th><th scope=col>&lt;dbl&gt;</th><th scope=col>&lt;dbl&gt;</th><th scope=col>&lt;dbl&gt;</th><th scope=col>&lt;dbl&gt;</th><th scope=col>⋯</th><th scope=col>&lt;dbl&gt;</th><th scope=col>&lt;dbl&gt;</th><th scope=col>&lt;dbl&gt;</th><th scope=col>&lt;dbl&gt;</th><th scope=col>&lt;dbl&gt;</th><th scope=col>&lt;dbl&gt;</th><th scope=col>&lt;dbl&gt;</th><th scope=col>&lt;dbl&gt;</th><th scope=col>&lt;dbl&gt;</th><th scope=col>&lt;dbl&gt;</th></tr>\n",
       "</thead>\n",
       "<tbody>\n",
       "\t<tr><th scope=row>1</th><td>0</td><td>30002</td><td>  0</td><td>1</td><td>96.5</td><td>NA</td><td>1630.5</td><td>1</td><td>0.5</td><td>96.0</td><td>⋯</td><td>16</td><td>20</td><td>0</td><td>38</td><td>28</td><td>31</td><td>34</td><td>39</td><td>56</td><td>3</td></tr>\n",
       "\t<tr><th scope=row>2</th><td>1</td><td>30002</td><td> 30</td><td>1</td><td>95.0</td><td>NA</td><td>1605.0</td><td>1</td><td>0.5</td><td>94.5</td><td>⋯</td><td>16</td><td>20</td><td>0</td><td>38</td><td>28</td><td>31</td><td>34</td><td>39</td><td>56</td><td>3</td></tr>\n",
       "\t<tr><th scope=row>3</th><td>2</td><td>30002</td><td> 60</td><td>1</td><td>70.5</td><td>NA</td><td>1750.5</td><td>1</td><td>0.5</td><td>70.0</td><td>⋯</td><td>16</td><td>20</td><td>0</td><td>38</td><td>28</td><td>31</td><td>34</td><td>39</td><td>56</td><td>3</td></tr>\n",
       "\t<tr><th scope=row>4</th><td>3</td><td>30002</td><td> 90</td><td>1</td><td>34.0</td><td>NA</td><td>1809.0</td><td>1</td><td>0.5</td><td>33.5</td><td>⋯</td><td>16</td><td>20</td><td>0</td><td>38</td><td>28</td><td>31</td><td>34</td><td>39</td><td>56</td><td>3</td></tr>\n",
       "\t<tr><th scope=row>5</th><td>4</td><td>30002</td><td>120</td><td>1</td><td> 3.5</td><td>NA</td><td>2036.0</td><td>1</td><td>0.5</td><td> 3.0</td><td>⋯</td><td>16</td><td>20</td><td>0</td><td>38</td><td>28</td><td>31</td><td>34</td><td>39</td><td>56</td><td>3</td></tr>\n",
       "</tbody>\n",
       "</table>\n"
      ],
      "text/latex": [
       "A data.frame: 5 × 24\n",
       "\\begin{tabular}{r|lllllllllllllllllllll}\n",
       "  & X & subID & subtlety & block\\_type & responses\\_subt\\_1 & responses\\_pf & RT & accuracy & rating180 & diff\\_from\\_180 & ⋯ & comm & posAffect & negAffect & neuroticism & extraversion & openness & agreeableness & conscientiousness & loneliness & nfriends\\\\\n",
       "  & <int> & <int> & <dbl> & <dbl> & <dbl> & <lgl> & <dbl> & <dbl> & <dbl> & <dbl> & ⋯ & <dbl> & <dbl> & <dbl> & <dbl> & <dbl> & <dbl> & <dbl> & <dbl> & <dbl> & <dbl>\\\\\n",
       "\\hline\n",
       "\t1 & 0 & 30002 &   0 & 1 & 96.5 & NA & 1630.5 & 1 & 0.5 & 96.0 & ⋯ & 16 & 20 & 0 & 38 & 28 & 31 & 34 & 39 & 56 & 3\\\\\n",
       "\t2 & 1 & 30002 &  30 & 1 & 95.0 & NA & 1605.0 & 1 & 0.5 & 94.5 & ⋯ & 16 & 20 & 0 & 38 & 28 & 31 & 34 & 39 & 56 & 3\\\\\n",
       "\t3 & 2 & 30002 &  60 & 1 & 70.5 & NA & 1750.5 & 1 & 0.5 & 70.0 & ⋯ & 16 & 20 & 0 & 38 & 28 & 31 & 34 & 39 & 56 & 3\\\\\n",
       "\t4 & 3 & 30002 &  90 & 1 & 34.0 & NA & 1809.0 & 1 & 0.5 & 33.5 & ⋯ & 16 & 20 & 0 & 38 & 28 & 31 & 34 & 39 & 56 & 3\\\\\n",
       "\t5 & 4 & 30002 & 120 & 1 &  3.5 & NA & 2036.0 & 1 & 0.5 &  3.0 & ⋯ & 16 & 20 & 0 & 38 & 28 & 31 & 34 & 39 & 56 & 3\\\\\n",
       "\\end{tabular}\n"
      ],
      "text/markdown": [
       "\n",
       "A data.frame: 5 × 24\n",
       "\n",
       "| <!--/--> | X &lt;int&gt; | subID &lt;int&gt; | subtlety &lt;dbl&gt; | block_type &lt;dbl&gt; | responses_subt_1 &lt;dbl&gt; | responses_pf &lt;lgl&gt; | RT &lt;dbl&gt; | accuracy &lt;dbl&gt; | rating180 &lt;dbl&gt; | diff_from_180 &lt;dbl&gt; | ⋯ ⋯ | comm &lt;dbl&gt; | posAffect &lt;dbl&gt; | negAffect &lt;dbl&gt; | neuroticism &lt;dbl&gt; | extraversion &lt;dbl&gt; | openness &lt;dbl&gt; | agreeableness &lt;dbl&gt; | conscientiousness &lt;dbl&gt; | loneliness &lt;dbl&gt; | nfriends &lt;dbl&gt; |\n",
       "|---|---|---|---|---|---|---|---|---|---|---|---|---|---|---|---|---|---|---|---|---|---|\n",
       "| 1 | 0 | 30002 |   0 | 1 | 96.5 | NA | 1630.5 | 1 | 0.5 | 96.0 | ⋯ | 16 | 20 | 0 | 38 | 28 | 31 | 34 | 39 | 56 | 3 |\n",
       "| 2 | 1 | 30002 |  30 | 1 | 95.0 | NA | 1605.0 | 1 | 0.5 | 94.5 | ⋯ | 16 | 20 | 0 | 38 | 28 | 31 | 34 | 39 | 56 | 3 |\n",
       "| 3 | 2 | 30002 |  60 | 1 | 70.5 | NA | 1750.5 | 1 | 0.5 | 70.0 | ⋯ | 16 | 20 | 0 | 38 | 28 | 31 | 34 | 39 | 56 | 3 |\n",
       "| 4 | 3 | 30002 |  90 | 1 | 34.0 | NA | 1809.0 | 1 | 0.5 | 33.5 | ⋯ | 16 | 20 | 0 | 38 | 28 | 31 | 34 | 39 | 56 | 3 |\n",
       "| 5 | 4 | 30002 | 120 | 1 |  3.5 | NA | 2036.0 | 1 | 0.5 |  3.0 | ⋯ | 16 | 20 | 0 | 38 | 28 | 31 | 34 | 39 | 56 | 3 |\n",
       "\n"
      ],
      "text/plain": [
       "  X subID subtlety block_type responses_subt_1 responses_pf RT     accuracy\n",
       "1 0 30002   0      1          96.5             NA           1630.5 1       \n",
       "2 1 30002  30      1          95.0             NA           1605.0 1       \n",
       "3 2 30002  60      1          70.5             NA           1750.5 1       \n",
       "4 3 30002  90      1          34.0             NA           1809.0 1       \n",
       "5 4 30002 120      1           3.5             NA           2036.0 1       \n",
       "  rating180 diff_from_180 ⋯ comm posAffect negAffect neuroticism extraversion\n",
       "1 0.5       96.0          ⋯ 16   20        0         38          28          \n",
       "2 0.5       94.5          ⋯ 16   20        0         38          28          \n",
       "3 0.5       70.0          ⋯ 16   20        0         38          28          \n",
       "4 0.5       33.5          ⋯ 16   20        0         38          28          \n",
       "5 0.5        3.0          ⋯ 16   20        0         38          28          \n",
       "  openness agreeableness conscientiousness loneliness nfriends\n",
       "1 31       34            39                56         3       \n",
       "2 31       34            39                56         3       \n",
       "3 31       34            39                56         3       \n",
       "4 31       34            39                56         3       \n",
       "5 31       34            39                56         3       "
      ]
     },
     "metadata": {}
    }
   ],
   "metadata": {}
  },
  {
   "cell_type": "code",
   "execution_count": 8,
   "source": [
    "colnames(data)"
   ],
   "outputs": [
    {
     "output_type": "display_data",
     "data": {
      "text/html": [
       "<style>\n",
       ".list-inline {list-style: none; margin:0; padding: 0}\n",
       ".list-inline>li {display: inline-block}\n",
       ".list-inline>li:not(:last-child)::after {content: \"\\00b7\"; padding: 0 .5ex}\n",
       "</style>\n",
       "<ol class=list-inline><li>'X'</li><li>'subID'</li><li>'subtlety'</li><li>'block_type'</li><li>'responses_subt_1'</li><li>'responses_pf'</li><li>'RT'</li><li>'accuracy'</li><li>'rating180'</li><li>'diff_from_180'</li><li>'social_skill'</li><li>'attn_switch'</li><li>'img'</li><li>'attn_to_det'</li><li>'comm'</li><li>'posAffect'</li><li>'negAffect'</li><li>'neuroticism'</li><li>'extraversion'</li><li>'openness'</li><li>'agreeableness'</li><li>'conscientiousness'</li><li>'loneliness'</li><li>'nfriends'</li></ol>\n"
      ],
      "text/latex": [
       "\\begin{enumerate*}\n",
       "\\item 'X'\n",
       "\\item 'subID'\n",
       "\\item 'subtlety'\n",
       "\\item 'block\\_type'\n",
       "\\item 'responses\\_subt\\_1'\n",
       "\\item 'responses\\_pf'\n",
       "\\item 'RT'\n",
       "\\item 'accuracy'\n",
       "\\item 'rating180'\n",
       "\\item 'diff\\_from\\_180'\n",
       "\\item 'social\\_skill'\n",
       "\\item 'attn\\_switch'\n",
       "\\item 'img'\n",
       "\\item 'attn\\_to\\_det'\n",
       "\\item 'comm'\n",
       "\\item 'posAffect'\n",
       "\\item 'negAffect'\n",
       "\\item 'neuroticism'\n",
       "\\item 'extraversion'\n",
       "\\item 'openness'\n",
       "\\item 'agreeableness'\n",
       "\\item 'conscientiousness'\n",
       "\\item 'loneliness'\n",
       "\\item 'nfriends'\n",
       "\\end{enumerate*}\n"
      ],
      "text/markdown": [
       "1. 'X'\n",
       "2. 'subID'\n",
       "3. 'subtlety'\n",
       "4. 'block_type'\n",
       "5. 'responses_subt_1'\n",
       "6. 'responses_pf'\n",
       "7. 'RT'\n",
       "8. 'accuracy'\n",
       "9. 'rating180'\n",
       "10. 'diff_from_180'\n",
       "11. 'social_skill'\n",
       "12. 'attn_switch'\n",
       "13. 'img'\n",
       "14. 'attn_to_det'\n",
       "15. 'comm'\n",
       "16. 'posAffect'\n",
       "17. 'negAffect'\n",
       "18. 'neuroticism'\n",
       "19. 'extraversion'\n",
       "20. 'openness'\n",
       "21. 'agreeableness'\n",
       "22. 'conscientiousness'\n",
       "23. 'loneliness'\n",
       "24. 'nfriends'\n",
       "\n",
       "\n"
      ],
      "text/plain": [
       " [1] \"X\"                 \"subID\"             \"subtlety\"         \n",
       " [4] \"block_type\"        \"responses_subt_1\"  \"responses_pf\"     \n",
       " [7] \"RT\"                \"accuracy\"          \"rating180\"        \n",
       "[10] \"diff_from_180\"     \"social_skill\"      \"attn_switch\"      \n",
       "[13] \"img\"               \"attn_to_det\"       \"comm\"             \n",
       "[16] \"posAffect\"         \"negAffect\"         \"neuroticism\"      \n",
       "[19] \"extraversion\"      \"openness\"          \"agreeableness\"    \n",
       "[22] \"conscientiousness\" \"loneliness\"        \"nfriends\"         "
      ]
     },
     "metadata": {}
    }
   ],
   "metadata": {}
  },
  {
   "cell_type": "code",
   "execution_count": 9,
   "source": [
    "# Print the dimensions of the data frame\n",
    "print(dim(data))\n",
    "\n",
    "# Drop rows with NA values\n",
    "# data <- na.omit(data)\n",
    "\n",
    "# Print the dimensions of the data frame after dropping NA values\n",
    "print(dim(data))"
   ],
   "outputs": [
    {
     "output_type": "stream",
     "name": "stdout",
     "text": [
      "[1] 1932   24\n",
      "[1] 1932   24\n"
     ]
    }
   ],
   "metadata": {}
  },
  {
   "cell_type": "markdown",
   "source": [
    "# mult reg (relevant traits and curve fits)"
   ],
   "metadata": {}
  },
  {
   "cell_type": "code",
   "execution_count": 10,
   "source": [
    "# install.packages(\"dplyr\")\n",
    "library(dplyr)\n",
    "\n",
    "# Rename specific columns\n",
    "data <- data %>% rename(\n",
    "  slider = responses_subt_1,\n",
    ")\n",
    "\n",
    "# # Rename specific columns\n",
    "# data <- data %>% rename(\n",
    "#   pos_affect = Positive_reweigh,\n",
    "#   PSE_subt = obj_center_subt,\n",
    "#   range_subt = amplitude_subt,\n",
    "#   bias_subt = bias_xmin_norm_subt,\n",
    "#   PSE_pf = obj_center_pf,\n",
    "#   range_pf = amplitude_pf,\n",
    "#   bias_pf = bias_xmin_norm_pf,\n",
    "#   PSE_diff = obj_center_diff,\n",
    "#   range_diff = amplitude_diff,\n",
    "#   bias_diff = bias_xmin_norm_diff\n",
    "# )"
   ],
   "outputs": [
    {
     "output_type": "stream",
     "name": "stderr",
     "text": [
      "\n",
      "Attaching package: ‘dplyr’\n",
      "\n",
      "\n",
      "The following objects are masked from ‘package:stats’:\n",
      "\n",
      "    filter, lag\n",
      "\n",
      "\n",
      "The following objects are masked from ‘package:base’:\n",
      "\n",
      "    intersect, setdiff, setequal, union\n",
      "\n",
      "\n"
     ]
    }
   ],
   "metadata": {}
  },
  {
   "cell_type": "code",
   "execution_count": 11,
   "source": [
    "trait <- 'social_skill'"
   ],
   "outputs": [],
   "metadata": {}
  },
  {
   "cell_type": "code",
   "execution_count": 12,
   "source": [
    "data1 <- data[data$subtlety == 0 , ]\n",
    "formula <- as.formula(paste(\"slider ~ \", trait))\n",
    "m1 <- lm(formula, data = data1)\n",
    "summary(m1)"
   ],
   "outputs": [
    {
     "output_type": "display_data",
     "data": {
      "text/plain": [
       "\n",
       "Call:\n",
       "lm(formula = formula, data = data1)\n",
       "\n",
       "Residuals:\n",
       "    Min      1Q  Median      3Q     Max \n",
       "-35.983  -5.113   3.137   8.402   9.296 \n",
       "\n",
       "Coefficients:\n",
       "             Estimate Std. Error t value Pr(>|t|)    \n",
       "(Intercept)  90.62399    1.39621  64.907   <2e-16 ***\n",
       "social_skill  0.03993    0.09491   0.421    0.674    \n",
       "---\n",
       "Signif. codes:  0 ‘***’ 0.001 ‘**’ 0.01 ‘*’ 0.05 ‘.’ 0.1 ‘ ’ 1\n",
       "\n",
       "Residual standard error: 9.85 on 274 degrees of freedom\n",
       "Multiple R-squared:  0.0006455,\tAdjusted R-squared:  -0.003002 \n",
       "F-statistic: 0.177 on 1 and 274 DF,  p-value: 0.6743\n"
      ]
     },
     "metadata": {}
    }
   ],
   "metadata": {}
  },
  {
   "cell_type": "code",
   "execution_count": 13,
   "source": [
    "data1 <- data[data$subtlety == 30 , ]\n",
    "formula <- as.formula(paste(\"slider ~ \", trait))\n",
    "m1 <- lm(formula, data = data1)\n",
    "summary(m1)"
   ],
   "outputs": [
    {
     "output_type": "display_data",
     "data": {
      "text/plain": [
       "\n",
       "Call:\n",
       "lm(formula = formula, data = data1)\n",
       "\n",
       "Residuals:\n",
       "    Min      1Q  Median      3Q     Max \n",
       "-52.440  -5.893   2.598   9.127  10.141 \n",
       "\n",
       "Coefficients:\n",
       "              Estimate Std. Error t value Pr(>|t|)    \n",
       "(Intercept)  89.980866   1.480560  60.775   <2e-16 ***\n",
       "social_skill -0.005092   0.100642  -0.051     0.96    \n",
       "---\n",
       "Signif. codes:  0 ‘***’ 0.001 ‘**’ 0.01 ‘*’ 0.05 ‘.’ 0.1 ‘ ’ 1\n",
       "\n",
       "Residual standard error: 10.44 on 274 degrees of freedom\n",
       "Multiple R-squared:  9.343e-06,\tAdjusted R-squared:  -0.00364 \n",
       "F-statistic: 0.00256 on 1 and 274 DF,  p-value: 0.9597\n"
      ]
     },
     "metadata": {}
    }
   ],
   "metadata": {}
  },
  {
   "cell_type": "code",
   "execution_count": 14,
   "source": [
    "data1 <- data[data$subtlety == 60 , ]\n",
    "formula <- as.formula(paste(\"slider ~ \", trait))\n",
    "m1 <- lm(formula, data = data1)\n",
    "summary(m1)"
   ],
   "outputs": [
    {
     "output_type": "display_data",
     "data": {
      "text/plain": [
       "\n",
       "Call:\n",
       "lm(formula = formula, data = data1)\n",
       "\n",
       "Residuals:\n",
       "    Min      1Q  Median      3Q     Max \n",
       "-37.520  -7.685   1.574   9.024  14.597 \n",
       "\n",
       "Coefficients:\n",
       "             Estimate Std. Error t value Pr(>|t|)    \n",
       "(Intercept)  87.07839    1.60360   54.30   <2e-16 ***\n",
       "social_skill -0.06981    0.10901   -0.64    0.522    \n",
       "---\n",
       "Signif. codes:  0 ‘***’ 0.001 ‘**’ 0.01 ‘*’ 0.05 ‘.’ 0.1 ‘ ’ 1\n",
       "\n",
       "Residual standard error: 11.31 on 274 degrees of freedom\n",
       "Multiple R-squared:  0.001495,\tAdjusted R-squared:  -0.002149 \n",
       "F-statistic: 0.4102 on 1 and 274 DF,  p-value: 0.5224\n"
      ]
     },
     "metadata": {}
    }
   ],
   "metadata": {}
  },
  {
   "cell_type": "code",
   "execution_count": 15,
   "source": [
    "data1 <- data[data$subtlety == 90 , ]\n",
    "formula <- as.formula(paste(\"slider ~ \", trait))\n",
    "m1 <- lm(formula, data = data1)\n",
    "summary(m1)"
   ],
   "outputs": [
    {
     "output_type": "display_data",
     "data": {
      "text/plain": [
       "\n",
       "Call:\n",
       "lm(formula = formula, data = data1)\n",
       "\n",
       "Residuals:\n",
       "    Min      1Q  Median      3Q     Max \n",
       "-74.109  -8.820   0.448  10.992  26.519 \n",
       "\n",
       "Coefficients:\n",
       "             Estimate Std. Error t value Pr(>|t|)    \n",
       "(Intercept)  74.89285    2.34013  32.004   <2e-16 ***\n",
       "social_skill -0.07057    0.15907  -0.444    0.658    \n",
       "---\n",
       "Signif. codes:  0 ‘***’ 0.001 ‘**’ 0.01 ‘*’ 0.05 ‘.’ 0.1 ‘ ’ 1\n",
       "\n",
       "Residual standard error: 16.51 on 274 degrees of freedom\n",
       "Multiple R-squared:  0.0007178,\tAdjusted R-squared:  -0.002929 \n",
       "F-statistic: 0.1968 on 1 and 274 DF,  p-value: 0.6576\n"
      ]
     },
     "metadata": {}
    }
   ],
   "metadata": {}
  },
  {
   "cell_type": "code",
   "execution_count": 16,
   "source": [
    "data1 <- data[data$subtlety == 120 , ]\n",
    "formula <- as.formula(paste(\"slider ~ \", trait))\n",
    "m1 <- lm(formula, data = data1)\n",
    "summary(m1)"
   ],
   "outputs": [
    {
     "output_type": "display_data",
     "data": {
      "text/plain": [
       "\n",
       "Call:\n",
       "lm(formula = formula, data = data1)\n",
       "\n",
       "Residuals:\n",
       "    Min      1Q  Median      3Q     Max \n",
       "-40.670 -16.574   1.077  15.815  63.360 \n",
       "\n",
       "Coefficients:\n",
       "             Estimate Std. Error t value Pr(>|t|)    \n",
       "(Intercept)   42.0132     3.2013  13.124   <2e-16 ***\n",
       "social_skill  -0.2687     0.2176  -1.235    0.218    \n",
       "---\n",
       "Signif. codes:  0 ‘***’ 0.001 ‘**’ 0.01 ‘*’ 0.05 ‘.’ 0.1 ‘ ’ 1\n",
       "\n",
       "Residual standard error: 22.58 on 274 degrees of freedom\n",
       "Multiple R-squared:  0.005533,\tAdjusted R-squared:  0.001903 \n",
       "F-statistic: 1.524 on 1 and 274 DF,  p-value: 0.218\n"
      ]
     },
     "metadata": {}
    }
   ],
   "metadata": {}
  },
  {
   "cell_type": "code",
   "execution_count": 17,
   "source": [
    "data1 <- data[data$subtlety == 150 , ]\n",
    "formula <- as.formula(paste(\"slider ~ \", trait))\n",
    "m1 <- lm(formula, data = data1)\n",
    "summary(m1)"
   ],
   "outputs": [
    {
     "output_type": "display_data",
     "data": {
      "text/plain": [
       "\n",
       "Call:\n",
       "lm(formula = formula, data = data1)\n",
       "\n",
       "Residuals:\n",
       "    Min      1Q  Median      3Q     Max \n",
       "-25.309 -14.535  -1.519  10.515  75.733 \n",
       "\n",
       "Coefficients:\n",
       "             Estimate Std. Error t value Pr(>|t|)    \n",
       "(Intercept)   25.9172     2.5438  10.189   <2e-16 ***\n",
       "social_skill  -0.3042     0.1729  -1.759   0.0797 .  \n",
       "---\n",
       "Signif. codes:  0 ‘***’ 0.001 ‘**’ 0.01 ‘*’ 0.05 ‘.’ 0.1 ‘ ’ 1\n",
       "\n",
       "Residual standard error: 17.95 on 274 degrees of freedom\n",
       "Multiple R-squared:  0.01117,\tAdjusted R-squared:  0.007558 \n",
       "F-statistic: 3.094 on 1 and 274 DF,  p-value: 0.07968\n"
      ]
     },
     "metadata": {}
    }
   ],
   "metadata": {}
  },
  {
   "cell_type": "code",
   "execution_count": 19,
   "source": [
    "data1 <- data[data$subtlety == 180 , ]\n",
    "formula <- as.formula(paste(\"slider ~ \", trait))\n",
    "m1 <- lm(formula, data = data1)\n",
    "summary(m1)"
   ],
   "outputs": [
    {
     "output_type": "display_data",
     "data": {
      "text/plain": [
       "\n",
       "Call:\n",
       "lm(formula = formula, data = data1)\n",
       "\n",
       "Residuals:\n",
       "    Min      1Q  Median      3Q     Max \n",
       "-21.220 -14.605  -3.198   8.392  79.881 \n",
       "\n",
       "Coefficients:\n",
       "             Estimate Std. Error t value Pr(>|t|)    \n",
       "(Intercept)   21.5339     2.5328   8.502 1.22e-15 ***\n",
       "social_skill  -0.1572     0.1722  -0.913    0.362    \n",
       "---\n",
       "Signif. codes:  0 ‘***’ 0.001 ‘**’ 0.01 ‘*’ 0.05 ‘.’ 0.1 ‘ ’ 1\n",
       "\n",
       "Residual standard error: 17.87 on 274 degrees of freedom\n",
       "Multiple R-squared:  0.003033,\tAdjusted R-squared:  -0.0006053 \n",
       "F-statistic: 0.8336 on 1 and 274 DF,  p-value: 0.362\n"
      ]
     },
     "metadata": {}
    }
   ],
   "metadata": {}
  },
  {
   "cell_type": "code",
   "execution_count": 39,
   "source": [
    "data1 <- data[(data$subtlety == 0), ]\n",
    "formula <- as.formula(paste(\"diff_from_180 ~ subtlety + \", trait))\n",
    "m1 <- lm(formula, data = data1)\n",
    "summary(m1)"
   ],
   "outputs": [
    {
     "output_type": "display_data",
     "data": {
      "text/plain": [
       "\n",
       "Call:\n",
       "lm(formula = formula, data = data1)\n",
       "\n",
       "Residuals:\n",
       "    Min      1Q  Median      3Q     Max \n",
       "-57.175 -12.449   2.297  14.702  35.517 \n",
       "\n",
       "Coefficients: (1 not defined because of singularities)\n",
       "             Estimate Std. Error t value Pr(>|t|)    \n",
       "(Intercept)   63.3874     2.8371  22.343   <2e-16 ***\n",
       "subtlety           NA         NA      NA       NA    \n",
       "social_skill   0.1858     0.1929   0.964    0.336    \n",
       "---\n",
       "Signif. codes:  0 ‘***’ 0.001 ‘**’ 0.01 ‘*’ 0.05 ‘.’ 0.1 ‘ ’ 1\n",
       "\n",
       "Residual standard error: 20.01 on 274 degrees of freedom\n",
       "Multiple R-squared:  0.003377,\tAdjusted R-squared:  -0.0002603 \n",
       "F-statistic: 0.9284 on 1 and 274 DF,  p-value: 0.3361\n"
      ]
     },
     "metadata": {}
    }
   ],
   "metadata": {}
  },
  {
   "cell_type": "code",
   "execution_count": null,
   "source": [],
   "outputs": [],
   "metadata": {}
  },
  {
   "cell_type": "code",
   "execution_count": null,
   "source": [],
   "outputs": [],
   "metadata": {}
  }
 ],
 "metadata": {
  "interpreter": {
   "hash": "fd4f9b4a611f13030669d34296d320a89181368ed7f3667f4142a08b4c2c4fbe"
  },
  "kernelspec": {
   "name": "python3124jvsc74a57bd04a074528bc854e8a1fdc819f4bc249979b3b196bce4de5afb134a947ed71fa2f",
   "display_name": "R",
   "language": "R"
  },
  "language_info": {
   "name": "R",
   "codemirror_mode": "r",
   "pygments_lexer": "r",
   "mimetype": "text/x-r-source",
   "file_extension": ".r",
   "version": "4.3.3"
  }
 },
 "nbformat": 4,
 "nbformat_minor": 4
}
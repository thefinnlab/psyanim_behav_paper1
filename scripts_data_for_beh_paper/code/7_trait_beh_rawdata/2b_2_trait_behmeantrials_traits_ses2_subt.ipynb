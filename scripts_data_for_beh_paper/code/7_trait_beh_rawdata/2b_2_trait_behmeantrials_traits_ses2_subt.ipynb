{
 "cells": [
  {
   "cell_type": "code",
   "execution_count": 16,
   "source": [
    "print(\"Hello, R in Jupyter!\")"
   ],
   "outputs": [
    {
     "output_type": "stream",
     "name": "stdout",
     "text": [
      "[1] \"Hello, R in Jupyter!\"\n"
     ]
    }
   ],
   "metadata": {}
  },
  {
   "cell_type": "code",
   "execution_count": 17,
   "source": [
    "# Basic arithmetic\n",
    "result <- 2 + 2\n",
    "print(result)"
   ],
   "outputs": [
    {
     "output_type": "stream",
     "name": "stdout",
     "text": [
      "[1] 4\n"
     ]
    }
   ],
   "metadata": {}
  },
  {
   "cell_type": "code",
   "execution_count": 18,
   "source": [
    "ses <- 2"
   ],
   "outputs": [],
   "metadata": {}
  },
  {
   "cell_type": "code",
   "execution_count": 19,
   "source": [
    "root_dir = '../../data/subtlety_data/'#/Users/f0053cz/Documents/psyanim_v2/scripts_for_beh_paper/data/subtlety_playfight_data/'\n",
    "flname = paste('mean_apr_ses',ses,'_traits.csv', sep = \"\")\n",
    "data <- read.csv(paste(root_dir,flname, sep = \"/\"))\n",
    "# print(data)\n",
    "head(data, 5)"
   ],
   "outputs": [
    {
     "output_type": "display_data",
     "data": {
      "text/html": [
       "<table class=\"dataframe\">\n",
       "<caption>A data.frame: 5 × 25</caption>\n",
       "<thead>\n",
       "\t<tr><th></th><th scope=col>X</th><th scope=col>subID</th><th scope=col>subtlety</th><th scope=col>slider</th><th scope=col>RT</th><th scope=col>accuracy</th><th scope=col>trial_ind</th><th scope=col>rating180</th><th scope=col>diff_from_180</th><th scope=col>aq_social_skill</th><th scope=col>⋯</th><th scope=col>panas_neg</th><th scope=col>ffi_neuroticism</th><th scope=col>ffi_extraversion</th><th scope=col>ffi_openness</th><th scope=col>ffi_agreeableness</th><th scope=col>ffi_conscientiousness</th><th scope=col>ucla</th><th scope=col>friend_num</th><th scope=col>bias</th><th scope=col>amplitude</th></tr>\n",
       "\t<tr><th></th><th scope=col>&lt;int&gt;</th><th scope=col>&lt;int&gt;</th><th scope=col>&lt;int&gt;</th><th scope=col>&lt;dbl&gt;</th><th scope=col>&lt;dbl&gt;</th><th scope=col>&lt;dbl&gt;</th><th scope=col>&lt;dbl&gt;</th><th scope=col>&lt;dbl&gt;</th><th scope=col>&lt;dbl&gt;</th><th scope=col>&lt;dbl&gt;</th><th scope=col>⋯</th><th scope=col>&lt;dbl&gt;</th><th scope=col>&lt;dbl&gt;</th><th scope=col>&lt;dbl&gt;</th><th scope=col>&lt;dbl&gt;</th><th scope=col>&lt;dbl&gt;</th><th scope=col>&lt;dbl&gt;</th><th scope=col>&lt;dbl&gt;</th><th scope=col>&lt;dbl&gt;</th><th scope=col>&lt;dbl&gt;</th><th scope=col>&lt;dbl&gt;</th></tr>\n",
       "</thead>\n",
       "<tbody>\n",
       "\t<tr><th scope=row>1</th><td>0</td><td>2</td><td>  0</td><td>96.41667</td><td>2.580917</td><td>1</td><td>37.41667</td><td>19.91667</td><td>76.50000</td><td>10</td><td>⋯</td><td>2</td><td>24</td><td>32</td><td>36</td><td>44</td><td>46</td><td>40</td><td>2</td><td>0.1798389</td><td>0.7267199</td></tr>\n",
       "\t<tr><th scope=row>2</th><td>1</td><td>2</td><td> 30</td><td>90.25000</td><td>2.551667</td><td>1</td><td>44.75000</td><td>19.91667</td><td>70.33333</td><td>10</td><td>⋯</td><td>2</td><td>24</td><td>32</td><td>36</td><td>44</td><td>46</td><td>40</td><td>2</td><td>0.1798389</td><td>0.7267199</td></tr>\n",
       "\t<tr><th scope=row>3</th><td>2</td><td>2</td><td> 60</td><td>82.25000</td><td>2.498750</td><td>1</td><td>48.08333</td><td>19.91667</td><td>62.33333</td><td>10</td><td>⋯</td><td>2</td><td>24</td><td>32</td><td>36</td><td>44</td><td>46</td><td>40</td><td>2</td><td>0.1798389</td><td>0.7267199</td></tr>\n",
       "\t<tr><th scope=row>4</th><td>3</td><td>2</td><td> 90</td><td>67.00000</td><td>2.430500</td><td>1</td><td>37.08333</td><td>19.91667</td><td>47.08333</td><td>10</td><td>⋯</td><td>2</td><td>24</td><td>32</td><td>36</td><td>44</td><td>46</td><td>40</td><td>2</td><td>0.1798389</td><td>0.7267199</td></tr>\n",
       "\t<tr><th scope=row>5</th><td>4</td><td>2</td><td>120</td><td>50.00000</td><td>2.943750</td><td>1</td><td>40.25000</td><td>19.91667</td><td>30.08333</td><td>10</td><td>⋯</td><td>2</td><td>24</td><td>32</td><td>36</td><td>44</td><td>46</td><td>40</td><td>2</td><td>0.1798389</td><td>0.7267199</td></tr>\n",
       "</tbody>\n",
       "</table>\n"
      ],
      "text/latex": [
       "A data.frame: 5 × 25\n",
       "\\begin{tabular}{r|lllllllllllllllllllll}\n",
       "  & X & subID & subtlety & slider & RT & accuracy & trial\\_ind & rating180 & diff\\_from\\_180 & aq\\_social\\_skill & ⋯ & panas\\_neg & ffi\\_neuroticism & ffi\\_extraversion & ffi\\_openness & ffi\\_agreeableness & ffi\\_conscientiousness & ucla & friend\\_num & bias & amplitude\\\\\n",
       "  & <int> & <int> & <int> & <dbl> & <dbl> & <dbl> & <dbl> & <dbl> & <dbl> & <dbl> & ⋯ & <dbl> & <dbl> & <dbl> & <dbl> & <dbl> & <dbl> & <dbl> & <dbl> & <dbl> & <dbl>\\\\\n",
       "\\hline\n",
       "\t1 & 0 & 2 &   0 & 96.41667 & 2.580917 & 1 & 37.41667 & 19.91667 & 76.50000 & 10 & ⋯ & 2 & 24 & 32 & 36 & 44 & 46 & 40 & 2 & 0.1798389 & 0.7267199\\\\\n",
       "\t2 & 1 & 2 &  30 & 90.25000 & 2.551667 & 1 & 44.75000 & 19.91667 & 70.33333 & 10 & ⋯ & 2 & 24 & 32 & 36 & 44 & 46 & 40 & 2 & 0.1798389 & 0.7267199\\\\\n",
       "\t3 & 2 & 2 &  60 & 82.25000 & 2.498750 & 1 & 48.08333 & 19.91667 & 62.33333 & 10 & ⋯ & 2 & 24 & 32 & 36 & 44 & 46 & 40 & 2 & 0.1798389 & 0.7267199\\\\\n",
       "\t4 & 3 & 2 &  90 & 67.00000 & 2.430500 & 1 & 37.08333 & 19.91667 & 47.08333 & 10 & ⋯ & 2 & 24 & 32 & 36 & 44 & 46 & 40 & 2 & 0.1798389 & 0.7267199\\\\\n",
       "\t5 & 4 & 2 & 120 & 50.00000 & 2.943750 & 1 & 40.25000 & 19.91667 & 30.08333 & 10 & ⋯ & 2 & 24 & 32 & 36 & 44 & 46 & 40 & 2 & 0.1798389 & 0.7267199\\\\\n",
       "\\end{tabular}\n"
      ],
      "text/markdown": [
       "\n",
       "A data.frame: 5 × 25\n",
       "\n",
       "| <!--/--> | X &lt;int&gt; | subID &lt;int&gt; | subtlety &lt;int&gt; | slider &lt;dbl&gt; | RT &lt;dbl&gt; | accuracy &lt;dbl&gt; | trial_ind &lt;dbl&gt; | rating180 &lt;dbl&gt; | diff_from_180 &lt;dbl&gt; | aq_social_skill &lt;dbl&gt; | ⋯ ⋯ | panas_neg &lt;dbl&gt; | ffi_neuroticism &lt;dbl&gt; | ffi_extraversion &lt;dbl&gt; | ffi_openness &lt;dbl&gt; | ffi_agreeableness &lt;dbl&gt; | ffi_conscientiousness &lt;dbl&gt; | ucla &lt;dbl&gt; | friend_num &lt;dbl&gt; | bias &lt;dbl&gt; | amplitude &lt;dbl&gt; |\n",
       "|---|---|---|---|---|---|---|---|---|---|---|---|---|---|---|---|---|---|---|---|---|---|\n",
       "| 1 | 0 | 2 |   0 | 96.41667 | 2.580917 | 1 | 37.41667 | 19.91667 | 76.50000 | 10 | ⋯ | 2 | 24 | 32 | 36 | 44 | 46 | 40 | 2 | 0.1798389 | 0.7267199 |\n",
       "| 2 | 1 | 2 |  30 | 90.25000 | 2.551667 | 1 | 44.75000 | 19.91667 | 70.33333 | 10 | ⋯ | 2 | 24 | 32 | 36 | 44 | 46 | 40 | 2 | 0.1798389 | 0.7267199 |\n",
       "| 3 | 2 | 2 |  60 | 82.25000 | 2.498750 | 1 | 48.08333 | 19.91667 | 62.33333 | 10 | ⋯ | 2 | 24 | 32 | 36 | 44 | 46 | 40 | 2 | 0.1798389 | 0.7267199 |\n",
       "| 4 | 3 | 2 |  90 | 67.00000 | 2.430500 | 1 | 37.08333 | 19.91667 | 47.08333 | 10 | ⋯ | 2 | 24 | 32 | 36 | 44 | 46 | 40 | 2 | 0.1798389 | 0.7267199 |\n",
       "| 5 | 4 | 2 | 120 | 50.00000 | 2.943750 | 1 | 40.25000 | 19.91667 | 30.08333 | 10 | ⋯ | 2 | 24 | 32 | 36 | 44 | 46 | 40 | 2 | 0.1798389 | 0.7267199 |\n",
       "\n"
      ],
      "text/plain": [
       "  X subID subtlety slider   RT       accuracy trial_ind rating180 diff_from_180\n",
       "1 0 2       0      96.41667 2.580917 1        37.41667  19.91667  76.50000     \n",
       "2 1 2      30      90.25000 2.551667 1        44.75000  19.91667  70.33333     \n",
       "3 2 2      60      82.25000 2.498750 1        48.08333  19.91667  62.33333     \n",
       "4 3 2      90      67.00000 2.430500 1        37.08333  19.91667  47.08333     \n",
       "5 4 2     120      50.00000 2.943750 1        40.25000  19.91667  30.08333     \n",
       "  aq_social_skill ⋯ panas_neg ffi_neuroticism ffi_extraversion ffi_openness\n",
       "1 10              ⋯ 2         24              32               36          \n",
       "2 10              ⋯ 2         24              32               36          \n",
       "3 10              ⋯ 2         24              32               36          \n",
       "4 10              ⋯ 2         24              32               36          \n",
       "5 10              ⋯ 2         24              32               36          \n",
       "  ffi_agreeableness ffi_conscientiousness ucla friend_num bias      amplitude\n",
       "1 44                46                    40   2          0.1798389 0.7267199\n",
       "2 44                46                    40   2          0.1798389 0.7267199\n",
       "3 44                46                    40   2          0.1798389 0.7267199\n",
       "4 44                46                    40   2          0.1798389 0.7267199\n",
       "5 44                46                    40   2          0.1798389 0.7267199"
      ]
     },
     "metadata": {}
    }
   ],
   "metadata": {}
  },
  {
   "cell_type": "code",
   "execution_count": 20,
   "source": [
    "colnames(data)"
   ],
   "outputs": [
    {
     "output_type": "display_data",
     "data": {
      "text/html": [
       "<style>\n",
       ".list-inline {list-style: none; margin:0; padding: 0}\n",
       ".list-inline>li {display: inline-block}\n",
       ".list-inline>li:not(:last-child)::after {content: \"\\00b7\"; padding: 0 .5ex}\n",
       "</style>\n",
       "<ol class=list-inline><li>'X'</li><li>'subID'</li><li>'subtlety'</li><li>'slider'</li><li>'RT'</li><li>'accuracy'</li><li>'trial_ind'</li><li>'rating180'</li><li>'diff_from_180'</li><li>'aq_social_skill'</li><li>'aq_attn_switch'</li><li>'aq_img'</li><li>'aq_attn_to_det'</li><li>'aq_comm'</li><li>'panas_pos'</li><li>'panas_neg'</li><li>'ffi_neuroticism'</li><li>'ffi_extraversion'</li><li>'ffi_openness'</li><li>'ffi_agreeableness'</li><li>'ffi_conscientiousness'</li><li>'ucla'</li><li>'friend_num'</li><li>'bias'</li><li>'amplitude'</li></ol>\n"
      ],
      "text/latex": [
       "\\begin{enumerate*}\n",
       "\\item 'X'\n",
       "\\item 'subID'\n",
       "\\item 'subtlety'\n",
       "\\item 'slider'\n",
       "\\item 'RT'\n",
       "\\item 'accuracy'\n",
       "\\item 'trial\\_ind'\n",
       "\\item 'rating180'\n",
       "\\item 'diff\\_from\\_180'\n",
       "\\item 'aq\\_social\\_skill'\n",
       "\\item 'aq\\_attn\\_switch'\n",
       "\\item 'aq\\_img'\n",
       "\\item 'aq\\_attn\\_to\\_det'\n",
       "\\item 'aq\\_comm'\n",
       "\\item 'panas\\_pos'\n",
       "\\item 'panas\\_neg'\n",
       "\\item 'ffi\\_neuroticism'\n",
       "\\item 'ffi\\_extraversion'\n",
       "\\item 'ffi\\_openness'\n",
       "\\item 'ffi\\_agreeableness'\n",
       "\\item 'ffi\\_conscientiousness'\n",
       "\\item 'ucla'\n",
       "\\item 'friend\\_num'\n",
       "\\item 'bias'\n",
       "\\item 'amplitude'\n",
       "\\end{enumerate*}\n"
      ],
      "text/markdown": [
       "1. 'X'\n",
       "2. 'subID'\n",
       "3. 'subtlety'\n",
       "4. 'slider'\n",
       "5. 'RT'\n",
       "6. 'accuracy'\n",
       "7. 'trial_ind'\n",
       "8. 'rating180'\n",
       "9. 'diff_from_180'\n",
       "10. 'aq_social_skill'\n",
       "11. 'aq_attn_switch'\n",
       "12. 'aq_img'\n",
       "13. 'aq_attn_to_det'\n",
       "14. 'aq_comm'\n",
       "15. 'panas_pos'\n",
       "16. 'panas_neg'\n",
       "17. 'ffi_neuroticism'\n",
       "18. 'ffi_extraversion'\n",
       "19. 'ffi_openness'\n",
       "20. 'ffi_agreeableness'\n",
       "21. 'ffi_conscientiousness'\n",
       "22. 'ucla'\n",
       "23. 'friend_num'\n",
       "24. 'bias'\n",
       "25. 'amplitude'\n",
       "\n",
       "\n"
      ],
      "text/plain": [
       " [1] \"X\"                     \"subID\"                 \"subtlety\"             \n",
       " [4] \"slider\"                \"RT\"                    \"accuracy\"             \n",
       " [7] \"trial_ind\"             \"rating180\"             \"diff_from_180\"        \n",
       "[10] \"aq_social_skill\"       \"aq_attn_switch\"        \"aq_img\"               \n",
       "[13] \"aq_attn_to_det\"        \"aq_comm\"               \"panas_pos\"            \n",
       "[16] \"panas_neg\"             \"ffi_neuroticism\"       \"ffi_extraversion\"     \n",
       "[19] \"ffi_openness\"          \"ffi_agreeableness\"     \"ffi_conscientiousness\"\n",
       "[22] \"ucla\"                  \"friend_num\"            \"bias\"                 \n",
       "[25] \"amplitude\"            "
      ]
     },
     "metadata": {}
    }
   ],
   "metadata": {}
  },
  {
   "cell_type": "code",
   "execution_count": 21,
   "source": [
    "# Print the dimensions of the data frame\n",
    "print(dim(data))\n",
    "\n",
    "# Drop rows with NA values\n",
    "data <- na.omit(data)\n",
    "\n",
    "# Print the dimensions of the data frame after dropping NA values\n",
    "print(dim(data))"
   ],
   "outputs": [
    {
     "output_type": "stream",
     "name": "stdout",
     "text": [
      "[1] 1596   25\n",
      "[1] 1596   25\n"
     ]
    }
   ],
   "metadata": {}
  },
  {
   "cell_type": "markdown",
   "source": [
    "# mult reg (relevant traits and curve fits)"
   ],
   "metadata": {}
  },
  {
   "cell_type": "code",
   "execution_count": 22,
   "source": [
    "# install.packages(\"dplyr\")\n",
    "library(dplyr)\n",
    "\n",
    "# # Rename specific columns\n",
    "# data <- data %>% rename(\n",
    "#   pos_affect = Positive_reweigh,\n",
    "#   PSE_subt = obj_center_subt,\n",
    "#   range_subt = amplitude_subt,\n",
    "#   bias_subt = bias_xmin_norm_subt,\n",
    "#   PSE_pf = obj_center_pf,\n",
    "#   range_pf = amplitude_pf,\n",
    "#   bias_pf = bias_xmin_norm_pf,\n",
    "#   PSE_diff = obj_center_diff,\n",
    "#   range_diff = amplitude_diff,\n",
    "#   bias_diff = bias_xmin_norm_diff\n",
    "# )"
   ],
   "outputs": [],
   "metadata": {}
  },
  {
   "cell_type": "code",
   "execution_count": 23,
   "source": [
    "trait <- 'aq_social_skill'"
   ],
   "outputs": [],
   "metadata": {}
  },
  {
   "cell_type": "code",
   "execution_count": 24,
   "source": [
    "data1 <- data[data$subtlety == 0 , ]\n",
    "formula <- as.formula(paste(\"slider ~ \", trait))\n",
    "m1 <- lm(formula, data = data1)\n",
    "summary(m1)"
   ],
   "outputs": [
    {
     "output_type": "display_data",
     "data": {
      "text/plain": [
       "\n",
       "Call:\n",
       "lm(formula = formula, data = data1)\n",
       "\n",
       "Residuals:\n",
       "    Min      1Q  Median      3Q     Max \n",
       "-24.205  -4.083   1.672   6.276   8.265 \n",
       "\n",
       "Coefficients:\n",
       "                Estimate Std. Error t value Pr(>|t|)    \n",
       "(Intercept)     91.71818    1.24776  73.506   <2e-16 ***\n",
       "aq_social_skill  0.01681    0.08174   0.206    0.837    \n",
       "---\n",
       "Signif. codes:  0 ‘***’ 0.001 ‘**’ 0.01 ‘*’ 0.05 ‘.’ 0.1 ‘ ’ 1\n",
       "\n",
       "Residual standard error: 7.526 on 226 degrees of freedom\n",
       "Multiple R-squared:  0.000187,\tAdjusted R-squared:  -0.004237 \n",
       "F-statistic: 0.04228 on 1 and 226 DF,  p-value: 0.8373\n"
      ]
     },
     "metadata": {}
    }
   ],
   "metadata": {}
  },
  {
   "cell_type": "code",
   "execution_count": 25,
   "source": [
    "data1 <- data[data$subtlety == 30 , ]\n",
    "formula <- as.formula(paste(\"slider ~ \", trait))\n",
    "m1 <- lm(formula, data = data1)\n",
    "summary(m1)"
   ],
   "outputs": [
    {
     "output_type": "display_data",
     "data": {
      "text/plain": [
       "\n",
       "Call:\n",
       "lm(formula = formula, data = data1)\n",
       "\n",
       "Residuals:\n",
       "    Min      1Q  Median      3Q     Max \n",
       "-24.021  -5.146   1.025   7.133   9.935 \n",
       "\n",
       "Coefficients:\n",
       "                Estimate Std. Error t value Pr(>|t|)    \n",
       "(Intercept)     89.83090    1.33196  67.443   <2e-16 ***\n",
       "aq_social_skill  0.05032    0.08726   0.577    0.565    \n",
       "---\n",
       "Signif. codes:  0 ‘***’ 0.001 ‘**’ 0.01 ‘*’ 0.05 ‘.’ 0.1 ‘ ’ 1\n",
       "\n",
       "Residual standard error: 8.034 on 226 degrees of freedom\n",
       "Multiple R-squared:  0.001469,\tAdjusted R-squared:  -0.002949 \n",
       "F-statistic: 0.3325 on 1 and 226 DF,  p-value: 0.5647\n"
      ]
     },
     "metadata": {}
    }
   ],
   "metadata": {}
  },
  {
   "cell_type": "code",
   "execution_count": 26,
   "source": [
    "data1 <- data[data$subtlety == 60 , ]\n",
    "formula <- as.formula(paste(\"slider ~ \", trait))\n",
    "m1 <- lm(formula, data = data1)\n",
    "summary(m1)"
   ],
   "outputs": [
    {
     "output_type": "display_data",
     "data": {
      "text/plain": [
       "\n",
       "Call:\n",
       "lm(formula = formula, data = data1)\n",
       "\n",
       "Residuals:\n",
       "     Min       1Q   Median       3Q      Max \n",
       "-29.1374  -6.9759   0.3048   8.5450  14.4567 \n",
       "\n",
       "Coefficients:\n",
       "                Estimate Std. Error t value Pr(>|t|)    \n",
       "(Intercept)     86.11876    1.63760  52.588   <2e-16 ***\n",
       "aq_social_skill -0.02353    0.10728  -0.219    0.827    \n",
       "---\n",
       "Signif. codes:  0 ‘***’ 0.001 ‘**’ 0.01 ‘*’ 0.05 ‘.’ 0.1 ‘ ’ 1\n",
       "\n",
       "Residual standard error: 9.877 on 226 degrees of freedom\n",
       "Multiple R-squared:  0.0002128,\tAdjusted R-squared:  -0.004211 \n",
       "F-statistic: 0.04811 on 1 and 226 DF,  p-value: 0.8266\n"
      ]
     },
     "metadata": {}
    }
   ],
   "metadata": {}
  },
  {
   "cell_type": "code",
   "execution_count": 27,
   "source": [
    "data1 <- data[data$subtlety == 90 , ]\n",
    "formula <- as.formula(paste(\"slider ~ \", trait))\n",
    "m1 <- lm(formula, data = data1)\n",
    "summary(m1)"
   ],
   "outputs": [
    {
     "output_type": "display_data",
     "data": {
      "text/plain": [
       "\n",
       "Call:\n",
       "lm(formula = formula, data = data1)\n",
       "\n",
       "Residuals:\n",
       "    Min      1Q  Median      3Q     Max \n",
       "-37.871  -8.388   0.363   7.884  26.332 \n",
       "\n",
       "Coefficients:\n",
       "                Estimate Std. Error t value Pr(>|t|)    \n",
       "(Intercept)      75.9393     2.0022  37.928   <2e-16 ***\n",
       "aq_social_skill  -0.1775     0.1312  -1.353    0.177    \n",
       "---\n",
       "Signif. codes:  0 ‘***’ 0.001 ‘**’ 0.01 ‘*’ 0.05 ‘.’ 0.1 ‘ ’ 1\n",
       "\n",
       "Residual standard error: 12.08 on 226 degrees of freedom\n",
       "Multiple R-squared:  0.00804,\tAdjusted R-squared:  0.003651 \n",
       "F-statistic: 1.832 on 1 and 226 DF,  p-value: 0.1773\n"
      ]
     },
     "metadata": {}
    }
   ],
   "metadata": {}
  },
  {
   "cell_type": "code",
   "execution_count": 28,
   "source": [
    "data1 <- data[data$subtlety == 120 , ]\n",
    "formula <- as.formula(paste(\"slider ~ \", trait))\n",
    "m1 <- lm(formula, data = data1)\n",
    "summary(m1)"
   ],
   "outputs": [
    {
     "output_type": "display_data",
     "data": {
      "text/plain": [
       "\n",
       "Call:\n",
       "lm(formula = formula, data = data1)\n",
       "\n",
       "Residuals:\n",
       "    Min      1Q  Median      3Q     Max \n",
       "-36.942  -9.467   0.243   9.060  39.541 \n",
       "\n",
       "Coefficients:\n",
       "                Estimate Std. Error t value Pr(>|t|)    \n",
       "(Intercept)      52.7213     2.5190  20.929   <2e-16 ***\n",
       "aq_social_skill  -0.3844     0.1650  -2.329   0.0207 *  \n",
       "---\n",
       "Signif. codes:  0 ‘***’ 0.001 ‘**’ 0.01 ‘*’ 0.05 ‘.’ 0.1 ‘ ’ 1\n",
       "\n",
       "Residual standard error: 15.19 on 226 degrees of freedom\n",
       "Multiple R-squared:  0.02344,\tAdjusted R-squared:  0.01912 \n",
       "F-statistic: 5.425 on 1 and 226 DF,  p-value: 0.02074\n"
      ]
     },
     "metadata": {}
    }
   ],
   "metadata": {}
  },
  {
   "cell_type": "code",
   "execution_count": 29,
   "source": [
    "data1 <- data[data$subtlety == 150 , ]\n",
    "formula <- as.formula(paste(\"slider ~ \", trait))\n",
    "m1 <- lm(formula, data = data1)\n",
    "summary(m1)"
   ],
   "outputs": [
    {
     "output_type": "display_data",
     "data": {
      "text/plain": [
       "\n",
       "Call:\n",
       "lm(formula = formula, data = data1)\n",
       "\n",
       "Residuals:\n",
       "    Min      1Q  Median      3Q     Max \n",
       "-27.452  -9.992  -0.882   8.550  48.244 \n",
       "\n",
       "Coefficients:\n",
       "                Estimate Std. Error t value Pr(>|t|)    \n",
       "(Intercept)      28.6197     2.3026   12.43   <2e-16 ***\n",
       "aq_social_skill  -0.1946     0.1508   -1.29    0.198    \n",
       "---\n",
       "Signif. codes:  0 ‘***’ 0.001 ‘**’ 0.01 ‘*’ 0.05 ‘.’ 0.1 ‘ ’ 1\n",
       "\n",
       "Residual standard error: 13.89 on 226 degrees of freedom\n",
       "Multiple R-squared:  0.007309,\tAdjusted R-squared:  0.002916 \n",
       "F-statistic: 1.664 on 1 and 226 DF,  p-value: 0.1984\n"
      ]
     },
     "metadata": {}
    }
   ],
   "metadata": {}
  },
  {
   "cell_type": "code",
   "execution_count": 30,
   "source": [
    "data1 <- data[data$subtlety == 180 , ]\n",
    "formula <- as.formula(paste(\"slider ~ \", trait))\n",
    "m1 <- lm(formula, data = data1)\n",
    "summary(m1)"
   ],
   "outputs": [
    {
     "output_type": "display_data",
     "data": {
      "text/plain": [
       "\n",
       "Call:\n",
       "lm(formula = formula, data = data1)\n",
       "\n",
       "Residuals:\n",
       "    Min      1Q  Median      3Q     Max \n",
       "-28.969 -11.092  -0.843  10.341  45.581 \n",
       "\n",
       "Coefficients:\n",
       "                Estimate Std. Error t value Pr(>|t|)    \n",
       "(Intercept)      34.6756     2.5362  13.672  < 2e-16 ***\n",
       "aq_social_skill  -0.5187     0.1661  -3.122  0.00203 ** \n",
       "---\n",
       "Signif. codes:  0 ‘***’ 0.001 ‘**’ 0.01 ‘*’ 0.05 ‘.’ 0.1 ‘ ’ 1\n",
       "\n",
       "Residual standard error: 15.3 on 226 degrees of freedom\n",
       "Multiple R-squared:  0.04135,\tAdjusted R-squared:  0.03711 \n",
       "F-statistic: 9.748 on 1 and 226 DF,  p-value: 0.002029\n"
      ]
     },
     "metadata": {}
    }
   ],
   "metadata": {}
  },
  {
   "cell_type": "code",
   "execution_count": 31,
   "source": [
    "data1 <- data[data$subtlety == 0 , ]\n",
    "formula <- as.formula(paste(\"diff_from_180 ~ subtlety + \", trait))\n",
    "m1 <- lm(formula, data = data1)\n",
    "summary(m1)"
   ],
   "outputs": [
    {
     "output_type": "display_data",
     "data": {
      "text/plain": [
       "\n",
       "Call:\n",
       "lm(formula = formula, data = data1)\n",
       "\n",
       "Residuals:\n",
       "   Min     1Q Median     3Q    Max \n",
       "-56.22 -12.93   1.49  14.53  36.98 \n",
       "\n",
       "Coefficients: (1 not defined because of singularities)\n",
       "                Estimate Std. Error t value Pr(>|t|)    \n",
       "(Intercept)      57.0426     3.1526  18.094   <2e-16 ***\n",
       "subtlety              NA         NA      NA       NA    \n",
       "aq_social_skill   0.5356     0.2065   2.593   0.0101 *  \n",
       "---\n",
       "Signif. codes:  0 ‘***’ 0.001 ‘**’ 0.01 ‘*’ 0.05 ‘.’ 0.1 ‘ ’ 1\n",
       "\n",
       "Residual standard error: 19.02 on 226 degrees of freedom\n",
       "Multiple R-squared:  0.02889,\tAdjusted R-squared:  0.0246 \n",
       "F-statistic: 6.724 on 1 and 226 DF,  p-value: 0.01013\n"
      ]
     },
     "metadata": {}
    }
   ],
   "metadata": {}
  }
 ],
 "metadata": {
  "interpreter": {
   "hash": "fd4f9b4a611f13030669d34296d320a89181368ed7f3667f4142a08b4c2c4fbe"
  },
  "kernelspec": {
   "name": "python3124jvsc74a57bd04a074528bc854e8a1fdc819f4bc249979b3b196bce4de5afb134a947ed71fa2f",
   "display_name": "R",
   "language": "R"
  },
  "language_info": {
   "name": "R",
   "codemirror_mode": "r",
   "pygments_lexer": "r",
   "mimetype": "text/x-r-source",
   "file_extension": ".r",
   "version": "4.3.3"
  }
 },
 "nbformat": 4,
 "nbformat_minor": 4
}
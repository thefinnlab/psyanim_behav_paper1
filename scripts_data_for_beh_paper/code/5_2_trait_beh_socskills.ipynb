{
 "cells": [
  {
   "cell_type": "code",
   "execution_count": 1,
   "source": [
    "print(\"Hello, R in Jupyter!\")"
   ],
   "outputs": [
    {
     "output_type": "stream",
     "name": "stdout",
     "text": [
      "[1] \"Hello, R in Jupyter!\"\n"
     ]
    }
   ],
   "metadata": {}
  },
  {
   "cell_type": "code",
   "execution_count": 2,
   "source": [
    "# Basic arithmetic\n",
    "result <- 2 + 2\n",
    "print(result)"
   ],
   "outputs": [
    {
     "output_type": "stream",
     "name": "stdout",
     "text": [
      "[1] 4\n"
     ]
    }
   ],
   "metadata": {}
  },
  {
   "cell_type": "code",
   "execution_count": 3,
   "source": [
    "root_dir = '/Users/f0053cz/Documents/psyanim_v2/scripts_for_beh_paper/data/subtlety_playfight_data/'\n",
    "data <- read.csv(paste(root_dir,'curvefit_traits_merged_linearpf.csv', sep = \"/\"))\n",
    "# print(data)\n",
    "head(data, 5)"
   ],
   "outputs": [
    {
     "output_type": "display_data",
     "data": {
      "text/html": [
       "<table class=\"dataframe\">\n",
       "<caption>A data.frame: 5 × 43</caption>\n",
       "<thead>\n",
       "\t<tr><th></th><th scope=col>X</th><th scope=col>index</th><th scope=col>subID</th><th scope=col>r_squared_subt</th><th scope=col>nrmse_subt</th><th scope=col>aic_subt</th><th scope=col>center</th><th scope=col>PSE_subt</th><th scope=col>sigma</th><th scope=col>bias_xmin_subt</th><th scope=col>⋯</th><th scope=col>comm</th><th scope=col>posAffect</th><th scope=col>negAffect</th><th scope=col>neuroticism</th><th scope=col>extraversion</th><th scope=col>openness</th><th scope=col>agreeableness</th><th scope=col>conscientiousness</th><th scope=col>loneliness</th><th scope=col>nfriends</th></tr>\n",
       "\t<tr><th></th><th scope=col>&lt;int&gt;</th><th scope=col>&lt;int&gt;</th><th scope=col>&lt;dbl&gt;</th><th scope=col>&lt;dbl&gt;</th><th scope=col>&lt;dbl&gt;</th><th scope=col>&lt;dbl&gt;</th><th scope=col>&lt;dbl&gt;</th><th scope=col>&lt;dbl&gt;</th><th scope=col>&lt;dbl&gt;</th><th scope=col>&lt;dbl&gt;</th><th scope=col>⋯</th><th scope=col>&lt;dbl&gt;</th><th scope=col>&lt;dbl&gt;</th><th scope=col>&lt;dbl&gt;</th><th scope=col>&lt;dbl&gt;</th><th scope=col>&lt;dbl&gt;</th><th scope=col>&lt;dbl&gt;</th><th scope=col>&lt;dbl&gt;</th><th scope=col>&lt;dbl&gt;</th><th scope=col>&lt;dbl&gt;</th><th scope=col>&lt;dbl&gt;</th></tr>\n",
       "</thead>\n",
       "<tbody>\n",
       "\t<tr><th scope=row>1</th><td>0</td><td>0</td><td>30002</td><td>0.9789465</td><td>0.05958450</td><td>-35.48504</td><td>0.5461832</td><td>0.5529510</td><td>0.10335957</td><td>0.031291240</td><td>⋯</td><td>16.00000</td><td>20</td><td> 0</td><td>38</td><td>28.00000</td><td>31.00000</td><td>34</td><td>39</td><td>56</td><td>3</td></tr>\n",
       "\t<tr><th scope=row>2</th><td>1</td><td>1</td><td>30004</td><td>0.9947840</td><td>0.03131009</td><td>-44.49341</td><td>0.3112003</td><td>0.2768959</td><td>0.07686605</td><td>0.194060972</td><td>⋯</td><td>15.00000</td><td>25</td><td>11</td><td>38</td><td>26.18182</td><td>50.00000</td><td>50</td><td>46</td><td>56</td><td>3</td></tr>\n",
       "\t<tr><th scope=row>3</th><td>2</td><td>2</td><td>30005</td><td>0.9856356</td><td>0.04832041</td><td>-38.41862</td><td>0.3800630</td><td>0.3205832</td><td>0.11535284</td><td>0.249788688</td><td>⋯</td><td>16.00000</td><td>20</td><td>21</td><td>51</td><td>39.00000</td><td>40.00000</td><td>43</td><td>19</td><td>41</td><td>5</td></tr>\n",
       "\t<tr><th scope=row>4</th><td>3</td><td>3</td><td>30006</td><td>0.9837098</td><td>0.05739903</td><td>-36.00819</td><td>0.4658866</td><td>0.4648232</td><td>0.07922090</td><td>0.009432723</td><td>⋯</td><td> 3.00000</td><td>25</td><td> 0</td><td>18</td><td>41.00000</td><td>31.00000</td><td>44</td><td>57</td><td>30</td><td>4</td></tr>\n",
       "\t<tr><th scope=row>5</th><td>4</td><td>4</td><td>30008</td><td>0.9007922</td><td>0.11023567</td><td>-26.87189</td><td>0.3854147</td><td>0.3251178</td><td>0.17258480</td><td>0.289378203</td><td>⋯</td><td>12.22222</td><td>28</td><td> 4</td><td>27</td><td>46.00000</td><td>42.54545</td><td>46</td><td>50</td><td>45</td><td>5</td></tr>\n",
       "</tbody>\n",
       "</table>\n"
      ],
      "text/latex": [
       "A data.frame: 5 × 43\n",
       "\\begin{tabular}{r|lllllllllllllllllllll}\n",
       "  & X & index & subID & r\\_squared\\_subt & nrmse\\_subt & aic\\_subt & center & PSE\\_subt & sigma & bias\\_xmin\\_subt & ⋯ & comm & posAffect & negAffect & neuroticism & extraversion & openness & agreeableness & conscientiousness & loneliness & nfriends\\\\\n",
       "  & <int> & <int> & <dbl> & <dbl> & <dbl> & <dbl> & <dbl> & <dbl> & <dbl> & <dbl> & ⋯ & <dbl> & <dbl> & <dbl> & <dbl> & <dbl> & <dbl> & <dbl> & <dbl> & <dbl> & <dbl>\\\\\n",
       "\\hline\n",
       "\t1 & 0 & 0 & 30002 & 0.9789465 & 0.05958450 & -35.48504 & 0.5461832 & 0.5529510 & 0.10335957 & 0.031291240 & ⋯ & 16.00000 & 20 &  0 & 38 & 28.00000 & 31.00000 & 34 & 39 & 56 & 3\\\\\n",
       "\t2 & 1 & 1 & 30004 & 0.9947840 & 0.03131009 & -44.49341 & 0.3112003 & 0.2768959 & 0.07686605 & 0.194060972 & ⋯ & 15.00000 & 25 & 11 & 38 & 26.18182 & 50.00000 & 50 & 46 & 56 & 3\\\\\n",
       "\t3 & 2 & 2 & 30005 & 0.9856356 & 0.04832041 & -38.41862 & 0.3800630 & 0.3205832 & 0.11535284 & 0.249788688 & ⋯ & 16.00000 & 20 & 21 & 51 & 39.00000 & 40.00000 & 43 & 19 & 41 & 5\\\\\n",
       "\t4 & 3 & 3 & 30006 & 0.9837098 & 0.05739903 & -36.00819 & 0.4658866 & 0.4648232 & 0.07922090 & 0.009432723 & ⋯ &  3.00000 & 25 &  0 & 18 & 41.00000 & 31.00000 & 44 & 57 & 30 & 4\\\\\n",
       "\t5 & 4 & 4 & 30008 & 0.9007922 & 0.11023567 & -26.87189 & 0.3854147 & 0.3251178 & 0.17258480 & 0.289378203 & ⋯ & 12.22222 & 28 &  4 & 27 & 46.00000 & 42.54545 & 46 & 50 & 45 & 5\\\\\n",
       "\\end{tabular}\n"
      ],
      "text/markdown": [
       "\n",
       "A data.frame: 5 × 43\n",
       "\n",
       "| <!--/--> | X &lt;int&gt; | index &lt;int&gt; | subID &lt;dbl&gt; | r_squared_subt &lt;dbl&gt; | nrmse_subt &lt;dbl&gt; | aic_subt &lt;dbl&gt; | center &lt;dbl&gt; | PSE_subt &lt;dbl&gt; | sigma &lt;dbl&gt; | bias_xmin_subt &lt;dbl&gt; | ⋯ ⋯ | comm &lt;dbl&gt; | posAffect &lt;dbl&gt; | negAffect &lt;dbl&gt; | neuroticism &lt;dbl&gt; | extraversion &lt;dbl&gt; | openness &lt;dbl&gt; | agreeableness &lt;dbl&gt; | conscientiousness &lt;dbl&gt; | loneliness &lt;dbl&gt; | nfriends &lt;dbl&gt; |\n",
       "|---|---|---|---|---|---|---|---|---|---|---|---|---|---|---|---|---|---|---|---|---|---|\n",
       "| 1 | 0 | 0 | 30002 | 0.9789465 | 0.05958450 | -35.48504 | 0.5461832 | 0.5529510 | 0.10335957 | 0.031291240 | ⋯ | 16.00000 | 20 |  0 | 38 | 28.00000 | 31.00000 | 34 | 39 | 56 | 3 |\n",
       "| 2 | 1 | 1 | 30004 | 0.9947840 | 0.03131009 | -44.49341 | 0.3112003 | 0.2768959 | 0.07686605 | 0.194060972 | ⋯ | 15.00000 | 25 | 11 | 38 | 26.18182 | 50.00000 | 50 | 46 | 56 | 3 |\n",
       "| 3 | 2 | 2 | 30005 | 0.9856356 | 0.04832041 | -38.41862 | 0.3800630 | 0.3205832 | 0.11535284 | 0.249788688 | ⋯ | 16.00000 | 20 | 21 | 51 | 39.00000 | 40.00000 | 43 | 19 | 41 | 5 |\n",
       "| 4 | 3 | 3 | 30006 | 0.9837098 | 0.05739903 | -36.00819 | 0.4658866 | 0.4648232 | 0.07922090 | 0.009432723 | ⋯ |  3.00000 | 25 |  0 | 18 | 41.00000 | 31.00000 | 44 | 57 | 30 | 4 |\n",
       "| 5 | 4 | 4 | 30008 | 0.9007922 | 0.11023567 | -26.87189 | 0.3854147 | 0.3251178 | 0.17258480 | 0.289378203 | ⋯ | 12.22222 | 28 |  4 | 27 | 46.00000 | 42.54545 | 46 | 50 | 45 | 5 |\n",
       "\n"
      ],
      "text/plain": [
       "  X index subID r_squared_subt nrmse_subt aic_subt  center    PSE_subt \n",
       "1 0 0     30002 0.9789465      0.05958450 -35.48504 0.5461832 0.5529510\n",
       "2 1 1     30004 0.9947840      0.03131009 -44.49341 0.3112003 0.2768959\n",
       "3 2 2     30005 0.9856356      0.04832041 -38.41862 0.3800630 0.3205832\n",
       "4 3 3     30006 0.9837098      0.05739903 -36.00819 0.4658866 0.4648232\n",
       "5 4 4     30008 0.9007922      0.11023567 -26.87189 0.3854147 0.3251178\n",
       "  sigma      bias_xmin_subt ⋯ comm     posAffect negAffect neuroticism\n",
       "1 0.10335957 0.031291240    ⋯ 16.00000 20         0        38         \n",
       "2 0.07686605 0.194060972    ⋯ 15.00000 25        11        38         \n",
       "3 0.11535284 0.249788688    ⋯ 16.00000 20        21        51         \n",
       "4 0.07922090 0.009432723    ⋯  3.00000 25         0        18         \n",
       "5 0.17258480 0.289378203    ⋯ 12.22222 28         4        27         \n",
       "  extraversion openness agreeableness conscientiousness loneliness nfriends\n",
       "1 28.00000     31.00000 34            39                56         3       \n",
       "2 26.18182     50.00000 50            46                56         3       \n",
       "3 39.00000     40.00000 43            19                41         5       \n",
       "4 41.00000     31.00000 44            57                30         4       \n",
       "5 46.00000     42.54545 46            50                45         5       "
      ]
     },
     "metadata": {}
    }
   ],
   "metadata": {}
  },
  {
   "cell_type": "code",
   "execution_count": 4,
   "source": [
    "colnames(data)"
   ],
   "outputs": [
    {
     "output_type": "display_data",
     "data": {
      "text/html": [
       "<style>\n",
       ".list-inline {list-style: none; margin:0; padding: 0}\n",
       ".list-inline>li {display: inline-block}\n",
       ".list-inline>li:not(:last-child)::after {content: \"\\00b7\"; padding: 0 .5ex}\n",
       "</style>\n",
       "<ol class=list-inline><li>'X'</li><li>'index'</li><li>'subID'</li><li>'r_squared_subt'</li><li>'nrmse_subt'</li><li>'aic_subt'</li><li>'center'</li><li>'PSE_subt'</li><li>'sigma'</li><li>'bias_xmin_subt'</li><li>'bias_xmax_subt'</li><li>'bias_lower_subt'</li><li>'bias_upper_subt'</li><li>'flipped_subt'</li><li>'range_subt'</li><li>'bias_subt'</li><li>'r_squared_pf'</li><li>'nrmse_pf'</li><li>'aic_pf'</li><li>'PSE_pf'</li><li>'slope'</li><li>'intercept'</li><li>'bias_xmin_pf'</li><li>'bias_xmax_pf'</li><li>'bias_lower_pf'</li><li>'bias_upper_pf'</li><li>'flipped_pf'</li><li>'range_pf'</li><li>'bias_pf'</li><li>'social_skill'</li><li>'attn_switch'</li><li>'img'</li><li>'attn_to_det'</li><li>'comm'</li><li>'posAffect'</li><li>'negAffect'</li><li>'neuroticism'</li><li>'extraversion'</li><li>'openness'</li><li>'agreeableness'</li><li>'conscientiousness'</li><li>'loneliness'</li><li>'nfriends'</li></ol>\n"
      ],
      "text/latex": [
       "\\begin{enumerate*}\n",
       "\\item 'X'\n",
       "\\item 'index'\n",
       "\\item 'subID'\n",
       "\\item 'r\\_squared\\_subt'\n",
       "\\item 'nrmse\\_subt'\n",
       "\\item 'aic\\_subt'\n",
       "\\item 'center'\n",
       "\\item 'PSE\\_subt'\n",
       "\\item 'sigma'\n",
       "\\item 'bias\\_xmin\\_subt'\n",
       "\\item 'bias\\_xmax\\_subt'\n",
       "\\item 'bias\\_lower\\_subt'\n",
       "\\item 'bias\\_upper\\_subt'\n",
       "\\item 'flipped\\_subt'\n",
       "\\item 'range\\_subt'\n",
       "\\item 'bias\\_subt'\n",
       "\\item 'r\\_squared\\_pf'\n",
       "\\item 'nrmse\\_pf'\n",
       "\\item 'aic\\_pf'\n",
       "\\item 'PSE\\_pf'\n",
       "\\item 'slope'\n",
       "\\item 'intercept'\n",
       "\\item 'bias\\_xmin\\_pf'\n",
       "\\item 'bias\\_xmax\\_pf'\n",
       "\\item 'bias\\_lower\\_pf'\n",
       "\\item 'bias\\_upper\\_pf'\n",
       "\\item 'flipped\\_pf'\n",
       "\\item 'range\\_pf'\n",
       "\\item 'bias\\_pf'\n",
       "\\item 'social\\_skill'\n",
       "\\item 'attn\\_switch'\n",
       "\\item 'img'\n",
       "\\item 'attn\\_to\\_det'\n",
       "\\item 'comm'\n",
       "\\item 'posAffect'\n",
       "\\item 'negAffect'\n",
       "\\item 'neuroticism'\n",
       "\\item 'extraversion'\n",
       "\\item 'openness'\n",
       "\\item 'agreeableness'\n",
       "\\item 'conscientiousness'\n",
       "\\item 'loneliness'\n",
       "\\item 'nfriends'\n",
       "\\end{enumerate*}\n"
      ],
      "text/markdown": [
       "1. 'X'\n",
       "2. 'index'\n",
       "3. 'subID'\n",
       "4. 'r_squared_subt'\n",
       "5. 'nrmse_subt'\n",
       "6. 'aic_subt'\n",
       "7. 'center'\n",
       "8. 'PSE_subt'\n",
       "9. 'sigma'\n",
       "10. 'bias_xmin_subt'\n",
       "11. 'bias_xmax_subt'\n",
       "12. 'bias_lower_subt'\n",
       "13. 'bias_upper_subt'\n",
       "14. 'flipped_subt'\n",
       "15. 'range_subt'\n",
       "16. 'bias_subt'\n",
       "17. 'r_squared_pf'\n",
       "18. 'nrmse_pf'\n",
       "19. 'aic_pf'\n",
       "20. 'PSE_pf'\n",
       "21. 'slope'\n",
       "22. 'intercept'\n",
       "23. 'bias_xmin_pf'\n",
       "24. 'bias_xmax_pf'\n",
       "25. 'bias_lower_pf'\n",
       "26. 'bias_upper_pf'\n",
       "27. 'flipped_pf'\n",
       "28. 'range_pf'\n",
       "29. 'bias_pf'\n",
       "30. 'social_skill'\n",
       "31. 'attn_switch'\n",
       "32. 'img'\n",
       "33. 'attn_to_det'\n",
       "34. 'comm'\n",
       "35. 'posAffect'\n",
       "36. 'negAffect'\n",
       "37. 'neuroticism'\n",
       "38. 'extraversion'\n",
       "39. 'openness'\n",
       "40. 'agreeableness'\n",
       "41. 'conscientiousness'\n",
       "42. 'loneliness'\n",
       "43. 'nfriends'\n",
       "\n",
       "\n"
      ],
      "text/plain": [
       " [1] \"X\"                 \"index\"             \"subID\"            \n",
       " [4] \"r_squared_subt\"    \"nrmse_subt\"        \"aic_subt\"         \n",
       " [7] \"center\"            \"PSE_subt\"          \"sigma\"            \n",
       "[10] \"bias_xmin_subt\"    \"bias_xmax_subt\"    \"bias_lower_subt\"  \n",
       "[13] \"bias_upper_subt\"   \"flipped_subt\"      \"range_subt\"       \n",
       "[16] \"bias_subt\"         \"r_squared_pf\"      \"nrmse_pf\"         \n",
       "[19] \"aic_pf\"            \"PSE_pf\"            \"slope\"            \n",
       "[22] \"intercept\"         \"bias_xmin_pf\"      \"bias_xmax_pf\"     \n",
       "[25] \"bias_lower_pf\"     \"bias_upper_pf\"     \"flipped_pf\"       \n",
       "[28] \"range_pf\"          \"bias_pf\"           \"social_skill\"     \n",
       "[31] \"attn_switch\"       \"img\"               \"attn_to_det\"      \n",
       "[34] \"comm\"              \"posAffect\"         \"negAffect\"        \n",
       "[37] \"neuroticism\"       \"extraversion\"      \"openness\"         \n",
       "[40] \"agreeableness\"     \"conscientiousness\" \"loneliness\"       \n",
       "[43] \"nfriends\"         "
      ]
     },
     "metadata": {}
    }
   ],
   "metadata": {}
  },
  {
   "cell_type": "code",
   "execution_count": 5,
   "source": [
    "# Print the dimensions of the data frame\n",
    "print(dim(data))\n",
    "\n",
    "# Drop rows with NA values\n",
    "data <- na.omit(data)\n",
    "\n",
    "# Print the dimensions of the data frame after dropping NA values\n",
    "print(dim(data))"
   ],
   "outputs": [
    {
     "output_type": "stream",
     "name": "stdout",
     "text": [
      "[1] 276  43\n",
      "[1] 275  43\n"
     ]
    }
   ],
   "metadata": {}
  },
  {
   "cell_type": "code",
   "execution_count": 6,
   "source": [
    "# new_terms = ['obj_center','amplitude','bias_xmin_norm','sigma']\n",
    "new_terms <- c('PSE_subt', 'range_subt', 'bias_subt', 'PSE_pf', 'range_pf', 'bias_pf', 'slope_pf', 'intercept_pf')"
   ],
   "outputs": [],
   "metadata": {}
  },
  {
   "cell_type": "code",
   "execution_count": 7,
   "source": [
    "# for (param in new_terms) {\n",
    "#   pf_col <- paste(param, '_pf', sep = '')\n",
    "#   subt_col <- paste(param, '_subt', sep = '')\n",
    "#   diff_col <- paste(param, '_diff', sep = '')\n",
    "#   data[[diff_col]] <- data[[pf_col]] - data[[subt_col]]\n",
    "# }\n",
    "# head(data,5)"
   ],
   "outputs": [],
   "metadata": {}
  },
  {
   "cell_type": "code",
   "execution_count": 8,
   "source": [
    "# data <- subset(data, amplitude_pf > 0)\n",
    "# print(dim(data))"
   ],
   "outputs": [],
   "metadata": {}
  },
  {
   "cell_type": "markdown",
   "source": [
    "# mult reg (relevant traits and curve fits)"
   ],
   "metadata": {}
  },
  {
   "cell_type": "code",
   "execution_count": 9,
   "source": [
    "# from pymer4.models import Lmer,Lm"
   ],
   "outputs": [],
   "metadata": {}
  },
  {
   "cell_type": "code",
   "execution_count": 10,
   "source": [
    "install.packages(\"dplyr\")\n",
    "library(dplyr)\n",
    "\n",
    "# # Rename specific columns\n",
    "# data <- data %>% rename(\n",
    "#   pos_affect = Positive_reweigh,\n",
    "#   PSE_subt = obj_center_subt,\n",
    "#   range_subt = amplitude_subt,\n",
    "#   bias_subt = bias_xmin_norm_subt,\n",
    "#   PSE_pf = obj_center_pf,\n",
    "#   range_pf = amplitude_pf,\n",
    "#   bias_pf = bias_xmin_norm_pf,\n",
    "#   PSE_diff = obj_center_diff,\n",
    "#   range_diff = amplitude_diff,\n",
    "#   bias_diff = bias_xmin_norm_diff\n",
    "# )"
   ],
   "outputs": [
    {
     "output_type": "stream",
     "name": "stderr",
     "text": [
      "Updating HTML index of packages in '.Library'\n",
      "\n",
      "Making 'packages.html' ...\n",
      " done\n",
      "\n",
      "\n",
      "Attaching package: ‘dplyr’\n",
      "\n",
      "\n",
      "The following objects are masked from ‘package:stats’:\n",
      "\n",
      "    filter, lag\n",
      "\n",
      "\n",
      "The following objects are masked from ‘package:base’:\n",
      "\n",
      "    intersect, setdiff, setequal, union\n",
      "\n",
      "\n"
     ]
    }
   ],
   "metadata": {}
  },
  {
   "cell_type": "code",
   "execution_count": 11,
   "source": [
    "m1 <- lm(social_skill ~ PSE_subt + range_subt + bias_subt, data = data)\n",
    "summary(m1)"
   ],
   "outputs": [
    {
     "output_type": "display_data",
     "data": {
      "text/plain": [
       "\n",
       "Call:\n",
       "lm(formula = social_skill ~ PSE_subt + range_subt + bias_subt, \n",
       "    data = data)\n",
       "\n",
       "Residuals:\n",
       "     Min       1Q   Median       3Q      Max \n",
       "-12.6388  -4.9215  -0.4574   4.2141  14.6425 \n",
       "\n",
       "Coefficients:\n",
       "            Estimate Std. Error t value Pr(>|t|)    \n",
       "(Intercept)   14.360      2.559   5.611 4.96e-08 ***\n",
       "PSE_subt      -1.955      4.619  -0.423   0.6724    \n",
       "range_subt     4.481      2.657   1.686   0.0929 .  \n",
       "bias_subt     -4.692      2.549  -1.841   0.0668 .  \n",
       "---\n",
       "Signif. codes:  0 ‘***’ 0.001 ‘**’ 0.01 ‘*’ 0.05 ‘.’ 0.1 ‘ ’ 1\n",
       "\n",
       "Residual standard error: 6.225 on 271 degrees of freedom\n",
       "Multiple R-squared:  0.02199,\tAdjusted R-squared:  0.01116 \n",
       "F-statistic: 2.031 on 3 and 271 DF,  p-value: 0.1098\n"
      ]
     },
     "metadata": {}
    }
   ],
   "metadata": {}
  },
  {
   "cell_type": "code",
   "execution_count": 12,
   "source": [
    "m2 <- lm(social_skill ~ PSE_subt*range_subt*bias_subt, data = data)\n",
    "summary(m2)"
   ],
   "outputs": [
    {
     "output_type": "display_data",
     "data": {
      "text/plain": [
       "\n",
       "Call:\n",
       "lm(formula = social_skill ~ PSE_subt * range_subt * bias_subt, \n",
       "    data = data)\n",
       "\n",
       "Residuals:\n",
       "     Min       1Q   Median       3Q      Max \n",
       "-12.7496  -4.8599  -0.6233   3.9548  15.3586 \n",
       "\n",
       "Coefficients:\n",
       "                              Estimate Std. Error t value Pr(>|t|)\n",
       "(Intercept)                     11.975     21.265   0.563    0.574\n",
       "PSE_subt                       -21.253     43.603  -0.487    0.626\n",
       "range_subt                       5.167     34.978   0.148    0.883\n",
       "bias_subt                       -3.567     25.404  -0.140    0.888\n",
       "PSE_subt:range_subt             29.650     72.403   0.410    0.682\n",
       "PSE_subt:bias_subt              39.020     53.931   0.724    0.470\n",
       "range_subt:bias_subt             0.994     41.814   0.024    0.981\n",
       "PSE_subt:range_subt:bias_subt  -54.038     88.875  -0.608    0.544\n",
       "\n",
       "Residual standard error: 6.24 on 267 degrees of freedom\n",
       "Multiple R-squared:  0.03195,\tAdjusted R-squared:  0.006568 \n",
       "F-statistic: 1.259 on 7 and 267 DF,  p-value: 0.2711\n"
      ]
     },
     "metadata": {}
    }
   ],
   "metadata": {}
  },
  {
   "cell_type": "code",
   "execution_count": 14,
   "source": [
    "anova(m1,m2)"
   ],
   "outputs": [
    {
     "output_type": "display_data",
     "data": {
      "text/html": [
       "<table class=\"dataframe\">\n",
       "<caption>A anova: 2 × 6</caption>\n",
       "<thead>\n",
       "\t<tr><th></th><th scope=col>Res.Df</th><th scope=col>RSS</th><th scope=col>Df</th><th scope=col>Sum of Sq</th><th scope=col>F</th><th scope=col>Pr(&gt;F)</th></tr>\n",
       "\t<tr><th></th><th scope=col>&lt;dbl&gt;</th><th scope=col>&lt;dbl&gt;</th><th scope=col>&lt;dbl&gt;</th><th scope=col>&lt;dbl&gt;</th><th scope=col>&lt;dbl&gt;</th><th scope=col>&lt;dbl&gt;</th></tr>\n",
       "</thead>\n",
       "<tbody>\n",
       "\t<tr><th scope=row>1</th><td>271</td><td>10502.36</td><td>NA</td><td>      NA</td><td>       NA</td><td>       NA</td></tr>\n",
       "\t<tr><th scope=row>2</th><td>267</td><td>10395.44</td><td> 4</td><td>106.9163</td><td>0.6865186</td><td>0.6018413</td></tr>\n",
       "</tbody>\n",
       "</table>\n"
      ],
      "text/latex": [
       "A anova: 2 × 6\n",
       "\\begin{tabular}{r|llllll}\n",
       "  & Res.Df & RSS & Df & Sum of Sq & F & Pr(>F)\\\\\n",
       "  & <dbl> & <dbl> & <dbl> & <dbl> & <dbl> & <dbl>\\\\\n",
       "\\hline\n",
       "\t1 & 271 & 10502.36 & NA &       NA &        NA &        NA\\\\\n",
       "\t2 & 267 & 10395.44 &  4 & 106.9163 & 0.6865186 & 0.6018413\\\\\n",
       "\\end{tabular}\n"
      ],
      "text/markdown": [
       "\n",
       "A anova: 2 × 6\n",
       "\n",
       "| <!--/--> | Res.Df &lt;dbl&gt; | RSS &lt;dbl&gt; | Df &lt;dbl&gt; | Sum of Sq &lt;dbl&gt; | F &lt;dbl&gt; | Pr(&gt;F) &lt;dbl&gt; |\n",
       "|---|---|---|---|---|---|---|\n",
       "| 1 | 271 | 10502.36 | NA |       NA |        NA |        NA |\n",
       "| 2 | 267 | 10395.44 |  4 | 106.9163 | 0.6865186 | 0.6018413 |\n",
       "\n"
      ],
      "text/plain": [
       "  Res.Df RSS      Df Sum of Sq F         Pr(>F)   \n",
       "1 271    10502.36 NA       NA         NA        NA\n",
       "2 267    10395.44  4 106.9163  0.6865186 0.6018413"
      ]
     },
     "metadata": {}
    }
   ],
   "metadata": {}
  },
  {
   "cell_type": "code",
   "execution_count": 15,
   "source": [
    "aic_results <- AIC(m1,m2)\n",
    "aic_df <- as.data.frame(aic_results)\n",
    "aic_df"
   ],
   "outputs": [
    {
     "output_type": "display_data",
     "data": {
      "text/html": [
       "<table class=\"dataframe\">\n",
       "<caption>A data.frame: 2 × 2</caption>\n",
       "<thead>\n",
       "\t<tr><th></th><th scope=col>df</th><th scope=col>AIC</th></tr>\n",
       "\t<tr><th></th><th scope=col>&lt;dbl&gt;</th><th scope=col>&lt;dbl&gt;</th></tr>\n",
       "</thead>\n",
       "<tbody>\n",
       "\t<tr><th scope=row>m1</th><td>5</td><td>1792.127</td></tr>\n",
       "\t<tr><th scope=row>m2</th><td>9</td><td>1797.313</td></tr>\n",
       "</tbody>\n",
       "</table>\n"
      ],
      "text/latex": [
       "A data.frame: 2 × 2\n",
       "\\begin{tabular}{r|ll}\n",
       "  & df & AIC\\\\\n",
       "  & <dbl> & <dbl>\\\\\n",
       "\\hline\n",
       "\tm1 & 5 & 1792.127\\\\\n",
       "\tm2 & 9 & 1797.313\\\\\n",
       "\\end{tabular}\n"
      ],
      "text/markdown": [
       "\n",
       "A data.frame: 2 × 2\n",
       "\n",
       "| <!--/--> | df &lt;dbl&gt; | AIC &lt;dbl&gt; |\n",
       "|---|---|---|\n",
       "| m1 | 5 | 1792.127 |\n",
       "| m2 | 9 | 1797.313 |\n",
       "\n"
      ],
      "text/plain": [
       "   df AIC     \n",
       "m1 5  1792.127\n",
       "m2 9  1797.313"
      ]
     },
     "metadata": {}
    }
   ],
   "metadata": {}
  },
  {
   "cell_type": "markdown",
   "source": [
    "- m1 and m2 are similar - so adding interction to subtlety doesnt help\n",
    "- from m1, marginal effects of subt on social skill deficits"
   ],
   "metadata": {}
  },
  {
   "cell_type": "code",
   "execution_count": 16,
   "source": [
    "m3 <- lm(social_skill ~ slope+PSE_pf, data = data)\n",
    "summary(m3)"
   ],
   "outputs": [
    {
     "output_type": "display_data",
     "data": {
      "text/plain": [
       "\n",
       "Call:\n",
       "lm(formula = social_skill ~ slope + PSE_pf, data = data)\n",
       "\n",
       "Residuals:\n",
       "     Min       1Q   Median       3Q      Max \n",
       "-12.6154  -5.0513  -0.7845   4.6428  15.6693 \n",
       "\n",
       "Coefficients:\n",
       "            Estimate Std. Error t value Pr(>|t|)    \n",
       "(Intercept)  14.6389     1.4551  10.060   <2e-16 ***\n",
       "slope        -0.5399     1.7735  -0.304    0.761    \n",
       "PSE_pf       -2.2286     2.4400  -0.913    0.362    \n",
       "---\n",
       "Signif. codes:  0 ‘***’ 0.001 ‘**’ 0.01 ‘*’ 0.05 ‘.’ 0.1 ‘ ’ 1\n",
       "\n",
       "Residual standard error: 6.271 on 272 degrees of freedom\n",
       "Multiple R-squared:  0.003921,\tAdjusted R-squared:  -0.003403 \n",
       "F-statistic: 0.5353 on 2 and 272 DF,  p-value: 0.5861\n"
      ]
     },
     "metadata": {}
    }
   ],
   "metadata": {}
  },
  {
   "cell_type": "code",
   "execution_count": 17,
   "source": [
    "# model = Lm(f'Positive_reweigh ~ obj_center_pf*amplitude_pf*bias_xmin_norm_pf', data=df) # ff: anglesm rfx: subject ID\n",
    "# model.fit()\n",
    "m4 <- lm(social_skill ~ slope*PSE_pf, data = data)\n",
    "summary(m4)"
   ],
   "outputs": [
    {
     "output_type": "display_data",
     "data": {
      "text/plain": [
       "\n",
       "Call:\n",
       "lm(formula = social_skill ~ slope * PSE_pf, data = data)\n",
       "\n",
       "Residuals:\n",
       "     Min       1Q   Median       3Q      Max \n",
       "-12.4343  -5.0673  -0.6448   4.3574  16.0304 \n",
       "\n",
       "Coefficients:\n",
       "             Estimate Std. Error t value Pr(>|t|)    \n",
       "(Intercept)    17.904      2.319   7.720 2.24e-13 ***\n",
       "slope          -8.484      4.746  -1.788   0.0750 .  \n",
       "PSE_pf        -10.459      5.170  -2.023   0.0441 *  \n",
       "slope:PSE_pf   18.776     10.411   1.803   0.0724 .  \n",
       "---\n",
       "Signif. codes:  0 ‘***’ 0.001 ‘**’ 0.01 ‘*’ 0.05 ‘.’ 0.1 ‘ ’ 1\n",
       "\n",
       "Residual standard error: 6.245 on 271 degrees of freedom\n",
       "Multiple R-squared:  0.01573,\tAdjusted R-squared:  0.004837 \n",
       "F-statistic: 1.444 on 3 and 271 DF,  p-value: 0.2303\n"
      ]
     },
     "metadata": {}
    }
   ],
   "metadata": {}
  },
  {
   "cell_type": "code",
   "execution_count": 18,
   "source": [
    "anova(m3,m4)"
   ],
   "outputs": [
    {
     "output_type": "display_data",
     "data": {
      "text/html": [
       "<table class=\"dataframe\">\n",
       "<caption>A anova: 2 × 6</caption>\n",
       "<thead>\n",
       "\t<tr><th></th><th scope=col>Res.Df</th><th scope=col>RSS</th><th scope=col>Df</th><th scope=col>Sum of Sq</th><th scope=col>F</th><th scope=col>Pr(&gt;F)</th></tr>\n",
       "\t<tr><th></th><th scope=col>&lt;dbl&gt;</th><th scope=col>&lt;dbl&gt;</th><th scope=col>&lt;dbl&gt;</th><th scope=col>&lt;dbl&gt;</th><th scope=col>&lt;dbl&gt;</th><th scope=col>&lt;dbl&gt;</th></tr>\n",
       "</thead>\n",
       "<tbody>\n",
       "\t<tr><th scope=row>1</th><td>272</td><td>10696.41</td><td>NA</td><td>      NA</td><td>      NA</td><td>        NA</td></tr>\n",
       "\t<tr><th scope=row>2</th><td>271</td><td>10569.56</td><td> 1</td><td>126.8467</td><td>3.252308</td><td>0.07243355</td></tr>\n",
       "</tbody>\n",
       "</table>\n"
      ],
      "text/latex": [
       "A anova: 2 × 6\n",
       "\\begin{tabular}{r|llllll}\n",
       "  & Res.Df & RSS & Df & Sum of Sq & F & Pr(>F)\\\\\n",
       "  & <dbl> & <dbl> & <dbl> & <dbl> & <dbl> & <dbl>\\\\\n",
       "\\hline\n",
       "\t1 & 272 & 10696.41 & NA &       NA &       NA &         NA\\\\\n",
       "\t2 & 271 & 10569.56 &  1 & 126.8467 & 3.252308 & 0.07243355\\\\\n",
       "\\end{tabular}\n"
      ],
      "text/markdown": [
       "\n",
       "A anova: 2 × 6\n",
       "\n",
       "| <!--/--> | Res.Df &lt;dbl&gt; | RSS &lt;dbl&gt; | Df &lt;dbl&gt; | Sum of Sq &lt;dbl&gt; | F &lt;dbl&gt; | Pr(&gt;F) &lt;dbl&gt; |\n",
       "|---|---|---|---|---|---|---|\n",
       "| 1 | 272 | 10696.41 | NA |       NA |       NA |         NA |\n",
       "| 2 | 271 | 10569.56 |  1 | 126.8467 | 3.252308 | 0.07243355 |\n",
       "\n"
      ],
      "text/plain": [
       "  Res.Df RSS      Df Sum of Sq F        Pr(>F)    \n",
       "1 272    10696.41 NA       NA        NA         NA\n",
       "2 271    10569.56  1 126.8467  3.252308 0.07243355"
      ]
     },
     "metadata": {}
    }
   ],
   "metadata": {}
  },
  {
   "cell_type": "code",
   "execution_count": 19,
   "source": [
    "aic_results <- AIC(m3,m4)\n",
    "aic_df <- as.data.frame(aic_results)\n",
    "aic_df"
   ],
   "outputs": [
    {
     "output_type": "display_data",
     "data": {
      "text/html": [
       "<table class=\"dataframe\">\n",
       "<caption>A data.frame: 2 × 2</caption>\n",
       "<thead>\n",
       "\t<tr><th></th><th scope=col>df</th><th scope=col>AIC</th></tr>\n",
       "\t<tr><th></th><th scope=col>&lt;dbl&gt;</th><th scope=col>&lt;dbl&gt;</th></tr>\n",
       "</thead>\n",
       "<tbody>\n",
       "\t<tr><th scope=row>m3</th><td>4</td><td>1795.162</td></tr>\n",
       "\t<tr><th scope=row>m4</th><td>5</td><td>1793.881</td></tr>\n",
       "</tbody>\n",
       "</table>\n"
      ],
      "text/latex": [
       "A data.frame: 2 × 2\n",
       "\\begin{tabular}{r|ll}\n",
       "  & df & AIC\\\\\n",
       "  & <dbl> & <dbl>\\\\\n",
       "\\hline\n",
       "\tm3 & 4 & 1795.162\\\\\n",
       "\tm4 & 5 & 1793.881\\\\\n",
       "\\end{tabular}\n"
      ],
      "text/markdown": [
       "\n",
       "A data.frame: 2 × 2\n",
       "\n",
       "| <!--/--> | df &lt;dbl&gt; | AIC &lt;dbl&gt; |\n",
       "|---|---|---|\n",
       "| m3 | 4 | 1795.162 |\n",
       "| m4 | 5 | 1793.881 |\n",
       "\n"
      ],
      "text/plain": [
       "   df AIC     \n",
       "m3 4  1795.162\n",
       "m4 5  1793.881"
      ]
     },
     "metadata": {}
    }
   ],
   "metadata": {}
  },
  {
   "cell_type": "markdown",
   "source": [
    "- m3 and m4 are similar - so adding interction to pf seems to help, but only trend effect\n",
    "- individuals with lower PSE_pf (earlier switch to play) have higher social skill deficits.. (!!)\n"
   ],
   "metadata": {}
  },
  {
   "cell_type": "code",
   "execution_count": 20,
   "source": [
    "m5 <- lm(social_skill ~ PSE_subt + range_subt + bias_subt + slope + PSE_pf, data = data)\n",
    "summary(m5)"
   ],
   "outputs": [
    {
     "output_type": "display_data",
     "data": {
      "text/plain": [
       "\n",
       "Call:\n",
       "lm(formula = social_skill ~ PSE_subt + range_subt + bias_subt + \n",
       "    slope + PSE_pf, data = data)\n",
       "\n",
       "Residuals:\n",
       "     Min       1Q   Median       3Q      Max \n",
       "-12.6582  -4.8669  -0.3187   4.3807  14.6643 \n",
       "\n",
       "Coefficients:\n",
       "            Estimate Std. Error t value Pr(>|t|)    \n",
       "(Intercept)  14.9950     2.7275   5.498 8.94e-08 ***\n",
       "PSE_subt     -1.9595     4.6352  -0.423   0.6728    \n",
       "range_subt    4.8995     2.8007   1.749   0.0814 .  \n",
       "bias_subt    -4.1476     2.6688  -1.554   0.1213    \n",
       "slope        -0.9858     2.0747  -0.475   0.6351    \n",
       "PSE_pf       -1.5676     2.4477  -0.640   0.5224    \n",
       "---\n",
       "Signif. codes:  0 ‘***’ 0.001 ‘**’ 0.01 ‘*’ 0.05 ‘.’ 0.1 ‘ ’ 1\n",
       "\n",
       "Residual standard error: 6.24 on 269 degrees of freedom\n",
       "Multiple R-squared:  0.02472,\tAdjusted R-squared:  0.006596 \n",
       "F-statistic: 1.364 on 5 and 269 DF,  p-value: 0.2382\n"
      ]
     },
     "metadata": {}
    }
   ],
   "metadata": {}
  },
  {
   "cell_type": "code",
   "execution_count": 21,
   "source": [
    "anova(m1,m5) "
   ],
   "outputs": [
    {
     "output_type": "display_data",
     "data": {
      "text/html": [
       "<table class=\"dataframe\">\n",
       "<caption>A anova: 2 × 6</caption>\n",
       "<thead>\n",
       "\t<tr><th></th><th scope=col>Res.Df</th><th scope=col>RSS</th><th scope=col>Df</th><th scope=col>Sum of Sq</th><th scope=col>F</th><th scope=col>Pr(&gt;F)</th></tr>\n",
       "\t<tr><th></th><th scope=col>&lt;dbl&gt;</th><th scope=col>&lt;dbl&gt;</th><th scope=col>&lt;dbl&gt;</th><th scope=col>&lt;dbl&gt;</th><th scope=col>&lt;dbl&gt;</th><th scope=col>&lt;dbl&gt;</th></tr>\n",
       "</thead>\n",
       "<tbody>\n",
       "\t<tr><th scope=row>1</th><td>271</td><td>10502.36</td><td>NA</td><td>      NA</td><td>       NA</td><td>       NA</td></tr>\n",
       "\t<tr><th scope=row>2</th><td>269</td><td>10473.01</td><td> 2</td><td>29.34503</td><td>0.3768645</td><td>0.6863707</td></tr>\n",
       "</tbody>\n",
       "</table>\n"
      ],
      "text/latex": [
       "A anova: 2 × 6\n",
       "\\begin{tabular}{r|llllll}\n",
       "  & Res.Df & RSS & Df & Sum of Sq & F & Pr(>F)\\\\\n",
       "  & <dbl> & <dbl> & <dbl> & <dbl> & <dbl> & <dbl>\\\\\n",
       "\\hline\n",
       "\t1 & 271 & 10502.36 & NA &       NA &        NA &        NA\\\\\n",
       "\t2 & 269 & 10473.01 &  2 & 29.34503 & 0.3768645 & 0.6863707\\\\\n",
       "\\end{tabular}\n"
      ],
      "text/markdown": [
       "\n",
       "A anova: 2 × 6\n",
       "\n",
       "| <!--/--> | Res.Df &lt;dbl&gt; | RSS &lt;dbl&gt; | Df &lt;dbl&gt; | Sum of Sq &lt;dbl&gt; | F &lt;dbl&gt; | Pr(&gt;F) &lt;dbl&gt; |\n",
       "|---|---|---|---|---|---|---|\n",
       "| 1 | 271 | 10502.36 | NA |       NA |        NA |        NA |\n",
       "| 2 | 269 | 10473.01 |  2 | 29.34503 | 0.3768645 | 0.6863707 |\n",
       "\n"
      ],
      "text/plain": [
       "  Res.Df RSS      Df Sum of Sq F         Pr(>F)   \n",
       "1 271    10502.36 NA       NA         NA        NA\n",
       "2 269    10473.01  2 29.34503  0.3768645 0.6863707"
      ]
     },
     "metadata": {}
    }
   ],
   "metadata": {}
  },
  {
   "cell_type": "code",
   "execution_count": 22,
   "source": [
    "aic_results <- AIC(m1,m5)\n",
    "aic_results"
   ],
   "outputs": [
    {
     "output_type": "display_data",
     "data": {
      "text/html": [
       "<table class=\"dataframe\">\n",
       "<caption>A data.frame: 2 × 2</caption>\n",
       "<thead>\n",
       "\t<tr><th></th><th scope=col>df</th><th scope=col>AIC</th></tr>\n",
       "\t<tr><th></th><th scope=col>&lt;dbl&gt;</th><th scope=col>&lt;dbl&gt;</th></tr>\n",
       "</thead>\n",
       "<tbody>\n",
       "\t<tr><th scope=row>m1</th><td>5</td><td>1792.127</td></tr>\n",
       "\t<tr><th scope=row>m5</th><td>7</td><td>1795.357</td></tr>\n",
       "</tbody>\n",
       "</table>\n"
      ],
      "text/latex": [
       "A data.frame: 2 × 2\n",
       "\\begin{tabular}{r|ll}\n",
       "  & df & AIC\\\\\n",
       "  & <dbl> & <dbl>\\\\\n",
       "\\hline\n",
       "\tm1 & 5 & 1792.127\\\\\n",
       "\tm5 & 7 & 1795.357\\\\\n",
       "\\end{tabular}\n"
      ],
      "text/markdown": [
       "\n",
       "A data.frame: 2 × 2\n",
       "\n",
       "| <!--/--> | df &lt;dbl&gt; | AIC &lt;dbl&gt; |\n",
       "|---|---|---|\n",
       "| m1 | 5 | 1792.127 |\n",
       "| m5 | 7 | 1795.357 |\n",
       "\n"
      ],
      "text/plain": [
       "   df AIC     \n",
       "m1 5  1792.127\n",
       "m5 7  1795.357"
      ]
     },
     "metadata": {}
    }
   ],
   "metadata": {}
  },
  {
   "cell_type": "code",
   "execution_count": 23,
   "source": [
    "anova(m3,m5)"
   ],
   "outputs": [
    {
     "output_type": "display_data",
     "data": {
      "text/html": [
       "<table class=\"dataframe\">\n",
       "<caption>A anova: 2 × 6</caption>\n",
       "<thead>\n",
       "\t<tr><th></th><th scope=col>Res.Df</th><th scope=col>RSS</th><th scope=col>Df</th><th scope=col>Sum of Sq</th><th scope=col>F</th><th scope=col>Pr(&gt;F)</th></tr>\n",
       "\t<tr><th></th><th scope=col>&lt;dbl&gt;</th><th scope=col>&lt;dbl&gt;</th><th scope=col>&lt;dbl&gt;</th><th scope=col>&lt;dbl&gt;</th><th scope=col>&lt;dbl&gt;</th><th scope=col>&lt;dbl&gt;</th></tr>\n",
       "</thead>\n",
       "<tbody>\n",
       "\t<tr><th scope=row>1</th><td>272</td><td>10696.41</td><td>NA</td><td>     NA</td><td>     NA</td><td>       NA</td></tr>\n",
       "\t<tr><th scope=row>2</th><td>269</td><td>10473.01</td><td> 3</td><td>223.394</td><td>1.91263</td><td>0.1278129</td></tr>\n",
       "</tbody>\n",
       "</table>\n"
      ],
      "text/latex": [
       "A anova: 2 × 6\n",
       "\\begin{tabular}{r|llllll}\n",
       "  & Res.Df & RSS & Df & Sum of Sq & F & Pr(>F)\\\\\n",
       "  & <dbl> & <dbl> & <dbl> & <dbl> & <dbl> & <dbl>\\\\\n",
       "\\hline\n",
       "\t1 & 272 & 10696.41 & NA &      NA &      NA &        NA\\\\\n",
       "\t2 & 269 & 10473.01 &  3 & 223.394 & 1.91263 & 0.1278129\\\\\n",
       "\\end{tabular}\n"
      ],
      "text/markdown": [
       "\n",
       "A anova: 2 × 6\n",
       "\n",
       "| <!--/--> | Res.Df &lt;dbl&gt; | RSS &lt;dbl&gt; | Df &lt;dbl&gt; | Sum of Sq &lt;dbl&gt; | F &lt;dbl&gt; | Pr(&gt;F) &lt;dbl&gt; |\n",
       "|---|---|---|---|---|---|---|\n",
       "| 1 | 272 | 10696.41 | NA |      NA |      NA |        NA |\n",
       "| 2 | 269 | 10473.01 |  3 | 223.394 | 1.91263 | 0.1278129 |\n",
       "\n"
      ],
      "text/plain": [
       "  Res.Df RSS      Df Sum of Sq F       Pr(>F)   \n",
       "1 272    10696.41 NA      NA        NA        NA\n",
       "2 269    10473.01  3 223.394   1.91263 0.1278129"
      ]
     },
     "metadata": {}
    }
   ],
   "metadata": {}
  },
  {
   "cell_type": "code",
   "execution_count": 24,
   "source": [
    "aic_results <- AIC(m3,m5)\n",
    "aic_results"
   ],
   "outputs": [
    {
     "output_type": "display_data",
     "data": {
      "text/html": [
       "<table class=\"dataframe\">\n",
       "<caption>A data.frame: 2 × 2</caption>\n",
       "<thead>\n",
       "\t<tr><th></th><th scope=col>df</th><th scope=col>AIC</th></tr>\n",
       "\t<tr><th></th><th scope=col>&lt;dbl&gt;</th><th scope=col>&lt;dbl&gt;</th></tr>\n",
       "</thead>\n",
       "<tbody>\n",
       "\t<tr><th scope=row>m3</th><td>4</td><td>1795.162</td></tr>\n",
       "\t<tr><th scope=row>m5</th><td>7</td><td>1795.357</td></tr>\n",
       "</tbody>\n",
       "</table>\n"
      ],
      "text/latex": [
       "A data.frame: 2 × 2\n",
       "\\begin{tabular}{r|ll}\n",
       "  & df & AIC\\\\\n",
       "  & <dbl> & <dbl>\\\\\n",
       "\\hline\n",
       "\tm3 & 4 & 1795.162\\\\\n",
       "\tm5 & 7 & 1795.357\\\\\n",
       "\\end{tabular}\n"
      ],
      "text/markdown": [
       "\n",
       "A data.frame: 2 × 2\n",
       "\n",
       "| <!--/--> | df &lt;dbl&gt; | AIC &lt;dbl&gt; |\n",
       "|---|---|---|\n",
       "| m3 | 4 | 1795.162 |\n",
       "| m5 | 7 | 1795.357 |\n",
       "\n"
      ],
      "text/plain": [
       "   df AIC     \n",
       "m3 4  1795.162\n",
       "m5 7  1795.357"
      ]
     },
     "metadata": {}
    }
   ],
   "metadata": {}
  },
  {
   "cell_type": "markdown",
   "source": [
    "- adding pf doesn't help playfight\n",
    "- so maybe this is helpful for some but not all behaviors. detection enhances discrimination trends but not vice versa??"
   ],
   "metadata": {}
  },
  {
   "cell_type": "markdown",
   "source": [],
   "metadata": {}
  }
 ],
 "metadata": {
  "interpreter": {
   "hash": "4a074528bc854e8a1fdc819f4bc249979b3b196bce4de5afb134a947ed71fa2f"
  },
  "kernelspec": {
   "name": "python3124jvsc74a57bd04a074528bc854e8a1fdc819f4bc249979b3b196bce4de5afb134a947ed71fa2f",
   "display_name": "R",
   "language": "R"
  },
  "language_info": {
   "name": "R",
   "codemirror_mode": "r",
   "pygments_lexer": "r",
   "mimetype": "text/x-r-source",
   "file_extension": ".r",
   "version": "4.3.3"
  }
 },
 "nbformat": 4,
 "nbformat_minor": 4
}
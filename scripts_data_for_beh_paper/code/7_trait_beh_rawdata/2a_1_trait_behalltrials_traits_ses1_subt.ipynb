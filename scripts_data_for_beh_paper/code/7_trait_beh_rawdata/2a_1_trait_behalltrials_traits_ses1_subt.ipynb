{
 "cells": [
  {
   "cell_type": "code",
   "execution_count": 1,
   "source": [
    "print(\"Hello, R in Jupyter!\")"
   ],
   "outputs": [
    {
     "output_type": "stream",
     "name": "stdout",
     "text": [
      "[1] \"Hello, R in Jupyter!\"\n"
     ]
    }
   ],
   "metadata": {}
  },
  {
   "cell_type": "code",
   "execution_count": 2,
   "source": [
    "# Basic arithmetic\n",
    "result <- 2 + 2\n",
    "print(result)"
   ],
   "outputs": [
    {
     "output_type": "stream",
     "name": "stdout",
     "text": [
      "[1] 4\n"
     ]
    }
   ],
   "metadata": {}
  },
  {
   "cell_type": "code",
   "execution_count": 3,
   "source": [
    "ses <- 1"
   ],
   "outputs": [],
   "metadata": {}
  },
  {
   "cell_type": "code",
   "execution_count": 4,
   "source": [
    "root_dir = '../../data/subtlety_data/'#/Users/f0053cz/Documents/psyanim_v2/scripts_for_beh_paper/data/subtlety_playfight_data/'\n",
    "flname = paste('mean_apr_ses',ses,'_traits_alltrials.csv', sep = \"\")\n",
    "data <- read.csv(paste(root_dir,flname, sep = \"/\"))\n",
    "# print(data)\n",
    "head(data, 5)"
   ],
   "outputs": [
    {
     "output_type": "display_data",
     "data": {
      "text/html": [
       "<table class=\"dataframe\">\n",
       "<caption>A data.frame: 5 × 25</caption>\n",
       "<thead>\n",
       "\t<tr><th></th><th scope=col>X</th><th scope=col>stim_file</th><th scope=col>condition</th><th scope=col>subtlety</th><th scope=col>pred_color</th><th scope=col>slider</th><th scope=col>button_response</th><th scope=col>RT</th><th scope=col>accuracy</th><th scope=col>subID</th><th scope=col>⋯</th><th scope=col>aq_comm</th><th scope=col>panas_pos</th><th scope=col>panas_neg</th><th scope=col>ffi_neuroticism</th><th scope=col>ffi_extraversion</th><th scope=col>ffi_openness</th><th scope=col>ffi_agreeableness</th><th scope=col>ffi_conscientiousness</th><th scope=col>ucla</th><th scope=col>friend_num</th></tr>\n",
       "\t<tr><th></th><th scope=col>&lt;int&gt;</th><th scope=col>&lt;chr&gt;</th><th scope=col>&lt;chr&gt;</th><th scope=col>&lt;int&gt;</th><th scope=col>&lt;chr&gt;</th><th scope=col>&lt;dbl&gt;</th><th scope=col>&lt;chr&gt;</th><th scope=col>&lt;dbl&gt;</th><th scope=col>&lt;int&gt;</th><th scope=col>&lt;int&gt;</th><th scope=col>⋯</th><th scope=col>&lt;dbl&gt;</th><th scope=col>&lt;dbl&gt;</th><th scope=col>&lt;dbl&gt;</th><th scope=col>&lt;dbl&gt;</th><th scope=col>&lt;dbl&gt;</th><th scope=col>&lt;dbl&gt;</th><th scope=col>&lt;dbl&gt;</th><th scope=col>&lt;dbl&gt;</th><th scope=col>&lt;dbl&gt;</th><th scope=col>&lt;dbl&gt;</th></tr>\n",
       "</thead>\n",
       "<tbody>\n",
       "\t<tr><th scope=row>1</th><td>0</td><td>c53236a2-f564-41ec-89aa-2bd90765b0a4</td><td>chase</td><td> 30</td><td>black</td><td>100</td><td>black</td><td>3.065</td><td>1</td><td>1</td><td>⋯</td><td>12</td><td>16</td><td>9</td><td>43</td><td>38</td><td>29</td><td>42</td><td>46</td><td>58</td><td>1</td></tr>\n",
       "\t<tr><th scope=row>2</th><td>1</td><td>75182d69-6502-4d35-9298-e331061c7829</td><td>chase</td><td>  0</td><td>grey </td><td>100</td><td>grey </td><td>4.618</td><td>1</td><td>1</td><td>⋯</td><td>12</td><td>16</td><td>9</td><td>43</td><td>38</td><td>29</td><td>42</td><td>46</td><td>58</td><td>1</td></tr>\n",
       "\t<tr><th scope=row>3</th><td>2</td><td>31932267-3908-4599-ba56-ba5043757838</td><td>chase</td><td> 30</td><td>grey </td><td>100</td><td>grey </td><td>3.330</td><td>1</td><td>1</td><td>⋯</td><td>12</td><td>16</td><td>9</td><td>43</td><td>38</td><td>29</td><td>42</td><td>46</td><td>58</td><td>1</td></tr>\n",
       "\t<tr><th scope=row>4</th><td>3</td><td>57dbdc86-9c49-4214-a908-c4a254e90229</td><td>chase</td><td> 30</td><td>grey </td><td>100</td><td>grey </td><td>3.935</td><td>1</td><td>1</td><td>⋯</td><td>12</td><td>16</td><td>9</td><td>43</td><td>38</td><td>29</td><td>42</td><td>46</td><td>58</td><td>1</td></tr>\n",
       "\t<tr><th scope=row>5</th><td>4</td><td>6480385b-e9eb-45a9-88e3-aade6c90476d</td><td>chase</td><td>120</td><td>black</td><td> 70</td><td>black</td><td>4.133</td><td>1</td><td>1</td><td>⋯</td><td>12</td><td>16</td><td>9</td><td>43</td><td>38</td><td>29</td><td>42</td><td>46</td><td>58</td><td>1</td></tr>\n",
       "</tbody>\n",
       "</table>\n"
      ],
      "text/latex": [
       "A data.frame: 5 × 25\n",
       "\\begin{tabular}{r|lllllllllllllllllllll}\n",
       "  & X & stim\\_file & condition & subtlety & pred\\_color & slider & button\\_response & RT & accuracy & subID & ⋯ & aq\\_comm & panas\\_pos & panas\\_neg & ffi\\_neuroticism & ffi\\_extraversion & ffi\\_openness & ffi\\_agreeableness & ffi\\_conscientiousness & ucla & friend\\_num\\\\\n",
       "  & <int> & <chr> & <chr> & <int> & <chr> & <dbl> & <chr> & <dbl> & <int> & <int> & ⋯ & <dbl> & <dbl> & <dbl> & <dbl> & <dbl> & <dbl> & <dbl> & <dbl> & <dbl> & <dbl>\\\\\n",
       "\\hline\n",
       "\t1 & 0 & c53236a2-f564-41ec-89aa-2bd90765b0a4 & chase &  30 & black & 100 & black & 3.065 & 1 & 1 & ⋯ & 12 & 16 & 9 & 43 & 38 & 29 & 42 & 46 & 58 & 1\\\\\n",
       "\t2 & 1 & 75182d69-6502-4d35-9298-e331061c7829 & chase &   0 & grey  & 100 & grey  & 4.618 & 1 & 1 & ⋯ & 12 & 16 & 9 & 43 & 38 & 29 & 42 & 46 & 58 & 1\\\\\n",
       "\t3 & 2 & 31932267-3908-4599-ba56-ba5043757838 & chase &  30 & grey  & 100 & grey  & 3.330 & 1 & 1 & ⋯ & 12 & 16 & 9 & 43 & 38 & 29 & 42 & 46 & 58 & 1\\\\\n",
       "\t4 & 3 & 57dbdc86-9c49-4214-a908-c4a254e90229 & chase &  30 & grey  & 100 & grey  & 3.935 & 1 & 1 & ⋯ & 12 & 16 & 9 & 43 & 38 & 29 & 42 & 46 & 58 & 1\\\\\n",
       "\t5 & 4 & 6480385b-e9eb-45a9-88e3-aade6c90476d & chase & 120 & black &  70 & black & 4.133 & 1 & 1 & ⋯ & 12 & 16 & 9 & 43 & 38 & 29 & 42 & 46 & 58 & 1\\\\\n",
       "\\end{tabular}\n"
      ],
      "text/markdown": [
       "\n",
       "A data.frame: 5 × 25\n",
       "\n",
       "| <!--/--> | X &lt;int&gt; | stim_file &lt;chr&gt; | condition &lt;chr&gt; | subtlety &lt;int&gt; | pred_color &lt;chr&gt; | slider &lt;dbl&gt; | button_response &lt;chr&gt; | RT &lt;dbl&gt; | accuracy &lt;int&gt; | subID &lt;int&gt; | ⋯ ⋯ | aq_comm &lt;dbl&gt; | panas_pos &lt;dbl&gt; | panas_neg &lt;dbl&gt; | ffi_neuroticism &lt;dbl&gt; | ffi_extraversion &lt;dbl&gt; | ffi_openness &lt;dbl&gt; | ffi_agreeableness &lt;dbl&gt; | ffi_conscientiousness &lt;dbl&gt; | ucla &lt;dbl&gt; | friend_num &lt;dbl&gt; |\n",
       "|---|---|---|---|---|---|---|---|---|---|---|---|---|---|---|---|---|---|---|---|---|---|\n",
       "| 1 | 0 | c53236a2-f564-41ec-89aa-2bd90765b0a4 | chase |  30 | black | 100 | black | 3.065 | 1 | 1 | ⋯ | 12 | 16 | 9 | 43 | 38 | 29 | 42 | 46 | 58 | 1 |\n",
       "| 2 | 1 | 75182d69-6502-4d35-9298-e331061c7829 | chase |   0 | grey  | 100 | grey  | 4.618 | 1 | 1 | ⋯ | 12 | 16 | 9 | 43 | 38 | 29 | 42 | 46 | 58 | 1 |\n",
       "| 3 | 2 | 31932267-3908-4599-ba56-ba5043757838 | chase |  30 | grey  | 100 | grey  | 3.330 | 1 | 1 | ⋯ | 12 | 16 | 9 | 43 | 38 | 29 | 42 | 46 | 58 | 1 |\n",
       "| 4 | 3 | 57dbdc86-9c49-4214-a908-c4a254e90229 | chase |  30 | grey  | 100 | grey  | 3.935 | 1 | 1 | ⋯ | 12 | 16 | 9 | 43 | 38 | 29 | 42 | 46 | 58 | 1 |\n",
       "| 5 | 4 | 6480385b-e9eb-45a9-88e3-aade6c90476d | chase | 120 | black |  70 | black | 4.133 | 1 | 1 | ⋯ | 12 | 16 | 9 | 43 | 38 | 29 | 42 | 46 | 58 | 1 |\n",
       "\n"
      ],
      "text/plain": [
       "  X stim_file                            condition subtlety pred_color slider\n",
       "1 0 c53236a2-f564-41ec-89aa-2bd90765b0a4 chase      30      black      100   \n",
       "2 1 75182d69-6502-4d35-9298-e331061c7829 chase       0      grey       100   \n",
       "3 2 31932267-3908-4599-ba56-ba5043757838 chase      30      grey       100   \n",
       "4 3 57dbdc86-9c49-4214-a908-c4a254e90229 chase      30      grey       100   \n",
       "5 4 6480385b-e9eb-45a9-88e3-aade6c90476d chase     120      black       70   \n",
       "  button_response RT    accuracy subID ⋯ aq_comm panas_pos panas_neg\n",
       "1 black           3.065 1        1     ⋯ 12      16        9        \n",
       "2 grey            4.618 1        1     ⋯ 12      16        9        \n",
       "3 grey            3.330 1        1     ⋯ 12      16        9        \n",
       "4 grey            3.935 1        1     ⋯ 12      16        9        \n",
       "5 black           4.133 1        1     ⋯ 12      16        9        \n",
       "  ffi_neuroticism ffi_extraversion ffi_openness ffi_agreeableness\n",
       "1 43              38               29           42               \n",
       "2 43              38               29           42               \n",
       "3 43              38               29           42               \n",
       "4 43              38               29           42               \n",
       "5 43              38               29           42               \n",
       "  ffi_conscientiousness ucla friend_num\n",
       "1 46                    58   1         \n",
       "2 46                    58   1         \n",
       "3 46                    58   1         \n",
       "4 46                    58   1         \n",
       "5 46                    58   1         "
      ]
     },
     "metadata": {}
    }
   ],
   "metadata": {}
  },
  {
   "cell_type": "code",
   "execution_count": 5,
   "source": [
    "colnames(data)"
   ],
   "outputs": [
    {
     "output_type": "display_data",
     "data": {
      "text/html": [
       "<style>\n",
       ".list-inline {list-style: none; margin:0; padding: 0}\n",
       ".list-inline>li {display: inline-block}\n",
       ".list-inline>li:not(:last-child)::after {content: \"\\00b7\"; padding: 0 .5ex}\n",
       "</style>\n",
       "<ol class=list-inline><li>'X'</li><li>'stim_file'</li><li>'condition'</li><li>'subtlety'</li><li>'pred_color'</li><li>'slider'</li><li>'button_response'</li><li>'RT'</li><li>'accuracy'</li><li>'subID'</li><li>'trial_ind'</li><li>'aq_social_skill'</li><li>'aq_attn_switch'</li><li>'aq_img'</li><li>'aq_attn_to_det'</li><li>'aq_comm'</li><li>'panas_pos'</li><li>'panas_neg'</li><li>'ffi_neuroticism'</li><li>'ffi_extraversion'</li><li>'ffi_openness'</li><li>'ffi_agreeableness'</li><li>'ffi_conscientiousness'</li><li>'ucla'</li><li>'friend_num'</li></ol>\n"
      ],
      "text/latex": [
       "\\begin{enumerate*}\n",
       "\\item 'X'\n",
       "\\item 'stim\\_file'\n",
       "\\item 'condition'\n",
       "\\item 'subtlety'\n",
       "\\item 'pred\\_color'\n",
       "\\item 'slider'\n",
       "\\item 'button\\_response'\n",
       "\\item 'RT'\n",
       "\\item 'accuracy'\n",
       "\\item 'subID'\n",
       "\\item 'trial\\_ind'\n",
       "\\item 'aq\\_social\\_skill'\n",
       "\\item 'aq\\_attn\\_switch'\n",
       "\\item 'aq\\_img'\n",
       "\\item 'aq\\_attn\\_to\\_det'\n",
       "\\item 'aq\\_comm'\n",
       "\\item 'panas\\_pos'\n",
       "\\item 'panas\\_neg'\n",
       "\\item 'ffi\\_neuroticism'\n",
       "\\item 'ffi\\_extraversion'\n",
       "\\item 'ffi\\_openness'\n",
       "\\item 'ffi\\_agreeableness'\n",
       "\\item 'ffi\\_conscientiousness'\n",
       "\\item 'ucla'\n",
       "\\item 'friend\\_num'\n",
       "\\end{enumerate*}\n"
      ],
      "text/markdown": [
       "1. 'X'\n",
       "2. 'stim_file'\n",
       "3. 'condition'\n",
       "4. 'subtlety'\n",
       "5. 'pred_color'\n",
       "6. 'slider'\n",
       "7. 'button_response'\n",
       "8. 'RT'\n",
       "9. 'accuracy'\n",
       "10. 'subID'\n",
       "11. 'trial_ind'\n",
       "12. 'aq_social_skill'\n",
       "13. 'aq_attn_switch'\n",
       "14. 'aq_img'\n",
       "15. 'aq_attn_to_det'\n",
       "16. 'aq_comm'\n",
       "17. 'panas_pos'\n",
       "18. 'panas_neg'\n",
       "19. 'ffi_neuroticism'\n",
       "20. 'ffi_extraversion'\n",
       "21. 'ffi_openness'\n",
       "22. 'ffi_agreeableness'\n",
       "23. 'ffi_conscientiousness'\n",
       "24. 'ucla'\n",
       "25. 'friend_num'\n",
       "\n",
       "\n"
      ],
      "text/plain": [
       " [1] \"X\"                     \"stim_file\"             \"condition\"            \n",
       " [4] \"subtlety\"              \"pred_color\"            \"slider\"               \n",
       " [7] \"button_response\"       \"RT\"                    \"accuracy\"             \n",
       "[10] \"subID\"                 \"trial_ind\"             \"aq_social_skill\"      \n",
       "[13] \"aq_attn_switch\"        \"aq_img\"                \"aq_attn_to_det\"       \n",
       "[16] \"aq_comm\"               \"panas_pos\"             \"panas_neg\"            \n",
       "[19] \"ffi_neuroticism\"       \"ffi_extraversion\"      \"ffi_openness\"         \n",
       "[22] \"ffi_agreeableness\"     \"ffi_conscientiousness\" \"ucla\"                 \n",
       "[25] \"friend_num\"           "
      ]
     },
     "metadata": {}
    }
   ],
   "metadata": {}
  },
  {
   "cell_type": "code",
   "execution_count": 6,
   "source": [
    "# Print the dimensions of the data frame\n",
    "print(dim(data))\n",
    "\n",
    "# Drop rows with NA values\n",
    "data <- na.omit(data)\n",
    "\n",
    "# Print the dimensions of the data frame after dropping NA values\n",
    "print(dim(data))"
   ],
   "outputs": [
    {
     "output_type": "stream",
     "name": "stdout",
     "text": [
      "[1] 26208    25\n",
      "[1] 26088    25\n"
     ]
    }
   ],
   "metadata": {}
  },
  {
   "cell_type": "markdown",
   "source": [
    "# mult reg (relevant traits and curve fits)"
   ],
   "metadata": {}
  },
  {
   "cell_type": "code",
   "execution_count": 7,
   "source": [
    "# install.packages(\"lme4\") \n",
    "# install.packages(\"dplyr\")\n",
    "# install.packages(\"lmerTest\")"
   ],
   "outputs": [],
   "metadata": {}
  },
  {
   "cell_type": "code",
   "execution_count": 8,
   "source": [
    "library(dplyr)\n",
    "# library(lme4)\n",
    "library(lmerTest)"
   ],
   "outputs": [
    {
     "output_type": "stream",
     "name": "stderr",
     "text": [
      "\n",
      "Attaching package: ‘dplyr’\n",
      "\n",
      "\n",
      "The following objects are masked from ‘package:stats’:\n",
      "\n",
      "    filter, lag\n",
      "\n",
      "\n",
      "The following objects are masked from ‘package:base’:\n",
      "\n",
      "    intersect, setdiff, setequal, union\n",
      "\n",
      "\n",
      "Loading required package: lme4\n",
      "\n",
      "Loading required package: Matrix\n",
      "\n",
      "\n",
      "Attaching package: ‘lmerTest’\n",
      "\n",
      "\n",
      "The following object is masked from ‘package:lme4’:\n",
      "\n",
      "    lmer\n",
      "\n",
      "\n",
      "The following object is masked from ‘package:stats’:\n",
      "\n",
      "    step\n",
      "\n",
      "\n"
     ]
    }
   ],
   "metadata": {}
  },
  {
   "cell_type": "code",
   "execution_count": 9,
   "source": [
    "# # Rename specific columns\n",
    "# data <- data %>% rename(\n",
    "#   pos_affect = Positive_reweigh,\n",
    "#   PSE_subt = obj_center_subt,\n",
    "#   range_subt = amplitude_subt,\n",
    "#   bias_subt = bias_xmin_norm_subt,\n",
    "#   PSE_pf = obj_center_pf,\n",
    "#   range_pf = amplitude_pf,\n",
    "#   bias_pf = bias_xmin_norm_pf,\n",
    "#   PSE_diff = obj_center_diff,\n",
    "#   range_diff = amplitude_diff,\n",
    "#   bias_diff = bias_xmin_norm_diff\n",
    "# )"
   ],
   "outputs": [],
   "metadata": {}
  },
  {
   "cell_type": "code",
   "execution_count": 10,
   "source": [
    "head(data, 5)"
   ],
   "outputs": [
    {
     "output_type": "display_data",
     "data": {
      "text/html": [
       "<table class=\"dataframe\">\n",
       "<caption>A data.frame: 5 × 25</caption>\n",
       "<thead>\n",
       "\t<tr><th></th><th scope=col>X</th><th scope=col>stim_file</th><th scope=col>condition</th><th scope=col>subtlety</th><th scope=col>pred_color</th><th scope=col>slider</th><th scope=col>button_response</th><th scope=col>RT</th><th scope=col>accuracy</th><th scope=col>subID</th><th scope=col>⋯</th><th scope=col>aq_comm</th><th scope=col>panas_pos</th><th scope=col>panas_neg</th><th scope=col>ffi_neuroticism</th><th scope=col>ffi_extraversion</th><th scope=col>ffi_openness</th><th scope=col>ffi_agreeableness</th><th scope=col>ffi_conscientiousness</th><th scope=col>ucla</th><th scope=col>friend_num</th></tr>\n",
       "\t<tr><th></th><th scope=col>&lt;int&gt;</th><th scope=col>&lt;chr&gt;</th><th scope=col>&lt;chr&gt;</th><th scope=col>&lt;int&gt;</th><th scope=col>&lt;chr&gt;</th><th scope=col>&lt;dbl&gt;</th><th scope=col>&lt;chr&gt;</th><th scope=col>&lt;dbl&gt;</th><th scope=col>&lt;int&gt;</th><th scope=col>&lt;int&gt;</th><th scope=col>⋯</th><th scope=col>&lt;dbl&gt;</th><th scope=col>&lt;dbl&gt;</th><th scope=col>&lt;dbl&gt;</th><th scope=col>&lt;dbl&gt;</th><th scope=col>&lt;dbl&gt;</th><th scope=col>&lt;dbl&gt;</th><th scope=col>&lt;dbl&gt;</th><th scope=col>&lt;dbl&gt;</th><th scope=col>&lt;dbl&gt;</th><th scope=col>&lt;dbl&gt;</th></tr>\n",
       "</thead>\n",
       "<tbody>\n",
       "\t<tr><th scope=row>1</th><td>0</td><td>c53236a2-f564-41ec-89aa-2bd90765b0a4</td><td>chase</td><td> 30</td><td>black</td><td>100</td><td>black</td><td>3.065</td><td>1</td><td>1</td><td>⋯</td><td>12</td><td>16</td><td>9</td><td>43</td><td>38</td><td>29</td><td>42</td><td>46</td><td>58</td><td>1</td></tr>\n",
       "\t<tr><th scope=row>2</th><td>1</td><td>75182d69-6502-4d35-9298-e331061c7829</td><td>chase</td><td>  0</td><td>grey </td><td>100</td><td>grey </td><td>4.618</td><td>1</td><td>1</td><td>⋯</td><td>12</td><td>16</td><td>9</td><td>43</td><td>38</td><td>29</td><td>42</td><td>46</td><td>58</td><td>1</td></tr>\n",
       "\t<tr><th scope=row>3</th><td>2</td><td>31932267-3908-4599-ba56-ba5043757838</td><td>chase</td><td> 30</td><td>grey </td><td>100</td><td>grey </td><td>3.330</td><td>1</td><td>1</td><td>⋯</td><td>12</td><td>16</td><td>9</td><td>43</td><td>38</td><td>29</td><td>42</td><td>46</td><td>58</td><td>1</td></tr>\n",
       "\t<tr><th scope=row>4</th><td>3</td><td>57dbdc86-9c49-4214-a908-c4a254e90229</td><td>chase</td><td> 30</td><td>grey </td><td>100</td><td>grey </td><td>3.935</td><td>1</td><td>1</td><td>⋯</td><td>12</td><td>16</td><td>9</td><td>43</td><td>38</td><td>29</td><td>42</td><td>46</td><td>58</td><td>1</td></tr>\n",
       "\t<tr><th scope=row>5</th><td>4</td><td>6480385b-e9eb-45a9-88e3-aade6c90476d</td><td>chase</td><td>120</td><td>black</td><td> 70</td><td>black</td><td>4.133</td><td>1</td><td>1</td><td>⋯</td><td>12</td><td>16</td><td>9</td><td>43</td><td>38</td><td>29</td><td>42</td><td>46</td><td>58</td><td>1</td></tr>\n",
       "</tbody>\n",
       "</table>\n"
      ],
      "text/latex": [
       "A data.frame: 5 × 25\n",
       "\\begin{tabular}{r|lllllllllllllllllllll}\n",
       "  & X & stim\\_file & condition & subtlety & pred\\_color & slider & button\\_response & RT & accuracy & subID & ⋯ & aq\\_comm & panas\\_pos & panas\\_neg & ffi\\_neuroticism & ffi\\_extraversion & ffi\\_openness & ffi\\_agreeableness & ffi\\_conscientiousness & ucla & friend\\_num\\\\\n",
       "  & <int> & <chr> & <chr> & <int> & <chr> & <dbl> & <chr> & <dbl> & <int> & <int> & ⋯ & <dbl> & <dbl> & <dbl> & <dbl> & <dbl> & <dbl> & <dbl> & <dbl> & <dbl> & <dbl>\\\\\n",
       "\\hline\n",
       "\t1 & 0 & c53236a2-f564-41ec-89aa-2bd90765b0a4 & chase &  30 & black & 100 & black & 3.065 & 1 & 1 & ⋯ & 12 & 16 & 9 & 43 & 38 & 29 & 42 & 46 & 58 & 1\\\\\n",
       "\t2 & 1 & 75182d69-6502-4d35-9298-e331061c7829 & chase &   0 & grey  & 100 & grey  & 4.618 & 1 & 1 & ⋯ & 12 & 16 & 9 & 43 & 38 & 29 & 42 & 46 & 58 & 1\\\\\n",
       "\t3 & 2 & 31932267-3908-4599-ba56-ba5043757838 & chase &  30 & grey  & 100 & grey  & 3.330 & 1 & 1 & ⋯ & 12 & 16 & 9 & 43 & 38 & 29 & 42 & 46 & 58 & 1\\\\\n",
       "\t4 & 3 & 57dbdc86-9c49-4214-a908-c4a254e90229 & chase &  30 & grey  & 100 & grey  & 3.935 & 1 & 1 & ⋯ & 12 & 16 & 9 & 43 & 38 & 29 & 42 & 46 & 58 & 1\\\\\n",
       "\t5 & 4 & 6480385b-e9eb-45a9-88e3-aade6c90476d & chase & 120 & black &  70 & black & 4.133 & 1 & 1 & ⋯ & 12 & 16 & 9 & 43 & 38 & 29 & 42 & 46 & 58 & 1\\\\\n",
       "\\end{tabular}\n"
      ],
      "text/markdown": [
       "\n",
       "A data.frame: 5 × 25\n",
       "\n",
       "| <!--/--> | X &lt;int&gt; | stim_file &lt;chr&gt; | condition &lt;chr&gt; | subtlety &lt;int&gt; | pred_color &lt;chr&gt; | slider &lt;dbl&gt; | button_response &lt;chr&gt; | RT &lt;dbl&gt; | accuracy &lt;int&gt; | subID &lt;int&gt; | ⋯ ⋯ | aq_comm &lt;dbl&gt; | panas_pos &lt;dbl&gt; | panas_neg &lt;dbl&gt; | ffi_neuroticism &lt;dbl&gt; | ffi_extraversion &lt;dbl&gt; | ffi_openness &lt;dbl&gt; | ffi_agreeableness &lt;dbl&gt; | ffi_conscientiousness &lt;dbl&gt; | ucla &lt;dbl&gt; | friend_num &lt;dbl&gt; |\n",
       "|---|---|---|---|---|---|---|---|---|---|---|---|---|---|---|---|---|---|---|---|---|---|\n",
       "| 1 | 0 | c53236a2-f564-41ec-89aa-2bd90765b0a4 | chase |  30 | black | 100 | black | 3.065 | 1 | 1 | ⋯ | 12 | 16 | 9 | 43 | 38 | 29 | 42 | 46 | 58 | 1 |\n",
       "| 2 | 1 | 75182d69-6502-4d35-9298-e331061c7829 | chase |   0 | grey  | 100 | grey  | 4.618 | 1 | 1 | ⋯ | 12 | 16 | 9 | 43 | 38 | 29 | 42 | 46 | 58 | 1 |\n",
       "| 3 | 2 | 31932267-3908-4599-ba56-ba5043757838 | chase |  30 | grey  | 100 | grey  | 3.330 | 1 | 1 | ⋯ | 12 | 16 | 9 | 43 | 38 | 29 | 42 | 46 | 58 | 1 |\n",
       "| 4 | 3 | 57dbdc86-9c49-4214-a908-c4a254e90229 | chase |  30 | grey  | 100 | grey  | 3.935 | 1 | 1 | ⋯ | 12 | 16 | 9 | 43 | 38 | 29 | 42 | 46 | 58 | 1 |\n",
       "| 5 | 4 | 6480385b-e9eb-45a9-88e3-aade6c90476d | chase | 120 | black |  70 | black | 4.133 | 1 | 1 | ⋯ | 12 | 16 | 9 | 43 | 38 | 29 | 42 | 46 | 58 | 1 |\n",
       "\n"
      ],
      "text/plain": [
       "  X stim_file                            condition subtlety pred_color slider\n",
       "1 0 c53236a2-f564-41ec-89aa-2bd90765b0a4 chase      30      black      100   \n",
       "2 1 75182d69-6502-4d35-9298-e331061c7829 chase       0      grey       100   \n",
       "3 2 31932267-3908-4599-ba56-ba5043757838 chase      30      grey       100   \n",
       "4 3 57dbdc86-9c49-4214-a908-c4a254e90229 chase      30      grey       100   \n",
       "5 4 6480385b-e9eb-45a9-88e3-aade6c90476d chase     120      black       70   \n",
       "  button_response RT    accuracy subID ⋯ aq_comm panas_pos panas_neg\n",
       "1 black           3.065 1        1     ⋯ 12      16        9        \n",
       "2 grey            4.618 1        1     ⋯ 12      16        9        \n",
       "3 grey            3.330 1        1     ⋯ 12      16        9        \n",
       "4 grey            3.935 1        1     ⋯ 12      16        9        \n",
       "5 black           4.133 1        1     ⋯ 12      16        9        \n",
       "  ffi_neuroticism ffi_extraversion ffi_openness ffi_agreeableness\n",
       "1 43              38               29           42               \n",
       "2 43              38               29           42               \n",
       "3 43              38               29           42               \n",
       "4 43              38               29           42               \n",
       "5 43              38               29           42               \n",
       "  ffi_conscientiousness ucla friend_num\n",
       "1 46                    58   1         \n",
       "2 46                    58   1         \n",
       "3 46                    58   1         \n",
       "4 46                    58   1         \n",
       "5 46                    58   1         "
      ]
     },
     "metadata": {}
    }
   ],
   "metadata": {}
  },
  {
   "cell_type": "code",
   "execution_count": 10,
   "source": [
    "colnames(data)"
   ],
   "outputs": [
    {
     "output_type": "display_data",
     "data": {
      "text/html": [
       "<style>\n",
       ".list-inline {list-style: none; margin:0; padding: 0}\n",
       ".list-inline>li {display: inline-block}\n",
       ".list-inline>li:not(:last-child)::after {content: \"\\00b7\"; padding: 0 .5ex}\n",
       "</style>\n",
       "<ol class=list-inline><li>'X'</li><li>'stim_file'</li><li>'condition'</li><li>'subtlety'</li><li>'pred_color'</li><li>'slider'</li><li>'button_response'</li><li>'RT'</li><li>'accuracy'</li><li>'subID'</li><li>'trial_ind'</li><li>'aq_social_skill'</li><li>'aq_attn_switch'</li><li>'aq_img'</li><li>'aq_attn_to_det'</li><li>'aq_comm'</li><li>'panas_pos'</li><li>'panas_neg'</li><li>'ffi_neuroticism'</li><li>'ffi_extraversion'</li><li>'ffi_openness'</li><li>'ffi_agreeableness'</li><li>'ffi_conscientiousness'</li><li>'ucla'</li><li>'friend_num'</li></ol>\n"
      ],
      "text/latex": [
       "\\begin{enumerate*}\n",
       "\\item 'X'\n",
       "\\item 'stim\\_file'\n",
       "\\item 'condition'\n",
       "\\item 'subtlety'\n",
       "\\item 'pred\\_color'\n",
       "\\item 'slider'\n",
       "\\item 'button\\_response'\n",
       "\\item 'RT'\n",
       "\\item 'accuracy'\n",
       "\\item 'subID'\n",
       "\\item 'trial\\_ind'\n",
       "\\item 'aq\\_social\\_skill'\n",
       "\\item 'aq\\_attn\\_switch'\n",
       "\\item 'aq\\_img'\n",
       "\\item 'aq\\_attn\\_to\\_det'\n",
       "\\item 'aq\\_comm'\n",
       "\\item 'panas\\_pos'\n",
       "\\item 'panas\\_neg'\n",
       "\\item 'ffi\\_neuroticism'\n",
       "\\item 'ffi\\_extraversion'\n",
       "\\item 'ffi\\_openness'\n",
       "\\item 'ffi\\_agreeableness'\n",
       "\\item 'ffi\\_conscientiousness'\n",
       "\\item 'ucla'\n",
       "\\item 'friend\\_num'\n",
       "\\end{enumerate*}\n"
      ],
      "text/markdown": [
       "1. 'X'\n",
       "2. 'stim_file'\n",
       "3. 'condition'\n",
       "4. 'subtlety'\n",
       "5. 'pred_color'\n",
       "6. 'slider'\n",
       "7. 'button_response'\n",
       "8. 'RT'\n",
       "9. 'accuracy'\n",
       "10. 'subID'\n",
       "11. 'trial_ind'\n",
       "12. 'aq_social_skill'\n",
       "13. 'aq_attn_switch'\n",
       "14. 'aq_img'\n",
       "15. 'aq_attn_to_det'\n",
       "16. 'aq_comm'\n",
       "17. 'panas_pos'\n",
       "18. 'panas_neg'\n",
       "19. 'ffi_neuroticism'\n",
       "20. 'ffi_extraversion'\n",
       "21. 'ffi_openness'\n",
       "22. 'ffi_agreeableness'\n",
       "23. 'ffi_conscientiousness'\n",
       "24. 'ucla'\n",
       "25. 'friend_num'\n",
       "\n",
       "\n"
      ],
      "text/plain": [
       " [1] \"X\"                     \"stim_file\"             \"condition\"            \n",
       " [4] \"subtlety\"              \"pred_color\"            \"slider\"               \n",
       " [7] \"button_response\"       \"RT\"                    \"accuracy\"             \n",
       "[10] \"subID\"                 \"trial_ind\"             \"aq_social_skill\"      \n",
       "[13] \"aq_attn_switch\"        \"aq_img\"                \"aq_attn_to_det\"       \n",
       "[16] \"aq_comm\"               \"panas_pos\"             \"panas_neg\"            \n",
       "[19] \"ffi_neuroticism\"       \"ffi_extraversion\"      \"ffi_openness\"         \n",
       "[22] \"ffi_agreeableness\"     \"ffi_conscientiousness\" \"ucla\"                 \n",
       "[25] \"friend_num\"           "
      ]
     },
     "metadata": {}
    }
   ],
   "metadata": {}
  },
  {
   "cell_type": "code",
   "execution_count": 11,
   "source": [
    "formula <- as.formula(\"slider ~ subtlety + (1|subID) + (1|stim_file)\")\n",
    "m1 <- lmer(formula, data = data)\n",
    "summary(m1)"
   ],
   "outputs": [
    {
     "output_type": "display_data",
     "data": {
      "text/plain": [
       "Linear mixed model fit by REML. t-tests use Satterthwaite's method [\n",
       "lmerModLmerTest]\n",
       "Formula: formula\n",
       "   Data: data\n",
       "\n",
       "REML criterion at convergence: 227969.3\n",
       "\n",
       "Scaled residuals: \n",
       "    Min      1Q  Median      3Q     Max \n",
       "-5.1020 -0.5724  0.0313  0.5724  4.5815 \n",
       "\n",
       "Random effects:\n",
       " Groups    Name        Variance Std.Dev.\n",
       " subID     (Intercept)  46.06    6.787  \n",
       " stim_file (Intercept) 139.18   11.797  \n",
       " Residual              349.10   18.684  \n",
       "Number of obs: 26088, groups:  subID, 312; stim_file, 84\n",
       "\n",
       "Fixed effects:\n",
       "             Estimate Std. Error        df t value Pr(>|t|)    \n",
       "(Intercept) 102.66358    2.36135  86.49690   43.48   <2e-16 ***\n",
       "subtlety     -0.44657    0.02154  81.99826  -20.73   <2e-16 ***\n",
       "---\n",
       "Signif. codes:  0 ‘***’ 0.001 ‘**’ 0.01 ‘*’ 0.05 ‘.’ 0.1 ‘ ’ 1\n",
       "\n",
       "Correlation of Fixed Effects:\n",
       "         (Intr)\n",
       "subtlety -0.821"
      ]
     },
     "metadata": {}
    }
   ],
   "metadata": {}
  },
  {
   "cell_type": "code",
   "execution_count": 12,
   "source": [
    "formula <- as.formula(\"slider ~ aq_social_skill + (1|subID) + (1|stim_file)\")\n",
    "m2 <- lmer(formula, data = data)\n",
    "summary(m2)"
   ],
   "outputs": [
    {
     "output_type": "display_data",
     "data": {
      "text/plain": [
       "Linear mixed model fit by REML. t-tests use Satterthwaite's method [\n",
       "lmerModLmerTest]\n",
       "Formula: formula\n",
       "   Data: data\n",
       "\n",
       "REML criterion at convergence: 228116.6\n",
       "\n",
       "Scaled residuals: \n",
       "    Min      1Q  Median      3Q     Max \n",
       "-5.1111 -0.5720  0.0326  0.5727  4.5874 \n",
       "\n",
       "Random effects:\n",
       " Groups    Name        Variance Std.Dev.\n",
       " subID     (Intercept)  45.82    6.769  \n",
       " stim_file (Intercept) 864.08   29.395  \n",
       " Residual              349.10   18.684  \n",
       "Number of obs: 26088, groups:  subID, 312; stim_file, 84\n",
       "\n",
       "Fixed effects:\n",
       "                 Estimate Std. Error        df t value Pr(>|t|)    \n",
       "(Intercept)      63.89679    3.35571  98.96870  19.041   <2e-16 ***\n",
       "aq_social_skill  -0.10187    0.06449 309.93653  -1.579    0.115    \n",
       "---\n",
       "Signif. codes:  0 ‘***’ 0.001 ‘**’ 0.01 ‘*’ 0.05 ‘.’ 0.1 ‘ ’ 1\n",
       "\n",
       "Correlation of Fixed Effects:\n",
       "            (Intr)\n",
       "aq_scl_skll -0.269"
      ]
     },
     "metadata": {}
    }
   ],
   "metadata": {}
  },
  {
   "cell_type": "code",
   "execution_count": 13,
   "source": [
    "formula <- as.formula(\"slider ~ subtlety + aq_social_skill + (1|subID) + (1|stim_file)\")\n",
    "m3 <- lmer(formula, data = data)\n",
    "summary(m3)"
   ],
   "outputs": [
    {
     "output_type": "display_data",
     "data": {
      "text/plain": [
       "Linear mixed model fit by REML. t-tests use Satterthwaite's method [\n",
       "lmerModLmerTest]\n",
       "Formula: formula\n",
       "   Data: data\n",
       "\n",
       "REML criterion at convergence: 227970.5\n",
       "\n",
       "Scaled residuals: \n",
       "    Min      1Q  Median      3Q     Max \n",
       "-5.1040 -0.5726  0.0318  0.5740  4.5801 \n",
       "\n",
       "Random effects:\n",
       " Groups    Name        Variance Std.Dev.\n",
       " subID     (Intercept)  45.82    6.769  \n",
       " stim_file (Intercept) 139.18   11.797  \n",
       " Residual              349.10   18.684  \n",
       "Number of obs: 26088, groups:  subID, 312; stim_file, 84\n",
       "\n",
       "Fixed effects:\n",
       "                 Estimate Std. Error        df t value Pr(>|t|)    \n",
       "(Intercept)     104.08859    2.52765 112.62482   41.18   <2e-16 ***\n",
       "subtlety         -0.44657    0.02154  81.99675  -20.73   <2e-16 ***\n",
       "aq_social_skill  -0.10188    0.06449 309.93382   -1.58    0.115    \n",
       "---\n",
       "Signif. codes:  0 ‘***’ 0.001 ‘**’ 0.01 ‘*’ 0.05 ‘.’ 0.1 ‘ ’ 1\n",
       "\n",
       "Correlation of Fixed Effects:\n",
       "            (Intr) sbtlty\n",
       "subtlety    -0.767       \n",
       "aq_scl_skll -0.357  0.000"
      ]
     },
     "metadata": {}
    }
   ],
   "metadata": {}
  },
  {
   "cell_type": "code",
   "execution_count": 14,
   "source": [
    "anova(m1,m3) "
   ],
   "outputs": [
    {
     "output_type": "stream",
     "name": "stderr",
     "text": [
      "refitting model(s) with ML (instead of REML)\n",
      "\n"
     ]
    },
    {
     "output_type": "display_data",
     "data": {
      "text/html": [
       "<table class=\"dataframe\">\n",
       "<caption>A anova: 2 × 8</caption>\n",
       "<thead>\n",
       "\t<tr><th></th><th scope=col>npar</th><th scope=col>AIC</th><th scope=col>BIC</th><th scope=col>logLik</th><th scope=col>deviance</th><th scope=col>Chisq</th><th scope=col>Df</th><th scope=col>Pr(&gt;Chisq)</th></tr>\n",
       "\t<tr><th></th><th scope=col>&lt;dbl&gt;</th><th scope=col>&lt;dbl&gt;</th><th scope=col>&lt;dbl&gt;</th><th scope=col>&lt;dbl&gt;</th><th scope=col>&lt;dbl&gt;</th><th scope=col>&lt;dbl&gt;</th><th scope=col>&lt;dbl&gt;</th><th scope=col>&lt;dbl&gt;</th></tr>\n",
       "</thead>\n",
       "<tbody>\n",
       "\t<tr><th scope=row>m1</th><td>5</td><td>227975.9</td><td>228016.7</td><td>-113983.0</td><td>227965.9</td><td>     NA</td><td>NA</td><td>       NA</td></tr>\n",
       "\t<tr><th scope=row>m3</th><td>6</td><td>227975.4</td><td>228024.4</td><td>-113981.7</td><td>227963.4</td><td>2.49406</td><td> 1</td><td>0.1142766</td></tr>\n",
       "</tbody>\n",
       "</table>\n"
      ],
      "text/latex": [
       "A anova: 2 × 8\n",
       "\\begin{tabular}{r|llllllll}\n",
       "  & npar & AIC & BIC & logLik & deviance & Chisq & Df & Pr(>Chisq)\\\\\n",
       "  & <dbl> & <dbl> & <dbl> & <dbl> & <dbl> & <dbl> & <dbl> & <dbl>\\\\\n",
       "\\hline\n",
       "\tm1 & 5 & 227975.9 & 228016.7 & -113983.0 & 227965.9 &      NA & NA &        NA\\\\\n",
       "\tm3 & 6 & 227975.4 & 228024.4 & -113981.7 & 227963.4 & 2.49406 &  1 & 0.1142766\\\\\n",
       "\\end{tabular}\n"
      ],
      "text/markdown": [
       "\n",
       "A anova: 2 × 8\n",
       "\n",
       "| <!--/--> | npar &lt;dbl&gt; | AIC &lt;dbl&gt; | BIC &lt;dbl&gt; | logLik &lt;dbl&gt; | deviance &lt;dbl&gt; | Chisq &lt;dbl&gt; | Df &lt;dbl&gt; | Pr(&gt;Chisq) &lt;dbl&gt; |\n",
       "|---|---|---|---|---|---|---|---|---|\n",
       "| m1 | 5 | 227975.9 | 228016.7 | -113983.0 | 227965.9 |      NA | NA |        NA |\n",
       "| m3 | 6 | 227975.4 | 228024.4 | -113981.7 | 227963.4 | 2.49406 |  1 | 0.1142766 |\n",
       "\n"
      ],
      "text/plain": [
       "   npar AIC      BIC      logLik    deviance Chisq   Df Pr(>Chisq)\n",
       "m1 5    227975.9 228016.7 -113983.0 227965.9      NA NA        NA \n",
       "m3 6    227975.4 228024.4 -113981.7 227963.4 2.49406  1 0.1142766 "
      ]
     },
     "metadata": {}
    }
   ],
   "metadata": {}
  },
  {
   "cell_type": "code",
   "execution_count": 16,
   "source": [
    "aic_results <- AIC(m1,m3) \n",
    "aic_results"
   ],
   "outputs": [
    {
     "output_type": "display_data",
     "data": {
      "text/html": [
       "<table class=\"dataframe\">\n",
       "<caption>A data.frame: 2 × 2</caption>\n",
       "<thead>\n",
       "\t<tr><th></th><th scope=col>df</th><th scope=col>AIC</th></tr>\n",
       "\t<tr><th></th><th scope=col>&lt;dbl&gt;</th><th scope=col>&lt;dbl&gt;</th></tr>\n",
       "</thead>\n",
       "<tbody>\n",
       "\t<tr><th scope=row>m1</th><td>5</td><td>227979.3</td></tr>\n",
       "\t<tr><th scope=row>m3</th><td>6</td><td>227982.5</td></tr>\n",
       "</tbody>\n",
       "</table>\n"
      ],
      "text/latex": [
       "A data.frame: 2 × 2\n",
       "\\begin{tabular}{r|ll}\n",
       "  & df & AIC\\\\\n",
       "  & <dbl> & <dbl>\\\\\n",
       "\\hline\n",
       "\tm1 & 5 & 227979.3\\\\\n",
       "\tm3 & 6 & 227982.5\\\\\n",
       "\\end{tabular}\n"
      ],
      "text/markdown": [
       "\n",
       "A data.frame: 2 × 2\n",
       "\n",
       "| <!--/--> | df &lt;dbl&gt; | AIC &lt;dbl&gt; |\n",
       "|---|---|---|\n",
       "| m1 | 5 | 227979.3 |\n",
       "| m3 | 6 | 227982.5 |\n",
       "\n"
      ],
      "text/plain": [
       "   df AIC     \n",
       "m1 5  227979.3\n",
       "m3 6  227982.5"
      ]
     },
     "metadata": {}
    }
   ],
   "metadata": {}
  },
  {
   "cell_type": "code",
   "execution_count": 15,
   "source": [
    "anova(m2,m3) "
   ],
   "outputs": [
    {
     "output_type": "stream",
     "name": "stderr",
     "text": [
      "refitting model(s) with ML (instead of REML)\n",
      "\n"
     ]
    },
    {
     "output_type": "display_data",
     "data": {
      "text/html": [
       "<table class=\"dataframe\">\n",
       "<caption>A anova: 2 × 8</caption>\n",
       "<thead>\n",
       "\t<tr><th></th><th scope=col>npar</th><th scope=col>AIC</th><th scope=col>BIC</th><th scope=col>logLik</th><th scope=col>deviance</th><th scope=col>Chisq</th><th scope=col>Df</th><th scope=col>Pr(&gt;Chisq)</th></tr>\n",
       "\t<tr><th></th><th scope=col>&lt;dbl&gt;</th><th scope=col>&lt;dbl&gt;</th><th scope=col>&lt;dbl&gt;</th><th scope=col>&lt;dbl&gt;</th><th scope=col>&lt;dbl&gt;</th><th scope=col>&lt;dbl&gt;</th><th scope=col>&lt;dbl&gt;</th><th scope=col>&lt;dbl&gt;</th></tr>\n",
       "</thead>\n",
       "<tbody>\n",
       "\t<tr><th scope=row>m2</th><td>5</td><td>228127.2</td><td>228168.0</td><td>-114058.6</td><td>228117.2</td><td>      NA</td><td>NA</td><td>          NA</td></tr>\n",
       "\t<tr><th scope=row>m3</th><td>6</td><td>227975.4</td><td>228024.4</td><td>-113981.7</td><td>227963.4</td><td>153.7563</td><td> 1</td><td>2.618071e-35</td></tr>\n",
       "</tbody>\n",
       "</table>\n"
      ],
      "text/latex": [
       "A anova: 2 × 8\n",
       "\\begin{tabular}{r|llllllll}\n",
       "  & npar & AIC & BIC & logLik & deviance & Chisq & Df & Pr(>Chisq)\\\\\n",
       "  & <dbl> & <dbl> & <dbl> & <dbl> & <dbl> & <dbl> & <dbl> & <dbl>\\\\\n",
       "\\hline\n",
       "\tm2 & 5 & 228127.2 & 228168.0 & -114058.6 & 228117.2 &       NA & NA &           NA\\\\\n",
       "\tm3 & 6 & 227975.4 & 228024.4 & -113981.7 & 227963.4 & 153.7563 &  1 & 2.618071e-35\\\\\n",
       "\\end{tabular}\n"
      ],
      "text/markdown": [
       "\n",
       "A anova: 2 × 8\n",
       "\n",
       "| <!--/--> | npar &lt;dbl&gt; | AIC &lt;dbl&gt; | BIC &lt;dbl&gt; | logLik &lt;dbl&gt; | deviance &lt;dbl&gt; | Chisq &lt;dbl&gt; | Df &lt;dbl&gt; | Pr(&gt;Chisq) &lt;dbl&gt; |\n",
       "|---|---|---|---|---|---|---|---|---|\n",
       "| m2 | 5 | 228127.2 | 228168.0 | -114058.6 | 228117.2 |       NA | NA |           NA |\n",
       "| m3 | 6 | 227975.4 | 228024.4 | -113981.7 | 227963.4 | 153.7563 |  1 | 2.618071e-35 |\n",
       "\n"
      ],
      "text/plain": [
       "   npar AIC      BIC      logLik    deviance Chisq    Df Pr(>Chisq)  \n",
       "m2 5    228127.2 228168.0 -114058.6 228117.2       NA NA           NA\n",
       "m3 6    227975.4 228024.4 -113981.7 227963.4 153.7563  1 2.618071e-35"
      ]
     },
     "metadata": {}
    }
   ],
   "metadata": {}
  },
  {
   "cell_type": "code",
   "execution_count": 17,
   "source": [
    "aic_results <- AIC(m2,m3) \n",
    "aic_results"
   ],
   "outputs": [
    {
     "output_type": "display_data",
     "data": {
      "text/html": [
       "<table class=\"dataframe\">\n",
       "<caption>A data.frame: 2 × 2</caption>\n",
       "<thead>\n",
       "\t<tr><th></th><th scope=col>df</th><th scope=col>AIC</th></tr>\n",
       "\t<tr><th></th><th scope=col>&lt;dbl&gt;</th><th scope=col>&lt;dbl&gt;</th></tr>\n",
       "</thead>\n",
       "<tbody>\n",
       "\t<tr><th scope=row>m2</th><td>5</td><td>228126.6</td></tr>\n",
       "\t<tr><th scope=row>m3</th><td>6</td><td>227982.5</td></tr>\n",
       "</tbody>\n",
       "</table>\n"
      ],
      "text/latex": [
       "A data.frame: 2 × 2\n",
       "\\begin{tabular}{r|ll}\n",
       "  & df & AIC\\\\\n",
       "  & <dbl> & <dbl>\\\\\n",
       "\\hline\n",
       "\tm2 & 5 & 228126.6\\\\\n",
       "\tm3 & 6 & 227982.5\\\\\n",
       "\\end{tabular}\n"
      ],
      "text/markdown": [
       "\n",
       "A data.frame: 2 × 2\n",
       "\n",
       "| <!--/--> | df &lt;dbl&gt; | AIC &lt;dbl&gt; |\n",
       "|---|---|---|\n",
       "| m2 | 5 | 228126.6 |\n",
       "| m3 | 6 | 227982.5 |\n",
       "\n"
      ],
      "text/plain": [
       "   df AIC     \n",
       "m2 5  228126.6\n",
       "m3 6  227982.5"
      ]
     },
     "metadata": {}
    }
   ],
   "metadata": {}
  },
  {
   "cell_type": "code",
   "execution_count": null,
   "source": [],
   "outputs": [],
   "metadata": {}
  }
 ],
 "metadata": {
  "interpreter": {
   "hash": "fd4f9b4a611f13030669d34296d320a89181368ed7f3667f4142a08b4c2c4fbe"
  },
  "kernelspec": {
   "name": "python3124jvsc74a57bd04a074528bc854e8a1fdc819f4bc249979b3b196bce4de5afb134a947ed71fa2f",
   "display_name": "R",
   "language": "R"
  },
  "language_info": {
   "name": "R",
   "codemirror_mode": "r",
   "pygments_lexer": "r",
   "mimetype": "text/x-r-source",
   "file_extension": ".r",
   "version": "4.3.3"
  }
 },
 "nbformat": 4,
 "nbformat_minor": 4
}
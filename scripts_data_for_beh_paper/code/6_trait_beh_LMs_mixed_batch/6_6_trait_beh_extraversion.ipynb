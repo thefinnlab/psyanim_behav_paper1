{
 "cells": [
  {
   "cell_type": "code",
   "execution_count": 1,
   "source": [
    "print(\"Hello, R in Jupyter!\")"
   ],
   "outputs": [
    {
     "output_type": "stream",
     "name": "stdout",
     "text": [
      "[1] \"Hello, R in Jupyter!\"\n"
     ]
    }
   ],
   "metadata": {}
  },
  {
   "cell_type": "code",
   "execution_count": 2,
   "source": [
    "# Basic arithmetic\n",
    "result <- 2 + 2\n",
    "print(result)"
   ],
   "outputs": [
    {
     "output_type": "stream",
     "name": "stdout",
     "text": [
      "[1] 4\n"
     ]
    }
   ],
   "metadata": {}
  },
  {
   "cell_type": "code",
   "execution_count": 3,
   "source": [
    "root_dir = '../../data/subtlety_playfight_data/'#/Users/f0053cz/Documents/psyanim_v2/scripts_for_beh_paper/data/subtlety_playfight_data/'\n",
    "data <- read.csv(paste(root_dir,'curvefit_traits_merged_linearpf_withPC1.csv', sep = \"/\"))\n",
    "# print(data)\n",
    "head(data, 5)"
   ],
   "outputs": [
    {
     "output_type": "display_data",
     "data": {
      "text/html": [
       "<table class=\"dataframe\">\n",
       "<caption>A data.frame: 5 × 44</caption>\n",
       "<thead>\n",
       "\t<tr><th></th><th scope=col>X</th><th scope=col>index</th><th scope=col>subID</th><th scope=col>r_squared_subt</th><th scope=col>nrmse_subt</th><th scope=col>aic_subt</th><th scope=col>center</th><th scope=col>PSE_subt</th><th scope=col>sigma_subt</th><th scope=col>bias_xmin_subt</th><th scope=col>⋯</th><th scope=col>posAffect</th><th scope=col>negAffect</th><th scope=col>neuroticism</th><th scope=col>extraversion</th><th scope=col>openness</th><th scope=col>agreeableness</th><th scope=col>conscientiousness</th><th scope=col>loneliness</th><th scope=col>nfriends</th><th scope=col>PC1</th></tr>\n",
       "\t<tr><th></th><th scope=col>&lt;int&gt;</th><th scope=col>&lt;int&gt;</th><th scope=col>&lt;dbl&gt;</th><th scope=col>&lt;dbl&gt;</th><th scope=col>&lt;dbl&gt;</th><th scope=col>&lt;dbl&gt;</th><th scope=col>&lt;dbl&gt;</th><th scope=col>&lt;dbl&gt;</th><th scope=col>&lt;dbl&gt;</th><th scope=col>&lt;dbl&gt;</th><th scope=col>⋯</th><th scope=col>&lt;dbl&gt;</th><th scope=col>&lt;dbl&gt;</th><th scope=col>&lt;dbl&gt;</th><th scope=col>&lt;dbl&gt;</th><th scope=col>&lt;dbl&gt;</th><th scope=col>&lt;dbl&gt;</th><th scope=col>&lt;dbl&gt;</th><th scope=col>&lt;dbl&gt;</th><th scope=col>&lt;dbl&gt;</th><th scope=col>&lt;dbl&gt;</th></tr>\n",
       "</thead>\n",
       "<tbody>\n",
       "\t<tr><th scope=row>1</th><td>0</td><td>0</td><td>30002</td><td>0.9789465</td><td>0.05958450</td><td>-35.48504</td><td>0.5461832</td><td>0.5529510</td><td>0.10335957</td><td>0.031291240</td><td>⋯</td><td>20</td><td> 0</td><td>38</td><td>28.00000</td><td>31.00000</td><td>34</td><td>39</td><td>56</td><td>3</td><td> 16.10785</td></tr>\n",
       "\t<tr><th scope=row>2</th><td>1</td><td>1</td><td>30004</td><td>0.9947840</td><td>0.03131009</td><td>-44.49341</td><td>0.3112003</td><td>0.2768959</td><td>0.07686605</td><td>0.194060972</td><td>⋯</td><td>25</td><td>11</td><td>38</td><td>26.18182</td><td>50.00000</td><td>50</td><td>46</td><td>56</td><td>3</td><td> 13.40826</td></tr>\n",
       "\t<tr><th scope=row>3</th><td>2</td><td>2</td><td>30005</td><td>0.9856356</td><td>0.04832041</td><td>-38.41862</td><td>0.3800630</td><td>0.3205832</td><td>0.11535284</td><td>0.249788688</td><td>⋯</td><td>20</td><td>21</td><td>51</td><td>39.00000</td><td>40.00000</td><td>43</td><td>19</td><td>41</td><td>5</td><td> 20.62867</td></tr>\n",
       "\t<tr><th scope=row>4</th><td>3</td><td>3</td><td>30006</td><td>0.9837098</td><td>0.05739903</td><td>-36.00819</td><td>0.4658866</td><td>0.4648232</td><td>0.07922090</td><td>0.009432723</td><td>⋯</td><td>25</td><td> 0</td><td>18</td><td>41.00000</td><td>31.00000</td><td>44</td><td>57</td><td>30</td><td>4</td><td>-27.57041</td></tr>\n",
       "\t<tr><th scope=row>5</th><td>4</td><td>4</td><td>30008</td><td>0.9007922</td><td>0.11023567</td><td>-26.87189</td><td>0.3854147</td><td>0.3251178</td><td>0.17258480</td><td>0.289378203</td><td>⋯</td><td>28</td><td> 4</td><td>27</td><td>46.00000</td><td>42.54545</td><td>46</td><td>50</td><td>45</td><td>5</td><td>-12.51604</td></tr>\n",
       "</tbody>\n",
       "</table>\n"
      ],
      "text/latex": [
       "A data.frame: 5 × 44\n",
       "\\begin{tabular}{r|lllllllllllllllllllll}\n",
       "  & X & index & subID & r\\_squared\\_subt & nrmse\\_subt & aic\\_subt & center & PSE\\_subt & sigma\\_subt & bias\\_xmin\\_subt & ⋯ & posAffect & negAffect & neuroticism & extraversion & openness & agreeableness & conscientiousness & loneliness & nfriends & PC1\\\\\n",
       "  & <int> & <int> & <dbl> & <dbl> & <dbl> & <dbl> & <dbl> & <dbl> & <dbl> & <dbl> & ⋯ & <dbl> & <dbl> & <dbl> & <dbl> & <dbl> & <dbl> & <dbl> & <dbl> & <dbl> & <dbl>\\\\\n",
       "\\hline\n",
       "\t1 & 0 & 0 & 30002 & 0.9789465 & 0.05958450 & -35.48504 & 0.5461832 & 0.5529510 & 0.10335957 & 0.031291240 & ⋯ & 20 &  0 & 38 & 28.00000 & 31.00000 & 34 & 39 & 56 & 3 &  16.10785\\\\\n",
       "\t2 & 1 & 1 & 30004 & 0.9947840 & 0.03131009 & -44.49341 & 0.3112003 & 0.2768959 & 0.07686605 & 0.194060972 & ⋯ & 25 & 11 & 38 & 26.18182 & 50.00000 & 50 & 46 & 56 & 3 &  13.40826\\\\\n",
       "\t3 & 2 & 2 & 30005 & 0.9856356 & 0.04832041 & -38.41862 & 0.3800630 & 0.3205832 & 0.11535284 & 0.249788688 & ⋯ & 20 & 21 & 51 & 39.00000 & 40.00000 & 43 & 19 & 41 & 5 &  20.62867\\\\\n",
       "\t4 & 3 & 3 & 30006 & 0.9837098 & 0.05739903 & -36.00819 & 0.4658866 & 0.4648232 & 0.07922090 & 0.009432723 & ⋯ & 25 &  0 & 18 & 41.00000 & 31.00000 & 44 & 57 & 30 & 4 & -27.57041\\\\\n",
       "\t5 & 4 & 4 & 30008 & 0.9007922 & 0.11023567 & -26.87189 & 0.3854147 & 0.3251178 & 0.17258480 & 0.289378203 & ⋯ & 28 &  4 & 27 & 46.00000 & 42.54545 & 46 & 50 & 45 & 5 & -12.51604\\\\\n",
       "\\end{tabular}\n"
      ],
      "text/markdown": [
       "\n",
       "A data.frame: 5 × 44\n",
       "\n",
       "| <!--/--> | X &lt;int&gt; | index &lt;int&gt; | subID &lt;dbl&gt; | r_squared_subt &lt;dbl&gt; | nrmse_subt &lt;dbl&gt; | aic_subt &lt;dbl&gt; | center &lt;dbl&gt; | PSE_subt &lt;dbl&gt; | sigma_subt &lt;dbl&gt; | bias_xmin_subt &lt;dbl&gt; | ⋯ ⋯ | posAffect &lt;dbl&gt; | negAffect &lt;dbl&gt; | neuroticism &lt;dbl&gt; | extraversion &lt;dbl&gt; | openness &lt;dbl&gt; | agreeableness &lt;dbl&gt; | conscientiousness &lt;dbl&gt; | loneliness &lt;dbl&gt; | nfriends &lt;dbl&gt; | PC1 &lt;dbl&gt; |\n",
       "|---|---|---|---|---|---|---|---|---|---|---|---|---|---|---|---|---|---|---|---|---|---|\n",
       "| 1 | 0 | 0 | 30002 | 0.9789465 | 0.05958450 | -35.48504 | 0.5461832 | 0.5529510 | 0.10335957 | 0.031291240 | ⋯ | 20 |  0 | 38 | 28.00000 | 31.00000 | 34 | 39 | 56 | 3 |  16.10785 |\n",
       "| 2 | 1 | 1 | 30004 | 0.9947840 | 0.03131009 | -44.49341 | 0.3112003 | 0.2768959 | 0.07686605 | 0.194060972 | ⋯ | 25 | 11 | 38 | 26.18182 | 50.00000 | 50 | 46 | 56 | 3 |  13.40826 |\n",
       "| 3 | 2 | 2 | 30005 | 0.9856356 | 0.04832041 | -38.41862 | 0.3800630 | 0.3205832 | 0.11535284 | 0.249788688 | ⋯ | 20 | 21 | 51 | 39.00000 | 40.00000 | 43 | 19 | 41 | 5 |  20.62867 |\n",
       "| 4 | 3 | 3 | 30006 | 0.9837098 | 0.05739903 | -36.00819 | 0.4658866 | 0.4648232 | 0.07922090 | 0.009432723 | ⋯ | 25 |  0 | 18 | 41.00000 | 31.00000 | 44 | 57 | 30 | 4 | -27.57041 |\n",
       "| 5 | 4 | 4 | 30008 | 0.9007922 | 0.11023567 | -26.87189 | 0.3854147 | 0.3251178 | 0.17258480 | 0.289378203 | ⋯ | 28 |  4 | 27 | 46.00000 | 42.54545 | 46 | 50 | 45 | 5 | -12.51604 |\n",
       "\n"
      ],
      "text/plain": [
       "  X index subID r_squared_subt nrmse_subt aic_subt  center    PSE_subt \n",
       "1 0 0     30002 0.9789465      0.05958450 -35.48504 0.5461832 0.5529510\n",
       "2 1 1     30004 0.9947840      0.03131009 -44.49341 0.3112003 0.2768959\n",
       "3 2 2     30005 0.9856356      0.04832041 -38.41862 0.3800630 0.3205832\n",
       "4 3 3     30006 0.9837098      0.05739903 -36.00819 0.4658866 0.4648232\n",
       "5 4 4     30008 0.9007922      0.11023567 -26.87189 0.3854147 0.3251178\n",
       "  sigma_subt bias_xmin_subt ⋯ posAffect negAffect neuroticism extraversion\n",
       "1 0.10335957 0.031291240    ⋯ 20         0        38          28.00000    \n",
       "2 0.07686605 0.194060972    ⋯ 25        11        38          26.18182    \n",
       "3 0.11535284 0.249788688    ⋯ 20        21        51          39.00000    \n",
       "4 0.07922090 0.009432723    ⋯ 25         0        18          41.00000    \n",
       "5 0.17258480 0.289378203    ⋯ 28         4        27          46.00000    \n",
       "  openness agreeableness conscientiousness loneliness nfriends PC1      \n",
       "1 31.00000 34            39                56         3         16.10785\n",
       "2 50.00000 50            46                56         3         13.40826\n",
       "3 40.00000 43            19                41         5         20.62867\n",
       "4 31.00000 44            57                30         4        -27.57041\n",
       "5 42.54545 46            50                45         5        -12.51604"
      ]
     },
     "metadata": {}
    }
   ],
   "metadata": {}
  },
  {
   "cell_type": "code",
   "execution_count": 4,
   "source": [
    "colnames(data)"
   ],
   "outputs": [
    {
     "output_type": "display_data",
     "data": {
      "text/html": [
       "<style>\n",
       ".list-inline {list-style: none; margin:0; padding: 0}\n",
       ".list-inline>li {display: inline-block}\n",
       ".list-inline>li:not(:last-child)::after {content: \"\\00b7\"; padding: 0 .5ex}\n",
       "</style>\n",
       "<ol class=list-inline><li>'X'</li><li>'index'</li><li>'subID'</li><li>'r_squared_subt'</li><li>'nrmse_subt'</li><li>'aic_subt'</li><li>'center'</li><li>'PSE_subt'</li><li>'sigma_subt'</li><li>'bias_xmin_subt'</li><li>'bias_xmax_subt'</li><li>'bias_lower_subt'</li><li>'bias_upper_subt'</li><li>'flipped_subt'</li><li>'range_subt'</li><li>'bias_subt'</li><li>'r_squared_pf'</li><li>'nrmse_pf'</li><li>'aic_pf'</li><li>'PSE_pf'</li><li>'slope_pf'</li><li>'intercept'</li><li>'bias_xmin_pf'</li><li>'bias_xmax_pf'</li><li>'bias_lower_pf'</li><li>'bias_upper_pf'</li><li>'flipped_pf'</li><li>'range_pf'</li><li>'bias_pf'</li><li>'social_skill'</li><li>'attn_switch'</li><li>'img'</li><li>'attn_to_det'</li><li>'comm'</li><li>'posAffect'</li><li>'negAffect'</li><li>'neuroticism'</li><li>'extraversion'</li><li>'openness'</li><li>'agreeableness'</li><li>'conscientiousness'</li><li>'loneliness'</li><li>'nfriends'</li><li>'PC1'</li></ol>\n"
      ],
      "text/latex": [
       "\\begin{enumerate*}\n",
       "\\item 'X'\n",
       "\\item 'index'\n",
       "\\item 'subID'\n",
       "\\item 'r\\_squared\\_subt'\n",
       "\\item 'nrmse\\_subt'\n",
       "\\item 'aic\\_subt'\n",
       "\\item 'center'\n",
       "\\item 'PSE\\_subt'\n",
       "\\item 'sigma\\_subt'\n",
       "\\item 'bias\\_xmin\\_subt'\n",
       "\\item 'bias\\_xmax\\_subt'\n",
       "\\item 'bias\\_lower\\_subt'\n",
       "\\item 'bias\\_upper\\_subt'\n",
       "\\item 'flipped\\_subt'\n",
       "\\item 'range\\_subt'\n",
       "\\item 'bias\\_subt'\n",
       "\\item 'r\\_squared\\_pf'\n",
       "\\item 'nrmse\\_pf'\n",
       "\\item 'aic\\_pf'\n",
       "\\item 'PSE\\_pf'\n",
       "\\item 'slope\\_pf'\n",
       "\\item 'intercept'\n",
       "\\item 'bias\\_xmin\\_pf'\n",
       "\\item 'bias\\_xmax\\_pf'\n",
       "\\item 'bias\\_lower\\_pf'\n",
       "\\item 'bias\\_upper\\_pf'\n",
       "\\item 'flipped\\_pf'\n",
       "\\item 'range\\_pf'\n",
       "\\item 'bias\\_pf'\n",
       "\\item 'social\\_skill'\n",
       "\\item 'attn\\_switch'\n",
       "\\item 'img'\n",
       "\\item 'attn\\_to\\_det'\n",
       "\\item 'comm'\n",
       "\\item 'posAffect'\n",
       "\\item 'negAffect'\n",
       "\\item 'neuroticism'\n",
       "\\item 'extraversion'\n",
       "\\item 'openness'\n",
       "\\item 'agreeableness'\n",
       "\\item 'conscientiousness'\n",
       "\\item 'loneliness'\n",
       "\\item 'nfriends'\n",
       "\\item 'PC1'\n",
       "\\end{enumerate*}\n"
      ],
      "text/markdown": [
       "1. 'X'\n",
       "2. 'index'\n",
       "3. 'subID'\n",
       "4. 'r_squared_subt'\n",
       "5. 'nrmse_subt'\n",
       "6. 'aic_subt'\n",
       "7. 'center'\n",
       "8. 'PSE_subt'\n",
       "9. 'sigma_subt'\n",
       "10. 'bias_xmin_subt'\n",
       "11. 'bias_xmax_subt'\n",
       "12. 'bias_lower_subt'\n",
       "13. 'bias_upper_subt'\n",
       "14. 'flipped_subt'\n",
       "15. 'range_subt'\n",
       "16. 'bias_subt'\n",
       "17. 'r_squared_pf'\n",
       "18. 'nrmse_pf'\n",
       "19. 'aic_pf'\n",
       "20. 'PSE_pf'\n",
       "21. 'slope_pf'\n",
       "22. 'intercept'\n",
       "23. 'bias_xmin_pf'\n",
       "24. 'bias_xmax_pf'\n",
       "25. 'bias_lower_pf'\n",
       "26. 'bias_upper_pf'\n",
       "27. 'flipped_pf'\n",
       "28. 'range_pf'\n",
       "29. 'bias_pf'\n",
       "30. 'social_skill'\n",
       "31. 'attn_switch'\n",
       "32. 'img'\n",
       "33. 'attn_to_det'\n",
       "34. 'comm'\n",
       "35. 'posAffect'\n",
       "36. 'negAffect'\n",
       "37. 'neuroticism'\n",
       "38. 'extraversion'\n",
       "39. 'openness'\n",
       "40. 'agreeableness'\n",
       "41. 'conscientiousness'\n",
       "42. 'loneliness'\n",
       "43. 'nfriends'\n",
       "44. 'PC1'\n",
       "\n",
       "\n"
      ],
      "text/plain": [
       " [1] \"X\"                 \"index\"             \"subID\"            \n",
       " [4] \"r_squared_subt\"    \"nrmse_subt\"        \"aic_subt\"         \n",
       " [7] \"center\"            \"PSE_subt\"          \"sigma_subt\"       \n",
       "[10] \"bias_xmin_subt\"    \"bias_xmax_subt\"    \"bias_lower_subt\"  \n",
       "[13] \"bias_upper_subt\"   \"flipped_subt\"      \"range_subt\"       \n",
       "[16] \"bias_subt\"         \"r_squared_pf\"      \"nrmse_pf\"         \n",
       "[19] \"aic_pf\"            \"PSE_pf\"            \"slope_pf\"         \n",
       "[22] \"intercept\"         \"bias_xmin_pf\"      \"bias_xmax_pf\"     \n",
       "[25] \"bias_lower_pf\"     \"bias_upper_pf\"     \"flipped_pf\"       \n",
       "[28] \"range_pf\"          \"bias_pf\"           \"social_skill\"     \n",
       "[31] \"attn_switch\"       \"img\"               \"attn_to_det\"      \n",
       "[34] \"comm\"              \"posAffect\"         \"negAffect\"        \n",
       "[37] \"neuroticism\"       \"extraversion\"      \"openness\"         \n",
       "[40] \"agreeableness\"     \"conscientiousness\" \"loneliness\"       \n",
       "[43] \"nfriends\"          \"PC1\"              "
      ]
     },
     "metadata": {}
    }
   ],
   "metadata": {}
  },
  {
   "cell_type": "code",
   "execution_count": 5,
   "source": [
    "# Print the dimensions of the data frame\n",
    "print(dim(data))\n",
    "\n",
    "# Drop rows with NA values\n",
    "data <- na.omit(data)\n",
    "\n",
    "# Print the dimensions of the data frame after dropping NA values\n",
    "print(dim(data))"
   ],
   "outputs": [
    {
     "output_type": "stream",
     "name": "stdout",
     "text": [
      "[1] 275  44\n",
      "[1] 275  44\n"
     ]
    }
   ],
   "metadata": {}
  },
  {
   "cell_type": "code",
   "execution_count": 6,
   "source": [
    "trait <- 'extraversion'"
   ],
   "outputs": [],
   "metadata": {}
  },
  {
   "cell_type": "code",
   "execution_count": 7,
   "source": [
    "# new_terms = ['obj_center','amplitude','bias_xmin_norm','sigma']\n",
    "new_terms <- c(trait,'PSE_subt', 'range_subt', 'bias_subt', 'sigma_subt', 'PSE_pf', 'range_pf', 'bias_pf', 'slope_pf')\n",
    "new_terms"
   ],
   "outputs": [
    {
     "output_type": "display_data",
     "data": {
      "text/html": [
       "<style>\n",
       ".list-inline {list-style: none; margin:0; padding: 0}\n",
       ".list-inline>li {display: inline-block}\n",
       ".list-inline>li:not(:last-child)::after {content: \"\\00b7\"; padding: 0 .5ex}\n",
       "</style>\n",
       "<ol class=list-inline><li>'extraversion'</li><li>'PSE_subt'</li><li>'range_subt'</li><li>'bias_subt'</li><li>'sigma_subt'</li><li>'PSE_pf'</li><li>'range_pf'</li><li>'bias_pf'</li><li>'slope_pf'</li></ol>\n"
      ],
      "text/latex": [
       "\\begin{enumerate*}\n",
       "\\item 'extraversion'\n",
       "\\item 'PSE\\_subt'\n",
       "\\item 'range\\_subt'\n",
       "\\item 'bias\\_subt'\n",
       "\\item 'sigma\\_subt'\n",
       "\\item 'PSE\\_pf'\n",
       "\\item 'range\\_pf'\n",
       "\\item 'bias\\_pf'\n",
       "\\item 'slope\\_pf'\n",
       "\\end{enumerate*}\n"
      ],
      "text/markdown": [
       "1. 'extraversion'\n",
       "2. 'PSE_subt'\n",
       "3. 'range_subt'\n",
       "4. 'bias_subt'\n",
       "5. 'sigma_subt'\n",
       "6. 'PSE_pf'\n",
       "7. 'range_pf'\n",
       "8. 'bias_pf'\n",
       "9. 'slope_pf'\n",
       "\n",
       "\n"
      ],
      "text/plain": [
       "[1] \"extraversion\" \"PSE_subt\"     \"range_subt\"   \"bias_subt\"    \"sigma_subt\"  \n",
       "[6] \"PSE_pf\"       \"range_pf\"     \"bias_pf\"      \"slope_pf\"    "
      ]
     },
     "metadata": {}
    }
   ],
   "metadata": {}
  },
  {
   "cell_type": "markdown",
   "source": [
    "# mult reg (relevant traits and curve fits)"
   ],
   "metadata": {}
  },
  {
   "cell_type": "code",
   "execution_count": 8,
   "source": [
    "# install.packages(\"dplyr\")\n",
    "library(dplyr)\n",
    "\n",
    "# # Rename specific columns\n",
    "# data <- data %>% rename(\n",
    "#   pos_affect = Positive_reweigh,\n",
    "#   PSE_subt = obj_center_subt,\n",
    "#   range_subt = amplitude_subt,\n",
    "#   bias_subt = bias_xmin_norm_subt,\n",
    "#   PSE_pf = obj_center_pf,\n",
    "#   range_pf = amplitude_pf,\n",
    "#   bias_pf = bias_xmin_norm_pf,\n",
    "#   PSE_diff = obj_center_diff,\n",
    "#   range_diff = amplitude_diff,\n",
    "#   bias_diff = bias_xmin_norm_diff\n",
    "# )"
   ],
   "outputs": [
    {
     "output_type": "stream",
     "name": "stderr",
     "text": [
      "\n",
      "Attaching package: ‘dplyr’\n",
      "\n",
      "\n",
      "The following objects are masked from ‘package:stats’:\n",
      "\n",
      "    filter, lag\n",
      "\n",
      "\n",
      "The following objects are masked from ‘package:base’:\n",
      "\n",
      "    intersect, setdiff, setequal, union\n",
      "\n",
      "\n"
     ]
    }
   ],
   "metadata": {}
  },
  {
   "cell_type": "code",
   "execution_count": 9,
   "source": [
    "head(data, 5)"
   ],
   "outputs": [
    {
     "output_type": "display_data",
     "data": {
      "text/html": [
       "<table class=\"dataframe\">\n",
       "<caption>A data.frame: 5 × 44</caption>\n",
       "<thead>\n",
       "\t<tr><th></th><th scope=col>X</th><th scope=col>index</th><th scope=col>subID</th><th scope=col>r_squared_subt</th><th scope=col>nrmse_subt</th><th scope=col>aic_subt</th><th scope=col>center</th><th scope=col>PSE_subt</th><th scope=col>sigma_subt</th><th scope=col>bias_xmin_subt</th><th scope=col>⋯</th><th scope=col>posAffect</th><th scope=col>negAffect</th><th scope=col>neuroticism</th><th scope=col>extraversion</th><th scope=col>openness</th><th scope=col>agreeableness</th><th scope=col>conscientiousness</th><th scope=col>loneliness</th><th scope=col>nfriends</th><th scope=col>PC1</th></tr>\n",
       "\t<tr><th></th><th scope=col>&lt;int&gt;</th><th scope=col>&lt;int&gt;</th><th scope=col>&lt;dbl&gt;</th><th scope=col>&lt;dbl&gt;</th><th scope=col>&lt;dbl&gt;</th><th scope=col>&lt;dbl&gt;</th><th scope=col>&lt;dbl&gt;</th><th scope=col>&lt;dbl&gt;</th><th scope=col>&lt;dbl&gt;</th><th scope=col>&lt;dbl&gt;</th><th scope=col>⋯</th><th scope=col>&lt;dbl&gt;</th><th scope=col>&lt;dbl&gt;</th><th scope=col>&lt;dbl&gt;</th><th scope=col>&lt;dbl&gt;</th><th scope=col>&lt;dbl&gt;</th><th scope=col>&lt;dbl&gt;</th><th scope=col>&lt;dbl&gt;</th><th scope=col>&lt;dbl&gt;</th><th scope=col>&lt;dbl&gt;</th><th scope=col>&lt;dbl&gt;</th></tr>\n",
       "</thead>\n",
       "<tbody>\n",
       "\t<tr><th scope=row>1</th><td>0</td><td>0</td><td>30002</td><td>0.9789465</td><td>0.05958450</td><td>-35.48504</td><td>0.5461832</td><td>0.5529510</td><td>0.10335957</td><td>0.031291240</td><td>⋯</td><td>20</td><td> 0</td><td>38</td><td>28.00000</td><td>31.00000</td><td>34</td><td>39</td><td>56</td><td>3</td><td> 16.10785</td></tr>\n",
       "\t<tr><th scope=row>2</th><td>1</td><td>1</td><td>30004</td><td>0.9947840</td><td>0.03131009</td><td>-44.49341</td><td>0.3112003</td><td>0.2768959</td><td>0.07686605</td><td>0.194060972</td><td>⋯</td><td>25</td><td>11</td><td>38</td><td>26.18182</td><td>50.00000</td><td>50</td><td>46</td><td>56</td><td>3</td><td> 13.40826</td></tr>\n",
       "\t<tr><th scope=row>3</th><td>2</td><td>2</td><td>30005</td><td>0.9856356</td><td>0.04832041</td><td>-38.41862</td><td>0.3800630</td><td>0.3205832</td><td>0.11535284</td><td>0.249788688</td><td>⋯</td><td>20</td><td>21</td><td>51</td><td>39.00000</td><td>40.00000</td><td>43</td><td>19</td><td>41</td><td>5</td><td> 20.62867</td></tr>\n",
       "\t<tr><th scope=row>4</th><td>3</td><td>3</td><td>30006</td><td>0.9837098</td><td>0.05739903</td><td>-36.00819</td><td>0.4658866</td><td>0.4648232</td><td>0.07922090</td><td>0.009432723</td><td>⋯</td><td>25</td><td> 0</td><td>18</td><td>41.00000</td><td>31.00000</td><td>44</td><td>57</td><td>30</td><td>4</td><td>-27.57041</td></tr>\n",
       "\t<tr><th scope=row>5</th><td>4</td><td>4</td><td>30008</td><td>0.9007922</td><td>0.11023567</td><td>-26.87189</td><td>0.3854147</td><td>0.3251178</td><td>0.17258480</td><td>0.289378203</td><td>⋯</td><td>28</td><td> 4</td><td>27</td><td>46.00000</td><td>42.54545</td><td>46</td><td>50</td><td>45</td><td>5</td><td>-12.51604</td></tr>\n",
       "</tbody>\n",
       "</table>\n"
      ],
      "text/latex": [
       "A data.frame: 5 × 44\n",
       "\\begin{tabular}{r|lllllllllllllllllllll}\n",
       "  & X & index & subID & r\\_squared\\_subt & nrmse\\_subt & aic\\_subt & center & PSE\\_subt & sigma\\_subt & bias\\_xmin\\_subt & ⋯ & posAffect & negAffect & neuroticism & extraversion & openness & agreeableness & conscientiousness & loneliness & nfriends & PC1\\\\\n",
       "  & <int> & <int> & <dbl> & <dbl> & <dbl> & <dbl> & <dbl> & <dbl> & <dbl> & <dbl> & ⋯ & <dbl> & <dbl> & <dbl> & <dbl> & <dbl> & <dbl> & <dbl> & <dbl> & <dbl> & <dbl>\\\\\n",
       "\\hline\n",
       "\t1 & 0 & 0 & 30002 & 0.9789465 & 0.05958450 & -35.48504 & 0.5461832 & 0.5529510 & 0.10335957 & 0.031291240 & ⋯ & 20 &  0 & 38 & 28.00000 & 31.00000 & 34 & 39 & 56 & 3 &  16.10785\\\\\n",
       "\t2 & 1 & 1 & 30004 & 0.9947840 & 0.03131009 & -44.49341 & 0.3112003 & 0.2768959 & 0.07686605 & 0.194060972 & ⋯ & 25 & 11 & 38 & 26.18182 & 50.00000 & 50 & 46 & 56 & 3 &  13.40826\\\\\n",
       "\t3 & 2 & 2 & 30005 & 0.9856356 & 0.04832041 & -38.41862 & 0.3800630 & 0.3205832 & 0.11535284 & 0.249788688 & ⋯ & 20 & 21 & 51 & 39.00000 & 40.00000 & 43 & 19 & 41 & 5 &  20.62867\\\\\n",
       "\t4 & 3 & 3 & 30006 & 0.9837098 & 0.05739903 & -36.00819 & 0.4658866 & 0.4648232 & 0.07922090 & 0.009432723 & ⋯ & 25 &  0 & 18 & 41.00000 & 31.00000 & 44 & 57 & 30 & 4 & -27.57041\\\\\n",
       "\t5 & 4 & 4 & 30008 & 0.9007922 & 0.11023567 & -26.87189 & 0.3854147 & 0.3251178 & 0.17258480 & 0.289378203 & ⋯ & 28 &  4 & 27 & 46.00000 & 42.54545 & 46 & 50 & 45 & 5 & -12.51604\\\\\n",
       "\\end{tabular}\n"
      ],
      "text/markdown": [
       "\n",
       "A data.frame: 5 × 44\n",
       "\n",
       "| <!--/--> | X &lt;int&gt; | index &lt;int&gt; | subID &lt;dbl&gt; | r_squared_subt &lt;dbl&gt; | nrmse_subt &lt;dbl&gt; | aic_subt &lt;dbl&gt; | center &lt;dbl&gt; | PSE_subt &lt;dbl&gt; | sigma_subt &lt;dbl&gt; | bias_xmin_subt &lt;dbl&gt; | ⋯ ⋯ | posAffect &lt;dbl&gt; | negAffect &lt;dbl&gt; | neuroticism &lt;dbl&gt; | extraversion &lt;dbl&gt; | openness &lt;dbl&gt; | agreeableness &lt;dbl&gt; | conscientiousness &lt;dbl&gt; | loneliness &lt;dbl&gt; | nfriends &lt;dbl&gt; | PC1 &lt;dbl&gt; |\n",
       "|---|---|---|---|---|---|---|---|---|---|---|---|---|---|---|---|---|---|---|---|---|---|\n",
       "| 1 | 0 | 0 | 30002 | 0.9789465 | 0.05958450 | -35.48504 | 0.5461832 | 0.5529510 | 0.10335957 | 0.031291240 | ⋯ | 20 |  0 | 38 | 28.00000 | 31.00000 | 34 | 39 | 56 | 3 |  16.10785 |\n",
       "| 2 | 1 | 1 | 30004 | 0.9947840 | 0.03131009 | -44.49341 | 0.3112003 | 0.2768959 | 0.07686605 | 0.194060972 | ⋯ | 25 | 11 | 38 | 26.18182 | 50.00000 | 50 | 46 | 56 | 3 |  13.40826 |\n",
       "| 3 | 2 | 2 | 30005 | 0.9856356 | 0.04832041 | -38.41862 | 0.3800630 | 0.3205832 | 0.11535284 | 0.249788688 | ⋯ | 20 | 21 | 51 | 39.00000 | 40.00000 | 43 | 19 | 41 | 5 |  20.62867 |\n",
       "| 4 | 3 | 3 | 30006 | 0.9837098 | 0.05739903 | -36.00819 | 0.4658866 | 0.4648232 | 0.07922090 | 0.009432723 | ⋯ | 25 |  0 | 18 | 41.00000 | 31.00000 | 44 | 57 | 30 | 4 | -27.57041 |\n",
       "| 5 | 4 | 4 | 30008 | 0.9007922 | 0.11023567 | -26.87189 | 0.3854147 | 0.3251178 | 0.17258480 | 0.289378203 | ⋯ | 28 |  4 | 27 | 46.00000 | 42.54545 | 46 | 50 | 45 | 5 | -12.51604 |\n",
       "\n"
      ],
      "text/plain": [
       "  X index subID r_squared_subt nrmse_subt aic_subt  center    PSE_subt \n",
       "1 0 0     30002 0.9789465      0.05958450 -35.48504 0.5461832 0.5529510\n",
       "2 1 1     30004 0.9947840      0.03131009 -44.49341 0.3112003 0.2768959\n",
       "3 2 2     30005 0.9856356      0.04832041 -38.41862 0.3800630 0.3205832\n",
       "4 3 3     30006 0.9837098      0.05739903 -36.00819 0.4658866 0.4648232\n",
       "5 4 4     30008 0.9007922      0.11023567 -26.87189 0.3854147 0.3251178\n",
       "  sigma_subt bias_xmin_subt ⋯ posAffect negAffect neuroticism extraversion\n",
       "1 0.10335957 0.031291240    ⋯ 20         0        38          28.00000    \n",
       "2 0.07686605 0.194060972    ⋯ 25        11        38          26.18182    \n",
       "3 0.11535284 0.249788688    ⋯ 20        21        51          39.00000    \n",
       "4 0.07922090 0.009432723    ⋯ 25         0        18          41.00000    \n",
       "5 0.17258480 0.289378203    ⋯ 28         4        27          46.00000    \n",
       "  openness agreeableness conscientiousness loneliness nfriends PC1      \n",
       "1 31.00000 34            39                56         3         16.10785\n",
       "2 50.00000 50            46                56         3         13.40826\n",
       "3 40.00000 43            19                41         5         20.62867\n",
       "4 31.00000 44            57                30         4        -27.57041\n",
       "5 42.54545 46            50                45         5        -12.51604"
      ]
     },
     "metadata": {}
    }
   ],
   "metadata": {}
  },
  {
   "cell_type": "code",
   "execution_count": 10,
   "source": [
    "names(data)"
   ],
   "outputs": [
    {
     "output_type": "display_data",
     "data": {
      "text/html": [
       "<style>\n",
       ".list-inline {list-style: none; margin:0; padding: 0}\n",
       ".list-inline>li {display: inline-block}\n",
       ".list-inline>li:not(:last-child)::after {content: \"\\00b7\"; padding: 0 .5ex}\n",
       "</style>\n",
       "<ol class=list-inline><li>'X'</li><li>'index'</li><li>'subID'</li><li>'r_squared_subt'</li><li>'nrmse_subt'</li><li>'aic_subt'</li><li>'center'</li><li>'PSE_subt'</li><li>'sigma_subt'</li><li>'bias_xmin_subt'</li><li>'bias_xmax_subt'</li><li>'bias_lower_subt'</li><li>'bias_upper_subt'</li><li>'flipped_subt'</li><li>'range_subt'</li><li>'bias_subt'</li><li>'r_squared_pf'</li><li>'nrmse_pf'</li><li>'aic_pf'</li><li>'PSE_pf'</li><li>'slope_pf'</li><li>'intercept'</li><li>'bias_xmin_pf'</li><li>'bias_xmax_pf'</li><li>'bias_lower_pf'</li><li>'bias_upper_pf'</li><li>'flipped_pf'</li><li>'range_pf'</li><li>'bias_pf'</li><li>'social_skill'</li><li>'attn_switch'</li><li>'img'</li><li>'attn_to_det'</li><li>'comm'</li><li>'posAffect'</li><li>'negAffect'</li><li>'neuroticism'</li><li>'extraversion'</li><li>'openness'</li><li>'agreeableness'</li><li>'conscientiousness'</li><li>'loneliness'</li><li>'nfriends'</li><li>'PC1'</li></ol>\n"
      ],
      "text/latex": [
       "\\begin{enumerate*}\n",
       "\\item 'X'\n",
       "\\item 'index'\n",
       "\\item 'subID'\n",
       "\\item 'r\\_squared\\_subt'\n",
       "\\item 'nrmse\\_subt'\n",
       "\\item 'aic\\_subt'\n",
       "\\item 'center'\n",
       "\\item 'PSE\\_subt'\n",
       "\\item 'sigma\\_subt'\n",
       "\\item 'bias\\_xmin\\_subt'\n",
       "\\item 'bias\\_xmax\\_subt'\n",
       "\\item 'bias\\_lower\\_subt'\n",
       "\\item 'bias\\_upper\\_subt'\n",
       "\\item 'flipped\\_subt'\n",
       "\\item 'range\\_subt'\n",
       "\\item 'bias\\_subt'\n",
       "\\item 'r\\_squared\\_pf'\n",
       "\\item 'nrmse\\_pf'\n",
       "\\item 'aic\\_pf'\n",
       "\\item 'PSE\\_pf'\n",
       "\\item 'slope\\_pf'\n",
       "\\item 'intercept'\n",
       "\\item 'bias\\_xmin\\_pf'\n",
       "\\item 'bias\\_xmax\\_pf'\n",
       "\\item 'bias\\_lower\\_pf'\n",
       "\\item 'bias\\_upper\\_pf'\n",
       "\\item 'flipped\\_pf'\n",
       "\\item 'range\\_pf'\n",
       "\\item 'bias\\_pf'\n",
       "\\item 'social\\_skill'\n",
       "\\item 'attn\\_switch'\n",
       "\\item 'img'\n",
       "\\item 'attn\\_to\\_det'\n",
       "\\item 'comm'\n",
       "\\item 'posAffect'\n",
       "\\item 'negAffect'\n",
       "\\item 'neuroticism'\n",
       "\\item 'extraversion'\n",
       "\\item 'openness'\n",
       "\\item 'agreeableness'\n",
       "\\item 'conscientiousness'\n",
       "\\item 'loneliness'\n",
       "\\item 'nfriends'\n",
       "\\item 'PC1'\n",
       "\\end{enumerate*}\n"
      ],
      "text/markdown": [
       "1. 'X'\n",
       "2. 'index'\n",
       "3. 'subID'\n",
       "4. 'r_squared_subt'\n",
       "5. 'nrmse_subt'\n",
       "6. 'aic_subt'\n",
       "7. 'center'\n",
       "8. 'PSE_subt'\n",
       "9. 'sigma_subt'\n",
       "10. 'bias_xmin_subt'\n",
       "11. 'bias_xmax_subt'\n",
       "12. 'bias_lower_subt'\n",
       "13. 'bias_upper_subt'\n",
       "14. 'flipped_subt'\n",
       "15. 'range_subt'\n",
       "16. 'bias_subt'\n",
       "17. 'r_squared_pf'\n",
       "18. 'nrmse_pf'\n",
       "19. 'aic_pf'\n",
       "20. 'PSE_pf'\n",
       "21. 'slope_pf'\n",
       "22. 'intercept'\n",
       "23. 'bias_xmin_pf'\n",
       "24. 'bias_xmax_pf'\n",
       "25. 'bias_lower_pf'\n",
       "26. 'bias_upper_pf'\n",
       "27. 'flipped_pf'\n",
       "28. 'range_pf'\n",
       "29. 'bias_pf'\n",
       "30. 'social_skill'\n",
       "31. 'attn_switch'\n",
       "32. 'img'\n",
       "33. 'attn_to_det'\n",
       "34. 'comm'\n",
       "35. 'posAffect'\n",
       "36. 'negAffect'\n",
       "37. 'neuroticism'\n",
       "38. 'extraversion'\n",
       "39. 'openness'\n",
       "40. 'agreeableness'\n",
       "41. 'conscientiousness'\n",
       "42. 'loneliness'\n",
       "43. 'nfriends'\n",
       "44. 'PC1'\n",
       "\n",
       "\n"
      ],
      "text/plain": [
       " [1] \"X\"                 \"index\"             \"subID\"            \n",
       " [4] \"r_squared_subt\"    \"nrmse_subt\"        \"aic_subt\"         \n",
       " [7] \"center\"            \"PSE_subt\"          \"sigma_subt\"       \n",
       "[10] \"bias_xmin_subt\"    \"bias_xmax_subt\"    \"bias_lower_subt\"  \n",
       "[13] \"bias_upper_subt\"   \"flipped_subt\"      \"range_subt\"       \n",
       "[16] \"bias_subt\"         \"r_squared_pf\"      \"nrmse_pf\"         \n",
       "[19] \"aic_pf\"            \"PSE_pf\"            \"slope_pf\"         \n",
       "[22] \"intercept\"         \"bias_xmin_pf\"      \"bias_xmax_pf\"     \n",
       "[25] \"bias_lower_pf\"     \"bias_upper_pf\"     \"flipped_pf\"       \n",
       "[28] \"range_pf\"          \"bias_pf\"           \"social_skill\"     \n",
       "[31] \"attn_switch\"       \"img\"               \"attn_to_det\"      \n",
       "[34] \"comm\"              \"posAffect\"         \"negAffect\"        \n",
       "[37] \"neuroticism\"       \"extraversion\"      \"openness\"         \n",
       "[40] \"agreeableness\"     \"conscientiousness\" \"loneliness\"       \n",
       "[43] \"nfriends\"          \"PC1\"              "
      ]
     },
     "metadata": {}
    }
   ],
   "metadata": {}
  },
  {
   "cell_type": "code",
   "execution_count": 11,
   "source": [
    "formula <- as.formula(paste(trait,\" ~ PSE_subt + range_subt + bias_subt + sigma_subt\"))\n",
    "m1 <- lm(formula, data = data)\n",
    "summary(m1)"
   ],
   "outputs": [
    {
     "output_type": "display_data",
     "data": {
      "text/plain": [
       "\n",
       "Call:\n",
       "lm(formula = formula, data = data)\n",
       "\n",
       "Residuals:\n",
       "     Min       1Q   Median       3Q      Max \n",
       "-21.2231  -6.2263   0.8443   6.3913  18.2860 \n",
       "\n",
       "Coefficients:\n",
       "            Estimate Std. Error t value Pr(>|t|)    \n",
       "(Intercept)   38.401      3.941   9.745   <2e-16 ***\n",
       "PSE_subt      -6.094      6.239  -0.977    0.330    \n",
       "range_subt    -2.737      3.759  -0.728    0.467    \n",
       "bias_subt      2.807      3.439   0.816    0.415    \n",
       "sigma_subt     3.449     12.240   0.282    0.778    \n",
       "---\n",
       "Signif. codes:  0 ‘***’ 0.001 ‘**’ 0.01 ‘*’ 0.05 ‘.’ 0.1 ‘ ’ 1\n",
       "\n",
       "Residual standard error: 8.396 on 270 degrees of freedom\n",
       "Multiple R-squared:  0.02261,\tAdjusted R-squared:  0.008131 \n",
       "F-statistic: 1.562 on 4 and 270 DF,  p-value: 0.1848\n"
      ]
     },
     "metadata": {}
    }
   ],
   "metadata": {}
  },
  {
   "cell_type": "code",
   "execution_count": 12,
   "source": [
    "# Select specific columns (e.g., A and C) and z-score them\n",
    "df_zscore <- as.data.frame(scale(data[, c(trait,\"PSE_subt\", \"range_subt\",\"bias_subt\",\"sigma_subt\",\"PSE_pf\",\"slope_pf\",\"bias_pf\")]))\n",
    "\n",
    "# Print the new data frame with z-scored values\n",
    "head(df_zscore,5)"
   ],
   "outputs": [
    {
     "output_type": "display_data",
     "data": {
      "text/html": [
       "<table class=\"dataframe\">\n",
       "<caption>A data.frame: 5 × 8</caption>\n",
       "<thead>\n",
       "\t<tr><th></th><th scope=col>extraversion</th><th scope=col>PSE_subt</th><th scope=col>range_subt</th><th scope=col>bias_subt</th><th scope=col>sigma_subt</th><th scope=col>PSE_pf</th><th scope=col>slope_pf</th><th scope=col>bias_pf</th></tr>\n",
       "\t<tr><th></th><th scope=col>&lt;dbl&gt;</th><th scope=col>&lt;dbl&gt;</th><th scope=col>&lt;dbl&gt;</th><th scope=col>&lt;dbl&gt;</th><th scope=col>&lt;dbl&gt;</th><th scope=col>&lt;dbl&gt;</th><th scope=col>&lt;dbl&gt;</th><th scope=col>&lt;dbl&gt;</th></tr>\n",
       "</thead>\n",
       "<tbody>\n",
       "\t<tr><th scope=row>1</th><td>-1.0229873</td><td> 1.5767321</td><td> 1.14088842</td><td>-2.1658855</td><td> 0.1395287</td><td> 0.2326507</td><td> 0.7313928</td><td>-0.0852494</td></tr>\n",
       "\t<tr><th scope=row>2</th><td>-1.2386475</td><td>-0.8390867</td><td> 0.62095979</td><td> 1.3894942</td><td>-0.4557972</td><td>-2.0430898</td><td>-0.7165475</td><td> 0.9400053</td></tr>\n",
       "\t<tr><th scope=row>3</th><td> 0.2817567</td><td>-0.4567697</td><td> 0.09711613</td><td> 0.6735449</td><td> 0.4090250</td><td> 0.3044776</td><td> 0.9973410</td><td>-0.2247607</td></tr>\n",
       "\t<tr><th scope=row>4</th><td> 0.5189829</td><td> 0.8055069</td><td> 1.62571731</td><td> 0.8182752</td><td>-0.4028821</td><td>-1.2009126</td><td> 0.4588780</td><td> 1.5583760</td></tr>\n",
       "\t<tr><th scope=row>5</th><td> 1.1120484</td><td>-0.4170865</td><td>-0.60284999</td><td>-0.2050663</td><td> 1.6950628</td><td>-0.8078972</td><td>-0.5244737</td><td> 0.4165962</td></tr>\n",
       "</tbody>\n",
       "</table>\n"
      ],
      "text/latex": [
       "A data.frame: 5 × 8\n",
       "\\begin{tabular}{r|llllllll}\n",
       "  & extraversion & PSE\\_subt & range\\_subt & bias\\_subt & sigma\\_subt & PSE\\_pf & slope\\_pf & bias\\_pf\\\\\n",
       "  & <dbl> & <dbl> & <dbl> & <dbl> & <dbl> & <dbl> & <dbl> & <dbl>\\\\\n",
       "\\hline\n",
       "\t1 & -1.0229873 &  1.5767321 &  1.14088842 & -2.1658855 &  0.1395287 &  0.2326507 &  0.7313928 & -0.0852494\\\\\n",
       "\t2 & -1.2386475 & -0.8390867 &  0.62095979 &  1.3894942 & -0.4557972 & -2.0430898 & -0.7165475 &  0.9400053\\\\\n",
       "\t3 &  0.2817567 & -0.4567697 &  0.09711613 &  0.6735449 &  0.4090250 &  0.3044776 &  0.9973410 & -0.2247607\\\\\n",
       "\t4 &  0.5189829 &  0.8055069 &  1.62571731 &  0.8182752 & -0.4028821 & -1.2009126 &  0.4588780 &  1.5583760\\\\\n",
       "\t5 &  1.1120484 & -0.4170865 & -0.60284999 & -0.2050663 &  1.6950628 & -0.8078972 & -0.5244737 &  0.4165962\\\\\n",
       "\\end{tabular}\n"
      ],
      "text/markdown": [
       "\n",
       "A data.frame: 5 × 8\n",
       "\n",
       "| <!--/--> | extraversion &lt;dbl&gt; | PSE_subt &lt;dbl&gt; | range_subt &lt;dbl&gt; | bias_subt &lt;dbl&gt; | sigma_subt &lt;dbl&gt; | PSE_pf &lt;dbl&gt; | slope_pf &lt;dbl&gt; | bias_pf &lt;dbl&gt; |\n",
       "|---|---|---|---|---|---|---|---|---|\n",
       "| 1 | -1.0229873 |  1.5767321 |  1.14088842 | -2.1658855 |  0.1395287 |  0.2326507 |  0.7313928 | -0.0852494 |\n",
       "| 2 | -1.2386475 | -0.8390867 |  0.62095979 |  1.3894942 | -0.4557972 | -2.0430898 | -0.7165475 |  0.9400053 |\n",
       "| 3 |  0.2817567 | -0.4567697 |  0.09711613 |  0.6735449 |  0.4090250 |  0.3044776 |  0.9973410 | -0.2247607 |\n",
       "| 4 |  0.5189829 |  0.8055069 |  1.62571731 |  0.8182752 | -0.4028821 | -1.2009126 |  0.4588780 |  1.5583760 |\n",
       "| 5 |  1.1120484 | -0.4170865 | -0.60284999 | -0.2050663 |  1.6950628 | -0.8078972 | -0.5244737 |  0.4165962 |\n",
       "\n"
      ],
      "text/plain": [
       "  extraversion PSE_subt   range_subt  bias_subt  sigma_subt PSE_pf    \n",
       "1 -1.0229873    1.5767321  1.14088842 -2.1658855  0.1395287  0.2326507\n",
       "2 -1.2386475   -0.8390867  0.62095979  1.3894942 -0.4557972 -2.0430898\n",
       "3  0.2817567   -0.4567697  0.09711613  0.6735449  0.4090250  0.3044776\n",
       "4  0.5189829    0.8055069  1.62571731  0.8182752 -0.4028821 -1.2009126\n",
       "5  1.1120484   -0.4170865 -0.60284999 -0.2050663  1.6950628 -0.8078972\n",
       "  slope_pf   bias_pf   \n",
       "1  0.7313928 -0.0852494\n",
       "2 -0.7165475  0.9400053\n",
       "3  0.9973410 -0.2247607\n",
       "4  0.4588780  1.5583760\n",
       "5 -0.5244737  0.4165962"
      ]
     },
     "metadata": {}
    }
   ],
   "metadata": {}
  },
  {
   "cell_type": "code",
   "execution_count": 13,
   "source": [
    "formula <- as.formula(paste(trait,\" ~ PSE_subt + range_subt + bias_subt + sigma_subt\"))\n",
    "m1z <- lm(formula, data = df_zscore)\n",
    "summary(m1z)"
   ],
   "outputs": [
    {
     "output_type": "display_data",
     "data": {
      "text/plain": [
       "\n",
       "Call:\n",
       "lm(formula = formula, data = df_zscore)\n",
       "\n",
       "Residuals:\n",
       "    Min      1Q  Median      3Q     Max \n",
       "-2.5173 -0.7385  0.1001  0.7581  2.1690 \n",
       "\n",
       "Coefficients:\n",
       "              Estimate Std. Error t value Pr(>|t|)\n",
       "(Intercept) -1.226e-16  6.006e-02   0.000    1.000\n",
       "PSE_subt    -8.260e-02  8.456e-02  -0.977    0.330\n",
       "range_subt  -5.931e-02  8.145e-02  -0.728    0.467\n",
       "bias_subt    6.405e-02  7.846e-02   0.816    0.415\n",
       "sigma_subt   1.821e-02  6.461e-02   0.282    0.778\n",
       "\n",
       "Residual standard error: 0.9959 on 270 degrees of freedom\n",
       "Multiple R-squared:  0.02261,\tAdjusted R-squared:  0.008131 \n",
       "F-statistic: 1.562 on 4 and 270 DF,  p-value: 0.1848\n"
      ]
     },
     "metadata": {}
    }
   ],
   "metadata": {}
  },
  {
   "cell_type": "code",
   "execution_count": 14,
   "source": [
    "formula <- as.formula(paste(trait,\" ~ PSE_subt*range_subt + PSE_subt*bias_subt + PSE_subt*sigma_subt + range_subt*bias_subt + range_subt*sigma_subt + bias_subt*sigma_subt\"))\n",
    "m1a <- lm(formula, data = data)\n",
    "summary(m1a)"
   ],
   "outputs": [
    {
     "output_type": "display_data",
     "data": {
      "text/plain": [
       "\n",
       "Call:\n",
       "lm(formula = formula, data = data)\n",
       "\n",
       "Residuals:\n",
       "     Min       1Q   Median       3Q      Max \n",
       "-21.3467  -5.4122   0.3893   6.4445  18.6502 \n",
       "\n",
       "Coefficients:\n",
       "                      Estimate Std. Error t value Pr(>|t|)    \n",
       "(Intercept)             82.237     21.698   3.790 0.000187 ***\n",
       "PSE_subt               -69.568     33.794  -2.059 0.040516 *  \n",
       "range_subt             -45.700     23.734  -1.925 0.055242 .  \n",
       "bias_subt              -34.657     21.820  -1.588 0.113408    \n",
       "sigma_subt             -63.566     88.784  -0.716 0.474646    \n",
       "PSE_subt:range_subt     50.617     29.497   1.716 0.087338 .  \n",
       "PSE_subt:bias_subt      17.013     26.382   0.645 0.519563    \n",
       "PSE_subt:sigma_subt    142.519     93.556   1.523 0.128867    \n",
       "range_subt:bias_subt    36.519     21.499   1.699 0.090562 .  \n",
       "range_subt:sigma_subt    2.375     56.850   0.042 0.966702    \n",
       "bias_subt:sigma_subt    20.926     96.236   0.217 0.828033    \n",
       "---\n",
       "Signif. codes:  0 ‘***’ 0.001 ‘**’ 0.01 ‘*’ 0.05 ‘.’ 0.1 ‘ ’ 1\n",
       "\n",
       "Residual standard error: 8.384 on 264 degrees of freedom\n",
       "Multiple R-squared:  0.04709,\tAdjusted R-squared:  0.011 \n",
       "F-statistic: 1.305 on 10 and 264 DF,  p-value: 0.2278\n"
      ]
     },
     "metadata": {}
    }
   ],
   "metadata": {}
  },
  {
   "cell_type": "code",
   "execution_count": 15,
   "source": [
    "formula <- as.formula(paste(trait,\" ~ PSE_subt*range_subt + PSE_subt*bias_subt + PSE_subt*sigma_subt + range_subt*bias_subt + range_subt*sigma_subt + bias_subt*sigma_subt\"))\n",
    "m1az <- lm(formula, data = df_zscore)\n",
    "summary(m1az)"
   ],
   "outputs": [
    {
     "output_type": "display_data",
     "data": {
      "text/plain": [
       "\n",
       "Call:\n",
       "lm(formula = formula, data = df_zscore)\n",
       "\n",
       "Residuals:\n",
       "     Min       1Q   Median       3Q      Max \n",
       "-2.53200 -0.64196  0.04618  0.76441  2.21216 \n",
       "\n",
       "Coefficients:\n",
       "                       Estimate Std. Error t value Pr(>|t|)  \n",
       "(Intercept)           -0.057369   0.078422  -0.732   0.4651  \n",
       "PSE_subt              -0.111408   0.117963  -0.944   0.3458  \n",
       "range_subt             0.002967   0.089828   0.033   0.9737  \n",
       "bias_subt             -0.022749   0.096980  -0.235   0.8147  \n",
       "sigma_subt             0.034456   0.077353   0.445   0.6564  \n",
       "PSE_subt:range_subt    0.125338   0.073041   1.716   0.0873 .\n",
       "PSE_subt:bias_subt     0.044360   0.068788   0.645   0.5196  \n",
       "PSE_subt:sigma_subt    0.085965   0.056431   1.523   0.1289  \n",
       "range_subt:bias_subt   0.152235   0.089621   1.699   0.0906 .\n",
       "range_subt:sigma_subt  0.002291   0.054824   0.042   0.9667  \n",
       "bias_subt:sigma_subt   0.021249   0.097723   0.217   0.8280  \n",
       "---\n",
       "Signif. codes:  0 ‘***’ 0.001 ‘**’ 0.01 ‘*’ 0.05 ‘.’ 0.1 ‘ ’ 1\n",
       "\n",
       "Residual standard error: 0.9945 on 264 degrees of freedom\n",
       "Multiple R-squared:  0.04709,\tAdjusted R-squared:  0.011 \n",
       "F-statistic: 1.305 on 10 and 264 DF,  p-value: 0.2278\n"
      ]
     },
     "metadata": {}
    }
   ],
   "metadata": {}
  },
  {
   "cell_type": "code",
   "execution_count": 16,
   "source": [
    "formula <- as.formula(paste(trait,\" ~ PSE_pf + slope_pf + bias_pf\"))\n",
    "m2 <- lm(formula, data = data)\n",
    "summary(m2)"
   ],
   "outputs": [
    {
     "output_type": "display_data",
     "data": {
      "text/plain": [
       "\n",
       "Call:\n",
       "lm(formula = formula, data = data)\n",
       "\n",
       "Residuals:\n",
       "     Min       1Q   Median       3Q      Max \n",
       "-24.8870  -6.3115   0.8809   6.5043  18.2124 \n",
       "\n",
       "Coefficients:\n",
       "            Estimate Std. Error t value Pr(>|t|)    \n",
       "(Intercept)  34.3195     3.2234  10.647   <2e-16 ***\n",
       "PSE_pf        0.6151     4.7097   0.131    0.896    \n",
       "slope_pf      2.3851     2.5128   0.949    0.343    \n",
       "bias_pf       0.9408     2.6669   0.353    0.725    \n",
       "---\n",
       "Signif. codes:  0 ‘***’ 0.001 ‘**’ 0.01 ‘*’ 0.05 ‘.’ 0.1 ‘ ’ 1\n",
       "\n",
       "Residual standard error: 8.456 on 271 degrees of freedom\n",
       "Multiple R-squared:  0.004994,\tAdjusted R-squared:  -0.00602 \n",
       "F-statistic: 0.4534 on 3 and 271 DF,  p-value: 0.7151\n"
      ]
     },
     "metadata": {}
    }
   ],
   "metadata": {}
  },
  {
   "cell_type": "code",
   "execution_count": 17,
   "source": [
    "formula <- as.formula(paste(trait,\" ~ PSE_pf + slope_pf + bias_pf\"))\n",
    "m2z <- lm(formula, data = df_zscore)\n",
    "summary(m2z)"
   ],
   "outputs": [
    {
     "output_type": "display_data",
     "data": {
      "text/plain": [
       "\n",
       "Call:\n",
       "lm(formula = formula, data = df_zscore)\n",
       "\n",
       "Residuals:\n",
       "    Min      1Q  Median      3Q     Max \n",
       "-2.9519 -0.7486  0.1045  0.7715  2.1602 \n",
       "\n",
       "Coefficients:\n",
       "              Estimate Std. Error t value Pr(>|t|)\n",
       "(Intercept) -1.494e-16  6.048e-02   0.000    1.000\n",
       "PSE_pf       1.154e-02  8.833e-02   0.131    0.896\n",
       "slope_pf     6.154e-02  6.484e-02   0.949    0.343\n",
       "bias_pf      3.073e-02  8.710e-02   0.353    0.725\n",
       "\n",
       "Residual standard error: 1.003 on 271 degrees of freedom\n",
       "Multiple R-squared:  0.004994,\tAdjusted R-squared:  -0.00602 \n",
       "F-statistic: 0.4534 on 3 and 271 DF,  p-value: 0.7151\n"
      ]
     },
     "metadata": {}
    }
   ],
   "metadata": {}
  },
  {
   "cell_type": "code",
   "execution_count": 18,
   "source": [
    "formula <- as.formula(paste(trait,\" ~ PSE_pf*slope_pf + PSE_pf*bias_pf + slope_pf*bias_pf\"))\n",
    "m2a <- lm(formula, data = data)\n",
    "summary(m2a)"
   ],
   "outputs": [
    {
     "output_type": "display_data",
     "data": {
      "text/plain": [
       "\n",
       "Call:\n",
       "lm(formula = formula, data = data)\n",
       "\n",
       "Residuals:\n",
       "     Min       1Q   Median       3Q      Max \n",
       "-24.0978  -6.2733   0.9699   6.5182  17.8454 \n",
       "\n",
       "Coefficients:\n",
       "                 Estimate Std. Error t value Pr(>|t|)  \n",
       "(Intercept)        29.665     11.826   2.509   0.0127 *\n",
       "PSE_pf              2.371     11.403   0.208   0.8354  \n",
       "slope_pf           11.240     13.179   0.853   0.3945  \n",
       "bias_pf             5.197     16.213   0.321   0.7488  \n",
       "PSE_pf:slope_pf    -8.034     20.221  -0.397   0.6915  \n",
       "PSE_pf:bias_pf      7.870     12.814   0.614   0.5397  \n",
       "slope_pf:bias_pf   -9.875     16.987  -0.581   0.5615  \n",
       "---\n",
       "Signif. codes:  0 ‘***’ 0.001 ‘**’ 0.01 ‘*’ 0.05 ‘.’ 0.1 ‘ ’ 1\n",
       "\n",
       "Residual standard error: 8.491 on 268 degrees of freedom\n",
       "Multiple R-squared:  0.007978,\tAdjusted R-squared:  -0.01423 \n",
       "F-statistic: 0.3592 on 6 and 268 DF,  p-value: 0.9042\n"
      ]
     },
     "metadata": {}
    }
   ],
   "metadata": {}
  },
  {
   "cell_type": "code",
   "execution_count": 19,
   "source": [
    "formula <- as.formula(paste(trait,\" ~ PSE_pf*slope_pf + PSE_pf*bias_pf + slope_pf*bias_pf\"))\n",
    "m2az <- lm(formula, data = df_zscore)\n",
    "summary(m2az)"
   ],
   "outputs": [
    {
     "output_type": "display_data",
     "data": {
      "text/plain": [
       "\n",
       "Call:\n",
       "lm(formula = formula, data = df_zscore)\n",
       "\n",
       "Residuals:\n",
       "    Min      1Q  Median      3Q     Max \n",
       "-2.8583 -0.7441  0.1150  0.7732  2.1167 \n",
       "\n",
       "Coefficients:\n",
       "                 Estimate Std. Error t value Pr(>|t|)\n",
       "(Intercept)       0.04018    0.07833   0.513    0.608\n",
       "PSE_pf            0.03454    0.20467   0.169    0.866\n",
       "slope_pf          0.05123    0.06810   0.752    0.453\n",
       "bias_pf           0.08382    0.20538   0.408    0.684\n",
       "PSE_pf:slope_pf  -0.03278    0.08251  -0.397    0.691\n",
       "PSE_pf:bias_pf    0.04064    0.06617   0.614    0.540\n",
       "slope_pf:bias_pf -0.07016    0.12068  -0.581    0.562\n",
       "\n",
       "Residual standard error: 1.007 on 268 degrees of freedom\n",
       "Multiple R-squared:  0.007978,\tAdjusted R-squared:  -0.01423 \n",
       "F-statistic: 0.3592 on 6 and 268 DF,  p-value: 0.9042\n"
      ]
     },
     "metadata": {}
    }
   ],
   "metadata": {}
  },
  {
   "cell_type": "code",
   "execution_count": 20,
   "source": [
    "formula <- as.formula(paste(trait,\" ~ PSE_subt + range_subt + bias_subt + sigma_subt + PSE_pf + slope_pf + bias_pf\"))\n",
    "m3 <- lm(formula, data = data)\n",
    "summary(m3)"
   ],
   "outputs": [
    {
     "output_type": "display_data",
     "data": {
      "text/plain": [
       "\n",
       "Call:\n",
       "lm(formula = formula, data = data)\n",
       "\n",
       "Residuals:\n",
       "     Min       1Q   Median       3Q      Max \n",
       "-22.1536  -5.8559   0.8978   6.1946  19.5109 \n",
       "\n",
       "Coefficients:\n",
       "            Estimate Std. Error t value Pr(>|t|)    \n",
       "(Intercept)  37.7427     4.8447   7.791 1.49e-13 ***\n",
       "PSE_subt     -6.6842     6.2608  -1.068    0.287    \n",
       "range_subt   -4.3655     3.9363  -1.109    0.268    \n",
       "bias_subt     1.4157     3.5945   0.394    0.694    \n",
       "sigma_subt    4.3746    12.2863   0.356    0.722    \n",
       "PSE_pf       -0.3521     4.6986  -0.075    0.940    \n",
       "slope_pf      3.9770     2.9153   1.364    0.174    \n",
       "bias_pf       1.0631     2.6583   0.400    0.690    \n",
       "---\n",
       "Signif. codes:  0 ‘***’ 0.001 ‘**’ 0.01 ‘*’ 0.05 ‘.’ 0.1 ‘ ’ 1\n",
       "\n",
       "Residual standard error: 8.403 on 267 degrees of freedom\n",
       "Multiple R-squared:  0.03206,\tAdjusted R-squared:  0.00668 \n",
       "F-statistic: 1.263 on 7 and 267 DF,  p-value: 0.2688\n"
      ]
     },
     "metadata": {}
    }
   ],
   "metadata": {}
  },
  {
   "cell_type": "code",
   "execution_count": 21,
   "source": [
    "formula <- as.formula(paste(trait,\" ~ PSE_subt + range_subt + bias_subt + sigma_subt + PSE_pf + slope_pf + bias_pf\"))\n",
    "m3z <- lm(formula, data = df_zscore)\n",
    "summary(m3z)"
   ],
   "outputs": [
    {
     "output_type": "display_data",
     "data": {
      "text/plain": [
       "\n",
       "Call:\n",
       "lm(formula = formula, data = df_zscore)\n",
       "\n",
       "Residuals:\n",
       "    Min      1Q  Median      3Q     Max \n",
       "-2.6277 -0.6946  0.1065  0.7348  2.3142 \n",
       "\n",
       "Coefficients:\n",
       "              Estimate Std. Error t value Pr(>|t|)\n",
       "(Intercept) -1.157e-16  6.010e-02   0.000    1.000\n",
       "PSE_subt    -9.060e-02  8.486e-02  -1.068    0.287\n",
       "range_subt  -9.460e-02  8.530e-02  -1.109    0.268\n",
       "bias_subt    3.230e-02  8.202e-02   0.394    0.694\n",
       "sigma_subt   2.309e-02  6.485e-02   0.356    0.722\n",
       "PSE_pf      -6.604e-03  8.813e-02  -0.075    0.940\n",
       "slope_pf     1.026e-01  7.523e-02   1.364    0.174\n",
       "bias_pf      3.472e-02  8.681e-02   0.400    0.690\n",
       "\n",
       "Residual standard error: 0.9967 on 267 degrees of freedom\n",
       "Multiple R-squared:  0.03206,\tAdjusted R-squared:  0.00668 \n",
       "F-statistic: 1.263 on 7 and 267 DF,  p-value: 0.2688\n"
      ]
     },
     "metadata": {}
    }
   ],
   "metadata": {}
  },
  {
   "cell_type": "code",
   "execution_count": 22,
   "source": [
    "formula <- as.formula(paste(trait,\" ~ PSE_subt*range_subt + PSE_subt*bias_subt + PSE_subt*sigma_subt + range_subt*bias_subt + range_subt*sigma_subt + bias_subt*sigma_subt + PSE_pf*slope_pf + PSE_pf*bias_pf + slope_pf*bias_pf\"))\n",
    "m3a <- lm(formula, data = data)\n",
    "summary(m3a)"
   ],
   "outputs": [
    {
     "output_type": "display_data",
     "data": {
      "text/plain": [
       "\n",
       "Call:\n",
       "lm(formula = formula, data = data)\n",
       "\n",
       "Residuals:\n",
       "    Min      1Q  Median      3Q     Max \n",
       "-19.995  -5.651   0.464   6.483  17.755 \n",
       "\n",
       "Coefficients:\n",
       "                      Estimate Std. Error t value Pr(>|t|)   \n",
       "(Intercept)            80.6910    25.3132   3.188  0.00161 **\n",
       "PSE_subt              -69.4896    34.0243  -2.042  0.04213 * \n",
       "range_subt            -50.5490    24.0812  -2.099  0.03678 * \n",
       "bias_subt             -39.8261    22.4305  -1.776  0.07699 . \n",
       "sigma_subt            -69.1566    90.9608  -0.760  0.44777   \n",
       "PSE_pf                 -0.2782    11.5118  -0.024  0.98074   \n",
       "slope_pf               12.6538    13.2182   0.957  0.33931   \n",
       "bias_pf                 3.3465    16.4108   0.204  0.83858   \n",
       "PSE_subt:range_subt    49.6087    29.6698   1.672  0.09573 . \n",
       "PSE_subt:bias_subt     13.3095    26.9341   0.494  0.62162   \n",
       "PSE_subt:sigma_subt   147.8409    95.3951   1.550  0.12242   \n",
       "range_subt:bias_subt   43.0841    22.0785   1.951  0.05209 . \n",
       "range_subt:sigma_subt   1.1936    57.3321   0.021  0.98341   \n",
       "bias_subt:sigma_subt   24.8312    98.1523   0.253  0.80048   \n",
       "PSE_pf:slope_pf        -8.5367    20.2096  -0.422  0.67308   \n",
       "PSE_pf:bias_pf         13.2334    13.8718   0.954  0.34099   \n",
       "slope_pf:bias_pf       -9.8551    17.1111  -0.576  0.56515   \n",
       "---\n",
       "Signif. codes:  0 ‘***’ 0.001 ‘**’ 0.01 ‘*’ 0.05 ‘.’ 0.1 ‘ ’ 1\n",
       "\n",
       "Residual standard error: 8.41 on 258 degrees of freedom\n",
       "Multiple R-squared:  0.06303,\tAdjusted R-squared:  0.004925 \n",
       "F-statistic: 1.085 on 16 and 258 DF,  p-value: 0.3697\n"
      ]
     },
     "metadata": {}
    }
   ],
   "metadata": {}
  },
  {
   "cell_type": "code",
   "execution_count": 23,
   "source": [
    "formula <- as.formula(paste(trait,\" ~ PSE_subt*range_subt + PSE_subt*bias_subt + PSE_subt*sigma_subt + range_subt*bias_subt + range_subt*sigma_subt + bias_subt*sigma_subt + PSE_pf*slope_pf + PSE_pf*bias_pf + slope_pf*bias_pf\"))\n",
    "m3az <- lm(formula, data = df_zscore)\n",
    "summary(m3az)"
   ],
   "outputs": [
    {
     "output_type": "display_data",
     "data": {
      "text/plain": [
       "\n",
       "Call:\n",
       "lm(formula = formula, data = df_zscore)\n",
       "\n",
       "Residuals:\n",
       "     Min       1Q   Median       3Q      Max \n",
       "-2.37165 -0.67027  0.05504  0.76895  2.10600 \n",
       "\n",
       "Coefficients:\n",
       "                       Estimate Std. Error t value Pr(>|t|)  \n",
       "(Intercept)           -0.007009   0.091051  -0.077   0.9387  \n",
       "PSE_subt              -0.149550   0.120191  -1.244   0.2145  \n",
       "range_subt            -0.008572   0.094801  -0.090   0.9280  \n",
       "bias_subt             -0.059813   0.103594  -0.577   0.5642  \n",
       "sigma_subt             0.026193   0.079129   0.331   0.7409  \n",
       "PSE_pf                 0.036392   0.205003   0.178   0.8592  \n",
       "slope_pf               0.082170   0.080084   1.026   0.3058  \n",
       "bias_pf                0.102624   0.204846   0.501   0.6168  \n",
       "PSE_subt:range_subt    0.122841   0.073469   1.672   0.0957 .\n",
       "PSE_subt:bias_subt     0.034703   0.070228   0.494   0.6216  \n",
       "PSE_subt:sigma_subt    0.089175   0.057541   1.550   0.1224  \n",
       "range_subt:bias_subt   0.179603   0.092038   1.951   0.0521 .\n",
       "range_subt:sigma_subt  0.001151   0.055289   0.021   0.9834  \n",
       "bias_subt:sigma_subt   0.025215   0.099669   0.253   0.8005  \n",
       "PSE_pf:slope_pf       -0.034833   0.082462  -0.422   0.6731  \n",
       "PSE_pf:bias_pf         0.068338   0.071634   0.954   0.3410  \n",
       "slope_pf:bias_pf      -0.070018   0.121569  -0.576   0.5652  \n",
       "---\n",
       "Signif. codes:  0 ‘***’ 0.001 ‘**’ 0.01 ‘*’ 0.05 ‘.’ 0.1 ‘ ’ 1\n",
       "\n",
       "Residual standard error: 0.9975 on 258 degrees of freedom\n",
       "Multiple R-squared:  0.06303,\tAdjusted R-squared:  0.004925 \n",
       "F-statistic: 1.085 on 16 and 258 DF,  p-value: 0.3697\n"
      ]
     },
     "metadata": {}
    }
   ],
   "metadata": {}
  },
  {
   "cell_type": "code",
   "execution_count": 24,
   "source": [
    "formula <- as.formula(paste(trait,\" ~ PSE_subt*PSE_pf + PSE_subt*slope_pf + PSE_subt*bias_pf + range_subt*PSE_pf + range_subt*slope_pf + range_subt*bias_pf + bias_subt*PSE_pf + bias_subt*slope_pf + bias_subt*bias_pf +  sigma_subt*PSE_pf + sigma_subt*slope_pf + sigma_subt*bias_pf\"))\n",
    "m3b <- lm(formula, data = data)\n",
    "summary(m3b)"
   ],
   "outputs": [
    {
     "output_type": "display_data",
     "data": {
      "text/plain": [
       "\n",
       "Call:\n",
       "lm(formula = formula, data = data)\n",
       "\n",
       "Residuals:\n",
       "    Min      1Q  Median      3Q     Max \n",
       "-19.857  -5.582   1.145   5.907  20.558 \n",
       "\n",
       "Coefficients:\n",
       "                    Estimate Std. Error t value Pr(>|t|)  \n",
       "(Intercept)           73.026     31.571   2.313   0.0215 *\n",
       "PSE_subt             -33.321     46.702  -0.713   0.4762  \n",
       "PSE_pf               -11.770     43.052  -0.273   0.7848  \n",
       "slope_pf              -8.173     24.399  -0.335   0.7379  \n",
       "bias_pf              -39.222     28.257  -1.388   0.1663  \n",
       "range_subt           -11.845     24.273  -0.488   0.6260  \n",
       "bias_subt             -4.236     23.611  -0.179   0.8578  \n",
       "sigma_subt          -149.220     97.870  -1.525   0.1286  \n",
       "PSE_subt:PSE_pf       22.308     69.221   0.322   0.7475  \n",
       "PSE_subt:slope_pf    -27.210     35.096  -0.775   0.4389  \n",
       "PSE_subt:bias_pf      54.204     41.780   1.297   0.1957  \n",
       "PSE_pf:range_subt     -6.613     37.354  -0.177   0.8596  \n",
       "slope_pf:range_subt   31.085     19.050   1.632   0.1040  \n",
       "bias_pf:range_subt   -10.673     23.880  -0.447   0.6553  \n",
       "PSE_pf:bias_subt     -17.452     37.540  -0.465   0.6424  \n",
       "slope_pf:bias_subt    -1.858     18.260  -0.102   0.9190  \n",
       "bias_pf:bias_subt     23.180     20.277   1.143   0.2540  \n",
       "PSE_pf:sigma_subt    203.821    142.155   1.434   0.1529  \n",
       "slope_pf:sigma_subt   15.804     68.450   0.231   0.8176  \n",
       "bias_pf:sigma_subt    93.104     80.554   1.156   0.2488  \n",
       "---\n",
       "Signif. codes:  0 ‘***’ 0.001 ‘**’ 0.01 ‘*’ 0.05 ‘.’ 0.1 ‘ ’ 1\n",
       "\n",
       "Residual standard error: 8.401 on 255 degrees of freedom\n",
       "Multiple R-squared:  0.07599,\tAdjusted R-squared:  0.007144 \n",
       "F-statistic: 1.104 on 19 and 255 DF,  p-value: 0.347\n"
      ]
     },
     "metadata": {}
    }
   ],
   "metadata": {}
  },
  {
   "cell_type": "code",
   "execution_count": 25,
   "source": [
    "formula <- as.formula(paste(trait,\" ~ PSE_subt*PSE_pf + PSE_subt*slope_pf + PSE_subt*bias_pf + range_subt*PSE_pf + range_subt*slope_pf + range_subt*bias_pf + bias_subt*PSE_pf + bias_subt*slope_pf + bias_subt*bias_pf +  sigma_subt*PSE_pf + sigma_subt*slope_pf + sigma_subt*bias_pf\"))\n",
    "m3bz <- lm(formula, data = df_zscore)\n",
    "summary(m3bz)"
   ],
   "outputs": [
    {
     "output_type": "display_data",
     "data": {
      "text/plain": [
       "\n",
       "Call:\n",
       "lm(formula = formula, data = df_zscore)\n",
       "\n",
       "Residuals:\n",
       "    Min      1Q  Median      3Q     Max \n",
       "-2.3553 -0.6621  0.1358  0.7006  2.4384 \n",
       "\n",
       "Coefficients:\n",
       "                      Estimate Std. Error t value Pr(>|t|)\n",
       "(Intercept)         -0.0452402  0.0691177  -0.655    0.513\n",
       "PSE_subt            -0.1266353  0.0916008  -1.382    0.168\n",
       "PSE_pf              -0.0189135  0.1055952  -0.179    0.858\n",
       "slope_pf             0.0872627  0.0808339   1.080    0.281\n",
       "bias_pf             -0.0127248  0.1299105  -0.098    0.922\n",
       "range_subt          -0.0321013  0.0910482  -0.353    0.725\n",
       "bias_subt           -0.0004371  0.0857407  -0.005    0.996\n",
       "sigma_subt           0.0293922  0.0700629   0.420    0.675\n",
       "PSE_subt:PSE_pf      0.0478118  0.1483561   0.322    0.748\n",
       "PSE_subt:slope_pf   -0.0802314  0.1034872  -0.775    0.439\n",
       "PSE_subt:bias_pf     0.2022765  0.1559136   1.297    0.196\n",
       "PSE_pf:range_subt   -0.0226581  0.1279941  -0.177    0.860\n",
       "slope_pf:range_subt  0.1465427  0.0898070   1.632    0.104\n",
       "bias_pf:range_subt  -0.0636769  0.1424749  -0.447    0.655\n",
       "PSE_pf:bias_subt    -0.0629670  0.1354463  -0.465    0.642\n",
       "slope_pf:bias_subt  -0.0092232  0.0906440  -0.102    0.919\n",
       "bias_pf:bias_subt    0.1456237  0.1273858   1.143    0.254\n",
       "PSE_pf:sigma_subt    0.1701256  0.1186543   1.434    0.153\n",
       "slope_pf:sigma_subt  0.0181483  0.0786051   0.231    0.818\n",
       "bias_pf:sigma_subt   0.1353127  0.1170733   1.156    0.249\n",
       "\n",
       "Residual standard error: 0.9964 on 255 degrees of freedom\n",
       "Multiple R-squared:  0.07599,\tAdjusted R-squared:  0.007144 \n",
       "F-statistic: 1.104 on 19 and 255 DF,  p-value: 0.347\n"
      ]
     },
     "metadata": {}
    }
   ],
   "metadata": {}
  },
  {
   "cell_type": "code",
   "execution_count": 26,
   "source": [
    "formula <- as.formula(paste(trait,\" ~ PSE_subt*range_subt + PSE_subt*bias_subt + PSE_subt*sigma_subt + range_subt*bias_subt + range_subt*sigma_subt + bias_subt*sigma_subt + PSE_pf*slope_pf + PSE_pf*bias_pf + slope_pf*bias_pf + PSE_subt*PSE_pf + PSE_subt*slope_pf + PSE_subt*bias_pf + range_subt*PSE_pf + range_subt*slope_pf + range_subt*bias_pf + bias_subt*PSE_pf + bias_subt*slope_pf + bias_subt*bias_pf +  sigma_subt*PSE_pf + sigma_subt*slope_pf + sigma_subt*bias_pf + PSE_subt*PSE_pf + PSE_subt*slope_pf + PSE_subt*bias_pf + range_subt*PSE_pf + range_subt*slope_pf + range_subt*bias_pf + bias_subt*PSE_pf + bias_subt*slope_pf + bias_subt*bias_pf +  sigma_subt*PSE_pf + sigma_subt*slope_pf + sigma_subt*bias_pf\"))\n",
    "m3c <- lm(formula, data = data)\n",
    "summary(m3c)"
   ],
   "outputs": [
    {
     "output_type": "display_data",
     "data": {
      "text/plain": [
       "\n",
       "Call:\n",
       "lm(formula = formula, data = data)\n",
       "\n",
       "Residuals:\n",
       "    Min      1Q  Median      3Q     Max \n",
       "-19.509  -5.603   0.111   6.018  18.720 \n",
       "\n",
       "Coefficients:\n",
       "                      Estimate Std. Error t value Pr(>|t|)   \n",
       "(Intercept)            103.337     39.580   2.611  0.00959 **\n",
       "PSE_subt               -82.863     57.420  -1.443  0.15026   \n",
       "range_subt             -62.211     36.411  -1.709  0.08879 . \n",
       "bias_subt              -32.636     35.225  -0.926  0.35509   \n",
       "sigma_subt            -185.340    133.669  -1.387  0.16683   \n",
       "PSE_pf                 -11.938     46.164  -0.259  0.79616   \n",
       "slope_pf                17.705     33.725   0.525  0.60008   \n",
       "bias_pf                -36.875     32.842  -1.123  0.26262   \n",
       "PSE_subt:range_subt     52.259     33.117   1.578  0.11585   \n",
       "PSE_subt:bias_subt      21.106     29.217   0.722  0.47076   \n",
       "PSE_subt:sigma_subt    121.244    101.734   1.192  0.23450   \n",
       "range_subt:bias_subt    31.953     26.074   1.225  0.22158   \n",
       "range_subt:sigma_subt   28.405     69.277   0.410  0.68215   \n",
       "bias_subt:sigma_subt   -15.137    110.748  -0.137  0.89140   \n",
       "PSE_pf:slope_pf        -15.199     23.137  -0.657  0.51186   \n",
       "PSE_pf:bias_pf          10.739     14.616   0.735  0.46320   \n",
       "slope_pf:bias_pf       -13.844     21.765  -0.636  0.52533   \n",
       "PSE_subt:PSE_pf          5.497     72.382   0.076  0.93953   \n",
       "PSE_subt:slope_pf      -35.117     39.625  -0.886  0.37636   \n",
       "PSE_subt:bias_pf        49.211     43.229   1.138  0.25606   \n",
       "range_subt:PSE_pf        7.591     40.746   0.186  0.85236   \n",
       "range_subt:slope_pf     24.600     20.572   1.196  0.23292   \n",
       "range_subt:bias_pf      -1.285     26.500  -0.049  0.96135   \n",
       "bias_subt:PSE_pf       -17.607     38.733  -0.455  0.64982   \n",
       "bias_subt:slope_pf      -6.291     20.176  -0.312  0.75544   \n",
       "bias_subt:bias_pf       22.476     20.711   1.085  0.27889   \n",
       "sigma_subt:PSE_pf      207.931    151.339   1.374  0.17071   \n",
       "sigma_subt:slope_pf      4.320     91.478   0.047  0.96237   \n",
       "sigma_subt:bias_pf      77.974     83.308   0.936  0.35021   \n",
       "---\n",
       "Signif. codes:  0 ‘***’ 0.001 ‘**’ 0.01 ‘*’ 0.05 ‘.’ 0.1 ‘ ’ 1\n",
       "\n",
       "Residual standard error: 8.438 on 246 degrees of freedom\n",
       "Multiple R-squared:  0.1007,\tAdjusted R-squared:  -0.001625 \n",
       "F-statistic: 0.9841 on 28 and 246 DF,  p-value: 0.4926\n"
      ]
     },
     "metadata": {}
    }
   ],
   "metadata": {}
  },
  {
   "cell_type": "code",
   "execution_count": 27,
   "source": [
    "formula <- as.formula(paste(trait,\" ~ PSE_subt*range_subt + PSE_subt*bias_subt + PSE_subt*sigma_subt + range_subt*bias_subt + range_subt*sigma_subt + bias_subt*sigma_subt + PSE_pf*slope_pf + PSE_pf*bias_pf + slope_pf*bias_pf + PSE_subt*PSE_pf + PSE_subt*slope_pf + PSE_subt*bias_pf + range_subt*PSE_pf + range_subt*slope_pf + range_subt*bias_pf + bias_subt*PSE_pf + bias_subt*slope_pf + bias_subt*bias_pf +  sigma_subt*PSE_pf + sigma_subt*slope_pf + sigma_subt*bias_pf + PSE_subt*PSE_pf + PSE_subt*slope_pf + PSE_subt*bias_pf + range_subt*PSE_pf + range_subt*slope_pf + range_subt*bias_pf + bias_subt*PSE_pf + bias_subt*slope_pf + bias_subt*bias_pf +  sigma_subt*PSE_pf + sigma_subt*slope_pf + sigma_subt*bias_pf\"))\n",
    "m3cz <- lm(formula, data = df_zscore)\n",
    "summary(m3cz)"
   ],
   "outputs": [
    {
     "output_type": "display_data",
     "data": {
      "text/plain": [
       "\n",
       "Call:\n",
       "lm(formula = formula, data = df_zscore)\n",
       "\n",
       "Residuals:\n",
       "     Min       1Q   Median       3Q      Max \n",
       "-2.31399 -0.66454  0.01317  0.71386  2.22043 \n",
       "\n",
       "Coefficients:\n",
       "                       Estimate Std. Error t value Pr(>|t|)\n",
       "(Intercept)           -0.021995   0.096050  -0.229    0.819\n",
       "PSE_subt              -0.146805   0.123773  -1.186    0.237\n",
       "range_subt             0.032221   0.098840   0.326    0.745\n",
       "bias_subt             -0.071700   0.106398  -0.674    0.501\n",
       "sigma_subt             0.048889   0.081603   0.599    0.550\n",
       "PSE_pf                -0.013015   0.226418  -0.057    0.954\n",
       "slope_pf               0.070053   0.087498   0.801    0.424\n",
       "bias_pf                0.025826   0.239719   0.108    0.914\n",
       "PSE_subt:range_subt    0.129403   0.082005   1.578    0.116\n",
       "PSE_subt:bias_subt     0.055030   0.076181   0.722    0.471\n",
       "PSE_subt:sigma_subt    0.073132   0.061364   1.192    0.235\n",
       "range_subt:bias_subt   0.133200   0.108694   1.225    0.222\n",
       "range_subt:sigma_subt  0.027392   0.066808   0.410    0.682\n",
       "bias_subt:sigma_subt  -0.015371   0.112459  -0.137    0.891\n",
       "PSE_pf:slope_pf       -0.062016   0.094408  -0.657    0.512\n",
       "PSE_pf:bias_pf         0.055457   0.075478   0.735    0.463\n",
       "slope_pf:bias_pf      -0.098354   0.154632  -0.636    0.525\n",
       "PSE_subt:PSE_pf        0.011781   0.155131   0.076    0.940\n",
       "PSE_subt:slope_pf     -0.103547   0.116840  -0.886    0.376\n",
       "PSE_subt:bias_pf       0.183647   0.161320   1.138    0.256\n",
       "range_subt:PSE_pf      0.026011   0.139617   0.186    0.852\n",
       "range_subt:slope_pf    0.115972   0.096982   1.196    0.233\n",
       "range_subt:bias_pf    -0.007669   0.158111  -0.049    0.961\n",
       "bias_subt:PSE_pf      -0.063527   0.139753  -0.455    0.650\n",
       "bias_subt:slope_pf    -0.031230   0.100154  -0.312    0.755\n",
       "bias_subt:bias_pf      0.141203   0.130117   1.085    0.279\n",
       "sigma_subt:PSE_pf      0.173556   0.126320   1.374    0.171\n",
       "sigma_subt:slope_pf    0.004961   0.105050   0.047    0.962\n",
       "sigma_subt:bias_pf     0.113323   0.121076   0.936    0.350\n",
       "\n",
       "Residual standard error: 1.001 on 246 degrees of freedom\n",
       "Multiple R-squared:  0.1007,\tAdjusted R-squared:  -0.001625 \n",
       "F-statistic: 0.9841 on 28 and 246 DF,  p-value: 0.4926\n"
      ]
     },
     "metadata": {}
    }
   ],
   "metadata": {}
  },
  {
   "cell_type": "code",
   "execution_count": 28,
   "source": [
    "anova(m3a,m3c)"
   ],
   "outputs": [
    {
     "output_type": "display_data",
     "data": {
      "text/html": [
       "<table class=\"dataframe\">\n",
       "<caption>A anova: 2 × 6</caption>\n",
       "<thead>\n",
       "\t<tr><th></th><th scope=col>Res.Df</th><th scope=col>RSS</th><th scope=col>Df</th><th scope=col>Sum of Sq</th><th scope=col>F</th><th scope=col>Pr(&gt;F)</th></tr>\n",
       "\t<tr><th></th><th scope=col>&lt;dbl&gt;</th><th scope=col>&lt;dbl&gt;</th><th scope=col>&lt;dbl&gt;</th><th scope=col>&lt;dbl&gt;</th><th scope=col>&lt;dbl&gt;</th><th scope=col>&lt;dbl&gt;</th></tr>\n",
       "</thead>\n",
       "<tbody>\n",
       "\t<tr><th scope=row>1</th><td>258</td><td>18247.78</td><td>NA</td><td>      NA</td><td>       NA</td><td>       NA</td></tr>\n",
       "\t<tr><th scope=row>2</th><td>246</td><td>17513.58</td><td>12</td><td>734.2042</td><td>0.8594011</td><td>0.5891189</td></tr>\n",
       "</tbody>\n",
       "</table>\n"
      ],
      "text/latex": [
       "A anova: 2 × 6\n",
       "\\begin{tabular}{r|llllll}\n",
       "  & Res.Df & RSS & Df & Sum of Sq & F & Pr(>F)\\\\\n",
       "  & <dbl> & <dbl> & <dbl> & <dbl> & <dbl> & <dbl>\\\\\n",
       "\\hline\n",
       "\t1 & 258 & 18247.78 & NA &       NA &        NA &        NA\\\\\n",
       "\t2 & 246 & 17513.58 & 12 & 734.2042 & 0.8594011 & 0.5891189\\\\\n",
       "\\end{tabular}\n"
      ],
      "text/markdown": [
       "\n",
       "A anova: 2 × 6\n",
       "\n",
       "| <!--/--> | Res.Df &lt;dbl&gt; | RSS &lt;dbl&gt; | Df &lt;dbl&gt; | Sum of Sq &lt;dbl&gt; | F &lt;dbl&gt; | Pr(&gt;F) &lt;dbl&gt; |\n",
       "|---|---|---|---|---|---|---|\n",
       "| 1 | 258 | 18247.78 | NA |       NA |        NA |        NA |\n",
       "| 2 | 246 | 17513.58 | 12 | 734.2042 | 0.8594011 | 0.5891189 |\n",
       "\n"
      ],
      "text/plain": [
       "  Res.Df RSS      Df Sum of Sq F         Pr(>F)   \n",
       "1 258    18247.78 NA       NA         NA        NA\n",
       "2 246    17513.58 12 734.2042  0.8594011 0.5891189"
      ]
     },
     "metadata": {}
    }
   ],
   "metadata": {}
  },
  {
   "cell_type": "code",
   "execution_count": 29,
   "source": [
    "anova(m3az,m3cz)"
   ],
   "outputs": [
    {
     "output_type": "display_data",
     "data": {
      "text/html": [
       "<table class=\"dataframe\">\n",
       "<caption>A anova: 2 × 6</caption>\n",
       "<thead>\n",
       "\t<tr><th></th><th scope=col>Res.Df</th><th scope=col>RSS</th><th scope=col>Df</th><th scope=col>Sum of Sq</th><th scope=col>F</th><th scope=col>Pr(&gt;F)</th></tr>\n",
       "\t<tr><th></th><th scope=col>&lt;dbl&gt;</th><th scope=col>&lt;dbl&gt;</th><th scope=col>&lt;dbl&gt;</th><th scope=col>&lt;dbl&gt;</th><th scope=col>&lt;dbl&gt;</th><th scope=col>&lt;dbl&gt;</th></tr>\n",
       "</thead>\n",
       "<tbody>\n",
       "\t<tr><th scope=row>1</th><td>258</td><td>256.7292</td><td>NA</td><td>      NA</td><td>       NA</td><td>       NA</td></tr>\n",
       "\t<tr><th scope=row>2</th><td>246</td><td>246.3997</td><td>12</td><td>10.32957</td><td>0.8594011</td><td>0.5891189</td></tr>\n",
       "</tbody>\n",
       "</table>\n"
      ],
      "text/latex": [
       "A anova: 2 × 6\n",
       "\\begin{tabular}{r|llllll}\n",
       "  & Res.Df & RSS & Df & Sum of Sq & F & Pr(>F)\\\\\n",
       "  & <dbl> & <dbl> & <dbl> & <dbl> & <dbl> & <dbl>\\\\\n",
       "\\hline\n",
       "\t1 & 258 & 256.7292 & NA &       NA &        NA &        NA\\\\\n",
       "\t2 & 246 & 246.3997 & 12 & 10.32957 & 0.8594011 & 0.5891189\\\\\n",
       "\\end{tabular}\n"
      ],
      "text/markdown": [
       "\n",
       "A anova: 2 × 6\n",
       "\n",
       "| <!--/--> | Res.Df &lt;dbl&gt; | RSS &lt;dbl&gt; | Df &lt;dbl&gt; | Sum of Sq &lt;dbl&gt; | F &lt;dbl&gt; | Pr(&gt;F) &lt;dbl&gt; |\n",
       "|---|---|---|---|---|---|---|\n",
       "| 1 | 258 | 256.7292 | NA |       NA |        NA |        NA |\n",
       "| 2 | 246 | 246.3997 | 12 | 10.32957 | 0.8594011 | 0.5891189 |\n",
       "\n"
      ],
      "text/plain": [
       "  Res.Df RSS      Df Sum of Sq F         Pr(>F)   \n",
       "1 258    256.7292 NA       NA         NA        NA\n",
       "2 246    246.3997 12 10.32957  0.8594011 0.5891189"
      ]
     },
     "metadata": {}
    }
   ],
   "metadata": {}
  },
  {
   "cell_type": "code",
   "execution_count": 30,
   "source": [
    "m3a"
   ],
   "outputs": [
    {
     "output_type": "display_data",
     "data": {
      "text/plain": [
       "\n",
       "Call:\n",
       "lm(formula = formula, data = data)\n",
       "\n",
       "Coefficients:\n",
       "          (Intercept)               PSE_subt             range_subt  \n",
       "              80.6910               -69.4896               -50.5490  \n",
       "            bias_subt             sigma_subt                 PSE_pf  \n",
       "             -39.8261               -69.1566                -0.2782  \n",
       "             slope_pf                bias_pf    PSE_subt:range_subt  \n",
       "              12.6538                 3.3465                49.6087  \n",
       "   PSE_subt:bias_subt    PSE_subt:sigma_subt   range_subt:bias_subt  \n",
       "              13.3095               147.8409                43.0841  \n",
       "range_subt:sigma_subt   bias_subt:sigma_subt        PSE_pf:slope_pf  \n",
       "               1.1936                24.8312                -8.5367  \n",
       "       PSE_pf:bias_pf       slope_pf:bias_pf  \n",
       "              13.2334                -9.8551  \n"
      ]
     },
     "metadata": {}
    }
   ],
   "metadata": {}
  },
  {
   "cell_type": "code",
   "execution_count": 31,
   "source": [
    "anova(m1,m3,m3a,m3c)"
   ],
   "outputs": [
    {
     "output_type": "display_data",
     "data": {
      "text/html": [
       "<table class=\"dataframe\">\n",
       "<caption>A anova: 4 × 6</caption>\n",
       "<thead>\n",
       "\t<tr><th></th><th scope=col>Res.Df</th><th scope=col>RSS</th><th scope=col>Df</th><th scope=col>Sum of Sq</th><th scope=col>F</th><th scope=col>Pr(&gt;F)</th></tr>\n",
       "\t<tr><th></th><th scope=col>&lt;dbl&gt;</th><th scope=col>&lt;dbl&gt;</th><th scope=col>&lt;dbl&gt;</th><th scope=col>&lt;dbl&gt;</th><th scope=col>&lt;dbl&gt;</th><th scope=col>&lt;dbl&gt;</th></tr>\n",
       "</thead>\n",
       "<tbody>\n",
       "\t<tr><th scope=row>1</th><td>270</td><td>19034.99</td><td>NA</td><td>      NA</td><td>       NA</td><td>       NA</td></tr>\n",
       "\t<tr><th scope=row>2</th><td>267</td><td>18851.04</td><td> 3</td><td>183.9455</td><td>0.8612478</td><td>0.4618045</td></tr>\n",
       "\t<tr><th scope=row>3</th><td>258</td><td>18247.78</td><td> 9</td><td>603.2610</td><td>0.9415057</td><td>0.4896409</td></tr>\n",
       "\t<tr><th scope=row>4</th><td>246</td><td>17513.58</td><td>12</td><td>734.2042</td><td>0.8594011</td><td>0.5891189</td></tr>\n",
       "</tbody>\n",
       "</table>\n"
      ],
      "text/latex": [
       "A anova: 4 × 6\n",
       "\\begin{tabular}{r|llllll}\n",
       "  & Res.Df & RSS & Df & Sum of Sq & F & Pr(>F)\\\\\n",
       "  & <dbl> & <dbl> & <dbl> & <dbl> & <dbl> & <dbl>\\\\\n",
       "\\hline\n",
       "\t1 & 270 & 19034.99 & NA &       NA &        NA &        NA\\\\\n",
       "\t2 & 267 & 18851.04 &  3 & 183.9455 & 0.8612478 & 0.4618045\\\\\n",
       "\t3 & 258 & 18247.78 &  9 & 603.2610 & 0.9415057 & 0.4896409\\\\\n",
       "\t4 & 246 & 17513.58 & 12 & 734.2042 & 0.8594011 & 0.5891189\\\\\n",
       "\\end{tabular}\n"
      ],
      "text/markdown": [
       "\n",
       "A anova: 4 × 6\n",
       "\n",
       "| <!--/--> | Res.Df &lt;dbl&gt; | RSS &lt;dbl&gt; | Df &lt;dbl&gt; | Sum of Sq &lt;dbl&gt; | F &lt;dbl&gt; | Pr(&gt;F) &lt;dbl&gt; |\n",
       "|---|---|---|---|---|---|---|\n",
       "| 1 | 270 | 19034.99 | NA |       NA |        NA |        NA |\n",
       "| 2 | 267 | 18851.04 |  3 | 183.9455 | 0.8612478 | 0.4618045 |\n",
       "| 3 | 258 | 18247.78 |  9 | 603.2610 | 0.9415057 | 0.4896409 |\n",
       "| 4 | 246 | 17513.58 | 12 | 734.2042 | 0.8594011 | 0.5891189 |\n",
       "\n"
      ],
      "text/plain": [
       "  Res.Df RSS      Df Sum of Sq F         Pr(>F)   \n",
       "1 270    19034.99 NA       NA         NA        NA\n",
       "2 267    18851.04  3 183.9455  0.8612478 0.4618045\n",
       "3 258    18247.78  9 603.2610  0.9415057 0.4896409\n",
       "4 246    17513.58 12 734.2042  0.8594011 0.5891189"
      ]
     },
     "metadata": {}
    }
   ],
   "metadata": {}
  },
  {
   "cell_type": "code",
   "execution_count": 32,
   "source": [
    "anova(m1z,m3z,m3az,m3cz)"
   ],
   "outputs": [
    {
     "output_type": "display_data",
     "data": {
      "text/html": [
       "<table class=\"dataframe\">\n",
       "<caption>A anova: 4 × 6</caption>\n",
       "<thead>\n",
       "\t<tr><th></th><th scope=col>Res.Df</th><th scope=col>RSS</th><th scope=col>Df</th><th scope=col>Sum of Sq</th><th scope=col>F</th><th scope=col>Pr(&gt;F)</th></tr>\n",
       "\t<tr><th></th><th scope=col>&lt;dbl&gt;</th><th scope=col>&lt;dbl&gt;</th><th scope=col>&lt;dbl&gt;</th><th scope=col>&lt;dbl&gt;</th><th scope=col>&lt;dbl&gt;</th><th scope=col>&lt;dbl&gt;</th></tr>\n",
       "</thead>\n",
       "<tbody>\n",
       "\t<tr><th scope=row>1</th><td>270</td><td>267.8045</td><td>NA</td><td>       NA</td><td>       NA</td><td>       NA</td></tr>\n",
       "\t<tr><th scope=row>2</th><td>267</td><td>265.2166</td><td> 3</td><td> 2.587941</td><td>0.8612478</td><td>0.4618045</td></tr>\n",
       "\t<tr><th scope=row>3</th><td>258</td><td>256.7292</td><td> 9</td><td> 8.487318</td><td>0.9415057</td><td>0.4896409</td></tr>\n",
       "\t<tr><th scope=row>4</th><td>246</td><td>246.3997</td><td>12</td><td>10.329568</td><td>0.8594011</td><td>0.5891189</td></tr>\n",
       "</tbody>\n",
       "</table>\n"
      ],
      "text/latex": [
       "A anova: 4 × 6\n",
       "\\begin{tabular}{r|llllll}\n",
       "  & Res.Df & RSS & Df & Sum of Sq & F & Pr(>F)\\\\\n",
       "  & <dbl> & <dbl> & <dbl> & <dbl> & <dbl> & <dbl>\\\\\n",
       "\\hline\n",
       "\t1 & 270 & 267.8045 & NA &        NA &        NA &        NA\\\\\n",
       "\t2 & 267 & 265.2166 &  3 &  2.587941 & 0.8612478 & 0.4618045\\\\\n",
       "\t3 & 258 & 256.7292 &  9 &  8.487318 & 0.9415057 & 0.4896409\\\\\n",
       "\t4 & 246 & 246.3997 & 12 & 10.329568 & 0.8594011 & 0.5891189\\\\\n",
       "\\end{tabular}\n"
      ],
      "text/markdown": [
       "\n",
       "A anova: 4 × 6\n",
       "\n",
       "| <!--/--> | Res.Df &lt;dbl&gt; | RSS &lt;dbl&gt; | Df &lt;dbl&gt; | Sum of Sq &lt;dbl&gt; | F &lt;dbl&gt; | Pr(&gt;F) &lt;dbl&gt; |\n",
       "|---|---|---|---|---|---|---|\n",
       "| 1 | 270 | 267.8045 | NA |        NA |        NA |        NA |\n",
       "| 2 | 267 | 265.2166 |  3 |  2.587941 | 0.8612478 | 0.4618045 |\n",
       "| 3 | 258 | 256.7292 |  9 |  8.487318 | 0.9415057 | 0.4896409 |\n",
       "| 4 | 246 | 246.3997 | 12 | 10.329568 | 0.8594011 | 0.5891189 |\n",
       "\n"
      ],
      "text/plain": [
       "  Res.Df RSS      Df Sum of Sq F         Pr(>F)   \n",
       "1 270    267.8045 NA        NA        NA        NA\n",
       "2 267    265.2166  3  2.587941 0.8612478 0.4618045\n",
       "3 258    256.7292  9  8.487318 0.9415057 0.4896409\n",
       "4 246    246.3997 12 10.329568 0.8594011 0.5891189"
      ]
     },
     "metadata": {}
    }
   ],
   "metadata": {}
  },
  {
   "cell_type": "code",
   "execution_count": 33,
   "source": [
    "anova(m2,m3,m3a,m3c)"
   ],
   "outputs": [
    {
     "output_type": "display_data",
     "data": {
      "text/html": [
       "<table class=\"dataframe\">\n",
       "<caption>A anova: 4 × 6</caption>\n",
       "<thead>\n",
       "\t<tr><th></th><th scope=col>Res.Df</th><th scope=col>RSS</th><th scope=col>Df</th><th scope=col>Sum of Sq</th><th scope=col>F</th><th scope=col>Pr(&gt;F)</th></tr>\n",
       "\t<tr><th></th><th scope=col>&lt;dbl&gt;</th><th scope=col>&lt;dbl&gt;</th><th scope=col>&lt;dbl&gt;</th><th scope=col>&lt;dbl&gt;</th><th scope=col>&lt;dbl&gt;</th><th scope=col>&lt;dbl&gt;</th></tr>\n",
       "</thead>\n",
       "<tbody>\n",
       "\t<tr><th scope=row>1</th><td>271</td><td>19378.08</td><td>NA</td><td>      NA</td><td>       NA</td><td>       NA</td></tr>\n",
       "\t<tr><th scope=row>2</th><td>267</td><td>18851.04</td><td> 4</td><td>527.0400</td><td>1.8507332</td><td>0.1197608</td></tr>\n",
       "\t<tr><th scope=row>3</th><td>258</td><td>18247.78</td><td> 9</td><td>603.2610</td><td>0.9415057</td><td>0.4896409</td></tr>\n",
       "\t<tr><th scope=row>4</th><td>246</td><td>17513.58</td><td>12</td><td>734.2042</td><td>0.8594011</td><td>0.5891189</td></tr>\n",
       "</tbody>\n",
       "</table>\n"
      ],
      "text/latex": [
       "A anova: 4 × 6\n",
       "\\begin{tabular}{r|llllll}\n",
       "  & Res.Df & RSS & Df & Sum of Sq & F & Pr(>F)\\\\\n",
       "  & <dbl> & <dbl> & <dbl> & <dbl> & <dbl> & <dbl>\\\\\n",
       "\\hline\n",
       "\t1 & 271 & 19378.08 & NA &       NA &        NA &        NA\\\\\n",
       "\t2 & 267 & 18851.04 &  4 & 527.0400 & 1.8507332 & 0.1197608\\\\\n",
       "\t3 & 258 & 18247.78 &  9 & 603.2610 & 0.9415057 & 0.4896409\\\\\n",
       "\t4 & 246 & 17513.58 & 12 & 734.2042 & 0.8594011 & 0.5891189\\\\\n",
       "\\end{tabular}\n"
      ],
      "text/markdown": [
       "\n",
       "A anova: 4 × 6\n",
       "\n",
       "| <!--/--> | Res.Df &lt;dbl&gt; | RSS &lt;dbl&gt; | Df &lt;dbl&gt; | Sum of Sq &lt;dbl&gt; | F &lt;dbl&gt; | Pr(&gt;F) &lt;dbl&gt; |\n",
       "|---|---|---|---|---|---|---|\n",
       "| 1 | 271 | 19378.08 | NA |       NA |        NA |        NA |\n",
       "| 2 | 267 | 18851.04 |  4 | 527.0400 | 1.8507332 | 0.1197608 |\n",
       "| 3 | 258 | 18247.78 |  9 | 603.2610 | 0.9415057 | 0.4896409 |\n",
       "| 4 | 246 | 17513.58 | 12 | 734.2042 | 0.8594011 | 0.5891189 |\n",
       "\n"
      ],
      "text/plain": [
       "  Res.Df RSS      Df Sum of Sq F         Pr(>F)   \n",
       "1 271    19378.08 NA       NA         NA        NA\n",
       "2 267    18851.04  4 527.0400  1.8507332 0.1197608\n",
       "3 258    18247.78  9 603.2610  0.9415057 0.4896409\n",
       "4 246    17513.58 12 734.2042  0.8594011 0.5891189"
      ]
     },
     "metadata": {}
    }
   ],
   "metadata": {}
  },
  {
   "cell_type": "code",
   "execution_count": 34,
   "source": [
    "anova(m2z,m3z,m3az,m3cz)"
   ],
   "outputs": [
    {
     "output_type": "display_data",
     "data": {
      "text/html": [
       "<table class=\"dataframe\">\n",
       "<caption>A anova: 4 × 6</caption>\n",
       "<thead>\n",
       "\t<tr><th></th><th scope=col>Res.Df</th><th scope=col>RSS</th><th scope=col>Df</th><th scope=col>Sum of Sq</th><th scope=col>F</th><th scope=col>Pr(&gt;F)</th></tr>\n",
       "\t<tr><th></th><th scope=col>&lt;dbl&gt;</th><th scope=col>&lt;dbl&gt;</th><th scope=col>&lt;dbl&gt;</th><th scope=col>&lt;dbl&gt;</th><th scope=col>&lt;dbl&gt;</th><th scope=col>&lt;dbl&gt;</th></tr>\n",
       "</thead>\n",
       "<tbody>\n",
       "\t<tr><th scope=row>1</th><td>271</td><td>272.6315</td><td>NA</td><td>       NA</td><td>       NA</td><td>       NA</td></tr>\n",
       "\t<tr><th scope=row>2</th><td>267</td><td>265.2166</td><td> 4</td><td> 7.414960</td><td>1.8507332</td><td>0.1197608</td></tr>\n",
       "\t<tr><th scope=row>3</th><td>258</td><td>256.7292</td><td> 9</td><td> 8.487318</td><td>0.9415057</td><td>0.4896409</td></tr>\n",
       "\t<tr><th scope=row>4</th><td>246</td><td>246.3997</td><td>12</td><td>10.329568</td><td>0.8594011</td><td>0.5891189</td></tr>\n",
       "</tbody>\n",
       "</table>\n"
      ],
      "text/latex": [
       "A anova: 4 × 6\n",
       "\\begin{tabular}{r|llllll}\n",
       "  & Res.Df & RSS & Df & Sum of Sq & F & Pr(>F)\\\\\n",
       "  & <dbl> & <dbl> & <dbl> & <dbl> & <dbl> & <dbl>\\\\\n",
       "\\hline\n",
       "\t1 & 271 & 272.6315 & NA &        NA &        NA &        NA\\\\\n",
       "\t2 & 267 & 265.2166 &  4 &  7.414960 & 1.8507332 & 0.1197608\\\\\n",
       "\t3 & 258 & 256.7292 &  9 &  8.487318 & 0.9415057 & 0.4896409\\\\\n",
       "\t4 & 246 & 246.3997 & 12 & 10.329568 & 0.8594011 & 0.5891189\\\\\n",
       "\\end{tabular}\n"
      ],
      "text/markdown": [
       "\n",
       "A anova: 4 × 6\n",
       "\n",
       "| <!--/--> | Res.Df &lt;dbl&gt; | RSS &lt;dbl&gt; | Df &lt;dbl&gt; | Sum of Sq &lt;dbl&gt; | F &lt;dbl&gt; | Pr(&gt;F) &lt;dbl&gt; |\n",
       "|---|---|---|---|---|---|---|\n",
       "| 1 | 271 | 272.6315 | NA |        NA |        NA |        NA |\n",
       "| 2 | 267 | 265.2166 |  4 |  7.414960 | 1.8507332 | 0.1197608 |\n",
       "| 3 | 258 | 256.7292 |  9 |  8.487318 | 0.9415057 | 0.4896409 |\n",
       "| 4 | 246 | 246.3997 | 12 | 10.329568 | 0.8594011 | 0.5891189 |\n",
       "\n"
      ],
      "text/plain": [
       "  Res.Df RSS      Df Sum of Sq F         Pr(>F)   \n",
       "1 271    272.6315 NA        NA        NA        NA\n",
       "2 267    265.2166  4  7.414960 1.8507332 0.1197608\n",
       "3 258    256.7292  9  8.487318 0.9415057 0.4896409\n",
       "4 246    246.3997 12 10.329568 0.8594011 0.5891189"
      ]
     },
     "metadata": {}
    }
   ],
   "metadata": {}
  },
  {
   "cell_type": "code",
   "execution_count": 35,
   "source": [
    "anova(m1,m1a,m3a,m3c)"
   ],
   "outputs": [
    {
     "output_type": "display_data",
     "data": {
      "text/html": [
       "<table class=\"dataframe\">\n",
       "<caption>A anova: 4 × 6</caption>\n",
       "<thead>\n",
       "\t<tr><th></th><th scope=col>Res.Df</th><th scope=col>RSS</th><th scope=col>Df</th><th scope=col>Sum of Sq</th><th scope=col>F</th><th scope=col>Pr(&gt;F)</th></tr>\n",
       "\t<tr><th></th><th scope=col>&lt;dbl&gt;</th><th scope=col>&lt;dbl&gt;</th><th scope=col>&lt;dbl&gt;</th><th scope=col>&lt;dbl&gt;</th><th scope=col>&lt;dbl&gt;</th><th scope=col>&lt;dbl&gt;</th></tr>\n",
       "</thead>\n",
       "<tbody>\n",
       "\t<tr><th scope=row>1</th><td>270</td><td>19034.99</td><td>NA</td><td>      NA</td><td>       NA</td><td>       NA</td></tr>\n",
       "\t<tr><th scope=row>2</th><td>264</td><td>18558.20</td><td> 6</td><td>476.7852</td><td>1.1161737</td><td>0.3533421</td></tr>\n",
       "\t<tr><th scope=row>3</th><td>258</td><td>18247.78</td><td> 6</td><td>310.4212</td><td>0.7267088</td><td>0.6284770</td></tr>\n",
       "\t<tr><th scope=row>4</th><td>246</td><td>17513.58</td><td>12</td><td>734.2042</td><td>0.8594011</td><td>0.5891189</td></tr>\n",
       "</tbody>\n",
       "</table>\n"
      ],
      "text/latex": [
       "A anova: 4 × 6\n",
       "\\begin{tabular}{r|llllll}\n",
       "  & Res.Df & RSS & Df & Sum of Sq & F & Pr(>F)\\\\\n",
       "  & <dbl> & <dbl> & <dbl> & <dbl> & <dbl> & <dbl>\\\\\n",
       "\\hline\n",
       "\t1 & 270 & 19034.99 & NA &       NA &        NA &        NA\\\\\n",
       "\t2 & 264 & 18558.20 &  6 & 476.7852 & 1.1161737 & 0.3533421\\\\\n",
       "\t3 & 258 & 18247.78 &  6 & 310.4212 & 0.7267088 & 0.6284770\\\\\n",
       "\t4 & 246 & 17513.58 & 12 & 734.2042 & 0.8594011 & 0.5891189\\\\\n",
       "\\end{tabular}\n"
      ],
      "text/markdown": [
       "\n",
       "A anova: 4 × 6\n",
       "\n",
       "| <!--/--> | Res.Df &lt;dbl&gt; | RSS &lt;dbl&gt; | Df &lt;dbl&gt; | Sum of Sq &lt;dbl&gt; | F &lt;dbl&gt; | Pr(&gt;F) &lt;dbl&gt; |\n",
       "|---|---|---|---|---|---|---|\n",
       "| 1 | 270 | 19034.99 | NA |       NA |        NA |        NA |\n",
       "| 2 | 264 | 18558.20 |  6 | 476.7852 | 1.1161737 | 0.3533421 |\n",
       "| 3 | 258 | 18247.78 |  6 | 310.4212 | 0.7267088 | 0.6284770 |\n",
       "| 4 | 246 | 17513.58 | 12 | 734.2042 | 0.8594011 | 0.5891189 |\n",
       "\n"
      ],
      "text/plain": [
       "  Res.Df RSS      Df Sum of Sq F         Pr(>F)   \n",
       "1 270    19034.99 NA       NA         NA        NA\n",
       "2 264    18558.20  6 476.7852  1.1161737 0.3533421\n",
       "3 258    18247.78  6 310.4212  0.7267088 0.6284770\n",
       "4 246    17513.58 12 734.2042  0.8594011 0.5891189"
      ]
     },
     "metadata": {}
    }
   ],
   "metadata": {}
  },
  {
   "cell_type": "code",
   "execution_count": 36,
   "source": [
    "anova(m1z,m1az,m3az,m3cz)"
   ],
   "outputs": [
    {
     "output_type": "display_data",
     "data": {
      "text/html": [
       "<table class=\"dataframe\">\n",
       "<caption>A anova: 4 × 6</caption>\n",
       "<thead>\n",
       "\t<tr><th></th><th scope=col>Res.Df</th><th scope=col>RSS</th><th scope=col>Df</th><th scope=col>Sum of Sq</th><th scope=col>F</th><th scope=col>Pr(&gt;F)</th></tr>\n",
       "\t<tr><th></th><th scope=col>&lt;dbl&gt;</th><th scope=col>&lt;dbl&gt;</th><th scope=col>&lt;dbl&gt;</th><th scope=col>&lt;dbl&gt;</th><th scope=col>&lt;dbl&gt;</th><th scope=col>&lt;dbl&gt;</th></tr>\n",
       "</thead>\n",
       "<tbody>\n",
       "\t<tr><th scope=row>1</th><td>270</td><td>267.8045</td><td>NA</td><td>       NA</td><td>       NA</td><td>       NA</td></tr>\n",
       "\t<tr><th scope=row>2</th><td>264</td><td>261.0966</td><td> 6</td><td> 6.707923</td><td>1.1161737</td><td>0.3533421</td></tr>\n",
       "\t<tr><th scope=row>3</th><td>258</td><td>256.7292</td><td> 6</td><td> 4.367337</td><td>0.7267088</td><td>0.6284770</td></tr>\n",
       "\t<tr><th scope=row>4</th><td>246</td><td>246.3997</td><td>12</td><td>10.329568</td><td>0.8594011</td><td>0.5891189</td></tr>\n",
       "</tbody>\n",
       "</table>\n"
      ],
      "text/latex": [
       "A anova: 4 × 6\n",
       "\\begin{tabular}{r|llllll}\n",
       "  & Res.Df & RSS & Df & Sum of Sq & F & Pr(>F)\\\\\n",
       "  & <dbl> & <dbl> & <dbl> & <dbl> & <dbl> & <dbl>\\\\\n",
       "\\hline\n",
       "\t1 & 270 & 267.8045 & NA &        NA &        NA &        NA\\\\\n",
       "\t2 & 264 & 261.0966 &  6 &  6.707923 & 1.1161737 & 0.3533421\\\\\n",
       "\t3 & 258 & 256.7292 &  6 &  4.367337 & 0.7267088 & 0.6284770\\\\\n",
       "\t4 & 246 & 246.3997 & 12 & 10.329568 & 0.8594011 & 0.5891189\\\\\n",
       "\\end{tabular}\n"
      ],
      "text/markdown": [
       "\n",
       "A anova: 4 × 6\n",
       "\n",
       "| <!--/--> | Res.Df &lt;dbl&gt; | RSS &lt;dbl&gt; | Df &lt;dbl&gt; | Sum of Sq &lt;dbl&gt; | F &lt;dbl&gt; | Pr(&gt;F) &lt;dbl&gt; |\n",
       "|---|---|---|---|---|---|---|\n",
       "| 1 | 270 | 267.8045 | NA |        NA |        NA |        NA |\n",
       "| 2 | 264 | 261.0966 |  6 |  6.707923 | 1.1161737 | 0.3533421 |\n",
       "| 3 | 258 | 256.7292 |  6 |  4.367337 | 0.7267088 | 0.6284770 |\n",
       "| 4 | 246 | 246.3997 | 12 | 10.329568 | 0.8594011 | 0.5891189 |\n",
       "\n"
      ],
      "text/plain": [
       "  Res.Df RSS      Df Sum of Sq F         Pr(>F)   \n",
       "1 270    267.8045 NA        NA        NA        NA\n",
       "2 264    261.0966  6  6.707923 1.1161737 0.3533421\n",
       "3 258    256.7292  6  4.367337 0.7267088 0.6284770\n",
       "4 246    246.3997 12 10.329568 0.8594011 0.5891189"
      ]
     },
     "metadata": {}
    }
   ],
   "metadata": {}
  },
  {
   "cell_type": "code",
   "execution_count": 37,
   "source": [
    "anova(m2,m2a,m3a,m3c)"
   ],
   "outputs": [
    {
     "output_type": "display_data",
     "data": {
      "text/html": [
       "<table class=\"dataframe\">\n",
       "<caption>A anova: 4 × 6</caption>\n",
       "<thead>\n",
       "\t<tr><th></th><th scope=col>Res.Df</th><th scope=col>RSS</th><th scope=col>Df</th><th scope=col>Sum of Sq</th><th scope=col>F</th><th scope=col>Pr(&gt;F)</th></tr>\n",
       "\t<tr><th></th><th scope=col>&lt;dbl&gt;</th><th scope=col>&lt;dbl&gt;</th><th scope=col>&lt;dbl&gt;</th><th scope=col>&lt;dbl&gt;</th><th scope=col>&lt;dbl&gt;</th><th scope=col>&lt;dbl&gt;</th></tr>\n",
       "</thead>\n",
       "<tbody>\n",
       "\t<tr><th scope=row>1</th><td>271</td><td>19378.08</td><td>NA</td><td>        NA</td><td>       NA</td><td>       NA</td></tr>\n",
       "\t<tr><th scope=row>2</th><td>268</td><td>19319.98</td><td> 3</td><td>  58.09846</td><td>0.2720217</td><td>0.8455483</td></tr>\n",
       "\t<tr><th scope=row>3</th><td>258</td><td>18247.78</td><td>10</td><td>1072.20252</td><td>1.5060419</td><td>0.1375155</td></tr>\n",
       "\t<tr><th scope=row>4</th><td>246</td><td>17513.58</td><td>12</td><td> 734.20423</td><td>0.8594011</td><td>0.5891189</td></tr>\n",
       "</tbody>\n",
       "</table>\n"
      ],
      "text/latex": [
       "A anova: 4 × 6\n",
       "\\begin{tabular}{r|llllll}\n",
       "  & Res.Df & RSS & Df & Sum of Sq & F & Pr(>F)\\\\\n",
       "  & <dbl> & <dbl> & <dbl> & <dbl> & <dbl> & <dbl>\\\\\n",
       "\\hline\n",
       "\t1 & 271 & 19378.08 & NA &         NA &        NA &        NA\\\\\n",
       "\t2 & 268 & 19319.98 &  3 &   58.09846 & 0.2720217 & 0.8455483\\\\\n",
       "\t3 & 258 & 18247.78 & 10 & 1072.20252 & 1.5060419 & 0.1375155\\\\\n",
       "\t4 & 246 & 17513.58 & 12 &  734.20423 & 0.8594011 & 0.5891189\\\\\n",
       "\\end{tabular}\n"
      ],
      "text/markdown": [
       "\n",
       "A anova: 4 × 6\n",
       "\n",
       "| <!--/--> | Res.Df &lt;dbl&gt; | RSS &lt;dbl&gt; | Df &lt;dbl&gt; | Sum of Sq &lt;dbl&gt; | F &lt;dbl&gt; | Pr(&gt;F) &lt;dbl&gt; |\n",
       "|---|---|---|---|---|---|---|\n",
       "| 1 | 271 | 19378.08 | NA |         NA |        NA |        NA |\n",
       "| 2 | 268 | 19319.98 |  3 |   58.09846 | 0.2720217 | 0.8455483 |\n",
       "| 3 | 258 | 18247.78 | 10 | 1072.20252 | 1.5060419 | 0.1375155 |\n",
       "| 4 | 246 | 17513.58 | 12 |  734.20423 | 0.8594011 | 0.5891189 |\n",
       "\n"
      ],
      "text/plain": [
       "  Res.Df RSS      Df Sum of Sq  F         Pr(>F)   \n",
       "1 271    19378.08 NA         NA        NA        NA\n",
       "2 268    19319.98  3   58.09846 0.2720217 0.8455483\n",
       "3 258    18247.78 10 1072.20252 1.5060419 0.1375155\n",
       "4 246    17513.58 12  734.20423 0.8594011 0.5891189"
      ]
     },
     "metadata": {}
    }
   ],
   "metadata": {}
  },
  {
   "cell_type": "code",
   "execution_count": 38,
   "source": [
    "anova(m2z,m2az,m3az,m3cz)"
   ],
   "outputs": [
    {
     "output_type": "display_data",
     "data": {
      "text/html": [
       "<table class=\"dataframe\">\n",
       "<caption>A anova: 4 × 6</caption>\n",
       "<thead>\n",
       "\t<tr><th></th><th scope=col>Res.Df</th><th scope=col>RSS</th><th scope=col>Df</th><th scope=col>Sum of Sq</th><th scope=col>F</th><th scope=col>Pr(&gt;F)</th></tr>\n",
       "\t<tr><th></th><th scope=col>&lt;dbl&gt;</th><th scope=col>&lt;dbl&gt;</th><th scope=col>&lt;dbl&gt;</th><th scope=col>&lt;dbl&gt;</th><th scope=col>&lt;dbl&gt;</th><th scope=col>&lt;dbl&gt;</th></tr>\n",
       "</thead>\n",
       "<tbody>\n",
       "\t<tr><th scope=row>1</th><td>271</td><td>272.6315</td><td>NA</td><td>       NA</td><td>       NA</td><td>       NA</td></tr>\n",
       "\t<tr><th scope=row>2</th><td>268</td><td>271.8141</td><td> 3</td><td> 0.817391</td><td>0.2720217</td><td>0.8455483</td></tr>\n",
       "\t<tr><th scope=row>3</th><td>258</td><td>256.7292</td><td>10</td><td>15.084888</td><td>1.5060419</td><td>0.1375155</td></tr>\n",
       "\t<tr><th scope=row>4</th><td>246</td><td>246.3997</td><td>12</td><td>10.329568</td><td>0.8594011</td><td>0.5891189</td></tr>\n",
       "</tbody>\n",
       "</table>\n"
      ],
      "text/latex": [
       "A anova: 4 × 6\n",
       "\\begin{tabular}{r|llllll}\n",
       "  & Res.Df & RSS & Df & Sum of Sq & F & Pr(>F)\\\\\n",
       "  & <dbl> & <dbl> & <dbl> & <dbl> & <dbl> & <dbl>\\\\\n",
       "\\hline\n",
       "\t1 & 271 & 272.6315 & NA &        NA &        NA &        NA\\\\\n",
       "\t2 & 268 & 271.8141 &  3 &  0.817391 & 0.2720217 & 0.8455483\\\\\n",
       "\t3 & 258 & 256.7292 & 10 & 15.084888 & 1.5060419 & 0.1375155\\\\\n",
       "\t4 & 246 & 246.3997 & 12 & 10.329568 & 0.8594011 & 0.5891189\\\\\n",
       "\\end{tabular}\n"
      ],
      "text/markdown": [
       "\n",
       "A anova: 4 × 6\n",
       "\n",
       "| <!--/--> | Res.Df &lt;dbl&gt; | RSS &lt;dbl&gt; | Df &lt;dbl&gt; | Sum of Sq &lt;dbl&gt; | F &lt;dbl&gt; | Pr(&gt;F) &lt;dbl&gt; |\n",
       "|---|---|---|---|---|---|---|\n",
       "| 1 | 271 | 272.6315 | NA |        NA |        NA |        NA |\n",
       "| 2 | 268 | 271.8141 |  3 |  0.817391 | 0.2720217 | 0.8455483 |\n",
       "| 3 | 258 | 256.7292 | 10 | 15.084888 | 1.5060419 | 0.1375155 |\n",
       "| 4 | 246 | 246.3997 | 12 | 10.329568 | 0.8594011 | 0.5891189 |\n",
       "\n"
      ],
      "text/plain": [
       "  Res.Df RSS      Df Sum of Sq F         Pr(>F)   \n",
       "1 271    272.6315 NA        NA        NA        NA\n",
       "2 268    271.8141  3  0.817391 0.2720217 0.8455483\n",
       "3 258    256.7292 10 15.084888 1.5060419 0.1375155\n",
       "4 246    246.3997 12 10.329568 0.8594011 0.5891189"
      ]
     },
     "metadata": {}
    }
   ],
   "metadata": {}
  },
  {
   "cell_type": "code",
   "execution_count": 39,
   "source": [
    "anova(m3,m3b,m3c)"
   ],
   "outputs": [
    {
     "output_type": "display_data",
     "data": {
      "text/html": [
       "<table class=\"dataframe\">\n",
       "<caption>A anova: 3 × 6</caption>\n",
       "<thead>\n",
       "\t<tr><th></th><th scope=col>Res.Df</th><th scope=col>RSS</th><th scope=col>Df</th><th scope=col>Sum of Sq</th><th scope=col>F</th><th scope=col>Pr(&gt;F)</th></tr>\n",
       "\t<tr><th></th><th scope=col>&lt;dbl&gt;</th><th scope=col>&lt;dbl&gt;</th><th scope=col>&lt;dbl&gt;</th><th scope=col>&lt;dbl&gt;</th><th scope=col>&lt;dbl&gt;</th><th scope=col>&lt;dbl&gt;</th></tr>\n",
       "</thead>\n",
       "<tbody>\n",
       "\t<tr><th scope=row>1</th><td>267</td><td>18851.04</td><td>NA</td><td>      NA</td><td>       NA</td><td>       NA</td></tr>\n",
       "\t<tr><th scope=row>2</th><td>255</td><td>17995.39</td><td>12</td><td>855.6530</td><td>1.0015593</td><td>0.4480287</td></tr>\n",
       "\t<tr><th scope=row>3</th><td>246</td><td>17513.58</td><td> 9</td><td>481.8122</td><td>0.7519614</td><td>0.6609833</td></tr>\n",
       "</tbody>\n",
       "</table>\n"
      ],
      "text/latex": [
       "A anova: 3 × 6\n",
       "\\begin{tabular}{r|llllll}\n",
       "  & Res.Df & RSS & Df & Sum of Sq & F & Pr(>F)\\\\\n",
       "  & <dbl> & <dbl> & <dbl> & <dbl> & <dbl> & <dbl>\\\\\n",
       "\\hline\n",
       "\t1 & 267 & 18851.04 & NA &       NA &        NA &        NA\\\\\n",
       "\t2 & 255 & 17995.39 & 12 & 855.6530 & 1.0015593 & 0.4480287\\\\\n",
       "\t3 & 246 & 17513.58 &  9 & 481.8122 & 0.7519614 & 0.6609833\\\\\n",
       "\\end{tabular}\n"
      ],
      "text/markdown": [
       "\n",
       "A anova: 3 × 6\n",
       "\n",
       "| <!--/--> | Res.Df &lt;dbl&gt; | RSS &lt;dbl&gt; | Df &lt;dbl&gt; | Sum of Sq &lt;dbl&gt; | F &lt;dbl&gt; | Pr(&gt;F) &lt;dbl&gt; |\n",
       "|---|---|---|---|---|---|---|\n",
       "| 1 | 267 | 18851.04 | NA |       NA |        NA |        NA |\n",
       "| 2 | 255 | 17995.39 | 12 | 855.6530 | 1.0015593 | 0.4480287 |\n",
       "| 3 | 246 | 17513.58 |  9 | 481.8122 | 0.7519614 | 0.6609833 |\n",
       "\n"
      ],
      "text/plain": [
       "  Res.Df RSS      Df Sum of Sq F         Pr(>F)   \n",
       "1 267    18851.04 NA       NA         NA        NA\n",
       "2 255    17995.39 12 855.6530  1.0015593 0.4480287\n",
       "3 246    17513.58  9 481.8122  0.7519614 0.6609833"
      ]
     },
     "metadata": {}
    }
   ],
   "metadata": {}
  },
  {
   "cell_type": "code",
   "execution_count": 40,
   "source": [
    "aic_results <- AIC(m1,m1a,m2,m2a,m3,m3a,m3b,m3c)\n",
    "aic_results"
   ],
   "outputs": [
    {
     "output_type": "display_data",
     "data": {
      "text/html": [
       "<table class=\"dataframe\">\n",
       "<caption>A data.frame: 8 × 2</caption>\n",
       "<thead>\n",
       "\t<tr><th></th><th scope=col>df</th><th scope=col>AIC</th></tr>\n",
       "\t<tr><th></th><th scope=col>&lt;dbl&gt;</th><th scope=col>&lt;dbl&gt;</th></tr>\n",
       "</thead>\n",
       "<tbody>\n",
       "\t<tr><th scope=row>m1</th><td> 6</td><td>1957.664</td></tr>\n",
       "\t<tr><th scope=row>m1a</th><td>12</td><td>1962.688</td></tr>\n",
       "\t<tr><th scope=row>m2</th><td> 5</td><td>1960.576</td></tr>\n",
       "\t<tr><th scope=row>m2a</th><td> 8</td><td>1965.750</td></tr>\n",
       "\t<tr><th scope=row>m3</th><td> 9</td><td>1960.993</td></tr>\n",
       "\t<tr><th scope=row>m3a</th><td>18</td><td>1970.049</td></tr>\n",
       "\t<tr><th scope=row>m3b</th><td>21</td><td>1972.219</td></tr>\n",
       "\t<tr><th scope=row>m3c</th><td>30</td><td>1982.755</td></tr>\n",
       "</tbody>\n",
       "</table>\n"
      ],
      "text/latex": [
       "A data.frame: 8 × 2\n",
       "\\begin{tabular}{r|ll}\n",
       "  & df & AIC\\\\\n",
       "  & <dbl> & <dbl>\\\\\n",
       "\\hline\n",
       "\tm1 &  6 & 1957.664\\\\\n",
       "\tm1a & 12 & 1962.688\\\\\n",
       "\tm2 &  5 & 1960.576\\\\\n",
       "\tm2a &  8 & 1965.750\\\\\n",
       "\tm3 &  9 & 1960.993\\\\\n",
       "\tm3a & 18 & 1970.049\\\\\n",
       "\tm3b & 21 & 1972.219\\\\\n",
       "\tm3c & 30 & 1982.755\\\\\n",
       "\\end{tabular}\n"
      ],
      "text/markdown": [
       "\n",
       "A data.frame: 8 × 2\n",
       "\n",
       "| <!--/--> | df &lt;dbl&gt; | AIC &lt;dbl&gt; |\n",
       "|---|---|---|\n",
       "| m1 |  6 | 1957.664 |\n",
       "| m1a | 12 | 1962.688 |\n",
       "| m2 |  5 | 1960.576 |\n",
       "| m2a |  8 | 1965.750 |\n",
       "| m3 |  9 | 1960.993 |\n",
       "| m3a | 18 | 1970.049 |\n",
       "| m3b | 21 | 1972.219 |\n",
       "| m3c | 30 | 1982.755 |\n",
       "\n"
      ],
      "text/plain": [
       "    df AIC     \n",
       "m1   6 1957.664\n",
       "m1a 12 1962.688\n",
       "m2   5 1960.576\n",
       "m2a  8 1965.750\n",
       "m3   9 1960.993\n",
       "m3a 18 1970.049\n",
       "m3b 21 1972.219\n",
       "m3c 30 1982.755"
      ]
     },
     "metadata": {}
    }
   ],
   "metadata": {}
  },
  {
   "cell_type": "code",
   "execution_count": 41,
   "source": [
    "aic_results <- AIC(m1z,m1az,m2z,m2az,m3z,m3az,m3bz,m3cz)\n",
    "aic_results"
   ],
   "outputs": [
    {
     "output_type": "display_data",
     "data": {
      "text/html": [
       "<table class=\"dataframe\">\n",
       "<caption>A data.frame: 8 × 2</caption>\n",
       "<thead>\n",
       "\t<tr><th></th><th scope=col>df</th><th scope=col>AIC</th></tr>\n",
       "\t<tr><th></th><th scope=col>&lt;dbl&gt;</th><th scope=col>&lt;dbl&gt;</th></tr>\n",
       "</thead>\n",
       "<tbody>\n",
       "\t<tr><th scope=row>m1z</th><td> 6</td><td>785.1249</td></tr>\n",
       "\t<tr><th scope=row>m1az</th><td>12</td><td>790.1490</td></tr>\n",
       "\t<tr><th scope=row>m2z</th><td> 5</td><td>788.0375</td></tr>\n",
       "\t<tr><th scope=row>m2az</th><td> 8</td><td>793.2117</td></tr>\n",
       "\t<tr><th scope=row>m3z</th><td> 9</td><td>788.4545</td></tr>\n",
       "\t<tr><th scope=row>m3az</th><td>18</td><td>797.5102</td></tr>\n",
       "\t<tr><th scope=row>m3bz</th><td>21</td><td>799.6800</td></tr>\n",
       "\t<tr><th scope=row>m3cz</th><td>30</td><td>810.2167</td></tr>\n",
       "</tbody>\n",
       "</table>\n"
      ],
      "text/latex": [
       "A data.frame: 8 × 2\n",
       "\\begin{tabular}{r|ll}\n",
       "  & df & AIC\\\\\n",
       "  & <dbl> & <dbl>\\\\\n",
       "\\hline\n",
       "\tm1z &  6 & 785.1249\\\\\n",
       "\tm1az & 12 & 790.1490\\\\\n",
       "\tm2z &  5 & 788.0375\\\\\n",
       "\tm2az &  8 & 793.2117\\\\\n",
       "\tm3z &  9 & 788.4545\\\\\n",
       "\tm3az & 18 & 797.5102\\\\\n",
       "\tm3bz & 21 & 799.6800\\\\\n",
       "\tm3cz & 30 & 810.2167\\\\\n",
       "\\end{tabular}\n"
      ],
      "text/markdown": [
       "\n",
       "A data.frame: 8 × 2\n",
       "\n",
       "| <!--/--> | df &lt;dbl&gt; | AIC &lt;dbl&gt; |\n",
       "|---|---|---|\n",
       "| m1z |  6 | 785.1249 |\n",
       "| m1az | 12 | 790.1490 |\n",
       "| m2z |  5 | 788.0375 |\n",
       "| m2az |  8 | 793.2117 |\n",
       "| m3z |  9 | 788.4545 |\n",
       "| m3az | 18 | 797.5102 |\n",
       "| m3bz | 21 | 799.6800 |\n",
       "| m3cz | 30 | 810.2167 |\n",
       "\n"
      ],
      "text/plain": [
       "     df AIC     \n",
       "m1z   6 785.1249\n",
       "m1az 12 790.1490\n",
       "m2z   5 788.0375\n",
       "m2az  8 793.2117\n",
       "m3z   9 788.4545\n",
       "m3az 18 797.5102\n",
       "m3bz 21 799.6800\n",
       "m3cz 30 810.2167"
      ]
     },
     "metadata": {}
    }
   ],
   "metadata": {}
  },
  {
   "cell_type": "code",
   "execution_count": null,
   "source": [],
   "outputs": [],
   "metadata": {}
  }
 ],
 "metadata": {
  "interpreter": {
   "hash": "aee8b7b246df8f9039afb4144a1f6fd8d2ca17a180786b69acc140d282b71a49"
  },
  "kernelspec": {
   "name": "python3124jvsc74a57bd04a074528bc854e8a1fdc819f4bc249979b3b196bce4de5afb134a947ed71fa2f",
   "display_name": "R",
   "language": "R"
  },
  "language_info": {
   "name": "R",
   "codemirror_mode": "r",
   "pygments_lexer": "r",
   "mimetype": "text/x-r-source",
   "file_extension": ".r",
   "version": "4.3.3"
  }
 },
 "nbformat": 4,
 "nbformat_minor": 4
}
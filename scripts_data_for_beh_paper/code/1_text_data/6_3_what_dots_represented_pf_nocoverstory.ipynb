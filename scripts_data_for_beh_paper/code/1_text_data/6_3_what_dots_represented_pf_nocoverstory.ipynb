{
 "cells": [
  {
   "cell_type": "code",
   "execution_count": 1,
   "source": [
    "import pandas as pd\n",
    "import seaborn as sns\n",
    "import matplotlib.pyplot as plt"
   ],
   "outputs": [],
   "metadata": {}
  },
  {
   "cell_type": "code",
   "execution_count": 2,
   "source": [
    "root_folder = '../../data/text_responses/'"
   ],
   "outputs": [],
   "metadata": {}
  },
  {
   "cell_type": "code",
   "execution_count": 3,
   "source": [
    "df = pd.read_csv(f'{root_folder}/playfight/with_cover_story/data_all_subs_forQC_anonymised.csv',index_col=[0])\n",
    "df.head()"
   ],
   "outputs": [
    {
     "output_type": "execute_result",
     "data": {
      "text/html": [
       "<div>\n",
       "<style scoped>\n",
       "    .dataframe tbody tr th:only-of-type {\n",
       "        vertical-align: middle;\n",
       "    }\n",
       "\n",
       "    .dataframe tbody tr th {\n",
       "        vertical-align: top;\n",
       "    }\n",
       "\n",
       "    .dataframe thead th {\n",
       "        text-align: right;\n",
       "    }\n",
       "</style>\n",
       "<table border=\"1\" class=\"dataframe\">\n",
       "  <thead>\n",
       "    <tr style=\"text-align: right;\">\n",
       "      <th></th>\n",
       "      <th>index</th>\n",
       "      <th>sub_ind</th>\n",
       "      <th>PID</th>\n",
       "      <th>date</th>\n",
       "      <th>stimset_rows</th>\n",
       "      <th>total_trials</th>\n",
       "      <th>nplanned_trialIDs</th>\n",
       "      <th>npresented_trialIDs</th>\n",
       "      <th>planned_trialIDs_all</th>\n",
       "      <th>presented_trialIDs_all</th>\n",
       "      <th>chargeSpeeds</th>\n",
       "      <th>chargeSpeeds_sorted</th>\n",
       "      <th>agent1Colors</th>\n",
       "      <th>responses</th>\n",
       "      <th>agents_type</th>\n",
       "      <th>strategy</th>\n",
       "      <th>feedback</th>\n",
       "    </tr>\n",
       "  </thead>\n",
       "  <tbody>\n",
       "    <tr>\n",
       "      <th>0</th>\n",
       "      <td>0</td>\n",
       "      <td>24000</td>\n",
       "      <td>659ecf23553b45a0326cb6b2</td>\n",
       "      <td>4</td>\n",
       "      <td>22</td>\n",
       "      <td>50</td>\n",
       "      <td>7</td>\n",
       "      <td>7</td>\n",
       "      <td>['81e3fe3f-5a7c-42d3-8ea7-c2bf3831288b', '59df...</td>\n",
       "      <td>['59df47e5-696a-407f-aa33-94dab9b3e492', '86e2...</td>\n",
       "      <td>[2.75, 4.0, 7.75, 6.5, 9.0, 5.25, 1.5]</td>\n",
       "      <td>[1.5, 2.75, 4.0, 5.25, 6.5, 7.75, 9.0]</td>\n",
       "      <td>['grey', 'black', 'grey', 'black', 'black', 'g...</td>\n",
       "      <td>['fighting', 'collision (fighting)', 'collisio...</td>\n",
       "      <td>children</td>\n",
       "      <td>I try to observe if there was a collision and ...</td>\n",
       "      <td>None</td>\n",
       "    </tr>\n",
       "    <tr>\n",
       "      <th>1</th>\n",
       "      <td>2</td>\n",
       "      <td>24002</td>\n",
       "      <td>5c4fe78f8ac59200014cf239</td>\n",
       "      <td>4</td>\n",
       "      <td>20</td>\n",
       "      <td>38</td>\n",
       "      <td>7</td>\n",
       "      <td>6</td>\n",
       "      <td>['e4bc0778-6eb7-4065-bf77-a9b6e293735f', 'c49b...</td>\n",
       "      <td>['6e2932f2-a9d1-4f2a-9599-a872b605c1eb', 'ed38...</td>\n",
       "      <td>[9.0, 6.5, 5.25, 7.75, 4.0, 2.75]</td>\n",
       "      <td>[2.75, 4.0, 5.25, 6.5, 7.75, 9.0]</td>\n",
       "      <td>['grey', 'black', 'grey', 'grey', 'black', 'gr...</td>\n",
       "      <td>['The dots are running into each other and col...</td>\n",
       "      <td></td>\n",
       "      <td></td>\n",
       "      <td></td>\n",
       "    </tr>\n",
       "    <tr>\n",
       "      <th>2</th>\n",
       "      <td>15</td>\n",
       "      <td>24015</td>\n",
       "      <td>657f030038e31904b66cc81e</td>\n",
       "      <td>4</td>\n",
       "      <td>9</td>\n",
       "      <td>43</td>\n",
       "      <td>7</td>\n",
       "      <td>7</td>\n",
       "      <td>['7e595f18-f375-4ca5-b922-61b8d693804d', '88ff...</td>\n",
       "      <td>['8ecf5da9-a68c-4392-8c1a-ecb9754dd9d9', '1d41...</td>\n",
       "      <td>[7.75, 4.0, 5.25, 9.0, 1.5, 2.75, 6.5]</td>\n",
       "      <td>[1.5, 2.75, 4.0, 5.25, 6.5, 7.75, 9.0]</td>\n",
       "      <td>['grey', 'black', 'grey', 'black', 'black', 'g...</td>\n",
       "      <td>['they were bumping into each other and reboun...</td>\n",
       "      <td>children</td>\n",
       "      <td>purely observation, the speed of the collision...</td>\n",
       "      <td>no</td>\n",
       "    </tr>\n",
       "    <tr>\n",
       "      <th>3</th>\n",
       "      <td>16</td>\n",
       "      <td>24016</td>\n",
       "      <td>610826a7604223dea33406f1</td>\n",
       "      <td>4</td>\n",
       "      <td>13</td>\n",
       "      <td>43</td>\n",
       "      <td>7</td>\n",
       "      <td>7</td>\n",
       "      <td>['1a8cf3c1-690b-449c-bb36-fd3b251837c1', '0bad...</td>\n",
       "      <td>['6a57f963-5846-4eaa-a5d2-0e658499a4a9', '27f4...</td>\n",
       "      <td>[9.0, 5.25, 2.75, 4.0, 1.5, 6.5, 7.75]</td>\n",
       "      <td>[1.5, 2.75, 4.0, 5.25, 6.5, 7.75, 9.0]</td>\n",
       "      <td>['grey', 'grey', 'black', 'black', 'grey', 'bl...</td>\n",
       "      <td>['Fighting', 'Rough', 'Playing', 'catching up'...</td>\n",
       "      <td>children</td>\n",
       "      <td>Paying attention to the speed of the dots.</td>\n",
       "      <td>NaN</td>\n",
       "    </tr>\n",
       "    <tr>\n",
       "      <th>4</th>\n",
       "      <td>18</td>\n",
       "      <td>24018</td>\n",
       "      <td>654a4e70d54c53b51f1dde61</td>\n",
       "      <td>4</td>\n",
       "      <td>8</td>\n",
       "      <td>43</td>\n",
       "      <td>7</td>\n",
       "      <td>7</td>\n",
       "      <td>['9d425f58-501f-43f3-955e-05126bd09bb5', 'cc65...</td>\n",
       "      <td>['6e2932f2-a9d1-4f2a-9599-a872b605c1eb', '9d42...</td>\n",
       "      <td>[9.0, 1.5, 4.0, 2.75, 7.75, 5.25, 6.5]</td>\n",
       "      <td>[1.5, 2.75, 4.0, 5.25, 6.5, 7.75, 9.0]</td>\n",
       "      <td>['grey', 'grey', 'grey', 'black', 'black', 'bl...</td>\n",
       "      <td>['running away and coming together', 'smooth f...</td>\n",
       "      <td>children</td>\n",
       "      <td>no</td>\n",
       "      <td>no</td>\n",
       "    </tr>\n",
       "  </tbody>\n",
       "</table>\n",
       "</div>"
      ],
      "text/plain": [
       "   index  sub_ind                       PID  date  stimset_rows  total_trials  \\\n",
       "0      0    24000  659ecf23553b45a0326cb6b2     4            22            50   \n",
       "1      2    24002  5c4fe78f8ac59200014cf239     4            20            38   \n",
       "2     15    24015  657f030038e31904b66cc81e     4             9            43   \n",
       "3     16    24016  610826a7604223dea33406f1     4            13            43   \n",
       "4     18    24018  654a4e70d54c53b51f1dde61     4             8            43   \n",
       "\n",
       "   nplanned_trialIDs  npresented_trialIDs  \\\n",
       "0                  7                    7   \n",
       "1                  7                    6   \n",
       "2                  7                    7   \n",
       "3                  7                    7   \n",
       "4                  7                    7   \n",
       "\n",
       "                                planned_trialIDs_all  \\\n",
       "0  ['81e3fe3f-5a7c-42d3-8ea7-c2bf3831288b', '59df...   \n",
       "1  ['e4bc0778-6eb7-4065-bf77-a9b6e293735f', 'c49b...   \n",
       "2  ['7e595f18-f375-4ca5-b922-61b8d693804d', '88ff...   \n",
       "3  ['1a8cf3c1-690b-449c-bb36-fd3b251837c1', '0bad...   \n",
       "4  ['9d425f58-501f-43f3-955e-05126bd09bb5', 'cc65...   \n",
       "\n",
       "                              presented_trialIDs_all  \\\n",
       "0  ['59df47e5-696a-407f-aa33-94dab9b3e492', '86e2...   \n",
       "1  ['6e2932f2-a9d1-4f2a-9599-a872b605c1eb', 'ed38...   \n",
       "2  ['8ecf5da9-a68c-4392-8c1a-ecb9754dd9d9', '1d41...   \n",
       "3  ['6a57f963-5846-4eaa-a5d2-0e658499a4a9', '27f4...   \n",
       "4  ['6e2932f2-a9d1-4f2a-9599-a872b605c1eb', '9d42...   \n",
       "\n",
       "                             chargeSpeeds  \\\n",
       "0  [2.75, 4.0, 7.75, 6.5, 9.0, 5.25, 1.5]   \n",
       "1       [9.0, 6.5, 5.25, 7.75, 4.0, 2.75]   \n",
       "2  [7.75, 4.0, 5.25, 9.0, 1.5, 2.75, 6.5]   \n",
       "3  [9.0, 5.25, 2.75, 4.0, 1.5, 6.5, 7.75]   \n",
       "4  [9.0, 1.5, 4.0, 2.75, 7.75, 5.25, 6.5]   \n",
       "\n",
       "                      chargeSpeeds_sorted  \\\n",
       "0  [1.5, 2.75, 4.0, 5.25, 6.5, 7.75, 9.0]   \n",
       "1       [2.75, 4.0, 5.25, 6.5, 7.75, 9.0]   \n",
       "2  [1.5, 2.75, 4.0, 5.25, 6.5, 7.75, 9.0]   \n",
       "3  [1.5, 2.75, 4.0, 5.25, 6.5, 7.75, 9.0]   \n",
       "4  [1.5, 2.75, 4.0, 5.25, 6.5, 7.75, 9.0]   \n",
       "\n",
       "                                        agent1Colors  \\\n",
       "0  ['grey', 'black', 'grey', 'black', 'black', 'g...   \n",
       "1  ['grey', 'black', 'grey', 'grey', 'black', 'gr...   \n",
       "2  ['grey', 'black', 'grey', 'black', 'black', 'g...   \n",
       "3  ['grey', 'grey', 'black', 'black', 'grey', 'bl...   \n",
       "4  ['grey', 'grey', 'grey', 'black', 'black', 'bl...   \n",
       "\n",
       "                                           responses agents_type  \\\n",
       "0  ['fighting', 'collision (fighting)', 'collisio...    children   \n",
       "1  ['The dots are running into each other and col...               \n",
       "2  ['they were bumping into each other and reboun...    children   \n",
       "3  ['Fighting', 'Rough', 'Playing', 'catching up'...    children   \n",
       "4  ['running away and coming together', 'smooth f...    children   \n",
       "\n",
       "                                            strategy feedback  \n",
       "0  I try to observe if there was a collision and ...     None  \n",
       "1                                                              \n",
       "2  purely observation, the speed of the collision...       no  \n",
       "3         Paying attention to the speed of the dots.      NaN  \n",
       "4                                                 no       no  "
      ]
     },
     "metadata": {},
     "execution_count": 3
    }
   ],
   "metadata": {}
  },
  {
   "cell_type": "code",
   "execution_count": 4,
   "source": [
    "df.shape"
   ],
   "outputs": [
    {
     "output_type": "execute_result",
     "data": {
      "text/plain": [
       "(102, 17)"
      ]
     },
     "metadata": {},
     "execution_count": 4
    }
   ],
   "metadata": {}
  },
  {
   "cell_type": "code",
   "execution_count": 5,
   "source": [
    "df.groupby(['agents_type']).count().iloc[:,0]"
   ],
   "outputs": [
    {
     "output_type": "execute_result",
     "data": {
      "text/plain": [
       "agents_type\n",
       "             8\n",
       "children    93\n",
       "magnets      1\n",
       "Name: index, dtype: int64"
      ]
     },
     "metadata": {},
     "execution_count": 5
    }
   ],
   "metadata": {}
  },
  {
   "cell_type": "code",
   "execution_count": 6,
   "source": [
    "df.loc[df['agents_type']== 'something else (describe on the next page)',['sub_ind','strategy','feedback']].values"
   ],
   "outputs": [
    {
     "output_type": "execute_result",
     "data": {
      "text/plain": [
       "array([], shape=(0, 3), dtype=object)"
      ]
     },
     "metadata": {},
     "execution_count": 6
    }
   ],
   "metadata": {}
  },
  {
   "cell_type": "code",
   "execution_count": 7,
   "source": [
    "df.shape"
   ],
   "outputs": [
    {
     "output_type": "execute_result",
     "data": {
      "text/plain": [
       "(102, 17)"
      ]
     },
     "metadata": {},
     "execution_count": 7
    }
   ],
   "metadata": {}
  },
  {
   "cell_type": "code",
   "execution_count": 8,
   "source": [
    "df = df[df['agents_type'] != ' ']\n",
    "df.shape"
   ],
   "outputs": [
    {
     "output_type": "execute_result",
     "data": {
      "text/plain": [
       "(94, 17)"
      ]
     },
     "metadata": {},
     "execution_count": 8
    }
   ],
   "metadata": {}
  },
  {
   "cell_type": "code",
   "execution_count": 48,
   "source": [
    "df.loc[df['agents_type']=='magnets',['strategy','feedback']]"
   ],
   "outputs": [
    {
     "output_type": "execute_result",
     "data": {
      "text/html": [
       "<div>\n",
       "<style scoped>\n",
       "    .dataframe tbody tr th:only-of-type {\n",
       "        vertical-align: middle;\n",
       "    }\n",
       "\n",
       "    .dataframe tbody tr th {\n",
       "        vertical-align: top;\n",
       "    }\n",
       "\n",
       "    .dataframe thead th {\n",
       "        text-align: right;\n",
       "    }\n",
       "</style>\n",
       "<table border=\"1\" class=\"dataframe\">\n",
       "  <thead>\n",
       "    <tr style=\"text-align: right;\">\n",
       "      <th></th>\n",
       "      <th>strategy</th>\n",
       "      <th>feedback</th>\n",
       "    </tr>\n",
       "  </thead>\n",
       "  <tbody>\n",
       "    <tr>\n",
       "      <th>84</th>\n",
       "      <td>yes</td>\n",
       "      <td>no</td>\n",
       "    </tr>\n",
       "  </tbody>\n",
       "</table>\n",
       "</div>"
      ],
      "text/plain": [
       "   strategy feedback\n",
       "84      yes       no"
      ]
     },
     "metadata": {},
     "execution_count": 48
    }
   ],
   "metadata": {}
  },
  {
   "cell_type": "code",
   "execution_count": 32,
   "source": [
    "df_count = df.groupby(['agents_type']).count().iloc[:,0].reset_index()\n",
    "if 'index' in df_count.columns:\n",
    "    df_count.rename(columns = {'index':'count'},inplace=True)\n",
    "\n",
    "df_count.sort_values(by=['count'],inplace=True,ascending=False)\n",
    "df_count['count_pc'] = 100*df_count['count']/df_count['count'].sum()\n",
    "df_count"
   ],
   "outputs": [
    {
     "output_type": "execute_result",
     "data": {
      "text/html": [
       "<div>\n",
       "<style scoped>\n",
       "    .dataframe tbody tr th:only-of-type {\n",
       "        vertical-align: middle;\n",
       "    }\n",
       "\n",
       "    .dataframe tbody tr th {\n",
       "        vertical-align: top;\n",
       "    }\n",
       "\n",
       "    .dataframe thead th {\n",
       "        text-align: right;\n",
       "    }\n",
       "</style>\n",
       "<table border=\"1\" class=\"dataframe\">\n",
       "  <thead>\n",
       "    <tr style=\"text-align: right;\">\n",
       "      <th></th>\n",
       "      <th>agents_type</th>\n",
       "      <th>count</th>\n",
       "      <th>count_pc</th>\n",
       "    </tr>\n",
       "  </thead>\n",
       "  <tbody>\n",
       "    <tr>\n",
       "      <th>0</th>\n",
       "      <td>children</td>\n",
       "      <td>93</td>\n",
       "      <td>98.93617</td>\n",
       "    </tr>\n",
       "    <tr>\n",
       "      <th>1</th>\n",
       "      <td>magnets</td>\n",
       "      <td>1</td>\n",
       "      <td>1.06383</td>\n",
       "    </tr>\n",
       "  </tbody>\n",
       "</table>\n",
       "</div>"
      ],
      "text/plain": [
       "  agents_type  count  count_pc\n",
       "0    children     93  98.93617\n",
       "1     magnets      1   1.06383"
      ]
     },
     "metadata": {},
     "execution_count": 32
    }
   ],
   "metadata": {}
  },
  {
   "cell_type": "code",
   "execution_count": 33,
   "source": [
    "df_count = df_count.append({'agents_type':'adults','count':0,'count_pc':0},ignore_index=True)\n",
    "df_count = df_count.append({'agents_type':'balls','count':0,'count_pc':0},ignore_index=True)\n",
    "df_count = df_count.append({'agents_type':'animals','count':0,'count_pc':0},ignore_index=True)\n",
    "df_count"
   ],
   "outputs": [
    {
     "output_type": "execute_result",
     "data": {
      "text/html": [
       "<div>\n",
       "<style scoped>\n",
       "    .dataframe tbody tr th:only-of-type {\n",
       "        vertical-align: middle;\n",
       "    }\n",
       "\n",
       "    .dataframe tbody tr th {\n",
       "        vertical-align: top;\n",
       "    }\n",
       "\n",
       "    .dataframe thead th {\n",
       "        text-align: right;\n",
       "    }\n",
       "</style>\n",
       "<table border=\"1\" class=\"dataframe\">\n",
       "  <thead>\n",
       "    <tr style=\"text-align: right;\">\n",
       "      <th></th>\n",
       "      <th>agents_type</th>\n",
       "      <th>count</th>\n",
       "      <th>count_pc</th>\n",
       "    </tr>\n",
       "  </thead>\n",
       "  <tbody>\n",
       "    <tr>\n",
       "      <th>0</th>\n",
       "      <td>children</td>\n",
       "      <td>93</td>\n",
       "      <td>98.93617</td>\n",
       "    </tr>\n",
       "    <tr>\n",
       "      <th>1</th>\n",
       "      <td>magnets</td>\n",
       "      <td>1</td>\n",
       "      <td>1.06383</td>\n",
       "    </tr>\n",
       "    <tr>\n",
       "      <th>2</th>\n",
       "      <td>adults</td>\n",
       "      <td>0</td>\n",
       "      <td>0.00000</td>\n",
       "    </tr>\n",
       "    <tr>\n",
       "      <th>3</th>\n",
       "      <td>balls</td>\n",
       "      <td>0</td>\n",
       "      <td>0.00000</td>\n",
       "    </tr>\n",
       "    <tr>\n",
       "      <th>4</th>\n",
       "      <td>animals</td>\n",
       "      <td>0</td>\n",
       "      <td>0.00000</td>\n",
       "    </tr>\n",
       "  </tbody>\n",
       "</table>\n",
       "</div>"
      ],
      "text/plain": [
       "  agents_type  count  count_pc\n",
       "0    children     93  98.93617\n",
       "1     magnets      1   1.06383\n",
       "2      adults      0   0.00000\n",
       "3       balls      0   0.00000\n",
       "4     animals      0   0.00000"
      ]
     },
     "metadata": {},
     "execution_count": 33
    }
   ],
   "metadata": {}
  },
  {
   "cell_type": "code",
   "execution_count": 34,
   "source": [
    "results_loc = '../../results/text_analysis/pf/with_cover_story'"
   ],
   "outputs": [],
   "metadata": {}
  },
  {
   "cell_type": "code",
   "execution_count": 35,
   "source": [
    "s=14 # CHANGE FONTSIZE HERE\n",
    "plt.rc('font', size=s) #controls default text size\n",
    "plt.rc('axes', titlesize=s) #fontsize of the title\n",
    "plt.rc('axes', labelsize=s) #fontsize of the x and y labels\n",
    "plt.rc('xtick', labelsize=s) #fontsize of the x tick labels\n",
    "plt.rc('ytick', labelsize=s) #fontsize of the y tick labels\n",
    "plt.rc('legend', fontsize=s) #fontsize of the legend"
   ],
   "outputs": [],
   "metadata": {}
  },
  {
   "cell_type": "code",
   "execution_count": 36,
   "source": [
    "plt.figure(figsize=(7,3))\n",
    "sns.barplot(data=df_count,x='agents_type',y='count_pc',color = 'grey')\n",
    "plt.ylabel('% subs')\n",
    "plt.xlabel('')\n",
    "plt.savefig(f'{results_loc}/agents_type_bar.png')"
   ],
   "outputs": [
    {
     "output_type": "display_data",
     "data": {
      "image/png": "[encoded data removed]",
      "text/plain": [
       "<Figure size 504x216 with 1 Axes>"
      ]
     },
     "metadata": {
      "needs_background": "light"
     }
    }
   ],
   "metadata": {}
  },
  {
   "cell_type": "code",
   "execution_count": null,
   "source": [],
   "outputs": [],
   "metadata": {}
  },
  {
   "cell_type": "code",
   "execution_count": 45,
   "source": [
    "df_count['agent_type_withpc'] = [f\"{row['agents_type']}\\n({row['count_pc']:.1f}%)\" for _,row in df_count.iterrows()]\n",
    "df_count.loc[df_count['agents_type'].isin(['adults','balls','animals']),'agent_type_withpc'] = ''"
   ],
   "outputs": [],
   "metadata": {}
  },
  {
   "cell_type": "code",
   "execution_count": 46,
   "source": [
    "df_count.sort_values(by=['agents_type'],inplace=True,ascending=False)"
   ],
   "outputs": [],
   "metadata": {}
  },
  {
   "cell_type": "code",
   "execution_count": 47,
   "source": [
    "plt.pie(df_count['count_pc'],labels=df_count['agent_type_withpc'])\n",
    "plt.savefig(f'{results_loc}/agents_type_pie.png',bbox_inches='tight')"
   ],
   "outputs": [
    {
     "output_type": "display_data",
     "data": {
      "image/png": "[encoded data removed]",
      "text/plain": [
       "<Figure size 432x288 with 1 Axes>"
      ]
     },
     "metadata": {}
    }
   ],
   "metadata": {}
  },
  {
   "cell_type": "code",
   "execution_count": null,
   "source": [],
   "outputs": [],
   "metadata": {}
  }
 ],
 "metadata": {
  "orig_nbformat": 4,
  "language_info": {
   "name": "python",
   "version": "3.7.11",
   "mimetype": "text/x-python",
   "codemirror_mode": {
    "name": "ipython",
    "version": 3
   },
   "pygments_lexer": "ipython3",
   "nbconvert_exporter": "python",
   "file_extension": ".py"
  },
  "kernelspec": {
   "name": "python3",
   "display_name": "Python 3.7.11 64-bit ('py37': conda)"
  },
  "interpreter": {
   "hash": "30fd9c97283ec1278eec212a8f8afab06ad903f38228c32cacb469eba8e56f4f"
  }
 },
 "nbformat": 4,
 "nbformat_minor": 2
}
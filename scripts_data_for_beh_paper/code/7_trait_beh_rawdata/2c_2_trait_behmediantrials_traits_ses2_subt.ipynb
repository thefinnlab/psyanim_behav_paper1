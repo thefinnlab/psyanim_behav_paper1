{
 "cells": [
  {
   "cell_type": "code",
   "execution_count": 18,
   "source": [
    "print(\"Hello, R in Jupyter!\")"
   ],
   "outputs": [
    {
     "output_type": "stream",
     "name": "stdout",
     "text": [
      "[1] \"Hello, R in Jupyter!\"\n"
     ]
    }
   ],
   "metadata": {}
  },
  {
   "cell_type": "code",
   "execution_count": 19,
   "source": [
    "# Basic arithmetic\n",
    "result <- 2 + 2\n",
    "print(result)"
   ],
   "outputs": [
    {
     "output_type": "stream",
     "name": "stdout",
     "text": [
      "[1] 4\n"
     ]
    }
   ],
   "metadata": {}
  },
  {
   "cell_type": "code",
   "execution_count": 20,
   "source": [
    "ses <- 2"
   ],
   "outputs": [],
   "metadata": {}
  },
  {
   "cell_type": "code",
   "execution_count": 21,
   "source": [
    "root_dir = '../../data/subtlety_data/'#/Users/f0053cz/Documents/psyanim_v2/scripts_for_beh_paper/data/subtlety_playfight_data/'\n",
    "flname = paste('median_apr_ses',ses,'_traits.csv', sep = \"\")\n",
    "data <- read.csv(paste(root_dir,flname, sep = \"/\"))\n",
    "# print(data)\n",
    "head(data, 5)"
   ],
   "outputs": [
    {
     "output_type": "display_data",
     "data": {
      "text/html": [
       "<table class=\"dataframe\">\n",
       "<caption>A data.frame: 5 × 25</caption>\n",
       "<thead>\n",
       "\t<tr><th></th><th scope=col>X</th><th scope=col>subID</th><th scope=col>subtlety</th><th scope=col>slider</th><th scope=col>RT</th><th scope=col>accuracy</th><th scope=col>trial_ind</th><th scope=col>rating180</th><th scope=col>diff_from_180</th><th scope=col>aq_social_skill</th><th scope=col>⋯</th><th scope=col>panas_neg</th><th scope=col>ffi_neuroticism</th><th scope=col>ffi_extraversion</th><th scope=col>ffi_openness</th><th scope=col>ffi_agreeableness</th><th scope=col>ffi_conscientiousness</th><th scope=col>ucla</th><th scope=col>friend_num</th><th scope=col>bias</th><th scope=col>amplitude</th></tr>\n",
       "\t<tr><th></th><th scope=col>&lt;int&gt;</th><th scope=col>&lt;int&gt;</th><th scope=col>&lt;int&gt;</th><th scope=col>&lt;dbl&gt;</th><th scope=col>&lt;dbl&gt;</th><th scope=col>&lt;dbl&gt;</th><th scope=col>&lt;dbl&gt;</th><th scope=col>&lt;dbl&gt;</th><th scope=col>&lt;dbl&gt;</th><th scope=col>&lt;dbl&gt;</th><th scope=col>⋯</th><th scope=col>&lt;dbl&gt;</th><th scope=col>&lt;dbl&gt;</th><th scope=col>&lt;dbl&gt;</th><th scope=col>&lt;dbl&gt;</th><th scope=col>&lt;dbl&gt;</th><th scope=col>&lt;dbl&gt;</th><th scope=col>&lt;dbl&gt;</th><th scope=col>&lt;dbl&gt;</th><th scope=col>&lt;dbl&gt;</th><th scope=col>&lt;dbl&gt;</th></tr>\n",
       "</thead>\n",
       "<tbody>\n",
       "\t<tr><th scope=row>1</th><td>0</td><td>2</td><td>  0</td><td>98.5</td><td>2.4580</td><td>1</td><td>36.0</td><td>13</td><td>85.5</td><td>10</td><td>⋯</td><td>2</td><td>24</td><td>32</td><td>36</td><td>44</td><td>46</td><td>40</td><td>2</td><td>0.1798389</td><td>0.7267199</td></tr>\n",
       "\t<tr><th scope=row>2</th><td>1</td><td>2</td><td> 30</td><td>91.0</td><td>2.4005</td><td>1</td><td>46.0</td><td>13</td><td>78.0</td><td>10</td><td>⋯</td><td>2</td><td>24</td><td>32</td><td>36</td><td>44</td><td>46</td><td>40</td><td>2</td><td>0.1798389</td><td>0.7267199</td></tr>\n",
       "\t<tr><th scope=row>3</th><td>2</td><td>2</td><td> 60</td><td>86.0</td><td>2.4195</td><td>1</td><td>48.5</td><td>13</td><td>73.0</td><td>10</td><td>⋯</td><td>2</td><td>24</td><td>32</td><td>36</td><td>44</td><td>46</td><td>40</td><td>2</td><td>0.1798389</td><td>0.7267199</td></tr>\n",
       "\t<tr><th scope=row>4</th><td>3</td><td>2</td><td> 90</td><td>70.5</td><td>2.3165</td><td>1</td><td>35.5</td><td>13</td><td>57.5</td><td>10</td><td>⋯</td><td>2</td><td>24</td><td>32</td><td>36</td><td>44</td><td>46</td><td>40</td><td>2</td><td>0.1798389</td><td>0.7267199</td></tr>\n",
       "\t<tr><th scope=row>5</th><td>4</td><td>2</td><td>120</td><td>53.0</td><td>2.7380</td><td>1</td><td>45.5</td><td>13</td><td>40.0</td><td>10</td><td>⋯</td><td>2</td><td>24</td><td>32</td><td>36</td><td>44</td><td>46</td><td>40</td><td>2</td><td>0.1798389</td><td>0.7267199</td></tr>\n",
       "</tbody>\n",
       "</table>\n"
      ],
      "text/latex": [
       "A data.frame: 5 × 25\n",
       "\\begin{tabular}{r|lllllllllllllllllllll}\n",
       "  & X & subID & subtlety & slider & RT & accuracy & trial\\_ind & rating180 & diff\\_from\\_180 & aq\\_social\\_skill & ⋯ & panas\\_neg & ffi\\_neuroticism & ffi\\_extraversion & ffi\\_openness & ffi\\_agreeableness & ffi\\_conscientiousness & ucla & friend\\_num & bias & amplitude\\\\\n",
       "  & <int> & <int> & <int> & <dbl> & <dbl> & <dbl> & <dbl> & <dbl> & <dbl> & <dbl> & ⋯ & <dbl> & <dbl> & <dbl> & <dbl> & <dbl> & <dbl> & <dbl> & <dbl> & <dbl> & <dbl>\\\\\n",
       "\\hline\n",
       "\t1 & 0 & 2 &   0 & 98.5 & 2.4580 & 1 & 36.0 & 13 & 85.5 & 10 & ⋯ & 2 & 24 & 32 & 36 & 44 & 46 & 40 & 2 & 0.1798389 & 0.7267199\\\\\n",
       "\t2 & 1 & 2 &  30 & 91.0 & 2.4005 & 1 & 46.0 & 13 & 78.0 & 10 & ⋯ & 2 & 24 & 32 & 36 & 44 & 46 & 40 & 2 & 0.1798389 & 0.7267199\\\\\n",
       "\t3 & 2 & 2 &  60 & 86.0 & 2.4195 & 1 & 48.5 & 13 & 73.0 & 10 & ⋯ & 2 & 24 & 32 & 36 & 44 & 46 & 40 & 2 & 0.1798389 & 0.7267199\\\\\n",
       "\t4 & 3 & 2 &  90 & 70.5 & 2.3165 & 1 & 35.5 & 13 & 57.5 & 10 & ⋯ & 2 & 24 & 32 & 36 & 44 & 46 & 40 & 2 & 0.1798389 & 0.7267199\\\\\n",
       "\t5 & 4 & 2 & 120 & 53.0 & 2.7380 & 1 & 45.5 & 13 & 40.0 & 10 & ⋯ & 2 & 24 & 32 & 36 & 44 & 46 & 40 & 2 & 0.1798389 & 0.7267199\\\\\n",
       "\\end{tabular}\n"
      ],
      "text/markdown": [
       "\n",
       "A data.frame: 5 × 25\n",
       "\n",
       "| <!--/--> | X &lt;int&gt; | subID &lt;int&gt; | subtlety &lt;int&gt; | slider &lt;dbl&gt; | RT &lt;dbl&gt; | accuracy &lt;dbl&gt; | trial_ind &lt;dbl&gt; | rating180 &lt;dbl&gt; | diff_from_180 &lt;dbl&gt; | aq_social_skill &lt;dbl&gt; | ⋯ ⋯ | panas_neg &lt;dbl&gt; | ffi_neuroticism &lt;dbl&gt; | ffi_extraversion &lt;dbl&gt; | ffi_openness &lt;dbl&gt; | ffi_agreeableness &lt;dbl&gt; | ffi_conscientiousness &lt;dbl&gt; | ucla &lt;dbl&gt; | friend_num &lt;dbl&gt; | bias &lt;dbl&gt; | amplitude &lt;dbl&gt; |\n",
       "|---|---|---|---|---|---|---|---|---|---|---|---|---|---|---|---|---|---|---|---|---|---|\n",
       "| 1 | 0 | 2 |   0 | 98.5 | 2.4580 | 1 | 36.0 | 13 | 85.5 | 10 | ⋯ | 2 | 24 | 32 | 36 | 44 | 46 | 40 | 2 | 0.1798389 | 0.7267199 |\n",
       "| 2 | 1 | 2 |  30 | 91.0 | 2.4005 | 1 | 46.0 | 13 | 78.0 | 10 | ⋯ | 2 | 24 | 32 | 36 | 44 | 46 | 40 | 2 | 0.1798389 | 0.7267199 |\n",
       "| 3 | 2 | 2 |  60 | 86.0 | 2.4195 | 1 | 48.5 | 13 | 73.0 | 10 | ⋯ | 2 | 24 | 32 | 36 | 44 | 46 | 40 | 2 | 0.1798389 | 0.7267199 |\n",
       "| 4 | 3 | 2 |  90 | 70.5 | 2.3165 | 1 | 35.5 | 13 | 57.5 | 10 | ⋯ | 2 | 24 | 32 | 36 | 44 | 46 | 40 | 2 | 0.1798389 | 0.7267199 |\n",
       "| 5 | 4 | 2 | 120 | 53.0 | 2.7380 | 1 | 45.5 | 13 | 40.0 | 10 | ⋯ | 2 | 24 | 32 | 36 | 44 | 46 | 40 | 2 | 0.1798389 | 0.7267199 |\n",
       "\n"
      ],
      "text/plain": [
       "  X subID subtlety slider RT     accuracy trial_ind rating180 diff_from_180\n",
       "1 0 2       0      98.5   2.4580 1        36.0      13        85.5         \n",
       "2 1 2      30      91.0   2.4005 1        46.0      13        78.0         \n",
       "3 2 2      60      86.0   2.4195 1        48.5      13        73.0         \n",
       "4 3 2      90      70.5   2.3165 1        35.5      13        57.5         \n",
       "5 4 2     120      53.0   2.7380 1        45.5      13        40.0         \n",
       "  aq_social_skill ⋯ panas_neg ffi_neuroticism ffi_extraversion ffi_openness\n",
       "1 10              ⋯ 2         24              32               36          \n",
       "2 10              ⋯ 2         24              32               36          \n",
       "3 10              ⋯ 2         24              32               36          \n",
       "4 10              ⋯ 2         24              32               36          \n",
       "5 10              ⋯ 2         24              32               36          \n",
       "  ffi_agreeableness ffi_conscientiousness ucla friend_num bias      amplitude\n",
       "1 44                46                    40   2          0.1798389 0.7267199\n",
       "2 44                46                    40   2          0.1798389 0.7267199\n",
       "3 44                46                    40   2          0.1798389 0.7267199\n",
       "4 44                46                    40   2          0.1798389 0.7267199\n",
       "5 44                46                    40   2          0.1798389 0.7267199"
      ]
     },
     "metadata": {}
    }
   ],
   "metadata": {}
  },
  {
   "cell_type": "code",
   "execution_count": 22,
   "source": [
    "colnames(data)"
   ],
   "outputs": [
    {
     "output_type": "display_data",
     "data": {
      "text/html": [
       "<style>\n",
       ".list-inline {list-style: none; margin:0; padding: 0}\n",
       ".list-inline>li {display: inline-block}\n",
       ".list-inline>li:not(:last-child)::after {content: \"\\00b7\"; padding: 0 .5ex}\n",
       "</style>\n",
       "<ol class=list-inline><li>'X'</li><li>'subID'</li><li>'subtlety'</li><li>'slider'</li><li>'RT'</li><li>'accuracy'</li><li>'trial_ind'</li><li>'rating180'</li><li>'diff_from_180'</li><li>'aq_social_skill'</li><li>'aq_attn_switch'</li><li>'aq_img'</li><li>'aq_attn_to_det'</li><li>'aq_comm'</li><li>'panas_pos'</li><li>'panas_neg'</li><li>'ffi_neuroticism'</li><li>'ffi_extraversion'</li><li>'ffi_openness'</li><li>'ffi_agreeableness'</li><li>'ffi_conscientiousness'</li><li>'ucla'</li><li>'friend_num'</li><li>'bias'</li><li>'amplitude'</li></ol>\n"
      ],
      "text/latex": [
       "\\begin{enumerate*}\n",
       "\\item 'X'\n",
       "\\item 'subID'\n",
       "\\item 'subtlety'\n",
       "\\item 'slider'\n",
       "\\item 'RT'\n",
       "\\item 'accuracy'\n",
       "\\item 'trial\\_ind'\n",
       "\\item 'rating180'\n",
       "\\item 'diff\\_from\\_180'\n",
       "\\item 'aq\\_social\\_skill'\n",
       "\\item 'aq\\_attn\\_switch'\n",
       "\\item 'aq\\_img'\n",
       "\\item 'aq\\_attn\\_to\\_det'\n",
       "\\item 'aq\\_comm'\n",
       "\\item 'panas\\_pos'\n",
       "\\item 'panas\\_neg'\n",
       "\\item 'ffi\\_neuroticism'\n",
       "\\item 'ffi\\_extraversion'\n",
       "\\item 'ffi\\_openness'\n",
       "\\item 'ffi\\_agreeableness'\n",
       "\\item 'ffi\\_conscientiousness'\n",
       "\\item 'ucla'\n",
       "\\item 'friend\\_num'\n",
       "\\item 'bias'\n",
       "\\item 'amplitude'\n",
       "\\end{enumerate*}\n"
      ],
      "text/markdown": [
       "1. 'X'\n",
       "2. 'subID'\n",
       "3. 'subtlety'\n",
       "4. 'slider'\n",
       "5. 'RT'\n",
       "6. 'accuracy'\n",
       "7. 'trial_ind'\n",
       "8. 'rating180'\n",
       "9. 'diff_from_180'\n",
       "10. 'aq_social_skill'\n",
       "11. 'aq_attn_switch'\n",
       "12. 'aq_img'\n",
       "13. 'aq_attn_to_det'\n",
       "14. 'aq_comm'\n",
       "15. 'panas_pos'\n",
       "16. 'panas_neg'\n",
       "17. 'ffi_neuroticism'\n",
       "18. 'ffi_extraversion'\n",
       "19. 'ffi_openness'\n",
       "20. 'ffi_agreeableness'\n",
       "21. 'ffi_conscientiousness'\n",
       "22. 'ucla'\n",
       "23. 'friend_num'\n",
       "24. 'bias'\n",
       "25. 'amplitude'\n",
       "\n",
       "\n"
      ],
      "text/plain": [
       " [1] \"X\"                     \"subID\"                 \"subtlety\"             \n",
       " [4] \"slider\"                \"RT\"                    \"accuracy\"             \n",
       " [7] \"trial_ind\"             \"rating180\"             \"diff_from_180\"        \n",
       "[10] \"aq_social_skill\"       \"aq_attn_switch\"        \"aq_img\"               \n",
       "[13] \"aq_attn_to_det\"        \"aq_comm\"               \"panas_pos\"            \n",
       "[16] \"panas_neg\"             \"ffi_neuroticism\"       \"ffi_extraversion\"     \n",
       "[19] \"ffi_openness\"          \"ffi_agreeableness\"     \"ffi_conscientiousness\"\n",
       "[22] \"ucla\"                  \"friend_num\"            \"bias\"                 \n",
       "[25] \"amplitude\"            "
      ]
     },
     "metadata": {}
    }
   ],
   "metadata": {}
  },
  {
   "cell_type": "code",
   "execution_count": 23,
   "source": [
    "# Print the dimensions of the data frame\n",
    "print(dim(data))\n",
    "\n",
    "# Drop rows with NA values\n",
    "data <- na.omit(data)\n",
    "\n",
    "# Print the dimensions of the data frame after dropping NA values\n",
    "print(dim(data))"
   ],
   "outputs": [
    {
     "output_type": "stream",
     "name": "stdout",
     "text": [
      "[1] 1596   25\n",
      "[1] 1596   25\n"
     ]
    }
   ],
   "metadata": {}
  },
  {
   "cell_type": "markdown",
   "source": [
    "# mult reg (relevant traits and curve fits)"
   ],
   "metadata": {}
  },
  {
   "cell_type": "code",
   "execution_count": 24,
   "source": [
    "# install.packages(\"dplyr\")\n",
    "library(dplyr)\n",
    "\n",
    "# # Rename specific columns\n",
    "# data <- data %>% rename(\n",
    "#   pos_affect = Positive_reweigh,\n",
    "#   PSE_subt = obj_center_subt,\n",
    "#   range_subt = amplitude_subt,\n",
    "#   bias_subt = bias_xmin_norm_subt,\n",
    "#   PSE_pf = obj_center_pf,\n",
    "#   range_pf = amplitude_pf,\n",
    "#   bias_pf = bias_xmin_norm_pf,\n",
    "#   PSE_diff = obj_center_diff,\n",
    "#   range_diff = amplitude_diff,\n",
    "#   bias_diff = bias_xmin_norm_diff\n",
    "# )"
   ],
   "outputs": [],
   "metadata": {}
  },
  {
   "cell_type": "code",
   "execution_count": 25,
   "source": [
    "trait <- 'aq_social_skill'"
   ],
   "outputs": [],
   "metadata": {}
  },
  {
   "cell_type": "code",
   "execution_count": 26,
   "source": [
    "data1 <- data[data$subtlety == 0 , ]\n",
    "formula <- as.formula(paste(\"slider ~ \", trait))\n",
    "m1 <- lm(formula, data = data1)\n",
    "summary(m1)"
   ],
   "outputs": [
    {
     "output_type": "display_data",
     "data": {
      "text/plain": [
       "\n",
       "Call:\n",
       "lm(formula = formula, data = data1)\n",
       "\n",
       "Residuals:\n",
       "    Min      1Q  Median      3Q     Max \n",
       "-25.645  -4.442   3.087   6.610   6.901 \n",
       "\n",
       "Coefficients:\n",
       "                Estimate Std. Error t value Pr(>|t|)    \n",
       "(Intercept)     93.08380    1.27578  72.962   <2e-16 ***\n",
       "aq_social_skill  0.01532    0.08358   0.183    0.855    \n",
       "---\n",
       "Signif. codes:  0 ‘***’ 0.001 ‘**’ 0.01 ‘*’ 0.05 ‘.’ 0.1 ‘ ’ 1\n",
       "\n",
       "Residual standard error: 7.695 on 226 degrees of freedom\n",
       "Multiple R-squared:  0.0001487,\tAdjusted R-squared:  -0.004275 \n",
       "F-statistic: 0.03362 on 1 and 226 DF,  p-value: 0.8547\n"
      ]
     },
     "metadata": {}
    }
   ],
   "metadata": {}
  },
  {
   "cell_type": "code",
   "execution_count": 27,
   "source": [
    "data1 <- data[data$subtlety == 30 , ]\n",
    "formula <- as.formula(paste(\"slider ~ \", trait))\n",
    "m1 <- lm(formula, data = data1)\n",
    "summary(m1)"
   ],
   "outputs": [
    {
     "output_type": "display_data",
     "data": {
      "text/plain": [
       "\n",
       "Call:\n",
       "lm(formula = formula, data = data1)\n",
       "\n",
       "Residuals:\n",
       "    Min      1Q  Median      3Q     Max \n",
       "-25.758  -4.196   1.386   7.783   8.609 \n",
       "\n",
       "Coefficients:\n",
       "                Estimate Std. Error t value Pr(>|t|)    \n",
       "(Intercept)     91.34944    1.37818  66.282   <2e-16 ***\n",
       "aq_social_skill  0.04132    0.09028   0.458    0.648    \n",
       "---\n",
       "Signif. codes:  0 ‘***’ 0.001 ‘**’ 0.01 ‘*’ 0.05 ‘.’ 0.1 ‘ ’ 1\n",
       "\n",
       "Residual standard error: 8.313 on 226 degrees of freedom\n",
       "Multiple R-squared:  0.0009258,\tAdjusted R-squared:  -0.003495 \n",
       "F-statistic: 0.2094 on 1 and 226 DF,  p-value: 0.6477\n"
      ]
     },
     "metadata": {}
    }
   ],
   "metadata": {}
  },
  {
   "cell_type": "code",
   "execution_count": 28,
   "source": [
    "data1 <- data[data$subtlety == 60 , ]\n",
    "formula <- as.formula(paste(\"slider ~ \", trait))\n",
    "m1 <- lm(formula, data = data1)\n",
    "summary(m1)"
   ],
   "outputs": [
    {
     "output_type": "display_data",
     "data": {
      "text/plain": [
       "\n",
       "Call:\n",
       "lm(formula = formula, data = data1)\n",
       "\n",
       "Residuals:\n",
       "    Min      1Q  Median      3Q     Max \n",
       "-32.473  -6.809   1.287   9.384  13.274 \n",
       "\n",
       "Coefficients:\n",
       "                Estimate Std. Error t value Pr(>|t|)    \n",
       "(Intercept)      88.4534     1.7395  50.851   <2e-16 ***\n",
       "aq_social_skill  -0.0617     0.1139  -0.541    0.589    \n",
       "---\n",
       "Signif. codes:  0 ‘***’ 0.001 ‘**’ 0.01 ‘*’ 0.05 ‘.’ 0.1 ‘ ’ 1\n",
       "\n",
       "Residual standard error: 10.49 on 226 degrees of freedom\n",
       "Multiple R-squared:  0.001296,\tAdjusted R-squared:  -0.003123 \n",
       "F-statistic: 0.2932 on 1 and 226 DF,  p-value: 0.5887\n"
      ]
     },
     "metadata": {}
    }
   ],
   "metadata": {}
  },
  {
   "cell_type": "code",
   "execution_count": 29,
   "source": [
    "data1 <- data[data$subtlety == 90 , ]\n",
    "formula <- as.formula(paste(\"slider ~ \", trait))\n",
    "m1 <- lm(formula, data = data1)\n",
    "summary(m1)"
   ],
   "outputs": [
    {
     "output_type": "display_data",
     "data": {
      "text/plain": [
       "\n",
       "Call:\n",
       "lm(formula = formula, data = data1)\n",
       "\n",
       "Residuals:\n",
       "    Min      1Q  Median      3Q     Max \n",
       "-49.812 -10.235  -1.288  10.336  26.354 \n",
       "\n",
       "Coefficients:\n",
       "                Estimate Std. Error t value Pr(>|t|)    \n",
       "(Intercept)      80.9777     2.2811  35.500   <2e-16 ***\n",
       "aq_social_skill  -0.2618     0.1494  -1.752   0.0811 .  \n",
       "---\n",
       "Signif. codes:  0 ‘***’ 0.001 ‘**’ 0.01 ‘*’ 0.05 ‘.’ 0.1 ‘ ’ 1\n",
       "\n",
       "Residual standard error: 13.76 on 226 degrees of freedom\n",
       "Multiple R-squared:  0.0134,\tAdjusted R-squared:  0.009037 \n",
       "F-statistic:  3.07 on 1 and 226 DF,  p-value: 0.0811\n"
      ]
     },
     "metadata": {}
    }
   ],
   "metadata": {}
  },
  {
   "cell_type": "code",
   "execution_count": 30,
   "source": [
    "data1 <- data[data$subtlety == 120 , ]\n",
    "formula <- as.formula(paste(\"slider ~ \", trait))\n",
    "m1 <- lm(formula, data = data1)\n",
    "summary(m1)"
   ],
   "outputs": [
    {
     "output_type": "display_data",
     "data": {
      "text/plain": [
       "\n",
       "Call:\n",
       "lm(formula = formula, data = data1)\n",
       "\n",
       "Residuals:\n",
       "    Min      1Q  Median      3Q     Max \n",
       "-50.359 -14.692   0.938  13.040  58.131 \n",
       "\n",
       "Coefficients:\n",
       "                Estimate Std. Error t value Pr(>|t|)    \n",
       "(Intercept)      53.6714     3.9131  13.716   <2e-16 ***\n",
       "aq_social_skill  -0.5521     0.2563  -2.154   0.0323 *  \n",
       "---\n",
       "Signif. codes:  0 ‘***’ 0.001 ‘**’ 0.01 ‘*’ 0.05 ‘.’ 0.1 ‘ ’ 1\n",
       "\n",
       "Residual standard error: 23.6 on 226 degrees of freedom\n",
       "Multiple R-squared:  0.02011,\tAdjusted R-squared:  0.01578 \n",
       "F-statistic: 4.639 on 1 and 226 DF,  p-value: 0.03232\n"
      ]
     },
     "metadata": {}
    }
   ],
   "metadata": {}
  },
  {
   "cell_type": "code",
   "execution_count": 31,
   "source": [
    "data1 <- data[data$subtlety == 150 , ]\n",
    "formula <- as.formula(paste(\"slider ~ \", trait))\n",
    "m1 <- lm(formula, data = data1)\n",
    "summary(m1)"
   ],
   "outputs": [
    {
     "output_type": "display_data",
     "data": {
      "text/plain": [
       "\n",
       "Call:\n",
       "lm(formula = formula, data = data1)\n",
       "\n",
       "Residuals:\n",
       "    Min      1Q  Median      3Q     Max \n",
       "-23.717 -15.058  -4.214  12.502  57.944 \n",
       "\n",
       "Coefficients:\n",
       "                Estimate Std. Error t value Pr(>|t|)    \n",
       "(Intercept)      23.9367     2.9396   8.143  2.6e-14 ***\n",
       "aq_social_skill  -0.2202     0.1926  -1.143    0.254    \n",
       "---\n",
       "Signif. codes:  0 ‘***’ 0.001 ‘**’ 0.01 ‘*’ 0.05 ‘.’ 0.1 ‘ ’ 1\n",
       "\n",
       "Residual standard error: 17.73 on 226 degrees of freedom\n",
       "Multiple R-squared:  0.005752,\tAdjusted R-squared:  0.001353 \n",
       "F-statistic: 1.307 on 1 and 226 DF,  p-value: 0.2541\n"
      ]
     },
     "metadata": {}
    }
   ],
   "metadata": {}
  },
  {
   "cell_type": "code",
   "execution_count": 32,
   "source": [
    "data1 <- data[data$subtlety == 180 , ]\n",
    "formula <- as.formula(paste(\"slider ~ \", trait))\n",
    "m1 <- lm(formula, data = data1)\n",
    "summary(m1)"
   ],
   "outputs": [
    {
     "output_type": "display_data",
     "data": {
      "text/plain": [
       "\n",
       "Call:\n",
       "lm(formula = formula, data = data1)\n",
       "\n",
       "Residuals:\n",
       "   Min     1Q Median     3Q    Max \n",
       "-30.13 -14.52  -2.77  11.84  72.66 \n",
       "\n",
       "Coefficients:\n",
       "                Estimate Std. Error t value Pr(>|t|)    \n",
       "(Intercept)      30.6875     3.2179   9.537  < 2e-16 ***\n",
       "aq_social_skill  -0.5573     0.2108  -2.644  0.00877 ** \n",
       "---\n",
       "Signif. codes:  0 ‘***’ 0.001 ‘**’ 0.01 ‘*’ 0.05 ‘.’ 0.1 ‘ ’ 1\n",
       "\n",
       "Residual standard error: 19.41 on 226 degrees of freedom\n",
       "Multiple R-squared:   0.03,\tAdjusted R-squared:  0.02571 \n",
       "F-statistic:  6.99 on 1 and 226 DF,  p-value: 0.008771\n"
      ]
     },
     "metadata": {}
    }
   ],
   "metadata": {}
  },
  {
   "cell_type": "code",
   "execution_count": 33,
   "source": [
    "data1 <- data[data$subtlety == 0 , ]\n",
    "formula <- as.formula(paste(\"diff_from_180 ~ subtlety + \", trait))\n",
    "m1 <- lm(formula, data = data1)\n",
    "summary(m1)"
   ],
   "outputs": [
    {
     "output_type": "display_data",
     "data": {
      "text/plain": [
       "\n",
       "Call:\n",
       "lm(formula = formula, data = data1)\n",
       "\n",
       "Residuals:\n",
       "    Min      1Q  Median      3Q     Max \n",
       "-66.777 -18.027   3.236  19.396  37.031 \n",
       "\n",
       "Coefficients: (1 not defined because of singularities)\n",
       "                Estimate Std. Error t value Pr(>|t|)    \n",
       "(Intercept)      62.3963     3.8889  16.045   <2e-16 ***\n",
       "subtlety              NA         NA      NA       NA    \n",
       "aq_social_skill   0.5727     0.2548   2.248   0.0256 *  \n",
       "---\n",
       "Signif. codes:  0 ‘***’ 0.001 ‘**’ 0.01 ‘*’ 0.05 ‘.’ 0.1 ‘ ’ 1\n",
       "\n",
       "Residual standard error: 23.46 on 226 degrees of freedom\n",
       "Multiple R-squared:  0.02187,\tAdjusted R-squared:  0.01754 \n",
       "F-statistic: 5.052 on 1 and 226 DF,  p-value: 0.02556\n"
      ]
     },
     "metadata": {}
    }
   ],
   "metadata": {}
  },
  {
   "cell_type": "code",
   "execution_count": null,
   "source": [],
   "outputs": [],
   "metadata": {}
  }
 ],
 "metadata": {
  "interpreter": {
   "hash": "fd4f9b4a611f13030669d34296d320a89181368ed7f3667f4142a08b4c2c4fbe"
  },
  "kernelspec": {
   "name": "python3124jvsc74a57bd04a074528bc854e8a1fdc819f4bc249979b3b196bce4de5afb134a947ed71fa2f",
   "display_name": "R",
   "language": "R"
  },
  "language_info": {
   "name": "R",
   "codemirror_mode": "r",
   "pygments_lexer": "r",
   "mimetype": "text/x-r-source",
   "file_extension": ".r",
   "version": "4.3.3"
  }
 },
 "nbformat": 4,
 "nbformat_minor": 4
}
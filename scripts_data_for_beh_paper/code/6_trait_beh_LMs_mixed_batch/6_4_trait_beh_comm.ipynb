{
 "cells": [
  {
   "cell_type": "code",
   "execution_count": 3,
   "source": [
    "print(\"Hello, R in Jupyter!\")"
   ],
   "outputs": [
    {
     "output_type": "stream",
     "name": "stdout",
     "text": [
      "[1] \"Hello, R in Jupyter!\"\n"
     ]
    }
   ],
   "metadata": {}
  },
  {
   "cell_type": "code",
   "execution_count": 4,
   "source": [
    "# Basic arithmetic\n",
    "result <- 2 + 2\n",
    "print(result)"
   ],
   "outputs": [
    {
     "output_type": "stream",
     "name": "stdout",
     "text": [
      "[1] 4\n"
     ]
    }
   ],
   "metadata": {}
  },
  {
   "cell_type": "code",
   "execution_count": 5,
   "source": [
    "root_dir = '../../data/subtlety_playfight_data/'#/Users/f0053cz/Documents/psyanim_v2/scripts_for_beh_paper/data/subtlety_playfight_data/'\n",
    "data <- read.csv(paste(root_dir,'curvefit_traits_merged_linearpf_withPC1.csv', sep = \"/\"))\n",
    "# print(data)\n",
    "head(data, 5)"
   ],
   "outputs": [
    {
     "output_type": "display_data",
     "data": {
      "text/html": [
       "<table class=\"dataframe\">\n",
       "<caption>A data.frame: 5 × 44</caption>\n",
       "<thead>\n",
       "\t<tr><th></th><th scope=col>X</th><th scope=col>index</th><th scope=col>subID</th><th scope=col>r_squared_subt</th><th scope=col>nrmse_subt</th><th scope=col>aic_subt</th><th scope=col>center</th><th scope=col>PSE_subt</th><th scope=col>sigma_subt</th><th scope=col>bias_xmin_subt</th><th scope=col>⋯</th><th scope=col>posAffect</th><th scope=col>negAffect</th><th scope=col>neuroticism</th><th scope=col>extraversion</th><th scope=col>openness</th><th scope=col>agreeableness</th><th scope=col>conscientiousness</th><th scope=col>loneliness</th><th scope=col>nfriends</th><th scope=col>PC1</th></tr>\n",
       "\t<tr><th></th><th scope=col>&lt;int&gt;</th><th scope=col>&lt;int&gt;</th><th scope=col>&lt;dbl&gt;</th><th scope=col>&lt;dbl&gt;</th><th scope=col>&lt;dbl&gt;</th><th scope=col>&lt;dbl&gt;</th><th scope=col>&lt;dbl&gt;</th><th scope=col>&lt;dbl&gt;</th><th scope=col>&lt;dbl&gt;</th><th scope=col>&lt;dbl&gt;</th><th scope=col>⋯</th><th scope=col>&lt;dbl&gt;</th><th scope=col>&lt;dbl&gt;</th><th scope=col>&lt;dbl&gt;</th><th scope=col>&lt;dbl&gt;</th><th scope=col>&lt;dbl&gt;</th><th scope=col>&lt;dbl&gt;</th><th scope=col>&lt;dbl&gt;</th><th scope=col>&lt;dbl&gt;</th><th scope=col>&lt;dbl&gt;</th><th scope=col>&lt;dbl&gt;</th></tr>\n",
       "</thead>\n",
       "<tbody>\n",
       "\t<tr><th scope=row>1</th><td>0</td><td>0</td><td>30002</td><td>0.9789465</td><td>0.05958450</td><td>-35.48504</td><td>0.5461832</td><td>0.5529510</td><td>0.10335957</td><td>0.031291240</td><td>⋯</td><td>20</td><td> 0</td><td>38</td><td>28.00000</td><td>31.00000</td><td>34</td><td>39</td><td>56</td><td>3</td><td> 16.10785</td></tr>\n",
       "\t<tr><th scope=row>2</th><td>1</td><td>1</td><td>30004</td><td>0.9947840</td><td>0.03131009</td><td>-44.49341</td><td>0.3112003</td><td>0.2768959</td><td>0.07686605</td><td>0.194060972</td><td>⋯</td><td>25</td><td>11</td><td>38</td><td>26.18182</td><td>50.00000</td><td>50</td><td>46</td><td>56</td><td>3</td><td> 13.40826</td></tr>\n",
       "\t<tr><th scope=row>3</th><td>2</td><td>2</td><td>30005</td><td>0.9856356</td><td>0.04832041</td><td>-38.41862</td><td>0.3800630</td><td>0.3205832</td><td>0.11535284</td><td>0.249788688</td><td>⋯</td><td>20</td><td>21</td><td>51</td><td>39.00000</td><td>40.00000</td><td>43</td><td>19</td><td>41</td><td>5</td><td> 20.62867</td></tr>\n",
       "\t<tr><th scope=row>4</th><td>3</td><td>3</td><td>30006</td><td>0.9837098</td><td>0.05739903</td><td>-36.00819</td><td>0.4658866</td><td>0.4648232</td><td>0.07922090</td><td>0.009432723</td><td>⋯</td><td>25</td><td> 0</td><td>18</td><td>41.00000</td><td>31.00000</td><td>44</td><td>57</td><td>30</td><td>4</td><td>-27.57041</td></tr>\n",
       "\t<tr><th scope=row>5</th><td>4</td><td>4</td><td>30008</td><td>0.9007922</td><td>0.11023567</td><td>-26.87189</td><td>0.3854147</td><td>0.3251178</td><td>0.17258480</td><td>0.289378203</td><td>⋯</td><td>28</td><td> 4</td><td>27</td><td>46.00000</td><td>42.54545</td><td>46</td><td>50</td><td>45</td><td>5</td><td>-12.51604</td></tr>\n",
       "</tbody>\n",
       "</table>\n"
      ],
      "text/latex": [
       "A data.frame: 5 × 44\n",
       "\\begin{tabular}{r|lllllllllllllllllllll}\n",
       "  & X & index & subID & r\\_squared\\_subt & nrmse\\_subt & aic\\_subt & center & PSE\\_subt & sigma\\_subt & bias\\_xmin\\_subt & ⋯ & posAffect & negAffect & neuroticism & extraversion & openness & agreeableness & conscientiousness & loneliness & nfriends & PC1\\\\\n",
       "  & <int> & <int> & <dbl> & <dbl> & <dbl> & <dbl> & <dbl> & <dbl> & <dbl> & <dbl> & ⋯ & <dbl> & <dbl> & <dbl> & <dbl> & <dbl> & <dbl> & <dbl> & <dbl> & <dbl> & <dbl>\\\\\n",
       "\\hline\n",
       "\t1 & 0 & 0 & 30002 & 0.9789465 & 0.05958450 & -35.48504 & 0.5461832 & 0.5529510 & 0.10335957 & 0.031291240 & ⋯ & 20 &  0 & 38 & 28.00000 & 31.00000 & 34 & 39 & 56 & 3 &  16.10785\\\\\n",
       "\t2 & 1 & 1 & 30004 & 0.9947840 & 0.03131009 & -44.49341 & 0.3112003 & 0.2768959 & 0.07686605 & 0.194060972 & ⋯ & 25 & 11 & 38 & 26.18182 & 50.00000 & 50 & 46 & 56 & 3 &  13.40826\\\\\n",
       "\t3 & 2 & 2 & 30005 & 0.9856356 & 0.04832041 & -38.41862 & 0.3800630 & 0.3205832 & 0.11535284 & 0.249788688 & ⋯ & 20 & 21 & 51 & 39.00000 & 40.00000 & 43 & 19 & 41 & 5 &  20.62867\\\\\n",
       "\t4 & 3 & 3 & 30006 & 0.9837098 & 0.05739903 & -36.00819 & 0.4658866 & 0.4648232 & 0.07922090 & 0.009432723 & ⋯ & 25 &  0 & 18 & 41.00000 & 31.00000 & 44 & 57 & 30 & 4 & -27.57041\\\\\n",
       "\t5 & 4 & 4 & 30008 & 0.9007922 & 0.11023567 & -26.87189 & 0.3854147 & 0.3251178 & 0.17258480 & 0.289378203 & ⋯ & 28 &  4 & 27 & 46.00000 & 42.54545 & 46 & 50 & 45 & 5 & -12.51604\\\\\n",
       "\\end{tabular}\n"
      ],
      "text/markdown": [
       "\n",
       "A data.frame: 5 × 44\n",
       "\n",
       "| <!--/--> | X &lt;int&gt; | index &lt;int&gt; | subID &lt;dbl&gt; | r_squared_subt &lt;dbl&gt; | nrmse_subt &lt;dbl&gt; | aic_subt &lt;dbl&gt; | center &lt;dbl&gt; | PSE_subt &lt;dbl&gt; | sigma_subt &lt;dbl&gt; | bias_xmin_subt &lt;dbl&gt; | ⋯ ⋯ | posAffect &lt;dbl&gt; | negAffect &lt;dbl&gt; | neuroticism &lt;dbl&gt; | extraversion &lt;dbl&gt; | openness &lt;dbl&gt; | agreeableness &lt;dbl&gt; | conscientiousness &lt;dbl&gt; | loneliness &lt;dbl&gt; | nfriends &lt;dbl&gt; | PC1 &lt;dbl&gt; |\n",
       "|---|---|---|---|---|---|---|---|---|---|---|---|---|---|---|---|---|---|---|---|---|---|\n",
       "| 1 | 0 | 0 | 30002 | 0.9789465 | 0.05958450 | -35.48504 | 0.5461832 | 0.5529510 | 0.10335957 | 0.031291240 | ⋯ | 20 |  0 | 38 | 28.00000 | 31.00000 | 34 | 39 | 56 | 3 |  16.10785 |\n",
       "| 2 | 1 | 1 | 30004 | 0.9947840 | 0.03131009 | -44.49341 | 0.3112003 | 0.2768959 | 0.07686605 | 0.194060972 | ⋯ | 25 | 11 | 38 | 26.18182 | 50.00000 | 50 | 46 | 56 | 3 |  13.40826 |\n",
       "| 3 | 2 | 2 | 30005 | 0.9856356 | 0.04832041 | -38.41862 | 0.3800630 | 0.3205832 | 0.11535284 | 0.249788688 | ⋯ | 20 | 21 | 51 | 39.00000 | 40.00000 | 43 | 19 | 41 | 5 |  20.62867 |\n",
       "| 4 | 3 | 3 | 30006 | 0.9837098 | 0.05739903 | -36.00819 | 0.4658866 | 0.4648232 | 0.07922090 | 0.009432723 | ⋯ | 25 |  0 | 18 | 41.00000 | 31.00000 | 44 | 57 | 30 | 4 | -27.57041 |\n",
       "| 5 | 4 | 4 | 30008 | 0.9007922 | 0.11023567 | -26.87189 | 0.3854147 | 0.3251178 | 0.17258480 | 0.289378203 | ⋯ | 28 |  4 | 27 | 46.00000 | 42.54545 | 46 | 50 | 45 | 5 | -12.51604 |\n",
       "\n"
      ],
      "text/plain": [
       "  X index subID r_squared_subt nrmse_subt aic_subt  center    PSE_subt \n",
       "1 0 0     30002 0.9789465      0.05958450 -35.48504 0.5461832 0.5529510\n",
       "2 1 1     30004 0.9947840      0.03131009 -44.49341 0.3112003 0.2768959\n",
       "3 2 2     30005 0.9856356      0.04832041 -38.41862 0.3800630 0.3205832\n",
       "4 3 3     30006 0.9837098      0.05739903 -36.00819 0.4658866 0.4648232\n",
       "5 4 4     30008 0.9007922      0.11023567 -26.87189 0.3854147 0.3251178\n",
       "  sigma_subt bias_xmin_subt ⋯ posAffect negAffect neuroticism extraversion\n",
       "1 0.10335957 0.031291240    ⋯ 20         0        38          28.00000    \n",
       "2 0.07686605 0.194060972    ⋯ 25        11        38          26.18182    \n",
       "3 0.11535284 0.249788688    ⋯ 20        21        51          39.00000    \n",
       "4 0.07922090 0.009432723    ⋯ 25         0        18          41.00000    \n",
       "5 0.17258480 0.289378203    ⋯ 28         4        27          46.00000    \n",
       "  openness agreeableness conscientiousness loneliness nfriends PC1      \n",
       "1 31.00000 34            39                56         3         16.10785\n",
       "2 50.00000 50            46                56         3         13.40826\n",
       "3 40.00000 43            19                41         5         20.62867\n",
       "4 31.00000 44            57                30         4        -27.57041\n",
       "5 42.54545 46            50                45         5        -12.51604"
      ]
     },
     "metadata": {}
    }
   ],
   "metadata": {}
  },
  {
   "cell_type": "code",
   "execution_count": 6,
   "source": [
    "colnames(data)"
   ],
   "outputs": [
    {
     "output_type": "display_data",
     "data": {
      "text/html": [
       "<style>\n",
       ".list-inline {list-style: none; margin:0; padding: 0}\n",
       ".list-inline>li {display: inline-block}\n",
       ".list-inline>li:not(:last-child)::after {content: \"\\00b7\"; padding: 0 .5ex}\n",
       "</style>\n",
       "<ol class=list-inline><li>'X'</li><li>'index'</li><li>'subID'</li><li>'r_squared_subt'</li><li>'nrmse_subt'</li><li>'aic_subt'</li><li>'center'</li><li>'PSE_subt'</li><li>'sigma_subt'</li><li>'bias_xmin_subt'</li><li>'bias_xmax_subt'</li><li>'bias_lower_subt'</li><li>'bias_upper_subt'</li><li>'flipped_subt'</li><li>'range_subt'</li><li>'bias_subt'</li><li>'r_squared_pf'</li><li>'nrmse_pf'</li><li>'aic_pf'</li><li>'PSE_pf'</li><li>'slope_pf'</li><li>'intercept'</li><li>'bias_xmin_pf'</li><li>'bias_xmax_pf'</li><li>'bias_lower_pf'</li><li>'bias_upper_pf'</li><li>'flipped_pf'</li><li>'range_pf'</li><li>'bias_pf'</li><li>'social_skill'</li><li>'attn_switch'</li><li>'img'</li><li>'attn_to_det'</li><li>'comm'</li><li>'posAffect'</li><li>'negAffect'</li><li>'neuroticism'</li><li>'extraversion'</li><li>'openness'</li><li>'agreeableness'</li><li>'conscientiousness'</li><li>'loneliness'</li><li>'nfriends'</li><li>'PC1'</li></ol>\n"
      ],
      "text/latex": [
       "\\begin{enumerate*}\n",
       "\\item 'X'\n",
       "\\item 'index'\n",
       "\\item 'subID'\n",
       "\\item 'r\\_squared\\_subt'\n",
       "\\item 'nrmse\\_subt'\n",
       "\\item 'aic\\_subt'\n",
       "\\item 'center'\n",
       "\\item 'PSE\\_subt'\n",
       "\\item 'sigma\\_subt'\n",
       "\\item 'bias\\_xmin\\_subt'\n",
       "\\item 'bias\\_xmax\\_subt'\n",
       "\\item 'bias\\_lower\\_subt'\n",
       "\\item 'bias\\_upper\\_subt'\n",
       "\\item 'flipped\\_subt'\n",
       "\\item 'range\\_subt'\n",
       "\\item 'bias\\_subt'\n",
       "\\item 'r\\_squared\\_pf'\n",
       "\\item 'nrmse\\_pf'\n",
       "\\item 'aic\\_pf'\n",
       "\\item 'PSE\\_pf'\n",
       "\\item 'slope\\_pf'\n",
       "\\item 'intercept'\n",
       "\\item 'bias\\_xmin\\_pf'\n",
       "\\item 'bias\\_xmax\\_pf'\n",
       "\\item 'bias\\_lower\\_pf'\n",
       "\\item 'bias\\_upper\\_pf'\n",
       "\\item 'flipped\\_pf'\n",
       "\\item 'range\\_pf'\n",
       "\\item 'bias\\_pf'\n",
       "\\item 'social\\_skill'\n",
       "\\item 'attn\\_switch'\n",
       "\\item 'img'\n",
       "\\item 'attn\\_to\\_det'\n",
       "\\item 'comm'\n",
       "\\item 'posAffect'\n",
       "\\item 'negAffect'\n",
       "\\item 'neuroticism'\n",
       "\\item 'extraversion'\n",
       "\\item 'openness'\n",
       "\\item 'agreeableness'\n",
       "\\item 'conscientiousness'\n",
       "\\item 'loneliness'\n",
       "\\item 'nfriends'\n",
       "\\item 'PC1'\n",
       "\\end{enumerate*}\n"
      ],
      "text/markdown": [
       "1. 'X'\n",
       "2. 'index'\n",
       "3. 'subID'\n",
       "4. 'r_squared_subt'\n",
       "5. 'nrmse_subt'\n",
       "6. 'aic_subt'\n",
       "7. 'center'\n",
       "8. 'PSE_subt'\n",
       "9. 'sigma_subt'\n",
       "10. 'bias_xmin_subt'\n",
       "11. 'bias_xmax_subt'\n",
       "12. 'bias_lower_subt'\n",
       "13. 'bias_upper_subt'\n",
       "14. 'flipped_subt'\n",
       "15. 'range_subt'\n",
       "16. 'bias_subt'\n",
       "17. 'r_squared_pf'\n",
       "18. 'nrmse_pf'\n",
       "19. 'aic_pf'\n",
       "20. 'PSE_pf'\n",
       "21. 'slope_pf'\n",
       "22. 'intercept'\n",
       "23. 'bias_xmin_pf'\n",
       "24. 'bias_xmax_pf'\n",
       "25. 'bias_lower_pf'\n",
       "26. 'bias_upper_pf'\n",
       "27. 'flipped_pf'\n",
       "28. 'range_pf'\n",
       "29. 'bias_pf'\n",
       "30. 'social_skill'\n",
       "31. 'attn_switch'\n",
       "32. 'img'\n",
       "33. 'attn_to_det'\n",
       "34. 'comm'\n",
       "35. 'posAffect'\n",
       "36. 'negAffect'\n",
       "37. 'neuroticism'\n",
       "38. 'extraversion'\n",
       "39. 'openness'\n",
       "40. 'agreeableness'\n",
       "41. 'conscientiousness'\n",
       "42. 'loneliness'\n",
       "43. 'nfriends'\n",
       "44. 'PC1'\n",
       "\n",
       "\n"
      ],
      "text/plain": [
       " [1] \"X\"                 \"index\"             \"subID\"            \n",
       " [4] \"r_squared_subt\"    \"nrmse_subt\"        \"aic_subt\"         \n",
       " [7] \"center\"            \"PSE_subt\"          \"sigma_subt\"       \n",
       "[10] \"bias_xmin_subt\"    \"bias_xmax_subt\"    \"bias_lower_subt\"  \n",
       "[13] \"bias_upper_subt\"   \"flipped_subt\"      \"range_subt\"       \n",
       "[16] \"bias_subt\"         \"r_squared_pf\"      \"nrmse_pf\"         \n",
       "[19] \"aic_pf\"            \"PSE_pf\"            \"slope_pf\"         \n",
       "[22] \"intercept\"         \"bias_xmin_pf\"      \"bias_xmax_pf\"     \n",
       "[25] \"bias_lower_pf\"     \"bias_upper_pf\"     \"flipped_pf\"       \n",
       "[28] \"range_pf\"          \"bias_pf\"           \"social_skill\"     \n",
       "[31] \"attn_switch\"       \"img\"               \"attn_to_det\"      \n",
       "[34] \"comm\"              \"posAffect\"         \"negAffect\"        \n",
       "[37] \"neuroticism\"       \"extraversion\"      \"openness\"         \n",
       "[40] \"agreeableness\"     \"conscientiousness\" \"loneliness\"       \n",
       "[43] \"nfriends\"          \"PC1\"              "
      ]
     },
     "metadata": {}
    }
   ],
   "metadata": {}
  },
  {
   "cell_type": "code",
   "execution_count": 7,
   "source": [
    "# Print the dimensions of the data frame\n",
    "print(dim(data))\n",
    "\n",
    "# Drop rows with NA values\n",
    "data <- na.omit(data)\n",
    "\n",
    "# Print the dimensions of the data frame after dropping NA values\n",
    "print(dim(data))"
   ],
   "outputs": [
    {
     "output_type": "stream",
     "name": "stdout",
     "text": [
      "[1] 275  44\n",
      "[1] 275  44\n"
     ]
    }
   ],
   "metadata": {}
  },
  {
   "cell_type": "code",
   "execution_count": 10,
   "source": [
    "trait <- 'comm'"
   ],
   "outputs": [],
   "metadata": {}
  },
  {
   "cell_type": "code",
   "execution_count": 11,
   "source": [
    "# new_terms = ['obj_center','amplitude','bias_xmin_norm','sigma']\n",
    "new_terms <- c(trait,'PSE_subt', 'range_subt', 'bias_subt', 'sigma_subt', 'PSE_pf', 'range_pf', 'bias_pf', 'slope_pf')\n",
    "new_terms"
   ],
   "outputs": [
    {
     "output_type": "display_data",
     "data": {
      "text/html": [
       "<style>\n",
       ".list-inline {list-style: none; margin:0; padding: 0}\n",
       ".list-inline>li {display: inline-block}\n",
       ".list-inline>li:not(:last-child)::after {content: \"\\00b7\"; padding: 0 .5ex}\n",
       "</style>\n",
       "<ol class=list-inline><li>'comm'</li><li>'PSE_subt'</li><li>'range_subt'</li><li>'bias_subt'</li><li>'sigma_subt'</li><li>'PSE_pf'</li><li>'range_pf'</li><li>'bias_pf'</li><li>'slope_pf'</li></ol>\n"
      ],
      "text/latex": [
       "\\begin{enumerate*}\n",
       "\\item 'comm'\n",
       "\\item 'PSE\\_subt'\n",
       "\\item 'range\\_subt'\n",
       "\\item 'bias\\_subt'\n",
       "\\item 'sigma\\_subt'\n",
       "\\item 'PSE\\_pf'\n",
       "\\item 'range\\_pf'\n",
       "\\item 'bias\\_pf'\n",
       "\\item 'slope\\_pf'\n",
       "\\end{enumerate*}\n"
      ],
      "text/markdown": [
       "1. 'comm'\n",
       "2. 'PSE_subt'\n",
       "3. 'range_subt'\n",
       "4. 'bias_subt'\n",
       "5. 'sigma_subt'\n",
       "6. 'PSE_pf'\n",
       "7. 'range_pf'\n",
       "8. 'bias_pf'\n",
       "9. 'slope_pf'\n",
       "\n",
       "\n"
      ],
      "text/plain": [
       "[1] \"comm\"       \"PSE_subt\"   \"range_subt\" \"bias_subt\"  \"sigma_subt\"\n",
       "[6] \"PSE_pf\"     \"range_pf\"   \"bias_pf\"    \"slope_pf\"  "
      ]
     },
     "metadata": {}
    }
   ],
   "metadata": {}
  },
  {
   "cell_type": "markdown",
   "source": [
    "# mult reg (relevant traits and curve fits)"
   ],
   "metadata": {}
  },
  {
   "cell_type": "code",
   "execution_count": 12,
   "source": [
    "# install.packages(\"dplyr\")\n",
    "library(dplyr)\n",
    "\n",
    "# # Rename specific columns\n",
    "# data <- data %>% rename(\n",
    "#   pos_affect = Positive_reweigh,\n",
    "#   PSE_subt = obj_center_subt,\n",
    "#   range_subt = amplitude_subt,\n",
    "#   bias_subt = bias_xmin_norm_subt,\n",
    "#   PSE_pf = obj_center_pf,\n",
    "#   range_pf = amplitude_pf,\n",
    "#   bias_pf = bias_xmin_norm_pf,\n",
    "#   PSE_diff = obj_center_diff,\n",
    "#   range_diff = amplitude_diff,\n",
    "#   bias_diff = bias_xmin_norm_diff\n",
    "# )"
   ],
   "outputs": [
    {
     "output_type": "stream",
     "name": "stderr",
     "text": [
      "\n",
      "Attaching package: ‘dplyr’\n",
      "\n",
      "\n",
      "The following objects are masked from ‘package:stats’:\n",
      "\n",
      "    filter, lag\n",
      "\n",
      "\n",
      "The following objects are masked from ‘package:base’:\n",
      "\n",
      "    intersect, setdiff, setequal, union\n",
      "\n",
      "\n"
     ]
    }
   ],
   "metadata": {}
  },
  {
   "cell_type": "code",
   "execution_count": 13,
   "source": [
    "head(data, 5)"
   ],
   "outputs": [
    {
     "output_type": "display_data",
     "data": {
      "text/html": [
       "<table class=\"dataframe\">\n",
       "<caption>A data.frame: 5 × 44</caption>\n",
       "<thead>\n",
       "\t<tr><th></th><th scope=col>X</th><th scope=col>index</th><th scope=col>subID</th><th scope=col>r_squared_subt</th><th scope=col>nrmse_subt</th><th scope=col>aic_subt</th><th scope=col>center</th><th scope=col>PSE_subt</th><th scope=col>sigma_subt</th><th scope=col>bias_xmin_subt</th><th scope=col>⋯</th><th scope=col>posAffect</th><th scope=col>negAffect</th><th scope=col>neuroticism</th><th scope=col>extraversion</th><th scope=col>openness</th><th scope=col>agreeableness</th><th scope=col>conscientiousness</th><th scope=col>loneliness</th><th scope=col>nfriends</th><th scope=col>PC1</th></tr>\n",
       "\t<tr><th></th><th scope=col>&lt;int&gt;</th><th scope=col>&lt;int&gt;</th><th scope=col>&lt;dbl&gt;</th><th scope=col>&lt;dbl&gt;</th><th scope=col>&lt;dbl&gt;</th><th scope=col>&lt;dbl&gt;</th><th scope=col>&lt;dbl&gt;</th><th scope=col>&lt;dbl&gt;</th><th scope=col>&lt;dbl&gt;</th><th scope=col>&lt;dbl&gt;</th><th scope=col>⋯</th><th scope=col>&lt;dbl&gt;</th><th scope=col>&lt;dbl&gt;</th><th scope=col>&lt;dbl&gt;</th><th scope=col>&lt;dbl&gt;</th><th scope=col>&lt;dbl&gt;</th><th scope=col>&lt;dbl&gt;</th><th scope=col>&lt;dbl&gt;</th><th scope=col>&lt;dbl&gt;</th><th scope=col>&lt;dbl&gt;</th><th scope=col>&lt;dbl&gt;</th></tr>\n",
       "</thead>\n",
       "<tbody>\n",
       "\t<tr><th scope=row>1</th><td>0</td><td>0</td><td>30002</td><td>0.9789465</td><td>0.05958450</td><td>-35.48504</td><td>0.5461832</td><td>0.5529510</td><td>0.10335957</td><td>0.031291240</td><td>⋯</td><td>20</td><td> 0</td><td>38</td><td>28.00000</td><td>31.00000</td><td>34</td><td>39</td><td>56</td><td>3</td><td> 16.10785</td></tr>\n",
       "\t<tr><th scope=row>2</th><td>1</td><td>1</td><td>30004</td><td>0.9947840</td><td>0.03131009</td><td>-44.49341</td><td>0.3112003</td><td>0.2768959</td><td>0.07686605</td><td>0.194060972</td><td>⋯</td><td>25</td><td>11</td><td>38</td><td>26.18182</td><td>50.00000</td><td>50</td><td>46</td><td>56</td><td>3</td><td> 13.40826</td></tr>\n",
       "\t<tr><th scope=row>3</th><td>2</td><td>2</td><td>30005</td><td>0.9856356</td><td>0.04832041</td><td>-38.41862</td><td>0.3800630</td><td>0.3205832</td><td>0.11535284</td><td>0.249788688</td><td>⋯</td><td>20</td><td>21</td><td>51</td><td>39.00000</td><td>40.00000</td><td>43</td><td>19</td><td>41</td><td>5</td><td> 20.62867</td></tr>\n",
       "\t<tr><th scope=row>4</th><td>3</td><td>3</td><td>30006</td><td>0.9837098</td><td>0.05739903</td><td>-36.00819</td><td>0.4658866</td><td>0.4648232</td><td>0.07922090</td><td>0.009432723</td><td>⋯</td><td>25</td><td> 0</td><td>18</td><td>41.00000</td><td>31.00000</td><td>44</td><td>57</td><td>30</td><td>4</td><td>-27.57041</td></tr>\n",
       "\t<tr><th scope=row>5</th><td>4</td><td>4</td><td>30008</td><td>0.9007922</td><td>0.11023567</td><td>-26.87189</td><td>0.3854147</td><td>0.3251178</td><td>0.17258480</td><td>0.289378203</td><td>⋯</td><td>28</td><td> 4</td><td>27</td><td>46.00000</td><td>42.54545</td><td>46</td><td>50</td><td>45</td><td>5</td><td>-12.51604</td></tr>\n",
       "</tbody>\n",
       "</table>\n"
      ],
      "text/latex": [
       "A data.frame: 5 × 44\n",
       "\\begin{tabular}{r|lllllllllllllllllllll}\n",
       "  & X & index & subID & r\\_squared\\_subt & nrmse\\_subt & aic\\_subt & center & PSE\\_subt & sigma\\_subt & bias\\_xmin\\_subt & ⋯ & posAffect & negAffect & neuroticism & extraversion & openness & agreeableness & conscientiousness & loneliness & nfriends & PC1\\\\\n",
       "  & <int> & <int> & <dbl> & <dbl> & <dbl> & <dbl> & <dbl> & <dbl> & <dbl> & <dbl> & ⋯ & <dbl> & <dbl> & <dbl> & <dbl> & <dbl> & <dbl> & <dbl> & <dbl> & <dbl> & <dbl>\\\\\n",
       "\\hline\n",
       "\t1 & 0 & 0 & 30002 & 0.9789465 & 0.05958450 & -35.48504 & 0.5461832 & 0.5529510 & 0.10335957 & 0.031291240 & ⋯ & 20 &  0 & 38 & 28.00000 & 31.00000 & 34 & 39 & 56 & 3 &  16.10785\\\\\n",
       "\t2 & 1 & 1 & 30004 & 0.9947840 & 0.03131009 & -44.49341 & 0.3112003 & 0.2768959 & 0.07686605 & 0.194060972 & ⋯ & 25 & 11 & 38 & 26.18182 & 50.00000 & 50 & 46 & 56 & 3 &  13.40826\\\\\n",
       "\t3 & 2 & 2 & 30005 & 0.9856356 & 0.04832041 & -38.41862 & 0.3800630 & 0.3205832 & 0.11535284 & 0.249788688 & ⋯ & 20 & 21 & 51 & 39.00000 & 40.00000 & 43 & 19 & 41 & 5 &  20.62867\\\\\n",
       "\t4 & 3 & 3 & 30006 & 0.9837098 & 0.05739903 & -36.00819 & 0.4658866 & 0.4648232 & 0.07922090 & 0.009432723 & ⋯ & 25 &  0 & 18 & 41.00000 & 31.00000 & 44 & 57 & 30 & 4 & -27.57041\\\\\n",
       "\t5 & 4 & 4 & 30008 & 0.9007922 & 0.11023567 & -26.87189 & 0.3854147 & 0.3251178 & 0.17258480 & 0.289378203 & ⋯ & 28 &  4 & 27 & 46.00000 & 42.54545 & 46 & 50 & 45 & 5 & -12.51604\\\\\n",
       "\\end{tabular}\n"
      ],
      "text/markdown": [
       "\n",
       "A data.frame: 5 × 44\n",
       "\n",
       "| <!--/--> | X &lt;int&gt; | index &lt;int&gt; | subID &lt;dbl&gt; | r_squared_subt &lt;dbl&gt; | nrmse_subt &lt;dbl&gt; | aic_subt &lt;dbl&gt; | center &lt;dbl&gt; | PSE_subt &lt;dbl&gt; | sigma_subt &lt;dbl&gt; | bias_xmin_subt &lt;dbl&gt; | ⋯ ⋯ | posAffect &lt;dbl&gt; | negAffect &lt;dbl&gt; | neuroticism &lt;dbl&gt; | extraversion &lt;dbl&gt; | openness &lt;dbl&gt; | agreeableness &lt;dbl&gt; | conscientiousness &lt;dbl&gt; | loneliness &lt;dbl&gt; | nfriends &lt;dbl&gt; | PC1 &lt;dbl&gt; |\n",
       "|---|---|---|---|---|---|---|---|---|---|---|---|---|---|---|---|---|---|---|---|---|---|\n",
       "| 1 | 0 | 0 | 30002 | 0.9789465 | 0.05958450 | -35.48504 | 0.5461832 | 0.5529510 | 0.10335957 | 0.031291240 | ⋯ | 20 |  0 | 38 | 28.00000 | 31.00000 | 34 | 39 | 56 | 3 |  16.10785 |\n",
       "| 2 | 1 | 1 | 30004 | 0.9947840 | 0.03131009 | -44.49341 | 0.3112003 | 0.2768959 | 0.07686605 | 0.194060972 | ⋯ | 25 | 11 | 38 | 26.18182 | 50.00000 | 50 | 46 | 56 | 3 |  13.40826 |\n",
       "| 3 | 2 | 2 | 30005 | 0.9856356 | 0.04832041 | -38.41862 | 0.3800630 | 0.3205832 | 0.11535284 | 0.249788688 | ⋯ | 20 | 21 | 51 | 39.00000 | 40.00000 | 43 | 19 | 41 | 5 |  20.62867 |\n",
       "| 4 | 3 | 3 | 30006 | 0.9837098 | 0.05739903 | -36.00819 | 0.4658866 | 0.4648232 | 0.07922090 | 0.009432723 | ⋯ | 25 |  0 | 18 | 41.00000 | 31.00000 | 44 | 57 | 30 | 4 | -27.57041 |\n",
       "| 5 | 4 | 4 | 30008 | 0.9007922 | 0.11023567 | -26.87189 | 0.3854147 | 0.3251178 | 0.17258480 | 0.289378203 | ⋯ | 28 |  4 | 27 | 46.00000 | 42.54545 | 46 | 50 | 45 | 5 | -12.51604 |\n",
       "\n"
      ],
      "text/plain": [
       "  X index subID r_squared_subt nrmse_subt aic_subt  center    PSE_subt \n",
       "1 0 0     30002 0.9789465      0.05958450 -35.48504 0.5461832 0.5529510\n",
       "2 1 1     30004 0.9947840      0.03131009 -44.49341 0.3112003 0.2768959\n",
       "3 2 2     30005 0.9856356      0.04832041 -38.41862 0.3800630 0.3205832\n",
       "4 3 3     30006 0.9837098      0.05739903 -36.00819 0.4658866 0.4648232\n",
       "5 4 4     30008 0.9007922      0.11023567 -26.87189 0.3854147 0.3251178\n",
       "  sigma_subt bias_xmin_subt ⋯ posAffect negAffect neuroticism extraversion\n",
       "1 0.10335957 0.031291240    ⋯ 20         0        38          28.00000    \n",
       "2 0.07686605 0.194060972    ⋯ 25        11        38          26.18182    \n",
       "3 0.11535284 0.249788688    ⋯ 20        21        51          39.00000    \n",
       "4 0.07922090 0.009432723    ⋯ 25         0        18          41.00000    \n",
       "5 0.17258480 0.289378203    ⋯ 28         4        27          46.00000    \n",
       "  openness agreeableness conscientiousness loneliness nfriends PC1      \n",
       "1 31.00000 34            39                56         3         16.10785\n",
       "2 50.00000 50            46                56         3         13.40826\n",
       "3 40.00000 43            19                41         5         20.62867\n",
       "4 31.00000 44            57                30         4        -27.57041\n",
       "5 42.54545 46            50                45         5        -12.51604"
      ]
     },
     "metadata": {}
    }
   ],
   "metadata": {}
  },
  {
   "cell_type": "code",
   "execution_count": 14,
   "source": [
    "names(data)"
   ],
   "outputs": [
    {
     "output_type": "display_data",
     "data": {
      "text/html": [
       "<style>\n",
       ".list-inline {list-style: none; margin:0; padding: 0}\n",
       ".list-inline>li {display: inline-block}\n",
       ".list-inline>li:not(:last-child)::after {content: \"\\00b7\"; padding: 0 .5ex}\n",
       "</style>\n",
       "<ol class=list-inline><li>'X'</li><li>'index'</li><li>'subID'</li><li>'r_squared_subt'</li><li>'nrmse_subt'</li><li>'aic_subt'</li><li>'center'</li><li>'PSE_subt'</li><li>'sigma_subt'</li><li>'bias_xmin_subt'</li><li>'bias_xmax_subt'</li><li>'bias_lower_subt'</li><li>'bias_upper_subt'</li><li>'flipped_subt'</li><li>'range_subt'</li><li>'bias_subt'</li><li>'r_squared_pf'</li><li>'nrmse_pf'</li><li>'aic_pf'</li><li>'PSE_pf'</li><li>'slope_pf'</li><li>'intercept'</li><li>'bias_xmin_pf'</li><li>'bias_xmax_pf'</li><li>'bias_lower_pf'</li><li>'bias_upper_pf'</li><li>'flipped_pf'</li><li>'range_pf'</li><li>'bias_pf'</li><li>'social_skill'</li><li>'attn_switch'</li><li>'img'</li><li>'attn_to_det'</li><li>'comm'</li><li>'posAffect'</li><li>'negAffect'</li><li>'neuroticism'</li><li>'extraversion'</li><li>'openness'</li><li>'agreeableness'</li><li>'conscientiousness'</li><li>'loneliness'</li><li>'nfriends'</li><li>'PC1'</li></ol>\n"
      ],
      "text/latex": [
       "\\begin{enumerate*}\n",
       "\\item 'X'\n",
       "\\item 'index'\n",
       "\\item 'subID'\n",
       "\\item 'r\\_squared\\_subt'\n",
       "\\item 'nrmse\\_subt'\n",
       "\\item 'aic\\_subt'\n",
       "\\item 'center'\n",
       "\\item 'PSE\\_subt'\n",
       "\\item 'sigma\\_subt'\n",
       "\\item 'bias\\_xmin\\_subt'\n",
       "\\item 'bias\\_xmax\\_subt'\n",
       "\\item 'bias\\_lower\\_subt'\n",
       "\\item 'bias\\_upper\\_subt'\n",
       "\\item 'flipped\\_subt'\n",
       "\\item 'range\\_subt'\n",
       "\\item 'bias\\_subt'\n",
       "\\item 'r\\_squared\\_pf'\n",
       "\\item 'nrmse\\_pf'\n",
       "\\item 'aic\\_pf'\n",
       "\\item 'PSE\\_pf'\n",
       "\\item 'slope\\_pf'\n",
       "\\item 'intercept'\n",
       "\\item 'bias\\_xmin\\_pf'\n",
       "\\item 'bias\\_xmax\\_pf'\n",
       "\\item 'bias\\_lower\\_pf'\n",
       "\\item 'bias\\_upper\\_pf'\n",
       "\\item 'flipped\\_pf'\n",
       "\\item 'range\\_pf'\n",
       "\\item 'bias\\_pf'\n",
       "\\item 'social\\_skill'\n",
       "\\item 'attn\\_switch'\n",
       "\\item 'img'\n",
       "\\item 'attn\\_to\\_det'\n",
       "\\item 'comm'\n",
       "\\item 'posAffect'\n",
       "\\item 'negAffect'\n",
       "\\item 'neuroticism'\n",
       "\\item 'extraversion'\n",
       "\\item 'openness'\n",
       "\\item 'agreeableness'\n",
       "\\item 'conscientiousness'\n",
       "\\item 'loneliness'\n",
       "\\item 'nfriends'\n",
       "\\item 'PC1'\n",
       "\\end{enumerate*}\n"
      ],
      "text/markdown": [
       "1. 'X'\n",
       "2. 'index'\n",
       "3. 'subID'\n",
       "4. 'r_squared_subt'\n",
       "5. 'nrmse_subt'\n",
       "6. 'aic_subt'\n",
       "7. 'center'\n",
       "8. 'PSE_subt'\n",
       "9. 'sigma_subt'\n",
       "10. 'bias_xmin_subt'\n",
       "11. 'bias_xmax_subt'\n",
       "12. 'bias_lower_subt'\n",
       "13. 'bias_upper_subt'\n",
       "14. 'flipped_subt'\n",
       "15. 'range_subt'\n",
       "16. 'bias_subt'\n",
       "17. 'r_squared_pf'\n",
       "18. 'nrmse_pf'\n",
       "19. 'aic_pf'\n",
       "20. 'PSE_pf'\n",
       "21. 'slope_pf'\n",
       "22. 'intercept'\n",
       "23. 'bias_xmin_pf'\n",
       "24. 'bias_xmax_pf'\n",
       "25. 'bias_lower_pf'\n",
       "26. 'bias_upper_pf'\n",
       "27. 'flipped_pf'\n",
       "28. 'range_pf'\n",
       "29. 'bias_pf'\n",
       "30. 'social_skill'\n",
       "31. 'attn_switch'\n",
       "32. 'img'\n",
       "33. 'attn_to_det'\n",
       "34. 'comm'\n",
       "35. 'posAffect'\n",
       "36. 'negAffect'\n",
       "37. 'neuroticism'\n",
       "38. 'extraversion'\n",
       "39. 'openness'\n",
       "40. 'agreeableness'\n",
       "41. 'conscientiousness'\n",
       "42. 'loneliness'\n",
       "43. 'nfriends'\n",
       "44. 'PC1'\n",
       "\n",
       "\n"
      ],
      "text/plain": [
       " [1] \"X\"                 \"index\"             \"subID\"            \n",
       " [4] \"r_squared_subt\"    \"nrmse_subt\"        \"aic_subt\"         \n",
       " [7] \"center\"            \"PSE_subt\"          \"sigma_subt\"       \n",
       "[10] \"bias_xmin_subt\"    \"bias_xmax_subt\"    \"bias_lower_subt\"  \n",
       "[13] \"bias_upper_subt\"   \"flipped_subt\"      \"range_subt\"       \n",
       "[16] \"bias_subt\"         \"r_squared_pf\"      \"nrmse_pf\"         \n",
       "[19] \"aic_pf\"            \"PSE_pf\"            \"slope_pf\"         \n",
       "[22] \"intercept\"         \"bias_xmin_pf\"      \"bias_xmax_pf\"     \n",
       "[25] \"bias_lower_pf\"     \"bias_upper_pf\"     \"flipped_pf\"       \n",
       "[28] \"range_pf\"          \"bias_pf\"           \"social_skill\"     \n",
       "[31] \"attn_switch\"       \"img\"               \"attn_to_det\"      \n",
       "[34] \"comm\"              \"posAffect\"         \"negAffect\"        \n",
       "[37] \"neuroticism\"       \"extraversion\"      \"openness\"         \n",
       "[40] \"agreeableness\"     \"conscientiousness\" \"loneliness\"       \n",
       "[43] \"nfriends\"          \"PC1\"              "
      ]
     },
     "metadata": {}
    }
   ],
   "metadata": {}
  },
  {
   "cell_type": "code",
   "execution_count": 15,
   "source": [
    "formula <- as.formula(paste(trait,\" ~ PSE_subt + range_subt + bias_subt + sigma_subt\"))\n",
    "m1 <- lm(formula, data = data)\n",
    "summary(m1)"
   ],
   "outputs": [
    {
     "output_type": "display_data",
     "data": {
      "text/plain": [
       "\n",
       "Call:\n",
       "lm(formula = formula, data = data)\n",
       "\n",
       "Residuals:\n",
       "     Min       1Q   Median       3Q      Max \n",
       "-10.9819  -4.2886  -0.2711   3.8042  16.3709 \n",
       "\n",
       "Coefficients:\n",
       "            Estimate Std. Error t value Pr(>|t|)    \n",
       "(Intercept)  12.3576     2.5890   4.773 2.98e-06 ***\n",
       "PSE_subt     -0.4327     4.0986  -0.106   0.9160    \n",
       "range_subt    1.2862     2.4693   0.521   0.6029    \n",
       "bias_subt    -4.2360     2.2592  -1.875   0.0619 .  \n",
       "sigma_subt    3.2525     8.0415   0.404   0.6862    \n",
       "---\n",
       "Signif. codes:  0 ‘***’ 0.001 ‘**’ 0.01 ‘*’ 0.05 ‘.’ 0.1 ‘ ’ 1\n",
       "\n",
       "Residual standard error: 5.516 on 270 degrees of freedom\n",
       "Multiple R-squared:  0.02025,\tAdjusted R-squared:  0.005738 \n",
       "F-statistic: 1.395 on 4 and 270 DF,  p-value: 0.2358\n"
      ]
     },
     "metadata": {}
    }
   ],
   "metadata": {}
  },
  {
   "cell_type": "code",
   "execution_count": 16,
   "source": [
    "# Select specific columns (e.g., A and C) and z-score them\n",
    "df_zscore <- as.data.frame(scale(data[, c(trait,\"PSE_subt\", \"range_subt\",\"bias_subt\",\"sigma_subt\",\"PSE_pf\",\"slope_pf\",\"bias_pf\")]))\n",
    "\n",
    "# Print the new data frame with z-scored values\n",
    "head(df_zscore,5)"
   ],
   "outputs": [
    {
     "output_type": "display_data",
     "data": {
      "text/html": [
       "<table class=\"dataframe\">\n",
       "<caption>A data.frame: 5 × 8</caption>\n",
       "<thead>\n",
       "\t<tr><th></th><th scope=col>comm</th><th scope=col>PSE_subt</th><th scope=col>range_subt</th><th scope=col>bias_subt</th><th scope=col>sigma_subt</th><th scope=col>PSE_pf</th><th scope=col>slope_pf</th><th scope=col>bias_pf</th></tr>\n",
       "\t<tr><th></th><th scope=col>&lt;dbl&gt;</th><th scope=col>&lt;dbl&gt;</th><th scope=col>&lt;dbl&gt;</th><th scope=col>&lt;dbl&gt;</th><th scope=col>&lt;dbl&gt;</th><th scope=col>&lt;dbl&gt;</th><th scope=col>&lt;dbl&gt;</th><th scope=col>&lt;dbl&gt;</th></tr>\n",
       "</thead>\n",
       "<tbody>\n",
       "\t<tr><th scope=row>1</th><td> 1.0300701</td><td> 1.5767321</td><td> 1.14088842</td><td>-2.1658855</td><td> 0.1395287</td><td> 0.2326507</td><td> 0.7313928</td><td>-0.0852494</td></tr>\n",
       "\t<tr><th scope=row>2</th><td> 0.8493112</td><td>-0.8390867</td><td> 0.62095979</td><td> 1.3894942</td><td>-0.4557972</td><td>-2.0430898</td><td>-0.7165475</td><td> 0.9400053</td></tr>\n",
       "\t<tr><th scope=row>3</th><td> 1.0300701</td><td>-0.4567697</td><td> 0.09711613</td><td> 0.6735449</td><td> 0.4090250</td><td> 0.3044776</td><td> 0.9973410</td><td>-0.2247607</td></tr>\n",
       "\t<tr><th scope=row>4</th><td>-1.3197955</td><td> 0.8055069</td><td> 1.62571731</td><td> 0.8182752</td><td>-0.4028821</td><td>-1.2009126</td><td> 0.4588780</td><td> 1.5583760</td></tr>\n",
       "\t<tr><th scope=row>5</th><td> 0.3472031</td><td>-0.4170865</td><td>-0.60284999</td><td>-0.2050663</td><td> 1.6950628</td><td>-0.8078972</td><td>-0.5244737</td><td> 0.4165962</td></tr>\n",
       "</tbody>\n",
       "</table>\n"
      ],
      "text/latex": [
       "A data.frame: 5 × 8\n",
       "\\begin{tabular}{r|llllllll}\n",
       "  & comm & PSE\\_subt & range\\_subt & bias\\_subt & sigma\\_subt & PSE\\_pf & slope\\_pf & bias\\_pf\\\\\n",
       "  & <dbl> & <dbl> & <dbl> & <dbl> & <dbl> & <dbl> & <dbl> & <dbl>\\\\\n",
       "\\hline\n",
       "\t1 &  1.0300701 &  1.5767321 &  1.14088842 & -2.1658855 &  0.1395287 &  0.2326507 &  0.7313928 & -0.0852494\\\\\n",
       "\t2 &  0.8493112 & -0.8390867 &  0.62095979 &  1.3894942 & -0.4557972 & -2.0430898 & -0.7165475 &  0.9400053\\\\\n",
       "\t3 &  1.0300701 & -0.4567697 &  0.09711613 &  0.6735449 &  0.4090250 &  0.3044776 &  0.9973410 & -0.2247607\\\\\n",
       "\t4 & -1.3197955 &  0.8055069 &  1.62571731 &  0.8182752 & -0.4028821 & -1.2009126 &  0.4588780 &  1.5583760\\\\\n",
       "\t5 &  0.3472031 & -0.4170865 & -0.60284999 & -0.2050663 &  1.6950628 & -0.8078972 & -0.5244737 &  0.4165962\\\\\n",
       "\\end{tabular}\n"
      ],
      "text/markdown": [
       "\n",
       "A data.frame: 5 × 8\n",
       "\n",
       "| <!--/--> | comm &lt;dbl&gt; | PSE_subt &lt;dbl&gt; | range_subt &lt;dbl&gt; | bias_subt &lt;dbl&gt; | sigma_subt &lt;dbl&gt; | PSE_pf &lt;dbl&gt; | slope_pf &lt;dbl&gt; | bias_pf &lt;dbl&gt; |\n",
       "|---|---|---|---|---|---|---|---|---|\n",
       "| 1 |  1.0300701 |  1.5767321 |  1.14088842 | -2.1658855 |  0.1395287 |  0.2326507 |  0.7313928 | -0.0852494 |\n",
       "| 2 |  0.8493112 | -0.8390867 |  0.62095979 |  1.3894942 | -0.4557972 | -2.0430898 | -0.7165475 |  0.9400053 |\n",
       "| 3 |  1.0300701 | -0.4567697 |  0.09711613 |  0.6735449 |  0.4090250 |  0.3044776 |  0.9973410 | -0.2247607 |\n",
       "| 4 | -1.3197955 |  0.8055069 |  1.62571731 |  0.8182752 | -0.4028821 | -1.2009126 |  0.4588780 |  1.5583760 |\n",
       "| 5 |  0.3472031 | -0.4170865 | -0.60284999 | -0.2050663 |  1.6950628 | -0.8078972 | -0.5244737 |  0.4165962 |\n",
       "\n"
      ],
      "text/plain": [
       "  comm       PSE_subt   range_subt  bias_subt  sigma_subt PSE_pf     slope_pf  \n",
       "1  1.0300701  1.5767321  1.14088842 -2.1658855  0.1395287  0.2326507  0.7313928\n",
       "2  0.8493112 -0.8390867  0.62095979  1.3894942 -0.4557972 -2.0430898 -0.7165475\n",
       "3  1.0300701 -0.4567697  0.09711613  0.6735449  0.4090250  0.3044776  0.9973410\n",
       "4 -1.3197955  0.8055069  1.62571731  0.8182752 -0.4028821 -1.2009126  0.4588780\n",
       "5  0.3472031 -0.4170865 -0.60284999 -0.2050663  1.6950628 -0.8078972 -0.5244737\n",
       "  bias_pf   \n",
       "1 -0.0852494\n",
       "2  0.9400053\n",
       "3 -0.2247607\n",
       "4  1.5583760\n",
       "5  0.4165962"
      ]
     },
     "metadata": {}
    }
   ],
   "metadata": {}
  },
  {
   "cell_type": "code",
   "execution_count": 17,
   "source": [
    "formula <- as.formula(paste(trait,\" ~ PSE_subt + range_subt + bias_subt + sigma_subt\"))\n",
    "m1z <- lm(formula, data = df_zscore)\n",
    "summary(m1z)"
   ],
   "outputs": [
    {
     "output_type": "display_data",
     "data": {
      "text/plain": [
       "\n",
       "Call:\n",
       "lm(formula = formula, data = df_zscore)\n",
       "\n",
       "Residuals:\n",
       "    Min      1Q  Median      3Q     Max \n",
       "-1.9851 -0.7752 -0.0490  0.6876  2.9592 \n",
       "\n",
       "Coefficients:\n",
       "              Estimate Std. Error t value Pr(>|t|)  \n",
       "(Intercept) -5.554e-17  6.013e-02   0.000   1.0000  \n",
       "PSE_subt    -8.937e-03  8.466e-02  -0.106   0.9160  \n",
       "range_subt   4.248e-02  8.155e-02   0.521   0.6029  \n",
       "bias_subt   -1.473e-01  7.856e-02  -1.875   0.0619 .\n",
       "sigma_subt   2.616e-02  6.469e-02   0.404   0.6862  \n",
       "---\n",
       "Signif. codes:  0 ‘***’ 0.001 ‘**’ 0.01 ‘*’ 0.05 ‘.’ 0.1 ‘ ’ 1\n",
       "\n",
       "Residual standard error: 0.9971 on 270 degrees of freedom\n",
       "Multiple R-squared:  0.02025,\tAdjusted R-squared:  0.005738 \n",
       "F-statistic: 1.395 on 4 and 270 DF,  p-value: 0.2358\n"
      ]
     },
     "metadata": {}
    }
   ],
   "metadata": {}
  },
  {
   "cell_type": "code",
   "execution_count": 18,
   "source": [
    "formula <- as.formula(paste(trait,\" ~ PSE_subt*range_subt + PSE_subt*bias_subt + PSE_subt*sigma_subt + range_subt*bias_subt + range_subt*sigma_subt + bias_subt*sigma_subt\"))\n",
    "m1a <- lm(formula, data = data)\n",
    "summary(m1a)"
   ],
   "outputs": [
    {
     "output_type": "display_data",
     "data": {
      "text/plain": [
       "\n",
       "Call:\n",
       "lm(formula = formula, data = data)\n",
       "\n",
       "Residuals:\n",
       "     Min       1Q   Median       3Q      Max \n",
       "-11.7059  -4.0669  -0.1285   3.7657  16.6458 \n",
       "\n",
       "Coefficients:\n",
       "                      Estimate Std. Error t value Pr(>|t|)  \n",
       "(Intercept)             21.037     14.169   1.485   0.1388  \n",
       "PSE_subt               -25.537     22.069  -1.157   0.2483  \n",
       "range_subt              -4.409     15.499  -0.284   0.7763  \n",
       "bias_subt              -12.856     14.249  -0.902   0.3678  \n",
       "sigma_subt              14.979     57.978   0.258   0.7963  \n",
       "PSE_subt:range_subt     19.698     19.263   1.023   0.3074  \n",
       "PSE_subt:bias_subt      29.558     17.228   1.716   0.0874 .\n",
       "PSE_subt:sigma_subt    -49.527     61.095  -0.811   0.4183  \n",
       "range_subt:bias_subt    -5.084     14.039  -0.362   0.7175  \n",
       "range_subt:sigma_subt    3.826     37.124   0.103   0.9180  \n",
       "bias_subt:sigma_subt    12.869     62.845   0.205   0.8379  \n",
       "---\n",
       "Signif. codes:  0 ‘***’ 0.001 ‘**’ 0.01 ‘*’ 0.05 ‘.’ 0.1 ‘ ’ 1\n",
       "\n",
       "Residual standard error: 5.475 on 264 degrees of freedom\n",
       "Multiple R-squared:  0.05627,\tAdjusted R-squared:  0.02052 \n",
       "F-statistic: 1.574 on 10 and 264 DF,  p-value: 0.1142\n"
      ]
     },
     "metadata": {}
    }
   ],
   "metadata": {}
  },
  {
   "cell_type": "code",
   "execution_count": 19,
   "source": [
    "formula <- as.formula(paste(trait,\" ~ PSE_subt*range_subt + PSE_subt*bias_subt + PSE_subt*sigma_subt + range_subt*bias_subt + range_subt*sigma_subt + bias_subt*sigma_subt\"))\n",
    "m1az <- lm(formula, data = df_zscore)\n",
    "summary(m1az)"
   ],
   "outputs": [
    {
     "output_type": "display_data",
     "data": {
      "text/plain": [
       "\n",
       "Call:\n",
       "lm(formula = formula, data = df_zscore)\n",
       "\n",
       "Residuals:\n",
       "     Min       1Q   Median       3Q      Max \n",
       "-2.11594 -0.73513 -0.02323  0.68068  3.00888 \n",
       "\n",
       "Coefficients:\n",
       "                       Estimate Std. Error t value Pr(>|t|)  \n",
       "(Intercept)            0.028906   0.078044   0.370   0.7114  \n",
       "PSE_subt               0.101870   0.117394   0.868   0.3863  \n",
       "range_subt            -0.013755   0.089394  -0.154   0.8778  \n",
       "bias_subt             -0.142811   0.096512  -1.480   0.1401  \n",
       "sigma_subt             0.069087   0.076980   0.897   0.3703  \n",
       "PSE_subt:range_subt    0.074332   0.072689   1.023   0.3074  \n",
       "PSE_subt:bias_subt     0.117450   0.068456   1.716   0.0874 .\n",
       "PSE_subt:sigma_subt   -0.045526   0.056159  -0.811   0.4183  \n",
       "range_subt:bias_subt  -0.032300   0.089188  -0.362   0.7175  \n",
       "range_subt:sigma_subt  0.005623   0.054559   0.103   0.9180  \n",
       "bias_subt:sigma_subt   0.019915   0.097251   0.205   0.8379  \n",
       "---\n",
       "Signif. codes:  0 ‘***’ 0.001 ‘**’ 0.01 ‘*’ 0.05 ‘.’ 0.1 ‘ ’ 1\n",
       "\n",
       "Residual standard error: 0.9897 on 264 degrees of freedom\n",
       "Multiple R-squared:  0.05627,\tAdjusted R-squared:  0.02052 \n",
       "F-statistic: 1.574 on 10 and 264 DF,  p-value: 0.1142\n"
      ]
     },
     "metadata": {}
    }
   ],
   "metadata": {}
  },
  {
   "cell_type": "code",
   "execution_count": 20,
   "source": [
    "formula <- as.formula(paste(trait,\" ~ PSE_pf + slope_pf + bias_pf\"))\n",
    "m2 <- lm(formula, data = data)\n",
    "summary(m2)"
   ],
   "outputs": [
    {
     "output_type": "display_data",
     "data": {
      "text/plain": [
       "\n",
       "Call:\n",
       "lm(formula = formula, data = data)\n",
       "\n",
       "Residuals:\n",
       "     Min       1Q   Median       3Q      Max \n",
       "-10.9310  -4.3302  -0.2963   3.8493  15.8204 \n",
       "\n",
       "Coefficients:\n",
       "            Estimate Std. Error t value Pr(>|t|)    \n",
       "(Intercept)  15.6139     2.0950   7.453 1.23e-12 ***\n",
       "PSE_pf       -6.7215     3.0611  -2.196   0.0290 *  \n",
       "slope_pf     -0.5212     1.6332  -0.319   0.7499    \n",
       "bias_pf      -3.4345     1.7334  -1.981   0.0486 *  \n",
       "---\n",
       "Signif. codes:  0 ‘***’ 0.001 ‘**’ 0.01 ‘*’ 0.05 ‘.’ 0.1 ‘ ’ 1\n",
       "\n",
       "Residual standard error: 5.496 on 271 degrees of freedom\n",
       "Multiple R-squared:  0.02386,\tAdjusted R-squared:  0.01305 \n",
       "F-statistic: 2.208 on 3 and 271 DF,  p-value: 0.08747\n"
      ]
     },
     "metadata": {}
    }
   ],
   "metadata": {}
  },
  {
   "cell_type": "code",
   "execution_count": 21,
   "source": [
    "formula <- as.formula(paste(trait,\" ~ PSE_pf + slope_pf + bias_pf\"))\n",
    "m2z <- lm(formula, data = df_zscore)\n",
    "summary(m2z)"
   ],
   "outputs": [
    {
     "output_type": "display_data",
     "data": {
      "text/plain": [
       "\n",
       "Call:\n",
       "lm(formula = formula, data = df_zscore)\n",
       "\n",
       "Residuals:\n",
       "     Min       1Q   Median       3Q      Max \n",
       "-1.97588 -0.78272 -0.05357  0.69580  2.85968 \n",
       "\n",
       "Coefficients:\n",
       "              Estimate Std. Error t value Pr(>|t|)  \n",
       "(Intercept) -9.773e-17  5.991e-02   0.000   1.0000  \n",
       "PSE_pf      -1.921e-01  8.749e-02  -2.196   0.0290 *\n",
       "slope_pf    -2.050e-02  6.422e-02  -0.319   0.7499  \n",
       "bias_pf     -1.709e-01  8.627e-02  -1.981   0.0486 *\n",
       "---\n",
       "Signif. codes:  0 ‘***’ 0.001 ‘**’ 0.01 ‘*’ 0.05 ‘.’ 0.1 ‘ ’ 1\n",
       "\n",
       "Residual standard error: 0.9935 on 271 degrees of freedom\n",
       "Multiple R-squared:  0.02386,\tAdjusted R-squared:  0.01305 \n",
       "F-statistic: 2.208 on 3 and 271 DF,  p-value: 0.08747\n"
      ]
     },
     "metadata": {}
    }
   ],
   "metadata": {}
  },
  {
   "cell_type": "code",
   "execution_count": 22,
   "source": [
    "formula <- as.formula(paste(trait,\" ~ PSE_pf*slope_pf + PSE_pf*bias_pf + slope_pf*bias_pf\"))\n",
    "m2a <- lm(formula, data = data)\n",
    "summary(m2a)"
   ],
   "outputs": [
    {
     "output_type": "display_data",
     "data": {
      "text/plain": [
       "\n",
       "Call:\n",
       "lm(formula = formula, data = data)\n",
       "\n",
       "Residuals:\n",
       "     Min       1Q   Median       3Q      Max \n",
       "-10.9821  -4.1430  -0.3394   4.2034  15.6887 \n",
       "\n",
       "Coefficients:\n",
       "                 Estimate Std. Error t value Pr(>|t|)   \n",
       "(Intercept)        22.537      7.647   2.947  0.00349 **\n",
       "PSE_pf            -18.700      7.374  -2.536  0.01178 * \n",
       "slope_pf          -11.585      8.522  -1.359  0.17517   \n",
       "bias_pf           -10.180     10.484  -0.971  0.33244   \n",
       "PSE_pf:slope_pf    18.172     13.076   1.390  0.16575   \n",
       "PSE_pf:bias_pf      9.958      8.286   1.202  0.23055   \n",
       "slope_pf:bias_pf    4.801     10.984   0.437  0.66241   \n",
       "---\n",
       "Signif. codes:  0 ‘***’ 0.001 ‘**’ 0.01 ‘*’ 0.05 ‘.’ 0.1 ‘ ’ 1\n",
       "\n",
       "Residual standard error: 5.49 on 268 degrees of freedom\n",
       "Multiple R-squared:  0.03663,\tAdjusted R-squared:  0.01507 \n",
       "F-statistic: 1.699 on 6 and 268 DF,  p-value: 0.1215\n"
      ]
     },
     "metadata": {}
    }
   ],
   "metadata": {}
  },
  {
   "cell_type": "code",
   "execution_count": 23,
   "source": [
    "formula <- as.formula(paste(trait,\" ~ PSE_pf*slope_pf + PSE_pf*bias_pf + slope_pf*bias_pf\"))\n",
    "m2az <- lm(formula, data = df_zscore)\n",
    "summary(m2az)"
   ],
   "outputs": [
    {
     "output_type": "display_data",
     "data": {
      "text/plain": [
       "\n",
       "Call:\n",
       "lm(formula = formula, data = df_zscore)\n",
       "\n",
       "Residuals:\n",
       "     Min       1Q   Median       3Q      Max \n",
       "-1.98512 -0.74888 -0.06136  0.75981  2.83588 \n",
       "\n",
       "Coefficients:\n",
       "                 Estimate Std. Error t value Pr(>|t|)\n",
       "(Intercept)       0.02723    0.07719   0.353    0.724\n",
       "PSE_pf           -0.04728    0.20169  -0.234    0.815\n",
       "slope_pf         -0.02608    0.06711  -0.389    0.698\n",
       "bias_pf          -0.13417    0.20239  -0.663    0.508\n",
       "PSE_pf:slope_pf   0.11300    0.08131   1.390    0.166\n",
       "PSE_pf:bias_pf    0.07836    0.06521   1.202    0.231\n",
       "slope_pf:bias_pf  0.05198    0.11893   0.437    0.662\n",
       "\n",
       "Residual standard error: 0.9924 on 268 degrees of freedom\n",
       "Multiple R-squared:  0.03663,\tAdjusted R-squared:  0.01507 \n",
       "F-statistic: 1.699 on 6 and 268 DF,  p-value: 0.1215\n"
      ]
     },
     "metadata": {}
    }
   ],
   "metadata": {}
  },
  {
   "cell_type": "code",
   "execution_count": 24,
   "source": [
    "formula <- as.formula(paste(trait,\" ~ PSE_subt + range_subt + bias_subt + sigma_subt + PSE_pf + slope_pf + bias_pf\"))\n",
    "m3 <- lm(formula, data = data)\n",
    "summary(m3)"
   ],
   "outputs": [
    {
     "output_type": "display_data",
     "data": {
      "text/plain": [
       "\n",
       "Call:\n",
       "lm(formula = formula, data = data)\n",
       "\n",
       "Residuals:\n",
       "     Min       1Q   Median       3Q      Max \n",
       "-10.7102  -4.1796  -0.2209   4.0361  16.3419 \n",
       "\n",
       "Coefficients:\n",
       "            Estimate Std. Error t value Pr(>|t|)    \n",
       "(Intercept) 16.49026    3.16732   5.206 3.85e-07 ***\n",
       "PSE_subt    -0.03876    4.09316  -0.009   0.9925    \n",
       "range_subt   1.33200    2.57347   0.518   0.6052    \n",
       "bias_subt   -3.72212    2.35003  -1.584   0.1144    \n",
       "sigma_subt   3.11401    8.03249   0.388   0.6986    \n",
       "PSE_pf      -6.39898    3.07181  -2.083   0.0382 *  \n",
       "slope_pf     0.34490    1.90598   0.181   0.8565    \n",
       "bias_pf     -3.51893    1.73795  -2.025   0.0439 *  \n",
       "---\n",
       "Signif. codes:  0 ‘***’ 0.001 ‘**’ 0.01 ‘*’ 0.05 ‘.’ 0.1 ‘ ’ 1\n",
       "\n",
       "Residual standard error: 5.493 on 267 degrees of freedom\n",
       "Multiple R-squared:  0.03918,\tAdjusted R-squared:  0.01399 \n",
       "F-statistic: 1.555 on 7 and 267 DF,  p-value: 0.1489\n"
      ]
     },
     "metadata": {}
    }
   ],
   "metadata": {}
  },
  {
   "cell_type": "code",
   "execution_count": 25,
   "source": [
    "formula <- as.formula(paste(trait,\" ~ PSE_subt + range_subt + bias_subt + sigma_subt + PSE_pf + slope_pf + bias_pf\"))\n",
    "m3z <- lm(formula, data = df_zscore)\n",
    "summary(m3z)"
   ],
   "outputs": [
    {
     "output_type": "display_data",
     "data": {
      "text/plain": [
       "\n",
       "Call:\n",
       "lm(formula = formula, data = df_zscore)\n",
       "\n",
       "Residuals:\n",
       "     Min       1Q   Median       3Q      Max \n",
       "-1.93596 -0.75551 -0.03993  0.72955  2.95395 \n",
       "\n",
       "Coefficients:\n",
       "              Estimate Std. Error t value Pr(>|t|)  \n",
       "(Intercept) -8.589e-17  5.988e-02   0.000   1.0000  \n",
       "PSE_subt    -8.007e-04  8.455e-02  -0.009   0.9925  \n",
       "range_subt   4.399e-02  8.498e-02   0.518   0.6052  \n",
       "bias_subt   -1.294e-01  8.172e-02  -1.584   0.1144  \n",
       "sigma_subt   2.505e-02  6.462e-02   0.388   0.6986  \n",
       "PSE_pf      -1.829e-01  8.780e-02  -2.083   0.0382 *\n",
       "slope_pf     1.356e-02  7.495e-02   0.181   0.8565  \n",
       "bias_pf     -1.751e-01  8.649e-02  -2.025   0.0439 *\n",
       "---\n",
       "Signif. codes:  0 ‘***’ 0.001 ‘**’ 0.01 ‘*’ 0.05 ‘.’ 0.1 ‘ ’ 1\n",
       "\n",
       "Residual standard error: 0.993 on 267 degrees of freedom\n",
       "Multiple R-squared:  0.03918,\tAdjusted R-squared:  0.01399 \n",
       "F-statistic: 1.555 on 7 and 267 DF,  p-value: 0.1489\n"
      ]
     },
     "metadata": {}
    }
   ],
   "metadata": {}
  },
  {
   "cell_type": "code",
   "execution_count": 26,
   "source": [
    "formula <- as.formula(paste(trait,\" ~ PSE_subt*range_subt + PSE_subt*bias_subt + PSE_subt*sigma_subt + range_subt*bias_subt + range_subt*sigma_subt + bias_subt*sigma_subt + PSE_pf*slope_pf + PSE_pf*bias_pf + slope_pf*bias_pf\"))\n",
    "m3a <- lm(formula, data = data)\n",
    "summary(m3a)"
   ],
   "outputs": [
    {
     "output_type": "display_data",
     "data": {
      "text/plain": [
       "\n",
       "Call:\n",
       "lm(formula = formula, data = data)\n",
       "\n",
       "Residuals:\n",
       "     Min       1Q   Median       3Q      Max \n",
       "-11.6073  -3.9323  -0.0662   3.7923  16.7994 \n",
       "\n",
       "Coefficients:\n",
       "                      Estimate Std. Error t value Pr(>|t|)  \n",
       "(Intercept)            26.5626    16.3705   1.623   0.1059  \n",
       "PSE_subt              -26.0271    22.0041  -1.183   0.2380  \n",
       "range_subt              0.3459    15.5737   0.022   0.9823  \n",
       "bias_subt              -9.4630    14.5062  -0.652   0.5148  \n",
       "sigma_subt             26.4975    58.8258   0.450   0.6528  \n",
       "PSE_pf                -14.8233     7.4449  -1.991   0.0475 *\n",
       "slope_pf              -12.0263     8.5484  -1.407   0.1607  \n",
       "bias_pf                -4.9167    10.6131  -0.463   0.6436  \n",
       "PSE_subt:range_subt    18.1171    19.1880   0.944   0.3460  \n",
       "PSE_subt:bias_subt     33.9259    17.4187   1.948   0.0525 .\n",
       "PSE_subt:sigma_subt   -56.9161    61.6936  -0.923   0.3571  \n",
       "range_subt:bias_subt  -10.6748    14.2785  -0.748   0.4554  \n",
       "range_subt:sigma_subt  -2.6127    37.0776  -0.070   0.9439  \n",
       "bias_subt:sigma_subt    5.3244    63.4767   0.084   0.9332  \n",
       "PSE_pf:slope_pf        22.7544    13.0698   1.741   0.0829 .\n",
       "PSE_pf:bias_pf          0.2988     8.9711   0.033   0.9735  \n",
       "slope_pf:bias_pf        4.1379    11.0660   0.374   0.7088  \n",
       "---\n",
       "Signif. codes:  0 ‘***’ 0.001 ‘**’ 0.01 ‘*’ 0.05 ‘.’ 0.1 ‘ ’ 1\n",
       "\n",
       "Residual standard error: 5.439 on 258 degrees of freedom\n",
       "Multiple R-squared:  0.08991,\tAdjusted R-squared:  0.03347 \n",
       "F-statistic: 1.593 on 16 and 258 DF,  p-value: 0.07061\n"
      ]
     },
     "metadata": {}
    }
   ],
   "metadata": {}
  },
  {
   "cell_type": "code",
   "execution_count": 27,
   "source": [
    "formula <- as.formula(paste(trait,\" ~ PSE_subt*range_subt + PSE_subt*bias_subt + PSE_subt*sigma_subt + range_subt*bias_subt + range_subt*sigma_subt + bias_subt*sigma_subt + PSE_pf*slope_pf + PSE_pf*bias_pf + slope_pf*bias_pf\"))\n",
    "m3az <- lm(formula, data = df_zscore)\n",
    "summary(m3az)"
   ],
   "outputs": [
    {
     "output_type": "display_data",
     "data": {
      "text/plain": [
       "\n",
       "Call:\n",
       "lm(formula = formula, data = df_zscore)\n",
       "\n",
       "Residuals:\n",
       "     Min       1Q   Median       3Q      Max \n",
       "-2.09813 -0.71079 -0.01198  0.68549  3.03663 \n",
       "\n",
       "Coefficients:\n",
       "                       Estimate Std. Error t value Pr(>|t|)  \n",
       "(Intercept)            0.012483   0.089736   0.139   0.8895  \n",
       "PSE_subt               0.120353   0.118455   1.016   0.3106  \n",
       "range_subt            -0.032031   0.093432  -0.343   0.7320  \n",
       "bias_subt             -0.128310   0.102097  -1.257   0.2100  \n",
       "sigma_subt             0.059283   0.077986   0.760   0.4478  \n",
       "PSE_pf                -0.012212   0.202041  -0.060   0.9518  \n",
       "slope_pf               0.022780   0.078927   0.289   0.7731  \n",
       "bias_pf               -0.109257   0.201887  -0.541   0.5889  \n",
       "PSE_subt:range_subt    0.068366   0.072407   0.944   0.3460  \n",
       "PSE_subt:bias_subt     0.134804   0.069213   1.948   0.0525 .\n",
       "PSE_subt:sigma_subt   -0.052318   0.056709  -0.923   0.3571  \n",
       "range_subt:bias_subt  -0.067815   0.090708  -0.748   0.4554  \n",
       "range_subt:sigma_subt -0.003840   0.054490  -0.070   0.9439  \n",
       "bias_subt:sigma_subt   0.008239   0.098229   0.084   0.9332  \n",
       "PSE_pf:slope_pf        0.141491   0.081270   1.741   0.0829 .\n",
       "PSE_pf:bias_pf         0.002351   0.070600   0.033   0.9735  \n",
       "slope_pf:bias_pf       0.044802   0.119813   0.374   0.7088  \n",
       "---\n",
       "Signif. codes:  0 ‘***’ 0.001 ‘**’ 0.01 ‘*’ 0.05 ‘.’ 0.1 ‘ ’ 1\n",
       "\n",
       "Residual standard error: 0.9831 on 258 degrees of freedom\n",
       "Multiple R-squared:  0.08991,\tAdjusted R-squared:  0.03347 \n",
       "F-statistic: 1.593 on 16 and 258 DF,  p-value: 0.07061\n"
      ]
     },
     "metadata": {}
    }
   ],
   "metadata": {}
  },
  {
   "cell_type": "code",
   "execution_count": 28,
   "source": [
    "formula <- as.formula(paste(trait,\" ~ PSE_subt*PSE_pf + PSE_subt*slope_pf + PSE_subt*bias_pf + range_subt*PSE_pf + range_subt*slope_pf + range_subt*bias_pf + bias_subt*PSE_pf + bias_subt*slope_pf + bias_subt*bias_pf +  sigma_subt*PSE_pf + sigma_subt*slope_pf + sigma_subt*bias_pf\"))\n",
    "m3b <- lm(formula, data = data)\n",
    "summary(m3b)"
   ],
   "outputs": [
    {
     "output_type": "display_data",
     "data": {
      "text/plain": [
       "\n",
       "Call:\n",
       "lm(formula = formula, data = data)\n",
       "\n",
       "Residuals:\n",
       "     Min       1Q   Median       3Q      Max \n",
       "-11.5985  -3.6117  -0.1705   3.4998  16.3102 \n",
       "\n",
       "Coefficients:\n",
       "                     Estimate Std. Error t value Pr(>|t|)  \n",
       "(Intercept)          -12.1881    20.5159  -0.594   0.5530  \n",
       "PSE_subt              39.6214    30.3487   1.306   0.1929  \n",
       "PSE_pf                23.1658    27.9769   0.828   0.4084  \n",
       "slope_pf              -0.4494    15.8556  -0.028   0.9774  \n",
       "bias_pf               25.2543    18.3622   1.375   0.1702  \n",
       "range_subt            -3.8445    15.7735  -0.244   0.8076  \n",
       "bias_subt              7.5409    15.3435   0.491   0.6235  \n",
       "sigma_subt           102.5423    63.5995   1.612   0.1081  \n",
       "PSE_subt:PSE_pf      -40.0619    44.9824  -0.891   0.3740  \n",
       "PSE_subt:slope_pf     32.2346    22.8069   1.413   0.1588  \n",
       "PSE_subt:bias_pf     -69.5272    27.1501  -2.561   0.0110 *\n",
       "PSE_pf:range_subt      7.4425    24.2737   0.307   0.7594  \n",
       "slope_pf:range_subt  -19.8018    12.3794  -1.600   0.1109  \n",
       "bias_pf:range_subt    20.9443    15.5179   1.350   0.1783  \n",
       "PSE_pf:bias_subt      -6.9837    24.3946  -0.286   0.7749  \n",
       "slope_pf:bias_subt     5.4537    11.8661   0.460   0.6462  \n",
       "bias_pf:bias_subt    -18.6633    13.1764  -1.416   0.1579  \n",
       "PSE_pf:sigma_subt   -157.6506    92.3777  -1.707   0.0891 .\n",
       "slope_pf:sigma_subt   -7.6233    44.4812  -0.171   0.8641  \n",
       "bias_pf:sigma_subt   -43.8782    52.3469  -0.838   0.4027  \n",
       "---\n",
       "Signif. codes:  0 ‘***’ 0.001 ‘**’ 0.01 ‘*’ 0.05 ‘.’ 0.1 ‘ ’ 1\n",
       "\n",
       "Residual standard error: 5.459 on 255 degrees of freedom\n",
       "Multiple R-squared:  0.09381,\tAdjusted R-squared:  0.02629 \n",
       "F-statistic: 1.389 on 19 and 255 DF,  p-value: 0.1317\n"
      ]
     },
     "metadata": {}
    }
   ],
   "metadata": {}
  },
  {
   "cell_type": "code",
   "execution_count": 29,
   "source": [
    "formula <- as.formula(paste(trait,\" ~ PSE_subt*PSE_pf + PSE_subt*slope_pf + PSE_subt*bias_pf + range_subt*PSE_pf + range_subt*slope_pf + range_subt*bias_pf + bias_subt*PSE_pf + bias_subt*slope_pf + bias_subt*bias_pf +  sigma_subt*PSE_pf + sigma_subt*slope_pf + sigma_subt*bias_pf\"))\n",
    "m3bz <- lm(formula, data = df_zscore)\n",
    "summary(m3bz)"
   ],
   "outputs": [
    {
     "output_type": "display_data",
     "data": {
      "text/plain": [
       "\n",
       "Call:\n",
       "lm(formula = formula, data = df_zscore)\n",
       "\n",
       "Residuals:\n",
       "     Min       1Q   Median       3Q      Max \n",
       "-2.09653 -0.65284 -0.03082  0.63263  2.94821 \n",
       "\n",
       "Coefficients:\n",
       "                    Estimate Std. Error t value Pr(>|t|)  \n",
       "(Intercept)          0.05224    0.06845   0.763   0.4461  \n",
       "PSE_subt             0.04222    0.09071   0.465   0.6420  \n",
       "PSE_pf              -0.20134    0.10457  -1.925   0.0553 .\n",
       "slope_pf             0.04360    0.08005   0.545   0.5864  \n",
       "bias_pf             -0.20354    0.12865  -1.582   0.1149  \n",
       "range_subt          -0.03025    0.09017  -0.335   0.7375  \n",
       "bias_subt           -0.09906    0.08491  -1.167   0.2444  \n",
       "sigma_subt           0.01414    0.06938   0.204   0.8387  \n",
       "PSE_subt:PSE_pf     -0.13085    0.14692  -0.891   0.3740  \n",
       "PSE_subt:slope_pf    0.14485    0.10248   1.413   0.1588  \n",
       "PSE_subt:bias_pf    -0.39540    0.15440  -2.561   0.0110 *\n",
       "PSE_pf:range_subt    0.03886    0.12675   0.307   0.7594  \n",
       "slope_pf:range_subt -0.14226    0.08894  -1.600   0.1109  \n",
       "bias_pf:range_subt   0.19043    0.14109   1.350   0.1783  \n",
       "PSE_pf:bias_subt    -0.03840    0.13413  -0.286   0.7749  \n",
       "slope_pf:bias_subt   0.04126    0.08977   0.460   0.6462  \n",
       "bias_pf:bias_subt   -0.17868    0.12615  -1.416   0.1579  \n",
       "PSE_pf:sigma_subt   -0.20053    0.11750  -1.707   0.0891 .\n",
       "slope_pf:sigma_subt -0.01334    0.07784  -0.171   0.8641  \n",
       "bias_pf:sigma_subt  -0.09718    0.11594  -0.838   0.4027  \n",
       "---\n",
       "Signif. codes:  0 ‘***’ 0.001 ‘**’ 0.01 ‘*’ 0.05 ‘.’ 0.1 ‘ ’ 1\n",
       "\n",
       "Residual standard error: 0.9868 on 255 degrees of freedom\n",
       "Multiple R-squared:  0.09381,\tAdjusted R-squared:  0.02629 \n",
       "F-statistic: 1.389 on 19 and 255 DF,  p-value: 0.1317\n"
      ]
     },
     "metadata": {}
    }
   ],
   "metadata": {}
  },
  {
   "cell_type": "code",
   "execution_count": 30,
   "source": [
    "formula <- as.formula(paste(trait,\" ~ PSE_subt*range_subt + PSE_subt*bias_subt + PSE_subt*sigma_subt + range_subt*bias_subt + range_subt*sigma_subt + bias_subt*sigma_subt + PSE_pf*slope_pf + PSE_pf*bias_pf + slope_pf*bias_pf + PSE_subt*PSE_pf + PSE_subt*slope_pf + PSE_subt*bias_pf + range_subt*PSE_pf + range_subt*slope_pf + range_subt*bias_pf + bias_subt*PSE_pf + bias_subt*slope_pf + bias_subt*bias_pf +  sigma_subt*PSE_pf + sigma_subt*slope_pf + sigma_subt*bias_pf + PSE_subt*PSE_pf + PSE_subt*slope_pf + PSE_subt*bias_pf + range_subt*PSE_pf + range_subt*slope_pf + range_subt*bias_pf + bias_subt*PSE_pf + bias_subt*slope_pf + bias_subt*bias_pf +  sigma_subt*PSE_pf + sigma_subt*slope_pf + sigma_subt*bias_pf\"))\n",
    "m3c <- lm(formula, data = data)\n",
    "summary(m3c)"
   ],
   "outputs": [
    {
     "output_type": "display_data",
     "data": {
      "text/plain": [
       "\n",
       "Call:\n",
       "lm(formula = formula, data = data)\n",
       "\n",
       "Residuals:\n",
       "     Min       1Q   Median       3Q      Max \n",
       "-12.3315  -3.5301  -0.1058   3.5367  16.4574 \n",
       "\n",
       "Coefficients:\n",
       "                       Estimate Std. Error t value Pr(>|t|)  \n",
       "(Intercept)              6.3560    25.3440   0.251   0.8022  \n",
       "PSE_subt                 5.6860    36.7672   0.155   0.8772  \n",
       "range_subt              -0.6417    23.3146  -0.028   0.9781  \n",
       "bias_subt               -5.2154    22.5556  -0.231   0.8173  \n",
       "sigma_subt              92.2887    85.5915   1.078   0.2820  \n",
       "PSE_pf                  -1.0329    29.5600  -0.035   0.9722  \n",
       "slope_pf                -6.5394    21.5950  -0.303   0.7623  \n",
       "bias_pf                 15.1859    21.0297   0.722   0.4709  \n",
       "PSE_subt:range_subt     27.1468    21.2058   1.280   0.2017  \n",
       "PSE_subt:bias_subt      28.5643    18.7085   1.527   0.1281  \n",
       "PSE_subt:sigma_subt    -69.1975    65.1426  -1.062   0.2892  \n",
       "range_subt:bias_subt     2.2105    16.6959   0.132   0.8948  \n",
       "range_subt:sigma_subt  -10.3372    44.3598  -0.233   0.8159  \n",
       "bias_subt:sigma_subt     7.2569    70.9142   0.102   0.9186  \n",
       "PSE_pf:slope_pf         30.7584    14.8153   2.076   0.0389 *\n",
       "PSE_pf:bias_pf           0.4815     9.3591   0.051   0.9590  \n",
       "slope_pf:bias_pf        15.2831    13.9364   1.097   0.2739  \n",
       "PSE_subt:PSE_pf         -3.3104    46.3480  -0.071   0.9431  \n",
       "PSE_subt:slope_pf        0.4234    25.3727   0.017   0.9867  \n",
       "PSE_subt:bias_pf       -52.3067    27.6803  -1.890   0.0600 .\n",
       "range_subt:PSE_pf      -19.1909    26.0903  -0.736   0.4627  \n",
       "range_subt:slope_pf    -14.2208    13.1727  -1.080   0.2814  \n",
       "range_subt:bias_pf       8.0070    16.9688   0.472   0.6374  \n",
       "bias_subt:PSE_pf         6.4030    24.8018   0.258   0.7965  \n",
       "bias_subt:slope_pf      -5.5127    12.9191  -0.427   0.6700  \n",
       "bias_subt:bias_pf      -17.8762    13.2619  -1.348   0.1789  \n",
       "sigma_subt:PSE_pf     -107.3166    96.9057  -1.107   0.2692  \n",
       "sigma_subt:slope_pf     -6.3052    58.5757  -0.108   0.9144  \n",
       "sigma_subt:bias_pf     -14.7480    53.3439  -0.276   0.7824  \n",
       "---\n",
       "Signif. codes:  0 ‘***’ 0.001 ‘**’ 0.01 ‘*’ 0.05 ‘.’ 0.1 ‘ ’ 1\n",
       "\n",
       "Residual standard error: 5.403 on 246 degrees of freedom\n",
       "Multiple R-squared:  0.1437,\tAdjusted R-squared:  0.04625 \n",
       "F-statistic: 1.474 on 28 and 246 DF,  p-value: 0.06429\n"
      ]
     },
     "metadata": {}
    }
   ],
   "metadata": {}
  },
  {
   "cell_type": "code",
   "execution_count": 31,
   "source": [
    "formula <- as.formula(paste(trait,\" ~ PSE_subt*range_subt + PSE_subt*bias_subt + PSE_subt*sigma_subt + range_subt*bias_subt + range_subt*sigma_subt + bias_subt*sigma_subt + PSE_pf*slope_pf + PSE_pf*bias_pf + slope_pf*bias_pf + PSE_subt*PSE_pf + PSE_subt*slope_pf + PSE_subt*bias_pf + range_subt*PSE_pf + range_subt*slope_pf + range_subt*bias_pf + bias_subt*PSE_pf + bias_subt*slope_pf + bias_subt*bias_pf +  sigma_subt*PSE_pf + sigma_subt*slope_pf + sigma_subt*bias_pf + PSE_subt*PSE_pf + PSE_subt*slope_pf + PSE_subt*bias_pf + range_subt*PSE_pf + range_subt*slope_pf + range_subt*bias_pf + bias_subt*PSE_pf + bias_subt*slope_pf + bias_subt*bias_pf +  sigma_subt*PSE_pf + sigma_subt*slope_pf + sigma_subt*bias_pf\"))\n",
    "m3cz <- lm(formula, data = df_zscore)\n",
    "summary(m3cz)"
   ],
   "outputs": [
    {
     "output_type": "display_data",
     "data": {
      "text/plain": [
       "\n",
       "Call:\n",
       "lm(formula = formula, data = df_zscore)\n",
       "\n",
       "Residuals:\n",
       "     Min       1Q   Median       3Q      Max \n",
       "-2.22903 -0.63810 -0.01913  0.63928  2.97482 \n",
       "\n",
       "Coefficients:\n",
       "                       Estimate Std. Error t value Pr(>|t|)  \n",
       "(Intercept)            0.022851   0.093727   0.244   0.8076  \n",
       "PSE_subt               0.156649   0.120779   1.297   0.1959  \n",
       "range_subt            -0.094638   0.096449  -0.981   0.3274  \n",
       "bias_subt             -0.107860   0.103824  -1.039   0.2999  \n",
       "sigma_subt             0.031999   0.079629   0.402   0.6881  \n",
       "PSE_pf                -0.051113   0.220941  -0.231   0.8172  \n",
       "slope_pf               0.066658   0.085381   0.781   0.4357  \n",
       "bias_pf               -0.175116   0.233920  -0.749   0.4548  \n",
       "PSE_subt:range_subt    0.102441   0.080022   1.280   0.2017  \n",
       "PSE_subt:bias_subt     0.113500   0.074338   1.527   0.1281  \n",
       "PSE_subt:sigma_subt   -0.063607   0.059880  -1.062   0.2892  \n",
       "range_subt:bias_subt   0.014043   0.106065   0.132   0.8948  \n",
       "range_subt:sigma_subt -0.015192   0.065192  -0.233   0.8159  \n",
       "bias_subt:sigma_subt   0.011230   0.109738   0.102   0.9186  \n",
       "PSE_pf:slope_pf        0.191261   0.092124   2.076   0.0389 *\n",
       "PSE_pf:bias_pf         0.003789   0.073653   0.051   0.9590  \n",
       "slope_pf:bias_pf       0.165472   0.150891   1.097   0.2739  \n",
       "PSE_subt:PSE_pf       -0.010812   0.151379  -0.071   0.9431  \n",
       "PSE_subt:slope_pf      0.001903   0.114014   0.017   0.9867  \n",
       "PSE_subt:bias_pf      -0.297469   0.157418  -1.890   0.0600 .\n",
       "range_subt:PSE_pf     -0.100212   0.136240  -0.736   0.4627  \n",
       "range_subt:slope_pf   -0.102166   0.094636  -1.080   0.2814  \n",
       "range_subt:bias_pf     0.072802   0.154286   0.472   0.6374  \n",
       "bias_subt:PSE_pf       0.035207   0.136373   0.258   0.7965  \n",
       "bias_subt:slope_pf    -0.041703   0.097731  -0.427   0.6700  \n",
       "bias_subt:bias_pf     -0.171147   0.126969  -1.348   0.1789  \n",
       "sigma_subt:PSE_pf     -0.136507   0.123264  -1.107   0.2692  \n",
       "sigma_subt:slope_pf   -0.011034   0.102509  -0.108   0.9144  \n",
       "sigma_subt:bias_pf    -0.032664   0.118147  -0.276   0.7824  \n",
       "---\n",
       "Signif. codes:  0 ‘***’ 0.001 ‘**’ 0.01 ‘*’ 0.05 ‘.’ 0.1 ‘ ’ 1\n",
       "\n",
       "Residual standard error: 0.9766 on 246 degrees of freedom\n",
       "Multiple R-squared:  0.1437,\tAdjusted R-squared:  0.04625 \n",
       "F-statistic: 1.474 on 28 and 246 DF,  p-value: 0.06429\n"
      ]
     },
     "metadata": {}
    }
   ],
   "metadata": {}
  },
  {
   "cell_type": "code",
   "execution_count": 32,
   "source": [
    "anova(m3a,m3c)"
   ],
   "outputs": [
    {
     "output_type": "display_data",
     "data": {
      "text/html": [
       "<table class=\"dataframe\">\n",
       "<caption>A anova: 2 × 6</caption>\n",
       "<thead>\n",
       "\t<tr><th></th><th scope=col>Res.Df</th><th scope=col>RSS</th><th scope=col>Df</th><th scope=col>Sum of Sq</th><th scope=col>F</th><th scope=col>Pr(&gt;F)</th></tr>\n",
       "\t<tr><th></th><th scope=col>&lt;dbl&gt;</th><th scope=col>&lt;dbl&gt;</th><th scope=col>&lt;dbl&gt;</th><th scope=col>&lt;dbl&gt;</th><th scope=col>&lt;dbl&gt;</th><th scope=col>&lt;dbl&gt;</th></tr>\n",
       "</thead>\n",
       "<tbody>\n",
       "\t<tr><th scope=row>1</th><td>258</td><td>7631.987</td><td>NA</td><td>      NA</td><td>      NA</td><td>      NA</td></tr>\n",
       "\t<tr><th scope=row>2</th><td>246</td><td>7180.792</td><td>12</td><td>451.1956</td><td>1.288091</td><td>0.225822</td></tr>\n",
       "</tbody>\n",
       "</table>\n"
      ],
      "text/latex": [
       "A anova: 2 × 6\n",
       "\\begin{tabular}{r|llllll}\n",
       "  & Res.Df & RSS & Df & Sum of Sq & F & Pr(>F)\\\\\n",
       "  & <dbl> & <dbl> & <dbl> & <dbl> & <dbl> & <dbl>\\\\\n",
       "\\hline\n",
       "\t1 & 258 & 7631.987 & NA &       NA &       NA &       NA\\\\\n",
       "\t2 & 246 & 7180.792 & 12 & 451.1956 & 1.288091 & 0.225822\\\\\n",
       "\\end{tabular}\n"
      ],
      "text/markdown": [
       "\n",
       "A anova: 2 × 6\n",
       "\n",
       "| <!--/--> | Res.Df &lt;dbl&gt; | RSS &lt;dbl&gt; | Df &lt;dbl&gt; | Sum of Sq &lt;dbl&gt; | F &lt;dbl&gt; | Pr(&gt;F) &lt;dbl&gt; |\n",
       "|---|---|---|---|---|---|---|\n",
       "| 1 | 258 | 7631.987 | NA |       NA |       NA |       NA |\n",
       "| 2 | 246 | 7180.792 | 12 | 451.1956 | 1.288091 | 0.225822 |\n",
       "\n"
      ],
      "text/plain": [
       "  Res.Df RSS      Df Sum of Sq F        Pr(>F)  \n",
       "1 258    7631.987 NA       NA        NA       NA\n",
       "2 246    7180.792 12 451.1956  1.288091 0.225822"
      ]
     },
     "metadata": {}
    }
   ],
   "metadata": {}
  },
  {
   "cell_type": "code",
   "execution_count": 33,
   "source": [
    "anova(m3az,m3cz)"
   ],
   "outputs": [
    {
     "output_type": "display_data",
     "data": {
      "text/html": [
       "<table class=\"dataframe\">\n",
       "<caption>A anova: 2 × 6</caption>\n",
       "<thead>\n",
       "\t<tr><th></th><th scope=col>Res.Df</th><th scope=col>RSS</th><th scope=col>Df</th><th scope=col>Sum of Sq</th><th scope=col>F</th><th scope=col>Pr(&gt;F)</th></tr>\n",
       "\t<tr><th></th><th scope=col>&lt;dbl&gt;</th><th scope=col>&lt;dbl&gt;</th><th scope=col>&lt;dbl&gt;</th><th scope=col>&lt;dbl&gt;</th><th scope=col>&lt;dbl&gt;</th><th scope=col>&lt;dbl&gt;</th></tr>\n",
       "</thead>\n",
       "<tbody>\n",
       "\t<tr><th scope=row>1</th><td>258</td><td>249.3659</td><td>NA</td><td>      NA</td><td>      NA</td><td>      NA</td></tr>\n",
       "\t<tr><th scope=row>2</th><td>246</td><td>234.6236</td><td>12</td><td>14.74227</td><td>1.288091</td><td>0.225822</td></tr>\n",
       "</tbody>\n",
       "</table>\n"
      ],
      "text/latex": [
       "A anova: 2 × 6\n",
       "\\begin{tabular}{r|llllll}\n",
       "  & Res.Df & RSS & Df & Sum of Sq & F & Pr(>F)\\\\\n",
       "  & <dbl> & <dbl> & <dbl> & <dbl> & <dbl> & <dbl>\\\\\n",
       "\\hline\n",
       "\t1 & 258 & 249.3659 & NA &       NA &       NA &       NA\\\\\n",
       "\t2 & 246 & 234.6236 & 12 & 14.74227 & 1.288091 & 0.225822\\\\\n",
       "\\end{tabular}\n"
      ],
      "text/markdown": [
       "\n",
       "A anova: 2 × 6\n",
       "\n",
       "| <!--/--> | Res.Df &lt;dbl&gt; | RSS &lt;dbl&gt; | Df &lt;dbl&gt; | Sum of Sq &lt;dbl&gt; | F &lt;dbl&gt; | Pr(&gt;F) &lt;dbl&gt; |\n",
       "|---|---|---|---|---|---|---|\n",
       "| 1 | 258 | 249.3659 | NA |       NA |       NA |       NA |\n",
       "| 2 | 246 | 234.6236 | 12 | 14.74227 | 1.288091 | 0.225822 |\n",
       "\n"
      ],
      "text/plain": [
       "  Res.Df RSS      Df Sum of Sq F        Pr(>F)  \n",
       "1 258    249.3659 NA       NA        NA       NA\n",
       "2 246    234.6236 12 14.74227  1.288091 0.225822"
      ]
     },
     "metadata": {}
    }
   ],
   "metadata": {}
  },
  {
   "cell_type": "code",
   "execution_count": 34,
   "source": [
    "m3a"
   ],
   "outputs": [
    {
     "output_type": "display_data",
     "data": {
      "text/plain": [
       "\n",
       "Call:\n",
       "lm(formula = formula, data = data)\n",
       "\n",
       "Coefficients:\n",
       "          (Intercept)               PSE_subt             range_subt  \n",
       "              26.5626               -26.0271                 0.3459  \n",
       "            bias_subt             sigma_subt                 PSE_pf  \n",
       "              -9.4630                26.4975               -14.8233  \n",
       "             slope_pf                bias_pf    PSE_subt:range_subt  \n",
       "             -12.0263                -4.9167                18.1171  \n",
       "   PSE_subt:bias_subt    PSE_subt:sigma_subt   range_subt:bias_subt  \n",
       "              33.9259               -56.9161               -10.6748  \n",
       "range_subt:sigma_subt   bias_subt:sigma_subt        PSE_pf:slope_pf  \n",
       "              -2.6127                 5.3244                22.7544  \n",
       "       PSE_pf:bias_pf       slope_pf:bias_pf  \n",
       "               0.2988                 4.1379  \n"
      ]
     },
     "metadata": {}
    }
   ],
   "metadata": {}
  },
  {
   "cell_type": "code",
   "execution_count": 35,
   "source": [
    "anova(m1,m3,m3a,m3c)"
   ],
   "outputs": [
    {
     "output_type": "display_data",
     "data": {
      "text/html": [
       "<table class=\"dataframe\">\n",
       "<caption>A anova: 4 × 6</caption>\n",
       "<thead>\n",
       "\t<tr><th></th><th scope=col>Res.Df</th><th scope=col>RSS</th><th scope=col>Df</th><th scope=col>Sum of Sq</th><th scope=col>F</th><th scope=col>Pr(&gt;F)</th></tr>\n",
       "\t<tr><th></th><th scope=col>&lt;dbl&gt;</th><th scope=col>&lt;dbl&gt;</th><th scope=col>&lt;dbl&gt;</th><th scope=col>&lt;dbl&gt;</th><th scope=col>&lt;dbl&gt;</th><th scope=col>&lt;dbl&gt;</th></tr>\n",
       "</thead>\n",
       "<tbody>\n",
       "\t<tr><th scope=row>1</th><td>270</td><td>8216.092</td><td>NA</td><td>      NA</td><td>      NA</td><td>       NA</td></tr>\n",
       "\t<tr><th scope=row>2</th><td>267</td><td>8057.358</td><td> 3</td><td>158.7339</td><td>1.812638</td><td>0.1453944</td></tr>\n",
       "\t<tr><th scope=row>3</th><td>258</td><td>7631.987</td><td> 9</td><td>425.3711</td><td>1.619154</td><td>0.1101868</td></tr>\n",
       "\t<tr><th scope=row>4</th><td>246</td><td>7180.792</td><td>12</td><td>451.1956</td><td>1.288091</td><td>0.2258220</td></tr>\n",
       "</tbody>\n",
       "</table>\n"
      ],
      "text/latex": [
       "A anova: 4 × 6\n",
       "\\begin{tabular}{r|llllll}\n",
       "  & Res.Df & RSS & Df & Sum of Sq & F & Pr(>F)\\\\\n",
       "  & <dbl> & <dbl> & <dbl> & <dbl> & <dbl> & <dbl>\\\\\n",
       "\\hline\n",
       "\t1 & 270 & 8216.092 & NA &       NA &       NA &        NA\\\\\n",
       "\t2 & 267 & 8057.358 &  3 & 158.7339 & 1.812638 & 0.1453944\\\\\n",
       "\t3 & 258 & 7631.987 &  9 & 425.3711 & 1.619154 & 0.1101868\\\\\n",
       "\t4 & 246 & 7180.792 & 12 & 451.1956 & 1.288091 & 0.2258220\\\\\n",
       "\\end{tabular}\n"
      ],
      "text/markdown": [
       "\n",
       "A anova: 4 × 6\n",
       "\n",
       "| <!--/--> | Res.Df &lt;dbl&gt; | RSS &lt;dbl&gt; | Df &lt;dbl&gt; | Sum of Sq &lt;dbl&gt; | F &lt;dbl&gt; | Pr(&gt;F) &lt;dbl&gt; |\n",
       "|---|---|---|---|---|---|---|\n",
       "| 1 | 270 | 8216.092 | NA |       NA |       NA |        NA |\n",
       "| 2 | 267 | 8057.358 |  3 | 158.7339 | 1.812638 | 0.1453944 |\n",
       "| 3 | 258 | 7631.987 |  9 | 425.3711 | 1.619154 | 0.1101868 |\n",
       "| 4 | 246 | 7180.792 | 12 | 451.1956 | 1.288091 | 0.2258220 |\n",
       "\n"
      ],
      "text/plain": [
       "  Res.Df RSS      Df Sum of Sq F        Pr(>F)   \n",
       "1 270    8216.092 NA       NA        NA        NA\n",
       "2 267    8057.358  3 158.7339  1.812638 0.1453944\n",
       "3 258    7631.987  9 425.3711  1.619154 0.1101868\n",
       "4 246    7180.792 12 451.1956  1.288091 0.2258220"
      ]
     },
     "metadata": {}
    }
   ],
   "metadata": {}
  },
  {
   "cell_type": "code",
   "execution_count": 36,
   "source": [
    "anova(m1z,m3z,m3az,m3cz)"
   ],
   "outputs": [
    {
     "output_type": "display_data",
     "data": {
      "text/html": [
       "<table class=\"dataframe\">\n",
       "<caption>A anova: 4 × 6</caption>\n",
       "<thead>\n",
       "\t<tr><th></th><th scope=col>Res.Df</th><th scope=col>RSS</th><th scope=col>Df</th><th scope=col>Sum of Sq</th><th scope=col>F</th><th scope=col>Pr(&gt;F)</th></tr>\n",
       "\t<tr><th></th><th scope=col>&lt;dbl&gt;</th><th scope=col>&lt;dbl&gt;</th><th scope=col>&lt;dbl&gt;</th><th scope=col>&lt;dbl&gt;</th><th scope=col>&lt;dbl&gt;</th><th scope=col>&lt;dbl&gt;</th></tr>\n",
       "</thead>\n",
       "<tbody>\n",
       "\t<tr><th scope=row>1</th><td>270</td><td>268.4508</td><td>NA</td><td>       NA</td><td>      NA</td><td>       NA</td></tr>\n",
       "\t<tr><th scope=row>2</th><td>267</td><td>263.2643</td><td> 3</td><td> 5.186435</td><td>1.812638</td><td>0.1453944</td></tr>\n",
       "\t<tr><th scope=row>3</th><td>258</td><td>249.3659</td><td> 9</td><td>13.898481</td><td>1.619154</td><td>0.1101868</td></tr>\n",
       "\t<tr><th scope=row>4</th><td>246</td><td>234.6236</td><td>12</td><td>14.742266</td><td>1.288091</td><td>0.2258220</td></tr>\n",
       "</tbody>\n",
       "</table>\n"
      ],
      "text/latex": [
       "A anova: 4 × 6\n",
       "\\begin{tabular}{r|llllll}\n",
       "  & Res.Df & RSS & Df & Sum of Sq & F & Pr(>F)\\\\\n",
       "  & <dbl> & <dbl> & <dbl> & <dbl> & <dbl> & <dbl>\\\\\n",
       "\\hline\n",
       "\t1 & 270 & 268.4508 & NA &        NA &       NA &        NA\\\\\n",
       "\t2 & 267 & 263.2643 &  3 &  5.186435 & 1.812638 & 0.1453944\\\\\n",
       "\t3 & 258 & 249.3659 &  9 & 13.898481 & 1.619154 & 0.1101868\\\\\n",
       "\t4 & 246 & 234.6236 & 12 & 14.742266 & 1.288091 & 0.2258220\\\\\n",
       "\\end{tabular}\n"
      ],
      "text/markdown": [
       "\n",
       "A anova: 4 × 6\n",
       "\n",
       "| <!--/--> | Res.Df &lt;dbl&gt; | RSS &lt;dbl&gt; | Df &lt;dbl&gt; | Sum of Sq &lt;dbl&gt; | F &lt;dbl&gt; | Pr(&gt;F) &lt;dbl&gt; |\n",
       "|---|---|---|---|---|---|---|\n",
       "| 1 | 270 | 268.4508 | NA |        NA |       NA |        NA |\n",
       "| 2 | 267 | 263.2643 |  3 |  5.186435 | 1.812638 | 0.1453944 |\n",
       "| 3 | 258 | 249.3659 |  9 | 13.898481 | 1.619154 | 0.1101868 |\n",
       "| 4 | 246 | 234.6236 | 12 | 14.742266 | 1.288091 | 0.2258220 |\n",
       "\n"
      ],
      "text/plain": [
       "  Res.Df RSS      Df Sum of Sq F        Pr(>F)   \n",
       "1 270    268.4508 NA        NA       NA        NA\n",
       "2 267    263.2643  3  5.186435 1.812638 0.1453944\n",
       "3 258    249.3659  9 13.898481 1.619154 0.1101868\n",
       "4 246    234.6236 12 14.742266 1.288091 0.2258220"
      ]
     },
     "metadata": {}
    }
   ],
   "metadata": {}
  },
  {
   "cell_type": "code",
   "execution_count": 37,
   "source": [
    "anova(m2,m3,m3a,m3c)"
   ],
   "outputs": [
    {
     "output_type": "display_data",
     "data": {
      "text/html": [
       "<table class=\"dataframe\">\n",
       "<caption>A anova: 4 × 6</caption>\n",
       "<thead>\n",
       "\t<tr><th></th><th scope=col>Res.Df</th><th scope=col>RSS</th><th scope=col>Df</th><th scope=col>Sum of Sq</th><th scope=col>F</th><th scope=col>Pr(&gt;F)</th></tr>\n",
       "\t<tr><th></th><th scope=col>&lt;dbl&gt;</th><th scope=col>&lt;dbl&gt;</th><th scope=col>&lt;dbl&gt;</th><th scope=col>&lt;dbl&gt;</th><th scope=col>&lt;dbl&gt;</th><th scope=col>&lt;dbl&gt;</th></tr>\n",
       "</thead>\n",
       "<tbody>\n",
       "\t<tr><th scope=row>1</th><td>271</td><td>8185.847</td><td>NA</td><td>      NA</td><td>      NA</td><td>       NA</td></tr>\n",
       "\t<tr><th scope=row>2</th><td>267</td><td>8057.358</td><td> 4</td><td>128.4889</td><td>1.100445</td><td>0.3569487</td></tr>\n",
       "\t<tr><th scope=row>3</th><td>258</td><td>7631.987</td><td> 9</td><td>425.3711</td><td>1.619154</td><td>0.1101868</td></tr>\n",
       "\t<tr><th scope=row>4</th><td>246</td><td>7180.792</td><td>12</td><td>451.1956</td><td>1.288091</td><td>0.2258220</td></tr>\n",
       "</tbody>\n",
       "</table>\n"
      ],
      "text/latex": [
       "A anova: 4 × 6\n",
       "\\begin{tabular}{r|llllll}\n",
       "  & Res.Df & RSS & Df & Sum of Sq & F & Pr(>F)\\\\\n",
       "  & <dbl> & <dbl> & <dbl> & <dbl> & <dbl> & <dbl>\\\\\n",
       "\\hline\n",
       "\t1 & 271 & 8185.847 & NA &       NA &       NA &        NA\\\\\n",
       "\t2 & 267 & 8057.358 &  4 & 128.4889 & 1.100445 & 0.3569487\\\\\n",
       "\t3 & 258 & 7631.987 &  9 & 425.3711 & 1.619154 & 0.1101868\\\\\n",
       "\t4 & 246 & 7180.792 & 12 & 451.1956 & 1.288091 & 0.2258220\\\\\n",
       "\\end{tabular}\n"
      ],
      "text/markdown": [
       "\n",
       "A anova: 4 × 6\n",
       "\n",
       "| <!--/--> | Res.Df &lt;dbl&gt; | RSS &lt;dbl&gt; | Df &lt;dbl&gt; | Sum of Sq &lt;dbl&gt; | F &lt;dbl&gt; | Pr(&gt;F) &lt;dbl&gt; |\n",
       "|---|---|---|---|---|---|---|\n",
       "| 1 | 271 | 8185.847 | NA |       NA |       NA |        NA |\n",
       "| 2 | 267 | 8057.358 |  4 | 128.4889 | 1.100445 | 0.3569487 |\n",
       "| 3 | 258 | 7631.987 |  9 | 425.3711 | 1.619154 | 0.1101868 |\n",
       "| 4 | 246 | 7180.792 | 12 | 451.1956 | 1.288091 | 0.2258220 |\n",
       "\n"
      ],
      "text/plain": [
       "  Res.Df RSS      Df Sum of Sq F        Pr(>F)   \n",
       "1 271    8185.847 NA       NA        NA        NA\n",
       "2 267    8057.358  4 128.4889  1.100445 0.3569487\n",
       "3 258    7631.987  9 425.3711  1.619154 0.1101868\n",
       "4 246    7180.792 12 451.1956  1.288091 0.2258220"
      ]
     },
     "metadata": {}
    }
   ],
   "metadata": {}
  },
  {
   "cell_type": "code",
   "execution_count": 38,
   "source": [
    "anova(m2z,m3z,m3az,m3cz)"
   ],
   "outputs": [
    {
     "output_type": "display_data",
     "data": {
      "text/html": [
       "<table class=\"dataframe\">\n",
       "<caption>A anova: 4 × 6</caption>\n",
       "<thead>\n",
       "\t<tr><th></th><th scope=col>Res.Df</th><th scope=col>RSS</th><th scope=col>Df</th><th scope=col>Sum of Sq</th><th scope=col>F</th><th scope=col>Pr(&gt;F)</th></tr>\n",
       "\t<tr><th></th><th scope=col>&lt;dbl&gt;</th><th scope=col>&lt;dbl&gt;</th><th scope=col>&lt;dbl&gt;</th><th scope=col>&lt;dbl&gt;</th><th scope=col>&lt;dbl&gt;</th><th scope=col>&lt;dbl&gt;</th></tr>\n",
       "</thead>\n",
       "<tbody>\n",
       "\t<tr><th scope=row>1</th><td>271</td><td>267.4626</td><td>NA</td><td>       NA</td><td>      NA</td><td>       NA</td></tr>\n",
       "\t<tr><th scope=row>2</th><td>267</td><td>263.2643</td><td> 4</td><td> 4.198218</td><td>1.100445</td><td>0.3569487</td></tr>\n",
       "\t<tr><th scope=row>3</th><td>258</td><td>249.3659</td><td> 9</td><td>13.898481</td><td>1.619154</td><td>0.1101868</td></tr>\n",
       "\t<tr><th scope=row>4</th><td>246</td><td>234.6236</td><td>12</td><td>14.742266</td><td>1.288091</td><td>0.2258220</td></tr>\n",
       "</tbody>\n",
       "</table>\n"
      ],
      "text/latex": [
       "A anova: 4 × 6\n",
       "\\begin{tabular}{r|llllll}\n",
       "  & Res.Df & RSS & Df & Sum of Sq & F & Pr(>F)\\\\\n",
       "  & <dbl> & <dbl> & <dbl> & <dbl> & <dbl> & <dbl>\\\\\n",
       "\\hline\n",
       "\t1 & 271 & 267.4626 & NA &        NA &       NA &        NA\\\\\n",
       "\t2 & 267 & 263.2643 &  4 &  4.198218 & 1.100445 & 0.3569487\\\\\n",
       "\t3 & 258 & 249.3659 &  9 & 13.898481 & 1.619154 & 0.1101868\\\\\n",
       "\t4 & 246 & 234.6236 & 12 & 14.742266 & 1.288091 & 0.2258220\\\\\n",
       "\\end{tabular}\n"
      ],
      "text/markdown": [
       "\n",
       "A anova: 4 × 6\n",
       "\n",
       "| <!--/--> | Res.Df &lt;dbl&gt; | RSS &lt;dbl&gt; | Df &lt;dbl&gt; | Sum of Sq &lt;dbl&gt; | F &lt;dbl&gt; | Pr(&gt;F) &lt;dbl&gt; |\n",
       "|---|---|---|---|---|---|---|\n",
       "| 1 | 271 | 267.4626 | NA |        NA |       NA |        NA |\n",
       "| 2 | 267 | 263.2643 |  4 |  4.198218 | 1.100445 | 0.3569487 |\n",
       "| 3 | 258 | 249.3659 |  9 | 13.898481 | 1.619154 | 0.1101868 |\n",
       "| 4 | 246 | 234.6236 | 12 | 14.742266 | 1.288091 | 0.2258220 |\n",
       "\n"
      ],
      "text/plain": [
       "  Res.Df RSS      Df Sum of Sq F        Pr(>F)   \n",
       "1 271    267.4626 NA        NA       NA        NA\n",
       "2 267    263.2643  4  4.198218 1.100445 0.3569487\n",
       "3 258    249.3659  9 13.898481 1.619154 0.1101868\n",
       "4 246    234.6236 12 14.742266 1.288091 0.2258220"
      ]
     },
     "metadata": {}
    }
   ],
   "metadata": {}
  },
  {
   "cell_type": "code",
   "execution_count": 39,
   "source": [
    "anova(m1,m1a,m3a,m3c)"
   ],
   "outputs": [
    {
     "output_type": "display_data",
     "data": {
      "text/html": [
       "<table class=\"dataframe\">\n",
       "<caption>A anova: 4 × 6</caption>\n",
       "<thead>\n",
       "\t<tr><th></th><th scope=col>Res.Df</th><th scope=col>RSS</th><th scope=col>Df</th><th scope=col>Sum of Sq</th><th scope=col>F</th><th scope=col>Pr(&gt;F)</th></tr>\n",
       "\t<tr><th></th><th scope=col>&lt;dbl&gt;</th><th scope=col>&lt;dbl&gt;</th><th scope=col>&lt;dbl&gt;</th><th scope=col>&lt;dbl&gt;</th><th scope=col>&lt;dbl&gt;</th><th scope=col>&lt;dbl&gt;</th></tr>\n",
       "</thead>\n",
       "<tbody>\n",
       "\t<tr><th scope=row>1</th><td>270</td><td>8216.092</td><td>NA</td><td>      NA</td><td>      NA</td><td>       NA</td></tr>\n",
       "\t<tr><th scope=row>2</th><td>264</td><td>7914.053</td><td> 6</td><td>302.0391</td><td>1.724545</td><td>0.1157875</td></tr>\n",
       "\t<tr><th scope=row>3</th><td>258</td><td>7631.987</td><td> 6</td><td>282.0659</td><td>1.610505</td><td>0.1447019</td></tr>\n",
       "\t<tr><th scope=row>4</th><td>246</td><td>7180.792</td><td>12</td><td>451.1956</td><td>1.288091</td><td>0.2258220</td></tr>\n",
       "</tbody>\n",
       "</table>\n"
      ],
      "text/latex": [
       "A anova: 4 × 6\n",
       "\\begin{tabular}{r|llllll}\n",
       "  & Res.Df & RSS & Df & Sum of Sq & F & Pr(>F)\\\\\n",
       "  & <dbl> & <dbl> & <dbl> & <dbl> & <dbl> & <dbl>\\\\\n",
       "\\hline\n",
       "\t1 & 270 & 8216.092 & NA &       NA &       NA &        NA\\\\\n",
       "\t2 & 264 & 7914.053 &  6 & 302.0391 & 1.724545 & 0.1157875\\\\\n",
       "\t3 & 258 & 7631.987 &  6 & 282.0659 & 1.610505 & 0.1447019\\\\\n",
       "\t4 & 246 & 7180.792 & 12 & 451.1956 & 1.288091 & 0.2258220\\\\\n",
       "\\end{tabular}\n"
      ],
      "text/markdown": [
       "\n",
       "A anova: 4 × 6\n",
       "\n",
       "| <!--/--> | Res.Df &lt;dbl&gt; | RSS &lt;dbl&gt; | Df &lt;dbl&gt; | Sum of Sq &lt;dbl&gt; | F &lt;dbl&gt; | Pr(&gt;F) &lt;dbl&gt; |\n",
       "|---|---|---|---|---|---|---|\n",
       "| 1 | 270 | 8216.092 | NA |       NA |       NA |        NA |\n",
       "| 2 | 264 | 7914.053 |  6 | 302.0391 | 1.724545 | 0.1157875 |\n",
       "| 3 | 258 | 7631.987 |  6 | 282.0659 | 1.610505 | 0.1447019 |\n",
       "| 4 | 246 | 7180.792 | 12 | 451.1956 | 1.288091 | 0.2258220 |\n",
       "\n"
      ],
      "text/plain": [
       "  Res.Df RSS      Df Sum of Sq F        Pr(>F)   \n",
       "1 270    8216.092 NA       NA        NA        NA\n",
       "2 264    7914.053  6 302.0391  1.724545 0.1157875\n",
       "3 258    7631.987  6 282.0659  1.610505 0.1447019\n",
       "4 246    7180.792 12 451.1956  1.288091 0.2258220"
      ]
     },
     "metadata": {}
    }
   ],
   "metadata": {}
  },
  {
   "cell_type": "code",
   "execution_count": 40,
   "source": [
    "anova(m1z,m1az,m3az,m3cz)"
   ],
   "outputs": [
    {
     "output_type": "display_data",
     "data": {
      "text/html": [
       "<table class=\"dataframe\">\n",
       "<caption>A anova: 4 × 6</caption>\n",
       "<thead>\n",
       "\t<tr><th></th><th scope=col>Res.Df</th><th scope=col>RSS</th><th scope=col>Df</th><th scope=col>Sum of Sq</th><th scope=col>F</th><th scope=col>Pr(&gt;F)</th></tr>\n",
       "\t<tr><th></th><th scope=col>&lt;dbl&gt;</th><th scope=col>&lt;dbl&gt;</th><th scope=col>&lt;dbl&gt;</th><th scope=col>&lt;dbl&gt;</th><th scope=col>&lt;dbl&gt;</th><th scope=col>&lt;dbl&gt;</th></tr>\n",
       "</thead>\n",
       "<tbody>\n",
       "\t<tr><th scope=row>1</th><td>270</td><td>268.4508</td><td>NA</td><td>       NA</td><td>      NA</td><td>       NA</td></tr>\n",
       "\t<tr><th scope=row>2</th><td>264</td><td>258.5820</td><td> 6</td><td> 9.868757</td><td>1.724545</td><td>0.1157875</td></tr>\n",
       "\t<tr><th scope=row>3</th><td>258</td><td>249.3659</td><td> 6</td><td> 9.216160</td><td>1.610505</td><td>0.1447019</td></tr>\n",
       "\t<tr><th scope=row>4</th><td>246</td><td>234.6236</td><td>12</td><td>14.742266</td><td>1.288091</td><td>0.2258220</td></tr>\n",
       "</tbody>\n",
       "</table>\n"
      ],
      "text/latex": [
       "A anova: 4 × 6\n",
       "\\begin{tabular}{r|llllll}\n",
       "  & Res.Df & RSS & Df & Sum of Sq & F & Pr(>F)\\\\\n",
       "  & <dbl> & <dbl> & <dbl> & <dbl> & <dbl> & <dbl>\\\\\n",
       "\\hline\n",
       "\t1 & 270 & 268.4508 & NA &        NA &       NA &        NA\\\\\n",
       "\t2 & 264 & 258.5820 &  6 &  9.868757 & 1.724545 & 0.1157875\\\\\n",
       "\t3 & 258 & 249.3659 &  6 &  9.216160 & 1.610505 & 0.1447019\\\\\n",
       "\t4 & 246 & 234.6236 & 12 & 14.742266 & 1.288091 & 0.2258220\\\\\n",
       "\\end{tabular}\n"
      ],
      "text/markdown": [
       "\n",
       "A anova: 4 × 6\n",
       "\n",
       "| <!--/--> | Res.Df &lt;dbl&gt; | RSS &lt;dbl&gt; | Df &lt;dbl&gt; | Sum of Sq &lt;dbl&gt; | F &lt;dbl&gt; | Pr(&gt;F) &lt;dbl&gt; |\n",
       "|---|---|---|---|---|---|---|\n",
       "| 1 | 270 | 268.4508 | NA |        NA |       NA |        NA |\n",
       "| 2 | 264 | 258.5820 |  6 |  9.868757 | 1.724545 | 0.1157875 |\n",
       "| 3 | 258 | 249.3659 |  6 |  9.216160 | 1.610505 | 0.1447019 |\n",
       "| 4 | 246 | 234.6236 | 12 | 14.742266 | 1.288091 | 0.2258220 |\n",
       "\n"
      ],
      "text/plain": [
       "  Res.Df RSS      Df Sum of Sq F        Pr(>F)   \n",
       "1 270    268.4508 NA        NA       NA        NA\n",
       "2 264    258.5820  6  9.868757 1.724545 0.1157875\n",
       "3 258    249.3659  6  9.216160 1.610505 0.1447019\n",
       "4 246    234.6236 12 14.742266 1.288091 0.2258220"
      ]
     },
     "metadata": {}
    }
   ],
   "metadata": {}
  },
  {
   "cell_type": "code",
   "execution_count": 41,
   "source": [
    "anova(m2,m2a,m3a,m3c)"
   ],
   "outputs": [
    {
     "output_type": "display_data",
     "data": {
      "text/html": [
       "<table class=\"dataframe\">\n",
       "<caption>A anova: 4 × 6</caption>\n",
       "<thead>\n",
       "\t<tr><th></th><th scope=col>Res.Df</th><th scope=col>RSS</th><th scope=col>Df</th><th scope=col>Sum of Sq</th><th scope=col>F</th><th scope=col>Pr(&gt;F)</th></tr>\n",
       "\t<tr><th></th><th scope=col>&lt;dbl&gt;</th><th scope=col>&lt;dbl&gt;</th><th scope=col>&lt;dbl&gt;</th><th scope=col>&lt;dbl&gt;</th><th scope=col>&lt;dbl&gt;</th><th scope=col>&lt;dbl&gt;</th></tr>\n",
       "</thead>\n",
       "<tbody>\n",
       "\t<tr><th scope=row>1</th><td>271</td><td>8185.847</td><td>NA</td><td>      NA</td><td>      NA</td><td>       NA</td></tr>\n",
       "\t<tr><th scope=row>2</th><td>268</td><td>8078.723</td><td> 3</td><td>107.1248</td><td>1.223296</td><td>0.3018021</td></tr>\n",
       "\t<tr><th scope=row>3</th><td>258</td><td>7631.987</td><td>10</td><td>446.7352</td><td>1.530428</td><td>0.1289461</td></tr>\n",
       "\t<tr><th scope=row>4</th><td>246</td><td>7180.792</td><td>12</td><td>451.1956</td><td>1.288091</td><td>0.2258220</td></tr>\n",
       "</tbody>\n",
       "</table>\n"
      ],
      "text/latex": [
       "A anova: 4 × 6\n",
       "\\begin{tabular}{r|llllll}\n",
       "  & Res.Df & RSS & Df & Sum of Sq & F & Pr(>F)\\\\\n",
       "  & <dbl> & <dbl> & <dbl> & <dbl> & <dbl> & <dbl>\\\\\n",
       "\\hline\n",
       "\t1 & 271 & 8185.847 & NA &       NA &       NA &        NA\\\\\n",
       "\t2 & 268 & 8078.723 &  3 & 107.1248 & 1.223296 & 0.3018021\\\\\n",
       "\t3 & 258 & 7631.987 & 10 & 446.7352 & 1.530428 & 0.1289461\\\\\n",
       "\t4 & 246 & 7180.792 & 12 & 451.1956 & 1.288091 & 0.2258220\\\\\n",
       "\\end{tabular}\n"
      ],
      "text/markdown": [
       "\n",
       "A anova: 4 × 6\n",
       "\n",
       "| <!--/--> | Res.Df &lt;dbl&gt; | RSS &lt;dbl&gt; | Df &lt;dbl&gt; | Sum of Sq &lt;dbl&gt; | F &lt;dbl&gt; | Pr(&gt;F) &lt;dbl&gt; |\n",
       "|---|---|---|---|---|---|---|\n",
       "| 1 | 271 | 8185.847 | NA |       NA |       NA |        NA |\n",
       "| 2 | 268 | 8078.723 |  3 | 107.1248 | 1.223296 | 0.3018021 |\n",
       "| 3 | 258 | 7631.987 | 10 | 446.7352 | 1.530428 | 0.1289461 |\n",
       "| 4 | 246 | 7180.792 | 12 | 451.1956 | 1.288091 | 0.2258220 |\n",
       "\n"
      ],
      "text/plain": [
       "  Res.Df RSS      Df Sum of Sq F        Pr(>F)   \n",
       "1 271    8185.847 NA       NA        NA        NA\n",
       "2 268    8078.723  3 107.1248  1.223296 0.3018021\n",
       "3 258    7631.987 10 446.7352  1.530428 0.1289461\n",
       "4 246    7180.792 12 451.1956  1.288091 0.2258220"
      ]
     },
     "metadata": {}
    }
   ],
   "metadata": {}
  },
  {
   "cell_type": "code",
   "execution_count": 42,
   "source": [
    "anova(m2z,m2az,m3az,m3cz)"
   ],
   "outputs": [
    {
     "output_type": "display_data",
     "data": {
      "text/html": [
       "<table class=\"dataframe\">\n",
       "<caption>A anova: 4 × 6</caption>\n",
       "<thead>\n",
       "\t<tr><th></th><th scope=col>Res.Df</th><th scope=col>RSS</th><th scope=col>Df</th><th scope=col>Sum of Sq</th><th scope=col>F</th><th scope=col>Pr(&gt;F)</th></tr>\n",
       "\t<tr><th></th><th scope=col>&lt;dbl&gt;</th><th scope=col>&lt;dbl&gt;</th><th scope=col>&lt;dbl&gt;</th><th scope=col>&lt;dbl&gt;</th><th scope=col>&lt;dbl&gt;</th><th scope=col>&lt;dbl&gt;</th></tr>\n",
       "</thead>\n",
       "<tbody>\n",
       "\t<tr><th scope=row>1</th><td>271</td><td>267.4626</td><td>NA</td><td>       NA</td><td>      NA</td><td>       NA</td></tr>\n",
       "\t<tr><th scope=row>2</th><td>268</td><td>263.9624</td><td> 3</td><td> 3.500171</td><td>1.223296</td><td>0.3018021</td></tr>\n",
       "\t<tr><th scope=row>3</th><td>258</td><td>249.3659</td><td>10</td><td>14.596528</td><td>1.530428</td><td>0.1289461</td></tr>\n",
       "\t<tr><th scope=row>4</th><td>246</td><td>234.6236</td><td>12</td><td>14.742266</td><td>1.288091</td><td>0.2258220</td></tr>\n",
       "</tbody>\n",
       "</table>\n"
      ],
      "text/latex": [
       "A anova: 4 × 6\n",
       "\\begin{tabular}{r|llllll}\n",
       "  & Res.Df & RSS & Df & Sum of Sq & F & Pr(>F)\\\\\n",
       "  & <dbl> & <dbl> & <dbl> & <dbl> & <dbl> & <dbl>\\\\\n",
       "\\hline\n",
       "\t1 & 271 & 267.4626 & NA &        NA &       NA &        NA\\\\\n",
       "\t2 & 268 & 263.9624 &  3 &  3.500171 & 1.223296 & 0.3018021\\\\\n",
       "\t3 & 258 & 249.3659 & 10 & 14.596528 & 1.530428 & 0.1289461\\\\\n",
       "\t4 & 246 & 234.6236 & 12 & 14.742266 & 1.288091 & 0.2258220\\\\\n",
       "\\end{tabular}\n"
      ],
      "text/markdown": [
       "\n",
       "A anova: 4 × 6\n",
       "\n",
       "| <!--/--> | Res.Df &lt;dbl&gt; | RSS &lt;dbl&gt; | Df &lt;dbl&gt; | Sum of Sq &lt;dbl&gt; | F &lt;dbl&gt; | Pr(&gt;F) &lt;dbl&gt; |\n",
       "|---|---|---|---|---|---|---|\n",
       "| 1 | 271 | 267.4626 | NA |        NA |       NA |        NA |\n",
       "| 2 | 268 | 263.9624 |  3 |  3.500171 | 1.223296 | 0.3018021 |\n",
       "| 3 | 258 | 249.3659 | 10 | 14.596528 | 1.530428 | 0.1289461 |\n",
       "| 4 | 246 | 234.6236 | 12 | 14.742266 | 1.288091 | 0.2258220 |\n",
       "\n"
      ],
      "text/plain": [
       "  Res.Df RSS      Df Sum of Sq F        Pr(>F)   \n",
       "1 271    267.4626 NA        NA       NA        NA\n",
       "2 268    263.9624  3  3.500171 1.223296 0.3018021\n",
       "3 258    249.3659 10 14.596528 1.530428 0.1289461\n",
       "4 246    234.6236 12 14.742266 1.288091 0.2258220"
      ]
     },
     "metadata": {}
    }
   ],
   "metadata": {}
  },
  {
   "cell_type": "code",
   "execution_count": 43,
   "source": [
    "anova(m3,m3b,m3c)"
   ],
   "outputs": [
    {
     "output_type": "display_data",
     "data": {
      "text/html": [
       "<table class=\"dataframe\">\n",
       "<caption>A anova: 3 × 6</caption>\n",
       "<thead>\n",
       "\t<tr><th></th><th scope=col>Res.Df</th><th scope=col>RSS</th><th scope=col>Df</th><th scope=col>Sum of Sq</th><th scope=col>F</th><th scope=col>Pr(&gt;F)</th></tr>\n",
       "\t<tr><th></th><th scope=col>&lt;dbl&gt;</th><th scope=col>&lt;dbl&gt;</th><th scope=col>&lt;dbl&gt;</th><th scope=col>&lt;dbl&gt;</th><th scope=col>&lt;dbl&gt;</th><th scope=col>&lt;dbl&gt;</th></tr>\n",
       "</thead>\n",
       "<tbody>\n",
       "\t<tr><th scope=row>1</th><td>267</td><td>8057.358</td><td>NA</td><td>      NA</td><td>      NA</td><td>       NA</td></tr>\n",
       "\t<tr><th scope=row>2</th><td>255</td><td>7599.211</td><td>12</td><td>458.1474</td><td>1.307937</td><td>0.2141682</td></tr>\n",
       "\t<tr><th scope=row>3</th><td>246</td><td>7180.792</td><td> 9</td><td>418.4194</td><td>1.592693</td><td>0.1178196</td></tr>\n",
       "</tbody>\n",
       "</table>\n"
      ],
      "text/latex": [
       "A anova: 3 × 6\n",
       "\\begin{tabular}{r|llllll}\n",
       "  & Res.Df & RSS & Df & Sum of Sq & F & Pr(>F)\\\\\n",
       "  & <dbl> & <dbl> & <dbl> & <dbl> & <dbl> & <dbl>\\\\\n",
       "\\hline\n",
       "\t1 & 267 & 8057.358 & NA &       NA &       NA &        NA\\\\\n",
       "\t2 & 255 & 7599.211 & 12 & 458.1474 & 1.307937 & 0.2141682\\\\\n",
       "\t3 & 246 & 7180.792 &  9 & 418.4194 & 1.592693 & 0.1178196\\\\\n",
       "\\end{tabular}\n"
      ],
      "text/markdown": [
       "\n",
       "A anova: 3 × 6\n",
       "\n",
       "| <!--/--> | Res.Df &lt;dbl&gt; | RSS &lt;dbl&gt; | Df &lt;dbl&gt; | Sum of Sq &lt;dbl&gt; | F &lt;dbl&gt; | Pr(&gt;F) &lt;dbl&gt; |\n",
       "|---|---|---|---|---|---|---|\n",
       "| 1 | 267 | 8057.358 | NA |       NA |       NA |        NA |\n",
       "| 2 | 255 | 7599.211 | 12 | 458.1474 | 1.307937 | 0.2141682 |\n",
       "| 3 | 246 | 7180.792 |  9 | 418.4194 | 1.592693 | 0.1178196 |\n",
       "\n"
      ],
      "text/plain": [
       "  Res.Df RSS      Df Sum of Sq F        Pr(>F)   \n",
       "1 267    8057.358 NA       NA        NA        NA\n",
       "2 255    7599.211 12 458.1474  1.307937 0.2141682\n",
       "3 246    7180.792  9 418.4194  1.592693 0.1178196"
      ]
     },
     "metadata": {}
    }
   ],
   "metadata": {}
  },
  {
   "cell_type": "code",
   "execution_count": 44,
   "source": [
    "aic_results <- AIC(m1,m1a,m2,m2a,m3,m3a,m3b,m3c)\n",
    "aic_results"
   ],
   "outputs": [
    {
     "output_type": "display_data",
     "data": {
      "text/html": [
       "<table class=\"dataframe\">\n",
       "<caption>A data.frame: 8 × 2</caption>\n",
       "<thead>\n",
       "\t<tr><th></th><th scope=col>df</th><th scope=col>AIC</th></tr>\n",
       "\t<tr><th></th><th scope=col>&lt;dbl&gt;</th><th scope=col>&lt;dbl&gt;</th></tr>\n",
       "</thead>\n",
       "<tbody>\n",
       "\t<tr><th scope=row>m1</th><td> 6</td><td>1726.613</td></tr>\n",
       "\t<tr><th scope=row>m1a</th><td>12</td><td>1728.313</td></tr>\n",
       "\t<tr><th scope=row>m2</th><td> 5</td><td>1723.599</td></tr>\n",
       "\t<tr><th scope=row>m2a</th><td> 8</td><td>1725.976</td></tr>\n",
       "\t<tr><th scope=row>m3</th><td> 9</td><td>1727.248</td></tr>\n",
       "\t<tr><th scope=row>m3a</th><td>18</td><td>1730.333</td></tr>\n",
       "\t<tr><th scope=row>m3b</th><td>21</td><td>1735.149</td></tr>\n",
       "\t<tr><th scope=row>m3c</th><td>30</td><td>1737.574</td></tr>\n",
       "</tbody>\n",
       "</table>\n"
      ],
      "text/latex": [
       "A data.frame: 8 × 2\n",
       "\\begin{tabular}{r|ll}\n",
       "  & df & AIC\\\\\n",
       "  & <dbl> & <dbl>\\\\\n",
       "\\hline\n",
       "\tm1 &  6 & 1726.613\\\\\n",
       "\tm1a & 12 & 1728.313\\\\\n",
       "\tm2 &  5 & 1723.599\\\\\n",
       "\tm2a &  8 & 1725.976\\\\\n",
       "\tm3 &  9 & 1727.248\\\\\n",
       "\tm3a & 18 & 1730.333\\\\\n",
       "\tm3b & 21 & 1735.149\\\\\n",
       "\tm3c & 30 & 1737.574\\\\\n",
       "\\end{tabular}\n"
      ],
      "text/markdown": [
       "\n",
       "A data.frame: 8 × 2\n",
       "\n",
       "| <!--/--> | df &lt;dbl&gt; | AIC &lt;dbl&gt; |\n",
       "|---|---|---|\n",
       "| m1 |  6 | 1726.613 |\n",
       "| m1a | 12 | 1728.313 |\n",
       "| m2 |  5 | 1723.599 |\n",
       "| m2a |  8 | 1725.976 |\n",
       "| m3 |  9 | 1727.248 |\n",
       "| m3a | 18 | 1730.333 |\n",
       "| m3b | 21 | 1735.149 |\n",
       "| m3c | 30 | 1737.574 |\n",
       "\n"
      ],
      "text/plain": [
       "    df AIC     \n",
       "m1   6 1726.613\n",
       "m1a 12 1728.313\n",
       "m2   5 1723.599\n",
       "m2a  8 1725.976\n",
       "m3   9 1727.248\n",
       "m3a 18 1730.333\n",
       "m3b 21 1735.149\n",
       "m3c 30 1737.574"
      ]
     },
     "metadata": {}
    }
   ],
   "metadata": {}
  },
  {
   "cell_type": "code",
   "execution_count": 45,
   "source": [
    "aic_results <- AIC(m1z,m1az,m2z,m2az,m3z,m3az,m3bz,m3cz)\n",
    "aic_results"
   ],
   "outputs": [
    {
     "output_type": "display_data",
     "data": {
      "text/html": [
       "<table class=\"dataframe\">\n",
       "<caption>A data.frame: 8 × 2</caption>\n",
       "<thead>\n",
       "\t<tr><th></th><th scope=col>df</th><th scope=col>AIC</th></tr>\n",
       "\t<tr><th></th><th scope=col>&lt;dbl&gt;</th><th scope=col>&lt;dbl&gt;</th></tr>\n",
       "</thead>\n",
       "<tbody>\n",
       "\t<tr><th scope=row>m1z</th><td> 6</td><td>785.7877</td></tr>\n",
       "\t<tr><th scope=row>m1az</th><td>12</td><td>787.4877</td></tr>\n",
       "\t<tr><th scope=row>m2z</th><td> 5</td><td>782.7735</td></tr>\n",
       "\t<tr><th scope=row>m2az</th><td> 8</td><td>785.1510</td></tr>\n",
       "\t<tr><th scope=row>m3z</th><td> 9</td><td>786.4228</td></tr>\n",
       "\t<tr><th scope=row>m3az</th><td>18</td><td>789.5074</td></tr>\n",
       "\t<tr><th scope=row>m3bz</th><td>21</td><td>794.3239</td></tr>\n",
       "\t<tr><th scope=row>m3cz</th><td>30</td><td>796.7493</td></tr>\n",
       "</tbody>\n",
       "</table>\n"
      ],
      "text/latex": [
       "A data.frame: 8 × 2\n",
       "\\begin{tabular}{r|ll}\n",
       "  & df & AIC\\\\\n",
       "  & <dbl> & <dbl>\\\\\n",
       "\\hline\n",
       "\tm1z &  6 & 785.7877\\\\\n",
       "\tm1az & 12 & 787.4877\\\\\n",
       "\tm2z &  5 & 782.7735\\\\\n",
       "\tm2az &  8 & 785.1510\\\\\n",
       "\tm3z &  9 & 786.4228\\\\\n",
       "\tm3az & 18 & 789.5074\\\\\n",
       "\tm3bz & 21 & 794.3239\\\\\n",
       "\tm3cz & 30 & 796.7493\\\\\n",
       "\\end{tabular}\n"
      ],
      "text/markdown": [
       "\n",
       "A data.frame: 8 × 2\n",
       "\n",
       "| <!--/--> | df &lt;dbl&gt; | AIC &lt;dbl&gt; |\n",
       "|---|---|---|\n",
       "| m1z |  6 | 785.7877 |\n",
       "| m1az | 12 | 787.4877 |\n",
       "| m2z |  5 | 782.7735 |\n",
       "| m2az |  8 | 785.1510 |\n",
       "| m3z |  9 | 786.4228 |\n",
       "| m3az | 18 | 789.5074 |\n",
       "| m3bz | 21 | 794.3239 |\n",
       "| m3cz | 30 | 796.7493 |\n",
       "\n"
      ],
      "text/plain": [
       "     df AIC     \n",
       "m1z   6 785.7877\n",
       "m1az 12 787.4877\n",
       "m2z   5 782.7735\n",
       "m2az  8 785.1510\n",
       "m3z   9 786.4228\n",
       "m3az 18 789.5074\n",
       "m3bz 21 794.3239\n",
       "m3cz 30 796.7493"
      ]
     },
     "metadata": {}
    }
   ],
   "metadata": {}
  },
  {
   "cell_type": "code",
   "execution_count": null,
   "source": [],
   "outputs": [],
   "metadata": {}
  },
  {
   "cell_type": "code",
   "execution_count": null,
   "source": [],
   "outputs": [],
   "metadata": {}
  }
 ],
 "metadata": {
  "interpreter": {
   "hash": "aee8b7b246df8f9039afb4144a1f6fd8d2ca17a180786b69acc140d282b71a49"
  },
  "kernelspec": {
   "name": "python3124jvsc74a57bd04a074528bc854e8a1fdc819f4bc249979b3b196bce4de5afb134a947ed71fa2f",
   "display_name": "R",
   "language": "R"
  },
  "language_info": {
   "name": "R",
   "codemirror_mode": "r",
   "pygments_lexer": "r",
   "mimetype": "text/x-r-source",
   "file_extension": ".r",
   "version": "4.3.3"
  }
 },
 "nbformat": 4,
 "nbformat_minor": 4
}
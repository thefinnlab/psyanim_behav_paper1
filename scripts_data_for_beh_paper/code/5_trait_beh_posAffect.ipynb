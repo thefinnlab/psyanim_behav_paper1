{
 "cells": [
  {
   "cell_type": "code",
   "execution_count": 2,
   "source": [
    "print(\"Hello, R in Jupyter!\")"
   ],
   "outputs": [
    {
     "output_type": "stream",
     "name": "stdout",
     "text": [
      "[1] \"Hello, R in Jupyter!\"\n"
     ]
    }
   ],
   "metadata": {}
  },
  {
   "cell_type": "code",
   "execution_count": 1,
   "source": [
    "# Basic arithmetic\n",
    "result <- 2 + 2\n",
    "print(result)"
   ],
   "outputs": [
    {
     "output_type": "stream",
     "name": "stdout",
     "text": [
      "[1] 4\n"
     ]
    }
   ],
   "metadata": {}
  },
  {
   "cell_type": "code",
   "execution_count": 2,
   "source": [
    "root_dir = '/Users/f0053cz/Documents/psyanim_v2/scripts_for_beh_paper/data/subtlety_playfight_data/'\n",
    "data <- read.csv(paste(root_dir,'curvefit_traits_merged_linearpf.csv', sep = \"/\"))\n",
    "# print(data)\n",
    "head(data, 5)"
   ],
   "outputs": [
    {
     "output_type": "display_data",
     "data": {
      "text/html": [
       "<table class=\"dataframe\">\n",
       "<caption>A data.frame: 5 × 43</caption>\n",
       "<thead>\n",
       "\t<tr><th></th><th scope=col>X</th><th scope=col>index</th><th scope=col>subID</th><th scope=col>r_squared_subt</th><th scope=col>nrmse_subt</th><th scope=col>aic_subt</th><th scope=col>center</th><th scope=col>PSE_subt</th><th scope=col>sigma</th><th scope=col>bias_xmin_subt</th><th scope=col>⋯</th><th scope=col>comm</th><th scope=col>posAffect</th><th scope=col>negAffect</th><th scope=col>neuroticism</th><th scope=col>extraversion</th><th scope=col>openness</th><th scope=col>agreeableness</th><th scope=col>conscientiousness</th><th scope=col>loneliness</th><th scope=col>nfriends</th></tr>\n",
       "\t<tr><th></th><th scope=col>&lt;int&gt;</th><th scope=col>&lt;int&gt;</th><th scope=col>&lt;dbl&gt;</th><th scope=col>&lt;dbl&gt;</th><th scope=col>&lt;dbl&gt;</th><th scope=col>&lt;dbl&gt;</th><th scope=col>&lt;dbl&gt;</th><th scope=col>&lt;dbl&gt;</th><th scope=col>&lt;dbl&gt;</th><th scope=col>&lt;dbl&gt;</th><th scope=col>⋯</th><th scope=col>&lt;dbl&gt;</th><th scope=col>&lt;dbl&gt;</th><th scope=col>&lt;dbl&gt;</th><th scope=col>&lt;dbl&gt;</th><th scope=col>&lt;dbl&gt;</th><th scope=col>&lt;dbl&gt;</th><th scope=col>&lt;dbl&gt;</th><th scope=col>&lt;dbl&gt;</th><th scope=col>&lt;dbl&gt;</th><th scope=col>&lt;dbl&gt;</th></tr>\n",
       "</thead>\n",
       "<tbody>\n",
       "\t<tr><th scope=row>1</th><td>0</td><td>0</td><td>30002</td><td>0.9789465</td><td>0.05958450</td><td>-35.48504</td><td>0.5461832</td><td>0.5529510</td><td>0.10335957</td><td>0.031291240</td><td>⋯</td><td>16.00000</td><td>20</td><td> 0</td><td>38</td><td>28.00000</td><td>31.00000</td><td>34</td><td>39</td><td>56</td><td>3</td></tr>\n",
       "\t<tr><th scope=row>2</th><td>1</td><td>1</td><td>30004</td><td>0.9947840</td><td>0.03131009</td><td>-44.49341</td><td>0.3112003</td><td>0.2768959</td><td>0.07686605</td><td>0.194060972</td><td>⋯</td><td>15.00000</td><td>25</td><td>11</td><td>38</td><td>26.18182</td><td>50.00000</td><td>50</td><td>46</td><td>56</td><td>3</td></tr>\n",
       "\t<tr><th scope=row>3</th><td>2</td><td>2</td><td>30005</td><td>0.9856356</td><td>0.04832041</td><td>-38.41862</td><td>0.3800630</td><td>0.3205832</td><td>0.11535284</td><td>0.249788688</td><td>⋯</td><td>16.00000</td><td>20</td><td>21</td><td>51</td><td>39.00000</td><td>40.00000</td><td>43</td><td>19</td><td>41</td><td>5</td></tr>\n",
       "\t<tr><th scope=row>4</th><td>3</td><td>3</td><td>30006</td><td>0.9837098</td><td>0.05739903</td><td>-36.00819</td><td>0.4658866</td><td>0.4648232</td><td>0.07922090</td><td>0.009432723</td><td>⋯</td><td> 3.00000</td><td>25</td><td> 0</td><td>18</td><td>41.00000</td><td>31.00000</td><td>44</td><td>57</td><td>30</td><td>4</td></tr>\n",
       "\t<tr><th scope=row>5</th><td>4</td><td>4</td><td>30008</td><td>0.9007922</td><td>0.11023567</td><td>-26.87189</td><td>0.3854147</td><td>0.3251178</td><td>0.17258480</td><td>0.289378203</td><td>⋯</td><td>12.22222</td><td>28</td><td> 4</td><td>27</td><td>46.00000</td><td>42.54545</td><td>46</td><td>50</td><td>45</td><td>5</td></tr>\n",
       "</tbody>\n",
       "</table>\n"
      ],
      "text/latex": [
       "A data.frame: 5 × 43\n",
       "\\begin{tabular}{r|lllllllllllllllllllll}\n",
       "  & X & index & subID & r\\_squared\\_subt & nrmse\\_subt & aic\\_subt & center & PSE\\_subt & sigma & bias\\_xmin\\_subt & ⋯ & comm & posAffect & negAffect & neuroticism & extraversion & openness & agreeableness & conscientiousness & loneliness & nfriends\\\\\n",
       "  & <int> & <int> & <dbl> & <dbl> & <dbl> & <dbl> & <dbl> & <dbl> & <dbl> & <dbl> & ⋯ & <dbl> & <dbl> & <dbl> & <dbl> & <dbl> & <dbl> & <dbl> & <dbl> & <dbl> & <dbl>\\\\\n",
       "\\hline\n",
       "\t1 & 0 & 0 & 30002 & 0.9789465 & 0.05958450 & -35.48504 & 0.5461832 & 0.5529510 & 0.10335957 & 0.031291240 & ⋯ & 16.00000 & 20 &  0 & 38 & 28.00000 & 31.00000 & 34 & 39 & 56 & 3\\\\\n",
       "\t2 & 1 & 1 & 30004 & 0.9947840 & 0.03131009 & -44.49341 & 0.3112003 & 0.2768959 & 0.07686605 & 0.194060972 & ⋯ & 15.00000 & 25 & 11 & 38 & 26.18182 & 50.00000 & 50 & 46 & 56 & 3\\\\\n",
       "\t3 & 2 & 2 & 30005 & 0.9856356 & 0.04832041 & -38.41862 & 0.3800630 & 0.3205832 & 0.11535284 & 0.249788688 & ⋯ & 16.00000 & 20 & 21 & 51 & 39.00000 & 40.00000 & 43 & 19 & 41 & 5\\\\\n",
       "\t4 & 3 & 3 & 30006 & 0.9837098 & 0.05739903 & -36.00819 & 0.4658866 & 0.4648232 & 0.07922090 & 0.009432723 & ⋯ &  3.00000 & 25 &  0 & 18 & 41.00000 & 31.00000 & 44 & 57 & 30 & 4\\\\\n",
       "\t5 & 4 & 4 & 30008 & 0.9007922 & 0.11023567 & -26.87189 & 0.3854147 & 0.3251178 & 0.17258480 & 0.289378203 & ⋯ & 12.22222 & 28 &  4 & 27 & 46.00000 & 42.54545 & 46 & 50 & 45 & 5\\\\\n",
       "\\end{tabular}\n"
      ],
      "text/markdown": [
       "\n",
       "A data.frame: 5 × 43\n",
       "\n",
       "| <!--/--> | X &lt;int&gt; | index &lt;int&gt; | subID &lt;dbl&gt; | r_squared_subt &lt;dbl&gt; | nrmse_subt &lt;dbl&gt; | aic_subt &lt;dbl&gt; | center &lt;dbl&gt; | PSE_subt &lt;dbl&gt; | sigma &lt;dbl&gt; | bias_xmin_subt &lt;dbl&gt; | ⋯ ⋯ | comm &lt;dbl&gt; | posAffect &lt;dbl&gt; | negAffect &lt;dbl&gt; | neuroticism &lt;dbl&gt; | extraversion &lt;dbl&gt; | openness &lt;dbl&gt; | agreeableness &lt;dbl&gt; | conscientiousness &lt;dbl&gt; | loneliness &lt;dbl&gt; | nfriends &lt;dbl&gt; |\n",
       "|---|---|---|---|---|---|---|---|---|---|---|---|---|---|---|---|---|---|---|---|---|---|\n",
       "| 1 | 0 | 0 | 30002 | 0.9789465 | 0.05958450 | -35.48504 | 0.5461832 | 0.5529510 | 0.10335957 | 0.031291240 | ⋯ | 16.00000 | 20 |  0 | 38 | 28.00000 | 31.00000 | 34 | 39 | 56 | 3 |\n",
       "| 2 | 1 | 1 | 30004 | 0.9947840 | 0.03131009 | -44.49341 | 0.3112003 | 0.2768959 | 0.07686605 | 0.194060972 | ⋯ | 15.00000 | 25 | 11 | 38 | 26.18182 | 50.00000 | 50 | 46 | 56 | 3 |\n",
       "| 3 | 2 | 2 | 30005 | 0.9856356 | 0.04832041 | -38.41862 | 0.3800630 | 0.3205832 | 0.11535284 | 0.249788688 | ⋯ | 16.00000 | 20 | 21 | 51 | 39.00000 | 40.00000 | 43 | 19 | 41 | 5 |\n",
       "| 4 | 3 | 3 | 30006 | 0.9837098 | 0.05739903 | -36.00819 | 0.4658866 | 0.4648232 | 0.07922090 | 0.009432723 | ⋯ |  3.00000 | 25 |  0 | 18 | 41.00000 | 31.00000 | 44 | 57 | 30 | 4 |\n",
       "| 5 | 4 | 4 | 30008 | 0.9007922 | 0.11023567 | -26.87189 | 0.3854147 | 0.3251178 | 0.17258480 | 0.289378203 | ⋯ | 12.22222 | 28 |  4 | 27 | 46.00000 | 42.54545 | 46 | 50 | 45 | 5 |\n",
       "\n"
      ],
      "text/plain": [
       "  X index subID r_squared_subt nrmse_subt aic_subt  center    PSE_subt \n",
       "1 0 0     30002 0.9789465      0.05958450 -35.48504 0.5461832 0.5529510\n",
       "2 1 1     30004 0.9947840      0.03131009 -44.49341 0.3112003 0.2768959\n",
       "3 2 2     30005 0.9856356      0.04832041 -38.41862 0.3800630 0.3205832\n",
       "4 3 3     30006 0.9837098      0.05739903 -36.00819 0.4658866 0.4648232\n",
       "5 4 4     30008 0.9007922      0.11023567 -26.87189 0.3854147 0.3251178\n",
       "  sigma      bias_xmin_subt ⋯ comm     posAffect negAffect neuroticism\n",
       "1 0.10335957 0.031291240    ⋯ 16.00000 20         0        38         \n",
       "2 0.07686605 0.194060972    ⋯ 15.00000 25        11        38         \n",
       "3 0.11535284 0.249788688    ⋯ 16.00000 20        21        51         \n",
       "4 0.07922090 0.009432723    ⋯  3.00000 25         0        18         \n",
       "5 0.17258480 0.289378203    ⋯ 12.22222 28         4        27         \n",
       "  extraversion openness agreeableness conscientiousness loneliness nfriends\n",
       "1 28.00000     31.00000 34            39                56         3       \n",
       "2 26.18182     50.00000 50            46                56         3       \n",
       "3 39.00000     40.00000 43            19                41         5       \n",
       "4 41.00000     31.00000 44            57                30         4       \n",
       "5 46.00000     42.54545 46            50                45         5       "
      ]
     },
     "metadata": {}
    }
   ],
   "metadata": {}
  },
  {
   "cell_type": "code",
   "execution_count": 3,
   "source": [
    "colnames(data)"
   ],
   "outputs": [
    {
     "output_type": "display_data",
     "data": {
      "text/html": [
       "<style>\n",
       ".list-inline {list-style: none; margin:0; padding: 0}\n",
       ".list-inline>li {display: inline-block}\n",
       ".list-inline>li:not(:last-child)::after {content: \"\\00b7\"; padding: 0 .5ex}\n",
       "</style>\n",
       "<ol class=list-inline><li>'X'</li><li>'index'</li><li>'subID'</li><li>'r_squared_subt'</li><li>'nrmse_subt'</li><li>'aic_subt'</li><li>'center'</li><li>'PSE_subt'</li><li>'sigma'</li><li>'bias_xmin_subt'</li><li>'bias_xmax_subt'</li><li>'bias_lower_subt'</li><li>'bias_upper_subt'</li><li>'flipped_subt'</li><li>'range_subt'</li><li>'bias_subt'</li><li>'r_squared_pf'</li><li>'nrmse_pf'</li><li>'aic_pf'</li><li>'PSE_pf'</li><li>'slope'</li><li>'intercept'</li><li>'bias_xmin_pf'</li><li>'bias_xmax_pf'</li><li>'bias_lower_pf'</li><li>'bias_upper_pf'</li><li>'flipped_pf'</li><li>'range_pf'</li><li>'bias_pf'</li><li>'social_skill'</li><li>'attn_switch'</li><li>'img'</li><li>'attn_to_det'</li><li>'comm'</li><li>'posAffect'</li><li>'negAffect'</li><li>'neuroticism'</li><li>'extraversion'</li><li>'openness'</li><li>'agreeableness'</li><li>'conscientiousness'</li><li>'loneliness'</li><li>'nfriends'</li></ol>\n"
      ],
      "text/latex": [
       "\\begin{enumerate*}\n",
       "\\item 'X'\n",
       "\\item 'index'\n",
       "\\item 'subID'\n",
       "\\item 'r\\_squared\\_subt'\n",
       "\\item 'nrmse\\_subt'\n",
       "\\item 'aic\\_subt'\n",
       "\\item 'center'\n",
       "\\item 'PSE\\_subt'\n",
       "\\item 'sigma'\n",
       "\\item 'bias\\_xmin\\_subt'\n",
       "\\item 'bias\\_xmax\\_subt'\n",
       "\\item 'bias\\_lower\\_subt'\n",
       "\\item 'bias\\_upper\\_subt'\n",
       "\\item 'flipped\\_subt'\n",
       "\\item 'range\\_subt'\n",
       "\\item 'bias\\_subt'\n",
       "\\item 'r\\_squared\\_pf'\n",
       "\\item 'nrmse\\_pf'\n",
       "\\item 'aic\\_pf'\n",
       "\\item 'PSE\\_pf'\n",
       "\\item 'slope'\n",
       "\\item 'intercept'\n",
       "\\item 'bias\\_xmin\\_pf'\n",
       "\\item 'bias\\_xmax\\_pf'\n",
       "\\item 'bias\\_lower\\_pf'\n",
       "\\item 'bias\\_upper\\_pf'\n",
       "\\item 'flipped\\_pf'\n",
       "\\item 'range\\_pf'\n",
       "\\item 'bias\\_pf'\n",
       "\\item 'social\\_skill'\n",
       "\\item 'attn\\_switch'\n",
       "\\item 'img'\n",
       "\\item 'attn\\_to\\_det'\n",
       "\\item 'comm'\n",
       "\\item 'posAffect'\n",
       "\\item 'negAffect'\n",
       "\\item 'neuroticism'\n",
       "\\item 'extraversion'\n",
       "\\item 'openness'\n",
       "\\item 'agreeableness'\n",
       "\\item 'conscientiousness'\n",
       "\\item 'loneliness'\n",
       "\\item 'nfriends'\n",
       "\\end{enumerate*}\n"
      ],
      "text/markdown": [
       "1. 'X'\n",
       "2. 'index'\n",
       "3. 'subID'\n",
       "4. 'r_squared_subt'\n",
       "5. 'nrmse_subt'\n",
       "6. 'aic_subt'\n",
       "7. 'center'\n",
       "8. 'PSE_subt'\n",
       "9. 'sigma'\n",
       "10. 'bias_xmin_subt'\n",
       "11. 'bias_xmax_subt'\n",
       "12. 'bias_lower_subt'\n",
       "13. 'bias_upper_subt'\n",
       "14. 'flipped_subt'\n",
       "15. 'range_subt'\n",
       "16. 'bias_subt'\n",
       "17. 'r_squared_pf'\n",
       "18. 'nrmse_pf'\n",
       "19. 'aic_pf'\n",
       "20. 'PSE_pf'\n",
       "21. 'slope'\n",
       "22. 'intercept'\n",
       "23. 'bias_xmin_pf'\n",
       "24. 'bias_xmax_pf'\n",
       "25. 'bias_lower_pf'\n",
       "26. 'bias_upper_pf'\n",
       "27. 'flipped_pf'\n",
       "28. 'range_pf'\n",
       "29. 'bias_pf'\n",
       "30. 'social_skill'\n",
       "31. 'attn_switch'\n",
       "32. 'img'\n",
       "33. 'attn_to_det'\n",
       "34. 'comm'\n",
       "35. 'posAffect'\n",
       "36. 'negAffect'\n",
       "37. 'neuroticism'\n",
       "38. 'extraversion'\n",
       "39. 'openness'\n",
       "40. 'agreeableness'\n",
       "41. 'conscientiousness'\n",
       "42. 'loneliness'\n",
       "43. 'nfriends'\n",
       "\n",
       "\n"
      ],
      "text/plain": [
       " [1] \"X\"                 \"index\"             \"subID\"            \n",
       " [4] \"r_squared_subt\"    \"nrmse_subt\"        \"aic_subt\"         \n",
       " [7] \"center\"            \"PSE_subt\"          \"sigma\"            \n",
       "[10] \"bias_xmin_subt\"    \"bias_xmax_subt\"    \"bias_lower_subt\"  \n",
       "[13] \"bias_upper_subt\"   \"flipped_subt\"      \"range_subt\"       \n",
       "[16] \"bias_subt\"         \"r_squared_pf\"      \"nrmse_pf\"         \n",
       "[19] \"aic_pf\"            \"PSE_pf\"            \"slope\"            \n",
       "[22] \"intercept\"         \"bias_xmin_pf\"      \"bias_xmax_pf\"     \n",
       "[25] \"bias_lower_pf\"     \"bias_upper_pf\"     \"flipped_pf\"       \n",
       "[28] \"range_pf\"          \"bias_pf\"           \"social_skill\"     \n",
       "[31] \"attn_switch\"       \"img\"               \"attn_to_det\"      \n",
       "[34] \"comm\"              \"posAffect\"         \"negAffect\"        \n",
       "[37] \"neuroticism\"       \"extraversion\"      \"openness\"         \n",
       "[40] \"agreeableness\"     \"conscientiousness\" \"loneliness\"       \n",
       "[43] \"nfriends\"         "
      ]
     },
     "metadata": {}
    }
   ],
   "metadata": {}
  },
  {
   "cell_type": "code",
   "execution_count": 4,
   "source": [
    "# Print the dimensions of the data frame\n",
    "print(dim(data))\n",
    "\n",
    "# Drop rows with NA values\n",
    "data <- na.omit(data)\n",
    "\n",
    "# Print the dimensions of the data frame after dropping NA values\n",
    "print(dim(data))"
   ],
   "outputs": [
    {
     "output_type": "stream",
     "name": "stdout",
     "text": [
      "[1] 276  43\n",
      "[1] 275  43\n"
     ]
    }
   ],
   "metadata": {}
  },
  {
   "cell_type": "code",
   "execution_count": 5,
   "source": [
    "# new_terms = ['obj_center','amplitude','bias_xmin_norm','sigma']\n",
    "new_terms <- c('PSE_subt', 'range_subt', 'bias_subt', 'PSE_pf', 'range_pf', 'bias_pf', 'slope_pf', 'intercept_pf')"
   ],
   "outputs": [],
   "metadata": {}
  },
  {
   "cell_type": "code",
   "execution_count": 6,
   "source": [
    "# for (param in new_terms) {\n",
    "#   pf_col <- paste(param, '_pf', sep = '')\n",
    "#   subt_col <- paste(param, '_subt', sep = '')\n",
    "#   diff_col <- paste(param, '_diff', sep = '')\n",
    "#   data[[diff_col]] <- data[[pf_col]] - data[[subt_col]]\n",
    "# }\n",
    "# head(data,5)"
   ],
   "outputs": [],
   "metadata": {}
  },
  {
   "cell_type": "code",
   "execution_count": 7,
   "source": [
    "# data <- subset(data, amplitude_pf > 0)\n",
    "# print(dim(data))"
   ],
   "outputs": [],
   "metadata": {}
  },
  {
   "cell_type": "markdown",
   "source": [
    "# mult reg (relevant traits and curve fits)"
   ],
   "metadata": {}
  },
  {
   "cell_type": "code",
   "execution_count": 8,
   "source": [
    "# from pymer4.models import Lmer,Lm"
   ],
   "outputs": [],
   "metadata": {}
  },
  {
   "cell_type": "code",
   "execution_count": 9,
   "source": [
    "install.packages(\"dplyr\")\n",
    "library(dplyr)\n",
    "\n",
    "# # Rename specific columns\n",
    "# data <- data %>% rename(\n",
    "#   pos_affect = Positive_reweigh,\n",
    "#   PSE_subt = obj_center_subt,\n",
    "#   range_subt = amplitude_subt,\n",
    "#   bias_subt = bias_xmin_norm_subt,\n",
    "#   PSE_pf = obj_center_pf,\n",
    "#   range_pf = amplitude_pf,\n",
    "#   bias_pf = bias_xmin_norm_pf,\n",
    "#   PSE_diff = obj_center_diff,\n",
    "#   range_diff = amplitude_diff,\n",
    "#   bias_diff = bias_xmin_norm_diff\n",
    "# )"
   ],
   "outputs": [
    {
     "output_type": "stream",
     "name": "stderr",
     "text": [
      "Updating HTML index of packages in '.Library'\n",
      "\n",
      "Making 'packages.html' ...\n",
      " done\n",
      "\n",
      "\n",
      "Attaching package: ‘dplyr’\n",
      "\n",
      "\n",
      "The following objects are masked from ‘package:stats’:\n",
      "\n",
      "    filter, lag\n",
      "\n",
      "\n",
      "The following objects are masked from ‘package:base’:\n",
      "\n",
      "    intersect, setdiff, setequal, union\n",
      "\n",
      "\n"
     ]
    }
   ],
   "metadata": {}
  },
  {
   "cell_type": "code",
   "execution_count": 15,
   "source": [
    "m1 <- lm(posAffect ~ PSE_subt + range_subt + bias_subt + sigma, data = data)\n",
    "summary(m1)"
   ],
   "outputs": [
    {
     "output_type": "display_data",
     "data": {
      "text/plain": [
       "\n",
       "Call:\n",
       "lm(formula = posAffect ~ PSE_subt + range_subt + bias_subt + \n",
       "    sigma, data = data)\n",
       "\n",
       "Residuals:\n",
       "     Min       1Q   Median       3Q      Max \n",
       "-18.6997  -5.5846  -0.1063   5.6100  18.6052 \n",
       "\n",
       "Coefficients:\n",
       "            Estimate Std. Error t value Pr(>|t|)    \n",
       "(Intercept)   25.590      3.946   6.484 4.22e-10 ***\n",
       "PSE_subt      -1.504      6.247  -0.241    0.810    \n",
       "range_subt    -6.100      3.764  -1.621    0.106    \n",
       "bias_subt      3.242      3.444   0.941    0.347    \n",
       "sigma        -14.581     12.258  -1.190    0.235    \n",
       "---\n",
       "Signif. codes:  0 ‘***’ 0.001 ‘**’ 0.01 ‘*’ 0.05 ‘.’ 0.1 ‘ ’ 1\n",
       "\n",
       "Residual standard error: 8.408 on 270 degrees of freedom\n",
       "Multiple R-squared:  0.02251,\tAdjusted R-squared:  0.00803 \n",
       "F-statistic: 1.555 on 4 and 270 DF,  p-value: 0.1868\n"
      ]
     },
     "metadata": {}
    }
   ],
   "metadata": {}
  },
  {
   "cell_type": "code",
   "execution_count": 40,
   "source": [
    "m2 <- lm(posAffect ~ PSE_pf + slope , data = data)\n",
    "summary(m2)"
   ],
   "outputs": [
    {
     "output_type": "display_data",
     "data": {
      "text/plain": [
       "\n",
       "Call:\n",
       "lm(formula = posAffect ~ PSE_pf + slope, data = data)\n",
       "\n",
       "Residuals:\n",
       "     Min       1Q   Median       3Q      Max \n",
       "-23.4267  -6.3960   0.3045   6.0727  17.7673 \n",
       "\n",
       "Coefficients:\n",
       "            Estimate Std. Error t value Pr(>|t|)    \n",
       "(Intercept)   18.930      1.953   9.693   <2e-16 ***\n",
       "PSE_pf         0.101      3.275   0.031   0.9754    \n",
       "slope          4.458      2.380   1.873   0.0622 .  \n",
       "---\n",
       "Signif. codes:  0 ‘***’ 0.001 ‘**’ 0.01 ‘*’ 0.05 ‘.’ 0.1 ‘ ’ 1\n",
       "\n",
       "Residual standard error: 8.417 on 272 degrees of freedom\n",
       "Multiple R-squared:  0.01328,\tAdjusted R-squared:  0.006029 \n",
       "F-statistic: 1.831 on 2 and 272 DF,  p-value: 0.1622\n"
      ]
     },
     "metadata": {}
    }
   ],
   "metadata": {}
  },
  {
   "cell_type": "code",
   "execution_count": 39,
   "source": [
    "m3 <- lm(posAffect ~ PSE_subt + range_subt + bias_subt + sigma + PSE_pf + slope, data = data)\n",
    "summary(m3)"
   ],
   "outputs": [
    {
     "output_type": "display_data",
     "data": {
      "text/plain": [
       "\n",
       "Call:\n",
       "lm(formula = posAffect ~ PSE_subt + range_subt + bias_subt + \n",
       "    sigma + PSE_pf + slope, data = data)\n",
       "\n",
       "Residuals:\n",
       "     Min       1Q   Median       3Q      Max \n",
       "-21.3946  -5.7664   0.3238   5.7982  17.4321 \n",
       "\n",
       "Coefficients:\n",
       "            Estimate Std. Error t value Pr(>|t|)    \n",
       "(Intercept)  25.4187     4.0681   6.248 1.62e-09 ***\n",
       "PSE_subt     -2.1267     6.2009  -0.343  0.73189    \n",
       "range_subt   -9.0417     3.8973  -2.320  0.02109 *  \n",
       "bias_subt     0.6503     3.5654   0.182  0.85542    \n",
       "sigma       -13.8669    12.1796  -1.139  0.25591    \n",
       "PSE_pf       -0.5214     3.2770  -0.159  0.87369    \n",
       "slope         7.2030     2.7724   2.598  0.00989 ** \n",
       "---\n",
       "Signif. codes:  0 ‘***’ 0.001 ‘**’ 0.01 ‘*’ 0.05 ‘.’ 0.1 ‘ ’ 1\n",
       "\n",
       "Residual standard error: 8.334 on 268 degrees of freedom\n",
       "Multiple R-squared:  0.04678,\tAdjusted R-squared:  0.02543 \n",
       "F-statistic: 2.192 on 6 and 268 DF,  p-value: 0.0441\n"
      ]
     },
     "metadata": {}
    }
   ],
   "metadata": {}
  },
  {
   "cell_type": "code",
   "execution_count": 41,
   "source": [
    "m4 <- lm(posAffect ~ PSE_subt * range_subt * bias_subt * sigma * PSE_pf * slope, data = data)\n",
    "summary(m4)"
   ],
   "outputs": [
    {
     "output_type": "display_data",
     "data": {
      "text/plain": [
       "\n",
       "Call:\n",
       "lm(formula = posAffect ~ PSE_subt * range_subt * bias_subt * \n",
       "    sigma * PSE_pf * slope, data = data)\n",
       "\n",
       "Residuals:\n",
       "     Min       1Q   Median       3Q      Max \n",
       "-19.8128  -4.9054   0.4608   4.2578  19.0145 \n",
       "\n",
       "Coefficients:\n",
       "                                                  Estimate Std. Error t value\n",
       "(Intercept)                                         248.63    1359.72   0.183\n",
       "PSE_subt                                          -1573.65    3236.88  -0.486\n",
       "range_subt                                        -1151.80    2344.06  -0.491\n",
       "bias_subt                                           -37.01    1523.83  -0.024\n",
       "sigma                                             -2309.50   14816.99  -0.156\n",
       "PSE_pf                                              111.68    3051.13   0.037\n",
       "slope                                              -662.93    2765.60  -0.240\n",
       "PSE_subt:range_subt                                3980.92    5476.43   0.727\n",
       "PSE_subt:bias_subt                                 1926.38    3652.46   0.527\n",
       "range_subt:bias_subt                                963.08    2669.95   0.361\n",
       "PSE_subt:sigma                                    17996.57   35256.94   0.510\n",
       "range_subt:sigma                                   9468.61   25298.53   0.374\n",
       "bias_subt:sigma                                    1130.83   16712.04   0.068\n",
       "PSE_subt:PSE_pf                                    1539.80    7374.32   0.209\n",
       "range_subt:PSE_pf                                   529.55    5429.94   0.098\n",
       "bias_subt:PSE_pf                                   -624.30    3435.81  -0.182\n",
       "sigma:PSE_pf                                      -2275.96   32206.54  -0.071\n",
       "PSE_subt:slope                                     2934.33    6619.02   0.443\n",
       "range_subt:slope                                   2210.43    4722.45   0.468\n",
       "bias_subt:slope                                     388.67    3042.95   0.128\n",
       "sigma:slope                                        7273.21   30067.39   0.242\n",
       "PSE_pf:slope                                        105.96    6240.07   0.017\n",
       "PSE_subt:range_subt:bias_subt                     -4434.66    6348.57  -0.699\n",
       "PSE_subt:range_subt:sigma                        -38848.81   59256.98  -0.656\n",
       "PSE_subt:bias_subt:sigma                         -24457.72   40617.58  -0.602\n",
       "range_subt:bias_subt:sigma                        -8563.23   28751.41  -0.298\n",
       "PSE_subt:range_subt:PSE_pf                        -3978.99   12791.39  -0.311\n",
       "PSE_subt:bias_subt:PSE_pf                         -1467.26    8385.83  -0.175\n",
       "range_subt:bias_subt:PSE_pf                        -105.67    6239.53  -0.017\n",
       "PSE_subt:sigma:PSE_pf                            -16305.85   77373.49  -0.211\n",
       "range_subt:sigma:PSE_pf                             190.12   56291.07   0.003\n",
       "bias_subt:sigma:PSE_pf                             5637.50   36321.95   0.155\n",
       "PSE_subt:range_subt:slope                         -6879.26   10901.20  -0.631\n",
       "PSE_subt:bias_subt:slope                          -3543.76    7308.50  -0.485\n",
       "range_subt:bias_subt:slope                        -1869.53    5234.02  -0.357\n",
       "PSE_subt:sigma:slope                             -36691.52   71680.41  -0.512\n",
       "range_subt:sigma:slope                           -19297.90   50308.14  -0.384\n",
       "bias_subt:sigma:slope                             -6148.22   33453.60  -0.184\n",
       "PSE_subt:PSE_pf:slope                             -2722.51   15063.07  -0.181\n",
       "range_subt:PSE_pf:slope                           -1033.68   10961.76  -0.094\n",
       "bias_subt:PSE_pf:slope                              830.08    6871.00   0.121\n",
       "sigma:PSE_pf:slope                                 1129.81   65798.73   0.017\n",
       "PSE_subt:range_subt:bias_subt:sigma               47510.04   69390.59   0.685\n",
       "PSE_subt:range_subt:bias_subt:PSE_pf               4260.09   14953.82   0.285\n",
       "PSE_subt:range_subt:sigma:PSE_pf                  33050.10  132516.89   0.249\n",
       "PSE_subt:bias_subt:sigma:PSE_pf                   22253.36   89429.81   0.249\n",
       "range_subt:bias_subt:sigma:PSE_pf                 -2315.24   64279.75  -0.036\n",
       "PSE_subt:range_subt:bias_subt:slope                7539.12   12197.72   0.618\n",
       "PSE_subt:range_subt:sigma:slope                   70826.14  116596.74   0.607\n",
       "PSE_subt:bias_subt:sigma:slope                    49817.03   81063.29   0.615\n",
       "range_subt:bias_subt:sigma:slope                  18261.08   56060.69   0.326\n",
       "PSE_subt:range_subt:PSE_pf:slope                   6319.49   25554.18   0.247\n",
       "PSE_subt:bias_subt:PSE_pf:slope                    2500.78   16670.15   0.150\n",
       "range_subt:bias_subt:PSE_pf:slope                   -10.24   12202.51  -0.001\n",
       "PSE_subt:sigma:PSE_pf:slope                       34296.18  158401.52   0.217\n",
       "range_subt:sigma:PSE_pf:slope                      -216.37  112569.21  -0.002\n",
       "bias_subt:sigma:PSE_pf:slope                      -6302.86   73039.10  -0.086\n",
       "PSE_subt:range_subt:bias_subt:sigma:PSE_pf       -44551.07  155924.44  -0.286\n",
       "PSE_subt:range_subt:bias_subt:sigma:slope        -87250.63  132636.00  -0.658\n",
       "PSE_subt:range_subt:bias_subt:PSE_pf:slope        -6215.80   28725.48  -0.216\n",
       "PSE_subt:range_subt:sigma:PSE_pf:slope           -55558.23  263245.71  -0.211\n",
       "PSE_subt:bias_subt:sigma:PSE_pf:slope            -48733.35  179163.48  -0.272\n",
       "range_subt:bias_subt:sigma:PSE_pf:slope            5085.28  125608.26   0.040\n",
       "PSE_subt:range_subt:bias_subt:sigma:PSE_pf:slope  76624.81  300082.96   0.255\n",
       "                                                 Pr(>|t|)\n",
       "(Intercept)                                         0.855\n",
       "PSE_subt                                            0.627\n",
       "range_subt                                          0.624\n",
       "bias_subt                                           0.981\n",
       "sigma                                               0.876\n",
       "PSE_pf                                              0.971\n",
       "slope                                               0.811\n",
       "PSE_subt:range_subt                                 0.468\n",
       "PSE_subt:bias_subt                                  0.598\n",
       "range_subt:bias_subt                                0.719\n",
       "PSE_subt:sigma                                      0.610\n",
       "range_subt:sigma                                    0.709\n",
       "bias_subt:sigma                                     0.946\n",
       "PSE_subt:PSE_pf                                     0.835\n",
       "range_subt:PSE_pf                                   0.922\n",
       "bias_subt:PSE_pf                                    0.856\n",
       "sigma:PSE_pf                                        0.944\n",
       "PSE_subt:slope                                      0.658\n",
       "range_subt:slope                                    0.640\n",
       "bias_subt:slope                                     0.898\n",
       "sigma:slope                                         0.809\n",
       "PSE_pf:slope                                        0.986\n",
       "PSE_subt:range_subt:bias_subt                       0.486\n",
       "PSE_subt:range_subt:sigma                           0.513\n",
       "PSE_subt:bias_subt:sigma                            0.548\n",
       "range_subt:bias_subt:sigma                          0.766\n",
       "PSE_subt:range_subt:PSE_pf                          0.756\n",
       "PSE_subt:bias_subt:PSE_pf                           0.861\n",
       "range_subt:bias_subt:PSE_pf                         0.987\n",
       "PSE_subt:sigma:PSE_pf                               0.833\n",
       "range_subt:sigma:PSE_pf                             0.997\n",
       "bias_subt:sigma:PSE_pf                              0.877\n",
       "PSE_subt:range_subt:slope                           0.529\n",
       "PSE_subt:bias_subt:slope                            0.628\n",
       "range_subt:bias_subt:slope                          0.721\n",
       "PSE_subt:sigma:slope                                0.609\n",
       "range_subt:sigma:slope                              0.702\n",
       "bias_subt:sigma:slope                               0.854\n",
       "PSE_subt:PSE_pf:slope                               0.857\n",
       "range_subt:PSE_pf:slope                             0.925\n",
       "bias_subt:PSE_pf:slope                              0.904\n",
       "sigma:PSE_pf:slope                                  0.986\n",
       "PSE_subt:range_subt:bias_subt:sigma                 0.494\n",
       "PSE_subt:range_subt:bias_subt:PSE_pf                0.776\n",
       "PSE_subt:range_subt:sigma:PSE_pf                    0.803\n",
       "PSE_subt:bias_subt:sigma:PSE_pf                     0.804\n",
       "range_subt:bias_subt:sigma:PSE_pf                   0.971\n",
       "PSE_subt:range_subt:bias_subt:slope                 0.537\n",
       "PSE_subt:range_subt:sigma:slope                     0.544\n",
       "PSE_subt:bias_subt:sigma:slope                      0.540\n",
       "range_subt:bias_subt:sigma:slope                    0.745\n",
       "PSE_subt:range_subt:PSE_pf:slope                    0.805\n",
       "PSE_subt:bias_subt:PSE_pf:slope                     0.881\n",
       "range_subt:bias_subt:PSE_pf:slope                   0.999\n",
       "PSE_subt:sigma:PSE_pf:slope                         0.829\n",
       "range_subt:sigma:PSE_pf:slope                       0.998\n",
       "bias_subt:sigma:PSE_pf:slope                        0.931\n",
       "PSE_subt:range_subt:bias_subt:sigma:PSE_pf          0.775\n",
       "PSE_subt:range_subt:bias_subt:sigma:slope           0.511\n",
       "PSE_subt:range_subt:bias_subt:PSE_pf:slope          0.829\n",
       "PSE_subt:range_subt:sigma:PSE_pf:slope              0.833\n",
       "PSE_subt:bias_subt:sigma:PSE_pf:slope               0.786\n",
       "range_subt:bias_subt:sigma:PSE_pf:slope             0.968\n",
       "PSE_subt:range_subt:bias_subt:sigma:PSE_pf:slope    0.799\n",
       "\n",
       "Residual standard error: 8.48 on 211 degrees of freedom\n",
       "Multiple R-squared:  0.2231,\tAdjusted R-squared:  -0.008863 \n",
       "F-statistic: 0.9618 on 63 and 211 DF,  p-value: 0.5613\n"
      ]
     },
     "metadata": {}
    }
   ],
   "metadata": {}
  },
  {
   "cell_type": "code",
   "execution_count": 42,
   "source": [
    "anova(m1,m3,m4)"
   ],
   "outputs": [
    {
     "output_type": "display_data",
     "data": {
      "text/html": [
       "<table class=\"dataframe\">\n",
       "<caption>A anova: 3 × 6</caption>\n",
       "<thead>\n",
       "\t<tr><th></th><th scope=col>Res.Df</th><th scope=col>RSS</th><th scope=col>Df</th><th scope=col>Sum of Sq</th><th scope=col>F</th><th scope=col>Pr(&gt;F)</th></tr>\n",
       "\t<tr><th></th><th scope=col>&lt;dbl&gt;</th><th scope=col>&lt;dbl&gt;</th><th scope=col>&lt;dbl&gt;</th><th scope=col>&lt;dbl&gt;</th><th scope=col>&lt;dbl&gt;</th><th scope=col>&lt;dbl&gt;</th></tr>\n",
       "</thead>\n",
       "<tbody>\n",
       "\t<tr><th scope=row>1</th><td>270</td><td>19089.78</td><td>NA</td><td>       NA</td><td>       NA</td><td>        NA</td></tr>\n",
       "\t<tr><th scope=row>2</th><td>268</td><td>18615.90</td><td> 2</td><td> 473.8701</td><td>3.2950251</td><td>0.03898353</td></tr>\n",
       "\t<tr><th scope=row>3</th><td>211</td><td>15172.36</td><td>57</td><td>3443.5467</td><td>0.8401571</td><td>0.77900202</td></tr>\n",
       "</tbody>\n",
       "</table>\n"
      ],
      "text/latex": [
       "A anova: 3 × 6\n",
       "\\begin{tabular}{r|llllll}\n",
       "  & Res.Df & RSS & Df & Sum of Sq & F & Pr(>F)\\\\\n",
       "  & <dbl> & <dbl> & <dbl> & <dbl> & <dbl> & <dbl>\\\\\n",
       "\\hline\n",
       "\t1 & 270 & 19089.78 & NA &        NA &        NA &         NA\\\\\n",
       "\t2 & 268 & 18615.90 &  2 &  473.8701 & 3.2950251 & 0.03898353\\\\\n",
       "\t3 & 211 & 15172.36 & 57 & 3443.5467 & 0.8401571 & 0.77900202\\\\\n",
       "\\end{tabular}\n"
      ],
      "text/markdown": [
       "\n",
       "A anova: 3 × 6\n",
       "\n",
       "| <!--/--> | Res.Df &lt;dbl&gt; | RSS &lt;dbl&gt; | Df &lt;dbl&gt; | Sum of Sq &lt;dbl&gt; | F &lt;dbl&gt; | Pr(&gt;F) &lt;dbl&gt; |\n",
       "|---|---|---|---|---|---|---|\n",
       "| 1 | 270 | 19089.78 | NA |        NA |        NA |         NA |\n",
       "| 2 | 268 | 18615.90 |  2 |  473.8701 | 3.2950251 | 0.03898353 |\n",
       "| 3 | 211 | 15172.36 | 57 | 3443.5467 | 0.8401571 | 0.77900202 |\n",
       "\n"
      ],
      "text/plain": [
       "  Res.Df RSS      Df Sum of Sq F         Pr(>F)    \n",
       "1 270    19089.78 NA        NA        NA         NA\n",
       "2 268    18615.90  2  473.8701 3.2950251 0.03898353\n",
       "3 211    15172.36 57 3443.5467 0.8401571 0.77900202"
      ]
     },
     "metadata": {}
    }
   ],
   "metadata": {}
  },
  {
   "cell_type": "code",
   "execution_count": 43,
   "source": [
    "anova(m2,m3,m4)"
   ],
   "outputs": [
    {
     "output_type": "display_data",
     "data": {
      "text/html": [
       "<table class=\"dataframe\">\n",
       "<caption>A anova: 3 × 6</caption>\n",
       "<thead>\n",
       "\t<tr><th></th><th scope=col>Res.Df</th><th scope=col>RSS</th><th scope=col>Df</th><th scope=col>Sum of Sq</th><th scope=col>F</th><th scope=col>Pr(&gt;F)</th></tr>\n",
       "\t<tr><th></th><th scope=col>&lt;dbl&gt;</th><th scope=col>&lt;dbl&gt;</th><th scope=col>&lt;dbl&gt;</th><th scope=col>&lt;dbl&gt;</th><th scope=col>&lt;dbl&gt;</th><th scope=col>&lt;dbl&gt;</th></tr>\n",
       "</thead>\n",
       "<tbody>\n",
       "\t<tr><th scope=row>1</th><td>272</td><td>19269.98</td><td>NA</td><td>       NA</td><td>       NA</td><td>        NA</td></tr>\n",
       "\t<tr><th scope=row>2</th><td>268</td><td>18615.90</td><td> 4</td><td> 654.0741</td><td>2.2740309</td><td>0.06242584</td></tr>\n",
       "\t<tr><th scope=row>3</th><td>211</td><td>15172.36</td><td>57</td><td>3443.5467</td><td>0.8401571</td><td>0.77900202</td></tr>\n",
       "</tbody>\n",
       "</table>\n"
      ],
      "text/latex": [
       "A anova: 3 × 6\n",
       "\\begin{tabular}{r|llllll}\n",
       "  & Res.Df & RSS & Df & Sum of Sq & F & Pr(>F)\\\\\n",
       "  & <dbl> & <dbl> & <dbl> & <dbl> & <dbl> & <dbl>\\\\\n",
       "\\hline\n",
       "\t1 & 272 & 19269.98 & NA &        NA &        NA &         NA\\\\\n",
       "\t2 & 268 & 18615.90 &  4 &  654.0741 & 2.2740309 & 0.06242584\\\\\n",
       "\t3 & 211 & 15172.36 & 57 & 3443.5467 & 0.8401571 & 0.77900202\\\\\n",
       "\\end{tabular}\n"
      ],
      "text/markdown": [
       "\n",
       "A anova: 3 × 6\n",
       "\n",
       "| <!--/--> | Res.Df &lt;dbl&gt; | RSS &lt;dbl&gt; | Df &lt;dbl&gt; | Sum of Sq &lt;dbl&gt; | F &lt;dbl&gt; | Pr(&gt;F) &lt;dbl&gt; |\n",
       "|---|---|---|---|---|---|---|\n",
       "| 1 | 272 | 19269.98 | NA |        NA |        NA |         NA |\n",
       "| 2 | 268 | 18615.90 |  4 |  654.0741 | 2.2740309 | 0.06242584 |\n",
       "| 3 | 211 | 15172.36 | 57 | 3443.5467 | 0.8401571 | 0.77900202 |\n",
       "\n"
      ],
      "text/plain": [
       "  Res.Df RSS      Df Sum of Sq F         Pr(>F)    \n",
       "1 272    19269.98 NA        NA        NA         NA\n",
       "2 268    18615.90  4  654.0741 2.2740309 0.06242584\n",
       "3 211    15172.36 57 3443.5467 0.8401571 0.77900202"
      ]
     },
     "metadata": {}
    }
   ],
   "metadata": {}
  },
  {
   "cell_type": "code",
   "execution_count": 33,
   "source": [
    "m2 <- lm(posAffect ~ PSE_subt + range_subt + bias_subt, data = data)\n",
    "summary(m2)"
   ],
   "outputs": [
    {
     "output_type": "display_data",
     "data": {
      "text/plain": [
       "\n",
       "Call:\n",
       "lm(formula = posAffect ~ PSE_subt + range_subt + bias_subt, data = data)\n",
       "\n",
       "Residuals:\n",
       "     Min       1Q   Median       3Q      Max \n",
       "-18.9253  -5.3653  -0.1727   5.7761  18.7884 \n",
       "\n",
       "Coefficients:\n",
       "            Estimate Std. Error t value Pr(>|t|)    \n",
       "(Intercept)   23.325      3.459   6.743 9.35e-11 ***\n",
       "PSE_subt      -1.893      6.244  -0.303    0.762    \n",
       "range_subt    -4.752      3.592  -1.323    0.187    \n",
       "bias_subt      3.325      3.446   0.965    0.335    \n",
       "---\n",
       "Signif. codes:  0 ‘***’ 0.001 ‘**’ 0.01 ‘*’ 0.05 ‘.’ 0.1 ‘ ’ 1\n",
       "\n",
       "Residual standard error: 8.415 on 271 degrees of freedom\n",
       "Multiple R-squared:  0.01739,\tAdjusted R-squared:  0.006511 \n",
       "F-statistic: 1.599 on 3 and 271 DF,  p-value: 0.19\n"
      ]
     },
     "metadata": {}
    }
   ],
   "metadata": {}
  },
  {
   "cell_type": "code",
   "execution_count": 34,
   "source": [
    "anova(m2,m1)"
   ],
   "outputs": [
    {
     "output_type": "display_data",
     "data": {
      "text/html": [
       "<table class=\"dataframe\">\n",
       "<caption>A anova: 2 × 6</caption>\n",
       "<thead>\n",
       "\t<tr><th></th><th scope=col>Res.Df</th><th scope=col>RSS</th><th scope=col>Df</th><th scope=col>Sum of Sq</th><th scope=col>F</th><th scope=col>Pr(&gt;F)</th></tr>\n",
       "\t<tr><th></th><th scope=col>&lt;dbl&gt;</th><th scope=col>&lt;dbl&gt;</th><th scope=col>&lt;dbl&gt;</th><th scope=col>&lt;dbl&gt;</th><th scope=col>&lt;dbl&gt;</th><th scope=col>&lt;dbl&gt;</th></tr>\n",
       "</thead>\n",
       "<tbody>\n",
       "\t<tr><th scope=row>1</th><td>271</td><td>19189.83</td><td>NA</td><td>    NA</td><td>      NA</td><td>       NA</td></tr>\n",
       "\t<tr><th scope=row>2</th><td>270</td><td>19089.78</td><td> 1</td><td>100.05</td><td>1.415077</td><td>0.2352604</td></tr>\n",
       "</tbody>\n",
       "</table>\n"
      ],
      "text/latex": [
       "A anova: 2 × 6\n",
       "\\begin{tabular}{r|llllll}\n",
       "  & Res.Df & RSS & Df & Sum of Sq & F & Pr(>F)\\\\\n",
       "  & <dbl> & <dbl> & <dbl> & <dbl> & <dbl> & <dbl>\\\\\n",
       "\\hline\n",
       "\t1 & 271 & 19189.83 & NA &     NA &       NA &        NA\\\\\n",
       "\t2 & 270 & 19089.78 &  1 & 100.05 & 1.415077 & 0.2352604\\\\\n",
       "\\end{tabular}\n"
      ],
      "text/markdown": [
       "\n",
       "A anova: 2 × 6\n",
       "\n",
       "| <!--/--> | Res.Df &lt;dbl&gt; | RSS &lt;dbl&gt; | Df &lt;dbl&gt; | Sum of Sq &lt;dbl&gt; | F &lt;dbl&gt; | Pr(&gt;F) &lt;dbl&gt; |\n",
       "|---|---|---|---|---|---|---|\n",
       "| 1 | 271 | 19189.83 | NA |     NA |       NA |        NA |\n",
       "| 2 | 270 | 19089.78 |  1 | 100.05 | 1.415077 | 0.2352604 |\n",
       "\n"
      ],
      "text/plain": [
       "  Res.Df RSS      Df Sum of Sq F        Pr(>F)   \n",
       "1 271    19189.83 NA     NA          NA        NA\n",
       "2 270    19089.78  1 100.05    1.415077 0.2352604"
      ]
     },
     "metadata": {}
    }
   ],
   "metadata": {}
  },
  {
   "cell_type": "code",
   "execution_count": 35,
   "source": [
    "m3 <- lm(posAffect ~  PSE_subt + range_subt, data = data)\n",
    "summary(m3)"
   ],
   "outputs": [
    {
     "output_type": "display_data",
     "data": {
      "text/plain": [
       "\n",
       "Call:\n",
       "lm(formula = posAffect ~ PSE_subt + range_subt, data = data)\n",
       "\n",
       "Residuals:\n",
       "     Min       1Q   Median       3Q      Max \n",
       "-19.8574  -5.3355  -0.4284   5.8955  19.5202 \n",
       "\n",
       "Coefficients:\n",
       "            Estimate Std. Error t value Pr(>|t|)    \n",
       "(Intercept)   25.903      2.196  11.794   <2e-16 ***\n",
       "PSE_subt      -5.604      4.918  -1.140    0.255    \n",
       "range_subt    -2.963      3.076  -0.963    0.336    \n",
       "---\n",
       "Signif. codes:  0 ‘***’ 0.001 ‘**’ 0.01 ‘*’ 0.05 ‘.’ 0.1 ‘ ’ 1\n",
       "\n",
       "Residual standard error: 8.414 on 272 degrees of freedom\n",
       "Multiple R-squared:  0.01401,\tAdjusted R-squared:  0.006763 \n",
       "F-statistic: 1.933 on 2 and 272 DF,  p-value: 0.1467\n"
      ]
     },
     "metadata": {}
    }
   ],
   "metadata": {}
  },
  {
   "cell_type": "code",
   "execution_count": 36,
   "source": [
    "m4 <- lm(posAffect ~  bias_subt, data = data)\n",
    "summary(m4)"
   ],
   "outputs": [
    {
     "output_type": "display_data",
     "data": {
      "text/plain": [
       "\n",
       "Call:\n",
       "lm(formula = posAffect ~ bias_subt, data = data)\n",
       "\n",
       "Residuals:\n",
       "    Min      1Q  Median      3Q     Max \n",
       "-20.224  -5.916   0.023   5.788  18.040 \n",
       "\n",
       "Coefficients:\n",
       "            Estimate Std. Error t value Pr(>|t|)    \n",
       "(Intercept)   19.717      2.006   9.827   <2e-16 ***\n",
       "bias_subt      2.794      2.651   1.054    0.293    \n",
       "---\n",
       "Signif. codes:  0 ‘***’ 0.001 ‘**’ 0.01 ‘*’ 0.05 ‘.’ 0.1 ‘ ’ 1\n",
       "\n",
       "Residual standard error: 8.441 on 273 degrees of freedom\n",
       "Multiple R-squared:  0.004054,\tAdjusted R-squared:  0.0004063 \n",
       "F-statistic: 1.111 on 1 and 273 DF,  p-value: 0.2927\n"
      ]
     },
     "metadata": {}
    }
   ],
   "metadata": {}
  },
  {
   "cell_type": "code",
   "execution_count": 37,
   "source": [
    "anova(m4,m3,m2,m1)"
   ],
   "outputs": [
    {
     "output_type": "display_data",
     "data": {
      "text/html": [
       "<table class=\"dataframe\">\n",
       "<caption>A anova: 4 × 6</caption>\n",
       "<thead>\n",
       "\t<tr><th></th><th scope=col>Res.Df</th><th scope=col>RSS</th><th scope=col>Df</th><th scope=col>Sum of Sq</th><th scope=col>F</th><th scope=col>Pr(&gt;F)</th></tr>\n",
       "\t<tr><th></th><th scope=col>&lt;dbl&gt;</th><th scope=col>&lt;dbl&gt;</th><th scope=col>&lt;dbl&gt;</th><th scope=col>&lt;dbl&gt;</th><th scope=col>&lt;dbl&gt;</th><th scope=col>&lt;dbl&gt;</th></tr>\n",
       "</thead>\n",
       "<tbody>\n",
       "\t<tr><th scope=row>1</th><td>273</td><td>19450.23</td><td>NA</td><td>       NA</td><td>       NA</td><td>        NA</td></tr>\n",
       "\t<tr><th scope=row>2</th><td>272</td><td>19255.75</td><td> 1</td><td>194.47641</td><td>2.7506154</td><td>0.09837822</td></tr>\n",
       "\t<tr><th scope=row>3</th><td>271</td><td>19189.83</td><td> 1</td><td> 65.92426</td><td>0.9324127</td><td>0.33510085</td></tr>\n",
       "\t<tr><th scope=row>4</th><td>270</td><td>19089.78</td><td> 1</td><td>100.05000</td><td>1.4150769</td><td>0.23526044</td></tr>\n",
       "</tbody>\n",
       "</table>\n"
      ],
      "text/latex": [
       "A anova: 4 × 6\n",
       "\\begin{tabular}{r|llllll}\n",
       "  & Res.Df & RSS & Df & Sum of Sq & F & Pr(>F)\\\\\n",
       "  & <dbl> & <dbl> & <dbl> & <dbl> & <dbl> & <dbl>\\\\\n",
       "\\hline\n",
       "\t1 & 273 & 19450.23 & NA &        NA &        NA &         NA\\\\\n",
       "\t2 & 272 & 19255.75 &  1 & 194.47641 & 2.7506154 & 0.09837822\\\\\n",
       "\t3 & 271 & 19189.83 &  1 &  65.92426 & 0.9324127 & 0.33510085\\\\\n",
       "\t4 & 270 & 19089.78 &  1 & 100.05000 & 1.4150769 & 0.23526044\\\\\n",
       "\\end{tabular}\n"
      ],
      "text/markdown": [
       "\n",
       "A anova: 4 × 6\n",
       "\n",
       "| <!--/--> | Res.Df &lt;dbl&gt; | RSS &lt;dbl&gt; | Df &lt;dbl&gt; | Sum of Sq &lt;dbl&gt; | F &lt;dbl&gt; | Pr(&gt;F) &lt;dbl&gt; |\n",
       "|---|---|---|---|---|---|---|\n",
       "| 1 | 273 | 19450.23 | NA |        NA |        NA |         NA |\n",
       "| 2 | 272 | 19255.75 |  1 | 194.47641 | 2.7506154 | 0.09837822 |\n",
       "| 3 | 271 | 19189.83 |  1 |  65.92426 | 0.9324127 | 0.33510085 |\n",
       "| 4 | 270 | 19089.78 |  1 | 100.05000 | 1.4150769 | 0.23526044 |\n",
       "\n"
      ],
      "text/plain": [
       "  Res.Df RSS      Df Sum of Sq F         Pr(>F)    \n",
       "1 273    19450.23 NA        NA        NA         NA\n",
       "2 272    19255.75  1 194.47641 2.7506154 0.09837822\n",
       "3 271    19189.83  1  65.92426 0.9324127 0.33510085\n",
       "4 270    19089.78  1 100.05000 1.4150769 0.23526044"
      ]
     },
     "metadata": {}
    }
   ],
   "metadata": {}
  },
  {
   "cell_type": "code",
   "execution_count": 20,
   "source": [
    "m2 <- lm(posAffect ~ PSE_subt*range_subt*bias_subt, data = data)\n",
    "summary(m2)"
   ],
   "outputs": [
    {
     "output_type": "display_data",
     "data": {
      "text/plain": [
       "\n",
       "Call:\n",
       "lm(formula = posAffect ~ PSE_subt * range_subt * bias_subt, data = data)\n",
       "\n",
       "Residuals:\n",
       "     Min       1Q   Median       3Q      Max \n",
       "-18.7823  -6.1169  -0.1616   5.3766  18.8035 \n",
       "\n",
       "Coefficients:\n",
       "                              Estimate Std. Error t value Pr(>|t|)\n",
       "(Intercept)                      3.851     28.656   0.134    0.893\n",
       "PSE_subt                        60.375     58.756   1.028    0.305\n",
       "range_subt                      12.027     47.133   0.255    0.799\n",
       "bias_subt                       33.434     34.232   0.977    0.330\n",
       "PSE_subt:range_subt            -61.040     97.565  -0.626    0.532\n",
       "PSE_subt:bias_subt            -101.795     72.674  -1.401    0.162\n",
       "range_subt:bias_subt           -32.030     56.346  -0.568    0.570\n",
       "PSE_subt:range_subt:bias_subt  115.045    119.762   0.961    0.338\n",
       "\n",
       "Residual standard error: 8.408 on 267 degrees of freedom\n",
       "Multiple R-squared:  0.03343,\tAdjusted R-squared:  0.008093 \n",
       "F-statistic: 1.319 on 7 and 267 DF,  p-value: 0.2411\n"
      ]
     },
     "metadata": {}
    }
   ],
   "metadata": {}
  },
  {
   "cell_type": "code",
   "execution_count": 21,
   "source": [
    "anova(m1,m2)"
   ],
   "outputs": [
    {
     "output_type": "display_data",
     "data": {
      "text/html": [
       "<table class=\"dataframe\">\n",
       "<caption>A anova: 2 × 6</caption>\n",
       "<thead>\n",
       "\t<tr><th></th><th scope=col>Res.Df</th><th scope=col>RSS</th><th scope=col>Df</th><th scope=col>Sum of Sq</th><th scope=col>F</th><th scope=col>Pr(&gt;F)</th></tr>\n",
       "\t<tr><th></th><th scope=col>&lt;dbl&gt;</th><th scope=col>&lt;dbl&gt;</th><th scope=col>&lt;dbl&gt;</th><th scope=col>&lt;dbl&gt;</th><th scope=col>&lt;dbl&gt;</th><th scope=col>&lt;dbl&gt;</th></tr>\n",
       "</thead>\n",
       "<tbody>\n",
       "\t<tr><th scope=row>1</th><td>271</td><td>19189.83</td><td>NA</td><td>      NA</td><td>      NA</td><td>       NA</td></tr>\n",
       "\t<tr><th scope=row>2</th><td>267</td><td>18876.47</td><td> 4</td><td>313.3575</td><td>1.108079</td><td>0.3530687</td></tr>\n",
       "</tbody>\n",
       "</table>\n"
      ],
      "text/latex": [
       "A anova: 2 × 6\n",
       "\\begin{tabular}{r|llllll}\n",
       "  & Res.Df & RSS & Df & Sum of Sq & F & Pr(>F)\\\\\n",
       "  & <dbl> & <dbl> & <dbl> & <dbl> & <dbl> & <dbl>\\\\\n",
       "\\hline\n",
       "\t1 & 271 & 19189.83 & NA &       NA &       NA &        NA\\\\\n",
       "\t2 & 267 & 18876.47 &  4 & 313.3575 & 1.108079 & 0.3530687\\\\\n",
       "\\end{tabular}\n"
      ],
      "text/markdown": [
       "\n",
       "A anova: 2 × 6\n",
       "\n",
       "| <!--/--> | Res.Df &lt;dbl&gt; | RSS &lt;dbl&gt; | Df &lt;dbl&gt; | Sum of Sq &lt;dbl&gt; | F &lt;dbl&gt; | Pr(&gt;F) &lt;dbl&gt; |\n",
       "|---|---|---|---|---|---|---|\n",
       "| 1 | 271 | 19189.83 | NA |       NA |       NA |        NA |\n",
       "| 2 | 267 | 18876.47 |  4 | 313.3575 | 1.108079 | 0.3530687 |\n",
       "\n"
      ],
      "text/plain": [
       "  Res.Df RSS      Df Sum of Sq F        Pr(>F)   \n",
       "1 271    19189.83 NA       NA        NA        NA\n",
       "2 267    18876.47  4 313.3575  1.108079 0.3530687"
      ]
     },
     "metadata": {}
    }
   ],
   "metadata": {}
  },
  {
   "cell_type": "code",
   "execution_count": 28,
   "source": [
    "aic_results <- AIC(m1,m2)\n",
    "aic_df <- as.data.frame(aic_results)\n",
    "aic_df"
   ],
   "outputs": [
    {
     "output_type": "display_data",
     "data": {
      "text/html": [
       "<table class=\"dataframe\">\n",
       "<caption>A data.frame: 2 × 2</caption>\n",
       "<thead>\n",
       "\t<tr><th></th><th scope=col>df</th><th scope=col>AIC</th></tr>\n",
       "\t<tr><th></th><th scope=col>&lt;dbl&gt;</th><th scope=col>&lt;dbl&gt;</th></tr>\n",
       "</thead>\n",
       "<tbody>\n",
       "\t<tr><th scope=row>m1</th><td>5</td><td>1957.891</td></tr>\n",
       "\t<tr><th scope=row>m2</th><td>9</td><td>1961.364</td></tr>\n",
       "</tbody>\n",
       "</table>\n"
      ],
      "text/latex": [
       "A data.frame: 2 × 2\n",
       "\\begin{tabular}{r|ll}\n",
       "  & df & AIC\\\\\n",
       "  & <dbl> & <dbl>\\\\\n",
       "\\hline\n",
       "\tm1 & 5 & 1957.891\\\\\n",
       "\tm2 & 9 & 1961.364\\\\\n",
       "\\end{tabular}\n"
      ],
      "text/markdown": [
       "\n",
       "A data.frame: 2 × 2\n",
       "\n",
       "| <!--/--> | df &lt;dbl&gt; | AIC &lt;dbl&gt; |\n",
       "|---|---|---|\n",
       "| m1 | 5 | 1957.891 |\n",
       "| m2 | 9 | 1961.364 |\n",
       "\n"
      ],
      "text/plain": [
       "   df AIC     \n",
       "m1 5  1957.891\n",
       "m2 9  1961.364"
      ]
     },
     "metadata": {}
    }
   ],
   "metadata": {}
  },
  {
   "cell_type": "markdown",
   "source": [
    "- m1 and m2 are similar - so adding interction to subtlety doesnt help\n",
    "- from m1, no effect of subt on posAffect"
   ],
   "metadata": {}
  },
  {
   "cell_type": "code",
   "execution_count": 22,
   "source": [
    "m3 <- lm(posAffect ~ slope+PSE_pf, data = data)\n",
    "summary(m3)"
   ],
   "outputs": [
    {
     "output_type": "display_data",
     "data": {
      "text/plain": [
       "\n",
       "Call:\n",
       "lm(formula = posAffect ~ slope + PSE_pf, data = data)\n",
       "\n",
       "Residuals:\n",
       "     Min       1Q   Median       3Q      Max \n",
       "-23.4267  -6.3960   0.3045   6.0727  17.7673 \n",
       "\n",
       "Coefficients:\n",
       "            Estimate Std. Error t value Pr(>|t|)    \n",
       "(Intercept)   18.930      1.953   9.693   <2e-16 ***\n",
       "slope          4.458      2.380   1.873   0.0622 .  \n",
       "PSE_pf         0.101      3.275   0.031   0.9754    \n",
       "---\n",
       "Signif. codes:  0 ‘***’ 0.001 ‘**’ 0.01 ‘*’ 0.05 ‘.’ 0.1 ‘ ’ 1\n",
       "\n",
       "Residual standard error: 8.417 on 272 degrees of freedom\n",
       "Multiple R-squared:  0.01328,\tAdjusted R-squared:  0.006029 \n",
       "F-statistic: 1.831 on 2 and 272 DF,  p-value: 0.1622\n"
      ]
     },
     "metadata": {}
    }
   ],
   "metadata": {}
  },
  {
   "cell_type": "code",
   "execution_count": 23,
   "source": [
    "# model = Lm(f'Positive_reweigh ~ obj_center_pf*amplitude_pf*bias_xmin_norm_pf', data=df) # ff: anglesm rfx: subject ID\n",
    "# model.fit()\n",
    "m4 <- lm(posAffect ~ slope*PSE_pf, data = data)\n",
    "summary(m4)"
   ],
   "outputs": [
    {
     "output_type": "display_data",
     "data": {
      "text/plain": [
       "\n",
       "Call:\n",
       "lm(formula = posAffect ~ slope * PSE_pf, data = data)\n",
       "\n",
       "Residuals:\n",
       "     Min       1Q   Median       3Q      Max \n",
       "-23.6124  -6.5297   0.2926   6.1723  18.2014 \n",
       "\n",
       "Coefficients:\n",
       "             Estimate Std. Error t value Pr(>|t|)    \n",
       "(Intercept)    17.766      3.130   5.676 3.54e-08 ***\n",
       "slope           7.291      6.405   1.138    0.256    \n",
       "PSE_pf          3.036      6.978   0.435    0.664    \n",
       "slope:PSE_pf   -6.696     14.052  -0.477    0.634    \n",
       "---\n",
       "Signif. codes:  0 ‘***’ 0.001 ‘**’ 0.01 ‘*’ 0.05 ‘.’ 0.1 ‘ ’ 1\n",
       "\n",
       "Residual standard error: 8.429 on 271 degrees of freedom\n",
       "Multiple R-squared:  0.01411,\tAdjusted R-squared:  0.003196 \n",
       "F-statistic: 1.293 on 3 and 271 DF,  p-value: 0.2772\n"
      ]
     },
     "metadata": {}
    }
   ],
   "metadata": {}
  },
  {
   "cell_type": "code",
   "execution_count": 24,
   "source": [
    "anova(m3,m4)"
   ],
   "outputs": [
    {
     "output_type": "display_data",
     "data": {
      "text/html": [
       "<table class=\"dataframe\">\n",
       "<caption>A anova: 2 × 6</caption>\n",
       "<thead>\n",
       "\t<tr><th></th><th scope=col>Res.Df</th><th scope=col>RSS</th><th scope=col>Df</th><th scope=col>Sum of Sq</th><th scope=col>F</th><th scope=col>Pr(&gt;F)</th></tr>\n",
       "\t<tr><th></th><th scope=col>&lt;dbl&gt;</th><th scope=col>&lt;dbl&gt;</th><th scope=col>&lt;dbl&gt;</th><th scope=col>&lt;dbl&gt;</th><th scope=col>&lt;dbl&gt;</th><th scope=col>&lt;dbl&gt;</th></tr>\n",
       "</thead>\n",
       "<tbody>\n",
       "\t<tr><th scope=row>1</th><td>272</td><td>19269.98</td><td>NA</td><td>      NA</td><td>       NA</td><td>       NA</td></tr>\n",
       "\t<tr><th scope=row>2</th><td>271</td><td>19253.85</td><td> 1</td><td>16.13226</td><td>0.2270633</td><td>0.6340939</td></tr>\n",
       "</tbody>\n",
       "</table>\n"
      ],
      "text/latex": [
       "A anova: 2 × 6\n",
       "\\begin{tabular}{r|llllll}\n",
       "  & Res.Df & RSS & Df & Sum of Sq & F & Pr(>F)\\\\\n",
       "  & <dbl> & <dbl> & <dbl> & <dbl> & <dbl> & <dbl>\\\\\n",
       "\\hline\n",
       "\t1 & 272 & 19269.98 & NA &       NA &        NA &        NA\\\\\n",
       "\t2 & 271 & 19253.85 &  1 & 16.13226 & 0.2270633 & 0.6340939\\\\\n",
       "\\end{tabular}\n"
      ],
      "text/markdown": [
       "\n",
       "A anova: 2 × 6\n",
       "\n",
       "| <!--/--> | Res.Df &lt;dbl&gt; | RSS &lt;dbl&gt; | Df &lt;dbl&gt; | Sum of Sq &lt;dbl&gt; | F &lt;dbl&gt; | Pr(&gt;F) &lt;dbl&gt; |\n",
       "|---|---|---|---|---|---|---|\n",
       "| 1 | 272 | 19269.98 | NA |       NA |        NA |        NA |\n",
       "| 2 | 271 | 19253.85 |  1 | 16.13226 | 0.2270633 | 0.6340939 |\n",
       "\n"
      ],
      "text/plain": [
       "  Res.Df RSS      Df Sum of Sq F         Pr(>F)   \n",
       "1 272    19269.98 NA       NA         NA        NA\n",
       "2 271    19253.85  1 16.13226  0.2270633 0.6340939"
      ]
     },
     "metadata": {}
    }
   ],
   "metadata": {}
  },
  {
   "cell_type": "code",
   "execution_count": 27,
   "source": [
    "aic_results <- AIC(m3,m4)\n",
    "aic_df <- as.data.frame(aic_results)\n",
    "aic_df"
   ],
   "outputs": [
    {
     "output_type": "display_data",
     "data": {
      "text/html": [
       "<table class=\"dataframe\">\n",
       "<caption>A data.frame: 2 × 2</caption>\n",
       "<thead>\n",
       "\t<tr><th></th><th scope=col>df</th><th scope=col>AIC</th></tr>\n",
       "\t<tr><th></th><th scope=col>&lt;dbl&gt;</th><th scope=col>&lt;dbl&gt;</th></tr>\n",
       "</thead>\n",
       "<tbody>\n",
       "\t<tr><th scope=row>m3</th><td>4</td><td>1957.038</td></tr>\n",
       "\t<tr><th scope=row>m4</th><td>5</td><td>1958.807</td></tr>\n",
       "</tbody>\n",
       "</table>\n"
      ],
      "text/latex": [
       "A data.frame: 2 × 2\n",
       "\\begin{tabular}{r|ll}\n",
       "  & df & AIC\\\\\n",
       "  & <dbl> & <dbl>\\\\\n",
       "\\hline\n",
       "\tm3 & 4 & 1957.038\\\\\n",
       "\tm4 & 5 & 1958.807\\\\\n",
       "\\end{tabular}\n"
      ],
      "text/markdown": [
       "\n",
       "A data.frame: 2 × 2\n",
       "\n",
       "| <!--/--> | df &lt;dbl&gt; | AIC &lt;dbl&gt; |\n",
       "|---|---|---|\n",
       "| m3 | 4 | 1957.038 |\n",
       "| m4 | 5 | 1958.807 |\n",
       "\n"
      ],
      "text/plain": [
       "   df AIC     \n",
       "m3 4  1957.038\n",
       "m4 5  1958.807"
      ]
     },
     "metadata": {}
    }
   ],
   "metadata": {}
  },
  {
   "cell_type": "markdown",
   "source": [
    "- m3 and m4 are similar - so adding interction to pf doesnt help\n",
    "- from m3, no sig. effect of pf on posAffect, but there's a trend - slope (rate of shift to playfulness) may increase with positive affect score"
   ],
   "metadata": {}
  },
  {
   "cell_type": "code",
   "execution_count": 29,
   "source": [
    "m5 <- lm(posAffect ~ PSE_subt + range_subt + bias_subt + slope + PSE_pf, data = data)\n",
    "summary(m5)"
   ],
   "outputs": [
    {
     "output_type": "display_data",
     "data": {
      "text/plain": [
       "\n",
       "Call:\n",
       "lm(formula = posAffect ~ PSE_subt + range_subt + bias_subt + \n",
       "    slope + PSE_pf, data = data)\n",
       "\n",
       "Residuals:\n",
       "     Min       1Q   Median       3Q      Max \n",
       "-21.3041  -5.6405   0.1719   5.6221  17.6389 \n",
       "\n",
       "Coefficients:\n",
       "            Estimate Std. Error t value Pr(>|t|)    \n",
       "(Intercept)  23.3580     3.6452   6.408 6.58e-10 ***\n",
       "PSE_subt     -2.5178     6.1948  -0.406   0.6847    \n",
       "range_subt   -7.7975     3.7430  -2.083   0.0382 *  \n",
       "bias_subt     0.7242     3.5668   0.203   0.8392    \n",
       "slope         7.2951     2.7727   2.631   0.0090 ** \n",
       "PSE_pf       -0.7744     3.2713  -0.237   0.8131    \n",
       "---\n",
       "Signif. codes:  0 ‘***’ 0.001 ‘**’ 0.01 ‘*’ 0.05 ‘.’ 0.1 ‘ ’ 1\n",
       "\n",
       "Residual standard error: 8.339 on 269 degrees of freedom\n",
       "Multiple R-squared:  0.04217,\tAdjusted R-squared:  0.02436 \n",
       "F-statistic: 2.368 on 5 and 269 DF,  p-value: 0.03987\n"
      ]
     },
     "metadata": {}
    }
   ],
   "metadata": {}
  },
  {
   "cell_type": "code",
   "execution_count": 106,
   "source": [
    "m51 <- lm(posAffect ~ PSE_subt + range_subt + slope + PSE_pf , data = data)\n",
    "summary(m51)"
   ],
   "outputs": [
    {
     "output_type": "display_data",
     "data": {
      "text/plain": [
       "\n",
       "Call:\n",
       "lm(formula = posAffect ~ PSE_subt + range_subt + slope + PSE_pf, \n",
       "    data = data)\n",
       "\n",
       "Residuals:\n",
       "     Min       1Q   Median       3Q      Max \n",
       "-21.7137  -5.6564   0.0345   5.7440  17.7609 \n",
       "\n",
       "Coefficients:\n",
       "            Estimate Std. Error t value Pr(>|t|)    \n",
       "(Intercept)  23.8521     2.7091   8.804  < 2e-16 ***\n",
       "PSE_subt     -3.2686     4.9612  -0.659  0.51056    \n",
       "range_subt   -7.5038     3.4462  -2.177  0.03031 *  \n",
       "slope         7.4468     2.6654   2.794  0.00558 ** \n",
       "PSE_pf       -0.7348     3.2597  -0.225  0.82183    \n",
       "---\n",
       "Signif. codes:  0 ‘***’ 0.001 ‘**’ 0.01 ‘*’ 0.05 ‘.’ 0.1 ‘ ’ 1\n",
       "\n",
       "Residual standard error: 8.324 on 270 degrees of freedom\n",
       "Multiple R-squared:  0.04202,\tAdjusted R-squared:  0.02783 \n",
       "F-statistic: 2.961 on 4 and 270 DF,  p-value: 0.0203\n"
      ]
     },
     "metadata": {}
    }
   ],
   "metadata": {}
  },
  {
   "cell_type": "code",
   "execution_count": 64,
   "source": [
    "m52 <- lm(posAffect ~ PSE_subt + range_subt + slope + PSE_pf, data = data)\n",
    "summary(m52)"
   ],
   "outputs": [
    {
     "output_type": "display_data",
     "data": {
      "text/plain": [
       "\n",
       "Call:\n",
       "lm(formula = posAffect ~ PSE_subt + range_subt + slope + PSE_pf, \n",
       "    data = data)\n",
       "\n",
       "Residuals:\n",
       "     Min       1Q   Median       3Q      Max \n",
       "-21.7137  -5.6564   0.0345   5.7440  17.7609 \n",
       "\n",
       "Coefficients:\n",
       "            Estimate Std. Error t value Pr(>|t|)    \n",
       "(Intercept)  23.8521     2.7091   8.804  < 2e-16 ***\n",
       "PSE_subt     -3.2686     4.9612  -0.659  0.51056    \n",
       "range_subt   -7.5038     3.4462  -2.177  0.03031 *  \n",
       "slope         7.4468     2.6654   2.794  0.00558 ** \n",
       "PSE_pf       -0.7348     3.2597  -0.225  0.82183    \n",
       "---\n",
       "Signif. codes:  0 ‘***’ 0.001 ‘**’ 0.01 ‘*’ 0.05 ‘.’ 0.1 ‘ ’ 1\n",
       "\n",
       "Residual standard error: 8.324 on 270 degrees of freedom\n",
       "Multiple R-squared:  0.04202,\tAdjusted R-squared:  0.02783 \n",
       "F-statistic: 2.961 on 4 and 270 DF,  p-value: 0.0203\n"
      ]
     },
     "metadata": {}
    }
   ],
   "metadata": {}
  },
  {
   "cell_type": "code",
   "execution_count": 65,
   "source": [
    "m53 <- lm(posAffect ~ PSE_subt + range_subt + bias_subt + slope, data = data)\n",
    "summary(m53)"
   ],
   "outputs": [
    {
     "output_type": "display_data",
     "data": {
      "text/plain": [
       "\n",
       "Call:\n",
       "lm(formula = posAffect ~ PSE_subt + range_subt + bias_subt + \n",
       "    slope, data = data)\n",
       "\n",
       "Residuals:\n",
       "    Min      1Q  Median      3Q     Max \n",
       "-21.270  -5.784   0.202   5.575  17.653 \n",
       "\n",
       "Coefficients:\n",
       "            Estimate Std. Error t value Pr(>|t|)    \n",
       "(Intercept)  23.0655     3.4235   6.737  9.7e-11 ***\n",
       "PSE_subt     -2.4682     6.1804  -0.399  0.68994    \n",
       "range_subt   -7.7564     3.7324  -2.078  0.03864 *  \n",
       "bias_subt     0.6739     3.5542   0.190  0.84976    \n",
       "slope         7.1891     2.7316   2.632  0.00898 ** \n",
       "---\n",
       "Signif. codes:  0 ‘***’ 0.001 ‘**’ 0.01 ‘*’ 0.05 ‘.’ 0.1 ‘ ’ 1\n",
       "\n",
       "Residual standard error: 8.324 on 270 degrees of freedom\n",
       "Multiple R-squared:  0.04197,\tAdjusted R-squared:  0.02777 \n",
       "F-statistic: 2.957 on 4 and 270 DF,  p-value: 0.02043\n"
      ]
     },
     "metadata": {}
    }
   ],
   "metadata": {}
  },
  {
   "cell_type": "code",
   "execution_count": 31,
   "source": [
    "anova(m1,m5) "
   ],
   "outputs": [
    {
     "output_type": "display_data",
     "data": {
      "text/html": [
       "<table class=\"dataframe\">\n",
       "<caption>A anova: 2 × 6</caption>\n",
       "<thead>\n",
       "\t<tr><th></th><th scope=col>Res.Df</th><th scope=col>RSS</th><th scope=col>Df</th><th scope=col>Sum of Sq</th><th scope=col>F</th><th scope=col>Pr(&gt;F)</th></tr>\n",
       "\t<tr><th></th><th scope=col>&lt;dbl&gt;</th><th scope=col>&lt;dbl&gt;</th><th scope=col>&lt;dbl&gt;</th><th scope=col>&lt;dbl&gt;</th><th scope=col>&lt;dbl&gt;</th><th scope=col>&lt;dbl&gt;</th></tr>\n",
       "</thead>\n",
       "<tbody>\n",
       "\t<tr><th scope=row>1</th><td>271</td><td>19189.83</td><td>NA</td><td>      NA</td><td>      NA</td><td>        NA</td></tr>\n",
       "\t<tr><th scope=row>2</th><td>269</td><td>18705.95</td><td> 2</td><td>483.8783</td><td>3.479194</td><td>0.03222681</td></tr>\n",
       "</tbody>\n",
       "</table>\n"
      ],
      "text/latex": [
       "A anova: 2 × 6\n",
       "\\begin{tabular}{r|llllll}\n",
       "  & Res.Df & RSS & Df & Sum of Sq & F & Pr(>F)\\\\\n",
       "  & <dbl> & <dbl> & <dbl> & <dbl> & <dbl> & <dbl>\\\\\n",
       "\\hline\n",
       "\t1 & 271 & 19189.83 & NA &       NA &       NA &         NA\\\\\n",
       "\t2 & 269 & 18705.95 &  2 & 483.8783 & 3.479194 & 0.03222681\\\\\n",
       "\\end{tabular}\n"
      ],
      "text/markdown": [
       "\n",
       "A anova: 2 × 6\n",
       "\n",
       "| <!--/--> | Res.Df &lt;dbl&gt; | RSS &lt;dbl&gt; | Df &lt;dbl&gt; | Sum of Sq &lt;dbl&gt; | F &lt;dbl&gt; | Pr(&gt;F) &lt;dbl&gt; |\n",
       "|---|---|---|---|---|---|---|\n",
       "| 1 | 271 | 19189.83 | NA |       NA |       NA |         NA |\n",
       "| 2 | 269 | 18705.95 |  2 | 483.8783 | 3.479194 | 0.03222681 |\n",
       "\n"
      ],
      "text/plain": [
       "  Res.Df RSS      Df Sum of Sq F        Pr(>F)    \n",
       "1 271    19189.83 NA       NA        NA         NA\n",
       "2 269    18705.95  2 483.8783  3.479194 0.03222681"
      ]
     },
     "metadata": {}
    }
   ],
   "metadata": {}
  },
  {
   "cell_type": "code",
   "execution_count": 41,
   "source": [
    "aic_results <- AIC(m1,m5)\n",
    "aic_results"
   ],
   "outputs": [
    {
     "output_type": "display_data",
     "data": {
      "text/html": [
       "<table class=\"dataframe\">\n",
       "<caption>A data.frame: 2 × 2</caption>\n",
       "<thead>\n",
       "\t<tr><th></th><th scope=col>df</th><th scope=col>AIC</th></tr>\n",
       "\t<tr><th></th><th scope=col>&lt;dbl&gt;</th><th scope=col>&lt;dbl&gt;</th></tr>\n",
       "</thead>\n",
       "<tbody>\n",
       "\t<tr><th scope=row>m1</th><td>5</td><td>1957.891</td></tr>\n",
       "\t<tr><th scope=row>m5</th><td>7</td><td>1954.868</td></tr>\n",
       "</tbody>\n",
       "</table>\n"
      ],
      "text/latex": [
       "A data.frame: 2 × 2\n",
       "\\begin{tabular}{r|ll}\n",
       "  & df & AIC\\\\\n",
       "  & <dbl> & <dbl>\\\\\n",
       "\\hline\n",
       "\tm1 & 5 & 1957.891\\\\\n",
       "\tm5 & 7 & 1954.868\\\\\n",
       "\\end{tabular}\n"
      ],
      "text/markdown": [
       "\n",
       "A data.frame: 2 × 2\n",
       "\n",
       "| <!--/--> | df &lt;dbl&gt; | AIC &lt;dbl&gt; |\n",
       "|---|---|---|\n",
       "| m1 | 5 | 1957.891 |\n",
       "| m5 | 7 | 1954.868 |\n",
       "\n"
      ],
      "text/plain": [
       "   df AIC     \n",
       "m1 5  1957.891\n",
       "m5 7  1954.868"
      ]
     },
     "metadata": {}
    }
   ],
   "metadata": {}
  },
  {
   "cell_type": "code",
   "execution_count": 34,
   "source": [
    "anova(m3,m5)"
   ],
   "outputs": [
    {
     "output_type": "display_data",
     "data": {
      "text/html": [
       "<table class=\"dataframe\">\n",
       "<caption>A anova: 2 × 6</caption>\n",
       "<thead>\n",
       "\t<tr><th></th><th scope=col>Res.Df</th><th scope=col>RSS</th><th scope=col>Df</th><th scope=col>Sum of Sq</th><th scope=col>F</th><th scope=col>Pr(&gt;F)</th></tr>\n",
       "\t<tr><th></th><th scope=col>&lt;dbl&gt;</th><th scope=col>&lt;dbl&gt;</th><th scope=col>&lt;dbl&gt;</th><th scope=col>&lt;dbl&gt;</th><th scope=col>&lt;dbl&gt;</th><th scope=col>&lt;dbl&gt;</th></tr>\n",
       "</thead>\n",
       "<tbody>\n",
       "\t<tr><th scope=row>1</th><td>272</td><td>19269.98</td><td>NA</td><td>      NA</td><td>     NA</td><td>        NA</td></tr>\n",
       "\t<tr><th scope=row>2</th><td>269</td><td>18705.95</td><td> 3</td><td>564.0323</td><td>2.70368</td><td>0.04588884</td></tr>\n",
       "</tbody>\n",
       "</table>\n"
      ],
      "text/latex": [
       "A anova: 2 × 6\n",
       "\\begin{tabular}{r|llllll}\n",
       "  & Res.Df & RSS & Df & Sum of Sq & F & Pr(>F)\\\\\n",
       "  & <dbl> & <dbl> & <dbl> & <dbl> & <dbl> & <dbl>\\\\\n",
       "\\hline\n",
       "\t1 & 272 & 19269.98 & NA &       NA &      NA &         NA\\\\\n",
       "\t2 & 269 & 18705.95 &  3 & 564.0323 & 2.70368 & 0.04588884\\\\\n",
       "\\end{tabular}\n"
      ],
      "text/markdown": [
       "\n",
       "A anova: 2 × 6\n",
       "\n",
       "| <!--/--> | Res.Df &lt;dbl&gt; | RSS &lt;dbl&gt; | Df &lt;dbl&gt; | Sum of Sq &lt;dbl&gt; | F &lt;dbl&gt; | Pr(&gt;F) &lt;dbl&gt; |\n",
       "|---|---|---|---|---|---|---|\n",
       "| 1 | 272 | 19269.98 | NA |       NA |      NA |         NA |\n",
       "| 2 | 269 | 18705.95 |  3 | 564.0323 | 2.70368 | 0.04588884 |\n",
       "\n"
      ],
      "text/plain": [
       "  Res.Df RSS      Df Sum of Sq F       Pr(>F)    \n",
       "1 272    19269.98 NA       NA       NA         NA\n",
       "2 269    18705.95  3 564.0323  2.70368 0.04588884"
      ]
     },
     "metadata": {}
    }
   ],
   "metadata": {}
  },
  {
   "cell_type": "code",
   "execution_count": 42,
   "source": [
    "aic_results <- AIC(m3,m5)\n",
    "aic_results"
   ],
   "outputs": [
    {
     "output_type": "display_data",
     "data": {
      "text/html": [
       "<table class=\"dataframe\">\n",
       "<caption>A data.frame: 2 × 2</caption>\n",
       "<thead>\n",
       "\t<tr><th></th><th scope=col>df</th><th scope=col>AIC</th></tr>\n",
       "\t<tr><th></th><th scope=col>&lt;dbl&gt;</th><th scope=col>&lt;dbl&gt;</th></tr>\n",
       "</thead>\n",
       "<tbody>\n",
       "\t<tr><th scope=row>m3</th><td>4</td><td>1957.038</td></tr>\n",
       "\t<tr><th scope=row>m5</th><td>7</td><td>1954.868</td></tr>\n",
       "</tbody>\n",
       "</table>\n"
      ],
      "text/latex": [
       "A data.frame: 2 × 2\n",
       "\\begin{tabular}{r|ll}\n",
       "  & df & AIC\\\\\n",
       "  & <dbl> & <dbl>\\\\\n",
       "\\hline\n",
       "\tm3 & 4 & 1957.038\\\\\n",
       "\tm5 & 7 & 1954.868\\\\\n",
       "\\end{tabular}\n"
      ],
      "text/markdown": [
       "\n",
       "A data.frame: 2 × 2\n",
       "\n",
       "| <!--/--> | df &lt;dbl&gt; | AIC &lt;dbl&gt; |\n",
       "|---|---|---|\n",
       "| m3 | 4 | 1957.038 |\n",
       "| m5 | 7 | 1954.868 |\n",
       "\n"
      ],
      "text/plain": [
       "   df AIC     \n",
       "m3 4  1957.038\n",
       "m5 7  1954.868"
      ]
     },
     "metadata": {}
    }
   ],
   "metadata": {}
  },
  {
   "cell_type": "markdown",
   "source": [
    "- adding pf terms to the subt model and subt terms to the pf model significantly improve the models - so combined is better.\n",
    "- but which subt and pf term helped improve the model? checking that below"
   ],
   "metadata": {}
  },
  {
   "cell_type": "code",
   "execution_count": 59,
   "source": [
    "anova(m3,m51,m52,m5) # both PSE_subt and range_subt helped, not bias_subt. m52 is best."
   ],
   "outputs": [
    {
     "output_type": "display_data",
     "data": {
      "text/html": [
       "<table class=\"dataframe\">\n",
       "<caption>A anova: 4 × 6</caption>\n",
       "<thead>\n",
       "\t<tr><th></th><th scope=col>Res.Df</th><th scope=col>RSS</th><th scope=col>Df</th><th scope=col>Sum of Sq</th><th scope=col>F</th><th scope=col>Pr(&gt;F)</th></tr>\n",
       "\t<tr><th></th><th scope=col>&lt;dbl&gt;</th><th scope=col>&lt;dbl&gt;</th><th scope=col>&lt;dbl&gt;</th><th scope=col>&lt;dbl&gt;</th><th scope=col>&lt;dbl&gt;</th><th scope=col>&lt;dbl&gt;</th></tr>\n",
       "</thead>\n",
       "<tbody>\n",
       "\t<tr><th scope=row>1</th><td>272</td><td>19269.98</td><td>NA</td><td>        NA</td><td>        NA</td><td>        NA</td></tr>\n",
       "\t<tr><th scope=row>2</th><td>271</td><td>19037.35</td><td> 1</td><td>232.633303</td><td>3.34537240</td><td>0.06850124</td></tr>\n",
       "\t<tr><th scope=row>3</th><td>270</td><td>18708.81</td><td> 1</td><td>328.531776</td><td>4.72443595</td><td>0.03060928</td></tr>\n",
       "\t<tr><th scope=row>4</th><td>269</td><td>18705.95</td><td> 1</td><td>  2.867173</td><td>0.04123124</td><td>0.83924572</td></tr>\n",
       "</tbody>\n",
       "</table>\n"
      ],
      "text/latex": [
       "A anova: 4 × 6\n",
       "\\begin{tabular}{r|llllll}\n",
       "  & Res.Df & RSS & Df & Sum of Sq & F & Pr(>F)\\\\\n",
       "  & <dbl> & <dbl> & <dbl> & <dbl> & <dbl> & <dbl>\\\\\n",
       "\\hline\n",
       "\t1 & 272 & 19269.98 & NA &         NA &         NA &         NA\\\\\n",
       "\t2 & 271 & 19037.35 &  1 & 232.633303 & 3.34537240 & 0.06850124\\\\\n",
       "\t3 & 270 & 18708.81 &  1 & 328.531776 & 4.72443595 & 0.03060928\\\\\n",
       "\t4 & 269 & 18705.95 &  1 &   2.867173 & 0.04123124 & 0.83924572\\\\\n",
       "\\end{tabular}\n"
      ],
      "text/markdown": [
       "\n",
       "A anova: 4 × 6\n",
       "\n",
       "| <!--/--> | Res.Df &lt;dbl&gt; | RSS &lt;dbl&gt; | Df &lt;dbl&gt; | Sum of Sq &lt;dbl&gt; | F &lt;dbl&gt; | Pr(&gt;F) &lt;dbl&gt; |\n",
       "|---|---|---|---|---|---|---|\n",
       "| 1 | 272 | 19269.98 | NA |         NA |         NA |         NA |\n",
       "| 2 | 271 | 19037.35 |  1 | 232.633303 | 3.34537240 | 0.06850124 |\n",
       "| 3 | 270 | 18708.81 |  1 | 328.531776 | 4.72443595 | 0.03060928 |\n",
       "| 4 | 269 | 18705.95 |  1 |   2.867173 | 0.04123124 | 0.83924572 |\n",
       "\n"
      ],
      "text/plain": [
       "  Res.Df RSS      Df Sum of Sq  F          Pr(>F)    \n",
       "1 272    19269.98 NA         NA         NA         NA\n",
       "2 271    19037.35  1 232.633303 3.34537240 0.06850124\n",
       "3 270    18708.81  1 328.531776 4.72443595 0.03060928\n",
       "4 269    18705.95  1   2.867173 0.04123124 0.83924572"
      ]
     },
     "metadata": {}
    }
   ],
   "metadata": {}
  },
  {
   "cell_type": "code",
   "execution_count": 102,
   "source": [
    "m51"
   ],
   "outputs": [
    {
     "output_type": "display_data",
     "data": {
      "text/plain": [
       "\n",
       "Call:\n",
       "lm(formula = posAffect ~ PSE_subt + slope + PSE_pf, data = data)\n",
       "\n",
       "Coefficients:\n",
       "(Intercept)     PSE_subt        slope       PSE_pf  \n",
       "    22.0721      -8.1215       4.7473      -0.5545  \n"
      ]
     },
     "metadata": {}
    }
   ],
   "metadata": {}
  },
  {
   "cell_type": "code",
   "execution_count": 84,
   "source": [
    "# anova(m1,m53,m5) # adding slope_pf helped, but not PSE_pf. m53 is best\n",
    "anova(m53,m5) # adding PSE_pf does not help. m53 is best"
   ],
   "outputs": [
    {
     "output_type": "display_data",
     "data": {
      "text/html": [
       "<table class=\"dataframe\">\n",
       "<caption>A anova: 2 × 6</caption>\n",
       "<thead>\n",
       "\t<tr><th></th><th scope=col>Res.Df</th><th scope=col>RSS</th><th scope=col>Df</th><th scope=col>Sum of Sq</th><th scope=col>F</th><th scope=col>Pr(&gt;F)</th></tr>\n",
       "\t<tr><th></th><th scope=col>&lt;dbl&gt;</th><th scope=col>&lt;dbl&gt;</th><th scope=col>&lt;dbl&gt;</th><th scope=col>&lt;dbl&gt;</th><th scope=col>&lt;dbl&gt;</th><th scope=col>&lt;dbl&gt;</th></tr>\n",
       "</thead>\n",
       "<tbody>\n",
       "\t<tr><th scope=row>1</th><td>270</td><td>18709.84</td><td>NA</td><td>      NA</td><td>        NA</td><td>      NA</td></tr>\n",
       "\t<tr><th scope=row>2</th><td>269</td><td>18705.95</td><td> 1</td><td>3.896795</td><td>0.05603768</td><td>0.813052</td></tr>\n",
       "</tbody>\n",
       "</table>\n"
      ],
      "text/latex": [
       "A anova: 2 × 6\n",
       "\\begin{tabular}{r|llllll}\n",
       "  & Res.Df & RSS & Df & Sum of Sq & F & Pr(>F)\\\\\n",
       "  & <dbl> & <dbl> & <dbl> & <dbl> & <dbl> & <dbl>\\\\\n",
       "\\hline\n",
       "\t1 & 270 & 18709.84 & NA &       NA &         NA &       NA\\\\\n",
       "\t2 & 269 & 18705.95 &  1 & 3.896795 & 0.05603768 & 0.813052\\\\\n",
       "\\end{tabular}\n"
      ],
      "text/markdown": [
       "\n",
       "A anova: 2 × 6\n",
       "\n",
       "| <!--/--> | Res.Df &lt;dbl&gt; | RSS &lt;dbl&gt; | Df &lt;dbl&gt; | Sum of Sq &lt;dbl&gt; | F &lt;dbl&gt; | Pr(&gt;F) &lt;dbl&gt; |\n",
       "|---|---|---|---|---|---|---|\n",
       "| 1 | 270 | 18709.84 | NA |       NA |         NA |       NA |\n",
       "| 2 | 269 | 18705.95 |  1 | 3.896795 | 0.05603768 | 0.813052 |\n",
       "\n"
      ],
      "text/plain": [
       "  Res.Df RSS      Df Sum of Sq F          Pr(>F)  \n",
       "1 270    18709.84 NA       NA          NA       NA\n",
       "2 269    18705.95  1 3.896795  0.05603768 0.813052"
      ]
     },
     "metadata": {}
    }
   ],
   "metadata": {}
  },
  {
   "cell_type": "code",
   "execution_count": 87,
   "source": [
    "m54 <- lm(posAffect ~ PSE_subt + range_subt + slope, data = data) # drop bias_subt from m53\n",
    "summary(m54)"
   ],
   "outputs": [
    {
     "output_type": "display_data",
     "data": {
      "text/plain": [
       "\n",
       "Call:\n",
       "lm(formula = posAffect ~ PSE_subt + range_subt + slope, data = data)\n",
       "\n",
       "Residuals:\n",
       "     Min       1Q   Median       3Q      Max \n",
       "-21.6544  -5.8155   0.0802   5.6486  17.7663 \n",
       "\n",
       "Coefficients:\n",
       "            Estimate Std. Error t value Pr(>|t|)    \n",
       "(Intercept)   23.541      2.327  10.117  < 2e-16 ***\n",
       "PSE_subt      -3.172      4.934  -0.643  0.52086    \n",
       "range_subt    -7.484      3.439  -2.176  0.03040 *  \n",
       "slope          7.336      2.615   2.805  0.00539 ** \n",
       "---\n",
       "Signif. codes:  0 ‘***’ 0.001 ‘**’ 0.01 ‘*’ 0.05 ‘.’ 0.1 ‘ ’ 1\n",
       "\n",
       "Residual standard error: 8.31 on 271 degrees of freedom\n",
       "Multiple R-squared:  0.04184,\tAdjusted R-squared:  0.03123 \n",
       "F-statistic: 3.944 on 3 and 271 DF,  p-value: 0.008873\n"
      ]
     },
     "metadata": {}
    }
   ],
   "metadata": {}
  },
  {
   "cell_type": "code",
   "execution_count": 88,
   "source": [
    "anova(m54,m53,m5) # adding bias"
   ],
   "outputs": [
    {
     "output_type": "display_data",
     "data": {
      "text/html": [
       "<table class=\"dataframe\">\n",
       "<caption>A anova: 3 × 6</caption>\n",
       "<thead>\n",
       "\t<tr><th></th><th scope=col>Res.Df</th><th scope=col>RSS</th><th scope=col>Df</th><th scope=col>Sum of Sq</th><th scope=col>F</th><th scope=col>Pr(&gt;F)</th></tr>\n",
       "\t<tr><th></th><th scope=col>&lt;dbl&gt;</th><th scope=col>&lt;dbl&gt;</th><th scope=col>&lt;dbl&gt;</th><th scope=col>&lt;dbl&gt;</th><th scope=col>&lt;dbl&gt;</th><th scope=col>&lt;dbl&gt;</th></tr>\n",
       "</thead>\n",
       "<tbody>\n",
       "\t<tr><th scope=row>1</th><td>271</td><td>18712.33</td><td>NA</td><td>      NA</td><td>        NA</td><td>       NA</td></tr>\n",
       "\t<tr><th scope=row>2</th><td>270</td><td>18709.84</td><td> 1</td><td>2.491249</td><td>0.03582529</td><td>0.8500195</td></tr>\n",
       "\t<tr><th scope=row>3</th><td>269</td><td>18705.95</td><td> 1</td><td>3.896795</td><td>0.05603768</td><td>0.8130520</td></tr>\n",
       "</tbody>\n",
       "</table>\n"
      ],
      "text/latex": [
       "A anova: 3 × 6\n",
       "\\begin{tabular}{r|llllll}\n",
       "  & Res.Df & RSS & Df & Sum of Sq & F & Pr(>F)\\\\\n",
       "  & <dbl> & <dbl> & <dbl> & <dbl> & <dbl> & <dbl>\\\\\n",
       "\\hline\n",
       "\t1 & 271 & 18712.33 & NA &       NA &         NA &        NA\\\\\n",
       "\t2 & 270 & 18709.84 &  1 & 2.491249 & 0.03582529 & 0.8500195\\\\\n",
       "\t3 & 269 & 18705.95 &  1 & 3.896795 & 0.05603768 & 0.8130520\\\\\n",
       "\\end{tabular}\n"
      ],
      "text/markdown": [
       "\n",
       "A anova: 3 × 6\n",
       "\n",
       "| <!--/--> | Res.Df &lt;dbl&gt; | RSS &lt;dbl&gt; | Df &lt;dbl&gt; | Sum of Sq &lt;dbl&gt; | F &lt;dbl&gt; | Pr(&gt;F) &lt;dbl&gt; |\n",
       "|---|---|---|---|---|---|---|\n",
       "| 1 | 271 | 18712.33 | NA |       NA |         NA |        NA |\n",
       "| 2 | 270 | 18709.84 |  1 | 2.491249 | 0.03582529 | 0.8500195 |\n",
       "| 3 | 269 | 18705.95 |  1 | 3.896795 | 0.05603768 | 0.8130520 |\n",
       "\n"
      ],
      "text/plain": [
       "  Res.Df RSS      Df Sum of Sq F          Pr(>F)   \n",
       "1 271    18712.33 NA       NA          NA        NA\n",
       "2 270    18709.84  1 2.491249  0.03582529 0.8500195\n",
       "3 269    18705.95  1 3.896795  0.05603768 0.8130520"
      ]
     },
     "metadata": {}
    }
   ],
   "metadata": {}
  },
  {
   "cell_type": "code",
   "execution_count": 92,
   "source": [
    "m55 <- lm(posAffect ~ PSE_subt + range_subt + bias_subt + sigma + PSE_pf + slope, data = data) # drop bias_subt from m53\n",
    "summary(m55)"
   ],
   "outputs": [
    {
     "output_type": "display_data",
     "data": {
      "text/plain": [
       "\n",
       "Call:\n",
       "lm(formula = posAffect ~ PSE_subt + range_subt + bias_subt + \n",
       "    sigma + PSE_pf + slope, data = data)\n",
       "\n",
       "Residuals:\n",
       "     Min       1Q   Median       3Q      Max \n",
       "-21.3946  -5.7664   0.3238   5.7982  17.4321 \n",
       "\n",
       "Coefficients:\n",
       "            Estimate Std. Error t value Pr(>|t|)    \n",
       "(Intercept)  25.4187     4.0681   6.248 1.62e-09 ***\n",
       "PSE_subt     -2.1267     6.2009  -0.343  0.73189    \n",
       "range_subt   -9.0417     3.8973  -2.320  0.02109 *  \n",
       "bias_subt     0.6503     3.5654   0.182  0.85542    \n",
       "sigma       -13.8669    12.1796  -1.139  0.25591    \n",
       "PSE_pf       -0.5214     3.2770  -0.159  0.87369    \n",
       "slope         7.2030     2.7724   2.598  0.00989 ** \n",
       "---\n",
       "Signif. codes:  0 ‘***’ 0.001 ‘**’ 0.01 ‘*’ 0.05 ‘.’ 0.1 ‘ ’ 1\n",
       "\n",
       "Residual standard error: 8.334 on 268 degrees of freedom\n",
       "Multiple R-squared:  0.04678,\tAdjusted R-squared:  0.02543 \n",
       "F-statistic: 2.192 on 6 and 268 DF,  p-value: 0.0441\n"
      ]
     },
     "metadata": {}
    }
   ],
   "metadata": {}
  },
  {
   "cell_type": "code",
   "execution_count": 93,
   "source": [
    "anova(m5,m55) # adding sigma did not improve the model"
   ],
   "outputs": [
    {
     "output_type": "display_data",
     "data": {
      "text/html": [
       "<table class=\"dataframe\">\n",
       "<caption>A anova: 2 × 6</caption>\n",
       "<thead>\n",
       "\t<tr><th></th><th scope=col>Res.Df</th><th scope=col>RSS</th><th scope=col>Df</th><th scope=col>Sum of Sq</th><th scope=col>F</th><th scope=col>Pr(&gt;F)</th></tr>\n",
       "\t<tr><th></th><th scope=col>&lt;dbl&gt;</th><th scope=col>&lt;dbl&gt;</th><th scope=col>&lt;dbl&gt;</th><th scope=col>&lt;dbl&gt;</th><th scope=col>&lt;dbl&gt;</th><th scope=col>&lt;dbl&gt;</th></tr>\n",
       "</thead>\n",
       "<tbody>\n",
       "\t<tr><th scope=row>1</th><td>269</td><td>18705.95</td><td>NA</td><td>      NA</td><td>      NA</td><td>       NA</td></tr>\n",
       "\t<tr><th scope=row>2</th><td>268</td><td>18615.90</td><td> 1</td><td>90.04189</td><td>1.296269</td><td>0.2559125</td></tr>\n",
       "</tbody>\n",
       "</table>\n"
      ],
      "text/latex": [
       "A anova: 2 × 6\n",
       "\\begin{tabular}{r|llllll}\n",
       "  & Res.Df & RSS & Df & Sum of Sq & F & Pr(>F)\\\\\n",
       "  & <dbl> & <dbl> & <dbl> & <dbl> & <dbl> & <dbl>\\\\\n",
       "\\hline\n",
       "\t1 & 269 & 18705.95 & NA &       NA &       NA &        NA\\\\\n",
       "\t2 & 268 & 18615.90 &  1 & 90.04189 & 1.296269 & 0.2559125\\\\\n",
       "\\end{tabular}\n"
      ],
      "text/markdown": [
       "\n",
       "A anova: 2 × 6\n",
       "\n",
       "| <!--/--> | Res.Df &lt;dbl&gt; | RSS &lt;dbl&gt; | Df &lt;dbl&gt; | Sum of Sq &lt;dbl&gt; | F &lt;dbl&gt; | Pr(&gt;F) &lt;dbl&gt; |\n",
       "|---|---|---|---|---|---|---|\n",
       "| 1 | 269 | 18705.95 | NA |       NA |       NA |        NA |\n",
       "| 2 | 268 | 18615.90 |  1 | 90.04189 | 1.296269 | 0.2559125 |\n",
       "\n"
      ],
      "text/plain": [
       "  Res.Df RSS      Df Sum of Sq F        Pr(>F)   \n",
       "1 269    18705.95 NA       NA        NA        NA\n",
       "2 268    18615.90  1 90.04189  1.296269 0.2559125"
      ]
     },
     "metadata": {}
    }
   ],
   "metadata": {}
  },
  {
   "cell_type": "code",
   "execution_count": 96,
   "source": [
    "m11 <- lm(posAffect ~ PSE_subt + range_subt + bias_subt + sigma, data = data) # drop bias_subt from m53\n",
    "summary(m11)"
   ],
   "outputs": [
    {
     "output_type": "display_data",
     "data": {
      "text/plain": [
       "\n",
       "Call:\n",
       "lm(formula = posAffect ~ PSE_subt + range_subt + bias_subt + \n",
       "    sigma, data = data)\n",
       "\n",
       "Residuals:\n",
       "     Min       1Q   Median       3Q      Max \n",
       "-18.6997  -5.5846  -0.1063   5.6100  18.6052 \n",
       "\n",
       "Coefficients:\n",
       "            Estimate Std. Error t value Pr(>|t|)    \n",
       "(Intercept)   25.590      3.946   6.484 4.22e-10 ***\n",
       "PSE_subt      -1.504      6.247  -0.241    0.810    \n",
       "range_subt    -6.100      3.764  -1.621    0.106    \n",
       "bias_subt      3.242      3.444   0.941    0.347    \n",
       "sigma        -14.581     12.258  -1.190    0.235    \n",
       "---\n",
       "Signif. codes:  0 ‘***’ 0.001 ‘**’ 0.01 ‘*’ 0.05 ‘.’ 0.1 ‘ ’ 1\n",
       "\n",
       "Residual standard error: 8.408 on 270 degrees of freedom\n",
       "Multiple R-squared:  0.02251,\tAdjusted R-squared:  0.00803 \n",
       "F-statistic: 1.555 on 4 and 270 DF,  p-value: 0.1868\n"
      ]
     },
     "metadata": {}
    }
   ],
   "metadata": {}
  },
  {
   "cell_type": "code",
   "execution_count": 97,
   "source": [
    "anova(m1,m11) # adding sigma did not improve the model"
   ],
   "outputs": [
    {
     "output_type": "display_data",
     "data": {
      "text/html": [
       "<table class=\"dataframe\">\n",
       "<caption>A anova: 2 × 6</caption>\n",
       "<thead>\n",
       "\t<tr><th></th><th scope=col>Res.Df</th><th scope=col>RSS</th><th scope=col>Df</th><th scope=col>Sum of Sq</th><th scope=col>F</th><th scope=col>Pr(&gt;F)</th></tr>\n",
       "\t<tr><th></th><th scope=col>&lt;dbl&gt;</th><th scope=col>&lt;dbl&gt;</th><th scope=col>&lt;dbl&gt;</th><th scope=col>&lt;dbl&gt;</th><th scope=col>&lt;dbl&gt;</th><th scope=col>&lt;dbl&gt;</th></tr>\n",
       "</thead>\n",
       "<tbody>\n",
       "\t<tr><th scope=row>1</th><td>271</td><td>19189.83</td><td>NA</td><td>    NA</td><td>      NA</td><td>       NA</td></tr>\n",
       "\t<tr><th scope=row>2</th><td>270</td><td>19089.78</td><td> 1</td><td>100.05</td><td>1.415077</td><td>0.2352604</td></tr>\n",
       "</tbody>\n",
       "</table>\n"
      ],
      "text/latex": [
       "A anova: 2 × 6\n",
       "\\begin{tabular}{r|llllll}\n",
       "  & Res.Df & RSS & Df & Sum of Sq & F & Pr(>F)\\\\\n",
       "  & <dbl> & <dbl> & <dbl> & <dbl> & <dbl> & <dbl>\\\\\n",
       "\\hline\n",
       "\t1 & 271 & 19189.83 & NA &     NA &       NA &        NA\\\\\n",
       "\t2 & 270 & 19089.78 &  1 & 100.05 & 1.415077 & 0.2352604\\\\\n",
       "\\end{tabular}\n"
      ],
      "text/markdown": [
       "\n",
       "A anova: 2 × 6\n",
       "\n",
       "| <!--/--> | Res.Df &lt;dbl&gt; | RSS &lt;dbl&gt; | Df &lt;dbl&gt; | Sum of Sq &lt;dbl&gt; | F &lt;dbl&gt; | Pr(&gt;F) &lt;dbl&gt; |\n",
       "|---|---|---|---|---|---|---|\n",
       "| 1 | 271 | 19189.83 | NA |     NA |       NA |        NA |\n",
       "| 2 | 270 | 19089.78 |  1 | 100.05 | 1.415077 | 0.2352604 |\n",
       "\n"
      ],
      "text/plain": [
       "  Res.Df RSS      Df Sum of Sq F        Pr(>F)   \n",
       "1 271    19189.83 NA     NA          NA        NA\n",
       "2 270    19089.78  1 100.05    1.415077 0.2352604"
      ]
     },
     "metadata": {}
    }
   ],
   "metadata": {}
  },
  {
   "cell_type": "code",
   "execution_count": 98,
   "source": [
    "m56 <- lm(posAffect ~ PSE_subt*range_subt*slope, data = data)\n",
    "summary(m6)"
   ],
   "outputs": [
    {
     "output_type": "display_data",
     "data": {
      "text/plain": [
       "\n",
       "Call:\n",
       "lm(formula = posAffect ~ PSE_subt * slope + PSE_subt * PSE_pf, \n",
       "    data = data)\n",
       "\n",
       "Residuals:\n",
       "    Min      1Q  Median      3Q     Max \n",
       "-21.645  -5.943   0.243   6.083  18.202 \n",
       "\n",
       "Coefficients:\n",
       "                Estimate Std. Error t value Pr(>|t|)    \n",
       "(Intercept)       22.551      6.303   3.578 0.000411 ***\n",
       "PSE_subt          -9.547     16.050  -0.595 0.552443    \n",
       "slope              6.710      8.242   0.814 0.416310    \n",
       "PSE_pf            -4.052     10.178  -0.398 0.690872    \n",
       "PSE_subt:slope    -5.233     20.718  -0.253 0.800802    \n",
       "PSE_subt:PSE_pf    9.791     27.008   0.363 0.717240    \n",
       "---\n",
       "Signif. codes:  0 ‘***’ 0.001 ‘**’ 0.01 ‘*’ 0.05 ‘.’ 0.1 ‘ ’ 1\n",
       "\n",
       "Residual standard error: 8.41 on 269 degrees of freedom\n",
       "Multiple R-squared:  0.02578,\tAdjusted R-squared:  0.007676 \n",
       "F-statistic: 1.424 on 5 and 269 DF,  p-value: 0.2158\n"
      ]
     },
     "metadata": {}
    }
   ],
   "metadata": {}
  },
  {
   "cell_type": "code",
   "execution_count": 100,
   "source": [
    "anova(m5,m56) # main effects model is fine. interactions don't help."
   ],
   "outputs": [
    {
     "output_type": "display_data",
     "data": {
      "text/html": [
       "<table class=\"dataframe\">\n",
       "<caption>A anova: 2 × 6</caption>\n",
       "<thead>\n",
       "\t<tr><th></th><th scope=col>Res.Df</th><th scope=col>RSS</th><th scope=col>Df</th><th scope=col>Sum of Sq</th><th scope=col>F</th><th scope=col>Pr(&gt;F)</th></tr>\n",
       "\t<tr><th></th><th scope=col>&lt;dbl&gt;</th><th scope=col>&lt;dbl&gt;</th><th scope=col>&lt;dbl&gt;</th><th scope=col>&lt;dbl&gt;</th><th scope=col>&lt;dbl&gt;</th><th scope=col>&lt;dbl&gt;</th></tr>\n",
       "</thead>\n",
       "<tbody>\n",
       "\t<tr><th scope=row>1</th><td>269</td><td>18705.95</td><td>NA</td><td>      NA</td><td>      NA</td><td>       NA</td></tr>\n",
       "\t<tr><th scope=row>2</th><td>267</td><td>18612.68</td><td> 2</td><td>93.26958</td><td>0.668979</td><td>0.5130878</td></tr>\n",
       "</tbody>\n",
       "</table>\n"
      ],
      "text/latex": [
       "A anova: 2 × 6\n",
       "\\begin{tabular}{r|llllll}\n",
       "  & Res.Df & RSS & Df & Sum of Sq & F & Pr(>F)\\\\\n",
       "  & <dbl> & <dbl> & <dbl> & <dbl> & <dbl> & <dbl>\\\\\n",
       "\\hline\n",
       "\t1 & 269 & 18705.95 & NA &       NA &       NA &        NA\\\\\n",
       "\t2 & 267 & 18612.68 &  2 & 93.26958 & 0.668979 & 0.5130878\\\\\n",
       "\\end{tabular}\n"
      ],
      "text/markdown": [
       "\n",
       "A anova: 2 × 6\n",
       "\n",
       "| <!--/--> | Res.Df &lt;dbl&gt; | RSS &lt;dbl&gt; | Df &lt;dbl&gt; | Sum of Sq &lt;dbl&gt; | F &lt;dbl&gt; | Pr(&gt;F) &lt;dbl&gt; |\n",
       "|---|---|---|---|---|---|---|\n",
       "| 1 | 269 | 18705.95 | NA |       NA |       NA |        NA |\n",
       "| 2 | 267 | 18612.68 |  2 | 93.26958 | 0.668979 | 0.5130878 |\n",
       "\n"
      ],
      "text/plain": [
       "  Res.Df RSS      Df Sum of Sq F        Pr(>F)   \n",
       "1 269    18705.95 NA       NA        NA        NA\n",
       "2 267    18612.68  2 93.26958  0.668979 0.5130878"
      ]
     },
     "metadata": {}
    }
   ],
   "metadata": {}
  },
  {
   "cell_type": "code",
   "execution_count": 107,
   "source": [
    "mA <- lm(posAffect ~ PSE_subt + range_subt + slope, data = data)\n",
    "summary(mA)"
   ],
   "outputs": [
    {
     "output_type": "display_data",
     "data": {
      "text/plain": [
       "\n",
       "Call:\n",
       "lm(formula = posAffect ~ PSE_subt + range_subt + slope, data = data)\n",
       "\n",
       "Residuals:\n",
       "     Min       1Q   Median       3Q      Max \n",
       "-21.6544  -5.8155   0.0802   5.6486  17.7663 \n",
       "\n",
       "Coefficients:\n",
       "            Estimate Std. Error t value Pr(>|t|)    \n",
       "(Intercept)   23.541      2.327  10.117  < 2e-16 ***\n",
       "PSE_subt      -3.172      4.934  -0.643  0.52086    \n",
       "range_subt    -7.484      3.439  -2.176  0.03040 *  \n",
       "slope          7.336      2.615   2.805  0.00539 ** \n",
       "---\n",
       "Signif. codes:  0 ‘***’ 0.001 ‘**’ 0.01 ‘*’ 0.05 ‘.’ 0.1 ‘ ’ 1\n",
       "\n",
       "Residual standard error: 8.31 on 271 degrees of freedom\n",
       "Multiple R-squared:  0.04184,\tAdjusted R-squared:  0.03123 \n",
       "F-statistic: 3.944 on 3 and 271 DF,  p-value: 0.008873\n"
      ]
     },
     "metadata": {}
    }
   ],
   "metadata": {}
  },
  {
   "cell_type": "code",
   "execution_count": 108,
   "source": [
    "mB <- lm(posAffect ~ PSE_subt*slope + range_subt, data = data)\n",
    "summary(mB)"
   ],
   "outputs": [
    {
     "output_type": "display_data",
     "data": {
      "text/plain": [
       "\n",
       "Call:\n",
       "lm(formula = posAffect ~ PSE_subt * slope + range_subt, data = data)\n",
       "\n",
       "Residuals:\n",
       "     Min       1Q   Median       3Q      Max \n",
       "-21.7594  -5.8102   0.1312   5.6460  17.7136 \n",
       "\n",
       "Coefficients:\n",
       "               Estimate Std. Error t value Pr(>|t|)    \n",
       "(Intercept)      23.900      5.174   4.619 5.97e-06 ***\n",
       "PSE_subt         -4.076     12.652  -0.322   0.7475    \n",
       "slope             6.750      7.980   0.846   0.3983    \n",
       "range_subt       -7.516      3.469  -2.166   0.0312 *  \n",
       "PSE_subt:slope    1.564     20.130   0.078   0.9381    \n",
       "---\n",
       "Signif. codes:  0 ‘***’ 0.001 ‘**’ 0.01 ‘*’ 0.05 ‘.’ 0.1 ‘ ’ 1\n",
       "\n",
       "Residual standard error: 8.325 on 270 degrees of freedom\n",
       "Multiple R-squared:  0.04186,\tAdjusted R-squared:  0.02766 \n",
       "F-statistic: 2.949 on 4 and 270 DF,  p-value: 0.02069\n"
      ]
     },
     "metadata": {}
    }
   ],
   "metadata": {}
  },
  {
   "cell_type": "code",
   "execution_count": 111,
   "source": [
    "mC <- lm(posAffect ~ PSE_subt + range_subt*slope, data = data)\n",
    "summary(mC)"
   ],
   "outputs": [
    {
     "output_type": "display_data",
     "data": {
      "text/plain": [
       "\n",
       "Call:\n",
       "lm(formula = posAffect ~ PSE_subt + range_subt * slope, data = data)\n",
       "\n",
       "Residuals:\n",
       "     Min       1Q   Median       3Q      Max \n",
       "-22.6170  -5.6619   0.4444   5.5625  17.2866 \n",
       "\n",
       "Coefficients:\n",
       "                  Estimate Std. Error t value Pr(>|t|)    \n",
       "(Intercept)       27.76589    5.68350   4.885 1.77e-06 ***\n",
       "PSE_subt          -3.75642    4.98878  -0.753   0.4521    \n",
       "range_subt       -13.29890    7.92203  -1.679   0.0944 .  \n",
       "slope              0.01542    9.35666   0.002   0.9987    \n",
       "range_subt:slope  10.20303   12.52067   0.815   0.4159    \n",
       "---\n",
       "Signif. codes:  0 ‘***’ 0.001 ‘**’ 0.01 ‘*’ 0.05 ‘.’ 0.1 ‘ ’ 1\n",
       "\n",
       "Residual standard error: 8.315 on 270 degrees of freedom\n",
       "Multiple R-squared:  0.04419,\tAdjusted R-squared:  0.03003 \n",
       "F-statistic: 3.121 on 4 and 270 DF,  p-value: 0.0156\n"
      ]
     },
     "metadata": {}
    }
   ],
   "metadata": {}
  },
  {
   "cell_type": "code",
   "execution_count": 113,
   "source": [
    "mD <- lm(posAffect ~ PSE_subt*slope + range_subt*slope, data = data)\n",
    "summary(mD)"
   ],
   "outputs": [
    {
     "output_type": "display_data",
     "data": {
      "text/plain": [
       "\n",
       "Call:\n",
       "lm(formula = posAffect ~ PSE_subt * slope + range_subt * slope, \n",
       "    data = data)\n",
       "\n",
       "Residuals:\n",
       "     Min       1Q   Median       3Q      Max \n",
       "-22.3130  -5.6000   0.0956   5.6223  17.5842 \n",
       "\n",
       "Coefficients:\n",
       "                 Estimate Std. Error t value Pr(>|t|)    \n",
       "(Intercept)        26.926      6.223   4.327 2.13e-05 ***\n",
       "PSE_subt            0.508     13.696   0.037   0.9704    \n",
       "slope               1.296     10.124   0.128   0.8983    \n",
       "range_subt        -14.386      8.575  -1.678   0.0946 .  \n",
       "PSE_subt:slope     -7.586     22.685  -0.334   0.7383    \n",
       "slope:range_subt   12.378     14.127   0.876   0.3817    \n",
       "---\n",
       "Signif. codes:  0 ‘***’ 0.001 ‘**’ 0.01 ‘*’ 0.05 ‘.’ 0.1 ‘ ’ 1\n",
       "\n",
       "Residual standard error: 8.328 on 269 degrees of freedom\n",
       "Multiple R-squared:  0.04459,\tAdjusted R-squared:  0.02683 \n",
       "F-statistic: 2.511 on 5 and 269 DF,  p-value: 0.03045\n"
      ]
     },
     "metadata": {}
    }
   ],
   "metadata": {}
  },
  {
   "cell_type": "code",
   "execution_count": 114,
   "source": [
    "anova(mA,mB,mD)"
   ],
   "outputs": [
    {
     "output_type": "display_data",
     "data": {
      "text/html": [
       "<table class=\"dataframe\">\n",
       "<caption>A anova: 3 × 6</caption>\n",
       "<thead>\n",
       "\t<tr><th></th><th scope=col>Res.Df</th><th scope=col>RSS</th><th scope=col>Df</th><th scope=col>Sum of Sq</th><th scope=col>F</th><th scope=col>Pr(&gt;F)</th></tr>\n",
       "\t<tr><th></th><th scope=col>&lt;dbl&gt;</th><th scope=col>&lt;dbl&gt;</th><th scope=col>&lt;dbl&gt;</th><th scope=col>&lt;dbl&gt;</th><th scope=col>&lt;dbl&gt;</th><th scope=col>&lt;dbl&gt;</th></tr>\n",
       "</thead>\n",
       "<tbody>\n",
       "\t<tr><th scope=row>1</th><td>271</td><td>18712.33</td><td>NA</td><td>        NA</td><td>        NA</td><td>       NA</td></tr>\n",
       "\t<tr><th scope=row>2</th><td>270</td><td>18711.92</td><td> 1</td><td> 0.4182448</td><td>0.00602979</td><td>0.9381628</td></tr>\n",
       "\t<tr><th scope=row>3</th><td>269</td><td>18658.67</td><td> 1</td><td>53.2478760</td><td>0.76766884</td><td>0.3817209</td></tr>\n",
       "</tbody>\n",
       "</table>\n"
      ],
      "text/latex": [
       "A anova: 3 × 6\n",
       "\\begin{tabular}{r|llllll}\n",
       "  & Res.Df & RSS & Df & Sum of Sq & F & Pr(>F)\\\\\n",
       "  & <dbl> & <dbl> & <dbl> & <dbl> & <dbl> & <dbl>\\\\\n",
       "\\hline\n",
       "\t1 & 271 & 18712.33 & NA &         NA &         NA &        NA\\\\\n",
       "\t2 & 270 & 18711.92 &  1 &  0.4182448 & 0.00602979 & 0.9381628\\\\\n",
       "\t3 & 269 & 18658.67 &  1 & 53.2478760 & 0.76766884 & 0.3817209\\\\\n",
       "\\end{tabular}\n"
      ],
      "text/markdown": [
       "\n",
       "A anova: 3 × 6\n",
       "\n",
       "| <!--/--> | Res.Df &lt;dbl&gt; | RSS &lt;dbl&gt; | Df &lt;dbl&gt; | Sum of Sq &lt;dbl&gt; | F &lt;dbl&gt; | Pr(&gt;F) &lt;dbl&gt; |\n",
       "|---|---|---|---|---|---|---|\n",
       "| 1 | 271 | 18712.33 | NA |         NA |         NA |        NA |\n",
       "| 2 | 270 | 18711.92 |  1 |  0.4182448 | 0.00602979 | 0.9381628 |\n",
       "| 3 | 269 | 18658.67 |  1 | 53.2478760 | 0.76766884 | 0.3817209 |\n",
       "\n"
      ],
      "text/plain": [
       "  Res.Df RSS      Df Sum of Sq  F          Pr(>F)   \n",
       "1 271    18712.33 NA         NA         NA        NA\n",
       "2 270    18711.92  1  0.4182448 0.00602979 0.9381628\n",
       "3 269    18658.67  1 53.2478760 0.76766884 0.3817209"
      ]
     },
     "metadata": {}
    }
   ],
   "metadata": {}
  },
  {
   "cell_type": "code",
   "execution_count": 116,
   "source": [
    "anova(mA,mC,mD)"
   ],
   "outputs": [
    {
     "output_type": "display_data",
     "data": {
      "text/html": [
       "<table class=\"dataframe\">\n",
       "<caption>A anova: 3 × 6</caption>\n",
       "<thead>\n",
       "\t<tr><th></th><th scope=col>Res.Df</th><th scope=col>RSS</th><th scope=col>Df</th><th scope=col>Sum of Sq</th><th scope=col>F</th><th scope=col>Pr(&gt;F)</th></tr>\n",
       "\t<tr><th></th><th scope=col>&lt;dbl&gt;</th><th scope=col>&lt;dbl&gt;</th><th scope=col>&lt;dbl&gt;</th><th scope=col>&lt;dbl&gt;</th><th scope=col>&lt;dbl&gt;</th><th scope=col>&lt;dbl&gt;</th></tr>\n",
       "</thead>\n",
       "<tbody>\n",
       "\t<tr><th scope=row>1</th><td>271</td><td>18712.33</td><td>NA</td><td>       NA</td><td>       NA</td><td>       NA</td></tr>\n",
       "\t<tr><th scope=row>2</th><td>270</td><td>18666.43</td><td> 1</td><td>45.909322</td><td>0.6618697</td><td>0.4166202</td></tr>\n",
       "\t<tr><th scope=row>3</th><td>269</td><td>18658.67</td><td> 1</td><td> 7.756799</td><td>0.1118289</td><td>0.7383320</td></tr>\n",
       "</tbody>\n",
       "</table>\n"
      ],
      "text/latex": [
       "A anova: 3 × 6\n",
       "\\begin{tabular}{r|llllll}\n",
       "  & Res.Df & RSS & Df & Sum of Sq & F & Pr(>F)\\\\\n",
       "  & <dbl> & <dbl> & <dbl> & <dbl> & <dbl> & <dbl>\\\\\n",
       "\\hline\n",
       "\t1 & 271 & 18712.33 & NA &        NA &        NA &        NA\\\\\n",
       "\t2 & 270 & 18666.43 &  1 & 45.909322 & 0.6618697 & 0.4166202\\\\\n",
       "\t3 & 269 & 18658.67 &  1 &  7.756799 & 0.1118289 & 0.7383320\\\\\n",
       "\\end{tabular}\n"
      ],
      "text/markdown": [
       "\n",
       "A anova: 3 × 6\n",
       "\n",
       "| <!--/--> | Res.Df &lt;dbl&gt; | RSS &lt;dbl&gt; | Df &lt;dbl&gt; | Sum of Sq &lt;dbl&gt; | F &lt;dbl&gt; | Pr(&gt;F) &lt;dbl&gt; |\n",
       "|---|---|---|---|---|---|---|\n",
       "| 1 | 271 | 18712.33 | NA |        NA |        NA |        NA |\n",
       "| 2 | 270 | 18666.43 |  1 | 45.909322 | 0.6618697 | 0.4166202 |\n",
       "| 3 | 269 | 18658.67 |  1 |  7.756799 | 0.1118289 | 0.7383320 |\n",
       "\n"
      ],
      "text/plain": [
       "  Res.Df RSS      Df Sum of Sq F         Pr(>F)   \n",
       "1 271    18712.33 NA        NA        NA        NA\n",
       "2 270    18666.43  1 45.909322 0.6618697 0.4166202\n",
       "3 269    18658.67  1  7.756799 0.1118289 0.7383320"
      ]
     },
     "metadata": {}
    }
   ],
   "metadata": {}
  },
  {
   "cell_type": "markdown",
   "source": [
    "- the without-interaction models work best"
   ],
   "metadata": {}
  },
  {
   "cell_type": "code",
   "execution_count": 68,
   "source": [
    "m6 <- lm(posAffect ~ PSE_subt*slope + PSE_subt*PSE_pf, data = data)\n",
    "summary(m6)"
   ],
   "outputs": [
    {
     "output_type": "display_data",
     "data": {
      "text/plain": [
       "\n",
       "Call:\n",
       "lm(formula = posAffect ~ PSE_subt * slope + PSE_subt * PSE_pf, \n",
       "    data = data)\n",
       "\n",
       "Residuals:\n",
       "    Min      1Q  Median      3Q     Max \n",
       "-21.645  -5.943   0.243   6.083  18.202 \n",
       "\n",
       "Coefficients:\n",
       "                Estimate Std. Error t value Pr(>|t|)    \n",
       "(Intercept)       22.551      6.303   3.578 0.000411 ***\n",
       "PSE_subt          -9.547     16.050  -0.595 0.552443    \n",
       "slope              6.710      8.242   0.814 0.416310    \n",
       "PSE_pf            -4.052     10.178  -0.398 0.690872    \n",
       "PSE_subt:slope    -5.233     20.718  -0.253 0.800802    \n",
       "PSE_subt:PSE_pf    9.791     27.008   0.363 0.717240    \n",
       "---\n",
       "Signif. codes:  0 ‘***’ 0.001 ‘**’ 0.01 ‘*’ 0.05 ‘.’ 0.1 ‘ ’ 1\n",
       "\n",
       "Residual standard error: 8.41 on 269 degrees of freedom\n",
       "Multiple R-squared:  0.02578,\tAdjusted R-squared:  0.007676 \n",
       "F-statistic: 1.424 on 5 and 269 DF,  p-value: 0.2158\n"
      ]
     },
     "metadata": {}
    }
   ],
   "metadata": {}
  },
  {
   "cell_type": "code",
   "execution_count": 69,
   "source": [
    "anova(m3,m6) # not sig different"
   ],
   "outputs": [
    {
     "output_type": "display_data",
     "data": {
      "text/html": [
       "<table class=\"dataframe\">\n",
       "<caption>A anova: 2 × 6</caption>\n",
       "<thead>\n",
       "\t<tr><th></th><th scope=col>Res.Df</th><th scope=col>RSS</th><th scope=col>Df</th><th scope=col>Sum of Sq</th><th scope=col>F</th><th scope=col>Pr(&gt;F)</th></tr>\n",
       "\t<tr><th></th><th scope=col>&lt;dbl&gt;</th><th scope=col>&lt;dbl&gt;</th><th scope=col>&lt;dbl&gt;</th><th scope=col>&lt;dbl&gt;</th><th scope=col>&lt;dbl&gt;</th><th scope=col>&lt;dbl&gt;</th></tr>\n",
       "</thead>\n",
       "<tbody>\n",
       "\t<tr><th scope=row>1</th><td>272</td><td>19269.98</td><td>NA</td><td>     NA</td><td>      NA</td><td>       NA</td></tr>\n",
       "\t<tr><th scope=row>2</th><td>269</td><td>19025.85</td><td> 3</td><td>244.126</td><td>1.150538</td><td>0.3291561</td></tr>\n",
       "</tbody>\n",
       "</table>\n"
      ],
      "text/latex": [
       "A anova: 2 × 6\n",
       "\\begin{tabular}{r|llllll}\n",
       "  & Res.Df & RSS & Df & Sum of Sq & F & Pr(>F)\\\\\n",
       "  & <dbl> & <dbl> & <dbl> & <dbl> & <dbl> & <dbl>\\\\\n",
       "\\hline\n",
       "\t1 & 272 & 19269.98 & NA &      NA &       NA &        NA\\\\\n",
       "\t2 & 269 & 19025.85 &  3 & 244.126 & 1.150538 & 0.3291561\\\\\n",
       "\\end{tabular}\n"
      ],
      "text/markdown": [
       "\n",
       "A anova: 2 × 6\n",
       "\n",
       "| <!--/--> | Res.Df &lt;dbl&gt; | RSS &lt;dbl&gt; | Df &lt;dbl&gt; | Sum of Sq &lt;dbl&gt; | F &lt;dbl&gt; | Pr(&gt;F) &lt;dbl&gt; |\n",
       "|---|---|---|---|---|---|---|\n",
       "| 1 | 272 | 19269.98 | NA |      NA |       NA |        NA |\n",
       "| 2 | 269 | 19025.85 |  3 | 244.126 | 1.150538 | 0.3291561 |\n",
       "\n"
      ],
      "text/plain": [
       "  Res.Df RSS      Df Sum of Sq F        Pr(>F)   \n",
       "1 272    19269.98 NA      NA         NA        NA\n",
       "2 269    19025.85  3 244.126   1.150538 0.3291561"
      ]
     },
     "metadata": {}
    }
   ],
   "metadata": {}
  },
  {
   "cell_type": "code",
   "execution_count": 70,
   "source": [
    "m7 <- lm(posAffect ~ range_subt*slope + range_subt*PSE_pf, data = data)\n",
    "summary(m7)"
   ],
   "outputs": [
    {
     "output_type": "display_data",
     "data": {
      "text/plain": [
       "\n",
       "Call:\n",
       "lm(formula = posAffect ~ range_subt * slope + range_subt * PSE_pf, \n",
       "    data = data)\n",
       "\n",
       "Residuals:\n",
       "     Min       1Q   Median       3Q      Max \n",
       "-23.7884  -5.3685   0.3827   5.7286  17.2194 \n",
       "\n",
       "Coefficients:\n",
       "                  Estimate Std. Error t value Pr(>|t|)   \n",
       "(Intercept)         21.078      6.707   3.143  0.00186 **\n",
       "range_subt          -5.429      9.804  -0.554  0.58022   \n",
       "slope               -1.546      9.481  -0.163  0.87062   \n",
       "PSE_pf              15.810     11.891   1.329  0.18481   \n",
       "range_subt:slope    13.001     12.755   1.019  0.30898   \n",
       "range_subt:PSE_pf  -24.218     17.070  -1.419  0.15713   \n",
       "---\n",
       "Signif. codes:  0 ‘***’ 0.001 ‘**’ 0.01 ‘*’ 0.05 ‘.’ 0.1 ‘ ’ 1\n",
       "\n",
       "Residual standard error: 8.308 on 269 degrees of freedom\n",
       "Multiple R-squared:  0.04935,\tAdjusted R-squared:  0.03168 \n",
       "F-statistic: 2.793 on 5 and 269 DF,  p-value: 0.0177\n"
      ]
     },
     "metadata": {}
    }
   ],
   "metadata": {}
  },
  {
   "cell_type": "code",
   "execution_count": 71,
   "source": [
    "m71 <- lm(posAffect ~ range_subt + slope + PSE_pf, data = data)\n",
    "summary(m71)"
   ],
   "outputs": [
    {
     "output_type": "display_data",
     "data": {
      "text/plain": [
       "\n",
       "Call:\n",
       "lm(formula = posAffect ~ range_subt + slope + PSE_pf, data = data)\n",
       "\n",
       "Residuals:\n",
       "     Min       1Q   Median       3Q      Max \n",
       "-22.0763  -5.5995   0.2836   5.8088  17.5791 \n",
       "\n",
       "Coefficients:\n",
       "            Estimate Std. Error t value Pr(>|t|)    \n",
       "(Intercept)  23.0847     2.4434   9.448  < 2e-16 ***\n",
       "range_subt   -8.5238     3.0757  -2.771  0.00597 ** \n",
       "slope         7.7209     2.6299   2.936  0.00361 ** \n",
       "PSE_pf       -0.5487     3.2440  -0.169  0.86581    \n",
       "---\n",
       "Signif. codes:  0 ‘***’ 0.001 ‘**’ 0.01 ‘*’ 0.05 ‘.’ 0.1 ‘ ’ 1\n",
       "\n",
       "Residual standard error: 8.315 on 271 degrees of freedom\n",
       "Multiple R-squared:  0.04048,\tAdjusted R-squared:  0.02986 \n",
       "F-statistic: 3.811 on 3 and 271 DF,  p-value: 0.0106\n"
      ]
     },
     "metadata": {}
    }
   ],
   "metadata": {}
  },
  {
   "cell_type": "code",
   "execution_count": 72,
   "source": [
    "m72 <- lm(posAffect ~ range_subt*slope + PSE_pf, data = data)\n",
    "summary(m72)"
   ],
   "outputs": [
    {
     "output_type": "display_data",
     "data": {
      "text/plain": [
       "\n",
       "Call:\n",
       "lm(formula = posAffect ~ range_subt * slope + PSE_pf, data = data)\n",
       "\n",
       "Residuals:\n",
       "     Min       1Q   Median       3Q      Max \n",
       "-22.9486  -5.5948   0.3834   5.7048  17.1551 \n",
       "\n",
       "Coefficients:\n",
       "                 Estimate Std. Error t value Pr(>|t|)    \n",
       "(Intercept)       26.5539     5.4953   4.832 2.27e-06 ***\n",
       "range_subt       -13.6644     7.9154  -1.726   0.0854 .  \n",
       "slope              1.4635     9.2584   0.158   0.8745    \n",
       "PSE_pf            -0.4205     3.2521  -0.129   0.8972    \n",
       "range_subt:slope   8.7573    12.4225   0.705   0.4814    \n",
       "---\n",
       "Signif. codes:  0 ‘***’ 0.001 ‘**’ 0.01 ‘*’ 0.05 ‘.’ 0.1 ‘ ’ 1\n",
       "\n",
       "Residual standard error: 8.323 on 270 degrees of freedom\n",
       "Multiple R-squared:  0.04224,\tAdjusted R-squared:  0.02805 \n",
       "F-statistic: 2.977 on 4 and 270 DF,  p-value: 0.01976\n"
      ]
     },
     "metadata": {}
    }
   ],
   "metadata": {}
  },
  {
   "cell_type": "code",
   "execution_count": 73,
   "source": [
    "anova(m3,m71,m72,m7) # adding the range_subt term improves the model but not interactions between range_subt and the two pf terms"
   ],
   "outputs": [
    {
     "output_type": "display_data",
     "data": {
      "text/html": [
       "<table class=\"dataframe\">\n",
       "<caption>A anova: 4 × 6</caption>\n",
       "<thead>\n",
       "\t<tr><th></th><th scope=col>Res.Df</th><th scope=col>RSS</th><th scope=col>Df</th><th scope=col>Sum of Sq</th><th scope=col>F</th><th scope=col>Pr(&gt;F)</th></tr>\n",
       "\t<tr><th></th><th scope=col>&lt;dbl&gt;</th><th scope=col>&lt;dbl&gt;</th><th scope=col>&lt;dbl&gt;</th><th scope=col>&lt;dbl&gt;</th><th scope=col>&lt;dbl&gt;</th><th scope=col>&lt;dbl&gt;</th></tr>\n",
       "</thead>\n",
       "<tbody>\n",
       "\t<tr><th scope=row>1</th><td>272</td><td>19269.98</td><td>NA</td><td>       NA</td><td>       NA</td><td>         NA</td></tr>\n",
       "\t<tr><th scope=row>2</th><td>271</td><td>18738.89</td><td> 1</td><td>531.08718</td><td>7.6950314</td><td>0.005925014</td></tr>\n",
       "\t<tr><th scope=row>3</th><td>270</td><td>18704.46</td><td> 1</td><td> 34.42732</td><td>0.4988246</td><td>0.480628319</td></tr>\n",
       "\t<tr><th scope=row>4</th><td>269</td><td>18565.54</td><td> 1</td><td>138.91983</td><td>2.0128381</td><td>0.157130868</td></tr>\n",
       "</tbody>\n",
       "</table>\n"
      ],
      "text/latex": [
       "A anova: 4 × 6\n",
       "\\begin{tabular}{r|llllll}\n",
       "  & Res.Df & RSS & Df & Sum of Sq & F & Pr(>F)\\\\\n",
       "  & <dbl> & <dbl> & <dbl> & <dbl> & <dbl> & <dbl>\\\\\n",
       "\\hline\n",
       "\t1 & 272 & 19269.98 & NA &        NA &        NA &          NA\\\\\n",
       "\t2 & 271 & 18738.89 &  1 & 531.08718 & 7.6950314 & 0.005925014\\\\\n",
       "\t3 & 270 & 18704.46 &  1 &  34.42732 & 0.4988246 & 0.480628319\\\\\n",
       "\t4 & 269 & 18565.54 &  1 & 138.91983 & 2.0128381 & 0.157130868\\\\\n",
       "\\end{tabular}\n"
      ],
      "text/markdown": [
       "\n",
       "A anova: 4 × 6\n",
       "\n",
       "| <!--/--> | Res.Df &lt;dbl&gt; | RSS &lt;dbl&gt; | Df &lt;dbl&gt; | Sum of Sq &lt;dbl&gt; | F &lt;dbl&gt; | Pr(&gt;F) &lt;dbl&gt; |\n",
       "|---|---|---|---|---|---|---|\n",
       "| 1 | 272 | 19269.98 | NA |        NA |        NA |          NA |\n",
       "| 2 | 271 | 18738.89 |  1 | 531.08718 | 7.6950314 | 0.005925014 |\n",
       "| 3 | 270 | 18704.46 |  1 |  34.42732 | 0.4988246 | 0.480628319 |\n",
       "| 4 | 269 | 18565.54 |  1 | 138.91983 | 2.0128381 | 0.157130868 |\n",
       "\n"
      ],
      "text/plain": [
       "  Res.Df RSS      Df Sum of Sq F         Pr(>F)     \n",
       "1 272    19269.98 NA        NA        NA          NA\n",
       "2 271    18738.89  1 531.08718 7.6950314 0.005925014\n",
       "3 270    18704.46  1  34.42732 0.4988246 0.480628319\n",
       "4 269    18565.54  1 138.91983 2.0128381 0.157130868"
      ]
     },
     "metadata": {}
    }
   ],
   "metadata": {}
  },
  {
   "cell_type": "code",
   "execution_count": 55,
   "source": [
    "anova(m3,m71,m5) # adding the range_subt term improves the pf model  but not bias_subt and PSE_subt"
   ],
   "outputs": [
    {
     "output_type": "display_data",
     "data": {
      "text/html": [
       "<table class=\"dataframe\">\n",
       "<caption>A anova: 3 × 6</caption>\n",
       "<thead>\n",
       "\t<tr><th></th><th scope=col>Res.Df</th><th scope=col>RSS</th><th scope=col>Df</th><th scope=col>Sum of Sq</th><th scope=col>F</th><th scope=col>Pr(&gt;F)</th></tr>\n",
       "\t<tr><th></th><th scope=col>&lt;dbl&gt;</th><th scope=col>&lt;dbl&gt;</th><th scope=col>&lt;dbl&gt;</th><th scope=col>&lt;dbl&gt;</th><th scope=col>&lt;dbl&gt;</th><th scope=col>&lt;dbl&gt;</th></tr>\n",
       "</thead>\n",
       "<tbody>\n",
       "\t<tr><th scope=row>1</th><td>272</td><td>19269.98</td><td>NA</td><td>       NA</td><td>       NA</td><td>         NA</td></tr>\n",
       "\t<tr><th scope=row>2</th><td>271</td><td>18738.89</td><td> 1</td><td>531.08718</td><td>7.6372745</td><td>0.006112226</td></tr>\n",
       "\t<tr><th scope=row>3</th><td>269</td><td>18705.95</td><td> 2</td><td> 32.94508</td><td>0.2368826</td><td>0.789248371</td></tr>\n",
       "</tbody>\n",
       "</table>\n"
      ],
      "text/latex": [
       "A anova: 3 × 6\n",
       "\\begin{tabular}{r|llllll}\n",
       "  & Res.Df & RSS & Df & Sum of Sq & F & Pr(>F)\\\\\n",
       "  & <dbl> & <dbl> & <dbl> & <dbl> & <dbl> & <dbl>\\\\\n",
       "\\hline\n",
       "\t1 & 272 & 19269.98 & NA &        NA &        NA &          NA\\\\\n",
       "\t2 & 271 & 18738.89 &  1 & 531.08718 & 7.6372745 & 0.006112226\\\\\n",
       "\t3 & 269 & 18705.95 &  2 &  32.94508 & 0.2368826 & 0.789248371\\\\\n",
       "\\end{tabular}\n"
      ],
      "text/markdown": [
       "\n",
       "A anova: 3 × 6\n",
       "\n",
       "| <!--/--> | Res.Df &lt;dbl&gt; | RSS &lt;dbl&gt; | Df &lt;dbl&gt; | Sum of Sq &lt;dbl&gt; | F &lt;dbl&gt; | Pr(&gt;F) &lt;dbl&gt; |\n",
       "|---|---|---|---|---|---|---|\n",
       "| 1 | 272 | 19269.98 | NA |        NA |        NA |          NA |\n",
       "| 2 | 271 | 18738.89 |  1 | 531.08718 | 7.6372745 | 0.006112226 |\n",
       "| 3 | 269 | 18705.95 |  2 |  32.94508 | 0.2368826 | 0.789248371 |\n",
       "\n"
      ],
      "text/plain": [
       "  Res.Df RSS      Df Sum of Sq F         Pr(>F)     \n",
       "1 272    19269.98 NA        NA        NA          NA\n",
       "2 271    18738.89  1 531.08718 7.6372745 0.006112226\n",
       "3 269    18705.95  2  32.94508 0.2368826 0.789248371"
      ]
     },
     "metadata": {}
    }
   ],
   "metadata": {}
  },
  {
   "cell_type": "markdown",
   "source": [
    "- models with range_subt and slope make the most sense"
   ],
   "metadata": {}
  },
  {
   "cell_type": "code",
   "execution_count": 61,
   "source": [
    "# m8 <- lm(posAffect ~ bias_subt*slope + bias_subt*PSE_pf, data = data)\n",
    "# summary(m8)"
   ],
   "outputs": [
    {
     "output_type": "display_data",
     "data": {
      "text/plain": [
       "\n",
       "Call:\n",
       "lm(formula = posAffect ~ bias_subt * slope + bias_subt * PSE_pf, \n",
       "    data = data)\n",
       "\n",
       "Residuals:\n",
       "     Min       1Q   Median       3Q      Max \n",
       "-21.7612  -6.2103   0.0842   5.9223  19.4250 \n",
       "\n",
       "Coefficients:\n",
       "                 Estimate Std. Error t value Pr(>|t|)  \n",
       "(Intercept)         8.978      6.710   1.338   0.1820  \n",
       "bias_subt          14.119      9.339   1.512   0.1318  \n",
       "slope               2.989      8.678   0.344   0.7308  \n",
       "PSE_pf             23.596     12.723   1.855   0.0648 .\n",
       "bias_subt:slope     0.998     11.182   0.089   0.9290  \n",
       "bias_subt:PSE_pf  -31.448     16.301  -1.929   0.0548 .\n",
       "---\n",
       "Signif. codes:  0 ‘***’ 0.001 ‘**’ 0.01 ‘*’ 0.05 ‘.’ 0.1 ‘ ’ 1\n",
       "\n",
       "Residual standard error: 8.402 on 269 degrees of freedom\n",
       "Multiple R-squared:  0.02753,\tAdjusted R-squared:  0.009458 \n",
       "F-statistic: 1.523 on 5 and 269 DF,  p-value: 0.1827\n"
      ]
     },
     "metadata": {}
    }
   ],
   "metadata": {}
  },
  {
   "cell_type": "code",
   "execution_count": 74,
   "source": [
    "m9 <- lm(posAffect ~ bias_subt*slope + PSE_subt*slope + range_subt*slope, data = data)\n",
    "summary(m9)"
   ],
   "outputs": [
    {
     "output_type": "display_data",
     "data": {
      "text/plain": [
       "\n",
       "Call:\n",
       "lm(formula = posAffect ~ bias_subt * slope + PSE_subt * slope + \n",
       "    range_subt * slope, data = data)\n",
       "\n",
       "Residuals:\n",
       "     Min       1Q   Median       3Q      Max \n",
       "-24.1646  -5.6198   0.1829   5.6181  18.4171 \n",
       "\n",
       "Coefficients:\n",
       "                 Estimate Std. Error t value Pr(>|t|)  \n",
       "(Intercept)        19.939     10.479   1.903   0.0581 .\n",
       "bias_subt           8.277     10.023   0.826   0.4096  \n",
       "slope              11.397     15.804   0.721   0.4715  \n",
       "PSE_subt           10.742     18.379   0.584   0.5594  \n",
       "range_subt        -18.257      9.740  -1.874   0.0620 .\n",
       "bias_subt:slope   -11.982     14.325  -0.836   0.4036  \n",
       "slope:PSE_subt    -22.968     29.305  -0.784   0.4339  \n",
       "slope:range_subt   18.500     16.047   1.153   0.2500  \n",
       "---\n",
       "Signif. codes:  0 ‘***’ 0.001 ‘**’ 0.01 ‘*’ 0.05 ‘.’ 0.1 ‘ ’ 1\n",
       "\n",
       "Residual standard error: 8.348 on 267 degrees of freedom\n",
       "Multiple R-squared:  0.04714,\tAdjusted R-squared:  0.02216 \n",
       "F-statistic: 1.887 on 7 and 267 DF,  p-value: 0.07181\n"
      ]
     },
     "metadata": {}
    }
   ],
   "metadata": {}
  },
  {
   "cell_type": "code",
   "execution_count": 81,
   "source": [
    "anova(m5,m9) # m5 better"
   ],
   "outputs": [
    {
     "output_type": "display_data",
     "data": {
      "text/html": [
       "<table class=\"dataframe\">\n",
       "<caption>A anova: 2 × 6</caption>\n",
       "<thead>\n",
       "\t<tr><th></th><th scope=col>Res.Df</th><th scope=col>RSS</th><th scope=col>Df</th><th scope=col>Sum of Sq</th><th scope=col>F</th><th scope=col>Pr(&gt;F)</th></tr>\n",
       "\t<tr><th></th><th scope=col>&lt;dbl&gt;</th><th scope=col>&lt;dbl&gt;</th><th scope=col>&lt;dbl&gt;</th><th scope=col>&lt;dbl&gt;</th><th scope=col>&lt;dbl&gt;</th><th scope=col>&lt;dbl&gt;</th></tr>\n",
       "</thead>\n",
       "<tbody>\n",
       "\t<tr><th scope=row>1</th><td>269</td><td>18705.95</td><td>NA</td><td>     NA</td><td>       NA</td><td>       NA</td></tr>\n",
       "\t<tr><th scope=row>2</th><td>267</td><td>18608.82</td><td> 2</td><td>97.1225</td><td>0.6967584</td><td>0.4991012</td></tr>\n",
       "</tbody>\n",
       "</table>\n"
      ],
      "text/latex": [
       "A anova: 2 × 6\n",
       "\\begin{tabular}{r|llllll}\n",
       "  & Res.Df & RSS & Df & Sum of Sq & F & Pr(>F)\\\\\n",
       "  & <dbl> & <dbl> & <dbl> & <dbl> & <dbl> & <dbl>\\\\\n",
       "\\hline\n",
       "\t1 & 269 & 18705.95 & NA &      NA &        NA &        NA\\\\\n",
       "\t2 & 267 & 18608.82 &  2 & 97.1225 & 0.6967584 & 0.4991012\\\\\n",
       "\\end{tabular}\n"
      ],
      "text/markdown": [
       "\n",
       "A anova: 2 × 6\n",
       "\n",
       "| <!--/--> | Res.Df &lt;dbl&gt; | RSS &lt;dbl&gt; | Df &lt;dbl&gt; | Sum of Sq &lt;dbl&gt; | F &lt;dbl&gt; | Pr(&gt;F) &lt;dbl&gt; |\n",
       "|---|---|---|---|---|---|---|\n",
       "| 1 | 269 | 18705.95 | NA |      NA |        NA |        NA |\n",
       "| 2 | 267 | 18608.82 |  2 | 97.1225 | 0.6967584 | 0.4991012 |\n",
       "\n"
      ],
      "text/plain": [
       "  Res.Df RSS      Df Sum of Sq F         Pr(>F)   \n",
       "1 269    18705.95 NA      NA          NA        NA\n",
       "2 267    18608.82  2 97.1225   0.6967584 0.4991012"
      ]
     },
     "metadata": {}
    }
   ],
   "metadata": {}
  },
  {
   "cell_type": "code",
   "execution_count": 82,
   "source": [
    "# m10 <- lm(posAffect ~ bias_subt*PSE_pf + PSE_subt*PSE_pf + range_subt*PSE_pf, data = data)\n",
    "# summary(m10)"
   ],
   "outputs": [],
   "metadata": {}
  },
  {
   "cell_type": "code",
   "execution_count": 78,
   "source": [
    "anova(m5,m10)"
   ],
   "outputs": [
    {
     "output_type": "display_data",
     "data": {
      "text/html": [
       "<table class=\"dataframe\">\n",
       "<caption>A anova: 2 × 6</caption>\n",
       "<thead>\n",
       "\t<tr><th></th><th scope=col>Res.Df</th><th scope=col>RSS</th><th scope=col>Df</th><th scope=col>Sum of Sq</th><th scope=col>F</th><th scope=col>Pr(&gt;F)</th></tr>\n",
       "\t<tr><th></th><th scope=col>&lt;dbl&gt;</th><th scope=col>&lt;dbl&gt;</th><th scope=col>&lt;dbl&gt;</th><th scope=col>&lt;dbl&gt;</th><th scope=col>&lt;dbl&gt;</th><th scope=col>&lt;dbl&gt;</th></tr>\n",
       "</thead>\n",
       "<tbody>\n",
       "\t<tr><th scope=row>1</th><td>269</td><td>18705.95</td><td>NA</td><td>       NA</td><td>NA</td><td>NA</td></tr>\n",
       "\t<tr><th scope=row>2</th><td>267</td><td>18801.40</td><td> 2</td><td>-95.45761</td><td>NA</td><td>NA</td></tr>\n",
       "</tbody>\n",
       "</table>\n"
      ],
      "text/latex": [
       "A anova: 2 × 6\n",
       "\\begin{tabular}{r|llllll}\n",
       "  & Res.Df & RSS & Df & Sum of Sq & F & Pr(>F)\\\\\n",
       "  & <dbl> & <dbl> & <dbl> & <dbl> & <dbl> & <dbl>\\\\\n",
       "\\hline\n",
       "\t1 & 269 & 18705.95 & NA &        NA & NA & NA\\\\\n",
       "\t2 & 267 & 18801.40 &  2 & -95.45761 & NA & NA\\\\\n",
       "\\end{tabular}\n"
      ],
      "text/markdown": [
       "\n",
       "A anova: 2 × 6\n",
       "\n",
       "| <!--/--> | Res.Df &lt;dbl&gt; | RSS &lt;dbl&gt; | Df &lt;dbl&gt; | Sum of Sq &lt;dbl&gt; | F &lt;dbl&gt; | Pr(&gt;F) &lt;dbl&gt; |\n",
       "|---|---|---|---|---|---|---|\n",
       "| 1 | 269 | 18705.95 | NA |        NA | NA | NA |\n",
       "| 2 | 267 | 18801.40 |  2 | -95.45761 | NA | NA |\n",
       "\n"
      ],
      "text/plain": [
       "  Res.Df RSS      Df Sum of Sq F  Pr(>F)\n",
       "1 269    18705.95 NA        NA NA NA    \n",
       "2 267    18801.40  2 -95.45761 NA NA    "
      ]
     },
     "metadata": {}
    }
   ],
   "metadata": {}
  },
  {
   "cell_type": "code",
   "execution_count": null,
   "source": [
    "m10 <- lm(posAffect ~ PSE_subt*slope + PSE_subt*PSE_pf + range_subt*slope + range_subt*PSE_pf + bias_subt*slope + bias_subt*PSE_pf, data = data)\n",
    "summary(m6)"
   ],
   "outputs": [],
   "metadata": {}
  },
  {
   "cell_type": "code",
   "execution_count": null,
   "source": [
    "m11 <- lm(posAffect ~ PSE_subt*range_subt*bias_subt*slope*PSE_pf, data = data)\n",
    "summary(m6)"
   ],
   "outputs": [],
   "metadata": {}
  },
  {
   "cell_type": "code",
   "execution_count": null,
   "source": [
    "anova(m1, m2, m3, m4, m5, m6, m7, m8, m9,m10,m11)"
   ],
   "outputs": [],
   "metadata": {}
  },
  {
   "cell_type": "code",
   "execution_count": 64,
   "source": [
    "# model.coefs.to_csv('../results/full_model.csv')\n",
    "# likelihood ratio test. Does pairwise model comparisons. Should sort models and give AIC.\n",
    "anova(m1, m2, m3, m4, m5, m6, m7, m8, m9,m10,m11)"
   ],
   "outputs": [
    {
     "output_type": "display_data",
     "data": {
      "text/html": [
       "<table class=\"dataframe\">\n",
       "<caption>A anova: 11 × 6</caption>\n",
       "<thead>\n",
       "\t<tr><th></th><th scope=col>Res.Df</th><th scope=col>RSS</th><th scope=col>Df</th><th scope=col>Sum of Sq</th><th scope=col>F</th><th scope=col>Pr(&gt;F)</th></tr>\n",
       "\t<tr><th></th><th scope=col>&lt;dbl&gt;</th><th scope=col>&lt;dbl&gt;</th><th scope=col>&lt;dbl&gt;</th><th scope=col>&lt;dbl&gt;</th><th scope=col>&lt;dbl&gt;</th><th scope=col>&lt;dbl&gt;</th></tr>\n",
       "</thead>\n",
       "<tbody>\n",
       "\t<tr><th scope=row>1</th><td>271</td><td>19189.83</td><td> NA</td><td>        NA</td><td>       NA</td><td>        NA</td></tr>\n",
       "\t<tr><th scope=row>2</th><td>267</td><td>18876.47</td><td>  4</td><td> 313.35753</td><td>1.0881028</td><td>0.36298707</td></tr>\n",
       "\t<tr><th scope=row>3</th><td>272</td><td>19269.98</td><td> -5</td><td>-393.51153</td><td>1.0931436</td><td>0.36475016</td></tr>\n",
       "\t<tr><th scope=row>4</th><td>271</td><td>19253.85</td><td>  1</td><td>  16.13226</td><td>0.2240706</td><td>0.63638063</td></tr>\n",
       "\t<tr><th scope=row>5</th><td>269</td><td>18705.95</td><td>  2</td><td> 547.90000</td><td>3.8050562</td><td>0.02359573</td></tr>\n",
       "\t<tr><th scope=row>6</th><td>243</td><td>17495.10</td><td> 26</td><td>1210.84414</td><td>0.6468516</td><td>0.90747626</td></tr>\n",
       "\t<tr><th scope=row>7</th><td>264</td><td>18258.62</td><td>-21</td><td>-763.51461</td><td>0.5049959</td><td>0.96687828</td></tr>\n",
       "\t<tr><th scope=row>8</th><td>269</td><td>18565.54</td><td> -5</td><td>-306.92745</td><td>0.8526200</td><td>0.51371637</td></tr>\n",
       "\t<tr><th scope=row>9</th><td>269</td><td>18991.69</td><td>  0</td><td>-426.14718</td><td>       NA</td><td>        NA</td></tr>\n",
       "\t<tr><th scope=row>10</th><td>267</td><td>18608.82</td><td>  2</td><td> 382.86761</td><td>2.6589392</td><td>0.07205956</td></tr>\n",
       "\t<tr><th scope=row>11</th><td>267</td><td>18801.40</td><td>  0</td><td>-192.58011</td><td>       NA</td><td>        NA</td></tr>\n",
       "</tbody>\n",
       "</table>\n"
      ],
      "text/latex": [
       "A anova: 11 × 6\n",
       "\\begin{tabular}{r|llllll}\n",
       "  & Res.Df & RSS & Df & Sum of Sq & F & Pr(>F)\\\\\n",
       "  & <dbl> & <dbl> & <dbl> & <dbl> & <dbl> & <dbl>\\\\\n",
       "\\hline\n",
       "\t1 & 271 & 19189.83 &  NA &         NA &        NA &         NA\\\\\n",
       "\t2 & 267 & 18876.47 &   4 &  313.35753 & 1.0881028 & 0.36298707\\\\\n",
       "\t3 & 272 & 19269.98 &  -5 & -393.51153 & 1.0931436 & 0.36475016\\\\\n",
       "\t4 & 271 & 19253.85 &   1 &   16.13226 & 0.2240706 & 0.63638063\\\\\n",
       "\t5 & 269 & 18705.95 &   2 &  547.90000 & 3.8050562 & 0.02359573\\\\\n",
       "\t6 & 243 & 17495.10 &  26 & 1210.84414 & 0.6468516 & 0.90747626\\\\\n",
       "\t7 & 264 & 18258.62 & -21 & -763.51461 & 0.5049959 & 0.96687828\\\\\n",
       "\t8 & 269 & 18565.54 &  -5 & -306.92745 & 0.8526200 & 0.51371637\\\\\n",
       "\t9 & 269 & 18991.69 &   0 & -426.14718 &        NA &         NA\\\\\n",
       "\t10 & 267 & 18608.82 &   2 &  382.86761 & 2.6589392 & 0.07205956\\\\\n",
       "\t11 & 267 & 18801.40 &   0 & -192.58011 &        NA &         NA\\\\\n",
       "\\end{tabular}\n"
      ],
      "text/markdown": [
       "\n",
       "A anova: 11 × 6\n",
       "\n",
       "| <!--/--> | Res.Df &lt;dbl&gt; | RSS &lt;dbl&gt; | Df &lt;dbl&gt; | Sum of Sq &lt;dbl&gt; | F &lt;dbl&gt; | Pr(&gt;F) &lt;dbl&gt; |\n",
       "|---|---|---|---|---|---|---|\n",
       "| 1 | 271 | 19189.83 |  NA |         NA |        NA |         NA |\n",
       "| 2 | 267 | 18876.47 |   4 |  313.35753 | 1.0881028 | 0.36298707 |\n",
       "| 3 | 272 | 19269.98 |  -5 | -393.51153 | 1.0931436 | 0.36475016 |\n",
       "| 4 | 271 | 19253.85 |   1 |   16.13226 | 0.2240706 | 0.63638063 |\n",
       "| 5 | 269 | 18705.95 |   2 |  547.90000 | 3.8050562 | 0.02359573 |\n",
       "| 6 | 243 | 17495.10 |  26 | 1210.84414 | 0.6468516 | 0.90747626 |\n",
       "| 7 | 264 | 18258.62 | -21 | -763.51461 | 0.5049959 | 0.96687828 |\n",
       "| 8 | 269 | 18565.54 |  -5 | -306.92745 | 0.8526200 | 0.51371637 |\n",
       "| 9 | 269 | 18991.69 |   0 | -426.14718 |        NA |         NA |\n",
       "| 10 | 267 | 18608.82 |   2 |  382.86761 | 2.6589392 | 0.07205956 |\n",
       "| 11 | 267 | 18801.40 |   0 | -192.58011 |        NA |         NA |\n",
       "\n"
      ],
      "text/plain": [
       "   Res.Df RSS      Df  Sum of Sq  F         Pr(>F)    \n",
       "1  271    19189.83  NA         NA        NA         NA\n",
       "2  267    18876.47   4  313.35753 1.0881028 0.36298707\n",
       "3  272    19269.98  -5 -393.51153 1.0931436 0.36475016\n",
       "4  271    19253.85   1   16.13226 0.2240706 0.63638063\n",
       "5  269    18705.95   2  547.90000 3.8050562 0.02359573\n",
       "6  243    17495.10  26 1210.84414 0.6468516 0.90747626\n",
       "7  264    18258.62 -21 -763.51461 0.5049959 0.96687828\n",
       "8  269    18565.54  -5 -306.92745 0.8526200 0.51371637\n",
       "9  269    18991.69   0 -426.14718        NA         NA\n",
       "10 267    18608.82   2  382.86761 2.6589392 0.07205956\n",
       "11 267    18801.40   0 -192.58011        NA         NA"
      ]
     },
     "metadata": {}
    }
   ],
   "metadata": {}
  },
  {
   "cell_type": "code",
   "execution_count": 69,
   "source": [
    "aic_results <- AIC(m1, m2, m3, m4, m5, m6, m7, m8, m9,m10,m11)\n",
    "# Convert the AIC results to a data frame\n",
    "aic_df <- as.data.frame(aic_results)\n",
    "\n",
    "# Sort the data frame by the AIC values\n",
    "sorted_aic_df <- aic_df[order(aic_df$AIC), ]\n",
    "\n",
    "# Print the sorted results\n",
    "print(sorted_aic_df)\n"
   ],
   "outputs": [
    {
     "output_type": "stream",
     "name": "stdout",
     "text": [
      "    df      AIC\n",
      "m8   7 1952.796\n",
      "m5   7 1954.868\n",
      "m3   4 1957.038\n",
      "m10  9 1957.437\n",
      "m1   5 1957.891\n",
      "m7  12 1958.212\n",
      "m4   5 1958.807\n",
      "m9   7 1959.037\n",
      "m11  9 1960.268\n",
      "m2   9 1961.364\n",
      "m6  33 1988.465\n"
     ]
    }
   ],
   "metadata": {}
  },
  {
   "cell_type": "code",
   "execution_count": 81,
   "source": [
    "aic_df <- data.frame(model = model_names, AIC = aic_values)\n",
    "\n",
    "# Get the formulas for each model\n",
    "formulas <- sapply(models, function(model) deparse(formula(model)))\n",
    "\n",
    "# Add the formulas to the data frame\n",
    "aic_df$formula <- formulas\n",
    "\n",
    "# Get the indices of the sorted AIC values\n",
    "sorted_indices <- order(aic_df$AIC)\n",
    "\n",
    "# Print the indices of the sorted list\n",
    "print(sorted_indices)\n",
    "\n",
    "# Optionally, if you want to see the sorted data frame as well\n",
    "sorted_aic_df <- aic_df[sorted_indices, ]\n",
    "print(sorted_aic_df)"
   ],
   "outputs": [
    {
     "output_type": "stream",
     "name": "stdout",
     "text": [
      " [1]  8  5  3 10  1  7  4  9 11  2  6\n",
      "   model      AIC\n",
      "8     m8 1952.796\n",
      "5     m5 1954.868\n",
      "3     m3 1957.038\n",
      "10   m10 1957.437\n",
      "1     m1 1957.891\n",
      "7     m7 1958.212\n",
      "4     m4 1958.807\n",
      "9     m9 1959.037\n",
      "11   m11 1960.268\n",
      "2     m2 1961.364\n",
      "6     m6 1988.465\n",
      "                                                                                                                                          formula\n",
      "8                                                                                            posAffect ~ range_subt * slope + range_subt * PSE_pf\n",
      "5                                                                                  posAffect ~ PSE_subt + range_subt + bias_subt + slope + PSE_pf\n",
      "3                                                                                                                      posAffect ~ slope + PSE_pf\n",
      "10                                                                    posAffect ~ bias_subt * slope + PSE_subt * slope + range_subt * ,     slope\n",
      "1                                                                                                   posAffect ~ PSE_subt + range_subt + bias_subt\n",
      "7  posAffect ~ PSE_subt * slope + PSE_subt * PSE_pf + range_subt * ,     slope + PSE_subt * PSE_pf + bias_subt * slope + bias_subt * ,     PSE_pf\n",
      "4                                                                                                                      posAffect ~ slope * PSE_pf\n",
      "9                                                                                              posAffect ~ bias_subt * slope + bias_subt * PSE_pf\n",
      "11                                                                 posAffect ~ bias_subt * PSE_pf + PSE_subt * PSE_pf + range_subt * ,     PSE_pf\n",
      "2                                                                                                   posAffect ~ PSE_subt * range_subt * bias_subt\n",
      "6                                                                                  posAffect ~ PSE_subt * range_subt * bias_subt * slope * PSE_pf\n"
     ]
    }
   ],
   "metadata": {}
  },
  {
   "cell_type": "code",
   "execution_count": null,
   "source": [],
   "outputs": [],
   "metadata": {}
  },
  {
   "cell_type": "code",
   "execution_count": 54,
   "source": [
    "def explore_correlations(df, trait,param,ax,col):\n",
    "\n",
    "    sns.regplot(data=df,x=trait,y=param,ax=ax,marker = '.', color=col)\n",
    "    x,y = df[trait], df[param]\n",
    "    rows = (~np.isnan(x)) & (~np.isnan(y)) & (~np.isinf(x)) & (~np.isinf(y))\n",
    "    x = x[rows]\n",
    "    y = y[rows]\n",
    "    x = x[rows]\n",
    "    y = y[rows]\n",
    "    r,p = pearsonr(x,y)\n",
    "    r_subt[i,j],p_subt[i,j] = r,p\n",
    "    if p < .05:\n",
    "        color = 'k'\n",
    "        fontweight = 'bold'\n",
    "    else:\n",
    "        color = 'k'\n",
    "        fontweight = 'normal'\n",
    "    ax.annotate(f'r_p={r:.2f}\\n({get_p(p)})',xy=(0.05,.2),xycoords='axes fraction', color = color, fontweight = fontweight, ha='left',va='top')\n"
   ],
   "outputs": [],
   "metadata": {}
  },
  {
   "cell_type": "code",
   "execution_count": 55,
   "source": [
    "fig,axs = plt.subplots(figsize=(10,4),nrows=1,ncols=2, sharey=True)\n",
    "ax = axs[0]\n",
    "trait = 'Positive_reweigh'\n",
    "param ='amplitude_subt'\n",
    "explore_correlations(df, trait,param,ax,'tab:blue')\n",
    "ax.set_title('subtlety',fontweight='bold')\n",
    "ax.set_xlabel('Positive affect')\n",
    "\n",
    "ax = axs[1]\n",
    "trait = 'Positive_reweigh'\n",
    "param ='amplitude_pf'\n",
    "explore_correlations(df, trait,param,ax,'tab:red')\n",
    "ax.set_title('playfight',fontweight='bold')\n",
    "ax.set_xlabel('Positive affect')"
   ],
   "outputs": [
    {
     "output_type": "execute_result",
     "data": {
      "text/plain": [
       "Text(0.5, 0, 'Positive affect')"
      ]
     },
     "metadata": {},
     "execution_count": 55
    },
    {
     "output_type": "display_data",
     "data": {
      "image/png": "[encoded data removed]",
      "text/plain": [
       "<Figure size 720x288 with 2 Axes>"
      ]
     },
     "metadata": {
      "needs_background": "light"
     }
    }
   ],
   "metadata": {}
  },
  {
   "cell_type": "code",
   "execution_count": 56,
   "source": [
    "amplitude = list(df['amplitude_subt'].values)\n",
    "amplitude.extend(list(df['amplitude_pf'].values))\n",
    "\n",
    "subID = list(df['subID'].values)\n",
    "subID.extend(list(df['subID'].values))"
   ],
   "outputs": [],
   "metadata": {}
  },
  {
   "cell_type": "code",
   "execution_count": 78,
   "source": [
    "df_long_amp = pd.DataFrame({'pos_affect': np.tile(df['Positive_reweigh'],2), 'amplitude':  amplitude, 'task':np.repeat([1,2],df.shape[0]), 'subID':subID })\n",
    "df_long_amp['task'] =['task' + str(i) for i in df_long_amp['task']]\n",
    "df_long_amp"
   ],
   "outputs": [
    {
     "output_type": "execute_result",
     "data": {
      "text/html": [
       "<div>\n",
       "<style scoped>\n",
       "    .dataframe tbody tr th:only-of-type {\n",
       "        vertical-align: middle;\n",
       "    }\n",
       "\n",
       "    .dataframe tbody tr th {\n",
       "        vertical-align: top;\n",
       "    }\n",
       "\n",
       "    .dataframe thead th {\n",
       "        text-align: right;\n",
       "    }\n",
       "</style>\n",
       "<table border=\"1\" class=\"dataframe\">\n",
       "  <thead>\n",
       "    <tr style=\"text-align: right;\">\n",
       "      <th></th>\n",
       "      <th>pos_affect</th>\n",
       "      <th>amplitude</th>\n",
       "      <th>task</th>\n",
       "      <th>subID</th>\n",
       "    </tr>\n",
       "  </thead>\n",
       "  <tbody>\n",
       "    <tr>\n",
       "      <th>0</th>\n",
       "      <td>20.0</td>\n",
       "      <td>0.900821</td>\n",
       "      <td>task1</td>\n",
       "      <td>30002.0</td>\n",
       "    </tr>\n",
       "    <tr>\n",
       "      <th>1</th>\n",
       "      <td>25.0</td>\n",
       "      <td>0.805834</td>\n",
       "      <td>task1</td>\n",
       "      <td>30004.0</td>\n",
       "    </tr>\n",
       "    <tr>\n",
       "      <th>2</th>\n",
       "      <td>20.0</td>\n",
       "      <td>0.710131</td>\n",
       "      <td>task1</td>\n",
       "      <td>30005.0</td>\n",
       "    </tr>\n",
       "    <tr>\n",
       "      <th>3</th>\n",
       "      <td>25.0</td>\n",
       "      <td>0.989396</td>\n",
       "      <td>task1</td>\n",
       "      <td>30006.0</td>\n",
       "    </tr>\n",
       "    <tr>\n",
       "      <th>4</th>\n",
       "      <td>28.0</td>\n",
       "      <td>0.582252</td>\n",
       "      <td>task1</td>\n",
       "      <td>30008.0</td>\n",
       "    </tr>\n",
       "    <tr>\n",
       "      <th>...</th>\n",
       "      <td>...</td>\n",
       "      <td>...</td>\n",
       "      <td>...</td>\n",
       "      <td>...</td>\n",
       "    </tr>\n",
       "    <tr>\n",
       "      <th>543</th>\n",
       "      <td>14.0</td>\n",
       "      <td>0.493688</td>\n",
       "      <td>task2</td>\n",
       "      <td>30344.0</td>\n",
       "    </tr>\n",
       "    <tr>\n",
       "      <th>544</th>\n",
       "      <td>15.0</td>\n",
       "      <td>0.999799</td>\n",
       "      <td>task2</td>\n",
       "      <td>30345.0</td>\n",
       "    </tr>\n",
       "    <tr>\n",
       "      <th>545</th>\n",
       "      <td>27.0</td>\n",
       "      <td>0.708476</td>\n",
       "      <td>task2</td>\n",
       "      <td>30346.0</td>\n",
       "    </tr>\n",
       "    <tr>\n",
       "      <th>546</th>\n",
       "      <td>27.0</td>\n",
       "      <td>0.414670</td>\n",
       "      <td>task2</td>\n",
       "      <td>30348.0</td>\n",
       "    </tr>\n",
       "    <tr>\n",
       "      <th>547</th>\n",
       "      <td>22.0</td>\n",
       "      <td>0.485988</td>\n",
       "      <td>task2</td>\n",
       "      <td>30352.0</td>\n",
       "    </tr>\n",
       "  </tbody>\n",
       "</table>\n",
       "<p>548 rows × 4 columns</p>\n",
       "</div>"
      ],
      "text/plain": [
       "     pos_affect  amplitude   task    subID\n",
       "0          20.0   0.900821  task1  30002.0\n",
       "1          25.0   0.805834  task1  30004.0\n",
       "2          20.0   0.710131  task1  30005.0\n",
       "3          25.0   0.989396  task1  30006.0\n",
       "4          28.0   0.582252  task1  30008.0\n",
       "..          ...        ...    ...      ...\n",
       "543        14.0   0.493688  task2  30344.0\n",
       "544        15.0   0.999799  task2  30345.0\n",
       "545        27.0   0.708476  task2  30346.0\n",
       "546        27.0   0.414670  task2  30348.0\n",
       "547        22.0   0.485988  task2  30352.0\n",
       "\n",
       "[548 rows x 4 columns]"
      ]
     },
     "metadata": {},
     "execution_count": 78
    }
   ],
   "metadata": {}
  },
  {
   "cell_type": "code",
   "execution_count": 60,
   "source": [
    "model = Lmer(f'amplitude ~ pos_affect*task + (1|subID)', data=df_long_amp) # ff: anglesm rfx: subject ID\n",
    "model.fit()"
   ],
   "outputs": [
    {
     "output_type": "stream",
     "name": "stdout",
     "text": [
      "Formula: amplitude~pos_affect*task+(1|subID)\n",
      "\n",
      "Family: gaussian\t Inference: parametric\n",
      "\n",
      "Number of observations: 548\t Groups: {'subID': 274.0}\n",
      "\n",
      "Log-likelihood: 156.132 \t AIC: -312.265\n",
      "\n",
      "Random effects:\n",
      "\n",
      "                 Name    Var    Std\n",
      "subID     (Intercept)  0.017  0.131\n",
      "Residual               0.018  0.136\n",
      "\n",
      "No random effect correlations specified\n",
      "\n",
      "Fixed effects:\n",
      "\n"
     ]
    },
    {
     "output_type": "execute_result",
     "data": {
      "text/html": [
       "<div>\n",
       "<style scoped>\n",
       "    .dataframe tbody tr th:only-of-type {\n",
       "        vertical-align: middle;\n",
       "    }\n",
       "\n",
       "    .dataframe tbody tr th {\n",
       "        vertical-align: top;\n",
       "    }\n",
       "\n",
       "    .dataframe thead th {\n",
       "        text-align: right;\n",
       "    }\n",
       "</style>\n",
       "<table border=\"1\" class=\"dataframe\">\n",
       "  <thead>\n",
       "    <tr style=\"text-align: right;\">\n",
       "      <th></th>\n",
       "      <th>Estimate</th>\n",
       "      <th>2.5_ci</th>\n",
       "      <th>97.5_ci</th>\n",
       "      <th>SE</th>\n",
       "      <th>DF</th>\n",
       "      <th>T-stat</th>\n",
       "      <th>P-val</th>\n",
       "      <th>Sig</th>\n",
       "    </tr>\n",
       "  </thead>\n",
       "  <tbody>\n",
       "    <tr>\n",
       "      <th>(Intercept)</th>\n",
       "      <td>0.735</td>\n",
       "      <td>0.673</td>\n",
       "      <td>0.797</td>\n",
       "      <td>0.032</td>\n",
       "      <td>441.03</td>\n",
       "      <td>23.220</td>\n",
       "      <td>0.000</td>\n",
       "      <td>***</td>\n",
       "    </tr>\n",
       "    <tr>\n",
       "      <th>pos_affect</th>\n",
       "      <td>-0.002</td>\n",
       "      <td>-0.005</td>\n",
       "      <td>0.001</td>\n",
       "      <td>0.001</td>\n",
       "      <td>441.03</td>\n",
       "      <td>-1.425</td>\n",
       "      <td>0.155</td>\n",
       "      <td></td>\n",
       "    </tr>\n",
       "    <tr>\n",
       "      <th>tasktask2</th>\n",
       "      <td>-0.215</td>\n",
       "      <td>-0.278</td>\n",
       "      <td>-0.152</td>\n",
       "      <td>0.032</td>\n",
       "      <td>272.00</td>\n",
       "      <td>-6.671</td>\n",
       "      <td>0.000</td>\n",
       "      <td>***</td>\n",
       "    </tr>\n",
       "    <tr>\n",
       "      <th>pos_affect:tasktask2</th>\n",
       "      <td>0.005</td>\n",
       "      <td>0.002</td>\n",
       "      <td>0.007</td>\n",
       "      <td>0.001</td>\n",
       "      <td>272.00</td>\n",
       "      <td>3.312</td>\n",
       "      <td>0.001</td>\n",
       "      <td>**</td>\n",
       "    </tr>\n",
       "  </tbody>\n",
       "</table>\n",
       "</div>"
      ],
      "text/plain": [
       "                      Estimate  2.5_ci  97.5_ci     SE      DF  T-stat  P-val  \\\n",
       "(Intercept)              0.735   0.673    0.797  0.032  441.03  23.220  0.000   \n",
       "pos_affect              -0.002  -0.005    0.001  0.001  441.03  -1.425  0.155   \n",
       "tasktask2               -0.215  -0.278   -0.152  0.032  272.00  -6.671  0.000   \n",
       "pos_affect:tasktask2     0.005   0.002    0.007  0.001  272.00   3.312  0.001   \n",
       "\n",
       "                      Sig  \n",
       "(Intercept)           ***  \n",
       "pos_affect                 \n",
       "tasktask2             ***  \n",
       "pos_affect:tasktask2   **  "
      ]
     },
     "metadata": {},
     "execution_count": 60
    }
   ],
   "metadata": {}
  },
  {
   "cell_type": "code",
   "execution_count": 61,
   "source": [
    "model = Lm(f'amplitude_subt ~ Positive_reweigh', data=df) # ff: anglesm rfx: subject ID\n",
    "model.fit()"
   ],
   "outputs": [
    {
     "output_type": "stream",
     "name": "stdout",
     "text": [
      "Formula: amplitude_subt~Positive_reweigh\n",
      "\n",
      "Family: gaussian\t Estimator: OLS\n",
      "\n",
      "Std-errors: non-robust\tCIs: standard 95%\tInference: parametric \n",
      "\n",
      "Number of observations: 274\t R^2: 0.008\t R^2_adj: 0.004\n",
      "\n",
      "Log-likelihood: 78.645 \t AIC: -153.290\t BIC: -146.064\n",
      "\n",
      "Fixed effects:\n",
      "\n"
     ]
    },
    {
     "output_type": "execute_result",
     "data": {
      "text/html": [
       "<div>\n",
       "<style scoped>\n",
       "    .dataframe tbody tr th:only-of-type {\n",
       "        vertical-align: middle;\n",
       "    }\n",
       "\n",
       "    .dataframe tbody tr th {\n",
       "        vertical-align: top;\n",
       "    }\n",
       "\n",
       "    .dataframe thead th {\n",
       "        text-align: right;\n",
       "    }\n",
       "</style>\n",
       "<table border=\"1\" class=\"dataframe\">\n",
       "  <thead>\n",
       "    <tr style=\"text-align: right;\">\n",
       "      <th></th>\n",
       "      <th>Estimate</th>\n",
       "      <th>2.5_ci</th>\n",
       "      <th>97.5_ci</th>\n",
       "      <th>SE</th>\n",
       "      <th>DF</th>\n",
       "      <th>T-stat</th>\n",
       "      <th>P-val</th>\n",
       "      <th>Sig</th>\n",
       "    </tr>\n",
       "  </thead>\n",
       "  <tbody>\n",
       "    <tr>\n",
       "      <th>Intercept</th>\n",
       "      <td>0.735</td>\n",
       "      <td>0.675</td>\n",
       "      <td>0.795</td>\n",
       "      <td>0.031</td>\n",
       "      <td>272</td>\n",
       "      <td>24.032</td>\n",
       "      <td>0.000</td>\n",
       "      <td>***</td>\n",
       "    </tr>\n",
       "    <tr>\n",
       "      <th>Positive_reweigh</th>\n",
       "      <td>-0.002</td>\n",
       "      <td>-0.005</td>\n",
       "      <td>0.001</td>\n",
       "      <td>0.001</td>\n",
       "      <td>272</td>\n",
       "      <td>-1.475</td>\n",
       "      <td>0.141</td>\n",
       "      <td></td>\n",
       "    </tr>\n",
       "  </tbody>\n",
       "</table>\n",
       "</div>"
      ],
      "text/plain": [
       "                  Estimate  2.5_ci  97.5_ci     SE   DF  T-stat  P-val  Sig\n",
       "Intercept            0.735   0.675    0.795  0.031  272  24.032  0.000  ***\n",
       "Positive_reweigh    -0.002  -0.005    0.001  0.001  272  -1.475  0.141     "
      ]
     },
     "metadata": {},
     "execution_count": 61
    }
   ],
   "metadata": {}
  },
  {
   "cell_type": "code",
   "execution_count": 62,
   "source": [
    "model = Lm(f'amplitude_pf ~ Positive_reweigh', data=df) # ff: anglesm rfx: subject ID\n",
    "model.fit()"
   ],
   "outputs": [
    {
     "output_type": "stream",
     "name": "stdout",
     "text": [
      "Formula: amplitude_pf~Positive_reweigh\n",
      "\n",
      "Family: gaussian\t Estimator: OLS\n",
      "\n",
      "Std-errors: non-robust\tCIs: standard 95%\tInference: parametric \n",
      "\n",
      "Number of observations: 274\t R^2: 0.013\t R^2_adj: 0.009\n",
      "\n",
      "Log-likelihood: 60.411 \t AIC: -116.822\t BIC: -109.596\n",
      "\n",
      "Fixed effects:\n",
      "\n"
     ]
    },
    {
     "output_type": "execute_result",
     "data": {
      "text/html": [
       "<div>\n",
       "<style scoped>\n",
       "    .dataframe tbody tr th:only-of-type {\n",
       "        vertical-align: middle;\n",
       "    }\n",
       "\n",
       "    .dataframe tbody tr th {\n",
       "        vertical-align: top;\n",
       "    }\n",
       "\n",
       "    .dataframe thead th {\n",
       "        text-align: right;\n",
       "    }\n",
       "</style>\n",
       "<table border=\"1\" class=\"dataframe\">\n",
       "  <thead>\n",
       "    <tr style=\"text-align: right;\">\n",
       "      <th></th>\n",
       "      <th>Estimate</th>\n",
       "      <th>2.5_ci</th>\n",
       "      <th>97.5_ci</th>\n",
       "      <th>SE</th>\n",
       "      <th>DF</th>\n",
       "      <th>T-stat</th>\n",
       "      <th>P-val</th>\n",
       "      <th>Sig</th>\n",
       "    </tr>\n",
       "  </thead>\n",
       "  <tbody>\n",
       "    <tr>\n",
       "      <th>Intercept</th>\n",
       "      <td>0.520</td>\n",
       "      <td>0.456</td>\n",
       "      <td>0.585</td>\n",
       "      <td>0.033</td>\n",
       "      <td>272</td>\n",
       "      <td>15.917</td>\n",
       "      <td>0.000</td>\n",
       "      <td>***</td>\n",
       "    </tr>\n",
       "    <tr>\n",
       "      <th>Positive_reweigh</th>\n",
       "      <td>0.003</td>\n",
       "      <td>-0.000</td>\n",
       "      <td>0.005</td>\n",
       "      <td>0.001</td>\n",
       "      <td>272</td>\n",
       "      <td>1.881</td>\n",
       "      <td>0.061</td>\n",
       "      <td>.</td>\n",
       "    </tr>\n",
       "  </tbody>\n",
       "</table>\n",
       "</div>"
      ],
      "text/plain": [
       "                  Estimate  2.5_ci  97.5_ci     SE   DF  T-stat  P-val  Sig\n",
       "Intercept            0.520   0.456    0.585  0.033  272  15.917  0.000  ***\n",
       "Positive_reweigh     0.003  -0.000    0.005  0.001  272   1.881  0.061    ."
      ]
     },
     "metadata": {},
     "execution_count": 62
    }
   ],
   "metadata": {}
  },
  {
   "cell_type": "code",
   "execution_count": 63,
   "source": [
    "from scipy import stats"
   ],
   "outputs": [],
   "metadata": {}
  },
  {
   "cell_type": "code",
   "execution_count": 64,
   "source": [
    "stats.ttest_rel(df['amplitude_subt'],df['amplitude_pf']), np.nanmean(df['amplitude_subt']-df['amplitude_pf'])"
   ],
   "outputs": [
    {
     "output_type": "execute_result",
     "data": {
      "text/plain": [
       "(Ttest_relResult(statistic=9.771751174436996, pvalue=1.555432107871016e-19),\n",
       " 0.11526470961630976)"
      ]
     },
     "metadata": {},
     "execution_count": 64
    }
   ],
   "metadata": {}
  },
  {
   "cell_type": "code",
   "execution_count": 65,
   "source": [
    "def explore_correlations_lineplot(df, trait,param,ax,col,label):\n",
    "\n",
    "    sns.regplot(data=df,x=trait,y=param,ax=ax,marker = '.', color=col, scatter=False, label=label)\n",
    "    x,y = df[trait], df[param]\n",
    "    rows = (~np.isnan(x)) & (~np.isnan(y)) & (~np.isinf(x)) & (~np.isinf(y))\n",
    "    x = x[rows]\n",
    "    y = y[rows]\n",
    "    x = x[rows]\n",
    "    y = y[rows]\n",
    "    r,p = pearsonr(x,y)\n",
    "    r_subt[i,j],p_subt[i,j] = r,p\n",
    "    if p < .05:\n",
    "        color = 'k'\n",
    "        fontweight = 'bold'\n",
    "    else:\n",
    "        color = 'k'\n",
    "        fontweight = 'normal'\n",
    "    # ax.annotate(f'r_p={r:.2f}\\n({get_p(p)})',xy=(0.05,.95),xycoords='axes fraction', color = color, fontweight = fontweight, ha='left',va='top')"
   ],
   "outputs": [],
   "metadata": {}
  },
  {
   "cell_type": "code",
   "execution_count": 66,
   "source": [
    "fig,ax = plt.subplots(figsize=(4,4),nrows=1,ncols=1, sharey=True)\n",
    "trait = 'Positive_reweigh'\n",
    "param ='amplitude_subt'\n",
    "explore_correlations_lineplot(df, trait,param,ax,'tab:blue','subtlety')\n",
    "\n",
    "trait = 'Positive_reweigh'\n",
    "param ='amplitude_pf'\n",
    "explore_correlations_lineplot(df, trait,param,ax,'tab:red','playfight')\n",
    "\n",
    "plt.ylabel('amplitude')\n",
    "plt.xlabel('Positive affect')\n",
    "plt.legend()"
   ],
   "outputs": [
    {
     "output_type": "execute_result",
     "data": {
      "text/plain": [
       "<matplotlib.legend.Legend at 0x7fef996dbf90>"
      ]
     },
     "metadata": {},
     "execution_count": 66
    },
    {
     "output_type": "display_data",
     "data": {
      "image/png": "[encoded data removed]",
      "text/plain": [
       "<Figure size 288x288 with 1 Axes>"
      ]
     },
     "metadata": {
      "needs_background": "light"
     }
    }
   ],
   "metadata": {}
  },
  {
   "cell_type": "code",
   "execution_count": 67,
   "source": [
    "x = df['Positive_reweigh'].describe()\n",
    "x"
   ],
   "outputs": [
    {
     "output_type": "execute_result",
     "data": {
      "text/plain": [
       "count    274.000000\n",
       "mean      21.696269\n",
       "std        8.385318\n",
       "min        0.000000\n",
       "25%       16.000000\n",
       "50%       21.500000\n",
       "75%       28.000000\n",
       "max       40.000000\n",
       "Name: Positive_reweigh, dtype: float64"
      ]
     },
     "metadata": {},
     "execution_count": 67
    }
   ],
   "metadata": {}
  },
  {
   "cell_type": "code",
   "execution_count": 68,
   "source": [
    "df_top = df.loc[df['Positive_reweigh']>x['50%'],:]\n",
    "df_bottom = df.loc[df['Positive_reweigh']<x['50%'],:]"
   ],
   "outputs": [],
   "metadata": {}
  },
  {
   "cell_type": "code",
   "execution_count": 69,
   "source": [
    "model = Lm(f'Positive_reweigh ~ amplitude_subt+amplitude_pf', data=df_bottom) # ff: anglesm rfx: subject ID\n",
    "model.fit()"
   ],
   "outputs": [
    {
     "output_type": "stream",
     "name": "stdout",
     "text": [
      "Formula: Positive_reweigh~amplitude_subt+amplitude_pf\n",
      "\n",
      "Family: gaussian\t Estimator: OLS\n",
      "\n",
      "Std-errors: non-robust\tCIs: standard 95%\tInference: parametric \n",
      "\n",
      "Number of observations: 137\t R^2: 0.014\t R^2_adj: -0.001\n",
      "\n",
      "Log-likelihood: -412.018 \t AIC: 830.036\t BIC: 838.796\n",
      "\n",
      "Fixed effects:\n",
      "\n"
     ]
    },
    {
     "output_type": "execute_result",
     "data": {
      "text/html": [
       "<div>\n",
       "<style scoped>\n",
       "    .dataframe tbody tr th:only-of-type {\n",
       "        vertical-align: middle;\n",
       "    }\n",
       "\n",
       "    .dataframe tbody tr th {\n",
       "        vertical-align: top;\n",
       "    }\n",
       "\n",
       "    .dataframe thead th {\n",
       "        text-align: right;\n",
       "    }\n",
       "</style>\n",
       "<table border=\"1\" class=\"dataframe\">\n",
       "  <thead>\n",
       "    <tr style=\"text-align: right;\">\n",
       "      <th></th>\n",
       "      <th>Estimate</th>\n",
       "      <th>2.5_ci</th>\n",
       "      <th>97.5_ci</th>\n",
       "      <th>SE</th>\n",
       "      <th>DF</th>\n",
       "      <th>T-stat</th>\n",
       "      <th>P-val</th>\n",
       "      <th>Sig</th>\n",
       "    </tr>\n",
       "  </thead>\n",
       "  <tbody>\n",
       "    <tr>\n",
       "      <th>Intercept</th>\n",
       "      <td>15.850</td>\n",
       "      <td>11.968</td>\n",
       "      <td>19.732</td>\n",
       "      <td>1.963</td>\n",
       "      <td>134</td>\n",
       "      <td>8.075</td>\n",
       "      <td>0.000</td>\n",
       "      <td>***</td>\n",
       "    </tr>\n",
       "    <tr>\n",
       "      <th>amplitude_subt</th>\n",
       "      <td>-3.507</td>\n",
       "      <td>-9.349</td>\n",
       "      <td>2.335</td>\n",
       "      <td>2.954</td>\n",
       "      <td>134</td>\n",
       "      <td>-1.187</td>\n",
       "      <td>0.237</td>\n",
       "      <td></td>\n",
       "    </tr>\n",
       "    <tr>\n",
       "      <th>amplitude_pf</th>\n",
       "      <td>2.732</td>\n",
       "      <td>-1.848</td>\n",
       "      <td>7.313</td>\n",
       "      <td>2.316</td>\n",
       "      <td>134</td>\n",
       "      <td>1.180</td>\n",
       "      <td>0.240</td>\n",
       "      <td></td>\n",
       "    </tr>\n",
       "  </tbody>\n",
       "</table>\n",
       "</div>"
      ],
      "text/plain": [
       "                Estimate  2.5_ci  97.5_ci     SE   DF  T-stat  P-val  Sig\n",
       "Intercept         15.850  11.968   19.732  1.963  134   8.075  0.000  ***\n",
       "amplitude_subt    -3.507  -9.349    2.335  2.954  134  -1.187  0.237     \n",
       "amplitude_pf       2.732  -1.848    7.313  2.316  134   1.180  0.240     "
      ]
     },
     "metadata": {},
     "execution_count": 69
    }
   ],
   "metadata": {}
  },
  {
   "cell_type": "code",
   "execution_count": 70,
   "source": [
    "model = Lm(f'Positive_reweigh ~ amplitude_subt+amplitude_pf', data=df_top) # ff: anglesm rfx: subject ID\n",
    "model.fit()"
   ],
   "outputs": [
    {
     "output_type": "stream",
     "name": "stdout",
     "text": [
      "Formula: Positive_reweigh~amplitude_subt+amplitude_pf\n",
      "\n",
      "Family: gaussian\t Estimator: OLS\n",
      "\n",
      "Std-errors: non-robust\tCIs: standard 95%\tInference: parametric \n",
      "\n",
      "Number of observations: 137\t R^2: 0.072\t R^2_adj: 0.058\n",
      "\n",
      "Log-likelihood: -404.942 \t AIC: 815.884\t BIC: 824.644\n",
      "\n",
      "Fixed effects:\n",
      "\n"
     ]
    },
    {
     "output_type": "execute_result",
     "data": {
      "text/html": [
       "<div>\n",
       "<style scoped>\n",
       "    .dataframe tbody tr th:only-of-type {\n",
       "        vertical-align: middle;\n",
       "    }\n",
       "\n",
       "    .dataframe tbody tr th {\n",
       "        vertical-align: top;\n",
       "    }\n",
       "\n",
       "    .dataframe thead th {\n",
       "        text-align: right;\n",
       "    }\n",
       "</style>\n",
       "<table border=\"1\" class=\"dataframe\">\n",
       "  <thead>\n",
       "    <tr style=\"text-align: right;\">\n",
       "      <th></th>\n",
       "      <th>Estimate</th>\n",
       "      <th>2.5_ci</th>\n",
       "      <th>97.5_ci</th>\n",
       "      <th>SE</th>\n",
       "      <th>DF</th>\n",
       "      <th>T-stat</th>\n",
       "      <th>P-val</th>\n",
       "      <th>Sig</th>\n",
       "    </tr>\n",
       "  </thead>\n",
       "  <tbody>\n",
       "    <tr>\n",
       "      <th>Intercept</th>\n",
       "      <td>24.505</td>\n",
       "      <td>21.404</td>\n",
       "      <td>27.607</td>\n",
       "      <td>1.568</td>\n",
       "      <td>134</td>\n",
       "      <td>15.629</td>\n",
       "      <td>0.000</td>\n",
       "      <td>***</td>\n",
       "    </tr>\n",
       "    <tr>\n",
       "      <th>amplitude_subt</th>\n",
       "      <td>-0.266</td>\n",
       "      <td>-4.915</td>\n",
       "      <td>4.383</td>\n",
       "      <td>2.350</td>\n",
       "      <td>134</td>\n",
       "      <td>-0.113</td>\n",
       "      <td>0.910</td>\n",
       "      <td></td>\n",
       "    </tr>\n",
       "    <tr>\n",
       "      <th>amplitude_pf</th>\n",
       "      <td>7.152</td>\n",
       "      <td>2.158</td>\n",
       "      <td>12.146</td>\n",
       "      <td>2.525</td>\n",
       "      <td>134</td>\n",
       "      <td>2.833</td>\n",
       "      <td>0.005</td>\n",
       "      <td>**</td>\n",
       "    </tr>\n",
       "  </tbody>\n",
       "</table>\n",
       "</div>"
      ],
      "text/plain": [
       "                Estimate  2.5_ci  97.5_ci     SE   DF  T-stat  P-val  Sig\n",
       "Intercept         24.505  21.404   27.607  1.568  134  15.629  0.000  ***\n",
       "amplitude_subt    -0.266  -4.915    4.383  2.350  134  -0.113  0.910     \n",
       "amplitude_pf       7.152   2.158   12.146  2.525  134   2.833  0.005   **"
      ]
     },
     "metadata": {},
     "execution_count": 70
    }
   ],
   "metadata": {}
  },
  {
   "cell_type": "code",
   "execution_count": 71,
   "source": [
    "fig,ax = plt.subplots(figsize=(4,4),nrows=1,ncols=1, sharey=True)\n",
    "# fig,axs = plt.subplots(figsize=(10,4),nrows=1,ncols=2, sharey=True)\n",
    "# ax = axs[0]\n",
    "trait = 'amplitude_subt'\n",
    "param ='amplitude_pf'\n",
    "explore_correlations_lineplot(df_top, trait,param,ax,'m','pos affect top 50%')\n",
    "\n",
    "# ax = axs[1]\n",
    "trait = 'amplitude_subt'\n",
    "param ='amplitude_pf'\n",
    "explore_correlations_lineplot(df_bottom, trait,param,ax,'g','pos affect bottom 50%')\n",
    "\n",
    "xcolor = 'tab:blue'\n",
    "ycolor = 'tab:red'\n",
    "plt.ylabel('amplitude_pf', color = ycolor)\n",
    "plt.xlabel('amplitude_subt', color = xcolor)\n",
    "plt.xlim(-.1,1.1,)\n",
    "plt.ylim(-.1,1.1)\n",
    "ax.tick_params(axis='x', colors=xcolor)  # x-axis tick labels color set to red\n",
    "ax.tick_params(axis='y', colors=ycolor)  # y-axis tick labels color set to red\n",
    "ax.spines['bottom'].set_color(xcolor)  # X-axis color\n",
    "ax.spines['left'].set_color(ycolor)     # Y-axis color\n",
    "plt.legend()"
   ],
   "outputs": [
    {
     "output_type": "execute_result",
     "data": {
      "text/plain": [
       "<matplotlib.legend.Legend at 0x7fefb25f7450>"
      ]
     },
     "metadata": {},
     "execution_count": 71
    },
    {
     "output_type": "display_data",
     "data": {
      "image/png": "[encoded data removed]",
      "text/plain": [
       "<Figure size 288x288 with 1 Axes>"
      ]
     },
     "metadata": {
      "needs_background": "light"
     }
    }
   ],
   "metadata": {}
  }
 ],
 "metadata": {
  "interpreter": {
   "hash": "fd4f9b4a611f13030669d34296d320a89181368ed7f3667f4142a08b4c2c4fbe"
  },
  "kernelspec": {
   "name": "python3124jvsc74a57bd04a074528bc854e8a1fdc819f4bc249979b3b196bce4de5afb134a947ed71fa2f",
   "display_name": "R",
   "language": "R"
  },
  "language_info": {
   "name": "R",
   "codemirror_mode": "r",
   "pygments_lexer": "r",
   "mimetype": "text/x-r-source",
   "file_extension": ".r",
   "version": "4.3.3"
  }
 },
 "nbformat": 4,
 "nbformat_minor": 4
}
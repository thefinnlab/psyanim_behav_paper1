{
 "cells": [
  {
   "cell_type": "code",
   "execution_count": 1,
   "source": [
    "print(\"Hello, R in Jupyter!\")"
   ],
   "outputs": [
    {
     "output_type": "stream",
     "name": "stdout",
     "text": [
      "[1] \"Hello, R in Jupyter!\"\n"
     ]
    }
   ],
   "metadata": {}
  },
  {
   "cell_type": "code",
   "execution_count": 2,
   "source": [
    "# Basic arithmetic\n",
    "result <- 2 + 2\n",
    "print(result)"
   ],
   "outputs": [
    {
     "output_type": "stream",
     "name": "stdout",
     "text": [
      "[1] 4\n"
     ]
    }
   ],
   "metadata": {}
  },
  {
   "cell_type": "code",
   "execution_count": 3,
   "source": [
    "root_dir = '../../data/subtlety_playfight_data/'#/Users/f0053cz/Documents/psyanim_v2/scripts_for_beh_paper/data/subtlety_playfight_data/'\n",
    "flname = paste('mean_mixedbatch_traits.csv', sep = \"\")\n",
    "data <- read.csv(paste(root_dir,flname, sep = \"/\"))\n",
    "# print(data)\n",
    "head(data, 5)"
   ],
   "outputs": [
    {
     "output_type": "display_data",
     "data": {
      "text/html": [
       "<table class=\"dataframe\">\n",
       "<caption>A data.frame: 5 × 24</caption>\n",
       "<thead>\n",
       "\t<tr><th></th><th scope=col>X</th><th scope=col>subID</th><th scope=col>subtlety</th><th scope=col>block_type</th><th scope=col>responses_subt_1</th><th scope=col>responses_pf</th><th scope=col>RT</th><th scope=col>accuracy</th><th scope=col>rating180</th><th scope=col>diff_from_180</th><th scope=col>⋯</th><th scope=col>comm</th><th scope=col>posAffect</th><th scope=col>negAffect</th><th scope=col>neuroticism</th><th scope=col>extraversion</th><th scope=col>openness</th><th scope=col>agreeableness</th><th scope=col>conscientiousness</th><th scope=col>loneliness</th><th scope=col>nfriends</th></tr>\n",
       "\t<tr><th></th><th scope=col>&lt;int&gt;</th><th scope=col>&lt;int&gt;</th><th scope=col>&lt;dbl&gt;</th><th scope=col>&lt;dbl&gt;</th><th scope=col>&lt;dbl&gt;</th><th scope=col>&lt;lgl&gt;</th><th scope=col>&lt;dbl&gt;</th><th scope=col>&lt;dbl&gt;</th><th scope=col>&lt;dbl&gt;</th><th scope=col>&lt;dbl&gt;</th><th scope=col>⋯</th><th scope=col>&lt;dbl&gt;</th><th scope=col>&lt;dbl&gt;</th><th scope=col>&lt;dbl&gt;</th><th scope=col>&lt;dbl&gt;</th><th scope=col>&lt;dbl&gt;</th><th scope=col>&lt;dbl&gt;</th><th scope=col>&lt;dbl&gt;</th><th scope=col>&lt;dbl&gt;</th><th scope=col>&lt;dbl&gt;</th><th scope=col>&lt;dbl&gt;</th></tr>\n",
       "</thead>\n",
       "<tbody>\n",
       "\t<tr><th scope=row>1</th><td>0</td><td>30002</td><td>  0</td><td>1</td><td>94.33333</td><td>NA</td><td>1606.833</td><td>1.0000000</td><td>2.666667</td><td>91.666667</td><td>⋯</td><td>16</td><td>20</td><td>0</td><td>38</td><td>28</td><td>31</td><td>34</td><td>39</td><td>56</td><td>3</td></tr>\n",
       "\t<tr><th scope=row>2</th><td>1</td><td>30002</td><td> 30</td><td>1</td><td>92.00000</td><td>NA</td><td>1759.167</td><td>1.0000000</td><td>2.666667</td><td>89.333333</td><td>⋯</td><td>16</td><td>20</td><td>0</td><td>38</td><td>28</td><td>31</td><td>34</td><td>39</td><td>56</td><td>3</td></tr>\n",
       "\t<tr><th scope=row>3</th><td>2</td><td>30002</td><td> 60</td><td>1</td><td>70.00000</td><td>NA</td><td>1760.167</td><td>0.8333333</td><td>2.666667</td><td>67.333333</td><td>⋯</td><td>16</td><td>20</td><td>0</td><td>38</td><td>28</td><td>31</td><td>34</td><td>39</td><td>56</td><td>3</td></tr>\n",
       "\t<tr><th scope=row>4</th><td>3</td><td>30002</td><td> 90</td><td>1</td><td>41.16667</td><td>NA</td><td>1813.500</td><td>1.0000000</td><td>2.666667</td><td>38.500000</td><td>⋯</td><td>16</td><td>20</td><td>0</td><td>38</td><td>28</td><td>31</td><td>34</td><td>39</td><td>56</td><td>3</td></tr>\n",
       "\t<tr><th scope=row>5</th><td>4</td><td>30002</td><td>120</td><td>1</td><td> 6.50000</td><td>NA</td><td>1976.667</td><td>0.8333333</td><td>2.666667</td><td> 3.833333</td><td>⋯</td><td>16</td><td>20</td><td>0</td><td>38</td><td>28</td><td>31</td><td>34</td><td>39</td><td>56</td><td>3</td></tr>\n",
       "</tbody>\n",
       "</table>\n"
      ],
      "text/latex": [
       "A data.frame: 5 × 24\n",
       "\\begin{tabular}{r|lllllllllllllllllllll}\n",
       "  & X & subID & subtlety & block\\_type & responses\\_subt\\_1 & responses\\_pf & RT & accuracy & rating180 & diff\\_from\\_180 & ⋯ & comm & posAffect & negAffect & neuroticism & extraversion & openness & agreeableness & conscientiousness & loneliness & nfriends\\\\\n",
       "  & <int> & <int> & <dbl> & <dbl> & <dbl> & <lgl> & <dbl> & <dbl> & <dbl> & <dbl> & ⋯ & <dbl> & <dbl> & <dbl> & <dbl> & <dbl> & <dbl> & <dbl> & <dbl> & <dbl> & <dbl>\\\\\n",
       "\\hline\n",
       "\t1 & 0 & 30002 &   0 & 1 & 94.33333 & NA & 1606.833 & 1.0000000 & 2.666667 & 91.666667 & ⋯ & 16 & 20 & 0 & 38 & 28 & 31 & 34 & 39 & 56 & 3\\\\\n",
       "\t2 & 1 & 30002 &  30 & 1 & 92.00000 & NA & 1759.167 & 1.0000000 & 2.666667 & 89.333333 & ⋯ & 16 & 20 & 0 & 38 & 28 & 31 & 34 & 39 & 56 & 3\\\\\n",
       "\t3 & 2 & 30002 &  60 & 1 & 70.00000 & NA & 1760.167 & 0.8333333 & 2.666667 & 67.333333 & ⋯ & 16 & 20 & 0 & 38 & 28 & 31 & 34 & 39 & 56 & 3\\\\\n",
       "\t4 & 3 & 30002 &  90 & 1 & 41.16667 & NA & 1813.500 & 1.0000000 & 2.666667 & 38.500000 & ⋯ & 16 & 20 & 0 & 38 & 28 & 31 & 34 & 39 & 56 & 3\\\\\n",
       "\t5 & 4 & 30002 & 120 & 1 &  6.50000 & NA & 1976.667 & 0.8333333 & 2.666667 &  3.833333 & ⋯ & 16 & 20 & 0 & 38 & 28 & 31 & 34 & 39 & 56 & 3\\\\\n",
       "\\end{tabular}\n"
      ],
      "text/markdown": [
       "\n",
       "A data.frame: 5 × 24\n",
       "\n",
       "| <!--/--> | X &lt;int&gt; | subID &lt;int&gt; | subtlety &lt;dbl&gt; | block_type &lt;dbl&gt; | responses_subt_1 &lt;dbl&gt; | responses_pf &lt;lgl&gt; | RT &lt;dbl&gt; | accuracy &lt;dbl&gt; | rating180 &lt;dbl&gt; | diff_from_180 &lt;dbl&gt; | ⋯ ⋯ | comm &lt;dbl&gt; | posAffect &lt;dbl&gt; | negAffect &lt;dbl&gt; | neuroticism &lt;dbl&gt; | extraversion &lt;dbl&gt; | openness &lt;dbl&gt; | agreeableness &lt;dbl&gt; | conscientiousness &lt;dbl&gt; | loneliness &lt;dbl&gt; | nfriends &lt;dbl&gt; |\n",
       "|---|---|---|---|---|---|---|---|---|---|---|---|---|---|---|---|---|---|---|---|---|---|\n",
       "| 1 | 0 | 30002 |   0 | 1 | 94.33333 | NA | 1606.833 | 1.0000000 | 2.666667 | 91.666667 | ⋯ | 16 | 20 | 0 | 38 | 28 | 31 | 34 | 39 | 56 | 3 |\n",
       "| 2 | 1 | 30002 |  30 | 1 | 92.00000 | NA | 1759.167 | 1.0000000 | 2.666667 | 89.333333 | ⋯ | 16 | 20 | 0 | 38 | 28 | 31 | 34 | 39 | 56 | 3 |\n",
       "| 3 | 2 | 30002 |  60 | 1 | 70.00000 | NA | 1760.167 | 0.8333333 | 2.666667 | 67.333333 | ⋯ | 16 | 20 | 0 | 38 | 28 | 31 | 34 | 39 | 56 | 3 |\n",
       "| 4 | 3 | 30002 |  90 | 1 | 41.16667 | NA | 1813.500 | 1.0000000 | 2.666667 | 38.500000 | ⋯ | 16 | 20 | 0 | 38 | 28 | 31 | 34 | 39 | 56 | 3 |\n",
       "| 5 | 4 | 30002 | 120 | 1 |  6.50000 | NA | 1976.667 | 0.8333333 | 2.666667 |  3.833333 | ⋯ | 16 | 20 | 0 | 38 | 28 | 31 | 34 | 39 | 56 | 3 |\n",
       "\n"
      ],
      "text/plain": [
       "  X subID subtlety block_type responses_subt_1 responses_pf RT       accuracy \n",
       "1 0 30002   0      1          94.33333         NA           1606.833 1.0000000\n",
       "2 1 30002  30      1          92.00000         NA           1759.167 1.0000000\n",
       "3 2 30002  60      1          70.00000         NA           1760.167 0.8333333\n",
       "4 3 30002  90      1          41.16667         NA           1813.500 1.0000000\n",
       "5 4 30002 120      1           6.50000         NA           1976.667 0.8333333\n",
       "  rating180 diff_from_180 ⋯ comm posAffect negAffect neuroticism extraversion\n",
       "1 2.666667  91.666667     ⋯ 16   20        0         38          28          \n",
       "2 2.666667  89.333333     ⋯ 16   20        0         38          28          \n",
       "3 2.666667  67.333333     ⋯ 16   20        0         38          28          \n",
       "4 2.666667  38.500000     ⋯ 16   20        0         38          28          \n",
       "5 2.666667   3.833333     ⋯ 16   20        0         38          28          \n",
       "  openness agreeableness conscientiousness loneliness nfriends\n",
       "1 31       34            39                56         3       \n",
       "2 31       34            39                56         3       \n",
       "3 31       34            39                56         3       \n",
       "4 31       34            39                56         3       \n",
       "5 31       34            39                56         3       "
      ]
     },
     "metadata": {}
    }
   ],
   "metadata": {}
  },
  {
   "cell_type": "code",
   "execution_count": 4,
   "source": [
    "colnames(data)"
   ],
   "outputs": [
    {
     "output_type": "display_data",
     "data": {
      "text/html": [
       "<style>\n",
       ".list-inline {list-style: none; margin:0; padding: 0}\n",
       ".list-inline>li {display: inline-block}\n",
       ".list-inline>li:not(:last-child)::after {content: \"\\00b7\"; padding: 0 .5ex}\n",
       "</style>\n",
       "<ol class=list-inline><li>'X'</li><li>'subID'</li><li>'subtlety'</li><li>'block_type'</li><li>'responses_subt_1'</li><li>'responses_pf'</li><li>'RT'</li><li>'accuracy'</li><li>'rating180'</li><li>'diff_from_180'</li><li>'social_skill'</li><li>'attn_switch'</li><li>'img'</li><li>'attn_to_det'</li><li>'comm'</li><li>'posAffect'</li><li>'negAffect'</li><li>'neuroticism'</li><li>'extraversion'</li><li>'openness'</li><li>'agreeableness'</li><li>'conscientiousness'</li><li>'loneliness'</li><li>'nfriends'</li></ol>\n"
      ],
      "text/latex": [
       "\\begin{enumerate*}\n",
       "\\item 'X'\n",
       "\\item 'subID'\n",
       "\\item 'subtlety'\n",
       "\\item 'block\\_type'\n",
       "\\item 'responses\\_subt\\_1'\n",
       "\\item 'responses\\_pf'\n",
       "\\item 'RT'\n",
       "\\item 'accuracy'\n",
       "\\item 'rating180'\n",
       "\\item 'diff\\_from\\_180'\n",
       "\\item 'social\\_skill'\n",
       "\\item 'attn\\_switch'\n",
       "\\item 'img'\n",
       "\\item 'attn\\_to\\_det'\n",
       "\\item 'comm'\n",
       "\\item 'posAffect'\n",
       "\\item 'negAffect'\n",
       "\\item 'neuroticism'\n",
       "\\item 'extraversion'\n",
       "\\item 'openness'\n",
       "\\item 'agreeableness'\n",
       "\\item 'conscientiousness'\n",
       "\\item 'loneliness'\n",
       "\\item 'nfriends'\n",
       "\\end{enumerate*}\n"
      ],
      "text/markdown": [
       "1. 'X'\n",
       "2. 'subID'\n",
       "3. 'subtlety'\n",
       "4. 'block_type'\n",
       "5. 'responses_subt_1'\n",
       "6. 'responses_pf'\n",
       "7. 'RT'\n",
       "8. 'accuracy'\n",
       "9. 'rating180'\n",
       "10. 'diff_from_180'\n",
       "11. 'social_skill'\n",
       "12. 'attn_switch'\n",
       "13. 'img'\n",
       "14. 'attn_to_det'\n",
       "15. 'comm'\n",
       "16. 'posAffect'\n",
       "17. 'negAffect'\n",
       "18. 'neuroticism'\n",
       "19. 'extraversion'\n",
       "20. 'openness'\n",
       "21. 'agreeableness'\n",
       "22. 'conscientiousness'\n",
       "23. 'loneliness'\n",
       "24. 'nfriends'\n",
       "\n",
       "\n"
      ],
      "text/plain": [
       " [1] \"X\"                 \"subID\"             \"subtlety\"         \n",
       " [4] \"block_type\"        \"responses_subt_1\"  \"responses_pf\"     \n",
       " [7] \"RT\"                \"accuracy\"          \"rating180\"        \n",
       "[10] \"diff_from_180\"     \"social_skill\"      \"attn_switch\"      \n",
       "[13] \"img\"               \"attn_to_det\"       \"comm\"             \n",
       "[16] \"posAffect\"         \"negAffect\"         \"neuroticism\"      \n",
       "[19] \"extraversion\"      \"openness\"          \"agreeableness\"    \n",
       "[22] \"conscientiousness\" \"loneliness\"        \"nfriends\"         "
      ]
     },
     "metadata": {}
    }
   ],
   "metadata": {}
  },
  {
   "cell_type": "code",
   "execution_count": 5,
   "source": [
    "# Print the dimensions of the data frame\n",
    "print(dim(data))\n",
    "\n",
    "# Drop rows with NA values\n",
    "# data <- na.omit(data)\n",
    "\n",
    "# Print the dimensions of the data frame after dropping NA values\n",
    "print(dim(data))"
   ],
   "outputs": [
    {
     "output_type": "stream",
     "name": "stdout",
     "text": [
      "[1] 1932   24\n",
      "[1] 1932   24\n"
     ]
    }
   ],
   "metadata": {}
  },
  {
   "cell_type": "markdown",
   "source": [
    "# mult reg (relevant traits and curve fits)"
   ],
   "metadata": {}
  },
  {
   "cell_type": "code",
   "execution_count": 6,
   "source": [
    "# install.packages(\"dplyr\")\n",
    "library(dplyr)\n",
    "\n",
    "# Rename specific columns\n",
    "data <- data %>% rename(\n",
    "  slider = responses_subt_1,\n",
    ")\n",
    "\n",
    "# # Rename specific columns\n",
    "# data <- data %>% rename(\n",
    "#   pos_affect = Positive_reweigh,\n",
    "#   PSE_subt = obj_center_subt,\n",
    "#   range_subt = amplitude_subt,\n",
    "#   bias_subt = bias_xmin_norm_subt,\n",
    "#   PSE_pf = obj_center_pf,\n",
    "#   range_pf = amplitude_pf,\n",
    "#   bias_pf = bias_xmin_norm_pf,\n",
    "#   PSE_diff = obj_center_diff,\n",
    "#   range_diff = amplitude_diff,\n",
    "#   bias_diff = bias_xmin_norm_diff\n",
    "# )"
   ],
   "outputs": [
    {
     "output_type": "stream",
     "name": "stderr",
     "text": [
      "\n",
      "Attaching package: ‘dplyr’\n",
      "\n",
      "\n",
      "The following objects are masked from ‘package:stats’:\n",
      "\n",
      "    filter, lag\n",
      "\n",
      "\n",
      "The following objects are masked from ‘package:base’:\n",
      "\n",
      "    intersect, setdiff, setequal, union\n",
      "\n",
      "\n"
     ]
    }
   ],
   "metadata": {}
  },
  {
   "cell_type": "code",
   "execution_count": 7,
   "source": [
    "trait <- 'social_skill'"
   ],
   "outputs": [],
   "metadata": {}
  },
  {
   "cell_type": "code",
   "execution_count": 8,
   "source": [
    "data1 <- data[data$subtlety == 0 , ]\n",
    "formula <- as.formula(paste(\"slider ~ \", trait))\n",
    "m1 <- lm(formula, data = data1)\n",
    "summary(m1)"
   ],
   "outputs": [
    {
     "output_type": "display_data",
     "data": {
      "text/plain": [
       "\n",
       "Call:\n",
       "lm(formula = formula, data = data1)\n",
       "\n",
       "Residuals:\n",
       "    Min      1Q  Median      3Q     Max \n",
       "-34.471  -5.712   2.362   8.033  10.888 \n",
       "\n",
       "Coefficients:\n",
       "             Estimate Std. Error t value Pr(>|t|)    \n",
       "(Intercept)  89.00934    1.38275  64.371   <2e-16 ***\n",
       "social_skill  0.05134    0.09399   0.546    0.585    \n",
       "---\n",
       "Signif. codes:  0 ‘***’ 0.001 ‘**’ 0.01 ‘*’ 0.05 ‘.’ 0.1 ‘ ’ 1\n",
       "\n",
       "Residual standard error: 9.755 on 274 degrees of freedom\n",
       "Multiple R-squared:  0.001088,\tAdjusted R-squared:  -0.002558 \n",
       "F-statistic: 0.2983 on 1 and 274 DF,  p-value: 0.5854\n"
      ]
     },
     "metadata": {}
    }
   ],
   "metadata": {}
  },
  {
   "cell_type": "code",
   "execution_count": 9,
   "source": [
    "data1 <- data[data$subtlety == 30 , ]\n",
    "formula <- as.formula(paste(\"slider ~ \", trait))\n",
    "m1 <- lm(formula, data = data1)\n",
    "summary(m1)"
   ],
   "outputs": [
    {
     "output_type": "display_data",
     "data": {
      "text/plain": [
       "\n",
       "Call:\n",
       "lm(formula = formula, data = data1)\n",
       "\n",
       "Residuals:\n",
       "    Min      1Q  Median      3Q     Max \n",
       "-41.226  -6.331   2.440   8.470  11.370 \n",
       "\n",
       "Coefficients:\n",
       "             Estimate Std. Error t value Pr(>|t|)    \n",
       "(Intercept)  88.59734    1.42646  62.110   <2e-16 ***\n",
       "social_skill  0.01611    0.09696   0.166    0.868    \n",
       "---\n",
       "Signif. codes:  0 ‘***’ 0.001 ‘**’ 0.01 ‘*’ 0.05 ‘.’ 0.1 ‘ ’ 1\n",
       "\n",
       "Residual standard error: 10.06 on 274 degrees of freedom\n",
       "Multiple R-squared:  0.0001008,\tAdjusted R-squared:  -0.003548 \n",
       "F-statistic: 0.02762 on 1 and 274 DF,  p-value: 0.8681\n"
      ]
     },
     "metadata": {}
    }
   ],
   "metadata": {}
  },
  {
   "cell_type": "code",
   "execution_count": 10,
   "source": [
    "data1 <- data[data$subtlety == 60 , ]\n",
    "formula <- as.formula(paste(\"slider ~ \", trait))\n",
    "m1 <- lm(formula, data = data1)\n",
    "summary(m1)"
   ],
   "outputs": [
    {
     "output_type": "display_data",
     "data": {
      "text/plain": [
       "\n",
       "Call:\n",
       "lm(formula = formula, data = data1)\n",
       "\n",
       "Residuals:\n",
       "    Min      1Q  Median      3Q     Max \n",
       "-37.006  -7.386   1.077   8.204  16.591 \n",
       "\n",
       "Coefficients:\n",
       "             Estimate Std. Error t value Pr(>|t|)    \n",
       "(Intercept)   84.3136     1.5466  54.515   <2e-16 ***\n",
       "social_skill  -0.0377     0.1051  -0.359     0.72    \n",
       "---\n",
       "Signif. codes:  0 ‘***’ 0.001 ‘**’ 0.01 ‘*’ 0.05 ‘.’ 0.1 ‘ ’ 1\n",
       "\n",
       "Residual standard error: 10.91 on 274 degrees of freedom\n",
       "Multiple R-squared:  0.0004691,\tAdjusted R-squared:  -0.003179 \n",
       "F-statistic: 0.1286 on 1 and 274 DF,  p-value: 0.7202\n"
      ]
     },
     "metadata": {}
    }
   ],
   "metadata": {}
  },
  {
   "cell_type": "code",
   "execution_count": 11,
   "source": [
    "data1 <- data[data$subtlety == 90 , ]\n",
    "formula <- as.formula(paste(\"slider ~ \", trait))\n",
    "m1 <- lm(formula, data = data1)\n",
    "summary(m1)"
   ],
   "outputs": [
    {
     "output_type": "display_data",
     "data": {
      "text/plain": [
       "\n",
       "Call:\n",
       "lm(formula = formula, data = data1)\n",
       "\n",
       "Residuals:\n",
       "    Min      1Q  Median      3Q     Max \n",
       "-49.598  -8.556   1.253   9.587  29.731 \n",
       "\n",
       "Coefficients:\n",
       "             Estimate Std. Error t value Pr(>|t|)    \n",
       "(Intercept)  70.04015    1.88389  37.178   <2e-16 ***\n",
       "social_skill  0.03262    0.12806   0.255    0.799    \n",
       "---\n",
       "Signif. codes:  0 ‘***’ 0.001 ‘**’ 0.01 ‘*’ 0.05 ‘.’ 0.1 ‘ ’ 1\n",
       "\n",
       "Residual standard error: 13.29 on 274 degrees of freedom\n",
       "Multiple R-squared:  0.0002368,\tAdjusted R-squared:  -0.003412 \n",
       "F-statistic: 0.06489 on 1 and 274 DF,  p-value: 0.7991\n"
      ]
     },
     "metadata": {}
    }
   ],
   "metadata": {}
  },
  {
   "cell_type": "code",
   "execution_count": 12,
   "source": [
    "data1 <- data[data$subtlety == 120 , ]\n",
    "formula <- as.formula(paste(\"slider ~ \", trait))\n",
    "m1 <- lm(formula, data = data1)\n",
    "summary(m1)"
   ],
   "outputs": [
    {
     "output_type": "display_data",
     "data": {
      "text/plain": [
       "\n",
       "Call:\n",
       "lm(formula = formula, data = data1)\n",
       "\n",
       "Residuals:\n",
       "    Min      1Q  Median      3Q     Max \n",
       "-41.743 -11.532   0.355  11.218  51.893 \n",
       "\n",
       "Coefficients:\n",
       "             Estimate Std. Error t value Pr(>|t|)    \n",
       "(Intercept)   42.8030     2.4609  17.394   <2e-16 ***\n",
       "social_skill  -0.2120     0.1673  -1.267    0.206    \n",
       "---\n",
       "Signif. codes:  0 ‘***’ 0.001 ‘**’ 0.01 ‘*’ 0.05 ‘.’ 0.1 ‘ ’ 1\n",
       "\n",
       "Residual standard error: 17.36 on 274 degrees of freedom\n",
       "Multiple R-squared:  0.005829,\tAdjusted R-squared:  0.002201 \n",
       "F-statistic: 1.606 on 1 and 274 DF,  p-value: 0.2061\n"
      ]
     },
     "metadata": {}
    }
   ],
   "metadata": {}
  },
  {
   "cell_type": "code",
   "execution_count": 13,
   "source": [
    "data1 <- data[data$subtlety == 150 , ]\n",
    "formula <- as.formula(paste(\"slider ~ \", trait))\n",
    "m1 <- lm(formula, data = data1)\n",
    "summary(m1)"
   ],
   "outputs": [
    {
     "output_type": "display_data",
     "data": {
      "text/plain": [
       "\n",
       "Call:\n",
       "lm(formula = formula, data = data1)\n",
       "\n",
       "Residuals:\n",
       "    Min      1Q  Median      3Q     Max \n",
       "-28.623 -10.219  -0.497  10.056  54.269 \n",
       "\n",
       "Coefficients:\n",
       "             Estimate Std. Error t value Pr(>|t|)    \n",
       "(Intercept)   30.2612     2.0471  14.782   <2e-16 ***\n",
       "social_skill  -0.2609     0.1392  -1.875   0.0619 .  \n",
       "---\n",
       "Signif. codes:  0 ‘***’ 0.001 ‘**’ 0.01 ‘*’ 0.05 ‘.’ 0.1 ‘ ’ 1\n",
       "\n",
       "Residual standard error: 14.44 on 274 degrees of freedom\n",
       "Multiple R-squared:  0.01267,\tAdjusted R-squared:  0.009062 \n",
       "F-statistic: 3.515 on 1 and 274 DF,  p-value: 0.06188\n"
      ]
     },
     "metadata": {}
    }
   ],
   "metadata": {}
  },
  {
   "cell_type": "code",
   "execution_count": 14,
   "source": [
    "data1 <- data[data$subtlety == 180 , ]\n",
    "formula <- as.formula(paste(\"slider ~ \", trait))\n",
    "m1 <- lm(formula, data = data1)\n",
    "summary(m1)"
   ],
   "outputs": [
    {
     "output_type": "display_data",
     "data": {
      "text/plain": [
       "\n",
       "Call:\n",
       "lm(formula = formula, data = data1)\n",
       "\n",
       "Residuals:\n",
       "    Min      1Q  Median      3Q     Max \n",
       "-24.815 -10.664  -2.242   8.405  47.208 \n",
       "\n",
       "Coefficients:\n",
       "             Estimate Std. Error t value Pr(>|t|)    \n",
       "(Intercept)   25.6220     2.1269   12.05   <2e-16 ***\n",
       "social_skill  -0.1345     0.1446   -0.93    0.353    \n",
       "---\n",
       "Signif. codes:  0 ‘***’ 0.001 ‘**’ 0.01 ‘*’ 0.05 ‘.’ 0.1 ‘ ’ 1\n",
       "\n",
       "Residual standard error: 15 on 274 degrees of freedom\n",
       "Multiple R-squared:  0.003148,\tAdjusted R-squared:  -0.0004902 \n",
       "F-statistic: 0.8653 on 1 and 274 DF,  p-value: 0.3531\n"
      ]
     },
     "metadata": {}
    }
   ],
   "metadata": {}
  },
  {
   "cell_type": "code",
   "execution_count": 15,
   "source": [
    "data1 <- data[(data$subtlety == 0), ]\n",
    "formula <- as.formula(paste(\"diff_from_180 ~ subtlety + \", trait))\n",
    "m1 <- lm(formula, data = data1)\n",
    "summary(m1)"
   ],
   "outputs": [
    {
     "output_type": "display_data",
     "data": {
      "text/plain": [
       "\n",
       "Call:\n",
       "lm(formula = formula, data = data1)\n",
       "\n",
       "Residuals:\n",
       "    Min      1Q  Median      3Q     Max \n",
       "-57.175 -12.449   2.297  14.702  35.517 \n",
       "\n",
       "Coefficients: (1 not defined because of singularities)\n",
       "             Estimate Std. Error t value Pr(>|t|)    \n",
       "(Intercept)   63.3874     2.8371  22.343   <2e-16 ***\n",
       "subtlety           NA         NA      NA       NA    \n",
       "social_skill   0.1858     0.1929   0.964    0.336    \n",
       "---\n",
       "Signif. codes:  0 ‘***’ 0.001 ‘**’ 0.01 ‘*’ 0.05 ‘.’ 0.1 ‘ ’ 1\n",
       "\n",
       "Residual standard error: 20.01 on 274 degrees of freedom\n",
       "Multiple R-squared:  0.003377,\tAdjusted R-squared:  -0.0002603 \n",
       "F-statistic: 0.9284 on 1 and 274 DF,  p-value: 0.3361\n"
      ]
     },
     "metadata": {}
    }
   ],
   "metadata": {}
  },
  {
   "cell_type": "code",
   "execution_count": null,
   "source": [],
   "outputs": [],
   "metadata": {}
  },
  {
   "cell_type": "code",
   "execution_count": null,
   "source": [],
   "outputs": [],
   "metadata": {}
  }
 ],
 "metadata": {
  "interpreter": {
   "hash": "fd4f9b4a611f13030669d34296d320a89181368ed7f3667f4142a08b4c2c4fbe"
  },
  "kernelspec": {
   "name": "python3124jvsc74a57bd04a074528bc854e8a1fdc819f4bc249979b3b196bce4de5afb134a947ed71fa2f",
   "display_name": "R",
   "language": "R"
  },
  "language_info": {
   "name": "R",
   "codemirror_mode": "r",
   "pygments_lexer": "r",
   "mimetype": "text/x-r-source",
   "file_extension": ".r",
   "version": "4.3.3"
  }
 },
 "nbformat": 4,
 "nbformat_minor": 4
}
{
 "cells": [
  {
   "cell_type": "code",
   "execution_count": 1,
   "source": [
    "print(\"Hello, R in Jupyter!\")"
   ],
   "outputs": [
    {
     "output_type": "stream",
     "name": "stdout",
     "text": [
      "[1] \"Hello, R in Jupyter!\"\n"
     ]
    }
   ],
   "metadata": {}
  },
  {
   "cell_type": "code",
   "execution_count": 2,
   "source": [
    "# Basic arithmetic\n",
    "result <- 2 + 2\n",
    "print(result)"
   ],
   "outputs": [
    {
     "output_type": "stream",
     "name": "stdout",
     "text": [
      "[1] 4\n"
     ]
    }
   ],
   "metadata": {}
  },
  {
   "cell_type": "code",
   "execution_count": 3,
   "source": [
    "root_dir = '../../data/subtlety_playfight_data/'#/Users/f0053cz/Documents/psyanim_v2/scripts_for_beh_paper/data/subtlety_playfight_data/'\n",
    "data <- read.csv(paste(root_dir,'curvefit_traits_merged_linearpf_withPC1.csv', sep = \"/\"))\n",
    "# print(data)\n",
    "head(data, 5)"
   ],
   "outputs": [
    {
     "output_type": "display_data",
     "data": {
      "text/html": [
       "<table class=\"dataframe\">\n",
       "<caption>A data.frame: 5 × 44</caption>\n",
       "<thead>\n",
       "\t<tr><th></th><th scope=col>X</th><th scope=col>index</th><th scope=col>subID</th><th scope=col>r_squared_subt</th><th scope=col>nrmse_subt</th><th scope=col>aic_subt</th><th scope=col>center</th><th scope=col>PSE_subt</th><th scope=col>sigma_subt</th><th scope=col>bias_xmin_subt</th><th scope=col>⋯</th><th scope=col>posAffect</th><th scope=col>negAffect</th><th scope=col>neuroticism</th><th scope=col>extraversion</th><th scope=col>openness</th><th scope=col>agreeableness</th><th scope=col>conscientiousness</th><th scope=col>loneliness</th><th scope=col>nfriends</th><th scope=col>PC1</th></tr>\n",
       "\t<tr><th></th><th scope=col>&lt;int&gt;</th><th scope=col>&lt;int&gt;</th><th scope=col>&lt;dbl&gt;</th><th scope=col>&lt;dbl&gt;</th><th scope=col>&lt;dbl&gt;</th><th scope=col>&lt;dbl&gt;</th><th scope=col>&lt;dbl&gt;</th><th scope=col>&lt;dbl&gt;</th><th scope=col>&lt;dbl&gt;</th><th scope=col>&lt;dbl&gt;</th><th scope=col>⋯</th><th scope=col>&lt;dbl&gt;</th><th scope=col>&lt;dbl&gt;</th><th scope=col>&lt;dbl&gt;</th><th scope=col>&lt;dbl&gt;</th><th scope=col>&lt;dbl&gt;</th><th scope=col>&lt;dbl&gt;</th><th scope=col>&lt;dbl&gt;</th><th scope=col>&lt;dbl&gt;</th><th scope=col>&lt;dbl&gt;</th><th scope=col>&lt;dbl&gt;</th></tr>\n",
       "</thead>\n",
       "<tbody>\n",
       "\t<tr><th scope=row>1</th><td>0</td><td>0</td><td>30002</td><td>0.9789465</td><td>0.05958450</td><td>-35.48504</td><td>0.5461832</td><td>0.5529510</td><td>0.10335957</td><td>0.031291240</td><td>⋯</td><td>20</td><td> 0</td><td>38</td><td>28.00000</td><td>31.00000</td><td>34</td><td>39</td><td>56</td><td>3</td><td> 16.10785</td></tr>\n",
       "\t<tr><th scope=row>2</th><td>1</td><td>1</td><td>30004</td><td>0.9947840</td><td>0.03131009</td><td>-44.49341</td><td>0.3112003</td><td>0.2768959</td><td>0.07686605</td><td>0.194060972</td><td>⋯</td><td>25</td><td>11</td><td>38</td><td>26.18182</td><td>50.00000</td><td>50</td><td>46</td><td>56</td><td>3</td><td> 13.40826</td></tr>\n",
       "\t<tr><th scope=row>3</th><td>2</td><td>2</td><td>30005</td><td>0.9856356</td><td>0.04832041</td><td>-38.41862</td><td>0.3800630</td><td>0.3205832</td><td>0.11535284</td><td>0.249788688</td><td>⋯</td><td>20</td><td>21</td><td>51</td><td>39.00000</td><td>40.00000</td><td>43</td><td>19</td><td>41</td><td>5</td><td> 20.62867</td></tr>\n",
       "\t<tr><th scope=row>4</th><td>3</td><td>3</td><td>30006</td><td>0.9837098</td><td>0.05739903</td><td>-36.00819</td><td>0.4658866</td><td>0.4648232</td><td>0.07922090</td><td>0.009432723</td><td>⋯</td><td>25</td><td> 0</td><td>18</td><td>41.00000</td><td>31.00000</td><td>44</td><td>57</td><td>30</td><td>4</td><td>-27.57041</td></tr>\n",
       "\t<tr><th scope=row>5</th><td>4</td><td>4</td><td>30008</td><td>0.9007922</td><td>0.11023567</td><td>-26.87189</td><td>0.3854147</td><td>0.3251178</td><td>0.17258480</td><td>0.289378203</td><td>⋯</td><td>28</td><td> 4</td><td>27</td><td>46.00000</td><td>42.54545</td><td>46</td><td>50</td><td>45</td><td>5</td><td>-12.51604</td></tr>\n",
       "</tbody>\n",
       "</table>\n"
      ],
      "text/latex": [
       "A data.frame: 5 × 44\n",
       "\\begin{tabular}{r|lllllllllllllllllllll}\n",
       "  & X & index & subID & r\\_squared\\_subt & nrmse\\_subt & aic\\_subt & center & PSE\\_subt & sigma\\_subt & bias\\_xmin\\_subt & ⋯ & posAffect & negAffect & neuroticism & extraversion & openness & agreeableness & conscientiousness & loneliness & nfriends & PC1\\\\\n",
       "  & <int> & <int> & <dbl> & <dbl> & <dbl> & <dbl> & <dbl> & <dbl> & <dbl> & <dbl> & ⋯ & <dbl> & <dbl> & <dbl> & <dbl> & <dbl> & <dbl> & <dbl> & <dbl> & <dbl> & <dbl>\\\\\n",
       "\\hline\n",
       "\t1 & 0 & 0 & 30002 & 0.9789465 & 0.05958450 & -35.48504 & 0.5461832 & 0.5529510 & 0.10335957 & 0.031291240 & ⋯ & 20 &  0 & 38 & 28.00000 & 31.00000 & 34 & 39 & 56 & 3 &  16.10785\\\\\n",
       "\t2 & 1 & 1 & 30004 & 0.9947840 & 0.03131009 & -44.49341 & 0.3112003 & 0.2768959 & 0.07686605 & 0.194060972 & ⋯ & 25 & 11 & 38 & 26.18182 & 50.00000 & 50 & 46 & 56 & 3 &  13.40826\\\\\n",
       "\t3 & 2 & 2 & 30005 & 0.9856356 & 0.04832041 & -38.41862 & 0.3800630 & 0.3205832 & 0.11535284 & 0.249788688 & ⋯ & 20 & 21 & 51 & 39.00000 & 40.00000 & 43 & 19 & 41 & 5 &  20.62867\\\\\n",
       "\t4 & 3 & 3 & 30006 & 0.9837098 & 0.05739903 & -36.00819 & 0.4658866 & 0.4648232 & 0.07922090 & 0.009432723 & ⋯ & 25 &  0 & 18 & 41.00000 & 31.00000 & 44 & 57 & 30 & 4 & -27.57041\\\\\n",
       "\t5 & 4 & 4 & 30008 & 0.9007922 & 0.11023567 & -26.87189 & 0.3854147 & 0.3251178 & 0.17258480 & 0.289378203 & ⋯ & 28 &  4 & 27 & 46.00000 & 42.54545 & 46 & 50 & 45 & 5 & -12.51604\\\\\n",
       "\\end{tabular}\n"
      ],
      "text/markdown": [
       "\n",
       "A data.frame: 5 × 44\n",
       "\n",
       "| <!--/--> | X &lt;int&gt; | index &lt;int&gt; | subID &lt;dbl&gt; | r_squared_subt &lt;dbl&gt; | nrmse_subt &lt;dbl&gt; | aic_subt &lt;dbl&gt; | center &lt;dbl&gt; | PSE_subt &lt;dbl&gt; | sigma_subt &lt;dbl&gt; | bias_xmin_subt &lt;dbl&gt; | ⋯ ⋯ | posAffect &lt;dbl&gt; | negAffect &lt;dbl&gt; | neuroticism &lt;dbl&gt; | extraversion &lt;dbl&gt; | openness &lt;dbl&gt; | agreeableness &lt;dbl&gt; | conscientiousness &lt;dbl&gt; | loneliness &lt;dbl&gt; | nfriends &lt;dbl&gt; | PC1 &lt;dbl&gt; |\n",
       "|---|---|---|---|---|---|---|---|---|---|---|---|---|---|---|---|---|---|---|---|---|---|\n",
       "| 1 | 0 | 0 | 30002 | 0.9789465 | 0.05958450 | -35.48504 | 0.5461832 | 0.5529510 | 0.10335957 | 0.031291240 | ⋯ | 20 |  0 | 38 | 28.00000 | 31.00000 | 34 | 39 | 56 | 3 |  16.10785 |\n",
       "| 2 | 1 | 1 | 30004 | 0.9947840 | 0.03131009 | -44.49341 | 0.3112003 | 0.2768959 | 0.07686605 | 0.194060972 | ⋯ | 25 | 11 | 38 | 26.18182 | 50.00000 | 50 | 46 | 56 | 3 |  13.40826 |\n",
       "| 3 | 2 | 2 | 30005 | 0.9856356 | 0.04832041 | -38.41862 | 0.3800630 | 0.3205832 | 0.11535284 | 0.249788688 | ⋯ | 20 | 21 | 51 | 39.00000 | 40.00000 | 43 | 19 | 41 | 5 |  20.62867 |\n",
       "| 4 | 3 | 3 | 30006 | 0.9837098 | 0.05739903 | -36.00819 | 0.4658866 | 0.4648232 | 0.07922090 | 0.009432723 | ⋯ | 25 |  0 | 18 | 41.00000 | 31.00000 | 44 | 57 | 30 | 4 | -27.57041 |\n",
       "| 5 | 4 | 4 | 30008 | 0.9007922 | 0.11023567 | -26.87189 | 0.3854147 | 0.3251178 | 0.17258480 | 0.289378203 | ⋯ | 28 |  4 | 27 | 46.00000 | 42.54545 | 46 | 50 | 45 | 5 | -12.51604 |\n",
       "\n"
      ],
      "text/plain": [
       "  X index subID r_squared_subt nrmse_subt aic_subt  center    PSE_subt \n",
       "1 0 0     30002 0.9789465      0.05958450 -35.48504 0.5461832 0.5529510\n",
       "2 1 1     30004 0.9947840      0.03131009 -44.49341 0.3112003 0.2768959\n",
       "3 2 2     30005 0.9856356      0.04832041 -38.41862 0.3800630 0.3205832\n",
       "4 3 3     30006 0.9837098      0.05739903 -36.00819 0.4658866 0.4648232\n",
       "5 4 4     30008 0.9007922      0.11023567 -26.87189 0.3854147 0.3251178\n",
       "  sigma_subt bias_xmin_subt ⋯ posAffect negAffect neuroticism extraversion\n",
       "1 0.10335957 0.031291240    ⋯ 20         0        38          28.00000    \n",
       "2 0.07686605 0.194060972    ⋯ 25        11        38          26.18182    \n",
       "3 0.11535284 0.249788688    ⋯ 20        21        51          39.00000    \n",
       "4 0.07922090 0.009432723    ⋯ 25         0        18          41.00000    \n",
       "5 0.17258480 0.289378203    ⋯ 28         4        27          46.00000    \n",
       "  openness agreeableness conscientiousness loneliness nfriends PC1      \n",
       "1 31.00000 34            39                56         3         16.10785\n",
       "2 50.00000 50            46                56         3         13.40826\n",
       "3 40.00000 43            19                41         5         20.62867\n",
       "4 31.00000 44            57                30         4        -27.57041\n",
       "5 42.54545 46            50                45         5        -12.51604"
      ]
     },
     "metadata": {}
    }
   ],
   "metadata": {}
  },
  {
   "cell_type": "code",
   "execution_count": 4,
   "source": [
    "colnames(data)"
   ],
   "outputs": [
    {
     "output_type": "display_data",
     "data": {
      "text/html": [
       "<style>\n",
       ".list-inline {list-style: none; margin:0; padding: 0}\n",
       ".list-inline>li {display: inline-block}\n",
       ".list-inline>li:not(:last-child)::after {content: \"\\00b7\"; padding: 0 .5ex}\n",
       "</style>\n",
       "<ol class=list-inline><li>'X'</li><li>'index'</li><li>'subID'</li><li>'r_squared_subt'</li><li>'nrmse_subt'</li><li>'aic_subt'</li><li>'center'</li><li>'PSE_subt'</li><li>'sigma_subt'</li><li>'bias_xmin_subt'</li><li>'bias_xmax_subt'</li><li>'bias_lower_subt'</li><li>'bias_upper_subt'</li><li>'flipped_subt'</li><li>'range_subt'</li><li>'bias_subt'</li><li>'r_squared_pf'</li><li>'nrmse_pf'</li><li>'aic_pf'</li><li>'PSE_pf'</li><li>'slope_pf'</li><li>'intercept'</li><li>'bias_xmin_pf'</li><li>'bias_xmax_pf'</li><li>'bias_lower_pf'</li><li>'bias_upper_pf'</li><li>'flipped_pf'</li><li>'range_pf'</li><li>'bias_pf'</li><li>'social_skill'</li><li>'attn_switch'</li><li>'img'</li><li>'attn_to_det'</li><li>'comm'</li><li>'posAffect'</li><li>'negAffect'</li><li>'neuroticism'</li><li>'extraversion'</li><li>'openness'</li><li>'agreeableness'</li><li>'conscientiousness'</li><li>'loneliness'</li><li>'nfriends'</li><li>'PC1'</li></ol>\n"
      ],
      "text/latex": [
       "\\begin{enumerate*}\n",
       "\\item 'X'\n",
       "\\item 'index'\n",
       "\\item 'subID'\n",
       "\\item 'r\\_squared\\_subt'\n",
       "\\item 'nrmse\\_subt'\n",
       "\\item 'aic\\_subt'\n",
       "\\item 'center'\n",
       "\\item 'PSE\\_subt'\n",
       "\\item 'sigma\\_subt'\n",
       "\\item 'bias\\_xmin\\_subt'\n",
       "\\item 'bias\\_xmax\\_subt'\n",
       "\\item 'bias\\_lower\\_subt'\n",
       "\\item 'bias\\_upper\\_subt'\n",
       "\\item 'flipped\\_subt'\n",
       "\\item 'range\\_subt'\n",
       "\\item 'bias\\_subt'\n",
       "\\item 'r\\_squared\\_pf'\n",
       "\\item 'nrmse\\_pf'\n",
       "\\item 'aic\\_pf'\n",
       "\\item 'PSE\\_pf'\n",
       "\\item 'slope\\_pf'\n",
       "\\item 'intercept'\n",
       "\\item 'bias\\_xmin\\_pf'\n",
       "\\item 'bias\\_xmax\\_pf'\n",
       "\\item 'bias\\_lower\\_pf'\n",
       "\\item 'bias\\_upper\\_pf'\n",
       "\\item 'flipped\\_pf'\n",
       "\\item 'range\\_pf'\n",
       "\\item 'bias\\_pf'\n",
       "\\item 'social\\_skill'\n",
       "\\item 'attn\\_switch'\n",
       "\\item 'img'\n",
       "\\item 'attn\\_to\\_det'\n",
       "\\item 'comm'\n",
       "\\item 'posAffect'\n",
       "\\item 'negAffect'\n",
       "\\item 'neuroticism'\n",
       "\\item 'extraversion'\n",
       "\\item 'openness'\n",
       "\\item 'agreeableness'\n",
       "\\item 'conscientiousness'\n",
       "\\item 'loneliness'\n",
       "\\item 'nfriends'\n",
       "\\item 'PC1'\n",
       "\\end{enumerate*}\n"
      ],
      "text/markdown": [
       "1. 'X'\n",
       "2. 'index'\n",
       "3. 'subID'\n",
       "4. 'r_squared_subt'\n",
       "5. 'nrmse_subt'\n",
       "6. 'aic_subt'\n",
       "7. 'center'\n",
       "8. 'PSE_subt'\n",
       "9. 'sigma_subt'\n",
       "10. 'bias_xmin_subt'\n",
       "11. 'bias_xmax_subt'\n",
       "12. 'bias_lower_subt'\n",
       "13. 'bias_upper_subt'\n",
       "14. 'flipped_subt'\n",
       "15. 'range_subt'\n",
       "16. 'bias_subt'\n",
       "17. 'r_squared_pf'\n",
       "18. 'nrmse_pf'\n",
       "19. 'aic_pf'\n",
       "20. 'PSE_pf'\n",
       "21. 'slope_pf'\n",
       "22. 'intercept'\n",
       "23. 'bias_xmin_pf'\n",
       "24. 'bias_xmax_pf'\n",
       "25. 'bias_lower_pf'\n",
       "26. 'bias_upper_pf'\n",
       "27. 'flipped_pf'\n",
       "28. 'range_pf'\n",
       "29. 'bias_pf'\n",
       "30. 'social_skill'\n",
       "31. 'attn_switch'\n",
       "32. 'img'\n",
       "33. 'attn_to_det'\n",
       "34. 'comm'\n",
       "35. 'posAffect'\n",
       "36. 'negAffect'\n",
       "37. 'neuroticism'\n",
       "38. 'extraversion'\n",
       "39. 'openness'\n",
       "40. 'agreeableness'\n",
       "41. 'conscientiousness'\n",
       "42. 'loneliness'\n",
       "43. 'nfriends'\n",
       "44. 'PC1'\n",
       "\n",
       "\n"
      ],
      "text/plain": [
       " [1] \"X\"                 \"index\"             \"subID\"            \n",
       " [4] \"r_squared_subt\"    \"nrmse_subt\"        \"aic_subt\"         \n",
       " [7] \"center\"            \"PSE_subt\"          \"sigma_subt\"       \n",
       "[10] \"bias_xmin_subt\"    \"bias_xmax_subt\"    \"bias_lower_subt\"  \n",
       "[13] \"bias_upper_subt\"   \"flipped_subt\"      \"range_subt\"       \n",
       "[16] \"bias_subt\"         \"r_squared_pf\"      \"nrmse_pf\"         \n",
       "[19] \"aic_pf\"            \"PSE_pf\"            \"slope_pf\"         \n",
       "[22] \"intercept\"         \"bias_xmin_pf\"      \"bias_xmax_pf\"     \n",
       "[25] \"bias_lower_pf\"     \"bias_upper_pf\"     \"flipped_pf\"       \n",
       "[28] \"range_pf\"          \"bias_pf\"           \"social_skill\"     \n",
       "[31] \"attn_switch\"       \"img\"               \"attn_to_det\"      \n",
       "[34] \"comm\"              \"posAffect\"         \"negAffect\"        \n",
       "[37] \"neuroticism\"       \"extraversion\"      \"openness\"         \n",
       "[40] \"agreeableness\"     \"conscientiousness\" \"loneliness\"       \n",
       "[43] \"nfriends\"          \"PC1\"              "
      ]
     },
     "metadata": {}
    }
   ],
   "metadata": {}
  },
  {
   "cell_type": "code",
   "execution_count": 5,
   "source": [
    "# Print the dimensions of the data frame\n",
    "print(dim(data))\n",
    "\n",
    "# Drop rows with NA values\n",
    "data <- na.omit(data)\n",
    "\n",
    "# Print the dimensions of the data frame after dropping NA values\n",
    "print(dim(data))"
   ],
   "outputs": [
    {
     "output_type": "stream",
     "name": "stdout",
     "text": [
      "[1] 275  44\n",
      "[1] 275  44\n"
     ]
    }
   ],
   "metadata": {}
  },
  {
   "cell_type": "code",
   "execution_count": 6,
   "source": [
    "trait <- 'posAffect'"
   ],
   "outputs": [],
   "metadata": {}
  },
  {
   "cell_type": "code",
   "execution_count": 7,
   "source": [
    "# new_terms = ['obj_center','amplitude','bias_xmin_norm','sigma']\n",
    "new_terms <- c(trait,'PSE_subt', 'range_subt', 'bias_subt', 'sigma_subt', 'PSE_pf', 'range_pf', 'bias_pf', 'slope_pf')\n",
    "new_terms"
   ],
   "outputs": [
    {
     "output_type": "display_data",
     "data": {
      "text/html": [
       "<style>\n",
       ".list-inline {list-style: none; margin:0; padding: 0}\n",
       ".list-inline>li {display: inline-block}\n",
       ".list-inline>li:not(:last-child)::after {content: \"\\00b7\"; padding: 0 .5ex}\n",
       "</style>\n",
       "<ol class=list-inline><li>'posAffect'</li><li>'PSE_subt'</li><li>'range_subt'</li><li>'bias_subt'</li><li>'sigma_subt'</li><li>'PSE_pf'</li><li>'range_pf'</li><li>'bias_pf'</li><li>'slope_pf'</li></ol>\n"
      ],
      "text/latex": [
       "\\begin{enumerate*}\n",
       "\\item 'posAffect'\n",
       "\\item 'PSE\\_subt'\n",
       "\\item 'range\\_subt'\n",
       "\\item 'bias\\_subt'\n",
       "\\item 'sigma\\_subt'\n",
       "\\item 'PSE\\_pf'\n",
       "\\item 'range\\_pf'\n",
       "\\item 'bias\\_pf'\n",
       "\\item 'slope\\_pf'\n",
       "\\end{enumerate*}\n"
      ],
      "text/markdown": [
       "1. 'posAffect'\n",
       "2. 'PSE_subt'\n",
       "3. 'range_subt'\n",
       "4. 'bias_subt'\n",
       "5. 'sigma_subt'\n",
       "6. 'PSE_pf'\n",
       "7. 'range_pf'\n",
       "8. 'bias_pf'\n",
       "9. 'slope_pf'\n",
       "\n",
       "\n"
      ],
      "text/plain": [
       "[1] \"posAffect\"  \"PSE_subt\"   \"range_subt\" \"bias_subt\"  \"sigma_subt\"\n",
       "[6] \"PSE_pf\"     \"range_pf\"   \"bias_pf\"    \"slope_pf\"  "
      ]
     },
     "metadata": {}
    }
   ],
   "metadata": {}
  },
  {
   "cell_type": "markdown",
   "source": [
    "# mult reg (relevant traits and curve fits)"
   ],
   "metadata": {}
  },
  {
   "cell_type": "code",
   "execution_count": 8,
   "source": [
    "# install.packages(\"dplyr\")\n",
    "library(dplyr)\n",
    "\n",
    "# # Rename specific columns\n",
    "# data <- data %>% rename(\n",
    "#   pos_affect = Positive_reweigh,\n",
    "#   PSE_subt = obj_center_subt,\n",
    "#   range_subt = amplitude_subt,\n",
    "#   bias_subt = bias_xmin_norm_subt,\n",
    "#   PSE_pf = obj_center_pf,\n",
    "#   range_pf = amplitude_pf,\n",
    "#   bias_pf = bias_xmin_norm_pf,\n",
    "#   PSE_diff = obj_center_diff,\n",
    "#   range_diff = amplitude_diff,\n",
    "#   bias_diff = bias_xmin_norm_diff\n",
    "# )"
   ],
   "outputs": [
    {
     "output_type": "stream",
     "name": "stderr",
     "text": [
      "\n",
      "Attaching package: ‘dplyr’\n",
      "\n",
      "\n",
      "The following objects are masked from ‘package:stats’:\n",
      "\n",
      "    filter, lag\n",
      "\n",
      "\n",
      "The following objects are masked from ‘package:base’:\n",
      "\n",
      "    intersect, setdiff, setequal, union\n",
      "\n",
      "\n"
     ]
    }
   ],
   "metadata": {}
  },
  {
   "cell_type": "code",
   "execution_count": 9,
   "source": [
    "head(data, 5)"
   ],
   "outputs": [
    {
     "output_type": "display_data",
     "data": {
      "text/html": [
       "<table class=\"dataframe\">\n",
       "<caption>A data.frame: 5 × 44</caption>\n",
       "<thead>\n",
       "\t<tr><th></th><th scope=col>X</th><th scope=col>index</th><th scope=col>subID</th><th scope=col>r_squared_subt</th><th scope=col>nrmse_subt</th><th scope=col>aic_subt</th><th scope=col>center</th><th scope=col>PSE_subt</th><th scope=col>sigma_subt</th><th scope=col>bias_xmin_subt</th><th scope=col>⋯</th><th scope=col>posAffect</th><th scope=col>negAffect</th><th scope=col>neuroticism</th><th scope=col>extraversion</th><th scope=col>openness</th><th scope=col>agreeableness</th><th scope=col>conscientiousness</th><th scope=col>loneliness</th><th scope=col>nfriends</th><th scope=col>PC1</th></tr>\n",
       "\t<tr><th></th><th scope=col>&lt;int&gt;</th><th scope=col>&lt;int&gt;</th><th scope=col>&lt;dbl&gt;</th><th scope=col>&lt;dbl&gt;</th><th scope=col>&lt;dbl&gt;</th><th scope=col>&lt;dbl&gt;</th><th scope=col>&lt;dbl&gt;</th><th scope=col>&lt;dbl&gt;</th><th scope=col>&lt;dbl&gt;</th><th scope=col>&lt;dbl&gt;</th><th scope=col>⋯</th><th scope=col>&lt;dbl&gt;</th><th scope=col>&lt;dbl&gt;</th><th scope=col>&lt;dbl&gt;</th><th scope=col>&lt;dbl&gt;</th><th scope=col>&lt;dbl&gt;</th><th scope=col>&lt;dbl&gt;</th><th scope=col>&lt;dbl&gt;</th><th scope=col>&lt;dbl&gt;</th><th scope=col>&lt;dbl&gt;</th><th scope=col>&lt;dbl&gt;</th></tr>\n",
       "</thead>\n",
       "<tbody>\n",
       "\t<tr><th scope=row>1</th><td>0</td><td>0</td><td>30002</td><td>0.9789465</td><td>0.05958450</td><td>-35.48504</td><td>0.5461832</td><td>0.5529510</td><td>0.10335957</td><td>0.031291240</td><td>⋯</td><td>20</td><td> 0</td><td>38</td><td>28.00000</td><td>31.00000</td><td>34</td><td>39</td><td>56</td><td>3</td><td> 16.10785</td></tr>\n",
       "\t<tr><th scope=row>2</th><td>1</td><td>1</td><td>30004</td><td>0.9947840</td><td>0.03131009</td><td>-44.49341</td><td>0.3112003</td><td>0.2768959</td><td>0.07686605</td><td>0.194060972</td><td>⋯</td><td>25</td><td>11</td><td>38</td><td>26.18182</td><td>50.00000</td><td>50</td><td>46</td><td>56</td><td>3</td><td> 13.40826</td></tr>\n",
       "\t<tr><th scope=row>3</th><td>2</td><td>2</td><td>30005</td><td>0.9856356</td><td>0.04832041</td><td>-38.41862</td><td>0.3800630</td><td>0.3205832</td><td>0.11535284</td><td>0.249788688</td><td>⋯</td><td>20</td><td>21</td><td>51</td><td>39.00000</td><td>40.00000</td><td>43</td><td>19</td><td>41</td><td>5</td><td> 20.62867</td></tr>\n",
       "\t<tr><th scope=row>4</th><td>3</td><td>3</td><td>30006</td><td>0.9837098</td><td>0.05739903</td><td>-36.00819</td><td>0.4658866</td><td>0.4648232</td><td>0.07922090</td><td>0.009432723</td><td>⋯</td><td>25</td><td> 0</td><td>18</td><td>41.00000</td><td>31.00000</td><td>44</td><td>57</td><td>30</td><td>4</td><td>-27.57041</td></tr>\n",
       "\t<tr><th scope=row>5</th><td>4</td><td>4</td><td>30008</td><td>0.9007922</td><td>0.11023567</td><td>-26.87189</td><td>0.3854147</td><td>0.3251178</td><td>0.17258480</td><td>0.289378203</td><td>⋯</td><td>28</td><td> 4</td><td>27</td><td>46.00000</td><td>42.54545</td><td>46</td><td>50</td><td>45</td><td>5</td><td>-12.51604</td></tr>\n",
       "</tbody>\n",
       "</table>\n"
      ],
      "text/latex": [
       "A data.frame: 5 × 44\n",
       "\\begin{tabular}{r|lllllllllllllllllllll}\n",
       "  & X & index & subID & r\\_squared\\_subt & nrmse\\_subt & aic\\_subt & center & PSE\\_subt & sigma\\_subt & bias\\_xmin\\_subt & ⋯ & posAffect & negAffect & neuroticism & extraversion & openness & agreeableness & conscientiousness & loneliness & nfriends & PC1\\\\\n",
       "  & <int> & <int> & <dbl> & <dbl> & <dbl> & <dbl> & <dbl> & <dbl> & <dbl> & <dbl> & ⋯ & <dbl> & <dbl> & <dbl> & <dbl> & <dbl> & <dbl> & <dbl> & <dbl> & <dbl> & <dbl>\\\\\n",
       "\\hline\n",
       "\t1 & 0 & 0 & 30002 & 0.9789465 & 0.05958450 & -35.48504 & 0.5461832 & 0.5529510 & 0.10335957 & 0.031291240 & ⋯ & 20 &  0 & 38 & 28.00000 & 31.00000 & 34 & 39 & 56 & 3 &  16.10785\\\\\n",
       "\t2 & 1 & 1 & 30004 & 0.9947840 & 0.03131009 & -44.49341 & 0.3112003 & 0.2768959 & 0.07686605 & 0.194060972 & ⋯ & 25 & 11 & 38 & 26.18182 & 50.00000 & 50 & 46 & 56 & 3 &  13.40826\\\\\n",
       "\t3 & 2 & 2 & 30005 & 0.9856356 & 0.04832041 & -38.41862 & 0.3800630 & 0.3205832 & 0.11535284 & 0.249788688 & ⋯ & 20 & 21 & 51 & 39.00000 & 40.00000 & 43 & 19 & 41 & 5 &  20.62867\\\\\n",
       "\t4 & 3 & 3 & 30006 & 0.9837098 & 0.05739903 & -36.00819 & 0.4658866 & 0.4648232 & 0.07922090 & 0.009432723 & ⋯ & 25 &  0 & 18 & 41.00000 & 31.00000 & 44 & 57 & 30 & 4 & -27.57041\\\\\n",
       "\t5 & 4 & 4 & 30008 & 0.9007922 & 0.11023567 & -26.87189 & 0.3854147 & 0.3251178 & 0.17258480 & 0.289378203 & ⋯ & 28 &  4 & 27 & 46.00000 & 42.54545 & 46 & 50 & 45 & 5 & -12.51604\\\\\n",
       "\\end{tabular}\n"
      ],
      "text/markdown": [
       "\n",
       "A data.frame: 5 × 44\n",
       "\n",
       "| <!--/--> | X &lt;int&gt; | index &lt;int&gt; | subID &lt;dbl&gt; | r_squared_subt &lt;dbl&gt; | nrmse_subt &lt;dbl&gt; | aic_subt &lt;dbl&gt; | center &lt;dbl&gt; | PSE_subt &lt;dbl&gt; | sigma_subt &lt;dbl&gt; | bias_xmin_subt &lt;dbl&gt; | ⋯ ⋯ | posAffect &lt;dbl&gt; | negAffect &lt;dbl&gt; | neuroticism &lt;dbl&gt; | extraversion &lt;dbl&gt; | openness &lt;dbl&gt; | agreeableness &lt;dbl&gt; | conscientiousness &lt;dbl&gt; | loneliness &lt;dbl&gt; | nfriends &lt;dbl&gt; | PC1 &lt;dbl&gt; |\n",
       "|---|---|---|---|---|---|---|---|---|---|---|---|---|---|---|---|---|---|---|---|---|---|\n",
       "| 1 | 0 | 0 | 30002 | 0.9789465 | 0.05958450 | -35.48504 | 0.5461832 | 0.5529510 | 0.10335957 | 0.031291240 | ⋯ | 20 |  0 | 38 | 28.00000 | 31.00000 | 34 | 39 | 56 | 3 |  16.10785 |\n",
       "| 2 | 1 | 1 | 30004 | 0.9947840 | 0.03131009 | -44.49341 | 0.3112003 | 0.2768959 | 0.07686605 | 0.194060972 | ⋯ | 25 | 11 | 38 | 26.18182 | 50.00000 | 50 | 46 | 56 | 3 |  13.40826 |\n",
       "| 3 | 2 | 2 | 30005 | 0.9856356 | 0.04832041 | -38.41862 | 0.3800630 | 0.3205832 | 0.11535284 | 0.249788688 | ⋯ | 20 | 21 | 51 | 39.00000 | 40.00000 | 43 | 19 | 41 | 5 |  20.62867 |\n",
       "| 4 | 3 | 3 | 30006 | 0.9837098 | 0.05739903 | -36.00819 | 0.4658866 | 0.4648232 | 0.07922090 | 0.009432723 | ⋯ | 25 |  0 | 18 | 41.00000 | 31.00000 | 44 | 57 | 30 | 4 | -27.57041 |\n",
       "| 5 | 4 | 4 | 30008 | 0.9007922 | 0.11023567 | -26.87189 | 0.3854147 | 0.3251178 | 0.17258480 | 0.289378203 | ⋯ | 28 |  4 | 27 | 46.00000 | 42.54545 | 46 | 50 | 45 | 5 | -12.51604 |\n",
       "\n"
      ],
      "text/plain": [
       "  X index subID r_squared_subt nrmse_subt aic_subt  center    PSE_subt \n",
       "1 0 0     30002 0.9789465      0.05958450 -35.48504 0.5461832 0.5529510\n",
       "2 1 1     30004 0.9947840      0.03131009 -44.49341 0.3112003 0.2768959\n",
       "3 2 2     30005 0.9856356      0.04832041 -38.41862 0.3800630 0.3205832\n",
       "4 3 3     30006 0.9837098      0.05739903 -36.00819 0.4658866 0.4648232\n",
       "5 4 4     30008 0.9007922      0.11023567 -26.87189 0.3854147 0.3251178\n",
       "  sigma_subt bias_xmin_subt ⋯ posAffect negAffect neuroticism extraversion\n",
       "1 0.10335957 0.031291240    ⋯ 20         0        38          28.00000    \n",
       "2 0.07686605 0.194060972    ⋯ 25        11        38          26.18182    \n",
       "3 0.11535284 0.249788688    ⋯ 20        21        51          39.00000    \n",
       "4 0.07922090 0.009432723    ⋯ 25         0        18          41.00000    \n",
       "5 0.17258480 0.289378203    ⋯ 28         4        27          46.00000    \n",
       "  openness agreeableness conscientiousness loneliness nfriends PC1      \n",
       "1 31.00000 34            39                56         3         16.10785\n",
       "2 50.00000 50            46                56         3         13.40826\n",
       "3 40.00000 43            19                41         5         20.62867\n",
       "4 31.00000 44            57                30         4        -27.57041\n",
       "5 42.54545 46            50                45         5        -12.51604"
      ]
     },
     "metadata": {}
    }
   ],
   "metadata": {}
  },
  {
   "cell_type": "code",
   "execution_count": 10,
   "source": [
    "trait"
   ],
   "outputs": [
    {
     "output_type": "display_data",
     "data": {
      "text/html": [
       "'posAffect'"
      ],
      "text/latex": [
       "'posAffect'"
      ],
      "text/markdown": [
       "'posAffect'"
      ],
      "text/plain": [
       "[1] \"posAffect\""
      ]
     },
     "metadata": {}
    }
   ],
   "metadata": {}
  },
  {
   "cell_type": "code",
   "execution_count": 11,
   "source": [
    "formula <- as.formula(paste(trait,\" ~ PSE_subt + range_subt + bias_subt + sigma_subt\"))\n",
    "m1 <- lm(formula, data = data)\n",
    "summary(m1)"
   ],
   "outputs": [
    {
     "output_type": "display_data",
     "data": {
      "text/plain": [
       "\n",
       "Call:\n",
       "lm(formula = formula, data = data)\n",
       "\n",
       "Residuals:\n",
       "     Min       1Q   Median       3Q      Max \n",
       "-18.6997  -5.5846  -0.1063   5.6100  18.6052 \n",
       "\n",
       "Coefficients:\n",
       "            Estimate Std. Error t value Pr(>|t|)    \n",
       "(Intercept)   25.590      3.946   6.484 4.22e-10 ***\n",
       "PSE_subt      -1.504      6.247  -0.241    0.810    \n",
       "range_subt    -6.100      3.764  -1.621    0.106    \n",
       "bias_subt      3.242      3.444   0.941    0.347    \n",
       "sigma_subt   -14.581     12.258  -1.190    0.235    \n",
       "---\n",
       "Signif. codes:  0 ‘***’ 0.001 ‘**’ 0.01 ‘*’ 0.05 ‘.’ 0.1 ‘ ’ 1\n",
       "\n",
       "Residual standard error: 8.408 on 270 degrees of freedom\n",
       "Multiple R-squared:  0.02251,\tAdjusted R-squared:  0.00803 \n",
       "F-statistic: 1.555 on 4 and 270 DF,  p-value: 0.1868\n"
      ]
     },
     "metadata": {}
    }
   ],
   "metadata": {}
  },
  {
   "cell_type": "code",
   "execution_count": 17,
   "source": [
    "# Select specific columns (e.g., A and C) and z-score them\n",
    "df_zscore <- as.data.frame(scale(data[, c(trait,\"PSE_subt\", \"range_subt\",\"bias_subt\",\"sigma_subt\",\"PSE_pf\",\"slope_pf\",\"bias_pf\")]))\n",
    "\n",
    "# Print the new data frame with z-scored values\n",
    "head(df_zscore,5)"
   ],
   "outputs": [
    {
     "output_type": "display_data",
     "data": {
      "text/html": [
       "<table class=\"dataframe\">\n",
       "<caption>A data.frame: 5 × 8</caption>\n",
       "<thead>\n",
       "\t<tr><th></th><th scope=col>posAffect</th><th scope=col>PSE_subt</th><th scope=col>range_subt</th><th scope=col>bias_subt</th><th scope=col>sigma_subt</th><th scope=col>PSE_pf</th><th scope=col>slope_pf</th><th scope=col>bias_pf</th></tr>\n",
       "\t<tr><th></th><th scope=col>&lt;dbl&gt;</th><th scope=col>&lt;dbl&gt;</th><th scope=col>&lt;dbl&gt;</th><th scope=col>&lt;dbl&gt;</th><th scope=col>&lt;dbl&gt;</th><th scope=col>&lt;dbl&gt;</th><th scope=col>&lt;dbl&gt;</th><th scope=col>&lt;dbl&gt;</th></tr>\n",
       "</thead>\n",
       "<tbody>\n",
       "\t<tr><th scope=row>1</th><td>-0.2088049</td><td> 1.5767321</td><td> 1.14088842</td><td>-2.1658855</td><td> 0.1395287</td><td> 0.2326507</td><td> 0.7313928</td><td>-0.0852494</td></tr>\n",
       "\t<tr><th scope=row>2</th><td> 0.3834392</td><td>-0.8390867</td><td> 0.62095979</td><td> 1.3894942</td><td>-0.4557972</td><td>-2.0430898</td><td>-0.7165475</td><td> 0.9400053</td></tr>\n",
       "\t<tr><th scope=row>3</th><td>-0.2088049</td><td>-0.4567697</td><td> 0.09711613</td><td> 0.6735449</td><td> 0.4090250</td><td> 0.3044776</td><td> 0.9973410</td><td>-0.2247607</td></tr>\n",
       "\t<tr><th scope=row>4</th><td> 0.3834392</td><td> 0.8055069</td><td> 1.62571731</td><td> 0.8182752</td><td>-0.4028821</td><td>-1.2009126</td><td> 0.4588780</td><td> 1.5583760</td></tr>\n",
       "\t<tr><th scope=row>5</th><td> 0.7387856</td><td>-0.4170865</td><td>-0.60284999</td><td>-0.2050663</td><td> 1.6950628</td><td>-0.8078972</td><td>-0.5244737</td><td> 0.4165962</td></tr>\n",
       "</tbody>\n",
       "</table>\n"
      ],
      "text/latex": [
       "A data.frame: 5 × 8\n",
       "\\begin{tabular}{r|llllllll}\n",
       "  & posAffect & PSE\\_subt & range\\_subt & bias\\_subt & sigma\\_subt & PSE\\_pf & slope\\_pf & bias\\_pf\\\\\n",
       "  & <dbl> & <dbl> & <dbl> & <dbl> & <dbl> & <dbl> & <dbl> & <dbl>\\\\\n",
       "\\hline\n",
       "\t1 & -0.2088049 &  1.5767321 &  1.14088842 & -2.1658855 &  0.1395287 &  0.2326507 &  0.7313928 & -0.0852494\\\\\n",
       "\t2 &  0.3834392 & -0.8390867 &  0.62095979 &  1.3894942 & -0.4557972 & -2.0430898 & -0.7165475 &  0.9400053\\\\\n",
       "\t3 & -0.2088049 & -0.4567697 &  0.09711613 &  0.6735449 &  0.4090250 &  0.3044776 &  0.9973410 & -0.2247607\\\\\n",
       "\t4 &  0.3834392 &  0.8055069 &  1.62571731 &  0.8182752 & -0.4028821 & -1.2009126 &  0.4588780 &  1.5583760\\\\\n",
       "\t5 &  0.7387856 & -0.4170865 & -0.60284999 & -0.2050663 &  1.6950628 & -0.8078972 & -0.5244737 &  0.4165962\\\\\n",
       "\\end{tabular}\n"
      ],
      "text/markdown": [
       "\n",
       "A data.frame: 5 × 8\n",
       "\n",
       "| <!--/--> | posAffect &lt;dbl&gt; | PSE_subt &lt;dbl&gt; | range_subt &lt;dbl&gt; | bias_subt &lt;dbl&gt; | sigma_subt &lt;dbl&gt; | PSE_pf &lt;dbl&gt; | slope_pf &lt;dbl&gt; | bias_pf &lt;dbl&gt; |\n",
       "|---|---|---|---|---|---|---|---|---|\n",
       "| 1 | -0.2088049 |  1.5767321 |  1.14088842 | -2.1658855 |  0.1395287 |  0.2326507 |  0.7313928 | -0.0852494 |\n",
       "| 2 |  0.3834392 | -0.8390867 |  0.62095979 |  1.3894942 | -0.4557972 | -2.0430898 | -0.7165475 |  0.9400053 |\n",
       "| 3 | -0.2088049 | -0.4567697 |  0.09711613 |  0.6735449 |  0.4090250 |  0.3044776 |  0.9973410 | -0.2247607 |\n",
       "| 4 |  0.3834392 |  0.8055069 |  1.62571731 |  0.8182752 | -0.4028821 | -1.2009126 |  0.4588780 |  1.5583760 |\n",
       "| 5 |  0.7387856 | -0.4170865 | -0.60284999 | -0.2050663 |  1.6950628 | -0.8078972 | -0.5244737 |  0.4165962 |\n",
       "\n"
      ],
      "text/plain": [
       "  posAffect  PSE_subt   range_subt  bias_subt  sigma_subt PSE_pf     slope_pf  \n",
       "1 -0.2088049  1.5767321  1.14088842 -2.1658855  0.1395287  0.2326507  0.7313928\n",
       "2  0.3834392 -0.8390867  0.62095979  1.3894942 -0.4557972 -2.0430898 -0.7165475\n",
       "3 -0.2088049 -0.4567697  0.09711613  0.6735449  0.4090250  0.3044776  0.9973410\n",
       "4  0.3834392  0.8055069  1.62571731  0.8182752 -0.4028821 -1.2009126  0.4588780\n",
       "5  0.7387856 -0.4170865 -0.60284999 -0.2050663  1.6950628 -0.8078972 -0.5244737\n",
       "  bias_pf   \n",
       "1 -0.0852494\n",
       "2  0.9400053\n",
       "3 -0.2247607\n",
       "4  1.5583760\n",
       "5  0.4165962"
      ]
     },
     "metadata": {}
    }
   ],
   "metadata": {}
  },
  {
   "cell_type": "code",
   "execution_count": 18,
   "source": [
    "formula <- as.formula(paste(trait,\" ~ PSE_subt + range_subt + bias_subt + sigma_subt\"))\n",
    "m1z <- lm(formula, data = df_zscore)\n",
    "summary(m1z)"
   ],
   "outputs": [
    {
     "output_type": "display_data",
     "data": {
      "text/plain": [
       "\n",
       "Call:\n",
       "lm(formula = formula, data = df_zscore)\n",
       "\n",
       "Residuals:\n",
       "     Min       1Q   Median       3Q      Max \n",
       "-2.21495 -0.66149 -0.01259  0.66449  2.20376 \n",
       "\n",
       "Coefficients:\n",
       "              Estimate Std. Error t value Pr(>|t|)\n",
       "(Intercept) -1.222e-16  6.006e-02   0.000    1.000\n",
       "PSE_subt    -2.036e-02  8.456e-02  -0.241    0.810\n",
       "range_subt  -1.320e-01  8.145e-02  -1.621    0.106\n",
       "bias_subt    7.387e-02  7.847e-02   0.941    0.347\n",
       "sigma_subt  -7.686e-02  6.461e-02  -1.190    0.235\n",
       "\n",
       "Residual standard error: 0.996 on 270 degrees of freedom\n",
       "Multiple R-squared:  0.02251,\tAdjusted R-squared:  0.00803 \n",
       "F-statistic: 1.555 on 4 and 270 DF,  p-value: 0.1868\n"
      ]
     },
     "metadata": {}
    }
   ],
   "metadata": {}
  },
  {
   "cell_type": "code",
   "execution_count": 19,
   "source": [
    "formula <- as.formula(paste(trait,\" ~ PSE_subt*range_subt + PSE_subt*bias_subt + PSE_subt*sigma_subt + range_subt*bias_subt + range_subt*sigma_subt + bias_subt*sigma_subt\"))\n",
    "m1a <- lm(formula, data = data)\n",
    "summary(m1a)"
   ],
   "outputs": [
    {
     "output_type": "display_data",
     "data": {
      "text/plain": [
       "\n",
       "Call:\n",
       "lm(formula = formula, data = data)\n",
       "\n",
       "Residuals:\n",
       "     Min       1Q   Median       3Q      Max \n",
       "-19.5049  -6.1194   0.1066   5.6625  18.9442 \n",
       "\n",
       "Coefficients:\n",
       "                      Estimate Std. Error t value Pr(>|t|)\n",
       "(Intercept)             35.772     21.792   1.642    0.102\n",
       "PSE_subt               -11.893     33.941  -0.350    0.726\n",
       "range_subt             -32.131     23.837  -1.348    0.179\n",
       "bias_subt                3.758     21.915   0.171    0.864\n",
       "sigma_subt             -42.504     89.169  -0.477    0.634\n",
       "PSE_subt:range_subt     38.031     29.625   1.284    0.200\n",
       "PSE_subt:bias_subt     -28.018     26.497  -1.057    0.291\n",
       "PSE_subt:sigma_subt     85.948     93.962   0.915    0.361\n",
       "range_subt:bias_subt    16.754     21.592   0.776    0.438\n",
       "range_subt:sigma_subt    4.913     57.096   0.086    0.931\n",
       "bias_subt:sigma_subt   -10.750     96.653  -0.111    0.912\n",
       "\n",
       "Residual standard error: 8.421 on 264 degrees of freedom\n",
       "Multiple R-squared:  0.04147,\tAdjusted R-squared:  0.005163 \n",
       "F-statistic: 1.142 on 10 and 264 DF,  p-value: 0.3309\n"
      ]
     },
     "metadata": {}
    }
   ],
   "metadata": {}
  },
  {
   "cell_type": "code",
   "execution_count": 20,
   "source": [
    "formula <- as.formula(paste(trait,\" ~ PSE_subt*range_subt + PSE_subt*bias_subt + PSE_subt*sigma_subt + range_subt*bias_subt + range_subt*sigma_subt + bias_subt*sigma_subt\"))\n",
    "m1az <- lm(formula, data = df_zscore)\n",
    "summary(m1az)"
   ],
   "outputs": [
    {
     "output_type": "display_data",
     "data": {
      "text/plain": [
       "\n",
       "Call:\n",
       "lm(formula = formula, data = df_zscore)\n",
       "\n",
       "Residuals:\n",
       "     Min       1Q   Median       3Q      Max \n",
       "-2.31034 -0.72484  0.01262  0.67072  2.24391 \n",
       "\n",
       "Coefficients:\n",
       "                       Estimate Std. Error t value Pr(>|t|)\n",
       "(Intercept)           -0.083794   0.078653  -1.065    0.288\n",
       "PSE_subt               0.030807   0.118310   0.260    0.795\n",
       "range_subt            -0.112731   0.090092  -1.251    0.212\n",
       "bias_subt              0.088188   0.097266   0.907    0.365\n",
       "sigma_subt            -0.078716   0.077581  -1.015    0.311\n",
       "PSE_subt:range_subt    0.094042   0.073256   1.284    0.200\n",
       "PSE_subt:bias_subt    -0.072951   0.068991  -1.057    0.291\n",
       "PSE_subt:sigma_subt    0.051771   0.056598   0.915    0.361\n",
       "range_subt:bias_subt   0.069747   0.089885   0.776    0.438\n",
       "range_subt:sigma_subt  0.004732   0.054985   0.086    0.931\n",
       "bias_subt:sigma_subt  -0.010901   0.098011  -0.111    0.912\n",
       "\n",
       "Residual standard error: 0.9974 on 264 degrees of freedom\n",
       "Multiple R-squared:  0.04147,\tAdjusted R-squared:  0.005163 \n",
       "F-statistic: 1.142 on 10 and 264 DF,  p-value: 0.3309\n"
      ]
     },
     "metadata": {}
    }
   ],
   "metadata": {}
  },
  {
   "cell_type": "code",
   "execution_count": 21,
   "source": [
    "formula <- as.formula(paste(trait,\" ~ PSE_pf + slope_pf + bias_pf\"))\n",
    "m2 <- lm(formula, data = data)\n",
    "summary(m2)"
   ],
   "outputs": [
    {
     "output_type": "display_data",
     "data": {
      "text/plain": [
       "\n",
       "Call:\n",
       "lm(formula = formula, data = data)\n",
       "\n",
       "Residuals:\n",
       "    Min      1Q  Median      3Q     Max \n",
       "-24.111  -6.560   0.116   6.083  18.580 \n",
       "\n",
       "Coefficients:\n",
       "            Estimate Std. Error t value Pr(>|t|)    \n",
       "(Intercept)   16.308      3.208   5.083 6.92e-07 ***\n",
       "PSE_pf         3.556      4.687   0.759    0.449    \n",
       "slope_pf       3.668      2.501   1.466    0.144    \n",
       "bias_pf        2.734      2.654   1.030    0.304    \n",
       "---\n",
       "Signif. codes:  0 ‘***’ 0.001 ‘**’ 0.01 ‘*’ 0.05 ‘.’ 0.1 ‘ ’ 1\n",
       "\n",
       "Residual standard error: 8.416 on 271 degrees of freedom\n",
       "Multiple R-squared:  0.01713,\tAdjusted R-squared:  0.006252 \n",
       "F-statistic: 1.575 on 3 and 271 DF,  p-value: 0.1958\n"
      ]
     },
     "metadata": {}
    }
   ],
   "metadata": {}
  },
  {
   "cell_type": "code",
   "execution_count": 22,
   "source": [
    "formula <- as.formula(paste(trait,\" ~ PSE_pf + slope_pf + bias_pf\"))\n",
    "m2z <- lm(formula, data = df_zscore)\n",
    "summary(m2z)"
   ],
   "outputs": [
    {
     "output_type": "display_data",
     "data": {
      "text/plain": [
       "\n",
       "Call:\n",
       "lm(formula = formula, data = df_zscore)\n",
       "\n",
       "Residuals:\n",
       "     Min       1Q   Median       3Q      Max \n",
       "-2.85587 -0.77704  0.01374  0.72056  2.20077 \n",
       "\n",
       "Coefficients:\n",
       "              Estimate Std. Error t value Pr(>|t|)\n",
       "(Intercept) -1.565e-16  6.011e-02   0.000    1.000\n",
       "PSE_pf       6.660e-02  8.779e-02   0.759    0.449\n",
       "slope_pf     9.451e-02  6.444e-02   1.466    0.144\n",
       "bias_pf      8.917e-02  8.656e-02   1.030    0.304\n",
       "\n",
       "Residual standard error: 0.9969 on 271 degrees of freedom\n",
       "Multiple R-squared:  0.01713,\tAdjusted R-squared:  0.006252 \n",
       "F-statistic: 1.575 on 3 and 271 DF,  p-value: 0.1958\n"
      ]
     },
     "metadata": {}
    }
   ],
   "metadata": {}
  },
  {
   "cell_type": "code",
   "execution_count": 23,
   "source": [
    "formula <- as.formula(paste(trait,\" ~ PSE_pf*slope_pf + PSE_pf*bias_pf + slope_pf*bias_pf\"))\n",
    "m2a <- lm(formula, data = data)\n",
    "summary(m2a)"
   ],
   "outputs": [
    {
     "output_type": "display_data",
     "data": {
      "text/plain": [
       "\n",
       "Call:\n",
       "lm(formula = formula, data = data)\n",
       "\n",
       "Residuals:\n",
       "     Min       1Q   Median       3Q      Max \n",
       "-22.6090  -6.2164   0.0278   5.9410  19.3511 \n",
       "\n",
       "Coefficients:\n",
       "                 Estimate Std. Error t value Pr(>|t|)\n",
       "(Intercept)         3.320     11.743   0.283    0.778\n",
       "PSE_pf              6.785     11.324   0.599    0.550\n",
       "slope_pf           12.025     13.087   0.919    0.359\n",
       "bias_pf            21.742     16.100   1.350    0.178\n",
       "PSE_pf:slope_pf     7.857     20.079   0.391    0.696\n",
       "PSE_pf:bias_pf      6.320     12.725   0.497    0.620\n",
       "slope_pf:bias_pf  -22.745     16.868  -1.348    0.179\n",
       "\n",
       "Residual standard error: 8.431 on 268 degrees of freedom\n",
       "Multiple R-squared:  0.0245,\tAdjusted R-squared:  0.002663 \n",
       "F-statistic: 1.122 on 6 and 268 DF,  p-value: 0.3497\n"
      ]
     },
     "metadata": {}
    }
   ],
   "metadata": {}
  },
  {
   "cell_type": "code",
   "execution_count": 24,
   "source": [
    "formula <- as.formula(paste(trait,\" ~ PSE_pf*slope_pf + PSE_pf*bias_pf + slope_pf*bias_pf\"))\n",
    "m2az <- lm(formula, data = df_zscore)\n",
    "summary(m2az)"
   ],
   "outputs": [
    {
     "output_type": "display_data",
     "data": {
      "text/plain": [
       "\n",
       "Call:\n",
       "lm(formula = formula, data = df_zscore)\n",
       "\n",
       "Residuals:\n",
       "     Min       1Q   Median       3Q      Max \n",
       "-2.67801 -0.73633  0.00329  0.70370  2.29212 \n",
       "\n",
       "Coefficients:\n",
       "                 Estimate Std. Error t value Pr(>|t|)  \n",
       "(Intercept)       0.03075    0.07767   0.396   0.6925  \n",
       "PSE_pf            0.28668    0.20296   1.412   0.1590  \n",
       "slope_pf          0.06638    0.06753   0.983   0.3265  \n",
       "bias_pf           0.33810    0.20366   1.660   0.0981 .\n",
       "PSE_pf:slope_pf   0.03202    0.08182   0.391   0.6959  \n",
       "PSE_pf:bias_pf    0.03259    0.06562   0.497   0.6198  \n",
       "slope_pf:bias_pf -0.16137    0.11968  -1.348   0.1787  \n",
       "---\n",
       "Signif. codes:  0 ‘***’ 0.001 ‘**’ 0.01 ‘*’ 0.05 ‘.’ 0.1 ‘ ’ 1\n",
       "\n",
       "Residual standard error: 0.9987 on 268 degrees of freedom\n",
       "Multiple R-squared:  0.0245,\tAdjusted R-squared:  0.002663 \n",
       "F-statistic: 1.122 on 6 and 268 DF,  p-value: 0.3497\n"
      ]
     },
     "metadata": {}
    }
   ],
   "metadata": {}
  },
  {
   "cell_type": "code",
   "execution_count": 25,
   "source": [
    "formula <- as.formula(paste(trait,\" ~ PSE_subt + range_subt + bias_subt + sigma_subt + PSE_pf + slope_pf + bias_pf\"))\n",
    "m3 <- lm(formula, data = data)\n",
    "summary(m3)"
   ],
   "outputs": [
    {
     "output_type": "display_data",
     "data": {
      "text/plain": [
       "\n",
       "Call:\n",
       "lm(formula = formula, data = data)\n",
       "\n",
       "Residuals:\n",
       "     Min       1Q   Median       3Q      Max \n",
       "-22.0095  -5.8002   0.0452   5.7963  17.2318 \n",
       "\n",
       "Coefficients:\n",
       "            Estimate Std. Error t value Pr(>|t|)    \n",
       "(Intercept)  22.9637     4.8061   4.778 2.92e-06 ***\n",
       "PSE_subt     -2.4502     6.2109  -0.394   0.6935    \n",
       "range_subt   -8.8153     3.9050  -2.257   0.0248 *  \n",
       "bias_subt     0.6459     3.5659   0.181   0.8564    \n",
       "sigma_subt  -13.4694    12.1884  -1.105   0.2701    \n",
       "PSE_pf        2.6590     4.6611   0.570   0.5688    \n",
       "slope_pf      6.4140     2.8921   2.218   0.0274 *  \n",
       "bias_pf       2.5307     2.6372   0.960   0.3381    \n",
       "---\n",
       "Signif. codes:  0 ‘***’ 0.001 ‘**’ 0.01 ‘*’ 0.05 ‘.’ 0.1 ‘ ’ 1\n",
       "\n",
       "Residual standard error: 8.336 on 267 degrees of freedom\n",
       "Multiple R-squared:  0.05005,\tAdjusted R-squared:  0.02515 \n",
       "F-statistic:  2.01 on 7 and 267 DF,  p-value: 0.05415\n"
      ]
     },
     "metadata": {}
    }
   ],
   "metadata": {}
  },
  {
   "cell_type": "code",
   "execution_count": 26,
   "source": [
    "formula <- as.formula(paste(trait,\" ~ PSE_subt + range_subt + bias_subt + sigma_subt + PSE_pf + slope_pf + bias_pf\"))\n",
    "m3z <- lm(formula, data = df_zscore)\n",
    "summary(m3z)"
   ],
   "outputs": [
    {
     "output_type": "display_data",
     "data": {
      "text/plain": [
       "\n",
       "Call:\n",
       "lm(formula = formula, data = df_zscore)\n",
       "\n",
       "Residuals:\n",
       "     Min       1Q   Median       3Q      Max \n",
       "-2.60700 -0.68703  0.00535  0.68656  2.04109 \n",
       "\n",
       "Coefficients:\n",
       "              Estimate Std. Error t value Pr(>|t|)  \n",
       "(Intercept) -1.018e-16  5.954e-02   0.000   1.0000  \n",
       "PSE_subt    -3.316e-02  8.407e-02  -0.394   0.6935  \n",
       "range_subt  -1.908e-01  8.450e-02  -2.257   0.0248 *\n",
       "bias_subt    1.472e-02  8.125e-02   0.181   0.8564  \n",
       "sigma_subt  -7.100e-02  6.425e-02  -1.105   0.2701  \n",
       "PSE_pf       4.980e-02  8.730e-02   0.570   0.5688  \n",
       "slope_pf     1.653e-01  7.453e-02   2.218   0.0274 *\n",
       "bias_pf      8.253e-02  8.600e-02   0.960   0.3381  \n",
       "---\n",
       "Signif. codes:  0 ‘***’ 0.001 ‘**’ 0.01 ‘*’ 0.05 ‘.’ 0.1 ‘ ’ 1\n",
       "\n",
       "Residual standard error: 0.9873 on 267 degrees of freedom\n",
       "Multiple R-squared:  0.05005,\tAdjusted R-squared:  0.02515 \n",
       "F-statistic:  2.01 on 7 and 267 DF,  p-value: 0.05415\n"
      ]
     },
     "metadata": {}
    }
   ],
   "metadata": {}
  },
  {
   "cell_type": "code",
   "execution_count": 27,
   "source": [
    "formula <- as.formula(paste(trait,\" ~ PSE_subt*range_subt + PSE_subt*bias_subt + PSE_subt*sigma_subt + range_subt*bias_subt + range_subt*sigma_subt + bias_subt*sigma_subt + PSE_pf*slope_pf + PSE_pf*bias_pf + slope_pf*bias_pf\"))\n",
    "m3a <- lm(formula, data = data)\n",
    "summary(m3a)"
   ],
   "outputs": [
    {
     "output_type": "display_data",
     "data": {
      "text/plain": [
       "\n",
       "Call:\n",
       "lm(formula = formula, data = data)\n",
       "\n",
       "Residuals:\n",
       "     Min       1Q   Median       3Q      Max \n",
       "-20.3132  -5.8296   0.0029   5.7935  17.8553 \n",
       "\n",
       "Coefficients:\n",
       "                      Estimate Std. Error t value Pr(>|t|)  \n",
       "(Intercept)            23.6048    25.1463   0.939    0.349  \n",
       "PSE_subt              -12.8896    33.7999  -0.381    0.703  \n",
       "range_subt            -39.6058    23.9223  -1.656    0.099 .\n",
       "bias_subt              -5.7779    22.2826  -0.259    0.796  \n",
       "sigma_subt            -40.6709    90.3607  -0.450    0.653  \n",
       "PSE_pf                  5.3385    11.4359   0.467    0.641  \n",
       "slope_pf               16.5771    13.1310   1.262    0.208  \n",
       "bias_pf                22.7904    16.3025   1.398    0.163  \n",
       "PSE_subt:range_subt    36.8093    29.4741   1.249    0.213  \n",
       "PSE_subt:bias_subt    -29.8181    26.7564  -1.114    0.266  \n",
       "PSE_subt:sigma_subt    81.2583    94.7658   0.857    0.392  \n",
       "range_subt:bias_subt   26.1834    21.9328   1.194    0.234  \n",
       "range_subt:sigma_subt  -0.2465    56.9539  -0.004    0.997  \n",
       "bias_subt:sigma_subt   -8.9254    97.5048  -0.092    0.927  \n",
       "PSE_pf:slope_pf         6.9978    20.0762   0.349    0.728  \n",
       "PSE_pf:bias_pf         11.9771    13.7803   0.869    0.386  \n",
       "slope_pf:bias_pf      -26.7166    16.9982  -1.572    0.117  \n",
       "---\n",
       "Signif. codes:  0 ‘***’ 0.001 ‘**’ 0.01 ‘*’ 0.05 ‘.’ 0.1 ‘ ’ 1\n",
       "\n",
       "Residual standard error: 8.355 on 258 degrees of freedom\n",
       "Multiple R-squared:  0.07791,\tAdjusted R-squared:  0.02073 \n",
       "F-statistic: 1.362 on 16 and 258 DF,  p-value: 0.1605\n"
      ]
     },
     "metadata": {}
    }
   ],
   "metadata": {}
  },
  {
   "cell_type": "code",
   "execution_count": 28,
   "source": [
    "formula <- as.formula(paste(trait,\" ~ PSE_subt*range_subt + PSE_subt*bias_subt + PSE_subt*sigma_subt + range_subt*bias_subt + range_subt*sigma_subt + bias_subt*sigma_subt + PSE_pf*slope_pf + PSE_pf*bias_pf + slope_pf*bias_pf\"))\n",
    "m3az <- lm(formula, data = df_zscore)\n",
    "summary(m3az)"
   ],
   "outputs": [
    {
     "output_type": "display_data",
     "data": {
      "text/plain": [
       "\n",
       "Call:\n",
       "lm(formula = formula, data = df_zscore)\n",
       "\n",
       "Residuals:\n",
       "     Min       1Q   Median       3Q      Max \n",
       "-2.40607 -0.69051  0.00034  0.68623  2.11495 \n",
       "\n",
       "Coefficients:\n",
       "                        Estimate Std. Error t value Pr(>|t|)  \n",
       "(Intercept)           -0.0414484  0.0903250  -0.459   0.6467  \n",
       "PSE_subt              -0.0181458  0.1192332  -0.152   0.8792  \n",
       "range_subt            -0.1458004  0.0940456  -1.550   0.1223  \n",
       "bias_subt              0.0083986  0.1027678   0.082   0.9349  \n",
       "sigma_subt            -0.0900600  0.0784978  -1.147   0.2523  \n",
       "PSE_pf                 0.3100043  0.2033683   1.524   0.1286  \n",
       "slope_pf               0.1152832  0.0794455   1.451   0.1480  \n",
       "bias_pf                0.3743747  0.2032124   1.842   0.0666 .\n",
       "PSE_subt:range_subt    0.0910210  0.0728829   1.249   0.2128  \n",
       "PSE_subt:bias_subt    -0.0776397  0.0696677  -1.114   0.2661  \n",
       "PSE_subt:sigma_subt    0.0489457  0.0570819   0.857   0.3920  \n",
       "range_subt:bias_subt   0.1089987  0.0913040   1.194   0.2337  \n",
       "range_subt:sigma_subt -0.0002374  0.0548481  -0.004   0.9966  \n",
       "bias_subt:sigma_subt  -0.0090508  0.0988742  -0.092   0.9271  \n",
       "PSE_pf:slope_pf        0.0285136  0.0818041   0.349   0.7277  \n",
       "PSE_pf:bias_pf         0.0617645  0.0710633   0.869   0.3856  \n",
       "slope_pf:bias_pf      -0.1895506  0.1205998  -1.572   0.1172  \n",
       "---\n",
       "Signif. codes:  0 ‘***’ 0.001 ‘**’ 0.01 ‘*’ 0.05 ‘.’ 0.1 ‘ ’ 1\n",
       "\n",
       "Residual standard error: 0.9896 on 258 degrees of freedom\n",
       "Multiple R-squared:  0.07791,\tAdjusted R-squared:  0.02073 \n",
       "F-statistic: 1.362 on 16 and 258 DF,  p-value: 0.1605\n"
      ]
     },
     "metadata": {}
    }
   ],
   "metadata": {}
  },
  {
   "cell_type": "code",
   "execution_count": 29,
   "source": [
    "formula <- as.formula(paste(trait,\" ~ PSE_subt*PSE_pf + PSE_subt*slope_pf + PSE_subt*bias_pf + range_subt*PSE_pf + range_subt*slope_pf + range_subt*bias_pf + bias_subt*PSE_pf + bias_subt*slope_pf + bias_subt*bias_pf +  sigma_subt*PSE_pf + sigma_subt*slope_pf + sigma_subt*bias_pf\"))\n",
    "m3b <- lm(formula, data = data)\n",
    "summary(m3b)"
   ],
   "outputs": [
    {
     "output_type": "display_data",
     "data": {
      "text/plain": [
       "\n",
       "Call:\n",
       "lm(formula = formula, data = data)\n",
       "\n",
       "Residuals:\n",
       "     Min       1Q   Median       3Q      Max \n",
       "-22.0333  -5.1440   0.2183   5.2114  22.3785 \n",
       "\n",
       "Coefficients:\n",
       "                    Estimate Std. Error t value Pr(>|t|)  \n",
       "(Intercept)           46.487     31.393   1.481   0.1399  \n",
       "PSE_subt             -13.950     46.439  -0.300   0.7641  \n",
       "PSE_pf               -22.637     42.810  -0.529   0.5974  \n",
       "slope_pf              25.011     24.262   1.031   0.3036  \n",
       "bias_pf              -38.569     28.098  -1.373   0.1711  \n",
       "range_subt           -14.454     24.136  -0.599   0.5498  \n",
       "bias_subt              3.187     23.478   0.136   0.8921  \n",
       "sigma_subt          -176.806     97.319  -1.817   0.0704 .\n",
       "PSE_subt:PSE_pf       35.620     68.831   0.517   0.6053  \n",
       "PSE_subt:slope_pf    -46.834     34.899  -1.342   0.1808  \n",
       "PSE_subt:bias_pf      39.478     41.545   0.950   0.3429  \n",
       "PSE_pf:range_subt    -11.072     37.143  -0.298   0.7659  \n",
       "slope_pf:range_subt   25.783     18.943   1.361   0.1747  \n",
       "bias_pf:range_subt    -5.827     23.745  -0.245   0.8063  \n",
       "PSE_pf:bias_subt      -8.432     37.328  -0.226   0.8215  \n",
       "slope_pf:bias_subt   -18.118     18.157  -0.998   0.3193  \n",
       "bias_pf:bias_subt     20.405     20.162   1.012   0.3125  \n",
       "PSE_pf:sigma_subt    254.731    141.355   1.802   0.0727 .\n",
       "slope_pf:sigma_subt  -60.020     68.064  -0.882   0.3787  \n",
       "bias_pf:sigma_subt   143.995     80.100   1.798   0.0734 .\n",
       "---\n",
       "Signif. codes:  0 ‘***’ 0.001 ‘**’ 0.01 ‘*’ 0.05 ‘.’ 0.1 ‘ ’ 1\n",
       "\n",
       "Residual standard error: 8.353 on 255 degrees of freedom\n",
       "Multiple R-squared:  0.0889,\tAdjusted R-squared:  0.02101 \n",
       "F-statistic:  1.31 on 19 and 255 DF,  p-value: 0.1769\n"
      ]
     },
     "metadata": {}
    }
   ],
   "metadata": {}
  },
  {
   "cell_type": "code",
   "execution_count": 30,
   "source": [
    "formula <- as.formula(paste(trait,\" ~ PSE_subt*PSE_pf + PSE_subt*slope_pf + PSE_subt*bias_pf + range_subt*PSE_pf + range_subt*slope_pf + range_subt*bias_pf + bias_subt*PSE_pf + bias_subt*slope_pf + bias_subt*bias_pf +  sigma_subt*PSE_pf + sigma_subt*slope_pf + sigma_subt*bias_pf\"))\n",
    "m3bz <- lm(formula, data = df_zscore)\n",
    "summary(m3bz)"
   ],
   "outputs": [
    {
     "output_type": "display_data",
     "data": {
      "text/plain": [
       "\n",
       "Call:\n",
       "lm(formula = formula, data = df_zscore)\n",
       "\n",
       "Residuals:\n",
       "     Min       1Q   Median       3Q      Max \n",
       "-2.60982 -0.60931  0.02586  0.61729  2.65071 \n",
       "\n",
       "Coefficients:\n",
       "                     Estimate Std. Error t value Pr(>|t|)  \n",
       "(Intercept)         -0.010924   0.068633  -0.159   0.8737  \n",
       "PSE_subt            -0.063018   0.090959  -0.693   0.4891  \n",
       "PSE_pf               0.029009   0.104855   0.277   0.7823  \n",
       "slope_pf             0.162536   0.080267   2.025   0.0439 *\n",
       "bias_pf              0.033970   0.129000   0.263   0.7925  \n",
       "range_subt          -0.143827   0.090410  -1.591   0.1129  \n",
       "bias_subt           -0.006498   0.085140  -0.076   0.9392  \n",
       "sigma_subt          -0.091972   0.069572  -1.322   0.1874  \n",
       "PSE_subt:PSE_pf      0.076235   0.147316   0.517   0.6053  \n",
       "PSE_subt:slope_pf   -0.137906   0.102762  -1.342   0.1808  \n",
       "PSE_subt:bias_pf     0.147119   0.154821   0.950   0.3429  \n",
       "PSE_pf:range_subt   -0.037885   0.127097  -0.298   0.7659  \n",
       "slope_pf:range_subt  0.121378   0.089178   1.361   0.1747  \n",
       "bias_pf:range_subt  -0.034720   0.141476  -0.245   0.8063  \n",
       "PSE_pf:bias_subt    -0.030381   0.134497  -0.226   0.8215  \n",
       "slope_pf:bias_subt  -0.089812   0.090009  -0.998   0.3193  \n",
       "bias_pf:bias_subt    0.128018   0.126493   1.012   0.3125  \n",
       "PSE_pf:sigma_subt    0.212325   0.117823   1.802   0.0727 .\n",
       "slope_pf:sigma_subt -0.068829   0.078054  -0.882   0.3787  \n",
       "bias_pf:sigma_subt   0.208985   0.116253   1.798   0.0734 .\n",
       "---\n",
       "Signif. codes:  0 ‘***’ 0.001 ‘**’ 0.01 ‘*’ 0.05 ‘.’ 0.1 ‘ ’ 1\n",
       "\n",
       "Residual standard error: 0.9894 on 255 degrees of freedom\n",
       "Multiple R-squared:  0.0889,\tAdjusted R-squared:  0.02101 \n",
       "F-statistic:  1.31 on 19 and 255 DF,  p-value: 0.1769\n"
      ]
     },
     "metadata": {}
    }
   ],
   "metadata": {}
  },
  {
   "cell_type": "code",
   "execution_count": 31,
   "source": [
    "formula <- as.formula(paste(trait,\" ~ PSE_subt*range_subt + PSE_subt*bias_subt + PSE_subt*sigma_subt + range_subt*bias_subt + range_subt*sigma_subt + bias_subt*sigma_subt + PSE_pf*slope_pf + PSE_pf*bias_pf + slope_pf*bias_pf + PSE_subt*PSE_pf + PSE_subt*slope_pf + PSE_subt*bias_pf + range_subt*PSE_pf + range_subt*slope_pf + range_subt*bias_pf + bias_subt*PSE_pf + bias_subt*slope_pf + bias_subt*bias_pf +  sigma_subt*PSE_pf + sigma_subt*slope_pf + sigma_subt*bias_pf + PSE_subt*PSE_pf + PSE_subt*slope_pf + PSE_subt*bias_pf + range_subt*PSE_pf + range_subt*slope_pf + range_subt*bias_pf + bias_subt*PSE_pf + bias_subt*slope_pf + bias_subt*bias_pf +  sigma_subt*PSE_pf + sigma_subt*slope_pf + sigma_subt*bias_pf\"))\n",
    "m3c <- lm(formula, data = data)\n",
    "summary(m3c)"
   ],
   "outputs": [
    {
     "output_type": "display_data",
     "data": {
      "text/plain": [
       "\n",
       "Call:\n",
       "lm(formula = formula, data = data)\n",
       "\n",
       "Residuals:\n",
       "     Min       1Q   Median       3Q      Max \n",
       "-19.9612  -5.2089   0.3513   5.6307  21.6604 \n",
       "\n",
       "Coefficients:\n",
       "                       Estimate Std. Error t value Pr(>|t|)  \n",
       "(Intercept)             52.4770    39.3721   1.333   0.1838  \n",
       "PSE_subt               -13.8548    57.1181  -0.243   0.8085  \n",
       "range_subt             -62.5835    36.2195  -1.728   0.0853 .\n",
       "bias_subt                0.4130    35.0402   0.012   0.9906  \n",
       "sigma_subt            -213.0855   132.9670  -1.603   0.1103  \n",
       "PSE_pf                 -29.9247    45.9216  -0.652   0.5152  \n",
       "slope_pf                41.2042    33.5480   1.228   0.2205  \n",
       "bias_pf                -24.7726    32.6697  -0.758   0.4490  \n",
       "PSE_subt:range_subt     46.9736    32.9433   1.426   0.1552  \n",
       "PSE_subt:bias_subt     -30.1423    29.0639  -1.037   0.3007  \n",
       "PSE_subt:sigma_subt     52.1250   101.1995   0.515   0.6070  \n",
       "range_subt:bias_subt    25.2225    25.9371   0.972   0.3318  \n",
       "range_subt:sigma_subt   70.8209    68.9133   1.028   0.3051  \n",
       "bias_subt:sigma_subt   -33.3909   110.1656  -0.303   0.7621  \n",
       "PSE_pf:slope_pf          6.4012    23.0157   0.278   0.7812  \n",
       "PSE_pf:bias_pf           7.2638    14.5394   0.500   0.6178  \n",
       "slope_pf:bias_pf       -20.6350    21.6503  -0.953   0.3415  \n",
       "PSE_subt:PSE_pf         31.4126    72.0020   0.436   0.6630  \n",
       "PSE_subt:slope_pf      -52.5123    39.4167  -1.332   0.1840  \n",
       "PSE_subt:bias_pf        29.2658    43.0015   0.681   0.4968  \n",
       "range_subt:PSE_pf        0.3323    40.5314   0.008   0.9935  \n",
       "range_subt:slope_pf     21.3647    20.4639   1.044   0.2975  \n",
       "range_subt:bias_pf       2.1899    26.3612   0.083   0.9339  \n",
       "bias_subt:PSE_pf        -7.8251    38.5298  -0.203   0.8392  \n",
       "bias_subt:slope_pf     -19.1405    20.0699  -0.954   0.3412  \n",
       "bias_subt:bias_pf       21.2187    20.6024   1.030   0.3041  \n",
       "sigma_subt:PSE_pf      293.1921   150.5437   1.948   0.0526 .\n",
       "sigma_subt:slope_pf    -89.4318    90.9977  -0.983   0.3267  \n",
       "sigma_subt:bias_pf     141.8588    82.8702   1.712   0.0882 .\n",
       "---\n",
       "Signif. codes:  0 ‘***’ 0.001 ‘**’ 0.01 ‘*’ 0.05 ‘.’ 0.1 ‘ ’ 1\n",
       "\n",
       "Residual standard error: 8.393 on 246 degrees of freedom\n",
       "Multiple R-squared:  0.1126,\tAdjusted R-squared:  0.01162 \n",
       "F-statistic: 1.115 on 28 and 246 DF,  p-value: 0.3209\n"
      ]
     },
     "metadata": {}
    }
   ],
   "metadata": {}
  },
  {
   "cell_type": "code",
   "execution_count": 32,
   "source": [
    "formula <- as.formula(paste(trait,\" ~ PSE_subt*range_subt + PSE_subt*bias_subt + PSE_subt*sigma_subt + range_subt*bias_subt + range_subt*sigma_subt + bias_subt*sigma_subt + PSE_pf*slope_pf + PSE_pf*bias_pf + slope_pf*bias_pf + PSE_subt*PSE_pf + PSE_subt*slope_pf + PSE_subt*bias_pf + range_subt*PSE_pf + range_subt*slope_pf + range_subt*bias_pf + bias_subt*PSE_pf + bias_subt*slope_pf + bias_subt*bias_pf +  sigma_subt*PSE_pf + sigma_subt*slope_pf + sigma_subt*bias_pf + PSE_subt*PSE_pf + PSE_subt*slope_pf + PSE_subt*bias_pf + range_subt*PSE_pf + range_subt*slope_pf + range_subt*bias_pf + bias_subt*PSE_pf + bias_subt*slope_pf + bias_subt*bias_pf +  sigma_subt*PSE_pf + sigma_subt*slope_pf + sigma_subt*bias_pf\"))\n",
    "m3cz <- lm(formula, data = df_zscore)\n",
    "summary(m3cz)"
   ],
   "outputs": [
    {
     "output_type": "display_data",
     "data": {
      "text/plain": [
       "\n",
       "Call:\n",
       "lm(formula = formula, data = df_zscore)\n",
       "\n",
       "Residuals:\n",
       "     Min       1Q   Median       3Q      Max \n",
       "-2.36438 -0.61699  0.04161  0.66695  2.56565 \n",
       "\n",
       "Coefficients:\n",
       "                        Estimate Std. Error t value Pr(>|t|)  \n",
       "(Intercept)           -0.0598642  0.0954132  -0.627   0.5310  \n",
       "PSE_subt              -0.0042703  0.1229525  -0.035   0.9723  \n",
       "range_subt            -0.1075313  0.0981841  -1.095   0.2745  \n",
       "bias_subt              0.0005083  0.1056923   0.005   0.9962  \n",
       "sigma_subt            -0.0632648  0.0810620  -0.780   0.4359  \n",
       "PSE_pf                 0.2419662  0.2249162   1.076   0.2831  \n",
       "slope_pf               0.1241923  0.0869174   1.429   0.1543  \n",
       "bias_pf                0.2393699  0.2381289   1.005   0.3158  \n",
       "PSE_subt:range_subt    0.1161552  0.0814615   1.426   0.1552  \n",
       "PSE_subt:bias_subt    -0.0784837  0.0756757  -1.037   0.3007  \n",
       "PSE_subt:sigma_subt    0.0313974  0.0609573   0.515   0.6070  \n",
       "range_subt:bias_subt   0.1049985  0.1079734   0.972   0.3318  \n",
       "range_subt:sigma_subt  0.0682025  0.0663654   1.028   0.3051  \n",
       "bias_subt:sigma_subt  -0.0338598  0.1117128  -0.303   0.7621  \n",
       "PSE_pf:slope_pf        0.0260827  0.0937816   0.278   0.7812  \n",
       "PSE_pf:bias_pf         0.0374587  0.0749778   0.500   0.6178  \n",
       "slope_pf:bias_pf      -0.1464025  0.1536061  -0.953   0.3415  \n",
       "PSE_subt:PSE_pf        0.0672309  0.1541022   0.436   0.6630  \n",
       "PSE_subt:slope_pf     -0.1546262  0.1160652  -1.332   0.1840  \n",
       "PSE_subt:bias_pf       0.1090625  0.1602501   0.681   0.4968  \n",
       "range_subt:PSE_pf      0.0011372  0.1386909   0.008   0.9935  \n",
       "range_subt:slope_pf    0.1005796  0.0963391   1.044   0.2975  \n",
       "range_subt:bias_pf     0.0130475  0.1570620   0.083   0.9339  \n",
       "bias_subt:PSE_pf      -0.0281943  0.1388263  -0.203   0.8392  \n",
       "bias_subt:slope_pf    -0.0948823  0.0994894  -0.954   0.3412  \n",
       "bias_subt:bias_pf      0.1331199  0.1292537   1.030   0.3041  \n",
       "sigma_subt:PSE_pf      0.2443827  0.1254818   1.948   0.0526 .\n",
       "sigma_subt:slope_pf   -0.1025575  0.1043532  -0.983   0.3267  \n",
       "sigma_subt:bias_pf     0.2058850  0.1202726   1.712   0.0882 .\n",
       "---\n",
       "Signif. codes:  0 ‘***’ 0.001 ‘**’ 0.01 ‘*’ 0.05 ‘.’ 0.1 ‘ ’ 1\n",
       "\n",
       "Residual standard error: 0.9942 on 246 degrees of freedom\n",
       "Multiple R-squared:  0.1126,\tAdjusted R-squared:  0.01162 \n",
       "F-statistic: 1.115 on 28 and 246 DF,  p-value: 0.3209\n"
      ]
     },
     "metadata": {}
    }
   ],
   "metadata": {}
  },
  {
   "cell_type": "code",
   "execution_count": 33,
   "source": [
    "anova(m3a,m3c)"
   ],
   "outputs": [
    {
     "output_type": "display_data",
     "data": {
      "text/html": [
       "<table class=\"dataframe\">\n",
       "<caption>A anova: 2 × 6</caption>\n",
       "<thead>\n",
       "\t<tr><th></th><th scope=col>Res.Df</th><th scope=col>RSS</th><th scope=col>Df</th><th scope=col>Sum of Sq</th><th scope=col>F</th><th scope=col>Pr(&gt;F)</th></tr>\n",
       "\t<tr><th></th><th scope=col>&lt;dbl&gt;</th><th scope=col>&lt;dbl&gt;</th><th scope=col>&lt;dbl&gt;</th><th scope=col>&lt;dbl&gt;</th><th scope=col>&lt;dbl&gt;</th><th scope=col>&lt;dbl&gt;</th></tr>\n",
       "</thead>\n",
       "<tbody>\n",
       "\t<tr><th scope=row>1</th><td>258</td><td>18007.82</td><td>NA</td><td>      NA</td><td>      NA</td><td>       NA</td></tr>\n",
       "\t<tr><th scope=row>2</th><td>246</td><td>17330.01</td><td>12</td><td>677.8105</td><td>0.801795</td><td>0.6485177</td></tr>\n",
       "</tbody>\n",
       "</table>\n"
      ],
      "text/latex": [
       "A anova: 2 × 6\n",
       "\\begin{tabular}{r|llllll}\n",
       "  & Res.Df & RSS & Df & Sum of Sq & F & Pr(>F)\\\\\n",
       "  & <dbl> & <dbl> & <dbl> & <dbl> & <dbl> & <dbl>\\\\\n",
       "\\hline\n",
       "\t1 & 258 & 18007.82 & NA &       NA &       NA &        NA\\\\\n",
       "\t2 & 246 & 17330.01 & 12 & 677.8105 & 0.801795 & 0.6485177\\\\\n",
       "\\end{tabular}\n"
      ],
      "text/markdown": [
       "\n",
       "A anova: 2 × 6\n",
       "\n",
       "| <!--/--> | Res.Df &lt;dbl&gt; | RSS &lt;dbl&gt; | Df &lt;dbl&gt; | Sum of Sq &lt;dbl&gt; | F &lt;dbl&gt; | Pr(&gt;F) &lt;dbl&gt; |\n",
       "|---|---|---|---|---|---|---|\n",
       "| 1 | 258 | 18007.82 | NA |       NA |       NA |        NA |\n",
       "| 2 | 246 | 17330.01 | 12 | 677.8105 | 0.801795 | 0.6485177 |\n",
       "\n"
      ],
      "text/plain": [
       "  Res.Df RSS      Df Sum of Sq F        Pr(>F)   \n",
       "1 258    18007.82 NA       NA        NA        NA\n",
       "2 246    17330.01 12 677.8105  0.801795 0.6485177"
      ]
     },
     "metadata": {}
    }
   ],
   "metadata": {}
  },
  {
   "cell_type": "code",
   "execution_count": 34,
   "source": [
    "anova(m3az,m3cz)"
   ],
   "outputs": [
    {
     "output_type": "display_data",
     "data": {
      "text/html": [
       "<table class=\"dataframe\">\n",
       "<caption>A anova: 2 × 6</caption>\n",
       "<thead>\n",
       "\t<tr><th></th><th scope=col>Res.Df</th><th scope=col>RSS</th><th scope=col>Df</th><th scope=col>Sum of Sq</th><th scope=col>F</th><th scope=col>Pr(&gt;F)</th></tr>\n",
       "\t<tr><th></th><th scope=col>&lt;dbl&gt;</th><th scope=col>&lt;dbl&gt;</th><th scope=col>&lt;dbl&gt;</th><th scope=col>&lt;dbl&gt;</th><th scope=col>&lt;dbl&gt;</th><th scope=col>&lt;dbl&gt;</th></tr>\n",
       "</thead>\n",
       "<tbody>\n",
       "\t<tr><th scope=row>1</th><td>258</td><td>252.6519</td><td>NA</td><td>      NA</td><td>      NA</td><td>       NA</td></tr>\n",
       "\t<tr><th scope=row>2</th><td>246</td><td>243.1422</td><td>12</td><td>9.509764</td><td>0.801795</td><td>0.6485177</td></tr>\n",
       "</tbody>\n",
       "</table>\n"
      ],
      "text/latex": [
       "A anova: 2 × 6\n",
       "\\begin{tabular}{r|llllll}\n",
       "  & Res.Df & RSS & Df & Sum of Sq & F & Pr(>F)\\\\\n",
       "  & <dbl> & <dbl> & <dbl> & <dbl> & <dbl> & <dbl>\\\\\n",
       "\\hline\n",
       "\t1 & 258 & 252.6519 & NA &       NA &       NA &        NA\\\\\n",
       "\t2 & 246 & 243.1422 & 12 & 9.509764 & 0.801795 & 0.6485177\\\\\n",
       "\\end{tabular}\n"
      ],
      "text/markdown": [
       "\n",
       "A anova: 2 × 6\n",
       "\n",
       "| <!--/--> | Res.Df &lt;dbl&gt; | RSS &lt;dbl&gt; | Df &lt;dbl&gt; | Sum of Sq &lt;dbl&gt; | F &lt;dbl&gt; | Pr(&gt;F) &lt;dbl&gt; |\n",
       "|---|---|---|---|---|---|---|\n",
       "| 1 | 258 | 252.6519 | NA |       NA |       NA |        NA |\n",
       "| 2 | 246 | 243.1422 | 12 | 9.509764 | 0.801795 | 0.6485177 |\n",
       "\n"
      ],
      "text/plain": [
       "  Res.Df RSS      Df Sum of Sq F        Pr(>F)   \n",
       "1 258    252.6519 NA       NA        NA        NA\n",
       "2 246    243.1422 12 9.509764  0.801795 0.6485177"
      ]
     },
     "metadata": {}
    }
   ],
   "metadata": {}
  },
  {
   "cell_type": "code",
   "execution_count": 35,
   "source": [
    "m3a"
   ],
   "outputs": [
    {
     "output_type": "display_data",
     "data": {
      "text/plain": [
       "\n",
       "Call:\n",
       "lm(formula = formula, data = data)\n",
       "\n",
       "Coefficients:\n",
       "          (Intercept)               PSE_subt             range_subt  \n",
       "              23.6048               -12.8896               -39.6058  \n",
       "            bias_subt             sigma_subt                 PSE_pf  \n",
       "              -5.7779               -40.6709                 5.3385  \n",
       "             slope_pf                bias_pf    PSE_subt:range_subt  \n",
       "              16.5771                22.7904                36.8093  \n",
       "   PSE_subt:bias_subt    PSE_subt:sigma_subt   range_subt:bias_subt  \n",
       "             -29.8181                81.2583                26.1834  \n",
       "range_subt:sigma_subt   bias_subt:sigma_subt        PSE_pf:slope_pf  \n",
       "              -0.2465                -8.9254                 6.9978  \n",
       "       PSE_pf:bias_pf       slope_pf:bias_pf  \n",
       "              11.9771               -26.7166  \n"
      ]
     },
     "metadata": {}
    }
   ],
   "metadata": {}
  },
  {
   "cell_type": "code",
   "execution_count": 36,
   "source": [
    "anova(m1,m3,m3a,m3c)"
   ],
   "outputs": [
    {
     "output_type": "display_data",
     "data": {
      "text/html": [
       "<table class=\"dataframe\">\n",
       "<caption>A anova: 4 × 6</caption>\n",
       "<thead>\n",
       "\t<tr><th></th><th scope=col>Res.Df</th><th scope=col>RSS</th><th scope=col>Df</th><th scope=col>Sum of Sq</th><th scope=col>F</th><th scope=col>Pr(&gt;F)</th></tr>\n",
       "\t<tr><th></th><th scope=col>&lt;dbl&gt;</th><th scope=col>&lt;dbl&gt;</th><th scope=col>&lt;dbl&gt;</th><th scope=col>&lt;dbl&gt;</th><th scope=col>&lt;dbl&gt;</th><th scope=col>&lt;dbl&gt;</th></tr>\n",
       "</thead>\n",
       "<tbody>\n",
       "\t<tr><th scope=row>1</th><td>270</td><td>19089.78</td><td>NA</td><td>      NA</td><td>       NA</td><td>        NA</td></tr>\n",
       "\t<tr><th scope=row>2</th><td>267</td><td>18551.92</td><td> 3</td><td>537.8575</td><td>2.5449680</td><td>0.05669029</td></tr>\n",
       "\t<tr><th scope=row>3</th><td>258</td><td>18007.82</td><td> 9</td><td>544.0990</td><td>0.8581669</td><td>0.56338350</td></tr>\n",
       "\t<tr><th scope=row>4</th><td>246</td><td>17330.01</td><td>12</td><td>677.8105</td><td>0.8017950</td><td>0.64851770</td></tr>\n",
       "</tbody>\n",
       "</table>\n"
      ],
      "text/latex": [
       "A anova: 4 × 6\n",
       "\\begin{tabular}{r|llllll}\n",
       "  & Res.Df & RSS & Df & Sum of Sq & F & Pr(>F)\\\\\n",
       "  & <dbl> & <dbl> & <dbl> & <dbl> & <dbl> & <dbl>\\\\\n",
       "\\hline\n",
       "\t1 & 270 & 19089.78 & NA &       NA &        NA &         NA\\\\\n",
       "\t2 & 267 & 18551.92 &  3 & 537.8575 & 2.5449680 & 0.05669029\\\\\n",
       "\t3 & 258 & 18007.82 &  9 & 544.0990 & 0.8581669 & 0.56338350\\\\\n",
       "\t4 & 246 & 17330.01 & 12 & 677.8105 & 0.8017950 & 0.64851770\\\\\n",
       "\\end{tabular}\n"
      ],
      "text/markdown": [
       "\n",
       "A anova: 4 × 6\n",
       "\n",
       "| <!--/--> | Res.Df &lt;dbl&gt; | RSS &lt;dbl&gt; | Df &lt;dbl&gt; | Sum of Sq &lt;dbl&gt; | F &lt;dbl&gt; | Pr(&gt;F) &lt;dbl&gt; |\n",
       "|---|---|---|---|---|---|---|\n",
       "| 1 | 270 | 19089.78 | NA |       NA |        NA |         NA |\n",
       "| 2 | 267 | 18551.92 |  3 | 537.8575 | 2.5449680 | 0.05669029 |\n",
       "| 3 | 258 | 18007.82 |  9 | 544.0990 | 0.8581669 | 0.56338350 |\n",
       "| 4 | 246 | 17330.01 | 12 | 677.8105 | 0.8017950 | 0.64851770 |\n",
       "\n"
      ],
      "text/plain": [
       "  Res.Df RSS      Df Sum of Sq F         Pr(>F)    \n",
       "1 270    19089.78 NA       NA         NA         NA\n",
       "2 267    18551.92  3 537.8575  2.5449680 0.05669029\n",
       "3 258    18007.82  9 544.0990  0.8581669 0.56338350\n",
       "4 246    17330.01 12 677.8105  0.8017950 0.64851770"
      ]
     },
     "metadata": {}
    }
   ],
   "metadata": {}
  },
  {
   "cell_type": "code",
   "execution_count": 37,
   "source": [
    "anova(m1z,m3z,m3az,m3cz)"
   ],
   "outputs": [
    {
     "output_type": "display_data",
     "data": {
      "text/html": [
       "<table class=\"dataframe\">\n",
       "<caption>A anova: 4 × 6</caption>\n",
       "<thead>\n",
       "\t<tr><th></th><th scope=col>Res.Df</th><th scope=col>RSS</th><th scope=col>Df</th><th scope=col>Sum of Sq</th><th scope=col>F</th><th scope=col>Pr(&gt;F)</th></tr>\n",
       "\t<tr><th></th><th scope=col>&lt;dbl&gt;</th><th scope=col>&lt;dbl&gt;</th><th scope=col>&lt;dbl&gt;</th><th scope=col>&lt;dbl&gt;</th><th scope=col>&lt;dbl&gt;</th><th scope=col>&lt;dbl&gt;</th></tr>\n",
       "</thead>\n",
       "<tbody>\n",
       "\t<tr><th scope=row>1</th><td>270</td><td>267.8319</td><td>NA</td><td>      NA</td><td>       NA</td><td>        NA</td></tr>\n",
       "\t<tr><th scope=row>2</th><td>267</td><td>260.2857</td><td> 3</td><td>7.546207</td><td>2.5449680</td><td>0.05669029</td></tr>\n",
       "\t<tr><th scope=row>3</th><td>258</td><td>252.6519</td><td> 9</td><td>7.633776</td><td>0.8581669</td><td>0.56338350</td></tr>\n",
       "\t<tr><th scope=row>4</th><td>246</td><td>243.1422</td><td>12</td><td>9.509764</td><td>0.8017950</td><td>0.64851770</td></tr>\n",
       "</tbody>\n",
       "</table>\n"
      ],
      "text/latex": [
       "A anova: 4 × 6\n",
       "\\begin{tabular}{r|llllll}\n",
       "  & Res.Df & RSS & Df & Sum of Sq & F & Pr(>F)\\\\\n",
       "  & <dbl> & <dbl> & <dbl> & <dbl> & <dbl> & <dbl>\\\\\n",
       "\\hline\n",
       "\t1 & 270 & 267.8319 & NA &       NA &        NA &         NA\\\\\n",
       "\t2 & 267 & 260.2857 &  3 & 7.546207 & 2.5449680 & 0.05669029\\\\\n",
       "\t3 & 258 & 252.6519 &  9 & 7.633776 & 0.8581669 & 0.56338350\\\\\n",
       "\t4 & 246 & 243.1422 & 12 & 9.509764 & 0.8017950 & 0.64851770\\\\\n",
       "\\end{tabular}\n"
      ],
      "text/markdown": [
       "\n",
       "A anova: 4 × 6\n",
       "\n",
       "| <!--/--> | Res.Df &lt;dbl&gt; | RSS &lt;dbl&gt; | Df &lt;dbl&gt; | Sum of Sq &lt;dbl&gt; | F &lt;dbl&gt; | Pr(&gt;F) &lt;dbl&gt; |\n",
       "|---|---|---|---|---|---|---|\n",
       "| 1 | 270 | 267.8319 | NA |       NA |        NA |         NA |\n",
       "| 2 | 267 | 260.2857 |  3 | 7.546207 | 2.5449680 | 0.05669029 |\n",
       "| 3 | 258 | 252.6519 |  9 | 7.633776 | 0.8581669 | 0.56338350 |\n",
       "| 4 | 246 | 243.1422 | 12 | 9.509764 | 0.8017950 | 0.64851770 |\n",
       "\n"
      ],
      "text/plain": [
       "  Res.Df RSS      Df Sum of Sq F         Pr(>F)    \n",
       "1 270    267.8319 NA       NA         NA         NA\n",
       "2 267    260.2857  3 7.546207  2.5449680 0.05669029\n",
       "3 258    252.6519  9 7.633776  0.8581669 0.56338350\n",
       "4 246    243.1422 12 9.509764  0.8017950 0.64851770"
      ]
     },
     "metadata": {}
    }
   ],
   "metadata": {}
  },
  {
   "cell_type": "code",
   "execution_count": 38,
   "source": [
    "anova(m2,m3,m3a,m3c)"
   ],
   "outputs": [
    {
     "output_type": "display_data",
     "data": {
      "text/html": [
       "<table class=\"dataframe\">\n",
       "<caption>A anova: 4 × 6</caption>\n",
       "<thead>\n",
       "\t<tr><th></th><th scope=col>Res.Df</th><th scope=col>RSS</th><th scope=col>Df</th><th scope=col>Sum of Sq</th><th scope=col>F</th><th scope=col>Pr(&gt;F)</th></tr>\n",
       "\t<tr><th></th><th scope=col>&lt;dbl&gt;</th><th scope=col>&lt;dbl&gt;</th><th scope=col>&lt;dbl&gt;</th><th scope=col>&lt;dbl&gt;</th><th scope=col>&lt;dbl&gt;</th><th scope=col>&lt;dbl&gt;</th></tr>\n",
       "</thead>\n",
       "<tbody>\n",
       "\t<tr><th scope=row>1</th><td>271</td><td>19194.82</td><td>NA</td><td>      NA</td><td>       NA</td><td>        NA</td></tr>\n",
       "\t<tr><th scope=row>2</th><td>267</td><td>18551.92</td><td> 4</td><td>642.9025</td><td>2.2815054</td><td>0.06117302</td></tr>\n",
       "\t<tr><th scope=row>3</th><td>258</td><td>18007.82</td><td> 9</td><td>544.0990</td><td>0.8581669</td><td>0.56338350</td></tr>\n",
       "\t<tr><th scope=row>4</th><td>246</td><td>17330.01</td><td>12</td><td>677.8105</td><td>0.8017950</td><td>0.64851770</td></tr>\n",
       "</tbody>\n",
       "</table>\n"
      ],
      "text/latex": [
       "A anova: 4 × 6\n",
       "\\begin{tabular}{r|llllll}\n",
       "  & Res.Df & RSS & Df & Sum of Sq & F & Pr(>F)\\\\\n",
       "  & <dbl> & <dbl> & <dbl> & <dbl> & <dbl> & <dbl>\\\\\n",
       "\\hline\n",
       "\t1 & 271 & 19194.82 & NA &       NA &        NA &         NA\\\\\n",
       "\t2 & 267 & 18551.92 &  4 & 642.9025 & 2.2815054 & 0.06117302\\\\\n",
       "\t3 & 258 & 18007.82 &  9 & 544.0990 & 0.8581669 & 0.56338350\\\\\n",
       "\t4 & 246 & 17330.01 & 12 & 677.8105 & 0.8017950 & 0.64851770\\\\\n",
       "\\end{tabular}\n"
      ],
      "text/markdown": [
       "\n",
       "A anova: 4 × 6\n",
       "\n",
       "| <!--/--> | Res.Df &lt;dbl&gt; | RSS &lt;dbl&gt; | Df &lt;dbl&gt; | Sum of Sq &lt;dbl&gt; | F &lt;dbl&gt; | Pr(&gt;F) &lt;dbl&gt; |\n",
       "|---|---|---|---|---|---|---|\n",
       "| 1 | 271 | 19194.82 | NA |       NA |        NA |         NA |\n",
       "| 2 | 267 | 18551.92 |  4 | 642.9025 | 2.2815054 | 0.06117302 |\n",
       "| 3 | 258 | 18007.82 |  9 | 544.0990 | 0.8581669 | 0.56338350 |\n",
       "| 4 | 246 | 17330.01 | 12 | 677.8105 | 0.8017950 | 0.64851770 |\n",
       "\n"
      ],
      "text/plain": [
       "  Res.Df RSS      Df Sum of Sq F         Pr(>F)    \n",
       "1 271    19194.82 NA       NA         NA         NA\n",
       "2 267    18551.92  4 642.9025  2.2815054 0.06117302\n",
       "3 258    18007.82  9 544.0990  0.8581669 0.56338350\n",
       "4 246    17330.01 12 677.8105  0.8017950 0.64851770"
      ]
     },
     "metadata": {}
    }
   ],
   "metadata": {}
  },
  {
   "cell_type": "code",
   "execution_count": 39,
   "source": [
    "anova(m2z,m3z,m3az,m3cz)"
   ],
   "outputs": [
    {
     "output_type": "display_data",
     "data": {
      "text/html": [
       "<table class=\"dataframe\">\n",
       "<caption>A anova: 4 × 6</caption>\n",
       "<thead>\n",
       "\t<tr><th></th><th scope=col>Res.Df</th><th scope=col>RSS</th><th scope=col>Df</th><th scope=col>Sum of Sq</th><th scope=col>F</th><th scope=col>Pr(&gt;F)</th></tr>\n",
       "\t<tr><th></th><th scope=col>&lt;dbl&gt;</th><th scope=col>&lt;dbl&gt;</th><th scope=col>&lt;dbl&gt;</th><th scope=col>&lt;dbl&gt;</th><th scope=col>&lt;dbl&gt;</th><th scope=col>&lt;dbl&gt;</th></tr>\n",
       "</thead>\n",
       "<tbody>\n",
       "\t<tr><th scope=row>1</th><td>271</td><td>269.3057</td><td>NA</td><td>      NA</td><td>       NA</td><td>        NA</td></tr>\n",
       "\t<tr><th scope=row>2</th><td>267</td><td>260.2857</td><td> 4</td><td>9.020002</td><td>2.2815054</td><td>0.06117302</td></tr>\n",
       "\t<tr><th scope=row>3</th><td>258</td><td>252.6519</td><td> 9</td><td>7.633776</td><td>0.8581669</td><td>0.56338350</td></tr>\n",
       "\t<tr><th scope=row>4</th><td>246</td><td>243.1422</td><td>12</td><td>9.509764</td><td>0.8017950</td><td>0.64851770</td></tr>\n",
       "</tbody>\n",
       "</table>\n"
      ],
      "text/latex": [
       "A anova: 4 × 6\n",
       "\\begin{tabular}{r|llllll}\n",
       "  & Res.Df & RSS & Df & Sum of Sq & F & Pr(>F)\\\\\n",
       "  & <dbl> & <dbl> & <dbl> & <dbl> & <dbl> & <dbl>\\\\\n",
       "\\hline\n",
       "\t1 & 271 & 269.3057 & NA &       NA &        NA &         NA\\\\\n",
       "\t2 & 267 & 260.2857 &  4 & 9.020002 & 2.2815054 & 0.06117302\\\\\n",
       "\t3 & 258 & 252.6519 &  9 & 7.633776 & 0.8581669 & 0.56338350\\\\\n",
       "\t4 & 246 & 243.1422 & 12 & 9.509764 & 0.8017950 & 0.64851770\\\\\n",
       "\\end{tabular}\n"
      ],
      "text/markdown": [
       "\n",
       "A anova: 4 × 6\n",
       "\n",
       "| <!--/--> | Res.Df &lt;dbl&gt; | RSS &lt;dbl&gt; | Df &lt;dbl&gt; | Sum of Sq &lt;dbl&gt; | F &lt;dbl&gt; | Pr(&gt;F) &lt;dbl&gt; |\n",
       "|---|---|---|---|---|---|---|\n",
       "| 1 | 271 | 269.3057 | NA |       NA |        NA |         NA |\n",
       "| 2 | 267 | 260.2857 |  4 | 9.020002 | 2.2815054 | 0.06117302 |\n",
       "| 3 | 258 | 252.6519 |  9 | 7.633776 | 0.8581669 | 0.56338350 |\n",
       "| 4 | 246 | 243.1422 | 12 | 9.509764 | 0.8017950 | 0.64851770 |\n",
       "\n"
      ],
      "text/plain": [
       "  Res.Df RSS      Df Sum of Sq F         Pr(>F)    \n",
       "1 271    269.3057 NA       NA         NA         NA\n",
       "2 267    260.2857  4 9.020002  2.2815054 0.06117302\n",
       "3 258    252.6519  9 7.633776  0.8581669 0.56338350\n",
       "4 246    243.1422 12 9.509764  0.8017950 0.64851770"
      ]
     },
     "metadata": {}
    }
   ],
   "metadata": {}
  },
  {
   "cell_type": "code",
   "execution_count": 40,
   "source": [
    "anova(m1,m1a,m3a,m3c)"
   ],
   "outputs": [
    {
     "output_type": "display_data",
     "data": {
      "text/html": [
       "<table class=\"dataframe\">\n",
       "<caption>A anova: 4 × 6</caption>\n",
       "<thead>\n",
       "\t<tr><th></th><th scope=col>Res.Df</th><th scope=col>RSS</th><th scope=col>Df</th><th scope=col>Sum of Sq</th><th scope=col>F</th><th scope=col>Pr(&gt;F)</th></tr>\n",
       "\t<tr><th></th><th scope=col>&lt;dbl&gt;</th><th scope=col>&lt;dbl&gt;</th><th scope=col>&lt;dbl&gt;</th><th scope=col>&lt;dbl&gt;</th><th scope=col>&lt;dbl&gt;</th><th scope=col>&lt;dbl&gt;</th></tr>\n",
       "</thead>\n",
       "<tbody>\n",
       "\t<tr><th scope=row>1</th><td>270</td><td>19089.78</td><td>NA</td><td>      NA</td><td>       NA</td><td>       NA</td></tr>\n",
       "\t<tr><th scope=row>2</th><td>264</td><td>18719.50</td><td> 6</td><td>370.2756</td><td>0.8760123</td><td>0.5130701</td></tr>\n",
       "\t<tr><th scope=row>3</th><td>258</td><td>18007.82</td><td> 6</td><td>711.6809</td><td>1.6837221</td><td>0.1254793</td></tr>\n",
       "\t<tr><th scope=row>4</th><td>246</td><td>17330.01</td><td>12</td><td>677.8105</td><td>0.8017950</td><td>0.6485177</td></tr>\n",
       "</tbody>\n",
       "</table>\n"
      ],
      "text/latex": [
       "A anova: 4 × 6\n",
       "\\begin{tabular}{r|llllll}\n",
       "  & Res.Df & RSS & Df & Sum of Sq & F & Pr(>F)\\\\\n",
       "  & <dbl> & <dbl> & <dbl> & <dbl> & <dbl> & <dbl>\\\\\n",
       "\\hline\n",
       "\t1 & 270 & 19089.78 & NA &       NA &        NA &        NA\\\\\n",
       "\t2 & 264 & 18719.50 &  6 & 370.2756 & 0.8760123 & 0.5130701\\\\\n",
       "\t3 & 258 & 18007.82 &  6 & 711.6809 & 1.6837221 & 0.1254793\\\\\n",
       "\t4 & 246 & 17330.01 & 12 & 677.8105 & 0.8017950 & 0.6485177\\\\\n",
       "\\end{tabular}\n"
      ],
      "text/markdown": [
       "\n",
       "A anova: 4 × 6\n",
       "\n",
       "| <!--/--> | Res.Df &lt;dbl&gt; | RSS &lt;dbl&gt; | Df &lt;dbl&gt; | Sum of Sq &lt;dbl&gt; | F &lt;dbl&gt; | Pr(&gt;F) &lt;dbl&gt; |\n",
       "|---|---|---|---|---|---|---|\n",
       "| 1 | 270 | 19089.78 | NA |       NA |        NA |        NA |\n",
       "| 2 | 264 | 18719.50 |  6 | 370.2756 | 0.8760123 | 0.5130701 |\n",
       "| 3 | 258 | 18007.82 |  6 | 711.6809 | 1.6837221 | 0.1254793 |\n",
       "| 4 | 246 | 17330.01 | 12 | 677.8105 | 0.8017950 | 0.6485177 |\n",
       "\n"
      ],
      "text/plain": [
       "  Res.Df RSS      Df Sum of Sq F         Pr(>F)   \n",
       "1 270    19089.78 NA       NA         NA        NA\n",
       "2 264    18719.50  6 370.2756  0.8760123 0.5130701\n",
       "3 258    18007.82  6 711.6809  1.6837221 0.1254793\n",
       "4 246    17330.01 12 677.8105  0.8017950 0.6485177"
      ]
     },
     "metadata": {}
    }
   ],
   "metadata": {}
  },
  {
   "cell_type": "code",
   "execution_count": 41,
   "source": [
    "anova(m1z,m1az,m3az,m3cz)"
   ],
   "outputs": [
    {
     "output_type": "display_data",
     "data": {
      "text/html": [
       "<table class=\"dataframe\">\n",
       "<caption>A anova: 4 × 6</caption>\n",
       "<thead>\n",
       "\t<tr><th></th><th scope=col>Res.Df</th><th scope=col>RSS</th><th scope=col>Df</th><th scope=col>Sum of Sq</th><th scope=col>F</th><th scope=col>Pr(&gt;F)</th></tr>\n",
       "\t<tr><th></th><th scope=col>&lt;dbl&gt;</th><th scope=col>&lt;dbl&gt;</th><th scope=col>&lt;dbl&gt;</th><th scope=col>&lt;dbl&gt;</th><th scope=col>&lt;dbl&gt;</th><th scope=col>&lt;dbl&gt;</th></tr>\n",
       "</thead>\n",
       "<tbody>\n",
       "\t<tr><th scope=row>1</th><td>270</td><td>267.8319</td><td>NA</td><td>      NA</td><td>       NA</td><td>       NA</td></tr>\n",
       "\t<tr><th scope=row>2</th><td>264</td><td>262.6369</td><td> 6</td><td>5.195012</td><td>0.8760123</td><td>0.5130701</td></tr>\n",
       "\t<tr><th scope=row>3</th><td>258</td><td>252.6519</td><td> 6</td><td>9.984971</td><td>1.6837221</td><td>0.1254793</td></tr>\n",
       "\t<tr><th scope=row>4</th><td>246</td><td>243.1422</td><td>12</td><td>9.509764</td><td>0.8017950</td><td>0.6485177</td></tr>\n",
       "</tbody>\n",
       "</table>\n"
      ],
      "text/latex": [
       "A anova: 4 × 6\n",
       "\\begin{tabular}{r|llllll}\n",
       "  & Res.Df & RSS & Df & Sum of Sq & F & Pr(>F)\\\\\n",
       "  & <dbl> & <dbl> & <dbl> & <dbl> & <dbl> & <dbl>\\\\\n",
       "\\hline\n",
       "\t1 & 270 & 267.8319 & NA &       NA &        NA &        NA\\\\\n",
       "\t2 & 264 & 262.6369 &  6 & 5.195012 & 0.8760123 & 0.5130701\\\\\n",
       "\t3 & 258 & 252.6519 &  6 & 9.984971 & 1.6837221 & 0.1254793\\\\\n",
       "\t4 & 246 & 243.1422 & 12 & 9.509764 & 0.8017950 & 0.6485177\\\\\n",
       "\\end{tabular}\n"
      ],
      "text/markdown": [
       "\n",
       "A anova: 4 × 6\n",
       "\n",
       "| <!--/--> | Res.Df &lt;dbl&gt; | RSS &lt;dbl&gt; | Df &lt;dbl&gt; | Sum of Sq &lt;dbl&gt; | F &lt;dbl&gt; | Pr(&gt;F) &lt;dbl&gt; |\n",
       "|---|---|---|---|---|---|---|\n",
       "| 1 | 270 | 267.8319 | NA |       NA |        NA |        NA |\n",
       "| 2 | 264 | 262.6369 |  6 | 5.195012 | 0.8760123 | 0.5130701 |\n",
       "| 3 | 258 | 252.6519 |  6 | 9.984971 | 1.6837221 | 0.1254793 |\n",
       "| 4 | 246 | 243.1422 | 12 | 9.509764 | 0.8017950 | 0.6485177 |\n",
       "\n"
      ],
      "text/plain": [
       "  Res.Df RSS      Df Sum of Sq F         Pr(>F)   \n",
       "1 270    267.8319 NA       NA         NA        NA\n",
       "2 264    262.6369  6 5.195012  0.8760123 0.5130701\n",
       "3 258    252.6519  6 9.984971  1.6837221 0.1254793\n",
       "4 246    243.1422 12 9.509764  0.8017950 0.6485177"
      ]
     },
     "metadata": {}
    }
   ],
   "metadata": {}
  },
  {
   "cell_type": "code",
   "execution_count": 42,
   "source": [
    "anova(m2,m2a,m3a,m3c)"
   ],
   "outputs": [
    {
     "output_type": "display_data",
     "data": {
      "text/html": [
       "<table class=\"dataframe\">\n",
       "<caption>A anova: 4 × 6</caption>\n",
       "<thead>\n",
       "\t<tr><th></th><th scope=col>Res.Df</th><th scope=col>RSS</th><th scope=col>Df</th><th scope=col>Sum of Sq</th><th scope=col>F</th><th scope=col>Pr(&gt;F)</th></tr>\n",
       "\t<tr><th></th><th scope=col>&lt;dbl&gt;</th><th scope=col>&lt;dbl&gt;</th><th scope=col>&lt;dbl&gt;</th><th scope=col>&lt;dbl&gt;</th><th scope=col>&lt;dbl&gt;</th><th scope=col>&lt;dbl&gt;</th></tr>\n",
       "</thead>\n",
       "<tbody>\n",
       "\t<tr><th scope=row>1</th><td>271</td><td>19194.82</td><td>NA</td><td>       NA</td><td>       NA</td><td>       NA</td></tr>\n",
       "\t<tr><th scope=row>2</th><td>268</td><td>19050.89</td><td> 3</td><td> 143.9293</td><td>0.6810267</td><td>0.5643993</td></tr>\n",
       "\t<tr><th scope=row>3</th><td>258</td><td>18007.82</td><td>10</td><td>1043.0723</td><td>1.4806443</td><td>0.1469535</td></tr>\n",
       "\t<tr><th scope=row>4</th><td>246</td><td>17330.01</td><td>12</td><td> 677.8105</td><td>0.8017950</td><td>0.6485177</td></tr>\n",
       "</tbody>\n",
       "</table>\n"
      ],
      "text/latex": [
       "A anova: 4 × 6\n",
       "\\begin{tabular}{r|llllll}\n",
       "  & Res.Df & RSS & Df & Sum of Sq & F & Pr(>F)\\\\\n",
       "  & <dbl> & <dbl> & <dbl> & <dbl> & <dbl> & <dbl>\\\\\n",
       "\\hline\n",
       "\t1 & 271 & 19194.82 & NA &        NA &        NA &        NA\\\\\n",
       "\t2 & 268 & 19050.89 &  3 &  143.9293 & 0.6810267 & 0.5643993\\\\\n",
       "\t3 & 258 & 18007.82 & 10 & 1043.0723 & 1.4806443 & 0.1469535\\\\\n",
       "\t4 & 246 & 17330.01 & 12 &  677.8105 & 0.8017950 & 0.6485177\\\\\n",
       "\\end{tabular}\n"
      ],
      "text/markdown": [
       "\n",
       "A anova: 4 × 6\n",
       "\n",
       "| <!--/--> | Res.Df &lt;dbl&gt; | RSS &lt;dbl&gt; | Df &lt;dbl&gt; | Sum of Sq &lt;dbl&gt; | F &lt;dbl&gt; | Pr(&gt;F) &lt;dbl&gt; |\n",
       "|---|---|---|---|---|---|---|\n",
       "| 1 | 271 | 19194.82 | NA |        NA |        NA |        NA |\n",
       "| 2 | 268 | 19050.89 |  3 |  143.9293 | 0.6810267 | 0.5643993 |\n",
       "| 3 | 258 | 18007.82 | 10 | 1043.0723 | 1.4806443 | 0.1469535 |\n",
       "| 4 | 246 | 17330.01 | 12 |  677.8105 | 0.8017950 | 0.6485177 |\n",
       "\n"
      ],
      "text/plain": [
       "  Res.Df RSS      Df Sum of Sq F         Pr(>F)   \n",
       "1 271    19194.82 NA        NA        NA        NA\n",
       "2 268    19050.89  3  143.9293 0.6810267 0.5643993\n",
       "3 258    18007.82 10 1043.0723 1.4806443 0.1469535\n",
       "4 246    17330.01 12  677.8105 0.8017950 0.6485177"
      ]
     },
     "metadata": {}
    }
   ],
   "metadata": {}
  },
  {
   "cell_type": "code",
   "execution_count": 43,
   "source": [
    "anova(m2z,m2az,m3az,m3cz)"
   ],
   "outputs": [
    {
     "output_type": "display_data",
     "data": {
      "text/html": [
       "<table class=\"dataframe\">\n",
       "<caption>A anova: 4 × 6</caption>\n",
       "<thead>\n",
       "\t<tr><th></th><th scope=col>Res.Df</th><th scope=col>RSS</th><th scope=col>Df</th><th scope=col>Sum of Sq</th><th scope=col>F</th><th scope=col>Pr(&gt;F)</th></tr>\n",
       "\t<tr><th></th><th scope=col>&lt;dbl&gt;</th><th scope=col>&lt;dbl&gt;</th><th scope=col>&lt;dbl&gt;</th><th scope=col>&lt;dbl&gt;</th><th scope=col>&lt;dbl&gt;</th><th scope=col>&lt;dbl&gt;</th></tr>\n",
       "</thead>\n",
       "<tbody>\n",
       "\t<tr><th scope=row>1</th><td>271</td><td>269.3057</td><td>NA</td><td>       NA</td><td>       NA</td><td>       NA</td></tr>\n",
       "\t<tr><th scope=row>2</th><td>268</td><td>267.2864</td><td> 3</td><td> 2.019345</td><td>0.6810267</td><td>0.5643993</td></tr>\n",
       "\t<tr><th scope=row>3</th><td>258</td><td>252.6519</td><td>10</td><td>14.634433</td><td>1.4806443</td><td>0.1469535</td></tr>\n",
       "\t<tr><th scope=row>4</th><td>246</td><td>243.1422</td><td>12</td><td> 9.509764</td><td>0.8017950</td><td>0.6485177</td></tr>\n",
       "</tbody>\n",
       "</table>\n"
      ],
      "text/latex": [
       "A anova: 4 × 6\n",
       "\\begin{tabular}{r|llllll}\n",
       "  & Res.Df & RSS & Df & Sum of Sq & F & Pr(>F)\\\\\n",
       "  & <dbl> & <dbl> & <dbl> & <dbl> & <dbl> & <dbl>\\\\\n",
       "\\hline\n",
       "\t1 & 271 & 269.3057 & NA &        NA &        NA &        NA\\\\\n",
       "\t2 & 268 & 267.2864 &  3 &  2.019345 & 0.6810267 & 0.5643993\\\\\n",
       "\t3 & 258 & 252.6519 & 10 & 14.634433 & 1.4806443 & 0.1469535\\\\\n",
       "\t4 & 246 & 243.1422 & 12 &  9.509764 & 0.8017950 & 0.6485177\\\\\n",
       "\\end{tabular}\n"
      ],
      "text/markdown": [
       "\n",
       "A anova: 4 × 6\n",
       "\n",
       "| <!--/--> | Res.Df &lt;dbl&gt; | RSS &lt;dbl&gt; | Df &lt;dbl&gt; | Sum of Sq &lt;dbl&gt; | F &lt;dbl&gt; | Pr(&gt;F) &lt;dbl&gt; |\n",
       "|---|---|---|---|---|---|---|\n",
       "| 1 | 271 | 269.3057 | NA |        NA |        NA |        NA |\n",
       "| 2 | 268 | 267.2864 |  3 |  2.019345 | 0.6810267 | 0.5643993 |\n",
       "| 3 | 258 | 252.6519 | 10 | 14.634433 | 1.4806443 | 0.1469535 |\n",
       "| 4 | 246 | 243.1422 | 12 |  9.509764 | 0.8017950 | 0.6485177 |\n",
       "\n"
      ],
      "text/plain": [
       "  Res.Df RSS      Df Sum of Sq F         Pr(>F)   \n",
       "1 271    269.3057 NA        NA        NA        NA\n",
       "2 268    267.2864  3  2.019345 0.6810267 0.5643993\n",
       "3 258    252.6519 10 14.634433 1.4806443 0.1469535\n",
       "4 246    243.1422 12  9.509764 0.8017950 0.6485177"
      ]
     },
     "metadata": {}
    }
   ],
   "metadata": {}
  },
  {
   "cell_type": "code",
   "execution_count": 44,
   "source": [
    "anova(m3,m3b,m3c)"
   ],
   "outputs": [
    {
     "output_type": "display_data",
     "data": {
      "text/html": [
       "<table class=\"dataframe\">\n",
       "<caption>A anova: 3 × 6</caption>\n",
       "<thead>\n",
       "\t<tr><th></th><th scope=col>Res.Df</th><th scope=col>RSS</th><th scope=col>Df</th><th scope=col>Sum of Sq</th><th scope=col>F</th><th scope=col>Pr(&gt;F)</th></tr>\n",
       "\t<tr><th></th><th scope=col>&lt;dbl&gt;</th><th scope=col>&lt;dbl&gt;</th><th scope=col>&lt;dbl&gt;</th><th scope=col>&lt;dbl&gt;</th><th scope=col>&lt;dbl&gt;</th><th scope=col>&lt;dbl&gt;</th></tr>\n",
       "</thead>\n",
       "<tbody>\n",
       "\t<tr><th scope=row>1</th><td>267</td><td>18551.92</td><td>NA</td><td>      NA</td><td>       NA</td><td>       NA</td></tr>\n",
       "\t<tr><th scope=row>2</th><td>255</td><td>17793.28</td><td>12</td><td>758.6358</td><td>0.8974049</td><td>0.5502597</td></tr>\n",
       "\t<tr><th scope=row>3</th><td>246</td><td>17330.01</td><td> 9</td><td>463.2737</td><td>0.7306871</td><td>0.6805883</td></tr>\n",
       "</tbody>\n",
       "</table>\n"
      ],
      "text/latex": [
       "A anova: 3 × 6\n",
       "\\begin{tabular}{r|llllll}\n",
       "  & Res.Df & RSS & Df & Sum of Sq & F & Pr(>F)\\\\\n",
       "  & <dbl> & <dbl> & <dbl> & <dbl> & <dbl> & <dbl>\\\\\n",
       "\\hline\n",
       "\t1 & 267 & 18551.92 & NA &       NA &        NA &        NA\\\\\n",
       "\t2 & 255 & 17793.28 & 12 & 758.6358 & 0.8974049 & 0.5502597\\\\\n",
       "\t3 & 246 & 17330.01 &  9 & 463.2737 & 0.7306871 & 0.6805883\\\\\n",
       "\\end{tabular}\n"
      ],
      "text/markdown": [
       "\n",
       "A anova: 3 × 6\n",
       "\n",
       "| <!--/--> | Res.Df &lt;dbl&gt; | RSS &lt;dbl&gt; | Df &lt;dbl&gt; | Sum of Sq &lt;dbl&gt; | F &lt;dbl&gt; | Pr(&gt;F) &lt;dbl&gt; |\n",
       "|---|---|---|---|---|---|---|\n",
       "| 1 | 267 | 18551.92 | NA |       NA |        NA |        NA |\n",
       "| 2 | 255 | 17793.28 | 12 | 758.6358 | 0.8974049 | 0.5502597 |\n",
       "| 3 | 246 | 17330.01 |  9 | 463.2737 | 0.7306871 | 0.6805883 |\n",
       "\n"
      ],
      "text/plain": [
       "  Res.Df RSS      Df Sum of Sq F         Pr(>F)   \n",
       "1 267    18551.92 NA       NA         NA        NA\n",
       "2 255    17793.28 12 758.6358  0.8974049 0.5502597\n",
       "3 246    17330.01  9 463.2737  0.7306871 0.6805883"
      ]
     },
     "metadata": {}
    }
   ],
   "metadata": {}
  },
  {
   "cell_type": "code",
   "execution_count": 45,
   "source": [
    "aic_results <- AIC(m1,m1a,m2,m2a,m3,m3a,m3b,m3c)\n",
    "aic_results"
   ],
   "outputs": [
    {
     "output_type": "display_data",
     "data": {
      "text/html": [
       "<table class=\"dataframe\">\n",
       "<caption>A data.frame: 8 × 2</caption>\n",
       "<thead>\n",
       "\t<tr><th></th><th scope=col>df</th><th scope=col>AIC</th></tr>\n",
       "\t<tr><th></th><th scope=col>&lt;dbl&gt;</th><th scope=col>&lt;dbl&gt;</th></tr>\n",
       "</thead>\n",
       "<tbody>\n",
       "\t<tr><th scope=row>m1</th><td> 6</td><td>1958.454</td></tr>\n",
       "\t<tr><th scope=row>m1a</th><td>12</td><td>1965.067</td></tr>\n",
       "\t<tr><th scope=row>m2</th><td> 5</td><td>1957.963</td></tr>\n",
       "\t<tr><th scope=row>m2a</th><td> 8</td><td>1961.893</td></tr>\n",
       "\t<tr><th scope=row>m3</th><td> 9</td><td>1956.594</td></tr>\n",
       "\t<tr><th scope=row>m3a</th><td>18</td><td>1966.409</td></tr>\n",
       "\t<tr><th scope=row>m3b</th><td>21</td><td>1969.113</td></tr>\n",
       "\t<tr><th scope=row>m3c</th><td>30</td><td>1979.858</td></tr>\n",
       "</tbody>\n",
       "</table>\n"
      ],
      "text/latex": [
       "A data.frame: 8 × 2\n",
       "\\begin{tabular}{r|ll}\n",
       "  & df & AIC\\\\\n",
       "  & <dbl> & <dbl>\\\\\n",
       "\\hline\n",
       "\tm1 &  6 & 1958.454\\\\\n",
       "\tm1a & 12 & 1965.067\\\\\n",
       "\tm2 &  5 & 1957.963\\\\\n",
       "\tm2a &  8 & 1961.893\\\\\n",
       "\tm3 &  9 & 1956.594\\\\\n",
       "\tm3a & 18 & 1966.409\\\\\n",
       "\tm3b & 21 & 1969.113\\\\\n",
       "\tm3c & 30 & 1979.858\\\\\n",
       "\\end{tabular}\n"
      ],
      "text/markdown": [
       "\n",
       "A data.frame: 8 × 2\n",
       "\n",
       "| <!--/--> | df &lt;dbl&gt; | AIC &lt;dbl&gt; |\n",
       "|---|---|---|\n",
       "| m1 |  6 | 1958.454 |\n",
       "| m1a | 12 | 1965.067 |\n",
       "| m2 |  5 | 1957.963 |\n",
       "| m2a |  8 | 1961.893 |\n",
       "| m3 |  9 | 1956.594 |\n",
       "| m3a | 18 | 1966.409 |\n",
       "| m3b | 21 | 1969.113 |\n",
       "| m3c | 30 | 1979.858 |\n",
       "\n"
      ],
      "text/plain": [
       "    df AIC     \n",
       "m1   6 1958.454\n",
       "m1a 12 1965.067\n",
       "m2   5 1957.963\n",
       "m2a  8 1961.893\n",
       "m3   9 1956.594\n",
       "m3a 18 1966.409\n",
       "m3b 21 1969.113\n",
       "m3c 30 1979.858"
      ]
     },
     "metadata": {}
    }
   ],
   "metadata": {}
  },
  {
   "cell_type": "code",
   "execution_count": 46,
   "source": [
    "aic_results <- AIC(m1z,m1az,m2z,m2az,m3z,m3az,m3bz,m3cz)\n",
    "aic_results"
   ],
   "outputs": [
    {
     "output_type": "display_data",
     "data": {
      "text/html": [
       "<table class=\"dataframe\">\n",
       "<caption>A data.frame: 8 × 2</caption>\n",
       "<thead>\n",
       "\t<tr><th></th><th scope=col>df</th><th scope=col>AIC</th></tr>\n",
       "\t<tr><th></th><th scope=col>&lt;dbl&gt;</th><th scope=col>&lt;dbl&gt;</th></tr>\n",
       "</thead>\n",
       "<tbody>\n",
       "\t<tr><th scope=row>m1z</th><td> 6</td><td>785.1530</td></tr>\n",
       "\t<tr><th scope=row>m1az</th><td>12</td><td>791.7666</td></tr>\n",
       "\t<tr><th scope=row>m2z</th><td> 5</td><td>784.6621</td></tr>\n",
       "\t<tr><th scope=row>m2az</th><td> 8</td><td>788.5923</td></tr>\n",
       "\t<tr><th scope=row>m3z</th><td> 9</td><td>783.2936</td></tr>\n",
       "\t<tr><th scope=row>m3az</th><td>18</td><td>793.1076</td></tr>\n",
       "\t<tr><th scope=row>m3bz</th><td>21</td><td>795.8117</td></tr>\n",
       "\t<tr><th scope=row>m3cz</th><td>30</td><td>806.5569</td></tr>\n",
       "</tbody>\n",
       "</table>\n"
      ],
      "text/latex": [
       "A data.frame: 8 × 2\n",
       "\\begin{tabular}{r|ll}\n",
       "  & df & AIC\\\\\n",
       "  & <dbl> & <dbl>\\\\\n",
       "\\hline\n",
       "\tm1z &  6 & 785.1530\\\\\n",
       "\tm1az & 12 & 791.7666\\\\\n",
       "\tm2z &  5 & 784.6621\\\\\n",
       "\tm2az &  8 & 788.5923\\\\\n",
       "\tm3z &  9 & 783.2936\\\\\n",
       "\tm3az & 18 & 793.1076\\\\\n",
       "\tm3bz & 21 & 795.8117\\\\\n",
       "\tm3cz & 30 & 806.5569\\\\\n",
       "\\end{tabular}\n"
      ],
      "text/markdown": [
       "\n",
       "A data.frame: 8 × 2\n",
       "\n",
       "| <!--/--> | df &lt;dbl&gt; | AIC &lt;dbl&gt; |\n",
       "|---|---|---|\n",
       "| m1z |  6 | 785.1530 |\n",
       "| m1az | 12 | 791.7666 |\n",
       "| m2z |  5 | 784.6621 |\n",
       "| m2az |  8 | 788.5923 |\n",
       "| m3z |  9 | 783.2936 |\n",
       "| m3az | 18 | 793.1076 |\n",
       "| m3bz | 21 | 795.8117 |\n",
       "| m3cz | 30 | 806.5569 |\n",
       "\n"
      ],
      "text/plain": [
       "     df AIC     \n",
       "m1z   6 785.1530\n",
       "m1az 12 791.7666\n",
       "m2z   5 784.6621\n",
       "m2az  8 788.5923\n",
       "m3z   9 783.2936\n",
       "m3az 18 793.1076\n",
       "m3bz 21 795.8117\n",
       "m3cz 30 806.5569"
      ]
     },
     "metadata": {}
    }
   ],
   "metadata": {}
  },
  {
   "cell_type": "code",
   "execution_count": 38,
   "source": [
    "aic_results <- AIC(m1_subt,m3_both) \n",
    "aic_results"
   ],
   "outputs": [
    {
     "output_type": "display_data",
     "data": {
      "text/html": [
       "<table class=\"dataframe\">\n",
       "<caption>A data.frame: 2 × 2</caption>\n",
       "<thead>\n",
       "\t<tr><th></th><th scope=col>df</th><th scope=col>AIC</th></tr>\n",
       "\t<tr><th></th><th scope=col>&lt;dbl&gt;</th><th scope=col>&lt;dbl&gt;</th></tr>\n",
       "</thead>\n",
       "<tbody>\n",
       "\t<tr><th scope=row>m1_subt</th><td>6</td><td>2437.555</td></tr>\n",
       "\t<tr><th scope=row>m3_both</th><td>9</td><td>2441.186</td></tr>\n",
       "</tbody>\n",
       "</table>\n"
      ],
      "text/latex": [
       "A data.frame: 2 × 2\n",
       "\\begin{tabular}{r|ll}\n",
       "  & df & AIC\\\\\n",
       "  & <dbl> & <dbl>\\\\\n",
       "\\hline\n",
       "\tm1\\_subt & 6 & 2437.555\\\\\n",
       "\tm3\\_both & 9 & 2441.186\\\\\n",
       "\\end{tabular}\n"
      ],
      "text/markdown": [
       "\n",
       "A data.frame: 2 × 2\n",
       "\n",
       "| <!--/--> | df &lt;dbl&gt; | AIC &lt;dbl&gt; |\n",
       "|---|---|---|\n",
       "| m1_subt | 6 | 2437.555 |\n",
       "| m3_both | 9 | 2441.186 |\n",
       "\n"
      ],
      "text/plain": [
       "        df AIC     \n",
       "m1_subt 6  2437.555\n",
       "m3_both 9  2441.186"
      ]
     },
     "metadata": {}
    }
   ],
   "metadata": {}
  },
  {
   "cell_type": "code",
   "execution_count": 39,
   "source": [
    "anova(m2_pf,m3_both) "
   ],
   "outputs": [
    {
     "output_type": "display_data",
     "data": {
      "text/html": [
       "<table class=\"dataframe\">\n",
       "<caption>A anova: 2 × 6</caption>\n",
       "<thead>\n",
       "\t<tr><th></th><th scope=col>Res.Df</th><th scope=col>RSS</th><th scope=col>Df</th><th scope=col>Sum of Sq</th><th scope=col>F</th><th scope=col>Pr(&gt;F)</th></tr>\n",
       "\t<tr><th></th><th scope=col>&lt;dbl&gt;</th><th scope=col>&lt;dbl&gt;</th><th scope=col>&lt;dbl&gt;</th><th scope=col>&lt;dbl&gt;</th><th scope=col>&lt;dbl&gt;</th><th scope=col>&lt;dbl&gt;</th></tr>\n",
       "</thead>\n",
       "<tbody>\n",
       "\t<tr><th scope=row>1</th><td>271</td><td>109369.1</td><td>NA</td><td>      NA</td><td>       NA</td><td>       NA</td></tr>\n",
       "\t<tr><th scope=row>2</th><td>267</td><td>108064.0</td><td> 4</td><td>1305.107</td><td>0.8061509</td><td>0.5221481</td></tr>\n",
       "</tbody>\n",
       "</table>\n"
      ],
      "text/latex": [
       "A anova: 2 × 6\n",
       "\\begin{tabular}{r|llllll}\n",
       "  & Res.Df & RSS & Df & Sum of Sq & F & Pr(>F)\\\\\n",
       "  & <dbl> & <dbl> & <dbl> & <dbl> & <dbl> & <dbl>\\\\\n",
       "\\hline\n",
       "\t1 & 271 & 109369.1 & NA &       NA &        NA &        NA\\\\\n",
       "\t2 & 267 & 108064.0 &  4 & 1305.107 & 0.8061509 & 0.5221481\\\\\n",
       "\\end{tabular}\n"
      ],
      "text/markdown": [
       "\n",
       "A anova: 2 × 6\n",
       "\n",
       "| <!--/--> | Res.Df &lt;dbl&gt; | RSS &lt;dbl&gt; | Df &lt;dbl&gt; | Sum of Sq &lt;dbl&gt; | F &lt;dbl&gt; | Pr(&gt;F) &lt;dbl&gt; |\n",
       "|---|---|---|---|---|---|---|\n",
       "| 1 | 271 | 109369.1 | NA |       NA |        NA |        NA |\n",
       "| 2 | 267 | 108064.0 |  4 | 1305.107 | 0.8061509 | 0.5221481 |\n",
       "\n"
      ],
      "text/plain": [
       "  Res.Df RSS      Df Sum of Sq F         Pr(>F)   \n",
       "1 271    109369.1 NA       NA         NA        NA\n",
       "2 267    108064.0  4 1305.107  0.8061509 0.5221481"
      ]
     },
     "metadata": {}
    }
   ],
   "metadata": {}
  },
  {
   "cell_type": "code",
   "execution_count": 40,
   "source": [
    "aic_results <- AIC(m2_pf,m3_both) \n",
    "aic_results"
   ],
   "outputs": [
    {
     "output_type": "display_data",
     "data": {
      "text/html": [
       "<table class=\"dataframe\">\n",
       "<caption>A data.frame: 2 × 2</caption>\n",
       "<thead>\n",
       "\t<tr><th></th><th scope=col>df</th><th scope=col>AIC</th></tr>\n",
       "\t<tr><th></th><th scope=col>&lt;dbl&gt;</th><th scope=col>&lt;dbl&gt;</th></tr>\n",
       "</thead>\n",
       "<tbody>\n",
       "\t<tr><th scope=row>m2_pf</th><td>5</td><td>2436.487</td></tr>\n",
       "\t<tr><th scope=row>m3_both</th><td>9</td><td>2441.186</td></tr>\n",
       "</tbody>\n",
       "</table>\n"
      ],
      "text/latex": [
       "A data.frame: 2 × 2\n",
       "\\begin{tabular}{r|ll}\n",
       "  & df & AIC\\\\\n",
       "  & <dbl> & <dbl>\\\\\n",
       "\\hline\n",
       "\tm2\\_pf & 5 & 2436.487\\\\\n",
       "\tm3\\_both & 9 & 2441.186\\\\\n",
       "\\end{tabular}\n"
      ],
      "text/markdown": [
       "\n",
       "A data.frame: 2 × 2\n",
       "\n",
       "| <!--/--> | df &lt;dbl&gt; | AIC &lt;dbl&gt; |\n",
       "|---|---|---|\n",
       "| m2_pf | 5 | 2436.487 |\n",
       "| m3_both | 9 | 2441.186 |\n",
       "\n"
      ],
      "text/plain": [
       "        df AIC     \n",
       "m2_pf   5  2436.487\n",
       "m3_both 9  2441.186"
      ]
     },
     "metadata": {}
    }
   ],
   "metadata": {}
  },
  {
   "cell_type": "code",
   "execution_count": 41,
   "source": [
    "formula <- as.formula(paste(trait,\" ~ PSE_subt * range_subt * bias_subt * sigma_subt\"))\n",
    "m4_subt_int <- lm(formula, data = data)\n",
    "summary(m4_subt_int)"
   ],
   "outputs": [
    {
     "output_type": "display_data",
     "data": {
      "text/plain": [
       "\n",
       "Call:\n",
       "lm(formula = formula, data = data)\n",
       "\n",
       "Residuals:\n",
       "    Min      1Q  Median      3Q     Max \n",
       "-48.402 -13.653   0.252  12.103  52.548 \n",
       "\n",
       "Coefficients:\n",
       "                                         Estimate Std. Error t value Pr(>|t|)\n",
       "(Intercept)                                156.78     147.60   1.062    0.289\n",
       "PSE_subt                                  -329.69     289.65  -1.138    0.256\n",
       "range_subt                                -158.00     278.66  -0.567    0.571\n",
       "bias_subt                                 -204.04     174.11  -1.172    0.242\n",
       "sigma_subt                               -1078.21    1142.75  -0.944    0.346\n",
       "PSE_subt:range_subt                        279.66     562.67   0.497    0.620\n",
       "PSE_subt:bias_subt                         419.82     360.66   1.164    0.245\n",
       "range_subt:bias_subt                       192.88     327.60   0.589    0.557\n",
       "PSE_subt:sigma_subt                        636.56    1827.23   0.348    0.728\n",
       "range_subt:sigma_subt                     1068.65    2420.50   0.442    0.659\n",
       "bias_subt:sigma_subt                      1270.64    1386.66   0.916    0.360\n",
       "PSE_subt:range_subt:bias_subt             -320.56     678.98  -0.472    0.637\n",
       "PSE_subt:range_subt:sigma_subt             631.08    4581.51   0.138    0.891\n",
       "PSE_subt:bias_subt:sigma_subt              -80.32    2553.17  -0.031    0.975\n",
       "range_subt:bias_subt:sigma_subt          -1071.29    2882.44  -0.372    0.710\n",
       "PSE_subt:range_subt:bias_subt:sigma_subt -2114.65    5703.13  -0.371    0.711\n",
       "\n",
       "Residual standard error: 19.94 on 259 degrees of freedom\n",
       "Multiple R-squared:  0.06696,\tAdjusted R-squared:  0.01293 \n",
       "F-statistic: 1.239 on 15 and 259 DF,  p-value: 0.2424\n"
      ]
     },
     "metadata": {}
    }
   ],
   "metadata": {}
  },
  {
   "cell_type": "code",
   "execution_count": 42,
   "source": [
    "anova(m1_subt,m4_subt_int) # interaction doesn't improve the model"
   ],
   "outputs": [
    {
     "output_type": "display_data",
     "data": {
      "text/html": [
       "<table class=\"dataframe\">\n",
       "<caption>A anova: 2 × 6</caption>\n",
       "<thead>\n",
       "\t<tr><th></th><th scope=col>Res.Df</th><th scope=col>RSS</th><th scope=col>Df</th><th scope=col>Sum of Sq</th><th scope=col>F</th><th scope=col>Pr(&gt;F)</th></tr>\n",
       "\t<tr><th></th><th scope=col>&lt;dbl&gt;</th><th scope=col>&lt;dbl&gt;</th><th scope=col>&lt;dbl&gt;</th><th scope=col>&lt;dbl&gt;</th><th scope=col>&lt;dbl&gt;</th><th scope=col>&lt;dbl&gt;</th></tr>\n",
       "</thead>\n",
       "<tbody>\n",
       "\t<tr><th scope=row>1</th><td>270</td><td>108999.0</td><td>NA</td><td>      NA</td><td>      NA</td><td>       NA</td></tr>\n",
       "\t<tr><th scope=row>2</th><td>259</td><td>102960.9</td><td>11</td><td>6038.114</td><td>1.380817</td><td>0.1818352</td></tr>\n",
       "</tbody>\n",
       "</table>\n"
      ],
      "text/latex": [
       "A anova: 2 × 6\n",
       "\\begin{tabular}{r|llllll}\n",
       "  & Res.Df & RSS & Df & Sum of Sq & F & Pr(>F)\\\\\n",
       "  & <dbl> & <dbl> & <dbl> & <dbl> & <dbl> & <dbl>\\\\\n",
       "\\hline\n",
       "\t1 & 270 & 108999.0 & NA &       NA &       NA &        NA\\\\\n",
       "\t2 & 259 & 102960.9 & 11 & 6038.114 & 1.380817 & 0.1818352\\\\\n",
       "\\end{tabular}\n"
      ],
      "text/markdown": [
       "\n",
       "A anova: 2 × 6\n",
       "\n",
       "| <!--/--> | Res.Df &lt;dbl&gt; | RSS &lt;dbl&gt; | Df &lt;dbl&gt; | Sum of Sq &lt;dbl&gt; | F &lt;dbl&gt; | Pr(&gt;F) &lt;dbl&gt; |\n",
       "|---|---|---|---|---|---|---|\n",
       "| 1 | 270 | 108999.0 | NA |       NA |       NA |        NA |\n",
       "| 2 | 259 | 102960.9 | 11 | 6038.114 | 1.380817 | 0.1818352 |\n",
       "\n"
      ],
      "text/plain": [
       "  Res.Df RSS      Df Sum of Sq F        Pr(>F)   \n",
       "1 270    108999.0 NA       NA        NA        NA\n",
       "2 259    102960.9 11 6038.114  1.380817 0.1818352"
      ]
     },
     "metadata": {}
    }
   ],
   "metadata": {}
  },
  {
   "cell_type": "code",
   "execution_count": 43,
   "source": [
    "formula <- as.formula(paste(trait,\" ~ PSE_pf * slope_pf * bias_pf\"))\n",
    "m5_pf_int <- lm(formula, data = data)\n",
    "summary(m5_pf_int)"
   ],
   "outputs": [
    {
     "output_type": "display_data",
     "data": {
      "text/plain": [
       "\n",
       "Call:\n",
       "lm(formula = formula, data = data)\n",
       "\n",
       "Residuals:\n",
       "    Min      1Q  Median      3Q     Max \n",
       "-45.300 -15.889   0.665  12.909  57.662 \n",
       "\n",
       "Coefficients:\n",
       "                        Estimate Std. Error t value Pr(>|t|)\n",
       "(Intercept)               39.867     28.582   1.395    0.164\n",
       "PSE_pf                   -19.591     55.257  -0.355    0.723\n",
       "slope_pf                  -3.352     64.354  -0.052    0.958\n",
       "bias_pf                  -45.446     39.067  -1.163    0.246\n",
       "PSE_pf:slope_pf          -49.409    152.019  -0.325    0.745\n",
       "PSE_pf:bias_pf           -35.051    102.716  -0.341    0.733\n",
       "slope_pf:bias_pf          19.108     69.170   0.276    0.783\n",
       "PSE_pf:slope_pf:bias_pf   82.446    194.117   0.425    0.671\n",
       "\n",
       "Residual standard error: 20.18 on 267 degrees of freedom\n",
       "Multiple R-squared:  0.01452,\tAdjusted R-squared:  -0.01132 \n",
       "F-statistic: 0.562 on 7 and 267 DF,  p-value: 0.7865\n"
      ]
     },
     "metadata": {}
    }
   ],
   "metadata": {}
  },
  {
   "cell_type": "code",
   "execution_count": 44,
   "source": [
    "anova(m2_pf,m5_pf_int) # interaction doesn't improve the model"
   ],
   "outputs": [
    {
     "output_type": "display_data",
     "data": {
      "text/html": [
       "<table class=\"dataframe\">\n",
       "<caption>A anova: 2 × 6</caption>\n",
       "<thead>\n",
       "\t<tr><th></th><th scope=col>Res.Df</th><th scope=col>RSS</th><th scope=col>Df</th><th scope=col>Sum of Sq</th><th scope=col>F</th><th scope=col>Pr(&gt;F)</th></tr>\n",
       "\t<tr><th></th><th scope=col>&lt;dbl&gt;</th><th scope=col>&lt;dbl&gt;</th><th scope=col>&lt;dbl&gt;</th><th scope=col>&lt;dbl&gt;</th><th scope=col>&lt;dbl&gt;</th><th scope=col>&lt;dbl&gt;</th></tr>\n",
       "</thead>\n",
       "<tbody>\n",
       "\t<tr><th scope=row>1</th><td>271</td><td>109369.1</td><td>NA</td><td>      NA</td><td>       NA</td><td>       NA</td></tr>\n",
       "\t<tr><th scope=row>2</th><td>267</td><td>108747.9</td><td> 4</td><td>621.2341</td><td>0.3813166</td><td>0.8219177</td></tr>\n",
       "</tbody>\n",
       "</table>\n"
      ],
      "text/latex": [
       "A anova: 2 × 6\n",
       "\\begin{tabular}{r|llllll}\n",
       "  & Res.Df & RSS & Df & Sum of Sq & F & Pr(>F)\\\\\n",
       "  & <dbl> & <dbl> & <dbl> & <dbl> & <dbl> & <dbl>\\\\\n",
       "\\hline\n",
       "\t1 & 271 & 109369.1 & NA &       NA &        NA &        NA\\\\\n",
       "\t2 & 267 & 108747.9 &  4 & 621.2341 & 0.3813166 & 0.8219177\\\\\n",
       "\\end{tabular}\n"
      ],
      "text/markdown": [
       "\n",
       "A anova: 2 × 6\n",
       "\n",
       "| <!--/--> | Res.Df &lt;dbl&gt; | RSS &lt;dbl&gt; | Df &lt;dbl&gt; | Sum of Sq &lt;dbl&gt; | F &lt;dbl&gt; | Pr(&gt;F) &lt;dbl&gt; |\n",
       "|---|---|---|---|---|---|---|\n",
       "| 1 | 271 | 109369.1 | NA |       NA |        NA |        NA |\n",
       "| 2 | 267 | 108747.9 |  4 | 621.2341 | 0.3813166 | 0.8219177 |\n",
       "\n"
      ],
      "text/plain": [
       "  Res.Df RSS      Df Sum of Sq F         Pr(>F)   \n",
       "1 271    109369.1 NA       NA         NA        NA\n",
       "2 267    108747.9  4 621.2341  0.3813166 0.8219177"
      ]
     },
     "metadata": {}
    }
   ],
   "metadata": {}
  },
  {
   "cell_type": "code",
   "execution_count": 46,
   "source": [
    "formula <- as.formula(paste(trait,\" ~ PSE_subt * range_subt * bias_subt * sigma_subt * PSE_pf * slope_pf * bias_pf\"))\n",
    "m6_both_int <- lm(formula, data = data)\n",
    "summary(m6_both_int) # quite a few interactions survive!"
   ],
   "outputs": [
    {
     "output_type": "display_data",
     "data": {
      "text/plain": [
       "\n",
       "Call:\n",
       "lm(formula = formula, data = data)\n",
       "\n",
       "Residuals:\n",
       "    Min      1Q  Median      3Q     Max \n",
       "-44.796  -8.570  -0.274   8.331  48.564 \n",
       "\n",
       "Coefficients:\n",
       "                                                                  Estimate\n",
       "(Intercept)                                                         -70058\n",
       "PSE_subt                                                            181091\n",
       "range_subt                                                          104214\n",
       "bias_subt                                                            81034\n",
       "sigma_subt                                                          918727\n",
       "PSE_pf                                                              127722\n",
       "slope_pf                                                            130347\n",
       "bias_pf                                                             116532\n",
       "PSE_subt:range_subt                                                -268848\n",
       "PSE_subt:bias_subt                                                 -213791\n",
       "range_subt:bias_subt                                               -118802\n",
       "PSE_subt:sigma_subt                                               -2205241\n",
       "range_subt:sigma_subt                                             -1395437\n",
       "bias_subt:sigma_subt                                              -1059334\n",
       "PSE_subt:PSE_pf                                                    -335126\n",
       "range_subt:PSE_pf                                                  -224013\n",
       "bias_subt:PSE_pf                                                   -147802\n",
       "sigma_subt:PSE_pf                                                 -1547560\n",
       "PSE_subt:slope_pf                                                  -345035\n",
       "range_subt:slope_pf                                                -207476\n",
       "bias_subt:slope_pf                                                 -148159\n",
       "sigma_subt:slope_pf                                               -1494632\n",
       "PSE_pf:slope_pf                                                    -230902\n",
       "PSE_subt:bias_pf                                                   -292545\n",
       "range_subt:bias_pf                                                 -169228\n",
       "bias_subt:bias_pf                                                  -136678\n",
       "sigma_subt:bias_pf                                                -1548840\n",
       "PSE_pf:bias_pf                                                     -214261\n",
       "slope_pf:bias_pf                                                   -204511\n",
       "PSE_subt:range_subt:bias_subt                                       311265\n",
       "PSE_subt:range_subt:sigma_subt                                     3394669\n",
       "PSE_subt:bias_subt:sigma_subt                                      2574657\n",
       "range_subt:bias_subt:sigma_subt                                    1589482\n",
       "PSE_subt:range_subt:PSE_pf                                          584607\n",
       "PSE_subt:bias_subt:PSE_pf                                           387532\n",
       "range_subt:bias_subt:PSE_pf                                         256118\n",
       "PSE_subt:sigma_subt:PSE_pf                                         3971702\n",
       "range_subt:sigma_subt:PSE_pf                                       2665408\n",
       "bias_subt:sigma_subt:PSE_pf                                        1870637\n",
       "PSE_subt:range_subt:slope_pf                                        549803\n",
       "PSE_subt:bias_subt:slope_pf                                         389672\n",
       "range_subt:bias_subt:slope_pf                                       231958\n",
       "PSE_subt:sigma_subt:slope_pf                                       3891681\n",
       "range_subt:sigma_subt:slope_pf                                     2382059\n",
       "bias_subt:sigma_subt:slope_pf                                      1769099\n",
       "PSE_subt:PSE_pf:slope_pf                                            619862\n",
       "range_subt:PSE_pf:slope_pf                                          410106\n",
       "bias_subt:PSE_pf:slope_pf                                           262497\n",
       "sigma_subt:PSE_pf:slope_pf                                         2543326\n",
       "PSE_subt:range_subt:bias_pf                                         422573\n",
       "PSE_subt:bias_subt:bias_pf                                          349175\n",
       "range_subt:bias_subt:bias_pf                                        199816\n",
       "PSE_subt:sigma_subt:bias_pf                                        3574723\n",
       "range_subt:sigma_subt:bias_pf                                      2318413\n",
       "bias_subt:sigma_subt:bias_pf                                       1799746\n",
       "PSE_subt:PSE_pf:bias_pf                                             551015\n",
       "range_subt:PSE_pf:bias_pf                                           381842\n",
       "bias_subt:PSE_pf:bias_pf                                            250995\n",
       "sigma_subt:PSE_pf:bias_pf                                          2564932\n",
       "PSE_subt:slope_pf:bias_pf                                           526654\n",
       "range_subt:slope_pf:bias_pf                                         301379\n",
       "bias_subt:slope_pf:bias_pf                                          232971\n",
       "sigma_subt:slope_pf:bias_pf                                        2519418\n",
       "PSE_pf:slope_pf:bias_pf                                             359620\n",
       "PSE_subt:range_subt:bias_subt:sigma_subt                          -3903601\n",
       "PSE_subt:range_subt:bias_subt:PSE_pf                               -669374\n",
       "PSE_subt:range_subt:sigma_subt:PSE_pf                             -6884342\n",
       "PSE_subt:bias_subt:sigma_subt:PSE_pf                              -4771505\n",
       "range_subt:bias_subt:sigma_subt:PSE_pf                            -3198937\n",
       "PSE_subt:range_subt:bias_subt:slope_pf                             -613118\n",
       "PSE_subt:range_subt:sigma_subt:slope_pf                           -6275576\n",
       "PSE_subt:bias_subt:sigma_subt:slope_pf                            -4544934\n",
       "range_subt:bias_subt:sigma_subt:slope_pf                          -2808574\n",
       "PSE_subt:range_subt:PSE_pf:slope_pf                               -1094075\n",
       "PSE_subt:bias_subt:PSE_pf:slope_pf                                 -690650\n",
       "range_subt:bias_subt:PSE_pf:slope_pf                               -460873\n",
       "PSE_subt:sigma_subt:PSE_pf:slope_pf                               -6961562\n",
       "range_subt:sigma_subt:PSE_pf:slope_pf                             -4457830\n",
       "bias_subt:sigma_subt:PSE_pf:slope_pf                              -3115696\n",
       "PSE_subt:range_subt:bias_subt:bias_pf                              -505880\n",
       "PSE_subt:range_subt:sigma_subt:bias_pf                            -5406732\n",
       "PSE_subt:bias_subt:sigma_subt:bias_pf                             -4194290\n",
       "range_subt:bias_subt:sigma_subt:bias_pf                           -2694184\n",
       "PSE_subt:range_subt:PSE_pf:bias_pf                                 -974769\n",
       "PSE_subt:bias_subt:PSE_pf:bias_pf                                  -642537\n",
       "range_subt:bias_subt:PSE_pf:bias_pf                                -447442\n",
       "PSE_subt:sigma_subt:PSE_pf:bias_pf                                -6432868\n",
       "range_subt:sigma_subt:PSE_pf:bias_pf                              -4479253\n",
       "bias_subt:sigma_subt:PSE_pf:bias_pf                               -3152265\n",
       "PSE_subt:range_subt:slope_pf:bias_pf                               -774160\n",
       "PSE_subt:bias_subt:slope_pf:bias_pf                                -598633\n",
       "range_subt:bias_subt:slope_pf:bias_pf                              -345389\n",
       "PSE_subt:sigma_subt:slope_pf:bias_pf                              -6101016\n",
       "range_subt:sigma_subt:slope_pf:bias_pf                            -3789702\n",
       "bias_subt:sigma_subt:slope_pf:bias_pf                             -2920782\n",
       "PSE_subt:PSE_pf:slope_pf:bias_pf                                   -945930\n",
       "range_subt:PSE_pf:slope_pf:bias_pf                                 -612217\n",
       "bias_subt:PSE_pf:slope_pf:bias_pf                                  -408848\n",
       "sigma_subt:PSE_pf:slope_pf:bias_pf                                -4246046\n",
       "PSE_subt:range_subt:bias_subt:sigma_subt:PSE_pf                    8246513\n",
       "PSE_subt:range_subt:bias_subt:sigma_subt:slope_pf                  7343570\n",
       "PSE_subt:range_subt:bias_subt:PSE_pf:slope_pf                      1217570\n",
       "PSE_subt:range_subt:sigma_subt:PSE_pf:slope_pf                    12178012\n",
       "PSE_subt:bias_subt:sigma_subt:PSE_pf:slope_pf                      8292345\n",
       "range_subt:bias_subt:sigma_subt:PSE_pf:slope_pf                    5440806\n",
       "PSE_subt:range_subt:bias_subt:sigma_subt:bias_pf                   6336574\n",
       "PSE_subt:range_subt:bias_subt:PSE_pf:bias_pf                       1142491\n",
       "PSE_subt:range_subt:sigma_subt:PSE_pf:bias_pf                     11283204\n",
       "PSE_subt:bias_subt:sigma_subt:PSE_pf:bias_pf                       7829959\n",
       "range_subt:bias_subt:sigma_subt:PSE_pf:bias_pf                     5508836\n",
       "PSE_subt:range_subt:bias_subt:slope_pf:bias_pf                      885940\n",
       "PSE_subt:range_subt:sigma_subt:slope_pf:bias_pf                    9281017\n",
       "PSE_subt:bias_subt:sigma_subt:slope_pf:bias_pf                     7005092\n",
       "range_subt:bias_subt:sigma_subt:slope_pf:bias_pf                   4426339\n",
       "PSE_subt:range_subt:PSE_pf:slope_pf:bias_pf                        1592258\n",
       "PSE_subt:bias_subt:PSE_pf:slope_pf:bias_pf                         1058312\n",
       "range_subt:bias_subt:PSE_pf:slope_pf:bias_pf                        701682\n",
       "PSE_subt:sigma_subt:PSE_pf:slope_pf:bias_pf                       10846511\n",
       "range_subt:sigma_subt:PSE_pf:slope_pf:bias_pf                      7140134\n",
       "bias_subt:sigma_subt:PSE_pf:slope_pf:bias_pf                       5100729\n",
       "PSE_subt:range_subt:bias_subt:sigma_subt:PSE_pf:slope_pf         -14626988\n",
       "PSE_subt:range_subt:bias_subt:sigma_subt:PSE_pf:bias_pf          -13841624\n",
       "PSE_subt:range_subt:bias_subt:sigma_subt:slope_pf:bias_pf        -10781008\n",
       "PSE_subt:range_subt:bias_subt:PSE_pf:slope_pf:bias_pf             -1809536\n",
       "PSE_subt:range_subt:sigma_subt:PSE_pf:slope_pf:bias_pf           -18280065\n",
       "PSE_subt:bias_subt:sigma_subt:PSE_pf:slope_pf:bias_pf            -12738898\n",
       "range_subt:bias_subt:sigma_subt:PSE_pf:slope_pf:bias_pf           -8657780\n",
       "PSE_subt:range_subt:bias_subt:sigma_subt:PSE_pf:slope_pf:bias_pf  21896815\n",
       "                                                                 Std. Error\n",
       "(Intercept)                                                           46505\n",
       "PSE_subt                                                             119693\n",
       "range_subt                                                            64953\n",
       "bias_subt                                                             52244\n",
       "sigma_subt                                                           490374\n",
       "PSE_pf                                                                56419\n",
       "slope_pf                                                              57954\n",
       "bias_pf                                                               86728\n",
       "PSE_subt:range_subt                                                  156827\n",
       "PSE_subt:bias_subt                                                   135434\n",
       "range_subt:bias_subt                                                  74917\n",
       "PSE_subt:sigma_subt                                                 1150304\n",
       "range_subt:sigma_subt                                                734146\n",
       "bias_subt:sigma_subt                                                 541661\n",
       "PSE_subt:PSE_pf                                                      136073\n",
       "range_subt:PSE_pf                                                    105879\n",
       "bias_subt:PSE_pf                                                      66907\n",
       "sigma_subt:PSE_pf                                                    659321\n",
       "PSE_subt:slope_pf                                                    140098\n",
       "range_subt:slope_pf                                                  103587\n",
       "bias_subt:slope_pf                                                    68891\n",
       "sigma_subt:slope_pf                                                  643900\n",
       "PSE_pf:slope_pf                                                      174913\n",
       "PSE_subt:bias_pf                                                     225375\n",
       "range_subt:bias_pf                                                   110597\n",
       "bias_subt:bias_pf                                                     94510\n",
       "sigma_subt:bias_pf                                                   938388\n",
       "PSE_pf:bias_pf                                                       101367\n",
       "slope_pf:bias_pf                                                      94656\n",
       "PSE_subt:range_subt:bias_subt                                        184019\n",
       "PSE_subt:range_subt:sigma_subt                                      1681328\n",
       "PSE_subt:bias_subt:sigma_subt                                       1312623\n",
       "range_subt:bias_subt:sigma_subt                                      817651\n",
       "PSE_subt:range_subt:PSE_pf                                           251583\n",
       "PSE_subt:bias_subt:PSE_pf                                            164036\n",
       "range_subt:bias_subt:PSE_pf                                          124409\n",
       "PSE_subt:sigma_subt:PSE_pf                                          1552022\n",
       "range_subt:sigma_subt:PSE_pf                                        1202183\n",
       "bias_subt:sigma_subt:PSE_pf                                          768805\n",
       "PSE_subt:range_subt:slope_pf                                         244886\n",
       "PSE_subt:bias_subt:slope_pf                                          167903\n",
       "range_subt:bias_subt:slope_pf                                        120277\n",
       "PSE_subt:sigma_subt:slope_pf                                        1524578\n",
       "range_subt:sigma_subt:slope_pf                                      1139896\n",
       "bias_subt:sigma_subt:slope_pf                                        759059\n",
       "PSE_subt:PSE_pf:slope_pf                                             434312\n",
       "range_subt:PSE_pf:slope_pf                                           276741\n",
       "bias_subt:PSE_pf:slope_pf                                            205093\n",
       "sigma_subt:PSE_pf:slope_pf                                          2079918\n",
       "PSE_subt:range_subt:bias_pf                                          267918\n",
       "PSE_subt:bias_subt:bias_pf                                           247516\n",
       "range_subt:bias_subt:bias_pf                                         122563\n",
       "PSE_subt:sigma_subt:bias_pf                                         2170029\n",
       "range_subt:sigma_subt:bias_pf                                       1315248\n",
       "bias_subt:sigma_subt:bias_pf                                        1008074\n",
       "PSE_subt:PSE_pf:bias_pf                                              246254\n",
       "range_subt:PSE_pf:bias_pf                                            170202\n",
       "bias_subt:PSE_pf:bias_pf                                             117212\n",
       "sigma_subt:PSE_pf:bias_pf                                           1227851\n",
       "PSE_subt:slope_pf:bias_pf                                            245677\n",
       "range_subt:slope_pf:bias_pf                                          133618\n",
       "bias_subt:slope_pf:bias_pf                                           100976\n",
       "sigma_subt:slope_pf:bias_pf                                          941630\n",
       "PSE_pf:slope_pf:bias_pf                                              187682\n",
       "PSE_subt:range_subt:bias_subt:sigma_subt                            1939968\n",
       "PSE_subt:range_subt:bias_subt:PSE_pf                                 300498\n",
       "PSE_subt:range_subt:sigma_subt:PSE_pf                               2828010\n",
       "PSE_subt:bias_subt:sigma_subt:PSE_pf                                1825448\n",
       "range_subt:bias_subt:sigma_subt:PSE_pf                              1383549\n",
       "PSE_subt:range_subt:bias_subt:slope_pf                               287350\n",
       "PSE_subt:range_subt:sigma_subt:slope_pf                             2676459\n",
       "PSE_subt:bias_subt:sigma_subt:slope_pf                              1800118\n",
       "range_subt:bias_subt:sigma_subt:slope_pf                            1313092\n",
       "PSE_subt:range_subt:PSE_pf:slope_pf                                  661471\n",
       "PSE_subt:bias_subt:PSE_pf:slope_pf                                   510310\n",
       "range_subt:bias_subt:PSE_pf:slope_pf                                 320839\n",
       "PSE_subt:sigma_subt:PSE_pf:slope_pf                                 4895260\n",
       "range_subt:sigma_subt:PSE_pf:slope_pf                               3277618\n",
       "bias_subt:sigma_subt:PSE_pf:slope_pf                                2407969\n",
       "PSE_subt:range_subt:bias_subt:bias_pf                                303008\n",
       "PSE_subt:range_subt:sigma_subt:bias_pf                              2931342\n",
       "PSE_subt:bias_subt:sigma_subt:bias_pf                               2397523\n",
       "range_subt:bias_subt:sigma_subt:bias_pf                             1416223\n",
       "PSE_subt:range_subt:PSE_pf:bias_pf                                   405807\n",
       "PSE_subt:bias_subt:PSE_pf:bias_pf                                    284875\n",
       "range_subt:bias_subt:PSE_pf:bias_pf                                  199248\n",
       "PSE_subt:sigma_subt:PSE_pf:bias_pf                                  2885144\n",
       "range_subt:sigma_subt:PSE_pf:bias_pf                                2010322\n",
       "bias_subt:sigma_subt:PSE_pf:bias_pf                                 1431516\n",
       "PSE_subt:range_subt:slope_pf:bias_pf                                 322288\n",
       "PSE_subt:bias_subt:slope_pf:bias_pf                                  264190\n",
       "range_subt:bias_subt:slope_pf:bias_pf                                145114\n",
       "PSE_subt:sigma_subt:slope_pf:bias_pf                                2238941\n",
       "range_subt:sigma_subt:slope_pf:bias_pf                              1432315\n",
       "bias_subt:sigma_subt:slope_pf:bias_pf                               1003605\n",
       "PSE_subt:PSE_pf:slope_pf:bias_pf                                     465218\n",
       "range_subt:PSE_pf:slope_pf:bias_pf                                   309656\n",
       "bias_subt:PSE_pf:slope_pf:bias_pf                                    215790\n",
       "sigma_subt:PSE_pf:slope_pf:bias_pf                                  2156200\n",
       "PSE_subt:range_subt:bias_subt:sigma_subt:PSE_pf                     3294509\n",
       "PSE_subt:range_subt:bias_subt:sigma_subt:slope_pf                   3104160\n",
       "PSE_subt:range_subt:bias_subt:PSE_pf:slope_pf                        775689\n",
       "PSE_subt:range_subt:sigma_subt:PSE_pf:slope_pf                      7623081\n",
       "PSE_subt:bias_subt:sigma_subt:PSE_pf:slope_pf                       5721488\n",
       "range_subt:bias_subt:sigma_subt:PSE_pf:slope_pf                     3750773\n",
       "PSE_subt:range_subt:bias_subt:sigma_subt:bias_pf                    3268063\n",
       "PSE_subt:range_subt:bias_subt:PSE_pf:bias_pf                         477638\n",
       "PSE_subt:range_subt:sigma_subt:PSE_pf:bias_pf                       4666011\n",
       "PSE_subt:bias_subt:sigma_subt:PSE_pf:bias_pf                        3360937\n",
       "range_subt:bias_subt:sigma_subt:PSE_pf:bias_pf                      2345034\n",
       "PSE_subt:range_subt:bias_subt:slope_pf:bias_pf                       353745\n",
       "PSE_subt:range_subt:sigma_subt:slope_pf:bias_pf                     3255597\n",
       "PSE_subt:bias_subt:sigma_subt:slope_pf:bias_pf                      2423951\n",
       "range_subt:bias_subt:sigma_subt:slope_pf:bias_pf                    1541931\n",
       "PSE_subt:range_subt:PSE_pf:slope_pf:bias_pf                          742053\n",
       "PSE_subt:bias_subt:PSE_pf:slope_pf:bias_pf                           535014\n",
       "range_subt:bias_subt:PSE_pf:slope_pf:bias_pf                         355897\n",
       "PSE_subt:sigma_subt:PSE_pf:slope_pf:bias_pf                         5170319\n",
       "range_subt:sigma_subt:PSE_pf:slope_pf:bias_pf                       3490853\n",
       "bias_subt:sigma_subt:PSE_pf:slope_pf:bias_pf                        2523214\n",
       "PSE_subt:range_subt:bias_subt:sigma_subt:PSE_pf:slope_pf            8843788\n",
       "PSE_subt:range_subt:bias_subt:sigma_subt:PSE_pf:bias_pf             5469277\n",
       "PSE_subt:range_subt:bias_subt:sigma_subt:slope_pf:bias_pf           3561462\n",
       "PSE_subt:range_subt:bias_subt:PSE_pf:slope_pf:bias_pf                855116\n",
       "PSE_subt:range_subt:sigma_subt:PSE_pf:slope_pf:bias_pf              8162415\n",
       "PSE_subt:bias_subt:sigma_subt:PSE_pf:slope_pf:bias_pf               6043456\n",
       "range_subt:bias_subt:sigma_subt:PSE_pf:slope_pf:bias_pf             4047416\n",
       "PSE_subt:range_subt:bias_subt:sigma_subt:PSE_pf:slope_pf:bias_pf    9483671\n",
       "                                                                 t value\n",
       "(Intercept)                                                       -1.506\n",
       "PSE_subt                                                           1.513\n",
       "range_subt                                                         1.604\n",
       "bias_subt                                                          1.551\n",
       "sigma_subt                                                         1.874\n",
       "PSE_pf                                                             2.264\n",
       "slope_pf                                                           2.249\n",
       "bias_pf                                                            1.344\n",
       "PSE_subt:range_subt                                               -1.714\n",
       "PSE_subt:bias_subt                                                -1.579\n",
       "range_subt:bias_subt                                              -1.586\n",
       "PSE_subt:sigma_subt                                               -1.917\n",
       "range_subt:sigma_subt                                             -1.901\n",
       "bias_subt:sigma_subt                                              -1.956\n",
       "PSE_subt:PSE_pf                                                   -2.463\n",
       "range_subt:PSE_pf                                                 -2.116\n",
       "bias_subt:PSE_pf                                                  -2.209\n",
       "sigma_subt:PSE_pf                                                 -2.347\n",
       "PSE_subt:slope_pf                                                 -2.463\n",
       "range_subt:slope_pf                                               -2.003\n",
       "bias_subt:slope_pf                                                -2.151\n",
       "sigma_subt:slope_pf                                               -2.321\n",
       "PSE_pf:slope_pf                                                   -1.320\n",
       "PSE_subt:bias_pf                                                  -1.298\n",
       "range_subt:bias_pf                                                -1.530\n",
       "bias_subt:bias_pf                                                 -1.446\n",
       "sigma_subt:bias_pf                                                -1.651\n",
       "PSE_pf:bias_pf                                                    -2.114\n",
       "slope_pf:bias_pf                                                  -2.161\n",
       "PSE_subt:range_subt:bias_subt                                      1.691\n",
       "PSE_subt:range_subt:sigma_subt                                     2.019\n",
       "PSE_subt:bias_subt:sigma_subt                                      1.961\n",
       "range_subt:bias_subt:sigma_subt                                    1.944\n",
       "PSE_subt:range_subt:PSE_pf                                         2.324\n",
       "PSE_subt:bias_subt:PSE_pf                                          2.362\n",
       "range_subt:bias_subt:PSE_pf                                        2.059\n",
       "PSE_subt:sigma_subt:PSE_pf                                         2.559\n",
       "range_subt:sigma_subt:PSE_pf                                       2.217\n",
       "bias_subt:sigma_subt:PSE_pf                                        2.433\n",
       "PSE_subt:range_subt:slope_pf                                       2.245\n",
       "PSE_subt:bias_subt:slope_pf                                        2.321\n",
       "range_subt:bias_subt:slope_pf                                      1.929\n",
       "PSE_subt:sigma_subt:slope_pf                                       2.553\n",
       "range_subt:sigma_subt:slope_pf                                     2.090\n",
       "bias_subt:sigma_subt:slope_pf                                      2.331\n",
       "PSE_subt:PSE_pf:slope_pf                                           1.427\n",
       "range_subt:PSE_pf:slope_pf                                         1.482\n",
       "bias_subt:PSE_pf:slope_pf                                          1.280\n",
       "sigma_subt:PSE_pf:slope_pf                                         1.223\n",
       "PSE_subt:range_subt:bias_pf                                        1.577\n",
       "PSE_subt:bias_subt:bias_pf                                         1.411\n",
       "range_subt:bias_subt:bias_pf                                       1.630\n",
       "PSE_subt:sigma_subt:bias_pf                                        1.647\n",
       "range_subt:sigma_subt:bias_pf                                      1.763\n",
       "bias_subt:sigma_subt:bias_pf                                       1.785\n",
       "PSE_subt:PSE_pf:bias_pf                                            2.238\n",
       "range_subt:PSE_pf:bias_pf                                          2.243\n",
       "bias_subt:PSE_pf:bias_pf                                           2.141\n",
       "sigma_subt:PSE_pf:bias_pf                                          2.089\n",
       "PSE_subt:slope_pf:bias_pf                                          2.144\n",
       "range_subt:slope_pf:bias_pf                                        2.256\n",
       "bias_subt:slope_pf:bias_pf                                         2.307\n",
       "sigma_subt:slope_pf:bias_pf                                        2.676\n",
       "PSE_pf:slope_pf:bias_pf                                            1.916\n",
       "PSE_subt:range_subt:bias_subt:sigma_subt                          -2.012\n",
       "PSE_subt:range_subt:bias_subt:PSE_pf                              -2.228\n",
       "PSE_subt:range_subt:sigma_subt:PSE_pf                             -2.434\n",
       "PSE_subt:bias_subt:sigma_subt:PSE_pf                              -2.614\n",
       "range_subt:bias_subt:sigma_subt:PSE_pf                            -2.312\n",
       "PSE_subt:range_subt:bias_subt:slope_pf                            -2.134\n",
       "PSE_subt:range_subt:sigma_subt:slope_pf                           -2.345\n",
       "PSE_subt:bias_subt:sigma_subt:slope_pf                            -2.525\n",
       "range_subt:bias_subt:sigma_subt:slope_pf                          -2.139\n",
       "PSE_subt:range_subt:PSE_pf:slope_pf                               -1.654\n",
       "PSE_subt:bias_subt:PSE_pf:slope_pf                                -1.353\n",
       "range_subt:bias_subt:PSE_pf:slope_pf                              -1.436\n",
       "PSE_subt:sigma_subt:PSE_pf:slope_pf                               -1.422\n",
       "range_subt:sigma_subt:PSE_pf:slope_pf                             -1.360\n",
       "bias_subt:sigma_subt:PSE_pf:slope_pf                              -1.294\n",
       "PSE_subt:range_subt:bias_subt:bias_pf                             -1.670\n",
       "PSE_subt:range_subt:sigma_subt:bias_pf                            -1.844\n",
       "PSE_subt:bias_subt:sigma_subt:bias_pf                             -1.749\n",
       "range_subt:bias_subt:sigma_subt:bias_pf                           -1.902\n",
       "PSE_subt:range_subt:PSE_pf:bias_pf                                -2.402\n",
       "PSE_subt:bias_subt:PSE_pf:bias_pf                                 -2.256\n",
       "range_subt:bias_subt:PSE_pf:bias_pf                               -2.246\n",
       "PSE_subt:sigma_subt:PSE_pf:bias_pf                                -2.230\n",
       "range_subt:sigma_subt:PSE_pf:bias_pf                              -2.228\n",
       "bias_subt:sigma_subt:PSE_pf:bias_pf                               -2.202\n",
       "PSE_subt:range_subt:slope_pf:bias_pf                              -2.402\n",
       "PSE_subt:bias_subt:slope_pf:bias_pf                               -2.266\n",
       "range_subt:bias_subt:slope_pf:bias_pf                             -2.380\n",
       "PSE_subt:sigma_subt:slope_pf:bias_pf                              -2.725\n",
       "range_subt:sigma_subt:slope_pf:bias_pf                            -2.646\n",
       "bias_subt:sigma_subt:slope_pf:bias_pf                             -2.910\n",
       "PSE_subt:PSE_pf:slope_pf:bias_pf                                  -2.033\n",
       "range_subt:PSE_pf:slope_pf:bias_pf                                -1.977\n",
       "bias_subt:PSE_pf:slope_pf:bias_pf                                 -1.895\n",
       "sigma_subt:PSE_pf:slope_pf:bias_pf                                -1.969\n",
       "PSE_subt:range_subt:bias_subt:sigma_subt:PSE_pf                    2.503\n",
       "PSE_subt:range_subt:bias_subt:sigma_subt:slope_pf                  2.366\n",
       "PSE_subt:range_subt:bias_subt:PSE_pf:slope_pf                      1.570\n",
       "PSE_subt:range_subt:sigma_subt:PSE_pf:slope_pf                     1.598\n",
       "PSE_subt:bias_subt:sigma_subt:PSE_pf:slope_pf                      1.449\n",
       "range_subt:bias_subt:sigma_subt:PSE_pf:slope_pf                    1.451\n",
       "PSE_subt:range_subt:bias_subt:sigma_subt:bias_pf                   1.939\n",
       "PSE_subt:range_subt:bias_subt:PSE_pf:bias_pf                       2.392\n",
       "PSE_subt:range_subt:sigma_subt:PSE_pf:bias_pf                      2.418\n",
       "PSE_subt:bias_subt:sigma_subt:PSE_pf:bias_pf                       2.330\n",
       "range_subt:bias_subt:sigma_subt:PSE_pf:bias_pf                     2.349\n",
       "PSE_subt:range_subt:bias_subt:slope_pf:bias_pf                     2.504\n",
       "PSE_subt:range_subt:sigma_subt:slope_pf:bias_pf                    2.851\n",
       "PSE_subt:bias_subt:sigma_subt:slope_pf:bias_pf                     2.890\n",
       "range_subt:bias_subt:sigma_subt:slope_pf:bias_pf                   2.871\n",
       "PSE_subt:range_subt:PSE_pf:slope_pf:bias_pf                        2.146\n",
       "PSE_subt:bias_subt:PSE_pf:slope_pf:bias_pf                         1.978\n",
       "range_subt:bias_subt:PSE_pf:slope_pf:bias_pf                       1.972\n",
       "PSE_subt:sigma_subt:PSE_pf:slope_pf:bias_pf                        2.098\n",
       "range_subt:sigma_subt:PSE_pf:slope_pf:bias_pf                      2.045\n",
       "bias_subt:sigma_subt:PSE_pf:slope_pf:bias_pf                       2.022\n",
       "PSE_subt:range_subt:bias_subt:sigma_subt:PSE_pf:slope_pf          -1.654\n",
       "PSE_subt:range_subt:bias_subt:sigma_subt:PSE_pf:bias_pf           -2.531\n",
       "PSE_subt:range_subt:bias_subt:sigma_subt:slope_pf:bias_pf         -3.027\n",
       "PSE_subt:range_subt:bias_subt:PSE_pf:slope_pf:bias_pf             -2.116\n",
       "PSE_subt:range_subt:sigma_subt:PSE_pf:slope_pf:bias_pf            -2.240\n",
       "PSE_subt:bias_subt:sigma_subt:PSE_pf:slope_pf:bias_pf             -2.108\n",
       "range_subt:bias_subt:sigma_subt:PSE_pf:slope_pf:bias_pf           -2.139\n",
       "PSE_subt:range_subt:bias_subt:sigma_subt:PSE_pf:slope_pf:bias_pf   2.309\n",
       "                                                                 Pr(>|t|)   \n",
       "(Intercept)                                                       0.13410   \n",
       "PSE_subt                                                          0.13244   \n",
       "range_subt                                                        0.11076   \n",
       "bias_subt                                                         0.12303   \n",
       "sigma_subt                                                        0.06298 . \n",
       "PSE_pf                                                            0.02505 * \n",
       "slope_pf                                                          0.02599 * \n",
       "bias_pf                                                           0.18113   \n",
       "PSE_subt:range_subt                                               0.08858 . \n",
       "PSE_subt:bias_subt                                                0.11659   \n",
       "range_subt:bias_subt                                              0.11494   \n",
       "PSE_subt:sigma_subt                                               0.05717 . \n",
       "range_subt:sigma_subt                                             0.05929 . \n",
       "bias_subt:sigma_subt                                              0.05240 . \n",
       "PSE_subt:PSE_pf                                                   0.01494 * \n",
       "range_subt:PSE_pf                                                 0.03605 * \n",
       "bias_subt:PSE_pf                                                  0.02872 * \n",
       "sigma_subt:PSE_pf                                                 0.02025 * \n",
       "PSE_subt:slope_pf                                                 0.01494 * \n",
       "range_subt:slope_pf                                               0.04703 * \n",
       "bias_subt:slope_pf                                                0.03314 * \n",
       "sigma_subt:slope_pf                                               0.02165 * \n",
       "PSE_pf:slope_pf                                                   0.18885   \n",
       "PSE_subt:bias_pf                                                  0.19631   \n",
       "range_subt:bias_pf                                                0.12813   \n",
       "bias_subt:bias_pf                                                 0.15026   \n",
       "sigma_subt:bias_pf                                                0.10097   \n",
       "PSE_pf:bias_pf                                                    0.03623 * \n",
       "slope_pf:bias_pf                                                  0.03235 * \n",
       "PSE_subt:range_subt:bias_subt                                     0.09286 . \n",
       "PSE_subt:range_subt:sigma_subt                                    0.04530 * \n",
       "PSE_subt:bias_subt:sigma_subt                                     0.05171 . \n",
       "range_subt:bias_subt:sigma_subt                                   0.05381 . \n",
       "PSE_subt:range_subt:PSE_pf                                        0.02151 * \n",
       "PSE_subt:bias_subt:PSE_pf                                         0.01946 * \n",
       "range_subt:bias_subt:PSE_pf                                       0.04129 * \n",
       "PSE_subt:sigma_subt:PSE_pf                                        0.01151 * \n",
       "range_subt:sigma_subt:PSE_pf                                      0.02815 * \n",
       "bias_subt:sigma_subt:PSE_pf                                       0.01617 * \n",
       "PSE_subt:range_subt:slope_pf                                      0.02625 * \n",
       "PSE_subt:bias_subt:slope_pf                                       0.02167 * \n",
       "range_subt:bias_subt:slope_pf                                     0.05572 . \n",
       "PSE_subt:sigma_subt:slope_pf                                      0.01171 * \n",
       "range_subt:sigma_subt:slope_pf                                    0.03837 * \n",
       "bias_subt:sigma_subt:slope_pf                                     0.02113 * \n",
       "PSE_subt:PSE_pf:slope_pf                                          0.15563   \n",
       "range_subt:PSE_pf:slope_pf                                        0.14050   \n",
       "bias_subt:PSE_pf:slope_pf                                         0.20260   \n",
       "sigma_subt:PSE_pf:slope_pf                                        0.22336   \n",
       "PSE_subt:range_subt:bias_pf                                       0.11689   \n",
       "PSE_subt:bias_subt:bias_pf                                        0.16044   \n",
       "range_subt:bias_subt:bias_pf                                      0.10518   \n",
       "PSE_subt:sigma_subt:bias_pf                                       0.10163   \n",
       "range_subt:sigma_subt:bias_pf                                     0.08003 . \n",
       "bias_subt:sigma_subt:bias_pf                                      0.07627 . \n",
       "PSE_subt:PSE_pf:bias_pf                                           0.02675 * \n",
       "range_subt:PSE_pf:bias_pf                                         0.02636 * \n",
       "bias_subt:PSE_pf:bias_pf                                          0.03389 * \n",
       "sigma_subt:PSE_pf:bias_pf                                         0.03843 * \n",
       "PSE_subt:slope_pf:bias_pf                                         0.03370 * \n",
       "range_subt:slope_pf:bias_pf                                       0.02558 * \n",
       "bias_subt:slope_pf:bias_pf                                        0.02244 * \n",
       "sigma_subt:slope_pf:bias_pf                                       0.00831 **\n",
       "PSE_pf:slope_pf:bias_pf                                           0.05729 . \n",
       "PSE_subt:range_subt:bias_subt:sigma_subt                          0.04603 * \n",
       "PSE_subt:range_subt:bias_subt:PSE_pf                              0.02743 * \n",
       "PSE_subt:range_subt:sigma_subt:PSE_pf                             0.01612 * \n",
       "PSE_subt:bias_subt:sigma_subt:PSE_pf                              0.00988 **\n",
       "range_subt:bias_subt:sigma_subt:PSE_pf                            0.02216 * \n",
       "PSE_subt:range_subt:bias_subt:slope_pf                            0.03453 * \n",
       "PSE_subt:range_subt:sigma_subt:slope_pf                           0.02038 * \n",
       "PSE_subt:bias_subt:sigma_subt:slope_pf                            0.01264 * \n",
       "range_subt:bias_subt:sigma_subt:slope_pf                          0.03410 * \n",
       "PSE_subt:range_subt:PSE_pf:slope_pf                               0.10026   \n",
       "PSE_subt:bias_subt:PSE_pf:slope_pf                                0.17801   \n",
       "range_subt:bias_subt:PSE_pf:slope_pf                              0.15300   \n",
       "PSE_subt:sigma_subt:PSE_pf:slope_pf                               0.15711   \n",
       "range_subt:sigma_subt:PSE_pf:slope_pf                             0.17589   \n",
       "bias_subt:sigma_subt:PSE_pf:slope_pf                              0.19773   \n",
       "PSE_subt:range_subt:bias_subt:bias_pf                             0.09714 . \n",
       "PSE_subt:range_subt:sigma_subt:bias_pf                            0.06713 . \n",
       "PSE_subt:bias_subt:sigma_subt:bias_pf                             0.08230 . \n",
       "range_subt:bias_subt:sigma_subt:bias_pf                           0.05908 . \n",
       "PSE_subt:range_subt:PSE_pf:bias_pf                                0.01755 * \n",
       "PSE_subt:bias_subt:PSE_pf:bias_pf                                 0.02558 * \n",
       "range_subt:bias_subt:PSE_pf:bias_pf                               0.02622 * \n",
       "PSE_subt:sigma_subt:PSE_pf:bias_pf                                0.02729 * \n",
       "range_subt:sigma_subt:PSE_pf:bias_pf                              0.02739 * \n",
       "bias_subt:sigma_subt:PSE_pf:bias_pf                               0.02922 * \n",
       "PSE_subt:range_subt:slope_pf:bias_pf                              0.01755 * \n",
       "PSE_subt:bias_subt:slope_pf:bias_pf                               0.02492 * \n",
       "range_subt:bias_subt:slope_pf:bias_pf                             0.01859 * \n",
       "PSE_subt:sigma_subt:slope_pf:bias_pf                              0.00721 **\n",
       "range_subt:sigma_subt:slope_pf:bias_pf                            0.00904 **\n",
       "bias_subt:sigma_subt:slope_pf:bias_pf                             0.00417 **\n",
       "PSE_subt:PSE_pf:slope_pf:bias_pf                                  0.04382 * \n",
       "range_subt:PSE_pf:slope_pf:bias_pf                                0.04990 * \n",
       "bias_subt:PSE_pf:slope_pf:bias_pf                                 0.06010 . \n",
       "sigma_subt:PSE_pf:slope_pf:bias_pf                                0.05081 . \n",
       "PSE_subt:range_subt:bias_subt:sigma_subt:PSE_pf                   0.01340 * \n",
       "PSE_subt:range_subt:bias_subt:sigma_subt:slope_pf                 0.01930 * \n",
       "PSE_subt:range_subt:bias_subt:PSE_pf:slope_pf                     0.11864   \n",
       "PSE_subt:range_subt:sigma_subt:PSE_pf:slope_pf                    0.11230   \n",
       "PSE_subt:bias_subt:sigma_subt:PSE_pf:slope_pf                     0.14937   \n",
       "range_subt:bias_subt:sigma_subt:PSE_pf:slope_pf                   0.14903   \n",
       "PSE_subt:range_subt:bias_subt:sigma_subt:bias_pf                  0.05442 . \n",
       "PSE_subt:range_subt:bias_subt:PSE_pf:bias_pf                      0.01802 * \n",
       "PSE_subt:range_subt:sigma_subt:PSE_pf:bias_pf                     0.01682 * \n",
       "PSE_subt:bias_subt:sigma_subt:PSE_pf:bias_pf                      0.02118 * \n",
       "range_subt:bias_subt:sigma_subt:PSE_pf:bias_pf                    0.02015 * \n",
       "PSE_subt:range_subt:bias_subt:slope_pf:bias_pf                    0.01336 * \n",
       "PSE_subt:range_subt:sigma_subt:slope_pf:bias_pf                   0.00499 **\n",
       "PSE_subt:bias_subt:sigma_subt:slope_pf:bias_pf                    0.00444 **\n",
       "range_subt:bias_subt:sigma_subt:slope_pf:bias_pf                  0.00470 **\n",
       "PSE_subt:range_subt:PSE_pf:slope_pf:bias_pf                       0.03354 * \n",
       "PSE_subt:bias_subt:PSE_pf:slope_pf:bias_pf                        0.04979 * \n",
       "range_subt:bias_subt:PSE_pf:slope_pf:bias_pf                      0.05053 . \n",
       "PSE_subt:sigma_subt:PSE_pf:slope_pf:bias_pf                       0.03763 * \n",
       "range_subt:sigma_subt:PSE_pf:slope_pf:bias_pf                     0.04260 * \n",
       "bias_subt:sigma_subt:PSE_pf:slope_pf:bias_pf                      0.04504 * \n",
       "PSE_subt:range_subt:bias_subt:sigma_subt:PSE_pf:slope_pf          0.10028   \n",
       "PSE_subt:range_subt:bias_subt:sigma_subt:PSE_pf:bias_pf           0.01243 * \n",
       "PSE_subt:range_subt:bias_subt:sigma_subt:slope_pf:bias_pf         0.00292 **\n",
       "PSE_subt:range_subt:bias_subt:PSE_pf:slope_pf:bias_pf             0.03602 * \n",
       "PSE_subt:range_subt:sigma_subt:PSE_pf:slope_pf:bias_pf            0.02662 * \n",
       "PSE_subt:bias_subt:sigma_subt:PSE_pf:slope_pf:bias_pf             0.03674 * \n",
       "range_subt:bias_subt:sigma_subt:PSE_pf:slope_pf:bias_pf           0.03408 * \n",
       "PSE_subt:range_subt:bias_subt:sigma_subt:PSE_pf:slope_pf:bias_pf  0.02234 * \n",
       "---\n",
       "Signif. codes:  0 ‘***’ 0.001 ‘**’ 0.01 ‘*’ 0.05 ‘.’ 0.1 ‘ ’ 1\n",
       "\n",
       "Residual standard error: 20.16 on 147 degrees of freedom\n",
       "Multiple R-squared:  0.4583,\tAdjusted R-squared:  -0.009644 \n",
       "F-statistic: 0.9794 on 127 and 147 DF,  p-value: 0.5466\n"
      ]
     },
     "metadata": {}
    }
   ],
   "metadata": {}
  },
  {
   "cell_type": "code",
   "execution_count": 49,
   "source": [
    "anova(m1_subt, m4_subt_int, m6_both_int)"
   ],
   "outputs": [
    {
     "output_type": "display_data",
     "data": {
      "text/html": [
       "<table class=\"dataframe\">\n",
       "<caption>A anova: 2 × 6</caption>\n",
       "<thead>\n",
       "\t<tr><th></th><th scope=col>Res.Df</th><th scope=col>RSS</th><th scope=col>Df</th><th scope=col>Sum of Sq</th><th scope=col>F</th><th scope=col>Pr(&gt;F)</th></tr>\n",
       "\t<tr><th></th><th scope=col>&lt;dbl&gt;</th><th scope=col>&lt;dbl&gt;</th><th scope=col>&lt;dbl&gt;</th><th scope=col>&lt;dbl&gt;</th><th scope=col>&lt;dbl&gt;</th><th scope=col>&lt;dbl&gt;</th></tr>\n",
       "</thead>\n",
       "<tbody>\n",
       "\t<tr><th scope=row>1</th><td>270</td><td>108999.0</td><td>NA</td><td>      NA</td><td>      NA</td><td>       NA</td></tr>\n",
       "\t<tr><th scope=row>2</th><td>259</td><td>102960.9</td><td>11</td><td>6038.114</td><td>1.380817</td><td>0.1818352</td></tr>\n",
       "</tbody>\n",
       "</table>\n"
      ],
      "text/latex": [
       "A anova: 2 × 6\n",
       "\\begin{tabular}{r|llllll}\n",
       "  & Res.Df & RSS & Df & Sum of Sq & F & Pr(>F)\\\\\n",
       "  & <dbl> & <dbl> & <dbl> & <dbl> & <dbl> & <dbl>\\\\\n",
       "\\hline\n",
       "\t1 & 270 & 108999.0 & NA &       NA &       NA &        NA\\\\\n",
       "\t2 & 259 & 102960.9 & 11 & 6038.114 & 1.380817 & 0.1818352\\\\\n",
       "\\end{tabular}\n"
      ],
      "text/markdown": [
       "\n",
       "A anova: 2 × 6\n",
       "\n",
       "| <!--/--> | Res.Df &lt;dbl&gt; | RSS &lt;dbl&gt; | Df &lt;dbl&gt; | Sum of Sq &lt;dbl&gt; | F &lt;dbl&gt; | Pr(&gt;F) &lt;dbl&gt; |\n",
       "|---|---|---|---|---|---|---|\n",
       "| 1 | 270 | 108999.0 | NA |       NA |       NA |        NA |\n",
       "| 2 | 259 | 102960.9 | 11 | 6038.114 | 1.380817 | 0.1818352 |\n",
       "\n"
      ],
      "text/plain": [
       "  Res.Df RSS      Df Sum of Sq F        Pr(>F)   \n",
       "1 270    108999.0 NA       NA        NA        NA\n",
       "2 259    102960.9 11 6038.114  1.380817 0.1818352"
      ]
     },
     "metadata": {}
    }
   ],
   "metadata": {}
  },
  {
   "cell_type": "code",
   "execution_count": 50,
   "source": [
    "aic_results <- AIC(m1_subt, m4_subt_int, m6_both_int) # full interaction model is worse\n",
    "aic_results"
   ],
   "outputs": [
    {
     "output_type": "display_data",
     "data": {
      "text/html": [
       "<table class=\"dataframe\">\n",
       "<caption>A data.frame: 3 × 2</caption>\n",
       "<thead>\n",
       "\t<tr><th></th><th scope=col>df</th><th scope=col>AIC</th></tr>\n",
       "\t<tr><th></th><th scope=col>&lt;dbl&gt;</th><th scope=col>&lt;dbl&gt;</th></tr>\n",
       "</thead>\n",
       "<tbody>\n",
       "\t<tr><th scope=row>m1_subt</th><td>  6</td><td>2437.555</td></tr>\n",
       "\t<tr><th scope=row>m4_subt_int</th><td> 17</td><td>2443.883</td></tr>\n",
       "\t<tr><th scope=row>m6_both_int</th><td>129</td><td>2518.341</td></tr>\n",
       "</tbody>\n",
       "</table>\n"
      ],
      "text/latex": [
       "A data.frame: 3 × 2\n",
       "\\begin{tabular}{r|ll}\n",
       "  & df & AIC\\\\\n",
       "  & <dbl> & <dbl>\\\\\n",
       "\\hline\n",
       "\tm1\\_subt &   6 & 2437.555\\\\\n",
       "\tm4\\_subt\\_int &  17 & 2443.883\\\\\n",
       "\tm6\\_both\\_int & 129 & 2518.341\\\\\n",
       "\\end{tabular}\n"
      ],
      "text/markdown": [
       "\n",
       "A data.frame: 3 × 2\n",
       "\n",
       "| <!--/--> | df &lt;dbl&gt; | AIC &lt;dbl&gt; |\n",
       "|---|---|---|\n",
       "| m1_subt |   6 | 2437.555 |\n",
       "| m4_subt_int |  17 | 2443.883 |\n",
       "| m6_both_int | 129 | 2518.341 |\n",
       "\n"
      ],
      "text/plain": [
       "            df  AIC     \n",
       "m1_subt       6 2437.555\n",
       "m4_subt_int  17 2443.883\n",
       "m6_both_int 129 2518.341"
      ]
     },
     "metadata": {}
    }
   ],
   "metadata": {}
  },
  {
   "cell_type": "code",
   "execution_count": 54,
   "source": [
    "formula <- as.formula(paste(trait,\" ~ PSE_subt * range_subt * bias_subt * sigma_subt + PSE_pf * slope_pf * bias_pf\"))\n",
    "m6_both_int_reduced <- lm(formula, data = data)\n",
    "summary(m6_both_int_reduced) # quite a few interactions survive!"
   ],
   "outputs": [
    {
     "output_type": "display_data",
     "data": {
      "text/plain": [
       "\n",
       "Call:\n",
       "lm(formula = formula, data = data)\n",
       "\n",
       "Residuals:\n",
       "    Min      1Q  Median      3Q     Max \n",
       "-46.270 -14.276   0.118  12.304  51.741 \n",
       "\n",
       "Coefficients:\n",
       "                                         Estimate Std. Error t value Pr(>|t|)\n",
       "(Intercept)                                216.35     154.82   1.397    0.164\n",
       "PSE_subt                                  -380.11     296.41  -1.282    0.201\n",
       "range_subt                                -180.79     284.94  -0.634    0.526\n",
       "bias_subt                                 -215.85     177.29  -1.218    0.225\n",
       "sigma_subt                               -1217.25    1161.29  -1.048    0.296\n",
       "PSE_pf                                     -28.18      56.75  -0.497    0.620\n",
       "slope_pf                                   -20.39      66.03  -0.309    0.758\n",
       "bias_pf                                    -52.71      40.03  -1.317    0.189\n",
       "PSE_subt:range_subt                        349.13     575.97   0.606    0.545\n",
       "PSE_subt:bias_subt                         480.93     368.62   1.305    0.193\n",
       "range_subt:bias_subt                       212.62     333.87   0.637    0.525\n",
       "PSE_subt:sigma_subt                        873.55    1858.84   0.470    0.639\n",
       "range_subt:sigma_subt                     1279.08    2459.53   0.520    0.603\n",
       "bias_subt:sigma_subt                      1407.63    1405.34   1.002    0.317\n",
       "PSE_pf:slope_pf                            -23.19     154.88  -0.150    0.881\n",
       "PSE_pf:bias_pf                             -24.10     106.87  -0.226    0.822\n",
       "slope_pf:bias_pf                            40.02      70.92   0.564    0.573\n",
       "PSE_subt:range_subt:bias_subt             -390.79     691.19  -0.565    0.572\n",
       "PSE_subt:range_subt:sigma_subt             329.76    4650.16   0.071    0.944\n",
       "PSE_subt:bias_subt:sigma_subt             -289.27    2590.64  -0.112    0.911\n",
       "range_subt:bias_subt:sigma_subt          -1249.62    2920.58  -0.428    0.669\n",
       "PSE_pf:slope_pf:bias_pf                     36.60     199.12   0.184    0.854\n",
       "PSE_subt:range_subt:bias_subt:sigma_subt -1944.30    5765.29  -0.337    0.736\n",
       "\n",
       "Residual standard error: 19.98 on 252 degrees of freedom\n",
       "Multiple R-squared:  0.08818,\tAdjusted R-squared:  0.00858 \n",
       "F-statistic: 1.108 on 22 and 252 DF,  p-value: 0.3382\n"
      ]
     },
     "metadata": {}
    }
   ],
   "metadata": {}
  },
  {
   "cell_type": "code",
   "execution_count": null,
   "source": [
    "formula <- as.formula(paste(trait,\" ~ PSE_subt * range_subt * bias_subt * sigma_subt + PSE_pf * slope_pf * bias_pf\"))\n",
    "m6_both_int_reduced2 <- lm(formula, data = data)\n",
    "summary(m6_both_int_reduced2) # quite a few interactions survive!"
   ],
   "outputs": [],
   "metadata": {}
  },
  {
   "cell_type": "code",
   "execution_count": 55,
   "source": [
    "anova(m6_both_int_reduced, m6_both_int)"
   ],
   "outputs": [
    {
     "output_type": "display_data",
     "data": {
      "text/html": [
       "<table class=\"dataframe\">\n",
       "<caption>A anova: 2 × 6</caption>\n",
       "<thead>\n",
       "\t<tr><th></th><th scope=col>Res.Df</th><th scope=col>RSS</th><th scope=col>Df</th><th scope=col>Sum of Sq</th><th scope=col>F</th><th scope=col>Pr(&gt;F)</th></tr>\n",
       "\t<tr><th></th><th scope=col>&lt;dbl&gt;</th><th scope=col>&lt;dbl&gt;</th><th scope=col>&lt;dbl&gt;</th><th scope=col>&lt;dbl&gt;</th><th scope=col>&lt;dbl&gt;</th><th scope=col>&lt;dbl&gt;</th></tr>\n",
       "</thead>\n",
       "<tbody>\n",
       "\t<tr><th scope=row>1</th><td>252</td><td>100619.20</td><td> NA</td><td>      NA</td><td>       NA</td><td>       NA</td></tr>\n",
       "\t<tr><th scope=row>2</th><td>147</td><td> 59773.42</td><td>105</td><td>40845.77</td><td>0.9566807</td><td>0.5925941</td></tr>\n",
       "</tbody>\n",
       "</table>\n"
      ],
      "text/latex": [
       "A anova: 2 × 6\n",
       "\\begin{tabular}{r|llllll}\n",
       "  & Res.Df & RSS & Df & Sum of Sq & F & Pr(>F)\\\\\n",
       "  & <dbl> & <dbl> & <dbl> & <dbl> & <dbl> & <dbl>\\\\\n",
       "\\hline\n",
       "\t1 & 252 & 100619.20 &  NA &       NA &        NA &        NA\\\\\n",
       "\t2 & 147 &  59773.42 & 105 & 40845.77 & 0.9566807 & 0.5925941\\\\\n",
       "\\end{tabular}\n"
      ],
      "text/markdown": [
       "\n",
       "A anova: 2 × 6\n",
       "\n",
       "| <!--/--> | Res.Df &lt;dbl&gt; | RSS &lt;dbl&gt; | Df &lt;dbl&gt; | Sum of Sq &lt;dbl&gt; | F &lt;dbl&gt; | Pr(&gt;F) &lt;dbl&gt; |\n",
       "|---|---|---|---|---|---|---|\n",
       "| 1 | 252 | 100619.20 |  NA |       NA |        NA |        NA |\n",
       "| 2 | 147 |  59773.42 | 105 | 40845.77 | 0.9566807 | 0.5925941 |\n",
       "\n"
      ],
      "text/plain": [
       "  Res.Df RSS       Df  Sum of Sq F         Pr(>F)   \n",
       "1 252    100619.20  NA       NA         NA        NA\n",
       "2 147     59773.42 105 40845.77  0.9566807 0.5925941"
      ]
     },
     "metadata": {}
    }
   ],
   "metadata": {}
  },
  {
   "cell_type": "code",
   "execution_count": null,
   "source": [],
   "outputs": [],
   "metadata": {}
  }
 ],
 "metadata": {
  "interpreter": {
   "hash": "fd4f9b4a611f13030669d34296d320a89181368ed7f3667f4142a08b4c2c4fbe"
  },
  "kernelspec": {
   "name": "python3124jvsc74a57bd04a074528bc854e8a1fdc819f4bc249979b3b196bce4de5afb134a947ed71fa2f",
   "display_name": "R",
   "language": "R"
  },
  "language_info": {
   "name": "R",
   "codemirror_mode": "r",
   "pygments_lexer": "r",
   "mimetype": "text/x-r-source",
   "file_extension": ".r",
   "version": "4.3.3"
  }
 },
 "nbformat": 4,
 "nbformat_minor": 4
}
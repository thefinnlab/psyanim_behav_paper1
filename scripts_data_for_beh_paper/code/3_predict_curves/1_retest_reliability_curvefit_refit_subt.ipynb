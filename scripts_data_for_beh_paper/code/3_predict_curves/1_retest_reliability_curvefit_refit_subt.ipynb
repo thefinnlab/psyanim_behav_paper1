{
 "cells": [
  {
   "cell_type": "markdown",
   "source": [
    "# This notebook is used to plot curvefit for the subtlety data (april sess 1 and 2)"
   ],
   "metadata": {}
  },
  {
   "cell_type": "code",
   "execution_count": 332,
   "source": [
    "import numpy as np\n",
    "import pandas as pd\n",
    "import matplotlib.pyplot as plt\n",
    "import warnings\n",
    "from scipy.stats import ttest_rel,wilcoxon\n",
    "import os"
   ],
   "outputs": [],
   "metadata": {}
  },
  {
   "cell_type": "code",
   "execution_count": 6,
   "source": [
    "path_to_add = os.path.abspath('../')\n",
    "path_to_add"
   ],
   "outputs": [
    {
     "output_type": "execute_result",
     "data": {
      "text/plain": [
       "'/Users/f0053cz/Dartmouth College Dropbox/Rekha Sreekumar Varrier/postdoc_Dartmouth/psyanim_behav_paper/version2/scripts_data_for_beh_paper/code'"
      ]
     },
     "metadata": {},
     "execution_count": 6
    }
   ],
   "metadata": {}
  },
  {
   "cell_type": "code",
   "execution_count": 7,
   "source": [
    "sys.path.append(path_to_add)\n",
    "from func_curvefit import *\n",
    "import seaborn as sns"
   ],
   "outputs": [],
   "metadata": {}
  },
  {
   "cell_type": "code",
   "execution_count": 10,
   "source": [
    "root_data_file = '../../data/subtlety_data'"
   ],
   "outputs": [],
   "metadata": {}
  },
  {
   "cell_type": "code",
   "execution_count": 15,
   "source": [
    "## import dataframes (curvefit)\n",
    "df_params_test = pd.read_csv(f'{root_data_file}/curve_fit_subt_ses1/all_params_1k_subt.csv')\n",
    "df_params_retest = pd.read_csv(f'{root_data_file}/curve_fit_subt_ses2/all_params_1k_subt.csv')\n",
    "df_params_test.shape, df_params_retest.shape"
   ],
   "outputs": [
    {
     "output_type": "execute_result",
     "data": {
      "text/plain": [
       "((312, 12), (228, 12))"
      ]
     },
     "metadata": {},
     "execution_count": 15
    }
   ],
   "metadata": {}
  },
  {
   "cell_type": "code",
   "execution_count": 16,
   "source": [
    "## import raw dataframes (rating)\n",
    "df_data_test = pd.read_csv(f'{root_data_file}/all_apr_ses1.csv')\n",
    "df_data_retest = pd.read_csv(f'{root_data_file}/all_apr_ses2.csv')"
   ],
   "outputs": [],
   "metadata": {}
  },
  {
   "cell_type": "code",
   "execution_count": 17,
   "source": [
    "## merging the two curvefit params dataframe\n",
    "df_params_merge = df_params_test.merge(df_params_retest, on = 'subID', suffixes = ('_ses1', '_ses2'))\n",
    "df_params_merge"
   ],
   "outputs": [
    {
     "output_type": "execute_result",
     "data": {
      "text/html": [
       "<div>\n",
       "<style scoped>\n",
       "    .dataframe tbody tr th:only-of-type {\n",
       "        vertical-align: middle;\n",
       "    }\n",
       "\n",
       "    .dataframe tbody tr th {\n",
       "        vertical-align: top;\n",
       "    }\n",
       "\n",
       "    .dataframe thead th {\n",
       "        text-align: right;\n",
       "    }\n",
       "</style>\n",
       "<table border=\"1\" class=\"dataframe\">\n",
       "  <thead>\n",
       "    <tr style=\"text-align: right;\">\n",
       "      <th></th>\n",
       "      <th>subID</th>\n",
       "      <th>r_squared_ses1</th>\n",
       "      <th>nrmse_ses1</th>\n",
       "      <th>aic_ses1</th>\n",
       "      <th>center_ses1</th>\n",
       "      <th>obj_center_ses1</th>\n",
       "      <th>sigma_ses1</th>\n",
       "      <th>bias_xmin_ses1</th>\n",
       "      <th>bias_xmax_ses1</th>\n",
       "      <th>bias_lower_ses1</th>\n",
       "      <th>...</th>\n",
       "      <th>nrmse_ses2</th>\n",
       "      <th>aic_ses2</th>\n",
       "      <th>center_ses2</th>\n",
       "      <th>obj_center_ses2</th>\n",
       "      <th>sigma_ses2</th>\n",
       "      <th>bias_xmin_ses2</th>\n",
       "      <th>bias_xmax_ses2</th>\n",
       "      <th>bias_lower_ses2</th>\n",
       "      <th>bias_upper_ses2</th>\n",
       "      <th>flipped_ses2</th>\n",
       "    </tr>\n",
       "  </thead>\n",
       "  <tbody>\n",
       "    <tr>\n",
       "      <th>0</th>\n",
       "      <td>2.0</td>\n",
       "      <td>0.994396</td>\n",
       "      <td>0.030065</td>\n",
       "      <td>-45.061484</td>\n",
       "      <td>0.395356</td>\n",
       "      <td>0.379090</td>\n",
       "      <td>0.106477</td>\n",
       "      <td>0.092967</td>\n",
       "      <td>0.003165</td>\n",
       "      <td>0.070833</td>\n",
       "      <td>...</td>\n",
       "      <td>0.053215</td>\n",
       "      <td>-37.067887</td>\n",
       "      <td>0.437272</td>\n",
       "      <td>0.379686</td>\n",
       "      <td>0.132783</td>\n",
       "      <td>0.226559</td>\n",
       "      <td>0.046721</td>\n",
       "      <td>0.199167</td>\n",
       "      <td>0.035833</td>\n",
       "      <td>False</td>\n",
       "    </tr>\n",
       "    <tr>\n",
       "      <th>1</th>\n",
       "      <td>4.0</td>\n",
       "      <td>0.990862</td>\n",
       "      <td>0.036692</td>\n",
       "      <td>-42.272749</td>\n",
       "      <td>0.353184</td>\n",
       "      <td>0.288929</td>\n",
       "      <td>0.114098</td>\n",
       "      <td>0.322398</td>\n",
       "      <td>0.147745</td>\n",
       "      <td>0.298333</td>\n",
       "      <td>...</td>\n",
       "      <td>0.049461</td>\n",
       "      <td>-38.092011</td>\n",
       "      <td>0.493091</td>\n",
       "      <td>0.375676</td>\n",
       "      <td>0.138347</td>\n",
       "      <td>0.373690</td>\n",
       "      <td>0.186597</td>\n",
       "      <td>0.360909</td>\n",
       "      <td>0.175000</td>\n",
       "      <td>False</td>\n",
       "    </tr>\n",
       "    <tr>\n",
       "      <th>2</th>\n",
       "      <td>5.0</td>\n",
       "      <td>0.976299</td>\n",
       "      <td>0.064073</td>\n",
       "      <td>-34.468260</td>\n",
       "      <td>0.537650</td>\n",
       "      <td>0.506901</td>\n",
       "      <td>0.093353</td>\n",
       "      <td>0.165036</td>\n",
       "      <td>0.036492</td>\n",
       "      <td>0.162500</td>\n",
       "      <td>...</td>\n",
       "      <td>0.006915</td>\n",
       "      <td>-65.636911</td>\n",
       "      <td>0.492211</td>\n",
       "      <td>0.385977</td>\n",
       "      <td>0.093328</td>\n",
       "      <td>0.385784</td>\n",
       "      <td>0.137909</td>\n",
       "      <td>0.383333</td>\n",
       "      <td>0.135833</td>\n",
       "      <td>False</td>\n",
       "    </tr>\n",
       "    <tr>\n",
       "      <th>3</th>\n",
       "      <td>6.0</td>\n",
       "      <td>0.969141</td>\n",
       "      <td>0.061998</td>\n",
       "      <td>-34.929123</td>\n",
       "      <td>0.252783</td>\n",
       "      <td>0.187152</td>\n",
       "      <td>0.121123</td>\n",
       "      <td>0.296448</td>\n",
       "      <td>0.001652</td>\n",
       "      <td>0.209167</td>\n",
       "      <td>...</td>\n",
       "      <td>0.041230</td>\n",
       "      <td>-40.640351</td>\n",
       "      <td>0.475595</td>\n",
       "      <td>0.326023</td>\n",
       "      <td>0.130284</td>\n",
       "      <td>0.426422</td>\n",
       "      <td>0.246824</td>\n",
       "      <td>0.417778</td>\n",
       "      <td>0.240833</td>\n",
       "      <td>False</td>\n",
       "    </tr>\n",
       "    <tr>\n",
       "      <th>4</th>\n",
       "      <td>7.0</td>\n",
       "      <td>0.994388</td>\n",
       "      <td>0.030773</td>\n",
       "      <td>-44.735717</td>\n",
       "      <td>0.448519</td>\n",
       "      <td>0.419016</td>\n",
       "      <td>0.087977</td>\n",
       "      <td>0.188766</td>\n",
       "      <td>0.059766</td>\n",
       "      <td>0.184167</td>\n",
       "      <td>...</td>\n",
       "      <td>0.056519</td>\n",
       "      <td>-36.224397</td>\n",
       "      <td>0.492990</td>\n",
       "      <td>0.433843</td>\n",
       "      <td>0.083456</td>\n",
       "      <td>0.289247</td>\n",
       "      <td>0.069811</td>\n",
       "      <td>0.287500</td>\n",
       "      <td>0.068333</td>\n",
       "      <td>False</td>\n",
       "    </tr>\n",
       "    <tr>\n",
       "      <th>...</th>\n",
       "      <td>...</td>\n",
       "      <td>...</td>\n",
       "      <td>...</td>\n",
       "      <td>...</td>\n",
       "      <td>...</td>\n",
       "      <td>...</td>\n",
       "      <td>...</td>\n",
       "      <td>...</td>\n",
       "      <td>...</td>\n",
       "      <td>...</td>\n",
       "      <td>...</td>\n",
       "      <td>...</td>\n",
       "      <td>...</td>\n",
       "      <td>...</td>\n",
       "      <td>...</td>\n",
       "      <td>...</td>\n",
       "      <td>...</td>\n",
       "      <td>...</td>\n",
       "      <td>...</td>\n",
       "      <td>...</td>\n",
       "      <td>...</td>\n",
       "    </tr>\n",
       "    <tr>\n",
       "      <th>223</th>\n",
       "      <td>338.0</td>\n",
       "      <td>0.991969</td>\n",
       "      <td>0.039323</td>\n",
       "      <td>-41.303178</td>\n",
       "      <td>0.400063</td>\n",
       "      <td>0.382530</td>\n",
       "      <td>0.063703</td>\n",
       "      <td>0.248594</td>\n",
       "      <td>0.167548</td>\n",
       "      <td>0.247500</td>\n",
       "      <td>...</td>\n",
       "      <td>0.042582</td>\n",
       "      <td>-40.188473</td>\n",
       "      <td>0.434195</td>\n",
       "      <td>0.440575</td>\n",
       "      <td>0.101662</td>\n",
       "      <td>0.166650</td>\n",
       "      <td>0.180866</td>\n",
       "      <td>0.157500</td>\n",
       "      <td>0.178333</td>\n",
       "      <td>False</td>\n",
       "    </tr>\n",
       "    <tr>\n",
       "      <th>224</th>\n",
       "      <td>340.0</td>\n",
       "      <td>0.995635</td>\n",
       "      <td>0.028163</td>\n",
       "      <td>-45.976544</td>\n",
       "      <td>0.466990</td>\n",
       "      <td>0.443179</td>\n",
       "      <td>0.085198</td>\n",
       "      <td>0.217295</td>\n",
       "      <td>0.123770</td>\n",
       "      <td>0.214545</td>\n",
       "      <td>...</td>\n",
       "      <td>0.035600</td>\n",
       "      <td>-42.695711</td>\n",
       "      <td>0.411307</td>\n",
       "      <td>0.389330</td>\n",
       "      <td>0.088312</td>\n",
       "      <td>0.168112</td>\n",
       "      <td>0.065985</td>\n",
       "      <td>0.160833</td>\n",
       "      <td>0.065000</td>\n",
       "      <td>False</td>\n",
       "    </tr>\n",
       "    <tr>\n",
       "      <th>225</th>\n",
       "      <td>342.0</td>\n",
       "      <td>0.975376</td>\n",
       "      <td>0.053088</td>\n",
       "      <td>-37.101135</td>\n",
       "      <td>0.482088</td>\n",
       "      <td>0.387694</td>\n",
       "      <td>0.188805</td>\n",
       "      <td>0.375315</td>\n",
       "      <td>0.270528</td>\n",
       "      <td>0.345833</td>\n",
       "      <td>...</td>\n",
       "      <td>0.072888</td>\n",
       "      <td>-32.663609</td>\n",
       "      <td>0.538108</td>\n",
       "      <td>0.344159</td>\n",
       "      <td>0.217861</td>\n",
       "      <td>0.414595</td>\n",
       "      <td>0.258785</td>\n",
       "      <td>0.383333</td>\n",
       "      <td>0.215833</td>\n",
       "      <td>False</td>\n",
       "    </tr>\n",
       "    <tr>\n",
       "      <th>226</th>\n",
       "      <td>343.0</td>\n",
       "      <td>0.989817</td>\n",
       "      <td>0.043360</td>\n",
       "      <td>-39.935129</td>\n",
       "      <td>0.456643</td>\n",
       "      <td>0.389452</td>\n",
       "      <td>0.102018</td>\n",
       "      <td>0.271140</td>\n",
       "      <td>0.046086</td>\n",
       "      <td>0.263333</td>\n",
       "      <td>...</td>\n",
       "      <td>0.021021</td>\n",
       "      <td>-50.071118</td>\n",
       "      <td>0.377460</td>\n",
       "      <td>0.377460</td>\n",
       "      <td>0.054893</td>\n",
       "      <td>0.001031</td>\n",
       "      <td>0.000012</td>\n",
       "      <td>0.000000</td>\n",
       "      <td>0.000000</td>\n",
       "      <td>False</td>\n",
       "    </tr>\n",
       "    <tr>\n",
       "      <th>227</th>\n",
       "      <td>344.0</td>\n",
       "      <td>0.993456</td>\n",
       "      <td>0.030620</td>\n",
       "      <td>-44.805254</td>\n",
       "      <td>0.420967</td>\n",
       "      <td>0.411203</td>\n",
       "      <td>0.123059</td>\n",
       "      <td>0.075769</td>\n",
       "      <td>0.016814</td>\n",
       "      <td>0.045833</td>\n",
       "      <td>...</td>\n",
       "      <td>0.033605</td>\n",
       "      <td>-43.503280</td>\n",
       "      <td>0.442641</td>\n",
       "      <td>0.391301</td>\n",
       "      <td>0.089461</td>\n",
       "      <td>0.223843</td>\n",
       "      <td>0.001536</td>\n",
       "      <td>0.218333</td>\n",
       "      <td>0.000000</td>\n",
       "      <td>False</td>\n",
       "    </tr>\n",
       "  </tbody>\n",
       "</table>\n",
       "<p>228 rows × 23 columns</p>\n",
       "</div>"
      ],
      "text/plain": [
       "     subID  r_squared_ses1  nrmse_ses1   aic_ses1  center_ses1  \\\n",
       "0      2.0        0.994396    0.030065 -45.061484     0.395356   \n",
       "1      4.0        0.990862    0.036692 -42.272749     0.353184   \n",
       "2      5.0        0.976299    0.064073 -34.468260     0.537650   \n",
       "3      6.0        0.969141    0.061998 -34.929123     0.252783   \n",
       "4      7.0        0.994388    0.030773 -44.735717     0.448519   \n",
       "..     ...             ...         ...        ...          ...   \n",
       "223  338.0        0.991969    0.039323 -41.303178     0.400063   \n",
       "224  340.0        0.995635    0.028163 -45.976544     0.466990   \n",
       "225  342.0        0.975376    0.053088 -37.101135     0.482088   \n",
       "226  343.0        0.989817    0.043360 -39.935129     0.456643   \n",
       "227  344.0        0.993456    0.030620 -44.805254     0.420967   \n",
       "\n",
       "     obj_center_ses1  sigma_ses1  bias_xmin_ses1  bias_xmax_ses1  \\\n",
       "0           0.379090    0.106477        0.092967        0.003165   \n",
       "1           0.288929    0.114098        0.322398        0.147745   \n",
       "2           0.506901    0.093353        0.165036        0.036492   \n",
       "3           0.187152    0.121123        0.296448        0.001652   \n",
       "4           0.419016    0.087977        0.188766        0.059766   \n",
       "..               ...         ...             ...             ...   \n",
       "223         0.382530    0.063703        0.248594        0.167548   \n",
       "224         0.443179    0.085198        0.217295        0.123770   \n",
       "225         0.387694    0.188805        0.375315        0.270528   \n",
       "226         0.389452    0.102018        0.271140        0.046086   \n",
       "227         0.411203    0.123059        0.075769        0.016814   \n",
       "\n",
       "     bias_lower_ses1  ...  nrmse_ses2   aic_ses2  center_ses2  \\\n",
       "0           0.070833  ...    0.053215 -37.067887     0.437272   \n",
       "1           0.298333  ...    0.049461 -38.092011     0.493091   \n",
       "2           0.162500  ...    0.006915 -65.636911     0.492211   \n",
       "3           0.209167  ...    0.041230 -40.640351     0.475595   \n",
       "4           0.184167  ...    0.056519 -36.224397     0.492990   \n",
       "..               ...  ...         ...        ...          ...   \n",
       "223         0.247500  ...    0.042582 -40.188473     0.434195   \n",
       "224         0.214545  ...    0.035600 -42.695711     0.411307   \n",
       "225         0.345833  ...    0.072888 -32.663609     0.538108   \n",
       "226         0.263333  ...    0.021021 -50.071118     0.377460   \n",
       "227         0.045833  ...    0.033605 -43.503280     0.442641   \n",
       "\n",
       "     obj_center_ses2  sigma_ses2  bias_xmin_ses2  bias_xmax_ses2  \\\n",
       "0           0.379686    0.132783        0.226559        0.046721   \n",
       "1           0.375676    0.138347        0.373690        0.186597   \n",
       "2           0.385977    0.093328        0.385784        0.137909   \n",
       "3           0.326023    0.130284        0.426422        0.246824   \n",
       "4           0.433843    0.083456        0.289247        0.069811   \n",
       "..               ...         ...             ...             ...   \n",
       "223         0.440575    0.101662        0.166650        0.180866   \n",
       "224         0.389330    0.088312        0.168112        0.065985   \n",
       "225         0.344159    0.217861        0.414595        0.258785   \n",
       "226         0.377460    0.054893        0.001031        0.000012   \n",
       "227         0.391301    0.089461        0.223843        0.001536   \n",
       "\n",
       "     bias_lower_ses2  bias_upper_ses2  flipped_ses2  \n",
       "0           0.199167         0.035833         False  \n",
       "1           0.360909         0.175000         False  \n",
       "2           0.383333         0.135833         False  \n",
       "3           0.417778         0.240833         False  \n",
       "4           0.287500         0.068333         False  \n",
       "..               ...              ...           ...  \n",
       "223         0.157500         0.178333         False  \n",
       "224         0.160833         0.065000         False  \n",
       "225         0.383333         0.215833         False  \n",
       "226         0.000000         0.000000         False  \n",
       "227         0.218333         0.000000         False  \n",
       "\n",
       "[228 rows x 23 columns]"
      ]
     },
     "metadata": {},
     "execution_count": 17
    }
   ],
   "metadata": {}
  },
  {
   "cell_type": "markdown",
   "source": [
    "## Plotting all results: curves & ratings from ses 1 and ses 2"
   ],
   "metadata": {}
  },
  {
   "cell_type": "code",
   "execution_count": 28,
   "source": [
    "rootfile_results = '../../results/subtlety/refit_across_sessions'"
   ],
   "outputs": [],
   "metadata": {}
  },
  {
   "cell_type": "code",
   "execution_count": 29,
   "source": [
    "# filter behavioral scores\n",
    "df_data_ses1 = df_data_test.loc[:, df_data_test.columns != 'stim_file']\n",
    "df_data_ses2 = df_data_retest.loc[:, df_data_retest.columns != 'stim_file']\n",
    "\n",
    "## preprocess the dataframe\n",
    "df_data_ses1 = df_data_test.loc[:, df_data_test.columns != 'stim_file']\n",
    "df_data_ses1 = df_data_ses1.drop(['condition'], axis=1)\n",
    "df_data_ses1 = df_data_ses1.groupby(['subID','subtlety']).mean().reset_index()\n",
    "\n",
    "df_data_ses2 = df_data_retest.loc[:, df_data_retest.columns != 'stim_file']\n",
    "df_data_ses2 = df_data_ses2.drop(['condition'], axis=1)\n",
    "df_data_ses2 = df_data_ses2.groupby(['subID','subtlety']).mean().reset_index()"
   ],
   "outputs": [],
   "metadata": {}
  },
  {
   "cell_type": "code",
   "execution_count": 30,
   "source": [
    "## merging the two rating df \n",
    "df_rating_merge = df_data_ses1.merge(df_data_ses2, on=['subID', 'subtlety'], suffixes = ('_ses1', '_ses2'))\n",
    "df_rating_merge.head()"
   ],
   "outputs": [
    {
     "output_type": "execute_result",
     "data": {
      "text/html": [
       "<div>\n",
       "<style scoped>\n",
       "    .dataframe tbody tr th:only-of-type {\n",
       "        vertical-align: middle;\n",
       "    }\n",
       "\n",
       "    .dataframe tbody tr th {\n",
       "        vertical-align: top;\n",
       "    }\n",
       "\n",
       "    .dataframe thead th {\n",
       "        text-align: right;\n",
       "    }\n",
       "</style>\n",
       "<table border=\"1\" class=\"dataframe\">\n",
       "  <thead>\n",
       "    <tr style=\"text-align: right;\">\n",
       "      <th></th>\n",
       "      <th>subID</th>\n",
       "      <th>subtlety</th>\n",
       "      <th>slider_ses1</th>\n",
       "      <th>RT_ses1</th>\n",
       "      <th>accuracy_ses1</th>\n",
       "      <th>trial_ind_ses1</th>\n",
       "      <th>slider_ses2</th>\n",
       "      <th>RT_ses2</th>\n",
       "      <th>accuracy_ses2</th>\n",
       "      <th>trial_ind_ses2</th>\n",
       "    </tr>\n",
       "  </thead>\n",
       "  <tbody>\n",
       "    <tr>\n",
       "      <th>0</th>\n",
       "      <td>2</td>\n",
       "      <td>0</td>\n",
       "      <td>100.000000</td>\n",
       "      <td>2.906250</td>\n",
       "      <td>1.000000</td>\n",
       "      <td>42.833333</td>\n",
       "      <td>96.416667</td>\n",
       "      <td>2.580917</td>\n",
       "      <td>1.0</td>\n",
       "      <td>37.416667</td>\n",
       "    </tr>\n",
       "    <tr>\n",
       "      <th>1</th>\n",
       "      <td>2</td>\n",
       "      <td>30</td>\n",
       "      <td>98.666667</td>\n",
       "      <td>3.372250</td>\n",
       "      <td>1.000000</td>\n",
       "      <td>49.166667</td>\n",
       "      <td>90.250000</td>\n",
       "      <td>2.551667</td>\n",
       "      <td>1.0</td>\n",
       "      <td>44.750000</td>\n",
       "    </tr>\n",
       "    <tr>\n",
       "      <th>2</th>\n",
       "      <td>2</td>\n",
       "      <td>60</td>\n",
       "      <td>96.333333</td>\n",
       "      <td>3.131917</td>\n",
       "      <td>1.000000</td>\n",
       "      <td>44.416667</td>\n",
       "      <td>82.250000</td>\n",
       "      <td>2.498750</td>\n",
       "      <td>1.0</td>\n",
       "      <td>48.083333</td>\n",
       "    </tr>\n",
       "    <tr>\n",
       "      <th>3</th>\n",
       "      <td>2</td>\n",
       "      <td>90</td>\n",
       "      <td>70.666667</td>\n",
       "      <td>2.610833</td>\n",
       "      <td>1.000000</td>\n",
       "      <td>49.583333</td>\n",
       "      <td>67.000000</td>\n",
       "      <td>2.430500</td>\n",
       "      <td>1.0</td>\n",
       "      <td>37.083333</td>\n",
       "    </tr>\n",
       "    <tr>\n",
       "      <th>4</th>\n",
       "      <td>2</td>\n",
       "      <td>120</td>\n",
       "      <td>44.333333</td>\n",
       "      <td>3.442833</td>\n",
       "      <td>0.916667</td>\n",
       "      <td>27.666667</td>\n",
       "      <td>50.000000</td>\n",
       "      <td>2.943750</td>\n",
       "      <td>1.0</td>\n",
       "      <td>40.250000</td>\n",
       "    </tr>\n",
       "  </tbody>\n",
       "</table>\n",
       "</div>"
      ],
      "text/plain": [
       "   subID  subtlety  slider_ses1   RT_ses1  accuracy_ses1  trial_ind_ses1  \\\n",
       "0      2         0   100.000000  2.906250       1.000000       42.833333   \n",
       "1      2        30    98.666667  3.372250       1.000000       49.166667   \n",
       "2      2        60    96.333333  3.131917       1.000000       44.416667   \n",
       "3      2        90    70.666667  2.610833       1.000000       49.583333   \n",
       "4      2       120    44.333333  3.442833       0.916667       27.666667   \n",
       "\n",
       "   slider_ses2   RT_ses2  accuracy_ses2  trial_ind_ses2  \n",
       "0    96.416667  2.580917            1.0       37.416667  \n",
       "1    90.250000  2.551667            1.0       44.750000  \n",
       "2    82.250000  2.498750            1.0       48.083333  \n",
       "3    67.000000  2.430500            1.0       37.083333  \n",
       "4    50.000000  2.943750            1.0       40.250000  "
      ]
     },
     "metadata": {},
     "execution_count": 30
    }
   ],
   "metadata": {}
  },
  {
   "cell_type": "code",
   "execution_count": 31,
   "source": [
    "# plot the behavioral & curvefit datas\n",
    "## fit the data\n",
    "## calculate r_squared when fitting from ses 1 to ses 2\n",
    "# RV Q - looks like ses1 to ses1 and ses2 to ses2.. !!\n",
    "nrow, ncol = 35, 10\n",
    "fig, axes = plt.subplots(nrows=nrow, ncols=ncol, figsize=(20, 70))\n",
    "axes = axes.flatten()\n",
    "handles, labels = None, None\n",
    "for isub in range(350):\n",
    "    ax = axes[isub]\n",
    "    ax.set_xlim(-0.05, 1.05)\n",
    "    ax.set_ylim(-0.05, 1.05)\n",
    "    \n",
    "    try:\n",
    "        xfit = (180 - df_rating_merge.loc[df_rating_merge['subID'] == (isub+1), 'subtlety'].values) / 180\n",
    "\n",
    "        yfit_ses1 = df_rating_merge.loc[df_rating_merge['subID'] == (isub+1), 'slider_ses1'].values / 100\n",
    "        yfit_ses2 = df_rating_merge.loc[df_rating_merge['subID'] == (isub+1), 'slider_ses2'].values / 100\n",
    "\n",
    "        x = np.array(xfit)\n",
    "\n",
    "        y1 = np.array(yfit_ses1)\n",
    "        y2 = np.array(yfit_ses2)\n",
    "        \n",
    "        # Plot behavioral dots\n",
    "        ax.plot(x, y1, '.', alpha=0.5, color='blue', label='Session 1')\n",
    "        ax.plot(x, y2, '.', alpha=0.5, color='orange', label='Session 2')\n",
    "\n",
    "        ### curves \n",
    "        intercept_ses1 = df_params_merge.loc[df_params_merge['subID'] == (isub + 1), 'bias_xmin_ses1'].values\n",
    "        center_ses1 = df_params_merge.loc[df_params_merge['subID'] == (isub + 1), 'center_ses1'].values\n",
    "        sigma_ses1 = df_params_merge.loc[df_params_merge['subID'] == (isub + 1), 'sigma_ses1'].values\n",
    "        bias_upper_ses1 = df_params_merge.loc[df_params_merge['subID'] == (isub + 1), 'bias_xmax_ses1'].values\n",
    "        amplitude_ses1 = 1 - intercept_ses1 - bias_upper_ses1\n",
    "\n",
    "        intercept_ses2 = df_params_merge.loc[df_params_merge['subID'] == (isub + 1), 'bias_xmin_ses2'].values\n",
    "        center_ses2 = df_params_merge.loc[df_params_merge['subID'] == (isub + 1), 'center_ses2'].values\n",
    "        sigma_ses2 = df_params_merge.loc[df_params_merge['subID'] == (isub + 1), 'sigma_ses2'].values\n",
    "        bias_upper_ses2 = df_params_merge.loc[df_params_merge['subID'] == (isub + 1), 'bias_xmax_ses2'].values\n",
    "        amplitude_ses2 = 1 - intercept_ses2 - bias_upper_ses2\n",
    "\n",
    "        x_values = np.linspace(np.nanmin(x), np.nanmax(x), 100)\n",
    "        y1_values = intercept_ses1 + amplitude_ses1 * sigmoid(x_values, sigma_ses1, center_ses1)\n",
    "        y2_values = intercept_ses2 + amplitude_ses2 * sigmoid(x_values, sigma_ses2, center_ses2)\n",
    "\n",
    "        ## Plot the curves\n",
    "        ax.plot(x_values, y1_values, '-', color='blue')\n",
    "        ax.plot(x_values, y2_values, '-', color='orange')\n",
    "\n",
    "        ## putting r_sq on the plot\n",
    "        r2_ses1 = df_params_merge.loc[df_params_merge['subID'] == (isub + 1), 'r_squared_ses1'].values\n",
    "        r2_ses2 = df_params_merge.loc[df_params_merge['subID'] == (isub + 1), 'r_squared_ses2'].values\n",
    "        rmse_ses1 = df_params_merge.loc[df_params_merge['subID'] == (isub + 1), 'nrmse_ses1'].values\n",
    "        rmse_ses2 = df_params_merge.loc[df_params_merge['subID'] == (isub + 1), 'nrmse_ses2'].values\n",
    "        if isub == 1:\n",
    "            handles, labels = ax.get_legend_handles_labels()\n",
    "        if r2_ses1 >= 0.8 and (rmse_ses1 <= 0.2):\n",
    "            ax.set_title(f'Subject {isub + 1}')\n",
    "            ax.text(0.3, 0.6, \"r_2: %.2f\" % r2_ses1, color='blue')\n",
    "            ax.text(0.3, 0.4, \"rmse: %.2f\" % rmse_ses1, color='blue')\n",
    "        else:\n",
    "            ax.set_title(f'Subject {isub + 1}', color = 'red')\n",
    "            ax.text(0.3, 0.6, \"r_2: %.2f\" % r2_ses1, color='red', fontweight='bold')\n",
    "            ax.text(0.3, 0.4, \"rmse: %.2f\" % rmse_ses1, color='red', fontweight='bold')\n",
    "\n",
    "        if r2_ses2 >= 0.8 and (rmse_ses2 <= 0.2):\n",
    "            ax.set_title(f'Subject {isub + 1}')\n",
    "            ax.text(0.3, 0.2, \"r_2: %.2f\" % r2_ses2, color='orange')\n",
    "            ax.text(0.3, 0, \"rmse: %.2f\" % rmse_ses2, color='orange')\n",
    "        else:\n",
    "            ax.set_title(f'Subject {isub + 1}', color = 'red')\n",
    "            ax.text(0.3, 0.2, \"r_2: %.2f\" % r2_ses2, color='red', fontweight='bold')\n",
    "            ax.text(0.3, 0, \"rmse: %.2f\" % rmse_ses2, color='red', fontweight='bold')\n",
    "    except:\n",
    "        plt.delaxes(ax)  # Remove the subplot when an exception occurs\n",
    "        continue\n",
    "\n",
    "plt.subplots_adjust(wspace=0.8, hspace=0.8)\n",
    "fig.legend(handles, labels, title='Condition', loc='center right')\n",
    "plt.savefig(f'{rootfile_results}/two_ses_plot.png')\n",
    "# plt.show()\n",
    "plt.clf()"
   ],
   "outputs": [
    {
     "output_type": "display_data",
     "data": {
      "text/plain": [
       "<Figure size 1440x5040 with 0 Axes>"
      ]
     },
     "metadata": {}
    }
   ],
   "metadata": {
    "scrolled": true
   }
  },
  {
   "cell_type": "markdown",
   "source": [
    "## Fitting own data from one session to another"
   ],
   "metadata": {}
  },
  {
   "cell_type": "code",
   "execution_count": 104,
   "source": [
    "df_params_merge"
   ],
   "outputs": [
    {
     "output_type": "execute_result",
     "data": {
      "text/html": [
       "<div>\n",
       "<style scoped>\n",
       "    .dataframe tbody tr th:only-of-type {\n",
       "        vertical-align: middle;\n",
       "    }\n",
       "\n",
       "    .dataframe tbody tr th {\n",
       "        vertical-align: top;\n",
       "    }\n",
       "\n",
       "    .dataframe thead th {\n",
       "        text-align: right;\n",
       "    }\n",
       "</style>\n",
       "<table border=\"1\" class=\"dataframe\">\n",
       "  <thead>\n",
       "    <tr style=\"text-align: right;\">\n",
       "      <th></th>\n",
       "      <th>subID</th>\n",
       "      <th>r_squared_ses1</th>\n",
       "      <th>nrmse_ses1</th>\n",
       "      <th>aic_ses1</th>\n",
       "      <th>center_ses1</th>\n",
       "      <th>obj_center_ses1</th>\n",
       "      <th>sigma_ses1</th>\n",
       "      <th>bias_xmin_ses1</th>\n",
       "      <th>bias_xmax_ses1</th>\n",
       "      <th>bias_lower_ses1</th>\n",
       "      <th>...</th>\n",
       "      <th>nrmse_ses2</th>\n",
       "      <th>aic_ses2</th>\n",
       "      <th>center_ses2</th>\n",
       "      <th>obj_center_ses2</th>\n",
       "      <th>sigma_ses2</th>\n",
       "      <th>bias_xmin_ses2</th>\n",
       "      <th>bias_xmax_ses2</th>\n",
       "      <th>bias_lower_ses2</th>\n",
       "      <th>bias_upper_ses2</th>\n",
       "      <th>flipped_ses2</th>\n",
       "    </tr>\n",
       "  </thead>\n",
       "  <tbody>\n",
       "    <tr>\n",
       "      <th>0</th>\n",
       "      <td>2.0</td>\n",
       "      <td>0.994396</td>\n",
       "      <td>0.030065</td>\n",
       "      <td>-45.061484</td>\n",
       "      <td>0.395356</td>\n",
       "      <td>0.379090</td>\n",
       "      <td>0.106477</td>\n",
       "      <td>0.092967</td>\n",
       "      <td>0.003165</td>\n",
       "      <td>0.070833</td>\n",
       "      <td>...</td>\n",
       "      <td>0.053215</td>\n",
       "      <td>-37.067887</td>\n",
       "      <td>0.437272</td>\n",
       "      <td>0.379686</td>\n",
       "      <td>0.132783</td>\n",
       "      <td>0.226559</td>\n",
       "      <td>0.046721</td>\n",
       "      <td>0.199167</td>\n",
       "      <td>0.035833</td>\n",
       "      <td>False</td>\n",
       "    </tr>\n",
       "    <tr>\n",
       "      <th>1</th>\n",
       "      <td>4.0</td>\n",
       "      <td>0.990862</td>\n",
       "      <td>0.036692</td>\n",
       "      <td>-42.272749</td>\n",
       "      <td>0.353184</td>\n",
       "      <td>0.288929</td>\n",
       "      <td>0.114098</td>\n",
       "      <td>0.322398</td>\n",
       "      <td>0.147745</td>\n",
       "      <td>0.298333</td>\n",
       "      <td>...</td>\n",
       "      <td>0.049461</td>\n",
       "      <td>-38.092011</td>\n",
       "      <td>0.493091</td>\n",
       "      <td>0.375676</td>\n",
       "      <td>0.138347</td>\n",
       "      <td>0.373690</td>\n",
       "      <td>0.186597</td>\n",
       "      <td>0.360909</td>\n",
       "      <td>0.175000</td>\n",
       "      <td>False</td>\n",
       "    </tr>\n",
       "    <tr>\n",
       "      <th>2</th>\n",
       "      <td>5.0</td>\n",
       "      <td>0.976299</td>\n",
       "      <td>0.064073</td>\n",
       "      <td>-34.468260</td>\n",
       "      <td>0.537650</td>\n",
       "      <td>0.506901</td>\n",
       "      <td>0.093353</td>\n",
       "      <td>0.165036</td>\n",
       "      <td>0.036492</td>\n",
       "      <td>0.162500</td>\n",
       "      <td>...</td>\n",
       "      <td>0.006915</td>\n",
       "      <td>-65.636911</td>\n",
       "      <td>0.492211</td>\n",
       "      <td>0.385977</td>\n",
       "      <td>0.093328</td>\n",
       "      <td>0.385784</td>\n",
       "      <td>0.137909</td>\n",
       "      <td>0.383333</td>\n",
       "      <td>0.135833</td>\n",
       "      <td>False</td>\n",
       "    </tr>\n",
       "    <tr>\n",
       "      <th>3</th>\n",
       "      <td>6.0</td>\n",
       "      <td>0.969141</td>\n",
       "      <td>0.061998</td>\n",
       "      <td>-34.929123</td>\n",
       "      <td>0.252783</td>\n",
       "      <td>0.187152</td>\n",
       "      <td>0.121123</td>\n",
       "      <td>0.296448</td>\n",
       "      <td>0.001652</td>\n",
       "      <td>0.209167</td>\n",
       "      <td>...</td>\n",
       "      <td>0.041230</td>\n",
       "      <td>-40.640351</td>\n",
       "      <td>0.475595</td>\n",
       "      <td>0.326023</td>\n",
       "      <td>0.130284</td>\n",
       "      <td>0.426422</td>\n",
       "      <td>0.246824</td>\n",
       "      <td>0.417778</td>\n",
       "      <td>0.240833</td>\n",
       "      <td>False</td>\n",
       "    </tr>\n",
       "    <tr>\n",
       "      <th>4</th>\n",
       "      <td>7.0</td>\n",
       "      <td>0.994388</td>\n",
       "      <td>0.030773</td>\n",
       "      <td>-44.735717</td>\n",
       "      <td>0.448519</td>\n",
       "      <td>0.419016</td>\n",
       "      <td>0.087977</td>\n",
       "      <td>0.188766</td>\n",
       "      <td>0.059766</td>\n",
       "      <td>0.184167</td>\n",
       "      <td>...</td>\n",
       "      <td>0.056519</td>\n",
       "      <td>-36.224397</td>\n",
       "      <td>0.492990</td>\n",
       "      <td>0.433843</td>\n",
       "      <td>0.083456</td>\n",
       "      <td>0.289247</td>\n",
       "      <td>0.069811</td>\n",
       "      <td>0.287500</td>\n",
       "      <td>0.068333</td>\n",
       "      <td>False</td>\n",
       "    </tr>\n",
       "    <tr>\n",
       "      <th>...</th>\n",
       "      <td>...</td>\n",
       "      <td>...</td>\n",
       "      <td>...</td>\n",
       "      <td>...</td>\n",
       "      <td>...</td>\n",
       "      <td>...</td>\n",
       "      <td>...</td>\n",
       "      <td>...</td>\n",
       "      <td>...</td>\n",
       "      <td>...</td>\n",
       "      <td>...</td>\n",
       "      <td>...</td>\n",
       "      <td>...</td>\n",
       "      <td>...</td>\n",
       "      <td>...</td>\n",
       "      <td>...</td>\n",
       "      <td>...</td>\n",
       "      <td>...</td>\n",
       "      <td>...</td>\n",
       "      <td>...</td>\n",
       "      <td>...</td>\n",
       "    </tr>\n",
       "    <tr>\n",
       "      <th>223</th>\n",
       "      <td>338.0</td>\n",
       "      <td>0.991969</td>\n",
       "      <td>0.039323</td>\n",
       "      <td>-41.303178</td>\n",
       "      <td>0.400063</td>\n",
       "      <td>0.382530</td>\n",
       "      <td>0.063703</td>\n",
       "      <td>0.248594</td>\n",
       "      <td>0.167548</td>\n",
       "      <td>0.247500</td>\n",
       "      <td>...</td>\n",
       "      <td>0.042582</td>\n",
       "      <td>-40.188473</td>\n",
       "      <td>0.434195</td>\n",
       "      <td>0.440575</td>\n",
       "      <td>0.101662</td>\n",
       "      <td>0.166650</td>\n",
       "      <td>0.180866</td>\n",
       "      <td>0.157500</td>\n",
       "      <td>0.178333</td>\n",
       "      <td>False</td>\n",
       "    </tr>\n",
       "    <tr>\n",
       "      <th>224</th>\n",
       "      <td>340.0</td>\n",
       "      <td>0.995635</td>\n",
       "      <td>0.028163</td>\n",
       "      <td>-45.976544</td>\n",
       "      <td>0.466990</td>\n",
       "      <td>0.443179</td>\n",
       "      <td>0.085198</td>\n",
       "      <td>0.217295</td>\n",
       "      <td>0.123770</td>\n",
       "      <td>0.214545</td>\n",
       "      <td>...</td>\n",
       "      <td>0.035600</td>\n",
       "      <td>-42.695711</td>\n",
       "      <td>0.411307</td>\n",
       "      <td>0.389330</td>\n",
       "      <td>0.088312</td>\n",
       "      <td>0.168112</td>\n",
       "      <td>0.065985</td>\n",
       "      <td>0.160833</td>\n",
       "      <td>0.065000</td>\n",
       "      <td>False</td>\n",
       "    </tr>\n",
       "    <tr>\n",
       "      <th>225</th>\n",
       "      <td>342.0</td>\n",
       "      <td>0.975376</td>\n",
       "      <td>0.053088</td>\n",
       "      <td>-37.101135</td>\n",
       "      <td>0.482088</td>\n",
       "      <td>0.387694</td>\n",
       "      <td>0.188805</td>\n",
       "      <td>0.375315</td>\n",
       "      <td>0.270528</td>\n",
       "      <td>0.345833</td>\n",
       "      <td>...</td>\n",
       "      <td>0.072888</td>\n",
       "      <td>-32.663609</td>\n",
       "      <td>0.538108</td>\n",
       "      <td>0.344159</td>\n",
       "      <td>0.217861</td>\n",
       "      <td>0.414595</td>\n",
       "      <td>0.258785</td>\n",
       "      <td>0.383333</td>\n",
       "      <td>0.215833</td>\n",
       "      <td>False</td>\n",
       "    </tr>\n",
       "    <tr>\n",
       "      <th>226</th>\n",
       "      <td>343.0</td>\n",
       "      <td>0.989817</td>\n",
       "      <td>0.043360</td>\n",
       "      <td>-39.935129</td>\n",
       "      <td>0.456643</td>\n",
       "      <td>0.389452</td>\n",
       "      <td>0.102018</td>\n",
       "      <td>0.271140</td>\n",
       "      <td>0.046086</td>\n",
       "      <td>0.263333</td>\n",
       "      <td>...</td>\n",
       "      <td>0.021021</td>\n",
       "      <td>-50.071118</td>\n",
       "      <td>0.377460</td>\n",
       "      <td>0.377460</td>\n",
       "      <td>0.054893</td>\n",
       "      <td>0.001031</td>\n",
       "      <td>0.000012</td>\n",
       "      <td>0.000000</td>\n",
       "      <td>0.000000</td>\n",
       "      <td>False</td>\n",
       "    </tr>\n",
       "    <tr>\n",
       "      <th>227</th>\n",
       "      <td>344.0</td>\n",
       "      <td>0.993456</td>\n",
       "      <td>0.030620</td>\n",
       "      <td>-44.805254</td>\n",
       "      <td>0.420967</td>\n",
       "      <td>0.411203</td>\n",
       "      <td>0.123059</td>\n",
       "      <td>0.075769</td>\n",
       "      <td>0.016814</td>\n",
       "      <td>0.045833</td>\n",
       "      <td>...</td>\n",
       "      <td>0.033605</td>\n",
       "      <td>-43.503280</td>\n",
       "      <td>0.442641</td>\n",
       "      <td>0.391301</td>\n",
       "      <td>0.089461</td>\n",
       "      <td>0.223843</td>\n",
       "      <td>0.001536</td>\n",
       "      <td>0.218333</td>\n",
       "      <td>0.000000</td>\n",
       "      <td>False</td>\n",
       "    </tr>\n",
       "  </tbody>\n",
       "</table>\n",
       "<p>228 rows × 23 columns</p>\n",
       "</div>"
      ],
      "text/plain": [
       "     subID  r_squared_ses1  nrmse_ses1   aic_ses1  center_ses1  \\\n",
       "0      2.0        0.994396    0.030065 -45.061484     0.395356   \n",
       "1      4.0        0.990862    0.036692 -42.272749     0.353184   \n",
       "2      5.0        0.976299    0.064073 -34.468260     0.537650   \n",
       "3      6.0        0.969141    0.061998 -34.929123     0.252783   \n",
       "4      7.0        0.994388    0.030773 -44.735717     0.448519   \n",
       "..     ...             ...         ...        ...          ...   \n",
       "223  338.0        0.991969    0.039323 -41.303178     0.400063   \n",
       "224  340.0        0.995635    0.028163 -45.976544     0.466990   \n",
       "225  342.0        0.975376    0.053088 -37.101135     0.482088   \n",
       "226  343.0        0.989817    0.043360 -39.935129     0.456643   \n",
       "227  344.0        0.993456    0.030620 -44.805254     0.420967   \n",
       "\n",
       "     obj_center_ses1  sigma_ses1  bias_xmin_ses1  bias_xmax_ses1  \\\n",
       "0           0.379090    0.106477        0.092967        0.003165   \n",
       "1           0.288929    0.114098        0.322398        0.147745   \n",
       "2           0.506901    0.093353        0.165036        0.036492   \n",
       "3           0.187152    0.121123        0.296448        0.001652   \n",
       "4           0.419016    0.087977        0.188766        0.059766   \n",
       "..               ...         ...             ...             ...   \n",
       "223         0.382530    0.063703        0.248594        0.167548   \n",
       "224         0.443179    0.085198        0.217295        0.123770   \n",
       "225         0.387694    0.188805        0.375315        0.270528   \n",
       "226         0.389452    0.102018        0.271140        0.046086   \n",
       "227         0.411203    0.123059        0.075769        0.016814   \n",
       "\n",
       "     bias_lower_ses1  ...  nrmse_ses2   aic_ses2  center_ses2  \\\n",
       "0           0.070833  ...    0.053215 -37.067887     0.437272   \n",
       "1           0.298333  ...    0.049461 -38.092011     0.493091   \n",
       "2           0.162500  ...    0.006915 -65.636911     0.492211   \n",
       "3           0.209167  ...    0.041230 -40.640351     0.475595   \n",
       "4           0.184167  ...    0.056519 -36.224397     0.492990   \n",
       "..               ...  ...         ...        ...          ...   \n",
       "223         0.247500  ...    0.042582 -40.188473     0.434195   \n",
       "224         0.214545  ...    0.035600 -42.695711     0.411307   \n",
       "225         0.345833  ...    0.072888 -32.663609     0.538108   \n",
       "226         0.263333  ...    0.021021 -50.071118     0.377460   \n",
       "227         0.045833  ...    0.033605 -43.503280     0.442641   \n",
       "\n",
       "     obj_center_ses2  sigma_ses2  bias_xmin_ses2  bias_xmax_ses2  \\\n",
       "0           0.379686    0.132783        0.226559        0.046721   \n",
       "1           0.375676    0.138347        0.373690        0.186597   \n",
       "2           0.385977    0.093328        0.385784        0.137909   \n",
       "3           0.326023    0.130284        0.426422        0.246824   \n",
       "4           0.433843    0.083456        0.289247        0.069811   \n",
       "..               ...         ...             ...             ...   \n",
       "223         0.440575    0.101662        0.166650        0.180866   \n",
       "224         0.389330    0.088312        0.168112        0.065985   \n",
       "225         0.344159    0.217861        0.414595        0.258785   \n",
       "226         0.377460    0.054893        0.001031        0.000012   \n",
       "227         0.391301    0.089461        0.223843        0.001536   \n",
       "\n",
       "     bias_lower_ses2  bias_upper_ses2  flipped_ses2  \n",
       "0           0.199167         0.035833         False  \n",
       "1           0.360909         0.175000         False  \n",
       "2           0.383333         0.135833         False  \n",
       "3           0.417778         0.240833         False  \n",
       "4           0.287500         0.068333         False  \n",
       "..               ...              ...           ...  \n",
       "223         0.157500         0.178333         False  \n",
       "224         0.160833         0.065000         False  \n",
       "225         0.383333         0.215833         False  \n",
       "226         0.000000         0.000000         False  \n",
       "227         0.218333         0.000000         False  \n",
       "\n",
       "[228 rows x 23 columns]"
      ]
     },
     "metadata": {},
     "execution_count": 104
    }
   ],
   "metadata": {}
  },
  {
   "cell_type": "code",
   "execution_count": 139,
   "source": [
    "s=16 # CHANGE FONTSIZE HERE\n",
    "plt.rc('font', size=s) #controls default text size\n",
    "plt.rc('axes', titlesize=s) #fontsize of the title\n",
    "plt.rc('axes', labelsize=s) #fontsize of the x and y labels\n",
    "plt.rc('xtick', labelsize=s) #fontsize of the x tick labels\n",
    "plt.rc('ytick', labelsize=s) #fontsize of the y tick labels\n",
    "plt.rc('legend', fontsize=s) #fontsize of the legend"
   ],
   "outputs": [],
   "metadata": {}
  },
  {
   "cell_type": "code",
   "execution_count": 184,
   "source": [
    "# function that plots refit graph for self\n",
    "def plot_refit_curvefit_self(nrows, ncols, df_params, df_rating, param_ses, rating_ses, flname,title):#, r2_list, rmse_list):\n",
    "    # arguments: \n",
    "    # nrow,ncol - nr of rows and columns in the plot\n",
    "    # df_params, df_rating: curve fit param and raw data dataframes\n",
    "    # param_ses: train session, rating_ses: test ses\n",
    "    # flname: full filename to save results in\n",
    "    # ((not there anymore: r2_list, rmse_list - empty lists to store r1 and rmse in))\n",
    "    # ((returning: nothing. the r2 and rmse lists update outside the function automatically))\n",
    "    # returning: dataframe with subID, r2 and rmse\n",
    "\n",
    "    r2_list = []\n",
    "    rmse_list = []\n",
    "    subID_all = []\n",
    "    fig,axs = plt.subplots(nrows=nrows, ncols=ncols, figsize=(ncols*2,nrows*2.1), sharey=True,sharex=True)#(20, 70))\n",
    "    \n",
    "    # for isub in range(350):\n",
    "    for isub,subID in enumerate(df_params_merge['subID']):\n",
    "        # print(isub,subID)\n",
    "        # ax = plt.subplot(nrows, ncols, isub)\n",
    "        r = int(np.floor(isub/ncols))\n",
    "        c = isub%ncols\n",
    "        ax = axs[r,c]\n",
    "        ax.set_xlim(-0.05, 1.05)\n",
    "        ax.set_ylim(-0.05, 1.05)\n",
    "\n",
    "        # subID =  isub+1\n",
    "\n",
    "        if isub%50 == 0:\n",
    "            print('subID=',subID)\n",
    "\n",
    "        # try:\n",
    "        # behavior\n",
    "        xfit = (180 - df_rating.loc[df_rating['subID'] ==subID, 'subtlety'].values) / 180\n",
    "        yfit = df_rating.loc[df_rating['subID'] == subID, f'slider_ses{rating_ses}'].values / 100\n",
    "        \n",
    "        # print(xfit)\n",
    "        x = np.array(xfit)\n",
    "        y = np.array(yfit)\n",
    "\n",
    "        # Plot behavioral dots\n",
    "        ax.plot(x, y, '.', alpha=0.5, color='black')\n",
    "\n",
    "        intercept = df_params_merge.loc[df_params_merge['subID'] == subID, f'bias_xmin_ses{param_ses}'].values\n",
    "        center = df_params_merge.loc[df_params_merge['subID'] == subID, f'center_ses{param_ses}'].values\n",
    "        sigma = df_params_merge.loc[df_params_merge['subID'] == subID, f'sigma_ses{param_ses}'].values\n",
    "        bias_upper = df_params_merge.loc[df_params_merge['subID'] == subID, f'bias_xmax_ses{param_ses}'].values\n",
    "\n",
    "        amplitude = 1 - intercept - bias_upper\n",
    "        x_values = np.linspace(np.nanmin(x), np.nanmax(x), 100)\n",
    "        y_values = intercept + amplitude * sigmoid(x_values, sigma, center)\n",
    "\n",
    "        # Plot the curves\n",
    "        ax.plot(x_values, y_values, '-', color='tab:blue')\n",
    "\n",
    "        # Calculate the r_squared and rmse\n",
    "        y_pred = intercept + amplitude * sigmoid(x, sigma, center)\n",
    "        r_sq = r_squared(y, y_pred)\n",
    "        rmse = normalized_error(y, y_pred)\n",
    "\n",
    "        r2_list.append(r_sq)\n",
    "        rmse_list.append(rmse)\n",
    "        subID_all.append(subID)\n",
    "\n",
    "        if rmse <= 0.2:\n",
    "            color = 'k'\n",
    "        else:\n",
    "            color = 'r'\n",
    "        ax.set_title(f'Subject {subID}')\n",
    "        ax.annotate(\"r_2: %.2f\" % r_sq, xy=(1, 0.2), xycoords ='axes fraction', color=color,ha='right')\n",
    "        ax.annotate(\"rmse: %.2f\" % rmse, xy=(1, 0), xycoords ='axes fraction', color=color,ha='right')\n",
    "\n",
    "        # except:\n",
    "        #     print('isub, error!')\n",
    "        #     plt.delaxes(ax)  \n",
    "        #     r2_list.append(np.nan) # to keep list the same length as df\n",
    "        #     rmse_list.append(np.nan)\n",
    "        #     subID_all.append(subID)      \n",
    "        \n",
    "        ax.set_xticks([0,1],['180','0'])\n",
    "   \n",
    "\n",
    "    for isub in np.arange(df_params_merge.shape[0],nrows*ncols):\n",
    "        ax =  plt.subplot(nrows, ncols, isub + 1)\n",
    "        plt.delaxes(ax)  \n",
    "\n",
    "    plt.suptitle(title, fontweight='bold',fontsize=24)\n",
    "    plt.tight_layout() \n",
    "    # plt.subplots_adjust(wspace=0.5, hspace=0.5) \n",
    "    plt.savefig(flname, facecolor='w')\n",
    "    plt.clf()\n",
    "    \n",
    "    df = pd.DataFrame({'subID':subID_all,'R2':r2_list, 'RMSE': rmse_list})\n",
    "    \n",
    "    return df"
   ],
   "outputs": [],
   "metadata": {}
  },
  {
   "cell_type": "code",
   "execution_count": 185,
   "source": [
    "nrows, ncols = 12, 20"
   ],
   "outputs": [],
   "metadata": {}
  },
  {
   "cell_type": "code",
   "execution_count": 186,
   "source": [
    "# Fitting ses 1 (curvefit param) to ses 1 (behavioral rating)\n",
    "# self_r_sqaure_ses1_t_ses1 = []\n",
    "# self_rmse_ses1_t_ses1 = []\n",
    "title = 'ses1_to_ses1'\n",
    "flname = f'{rootfile_results}/sublevel/{title}_sublevel.png'\n",
    "self_fit_ses1 = plot_refit_curvefit_self(nrows, ncols, df_params_merge, df_rating_merge,\n",
    "                    1, 1,flname,title)#, self_r_sqaure_ses1_t_ses1, self_rmse_ses1_t_ses1)"
   ],
   "outputs": [
    {
     "output_type": "stream",
     "name": "stdout",
     "text": [
      "subID= 2.0\n",
      "subID= 84.0\n",
      "subID= 160.0\n",
      "subID= 226.0\n",
      "subID= 301.0\n"
     ]
    },
    {
     "output_type": "display_data",
     "data": {
      "text/plain": [
       "<Figure size 2880x1814.4 with 0 Axes>"
      ]
     },
     "metadata": {}
    }
   ],
   "metadata": {}
  },
  {
   "cell_type": "code",
   "execution_count": 187,
   "source": [
    "# Fitting ses 2  (curvefit param) to ses 2 (behavioral rating)\n",
    "# self_r_sqaure_ses2_t_ses2 = []\n",
    "# self_rmse_ses2_t_ses2 = []\n",
    "title = 'ses2_to_ses2' \n",
    "flname = f'{rootfile_results}/sublevel/{title}_sublevel.png'\n",
    "self_fit_ses2 = plot_refit_curvefit_self(nrows, ncols, df_params_merge, df_rating_merge,\n",
    "                    2, 2, flname,title) #self_r_sqaure_ses2_t_ses2, self_rmse_ses2_t_ses2)"
   ],
   "outputs": [
    {
     "output_type": "stream",
     "name": "stdout",
     "text": [
      "subID= 2.0\n",
      "subID= 84.0\n",
      "subID= 160.0\n",
      "subID= 226.0\n",
      "subID= 301.0\n"
     ]
    },
    {
     "output_type": "display_data",
     "data": {
      "text/plain": [
       "<Figure size 2880x1814.4 with 0 Axes>"
      ]
     },
     "metadata": {}
    }
   ],
   "metadata": {}
  },
  {
   "cell_type": "code",
   "execution_count": 188,
   "source": [
    "# Fitting ses 1 (curvefit param) to ses 2 (behavioral rating)\n",
    "# self_r_sqaure_ses1_t_ses2 = []\n",
    "# self_rmse_ses1_t_ses2 = []\n",
    "title = 'ses1_to_ses2' \n",
    "flname = f'{rootfile_results}/sublevel/{title}_sublevel.png'\n",
    "cross_fit_ses1to2 = plot_refit_curvefit_self(nrows, ncols, df_params_merge, df_rating_merge,\n",
    "                    1, 2,flname,title) #, self_r_sqaure_ses1_t_ses2, self_rmse_ses1_t_ses2)"
   ],
   "outputs": [
    {
     "output_type": "stream",
     "name": "stdout",
     "text": [
      "subID= 2.0\n",
      "subID= 84.0\n",
      "subID= 160.0\n",
      "subID= 226.0\n",
      "subID= 301.0\n"
     ]
    },
    {
     "output_type": "display_data",
     "data": {
      "text/plain": [
       "<Figure size 2880x1814.4 with 0 Axes>"
      ]
     },
     "metadata": {}
    }
   ],
   "metadata": {
    "scrolled": true
   }
  },
  {
   "cell_type": "code",
   "execution_count": 189,
   "source": [
    "# Fitting ses 2 (curvefit param) to ses 1 (behavioral rating)\n",
    "# self_r_sqaure_ses2_t_ses1 = []\n",
    "# self_rmse_ses2_t_ses1 = []\n",
    "title = 'ses2_to_ses1'\n",
    "flname = f'{rootfile_results}/sublevel/{title}_sublevel.png'\n",
    "cross_fit_ses2to1 = plot_refit_curvefit_self(nrows, ncols, df_params_merge, df_rating_merge,\n",
    "                    2, 1, flname,title)#, self_r_sqaure_ses2_t_ses1, self_rmse_ses2_t_ses1)"
   ],
   "outputs": [
    {
     "output_type": "stream",
     "name": "stdout",
     "text": [
      "subID= 2.0\n",
      "subID= 84.0\n",
      "subID= 160.0\n",
      "subID= 226.0\n",
      "subID= 301.0\n"
     ]
    },
    {
     "output_type": "display_data",
     "data": {
      "text/plain": [
       "<Figure size 2880x1814.4 with 0 Axes>"
      ]
     },
     "metadata": {}
    }
   ],
   "metadata": {
    "scrolled": true
   }
  },
  {
   "cell_type": "markdown",
   "source": [
    "## Fitting mean of all other participants to self"
   ],
   "metadata": {}
  },
  {
   "cell_type": "code",
   "execution_count": 194,
   "source": [
    "## fit the mean to self\n",
    "def plot_refit_curvefit_mean(nrows, ncols, df_params, df_rating, param_ses, rating_ses, flname,title):#, r2_list, rmse_list):\n",
    "    # compares each sub's true data (test) to mean data from another session excluding that sub(train)\n",
    "    \n",
    "    # arguments: \n",
    "    # nrow,ncol - nr of rows and columns in the plot\n",
    "    # df_params, df_rating: curve fit param and raw data dataframes\n",
    "    # param_ses: train session, rating_ses: test ses\n",
    "    # flname: full filename to save results in\n",
    "    # ((not there anymore: r2_list, rmse_list - empty lists to store r1 and rmse in))\n",
    "    # ((returning: nothing. the r2 and rmse lists update outside the function automatically))\n",
    "    # returning: dataframe with subID, r2 and rmse\n",
    "\n",
    "    subID_all = []\n",
    "    r2_list = []\n",
    "    rmse_list = []\n",
    "\n",
    "    # plt.subplots(nrows=nrow, ncols=ncol, figsize=(20, 70))\n",
    "    fig,axs = plt.subplots(nrows=nrows, ncols=ncols, figsize=(ncols*3.25,nrows*3), sharey=True,sharex=True)#(20, 70))\n",
    "    \n",
    "    for isub,subID in enumerate(df_params_merge['subID']):\n",
    "    # for isub in range(350):\n",
    "        r = int(np.floor(isub/ncols))\n",
    "        c = isub%ncols\n",
    "        ax = axs[r,c]\n",
    "        # ax = plt.subplot(nrow, ncol, isub + 1)\n",
    "        ax.set_xlim(-0.05, 1.05)\n",
    "        ax.set_ylim(-0.05, 1.05)\n",
    "\n",
    "        if isub%50==0:\n",
    "            print('subID=',subID)\n",
    "\n",
    "        # try:\n",
    "        # behavior\n",
    "        xfit = (180 - df_rating.loc[df_rating['subID'] == subID, 'subtlety'].values) / 180\n",
    "        yfit = df_rating.loc[df_rating['subID'] == subID, f'slider_ses{rating_ses}'].values / 100\n",
    "        \n",
    "        x = np.array(xfit)\n",
    "        y = np.array(yfit)\n",
    "\n",
    "        # Plot behavioral dots\n",
    "        ax.plot(x, y, '.', alpha=0.5, color='black')\n",
    "\n",
    "        df_temp = df_params_merge[df_params_merge['subID'] != subID].copy() # exclude current sub\n",
    "        # other_mean: curve fit\n",
    "        param_mean = df_temp.mean()\n",
    "\n",
    "        intercept = param_mean[f'bias_xmin_ses{param_ses}']\n",
    "        center = param_mean[f'center_ses{param_ses}']\n",
    "        sigma = param_mean[f'sigma_ses{param_ses}']\n",
    "        bias_upper = param_mean[f'bias_xmax_ses{param_ses}']\n",
    "        amplitude = 1 - intercept - bias_upper\n",
    "    \n",
    "        x_values = np.linspace(np.nanmin(x), np.nanmax(x), 100)\n",
    "        y_values = intercept + amplitude * sigmoid(x_values, sigma, center)\n",
    "        # Plot the curves\n",
    "        ax.plot(x_values, y_values, '-', color='tab:blue')\n",
    "\n",
    "        # Calculate the r_squared and rmse\n",
    "        y_pred = intercept + amplitude * sigmoid(x, sigma, center)\n",
    "        r_sq = r_squared(y, y_pred)\n",
    "        rmse = normalized_error(y, y_pred)\n",
    "\n",
    "        r2_list.append(r_sq)\n",
    "        rmse_list.append(rmse)\n",
    "        subID_all.append(subID)\n",
    "\n",
    "        if rmse <= 0.2:\n",
    "            color = 'k'\n",
    "        else:\n",
    "            color = 'r'\n",
    "\n",
    "        ax.set_title(f'Subject {subID}')\n",
    "        ax.annotate(\"r_2: %.2f\" % r_sq, xy=(1, 0.2), xycoords ='axes fraction', color=color,ha='right')\n",
    "        ax.annotate(\"rmse: %.2f\" % rmse, xy=(1, 0), xycoords ='axes fraction', color=color,ha='right')\n",
    "\n",
    "        # except:\n",
    "        #     plt.delaxes(ax)  \n",
    "        #     r2_list.append(np.nan) # to keep list the same length as df\n",
    "        #     rmse_list.append(np.nan)\n",
    "\n",
    "    ax.set_xticks([0,1],['180','0'])\n",
    "    ax.set_yticks([0,0.5,1])\n",
    "   \n",
    "    for isub in np.arange(df_params_merge.shape[0],nrows*ncols):\n",
    "        ax =  plt.subplot(nrows, ncols, isub + 1)\n",
    "        plt.delaxes(ax)  \n",
    "\n",
    "    plt.suptitle(title, fontweight='bold',fontsize=24)\n",
    "    plt.tight_layout() \n",
    "    # plt.subplots_adjust(wspace=0.5, hspace=0.5) \n",
    "    plt.savefig(flname, facecolor='w')\n",
    "    plt.clf()\n",
    "\n",
    "    df = pd.DataFrame({'subID':subID_all,'R2':r2_list, 'RMSE': rmse_list})\n",
    "    \n",
    "    return df"
   ],
   "outputs": [],
   "metadata": {}
  },
  {
   "cell_type": "code",
   "execution_count": 195,
   "source": [
    "# fit mean to self: ses 1 mean (curvit) to ses 1 self(rating)\n",
    "# mean_r_sqaure_ses1_t_ses1 = []\n",
    "# mean_rmse_ses1_t_ses1 = []\n",
    "\n",
    "title = 'ses1mean_to_ses1'\n",
    "flname = f'{rootfile_results}/mean/{title}_mean.png'\n",
    "self_fit_mean_ses1 = plot_refit_curvefit_mean(nrows, ncols, df_params_merge, df_rating_merge,\n",
    "                    1, 1,flname,title)#, mean_r_sqaure_ses1_t_ses1, mean_rmse_ses1_t_ses1)"
   ],
   "outputs": [
    {
     "output_type": "stream",
     "name": "stdout",
     "text": [
      "subID= 2.0\n",
      "subID= 84.0\n",
      "subID= 160.0\n",
      "subID= 226.0\n",
      "subID= 301.0\n"
     ]
    },
    {
     "output_type": "display_data",
     "data": {
      "text/plain": [
       "<Figure size 4680x2592 with 0 Axes>"
      ]
     },
     "metadata": {}
    }
   ],
   "metadata": {
    "scrolled": true
   }
  },
  {
   "cell_type": "code",
   "execution_count": 196,
   "source": [
    "# fit mean to self: ses 1 mean (curvefit) to ses 2 self(rating)\n",
    "# nrow, ncol = 35, 10\n",
    "# mean_r_sqaure_ses1_t_ses2 = []\n",
    "# mean_rmse_ses1_t_ses2 = []\n",
    "title = 'ses1mean_to_ses2'\n",
    "flname = f'{rootfile_results}/mean/{title}_mean.png'\n",
    "cross_fit_mean_ses1_to_ses2 = plot_refit_curvefit_mean(nrows, ncols, df_params_merge, df_rating_merge,\n",
    "                    1, 2,flname,title)#, mean_r_sqaure_ses1_t_ses2, mean_rmse_ses1_t_ses2)"
   ],
   "outputs": [
    {
     "output_type": "stream",
     "name": "stdout",
     "text": [
      "subID= 2.0\n",
      "subID= 84.0\n",
      "subID= 160.0\n",
      "subID= 226.0\n",
      "subID= 301.0\n"
     ]
    },
    {
     "output_type": "display_data",
     "data": {
      "text/plain": [
       "<Figure size 4680x2592 with 0 Axes>"
      ]
     },
     "metadata": {}
    }
   ],
   "metadata": {
    "scrolled": true
   }
  },
  {
   "cell_type": "code",
   "execution_count": 197,
   "source": [
    "# fit mean to self: ses 2 mean (curvefit) to ses 2 self(rating)\n",
    "# mean_r_sqaure_ses2_t_ses2 = []\n",
    "# mean_rmse_ses2_t_ses2 = []\n",
    "title = 'ses2mean_to_ses2'\n",
    "flname = f'{rootfile_results}/mean/{title}_mean.png'\n",
    "self_fit_mean_ses2 = plot_refit_curvefit_mean(nrows, ncols, df_params_merge, df_rating_merge,\n",
    "                    2, 2,flname,title)#, mean_r_sqaure_ses2_t_ses2, mean_rmse_ses2_t_ses2)"
   ],
   "outputs": [
    {
     "output_type": "stream",
     "name": "stdout",
     "text": [
      "subID= 2.0\n",
      "subID= 84.0\n",
      "subID= 160.0\n",
      "subID= 226.0\n",
      "subID= 301.0\n"
     ]
    },
    {
     "output_type": "display_data",
     "data": {
      "text/plain": [
       "<Figure size 4680x2592 with 0 Axes>"
      ]
     },
     "metadata": {}
    }
   ],
   "metadata": {
    "scrolled": true
   }
  },
  {
   "cell_type": "code",
   "execution_count": 198,
   "source": [
    "# fit mean to self: ses 2 mean (curvefit) to ses 1 self(rating)\n",
    "# mean_r_sqaure_ses2_t_ses1 = []\n",
    "# mean_rmse_ses2_t_ses1 = []\n",
    "title = 'ses2mean_to_ses1'\n",
    "flname = f'{rootfile_results}/mean/{title}_mean.png'\n",
    "cross_fit_mean_ses2_to_ses1 =cross_fit_mean_ses2_to_ses1 =plot_refit_curvefit_mean(nrows, ncols, df_params_merge, df_rating_merge,\n",
    "                    2, 1,flname,title)# mean_r_sqaure_ses2_t_ses1, mean_rmse_ses2_t_ses1)"
   ],
   "outputs": [
    {
     "output_type": "stream",
     "name": "stdout",
     "text": [
      "subID= 2.0\n",
      "subID= 84.0\n",
      "subID= 160.0\n",
      "subID= 226.0\n",
      "subID= 301.0\n"
     ]
    },
    {
     "output_type": "display_data",
     "data": {
      "text/plain": [
       "<Figure size 4680x2592 with 0 Axes>"
      ]
     },
     "metadata": {}
    }
   ],
   "metadata": {
    "scrolled": true
   }
  },
  {
   "cell_type": "markdown",
   "source": [
    "## Fitting other's individual to self"
   ],
   "metadata": {}
  },
  {
   "cell_type": "code",
   "execution_count": null,
   "source": [
    "df_other_fit = df_params_merge.copy()\n",
    "df_other_fit = df_other_fit.dropna()"
   ],
   "outputs": [],
   "metadata": {}
  },
  {
   "cell_type": "code",
   "execution_count": 346,
   "source": [
    "# def plot_refit_curvefit_other(df_params, df_rating, param_ses, rating_ses, r2_list, rmse_list):\n",
    "#     for idxsub in range(len(df_params['subID'].values)): # test data (row); mean ratings\n",
    "#         isub = df_params['subID'].values[idxsub]\n",
    "#         try:\n",
    "#             xfit = (180 - df_rating.loc[df_rating['subID'] == (isub), 'subtlety'].values) / 180\n",
    "#             yfit = df_rating.loc[df_rating['subID'] == (isub), f'slider_ses{rating_ses}'].values / 100\n",
    "\n",
    "#             x = np.array(xfit)\n",
    "#             y = np.array(yfit)\n",
    "\n",
    "#             for idxsub2 in range(len(df_params['subID'].values)): # train data (curve fit params)\n",
    "#                 other = df_params['subID'].values[idxsub2]\n",
    "#                 if isub != other: # added by RV\n",
    "#                     df_temp = df_params[df_params['subID'] == other]\n",
    "                    \n",
    "#                     intercept = df_temp[f'bias_xmin_ses{param_ses}'].values\n",
    "#                     center = df_temp[f'center_ses{param_ses}'].values\n",
    "#                     sigma = df_temp[f'sigma_ses{param_ses}'].values\n",
    "#                     bias_upper = df_temp[f'bias_xmax_ses{param_ses}'].values\n",
    "#                     amplitude = 1 - intercept - bias_upper\n",
    "                \n",
    "#                     x_values = np.linspace(np.nanmin(x), np.nanmax(x), 100)\n",
    "#                     y_pred = intercept + amplitude * sigmoid(x, sigma, center)\n",
    "                    \n",
    "#                     ## calculate the r_squared\n",
    "#                     r2_list[idxsub, idxsub2] = r_squared(y, y_pred)\n",
    "#                     rmse_list[idxsub, idxsub2] = normalized_error(y, y_pred)\n",
    "#         except:\n",
    "#             continue\n",
    "#     plt.imshow(rmse_list, cmap='Blues', vmin=0, vmax=1)\n",
    "#     plt.title(f'Fitting self vs other (ses {param_ses} to ses {rating_ses})')\n",
    "#     plt.colorbar()"
   ],
   "outputs": [],
   "metadata": {}
  },
  {
   "cell_type": "code",
   "execution_count": 347,
   "source": [
    "# # using others to fit self: other ses 1(curvefit) to self ses 1(rating)\n",
    "# # other_R2_ses1_t_ses1 = np.zeros((len(df_other_fit['subID'].values),len(df_other_fit['subID'].values))) * np.nan\n",
    "# # other_rmse_ses1_t_ses1 = np.zeros((len(df_other_fit['subID'].values),len(df_other_fit['subID'].values))) * np.nan\n",
    "# other_R2_ses1_t_ses1 = np.zeros((len(df_params_merge['subID'].values),len(df_params_merge['subID'].values))) * np.nan\n",
    "# other_rmse_ses1_t_ses1 = np.zeros((len(df_params_merge['subID'].values),len(df_params_merge['subID'].values))) * np.nan\n",
    "# plot_refit_curvefit_other(df_params_merge, df_rating_merge, 1, 1, other_R2_ses1_t_ses1, other_rmse_ses1_t_ses1)"
   ],
   "outputs": [
    {
     "output_type": "display_data",
     "data": {
      "image/png": "[encoded data removed]",
      "text/plain": [
       "<Figure size 432x288 with 2 Axes>"
      ]
     },
     "metadata": {
      "needs_background": "light"
     }
    }
   ],
   "metadata": {
    "scrolled": false
   }
  },
  {
   "cell_type": "code",
   "execution_count": 348,
   "source": [
    "# # using others to fit self: other ses 1(curvefit) to self ses 2(rating)\n",
    "# other_r_sqaure_ses1_t_ses2 = np.zeros((len(df_other_fit['subID'].values),len(df_other_fit['subID'].values))) * np.nan\n",
    "# other_rmse_ses1_t_ses2 = np.zeros((len(df_other_fit['subID'].values),len(df_other_fit['subID'].values))) * np.nan\n",
    "# plot_refit_curvefit_other(df_other_fit, df_rating_merge, 1, 2, other_r_sqaure_ses1_t_ses2, other_rmse_ses1_t_ses2)"
   ],
   "outputs": [],
   "metadata": {}
  },
  {
   "cell_type": "code",
   "execution_count": null,
   "source": [
    "# # using others to fit self: other ses 2(curvefit) to self ses 2(rating)\n",
    "# other_r_sqaure_ses2_t_ses2 = np.zeros((len(df_other_fit['subID'].values),len(df_other_fit['subID'].values))) * np.nan\n",
    "# other_rmse_ses2_t_ses2 = np.zeros((len(df_other_fit['subID'].values),len(df_other_fit['subID'].values))) * np.nan\n",
    "# plot_refit_curvefit_other(df_other_fit, df_rating_merge, 2, 2, other_r_sqaure_ses2_t_ses2, other_rmse_ses2_t_ses2)"
   ],
   "outputs": [],
   "metadata": {}
  },
  {
   "cell_type": "code",
   "execution_count": 349,
   "source": [
    "# # using others to fit self: other ses 2(curvefit) to self ses 1(rating)\n",
    "# other_r_sqaure_ses2_t_ses1 = np.zeros((len(df_other_fit['subID'].values),len(df_other_fit['subID'].values))) * np.nan\n",
    "# other_rmse_ses2_t_ses1 = np.zeros((len(df_other_fit['subID'].values),len(df_other_fit['subID'].values))) * np.nan\n",
    "# plot_refit_curvefit_other(df_other_fit, df_rating_merge, 2, 1, other_r_sqaure_ses2_t_ses1, other_rmse_ses2_t_ses1)"
   ],
   "outputs": [],
   "metadata": {}
  },
  {
   "cell_type": "markdown",
   "source": [
    "## compare the rmse between conditions"
   ],
   "metadata": {}
  },
  {
   "cell_type": "code",
   "execution_count": 343,
   "source": [
    "def get_other_param(other, operation):\n",
    "    operations = {\n",
    "        'mean': lambda x: np.nanmean(x),\n",
    "        'median': lambda x: np.nanmedian(x),\n",
    "        'min': lambda x: np.nanmin(x)\n",
    "    }\n",
    "    result = [operations[operation](sublist) for sublist in other] # mean, median or min rmse from each row (when fitted using every other sub (column) in the array)\n",
    "    return result\n",
    "\n",
    "\n",
    "# def plot_rmse_dist(self, mean, other, ses_to_ses):\n",
    "#     params = ['other_ind_mean', 'other_ind_median', 'other_ind_min']\n",
    "#     df_bootstrap = pd.DataFrame()\n",
    "#     df_bootstrap['self'] =[x for x in self if not np.isnan(x)]\n",
    "#     df_bootstrap['mean'] = [x for x in mean if not np.isnan(x)]\n",
    "#     df_bootstrap[params[0]] = get_other_param(other, 'mean')\n",
    "#     df_bootstrap[params[1]] = get_other_param(other, 'median')\n",
    "#     df_bootstrap[params[2]] = get_other_param(other, 'min')\n",
    "\n",
    "#     for param in params: #  ['other_ind_mean', 'other_ind_median', 'other_ind_min']\n",
    "#         plt.figure(figsize=(8, 6))\n",
    "#         data_list = [df_bootstrap['self'], df_bootstrap['mean'], df_bootstrap[param]]\n",
    "#         positions = [1, 2, 3]  \n",
    "#         plt.violinplot(data_list, positions=positions, showmeans=True)\n",
    "\n",
    "#         t_statistic_1, p_value_1 = ttest_rel(df_bootstrap['self'], df_bootstrap[param])\n",
    "#         t_statistic_2, p_value_2 = ttest_rel(df_bootstrap['self'], df_bootstrap['mean'])\n",
    "#         t_statistic_3, p_value_3 = ttest_rel(df_bootstrap['mean'], df_bootstrap[param])\n",
    "#         plt.title(f'Distribution of refitted rsme ({ses_to_ses}) \\n self vs mean vs {param}')\n",
    "#         plt.xticks(positions, ['self_rmse', 'mean', f'{param}'])\n",
    "#         print(f'Self v {param} - Paired t-test : t = {t_statistic_1:.2f}, p-value = {p_value_1:.2f}')\n",
    "#         print(f'Self v mean - Paired t-test: t = {t_statistic_2:.2f}, p-value = {p_value_2:.2f}')\n",
    "#         print(f'mean v {param} - Paired t-test: t = {t_statistic_3:.2f}, p-value = {p_value_3:.2f}')\n",
    "#         plt.ylim(0, 2)\n",
    "#         plt.show()\n",
    "def get_p(p):\n",
    "    if p < .001:\n",
    "        return \"p < .001\"\n",
    "    elif p < .01:\n",
    "        return f\"p={p:.3f}\"\n",
    "    else:\n",
    "        return f\"p={p:.2f}\"\n",
    "\n",
    "def plot_rmse_dist_reduced(self, mean, flname, ses_to_ses):\n",
    "    # params = ['other_ind_mean', 'other_ind_median', 'other_ind_min']\n",
    "    df_bootstrap = pd.DataFrame()\n",
    "    df_bootstrap['self'] =[x for x in self if not np.isnan(x)]\n",
    "    df_bootstrap['mean'] = [x for x in mean if not np.isnan(x)]\n",
    "    # df_bootstrap[params[0]] = get_other_param(other, 'mean')\n",
    "    # df_bootstrap[params[1]] = get_other_param(other, 'median')\n",
    "    # df_bootstrap[params[2]] = get_other_param(other, 'min')\n",
    "\n",
    "    # for param in params: #  ['other_ind_mean', 'other_ind_median', 'other_ind_min']\n",
    "    plt.figure(figsize=(5, 8))\n",
    "    data_list = [df_bootstrap['self'], df_bootstrap['mean']]\n",
    "    positions = [0,1]  \n",
    "    # widths = .8\n",
    "    # boxprops = dict(color='k', linewidth=2)\n",
    "    # medianprops = dict(color='k', linewidth=2, marker=None, markerfacecolor='k')\n",
    "    # plt.boxplot(data_list, positions=positions,boxprops=boxprops,medianprops=medianprops,widths=widths)#, showmeans=True)\n",
    "    \n",
    "\n",
    "    parts = plt.violinplot(data_list, positions=positions, showmeans=True)\n",
    "    print(parts['bodies'])\n",
    "\n",
    "    # Customize the body color\n",
    "    for i,pc in enumerate(parts['bodies']):\n",
    "        pc.set_facecolor('tab:blue')\n",
    "        pc.set_edgecolor('tab:blue')\n",
    "        pc.set_alpha(0.5)\n",
    "\n",
    "        # Get the paths and modify them to only show a half\n",
    "        if i ==0:\n",
    "            path = pc.get_paths()[0]\n",
    "            vertices = path.vertices\n",
    "            vertices[:, 0] = np.clip(vertices[:, 0], -np.inf,0)\n",
    "        else:\n",
    "            path = pc.get_paths()[0]\n",
    "            vertices = path.vertices\n",
    "            vertices[:, 0] = np.clip(vertices[:, 0], 1,np.inf)\n",
    "\n",
    "\n",
    "    # Customize the median line color\n",
    "    # parts['cmedians'].set_edgecolor('k')\n",
    "\n",
    "    # Customize the mean line color\n",
    "    parts['cmeans'].set_edgecolor('k')\n",
    "\n",
    "    # Customize the minimum and maximum lines color\n",
    "    parts['cmins'].set_edgecolor('k')\n",
    "    parts['cmaxes'].set_edgecolor('k')\n",
    "    \n",
    "    plt.plot(data_list,color = 'grey',alpha=.1)\n",
    "\n",
    "    t_statistic, p_value = ttest_rel(df_bootstrap['self'], df_bootstrap['mean'])\n",
    "    stat_wilc, p_wilc = wilcoxon(df_bootstrap['self'], df_bootstrap['mean'])\n",
    "    MD = (df_bootstrap['self'] - df_bootstrap['mean']).mean()\n",
    "    txt = f'MD={MD:.2f}\\n(t-test:{get_p(p_value)},\\nwilc.:{get_p(p_wilc)})'\n",
    "    plt.gca().annotate(txt, xy=(0.05,.95),ha='left',va='top',xycoords='axes fraction')\n",
    "    \n",
    "    # t_statistic_1, p_value_1 = ttest_rel(df_bootstrap['self'], df_bootstrap[param])\n",
    "    # t_statistic_2, p_value_2 = ttest_rel(df_bootstrap['self'], df_bootstrap['mean'])\n",
    "    # t_statistic_3, p_value_3 = ttest_rel(df_bootstrap['mean'], df_bootstrap[param])\n",
    "    # plt.title(f'Distribution of refitted rsme ({ses_to_ses}) \\n self vs mean vs {param}')\n",
    "    plt.title(f'{ses_to_ses}', fontweight='bold')\n",
    "    # plt.xticks(positions, ['self_rmse', 'mean', f'{param}'])\n",
    "    plt.xticks(positions, ['own params', \"mean params\\nfrom all others\"])\n",
    "    # print(f'Self v {param} - Paired t-test : t = {t_statistic_1:.2f}, p-value = {p_value_1:.2f}')\n",
    "    print(f'Self v mean:')\n",
    "    print(f'Paired t-test: t = {t_statistic:.2f}, p-value = {p_value:.2f}')\n",
    "    print(f'Wilcoxon signed rank test: t = {stat_wilc:.2f}, p-value = {p_wilc:.2f}')\n",
    "    # print(f'mean v {param} - Paired t-test: t = {t_statistic_3:.2f}, p-value = {p_value_3:.2f}')\n",
    "    plt.ylim(-.1, 2)\n",
    "    plt.ylabel('NRMSE')\n",
    "    # plt.show()\n",
    "    plt.savefig(flname + '.png')\n",
    "    plt.clf()"
   ],
   "outputs": [],
   "metadata": {}
  },
  {
   "cell_type": "markdown",
   "source": [
    "### ses 1 to ses 1"
   ],
   "metadata": {}
  },
  {
   "cell_type": "code",
   "execution_count": 344,
   "source": [
    "# plot_rmse_dist(self_fit_ses1['RMSE'], self_fit_mean_ses1['RMSE'], other_rmse_ses1_t_ses1, 'ses 1 to ses 1')\n",
    "title = 'within session (ses1)'\n",
    "flname = f'{rootfile_results}/within_session_ses1'\n",
    "plot_rmse_dist_reduced(self_fit_ses1['RMSE'], self_fit_mean_ses1['RMSE'], flname, title)"
   ],
   "outputs": [
    {
     "output_type": "stream",
     "name": "stdout",
     "text": [
      "[<matplotlib.collections.PolyCollection object at 0x7fad19d97050>, <matplotlib.collections.PolyCollection object at 0x7fad19d97a50>]\n",
      "Self v mean:\n",
      "Paired t-test: t = -13.67, p-value = 0.00\n",
      "Wilcoxon signed rank test: t = 3.00, p-value = 0.00\n"
     ]
    },
    {
     "output_type": "display_data",
     "data": {
      "text/plain": [
       "<Figure size 360x576 with 0 Axes>"
      ]
     },
     "metadata": {}
    }
   ],
   "metadata": {
    "scrolled": false
   }
  },
  {
   "cell_type": "code",
   "execution_count": null,
   "source": [
    "# plot_rmse_dist(self_rmse_ses1_t_ses2, mean_rmse_ses1_t_ses2, other_rmse_ses1_t_ses2, 'ses 1 to ses 2')\n",
    "title = 'across sessions (ses 1 to ses 2)'\n",
    "flname = f'{rootfile_results}/across_sessions_ses1_to_ses2'\n",
    "plot_rmse_dist_reduced(cross_fit_ses1to2['RMSE'], cross_fit_mean_ses1_to_ses2['RMSE'], flname, title)"
   ],
   "outputs": [],
   "metadata": {}
  },
  {
   "cell_type": "markdown",
   "source": [
    "### ses 1 to ses 2"
   ],
   "metadata": {}
  },
  {
   "cell_type": "code",
   "execution_count": 352,
   "source": [
    "# plot_rmse_dist(self_rmse_ses1_t_ses2, mean_rmse_ses1_t_ses2, other_rmse_ses1_t_ses2, 'ses 1 to ses 2')\n",
    "title = 'across sessions (ses 1 to ses 2)'\n",
    "flname = f'{rootfile_results}/across_sessions_ses1_to_ses2'\n",
    "plot_rmse_dist_reduced(cross_fit_ses1to2['RMSE'], cross_fit_mean_ses1_to_ses2['RMSE'], flname, title)"
   ],
   "outputs": [
    {
     "output_type": "stream",
     "name": "stdout",
     "text": [
      "[<matplotlib.collections.PolyCollection object at 0x7faced2500d0>, <matplotlib.collections.PolyCollection object at 0x7facf9dce050>]\n",
      "Self v mean:\n",
      "Paired t-test: t = -4.48, p-value = 0.00\n",
      "Wilcoxon signed rank test: t = 8164.00, p-value = 0.00\n"
     ]
    },
    {
     "output_type": "display_data",
     "data": {
      "text/plain": [
       "<Figure size 360x576 with 0 Axes>"
      ]
     },
     "metadata": {}
    }
   ],
   "metadata": {
    "scrolled": false
   }
  },
  {
   "cell_type": "markdown",
   "source": [
    "### ses 2 to ses 2"
   ],
   "metadata": {}
  },
  {
   "cell_type": "code",
   "execution_count": 358,
   "source": [
    "title = 'within session (ses 2 to ses 2)'\n",
    "flname = f'{rootfile_results}/within_session_ses2_to_ses2'\n",
    "# plot_rmse_dist(self_rmse_ses2_t_ses2, mean_rmse_ses2_t_ses2, other_rmse_ses2_t_ses2, 'ses 2 to ses 2')\n",
    "plot_rmse_dist_reduced(self_fit_ses2['RMSE'], self_fit_mean_ses2['RMSE'], flname, title)"
   ],
   "outputs": [
    {
     "output_type": "stream",
     "name": "stdout",
     "text": [
      "[<matplotlib.collections.PolyCollection object at 0x7fad1c8a7d90>, <matplotlib.collections.PolyCollection object at 0x7fad1c8a7e90>]\n",
      "Self v mean:\n",
      "Paired t-test: t = -12.00, p-value = 0.00\n",
      "Wilcoxon signed rank test: t = 5.00, p-value = 0.00\n"
     ]
    },
    {
     "output_type": "display_data",
     "data": {
      "text/plain": [
       "<Figure size 360x576 with 0 Axes>"
      ]
     },
     "metadata": {}
    }
   ],
   "metadata": {
    "scrolled": true
   }
  },
  {
   "cell_type": "markdown",
   "source": [
    "### ses 2 to ses 1"
   ],
   "metadata": {}
  },
  {
   "cell_type": "code",
   "execution_count": 359,
   "source": [
    "title = 'within session (ses 2 to ses 1)'\n",
    "flname = f'{rootfile_results}/within_session_ses2_to_ses1'\n",
    "# plot_rmse_dist(self_rmse_ses2_t_ses1, mean_rmse_ses2_t_ses1, other_rmse_ses2_t_ses1, 'ses 2 to ses 1')\n",
    "plot_rmse_dist_reduced(cross_fit_ses2to1['RMSE'], cross_fit_mean_ses2_to_ses1['RMSE'], flname, title)"
   ],
   "outputs": [
    {
     "output_type": "stream",
     "name": "stdout",
     "text": [
      "[<matplotlib.collections.PolyCollection object at 0x7faced262dd0>, <matplotlib.collections.PolyCollection object at 0x7faced262510>]\n",
      "Self v mean:\n",
      "Paired t-test: t = -4.47, p-value = 0.00\n",
      "Wilcoxon signed rank test: t = 8415.00, p-value = 0.00\n"
     ]
    },
    {
     "output_type": "display_data",
     "data": {
      "text/plain": [
       "<Figure size 360x576 with 0 Axes>"
      ]
     },
     "metadata": {}
    }
   ],
   "metadata": {
    "scrolled": true
   }
  },
  {
   "cell_type": "code",
   "execution_count": 402,
   "source": [
    "def return_stats(x,y):\n",
    "    t,p = ttest_rel(x,y)\n",
    "    MD = (x-y).mean()\n",
    "    return MD,t,p\n",
    "\n",
    "def plot_rmse_dist_4_plots(self, self_altses, mean, mean_altses, flname, title,ylabel):\n",
    "    # params = ['other_ind_mean', 'other_ind_median', 'other_ind_min']\n",
    "    df_bootstrap = pd.DataFrame()\n",
    "    df_bootstrap['self_sameses'] =[x for x in self if not np.isnan(x)]\n",
    "    df_bootstrap['self_altses'] =[x for x in self_altses if not np.isnan(x)]\n",
    "    df_bootstrap['mean_sameses'] = [x for x in mean if not np.isnan(x)]\n",
    "    df_bootstrap['mean_altses'] = [x for x in mean_altses if not np.isnan(x)]\n",
    "    \n",
    "    # for param in params: #  ['other_ind_mean', 'other_ind_median', 'other_ind_min']\n",
    "    plt.figure(figsize=(10, 8))\n",
    "    data_list = [df_bootstrap['self_sameses'], df_bootstrap['self_altses'], df_bootstrap['mean_sameses'], df_bootstrap['mean_altses']]\n",
    "    positions = [0,1,2,3]    \n",
    "\n",
    "    parts = plt.violinplot(data_list, positions=positions, showmeans=True)\n",
    "    # print(parts['bodies'])\n",
    "\n",
    "    # Customize the body color\n",
    "    for i,pc in enumerate(parts['bodies']):\n",
    "        pc.set_facecolor('tab:blue')\n",
    "        pc.set_edgecolor('tab:blue')\n",
    "        pc.set_alpha(0.5)\n",
    "\n",
    "        # Get the paths and modify them to only show a half\n",
    "        # if i ==0:\n",
    "        #     path = pc.get_paths()[0]\n",
    "        #     vertices = path.vertices\n",
    "        #     vertices[:, 0] = np.clip(vertices[:, 0], -np.inf,0)\n",
    "        # else:\n",
    "        #     path = pc.get_paths()[0]\n",
    "        #     vertices = path.vertices\n",
    "        #     vertices[:, 0] = np.clip(vertices[:, 0], 1,np.inf)\n",
    "\n",
    "    # Customize the mean line color\n",
    "    parts['cmeans'].set_edgecolor('k')\n",
    "\n",
    "    # Customize the minimum and maximum lines color\n",
    "    parts['cmins'].set_edgecolor('k')\n",
    "    parts['cmaxes'].set_edgecolor('k')\n",
    "    \n",
    "    plt.plot(data_list,color = 'grey',alpha=.1)\n",
    "\n",
    "    stats_array = np.full((6,3),np.nan) #MD,t,p\n",
    "    count = -1\n",
    "    all_grps = ['self_sameses', 'self_altses','mean_sameses','mean_altses']\n",
    "    for i,param1 in enumerate(all_grps[:-1]):\n",
    "        for j,param2 in enumerate(all_grps[i+1:]):\n",
    "            count += 1\n",
    "            x = df_bootstrap[param1]\n",
    "            y = df_bootstrap[param2]\n",
    "            stats_array[count,:] = return_stats(x,y)\n",
    "            print(f'{count}. param1:{param1},param2:{param2},MD:{stats_array[count,0]:.2f},t={stats_array[count,1]:.2f} ({get_p(stats_array[count,2])})')\n",
    "    # t1, p1 = ttest_rel(df_bootstrap['self_sameses'], df_bootstrap['self_altses']) # 12\n",
    "    # t2, p2 = ttest_rel(df_bootstrap['self_sameses'], df_bootstrap['mean_sameses']) # 13\n",
    "    # t3, p3 = ttest_rel(df_bootstrap['self_sameses'], df_bootstrap['mean_altses']) # 14\n",
    "    # t4, p4 = ttest_rel(df_bootstrap['self_altses'], df_bootstrap['mean_sameses']) # 23\n",
    "    # t5, p5 = ttest_rel(df_bootstrap['self_altses'], df_bootstrap['mean_altses']) # 24\n",
    "    # t6, p6 = ttest_rel(df_bootstrap['mean_sameses'], df_bootstrap['mean_altses']) #34\n",
    "    # stat_wilc, p_wilc = wilcoxon(df_bootstrap['self'], df_bootstrap['mean'])\n",
    "    # MD = (df_bootstrap['self'] - df_bootstrap['mean']).mean()\n",
    "\n",
    "    lbls = ['12','13','14','23','24','34']\n",
    "    ypos = 1\n",
    "    for i in range(stats_array.shape[0]):\n",
    "        MD = stats_array[i,0]\n",
    "        p = stats_array[i,2]\n",
    "        txt = f'MD{lbls[i]}={MD:.2f}(t-test:{get_p(p)})'  #,\\nwilc.:{get_p(p_wilc)})'\n",
    "        plt.gca().annotate(txt, xy=(0.05,ypos),ha='left',va='top',xycoords='axes fraction')\n",
    "        ypos = ypos - .05\n",
    "    \n",
    "    plt.title(title, fontweight='bold')\n",
    "    plt.xticks(positions, ['own params\\n(within sess;\\ntraining set)', 'own params\\n(across sess;\\ntest set)', \\\n",
    "        \"mean params\\nfrom others\\n(within sess;\\ntraining set)\", \"mean params\\nfrom others\\n(across sess;\\ntest set)\"])\n",
    "    print(f'Self v mean:')\n",
    "    # print(f'Paired t-test results: t = {t_statistic:.2f}, p-value = {p_value:.2f}')\n",
    "    # print(f'Wilcoxon signed rank test: t = {stat_wilc:.2f}, p-value = {p_wilc:.2f}')\n",
    "    plt.ylim(-.1, 2)\n",
    "    plt.ylabel(ylabel)\n",
    "    plt.savefig(flname + '.png', bbox_inches='tight',dpi=300)\n",
    "    # plt.clf()"
   ],
   "outputs": [],
   "metadata": {}
  },
  {
   "cell_type": "code",
   "execution_count": 403,
   "source": [
    "# plot_rmse_dist(self_rmse_ses1_t_ses2, mean_rmse_ses1_t_ses2, other_rmse_ses1_t_ses2, 'ses 1 to ses 2')\n",
    "title = 'Predicting session 1 in 4 ways'# es1_to_ses2_all4\n",
    "ylabel = 'Error in predicting ses1'\n",
    "flname = f'{rootfile_results}/predicting_session1'\n",
    "plot_rmse_dist_4_plots(self_fit_ses1['RMSE'], cross_fit_ses2to1['RMSE'], self_fit_mean_ses1['RMSE'], cross_fit_mean_ses2_to_ses1['RMSE'], flname, title,ylabel)\n"
   ],
   "outputs": [
    {
     "output_type": "stream",
     "name": "stdout",
     "text": [
      "0. param1:self_sameses,param2:self_altses,MD:-0.08,t=-21.47 (p < .001)\n",
      "1. param1:self_sameses,param2:mean_sameses,MD:-0.12,t=-13.67 (p < .001)\n",
      "2. param1:self_sameses,param2:mean_altses,MD:-0.12,t=-14.37 (p < .001)\n",
      "3. param1:self_altses,param2:mean_sameses,MD:-0.04,t=-4.42 (p < .001)\n",
      "4. param1:self_altses,param2:mean_altses,MD:-0.04,t=-4.47 (p < .001)\n",
      "5. param1:mean_sameses,param2:mean_altses,MD:0.00,t=1.45 (p=0.15)\n",
      "Self v mean:\n"
     ]
    },
    {
     "output_type": "display_data",
     "data": {
      "image/png": "[encoded data removed]",
      "text/plain": [
       "<Figure size 720x576 with 1 Axes>"
      ]
     },
     "metadata": {
      "needs_background": "light"
     }
    }
   ],
   "metadata": {}
  },
  {
   "cell_type": "code",
   "execution_count": 404,
   "source": [
    "# plot_rmse_dist(self_rmse_ses1_t_ses2, mean_rmse_ses1_t_ses2, other_rmse_ses1_t_ses2, 'ses 1 to ses 2')\n",
    "title = 'Predicting session 2 in 4 ways'# es1_to_ses2_all4\n",
    "flname = f'{rootfile_results}/Predicting_session2'\n",
    "ylabel = 'Error in predicting ses2'\n",
    "# plot_rmse_dist_4_plots(self_fit_ses1['RMSE'], cross_fit_ses2to1['RMSE'], self_fit_mean_ses1['RMSE'], cross_fit_mean_ses2_to_ses1['RMSE'], flname, title)\n",
    "plot_rmse_dist_4_plots(self_fit_ses2['RMSE'], cross_fit_ses1to2['RMSE'], self_fit_mean_ses2['RMSE'], cross_fit_mean_ses1_to_ses2['RMSE'], flname, title,ylabel)\n"
   ],
   "outputs": [
    {
     "output_type": "stream",
     "name": "stdout",
     "text": [
      "0. param1:self_sameses,param2:self_altses,MD:-0.09,t=-17.19 (p < .001)\n",
      "1. param1:self_sameses,param2:mean_sameses,MD:-0.14,t=-12.00 (p < .001)\n",
      "2. param1:self_sameses,param2:mean_altses,MD:-0.14,t=-11.63 (p < .001)\n",
      "3. param1:self_altses,param2:mean_sameses,MD:-0.05,t=-4.38 (p < .001)\n",
      "4. param1:self_altses,param2:mean_altses,MD:-0.05,t=-4.48 (p < .001)\n",
      "5. param1:mean_sameses,param2:mean_altses,MD:-0.00,t=-3.52 (p < .001)\n",
      "Self v mean:\n"
     ]
    },
    {
     "output_type": "display_data",
     "data": {
      "image/png": "[encoded data removed]",
      "text/plain": [
       "<Figure size 720x576 with 1 Axes>"
      ]
     },
     "metadata": {
      "needs_background": "light"
     }
    }
   ],
   "metadata": {}
  },
  {
   "cell_type": "code",
   "execution_count": null,
   "source": [],
   "outputs": [],
   "metadata": {}
  },
  {
   "cell_type": "code",
   "execution_count": null,
   "source": [],
   "outputs": [],
   "metadata": {}
  },
  {
   "cell_type": "code",
   "execution_count": null,
   "source": [],
   "outputs": [],
   "metadata": {}
  },
  {
   "cell_type": "code",
   "execution_count": null,
   "source": [],
   "outputs": [],
   "metadata": {}
  },
  {
   "cell_type": "markdown",
   "source": [
    "## comparision between fits for self vs mean & ind_min"
   ],
   "metadata": {}
  },
  {
   "cell_type": "code",
   "execution_count": null,
   "source": [
    "def remove_outliers(df, columns):\n",
    "    for col in columns:\n",
    "        Q1 = df[col].quantile(0.25)\n",
    "        Q3 = df[col].quantile(0.75)\n",
    "        IQR = Q3 - Q1\n",
    "        lower_bound = Q1 - 1.5 * IQR\n",
    "        upper_bound = Q3 + 1.5 * IQR\n",
    "        df = df[(df[col] >= lower_bound) & (df[col] <= upper_bound)]\n",
    "    return df\n",
    "\n",
    "def plot_sep_dist(self, mean, other, ses_to_ses, remove_outlier):\n",
    "    df_bootstrap = pd.DataFrame()\n",
    "    df_bootstrap['self'] =[x for x in self if not np.isnan(x)]\n",
    "    df_bootstrap['mean'] = [x for x in mean if not np.isnan(x)]\n",
    "    df_bootstrap['other_ind_min'] = get_other_param(other, 'min')\n",
    "    \n",
    "    # trim the dataframe so that can exlude outliers\n",
    "    if remove_outlier == True:\n",
    "        df_bootstrap = remove_outliers(df_bootstrap, ['self', 'mean', 'other_ind_min'])\n",
    "\n",
    "    ###### plot self vs. mean\n",
    "    plt.figure(figsize=(10, 5))\n",
    "    plt.boxplot([df_bootstrap['self'], df_bootstrap['mean']], positions=[0, 1])\n",
    "    violin1 = sns.violinplot(data=df_bootstrap[['self', 'mean']], palette=['tab:red', 'tab:blue'], inner=None)\n",
    "    \n",
    "    for collection in violin1.collections:\n",
    "        collection.set_alpha(0.5)\n",
    "        \n",
    "    plt.scatter([0] * len(df_bootstrap['self']), df_bootstrap['self'], \n",
    "                color='tab:red', alpha = 0.1, label='self')\n",
    "    plt.scatter([1] * len(df_bootstrap['mean']), df_bootstrap['mean'], \n",
    "                color='tab:blue', alpha = 0.1, label='mean')\n",
    "    min_len = min(len(df_bootstrap['self']), len(df_bootstrap['mean']))\n",
    "    for i in range(min_len):\n",
    "        plt.plot([0, 1], [df_bootstrap['self'].iloc[i], df_bootstrap['mean'].iloc[i]], \n",
    "                 color='gray', linestyle='--', alpha=0.1)\n",
    "    \n",
    "    plt.title(f'Distribution of refitted rsme ({ses_to_ses}) \\n self vs mean')\n",
    "    t_stat, p_value = ttest_rel(df_bootstrap['self'], df_bootstrap['mean'])\n",
    "    plt.xticks([0, 1], ['self', 'mean'])\n",
    "    plt.text(0.35, -0.02, f't-test: {t_stat:.2f}, p-value: {p_value:.2f}')\n",
    "    plt.show()\n",
    "    \n",
    "    \n",
    "    \n",
    "    ######## plot self vs. ind_min\n",
    "    plt.figure(figsize=(10, 5))\n",
    "    plt.boxplot([df_bootstrap['self'], df_bootstrap['other_ind_min']], positions=[0, 1])\n",
    "    violin2 = sns.violinplot(data=df_bootstrap[['self', 'other_ind_min']], positions=[1,2], \n",
    "                   palette=['tab:red', 'tab:green'], inner=None)\n",
    "    \n",
    "    for collection in violin2.collections:\n",
    "        collection.set_alpha(0.5)\n",
    "    plt.scatter([0] * len(df_bootstrap['self']), df_bootstrap['self'], \n",
    "                color='tab:red', alpha = 0.1, label='self')\n",
    "    plt.scatter([1] * len(df_bootstrap['other_ind_min']), df_bootstrap['other_ind_min'], \n",
    "                color='tab:green', alpha = 0.1, label='other_ind_min')\n",
    "    min_len = min(len(df_bootstrap['self']), len(df_bootstrap['other_ind_min']))\n",
    "    for i in range(min_len):\n",
    "        plt.plot([0, 1], [df_bootstrap['self'].iloc[i], df_bootstrap['other_ind_min'].iloc[i]], \n",
    "                 color='gray', linestyle='--', alpha=0.1)\n",
    "    \n",
    "    \n",
    "    plt.title(f'Distribution of refitted rsme ({ses_to_ses}) \\n self vs other_ind_min')\n",
    "    t_stat, p_value = ttest_rel(df_bootstrap['self'], df_bootstrap['other_ind_min'])\n",
    "    plt.xticks([0, 1], ['self', 'other_ind_min'])\n",
    "    plt.text(0.35, -0.015, f't-test: {t_stat:.2f}, p-value: {p_value:.2f}')\n",
    "    plt.show()"
   ],
   "outputs": [],
   "metadata": {}
  },
  {
   "cell_type": "markdown",
   "source": [
    "### ses 1 to ses 1"
   ],
   "metadata": {}
  },
  {
   "cell_type": "code",
   "execution_count": null,
   "source": [
    "plot_sep_dist(self_rmse_ses1_t_ses1, mean_rmse_ses1_t_ses1, other_rmse_ses1_t_ses1, 'ses 1 to ses 1', False)"
   ],
   "outputs": [],
   "metadata": {
    "scrolled": false
   }
  },
  {
   "cell_type": "markdown",
   "source": [
    "### ses 1 to ses 2"
   ],
   "metadata": {}
  },
  {
   "cell_type": "code",
   "execution_count": null,
   "source": [
    "plot_sep_dist(self_rmse_ses1_t_ses2, mean_rmse_ses1_t_ses2, other_rmse_ses1_t_ses2, 'ses 1 to ses 2', False)"
   ],
   "outputs": [],
   "metadata": {}
  },
  {
   "cell_type": "markdown",
   "source": [
    "### ses 2 to ses 2"
   ],
   "metadata": {}
  },
  {
   "cell_type": "code",
   "execution_count": null,
   "source": [
    "plot_sep_dist(self_rmse_ses2_t_ses2, mean_rmse_ses2_t_ses2, other_rmse_ses2_t_ses2, 'ses 2 to ses 2', False)"
   ],
   "outputs": [],
   "metadata": {}
  },
  {
   "cell_type": "markdown",
   "source": [
    "### ses 2 to ses 1"
   ],
   "metadata": {}
  },
  {
   "cell_type": "code",
   "execution_count": null,
   "source": [
    "plot_sep_dist(self_rmse_ses2_t_ses1, mean_rmse_ses2_t_ses1, other_rmse_ses2_t_ses1, 'ses 2 to ses 1', False)"
   ],
   "outputs": [],
   "metadata": {}
  },
  {
   "cell_type": "markdown",
   "source": [
    "## plot between self-->self to see if one session fit is better than another"
   ],
   "metadata": {}
  },
  {
   "cell_type": "code",
   "execution_count": null,
   "source": [
    "plt.figure(figsize=(10, 5))\n",
    "self_rmse_ses1_t_ses2_clean = [x for x in self_rmse_ses1_t_ses2 if not np.isnan(x)]\n",
    "self_rmse_ses2_t_ses1_clean = [x for x in self_rmse_ses2_t_ses1 if not np.isnan(x)]\n",
    "\n",
    "\n",
    "plt.boxplot([self_rmse_ses1_t_ses2_clean, self_rmse_ses2_t_ses1_clean], positions=[0, 1])\n",
    "violin = sns.violinplot([self_rmse_ses1_t_ses2_clean, self_rmse_ses2_t_ses1_clean], \n",
    "                        palette=['tab:red', 'tab:purple'], inner = None)\n",
    "\n",
    "for col in violin.collections:\n",
    "    col.set_alpha(0.5)\n",
    "\n",
    "plt.scatter([0] * len(self_rmse_ses1_t_ses2_clean), self_rmse_ses1_t_ses2_clean, \n",
    "            color='tab:red', alpha = 0.1, label='ses1-ses2')\n",
    "plt.scatter([1] * len(self_rmse_ses2_t_ses1_clean), self_rmse_ses2_t_ses1_clean, \n",
    "            color='tab:purple', alpha = 0.1, label='ses2-ses1')\n",
    "min_len = min(len(self_rmse_ses1_t_ses2_clean), len(self_rmse_ses2_t_ses1_clean))\n",
    "for i in range(min_len):\n",
    "    plt.plot([0, 1], [self_rmse_ses1_t_ses2_clean[i], self_rmse_ses2_t_ses1_clean[i]], \n",
    "             color='gray', linestyle='--', alpha=0.1)\n",
    "\n",
    "plt.title(f'Distribution of refitted rsme (ses1-ses2 vs ses2-ses1')\n",
    "\n",
    "t_stat, p_value = ttest_rel(self_rmse_ses1_t_ses2_clean, self_rmse_ses2_t_ses1_clean)\n",
    "plt.xticks([0, 1], ['ses1-ses2', 'ses2-ses1'])\n",
    "plt.text(0.35, -0.02, f't-test: {t_stat:.2f}, p-value: {p_value:.2f}')\n",
    "plt.show()"
   ],
   "outputs": [],
   "metadata": {}
  },
  {
   "cell_type": "code",
   "execution_count": null,
   "source": [],
   "outputs": [],
   "metadata": {}
  }
 ],
 "metadata": {
  "kernelspec": {
   "name": "python3",
   "display_name": "Python 3.7.11 64-bit ('py37': conda)"
  },
  "language_info": {
   "codemirror_mode": {
    "name": "ipython",
    "version": 3
   },
   "file_extension": ".py",
   "mimetype": "text/x-python",
   "name": "python",
   "nbconvert_exporter": "python",
   "pygments_lexer": "ipython3",
   "version": "3.7.11"
  },
  "interpreter": {
   "hash": "30fd9c97283ec1278eec212a8f8afab06ad903f38228c32cacb469eba8e56f4f"
  }
 },
 "nbformat": 4,
 "nbformat_minor": 5
}
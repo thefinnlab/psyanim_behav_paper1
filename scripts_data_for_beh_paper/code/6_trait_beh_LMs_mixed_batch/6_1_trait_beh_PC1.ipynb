{
 "cells": [
  {
   "cell_type": "code",
   "execution_count": 1,
   "source": [
    "print(\"Hello, R in Jupyter!\")"
   ],
   "outputs": [
    {
     "output_type": "stream",
     "name": "stdout",
     "text": [
      "[1] \"Hello, R in Jupyter!\"\n"
     ]
    }
   ],
   "metadata": {}
  },
  {
   "cell_type": "code",
   "execution_count": 2,
   "source": [
    "# Basic arithmetic\n",
    "result <- 2 + 2\n",
    "print(result)"
   ],
   "outputs": [
    {
     "output_type": "stream",
     "name": "stdout",
     "text": [
      "[1] 4\n"
     ]
    }
   ],
   "metadata": {}
  },
  {
   "cell_type": "code",
   "execution_count": 3,
   "source": [
    "root_dir = '../../data/subtlety_playfight_data/'#/Users/f0053cz/Documents/psyanim_v2/scripts_for_beh_paper/data/subtlety_playfight_data/'\n",
    "data <- read.csv(paste(root_dir,'curvefit_traits_merged_linearpf_withPC1.csv', sep = \"/\"))\n",
    "# print(data)\n",
    "head(data, 5)"
   ],
   "outputs": [
    {
     "output_type": "display_data",
     "data": {
      "text/html": [
       "<table class=\"dataframe\">\n",
       "<caption>A data.frame: 5 × 44</caption>\n",
       "<thead>\n",
       "\t<tr><th></th><th scope=col>X</th><th scope=col>index</th><th scope=col>subID</th><th scope=col>r_squared_subt</th><th scope=col>nrmse_subt</th><th scope=col>aic_subt</th><th scope=col>center</th><th scope=col>PSE_subt</th><th scope=col>sigma_subt</th><th scope=col>bias_xmin_subt</th><th scope=col>⋯</th><th scope=col>posAffect</th><th scope=col>negAffect</th><th scope=col>neuroticism</th><th scope=col>extraversion</th><th scope=col>openness</th><th scope=col>agreeableness</th><th scope=col>conscientiousness</th><th scope=col>loneliness</th><th scope=col>nfriends</th><th scope=col>PC1</th></tr>\n",
       "\t<tr><th></th><th scope=col>&lt;int&gt;</th><th scope=col>&lt;int&gt;</th><th scope=col>&lt;dbl&gt;</th><th scope=col>&lt;dbl&gt;</th><th scope=col>&lt;dbl&gt;</th><th scope=col>&lt;dbl&gt;</th><th scope=col>&lt;dbl&gt;</th><th scope=col>&lt;dbl&gt;</th><th scope=col>&lt;dbl&gt;</th><th scope=col>&lt;dbl&gt;</th><th scope=col>⋯</th><th scope=col>&lt;dbl&gt;</th><th scope=col>&lt;dbl&gt;</th><th scope=col>&lt;dbl&gt;</th><th scope=col>&lt;dbl&gt;</th><th scope=col>&lt;dbl&gt;</th><th scope=col>&lt;dbl&gt;</th><th scope=col>&lt;dbl&gt;</th><th scope=col>&lt;dbl&gt;</th><th scope=col>&lt;dbl&gt;</th><th scope=col>&lt;dbl&gt;</th></tr>\n",
       "</thead>\n",
       "<tbody>\n",
       "\t<tr><th scope=row>1</th><td>0</td><td>0</td><td>30002</td><td>0.9789465</td><td>0.05958450</td><td>-35.48504</td><td>0.5461832</td><td>0.5529510</td><td>0.10335957</td><td>0.031291240</td><td>⋯</td><td>20</td><td> 0</td><td>38</td><td>28.00000</td><td>31.00000</td><td>34</td><td>39</td><td>56</td><td>3</td><td> 16.10785</td></tr>\n",
       "\t<tr><th scope=row>2</th><td>1</td><td>1</td><td>30004</td><td>0.9947840</td><td>0.03131009</td><td>-44.49341</td><td>0.3112003</td><td>0.2768959</td><td>0.07686605</td><td>0.194060972</td><td>⋯</td><td>25</td><td>11</td><td>38</td><td>26.18182</td><td>50.00000</td><td>50</td><td>46</td><td>56</td><td>3</td><td> 13.40826</td></tr>\n",
       "\t<tr><th scope=row>3</th><td>2</td><td>2</td><td>30005</td><td>0.9856356</td><td>0.04832041</td><td>-38.41862</td><td>0.3800630</td><td>0.3205832</td><td>0.11535284</td><td>0.249788688</td><td>⋯</td><td>20</td><td>21</td><td>51</td><td>39.00000</td><td>40.00000</td><td>43</td><td>19</td><td>41</td><td>5</td><td> 20.62867</td></tr>\n",
       "\t<tr><th scope=row>4</th><td>3</td><td>3</td><td>30006</td><td>0.9837098</td><td>0.05739903</td><td>-36.00819</td><td>0.4658866</td><td>0.4648232</td><td>0.07922090</td><td>0.009432723</td><td>⋯</td><td>25</td><td> 0</td><td>18</td><td>41.00000</td><td>31.00000</td><td>44</td><td>57</td><td>30</td><td>4</td><td>-27.57041</td></tr>\n",
       "\t<tr><th scope=row>5</th><td>4</td><td>4</td><td>30008</td><td>0.9007922</td><td>0.11023567</td><td>-26.87189</td><td>0.3854147</td><td>0.3251178</td><td>0.17258480</td><td>0.289378203</td><td>⋯</td><td>28</td><td> 4</td><td>27</td><td>46.00000</td><td>42.54545</td><td>46</td><td>50</td><td>45</td><td>5</td><td>-12.51604</td></tr>\n",
       "</tbody>\n",
       "</table>\n"
      ],
      "text/latex": [
       "A data.frame: 5 × 44\n",
       "\\begin{tabular}{r|lllllllllllllllllllll}\n",
       "  & X & index & subID & r\\_squared\\_subt & nrmse\\_subt & aic\\_subt & center & PSE\\_subt & sigma\\_subt & bias\\_xmin\\_subt & ⋯ & posAffect & negAffect & neuroticism & extraversion & openness & agreeableness & conscientiousness & loneliness & nfriends & PC1\\\\\n",
       "  & <int> & <int> & <dbl> & <dbl> & <dbl> & <dbl> & <dbl> & <dbl> & <dbl> & <dbl> & ⋯ & <dbl> & <dbl> & <dbl> & <dbl> & <dbl> & <dbl> & <dbl> & <dbl> & <dbl> & <dbl>\\\\\n",
       "\\hline\n",
       "\t1 & 0 & 0 & 30002 & 0.9789465 & 0.05958450 & -35.48504 & 0.5461832 & 0.5529510 & 0.10335957 & 0.031291240 & ⋯ & 20 &  0 & 38 & 28.00000 & 31.00000 & 34 & 39 & 56 & 3 &  16.10785\\\\\n",
       "\t2 & 1 & 1 & 30004 & 0.9947840 & 0.03131009 & -44.49341 & 0.3112003 & 0.2768959 & 0.07686605 & 0.194060972 & ⋯ & 25 & 11 & 38 & 26.18182 & 50.00000 & 50 & 46 & 56 & 3 &  13.40826\\\\\n",
       "\t3 & 2 & 2 & 30005 & 0.9856356 & 0.04832041 & -38.41862 & 0.3800630 & 0.3205832 & 0.11535284 & 0.249788688 & ⋯ & 20 & 21 & 51 & 39.00000 & 40.00000 & 43 & 19 & 41 & 5 &  20.62867\\\\\n",
       "\t4 & 3 & 3 & 30006 & 0.9837098 & 0.05739903 & -36.00819 & 0.4658866 & 0.4648232 & 0.07922090 & 0.009432723 & ⋯ & 25 &  0 & 18 & 41.00000 & 31.00000 & 44 & 57 & 30 & 4 & -27.57041\\\\\n",
       "\t5 & 4 & 4 & 30008 & 0.9007922 & 0.11023567 & -26.87189 & 0.3854147 & 0.3251178 & 0.17258480 & 0.289378203 & ⋯ & 28 &  4 & 27 & 46.00000 & 42.54545 & 46 & 50 & 45 & 5 & -12.51604\\\\\n",
       "\\end{tabular}\n"
      ],
      "text/markdown": [
       "\n",
       "A data.frame: 5 × 44\n",
       "\n",
       "| <!--/--> | X &lt;int&gt; | index &lt;int&gt; | subID &lt;dbl&gt; | r_squared_subt &lt;dbl&gt; | nrmse_subt &lt;dbl&gt; | aic_subt &lt;dbl&gt; | center &lt;dbl&gt; | PSE_subt &lt;dbl&gt; | sigma_subt &lt;dbl&gt; | bias_xmin_subt &lt;dbl&gt; | ⋯ ⋯ | posAffect &lt;dbl&gt; | negAffect &lt;dbl&gt; | neuroticism &lt;dbl&gt; | extraversion &lt;dbl&gt; | openness &lt;dbl&gt; | agreeableness &lt;dbl&gt; | conscientiousness &lt;dbl&gt; | loneliness &lt;dbl&gt; | nfriends &lt;dbl&gt; | PC1 &lt;dbl&gt; |\n",
       "|---|---|---|---|---|---|---|---|---|---|---|---|---|---|---|---|---|---|---|---|---|---|\n",
       "| 1 | 0 | 0 | 30002 | 0.9789465 | 0.05958450 | -35.48504 | 0.5461832 | 0.5529510 | 0.10335957 | 0.031291240 | ⋯ | 20 |  0 | 38 | 28.00000 | 31.00000 | 34 | 39 | 56 | 3 |  16.10785 |\n",
       "| 2 | 1 | 1 | 30004 | 0.9947840 | 0.03131009 | -44.49341 | 0.3112003 | 0.2768959 | 0.07686605 | 0.194060972 | ⋯ | 25 | 11 | 38 | 26.18182 | 50.00000 | 50 | 46 | 56 | 3 |  13.40826 |\n",
       "| 3 | 2 | 2 | 30005 | 0.9856356 | 0.04832041 | -38.41862 | 0.3800630 | 0.3205832 | 0.11535284 | 0.249788688 | ⋯ | 20 | 21 | 51 | 39.00000 | 40.00000 | 43 | 19 | 41 | 5 |  20.62867 |\n",
       "| 4 | 3 | 3 | 30006 | 0.9837098 | 0.05739903 | -36.00819 | 0.4658866 | 0.4648232 | 0.07922090 | 0.009432723 | ⋯ | 25 |  0 | 18 | 41.00000 | 31.00000 | 44 | 57 | 30 | 4 | -27.57041 |\n",
       "| 5 | 4 | 4 | 30008 | 0.9007922 | 0.11023567 | -26.87189 | 0.3854147 | 0.3251178 | 0.17258480 | 0.289378203 | ⋯ | 28 |  4 | 27 | 46.00000 | 42.54545 | 46 | 50 | 45 | 5 | -12.51604 |\n",
       "\n"
      ],
      "text/plain": [
       "  X index subID r_squared_subt nrmse_subt aic_subt  center    PSE_subt \n",
       "1 0 0     30002 0.9789465      0.05958450 -35.48504 0.5461832 0.5529510\n",
       "2 1 1     30004 0.9947840      0.03131009 -44.49341 0.3112003 0.2768959\n",
       "3 2 2     30005 0.9856356      0.04832041 -38.41862 0.3800630 0.3205832\n",
       "4 3 3     30006 0.9837098      0.05739903 -36.00819 0.4658866 0.4648232\n",
       "5 4 4     30008 0.9007922      0.11023567 -26.87189 0.3854147 0.3251178\n",
       "  sigma_subt bias_xmin_subt ⋯ posAffect negAffect neuroticism extraversion\n",
       "1 0.10335957 0.031291240    ⋯ 20         0        38          28.00000    \n",
       "2 0.07686605 0.194060972    ⋯ 25        11        38          26.18182    \n",
       "3 0.11535284 0.249788688    ⋯ 20        21        51          39.00000    \n",
       "4 0.07922090 0.009432723    ⋯ 25         0        18          41.00000    \n",
       "5 0.17258480 0.289378203    ⋯ 28         4        27          46.00000    \n",
       "  openness agreeableness conscientiousness loneliness nfriends PC1      \n",
       "1 31.00000 34            39                56         3         16.10785\n",
       "2 50.00000 50            46                56         3         13.40826\n",
       "3 40.00000 43            19                41         5         20.62867\n",
       "4 31.00000 44            57                30         4        -27.57041\n",
       "5 42.54545 46            50                45         5        -12.51604"
      ]
     },
     "metadata": {}
    }
   ],
   "metadata": {}
  },
  {
   "cell_type": "code",
   "execution_count": 4,
   "source": [
    "colnames(data)"
   ],
   "outputs": [
    {
     "output_type": "display_data",
     "data": {
      "text/html": [
       "<style>\n",
       ".list-inline {list-style: none; margin:0; padding: 0}\n",
       ".list-inline>li {display: inline-block}\n",
       ".list-inline>li:not(:last-child)::after {content: \"\\00b7\"; padding: 0 .5ex}\n",
       "</style>\n",
       "<ol class=list-inline><li>'X'</li><li>'index'</li><li>'subID'</li><li>'r_squared_subt'</li><li>'nrmse_subt'</li><li>'aic_subt'</li><li>'center'</li><li>'PSE_subt'</li><li>'sigma_subt'</li><li>'bias_xmin_subt'</li><li>'bias_xmax_subt'</li><li>'bias_lower_subt'</li><li>'bias_upper_subt'</li><li>'flipped_subt'</li><li>'range_subt'</li><li>'bias_subt'</li><li>'r_squared_pf'</li><li>'nrmse_pf'</li><li>'aic_pf'</li><li>'PSE_pf'</li><li>'slope_pf'</li><li>'intercept'</li><li>'bias_xmin_pf'</li><li>'bias_xmax_pf'</li><li>'bias_lower_pf'</li><li>'bias_upper_pf'</li><li>'flipped_pf'</li><li>'range_pf'</li><li>'bias_pf'</li><li>'social_skill'</li><li>'attn_switch'</li><li>'img'</li><li>'attn_to_det'</li><li>'comm'</li><li>'posAffect'</li><li>'negAffect'</li><li>'neuroticism'</li><li>'extraversion'</li><li>'openness'</li><li>'agreeableness'</li><li>'conscientiousness'</li><li>'loneliness'</li><li>'nfriends'</li><li>'PC1'</li></ol>\n"
      ],
      "text/latex": [
       "\\begin{enumerate*}\n",
       "\\item 'X'\n",
       "\\item 'index'\n",
       "\\item 'subID'\n",
       "\\item 'r\\_squared\\_subt'\n",
       "\\item 'nrmse\\_subt'\n",
       "\\item 'aic\\_subt'\n",
       "\\item 'center'\n",
       "\\item 'PSE\\_subt'\n",
       "\\item 'sigma\\_subt'\n",
       "\\item 'bias\\_xmin\\_subt'\n",
       "\\item 'bias\\_xmax\\_subt'\n",
       "\\item 'bias\\_lower\\_subt'\n",
       "\\item 'bias\\_upper\\_subt'\n",
       "\\item 'flipped\\_subt'\n",
       "\\item 'range\\_subt'\n",
       "\\item 'bias\\_subt'\n",
       "\\item 'r\\_squared\\_pf'\n",
       "\\item 'nrmse\\_pf'\n",
       "\\item 'aic\\_pf'\n",
       "\\item 'PSE\\_pf'\n",
       "\\item 'slope\\_pf'\n",
       "\\item 'intercept'\n",
       "\\item 'bias\\_xmin\\_pf'\n",
       "\\item 'bias\\_xmax\\_pf'\n",
       "\\item 'bias\\_lower\\_pf'\n",
       "\\item 'bias\\_upper\\_pf'\n",
       "\\item 'flipped\\_pf'\n",
       "\\item 'range\\_pf'\n",
       "\\item 'bias\\_pf'\n",
       "\\item 'social\\_skill'\n",
       "\\item 'attn\\_switch'\n",
       "\\item 'img'\n",
       "\\item 'attn\\_to\\_det'\n",
       "\\item 'comm'\n",
       "\\item 'posAffect'\n",
       "\\item 'negAffect'\n",
       "\\item 'neuroticism'\n",
       "\\item 'extraversion'\n",
       "\\item 'openness'\n",
       "\\item 'agreeableness'\n",
       "\\item 'conscientiousness'\n",
       "\\item 'loneliness'\n",
       "\\item 'nfriends'\n",
       "\\item 'PC1'\n",
       "\\end{enumerate*}\n"
      ],
      "text/markdown": [
       "1. 'X'\n",
       "2. 'index'\n",
       "3. 'subID'\n",
       "4. 'r_squared_subt'\n",
       "5. 'nrmse_subt'\n",
       "6. 'aic_subt'\n",
       "7. 'center'\n",
       "8. 'PSE_subt'\n",
       "9. 'sigma_subt'\n",
       "10. 'bias_xmin_subt'\n",
       "11. 'bias_xmax_subt'\n",
       "12. 'bias_lower_subt'\n",
       "13. 'bias_upper_subt'\n",
       "14. 'flipped_subt'\n",
       "15. 'range_subt'\n",
       "16. 'bias_subt'\n",
       "17. 'r_squared_pf'\n",
       "18. 'nrmse_pf'\n",
       "19. 'aic_pf'\n",
       "20. 'PSE_pf'\n",
       "21. 'slope_pf'\n",
       "22. 'intercept'\n",
       "23. 'bias_xmin_pf'\n",
       "24. 'bias_xmax_pf'\n",
       "25. 'bias_lower_pf'\n",
       "26. 'bias_upper_pf'\n",
       "27. 'flipped_pf'\n",
       "28. 'range_pf'\n",
       "29. 'bias_pf'\n",
       "30. 'social_skill'\n",
       "31. 'attn_switch'\n",
       "32. 'img'\n",
       "33. 'attn_to_det'\n",
       "34. 'comm'\n",
       "35. 'posAffect'\n",
       "36. 'negAffect'\n",
       "37. 'neuroticism'\n",
       "38. 'extraversion'\n",
       "39. 'openness'\n",
       "40. 'agreeableness'\n",
       "41. 'conscientiousness'\n",
       "42. 'loneliness'\n",
       "43. 'nfriends'\n",
       "44. 'PC1'\n",
       "\n",
       "\n"
      ],
      "text/plain": [
       " [1] \"X\"                 \"index\"             \"subID\"            \n",
       " [4] \"r_squared_subt\"    \"nrmse_subt\"        \"aic_subt\"         \n",
       " [7] \"center\"            \"PSE_subt\"          \"sigma_subt\"       \n",
       "[10] \"bias_xmin_subt\"    \"bias_xmax_subt\"    \"bias_lower_subt\"  \n",
       "[13] \"bias_upper_subt\"   \"flipped_subt\"      \"range_subt\"       \n",
       "[16] \"bias_subt\"         \"r_squared_pf\"      \"nrmse_pf\"         \n",
       "[19] \"aic_pf\"            \"PSE_pf\"            \"slope_pf\"         \n",
       "[22] \"intercept\"         \"bias_xmin_pf\"      \"bias_xmax_pf\"     \n",
       "[25] \"bias_lower_pf\"     \"bias_upper_pf\"     \"flipped_pf\"       \n",
       "[28] \"range_pf\"          \"bias_pf\"           \"social_skill\"     \n",
       "[31] \"attn_switch\"       \"img\"               \"attn_to_det\"      \n",
       "[34] \"comm\"              \"posAffect\"         \"negAffect\"        \n",
       "[37] \"neuroticism\"       \"extraversion\"      \"openness\"         \n",
       "[40] \"agreeableness\"     \"conscientiousness\" \"loneliness\"       \n",
       "[43] \"nfriends\"          \"PC1\"              "
      ]
     },
     "metadata": {}
    }
   ],
   "metadata": {}
  },
  {
   "cell_type": "code",
   "execution_count": 5,
   "source": [
    "# Print the dimensions of the data frame\n",
    "print(dim(data))\n",
    "\n",
    "# Drop rows with NA values\n",
    "data <- na.omit(data)\n",
    "\n",
    "# Print the dimensions of the data frame after dropping NA values\n",
    "print(dim(data))"
   ],
   "outputs": [
    {
     "output_type": "stream",
     "name": "stdout",
     "text": [
      "[1] 275  44\n",
      "[1] 275  44\n"
     ]
    }
   ],
   "metadata": {}
  },
  {
   "cell_type": "code",
   "execution_count": 6,
   "source": [
    "trait <- 'PC1'"
   ],
   "outputs": [],
   "metadata": {}
  },
  {
   "cell_type": "code",
   "execution_count": 7,
   "source": [
    "# new_terms = ['obj_center','amplitude','bias_xmin_norm','sigma']\n",
    "new_terms <- c(trait,'PSE_subt', 'range_subt', 'bias_subt', 'sigma_subt', 'PSE_pf', 'range_pf', 'bias_pf', 'slope_pf')\n",
    "new_terms"
   ],
   "outputs": [
    {
     "output_type": "display_data",
     "data": {
      "text/html": [
       "<style>\n",
       ".list-inline {list-style: none; margin:0; padding: 0}\n",
       ".list-inline>li {display: inline-block}\n",
       ".list-inline>li:not(:last-child)::after {content: \"\\00b7\"; padding: 0 .5ex}\n",
       "</style>\n",
       "<ol class=list-inline><li>'PC1'</li><li>'PSE_subt'</li><li>'range_subt'</li><li>'bias_subt'</li><li>'sigma_subt'</li><li>'PSE_pf'</li><li>'range_pf'</li><li>'bias_pf'</li><li>'slope_pf'</li></ol>\n"
      ],
      "text/latex": [
       "\\begin{enumerate*}\n",
       "\\item 'PC1'\n",
       "\\item 'PSE\\_subt'\n",
       "\\item 'range\\_subt'\n",
       "\\item 'bias\\_subt'\n",
       "\\item 'sigma\\_subt'\n",
       "\\item 'PSE\\_pf'\n",
       "\\item 'range\\_pf'\n",
       "\\item 'bias\\_pf'\n",
       "\\item 'slope\\_pf'\n",
       "\\end{enumerate*}\n"
      ],
      "text/markdown": [
       "1. 'PC1'\n",
       "2. 'PSE_subt'\n",
       "3. 'range_subt'\n",
       "4. 'bias_subt'\n",
       "5. 'sigma_subt'\n",
       "6. 'PSE_pf'\n",
       "7. 'range_pf'\n",
       "8. 'bias_pf'\n",
       "9. 'slope_pf'\n",
       "\n",
       "\n"
      ],
      "text/plain": [
       "[1] \"PC1\"        \"PSE_subt\"   \"range_subt\" \"bias_subt\"  \"sigma_subt\"\n",
       "[6] \"PSE_pf\"     \"range_pf\"   \"bias_pf\"    \"slope_pf\"  "
      ]
     },
     "metadata": {}
    }
   ],
   "metadata": {}
  },
  {
   "cell_type": "markdown",
   "source": [
    "# mult reg (relevant traits and curve fits)"
   ],
   "metadata": {}
  },
  {
   "cell_type": "code",
   "execution_count": 8,
   "source": [
    "# install.packages(\"dplyr\")\n",
    "library(dplyr)\n",
    "\n",
    "# # Rename specific columns\n",
    "# data <- data %>% rename(\n",
    "#   pos_affect = Positive_reweigh,\n",
    "#   PSE_subt = obj_center_subt,\n",
    "#   range_subt = amplitude_subt,\n",
    "#   bias_subt = bias_xmin_norm_subt,\n",
    "#   PSE_pf = obj_center_pf,\n",
    "#   range_pf = amplitude_pf,\n",
    "#   bias_pf = bias_xmin_norm_pf,\n",
    "#   PSE_diff = obj_center_diff,\n",
    "#   range_diff = amplitude_diff,\n",
    "#   bias_diff = bias_xmin_norm_diff\n",
    "# )"
   ],
   "outputs": [
    {
     "output_type": "stream",
     "name": "stderr",
     "text": [
      "\n",
      "Attaching package: ‘dplyr’\n",
      "\n",
      "\n",
      "The following objects are masked from ‘package:stats’:\n",
      "\n",
      "    filter, lag\n",
      "\n",
      "\n",
      "The following objects are masked from ‘package:base’:\n",
      "\n",
      "    intersect, setdiff, setequal, union\n",
      "\n",
      "\n"
     ]
    }
   ],
   "metadata": {}
  },
  {
   "cell_type": "code",
   "execution_count": 9,
   "source": [
    "head(data, 5)"
   ],
   "outputs": [
    {
     "output_type": "display_data",
     "data": {
      "text/html": [
       "<table class=\"dataframe\">\n",
       "<caption>A data.frame: 5 × 44</caption>\n",
       "<thead>\n",
       "\t<tr><th></th><th scope=col>X</th><th scope=col>index</th><th scope=col>subID</th><th scope=col>r_squared_subt</th><th scope=col>nrmse_subt</th><th scope=col>aic_subt</th><th scope=col>center</th><th scope=col>PSE_subt</th><th scope=col>sigma_subt</th><th scope=col>bias_xmin_subt</th><th scope=col>⋯</th><th scope=col>posAffect</th><th scope=col>negAffect</th><th scope=col>neuroticism</th><th scope=col>extraversion</th><th scope=col>openness</th><th scope=col>agreeableness</th><th scope=col>conscientiousness</th><th scope=col>loneliness</th><th scope=col>nfriends</th><th scope=col>PC1</th></tr>\n",
       "\t<tr><th></th><th scope=col>&lt;int&gt;</th><th scope=col>&lt;int&gt;</th><th scope=col>&lt;dbl&gt;</th><th scope=col>&lt;dbl&gt;</th><th scope=col>&lt;dbl&gt;</th><th scope=col>&lt;dbl&gt;</th><th scope=col>&lt;dbl&gt;</th><th scope=col>&lt;dbl&gt;</th><th scope=col>&lt;dbl&gt;</th><th scope=col>&lt;dbl&gt;</th><th scope=col>⋯</th><th scope=col>&lt;dbl&gt;</th><th scope=col>&lt;dbl&gt;</th><th scope=col>&lt;dbl&gt;</th><th scope=col>&lt;dbl&gt;</th><th scope=col>&lt;dbl&gt;</th><th scope=col>&lt;dbl&gt;</th><th scope=col>&lt;dbl&gt;</th><th scope=col>&lt;dbl&gt;</th><th scope=col>&lt;dbl&gt;</th><th scope=col>&lt;dbl&gt;</th></tr>\n",
       "</thead>\n",
       "<tbody>\n",
       "\t<tr><th scope=row>1</th><td>0</td><td>0</td><td>30002</td><td>0.9789465</td><td>0.05958450</td><td>-35.48504</td><td>0.5461832</td><td>0.5529510</td><td>0.10335957</td><td>0.031291240</td><td>⋯</td><td>20</td><td> 0</td><td>38</td><td>28.00000</td><td>31.00000</td><td>34</td><td>39</td><td>56</td><td>3</td><td> 16.10785</td></tr>\n",
       "\t<tr><th scope=row>2</th><td>1</td><td>1</td><td>30004</td><td>0.9947840</td><td>0.03131009</td><td>-44.49341</td><td>0.3112003</td><td>0.2768959</td><td>0.07686605</td><td>0.194060972</td><td>⋯</td><td>25</td><td>11</td><td>38</td><td>26.18182</td><td>50.00000</td><td>50</td><td>46</td><td>56</td><td>3</td><td> 13.40826</td></tr>\n",
       "\t<tr><th scope=row>3</th><td>2</td><td>2</td><td>30005</td><td>0.9856356</td><td>0.04832041</td><td>-38.41862</td><td>0.3800630</td><td>0.3205832</td><td>0.11535284</td><td>0.249788688</td><td>⋯</td><td>20</td><td>21</td><td>51</td><td>39.00000</td><td>40.00000</td><td>43</td><td>19</td><td>41</td><td>5</td><td> 20.62867</td></tr>\n",
       "\t<tr><th scope=row>4</th><td>3</td><td>3</td><td>30006</td><td>0.9837098</td><td>0.05739903</td><td>-36.00819</td><td>0.4658866</td><td>0.4648232</td><td>0.07922090</td><td>0.009432723</td><td>⋯</td><td>25</td><td> 0</td><td>18</td><td>41.00000</td><td>31.00000</td><td>44</td><td>57</td><td>30</td><td>4</td><td>-27.57041</td></tr>\n",
       "\t<tr><th scope=row>5</th><td>4</td><td>4</td><td>30008</td><td>0.9007922</td><td>0.11023567</td><td>-26.87189</td><td>0.3854147</td><td>0.3251178</td><td>0.17258480</td><td>0.289378203</td><td>⋯</td><td>28</td><td> 4</td><td>27</td><td>46.00000</td><td>42.54545</td><td>46</td><td>50</td><td>45</td><td>5</td><td>-12.51604</td></tr>\n",
       "</tbody>\n",
       "</table>\n"
      ],
      "text/latex": [
       "A data.frame: 5 × 44\n",
       "\\begin{tabular}{r|lllllllllllllllllllll}\n",
       "  & X & index & subID & r\\_squared\\_subt & nrmse\\_subt & aic\\_subt & center & PSE\\_subt & sigma\\_subt & bias\\_xmin\\_subt & ⋯ & posAffect & negAffect & neuroticism & extraversion & openness & agreeableness & conscientiousness & loneliness & nfriends & PC1\\\\\n",
       "  & <int> & <int> & <dbl> & <dbl> & <dbl> & <dbl> & <dbl> & <dbl> & <dbl> & <dbl> & ⋯ & <dbl> & <dbl> & <dbl> & <dbl> & <dbl> & <dbl> & <dbl> & <dbl> & <dbl> & <dbl>\\\\\n",
       "\\hline\n",
       "\t1 & 0 & 0 & 30002 & 0.9789465 & 0.05958450 & -35.48504 & 0.5461832 & 0.5529510 & 0.10335957 & 0.031291240 & ⋯ & 20 &  0 & 38 & 28.00000 & 31.00000 & 34 & 39 & 56 & 3 &  16.10785\\\\\n",
       "\t2 & 1 & 1 & 30004 & 0.9947840 & 0.03131009 & -44.49341 & 0.3112003 & 0.2768959 & 0.07686605 & 0.194060972 & ⋯ & 25 & 11 & 38 & 26.18182 & 50.00000 & 50 & 46 & 56 & 3 &  13.40826\\\\\n",
       "\t3 & 2 & 2 & 30005 & 0.9856356 & 0.04832041 & -38.41862 & 0.3800630 & 0.3205832 & 0.11535284 & 0.249788688 & ⋯ & 20 & 21 & 51 & 39.00000 & 40.00000 & 43 & 19 & 41 & 5 &  20.62867\\\\\n",
       "\t4 & 3 & 3 & 30006 & 0.9837098 & 0.05739903 & -36.00819 & 0.4658866 & 0.4648232 & 0.07922090 & 0.009432723 & ⋯ & 25 &  0 & 18 & 41.00000 & 31.00000 & 44 & 57 & 30 & 4 & -27.57041\\\\\n",
       "\t5 & 4 & 4 & 30008 & 0.9007922 & 0.11023567 & -26.87189 & 0.3854147 & 0.3251178 & 0.17258480 & 0.289378203 & ⋯ & 28 &  4 & 27 & 46.00000 & 42.54545 & 46 & 50 & 45 & 5 & -12.51604\\\\\n",
       "\\end{tabular}\n"
      ],
      "text/markdown": [
       "\n",
       "A data.frame: 5 × 44\n",
       "\n",
       "| <!--/--> | X &lt;int&gt; | index &lt;int&gt; | subID &lt;dbl&gt; | r_squared_subt &lt;dbl&gt; | nrmse_subt &lt;dbl&gt; | aic_subt &lt;dbl&gt; | center &lt;dbl&gt; | PSE_subt &lt;dbl&gt; | sigma_subt &lt;dbl&gt; | bias_xmin_subt &lt;dbl&gt; | ⋯ ⋯ | posAffect &lt;dbl&gt; | negAffect &lt;dbl&gt; | neuroticism &lt;dbl&gt; | extraversion &lt;dbl&gt; | openness &lt;dbl&gt; | agreeableness &lt;dbl&gt; | conscientiousness &lt;dbl&gt; | loneliness &lt;dbl&gt; | nfriends &lt;dbl&gt; | PC1 &lt;dbl&gt; |\n",
       "|---|---|---|---|---|---|---|---|---|---|---|---|---|---|---|---|---|---|---|---|---|---|\n",
       "| 1 | 0 | 0 | 30002 | 0.9789465 | 0.05958450 | -35.48504 | 0.5461832 | 0.5529510 | 0.10335957 | 0.031291240 | ⋯ | 20 |  0 | 38 | 28.00000 | 31.00000 | 34 | 39 | 56 | 3 |  16.10785 |\n",
       "| 2 | 1 | 1 | 30004 | 0.9947840 | 0.03131009 | -44.49341 | 0.3112003 | 0.2768959 | 0.07686605 | 0.194060972 | ⋯ | 25 | 11 | 38 | 26.18182 | 50.00000 | 50 | 46 | 56 | 3 |  13.40826 |\n",
       "| 3 | 2 | 2 | 30005 | 0.9856356 | 0.04832041 | -38.41862 | 0.3800630 | 0.3205832 | 0.11535284 | 0.249788688 | ⋯ | 20 | 21 | 51 | 39.00000 | 40.00000 | 43 | 19 | 41 | 5 |  20.62867 |\n",
       "| 4 | 3 | 3 | 30006 | 0.9837098 | 0.05739903 | -36.00819 | 0.4658866 | 0.4648232 | 0.07922090 | 0.009432723 | ⋯ | 25 |  0 | 18 | 41.00000 | 31.00000 | 44 | 57 | 30 | 4 | -27.57041 |\n",
       "| 5 | 4 | 4 | 30008 | 0.9007922 | 0.11023567 | -26.87189 | 0.3854147 | 0.3251178 | 0.17258480 | 0.289378203 | ⋯ | 28 |  4 | 27 | 46.00000 | 42.54545 | 46 | 50 | 45 | 5 | -12.51604 |\n",
       "\n"
      ],
      "text/plain": [
       "  X index subID r_squared_subt nrmse_subt aic_subt  center    PSE_subt \n",
       "1 0 0     30002 0.9789465      0.05958450 -35.48504 0.5461832 0.5529510\n",
       "2 1 1     30004 0.9947840      0.03131009 -44.49341 0.3112003 0.2768959\n",
       "3 2 2     30005 0.9856356      0.04832041 -38.41862 0.3800630 0.3205832\n",
       "4 3 3     30006 0.9837098      0.05739903 -36.00819 0.4658866 0.4648232\n",
       "5 4 4     30008 0.9007922      0.11023567 -26.87189 0.3854147 0.3251178\n",
       "  sigma_subt bias_xmin_subt ⋯ posAffect negAffect neuroticism extraversion\n",
       "1 0.10335957 0.031291240    ⋯ 20         0        38          28.00000    \n",
       "2 0.07686605 0.194060972    ⋯ 25        11        38          26.18182    \n",
       "3 0.11535284 0.249788688    ⋯ 20        21        51          39.00000    \n",
       "4 0.07922090 0.009432723    ⋯ 25         0        18          41.00000    \n",
       "5 0.17258480 0.289378203    ⋯ 28         4        27          46.00000    \n",
       "  openness agreeableness conscientiousness loneliness nfriends PC1      \n",
       "1 31.00000 34            39                56         3         16.10785\n",
       "2 50.00000 50            46                56         3         13.40826\n",
       "3 40.00000 43            19                41         5         20.62867\n",
       "4 31.00000 44            57                30         4        -27.57041\n",
       "5 42.54545 46            50                45         5        -12.51604"
      ]
     },
     "metadata": {}
    }
   ],
   "metadata": {}
  },
  {
   "cell_type": "code",
   "execution_count": 10,
   "source": [
    "trait"
   ],
   "outputs": [
    {
     "output_type": "display_data",
     "data": {
      "text/html": [
       "'PC1'"
      ],
      "text/latex": [
       "'PC1'"
      ],
      "text/markdown": [
       "'PC1'"
      ],
      "text/plain": [
       "[1] \"PC1\""
      ]
     },
     "metadata": {}
    }
   ],
   "metadata": {}
  },
  {
   "cell_type": "code",
   "execution_count": 83,
   "source": [
    "formula <- as.formula(paste(trait,\" ~ PSE_subt + range_subt + bias_subt + sigma_subt\"))\n",
    "m1 <- lm(formula, data = data)\n",
    "summary(m1)"
   ],
   "outputs": [
    {
     "output_type": "display_data",
     "data": {
      "text/plain": [
       "\n",
       "Call:\n",
       "lm(formula = formula, data = data)\n",
       "\n",
       "Residuals:\n",
       "   Min     1Q Median     3Q    Max \n",
       "-47.85 -15.04  -0.05  13.75  51.34 \n",
       "\n",
       "Coefficients:\n",
       "            Estimate Std. Error t value Pr(>|t|)\n",
       "(Intercept)   -1.316      9.430  -0.140    0.889\n",
       "PSE_subt      -4.813     14.929  -0.322    0.747\n",
       "range_subt    12.947      8.994   1.440    0.151\n",
       "bias_subt     -9.398      8.229  -1.142    0.254\n",
       "sigma_subt    10.567     29.290   0.361    0.719\n",
       "\n",
       "Residual standard error: 20.09 on 270 degrees of freedom\n",
       "Multiple R-squared:  0.01225,\tAdjusted R-squared:  -0.002388 \n",
       "F-statistic: 0.8368 on 4 and 270 DF,  p-value: 0.5028\n"
      ]
     },
     "metadata": {}
    }
   ],
   "metadata": {}
  },
  {
   "cell_type": "code",
   "execution_count": 95,
   "source": [
    "# Select specific columns (e.g., A and C) and z-score them\n",
    "df_zscore <- as.data.frame(scale(data[, c(\"PC1\",\"PSE_subt\", \"range_subt\",\"bias_subt\",\"sigma_subt\",\"PSE_pf\",\"slope_pf\",\"bias_pf\")]))\n",
    "\n",
    "# Print the new data frame with z-scored values\n",
    "head(df_zscore,5)"
   ],
   "outputs": [
    {
     "output_type": "display_data",
     "data": {
      "text/html": [
       "<table class=\"dataframe\">\n",
       "<caption>A data.frame: 5 × 8</caption>\n",
       "<thead>\n",
       "\t<tr><th></th><th scope=col>PC1</th><th scope=col>PSE_subt</th><th scope=col>range_subt</th><th scope=col>bias_subt</th><th scope=col>sigma_subt</th><th scope=col>PSE_pf</th><th scope=col>slope_pf</th><th scope=col>bias_pf</th></tr>\n",
       "\t<tr><th></th><th scope=col>&lt;dbl&gt;</th><th scope=col>&lt;dbl&gt;</th><th scope=col>&lt;dbl&gt;</th><th scope=col>&lt;dbl&gt;</th><th scope=col>&lt;dbl&gt;</th><th scope=col>&lt;dbl&gt;</th><th scope=col>&lt;dbl&gt;</th><th scope=col>&lt;dbl&gt;</th></tr>\n",
       "</thead>\n",
       "<tbody>\n",
       "\t<tr><th scope=row>1</th><td> 0.8026499</td><td> 1.5767321</td><td> 1.14088842</td><td>-2.1658855</td><td> 0.1395287</td><td> 0.2326507</td><td> 0.7313928</td><td>-0.0852494</td></tr>\n",
       "\t<tr><th scope=row>2</th><td> 0.6681303</td><td>-0.8390867</td><td> 0.62095979</td><td> 1.3894942</td><td>-0.4557972</td><td>-2.0430898</td><td>-0.7165475</td><td> 0.9400053</td></tr>\n",
       "\t<tr><th scope=row>3</th><td> 1.0279212</td><td>-0.4567697</td><td> 0.09711613</td><td> 0.6735449</td><td> 0.4090250</td><td> 0.3044776</td><td> 0.9973410</td><td>-0.2247607</td></tr>\n",
       "\t<tr><th scope=row>4</th><td>-1.3738267</td><td> 0.8055069</td><td> 1.62571731</td><td> 0.8182752</td><td>-0.4028821</td><td>-1.2009126</td><td> 0.4588780</td><td> 1.5583760</td></tr>\n",
       "\t<tr><th scope=row>5</th><td>-0.6236710</td><td>-0.4170865</td><td>-0.60284999</td><td>-0.2050663</td><td> 1.6950628</td><td>-0.8078972</td><td>-0.5244737</td><td> 0.4165962</td></tr>\n",
       "</tbody>\n",
       "</table>\n"
      ],
      "text/latex": [
       "A data.frame: 5 × 8\n",
       "\\begin{tabular}{r|llllllll}\n",
       "  & PC1 & PSE\\_subt & range\\_subt & bias\\_subt & sigma\\_subt & PSE\\_pf & slope\\_pf & bias\\_pf\\\\\n",
       "  & <dbl> & <dbl> & <dbl> & <dbl> & <dbl> & <dbl> & <dbl> & <dbl>\\\\\n",
       "\\hline\n",
       "\t1 &  0.8026499 &  1.5767321 &  1.14088842 & -2.1658855 &  0.1395287 &  0.2326507 &  0.7313928 & -0.0852494\\\\\n",
       "\t2 &  0.6681303 & -0.8390867 &  0.62095979 &  1.3894942 & -0.4557972 & -2.0430898 & -0.7165475 &  0.9400053\\\\\n",
       "\t3 &  1.0279212 & -0.4567697 &  0.09711613 &  0.6735449 &  0.4090250 &  0.3044776 &  0.9973410 & -0.2247607\\\\\n",
       "\t4 & -1.3738267 &  0.8055069 &  1.62571731 &  0.8182752 & -0.4028821 & -1.2009126 &  0.4588780 &  1.5583760\\\\\n",
       "\t5 & -0.6236710 & -0.4170865 & -0.60284999 & -0.2050663 &  1.6950628 & -0.8078972 & -0.5244737 &  0.4165962\\\\\n",
       "\\end{tabular}\n"
      ],
      "text/markdown": [
       "\n",
       "A data.frame: 5 × 8\n",
       "\n",
       "| <!--/--> | PC1 &lt;dbl&gt; | PSE_subt &lt;dbl&gt; | range_subt &lt;dbl&gt; | bias_subt &lt;dbl&gt; | sigma_subt &lt;dbl&gt; | PSE_pf &lt;dbl&gt; | slope_pf &lt;dbl&gt; | bias_pf &lt;dbl&gt; |\n",
       "|---|---|---|---|---|---|---|---|---|\n",
       "| 1 |  0.8026499 |  1.5767321 |  1.14088842 | -2.1658855 |  0.1395287 |  0.2326507 |  0.7313928 | -0.0852494 |\n",
       "| 2 |  0.6681303 | -0.8390867 |  0.62095979 |  1.3894942 | -0.4557972 | -2.0430898 | -0.7165475 |  0.9400053 |\n",
       "| 3 |  1.0279212 | -0.4567697 |  0.09711613 |  0.6735449 |  0.4090250 |  0.3044776 |  0.9973410 | -0.2247607 |\n",
       "| 4 | -1.3738267 |  0.8055069 |  1.62571731 |  0.8182752 | -0.4028821 | -1.2009126 |  0.4588780 |  1.5583760 |\n",
       "| 5 | -0.6236710 | -0.4170865 | -0.60284999 | -0.2050663 |  1.6950628 | -0.8078972 | -0.5244737 |  0.4165962 |\n",
       "\n"
      ],
      "text/plain": [
       "  PC1        PSE_subt   range_subt  bias_subt  sigma_subt PSE_pf     slope_pf  \n",
       "1  0.8026499  1.5767321  1.14088842 -2.1658855  0.1395287  0.2326507  0.7313928\n",
       "2  0.6681303 -0.8390867  0.62095979  1.3894942 -0.4557972 -2.0430898 -0.7165475\n",
       "3  1.0279212 -0.4567697  0.09711613  0.6735449  0.4090250  0.3044776  0.9973410\n",
       "4 -1.3738267  0.8055069  1.62571731  0.8182752 -0.4028821 -1.2009126  0.4588780\n",
       "5 -0.6236710 -0.4170865 -0.60284999 -0.2050663  1.6950628 -0.8078972 -0.5244737\n",
       "  bias_pf   \n",
       "1 -0.0852494\n",
       "2  0.9400053\n",
       "3 -0.2247607\n",
       "4  1.5583760\n",
       "5  0.4165962"
      ]
     },
     "metadata": {}
    }
   ],
   "metadata": {}
  },
  {
   "cell_type": "code",
   "execution_count": 96,
   "source": [
    "formula <- as.formula(paste(trait,\" ~ PSE_subt + range_subt + bias_subt + sigma_subt\"))\n",
    "m1z <- lm(formula, data = df_zscore)\n",
    "summary(m1z)"
   ],
   "outputs": [
    {
     "output_type": "display_data",
     "data": {
      "text/plain": [
       "\n",
       "Call:\n",
       "lm(formula = formula, data = df_zscore)\n",
       "\n",
       "Residuals:\n",
       "     Min       1Q   Median       3Q      Max \n",
       "-2.38442 -0.74967 -0.00249  0.68509  2.55839 \n",
       "\n",
       "Coefficients:\n",
       "              Estimate Std. Error t value Pr(>|t|)\n",
       "(Intercept) -4.050e-18  6.037e-02   0.000    1.000\n",
       "PSE_subt    -2.740e-02  8.500e-02  -0.322    0.747\n",
       "range_subt   1.179e-01  8.188e-02   1.440    0.151\n",
       "bias_subt   -9.009e-02  7.888e-02  -1.142    0.254\n",
       "sigma_subt   2.343e-02  6.495e-02   0.361    0.719\n",
       "\n",
       "Residual standard error: 1.001 on 270 degrees of freedom\n",
       "Multiple R-squared:  0.01225,\tAdjusted R-squared:  -0.002388 \n",
       "F-statistic: 0.8368 on 4 and 270 DF,  p-value: 0.5028\n"
      ]
     },
     "metadata": {}
    }
   ],
   "metadata": {}
  },
  {
   "cell_type": "code",
   "execution_count": 59,
   "source": [
    "formula <- as.formula(paste(trait,\" ~ PSE_subt*range_subt + PSE_subt*bias_subt + PSE_subt*sigma_subt + range_subt*bias_subt + range_subt*sigma_subt + bias_subt*sigma_subt\"))\n",
    "m1a <- lm(formula, data = data)\n",
    "summary(m1a)"
   ],
   "outputs": [
    {
     "output_type": "display_data",
     "data": {
      "text/plain": [
       "\n",
       "Call:\n",
       "lm(formula = formula, data = data)\n",
       "\n",
       "Residuals:\n",
       "    Min      1Q  Median      3Q     Max \n",
       "-49.573 -13.827  -0.422  13.256  51.553 \n",
       "\n",
       "Coefficients:\n",
       "                      Estimate Std. Error t value Pr(>|t|)  \n",
       "(Intercept)            -58.301     51.718  -1.127   0.2606  \n",
       "PSE_subt                 8.704     80.552   0.108   0.9140  \n",
       "range_subt              88.069     56.573   1.557   0.1207  \n",
       "bias_subt               46.006     52.009   0.885   0.3772  \n",
       "sigma_subt             205.698    211.623   0.972   0.3319  \n",
       "PSE_subt:range_subt    -59.075     70.309  -0.840   0.4015  \n",
       "PSE_subt:bias_subt      90.333     62.884   1.437   0.1520  \n",
       "PSE_subt:sigma_subt   -312.534    222.998  -1.402   0.1622  \n",
       "range_subt:bias_subt   -97.214     51.244  -1.897   0.0589 .\n",
       "range_subt:sigma_subt  102.883    135.505   0.759   0.4484  \n",
       "bias_subt:sigma_subt  -185.466    229.385  -0.809   0.4195  \n",
       "---\n",
       "Signif. codes:  0 ‘***’ 0.001 ‘**’ 0.01 ‘*’ 0.05 ‘.’ 0.1 ‘ ’ 1\n",
       "\n",
       "Residual standard error: 19.98 on 264 degrees of freedom\n",
       "Multiple R-squared:  0.04452,\tAdjusted R-squared:  0.008332 \n",
       "F-statistic:  1.23 on 10 and 264 DF,  p-value: 0.2716\n"
      ]
     },
     "metadata": {}
    }
   ],
   "metadata": {}
  },
  {
   "cell_type": "code",
   "execution_count": 97,
   "source": [
    "formula <- as.formula(paste(trait,\" ~ PSE_subt*range_subt + PSE_subt*bias_subt + PSE_subt*sigma_subt + range_subt*bias_subt + range_subt*sigma_subt + bias_subt*sigma_subt\"))\n",
    "m1az <- lm(formula, data = df_zscore)\n",
    "summary(m1az)"
   ],
   "outputs": [
    {
     "output_type": "display_data",
     "data": {
      "text/plain": [
       "\n",
       "Call:\n",
       "lm(formula = formula, data = df_zscore)\n",
       "\n",
       "Residuals:\n",
       "     Min       1Q   Median       3Q      Max \n",
       "-2.47022 -0.68901 -0.02104  0.66052  2.56889 \n",
       "\n",
       "Coefficients:\n",
       "                      Estimate Std. Error t value Pr(>|t|)  \n",
       "(Intercept)            0.10583    0.07853   1.348   0.1789  \n",
       "PSE_subt               0.02036    0.11812   0.172   0.8633  \n",
       "range_subt             0.04430    0.08995   0.492   0.6228  \n",
       "bias_subt             -0.05414    0.09711  -0.558   0.5776  \n",
       "sigma_subt             0.05463    0.07746   0.705   0.4812  \n",
       "PSE_subt:range_subt   -0.06145    0.07314  -0.840   0.4015  \n",
       "PSE_subt:bias_subt     0.09895    0.06888   1.437   0.1520  \n",
       "PSE_subt:sigma_subt   -0.07920    0.05651  -1.402   0.1622  \n",
       "range_subt:bias_subt  -0.17025    0.08974  -1.897   0.0589 .\n",
       "range_subt:sigma_subt  0.04168    0.05490   0.759   0.4484  \n",
       "bias_subt:sigma_subt  -0.07912    0.09785  -0.809   0.4195  \n",
       "---\n",
       "Signif. codes:  0 ‘***’ 0.001 ‘**’ 0.01 ‘*’ 0.05 ‘.’ 0.1 ‘ ’ 1\n",
       "\n",
       "Residual standard error: 0.9958 on 264 degrees of freedom\n",
       "Multiple R-squared:  0.04452,\tAdjusted R-squared:  0.008332 \n",
       "F-statistic:  1.23 on 10 and 264 DF,  p-value: 0.2716\n"
      ]
     },
     "metadata": {}
    }
   ],
   "metadata": {}
  },
  {
   "cell_type": "code",
   "execution_count": 60,
   "source": [
    "formula <- as.formula(paste(trait,\" ~ PSE_pf + slope_pf + bias_pf\"))\n",
    "m2 <- lm(formula, data = data)\n",
    "summary(m2)"
   ],
   "outputs": [
    {
     "output_type": "display_data",
     "data": {
      "text/plain": [
       "\n",
       "Call:\n",
       "lm(formula = formula, data = data)\n",
       "\n",
       "Residuals:\n",
       "    Min      1Q  Median      3Q     Max \n",
       "-46.097 -15.331   0.362  12.553  60.942 \n",
       "\n",
       "Coefficients:\n",
       "            Estimate Std. Error t value Pr(>|t|)\n",
       "(Intercept)   10.926      7.658   1.427    0.155\n",
       "PSE_pf       -16.962     11.189  -1.516    0.131\n",
       "slope_pf       1.112      5.970   0.186    0.852\n",
       "bias_pf       -6.980      6.336  -1.102    0.272\n",
       "\n",
       "Residual standard error: 20.09 on 271 degrees of freedom\n",
       "Multiple R-squared:  0.008891,\tAdjusted R-squared:  -0.002081 \n",
       "F-statistic: 0.8103 on 3 and 271 DF,  p-value: 0.4891\n"
      ]
     },
     "metadata": {}
    }
   ],
   "metadata": {}
  },
  {
   "cell_type": "code",
   "execution_count": 98,
   "source": [
    "formula <- as.formula(paste(trait,\" ~ PSE_pf + slope_pf + bias_pf\"))\n",
    "m2z <- lm(formula, data = df_zscore)\n",
    "summary(m2z)"
   ],
   "outputs": [
    {
     "output_type": "display_data",
     "data": {
      "text/plain": [
       "\n",
       "Call:\n",
       "lm(formula = formula, data = df_zscore)\n",
       "\n",
       "Residuals:\n",
       "     Min       1Q   Median       3Q      Max \n",
       "-2.29701 -0.76395  0.01806  0.62550  3.03672 \n",
       "\n",
       "Coefficients:\n",
       "              Estimate Std. Error t value Pr(>|t|)\n",
       "(Intercept) -1.301e-17  6.036e-02   0.000    1.000\n",
       "PSE_pf      -1.337e-01  8.816e-02  -1.516    0.131\n",
       "slope_pf     1.205e-02  6.471e-02   0.186    0.852\n",
       "bias_pf     -9.577e-02  8.693e-02  -1.102    0.272\n",
       "\n",
       "Residual standard error: 1.001 on 271 degrees of freedom\n",
       "Multiple R-squared:  0.008891,\tAdjusted R-squared:  -0.002081 \n",
       "F-statistic: 0.8103 on 3 and 271 DF,  p-value: 0.4891\n"
      ]
     },
     "metadata": {}
    }
   ],
   "metadata": {}
  },
  {
   "cell_type": "code",
   "execution_count": 61,
   "source": [
    "formula <- as.formula(paste(trait,\" ~ PSE_pf*slope_pf + PSE_pf*bias_pf + slope_pf*bias_pf\"))\n",
    "m2a <- lm(formula, data = data)\n",
    "summary(m2a)"
   ],
   "outputs": [
    {
     "output_type": "display_data",
     "data": {
      "text/plain": [
       "\n",
       "Call:\n",
       "lm(formula = formula, data = data)\n",
       "\n",
       "Residuals:\n",
       "    Min      1Q  Median      3Q     Max \n",
       "-45.964 -15.509   0.426  12.727  58.196 \n",
       "\n",
       "Coefficients:\n",
       "                 Estimate Std. Error t value Pr(>|t|)\n",
       "(Intercept)        42.066     28.066   1.499    0.135\n",
       "PSE_pf            -40.042     27.064  -1.480    0.140\n",
       "slope_pf          -27.229     31.277  -0.871    0.385\n",
       "bias_pf           -48.168     38.479  -1.252    0.212\n",
       "PSE_pf:slope_pf    11.845     47.990   0.247    0.805\n",
       "PSE_pf:bias_pf      6.613     30.412   0.217    0.828\n",
       "slope_pf:bias_pf   42.962     40.314   1.066    0.288\n",
       "\n",
       "Residual standard error: 20.15 on 268 degrees of freedom\n",
       "Multiple R-squared:  0.01385,\tAdjusted R-squared:  -0.008223 \n",
       "F-statistic: 0.6275 on 6 and 268 DF,  p-value: 0.7082\n"
      ]
     },
     "metadata": {}
    }
   ],
   "metadata": {}
  },
  {
   "cell_type": "code",
   "execution_count": 99,
   "source": [
    "formula <- as.formula(paste(trait,\" ~ PSE_pf*slope_pf + PSE_pf*bias_pf + slope_pf*bias_pf\"))\n",
    "m2az <- lm(formula, data = df_zscore)\n",
    "summary(m2az)"
   ],
   "outputs": [
    {
     "output_type": "display_data",
     "data": {
      "text/plain": [
       "\n",
       "Call:\n",
       "lm(formula = formula, data = df_zscore)\n",
       "\n",
       "Residuals:\n",
       "     Min       1Q   Median       3Q      Max \n",
       "-2.29037 -0.77281  0.02125  0.63416  2.89990 \n",
       "\n",
       "Coefficients:\n",
       "                  Estimate Std. Error t value Pr(>|t|)\n",
       "(Intercept)      -0.005708   0.078095  -0.073    0.942\n",
       "PSE_pf           -0.227412   0.204065  -1.114    0.266\n",
       "slope_pf          0.028533   0.067899   0.420    0.675\n",
       "bias_pf          -0.251506   0.204767  -1.228    0.220\n",
       "PSE_pf:slope_pf   0.020304   0.082263   0.247    0.805\n",
       "PSE_pf:bias_pf    0.014347   0.065977   0.217    0.828\n",
       "slope_pf:bias_pf  0.128230   0.120327   1.066    0.288\n",
       "\n",
       "Residual standard error: 1.004 on 268 degrees of freedom\n",
       "Multiple R-squared:  0.01385,\tAdjusted R-squared:  -0.008223 \n",
       "F-statistic: 0.6275 on 6 and 268 DF,  p-value: 0.7082\n"
      ]
     },
     "metadata": {}
    }
   ],
   "metadata": {}
  },
  {
   "cell_type": "code",
   "execution_count": 62,
   "source": [
    "formula <- as.formula(paste(trait,\" ~ PSE_subt + range_subt + bias_subt + sigma_subt + PSE_pf + slope_pf + bias_pf\"))\n",
    "m3 <- lm(formula, data = data)\n",
    "summary(m3)"
   ],
   "outputs": [
    {
     "output_type": "display_data",
     "data": {
      "text/plain": [
       "\n",
       "Call:\n",
       "lm(formula = formula, data = data)\n",
       "\n",
       "Residuals:\n",
       "    Min      1Q  Median      3Q     Max \n",
       "-46.625 -15.338  -0.222  13.305  54.570 \n",
       "\n",
       "Coefficients:\n",
       "            Estimate Std. Error t value Pr(>|t|)\n",
       "(Intercept)    7.758     11.599   0.669    0.504\n",
       "PSE_subt      -4.087     14.990  -0.273    0.785\n",
       "range_subt    13.914      9.425   1.476    0.141\n",
       "bias_subt     -7.335      8.606  -0.852    0.395\n",
       "sigma_subt    10.898     29.417   0.370    0.711\n",
       "PSE_pf       -15.362     11.250  -1.366    0.173\n",
       "slope_pf      -1.283      6.980  -0.184    0.854\n",
       "bias_pf       -6.724      6.365  -1.057    0.292\n",
       "\n",
       "Residual standard error: 20.12 on 267 degrees of freedom\n",
       "Multiple R-squared:  0.02072,\tAdjusted R-squared:  -0.004956 \n",
       "F-statistic: 0.807 on 7 and 267 DF,  p-value: 0.5821\n"
      ]
     },
     "metadata": {}
    }
   ],
   "metadata": {}
  },
  {
   "cell_type": "code",
   "execution_count": 100,
   "source": [
    "formula <- as.formula(paste(trait,\" ~ PSE_subt + range_subt + bias_subt + sigma_subt + PSE_pf + slope_pf + bias_pf\"))\n",
    "m3z <- lm(formula, data = df_zscore)\n",
    "summary(m3z)"
   ],
   "outputs": [
    {
     "output_type": "display_data",
     "data": {
      "text/plain": [
       "\n",
       "Call:\n",
       "lm(formula = formula, data = df_zscore)\n",
       "\n",
       "Residuals:\n",
       "     Min       1Q   Median       3Q      Max \n",
       "-2.32331 -0.76431 -0.01106  0.66301  2.71923 \n",
       "\n",
       "Coefficients:\n",
       "              Estimate Std. Error t value Pr(>|t|)\n",
       "(Intercept) -2.480e-17  6.045e-02   0.000    1.000\n",
       "PSE_subt    -2.327e-02  8.535e-02  -0.273    0.785\n",
       "range_subt   1.267e-01  8.580e-02   1.476    0.141\n",
       "bias_subt   -7.031e-02  8.250e-02  -0.852    0.395\n",
       "sigma_subt   2.417e-02  6.523e-02   0.370    0.711\n",
       "PSE_pf      -1.210e-01  8.864e-02  -1.366    0.173\n",
       "slope_pf    -1.391e-02  7.567e-02  -0.184    0.854\n",
       "bias_pf     -9.226e-02  8.732e-02  -1.057    0.292\n",
       "\n",
       "Residual standard error: 1.002 on 267 degrees of freedom\n",
       "Multiple R-squared:  0.02072,\tAdjusted R-squared:  -0.004956 \n",
       "F-statistic: 0.807 on 7 and 267 DF,  p-value: 0.5821\n"
      ]
     },
     "metadata": {}
    }
   ],
   "metadata": {}
  },
  {
   "cell_type": "code",
   "execution_count": 110,
   "source": [
    "formula <- as.formula(paste(trait,\" ~ PSE_subt*range_subt + PSE_subt*bias_subt + PSE_subt*sigma_subt + range_subt*bias_subt + range_subt*sigma_subt + bias_subt*sigma_subt + PSE_pf*slope_pf + PSE_pf*bias_pf + slope_pf*bias_pf\"))\n",
    "m3a <- lm(formula, data = data)\n",
    "summary(m3a)"
   ],
   "outputs": [
    {
     "output_type": "display_data",
     "data": {
      "text/plain": [
       "\n",
       "Call:\n",
       "lm(formula = formula, data = data)\n",
       "\n",
       "Residuals:\n",
       "    Min      1Q  Median      3Q     Max \n",
       "-48.589 -14.678  -0.278  12.893  52.722 \n",
       "\n",
       "Coefficients:\n",
       "                      Estimate Std. Error t value Pr(>|t|)  \n",
       "(Intercept)             -26.34      60.29  -0.437   0.6625  \n",
       "PSE_subt                  6.70      81.04   0.083   0.9342  \n",
       "range_subt              101.86      57.35   1.776   0.0769 .\n",
       "bias_subt                56.71      53.42   1.062   0.2894  \n",
       "sigma_subt              208.05     216.64   0.960   0.3378  \n",
       "PSE_pf                  -33.73      27.42  -1.230   0.2197  \n",
       "slope_pf                -32.78      31.48  -1.041   0.2987  \n",
       "bias_pf                 -43.42      39.09  -1.111   0.2676  \n",
       "PSE_subt:range_subt     -62.60      70.67  -0.886   0.3765  \n",
       "PSE_subt:bias_subt      100.57      64.15   1.568   0.1182  \n",
       "PSE_subt:sigma_subt    -306.88     227.20  -1.351   0.1780  \n",
       "range_subt:bias_subt   -114.07      52.59  -2.169   0.0310 *\n",
       "range_subt:sigma_subt    95.95     136.55   0.703   0.4829  \n",
       "bias_subt:sigma_subt   -181.57     233.77  -0.777   0.4380  \n",
       "PSE_pf:slope_pf          16.31      48.13   0.339   0.7351  \n",
       "PSE_pf:bias_pf          -13.26      33.04  -0.401   0.6886  \n",
       "slope_pf:bias_pf         46.53      40.75   1.142   0.2546  \n",
       "---\n",
       "Signif. codes:  0 ‘***’ 0.001 ‘**’ 0.01 ‘*’ 0.05 ‘.’ 0.1 ‘ ’ 1\n",
       "\n",
       "Residual standard error: 20.03 on 258 degrees of freedom\n",
       "Multiple R-squared:  0.06198,\tAdjusted R-squared:  0.003804 \n",
       "F-statistic: 1.065 on 16 and 258 DF,  p-value: 0.3889\n"
      ]
     },
     "metadata": {}
    }
   ],
   "metadata": {}
  },
  {
   "cell_type": "code",
   "execution_count": 101,
   "source": [
    "formula <- as.formula(paste(trait,\" ~ PSE_subt*range_subt + PSE_subt*bias_subt + PSE_subt*sigma_subt + range_subt*bias_subt + range_subt*sigma_subt + bias_subt*sigma_subt + PSE_pf*slope_pf + PSE_pf*bias_pf + slope_pf*bias_pf\"))\n",
    "m3az <- lm(formula, data = df_zscore)\n",
    "summary(m3az)"
   ],
   "outputs": [
    {
     "output_type": "display_data",
     "data": {
      "text/plain": [
       "\n",
       "Call:\n",
       "lm(formula = formula, data = df_zscore)\n",
       "\n",
       "Residuals:\n",
       "     Min       1Q   Median       3Q      Max \n",
       "-2.42116 -0.73139 -0.01383  0.64244  2.62713 \n",
       "\n",
       "Coefficients:\n",
       "                      Estimate Std. Error t value Pr(>|t|)  \n",
       "(Intercept)            0.08101    0.09110   0.889    0.375  \n",
       "PSE_subt               0.04088    0.12026   0.340    0.734  \n",
       "range_subt             0.03939    0.09485   0.415    0.678  \n",
       "bias_subt             -0.02316    0.10365  -0.223    0.823  \n",
       "sigma_subt             0.06020    0.07917   0.760    0.448  \n",
       "PSE_pf                -0.24510    0.20512  -1.195    0.233  \n",
       "slope_pf               0.01217    0.08013   0.152    0.879  \n",
       "bias_pf               -0.27850    0.20496  -1.359    0.175  \n",
       "PSE_subt:range_subt   -0.06512    0.07351  -0.886    0.377  \n",
       "PSE_subt:bias_subt     0.11016    0.07027   1.568    0.118  \n",
       "PSE_subt:sigma_subt   -0.07776    0.05757  -1.351    0.178  \n",
       "range_subt:bias_subt  -0.19977    0.09209  -2.169    0.031 *\n",
       "range_subt:sigma_subt  0.03887    0.05532   0.703    0.483  \n",
       "bias_subt:sigma_subt  -0.07746    0.09972  -0.777    0.438  \n",
       "PSE_pf:slope_pf        0.02795    0.08251   0.339    0.735  \n",
       "PSE_pf:bias_pf        -0.02875    0.07167  -0.401    0.689  \n",
       "slope_pf:bias_pf       0.13888    0.12164   1.142    0.255  \n",
       "---\n",
       "Signif. codes:  0 ‘***’ 0.001 ‘**’ 0.01 ‘*’ 0.05 ‘.’ 0.1 ‘ ’ 1\n",
       "\n",
       "Residual standard error: 0.9981 on 258 degrees of freedom\n",
       "Multiple R-squared:  0.06198,\tAdjusted R-squared:  0.003804 \n",
       "F-statistic: 1.065 on 16 and 258 DF,  p-value: 0.3889\n"
      ]
     },
     "metadata": {}
    }
   ],
   "metadata": {}
  },
  {
   "cell_type": "code",
   "execution_count": 102,
   "source": [
    "formula <- as.formula(paste(trait,\" ~ PSE_subt*PSE_pf + PSE_subt*slope_pf + PSE_subt*bias_pf + range_subt*PSE_pf + range_subt*slope_pf + range_subt*bias_pf + bias_subt*PSE_pf + bias_subt*slope_pf + bias_subt*bias_pf +  sigma_subt*PSE_pf + sigma_subt*slope_pf + sigma_subt*bias_pf\"))\n",
    "m3b <- lm(formula, data = data)\n",
    "summary(m3b)"
   ],
   "outputs": [
    {
     "output_type": "display_data",
     "data": {
      "text/plain": [
       "\n",
       "Call:\n",
       "lm(formula = formula, data = data)\n",
       "\n",
       "Residuals:\n",
       "    Min      1Q  Median      3Q     Max \n",
       "-49.359 -14.288   0.356  12.439  52.082 \n",
       "\n",
       "Coefficients:\n",
       "                    Estimate Std. Error t value Pr(>|t|)  \n",
       "(Intercept)          -87.714     75.615  -1.160   0.2471  \n",
       "PSE_subt              94.040    111.856   0.841   0.4013  \n",
       "PSE_pf                68.043    103.114   0.660   0.5099  \n",
       "slope_pf              -8.139     58.439  -0.139   0.8893  \n",
       "bias_pf              103.951     67.677   1.536   0.1258  \n",
       "range_subt             2.668     58.136   0.046   0.9634  \n",
       "bias_subt             26.278     56.551   0.465   0.6426  \n",
       "sigma_subt           433.925    234.408   1.851   0.0653 .\n",
       "PSE_subt:PSE_pf      -88.905    165.791  -0.536   0.5923  \n",
       "PSE_subt:slope_pf     78.725     84.059   0.937   0.3499  \n",
       "PSE_subt:bias_pf    -178.513    100.067  -1.784   0.0756 .\n",
       "PSE_pf:range_subt     36.363     89.465   0.406   0.6848  \n",
       "slope_pf:range_subt  -56.527     45.627  -1.239   0.2165  \n",
       "bias_pf:range_subt    41.509     57.194   0.726   0.4687  \n",
       "PSE_pf:bias_subt     -11.415     89.911  -0.127   0.8991  \n",
       "slope_pf:bias_subt    14.003     43.735   0.320   0.7491  \n",
       "bias_pf:bias_subt    -59.852     48.564  -1.232   0.2189  \n",
       "PSE_pf:sigma_subt   -682.194    340.475  -2.004   0.0462 *\n",
       "slope_pf:sigma_subt   78.998    163.944   0.482   0.6303  \n",
       "bias_pf:sigma_subt  -285.897    192.935  -1.482   0.1396  \n",
       "---\n",
       "Signif. codes:  0 ‘***’ 0.001 ‘**’ 0.01 ‘*’ 0.05 ‘.’ 0.1 ‘ ’ 1\n",
       "\n",
       "Residual standard error: 20.12 on 255 degrees of freedom\n",
       "Multiple R-squared:  0.06452,\tAdjusted R-squared:  -0.005179 \n",
       "F-statistic: 0.9257 on 19 and 255 DF,  p-value: 0.5514\n"
      ]
     },
     "metadata": {}
    }
   ],
   "metadata": {}
  },
  {
   "cell_type": "code",
   "execution_count": 103,
   "source": [
    "formula <- as.formula(paste(trait,\" ~ PSE_subt*PSE_pf + PSE_subt*slope_pf + PSE_subt*bias_pf + range_subt*PSE_pf + range_subt*slope_pf + range_subt*bias_pf + bias_subt*PSE_pf + bias_subt*slope_pf + bias_subt*bias_pf +  sigma_subt*PSE_pf + sigma_subt*slope_pf + sigma_subt*bias_pf\"))\n",
    "m3bz <- lm(formula, data = df_zscore)\n",
    "summary(m3bz)"
   ],
   "outputs": [
    {
     "output_type": "display_data",
     "data": {
      "text/plain": [
       "\n",
       "Call:\n",
       "lm(formula = formula, data = df_zscore)\n",
       "\n",
       "Residuals:\n",
       "     Min       1Q   Median       3Q      Max \n",
       "-2.45954 -0.71199  0.01774  0.61982  2.59522 \n",
       "\n",
       "Coefficients:\n",
       "                      Estimate Std. Error t value Pr(>|t|)  \n",
       "(Intercept)          4.576e-02  6.955e-02   0.658   0.5112  \n",
       "PSE_subt             7.496e-03  9.217e-02   0.081   0.9352  \n",
       "PSE_pf              -1.147e-01  1.062e-01  -1.079   0.2815  \n",
       "slope_pf            -4.014e-05  8.133e-02   0.000   0.9996  \n",
       "bias_pf             -7.479e-02  1.307e-01  -0.572   0.5677  \n",
       "range_subt           6.734e-02  9.161e-02   0.735   0.4630  \n",
       "bias_subt           -4.101e-02  8.627e-02  -0.475   0.6349  \n",
       "sigma_subt           2.880e-02  7.050e-02   0.409   0.6832  \n",
       "PSE_subt:PSE_pf     -8.005e-02  1.493e-01  -0.536   0.5923  \n",
       "PSE_subt:slope_pf    9.752e-02  1.041e-01   0.937   0.3499  \n",
       "PSE_subt:bias_pf    -2.799e-01  1.569e-01  -1.784   0.0756 .\n",
       "PSE_pf:range_subt    5.235e-02  1.288e-01   0.406   0.6848  \n",
       "slope_pf:range_subt -1.120e-01  9.036e-02  -1.239   0.2165  \n",
       "bias_pf:range_subt   1.040e-01  1.434e-01   0.726   0.4687  \n",
       "PSE_pf:bias_subt    -1.730e-02  1.363e-01  -0.127   0.8991  \n",
       "slope_pf:bias_subt   2.920e-02  9.120e-02   0.320   0.7491  \n",
       "bias_pf:bias_subt   -1.580e-01  1.282e-01  -1.232   0.2189  \n",
       "PSE_pf:sigma_subt   -2.392e-01  1.194e-01  -2.004   0.0462 *\n",
       "slope_pf:sigma_subt  3.811e-02  7.909e-02   0.482   0.6303  \n",
       "bias_pf:sigma_subt  -1.746e-01  1.178e-01  -1.482   0.1396  \n",
       "---\n",
       "Signif. codes:  0 ‘***’ 0.001 ‘**’ 0.01 ‘*’ 0.05 ‘.’ 0.1 ‘ ’ 1\n",
       "\n",
       "Residual standard error: 1.003 on 255 degrees of freedom\n",
       "Multiple R-squared:  0.06452,\tAdjusted R-squared:  -0.005179 \n",
       "F-statistic: 0.9257 on 19 and 255 DF,  p-value: 0.5514\n"
      ]
     },
     "metadata": {}
    }
   ],
   "metadata": {}
  },
  {
   "cell_type": "code",
   "execution_count": 108,
   "source": [
    "formula <- as.formula(paste(trait,\" ~ PSE_subt*range_subt + PSE_subt*bias_subt + PSE_subt*sigma_subt + range_subt*bias_subt + range_subt*sigma_subt + bias_subt*sigma_subt + PSE_pf*slope_pf + PSE_pf*bias_pf + slope_pf*bias_pf + PSE_subt*PSE_pf + PSE_subt*slope_pf + PSE_subt*bias_pf + range_subt*PSE_pf + range_subt*slope_pf + range_subt*bias_pf + bias_subt*PSE_pf + bias_subt*slope_pf + bias_subt*bias_pf +  sigma_subt*PSE_pf + sigma_subt*slope_pf + sigma_subt*bias_pf + PSE_subt*PSE_pf + PSE_subt*slope_pf + PSE_subt*bias_pf + range_subt*PSE_pf + range_subt*slope_pf + range_subt*bias_pf + bias_subt*PSE_pf + bias_subt*slope_pf + bias_subt*bias_pf +  sigma_subt*PSE_pf + sigma_subt*slope_pf + sigma_subt*bias_pf\"))\n",
    "m3c <- lm(formula, data = data)\n",
    "summary(m3c)"
   ],
   "outputs": [
    {
     "output_type": "display_data",
     "data": {
      "text/plain": [
       "\n",
       "Call:\n",
       "lm(formula = formula, data = data)\n",
       "\n",
       "Residuals:\n",
       "    Min      1Q  Median      3Q     Max \n",
       "-52.102 -14.289   0.522  12.675  51.458 \n",
       "\n",
       "Coefficients:\n",
       "                       Estimate Std. Error t value Pr(>|t|)  \n",
       "(Intercept)           -124.9934    94.3879  -1.324   0.1866  \n",
       "PSE_subt               109.1138   136.9311   0.797   0.4263  \n",
       "range_subt             122.1951    86.8301   1.407   0.1606  \n",
       "bias_subt              106.0209    84.0031   1.262   0.2081  \n",
       "sigma_subt             596.3787   318.7661   1.871   0.0625 .\n",
       "PSE_pf                  43.8773   110.0893   0.399   0.6906  \n",
       "slope_pf               -73.2493    80.4257  -0.911   0.3633  \n",
       "bias_pf                 63.4221    78.3202   0.810   0.4188  \n",
       "PSE_subt:range_subt    -70.6594    78.9761  -0.895   0.3718  \n",
       "PSE_subt:bias_subt      82.6800    69.6757   1.187   0.2365  \n",
       "PSE_subt:sigma_subt   -333.8815   242.6089  -1.376   0.1700  \n",
       "range_subt:bias_subt  -110.1920    62.1799  -1.772   0.0776 .\n",
       "range_subt:sigma_subt   15.6386   165.2081   0.095   0.9247  \n",
       "bias_subt:sigma_subt  -235.7909   264.1036  -0.893   0.3728  \n",
       "PSE_pf:slope_pf         40.3934    55.1763   0.732   0.4648  \n",
       "PSE_pf:bias_pf          -8.3572    34.8558  -0.240   0.8107  \n",
       "slope_pf:bias_pf        67.7758    51.9031   1.306   0.1928  \n",
       "PSE_subt:PSE_pf        -34.9650   172.6126  -0.203   0.8396  \n",
       "PSE_subt:slope_pf       32.4475    94.4949   0.343   0.7316  \n",
       "PSE_subt:bias_pf      -150.1168   103.0888  -1.456   0.1466  \n",
       "range_subt:PSE_pf      -22.8778    97.1673  -0.235   0.8141  \n",
       "range_subt:slope_pf    -14.9350    49.0589  -0.304   0.7611  \n",
       "range_subt:bias_pf       4.3401    63.1965   0.069   0.9453  \n",
       "bias_subt:PSE_pf        -5.8486    92.3688  -0.063   0.9496  \n",
       "bias_subt:slope_pf       0.9485    48.1142   0.020   0.9843  \n",
       "bias_subt:bias_pf      -61.6778    49.3908  -1.249   0.2129  \n",
       "sigma_subt:PSE_pf     -597.5021   360.9033  -1.656   0.0991 .\n",
       "sigma_subt:slope_pf    158.2176   218.1517   0.725   0.4690  \n",
       "sigma_subt:bias_pf    -222.3969   198.6674  -1.119   0.2640  \n",
       "---\n",
       "Signif. codes:  0 ‘***’ 0.001 ‘**’ 0.01 ‘*’ 0.05 ‘.’ 0.1 ‘ ’ 1\n",
       "\n",
       "Residual standard error: 20.12 on 246 degrees of freedom\n",
       "Multiple R-squared:  0.09743,\tAdjusted R-squared:  -0.005304 \n",
       "F-statistic: 0.9484 on 28 and 246 DF,  p-value: 0.5442\n"
      ]
     },
     "metadata": {}
    }
   ],
   "metadata": {}
  },
  {
   "cell_type": "code",
   "execution_count": 105,
   "source": [
    "formula <- as.formula(paste(trait,\" ~ PSE_subt*range_subt + PSE_subt*bias_subt + PSE_subt*sigma_subt + range_subt*bias_subt + range_subt*sigma_subt + bias_subt*sigma_subt + PSE_pf*slope_pf + PSE_pf*bias_pf + slope_pf*bias_pf + PSE_subt*PSE_pf + PSE_subt*slope_pf + PSE_subt*bias_pf + range_subt*PSE_pf + range_subt*slope_pf + range_subt*bias_pf + bias_subt*PSE_pf + bias_subt*slope_pf + bias_subt*bias_pf +  sigma_subt*PSE_pf + sigma_subt*slope_pf + sigma_subt*bias_pf + PSE_subt*PSE_pf + PSE_subt*slope_pf + PSE_subt*bias_pf + range_subt*PSE_pf + range_subt*slope_pf + range_subt*bias_pf + bias_subt*PSE_pf + bias_subt*slope_pf + bias_subt*bias_pf +  sigma_subt*PSE_pf + sigma_subt*slope_pf + sigma_subt*bias_pf\"))\n",
    "m3cz <- lm(formula, data = df_zscore)\n",
    "summary(m3cz)"
   ],
   "outputs": [
    {
     "output_type": "display_data",
     "data": {
      "text/plain": [
       "\n",
       "Call:\n",
       "lm(formula = formula, data = df_zscore)\n",
       "\n",
       "Residuals:\n",
       "     Min       1Q   Median       3Q      Max \n",
       "-2.59622 -0.71199  0.02602  0.63157  2.56413 \n",
       "\n",
       "Coefficients:\n",
       "                       Estimate Std. Error t value Pr(>|t|)  \n",
       "(Intercept)            0.090659   0.096226   0.942   0.3470  \n",
       "PSE_subt               0.040582   0.124001   0.327   0.7437  \n",
       "range_subt            -0.004202   0.099021  -0.042   0.9662  \n",
       "bias_subt              0.003697   0.106593   0.035   0.9724  \n",
       "sigma_subt             0.028996   0.081753   0.355   0.7231  \n",
       "PSE_pf                -0.211524   0.226833  -0.933   0.3520  \n",
       "slope_pf               0.015716   0.087658   0.179   0.8579  \n",
       "bias_pf               -0.242666   0.240159  -1.010   0.3133  \n",
       "PSE_subt:range_subt   -0.073504   0.082156  -0.895   0.3718  \n",
       "PSE_subt:bias_subt     0.090565   0.076321   1.187   0.2365  \n",
       "PSE_subt:sigma_subt   -0.084605   0.061477  -1.376   0.1700  \n",
       "range_subt:bias_subt  -0.192976   0.108894  -1.772   0.0776 .\n",
       "range_subt:sigma_subt  0.006336   0.066931   0.095   0.9247  \n",
       "bias_subt:sigma_subt  -0.100587   0.112665  -0.893   0.3728  \n",
       "PSE_pf:slope_pf        0.069241   0.094581   0.732   0.4648  \n",
       "PSE_pf:bias_pf        -0.018130   0.075617  -0.240   0.8107  \n",
       "slope_pf:bias_pf       0.202291   0.154915   1.306   0.1928  \n",
       "PSE_subt:PSE_pf       -0.031482   0.155416  -0.203   0.8396  \n",
       "PSE_subt:slope_pf      0.040194   0.117055   0.343   0.7316  \n",
       "PSE_subt:bias_pf      -0.235343   0.161616  -1.456   0.1466  \n",
       "range_subt:PSE_pf     -0.032933   0.139873  -0.235   0.8141  \n",
       "range_subt:slope_pf   -0.029578   0.097160  -0.304   0.7611  \n",
       "range_subt:bias_pf     0.010878   0.158401   0.069   0.9453  \n",
       "bias_subt:PSE_pf      -0.008865   0.140010  -0.063   0.9496  \n",
       "bias_subt:slope_pf     0.001978   0.100337   0.020   0.9843  \n",
       "bias_subt:bias_pf     -0.162784   0.130355  -1.249   0.2129  \n",
       "sigma_subt:PSE_pf     -0.209515   0.126551  -1.656   0.0991 .\n",
       "sigma_subt:slope_pf    0.076329   0.105243   0.725   0.4690  \n",
       "sigma_subt:bias_pf    -0.135786   0.121298  -1.119   0.2640  \n",
       "---\n",
       "Signif. codes:  0 ‘***’ 0.001 ‘**’ 0.01 ‘*’ 0.05 ‘.’ 0.1 ‘ ’ 1\n",
       "\n",
       "Residual standard error: 1.003 on 246 degrees of freedom\n",
       "Multiple R-squared:  0.09743,\tAdjusted R-squared:  -0.005304 \n",
       "F-statistic: 0.9484 on 28 and 246 DF,  p-value: 0.5442\n"
      ]
     },
     "metadata": {}
    }
   ],
   "metadata": {}
  },
  {
   "cell_type": "code",
   "execution_count": 111,
   "source": [
    "anova(m3a,m3c)"
   ],
   "outputs": [
    {
     "output_type": "display_data",
     "data": {
      "text/html": [
       "<table class=\"dataframe\">\n",
       "<caption>A anova: 2 × 6</caption>\n",
       "<thead>\n",
       "\t<tr><th></th><th scope=col>Res.Df</th><th scope=col>RSS</th><th scope=col>Df</th><th scope=col>Sum of Sq</th><th scope=col>F</th><th scope=col>Pr(&gt;F)</th></tr>\n",
       "\t<tr><th></th><th scope=col>&lt;dbl&gt;</th><th scope=col>&lt;dbl&gt;</th><th scope=col>&lt;dbl&gt;</th><th scope=col>&lt;dbl&gt;</th><th scope=col>&lt;dbl&gt;</th><th scope=col>&lt;dbl&gt;</th></tr>\n",
       "</thead>\n",
       "<tbody>\n",
       "\t<tr><th scope=row>1</th><td>258</td><td>103511.14</td><td>NA</td><td>      NA</td><td>       NA</td><td>       NA</td></tr>\n",
       "\t<tr><th scope=row>2</th><td>246</td><td> 99599.04</td><td>12</td><td>3912.102</td><td>0.8052095</td><td>0.6450001</td></tr>\n",
       "</tbody>\n",
       "</table>\n"
      ],
      "text/latex": [
       "A anova: 2 × 6\n",
       "\\begin{tabular}{r|llllll}\n",
       "  & Res.Df & RSS & Df & Sum of Sq & F & Pr(>F)\\\\\n",
       "  & <dbl> & <dbl> & <dbl> & <dbl> & <dbl> & <dbl>\\\\\n",
       "\\hline\n",
       "\t1 & 258 & 103511.14 & NA &       NA &        NA &        NA\\\\\n",
       "\t2 & 246 &  99599.04 & 12 & 3912.102 & 0.8052095 & 0.6450001\\\\\n",
       "\\end{tabular}\n"
      ],
      "text/markdown": [
       "\n",
       "A anova: 2 × 6\n",
       "\n",
       "| <!--/--> | Res.Df &lt;dbl&gt; | RSS &lt;dbl&gt; | Df &lt;dbl&gt; | Sum of Sq &lt;dbl&gt; | F &lt;dbl&gt; | Pr(&gt;F) &lt;dbl&gt; |\n",
       "|---|---|---|---|---|---|---|\n",
       "| 1 | 258 | 103511.14 | NA |       NA |        NA |        NA |\n",
       "| 2 | 246 |  99599.04 | 12 | 3912.102 | 0.8052095 | 0.6450001 |\n",
       "\n"
      ],
      "text/plain": [
       "  Res.Df RSS       Df Sum of Sq F         Pr(>F)   \n",
       "1 258    103511.14 NA       NA         NA        NA\n",
       "2 246     99599.04 12 3912.102  0.8052095 0.6450001"
      ]
     },
     "metadata": {}
    }
   ],
   "metadata": {}
  },
  {
   "cell_type": "code",
   "execution_count": 112,
   "source": [
    "anova(m3az,m3cz)"
   ],
   "outputs": [
    {
     "output_type": "display_data",
     "data": {
      "text/html": [
       "<table class=\"dataframe\">\n",
       "<caption>A anova: 2 × 6</caption>\n",
       "<thead>\n",
       "\t<tr><th></th><th scope=col>Res.Df</th><th scope=col>RSS</th><th scope=col>Df</th><th scope=col>Sum of Sq</th><th scope=col>F</th><th scope=col>Pr(&gt;F)</th></tr>\n",
       "\t<tr><th></th><th scope=col>&lt;dbl&gt;</th><th scope=col>&lt;dbl&gt;</th><th scope=col>&lt;dbl&gt;</th><th scope=col>&lt;dbl&gt;</th><th scope=col>&lt;dbl&gt;</th><th scope=col>&lt;dbl&gt;</th></tr>\n",
       "</thead>\n",
       "<tbody>\n",
       "\t<tr><th scope=row>1</th><td>258</td><td>257.0185</td><td>NA</td><td>      NA</td><td>       NA</td><td>       NA</td></tr>\n",
       "\t<tr><th scope=row>2</th><td>246</td><td>247.3048</td><td>12</td><td>9.713764</td><td>0.8052095</td><td>0.6450001</td></tr>\n",
       "</tbody>\n",
       "</table>\n"
      ],
      "text/latex": [
       "A anova: 2 × 6\n",
       "\\begin{tabular}{r|llllll}\n",
       "  & Res.Df & RSS & Df & Sum of Sq & F & Pr(>F)\\\\\n",
       "  & <dbl> & <dbl> & <dbl> & <dbl> & <dbl> & <dbl>\\\\\n",
       "\\hline\n",
       "\t1 & 258 & 257.0185 & NA &       NA &        NA &        NA\\\\\n",
       "\t2 & 246 & 247.3048 & 12 & 9.713764 & 0.8052095 & 0.6450001\\\\\n",
       "\\end{tabular}\n"
      ],
      "text/markdown": [
       "\n",
       "A anova: 2 × 6\n",
       "\n",
       "| <!--/--> | Res.Df &lt;dbl&gt; | RSS &lt;dbl&gt; | Df &lt;dbl&gt; | Sum of Sq &lt;dbl&gt; | F &lt;dbl&gt; | Pr(&gt;F) &lt;dbl&gt; |\n",
       "|---|---|---|---|---|---|---|\n",
       "| 1 | 258 | 257.0185 | NA |       NA |        NA |        NA |\n",
       "| 2 | 246 | 247.3048 | 12 | 9.713764 | 0.8052095 | 0.6450001 |\n",
       "\n"
      ],
      "text/plain": [
       "  Res.Df RSS      Df Sum of Sq F         Pr(>F)   \n",
       "1 258    257.0185 NA       NA         NA        NA\n",
       "2 246    247.3048 12 9.713764  0.8052095 0.6450001"
      ]
     },
     "metadata": {}
    }
   ],
   "metadata": {}
  },
  {
   "cell_type": "code",
   "execution_count": 114,
   "source": [
    "m3a"
   ],
   "outputs": [
    {
     "output_type": "display_data",
     "data": {
      "text/plain": [
       "\n",
       "Call:\n",
       "lm(formula = formula, data = data)\n",
       "\n",
       "Coefficients:\n",
       "          (Intercept)               PSE_subt             range_subt  \n",
       "               -26.34                   6.70                 101.86  \n",
       "            bias_subt             sigma_subt                 PSE_pf  \n",
       "                56.71                 208.05                 -33.73  \n",
       "             slope_pf                bias_pf    PSE_subt:range_subt  \n",
       "               -32.78                 -43.42                 -62.60  \n",
       "   PSE_subt:bias_subt    PSE_subt:sigma_subt   range_subt:bias_subt  \n",
       "               100.57                -306.88                -114.07  \n",
       "range_subt:sigma_subt   bias_subt:sigma_subt        PSE_pf:slope_pf  \n",
       "                95.95                -181.57                  16.31  \n",
       "       PSE_pf:bias_pf       slope_pf:bias_pf  \n",
       "               -13.25                  46.53  \n"
      ]
     },
     "metadata": {}
    }
   ],
   "metadata": {}
  },
  {
   "cell_type": "code",
   "execution_count": 117,
   "source": [
    "anova(m1,m3,m3a,m3c)"
   ],
   "outputs": [
    {
     "output_type": "display_data",
     "data": {
      "text/html": [
       "<table class=\"dataframe\">\n",
       "<caption>A anova: 4 × 6</caption>\n",
       "<thead>\n",
       "\t<tr><th></th><th scope=col>Res.Df</th><th scope=col>RSS</th><th scope=col>Df</th><th scope=col>Sum of Sq</th><th scope=col>F</th><th scope=col>Pr(&gt;F)</th></tr>\n",
       "\t<tr><th></th><th scope=col>&lt;dbl&gt;</th><th scope=col>&lt;dbl&gt;</th><th scope=col>&lt;dbl&gt;</th><th scope=col>&lt;dbl&gt;</th><th scope=col>&lt;dbl&gt;</th><th scope=col>&lt;dbl&gt;</th></tr>\n",
       "</thead>\n",
       "<tbody>\n",
       "\t<tr><th scope=row>1</th><td>270</td><td>108998.97</td><td>NA</td><td>       NA</td><td>       NA</td><td>       NA</td></tr>\n",
       "\t<tr><th scope=row>2</th><td>267</td><td>108064.01</td><td> 3</td><td> 934.9569</td><td>0.7697511</td><td>0.5119193</td></tr>\n",
       "\t<tr><th scope=row>3</th><td>258</td><td>103511.14</td><td> 9</td><td>4552.8699</td><td>1.2494609</td><td>0.2655013</td></tr>\n",
       "\t<tr><th scope=row>4</th><td>246</td><td> 99599.04</td><td>12</td><td>3912.1024</td><td>0.8052095</td><td>0.6450001</td></tr>\n",
       "</tbody>\n",
       "</table>\n"
      ],
      "text/latex": [
       "A anova: 4 × 6\n",
       "\\begin{tabular}{r|llllll}\n",
       "  & Res.Df & RSS & Df & Sum of Sq & F & Pr(>F)\\\\\n",
       "  & <dbl> & <dbl> & <dbl> & <dbl> & <dbl> & <dbl>\\\\\n",
       "\\hline\n",
       "\t1 & 270 & 108998.97 & NA &        NA &        NA &        NA\\\\\n",
       "\t2 & 267 & 108064.01 &  3 &  934.9569 & 0.7697511 & 0.5119193\\\\\n",
       "\t3 & 258 & 103511.14 &  9 & 4552.8699 & 1.2494609 & 0.2655013\\\\\n",
       "\t4 & 246 &  99599.04 & 12 & 3912.1024 & 0.8052095 & 0.6450001\\\\\n",
       "\\end{tabular}\n"
      ],
      "text/markdown": [
       "\n",
       "A anova: 4 × 6\n",
       "\n",
       "| <!--/--> | Res.Df &lt;dbl&gt; | RSS &lt;dbl&gt; | Df &lt;dbl&gt; | Sum of Sq &lt;dbl&gt; | F &lt;dbl&gt; | Pr(&gt;F) &lt;dbl&gt; |\n",
       "|---|---|---|---|---|---|---|\n",
       "| 1 | 270 | 108998.97 | NA |        NA |        NA |        NA |\n",
       "| 2 | 267 | 108064.01 |  3 |  934.9569 | 0.7697511 | 0.5119193 |\n",
       "| 3 | 258 | 103511.14 |  9 | 4552.8699 | 1.2494609 | 0.2655013 |\n",
       "| 4 | 246 |  99599.04 | 12 | 3912.1024 | 0.8052095 | 0.6450001 |\n",
       "\n"
      ],
      "text/plain": [
       "  Res.Df RSS       Df Sum of Sq F         Pr(>F)   \n",
       "1 270    108998.97 NA        NA        NA        NA\n",
       "2 267    108064.01  3  934.9569 0.7697511 0.5119193\n",
       "3 258    103511.14  9 4552.8699 1.2494609 0.2655013\n",
       "4 246     99599.04 12 3912.1024 0.8052095 0.6450001"
      ]
     },
     "metadata": {}
    }
   ],
   "metadata": {}
  },
  {
   "cell_type": "code",
   "execution_count": 118,
   "source": [
    "anova(m1z,m3z,m3az,m3cz)"
   ],
   "outputs": [
    {
     "output_type": "display_data",
     "data": {
      "text/html": [
       "<table class=\"dataframe\">\n",
       "<caption>A anova: 4 × 6</caption>\n",
       "<thead>\n",
       "\t<tr><th></th><th scope=col>Res.Df</th><th scope=col>RSS</th><th scope=col>Df</th><th scope=col>Sum of Sq</th><th scope=col>F</th><th scope=col>Pr(&gt;F)</th></tr>\n",
       "\t<tr><th></th><th scope=col>&lt;dbl&gt;</th><th scope=col>&lt;dbl&gt;</th><th scope=col>&lt;dbl&gt;</th><th scope=col>&lt;dbl&gt;</th><th scope=col>&lt;dbl&gt;</th><th scope=col>&lt;dbl&gt;</th></tr>\n",
       "</thead>\n",
       "<tbody>\n",
       "\t<tr><th scope=row>1</th><td>270</td><td>270.6448</td><td>NA</td><td>       NA</td><td>       NA</td><td>       NA</td></tr>\n",
       "\t<tr><th scope=row>2</th><td>267</td><td>268.3233</td><td> 3</td><td> 2.321501</td><td>0.7697511</td><td>0.5119193</td></tr>\n",
       "\t<tr><th scope=row>3</th><td>258</td><td>257.0185</td><td> 9</td><td>11.304793</td><td>1.2494609</td><td>0.2655013</td></tr>\n",
       "\t<tr><th scope=row>4</th><td>246</td><td>247.3048</td><td>12</td><td> 9.713764</td><td>0.8052095</td><td>0.6450001</td></tr>\n",
       "</tbody>\n",
       "</table>\n"
      ],
      "text/latex": [
       "A anova: 4 × 6\n",
       "\\begin{tabular}{r|llllll}\n",
       "  & Res.Df & RSS & Df & Sum of Sq & F & Pr(>F)\\\\\n",
       "  & <dbl> & <dbl> & <dbl> & <dbl> & <dbl> & <dbl>\\\\\n",
       "\\hline\n",
       "\t1 & 270 & 270.6448 & NA &        NA &        NA &        NA\\\\\n",
       "\t2 & 267 & 268.3233 &  3 &  2.321501 & 0.7697511 & 0.5119193\\\\\n",
       "\t3 & 258 & 257.0185 &  9 & 11.304793 & 1.2494609 & 0.2655013\\\\\n",
       "\t4 & 246 & 247.3048 & 12 &  9.713764 & 0.8052095 & 0.6450001\\\\\n",
       "\\end{tabular}\n"
      ],
      "text/markdown": [
       "\n",
       "A anova: 4 × 6\n",
       "\n",
       "| <!--/--> | Res.Df &lt;dbl&gt; | RSS &lt;dbl&gt; | Df &lt;dbl&gt; | Sum of Sq &lt;dbl&gt; | F &lt;dbl&gt; | Pr(&gt;F) &lt;dbl&gt; |\n",
       "|---|---|---|---|---|---|---|\n",
       "| 1 | 270 | 270.6448 | NA |        NA |        NA |        NA |\n",
       "| 2 | 267 | 268.3233 |  3 |  2.321501 | 0.7697511 | 0.5119193 |\n",
       "| 3 | 258 | 257.0185 |  9 | 11.304793 | 1.2494609 | 0.2655013 |\n",
       "| 4 | 246 | 247.3048 | 12 |  9.713764 | 0.8052095 | 0.6450001 |\n",
       "\n"
      ],
      "text/plain": [
       "  Res.Df RSS      Df Sum of Sq F         Pr(>F)   \n",
       "1 270    270.6448 NA        NA        NA        NA\n",
       "2 267    268.3233  3  2.321501 0.7697511 0.5119193\n",
       "3 258    257.0185  9 11.304793 1.2494609 0.2655013\n",
       "4 246    247.3048 12  9.713764 0.8052095 0.6450001"
      ]
     },
     "metadata": {}
    }
   ],
   "metadata": {}
  },
  {
   "cell_type": "code",
   "execution_count": 119,
   "source": [
    "anova(m2,m3,m3a,m3c)"
   ],
   "outputs": [
    {
     "output_type": "display_data",
     "data": {
      "text/html": [
       "<table class=\"dataframe\">\n",
       "<caption>A anova: 4 × 6</caption>\n",
       "<thead>\n",
       "\t<tr><th></th><th scope=col>Res.Df</th><th scope=col>RSS</th><th scope=col>Df</th><th scope=col>Sum of Sq</th><th scope=col>F</th><th scope=col>Pr(&gt;F)</th></tr>\n",
       "\t<tr><th></th><th scope=col>&lt;dbl&gt;</th><th scope=col>&lt;dbl&gt;</th><th scope=col>&lt;dbl&gt;</th><th scope=col>&lt;dbl&gt;</th><th scope=col>&lt;dbl&gt;</th><th scope=col>&lt;dbl&gt;</th></tr>\n",
       "</thead>\n",
       "<tbody>\n",
       "\t<tr><th scope=row>1</th><td>271</td><td>109369.12</td><td>NA</td><td>      NA</td><td>       NA</td><td>       NA</td></tr>\n",
       "\t<tr><th scope=row>2</th><td>267</td><td>108064.01</td><td> 4</td><td>1305.107</td><td>0.8058722</td><td>0.5224263</td></tr>\n",
       "\t<tr><th scope=row>3</th><td>258</td><td>103511.14</td><td> 9</td><td>4552.870</td><td>1.2494609</td><td>0.2655013</td></tr>\n",
       "\t<tr><th scope=row>4</th><td>246</td><td> 99599.04</td><td>12</td><td>3912.102</td><td>0.8052095</td><td>0.6450001</td></tr>\n",
       "</tbody>\n",
       "</table>\n"
      ],
      "text/latex": [
       "A anova: 4 × 6\n",
       "\\begin{tabular}{r|llllll}\n",
       "  & Res.Df & RSS & Df & Sum of Sq & F & Pr(>F)\\\\\n",
       "  & <dbl> & <dbl> & <dbl> & <dbl> & <dbl> & <dbl>\\\\\n",
       "\\hline\n",
       "\t1 & 271 & 109369.12 & NA &       NA &        NA &        NA\\\\\n",
       "\t2 & 267 & 108064.01 &  4 & 1305.107 & 0.8058722 & 0.5224263\\\\\n",
       "\t3 & 258 & 103511.14 &  9 & 4552.870 & 1.2494609 & 0.2655013\\\\\n",
       "\t4 & 246 &  99599.04 & 12 & 3912.102 & 0.8052095 & 0.6450001\\\\\n",
       "\\end{tabular}\n"
      ],
      "text/markdown": [
       "\n",
       "A anova: 4 × 6\n",
       "\n",
       "| <!--/--> | Res.Df &lt;dbl&gt; | RSS &lt;dbl&gt; | Df &lt;dbl&gt; | Sum of Sq &lt;dbl&gt; | F &lt;dbl&gt; | Pr(&gt;F) &lt;dbl&gt; |\n",
       "|---|---|---|---|---|---|---|\n",
       "| 1 | 271 | 109369.12 | NA |       NA |        NA |        NA |\n",
       "| 2 | 267 | 108064.01 |  4 | 1305.107 | 0.8058722 | 0.5224263 |\n",
       "| 3 | 258 | 103511.14 |  9 | 4552.870 | 1.2494609 | 0.2655013 |\n",
       "| 4 | 246 |  99599.04 | 12 | 3912.102 | 0.8052095 | 0.6450001 |\n",
       "\n"
      ],
      "text/plain": [
       "  Res.Df RSS       Df Sum of Sq F         Pr(>F)   \n",
       "1 271    109369.12 NA       NA         NA        NA\n",
       "2 267    108064.01  4 1305.107  0.8058722 0.5224263\n",
       "3 258    103511.14  9 4552.870  1.2494609 0.2655013\n",
       "4 246     99599.04 12 3912.102  0.8052095 0.6450001"
      ]
     },
     "metadata": {}
    }
   ],
   "metadata": {}
  },
  {
   "cell_type": "code",
   "execution_count": 120,
   "source": [
    "anova(m2z,m3z,m3az,m3cz)"
   ],
   "outputs": [
    {
     "output_type": "display_data",
     "data": {
      "text/html": [
       "<table class=\"dataframe\">\n",
       "<caption>A anova: 4 × 6</caption>\n",
       "<thead>\n",
       "\t<tr><th></th><th scope=col>Res.Df</th><th scope=col>RSS</th><th scope=col>Df</th><th scope=col>Sum of Sq</th><th scope=col>F</th><th scope=col>Pr(&gt;F)</th></tr>\n",
       "\t<tr><th></th><th scope=col>&lt;dbl&gt;</th><th scope=col>&lt;dbl&gt;</th><th scope=col>&lt;dbl&gt;</th><th scope=col>&lt;dbl&gt;</th><th scope=col>&lt;dbl&gt;</th><th scope=col>&lt;dbl&gt;</th></tr>\n",
       "</thead>\n",
       "<tbody>\n",
       "\t<tr><th scope=row>1</th><td>271</td><td>271.5639</td><td>NA</td><td>       NA</td><td>       NA</td><td>       NA</td></tr>\n",
       "\t<tr><th scope=row>2</th><td>267</td><td>268.3233</td><td> 4</td><td> 3.240586</td><td>0.8058722</td><td>0.5224263</td></tr>\n",
       "\t<tr><th scope=row>3</th><td>258</td><td>257.0185</td><td> 9</td><td>11.304793</td><td>1.2494609</td><td>0.2655013</td></tr>\n",
       "\t<tr><th scope=row>4</th><td>246</td><td>247.3048</td><td>12</td><td> 9.713764</td><td>0.8052095</td><td>0.6450001</td></tr>\n",
       "</tbody>\n",
       "</table>\n"
      ],
      "text/latex": [
       "A anova: 4 × 6\n",
       "\\begin{tabular}{r|llllll}\n",
       "  & Res.Df & RSS & Df & Sum of Sq & F & Pr(>F)\\\\\n",
       "  & <dbl> & <dbl> & <dbl> & <dbl> & <dbl> & <dbl>\\\\\n",
       "\\hline\n",
       "\t1 & 271 & 271.5639 & NA &        NA &        NA &        NA\\\\\n",
       "\t2 & 267 & 268.3233 &  4 &  3.240586 & 0.8058722 & 0.5224263\\\\\n",
       "\t3 & 258 & 257.0185 &  9 & 11.304793 & 1.2494609 & 0.2655013\\\\\n",
       "\t4 & 246 & 247.3048 & 12 &  9.713764 & 0.8052095 & 0.6450001\\\\\n",
       "\\end{tabular}\n"
      ],
      "text/markdown": [
       "\n",
       "A anova: 4 × 6\n",
       "\n",
       "| <!--/--> | Res.Df &lt;dbl&gt; | RSS &lt;dbl&gt; | Df &lt;dbl&gt; | Sum of Sq &lt;dbl&gt; | F &lt;dbl&gt; | Pr(&gt;F) &lt;dbl&gt; |\n",
       "|---|---|---|---|---|---|---|\n",
       "| 1 | 271 | 271.5639 | NA |        NA |        NA |        NA |\n",
       "| 2 | 267 | 268.3233 |  4 |  3.240586 | 0.8058722 | 0.5224263 |\n",
       "| 3 | 258 | 257.0185 |  9 | 11.304793 | 1.2494609 | 0.2655013 |\n",
       "| 4 | 246 | 247.3048 | 12 |  9.713764 | 0.8052095 | 0.6450001 |\n",
       "\n"
      ],
      "text/plain": [
       "  Res.Df RSS      Df Sum of Sq F         Pr(>F)   \n",
       "1 271    271.5639 NA        NA        NA        NA\n",
       "2 267    268.3233  4  3.240586 0.8058722 0.5224263\n",
       "3 258    257.0185  9 11.304793 1.2494609 0.2655013\n",
       "4 246    247.3048 12  9.713764 0.8052095 0.6450001"
      ]
     },
     "metadata": {}
    }
   ],
   "metadata": {}
  },
  {
   "cell_type": "code",
   "execution_count": 87,
   "source": [
    "anova(m1,m1a,m3a,m3c)"
   ],
   "outputs": [
    {
     "output_type": "display_data",
     "data": {
      "text/html": [
       "<table class=\"dataframe\">\n",
       "<caption>A anova: 5 × 6</caption>\n",
       "<thead>\n",
       "\t<tr><th></th><th scope=col>Res.Df</th><th scope=col>RSS</th><th scope=col>Df</th><th scope=col>Sum of Sq</th><th scope=col>F</th><th scope=col>Pr(&gt;F)</th></tr>\n",
       "\t<tr><th></th><th scope=col>&lt;dbl&gt;</th><th scope=col>&lt;dbl&gt;</th><th scope=col>&lt;dbl&gt;</th><th scope=col>&lt;dbl&gt;</th><th scope=col>&lt;dbl&gt;</th><th scope=col>&lt;dbl&gt;</th></tr>\n",
       "</thead>\n",
       "<tbody>\n",
       "\t<tr><th scope=row>1</th><td>270</td><td>108998.97</td><td>NA</td><td>       NA</td><td>       NA</td><td>        NA</td></tr>\n",
       "\t<tr><th scope=row>2</th><td>264</td><td>105436.94</td><td> 6</td><td> 3562.035</td><td>1.4663136</td><td>0.19030704</td></tr>\n",
       "\t<tr><th scope=row>3</th><td>267</td><td>108064.01</td><td>-3</td><td>-2627.078</td><td>2.1628761</td><td>0.09297362</td></tr>\n",
       "\t<tr><th scope=row>4</th><td>258</td><td>103511.14</td><td> 9</td><td> 4552.870</td><td>1.2494609</td><td>0.26550133</td></tr>\n",
       "\t<tr><th scope=row>5</th><td>246</td><td> 99599.04</td><td>12</td><td> 3912.102</td><td>0.8052095</td><td>0.64500010</td></tr>\n",
       "</tbody>\n",
       "</table>\n"
      ],
      "text/latex": [
       "A anova: 5 × 6\n",
       "\\begin{tabular}{r|llllll}\n",
       "  & Res.Df & RSS & Df & Sum of Sq & F & Pr(>F)\\\\\n",
       "  & <dbl> & <dbl> & <dbl> & <dbl> & <dbl> & <dbl>\\\\\n",
       "\\hline\n",
       "\t1 & 270 & 108998.97 & NA &        NA &        NA &         NA\\\\\n",
       "\t2 & 264 & 105436.94 &  6 &  3562.035 & 1.4663136 & 0.19030704\\\\\n",
       "\t3 & 267 & 108064.01 & -3 & -2627.078 & 2.1628761 & 0.09297362\\\\\n",
       "\t4 & 258 & 103511.14 &  9 &  4552.870 & 1.2494609 & 0.26550133\\\\\n",
       "\t5 & 246 &  99599.04 & 12 &  3912.102 & 0.8052095 & 0.64500010\\\\\n",
       "\\end{tabular}\n"
      ],
      "text/markdown": [
       "\n",
       "A anova: 5 × 6\n",
       "\n",
       "| <!--/--> | Res.Df &lt;dbl&gt; | RSS &lt;dbl&gt; | Df &lt;dbl&gt; | Sum of Sq &lt;dbl&gt; | F &lt;dbl&gt; | Pr(&gt;F) &lt;dbl&gt; |\n",
       "|---|---|---|---|---|---|---|\n",
       "| 1 | 270 | 108998.97 | NA |        NA |        NA |         NA |\n",
       "| 2 | 264 | 105436.94 |  6 |  3562.035 | 1.4663136 | 0.19030704 |\n",
       "| 3 | 267 | 108064.01 | -3 | -2627.078 | 2.1628761 | 0.09297362 |\n",
       "| 4 | 258 | 103511.14 |  9 |  4552.870 | 1.2494609 | 0.26550133 |\n",
       "| 5 | 246 |  99599.04 | 12 |  3912.102 | 0.8052095 | 0.64500010 |\n",
       "\n"
      ],
      "text/plain": [
       "  Res.Df RSS       Df Sum of Sq F         Pr(>F)    \n",
       "1 270    108998.97 NA        NA        NA         NA\n",
       "2 264    105436.94  6  3562.035 1.4663136 0.19030704\n",
       "3 267    108064.01 -3 -2627.078 2.1628761 0.09297362\n",
       "4 258    103511.14  9  4552.870 1.2494609 0.26550133\n",
       "5 246     99599.04 12  3912.102 0.8052095 0.64500010"
      ]
     },
     "metadata": {}
    }
   ],
   "metadata": {}
  },
  {
   "cell_type": "code",
   "execution_count": 121,
   "source": [
    "anova(m1z,m1az,m3az,m3cz)"
   ],
   "outputs": [
    {
     "output_type": "display_data",
     "data": {
      "text/html": [
       "<table class=\"dataframe\">\n",
       "<caption>A anova: 4 × 6</caption>\n",
       "<thead>\n",
       "\t<tr><th></th><th scope=col>Res.Df</th><th scope=col>RSS</th><th scope=col>Df</th><th scope=col>Sum of Sq</th><th scope=col>F</th><th scope=col>Pr(&gt;F)</th></tr>\n",
       "\t<tr><th></th><th scope=col>&lt;dbl&gt;</th><th scope=col>&lt;dbl&gt;</th><th scope=col>&lt;dbl&gt;</th><th scope=col>&lt;dbl&gt;</th><th scope=col>&lt;dbl&gt;</th><th scope=col>&lt;dbl&gt;</th></tr>\n",
       "</thead>\n",
       "<tbody>\n",
       "\t<tr><th scope=row>1</th><td>270</td><td>270.6448</td><td>NA</td><td>      NA</td><td>       NA</td><td>       NA</td></tr>\n",
       "\t<tr><th scope=row>2</th><td>264</td><td>261.8003</td><td> 6</td><td>8.844545</td><td>1.4663136</td><td>0.1903070</td></tr>\n",
       "\t<tr><th scope=row>3</th><td>258</td><td>257.0185</td><td> 6</td><td>4.781749</td><td>0.7927534</td><td>0.5763512</td></tr>\n",
       "\t<tr><th scope=row>4</th><td>246</td><td>247.3048</td><td>12</td><td>9.713764</td><td>0.8052095</td><td>0.6450001</td></tr>\n",
       "</tbody>\n",
       "</table>\n"
      ],
      "text/latex": [
       "A anova: 4 × 6\n",
       "\\begin{tabular}{r|llllll}\n",
       "  & Res.Df & RSS & Df & Sum of Sq & F & Pr(>F)\\\\\n",
       "  & <dbl> & <dbl> & <dbl> & <dbl> & <dbl> & <dbl>\\\\\n",
       "\\hline\n",
       "\t1 & 270 & 270.6448 & NA &       NA &        NA &        NA\\\\\n",
       "\t2 & 264 & 261.8003 &  6 & 8.844545 & 1.4663136 & 0.1903070\\\\\n",
       "\t3 & 258 & 257.0185 &  6 & 4.781749 & 0.7927534 & 0.5763512\\\\\n",
       "\t4 & 246 & 247.3048 & 12 & 9.713764 & 0.8052095 & 0.6450001\\\\\n",
       "\\end{tabular}\n"
      ],
      "text/markdown": [
       "\n",
       "A anova: 4 × 6\n",
       "\n",
       "| <!--/--> | Res.Df &lt;dbl&gt; | RSS &lt;dbl&gt; | Df &lt;dbl&gt; | Sum of Sq &lt;dbl&gt; | F &lt;dbl&gt; | Pr(&gt;F) &lt;dbl&gt; |\n",
       "|---|---|---|---|---|---|---|\n",
       "| 1 | 270 | 270.6448 | NA |       NA |        NA |        NA |\n",
       "| 2 | 264 | 261.8003 |  6 | 8.844545 | 1.4663136 | 0.1903070 |\n",
       "| 3 | 258 | 257.0185 |  6 | 4.781749 | 0.7927534 | 0.5763512 |\n",
       "| 4 | 246 | 247.3048 | 12 | 9.713764 | 0.8052095 | 0.6450001 |\n",
       "\n"
      ],
      "text/plain": [
       "  Res.Df RSS      Df Sum of Sq F         Pr(>F)   \n",
       "1 270    270.6448 NA       NA         NA        NA\n",
       "2 264    261.8003  6 8.844545  1.4663136 0.1903070\n",
       "3 258    257.0185  6 4.781749  0.7927534 0.5763512\n",
       "4 246    247.3048 12 9.713764  0.8052095 0.6450001"
      ]
     },
     "metadata": {}
    }
   ],
   "metadata": {}
  },
  {
   "cell_type": "code",
   "execution_count": 90,
   "source": [
    "anova(m2,m2a,m3a,m3c)"
   ],
   "outputs": [
    {
     "output_type": "display_data",
     "data": {
      "text/html": [
       "<table class=\"dataframe\">\n",
       "<caption>A anova: 4 × 6</caption>\n",
       "<thead>\n",
       "\t<tr><th></th><th scope=col>Res.Df</th><th scope=col>RSS</th><th scope=col>Df</th><th scope=col>Sum of Sq</th><th scope=col>F</th><th scope=col>Pr(&gt;F)</th></tr>\n",
       "\t<tr><th></th><th scope=col>&lt;dbl&gt;</th><th scope=col>&lt;dbl&gt;</th><th scope=col>&lt;dbl&gt;</th><th scope=col>&lt;dbl&gt;</th><th scope=col>&lt;dbl&gt;</th><th scope=col>&lt;dbl&gt;</th></tr>\n",
       "</thead>\n",
       "<tbody>\n",
       "\t<tr><th scope=row>1</th><td>271</td><td>109369.12</td><td>NA</td><td>       NA</td><td>       NA</td><td>       NA</td></tr>\n",
       "\t<tr><th scope=row>2</th><td>268</td><td>108821.36</td><td> 3</td><td> 547.7615</td><td>0.4509726</td><td>0.7168361</td></tr>\n",
       "\t<tr><th scope=row>3</th><td>258</td><td>103511.14</td><td>10</td><td>5310.2157</td><td>1.3115719</td><td>0.2245636</td></tr>\n",
       "\t<tr><th scope=row>4</th><td>246</td><td> 99599.04</td><td>12</td><td>3912.1024</td><td>0.8052095</td><td>0.6450001</td></tr>\n",
       "</tbody>\n",
       "</table>\n"
      ],
      "text/latex": [
       "A anova: 4 × 6\n",
       "\\begin{tabular}{r|llllll}\n",
       "  & Res.Df & RSS & Df & Sum of Sq & F & Pr(>F)\\\\\n",
       "  & <dbl> & <dbl> & <dbl> & <dbl> & <dbl> & <dbl>\\\\\n",
       "\\hline\n",
       "\t1 & 271 & 109369.12 & NA &        NA &        NA &        NA\\\\\n",
       "\t2 & 268 & 108821.36 &  3 &  547.7615 & 0.4509726 & 0.7168361\\\\\n",
       "\t3 & 258 & 103511.14 & 10 & 5310.2157 & 1.3115719 & 0.2245636\\\\\n",
       "\t4 & 246 &  99599.04 & 12 & 3912.1024 & 0.8052095 & 0.6450001\\\\\n",
       "\\end{tabular}\n"
      ],
      "text/markdown": [
       "\n",
       "A anova: 4 × 6\n",
       "\n",
       "| <!--/--> | Res.Df &lt;dbl&gt; | RSS &lt;dbl&gt; | Df &lt;dbl&gt; | Sum of Sq &lt;dbl&gt; | F &lt;dbl&gt; | Pr(&gt;F) &lt;dbl&gt; |\n",
       "|---|---|---|---|---|---|---|\n",
       "| 1 | 271 | 109369.12 | NA |        NA |        NA |        NA |\n",
       "| 2 | 268 | 108821.36 |  3 |  547.7615 | 0.4509726 | 0.7168361 |\n",
       "| 3 | 258 | 103511.14 | 10 | 5310.2157 | 1.3115719 | 0.2245636 |\n",
       "| 4 | 246 |  99599.04 | 12 | 3912.1024 | 0.8052095 | 0.6450001 |\n",
       "\n"
      ],
      "text/plain": [
       "  Res.Df RSS       Df Sum of Sq F         Pr(>F)   \n",
       "1 271    109369.12 NA        NA        NA        NA\n",
       "2 268    108821.36  3  547.7615 0.4509726 0.7168361\n",
       "3 258    103511.14 10 5310.2157 1.3115719 0.2245636\n",
       "4 246     99599.04 12 3912.1024 0.8052095 0.6450001"
      ]
     },
     "metadata": {}
    }
   ],
   "metadata": {}
  },
  {
   "cell_type": "code",
   "execution_count": 122,
   "source": [
    "anova(m2z,m2az,m3az,m3cz)"
   ],
   "outputs": [
    {
     "output_type": "display_data",
     "data": {
      "text/html": [
       "<table class=\"dataframe\">\n",
       "<caption>A anova: 4 × 6</caption>\n",
       "<thead>\n",
       "\t<tr><th></th><th scope=col>Res.Df</th><th scope=col>RSS</th><th scope=col>Df</th><th scope=col>Sum of Sq</th><th scope=col>F</th><th scope=col>Pr(&gt;F)</th></tr>\n",
       "\t<tr><th></th><th scope=col>&lt;dbl&gt;</th><th scope=col>&lt;dbl&gt;</th><th scope=col>&lt;dbl&gt;</th><th scope=col>&lt;dbl&gt;</th><th scope=col>&lt;dbl&gt;</th><th scope=col>&lt;dbl&gt;</th></tr>\n",
       "</thead>\n",
       "<tbody>\n",
       "\t<tr><th scope=row>1</th><td>271</td><td>271.5639</td><td>NA</td><td>       NA</td><td>       NA</td><td>       NA</td></tr>\n",
       "\t<tr><th scope=row>2</th><td>268</td><td>270.2038</td><td> 3</td><td> 1.360094</td><td>0.4509726</td><td>0.7168361</td></tr>\n",
       "\t<tr><th scope=row>3</th><td>258</td><td>257.0185</td><td>10</td><td>13.185285</td><td>1.3115719</td><td>0.2245636</td></tr>\n",
       "\t<tr><th scope=row>4</th><td>246</td><td>247.3048</td><td>12</td><td> 9.713764</td><td>0.8052095</td><td>0.6450001</td></tr>\n",
       "</tbody>\n",
       "</table>\n"
      ],
      "text/latex": [
       "A anova: 4 × 6\n",
       "\\begin{tabular}{r|llllll}\n",
       "  & Res.Df & RSS & Df & Sum of Sq & F & Pr(>F)\\\\\n",
       "  & <dbl> & <dbl> & <dbl> & <dbl> & <dbl> & <dbl>\\\\\n",
       "\\hline\n",
       "\t1 & 271 & 271.5639 & NA &        NA &        NA &        NA\\\\\n",
       "\t2 & 268 & 270.2038 &  3 &  1.360094 & 0.4509726 & 0.7168361\\\\\n",
       "\t3 & 258 & 257.0185 & 10 & 13.185285 & 1.3115719 & 0.2245636\\\\\n",
       "\t4 & 246 & 247.3048 & 12 &  9.713764 & 0.8052095 & 0.6450001\\\\\n",
       "\\end{tabular}\n"
      ],
      "text/markdown": [
       "\n",
       "A anova: 4 × 6\n",
       "\n",
       "| <!--/--> | Res.Df &lt;dbl&gt; | RSS &lt;dbl&gt; | Df &lt;dbl&gt; | Sum of Sq &lt;dbl&gt; | F &lt;dbl&gt; | Pr(&gt;F) &lt;dbl&gt; |\n",
       "|---|---|---|---|---|---|---|\n",
       "| 1 | 271 | 271.5639 | NA |        NA |        NA |        NA |\n",
       "| 2 | 268 | 270.2038 |  3 |  1.360094 | 0.4509726 | 0.7168361 |\n",
       "| 3 | 258 | 257.0185 | 10 | 13.185285 | 1.3115719 | 0.2245636 |\n",
       "| 4 | 246 | 247.3048 | 12 |  9.713764 | 0.8052095 | 0.6450001 |\n",
       "\n"
      ],
      "text/plain": [
       "  Res.Df RSS      Df Sum of Sq F         Pr(>F)   \n",
       "1 271    271.5639 NA        NA        NA        NA\n",
       "2 268    270.2038  3  1.360094 0.4509726 0.7168361\n",
       "3 258    257.0185 10 13.185285 1.3115719 0.2245636\n",
       "4 246    247.3048 12  9.713764 0.8052095 0.6450001"
      ]
     },
     "metadata": {}
    }
   ],
   "metadata": {}
  },
  {
   "cell_type": "code",
   "execution_count": 92,
   "source": [
    "anova(m3,m3b,m3c)"
   ],
   "outputs": [
    {
     "output_type": "display_data",
     "data": {
      "text/html": [
       "<table class=\"dataframe\">\n",
       "<caption>A anova: 3 × 6</caption>\n",
       "<thead>\n",
       "\t<tr><th></th><th scope=col>Res.Df</th><th scope=col>RSS</th><th scope=col>Df</th><th scope=col>Sum of Sq</th><th scope=col>F</th><th scope=col>Pr(&gt;F)</th></tr>\n",
       "\t<tr><th></th><th scope=col>&lt;dbl&gt;</th><th scope=col>&lt;dbl&gt;</th><th scope=col>&lt;dbl&gt;</th><th scope=col>&lt;dbl&gt;</th><th scope=col>&lt;dbl&gt;</th><th scope=col>&lt;dbl&gt;</th></tr>\n",
       "</thead>\n",
       "<tbody>\n",
       "\t<tr><th scope=row>1</th><td>267</td><td>108064.01</td><td>NA</td><td>      NA</td><td>       NA</td><td>       NA</td></tr>\n",
       "\t<tr><th scope=row>2</th><td>255</td><td>103230.05</td><td>12</td><td>4833.967</td><td>0.9949525</td><td>0.4542566</td></tr>\n",
       "\t<tr><th scope=row>3</th><td>246</td><td> 99599.04</td><td> 9</td><td>3631.006</td><td>0.9964703</td><td>0.4434708</td></tr>\n",
       "</tbody>\n",
       "</table>\n"
      ],
      "text/latex": [
       "A anova: 3 × 6\n",
       "\\begin{tabular}{r|llllll}\n",
       "  & Res.Df & RSS & Df & Sum of Sq & F & Pr(>F)\\\\\n",
       "  & <dbl> & <dbl> & <dbl> & <dbl> & <dbl> & <dbl>\\\\\n",
       "\\hline\n",
       "\t1 & 267 & 108064.01 & NA &       NA &        NA &        NA\\\\\n",
       "\t2 & 255 & 103230.05 & 12 & 4833.967 & 0.9949525 & 0.4542566\\\\\n",
       "\t3 & 246 &  99599.04 &  9 & 3631.006 & 0.9964703 & 0.4434708\\\\\n",
       "\\end{tabular}\n"
      ],
      "text/markdown": [
       "\n",
       "A anova: 3 × 6\n",
       "\n",
       "| <!--/--> | Res.Df &lt;dbl&gt; | RSS &lt;dbl&gt; | Df &lt;dbl&gt; | Sum of Sq &lt;dbl&gt; | F &lt;dbl&gt; | Pr(&gt;F) &lt;dbl&gt; |\n",
       "|---|---|---|---|---|---|---|\n",
       "| 1 | 267 | 108064.01 | NA |       NA |        NA |        NA |\n",
       "| 2 | 255 | 103230.05 | 12 | 4833.967 | 0.9949525 | 0.4542566 |\n",
       "| 3 | 246 |  99599.04 |  9 | 3631.006 | 0.9964703 | 0.4434708 |\n",
       "\n"
      ],
      "text/plain": [
       "  Res.Df RSS       Df Sum of Sq F         Pr(>F)   \n",
       "1 267    108064.01 NA       NA         NA        NA\n",
       "2 255    103230.05 12 4833.967  0.9949525 0.4542566\n",
       "3 246     99599.04  9 3631.006  0.9964703 0.4434708"
      ]
     },
     "metadata": {}
    }
   ],
   "metadata": {}
  },
  {
   "cell_type": "code",
   "execution_count": 86,
   "source": [
    "aic_results <- AIC(m1,m1a,m2,m2a,m3,m3a,m3b,m3c)\n",
    "aic_results"
   ],
   "outputs": [
    {
     "output_type": "display_data",
     "data": {
      "text/html": [
       "<table class=\"dataframe\">\n",
       "<caption>A data.frame: 8 × 2</caption>\n",
       "<thead>\n",
       "\t<tr><th></th><th scope=col>df</th><th scope=col>AIC</th></tr>\n",
       "\t<tr><th></th><th scope=col>&lt;dbl&gt;</th><th scope=col>&lt;dbl&gt;</th></tr>\n",
       "</thead>\n",
       "<tbody>\n",
       "\t<tr><th scope=row>m1</th><td> 6</td><td>2437.555</td></tr>\n",
       "\t<tr><th scope=row>m1a</th><td>12</td><td>2440.418</td></tr>\n",
       "\t<tr><th scope=row>m2</th><td> 5</td><td>2436.487</td></tr>\n",
       "\t<tr><th scope=row>m2a</th><td> 8</td><td>2441.106</td></tr>\n",
       "\t<tr><th scope=row>m3</th><td> 9</td><td>2441.186</td></tr>\n",
       "\t<tr><th scope=row>m3a</th><td>18</td><td>2447.349</td></tr>\n",
       "\t<tr><th scope=row>m3b</th><td>21</td><td>2452.601</td></tr>\n",
       "\t<tr><th scope=row>m3c</th><td>30</td><td>2460.754</td></tr>\n",
       "</tbody>\n",
       "</table>\n"
      ],
      "text/latex": [
       "A data.frame: 8 × 2\n",
       "\\begin{tabular}{r|ll}\n",
       "  & df & AIC\\\\\n",
       "  & <dbl> & <dbl>\\\\\n",
       "\\hline\n",
       "\tm1 &  6 & 2437.555\\\\\n",
       "\tm1a & 12 & 2440.418\\\\\n",
       "\tm2 &  5 & 2436.487\\\\\n",
       "\tm2a &  8 & 2441.106\\\\\n",
       "\tm3 &  9 & 2441.186\\\\\n",
       "\tm3a & 18 & 2447.349\\\\\n",
       "\tm3b & 21 & 2452.601\\\\\n",
       "\tm3c & 30 & 2460.754\\\\\n",
       "\\end{tabular}\n"
      ],
      "text/markdown": [
       "\n",
       "A data.frame: 8 × 2\n",
       "\n",
       "| <!--/--> | df &lt;dbl&gt; | AIC &lt;dbl&gt; |\n",
       "|---|---|---|\n",
       "| m1 |  6 | 2437.555 |\n",
       "| m1a | 12 | 2440.418 |\n",
       "| m2 |  5 | 2436.487 |\n",
       "| m2a |  8 | 2441.106 |\n",
       "| m3 |  9 | 2441.186 |\n",
       "| m3a | 18 | 2447.349 |\n",
       "| m3b | 21 | 2452.601 |\n",
       "| m3c | 30 | 2460.754 |\n",
       "\n"
      ],
      "text/plain": [
       "    df AIC     \n",
       "m1   6 2437.555\n",
       "m1a 12 2440.418\n",
       "m2   5 2436.487\n",
       "m2a  8 2441.106\n",
       "m3   9 2441.186\n",
       "m3a 18 2447.349\n",
       "m3b 21 2452.601\n",
       "m3c 30 2460.754"
      ]
     },
     "metadata": {}
    }
   ],
   "metadata": {}
  },
  {
   "cell_type": "code",
   "execution_count": 123,
   "source": [
    "aic_results <- AIC(m1z,m1az,m2z,m2az,m3z,m3az,m3bz,m3cz)\n",
    "aic_results"
   ],
   "outputs": [
    {
     "output_type": "display_data",
     "data": {
      "text/html": [
       "<table class=\"dataframe\">\n",
       "<caption>A data.frame: 8 × 2</caption>\n",
       "<thead>\n",
       "\t<tr><th></th><th scope=col>df</th><th scope=col>AIC</th></tr>\n",
       "\t<tr><th></th><th scope=col>&lt;dbl&gt;</th><th scope=col>&lt;dbl&gt;</th></tr>\n",
       "</thead>\n",
       "<tbody>\n",
       "\t<tr><th scope=row>m1z</th><td> 6</td><td>788.0262</td></tr>\n",
       "\t<tr><th scope=row>m1az</th><td>12</td><td>790.8892</td></tr>\n",
       "\t<tr><th scope=row>m2z</th><td> 5</td><td>786.9585</td></tr>\n",
       "\t<tr><th scope=row>m2az</th><td> 8</td><td>791.5777</td></tr>\n",
       "\t<tr><th scope=row>m3z</th><td> 9</td><td>791.6571</td></tr>\n",
       "\t<tr><th scope=row>m3az</th><td>18</td><td>797.8199</td></tr>\n",
       "\t<tr><th scope=row>m3bz</th><td>21</td><td>803.0721</td></tr>\n",
       "\t<tr><th scope=row>m3cz</th><td>30</td><td>811.2251</td></tr>\n",
       "</tbody>\n",
       "</table>\n"
      ],
      "text/latex": [
       "A data.frame: 8 × 2\n",
       "\\begin{tabular}{r|ll}\n",
       "  & df & AIC\\\\\n",
       "  & <dbl> & <dbl>\\\\\n",
       "\\hline\n",
       "\tm1z &  6 & 788.0262\\\\\n",
       "\tm1az & 12 & 790.8892\\\\\n",
       "\tm2z &  5 & 786.9585\\\\\n",
       "\tm2az &  8 & 791.5777\\\\\n",
       "\tm3z &  9 & 791.6571\\\\\n",
       "\tm3az & 18 & 797.8199\\\\\n",
       "\tm3bz & 21 & 803.0721\\\\\n",
       "\tm3cz & 30 & 811.2251\\\\\n",
       "\\end{tabular}\n"
      ],
      "text/markdown": [
       "\n",
       "A data.frame: 8 × 2\n",
       "\n",
       "| <!--/--> | df &lt;dbl&gt; | AIC &lt;dbl&gt; |\n",
       "|---|---|---|\n",
       "| m1z |  6 | 788.0262 |\n",
       "| m1az | 12 | 790.8892 |\n",
       "| m2z |  5 | 786.9585 |\n",
       "| m2az |  8 | 791.5777 |\n",
       "| m3z |  9 | 791.6571 |\n",
       "| m3az | 18 | 797.8199 |\n",
       "| m3bz | 21 | 803.0721 |\n",
       "| m3cz | 30 | 811.2251 |\n",
       "\n"
      ],
      "text/plain": [
       "     df AIC     \n",
       "m1z   6 788.0262\n",
       "m1az 12 790.8892\n",
       "m2z   5 786.9585\n",
       "m2az  8 791.5777\n",
       "m3z   9 791.6571\n",
       "m3az 18 797.8199\n",
       "m3bz 21 803.0721\n",
       "m3cz 30 811.2251"
      ]
     },
     "metadata": {}
    }
   ],
   "metadata": {}
  },
  {
   "cell_type": "code",
   "execution_count": 38,
   "source": [
    "aic_results <- AIC(m1_subt,m3_both) \n",
    "aic_results"
   ],
   "outputs": [
    {
     "output_type": "display_data",
     "data": {
      "text/html": [
       "<table class=\"dataframe\">\n",
       "<caption>A data.frame: 2 × 2</caption>\n",
       "<thead>\n",
       "\t<tr><th></th><th scope=col>df</th><th scope=col>AIC</th></tr>\n",
       "\t<tr><th></th><th scope=col>&lt;dbl&gt;</th><th scope=col>&lt;dbl&gt;</th></tr>\n",
       "</thead>\n",
       "<tbody>\n",
       "\t<tr><th scope=row>m1_subt</th><td>6</td><td>2437.555</td></tr>\n",
       "\t<tr><th scope=row>m3_both</th><td>9</td><td>2441.186</td></tr>\n",
       "</tbody>\n",
       "</table>\n"
      ],
      "text/latex": [
       "A data.frame: 2 × 2\n",
       "\\begin{tabular}{r|ll}\n",
       "  & df & AIC\\\\\n",
       "  & <dbl> & <dbl>\\\\\n",
       "\\hline\n",
       "\tm1\\_subt & 6 & 2437.555\\\\\n",
       "\tm3\\_both & 9 & 2441.186\\\\\n",
       "\\end{tabular}\n"
      ],
      "text/markdown": [
       "\n",
       "A data.frame: 2 × 2\n",
       "\n",
       "| <!--/--> | df &lt;dbl&gt; | AIC &lt;dbl&gt; |\n",
       "|---|---|---|\n",
       "| m1_subt | 6 | 2437.555 |\n",
       "| m3_both | 9 | 2441.186 |\n",
       "\n"
      ],
      "text/plain": [
       "        df AIC     \n",
       "m1_subt 6  2437.555\n",
       "m3_both 9  2441.186"
      ]
     },
     "metadata": {}
    }
   ],
   "metadata": {}
  },
  {
   "cell_type": "code",
   "execution_count": 39,
   "source": [
    "anova(m2_pf,m3_both) "
   ],
   "outputs": [
    {
     "output_type": "display_data",
     "data": {
      "text/html": [
       "<table class=\"dataframe\">\n",
       "<caption>A anova: 2 × 6</caption>\n",
       "<thead>\n",
       "\t<tr><th></th><th scope=col>Res.Df</th><th scope=col>RSS</th><th scope=col>Df</th><th scope=col>Sum of Sq</th><th scope=col>F</th><th scope=col>Pr(&gt;F)</th></tr>\n",
       "\t<tr><th></th><th scope=col>&lt;dbl&gt;</th><th scope=col>&lt;dbl&gt;</th><th scope=col>&lt;dbl&gt;</th><th scope=col>&lt;dbl&gt;</th><th scope=col>&lt;dbl&gt;</th><th scope=col>&lt;dbl&gt;</th></tr>\n",
       "</thead>\n",
       "<tbody>\n",
       "\t<tr><th scope=row>1</th><td>271</td><td>109369.1</td><td>NA</td><td>      NA</td><td>       NA</td><td>       NA</td></tr>\n",
       "\t<tr><th scope=row>2</th><td>267</td><td>108064.0</td><td> 4</td><td>1305.107</td><td>0.8061509</td><td>0.5221481</td></tr>\n",
       "</tbody>\n",
       "</table>\n"
      ],
      "text/latex": [
       "A anova: 2 × 6\n",
       "\\begin{tabular}{r|llllll}\n",
       "  & Res.Df & RSS & Df & Sum of Sq & F & Pr(>F)\\\\\n",
       "  & <dbl> & <dbl> & <dbl> & <dbl> & <dbl> & <dbl>\\\\\n",
       "\\hline\n",
       "\t1 & 271 & 109369.1 & NA &       NA &        NA &        NA\\\\\n",
       "\t2 & 267 & 108064.0 &  4 & 1305.107 & 0.8061509 & 0.5221481\\\\\n",
       "\\end{tabular}\n"
      ],
      "text/markdown": [
       "\n",
       "A anova: 2 × 6\n",
       "\n",
       "| <!--/--> | Res.Df &lt;dbl&gt; | RSS &lt;dbl&gt; | Df &lt;dbl&gt; | Sum of Sq &lt;dbl&gt; | F &lt;dbl&gt; | Pr(&gt;F) &lt;dbl&gt; |\n",
       "|---|---|---|---|---|---|---|\n",
       "| 1 | 271 | 109369.1 | NA |       NA |        NA |        NA |\n",
       "| 2 | 267 | 108064.0 |  4 | 1305.107 | 0.8061509 | 0.5221481 |\n",
       "\n"
      ],
      "text/plain": [
       "  Res.Df RSS      Df Sum of Sq F         Pr(>F)   \n",
       "1 271    109369.1 NA       NA         NA        NA\n",
       "2 267    108064.0  4 1305.107  0.8061509 0.5221481"
      ]
     },
     "metadata": {}
    }
   ],
   "metadata": {}
  },
  {
   "cell_type": "code",
   "execution_count": 40,
   "source": [
    "aic_results <- AIC(m2_pf,m3_both) \n",
    "aic_results"
   ],
   "outputs": [
    {
     "output_type": "display_data",
     "data": {
      "text/html": [
       "<table class=\"dataframe\">\n",
       "<caption>A data.frame: 2 × 2</caption>\n",
       "<thead>\n",
       "\t<tr><th></th><th scope=col>df</th><th scope=col>AIC</th></tr>\n",
       "\t<tr><th></th><th scope=col>&lt;dbl&gt;</th><th scope=col>&lt;dbl&gt;</th></tr>\n",
       "</thead>\n",
       "<tbody>\n",
       "\t<tr><th scope=row>m2_pf</th><td>5</td><td>2436.487</td></tr>\n",
       "\t<tr><th scope=row>m3_both</th><td>9</td><td>2441.186</td></tr>\n",
       "</tbody>\n",
       "</table>\n"
      ],
      "text/latex": [
       "A data.frame: 2 × 2\n",
       "\\begin{tabular}{r|ll}\n",
       "  & df & AIC\\\\\n",
       "  & <dbl> & <dbl>\\\\\n",
       "\\hline\n",
       "\tm2\\_pf & 5 & 2436.487\\\\\n",
       "\tm3\\_both & 9 & 2441.186\\\\\n",
       "\\end{tabular}\n"
      ],
      "text/markdown": [
       "\n",
       "A data.frame: 2 × 2\n",
       "\n",
       "| <!--/--> | df &lt;dbl&gt; | AIC &lt;dbl&gt; |\n",
       "|---|---|---|\n",
       "| m2_pf | 5 | 2436.487 |\n",
       "| m3_both | 9 | 2441.186 |\n",
       "\n"
      ],
      "text/plain": [
       "        df AIC     \n",
       "m2_pf   5  2436.487\n",
       "m3_both 9  2441.186"
      ]
     },
     "metadata": {}
    }
   ],
   "metadata": {}
  },
  {
   "cell_type": "code",
   "execution_count": 41,
   "source": [
    "formula <- as.formula(paste(trait,\" ~ PSE_subt * range_subt * bias_subt * sigma_subt\"))\n",
    "m4_subt_int <- lm(formula, data = data)\n",
    "summary(m4_subt_int)"
   ],
   "outputs": [
    {
     "output_type": "display_data",
     "data": {
      "text/plain": [
       "\n",
       "Call:\n",
       "lm(formula = formula, data = data)\n",
       "\n",
       "Residuals:\n",
       "    Min      1Q  Median      3Q     Max \n",
       "-48.402 -13.653   0.252  12.103  52.548 \n",
       "\n",
       "Coefficients:\n",
       "                                         Estimate Std. Error t value Pr(>|t|)\n",
       "(Intercept)                                156.78     147.60   1.062    0.289\n",
       "PSE_subt                                  -329.69     289.65  -1.138    0.256\n",
       "range_subt                                -158.00     278.66  -0.567    0.571\n",
       "bias_subt                                 -204.04     174.11  -1.172    0.242\n",
       "sigma_subt                               -1078.21    1142.75  -0.944    0.346\n",
       "PSE_subt:range_subt                        279.66     562.67   0.497    0.620\n",
       "PSE_subt:bias_subt                         419.82     360.66   1.164    0.245\n",
       "range_subt:bias_subt                       192.88     327.60   0.589    0.557\n",
       "PSE_subt:sigma_subt                        636.56    1827.23   0.348    0.728\n",
       "range_subt:sigma_subt                     1068.65    2420.50   0.442    0.659\n",
       "bias_subt:sigma_subt                      1270.64    1386.66   0.916    0.360\n",
       "PSE_subt:range_subt:bias_subt             -320.56     678.98  -0.472    0.637\n",
       "PSE_subt:range_subt:sigma_subt             631.08    4581.51   0.138    0.891\n",
       "PSE_subt:bias_subt:sigma_subt              -80.32    2553.17  -0.031    0.975\n",
       "range_subt:bias_subt:sigma_subt          -1071.29    2882.44  -0.372    0.710\n",
       "PSE_subt:range_subt:bias_subt:sigma_subt -2114.65    5703.13  -0.371    0.711\n",
       "\n",
       "Residual standard error: 19.94 on 259 degrees of freedom\n",
       "Multiple R-squared:  0.06696,\tAdjusted R-squared:  0.01293 \n",
       "F-statistic: 1.239 on 15 and 259 DF,  p-value: 0.2424\n"
      ]
     },
     "metadata": {}
    }
   ],
   "metadata": {}
  },
  {
   "cell_type": "code",
   "execution_count": 42,
   "source": [
    "anova(m1_subt,m4_subt_int) # interaction doesn't improve the model"
   ],
   "outputs": [
    {
     "output_type": "display_data",
     "data": {
      "text/html": [
       "<table class=\"dataframe\">\n",
       "<caption>A anova: 2 × 6</caption>\n",
       "<thead>\n",
       "\t<tr><th></th><th scope=col>Res.Df</th><th scope=col>RSS</th><th scope=col>Df</th><th scope=col>Sum of Sq</th><th scope=col>F</th><th scope=col>Pr(&gt;F)</th></tr>\n",
       "\t<tr><th></th><th scope=col>&lt;dbl&gt;</th><th scope=col>&lt;dbl&gt;</th><th scope=col>&lt;dbl&gt;</th><th scope=col>&lt;dbl&gt;</th><th scope=col>&lt;dbl&gt;</th><th scope=col>&lt;dbl&gt;</th></tr>\n",
       "</thead>\n",
       "<tbody>\n",
       "\t<tr><th scope=row>1</th><td>270</td><td>108999.0</td><td>NA</td><td>      NA</td><td>      NA</td><td>       NA</td></tr>\n",
       "\t<tr><th scope=row>2</th><td>259</td><td>102960.9</td><td>11</td><td>6038.114</td><td>1.380817</td><td>0.1818352</td></tr>\n",
       "</tbody>\n",
       "</table>\n"
      ],
      "text/latex": [
       "A anova: 2 × 6\n",
       "\\begin{tabular}{r|llllll}\n",
       "  & Res.Df & RSS & Df & Sum of Sq & F & Pr(>F)\\\\\n",
       "  & <dbl> & <dbl> & <dbl> & <dbl> & <dbl> & <dbl>\\\\\n",
       "\\hline\n",
       "\t1 & 270 & 108999.0 & NA &       NA &       NA &        NA\\\\\n",
       "\t2 & 259 & 102960.9 & 11 & 6038.114 & 1.380817 & 0.1818352\\\\\n",
       "\\end{tabular}\n"
      ],
      "text/markdown": [
       "\n",
       "A anova: 2 × 6\n",
       "\n",
       "| <!--/--> | Res.Df &lt;dbl&gt; | RSS &lt;dbl&gt; | Df &lt;dbl&gt; | Sum of Sq &lt;dbl&gt; | F &lt;dbl&gt; | Pr(&gt;F) &lt;dbl&gt; |\n",
       "|---|---|---|---|---|---|---|\n",
       "| 1 | 270 | 108999.0 | NA |       NA |       NA |        NA |\n",
       "| 2 | 259 | 102960.9 | 11 | 6038.114 | 1.380817 | 0.1818352 |\n",
       "\n"
      ],
      "text/plain": [
       "  Res.Df RSS      Df Sum of Sq F        Pr(>F)   \n",
       "1 270    108999.0 NA       NA        NA        NA\n",
       "2 259    102960.9 11 6038.114  1.380817 0.1818352"
      ]
     },
     "metadata": {}
    }
   ],
   "metadata": {}
  },
  {
   "cell_type": "code",
   "execution_count": 43,
   "source": [
    "formula <- as.formula(paste(trait,\" ~ PSE_pf * slope_pf * bias_pf\"))\n",
    "m5_pf_int <- lm(formula, data = data)\n",
    "summary(m5_pf_int)"
   ],
   "outputs": [
    {
     "output_type": "display_data",
     "data": {
      "text/plain": [
       "\n",
       "Call:\n",
       "lm(formula = formula, data = data)\n",
       "\n",
       "Residuals:\n",
       "    Min      1Q  Median      3Q     Max \n",
       "-45.300 -15.889   0.665  12.909  57.662 \n",
       "\n",
       "Coefficients:\n",
       "                        Estimate Std. Error t value Pr(>|t|)\n",
       "(Intercept)               39.867     28.582   1.395    0.164\n",
       "PSE_pf                   -19.591     55.257  -0.355    0.723\n",
       "slope_pf                  -3.352     64.354  -0.052    0.958\n",
       "bias_pf                  -45.446     39.067  -1.163    0.246\n",
       "PSE_pf:slope_pf          -49.409    152.019  -0.325    0.745\n",
       "PSE_pf:bias_pf           -35.051    102.716  -0.341    0.733\n",
       "slope_pf:bias_pf          19.108     69.170   0.276    0.783\n",
       "PSE_pf:slope_pf:bias_pf   82.446    194.117   0.425    0.671\n",
       "\n",
       "Residual standard error: 20.18 on 267 degrees of freedom\n",
       "Multiple R-squared:  0.01452,\tAdjusted R-squared:  -0.01132 \n",
       "F-statistic: 0.562 on 7 and 267 DF,  p-value: 0.7865\n"
      ]
     },
     "metadata": {}
    }
   ],
   "metadata": {}
  },
  {
   "cell_type": "code",
   "execution_count": 44,
   "source": [
    "anova(m2_pf,m5_pf_int) # interaction doesn't improve the model"
   ],
   "outputs": [
    {
     "output_type": "display_data",
     "data": {
      "text/html": [
       "<table class=\"dataframe\">\n",
       "<caption>A anova: 2 × 6</caption>\n",
       "<thead>\n",
       "\t<tr><th></th><th scope=col>Res.Df</th><th scope=col>RSS</th><th scope=col>Df</th><th scope=col>Sum of Sq</th><th scope=col>F</th><th scope=col>Pr(&gt;F)</th></tr>\n",
       "\t<tr><th></th><th scope=col>&lt;dbl&gt;</th><th scope=col>&lt;dbl&gt;</th><th scope=col>&lt;dbl&gt;</th><th scope=col>&lt;dbl&gt;</th><th scope=col>&lt;dbl&gt;</th><th scope=col>&lt;dbl&gt;</th></tr>\n",
       "</thead>\n",
       "<tbody>\n",
       "\t<tr><th scope=row>1</th><td>271</td><td>109369.1</td><td>NA</td><td>      NA</td><td>       NA</td><td>       NA</td></tr>\n",
       "\t<tr><th scope=row>2</th><td>267</td><td>108747.9</td><td> 4</td><td>621.2341</td><td>0.3813166</td><td>0.8219177</td></tr>\n",
       "</tbody>\n",
       "</table>\n"
      ],
      "text/latex": [
       "A anova: 2 × 6\n",
       "\\begin{tabular}{r|llllll}\n",
       "  & Res.Df & RSS & Df & Sum of Sq & F & Pr(>F)\\\\\n",
       "  & <dbl> & <dbl> & <dbl> & <dbl> & <dbl> & <dbl>\\\\\n",
       "\\hline\n",
       "\t1 & 271 & 109369.1 & NA &       NA &        NA &        NA\\\\\n",
       "\t2 & 267 & 108747.9 &  4 & 621.2341 & 0.3813166 & 0.8219177\\\\\n",
       "\\end{tabular}\n"
      ],
      "text/markdown": [
       "\n",
       "A anova: 2 × 6\n",
       "\n",
       "| <!--/--> | Res.Df &lt;dbl&gt; | RSS &lt;dbl&gt; | Df &lt;dbl&gt; | Sum of Sq &lt;dbl&gt; | F &lt;dbl&gt; | Pr(&gt;F) &lt;dbl&gt; |\n",
       "|---|---|---|---|---|---|---|\n",
       "| 1 | 271 | 109369.1 | NA |       NA |        NA |        NA |\n",
       "| 2 | 267 | 108747.9 |  4 | 621.2341 | 0.3813166 | 0.8219177 |\n",
       "\n"
      ],
      "text/plain": [
       "  Res.Df RSS      Df Sum of Sq F         Pr(>F)   \n",
       "1 271    109369.1 NA       NA         NA        NA\n",
       "2 267    108747.9  4 621.2341  0.3813166 0.8219177"
      ]
     },
     "metadata": {}
    }
   ],
   "metadata": {}
  },
  {
   "cell_type": "code",
   "execution_count": 46,
   "source": [
    "formula <- as.formula(paste(trait,\" ~ PSE_subt * range_subt * bias_subt * sigma_subt * PSE_pf * slope_pf * bias_pf\"))\n",
    "m6_both_int <- lm(formula, data = data)\n",
    "summary(m6_both_int) # quite a few interactions survive!"
   ],
   "outputs": [
    {
     "output_type": "display_data",
     "data": {
      "text/plain": [
       "\n",
       "Call:\n",
       "lm(formula = formula, data = data)\n",
       "\n",
       "Residuals:\n",
       "    Min      1Q  Median      3Q     Max \n",
       "-44.796  -8.570  -0.274   8.331  48.564 \n",
       "\n",
       "Coefficients:\n",
       "                                                                  Estimate\n",
       "(Intercept)                                                         -70058\n",
       "PSE_subt                                                            181091\n",
       "range_subt                                                          104214\n",
       "bias_subt                                                            81034\n",
       "sigma_subt                                                          918727\n",
       "PSE_pf                                                              127722\n",
       "slope_pf                                                            130347\n",
       "bias_pf                                                             116532\n",
       "PSE_subt:range_subt                                                -268848\n",
       "PSE_subt:bias_subt                                                 -213791\n",
       "range_subt:bias_subt                                               -118802\n",
       "PSE_subt:sigma_subt                                               -2205241\n",
       "range_subt:sigma_subt                                             -1395437\n",
       "bias_subt:sigma_subt                                              -1059334\n",
       "PSE_subt:PSE_pf                                                    -335126\n",
       "range_subt:PSE_pf                                                  -224013\n",
       "bias_subt:PSE_pf                                                   -147802\n",
       "sigma_subt:PSE_pf                                                 -1547560\n",
       "PSE_subt:slope_pf                                                  -345035\n",
       "range_subt:slope_pf                                                -207476\n",
       "bias_subt:slope_pf                                                 -148159\n",
       "sigma_subt:slope_pf                                               -1494632\n",
       "PSE_pf:slope_pf                                                    -230902\n",
       "PSE_subt:bias_pf                                                   -292545\n",
       "range_subt:bias_pf                                                 -169228\n",
       "bias_subt:bias_pf                                                  -136678\n",
       "sigma_subt:bias_pf                                                -1548840\n",
       "PSE_pf:bias_pf                                                     -214261\n",
       "slope_pf:bias_pf                                                   -204511\n",
       "PSE_subt:range_subt:bias_subt                                       311265\n",
       "PSE_subt:range_subt:sigma_subt                                     3394669\n",
       "PSE_subt:bias_subt:sigma_subt                                      2574657\n",
       "range_subt:bias_subt:sigma_subt                                    1589482\n",
       "PSE_subt:range_subt:PSE_pf                                          584607\n",
       "PSE_subt:bias_subt:PSE_pf                                           387532\n",
       "range_subt:bias_subt:PSE_pf                                         256118\n",
       "PSE_subt:sigma_subt:PSE_pf                                         3971702\n",
       "range_subt:sigma_subt:PSE_pf                                       2665408\n",
       "bias_subt:sigma_subt:PSE_pf                                        1870637\n",
       "PSE_subt:range_subt:slope_pf                                        549803\n",
       "PSE_subt:bias_subt:slope_pf                                         389672\n",
       "range_subt:bias_subt:slope_pf                                       231958\n",
       "PSE_subt:sigma_subt:slope_pf                                       3891681\n",
       "range_subt:sigma_subt:slope_pf                                     2382059\n",
       "bias_subt:sigma_subt:slope_pf                                      1769099\n",
       "PSE_subt:PSE_pf:slope_pf                                            619862\n",
       "range_subt:PSE_pf:slope_pf                                          410106\n",
       "bias_subt:PSE_pf:slope_pf                                           262497\n",
       "sigma_subt:PSE_pf:slope_pf                                         2543326\n",
       "PSE_subt:range_subt:bias_pf                                         422573\n",
       "PSE_subt:bias_subt:bias_pf                                          349175\n",
       "range_subt:bias_subt:bias_pf                                        199816\n",
       "PSE_subt:sigma_subt:bias_pf                                        3574723\n",
       "range_subt:sigma_subt:bias_pf                                      2318413\n",
       "bias_subt:sigma_subt:bias_pf                                       1799746\n",
       "PSE_subt:PSE_pf:bias_pf                                             551015\n",
       "range_subt:PSE_pf:bias_pf                                           381842\n",
       "bias_subt:PSE_pf:bias_pf                                            250995\n",
       "sigma_subt:PSE_pf:bias_pf                                          2564932\n",
       "PSE_subt:slope_pf:bias_pf                                           526654\n",
       "range_subt:slope_pf:bias_pf                                         301379\n",
       "bias_subt:slope_pf:bias_pf                                          232971\n",
       "sigma_subt:slope_pf:bias_pf                                        2519418\n",
       "PSE_pf:slope_pf:bias_pf                                             359620\n",
       "PSE_subt:range_subt:bias_subt:sigma_subt                          -3903601\n",
       "PSE_subt:range_subt:bias_subt:PSE_pf                               -669374\n",
       "PSE_subt:range_subt:sigma_subt:PSE_pf                             -6884342\n",
       "PSE_subt:bias_subt:sigma_subt:PSE_pf                              -4771505\n",
       "range_subt:bias_subt:sigma_subt:PSE_pf                            -3198937\n",
       "PSE_subt:range_subt:bias_subt:slope_pf                             -613118\n",
       "PSE_subt:range_subt:sigma_subt:slope_pf                           -6275576\n",
       "PSE_subt:bias_subt:sigma_subt:slope_pf                            -4544934\n",
       "range_subt:bias_subt:sigma_subt:slope_pf                          -2808574\n",
       "PSE_subt:range_subt:PSE_pf:slope_pf                               -1094075\n",
       "PSE_subt:bias_subt:PSE_pf:slope_pf                                 -690650\n",
       "range_subt:bias_subt:PSE_pf:slope_pf                               -460873\n",
       "PSE_subt:sigma_subt:PSE_pf:slope_pf                               -6961562\n",
       "range_subt:sigma_subt:PSE_pf:slope_pf                             -4457830\n",
       "bias_subt:sigma_subt:PSE_pf:slope_pf                              -3115696\n",
       "PSE_subt:range_subt:bias_subt:bias_pf                              -505880\n",
       "PSE_subt:range_subt:sigma_subt:bias_pf                            -5406732\n",
       "PSE_subt:bias_subt:sigma_subt:bias_pf                             -4194290\n",
       "range_subt:bias_subt:sigma_subt:bias_pf                           -2694184\n",
       "PSE_subt:range_subt:PSE_pf:bias_pf                                 -974769\n",
       "PSE_subt:bias_subt:PSE_pf:bias_pf                                  -642537\n",
       "range_subt:bias_subt:PSE_pf:bias_pf                                -447442\n",
       "PSE_subt:sigma_subt:PSE_pf:bias_pf                                -6432868\n",
       "range_subt:sigma_subt:PSE_pf:bias_pf                              -4479253\n",
       "bias_subt:sigma_subt:PSE_pf:bias_pf                               -3152265\n",
       "PSE_subt:range_subt:slope_pf:bias_pf                               -774160\n",
       "PSE_subt:bias_subt:slope_pf:bias_pf                                -598633\n",
       "range_subt:bias_subt:slope_pf:bias_pf                              -345389\n",
       "PSE_subt:sigma_subt:slope_pf:bias_pf                              -6101016\n",
       "range_subt:sigma_subt:slope_pf:bias_pf                            -3789702\n",
       "bias_subt:sigma_subt:slope_pf:bias_pf                             -2920782\n",
       "PSE_subt:PSE_pf:slope_pf:bias_pf                                   -945930\n",
       "range_subt:PSE_pf:slope_pf:bias_pf                                 -612217\n",
       "bias_subt:PSE_pf:slope_pf:bias_pf                                  -408848\n",
       "sigma_subt:PSE_pf:slope_pf:bias_pf                                -4246046\n",
       "PSE_subt:range_subt:bias_subt:sigma_subt:PSE_pf                    8246513\n",
       "PSE_subt:range_subt:bias_subt:sigma_subt:slope_pf                  7343570\n",
       "PSE_subt:range_subt:bias_subt:PSE_pf:slope_pf                      1217570\n",
       "PSE_subt:range_subt:sigma_subt:PSE_pf:slope_pf                    12178012\n",
       "PSE_subt:bias_subt:sigma_subt:PSE_pf:slope_pf                      8292345\n",
       "range_subt:bias_subt:sigma_subt:PSE_pf:slope_pf                    5440806\n",
       "PSE_subt:range_subt:bias_subt:sigma_subt:bias_pf                   6336574\n",
       "PSE_subt:range_subt:bias_subt:PSE_pf:bias_pf                       1142491\n",
       "PSE_subt:range_subt:sigma_subt:PSE_pf:bias_pf                     11283204\n",
       "PSE_subt:bias_subt:sigma_subt:PSE_pf:bias_pf                       7829959\n",
       "range_subt:bias_subt:sigma_subt:PSE_pf:bias_pf                     5508836\n",
       "PSE_subt:range_subt:bias_subt:slope_pf:bias_pf                      885940\n",
       "PSE_subt:range_subt:sigma_subt:slope_pf:bias_pf                    9281017\n",
       "PSE_subt:bias_subt:sigma_subt:slope_pf:bias_pf                     7005092\n",
       "range_subt:bias_subt:sigma_subt:slope_pf:bias_pf                   4426339\n",
       "PSE_subt:range_subt:PSE_pf:slope_pf:bias_pf                        1592258\n",
       "PSE_subt:bias_subt:PSE_pf:slope_pf:bias_pf                         1058312\n",
       "range_subt:bias_subt:PSE_pf:slope_pf:bias_pf                        701682\n",
       "PSE_subt:sigma_subt:PSE_pf:slope_pf:bias_pf                       10846511\n",
       "range_subt:sigma_subt:PSE_pf:slope_pf:bias_pf                      7140134\n",
       "bias_subt:sigma_subt:PSE_pf:slope_pf:bias_pf                       5100729\n",
       "PSE_subt:range_subt:bias_subt:sigma_subt:PSE_pf:slope_pf         -14626988\n",
       "PSE_subt:range_subt:bias_subt:sigma_subt:PSE_pf:bias_pf          -13841624\n",
       "PSE_subt:range_subt:bias_subt:sigma_subt:slope_pf:bias_pf        -10781008\n",
       "PSE_subt:range_subt:bias_subt:PSE_pf:slope_pf:bias_pf             -1809536\n",
       "PSE_subt:range_subt:sigma_subt:PSE_pf:slope_pf:bias_pf           -18280065\n",
       "PSE_subt:bias_subt:sigma_subt:PSE_pf:slope_pf:bias_pf            -12738898\n",
       "range_subt:bias_subt:sigma_subt:PSE_pf:slope_pf:bias_pf           -8657780\n",
       "PSE_subt:range_subt:bias_subt:sigma_subt:PSE_pf:slope_pf:bias_pf  21896815\n",
       "                                                                 Std. Error\n",
       "(Intercept)                                                           46505\n",
       "PSE_subt                                                             119693\n",
       "range_subt                                                            64953\n",
       "bias_subt                                                             52244\n",
       "sigma_subt                                                           490374\n",
       "PSE_pf                                                                56419\n",
       "slope_pf                                                              57954\n",
       "bias_pf                                                               86728\n",
       "PSE_subt:range_subt                                                  156827\n",
       "PSE_subt:bias_subt                                                   135434\n",
       "range_subt:bias_subt                                                  74917\n",
       "PSE_subt:sigma_subt                                                 1150304\n",
       "range_subt:sigma_subt                                                734146\n",
       "bias_subt:sigma_subt                                                 541661\n",
       "PSE_subt:PSE_pf                                                      136073\n",
       "range_subt:PSE_pf                                                    105879\n",
       "bias_subt:PSE_pf                                                      66907\n",
       "sigma_subt:PSE_pf                                                    659321\n",
       "PSE_subt:slope_pf                                                    140098\n",
       "range_subt:slope_pf                                                  103587\n",
       "bias_subt:slope_pf                                                    68891\n",
       "sigma_subt:slope_pf                                                  643900\n",
       "PSE_pf:slope_pf                                                      174913\n",
       "PSE_subt:bias_pf                                                     225375\n",
       "range_subt:bias_pf                                                   110597\n",
       "bias_subt:bias_pf                                                     94510\n",
       "sigma_subt:bias_pf                                                   938388\n",
       "PSE_pf:bias_pf                                                       101367\n",
       "slope_pf:bias_pf                                                      94656\n",
       "PSE_subt:range_subt:bias_subt                                        184019\n",
       "PSE_subt:range_subt:sigma_subt                                      1681328\n",
       "PSE_subt:bias_subt:sigma_subt                                       1312623\n",
       "range_subt:bias_subt:sigma_subt                                      817651\n",
       "PSE_subt:range_subt:PSE_pf                                           251583\n",
       "PSE_subt:bias_subt:PSE_pf                                            164036\n",
       "range_subt:bias_subt:PSE_pf                                          124409\n",
       "PSE_subt:sigma_subt:PSE_pf                                          1552022\n",
       "range_subt:sigma_subt:PSE_pf                                        1202183\n",
       "bias_subt:sigma_subt:PSE_pf                                          768805\n",
       "PSE_subt:range_subt:slope_pf                                         244886\n",
       "PSE_subt:bias_subt:slope_pf                                          167903\n",
       "range_subt:bias_subt:slope_pf                                        120277\n",
       "PSE_subt:sigma_subt:slope_pf                                        1524578\n",
       "range_subt:sigma_subt:slope_pf                                      1139896\n",
       "bias_subt:sigma_subt:slope_pf                                        759059\n",
       "PSE_subt:PSE_pf:slope_pf                                             434312\n",
       "range_subt:PSE_pf:slope_pf                                           276741\n",
       "bias_subt:PSE_pf:slope_pf                                            205093\n",
       "sigma_subt:PSE_pf:slope_pf                                          2079918\n",
       "PSE_subt:range_subt:bias_pf                                          267918\n",
       "PSE_subt:bias_subt:bias_pf                                           247516\n",
       "range_subt:bias_subt:bias_pf                                         122563\n",
       "PSE_subt:sigma_subt:bias_pf                                         2170029\n",
       "range_subt:sigma_subt:bias_pf                                       1315248\n",
       "bias_subt:sigma_subt:bias_pf                                        1008074\n",
       "PSE_subt:PSE_pf:bias_pf                                              246254\n",
       "range_subt:PSE_pf:bias_pf                                            170202\n",
       "bias_subt:PSE_pf:bias_pf                                             117212\n",
       "sigma_subt:PSE_pf:bias_pf                                           1227851\n",
       "PSE_subt:slope_pf:bias_pf                                            245677\n",
       "range_subt:slope_pf:bias_pf                                          133618\n",
       "bias_subt:slope_pf:bias_pf                                           100976\n",
       "sigma_subt:slope_pf:bias_pf                                          941630\n",
       "PSE_pf:slope_pf:bias_pf                                              187682\n",
       "PSE_subt:range_subt:bias_subt:sigma_subt                            1939968\n",
       "PSE_subt:range_subt:bias_subt:PSE_pf                                 300498\n",
       "PSE_subt:range_subt:sigma_subt:PSE_pf                               2828010\n",
       "PSE_subt:bias_subt:sigma_subt:PSE_pf                                1825448\n",
       "range_subt:bias_subt:sigma_subt:PSE_pf                              1383549\n",
       "PSE_subt:range_subt:bias_subt:slope_pf                               287350\n",
       "PSE_subt:range_subt:sigma_subt:slope_pf                             2676459\n",
       "PSE_subt:bias_subt:sigma_subt:slope_pf                              1800118\n",
       "range_subt:bias_subt:sigma_subt:slope_pf                            1313092\n",
       "PSE_subt:range_subt:PSE_pf:slope_pf                                  661471\n",
       "PSE_subt:bias_subt:PSE_pf:slope_pf                                   510310\n",
       "range_subt:bias_subt:PSE_pf:slope_pf                                 320839\n",
       "PSE_subt:sigma_subt:PSE_pf:slope_pf                                 4895260\n",
       "range_subt:sigma_subt:PSE_pf:slope_pf                               3277618\n",
       "bias_subt:sigma_subt:PSE_pf:slope_pf                                2407969\n",
       "PSE_subt:range_subt:bias_subt:bias_pf                                303008\n",
       "PSE_subt:range_subt:sigma_subt:bias_pf                              2931342\n",
       "PSE_subt:bias_subt:sigma_subt:bias_pf                               2397523\n",
       "range_subt:bias_subt:sigma_subt:bias_pf                             1416223\n",
       "PSE_subt:range_subt:PSE_pf:bias_pf                                   405807\n",
       "PSE_subt:bias_subt:PSE_pf:bias_pf                                    284875\n",
       "range_subt:bias_subt:PSE_pf:bias_pf                                  199248\n",
       "PSE_subt:sigma_subt:PSE_pf:bias_pf                                  2885144\n",
       "range_subt:sigma_subt:PSE_pf:bias_pf                                2010322\n",
       "bias_subt:sigma_subt:PSE_pf:bias_pf                                 1431516\n",
       "PSE_subt:range_subt:slope_pf:bias_pf                                 322288\n",
       "PSE_subt:bias_subt:slope_pf:bias_pf                                  264190\n",
       "range_subt:bias_subt:slope_pf:bias_pf                                145114\n",
       "PSE_subt:sigma_subt:slope_pf:bias_pf                                2238941\n",
       "range_subt:sigma_subt:slope_pf:bias_pf                              1432315\n",
       "bias_subt:sigma_subt:slope_pf:bias_pf                               1003605\n",
       "PSE_subt:PSE_pf:slope_pf:bias_pf                                     465218\n",
       "range_subt:PSE_pf:slope_pf:bias_pf                                   309656\n",
       "bias_subt:PSE_pf:slope_pf:bias_pf                                    215790\n",
       "sigma_subt:PSE_pf:slope_pf:bias_pf                                  2156200\n",
       "PSE_subt:range_subt:bias_subt:sigma_subt:PSE_pf                     3294509\n",
       "PSE_subt:range_subt:bias_subt:sigma_subt:slope_pf                   3104160\n",
       "PSE_subt:range_subt:bias_subt:PSE_pf:slope_pf                        775689\n",
       "PSE_subt:range_subt:sigma_subt:PSE_pf:slope_pf                      7623081\n",
       "PSE_subt:bias_subt:sigma_subt:PSE_pf:slope_pf                       5721488\n",
       "range_subt:bias_subt:sigma_subt:PSE_pf:slope_pf                     3750773\n",
       "PSE_subt:range_subt:bias_subt:sigma_subt:bias_pf                    3268063\n",
       "PSE_subt:range_subt:bias_subt:PSE_pf:bias_pf                         477638\n",
       "PSE_subt:range_subt:sigma_subt:PSE_pf:bias_pf                       4666011\n",
       "PSE_subt:bias_subt:sigma_subt:PSE_pf:bias_pf                        3360937\n",
       "range_subt:bias_subt:sigma_subt:PSE_pf:bias_pf                      2345034\n",
       "PSE_subt:range_subt:bias_subt:slope_pf:bias_pf                       353745\n",
       "PSE_subt:range_subt:sigma_subt:slope_pf:bias_pf                     3255597\n",
       "PSE_subt:bias_subt:sigma_subt:slope_pf:bias_pf                      2423951\n",
       "range_subt:bias_subt:sigma_subt:slope_pf:bias_pf                    1541931\n",
       "PSE_subt:range_subt:PSE_pf:slope_pf:bias_pf                          742053\n",
       "PSE_subt:bias_subt:PSE_pf:slope_pf:bias_pf                           535014\n",
       "range_subt:bias_subt:PSE_pf:slope_pf:bias_pf                         355897\n",
       "PSE_subt:sigma_subt:PSE_pf:slope_pf:bias_pf                         5170319\n",
       "range_subt:sigma_subt:PSE_pf:slope_pf:bias_pf                       3490853\n",
       "bias_subt:sigma_subt:PSE_pf:slope_pf:bias_pf                        2523214\n",
       "PSE_subt:range_subt:bias_subt:sigma_subt:PSE_pf:slope_pf            8843788\n",
       "PSE_subt:range_subt:bias_subt:sigma_subt:PSE_pf:bias_pf             5469277\n",
       "PSE_subt:range_subt:bias_subt:sigma_subt:slope_pf:bias_pf           3561462\n",
       "PSE_subt:range_subt:bias_subt:PSE_pf:slope_pf:bias_pf                855116\n",
       "PSE_subt:range_subt:sigma_subt:PSE_pf:slope_pf:bias_pf              8162415\n",
       "PSE_subt:bias_subt:sigma_subt:PSE_pf:slope_pf:bias_pf               6043456\n",
       "range_subt:bias_subt:sigma_subt:PSE_pf:slope_pf:bias_pf             4047416\n",
       "PSE_subt:range_subt:bias_subt:sigma_subt:PSE_pf:slope_pf:bias_pf    9483671\n",
       "                                                                 t value\n",
       "(Intercept)                                                       -1.506\n",
       "PSE_subt                                                           1.513\n",
       "range_subt                                                         1.604\n",
       "bias_subt                                                          1.551\n",
       "sigma_subt                                                         1.874\n",
       "PSE_pf                                                             2.264\n",
       "slope_pf                                                           2.249\n",
       "bias_pf                                                            1.344\n",
       "PSE_subt:range_subt                                               -1.714\n",
       "PSE_subt:bias_subt                                                -1.579\n",
       "range_subt:bias_subt                                              -1.586\n",
       "PSE_subt:sigma_subt                                               -1.917\n",
       "range_subt:sigma_subt                                             -1.901\n",
       "bias_subt:sigma_subt                                              -1.956\n",
       "PSE_subt:PSE_pf                                                   -2.463\n",
       "range_subt:PSE_pf                                                 -2.116\n",
       "bias_subt:PSE_pf                                                  -2.209\n",
       "sigma_subt:PSE_pf                                                 -2.347\n",
       "PSE_subt:slope_pf                                                 -2.463\n",
       "range_subt:slope_pf                                               -2.003\n",
       "bias_subt:slope_pf                                                -2.151\n",
       "sigma_subt:slope_pf                                               -2.321\n",
       "PSE_pf:slope_pf                                                   -1.320\n",
       "PSE_subt:bias_pf                                                  -1.298\n",
       "range_subt:bias_pf                                                -1.530\n",
       "bias_subt:bias_pf                                                 -1.446\n",
       "sigma_subt:bias_pf                                                -1.651\n",
       "PSE_pf:bias_pf                                                    -2.114\n",
       "slope_pf:bias_pf                                                  -2.161\n",
       "PSE_subt:range_subt:bias_subt                                      1.691\n",
       "PSE_subt:range_subt:sigma_subt                                     2.019\n",
       "PSE_subt:bias_subt:sigma_subt                                      1.961\n",
       "range_subt:bias_subt:sigma_subt                                    1.944\n",
       "PSE_subt:range_subt:PSE_pf                                         2.324\n",
       "PSE_subt:bias_subt:PSE_pf                                          2.362\n",
       "range_subt:bias_subt:PSE_pf                                        2.059\n",
       "PSE_subt:sigma_subt:PSE_pf                                         2.559\n",
       "range_subt:sigma_subt:PSE_pf                                       2.217\n",
       "bias_subt:sigma_subt:PSE_pf                                        2.433\n",
       "PSE_subt:range_subt:slope_pf                                       2.245\n",
       "PSE_subt:bias_subt:slope_pf                                        2.321\n",
       "range_subt:bias_subt:slope_pf                                      1.929\n",
       "PSE_subt:sigma_subt:slope_pf                                       2.553\n",
       "range_subt:sigma_subt:slope_pf                                     2.090\n",
       "bias_subt:sigma_subt:slope_pf                                      2.331\n",
       "PSE_subt:PSE_pf:slope_pf                                           1.427\n",
       "range_subt:PSE_pf:slope_pf                                         1.482\n",
       "bias_subt:PSE_pf:slope_pf                                          1.280\n",
       "sigma_subt:PSE_pf:slope_pf                                         1.223\n",
       "PSE_subt:range_subt:bias_pf                                        1.577\n",
       "PSE_subt:bias_subt:bias_pf                                         1.411\n",
       "range_subt:bias_subt:bias_pf                                       1.630\n",
       "PSE_subt:sigma_subt:bias_pf                                        1.647\n",
       "range_subt:sigma_subt:bias_pf                                      1.763\n",
       "bias_subt:sigma_subt:bias_pf                                       1.785\n",
       "PSE_subt:PSE_pf:bias_pf                                            2.238\n",
       "range_subt:PSE_pf:bias_pf                                          2.243\n",
       "bias_subt:PSE_pf:bias_pf                                           2.141\n",
       "sigma_subt:PSE_pf:bias_pf                                          2.089\n",
       "PSE_subt:slope_pf:bias_pf                                          2.144\n",
       "range_subt:slope_pf:bias_pf                                        2.256\n",
       "bias_subt:slope_pf:bias_pf                                         2.307\n",
       "sigma_subt:slope_pf:bias_pf                                        2.676\n",
       "PSE_pf:slope_pf:bias_pf                                            1.916\n",
       "PSE_subt:range_subt:bias_subt:sigma_subt                          -2.012\n",
       "PSE_subt:range_subt:bias_subt:PSE_pf                              -2.228\n",
       "PSE_subt:range_subt:sigma_subt:PSE_pf                             -2.434\n",
       "PSE_subt:bias_subt:sigma_subt:PSE_pf                              -2.614\n",
       "range_subt:bias_subt:sigma_subt:PSE_pf                            -2.312\n",
       "PSE_subt:range_subt:bias_subt:slope_pf                            -2.134\n",
       "PSE_subt:range_subt:sigma_subt:slope_pf                           -2.345\n",
       "PSE_subt:bias_subt:sigma_subt:slope_pf                            -2.525\n",
       "range_subt:bias_subt:sigma_subt:slope_pf                          -2.139\n",
       "PSE_subt:range_subt:PSE_pf:slope_pf                               -1.654\n",
       "PSE_subt:bias_subt:PSE_pf:slope_pf                                -1.353\n",
       "range_subt:bias_subt:PSE_pf:slope_pf                              -1.436\n",
       "PSE_subt:sigma_subt:PSE_pf:slope_pf                               -1.422\n",
       "range_subt:sigma_subt:PSE_pf:slope_pf                             -1.360\n",
       "bias_subt:sigma_subt:PSE_pf:slope_pf                              -1.294\n",
       "PSE_subt:range_subt:bias_subt:bias_pf                             -1.670\n",
       "PSE_subt:range_subt:sigma_subt:bias_pf                            -1.844\n",
       "PSE_subt:bias_subt:sigma_subt:bias_pf                             -1.749\n",
       "range_subt:bias_subt:sigma_subt:bias_pf                           -1.902\n",
       "PSE_subt:range_subt:PSE_pf:bias_pf                                -2.402\n",
       "PSE_subt:bias_subt:PSE_pf:bias_pf                                 -2.256\n",
       "range_subt:bias_subt:PSE_pf:bias_pf                               -2.246\n",
       "PSE_subt:sigma_subt:PSE_pf:bias_pf                                -2.230\n",
       "range_subt:sigma_subt:PSE_pf:bias_pf                              -2.228\n",
       "bias_subt:sigma_subt:PSE_pf:bias_pf                               -2.202\n",
       "PSE_subt:range_subt:slope_pf:bias_pf                              -2.402\n",
       "PSE_subt:bias_subt:slope_pf:bias_pf                               -2.266\n",
       "range_subt:bias_subt:slope_pf:bias_pf                             -2.380\n",
       "PSE_subt:sigma_subt:slope_pf:bias_pf                              -2.725\n",
       "range_subt:sigma_subt:slope_pf:bias_pf                            -2.646\n",
       "bias_subt:sigma_subt:slope_pf:bias_pf                             -2.910\n",
       "PSE_subt:PSE_pf:slope_pf:bias_pf                                  -2.033\n",
       "range_subt:PSE_pf:slope_pf:bias_pf                                -1.977\n",
       "bias_subt:PSE_pf:slope_pf:bias_pf                                 -1.895\n",
       "sigma_subt:PSE_pf:slope_pf:bias_pf                                -1.969\n",
       "PSE_subt:range_subt:bias_subt:sigma_subt:PSE_pf                    2.503\n",
       "PSE_subt:range_subt:bias_subt:sigma_subt:slope_pf                  2.366\n",
       "PSE_subt:range_subt:bias_subt:PSE_pf:slope_pf                      1.570\n",
       "PSE_subt:range_subt:sigma_subt:PSE_pf:slope_pf                     1.598\n",
       "PSE_subt:bias_subt:sigma_subt:PSE_pf:slope_pf                      1.449\n",
       "range_subt:bias_subt:sigma_subt:PSE_pf:slope_pf                    1.451\n",
       "PSE_subt:range_subt:bias_subt:sigma_subt:bias_pf                   1.939\n",
       "PSE_subt:range_subt:bias_subt:PSE_pf:bias_pf                       2.392\n",
       "PSE_subt:range_subt:sigma_subt:PSE_pf:bias_pf                      2.418\n",
       "PSE_subt:bias_subt:sigma_subt:PSE_pf:bias_pf                       2.330\n",
       "range_subt:bias_subt:sigma_subt:PSE_pf:bias_pf                     2.349\n",
       "PSE_subt:range_subt:bias_subt:slope_pf:bias_pf                     2.504\n",
       "PSE_subt:range_subt:sigma_subt:slope_pf:bias_pf                    2.851\n",
       "PSE_subt:bias_subt:sigma_subt:slope_pf:bias_pf                     2.890\n",
       "range_subt:bias_subt:sigma_subt:slope_pf:bias_pf                   2.871\n",
       "PSE_subt:range_subt:PSE_pf:slope_pf:bias_pf                        2.146\n",
       "PSE_subt:bias_subt:PSE_pf:slope_pf:bias_pf                         1.978\n",
       "range_subt:bias_subt:PSE_pf:slope_pf:bias_pf                       1.972\n",
       "PSE_subt:sigma_subt:PSE_pf:slope_pf:bias_pf                        2.098\n",
       "range_subt:sigma_subt:PSE_pf:slope_pf:bias_pf                      2.045\n",
       "bias_subt:sigma_subt:PSE_pf:slope_pf:bias_pf                       2.022\n",
       "PSE_subt:range_subt:bias_subt:sigma_subt:PSE_pf:slope_pf          -1.654\n",
       "PSE_subt:range_subt:bias_subt:sigma_subt:PSE_pf:bias_pf           -2.531\n",
       "PSE_subt:range_subt:bias_subt:sigma_subt:slope_pf:bias_pf         -3.027\n",
       "PSE_subt:range_subt:bias_subt:PSE_pf:slope_pf:bias_pf             -2.116\n",
       "PSE_subt:range_subt:sigma_subt:PSE_pf:slope_pf:bias_pf            -2.240\n",
       "PSE_subt:bias_subt:sigma_subt:PSE_pf:slope_pf:bias_pf             -2.108\n",
       "range_subt:bias_subt:sigma_subt:PSE_pf:slope_pf:bias_pf           -2.139\n",
       "PSE_subt:range_subt:bias_subt:sigma_subt:PSE_pf:slope_pf:bias_pf   2.309\n",
       "                                                                 Pr(>|t|)   \n",
       "(Intercept)                                                       0.13410   \n",
       "PSE_subt                                                          0.13244   \n",
       "range_subt                                                        0.11076   \n",
       "bias_subt                                                         0.12303   \n",
       "sigma_subt                                                        0.06298 . \n",
       "PSE_pf                                                            0.02505 * \n",
       "slope_pf                                                          0.02599 * \n",
       "bias_pf                                                           0.18113   \n",
       "PSE_subt:range_subt                                               0.08858 . \n",
       "PSE_subt:bias_subt                                                0.11659   \n",
       "range_subt:bias_subt                                              0.11494   \n",
       "PSE_subt:sigma_subt                                               0.05717 . \n",
       "range_subt:sigma_subt                                             0.05929 . \n",
       "bias_subt:sigma_subt                                              0.05240 . \n",
       "PSE_subt:PSE_pf                                                   0.01494 * \n",
       "range_subt:PSE_pf                                                 0.03605 * \n",
       "bias_subt:PSE_pf                                                  0.02872 * \n",
       "sigma_subt:PSE_pf                                                 0.02025 * \n",
       "PSE_subt:slope_pf                                                 0.01494 * \n",
       "range_subt:slope_pf                                               0.04703 * \n",
       "bias_subt:slope_pf                                                0.03314 * \n",
       "sigma_subt:slope_pf                                               0.02165 * \n",
       "PSE_pf:slope_pf                                                   0.18885   \n",
       "PSE_subt:bias_pf                                                  0.19631   \n",
       "range_subt:bias_pf                                                0.12813   \n",
       "bias_subt:bias_pf                                                 0.15026   \n",
       "sigma_subt:bias_pf                                                0.10097   \n",
       "PSE_pf:bias_pf                                                    0.03623 * \n",
       "slope_pf:bias_pf                                                  0.03235 * \n",
       "PSE_subt:range_subt:bias_subt                                     0.09286 . \n",
       "PSE_subt:range_subt:sigma_subt                                    0.04530 * \n",
       "PSE_subt:bias_subt:sigma_subt                                     0.05171 . \n",
       "range_subt:bias_subt:sigma_subt                                   0.05381 . \n",
       "PSE_subt:range_subt:PSE_pf                                        0.02151 * \n",
       "PSE_subt:bias_subt:PSE_pf                                         0.01946 * \n",
       "range_subt:bias_subt:PSE_pf                                       0.04129 * \n",
       "PSE_subt:sigma_subt:PSE_pf                                        0.01151 * \n",
       "range_subt:sigma_subt:PSE_pf                                      0.02815 * \n",
       "bias_subt:sigma_subt:PSE_pf                                       0.01617 * \n",
       "PSE_subt:range_subt:slope_pf                                      0.02625 * \n",
       "PSE_subt:bias_subt:slope_pf                                       0.02167 * \n",
       "range_subt:bias_subt:slope_pf                                     0.05572 . \n",
       "PSE_subt:sigma_subt:slope_pf                                      0.01171 * \n",
       "range_subt:sigma_subt:slope_pf                                    0.03837 * \n",
       "bias_subt:sigma_subt:slope_pf                                     0.02113 * \n",
       "PSE_subt:PSE_pf:slope_pf                                          0.15563   \n",
       "range_subt:PSE_pf:slope_pf                                        0.14050   \n",
       "bias_subt:PSE_pf:slope_pf                                         0.20260   \n",
       "sigma_subt:PSE_pf:slope_pf                                        0.22336   \n",
       "PSE_subt:range_subt:bias_pf                                       0.11689   \n",
       "PSE_subt:bias_subt:bias_pf                                        0.16044   \n",
       "range_subt:bias_subt:bias_pf                                      0.10518   \n",
       "PSE_subt:sigma_subt:bias_pf                                       0.10163   \n",
       "range_subt:sigma_subt:bias_pf                                     0.08003 . \n",
       "bias_subt:sigma_subt:bias_pf                                      0.07627 . \n",
       "PSE_subt:PSE_pf:bias_pf                                           0.02675 * \n",
       "range_subt:PSE_pf:bias_pf                                         0.02636 * \n",
       "bias_subt:PSE_pf:bias_pf                                          0.03389 * \n",
       "sigma_subt:PSE_pf:bias_pf                                         0.03843 * \n",
       "PSE_subt:slope_pf:bias_pf                                         0.03370 * \n",
       "range_subt:slope_pf:bias_pf                                       0.02558 * \n",
       "bias_subt:slope_pf:bias_pf                                        0.02244 * \n",
       "sigma_subt:slope_pf:bias_pf                                       0.00831 **\n",
       "PSE_pf:slope_pf:bias_pf                                           0.05729 . \n",
       "PSE_subt:range_subt:bias_subt:sigma_subt                          0.04603 * \n",
       "PSE_subt:range_subt:bias_subt:PSE_pf                              0.02743 * \n",
       "PSE_subt:range_subt:sigma_subt:PSE_pf                             0.01612 * \n",
       "PSE_subt:bias_subt:sigma_subt:PSE_pf                              0.00988 **\n",
       "range_subt:bias_subt:sigma_subt:PSE_pf                            0.02216 * \n",
       "PSE_subt:range_subt:bias_subt:slope_pf                            0.03453 * \n",
       "PSE_subt:range_subt:sigma_subt:slope_pf                           0.02038 * \n",
       "PSE_subt:bias_subt:sigma_subt:slope_pf                            0.01264 * \n",
       "range_subt:bias_subt:sigma_subt:slope_pf                          0.03410 * \n",
       "PSE_subt:range_subt:PSE_pf:slope_pf                               0.10026   \n",
       "PSE_subt:bias_subt:PSE_pf:slope_pf                                0.17801   \n",
       "range_subt:bias_subt:PSE_pf:slope_pf                              0.15300   \n",
       "PSE_subt:sigma_subt:PSE_pf:slope_pf                               0.15711   \n",
       "range_subt:sigma_subt:PSE_pf:slope_pf                             0.17589   \n",
       "bias_subt:sigma_subt:PSE_pf:slope_pf                              0.19773   \n",
       "PSE_subt:range_subt:bias_subt:bias_pf                             0.09714 . \n",
       "PSE_subt:range_subt:sigma_subt:bias_pf                            0.06713 . \n",
       "PSE_subt:bias_subt:sigma_subt:bias_pf                             0.08230 . \n",
       "range_subt:bias_subt:sigma_subt:bias_pf                           0.05908 . \n",
       "PSE_subt:range_subt:PSE_pf:bias_pf                                0.01755 * \n",
       "PSE_subt:bias_subt:PSE_pf:bias_pf                                 0.02558 * \n",
       "range_subt:bias_subt:PSE_pf:bias_pf                               0.02622 * \n",
       "PSE_subt:sigma_subt:PSE_pf:bias_pf                                0.02729 * \n",
       "range_subt:sigma_subt:PSE_pf:bias_pf                              0.02739 * \n",
       "bias_subt:sigma_subt:PSE_pf:bias_pf                               0.02922 * \n",
       "PSE_subt:range_subt:slope_pf:bias_pf                              0.01755 * \n",
       "PSE_subt:bias_subt:slope_pf:bias_pf                               0.02492 * \n",
       "range_subt:bias_subt:slope_pf:bias_pf                             0.01859 * \n",
       "PSE_subt:sigma_subt:slope_pf:bias_pf                              0.00721 **\n",
       "range_subt:sigma_subt:slope_pf:bias_pf                            0.00904 **\n",
       "bias_subt:sigma_subt:slope_pf:bias_pf                             0.00417 **\n",
       "PSE_subt:PSE_pf:slope_pf:bias_pf                                  0.04382 * \n",
       "range_subt:PSE_pf:slope_pf:bias_pf                                0.04990 * \n",
       "bias_subt:PSE_pf:slope_pf:bias_pf                                 0.06010 . \n",
       "sigma_subt:PSE_pf:slope_pf:bias_pf                                0.05081 . \n",
       "PSE_subt:range_subt:bias_subt:sigma_subt:PSE_pf                   0.01340 * \n",
       "PSE_subt:range_subt:bias_subt:sigma_subt:slope_pf                 0.01930 * \n",
       "PSE_subt:range_subt:bias_subt:PSE_pf:slope_pf                     0.11864   \n",
       "PSE_subt:range_subt:sigma_subt:PSE_pf:slope_pf                    0.11230   \n",
       "PSE_subt:bias_subt:sigma_subt:PSE_pf:slope_pf                     0.14937   \n",
       "range_subt:bias_subt:sigma_subt:PSE_pf:slope_pf                   0.14903   \n",
       "PSE_subt:range_subt:bias_subt:sigma_subt:bias_pf                  0.05442 . \n",
       "PSE_subt:range_subt:bias_subt:PSE_pf:bias_pf                      0.01802 * \n",
       "PSE_subt:range_subt:sigma_subt:PSE_pf:bias_pf                     0.01682 * \n",
       "PSE_subt:bias_subt:sigma_subt:PSE_pf:bias_pf                      0.02118 * \n",
       "range_subt:bias_subt:sigma_subt:PSE_pf:bias_pf                    0.02015 * \n",
       "PSE_subt:range_subt:bias_subt:slope_pf:bias_pf                    0.01336 * \n",
       "PSE_subt:range_subt:sigma_subt:slope_pf:bias_pf                   0.00499 **\n",
       "PSE_subt:bias_subt:sigma_subt:slope_pf:bias_pf                    0.00444 **\n",
       "range_subt:bias_subt:sigma_subt:slope_pf:bias_pf                  0.00470 **\n",
       "PSE_subt:range_subt:PSE_pf:slope_pf:bias_pf                       0.03354 * \n",
       "PSE_subt:bias_subt:PSE_pf:slope_pf:bias_pf                        0.04979 * \n",
       "range_subt:bias_subt:PSE_pf:slope_pf:bias_pf                      0.05053 . \n",
       "PSE_subt:sigma_subt:PSE_pf:slope_pf:bias_pf                       0.03763 * \n",
       "range_subt:sigma_subt:PSE_pf:slope_pf:bias_pf                     0.04260 * \n",
       "bias_subt:sigma_subt:PSE_pf:slope_pf:bias_pf                      0.04504 * \n",
       "PSE_subt:range_subt:bias_subt:sigma_subt:PSE_pf:slope_pf          0.10028   \n",
       "PSE_subt:range_subt:bias_subt:sigma_subt:PSE_pf:bias_pf           0.01243 * \n",
       "PSE_subt:range_subt:bias_subt:sigma_subt:slope_pf:bias_pf         0.00292 **\n",
       "PSE_subt:range_subt:bias_subt:PSE_pf:slope_pf:bias_pf             0.03602 * \n",
       "PSE_subt:range_subt:sigma_subt:PSE_pf:slope_pf:bias_pf            0.02662 * \n",
       "PSE_subt:bias_subt:sigma_subt:PSE_pf:slope_pf:bias_pf             0.03674 * \n",
       "range_subt:bias_subt:sigma_subt:PSE_pf:slope_pf:bias_pf           0.03408 * \n",
       "PSE_subt:range_subt:bias_subt:sigma_subt:PSE_pf:slope_pf:bias_pf  0.02234 * \n",
       "---\n",
       "Signif. codes:  0 ‘***’ 0.001 ‘**’ 0.01 ‘*’ 0.05 ‘.’ 0.1 ‘ ’ 1\n",
       "\n",
       "Residual standard error: 20.16 on 147 degrees of freedom\n",
       "Multiple R-squared:  0.4583,\tAdjusted R-squared:  -0.009644 \n",
       "F-statistic: 0.9794 on 127 and 147 DF,  p-value: 0.5466\n"
      ]
     },
     "metadata": {}
    }
   ],
   "metadata": {}
  },
  {
   "cell_type": "code",
   "execution_count": 49,
   "source": [
    "anova(m1_subt, m4_subt_int, m6_both_int)"
   ],
   "outputs": [
    {
     "output_type": "display_data",
     "data": {
      "text/html": [
       "<table class=\"dataframe\">\n",
       "<caption>A anova: 2 × 6</caption>\n",
       "<thead>\n",
       "\t<tr><th></th><th scope=col>Res.Df</th><th scope=col>RSS</th><th scope=col>Df</th><th scope=col>Sum of Sq</th><th scope=col>F</th><th scope=col>Pr(&gt;F)</th></tr>\n",
       "\t<tr><th></th><th scope=col>&lt;dbl&gt;</th><th scope=col>&lt;dbl&gt;</th><th scope=col>&lt;dbl&gt;</th><th scope=col>&lt;dbl&gt;</th><th scope=col>&lt;dbl&gt;</th><th scope=col>&lt;dbl&gt;</th></tr>\n",
       "</thead>\n",
       "<tbody>\n",
       "\t<tr><th scope=row>1</th><td>270</td><td>108999.0</td><td>NA</td><td>      NA</td><td>      NA</td><td>       NA</td></tr>\n",
       "\t<tr><th scope=row>2</th><td>259</td><td>102960.9</td><td>11</td><td>6038.114</td><td>1.380817</td><td>0.1818352</td></tr>\n",
       "</tbody>\n",
       "</table>\n"
      ],
      "text/latex": [
       "A anova: 2 × 6\n",
       "\\begin{tabular}{r|llllll}\n",
       "  & Res.Df & RSS & Df & Sum of Sq & F & Pr(>F)\\\\\n",
       "  & <dbl> & <dbl> & <dbl> & <dbl> & <dbl> & <dbl>\\\\\n",
       "\\hline\n",
       "\t1 & 270 & 108999.0 & NA &       NA &       NA &        NA\\\\\n",
       "\t2 & 259 & 102960.9 & 11 & 6038.114 & 1.380817 & 0.1818352\\\\\n",
       "\\end{tabular}\n"
      ],
      "text/markdown": [
       "\n",
       "A anova: 2 × 6\n",
       "\n",
       "| <!--/--> | Res.Df &lt;dbl&gt; | RSS &lt;dbl&gt; | Df &lt;dbl&gt; | Sum of Sq &lt;dbl&gt; | F &lt;dbl&gt; | Pr(&gt;F) &lt;dbl&gt; |\n",
       "|---|---|---|---|---|---|---|\n",
       "| 1 | 270 | 108999.0 | NA |       NA |       NA |        NA |\n",
       "| 2 | 259 | 102960.9 | 11 | 6038.114 | 1.380817 | 0.1818352 |\n",
       "\n"
      ],
      "text/plain": [
       "  Res.Df RSS      Df Sum of Sq F        Pr(>F)   \n",
       "1 270    108999.0 NA       NA        NA        NA\n",
       "2 259    102960.9 11 6038.114  1.380817 0.1818352"
      ]
     },
     "metadata": {}
    }
   ],
   "metadata": {}
  },
  {
   "cell_type": "code",
   "execution_count": 50,
   "source": [
    "aic_results <- AIC(m1_subt, m4_subt_int, m6_both_int) # full interaction model is worse\n",
    "aic_results"
   ],
   "outputs": [
    {
     "output_type": "display_data",
     "data": {
      "text/html": [
       "<table class=\"dataframe\">\n",
       "<caption>A data.frame: 3 × 2</caption>\n",
       "<thead>\n",
       "\t<tr><th></th><th scope=col>df</th><th scope=col>AIC</th></tr>\n",
       "\t<tr><th></th><th scope=col>&lt;dbl&gt;</th><th scope=col>&lt;dbl&gt;</th></tr>\n",
       "</thead>\n",
       "<tbody>\n",
       "\t<tr><th scope=row>m1_subt</th><td>  6</td><td>2437.555</td></tr>\n",
       "\t<tr><th scope=row>m4_subt_int</th><td> 17</td><td>2443.883</td></tr>\n",
       "\t<tr><th scope=row>m6_both_int</th><td>129</td><td>2518.341</td></tr>\n",
       "</tbody>\n",
       "</table>\n"
      ],
      "text/latex": [
       "A data.frame: 3 × 2\n",
       "\\begin{tabular}{r|ll}\n",
       "  & df & AIC\\\\\n",
       "  & <dbl> & <dbl>\\\\\n",
       "\\hline\n",
       "\tm1\\_subt &   6 & 2437.555\\\\\n",
       "\tm4\\_subt\\_int &  17 & 2443.883\\\\\n",
       "\tm6\\_both\\_int & 129 & 2518.341\\\\\n",
       "\\end{tabular}\n"
      ],
      "text/markdown": [
       "\n",
       "A data.frame: 3 × 2\n",
       "\n",
       "| <!--/--> | df &lt;dbl&gt; | AIC &lt;dbl&gt; |\n",
       "|---|---|---|\n",
       "| m1_subt |   6 | 2437.555 |\n",
       "| m4_subt_int |  17 | 2443.883 |\n",
       "| m6_both_int | 129 | 2518.341 |\n",
       "\n"
      ],
      "text/plain": [
       "            df  AIC     \n",
       "m1_subt       6 2437.555\n",
       "m4_subt_int  17 2443.883\n",
       "m6_both_int 129 2518.341"
      ]
     },
     "metadata": {}
    }
   ],
   "metadata": {}
  },
  {
   "cell_type": "code",
   "execution_count": 54,
   "source": [
    "formula <- as.formula(paste(trait,\" ~ PSE_subt * range_subt * bias_subt * sigma_subt + PSE_pf * slope_pf * bias_pf\"))\n",
    "m6_both_int_reduced <- lm(formula, data = data)\n",
    "summary(m6_both_int_reduced) # quite a few interactions survive!"
   ],
   "outputs": [
    {
     "output_type": "display_data",
     "data": {
      "text/plain": [
       "\n",
       "Call:\n",
       "lm(formula = formula, data = data)\n",
       "\n",
       "Residuals:\n",
       "    Min      1Q  Median      3Q     Max \n",
       "-46.270 -14.276   0.118  12.304  51.741 \n",
       "\n",
       "Coefficients:\n",
       "                                         Estimate Std. Error t value Pr(>|t|)\n",
       "(Intercept)                                216.35     154.82   1.397    0.164\n",
       "PSE_subt                                  -380.11     296.41  -1.282    0.201\n",
       "range_subt                                -180.79     284.94  -0.634    0.526\n",
       "bias_subt                                 -215.85     177.29  -1.218    0.225\n",
       "sigma_subt                               -1217.25    1161.29  -1.048    0.296\n",
       "PSE_pf                                     -28.18      56.75  -0.497    0.620\n",
       "slope_pf                                   -20.39      66.03  -0.309    0.758\n",
       "bias_pf                                    -52.71      40.03  -1.317    0.189\n",
       "PSE_subt:range_subt                        349.13     575.97   0.606    0.545\n",
       "PSE_subt:bias_subt                         480.93     368.62   1.305    0.193\n",
       "range_subt:bias_subt                       212.62     333.87   0.637    0.525\n",
       "PSE_subt:sigma_subt                        873.55    1858.84   0.470    0.639\n",
       "range_subt:sigma_subt                     1279.08    2459.53   0.520    0.603\n",
       "bias_subt:sigma_subt                      1407.63    1405.34   1.002    0.317\n",
       "PSE_pf:slope_pf                            -23.19     154.88  -0.150    0.881\n",
       "PSE_pf:bias_pf                             -24.10     106.87  -0.226    0.822\n",
       "slope_pf:bias_pf                            40.02      70.92   0.564    0.573\n",
       "PSE_subt:range_subt:bias_subt             -390.79     691.19  -0.565    0.572\n",
       "PSE_subt:range_subt:sigma_subt             329.76    4650.16   0.071    0.944\n",
       "PSE_subt:bias_subt:sigma_subt             -289.27    2590.64  -0.112    0.911\n",
       "range_subt:bias_subt:sigma_subt          -1249.62    2920.58  -0.428    0.669\n",
       "PSE_pf:slope_pf:bias_pf                     36.60     199.12   0.184    0.854\n",
       "PSE_subt:range_subt:bias_subt:sigma_subt -1944.30    5765.29  -0.337    0.736\n",
       "\n",
       "Residual standard error: 19.98 on 252 degrees of freedom\n",
       "Multiple R-squared:  0.08818,\tAdjusted R-squared:  0.00858 \n",
       "F-statistic: 1.108 on 22 and 252 DF,  p-value: 0.3382\n"
      ]
     },
     "metadata": {}
    }
   ],
   "metadata": {}
  },
  {
   "cell_type": "code",
   "execution_count": null,
   "source": [
    "formula <- as.formula(paste(trait,\" ~ PSE_subt * range_subt * bias_subt * sigma_subt + PSE_pf * slope_pf * bias_pf\"))\n",
    "m6_both_int_reduced2 <- lm(formula, data = data)\n",
    "summary(m6_both_int_reduced2) # quite a few interactions survive!"
   ],
   "outputs": [],
   "metadata": {}
  },
  {
   "cell_type": "code",
   "execution_count": 55,
   "source": [
    "anova(m6_both_int_reduced, m6_both_int)"
   ],
   "outputs": [
    {
     "output_type": "display_data",
     "data": {
      "text/html": [
       "<table class=\"dataframe\">\n",
       "<caption>A anova: 2 × 6</caption>\n",
       "<thead>\n",
       "\t<tr><th></th><th scope=col>Res.Df</th><th scope=col>RSS</th><th scope=col>Df</th><th scope=col>Sum of Sq</th><th scope=col>F</th><th scope=col>Pr(&gt;F)</th></tr>\n",
       "\t<tr><th></th><th scope=col>&lt;dbl&gt;</th><th scope=col>&lt;dbl&gt;</th><th scope=col>&lt;dbl&gt;</th><th scope=col>&lt;dbl&gt;</th><th scope=col>&lt;dbl&gt;</th><th scope=col>&lt;dbl&gt;</th></tr>\n",
       "</thead>\n",
       "<tbody>\n",
       "\t<tr><th scope=row>1</th><td>252</td><td>100619.20</td><td> NA</td><td>      NA</td><td>       NA</td><td>       NA</td></tr>\n",
       "\t<tr><th scope=row>2</th><td>147</td><td> 59773.42</td><td>105</td><td>40845.77</td><td>0.9566807</td><td>0.5925941</td></tr>\n",
       "</tbody>\n",
       "</table>\n"
      ],
      "text/latex": [
       "A anova: 2 × 6\n",
       "\\begin{tabular}{r|llllll}\n",
       "  & Res.Df & RSS & Df & Sum of Sq & F & Pr(>F)\\\\\n",
       "  & <dbl> & <dbl> & <dbl> & <dbl> & <dbl> & <dbl>\\\\\n",
       "\\hline\n",
       "\t1 & 252 & 100619.20 &  NA &       NA &        NA &        NA\\\\\n",
       "\t2 & 147 &  59773.42 & 105 & 40845.77 & 0.9566807 & 0.5925941\\\\\n",
       "\\end{tabular}\n"
      ],
      "text/markdown": [
       "\n",
       "A anova: 2 × 6\n",
       "\n",
       "| <!--/--> | Res.Df &lt;dbl&gt; | RSS &lt;dbl&gt; | Df &lt;dbl&gt; | Sum of Sq &lt;dbl&gt; | F &lt;dbl&gt; | Pr(&gt;F) &lt;dbl&gt; |\n",
       "|---|---|---|---|---|---|---|\n",
       "| 1 | 252 | 100619.20 |  NA |       NA |        NA |        NA |\n",
       "| 2 | 147 |  59773.42 | 105 | 40845.77 | 0.9566807 | 0.5925941 |\n",
       "\n"
      ],
      "text/plain": [
       "  Res.Df RSS       Df  Sum of Sq F         Pr(>F)   \n",
       "1 252    100619.20  NA       NA         NA        NA\n",
       "2 147     59773.42 105 40845.77  0.9566807 0.5925941"
      ]
     },
     "metadata": {}
    }
   ],
   "metadata": {}
  },
  {
   "cell_type": "code",
   "execution_count": null,
   "source": [],
   "outputs": [],
   "metadata": {}
  }
 ],
 "metadata": {
  "interpreter": {
   "hash": "fd4f9b4a611f13030669d34296d320a89181368ed7f3667f4142a08b4c2c4fbe"
  },
  "kernelspec": {
   "name": "python3124jvsc74a57bd04a074528bc854e8a1fdc819f4bc249979b3b196bce4de5afb134a947ed71fa2f",
   "display_name": "R",
   "language": "R"
  },
  "language_info": {
   "name": "R",
   "codemirror_mode": "r",
   "pygments_lexer": "r",
   "mimetype": "text/x-r-source",
   "file_extension": ".r",
   "version": "4.3.3"
  }
 },
 "nbformat": 4,
 "nbformat_minor": 4
}
{
 "cells": [
  {
   "cell_type": "code",
   "execution_count": 1,
   "source": [
    "print(\"Hello, R in Jupyter!\")"
   ],
   "outputs": [
    {
     "output_type": "stream",
     "name": "stdout",
     "text": [
      "[1] \"Hello, R in Jupyter!\"\n"
     ]
    }
   ],
   "metadata": {}
  },
  {
   "cell_type": "code",
   "execution_count": 2,
   "source": [
    "# Basic arithmetic\n",
    "result <- 2 + 2\n",
    "print(result)"
   ],
   "outputs": [
    {
     "output_type": "stream",
     "name": "stdout",
     "text": [
      "[1] 4\n"
     ]
    }
   ],
   "metadata": {}
  },
  {
   "cell_type": "code",
   "execution_count": 3,
   "source": [
    "ses <- 1"
   ],
   "outputs": [],
   "metadata": {}
  },
  {
   "cell_type": "code",
   "execution_count": 4,
   "source": [
    "root_dir = '../../data/subtlety_data/'#/Users/f0053cz/Documents/psyanim_v2/scripts_for_beh_paper/data/subtlety_playfight_data/'\n",
    "data <- read.csv(paste(root_dir,'mean_apr_ses1_traits.csv', sep = \"/\"))\n",
    "# print(data)\n",
    "head(data, 5)"
   ],
   "outputs": [
    {
     "output_type": "display_data",
     "data": {
      "text/html": [
       "<table class=\"dataframe\">\n",
       "<caption>A data.frame: 5 × 23</caption>\n",
       "<thead>\n",
       "\t<tr><th></th><th scope=col>X</th><th scope=col>subID</th><th scope=col>subtlety</th><th scope=col>slider</th><th scope=col>RT</th><th scope=col>accuracy</th><th scope=col>trial_ind</th><th scope=col>rating180</th><th scope=col>diff_from_180</th><th scope=col>aq_social_skill</th><th scope=col>⋯</th><th scope=col>aq_comm</th><th scope=col>panas_pos</th><th scope=col>panas_neg</th><th scope=col>ffi_neuroticism</th><th scope=col>ffi_extraversion</th><th scope=col>ffi_openness</th><th scope=col>ffi_agreeableness</th><th scope=col>ffi_conscientiousness</th><th scope=col>ucla</th><th scope=col>friend_num</th></tr>\n",
       "\t<tr><th></th><th scope=col>&lt;int&gt;</th><th scope=col>&lt;int&gt;</th><th scope=col>&lt;int&gt;</th><th scope=col>&lt;dbl&gt;</th><th scope=col>&lt;dbl&gt;</th><th scope=col>&lt;dbl&gt;</th><th scope=col>&lt;dbl&gt;</th><th scope=col>&lt;dbl&gt;</th><th scope=col>&lt;dbl&gt;</th><th scope=col>&lt;dbl&gt;</th><th scope=col>⋯</th><th scope=col>&lt;dbl&gt;</th><th scope=col>&lt;dbl&gt;</th><th scope=col>&lt;dbl&gt;</th><th scope=col>&lt;dbl&gt;</th><th scope=col>&lt;dbl&gt;</th><th scope=col>&lt;dbl&gt;</th><th scope=col>&lt;dbl&gt;</th><th scope=col>&lt;dbl&gt;</th><th scope=col>&lt;dbl&gt;</th><th scope=col>&lt;dbl&gt;</th></tr>\n",
       "</thead>\n",
       "<tbody>\n",
       "\t<tr><th scope=row>1</th><td>0</td><td>1</td><td>  0</td><td>96.25000</td><td>2.885583</td><td>1</td><td>33.75000</td><td>15.83333</td><td>80.41667</td><td>8</td><td>⋯</td><td>12</td><td>16</td><td>9</td><td>43</td><td>38</td><td>29</td><td>42</td><td>46</td><td>58</td><td>1</td></tr>\n",
       "\t<tr><th scope=row>2</th><td>1</td><td>1</td><td> 30</td><td>96.41667</td><td>2.830083</td><td>1</td><td>50.58333</td><td>15.83333</td><td>80.58333</td><td>8</td><td>⋯</td><td>12</td><td>16</td><td>9</td><td>43</td><td>38</td><td>29</td><td>42</td><td>46</td><td>58</td><td>1</td></tr>\n",
       "\t<tr><th scope=row>3</th><td>2</td><td>1</td><td> 60</td><td>93.58333</td><td>3.191333</td><td>1</td><td>35.66667</td><td>15.83333</td><td>77.75000</td><td>8</td><td>⋯</td><td>12</td><td>16</td><td>9</td><td>43</td><td>38</td><td>29</td><td>42</td><td>46</td><td>58</td><td>1</td></tr>\n",
       "\t<tr><th scope=row>4</th><td>3</td><td>1</td><td> 90</td><td>80.75000</td><td>3.399583</td><td>1</td><td>40.91667</td><td>15.83333</td><td>64.91667</td><td>8</td><td>⋯</td><td>12</td><td>16</td><td>9</td><td>43</td><td>38</td><td>29</td><td>42</td><td>46</td><td>58</td><td>1</td></tr>\n",
       "\t<tr><th scope=row>5</th><td>4</td><td>1</td><td>120</td><td>53.66667</td><td>3.984500</td><td>1</td><td>37.33333</td><td>15.83333</td><td>37.83333</td><td>8</td><td>⋯</td><td>12</td><td>16</td><td>9</td><td>43</td><td>38</td><td>29</td><td>42</td><td>46</td><td>58</td><td>1</td></tr>\n",
       "</tbody>\n",
       "</table>\n"
      ],
      "text/latex": [
       "A data.frame: 5 × 23\n",
       "\\begin{tabular}{r|lllllllllllllllllllll}\n",
       "  & X & subID & subtlety & slider & RT & accuracy & trial\\_ind & rating180 & diff\\_from\\_180 & aq\\_social\\_skill & ⋯ & aq\\_comm & panas\\_pos & panas\\_neg & ffi\\_neuroticism & ffi\\_extraversion & ffi\\_openness & ffi\\_agreeableness & ffi\\_conscientiousness & ucla & friend\\_num\\\\\n",
       "  & <int> & <int> & <int> & <dbl> & <dbl> & <dbl> & <dbl> & <dbl> & <dbl> & <dbl> & ⋯ & <dbl> & <dbl> & <dbl> & <dbl> & <dbl> & <dbl> & <dbl> & <dbl> & <dbl> & <dbl>\\\\\n",
       "\\hline\n",
       "\t1 & 0 & 1 &   0 & 96.25000 & 2.885583 & 1 & 33.75000 & 15.83333 & 80.41667 & 8 & ⋯ & 12 & 16 & 9 & 43 & 38 & 29 & 42 & 46 & 58 & 1\\\\\n",
       "\t2 & 1 & 1 &  30 & 96.41667 & 2.830083 & 1 & 50.58333 & 15.83333 & 80.58333 & 8 & ⋯ & 12 & 16 & 9 & 43 & 38 & 29 & 42 & 46 & 58 & 1\\\\\n",
       "\t3 & 2 & 1 &  60 & 93.58333 & 3.191333 & 1 & 35.66667 & 15.83333 & 77.75000 & 8 & ⋯ & 12 & 16 & 9 & 43 & 38 & 29 & 42 & 46 & 58 & 1\\\\\n",
       "\t4 & 3 & 1 &  90 & 80.75000 & 3.399583 & 1 & 40.91667 & 15.83333 & 64.91667 & 8 & ⋯ & 12 & 16 & 9 & 43 & 38 & 29 & 42 & 46 & 58 & 1\\\\\n",
       "\t5 & 4 & 1 & 120 & 53.66667 & 3.984500 & 1 & 37.33333 & 15.83333 & 37.83333 & 8 & ⋯ & 12 & 16 & 9 & 43 & 38 & 29 & 42 & 46 & 58 & 1\\\\\n",
       "\\end{tabular}\n"
      ],
      "text/markdown": [
       "\n",
       "A data.frame: 5 × 23\n",
       "\n",
       "| <!--/--> | X &lt;int&gt; | subID &lt;int&gt; | subtlety &lt;int&gt; | slider &lt;dbl&gt; | RT &lt;dbl&gt; | accuracy &lt;dbl&gt; | trial_ind &lt;dbl&gt; | rating180 &lt;dbl&gt; | diff_from_180 &lt;dbl&gt; | aq_social_skill &lt;dbl&gt; | ⋯ ⋯ | aq_comm &lt;dbl&gt; | panas_pos &lt;dbl&gt; | panas_neg &lt;dbl&gt; | ffi_neuroticism &lt;dbl&gt; | ffi_extraversion &lt;dbl&gt; | ffi_openness &lt;dbl&gt; | ffi_agreeableness &lt;dbl&gt; | ffi_conscientiousness &lt;dbl&gt; | ucla &lt;dbl&gt; | friend_num &lt;dbl&gt; |\n",
       "|---|---|---|---|---|---|---|---|---|---|---|---|---|---|---|---|---|---|---|---|---|---|\n",
       "| 1 | 0 | 1 |   0 | 96.25000 | 2.885583 | 1 | 33.75000 | 15.83333 | 80.41667 | 8 | ⋯ | 12 | 16 | 9 | 43 | 38 | 29 | 42 | 46 | 58 | 1 |\n",
       "| 2 | 1 | 1 |  30 | 96.41667 | 2.830083 | 1 | 50.58333 | 15.83333 | 80.58333 | 8 | ⋯ | 12 | 16 | 9 | 43 | 38 | 29 | 42 | 46 | 58 | 1 |\n",
       "| 3 | 2 | 1 |  60 | 93.58333 | 3.191333 | 1 | 35.66667 | 15.83333 | 77.75000 | 8 | ⋯ | 12 | 16 | 9 | 43 | 38 | 29 | 42 | 46 | 58 | 1 |\n",
       "| 4 | 3 | 1 |  90 | 80.75000 | 3.399583 | 1 | 40.91667 | 15.83333 | 64.91667 | 8 | ⋯ | 12 | 16 | 9 | 43 | 38 | 29 | 42 | 46 | 58 | 1 |\n",
       "| 5 | 4 | 1 | 120 | 53.66667 | 3.984500 | 1 | 37.33333 | 15.83333 | 37.83333 | 8 | ⋯ | 12 | 16 | 9 | 43 | 38 | 29 | 42 | 46 | 58 | 1 |\n",
       "\n"
      ],
      "text/plain": [
       "  X subID subtlety slider   RT       accuracy trial_ind rating180 diff_from_180\n",
       "1 0 1       0      96.25000 2.885583 1        33.75000  15.83333  80.41667     \n",
       "2 1 1      30      96.41667 2.830083 1        50.58333  15.83333  80.58333     \n",
       "3 2 1      60      93.58333 3.191333 1        35.66667  15.83333  77.75000     \n",
       "4 3 1      90      80.75000 3.399583 1        40.91667  15.83333  64.91667     \n",
       "5 4 1     120      53.66667 3.984500 1        37.33333  15.83333  37.83333     \n",
       "  aq_social_skill ⋯ aq_comm panas_pos panas_neg ffi_neuroticism\n",
       "1 8               ⋯ 12      16        9         43             \n",
       "2 8               ⋯ 12      16        9         43             \n",
       "3 8               ⋯ 12      16        9         43             \n",
       "4 8               ⋯ 12      16        9         43             \n",
       "5 8               ⋯ 12      16        9         43             \n",
       "  ffi_extraversion ffi_openness ffi_agreeableness ffi_conscientiousness ucla\n",
       "1 38               29           42                46                    58  \n",
       "2 38               29           42                46                    58  \n",
       "3 38               29           42                46                    58  \n",
       "4 38               29           42                46                    58  \n",
       "5 38               29           42                46                    58  \n",
       "  friend_num\n",
       "1 1         \n",
       "2 1         \n",
       "3 1         \n",
       "4 1         \n",
       "5 1         "
      ]
     },
     "metadata": {}
    }
   ],
   "metadata": {}
  },
  {
   "cell_type": "code",
   "execution_count": 5,
   "source": [
    "colnames(data)"
   ],
   "outputs": [
    {
     "output_type": "display_data",
     "data": {
      "text/html": [
       "<style>\n",
       ".list-inline {list-style: none; margin:0; padding: 0}\n",
       ".list-inline>li {display: inline-block}\n",
       ".list-inline>li:not(:last-child)::after {content: \"\\00b7\"; padding: 0 .5ex}\n",
       "</style>\n",
       "<ol class=list-inline><li>'X'</li><li>'subID'</li><li>'subtlety'</li><li>'slider'</li><li>'RT'</li><li>'accuracy'</li><li>'trial_ind'</li><li>'rating180'</li><li>'diff_from_180'</li><li>'aq_social_skill'</li><li>'aq_attn_switch'</li><li>'aq_img'</li><li>'aq_attn_to_det'</li><li>'aq_comm'</li><li>'panas_pos'</li><li>'panas_neg'</li><li>'ffi_neuroticism'</li><li>'ffi_extraversion'</li><li>'ffi_openness'</li><li>'ffi_agreeableness'</li><li>'ffi_conscientiousness'</li><li>'ucla'</li><li>'friend_num'</li></ol>\n"
      ],
      "text/latex": [
       "\\begin{enumerate*}\n",
       "\\item 'X'\n",
       "\\item 'subID'\n",
       "\\item 'subtlety'\n",
       "\\item 'slider'\n",
       "\\item 'RT'\n",
       "\\item 'accuracy'\n",
       "\\item 'trial\\_ind'\n",
       "\\item 'rating180'\n",
       "\\item 'diff\\_from\\_180'\n",
       "\\item 'aq\\_social\\_skill'\n",
       "\\item 'aq\\_attn\\_switch'\n",
       "\\item 'aq\\_img'\n",
       "\\item 'aq\\_attn\\_to\\_det'\n",
       "\\item 'aq\\_comm'\n",
       "\\item 'panas\\_pos'\n",
       "\\item 'panas\\_neg'\n",
       "\\item 'ffi\\_neuroticism'\n",
       "\\item 'ffi\\_extraversion'\n",
       "\\item 'ffi\\_openness'\n",
       "\\item 'ffi\\_agreeableness'\n",
       "\\item 'ffi\\_conscientiousness'\n",
       "\\item 'ucla'\n",
       "\\item 'friend\\_num'\n",
       "\\end{enumerate*}\n"
      ],
      "text/markdown": [
       "1. 'X'\n",
       "2. 'subID'\n",
       "3. 'subtlety'\n",
       "4. 'slider'\n",
       "5. 'RT'\n",
       "6. 'accuracy'\n",
       "7. 'trial_ind'\n",
       "8. 'rating180'\n",
       "9. 'diff_from_180'\n",
       "10. 'aq_social_skill'\n",
       "11. 'aq_attn_switch'\n",
       "12. 'aq_img'\n",
       "13. 'aq_attn_to_det'\n",
       "14. 'aq_comm'\n",
       "15. 'panas_pos'\n",
       "16. 'panas_neg'\n",
       "17. 'ffi_neuroticism'\n",
       "18. 'ffi_extraversion'\n",
       "19. 'ffi_openness'\n",
       "20. 'ffi_agreeableness'\n",
       "21. 'ffi_conscientiousness'\n",
       "22. 'ucla'\n",
       "23. 'friend_num'\n",
       "\n",
       "\n"
      ],
      "text/plain": [
       " [1] \"X\"                     \"subID\"                 \"subtlety\"             \n",
       " [4] \"slider\"                \"RT\"                    \"accuracy\"             \n",
       " [7] \"trial_ind\"             \"rating180\"             \"diff_from_180\"        \n",
       "[10] \"aq_social_skill\"       \"aq_attn_switch\"        \"aq_img\"               \n",
       "[13] \"aq_attn_to_det\"        \"aq_comm\"               \"panas_pos\"            \n",
       "[16] \"panas_neg\"             \"ffi_neuroticism\"       \"ffi_extraversion\"     \n",
       "[19] \"ffi_openness\"          \"ffi_agreeableness\"     \"ffi_conscientiousness\"\n",
       "[22] \"ucla\"                  \"friend_num\"           "
      ]
     },
     "metadata": {}
    }
   ],
   "metadata": {}
  },
  {
   "cell_type": "code",
   "execution_count": 6,
   "source": [
    "# Print the dimensions of the data frame\n",
    "print(dim(data))\n",
    "\n",
    "# Drop rows with NA values\n",
    "data <- na.omit(data)\n",
    "\n",
    "# Print the dimensions of the data frame after dropping NA values\n",
    "print(dim(data))"
   ],
   "outputs": [
    {
     "output_type": "stream",
     "name": "stdout",
     "text": [
      "[1] 2184   23\n",
      "[1] 2184   23\n"
     ]
    }
   ],
   "metadata": {}
  },
  {
   "cell_type": "markdown",
   "source": [
    "# mult reg (relevant traits and curve fits)"
   ],
   "metadata": {}
  },
  {
   "cell_type": "code",
   "execution_count": 7,
   "source": [
    "# install.packages(\"dplyr\")\n",
    "library(dplyr)\n",
    "\n",
    "# # Rename specific columns\n",
    "# data <- data %>% rename(\n",
    "#   pos_affect = Positive_reweigh,\n",
    "#   PSE_subt = obj_center_subt,\n",
    "#   range_subt = amplitude_subt,\n",
    "#   bias_subt = bias_xmin_norm_subt,\n",
    "#   PSE_pf = obj_center_pf,\n",
    "#   range_pf = amplitude_pf,\n",
    "#   bias_pf = bias_xmin_norm_pf,\n",
    "#   PSE_diff = obj_center_diff,\n",
    "#   range_diff = amplitude_diff,\n",
    "#   bias_diff = bias_xmin_norm_diff\n",
    "# )"
   ],
   "outputs": [
    {
     "output_type": "stream",
     "name": "stderr",
     "text": [
      "Updating HTML index of packages in '.Library'\n",
      "\n",
      "Making 'packages.html' ...\n",
      " done\n",
      "\n",
      "\n",
      "Attaching package: ‘dplyr’\n",
      "\n",
      "\n",
      "The following objects are masked from ‘package:stats’:\n",
      "\n",
      "    filter, lag\n",
      "\n",
      "\n",
      "The following objects are masked from ‘package:base’:\n",
      "\n",
      "    intersect, setdiff, setequal, union\n",
      "\n",
      "\n"
     ]
    }
   ],
   "metadata": {}
  },
  {
   "cell_type": "code",
   "execution_count": 8,
   "source": [
    "trait <- 'aq_social_skill'"
   ],
   "outputs": [],
   "metadata": {}
  },
  {
   "cell_type": "code",
   "execution_count": 9,
   "source": [
    "data1 <- data[data$subtlety == 0 , ]\n",
    "formula <- as.formula(paste(\"slider ~ \", trait))\n",
    "m1 <- lm(formula, data = data1)\n",
    "summary(m1)"
   ],
   "outputs": [
    {
     "output_type": "display_data",
     "data": {
      "text/plain": [
       "\n",
       "Call:\n",
       "lm(formula = formula, data = data1)\n",
       "\n",
       "Residuals:\n",
       "    Min      1Q  Median      3Q     Max \n",
       "-26.985  -4.357   1.955   6.402   7.995 \n",
       "\n",
       "Coefficients:\n",
       "                Estimate Std. Error t value Pr(>|t|)    \n",
       "(Intercept)     91.95621    1.05608  87.073   <2e-16 ***\n",
       "aq_social_skill  0.01643    0.06901   0.238    0.812    \n",
       "---\n",
       "Signif. codes:  0 ‘***’ 0.001 ‘**’ 0.01 ‘*’ 0.05 ‘.’ 0.1 ‘ ’ 1\n",
       "\n",
       "Residual standard error: 7.566 on 310 degrees of freedom\n",
       "Multiple R-squared:  0.0001828,\tAdjusted R-squared:  -0.003042 \n",
       "F-statistic: 0.05667 on 1 and 310 DF,  p-value: 0.812\n"
      ]
     },
     "metadata": {}
    }
   ],
   "metadata": {}
  },
  {
   "cell_type": "code",
   "execution_count": 10,
   "source": [
    "data1 <- data[data$subtlety == 30 , ]\n",
    "formula <- as.formula(paste(\"slider ~ \", trait))\n",
    "m1 <- lm(formula, data = data1)\n",
    "summary(m1)"
   ],
   "outputs": [
    {
     "output_type": "display_data",
     "data": {
      "text/plain": [
       "\n",
       "Call:\n",
       "lm(formula = formula, data = data1)\n",
       "\n",
       "Residuals:\n",
       "    Min      1Q  Median      3Q     Max \n",
       "-27.626  -5.525   1.893   6.884   9.270 \n",
       "\n",
       "Coefficients:\n",
       "                 Estimate Std. Error t value Pr(>|t|)    \n",
       "(Intercept)     90.717862   1.128132  80.414   <2e-16 ***\n",
       "aq_social_skill  0.004145   0.073720   0.056    0.955    \n",
       "---\n",
       "Signif. codes:  0 ‘***’ 0.001 ‘**’ 0.01 ‘*’ 0.05 ‘.’ 0.1 ‘ ’ 1\n",
       "\n",
       "Residual standard error: 8.082 on 310 degrees of freedom\n",
       "Multiple R-squared:  1.02e-05,\tAdjusted R-squared:  -0.003216 \n",
       "F-statistic: 0.003161 on 1 and 310 DF,  p-value: 0.9552\n"
      ]
     },
     "metadata": {}
    }
   ],
   "metadata": {}
  },
  {
   "cell_type": "code",
   "execution_count": 11,
   "source": [
    "data1 <- data[data$subtlety == 60 , ]\n",
    "formula <- as.formula(paste(\"slider ~ \", trait))\n",
    "m1 <- lm(formula, data = data1)\n",
    "summary(m1)"
   ],
   "outputs": [
    {
     "output_type": "display_data",
     "data": {
      "text/plain": [
       "\n",
       "Call:\n",
       "lm(formula = formula, data = data1)\n",
       "\n",
       "Residuals:\n",
       "    Min      1Q  Median      3Q     Max \n",
       "-34.420  -6.801   0.368   8.233  13.746 \n",
       "\n",
       "Coefficients:\n",
       "                Estimate Std. Error t value Pr(>|t|)    \n",
       "(Intercept)     86.54937    1.36413  63.447   <2e-16 ***\n",
       "aq_social_skill -0.01286    0.08914  -0.144    0.885    \n",
       "---\n",
       "Signif. codes:  0 ‘***’ 0.001 ‘**’ 0.01 ‘*’ 0.05 ‘.’ 0.1 ‘ ’ 1\n",
       "\n",
       "Residual standard error: 9.772 on 310 degrees of freedom\n",
       "Multiple R-squared:  6.713e-05,\tAdjusted R-squared:  -0.003158 \n",
       "F-statistic: 0.02081 on 1 and 310 DF,  p-value: 0.8854\n"
      ]
     },
     "metadata": {}
    }
   ],
   "metadata": {}
  },
  {
   "cell_type": "code",
   "execution_count": 12,
   "source": [
    "data1 <- data[data$subtlety == 90 , ]\n",
    "formula <- as.formula(paste(\"slider ~ \", trait))\n",
    "m1 <- lm(formula, data = data1)\n",
    "summary(m1)"
   ],
   "outputs": [
    {
     "output_type": "display_data",
     "data": {
      "text/plain": [
       "\n",
       "Call:\n",
       "lm(formula = formula, data = data1)\n",
       "\n",
       "Residuals:\n",
       "    Min      1Q  Median      3Q     Max \n",
       "-33.570  -6.657  -0.745   7.263  27.274 \n",
       "\n",
       "Coefficients:\n",
       "                Estimate Std. Error t value Pr(>|t|)    \n",
       "(Intercept)      75.7069     1.5875  47.689   <2e-16 ***\n",
       "aq_social_skill  -0.1569     0.1037  -1.512    0.131    \n",
       "---\n",
       "Signif. codes:  0 ‘***’ 0.001 ‘**’ 0.01 ‘*’ 0.05 ‘.’ 0.1 ‘ ’ 1\n",
       "\n",
       "Residual standard error: 11.37 on 310 degrees of freedom\n",
       "Multiple R-squared:  0.007324,\tAdjusted R-squared:  0.004122 \n",
       "F-statistic: 2.287 on 1 and 310 DF,  p-value: 0.1315\n"
      ]
     },
     "metadata": {}
    }
   ],
   "metadata": {}
  },
  {
   "cell_type": "code",
   "execution_count": 13,
   "source": [
    "data1 <- data[data$subtlety == 120 , ]\n",
    "formula <- as.formula(paste(\"slider ~ \", trait))\n",
    "m1 <- lm(formula, data = data1)\n",
    "summary(m1)"
   ],
   "outputs": [
    {
     "output_type": "display_data",
     "data": {
      "text/plain": [
       "\n",
       "Call:\n",
       "lm(formula = formula, data = data1)\n",
       "\n",
       "Residuals:\n",
       "    Min      1Q  Median      3Q     Max \n",
       "-43.421 -10.134   1.163  10.754  48.633 \n",
       "\n",
       "Coefficients:\n",
       "                Estimate Std. Error t value Pr(>|t|)    \n",
       "(Intercept)     43.72374    2.32688  18.791   <2e-16 ***\n",
       "aq_social_skill -0.07579    0.15205  -0.498    0.619    \n",
       "---\n",
       "Signif. codes:  0 ‘***’ 0.001 ‘**’ 0.01 ‘*’ 0.05 ‘.’ 0.1 ‘ ’ 1\n",
       "\n",
       "Residual standard error: 16.67 on 310 degrees of freedom\n",
       "Multiple R-squared:  0.0008007,\tAdjusted R-squared:  -0.002423 \n",
       "F-statistic: 0.2484 on 1 and 310 DF,  p-value: 0.6185\n"
      ]
     },
     "metadata": {}
    }
   ],
   "metadata": {}
  },
  {
   "cell_type": "code",
   "execution_count": 14,
   "source": [
    "data1 <- data[data$subtlety == 150 , ]\n",
    "formula <- as.formula(paste(\"slider ~ \", trait))\n",
    "m1 <- lm(formula, data = data1)\n",
    "summary(m1)"
   ],
   "outputs": [
    {
     "output_type": "display_data",
     "data": {
      "text/plain": [
       "\n",
       "Call:\n",
       "lm(formula = formula, data = data1)\n",
       "\n",
       "Residuals:\n",
       "    Min      1Q  Median      3Q     Max \n",
       "-31.254  -9.787  -1.463   9.701  38.691 \n",
       "\n",
       "Coefficients:\n",
       "                Estimate Std. Error t value Pr(>|t|)    \n",
       "(Intercept)      31.9473     1.9492  16.390   <2e-16 ***\n",
       "aq_social_skill  -0.2310     0.1274  -1.813   0.0708 .  \n",
       "---\n",
       "Signif. codes:  0 ‘***’ 0.001 ‘**’ 0.01 ‘*’ 0.05 ‘.’ 0.1 ‘ ’ 1\n",
       "\n",
       "Residual standard error: 13.96 on 310 degrees of freedom\n",
       "Multiple R-squared:  0.01049,\tAdjusted R-squared:  0.007302 \n",
       "F-statistic: 3.288 on 1 and 310 DF,  p-value: 0.07077\n"
      ]
     },
     "metadata": {}
    }
   ],
   "metadata": {}
  },
  {
   "cell_type": "code",
   "execution_count": 15,
   "source": [
    "data1 <- data[data$subtlety == 180 , ]\n",
    "formula <- as.formula(paste(\"slider ~ \", trait))\n",
    "m1 <- lm(formula, data = data1)\n",
    "summary(m1)"
   ],
   "outputs": [
    {
     "output_type": "display_data",
     "data": {
      "text/plain": [
       "\n",
       "Call:\n",
       "lm(formula = formula, data = data1)\n",
       "\n",
       "Residuals:\n",
       "    Min      1Q  Median      3Q     Max \n",
       "-26.019  -9.352  -1.283   8.426  43.186 \n",
       "\n",
       "Coefficients:\n",
       "                Estimate Std. Error t value Pr(>|t|)    \n",
       "(Intercept)      26.8239     1.8691  14.351   <2e-16 ***\n",
       "aq_social_skill  -0.2685     0.1221  -2.198   0.0287 *  \n",
       "---\n",
       "Signif. codes:  0 ‘***’ 0.001 ‘**’ 0.01 ‘*’ 0.05 ‘.’ 0.1 ‘ ’ 1\n",
       "\n",
       "Residual standard error: 13.39 on 310 degrees of freedom\n",
       "Multiple R-squared:  0.01534,\tAdjusted R-squared:  0.01217 \n",
       "F-statistic: 4.831 on 1 and 310 DF,  p-value: 0.02869\n"
      ]
     },
     "metadata": {}
    }
   ],
   "metadata": {}
  },
  {
   "cell_type": "code",
   "execution_count": 17,
   "source": [
    "data1 <- data[data$subtlety == 180 , ]\n",
    "formula <- as.formula(paste(\"slider ~ subtlety + \", trait))\n",
    "m1 <- lm(formula, data = data1)\n",
    "summary(m1)"
   ],
   "outputs": [
    {
     "output_type": "display_data",
     "data": {
      "text/plain": [
       "\n",
       "Call:\n",
       "lm(formula = formula, data = data1)\n",
       "\n",
       "Residuals:\n",
       "    Min      1Q  Median      3Q     Max \n",
       "-26.019  -9.352  -1.283   8.426  43.186 \n",
       "\n",
       "Coefficients: (1 not defined because of singularities)\n",
       "                Estimate Std. Error t value Pr(>|t|)    \n",
       "(Intercept)      26.8239     1.8691  14.351   <2e-16 ***\n",
       "subtlety              NA         NA      NA       NA    \n",
       "aq_social_skill  -0.2685     0.1221  -2.198   0.0287 *  \n",
       "---\n",
       "Signif. codes:  0 ‘***’ 0.001 ‘**’ 0.01 ‘*’ 0.05 ‘.’ 0.1 ‘ ’ 1\n",
       "\n",
       "Residual standard error: 13.39 on 310 degrees of freedom\n",
       "Multiple R-squared:  0.01534,\tAdjusted R-squared:  0.01217 \n",
       "F-statistic: 4.831 on 1 and 310 DF,  p-value: 0.02869\n"
      ]
     },
     "metadata": {}
    }
   ],
   "metadata": {}
  },
  {
   "cell_type": "code",
   "execution_count": 20,
   "source": [
    "data1 <- data[data$subtlety == 0 , ]\n",
    "formula <- as.formula(paste(\"diff_from_180 ~ subtlety + \", trait))\n",
    "m1 <- lm(formula, data = data1)\n",
    "summary(m1)"
   ],
   "outputs": [
    {
     "output_type": "display_data",
     "data": {
      "text/plain": [
       "\n",
       "Call:\n",
       "lm(formula = formula, data = data1)\n",
       "\n",
       "Residuals:\n",
       "    Min      1Q  Median      3Q     Max \n",
       "-58.788 -12.809   1.866  13.357  34.013 \n",
       "\n",
       "Coefficients: (1 not defined because of singularities)\n",
       "                Estimate Std. Error t value Pr(>|t|)    \n",
       "(Intercept)      65.1323     2.5120  25.928   <2e-16 ***\n",
       "subtlety              NA         NA      NA       NA    \n",
       "aq_social_skill   0.2849     0.1642   1.736   0.0836 .  \n",
       "---\n",
       "Signif. codes:  0 ‘***’ 0.001 ‘**’ 0.01 ‘*’ 0.05 ‘.’ 0.1 ‘ ’ 1\n",
       "\n",
       "Residual standard error: 18 on 310 degrees of freedom\n",
       "Multiple R-squared:  0.009623,\tAdjusted R-squared:  0.006428 \n",
       "F-statistic: 3.012 on 1 and 310 DF,  p-value: 0.08364\n"
      ]
     },
     "metadata": {}
    }
   ],
   "metadata": {}
  },
  {
   "cell_type": "code",
   "execution_count": null,
   "source": [],
   "outputs": [],
   "metadata": {}
  }
 ],
 "metadata": {
  "interpreter": {
   "hash": "fd4f9b4a611f13030669d34296d320a89181368ed7f3667f4142a08b4c2c4fbe"
  },
  "kernelspec": {
   "name": "python3124jvsc74a57bd04a074528bc854e8a1fdc819f4bc249979b3b196bce4de5afb134a947ed71fa2f",
   "display_name": "R",
   "language": "R"
  },
  "language_info": {
   "name": "R",
   "codemirror_mode": "r",
   "pygments_lexer": "r",
   "mimetype": "text/x-r-source",
   "file_extension": ".r",
   "version": "4.3.3"
  }
 },
 "nbformat": 4,
 "nbformat_minor": 4
}
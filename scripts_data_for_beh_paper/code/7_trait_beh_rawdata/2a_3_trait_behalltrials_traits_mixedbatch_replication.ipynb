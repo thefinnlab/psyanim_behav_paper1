{
 "cells": [
  {
   "cell_type": "code",
   "execution_count": 1,
   "source": [
    "print(\"Hello, R in Jupyter!\")"
   ],
   "outputs": [
    {
     "output_type": "stream",
     "name": "stdout",
     "text": [
      "[1] \"Hello, R in Jupyter!\"\n"
     ]
    }
   ],
   "metadata": {}
  },
  {
   "cell_type": "code",
   "execution_count": 2,
   "source": [
    "# Basic arithmetic\n",
    "result <- 2 + 2\n",
    "print(result)"
   ],
   "outputs": [
    {
     "output_type": "stream",
     "name": "stdout",
     "text": [
      "[1] 4\n"
     ]
    }
   ],
   "metadata": {}
  },
  {
   "cell_type": "code",
   "execution_count": 23,
   "source": [
    "root_dir = '../../data/subtlety_playfight_data/'#/Users/f0053cz/Documents/psyanim_v2/scripts_for_beh_paper/data/subtlety_playfight_data/'\n",
    "flname = paste('mean_mixedbatch_traits_alltrials.csv', sep = \"\")\n",
    "data <- read.csv(paste(root_dir,flname, sep = \"/\"))\n",
    "# print(data)\n",
    "head(data, 5)"
   ],
   "outputs": [
    {
     "output_type": "display_data",
     "data": {
      "text/html": [
       "<table class=\"dataframe\">\n",
       "<caption>A data.frame: 5 × 32</caption>\n",
       "<thead>\n",
       "\t<tr><th></th><th scope=col>X</th><th scope=col>subID</th><th scope=col>block_type</th><th scope=col>subtlety</th><th scope=col>chargeSpeeds</th><th scope=col>responses_subt_1</th><th scope=col>responses_subt_2</th><th scope=col>pred_color</th><th scope=col>responses_pf</th><th scope=col>RT</th><th scope=col>⋯</th><th scope=col>comm</th><th scope=col>posAffect</th><th scope=col>negAffect</th><th scope=col>neuroticism</th><th scope=col>extraversion</th><th scope=col>openness</th><th scope=col>agreeableness</th><th scope=col>conscientiousness</th><th scope=col>loneliness</th><th scope=col>nfriends</th></tr>\n",
       "\t<tr><th></th><th scope=col>&lt;int&gt;</th><th scope=col>&lt;int&gt;</th><th scope=col>&lt;int&gt;</th><th scope=col>&lt;dbl&gt;</th><th scope=col>&lt;lgl&gt;</th><th scope=col>&lt;dbl&gt;</th><th scope=col>&lt;chr&gt;</th><th scope=col>&lt;chr&gt;</th><th scope=col>&lt;lgl&gt;</th><th scope=col>&lt;dbl&gt;</th><th scope=col>⋯</th><th scope=col>&lt;dbl&gt;</th><th scope=col>&lt;dbl&gt;</th><th scope=col>&lt;dbl&gt;</th><th scope=col>&lt;dbl&gt;</th><th scope=col>&lt;dbl&gt;</th><th scope=col>&lt;dbl&gt;</th><th scope=col>&lt;dbl&gt;</th><th scope=col>&lt;dbl&gt;</th><th scope=col>&lt;dbl&gt;</th><th scope=col>&lt;dbl&gt;</th></tr>\n",
       "</thead>\n",
       "<tbody>\n",
       "\t<tr><th scope=row>1</th><td>0</td><td>30002</td><td>1</td><td>90</td><td>NA</td><td>82</td><td>grey </td><td>grey </td><td>NA</td><td>2002</td><td>⋯</td><td>16</td><td>20</td><td>0</td><td>38</td><td>28</td><td>31</td><td>34</td><td>39</td><td>56</td><td>3</td></tr>\n",
       "\t<tr><th scope=row>2</th><td>1</td><td>30002</td><td>1</td><td>30</td><td>NA</td><td>91</td><td>grey </td><td>grey </td><td>NA</td><td>1484</td><td>⋯</td><td>16</td><td>20</td><td>0</td><td>38</td><td>28</td><td>31</td><td>34</td><td>39</td><td>56</td><td>3</td></tr>\n",
       "\t<tr><th scope=row>3</th><td>2</td><td>30002</td><td>1</td><td>60</td><td>NA</td><td>79</td><td>grey </td><td>grey </td><td>NA</td><td>1774</td><td>⋯</td><td>16</td><td>20</td><td>0</td><td>38</td><td>28</td><td>31</td><td>34</td><td>39</td><td>56</td><td>3</td></tr>\n",
       "\t<tr><th scope=row>4</th><td>3</td><td>30002</td><td>1</td><td>90</td><td>NA</td><td>28</td><td>black</td><td>black</td><td>NA</td><td>2049</td><td>⋯</td><td>16</td><td>20</td><td>0</td><td>38</td><td>28</td><td>31</td><td>34</td><td>39</td><td>56</td><td>3</td></tr>\n",
       "\t<tr><th scope=row>5</th><td>4</td><td>30002</td><td>1</td><td>90</td><td>NA</td><td>40</td><td>grey </td><td>grey </td><td>NA</td><td>1616</td><td>⋯</td><td>16</td><td>20</td><td>0</td><td>38</td><td>28</td><td>31</td><td>34</td><td>39</td><td>56</td><td>3</td></tr>\n",
       "</tbody>\n",
       "</table>\n"
      ],
      "text/latex": [
       "A data.frame: 5 × 32\n",
       "\\begin{tabular}{r|lllllllllllllllllllll}\n",
       "  & X & subID & block\\_type & subtlety & chargeSpeeds & responses\\_subt\\_1 & responses\\_subt\\_2 & pred\\_color & responses\\_pf & RT & ⋯ & comm & posAffect & negAffect & neuroticism & extraversion & openness & agreeableness & conscientiousness & loneliness & nfriends\\\\\n",
       "  & <int> & <int> & <int> & <dbl> & <lgl> & <dbl> & <chr> & <chr> & <lgl> & <dbl> & ⋯ & <dbl> & <dbl> & <dbl> & <dbl> & <dbl> & <dbl> & <dbl> & <dbl> & <dbl> & <dbl>\\\\\n",
       "\\hline\n",
       "\t1 & 0 & 30002 & 1 & 90 & NA & 82 & grey  & grey  & NA & 2002 & ⋯ & 16 & 20 & 0 & 38 & 28 & 31 & 34 & 39 & 56 & 3\\\\\n",
       "\t2 & 1 & 30002 & 1 & 30 & NA & 91 & grey  & grey  & NA & 1484 & ⋯ & 16 & 20 & 0 & 38 & 28 & 31 & 34 & 39 & 56 & 3\\\\\n",
       "\t3 & 2 & 30002 & 1 & 60 & NA & 79 & grey  & grey  & NA & 1774 & ⋯ & 16 & 20 & 0 & 38 & 28 & 31 & 34 & 39 & 56 & 3\\\\\n",
       "\t4 & 3 & 30002 & 1 & 90 & NA & 28 & black & black & NA & 2049 & ⋯ & 16 & 20 & 0 & 38 & 28 & 31 & 34 & 39 & 56 & 3\\\\\n",
       "\t5 & 4 & 30002 & 1 & 90 & NA & 40 & grey  & grey  & NA & 1616 & ⋯ & 16 & 20 & 0 & 38 & 28 & 31 & 34 & 39 & 56 & 3\\\\\n",
       "\\end{tabular}\n"
      ],
      "text/markdown": [
       "\n",
       "A data.frame: 5 × 32\n",
       "\n",
       "| <!--/--> | X &lt;int&gt; | subID &lt;int&gt; | block_type &lt;int&gt; | subtlety &lt;dbl&gt; | chargeSpeeds &lt;lgl&gt; | responses_subt_1 &lt;dbl&gt; | responses_subt_2 &lt;chr&gt; | pred_color &lt;chr&gt; | responses_pf &lt;lgl&gt; | RT &lt;dbl&gt; | ⋯ ⋯ | comm &lt;dbl&gt; | posAffect &lt;dbl&gt; | negAffect &lt;dbl&gt; | neuroticism &lt;dbl&gt; | extraversion &lt;dbl&gt; | openness &lt;dbl&gt; | agreeableness &lt;dbl&gt; | conscientiousness &lt;dbl&gt; | loneliness &lt;dbl&gt; | nfriends &lt;dbl&gt; |\n",
       "|---|---|---|---|---|---|---|---|---|---|---|---|---|---|---|---|---|---|---|---|---|---|\n",
       "| 1 | 0 | 30002 | 1 | 90 | NA | 82 | grey  | grey  | NA | 2002 | ⋯ | 16 | 20 | 0 | 38 | 28 | 31 | 34 | 39 | 56 | 3 |\n",
       "| 2 | 1 | 30002 | 1 | 30 | NA | 91 | grey  | grey  | NA | 1484 | ⋯ | 16 | 20 | 0 | 38 | 28 | 31 | 34 | 39 | 56 | 3 |\n",
       "| 3 | 2 | 30002 | 1 | 60 | NA | 79 | grey  | grey  | NA | 1774 | ⋯ | 16 | 20 | 0 | 38 | 28 | 31 | 34 | 39 | 56 | 3 |\n",
       "| 4 | 3 | 30002 | 1 | 90 | NA | 28 | black | black | NA | 2049 | ⋯ | 16 | 20 | 0 | 38 | 28 | 31 | 34 | 39 | 56 | 3 |\n",
       "| 5 | 4 | 30002 | 1 | 90 | NA | 40 | grey  | grey  | NA | 1616 | ⋯ | 16 | 20 | 0 | 38 | 28 | 31 | 34 | 39 | 56 | 3 |\n",
       "\n"
      ],
      "text/plain": [
       "  X subID block_type subtlety chargeSpeeds responses_subt_1 responses_subt_2\n",
       "1 0 30002 1          90       NA           82               grey            \n",
       "2 1 30002 1          30       NA           91               grey            \n",
       "3 2 30002 1          60       NA           79               grey            \n",
       "4 3 30002 1          90       NA           28               black           \n",
       "5 4 30002 1          90       NA           40               grey            \n",
       "  pred_color responses_pf RT   ⋯ comm posAffect negAffect neuroticism\n",
       "1 grey       NA           2002 ⋯ 16   20        0         38         \n",
       "2 grey       NA           1484 ⋯ 16   20        0         38         \n",
       "3 grey       NA           1774 ⋯ 16   20        0         38         \n",
       "4 black      NA           2049 ⋯ 16   20        0         38         \n",
       "5 grey       NA           1616 ⋯ 16   20        0         38         \n",
       "  extraversion openness agreeableness conscientiousness loneliness nfriends\n",
       "1 28           31       34            39                56         3       \n",
       "2 28           31       34            39                56         3       \n",
       "3 28           31       34            39                56         3       \n",
       "4 28           31       34            39                56         3       \n",
       "5 28           31       34            39                56         3       "
      ]
     },
     "metadata": {}
    }
   ],
   "metadata": {}
  },
  {
   "cell_type": "code",
   "execution_count": 24,
   "source": [
    "colnames(data)"
   ],
   "outputs": [
    {
     "output_type": "display_data",
     "data": {
      "text/html": [
       "<style>\n",
       ".list-inline {list-style: none; margin:0; padding: 0}\n",
       ".list-inline>li {display: inline-block}\n",
       ".list-inline>li:not(:last-child)::after {content: \"\\00b7\"; padding: 0 .5ex}\n",
       "</style>\n",
       "<ol class=list-inline><li>'X'</li><li>'subID'</li><li>'block_type'</li><li>'subtlety'</li><li>'chargeSpeeds'</li><li>'responses_subt_1'</li><li>'responses_subt_2'</li><li>'pred_color'</li><li>'responses_pf'</li><li>'RT'</li><li>'movie'</li><li>'trial_num'</li><li>'stim_dur'</li><li>'subt_norm'</li><li>'chargeSpeed_norm'</li><li>'accuracy'</li><li>'responses_pf_rev'</li><li>'chargeSpeed_norm_rev'</li><li>'social_skill'</li><li>'attn_switch'</li><li>'img'</li><li>'attn_to_det'</li><li>'comm'</li><li>'posAffect'</li><li>'negAffect'</li><li>'neuroticism'</li><li>'extraversion'</li><li>'openness'</li><li>'agreeableness'</li><li>'conscientiousness'</li><li>'loneliness'</li><li>'nfriends'</li></ol>\n"
      ],
      "text/latex": [
       "\\begin{enumerate*}\n",
       "\\item 'X'\n",
       "\\item 'subID'\n",
       "\\item 'block\\_type'\n",
       "\\item 'subtlety'\n",
       "\\item 'chargeSpeeds'\n",
       "\\item 'responses\\_subt\\_1'\n",
       "\\item 'responses\\_subt\\_2'\n",
       "\\item 'pred\\_color'\n",
       "\\item 'responses\\_pf'\n",
       "\\item 'RT'\n",
       "\\item 'movie'\n",
       "\\item 'trial\\_num'\n",
       "\\item 'stim\\_dur'\n",
       "\\item 'subt\\_norm'\n",
       "\\item 'chargeSpeed\\_norm'\n",
       "\\item 'accuracy'\n",
       "\\item 'responses\\_pf\\_rev'\n",
       "\\item 'chargeSpeed\\_norm\\_rev'\n",
       "\\item 'social\\_skill'\n",
       "\\item 'attn\\_switch'\n",
       "\\item 'img'\n",
       "\\item 'attn\\_to\\_det'\n",
       "\\item 'comm'\n",
       "\\item 'posAffect'\n",
       "\\item 'negAffect'\n",
       "\\item 'neuroticism'\n",
       "\\item 'extraversion'\n",
       "\\item 'openness'\n",
       "\\item 'agreeableness'\n",
       "\\item 'conscientiousness'\n",
       "\\item 'loneliness'\n",
       "\\item 'nfriends'\n",
       "\\end{enumerate*}\n"
      ],
      "text/markdown": [
       "1. 'X'\n",
       "2. 'subID'\n",
       "3. 'block_type'\n",
       "4. 'subtlety'\n",
       "5. 'chargeSpeeds'\n",
       "6. 'responses_subt_1'\n",
       "7. 'responses_subt_2'\n",
       "8. 'pred_color'\n",
       "9. 'responses_pf'\n",
       "10. 'RT'\n",
       "11. 'movie'\n",
       "12. 'trial_num'\n",
       "13. 'stim_dur'\n",
       "14. 'subt_norm'\n",
       "15. 'chargeSpeed_norm'\n",
       "16. 'accuracy'\n",
       "17. 'responses_pf_rev'\n",
       "18. 'chargeSpeed_norm_rev'\n",
       "19. 'social_skill'\n",
       "20. 'attn_switch'\n",
       "21. 'img'\n",
       "22. 'attn_to_det'\n",
       "23. 'comm'\n",
       "24. 'posAffect'\n",
       "25. 'negAffect'\n",
       "26. 'neuroticism'\n",
       "27. 'extraversion'\n",
       "28. 'openness'\n",
       "29. 'agreeableness'\n",
       "30. 'conscientiousness'\n",
       "31. 'loneliness'\n",
       "32. 'nfriends'\n",
       "\n",
       "\n"
      ],
      "text/plain": [
       " [1] \"X\"                    \"subID\"                \"block_type\"          \n",
       " [4] \"subtlety\"             \"chargeSpeeds\"         \"responses_subt_1\"    \n",
       " [7] \"responses_subt_2\"     \"pred_color\"           \"responses_pf\"        \n",
       "[10] \"RT\"                   \"movie\"                \"trial_num\"           \n",
       "[13] \"stim_dur\"             \"subt_norm\"            \"chargeSpeed_norm\"    \n",
       "[16] \"accuracy\"             \"responses_pf_rev\"     \"chargeSpeed_norm_rev\"\n",
       "[19] \"social_skill\"         \"attn_switch\"          \"img\"                 \n",
       "[22] \"attn_to_det\"          \"comm\"                 \"posAffect\"           \n",
       "[25] \"negAffect\"            \"neuroticism\"          \"extraversion\"        \n",
       "[28] \"openness\"             \"agreeableness\"        \"conscientiousness\"   \n",
       "[31] \"loneliness\"           \"nfriends\"            "
      ]
     },
     "metadata": {}
    }
   ],
   "metadata": {}
  },
  {
   "cell_type": "code",
   "execution_count": 25,
   "source": [
    "# Print the dimensions of the data frame\n",
    "print(dim(data))\n",
    "\n",
    "# Drop rows with NA values\n",
    "# data <- na.omit(data)\n",
    "\n",
    "# Print the dimensions of the data frame after dropping NA values\n",
    "print(dim(data))"
   ],
   "outputs": [
    {
     "output_type": "stream",
     "name": "stdout",
     "text": [
      "[1] 11592    32\n",
      "[1] 11592    32\n"
     ]
    }
   ],
   "metadata": {}
  },
  {
   "cell_type": "markdown",
   "source": [
    "# mult reg (relevant traits and curve fits)"
   ],
   "metadata": {}
  },
  {
   "cell_type": "code",
   "execution_count": 26,
   "source": [
    "# install.packages(\"lme4\") \n",
    "# install.packages(\"dplyr\")\n",
    "# install.packages(\"lmerTest\")"
   ],
   "outputs": [],
   "metadata": {}
  },
  {
   "cell_type": "code",
   "execution_count": 27,
   "source": [
    "library(dplyr)\n",
    "# library(lme4)\n",
    "library(lmerTest)"
   ],
   "outputs": [],
   "metadata": {}
  },
  {
   "cell_type": "code",
   "execution_count": 28,
   "source": [
    "# # Rename specific columns\n",
    "# data <- data %>% rename(\n",
    "#   pos_affect = Positive_reweigh,\n",
    "#   PSE_subt = obj_center_subt,\n",
    "#   range_subt = amplitude_subt,\n",
    "#   bias_subt = bias_xmin_norm_subt,\n",
    "#   PSE_pf = obj_center_pf,\n",
    "#   range_pf = amplitude_pf,\n",
    "#   bias_pf = bias_xmin_norm_pf,\n",
    "#   PSE_diff = obj_center_diff,\n",
    "#   range_diff = amplitude_diff,\n",
    "#   bias_diff = bias_xmin_norm_diff\n",
    "# )"
   ],
   "outputs": [],
   "metadata": {}
  },
  {
   "cell_type": "code",
   "execution_count": 29,
   "source": [
    "data <- data %>% rename(\n",
    "  slider = responses_subt_1,\n",
    "  stim_file = movie\n",
    ")\n",
    "head(data, 5)"
   ],
   "outputs": [
    {
     "output_type": "display_data",
     "data": {
      "text/html": [
       "<table class=\"dataframe\">\n",
       "<caption>A data.frame: 5 × 32</caption>\n",
       "<thead>\n",
       "\t<tr><th></th><th scope=col>X</th><th scope=col>subID</th><th scope=col>block_type</th><th scope=col>subtlety</th><th scope=col>chargeSpeeds</th><th scope=col>slider</th><th scope=col>responses_subt_2</th><th scope=col>pred_color</th><th scope=col>responses_pf</th><th scope=col>RT</th><th scope=col>⋯</th><th scope=col>comm</th><th scope=col>posAffect</th><th scope=col>negAffect</th><th scope=col>neuroticism</th><th scope=col>extraversion</th><th scope=col>openness</th><th scope=col>agreeableness</th><th scope=col>conscientiousness</th><th scope=col>loneliness</th><th scope=col>nfriends</th></tr>\n",
       "\t<tr><th></th><th scope=col>&lt;int&gt;</th><th scope=col>&lt;int&gt;</th><th scope=col>&lt;int&gt;</th><th scope=col>&lt;dbl&gt;</th><th scope=col>&lt;lgl&gt;</th><th scope=col>&lt;dbl&gt;</th><th scope=col>&lt;chr&gt;</th><th scope=col>&lt;chr&gt;</th><th scope=col>&lt;lgl&gt;</th><th scope=col>&lt;dbl&gt;</th><th scope=col>⋯</th><th scope=col>&lt;dbl&gt;</th><th scope=col>&lt;dbl&gt;</th><th scope=col>&lt;dbl&gt;</th><th scope=col>&lt;dbl&gt;</th><th scope=col>&lt;dbl&gt;</th><th scope=col>&lt;dbl&gt;</th><th scope=col>&lt;dbl&gt;</th><th scope=col>&lt;dbl&gt;</th><th scope=col>&lt;dbl&gt;</th><th scope=col>&lt;dbl&gt;</th></tr>\n",
       "</thead>\n",
       "<tbody>\n",
       "\t<tr><th scope=row>1</th><td>0</td><td>30002</td><td>1</td><td>90</td><td>NA</td><td>82</td><td>grey </td><td>grey </td><td>NA</td><td>2002</td><td>⋯</td><td>16</td><td>20</td><td>0</td><td>38</td><td>28</td><td>31</td><td>34</td><td>39</td><td>56</td><td>3</td></tr>\n",
       "\t<tr><th scope=row>2</th><td>1</td><td>30002</td><td>1</td><td>30</td><td>NA</td><td>91</td><td>grey </td><td>grey </td><td>NA</td><td>1484</td><td>⋯</td><td>16</td><td>20</td><td>0</td><td>38</td><td>28</td><td>31</td><td>34</td><td>39</td><td>56</td><td>3</td></tr>\n",
       "\t<tr><th scope=row>3</th><td>2</td><td>30002</td><td>1</td><td>60</td><td>NA</td><td>79</td><td>grey </td><td>grey </td><td>NA</td><td>1774</td><td>⋯</td><td>16</td><td>20</td><td>0</td><td>38</td><td>28</td><td>31</td><td>34</td><td>39</td><td>56</td><td>3</td></tr>\n",
       "\t<tr><th scope=row>4</th><td>3</td><td>30002</td><td>1</td><td>90</td><td>NA</td><td>28</td><td>black</td><td>black</td><td>NA</td><td>2049</td><td>⋯</td><td>16</td><td>20</td><td>0</td><td>38</td><td>28</td><td>31</td><td>34</td><td>39</td><td>56</td><td>3</td></tr>\n",
       "\t<tr><th scope=row>5</th><td>4</td><td>30002</td><td>1</td><td>90</td><td>NA</td><td>40</td><td>grey </td><td>grey </td><td>NA</td><td>1616</td><td>⋯</td><td>16</td><td>20</td><td>0</td><td>38</td><td>28</td><td>31</td><td>34</td><td>39</td><td>56</td><td>3</td></tr>\n",
       "</tbody>\n",
       "</table>\n"
      ],
      "text/latex": [
       "A data.frame: 5 × 32\n",
       "\\begin{tabular}{r|lllllllllllllllllllll}\n",
       "  & X & subID & block\\_type & subtlety & chargeSpeeds & slider & responses\\_subt\\_2 & pred\\_color & responses\\_pf & RT & ⋯ & comm & posAffect & negAffect & neuroticism & extraversion & openness & agreeableness & conscientiousness & loneliness & nfriends\\\\\n",
       "  & <int> & <int> & <int> & <dbl> & <lgl> & <dbl> & <chr> & <chr> & <lgl> & <dbl> & ⋯ & <dbl> & <dbl> & <dbl> & <dbl> & <dbl> & <dbl> & <dbl> & <dbl> & <dbl> & <dbl>\\\\\n",
       "\\hline\n",
       "\t1 & 0 & 30002 & 1 & 90 & NA & 82 & grey  & grey  & NA & 2002 & ⋯ & 16 & 20 & 0 & 38 & 28 & 31 & 34 & 39 & 56 & 3\\\\\n",
       "\t2 & 1 & 30002 & 1 & 30 & NA & 91 & grey  & grey  & NA & 1484 & ⋯ & 16 & 20 & 0 & 38 & 28 & 31 & 34 & 39 & 56 & 3\\\\\n",
       "\t3 & 2 & 30002 & 1 & 60 & NA & 79 & grey  & grey  & NA & 1774 & ⋯ & 16 & 20 & 0 & 38 & 28 & 31 & 34 & 39 & 56 & 3\\\\\n",
       "\t4 & 3 & 30002 & 1 & 90 & NA & 28 & black & black & NA & 2049 & ⋯ & 16 & 20 & 0 & 38 & 28 & 31 & 34 & 39 & 56 & 3\\\\\n",
       "\t5 & 4 & 30002 & 1 & 90 & NA & 40 & grey  & grey  & NA & 1616 & ⋯ & 16 & 20 & 0 & 38 & 28 & 31 & 34 & 39 & 56 & 3\\\\\n",
       "\\end{tabular}\n"
      ],
      "text/markdown": [
       "\n",
       "A data.frame: 5 × 32\n",
       "\n",
       "| <!--/--> | X &lt;int&gt; | subID &lt;int&gt; | block_type &lt;int&gt; | subtlety &lt;dbl&gt; | chargeSpeeds &lt;lgl&gt; | slider &lt;dbl&gt; | responses_subt_2 &lt;chr&gt; | pred_color &lt;chr&gt; | responses_pf &lt;lgl&gt; | RT &lt;dbl&gt; | ⋯ ⋯ | comm &lt;dbl&gt; | posAffect &lt;dbl&gt; | negAffect &lt;dbl&gt; | neuroticism &lt;dbl&gt; | extraversion &lt;dbl&gt; | openness &lt;dbl&gt; | agreeableness &lt;dbl&gt; | conscientiousness &lt;dbl&gt; | loneliness &lt;dbl&gt; | nfriends &lt;dbl&gt; |\n",
       "|---|---|---|---|---|---|---|---|---|---|---|---|---|---|---|---|---|---|---|---|---|---|\n",
       "| 1 | 0 | 30002 | 1 | 90 | NA | 82 | grey  | grey  | NA | 2002 | ⋯ | 16 | 20 | 0 | 38 | 28 | 31 | 34 | 39 | 56 | 3 |\n",
       "| 2 | 1 | 30002 | 1 | 30 | NA | 91 | grey  | grey  | NA | 1484 | ⋯ | 16 | 20 | 0 | 38 | 28 | 31 | 34 | 39 | 56 | 3 |\n",
       "| 3 | 2 | 30002 | 1 | 60 | NA | 79 | grey  | grey  | NA | 1774 | ⋯ | 16 | 20 | 0 | 38 | 28 | 31 | 34 | 39 | 56 | 3 |\n",
       "| 4 | 3 | 30002 | 1 | 90 | NA | 28 | black | black | NA | 2049 | ⋯ | 16 | 20 | 0 | 38 | 28 | 31 | 34 | 39 | 56 | 3 |\n",
       "| 5 | 4 | 30002 | 1 | 90 | NA | 40 | grey  | grey  | NA | 1616 | ⋯ | 16 | 20 | 0 | 38 | 28 | 31 | 34 | 39 | 56 | 3 |\n",
       "\n"
      ],
      "text/plain": [
       "  X subID block_type subtlety chargeSpeeds slider responses_subt_2 pred_color\n",
       "1 0 30002 1          90       NA           82     grey             grey      \n",
       "2 1 30002 1          30       NA           91     grey             grey      \n",
       "3 2 30002 1          60       NA           79     grey             grey      \n",
       "4 3 30002 1          90       NA           28     black            black     \n",
       "5 4 30002 1          90       NA           40     grey             grey      \n",
       "  responses_pf RT   ⋯ comm posAffect negAffect neuroticism extraversion\n",
       "1 NA           2002 ⋯ 16   20        0         38          28          \n",
       "2 NA           1484 ⋯ 16   20        0         38          28          \n",
       "3 NA           1774 ⋯ 16   20        0         38          28          \n",
       "4 NA           2049 ⋯ 16   20        0         38          28          \n",
       "5 NA           1616 ⋯ 16   20        0         38          28          \n",
       "  openness agreeableness conscientiousness loneliness nfriends\n",
       "1 31       34            39                56         3       \n",
       "2 31       34            39                56         3       \n",
       "3 31       34            39                56         3       \n",
       "4 31       34            39                56         3       \n",
       "5 31       34            39                56         3       "
      ]
     },
     "metadata": {}
    }
   ],
   "metadata": {}
  },
  {
   "cell_type": "code",
   "execution_count": 30,
   "source": [
    "colnames(data)"
   ],
   "outputs": [
    {
     "output_type": "display_data",
     "data": {
      "text/html": [
       "<style>\n",
       ".list-inline {list-style: none; margin:0; padding: 0}\n",
       ".list-inline>li {display: inline-block}\n",
       ".list-inline>li:not(:last-child)::after {content: \"\\00b7\"; padding: 0 .5ex}\n",
       "</style>\n",
       "<ol class=list-inline><li>'X'</li><li>'subID'</li><li>'block_type'</li><li>'subtlety'</li><li>'chargeSpeeds'</li><li>'slider'</li><li>'responses_subt_2'</li><li>'pred_color'</li><li>'responses_pf'</li><li>'RT'</li><li>'stim_file'</li><li>'trial_num'</li><li>'stim_dur'</li><li>'subt_norm'</li><li>'chargeSpeed_norm'</li><li>'accuracy'</li><li>'responses_pf_rev'</li><li>'chargeSpeed_norm_rev'</li><li>'social_skill'</li><li>'attn_switch'</li><li>'img'</li><li>'attn_to_det'</li><li>'comm'</li><li>'posAffect'</li><li>'negAffect'</li><li>'neuroticism'</li><li>'extraversion'</li><li>'openness'</li><li>'agreeableness'</li><li>'conscientiousness'</li><li>'loneliness'</li><li>'nfriends'</li></ol>\n"
      ],
      "text/latex": [
       "\\begin{enumerate*}\n",
       "\\item 'X'\n",
       "\\item 'subID'\n",
       "\\item 'block\\_type'\n",
       "\\item 'subtlety'\n",
       "\\item 'chargeSpeeds'\n",
       "\\item 'slider'\n",
       "\\item 'responses\\_subt\\_2'\n",
       "\\item 'pred\\_color'\n",
       "\\item 'responses\\_pf'\n",
       "\\item 'RT'\n",
       "\\item 'stim\\_file'\n",
       "\\item 'trial\\_num'\n",
       "\\item 'stim\\_dur'\n",
       "\\item 'subt\\_norm'\n",
       "\\item 'chargeSpeed\\_norm'\n",
       "\\item 'accuracy'\n",
       "\\item 'responses\\_pf\\_rev'\n",
       "\\item 'chargeSpeed\\_norm\\_rev'\n",
       "\\item 'social\\_skill'\n",
       "\\item 'attn\\_switch'\n",
       "\\item 'img'\n",
       "\\item 'attn\\_to\\_det'\n",
       "\\item 'comm'\n",
       "\\item 'posAffect'\n",
       "\\item 'negAffect'\n",
       "\\item 'neuroticism'\n",
       "\\item 'extraversion'\n",
       "\\item 'openness'\n",
       "\\item 'agreeableness'\n",
       "\\item 'conscientiousness'\n",
       "\\item 'loneliness'\n",
       "\\item 'nfriends'\n",
       "\\end{enumerate*}\n"
      ],
      "text/markdown": [
       "1. 'X'\n",
       "2. 'subID'\n",
       "3. 'block_type'\n",
       "4. 'subtlety'\n",
       "5. 'chargeSpeeds'\n",
       "6. 'slider'\n",
       "7. 'responses_subt_2'\n",
       "8. 'pred_color'\n",
       "9. 'responses_pf'\n",
       "10. 'RT'\n",
       "11. 'stim_file'\n",
       "12. 'trial_num'\n",
       "13. 'stim_dur'\n",
       "14. 'subt_norm'\n",
       "15. 'chargeSpeed_norm'\n",
       "16. 'accuracy'\n",
       "17. 'responses_pf_rev'\n",
       "18. 'chargeSpeed_norm_rev'\n",
       "19. 'social_skill'\n",
       "20. 'attn_switch'\n",
       "21. 'img'\n",
       "22. 'attn_to_det'\n",
       "23. 'comm'\n",
       "24. 'posAffect'\n",
       "25. 'negAffect'\n",
       "26. 'neuroticism'\n",
       "27. 'extraversion'\n",
       "28. 'openness'\n",
       "29. 'agreeableness'\n",
       "30. 'conscientiousness'\n",
       "31. 'loneliness'\n",
       "32. 'nfriends'\n",
       "\n",
       "\n"
      ],
      "text/plain": [
       " [1] \"X\"                    \"subID\"                \"block_type\"          \n",
       " [4] \"subtlety\"             \"chargeSpeeds\"         \"slider\"              \n",
       " [7] \"responses_subt_2\"     \"pred_color\"           \"responses_pf\"        \n",
       "[10] \"RT\"                   \"stim_file\"            \"trial_num\"           \n",
       "[13] \"stim_dur\"             \"subt_norm\"            \"chargeSpeed_norm\"    \n",
       "[16] \"accuracy\"             \"responses_pf_rev\"     \"chargeSpeed_norm_rev\"\n",
       "[19] \"social_skill\"         \"attn_switch\"          \"img\"                 \n",
       "[22] \"attn_to_det\"          \"comm\"                 \"posAffect\"           \n",
       "[25] \"negAffect\"            \"neuroticism\"          \"extraversion\"        \n",
       "[28] \"openness\"             \"agreeableness\"        \"conscientiousness\"   \n",
       "[31] \"loneliness\"           \"nfriends\"            "
      ]
     },
     "metadata": {}
    }
   ],
   "metadata": {}
  },
  {
   "cell_type": "code",
   "execution_count": 31,
   "source": [
    "formula <- as.formula(\"slider ~ subtlety + (1|subID) + (1|stim_file)\")\n",
    "m1 <- lmer(formula, data = data)\n",
    "summary(m1)"
   ],
   "outputs": [
    {
     "output_type": "display_data",
     "data": {
      "text/plain": [
       "Linear mixed model fit by REML. t-tests use Satterthwaite's method [\n",
       "lmerModLmerTest]\n",
       "Formula: formula\n",
       "   Data: data\n",
       "\n",
       "REML criterion at convergence: 101353.4\n",
       "\n",
       "Scaled residuals: \n",
       "    Min      1Q  Median      3Q     Max \n",
       "-4.6573 -0.5752  0.0340  0.5651  4.5868 \n",
       "\n",
       "Random effects:\n",
       " Groups    Name        Variance Std.Dev.\n",
       " subID     (Intercept)  51.21    7.156  \n",
       " stim_file (Intercept) 130.48   11.423  \n",
       " Residual              364.36   19.088  \n",
       "Number of obs: 11500, groups:  subID, 276; stim_file, 96\n",
       "\n",
       "Fixed effects:\n",
       "             Estimate Std. Error        df t value Pr(>|t|)    \n",
       "(Intercept)  99.31887    2.25881 100.58075   43.97   <2e-16 ***\n",
       "subtlety     -0.42908    0.01861  94.69576  -23.05   <2e-16 ***\n",
       "---\n",
       "Signif. codes:  0 ‘***’ 0.001 ‘**’ 0.01 ‘*’ 0.05 ‘.’ 0.1 ‘ ’ 1\n",
       "\n",
       "Correlation of Fixed Effects:\n",
       "         (Intr)\n",
       "subtlety -0.831"
      ]
     },
     "metadata": {}
    }
   ],
   "metadata": {}
  },
  {
   "cell_type": "code",
   "execution_count": 33,
   "source": [
    "formula <- as.formula(\"slider ~ social_skill + (1|subID) + (1|stim_file)\")\n",
    "m2 <- lmer(formula, data = data)\n",
    "summary(m2)"
   ],
   "outputs": [
    {
     "output_type": "display_data",
     "data": {
      "text/plain": [
       "Linear mixed model fit by REML. t-tests use Satterthwaite's method [\n",
       "lmerModLmerTest]\n",
       "Formula: formula\n",
       "   Data: data\n",
       "\n",
       "REML criterion at convergence: 101530.1\n",
       "\n",
       "Scaled residuals: \n",
       "    Min      1Q  Median      3Q     Max \n",
       "-4.6691 -0.5724  0.0346  0.5642  4.5868 \n",
       "\n",
       "Random effects:\n",
       " Groups    Name        Variance Std.Dev.\n",
       " subID     (Intercept)  51.28    7.161  \n",
       " stim_file (Intercept) 878.60   29.641  \n",
       " Residual              364.36   19.088  \n",
       "Number of obs: 11500, groups:  subID, 276; stim_file, 96\n",
       "\n",
       "Fixed effects:\n",
       "              Estimate Std. Error        df t value Pr(>|t|)    \n",
       "(Intercept)   56.81099    3.21908 120.08471  17.648   <2e-16 ***\n",
       "social_skill  -0.06768    0.07468 273.33979  -0.906    0.366    \n",
       "---\n",
       "Signif. codes:  0 ‘***’ 0.001 ‘**’ 0.01 ‘*’ 0.05 ‘.’ 0.1 ‘ ’ 1\n",
       "\n",
       "Correlation of Fixed Effects:\n",
       "            (Intr)\n",
       "social_skll -0.309"
      ]
     },
     "metadata": {}
    }
   ],
   "metadata": {}
  },
  {
   "cell_type": "code",
   "execution_count": 39,
   "source": [
    "formula <- as.formula(\"slider ~ subtlety + social_skill + (1|subID) + (1|stim_file)\")\n",
    "m3 <- lmer(formula, data = data)\n",
    "summary(m3)"
   ],
   "outputs": [
    {
     "output_type": "display_data",
     "data": {
      "text/plain": [
       "Linear mixed model fit by REML. t-tests use Satterthwaite's method [\n",
       "lmerModLmerTest]\n",
       "Formula: formula\n",
       "   Data: data\n",
       "\n",
       "REML criterion at convergence: 101356\n",
       "\n",
       "Scaled residuals: \n",
       "    Min      1Q  Median      3Q     Max \n",
       "-4.6599 -0.5750  0.0338  0.5657  4.5879 \n",
       "\n",
       "Random effects:\n",
       " Groups    Name        Variance Std.Dev.\n",
       " subID     (Intercept)  51.24    7.158  \n",
       " stim_file (Intercept) 130.47   11.422  \n",
       " Residual              364.36   19.088  \n",
       "Number of obs: 11500, groups:  subID, 276; stim_file, 96\n",
       "\n",
       "Fixed effects:\n",
       "              Estimate Std. Error        df t value Pr(>|t|)    \n",
       "(Intercept)  100.22573    2.46791 140.50309  40.612   <2e-16 ***\n",
       "subtlety      -0.42908    0.01861  94.69131 -23.055   <2e-16 ***\n",
       "social_skill  -0.06809    0.07466 273.34029  -0.912    0.363    \n",
       "---\n",
       "Signif. codes:  0 ‘***’ 0.001 ‘**’ 0.01 ‘*’ 0.05 ‘.’ 0.1 ‘ ’ 1\n",
       "\n",
       "Correlation of Fixed Effects:\n",
       "            (Intr) sbtlty\n",
       "subtlety    -0.760       \n",
       "social_skll -0.403  0.000"
      ]
     },
     "metadata": {}
    }
   ],
   "metadata": {}
  },
  {
   "cell_type": "code",
   "execution_count": 40,
   "source": [
    "anova(m1,m3) "
   ],
   "outputs": [
    {
     "output_type": "stream",
     "name": "stderr",
     "text": [
      "refitting model(s) with ML (instead of REML)\n",
      "\n"
     ]
    },
    {
     "output_type": "display_data",
     "data": {
      "text/html": [
       "<table class=\"dataframe\">\n",
       "<caption>A anova: 2 × 8</caption>\n",
       "<thead>\n",
       "\t<tr><th></th><th scope=col>npar</th><th scope=col>AIC</th><th scope=col>BIC</th><th scope=col>logLik</th><th scope=col>deviance</th><th scope=col>Chisq</th><th scope=col>Df</th><th scope=col>Pr(&gt;Chisq)</th></tr>\n",
       "\t<tr><th></th><th scope=col>&lt;dbl&gt;</th><th scope=col>&lt;dbl&gt;</th><th scope=col>&lt;dbl&gt;</th><th scope=col>&lt;dbl&gt;</th><th scope=col>&lt;dbl&gt;</th><th scope=col>&lt;dbl&gt;</th><th scope=col>&lt;dbl&gt;</th><th scope=col>&lt;dbl&gt;</th></tr>\n",
       "</thead>\n",
       "<tbody>\n",
       "\t<tr><th scope=row>m1</th><td>5</td><td>101359.6</td><td>101396.3</td><td>-50674.79</td><td>101349.6</td><td>       NA</td><td>NA</td><td>       NA</td></tr>\n",
       "\t<tr><th scope=row>m3</th><td>6</td><td>101360.7</td><td>101404.8</td><td>-50674.37</td><td>101348.7</td><td>0.8342956</td><td> 1</td><td>0.3610334</td></tr>\n",
       "</tbody>\n",
       "</table>\n"
      ],
      "text/latex": [
       "A anova: 2 × 8\n",
       "\\begin{tabular}{r|llllllll}\n",
       "  & npar & AIC & BIC & logLik & deviance & Chisq & Df & Pr(>Chisq)\\\\\n",
       "  & <dbl> & <dbl> & <dbl> & <dbl> & <dbl> & <dbl> & <dbl> & <dbl>\\\\\n",
       "\\hline\n",
       "\tm1 & 5 & 101359.6 & 101396.3 & -50674.79 & 101349.6 &        NA & NA &        NA\\\\\n",
       "\tm3 & 6 & 101360.7 & 101404.8 & -50674.37 & 101348.7 & 0.8342956 &  1 & 0.3610334\\\\\n",
       "\\end{tabular}\n"
      ],
      "text/markdown": [
       "\n",
       "A anova: 2 × 8\n",
       "\n",
       "| <!--/--> | npar &lt;dbl&gt; | AIC &lt;dbl&gt; | BIC &lt;dbl&gt; | logLik &lt;dbl&gt; | deviance &lt;dbl&gt; | Chisq &lt;dbl&gt; | Df &lt;dbl&gt; | Pr(&gt;Chisq) &lt;dbl&gt; |\n",
       "|---|---|---|---|---|---|---|---|---|\n",
       "| m1 | 5 | 101359.6 | 101396.3 | -50674.79 | 101349.6 |        NA | NA |        NA |\n",
       "| m3 | 6 | 101360.7 | 101404.8 | -50674.37 | 101348.7 | 0.8342956 |  1 | 0.3610334 |\n",
       "\n"
      ],
      "text/plain": [
       "   npar AIC      BIC      logLik    deviance Chisq     Df Pr(>Chisq)\n",
       "m1 5    101359.6 101396.3 -50674.79 101349.6        NA NA        NA \n",
       "m3 6    101360.7 101404.8 -50674.37 101348.7 0.8342956  1 0.3610334 "
      ]
     },
     "metadata": {}
    }
   ],
   "metadata": {}
  },
  {
   "cell_type": "code",
   "execution_count": 41,
   "source": [
    "aic_results <- AIC(m1,m3) \n",
    "aic_results"
   ],
   "outputs": [
    {
     "output_type": "display_data",
     "data": {
      "text/html": [
       "<table class=\"dataframe\">\n",
       "<caption>A data.frame: 2 × 2</caption>\n",
       "<thead>\n",
       "\t<tr><th></th><th scope=col>df</th><th scope=col>AIC</th></tr>\n",
       "\t<tr><th></th><th scope=col>&lt;dbl&gt;</th><th scope=col>&lt;dbl&gt;</th></tr>\n",
       "</thead>\n",
       "<tbody>\n",
       "\t<tr><th scope=row>m1</th><td>5</td><td>101363.4</td></tr>\n",
       "\t<tr><th scope=row>m3</th><td>6</td><td>101368.0</td></tr>\n",
       "</tbody>\n",
       "</table>\n"
      ],
      "text/latex": [
       "A data.frame: 2 × 2\n",
       "\\begin{tabular}{r|ll}\n",
       "  & df & AIC\\\\\n",
       "  & <dbl> & <dbl>\\\\\n",
       "\\hline\n",
       "\tm1 & 5 & 101363.4\\\\\n",
       "\tm3 & 6 & 101368.0\\\\\n",
       "\\end{tabular}\n"
      ],
      "text/markdown": [
       "\n",
       "A data.frame: 2 × 2\n",
       "\n",
       "| <!--/--> | df &lt;dbl&gt; | AIC &lt;dbl&gt; |\n",
       "|---|---|---|\n",
       "| m1 | 5 | 101363.4 |\n",
       "| m3 | 6 | 101368.0 |\n",
       "\n"
      ],
      "text/plain": [
       "   df AIC     \n",
       "m1 5  101363.4\n",
       "m3 6  101368.0"
      ]
     },
     "metadata": {}
    }
   ],
   "metadata": {}
  },
  {
   "cell_type": "code",
   "execution_count": 42,
   "source": [
    "anova(m2,m3) "
   ],
   "outputs": [
    {
     "output_type": "stream",
     "name": "stderr",
     "text": [
      "refitting model(s) with ML (instead of REML)\n",
      "\n"
     ]
    },
    {
     "output_type": "display_data",
     "data": {
      "text/html": [
       "<table class=\"dataframe\">\n",
       "<caption>A anova: 2 × 8</caption>\n",
       "<thead>\n",
       "\t<tr><th></th><th scope=col>npar</th><th scope=col>AIC</th><th scope=col>BIC</th><th scope=col>logLik</th><th scope=col>deviance</th><th scope=col>Chisq</th><th scope=col>Df</th><th scope=col>Pr(&gt;Chisq)</th></tr>\n",
       "\t<tr><th></th><th scope=col>&lt;dbl&gt;</th><th scope=col>&lt;dbl&gt;</th><th scope=col>&lt;dbl&gt;</th><th scope=col>&lt;dbl&gt;</th><th scope=col>&lt;dbl&gt;</th><th scope=col>&lt;dbl&gt;</th><th scope=col>&lt;dbl&gt;</th><th scope=col>&lt;dbl&gt;</th></tr>\n",
       "</thead>\n",
       "<tbody>\n",
       "\t<tr><th scope=row>m2</th><td>5</td><td>101540.8</td><td>101577.5</td><td>-50765.39</td><td>101530.8</td><td>      NA</td><td>NA</td><td>          NA</td></tr>\n",
       "\t<tr><th scope=row>m3</th><td>6</td><td>101360.7</td><td>101404.8</td><td>-50674.37</td><td>101348.7</td><td>182.0331</td><td> 1</td><td>1.743888e-41</td></tr>\n",
       "</tbody>\n",
       "</table>\n"
      ],
      "text/latex": [
       "A anova: 2 × 8\n",
       "\\begin{tabular}{r|llllllll}\n",
       "  & npar & AIC & BIC & logLik & deviance & Chisq & Df & Pr(>Chisq)\\\\\n",
       "  & <dbl> & <dbl> & <dbl> & <dbl> & <dbl> & <dbl> & <dbl> & <dbl>\\\\\n",
       "\\hline\n",
       "\tm2 & 5 & 101540.8 & 101577.5 & -50765.39 & 101530.8 &       NA & NA &           NA\\\\\n",
       "\tm3 & 6 & 101360.7 & 101404.8 & -50674.37 & 101348.7 & 182.0331 &  1 & 1.743888e-41\\\\\n",
       "\\end{tabular}\n"
      ],
      "text/markdown": [
       "\n",
       "A anova: 2 × 8\n",
       "\n",
       "| <!--/--> | npar &lt;dbl&gt; | AIC &lt;dbl&gt; | BIC &lt;dbl&gt; | logLik &lt;dbl&gt; | deviance &lt;dbl&gt; | Chisq &lt;dbl&gt; | Df &lt;dbl&gt; | Pr(&gt;Chisq) &lt;dbl&gt; |\n",
       "|---|---|---|---|---|---|---|---|---|\n",
       "| m2 | 5 | 101540.8 | 101577.5 | -50765.39 | 101530.8 |       NA | NA |           NA |\n",
       "| m3 | 6 | 101360.7 | 101404.8 | -50674.37 | 101348.7 | 182.0331 |  1 | 1.743888e-41 |\n",
       "\n"
      ],
      "text/plain": [
       "   npar AIC      BIC      logLik    deviance Chisq    Df Pr(>Chisq)  \n",
       "m2 5    101540.8 101577.5 -50765.39 101530.8       NA NA           NA\n",
       "m3 6    101360.7 101404.8 -50674.37 101348.7 182.0331  1 1.743888e-41"
      ]
     },
     "metadata": {}
    }
   ],
   "metadata": {}
  },
  {
   "cell_type": "code",
   "execution_count": 43,
   "source": [
    "aic_results <- AIC(m2,m3) \n",
    "aic_results"
   ],
   "outputs": [
    {
     "output_type": "display_data",
     "data": {
      "text/html": [
       "<table class=\"dataframe\">\n",
       "<caption>A data.frame: 2 × 2</caption>\n",
       "<thead>\n",
       "\t<tr><th></th><th scope=col>df</th><th scope=col>AIC</th></tr>\n",
       "\t<tr><th></th><th scope=col>&lt;dbl&gt;</th><th scope=col>&lt;dbl&gt;</th></tr>\n",
       "</thead>\n",
       "<tbody>\n",
       "\t<tr><th scope=row>m2</th><td>5</td><td>101540.1</td></tr>\n",
       "\t<tr><th scope=row>m3</th><td>6</td><td>101368.0</td></tr>\n",
       "</tbody>\n",
       "</table>\n"
      ],
      "text/latex": [
       "A data.frame: 2 × 2\n",
       "\\begin{tabular}{r|ll}\n",
       "  & df & AIC\\\\\n",
       "  & <dbl> & <dbl>\\\\\n",
       "\\hline\n",
       "\tm2 & 5 & 101540.1\\\\\n",
       "\tm3 & 6 & 101368.0\\\\\n",
       "\\end{tabular}\n"
      ],
      "text/markdown": [
       "\n",
       "A data.frame: 2 × 2\n",
       "\n",
       "| <!--/--> | df &lt;dbl&gt; | AIC &lt;dbl&gt; |\n",
       "|---|---|---|\n",
       "| m2 | 5 | 101540.1 |\n",
       "| m3 | 6 | 101368.0 |\n",
       "\n"
      ],
      "text/plain": [
       "   df AIC     \n",
       "m2 5  101540.1\n",
       "m3 6  101368.0"
      ]
     },
     "metadata": {}
    }
   ],
   "metadata": {}
  },
  {
   "cell_type": "code",
   "execution_count": null,
   "source": [],
   "outputs": [],
   "metadata": {}
  }
 ],
 "metadata": {
  "interpreter": {
   "hash": "fd4f9b4a611f13030669d34296d320a89181368ed7f3667f4142a08b4c2c4fbe"
  },
  "kernelspec": {
   "name": "python3124jvsc74a57bd04a074528bc854e8a1fdc819f4bc249979b3b196bce4de5afb134a947ed71fa2f",
   "display_name": "R",
   "language": "R"
  },
  "language_info": {
   "name": "R",
   "codemirror_mode": "r",
   "pygments_lexer": "r",
   "mimetype": "text/x-r-source",
   "file_extension": ".r",
   "version": "4.3.3"
  }
 },
 "nbformat": 4,
 "nbformat_minor": 4
}
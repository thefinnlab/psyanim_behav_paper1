{
 "cells": [
  {
   "cell_type": "code",
   "execution_count": 19,
   "source": [
    "print(\"Hello, R in Jupyter!\")"
   ],
   "outputs": [
    {
     "output_type": "stream",
     "name": "stdout",
     "text": [
      "[1] \"Hello, R in Jupyter!\"\n"
     ]
    }
   ],
   "metadata": {}
  },
  {
   "cell_type": "code",
   "execution_count": 20,
   "source": [
    "# Basic arithmetic\n",
    "result <- 2 + 2\n",
    "print(result)"
   ],
   "outputs": [
    {
     "output_type": "stream",
     "name": "stdout",
     "text": [
      "[1] 4\n"
     ]
    }
   ],
   "metadata": {}
  },
  {
   "cell_type": "code",
   "execution_count": 21,
   "source": [
    "ses <- 1"
   ],
   "outputs": [],
   "metadata": {}
  },
  {
   "cell_type": "code",
   "execution_count": 22,
   "source": [
    "root_dir = '../../data/subtlety_data/'#/Users/f0053cz/Documents/psyanim_v2/scripts_for_beh_paper/data/subtlety_playfight_data/'\n",
    "data <- read.csv(paste(root_dir,'median_apr_ses1_traits.csv', sep = \"/\"))\n",
    "# print(data)\n",
    "head(data, 5)"
   ],
   "outputs": [
    {
     "output_type": "display_data",
     "data": {
      "text/html": [
       "<table class=\"dataframe\">\n",
       "<caption>A data.frame: 5 × 23</caption>\n",
       "<thead>\n",
       "\t<tr><th></th><th scope=col>X</th><th scope=col>subID</th><th scope=col>subtlety</th><th scope=col>slider</th><th scope=col>RT</th><th scope=col>accuracy</th><th scope=col>trial_ind</th><th scope=col>rating180</th><th scope=col>diff_from_180</th><th scope=col>aq_social_skill</th><th scope=col>⋯</th><th scope=col>aq_comm</th><th scope=col>panas_pos</th><th scope=col>panas_neg</th><th scope=col>ffi_neuroticism</th><th scope=col>ffi_extraversion</th><th scope=col>ffi_openness</th><th scope=col>ffi_agreeableness</th><th scope=col>ffi_conscientiousness</th><th scope=col>ucla</th><th scope=col>friend_num</th></tr>\n",
       "\t<tr><th></th><th scope=col>&lt;int&gt;</th><th scope=col>&lt;int&gt;</th><th scope=col>&lt;int&gt;</th><th scope=col>&lt;dbl&gt;</th><th scope=col>&lt;dbl&gt;</th><th scope=col>&lt;dbl&gt;</th><th scope=col>&lt;dbl&gt;</th><th scope=col>&lt;dbl&gt;</th><th scope=col>&lt;dbl&gt;</th><th scope=col>&lt;dbl&gt;</th><th scope=col>⋯</th><th scope=col>&lt;dbl&gt;</th><th scope=col>&lt;dbl&gt;</th><th scope=col>&lt;dbl&gt;</th><th scope=col>&lt;dbl&gt;</th><th scope=col>&lt;dbl&gt;</th><th scope=col>&lt;dbl&gt;</th><th scope=col>&lt;dbl&gt;</th><th scope=col>&lt;dbl&gt;</th><th scope=col>&lt;dbl&gt;</th><th scope=col>&lt;dbl&gt;</th></tr>\n",
       "</thead>\n",
       "<tbody>\n",
       "\t<tr><th scope=row>1</th><td>0</td><td>1</td><td>  0</td><td>100</td><td>2.7470</td><td>1</td><td>29.0</td><td>16.5</td><td>83.5</td><td>8</td><td>⋯</td><td>12</td><td>16</td><td>9</td><td>43</td><td>38</td><td>29</td><td>42</td><td>46</td><td>58</td><td>1</td></tr>\n",
       "\t<tr><th scope=row>2</th><td>1</td><td>1</td><td> 30</td><td>100</td><td>2.6170</td><td>1</td><td>67.0</td><td>16.5</td><td>83.5</td><td>8</td><td>⋯</td><td>12</td><td>16</td><td>9</td><td>43</td><td>38</td><td>29</td><td>42</td><td>46</td><td>58</td><td>1</td></tr>\n",
       "\t<tr><th scope=row>3</th><td>2</td><td>1</td><td> 60</td><td>100</td><td>2.8925</td><td>1</td><td>36.0</td><td>16.5</td><td>83.5</td><td>8</td><td>⋯</td><td>12</td><td>16</td><td>9</td><td>43</td><td>38</td><td>29</td><td>42</td><td>46</td><td>58</td><td>1</td></tr>\n",
       "\t<tr><th scope=row>4</th><td>3</td><td>1</td><td> 90</td><td> 80</td><td>3.1385</td><td>1</td><td>42.0</td><td>16.5</td><td>63.5</td><td>8</td><td>⋯</td><td>12</td><td>16</td><td>9</td><td>43</td><td>38</td><td>29</td><td>42</td><td>46</td><td>58</td><td>1</td></tr>\n",
       "\t<tr><th scope=row>5</th><td>4</td><td>1</td><td>120</td><td> 45</td><td>4.0860</td><td>1</td><td>28.5</td><td>16.5</td><td>28.5</td><td>8</td><td>⋯</td><td>12</td><td>16</td><td>9</td><td>43</td><td>38</td><td>29</td><td>42</td><td>46</td><td>58</td><td>1</td></tr>\n",
       "</tbody>\n",
       "</table>\n"
      ],
      "text/latex": [
       "A data.frame: 5 × 23\n",
       "\\begin{tabular}{r|lllllllllllllllllllll}\n",
       "  & X & subID & subtlety & slider & RT & accuracy & trial\\_ind & rating180 & diff\\_from\\_180 & aq\\_social\\_skill & ⋯ & aq\\_comm & panas\\_pos & panas\\_neg & ffi\\_neuroticism & ffi\\_extraversion & ffi\\_openness & ffi\\_agreeableness & ffi\\_conscientiousness & ucla & friend\\_num\\\\\n",
       "  & <int> & <int> & <int> & <dbl> & <dbl> & <dbl> & <dbl> & <dbl> & <dbl> & <dbl> & ⋯ & <dbl> & <dbl> & <dbl> & <dbl> & <dbl> & <dbl> & <dbl> & <dbl> & <dbl> & <dbl>\\\\\n",
       "\\hline\n",
       "\t1 & 0 & 1 &   0 & 100 & 2.7470 & 1 & 29.0 & 16.5 & 83.5 & 8 & ⋯ & 12 & 16 & 9 & 43 & 38 & 29 & 42 & 46 & 58 & 1\\\\\n",
       "\t2 & 1 & 1 &  30 & 100 & 2.6170 & 1 & 67.0 & 16.5 & 83.5 & 8 & ⋯ & 12 & 16 & 9 & 43 & 38 & 29 & 42 & 46 & 58 & 1\\\\\n",
       "\t3 & 2 & 1 &  60 & 100 & 2.8925 & 1 & 36.0 & 16.5 & 83.5 & 8 & ⋯ & 12 & 16 & 9 & 43 & 38 & 29 & 42 & 46 & 58 & 1\\\\\n",
       "\t4 & 3 & 1 &  90 &  80 & 3.1385 & 1 & 42.0 & 16.5 & 63.5 & 8 & ⋯ & 12 & 16 & 9 & 43 & 38 & 29 & 42 & 46 & 58 & 1\\\\\n",
       "\t5 & 4 & 1 & 120 &  45 & 4.0860 & 1 & 28.5 & 16.5 & 28.5 & 8 & ⋯ & 12 & 16 & 9 & 43 & 38 & 29 & 42 & 46 & 58 & 1\\\\\n",
       "\\end{tabular}\n"
      ],
      "text/markdown": [
       "\n",
       "A data.frame: 5 × 23\n",
       "\n",
       "| <!--/--> | X &lt;int&gt; | subID &lt;int&gt; | subtlety &lt;int&gt; | slider &lt;dbl&gt; | RT &lt;dbl&gt; | accuracy &lt;dbl&gt; | trial_ind &lt;dbl&gt; | rating180 &lt;dbl&gt; | diff_from_180 &lt;dbl&gt; | aq_social_skill &lt;dbl&gt; | ⋯ ⋯ | aq_comm &lt;dbl&gt; | panas_pos &lt;dbl&gt; | panas_neg &lt;dbl&gt; | ffi_neuroticism &lt;dbl&gt; | ffi_extraversion &lt;dbl&gt; | ffi_openness &lt;dbl&gt; | ffi_agreeableness &lt;dbl&gt; | ffi_conscientiousness &lt;dbl&gt; | ucla &lt;dbl&gt; | friend_num &lt;dbl&gt; |\n",
       "|---|---|---|---|---|---|---|---|---|---|---|---|---|---|---|---|---|---|---|---|---|---|\n",
       "| 1 | 0 | 1 |   0 | 100 | 2.7470 | 1 | 29.0 | 16.5 | 83.5 | 8 | ⋯ | 12 | 16 | 9 | 43 | 38 | 29 | 42 | 46 | 58 | 1 |\n",
       "| 2 | 1 | 1 |  30 | 100 | 2.6170 | 1 | 67.0 | 16.5 | 83.5 | 8 | ⋯ | 12 | 16 | 9 | 43 | 38 | 29 | 42 | 46 | 58 | 1 |\n",
       "| 3 | 2 | 1 |  60 | 100 | 2.8925 | 1 | 36.0 | 16.5 | 83.5 | 8 | ⋯ | 12 | 16 | 9 | 43 | 38 | 29 | 42 | 46 | 58 | 1 |\n",
       "| 4 | 3 | 1 |  90 |  80 | 3.1385 | 1 | 42.0 | 16.5 | 63.5 | 8 | ⋯ | 12 | 16 | 9 | 43 | 38 | 29 | 42 | 46 | 58 | 1 |\n",
       "| 5 | 4 | 1 | 120 |  45 | 4.0860 | 1 | 28.5 | 16.5 | 28.5 | 8 | ⋯ | 12 | 16 | 9 | 43 | 38 | 29 | 42 | 46 | 58 | 1 |\n",
       "\n"
      ],
      "text/plain": [
       "  X subID subtlety slider RT     accuracy trial_ind rating180 diff_from_180\n",
       "1 0 1       0      100    2.7470 1        29.0      16.5      83.5         \n",
       "2 1 1      30      100    2.6170 1        67.0      16.5      83.5         \n",
       "3 2 1      60      100    2.8925 1        36.0      16.5      83.5         \n",
       "4 3 1      90       80    3.1385 1        42.0      16.5      63.5         \n",
       "5 4 1     120       45    4.0860 1        28.5      16.5      28.5         \n",
       "  aq_social_skill ⋯ aq_comm panas_pos panas_neg ffi_neuroticism\n",
       "1 8               ⋯ 12      16        9         43             \n",
       "2 8               ⋯ 12      16        9         43             \n",
       "3 8               ⋯ 12      16        9         43             \n",
       "4 8               ⋯ 12      16        9         43             \n",
       "5 8               ⋯ 12      16        9         43             \n",
       "  ffi_extraversion ffi_openness ffi_agreeableness ffi_conscientiousness ucla\n",
       "1 38               29           42                46                    58  \n",
       "2 38               29           42                46                    58  \n",
       "3 38               29           42                46                    58  \n",
       "4 38               29           42                46                    58  \n",
       "5 38               29           42                46                    58  \n",
       "  friend_num\n",
       "1 1         \n",
       "2 1         \n",
       "3 1         \n",
       "4 1         \n",
       "5 1         "
      ]
     },
     "metadata": {}
    }
   ],
   "metadata": {}
  },
  {
   "cell_type": "code",
   "execution_count": 23,
   "source": [
    "colnames(data)"
   ],
   "outputs": [
    {
     "output_type": "display_data",
     "data": {
      "text/html": [
       "<style>\n",
       ".list-inline {list-style: none; margin:0; padding: 0}\n",
       ".list-inline>li {display: inline-block}\n",
       ".list-inline>li:not(:last-child)::after {content: \"\\00b7\"; padding: 0 .5ex}\n",
       "</style>\n",
       "<ol class=list-inline><li>'X'</li><li>'subID'</li><li>'subtlety'</li><li>'slider'</li><li>'RT'</li><li>'accuracy'</li><li>'trial_ind'</li><li>'rating180'</li><li>'diff_from_180'</li><li>'aq_social_skill'</li><li>'aq_attn_switch'</li><li>'aq_img'</li><li>'aq_attn_to_det'</li><li>'aq_comm'</li><li>'panas_pos'</li><li>'panas_neg'</li><li>'ffi_neuroticism'</li><li>'ffi_extraversion'</li><li>'ffi_openness'</li><li>'ffi_agreeableness'</li><li>'ffi_conscientiousness'</li><li>'ucla'</li><li>'friend_num'</li></ol>\n"
      ],
      "text/latex": [
       "\\begin{enumerate*}\n",
       "\\item 'X'\n",
       "\\item 'subID'\n",
       "\\item 'subtlety'\n",
       "\\item 'slider'\n",
       "\\item 'RT'\n",
       "\\item 'accuracy'\n",
       "\\item 'trial\\_ind'\n",
       "\\item 'rating180'\n",
       "\\item 'diff\\_from\\_180'\n",
       "\\item 'aq\\_social\\_skill'\n",
       "\\item 'aq\\_attn\\_switch'\n",
       "\\item 'aq\\_img'\n",
       "\\item 'aq\\_attn\\_to\\_det'\n",
       "\\item 'aq\\_comm'\n",
       "\\item 'panas\\_pos'\n",
       "\\item 'panas\\_neg'\n",
       "\\item 'ffi\\_neuroticism'\n",
       "\\item 'ffi\\_extraversion'\n",
       "\\item 'ffi\\_openness'\n",
       "\\item 'ffi\\_agreeableness'\n",
       "\\item 'ffi\\_conscientiousness'\n",
       "\\item 'ucla'\n",
       "\\item 'friend\\_num'\n",
       "\\end{enumerate*}\n"
      ],
      "text/markdown": [
       "1. 'X'\n",
       "2. 'subID'\n",
       "3. 'subtlety'\n",
       "4. 'slider'\n",
       "5. 'RT'\n",
       "6. 'accuracy'\n",
       "7. 'trial_ind'\n",
       "8. 'rating180'\n",
       "9. 'diff_from_180'\n",
       "10. 'aq_social_skill'\n",
       "11. 'aq_attn_switch'\n",
       "12. 'aq_img'\n",
       "13. 'aq_attn_to_det'\n",
       "14. 'aq_comm'\n",
       "15. 'panas_pos'\n",
       "16. 'panas_neg'\n",
       "17. 'ffi_neuroticism'\n",
       "18. 'ffi_extraversion'\n",
       "19. 'ffi_openness'\n",
       "20. 'ffi_agreeableness'\n",
       "21. 'ffi_conscientiousness'\n",
       "22. 'ucla'\n",
       "23. 'friend_num'\n",
       "\n",
       "\n"
      ],
      "text/plain": [
       " [1] \"X\"                     \"subID\"                 \"subtlety\"             \n",
       " [4] \"slider\"                \"RT\"                    \"accuracy\"             \n",
       " [7] \"trial_ind\"             \"rating180\"             \"diff_from_180\"        \n",
       "[10] \"aq_social_skill\"       \"aq_attn_switch\"        \"aq_img\"               \n",
       "[13] \"aq_attn_to_det\"        \"aq_comm\"               \"panas_pos\"            \n",
       "[16] \"panas_neg\"             \"ffi_neuroticism\"       \"ffi_extraversion\"     \n",
       "[19] \"ffi_openness\"          \"ffi_agreeableness\"     \"ffi_conscientiousness\"\n",
       "[22] \"ucla\"                  \"friend_num\"           "
      ]
     },
     "metadata": {}
    }
   ],
   "metadata": {}
  },
  {
   "cell_type": "code",
   "execution_count": 24,
   "source": [
    "# Print the dimensions of the data frame\n",
    "print(dim(data))\n",
    "\n",
    "# Drop rows with NA values\n",
    "data <- na.omit(data)\n",
    "\n",
    "# Print the dimensions of the data frame after dropping NA values\n",
    "print(dim(data))"
   ],
   "outputs": [
    {
     "output_type": "stream",
     "name": "stdout",
     "text": [
      "[1] 2184   23\n",
      "[1] 2184   23\n"
     ]
    }
   ],
   "metadata": {}
  },
  {
   "cell_type": "markdown",
   "source": [
    "# mult reg (relevant traits and curve fits)"
   ],
   "metadata": {}
  },
  {
   "cell_type": "code",
   "execution_count": 25,
   "source": [
    "# install.packages(\"dplyr\")\n",
    "library(dplyr)\n",
    "# # Rename specific columns\n",
    "# data <- data %>% rename(\n",
    "#   pos_affect = Positive_reweigh,\n",
    "#   PSE_subt = obj_center_subt,\n",
    "#   range_subt = amplitude_subt,\n",
    "#   bias_subt = bias_xmin_norm_subt,\n",
    "#   PSE_pf = obj_center_pf,\n",
    "#   range_pf = amplitude_pf,\n",
    "#   bias_pf = bias_xmin_norm_pf,\n",
    "#   PSE_diff = obj_center_diff,\n",
    "#   range_diff = amplitude_diff,\n",
    "#   bias_diff = bias_xmin_norm_diff\n",
    "# )"
   ],
   "outputs": [],
   "metadata": {}
  },
  {
   "cell_type": "code",
   "execution_count": 26,
   "source": [
    "trait <- 'aq_social_skill'"
   ],
   "outputs": [],
   "metadata": {}
  },
  {
   "cell_type": "code",
   "execution_count": 27,
   "source": [
    "data1 <- data[data$subtlety == 0 , ]\n",
    "formula <- as.formula(paste(\"slider ~ \", trait))\n",
    "m1 <- lm(formula, data = data1)\n",
    "summary(m1)"
   ],
   "outputs": [
    {
     "output_type": "display_data",
     "data": {
      "text/plain": [
       "\n",
       "Call:\n",
       "lm(formula = formula, data = data1)\n",
       "\n",
       "Residuals:\n",
       "    Min      1Q  Median      3Q     Max \n",
       "-27.809  -3.803   3.154   6.141   6.589 \n",
       "\n",
       "Coefficients:\n",
       "                Estimate Std. Error t value Pr(>|t|)    \n",
       "(Intercept)     93.38584    1.07706  86.704   <2e-16 ***\n",
       "aq_social_skill  0.02489    0.07038   0.354    0.724    \n",
       "---\n",
       "Signif. codes:  0 ‘***’ 0.001 ‘**’ 0.01 ‘*’ 0.05 ‘.’ 0.1 ‘ ’ 1\n",
       "\n",
       "Residual standard error: 7.716 on 310 degrees of freedom\n",
       "Multiple R-squared:  0.0004032,\tAdjusted R-squared:  -0.002821 \n",
       "F-statistic: 0.125 on 1 and 310 DF,  p-value: 0.7239\n"
      ]
     },
     "metadata": {}
    }
   ],
   "metadata": {}
  },
  {
   "cell_type": "code",
   "execution_count": 28,
   "source": [
    "data1 <- data[data$subtlety == 30 , ]\n",
    "formula <- as.formula(paste(\"slider ~ \", trait))\n",
    "m1 <- lm(formula, data = data1)\n",
    "summary(m1)"
   ],
   "outputs": [
    {
     "output_type": "display_data",
     "data": {
      "text/plain": [
       "\n",
       "Call:\n",
       "lm(formula = formula, data = data1)\n",
       "\n",
       "Residuals:\n",
       "    Min      1Q  Median      3Q     Max \n",
       "-29.473  -5.128   2.148   7.460   7.715 \n",
       "\n",
       "Coefficients:\n",
       "                Estimate Std. Error t value Pr(>|t|)    \n",
       "(Intercept)     92.24450    1.14175   80.79   <2e-16 ***\n",
       "aq_social_skill  0.01345    0.07461    0.18    0.857    \n",
       "---\n",
       "Signif. codes:  0 ‘***’ 0.001 ‘**’ 0.01 ‘*’ 0.05 ‘.’ 0.1 ‘ ’ 1\n",
       "\n",
       "Residual standard error: 8.179 on 310 degrees of freedom\n",
       "Multiple R-squared:  0.0001049,\tAdjusted R-squared:  -0.003121 \n",
       "F-statistic: 0.03252 on 1 and 310 DF,  p-value: 0.857\n"
      ]
     },
     "metadata": {}
    }
   ],
   "metadata": {}
  },
  {
   "cell_type": "code",
   "execution_count": 29,
   "source": [
    "data1 <- data[data$subtlety == 60 , ]\n",
    "formula <- as.formula(paste(\"slider ~ \", trait))\n",
    "m1 <- lm(formula, data = data1)\n",
    "summary(m1)"
   ],
   "outputs": [
    {
     "output_type": "display_data",
     "data": {
      "text/plain": [
       "\n",
       "Call:\n",
       "lm(formula = formula, data = data1)\n",
       "\n",
       "Residuals:\n",
       "    Min      1Q  Median      3Q     Max \n",
       "-33.967  -7.196   1.239  10.000  11.642 \n",
       "\n",
       "Coefficients:\n",
       "                Estimate Std. Error t value Pr(>|t|)    \n",
       "(Intercept)     88.96859    1.42432  62.464   <2e-16 ***\n",
       "aq_social_skill -0.02181    0.09307  -0.234    0.815    \n",
       "---\n",
       "Signif. codes:  0 ‘***’ 0.001 ‘**’ 0.01 ‘*’ 0.05 ‘.’ 0.1 ‘ ’ 1\n",
       "\n",
       "Residual standard error: 10.2 on 310 degrees of freedom\n",
       "Multiple R-squared:  0.0001772,\tAdjusted R-squared:  -0.003048 \n",
       "F-statistic: 0.05493 on 1 and 310 DF,  p-value: 0.8149\n"
      ]
     },
     "metadata": {}
    }
   ],
   "metadata": {}
  },
  {
   "cell_type": "code",
   "execution_count": 30,
   "source": [
    "data1 <- data[data$subtlety == 90 , ]\n",
    "formula <- as.formula(paste(\"slider ~ \", trait))\n",
    "m1 <- lm(formula, data = data1)\n",
    "summary(m1)"
   ],
   "outputs": [
    {
     "output_type": "display_data",
     "data": {
      "text/plain": [
       "\n",
       "Call:\n",
       "lm(formula = formula, data = data1)\n",
       "\n",
       "Residuals:\n",
       "    Min      1Q  Median      3Q     Max \n",
       "-80.194  -9.643   0.499  10.475  23.723 \n",
       "\n",
       "Coefficients:\n",
       "                Estimate Std. Error t value Pr(>|t|)    \n",
       "(Intercept)      80.6643     2.0488   39.37   <2e-16 ***\n",
       "aq_social_skill  -0.1567     0.1339   -1.17    0.243    \n",
       "---\n",
       "Signif. codes:  0 ‘***’ 0.001 ‘**’ 0.01 ‘*’ 0.05 ‘.’ 0.1 ‘ ’ 1\n",
       "\n",
       "Residual standard error: 14.68 on 310 degrees of freedom\n",
       "Multiple R-squared:  0.004398,\tAdjusted R-squared:  0.001187 \n",
       "F-statistic: 1.369 on 1 and 310 DF,  p-value: 0.2428\n"
      ]
     },
     "metadata": {}
    }
   ],
   "metadata": {}
  },
  {
   "cell_type": "code",
   "execution_count": 31,
   "source": [
    "data1 <- data[data$subtlety == 120 , ]\n",
    "formula <- as.formula(paste(\"slider ~ \", trait))\n",
    "m1 <- lm(formula, data = data1)\n",
    "summary(m1)"
   ],
   "outputs": [
    {
     "output_type": "display_data",
     "data": {
      "text/plain": [
       "\n",
       "Call:\n",
       "lm(formula = formula, data = data1)\n",
       "\n",
       "Residuals:\n",
       "    Min      1Q  Median      3Q     Max \n",
       "-42.190 -13.990   1.581  15.004  58.040 \n",
       "\n",
       "Coefficients:\n",
       "                Estimate Std. Error t value Pr(>|t|)    \n",
       "(Intercept)     42.23340    3.21278  13.145   <2e-16 ***\n",
       "aq_social_skill -0.01439    0.20995  -0.069    0.945    \n",
       "---\n",
       "Signif. codes:  0 ‘***’ 0.001 ‘**’ 0.01 ‘*’ 0.05 ‘.’ 0.1 ‘ ’ 1\n",
       "\n",
       "Residual standard error: 23.02 on 310 degrees of freedom\n",
       "Multiple R-squared:  1.516e-05,\tAdjusted R-squared:  -0.003211 \n",
       "F-statistic: 0.004701 on 1 and 310 DF,  p-value: 0.9454\n"
      ]
     },
     "metadata": {}
    }
   ],
   "metadata": {}
  },
  {
   "cell_type": "code",
   "execution_count": 32,
   "source": [
    "data1 <- data[data$subtlety == 150 , ]\n",
    "formula <- as.formula(paste(\"slider ~ \", trait))\n",
    "m1 <- lm(formula, data = data1)\n",
    "summary(m1)"
   ],
   "outputs": [
    {
     "output_type": "display_data",
     "data": {
      "text/plain": [
       "\n",
       "Call:\n",
       "lm(formula = formula, data = data1)\n",
       "\n",
       "Residuals:\n",
       "    Min      1Q  Median      3Q     Max \n",
       "-24.474 -15.241  -3.008  12.875  75.695 \n",
       "\n",
       "Coefficients:\n",
       "                Estimate Std. Error t value Pr(>|t|)    \n",
       "(Intercept)     24.72632    2.61905   9.441   <2e-16 ***\n",
       "aq_social_skill -0.08423    0.17115  -0.492    0.623    \n",
       "---\n",
       "Signif. codes:  0 ‘***’ 0.001 ‘**’ 0.01 ‘*’ 0.05 ‘.’ 0.1 ‘ ’ 1\n",
       "\n",
       "Residual standard error: 18.76 on 310 degrees of freedom\n",
       "Multiple R-squared:  0.0007808,\tAdjusted R-squared:  -0.002443 \n",
       "F-statistic: 0.2422 on 1 and 310 DF,  p-value: 0.6229\n"
      ]
     },
     "metadata": {}
    }
   ],
   "metadata": {}
  },
  {
   "cell_type": "code",
   "execution_count": 33,
   "source": [
    "data1 <- data[data$subtlety == 180 , ]\n",
    "formula <- as.formula(paste(\"slider ~ \", trait))\n",
    "m1 <- lm(formula, data = data1)\n",
    "summary(m1)"
   ],
   "outputs": [
    {
     "output_type": "display_data",
     "data": {
      "text/plain": [
       "\n",
       "Call:\n",
       "lm(formula = formula, data = data1)\n",
       "\n",
       "Residuals:\n",
       "    Min      1Q  Median      3Q     Max \n",
       "-20.520 -14.039  -2.172   9.542  48.439 \n",
       "\n",
       "Coefficients:\n",
       "                Estimate Std. Error t value Pr(>|t|)    \n",
       "(Intercept)      21.2622     2.1348   9.960   <2e-16 ***\n",
       "aq_social_skill  -0.2474     0.1395  -1.774   0.0771 .  \n",
       "---\n",
       "Signif. codes:  0 ‘***’ 0.001 ‘**’ 0.01 ‘*’ 0.05 ‘.’ 0.1 ‘ ’ 1\n",
       "\n",
       "Residual standard error: 15.29 on 310 degrees of freedom\n",
       "Multiple R-squared:  0.01005,\tAdjusted R-squared:  0.006852 \n",
       "F-statistic: 3.146 on 1 and 310 DF,  p-value: 0.07711\n"
      ]
     },
     "metadata": {}
    }
   ],
   "metadata": {}
  },
  {
   "cell_type": "code",
   "execution_count": 36,
   "source": [
    "data1 <- data[data$subtlety == 0 , ]\n",
    "formula <- as.formula(paste(\"diff_from_180 ~ subtlety + \", trait))\n",
    "m1 <- lm(formula, data = data1)\n",
    "summary(m1)"
   ],
   "outputs": [
    {
     "output_type": "display_data",
     "data": {
      "text/plain": [
       "\n",
       "Call:\n",
       "lm(formula = formula, data = data1)\n",
       "\n",
       "Residuals:\n",
       "   Min     1Q Median     3Q    Max \n",
       "-68.30 -14.46   3.45  17.90  27.06 \n",
       "\n",
       "Coefficients: (1 not defined because of singularities)\n",
       "                Estimate Std. Error t value Pr(>|t|)    \n",
       "(Intercept)      72.1236     2.8236  25.543   <2e-16 ***\n",
       "subtlety              NA         NA      NA       NA    \n",
       "aq_social_skill   0.2723     0.1845   1.476    0.141    \n",
       "---\n",
       "Signif. codes:  0 ‘***’ 0.001 ‘**’ 0.01 ‘*’ 0.05 ‘.’ 0.1 ‘ ’ 1\n",
       "\n",
       "Residual standard error: 20.23 on 310 degrees of freedom\n",
       "Multiple R-squared:  0.006977,\tAdjusted R-squared:  0.003774 \n",
       "F-statistic: 2.178 on 1 and 310 DF,  p-value: 0.141\n"
      ]
     },
     "metadata": {}
    }
   ],
   "metadata": {}
  },
  {
   "cell_type": "code",
   "execution_count": null,
   "source": [],
   "outputs": [],
   "metadata": {}
  }
 ],
 "metadata": {
  "interpreter": {
   "hash": "fd4f9b4a611f13030669d34296d320a89181368ed7f3667f4142a08b4c2c4fbe"
  },
  "kernelspec": {
   "name": "python3124jvsc74a57bd04a074528bc854e8a1fdc819f4bc249979b3b196bce4de5afb134a947ed71fa2f",
   "display_name": "R",
   "language": "R"
  },
  "language_info": {
   "name": "R",
   "codemirror_mode": "r",
   "pygments_lexer": "r",
   "mimetype": "text/x-r-source",
   "file_extension": ".r",
   "version": "4.3.3"
  }
 },
 "nbformat": 4,
 "nbformat_minor": 4
}
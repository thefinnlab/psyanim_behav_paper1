{
 "cells": [
  {
   "cell_type": "code",
   "execution_count": 1,
   "source": [
    "pwd"
   ],
   "outputs": [
    {
     "output_type": "execute_result",
     "data": {
      "text/plain": [
       "'/Users/f0053cz/Dartmouth College Dropbox/Rekha Sreekumar Varrier/postdoc_Dartmouth/psyanim_behav_paper/version2/scripts_data_for_beh_paper/code/6_trait_beh_mixed_batch'"
      ]
     },
     "metadata": {},
     "execution_count": 1
    }
   ],
   "metadata": {}
  },
  {
   "cell_type": "code",
   "execution_count": 74,
   "source": [
    "from sklearn.decomposition import PCA\n",
    "from sklearn.linear_model import LinearRegression\n",
    "from sklearn.pipeline import make_pipeline\n",
    "from sklearn.preprocessing import StandardScaler\n",
    "\n",
    "path_to_add = os.path.abspath('../')\n",
    "print('path_to_add:',path_to_add)\n",
    "sys.path.append(path_to_add)\n",
    "from func_curvefit import r_squared\n",
    "from general_utility_functions import *\n",
    "import pandas as pd\n",
    "import numpy as np\n",
    "import matplotlib.pyplot as plt\n",
    "import seaborn as sns\n",
    "from scipy.stats import pearsonr, spearmanr"
   ],
   "outputs": [
    {
     "output_type": "stream",
     "name": "stdout",
     "text": [
      "path_to_add: /Users/f0053cz/Dartmouth College Dropbox/Rekha Sreekumar Varrier/postdoc_Dartmouth/psyanim_behav_paper/version2/scripts_data_for_beh_paper/code\n"
     ]
    }
   ],
   "metadata": {}
  },
  {
   "cell_type": "code",
   "execution_count": 75,
   "source": [
    "s=12 # CHANGE FONTSIZE HERE\n",
    "plt.rc('font', size=s) #controls default text size\n",
    "plt.rc('axes', titlesize=s) #fontsize of the title\n",
    "plt.rc('axes', labelsize=s) #fontsize of the x and y labels\n",
    "plt.rc('xtick', labelsize=s) #fontsize of the x tick labels\n",
    "plt.rc('ytick', labelsize=s) #fontsize of the y tick labels\n",
    "plt.rc('legend', fontsize=s) #fontsize of the legend"
   ],
   "outputs": [],
   "metadata": {}
  },
  {
   "cell_type": "code",
   "execution_count": 76,
   "source": [
    "root_dir = '../../data/subtlety_playfight_data/' #'/Users/f0053cz/Documents/psyanim_v2/subtlety_playfight/8_subsfrom3and7/'"
   ],
   "outputs": [],
   "metadata": {}
  },
  {
   "cell_type": "code",
   "execution_count": 77,
   "source": [
    "df = pd.read_csv(f'{root_dir}/curvefit_traits_merged_linearpf.csv',index_col=[0])\n",
    "print(df.shape)\n",
    "df.head()"
   ],
   "outputs": [
    {
     "output_type": "stream",
     "name": "stdout",
     "text": [
      "(276, 42)\n"
     ]
    },
    {
     "output_type": "execute_result",
     "data": {
      "text/html": [
       "<div>\n",
       "<style scoped>\n",
       "    .dataframe tbody tr th:only-of-type {\n",
       "        vertical-align: middle;\n",
       "    }\n",
       "\n",
       "    .dataframe tbody tr th {\n",
       "        vertical-align: top;\n",
       "    }\n",
       "\n",
       "    .dataframe thead th {\n",
       "        text-align: right;\n",
       "    }\n",
       "</style>\n",
       "<table border=\"1\" class=\"dataframe\">\n",
       "  <thead>\n",
       "    <tr style=\"text-align: right;\">\n",
       "      <th></th>\n",
       "      <th>index</th>\n",
       "      <th>subID</th>\n",
       "      <th>r_squared_subt</th>\n",
       "      <th>nrmse_subt</th>\n",
       "      <th>aic_subt</th>\n",
       "      <th>center</th>\n",
       "      <th>PSE_subt</th>\n",
       "      <th>sigma_subt</th>\n",
       "      <th>bias_xmin_subt</th>\n",
       "      <th>bias_xmax_subt</th>\n",
       "      <th>...</th>\n",
       "      <th>comm</th>\n",
       "      <th>posAffect</th>\n",
       "      <th>negAffect</th>\n",
       "      <th>neuroticism</th>\n",
       "      <th>extraversion</th>\n",
       "      <th>openness</th>\n",
       "      <th>agreeableness</th>\n",
       "      <th>conscientiousness</th>\n",
       "      <th>loneliness</th>\n",
       "      <th>nfriends</th>\n",
       "    </tr>\n",
       "  </thead>\n",
       "  <tbody>\n",
       "    <tr>\n",
       "      <th>0</th>\n",
       "      <td>0</td>\n",
       "      <td>30002.0</td>\n",
       "      <td>0.978946</td>\n",
       "      <td>0.059585</td>\n",
       "      <td>-35.485036</td>\n",
       "      <td>0.546183</td>\n",
       "      <td>0.552951</td>\n",
       "      <td>0.103360</td>\n",
       "      <td>0.031291</td>\n",
       "      <td>0.067887</td>\n",
       "      <td>...</td>\n",
       "      <td>16.000000</td>\n",
       "      <td>20.0</td>\n",
       "      <td>0.0</td>\n",
       "      <td>38.0</td>\n",
       "      <td>28.000000</td>\n",
       "      <td>31.000000</td>\n",
       "      <td>34.0</td>\n",
       "      <td>39.0</td>\n",
       "      <td>56.0</td>\n",
       "      <td>3.0</td>\n",
       "    </tr>\n",
       "    <tr>\n",
       "      <th>1</th>\n",
       "      <td>1</td>\n",
       "      <td>30004.0</td>\n",
       "      <td>0.994784</td>\n",
       "      <td>0.031310</td>\n",
       "      <td>-44.493407</td>\n",
       "      <td>0.311200</td>\n",
       "      <td>0.276896</td>\n",
       "      <td>0.076866</td>\n",
       "      <td>0.194061</td>\n",
       "      <td>0.000105</td>\n",
       "      <td>...</td>\n",
       "      <td>15.000000</td>\n",
       "      <td>25.0</td>\n",
       "      <td>11.0</td>\n",
       "      <td>38.0</td>\n",
       "      <td>26.181818</td>\n",
       "      <td>50.000000</td>\n",
       "      <td>50.0</td>\n",
       "      <td>46.0</td>\n",
       "      <td>56.0</td>\n",
       "      <td>3.0</td>\n",
       "    </tr>\n",
       "    <tr>\n",
       "      <th>2</th>\n",
       "      <td>2</td>\n",
       "      <td>30005.0</td>\n",
       "      <td>0.985636</td>\n",
       "      <td>0.048320</td>\n",
       "      <td>-38.418617</td>\n",
       "      <td>0.380063</td>\n",
       "      <td>0.320583</td>\n",
       "      <td>0.115353</td>\n",
       "      <td>0.249789</td>\n",
       "      <td>0.040080</td>\n",
       "      <td>...</td>\n",
       "      <td>16.000000</td>\n",
       "      <td>20.0</td>\n",
       "      <td>21.0</td>\n",
       "      <td>51.0</td>\n",
       "      <td>39.000000</td>\n",
       "      <td>40.000000</td>\n",
       "      <td>43.0</td>\n",
       "      <td>19.0</td>\n",
       "      <td>41.0</td>\n",
       "      <td>5.0</td>\n",
       "    </tr>\n",
       "    <tr>\n",
       "      <th>3</th>\n",
       "      <td>3</td>\n",
       "      <td>30006.0</td>\n",
       "      <td>0.983710</td>\n",
       "      <td>0.057399</td>\n",
       "      <td>-36.008190</td>\n",
       "      <td>0.465887</td>\n",
       "      <td>0.464823</td>\n",
       "      <td>0.079221</td>\n",
       "      <td>0.009433</td>\n",
       "      <td>0.001171</td>\n",
       "      <td>...</td>\n",
       "      <td>3.000000</td>\n",
       "      <td>25.0</td>\n",
       "      <td>0.0</td>\n",
       "      <td>18.0</td>\n",
       "      <td>41.000000</td>\n",
       "      <td>31.000000</td>\n",
       "      <td>44.0</td>\n",
       "      <td>57.0</td>\n",
       "      <td>30.0</td>\n",
       "      <td>4.0</td>\n",
       "    </tr>\n",
       "    <tr>\n",
       "      <th>4</th>\n",
       "      <td>4</td>\n",
       "      <td>30008.0</td>\n",
       "      <td>0.900792</td>\n",
       "      <td>0.110236</td>\n",
       "      <td>-26.871886</td>\n",
       "      <td>0.385415</td>\n",
       "      <td>0.325118</td>\n",
       "      <td>0.172585</td>\n",
       "      <td>0.289378</td>\n",
       "      <td>0.128370</td>\n",
       "      <td>...</td>\n",
       "      <td>12.222222</td>\n",
       "      <td>28.0</td>\n",
       "      <td>4.0</td>\n",
       "      <td>27.0</td>\n",
       "      <td>46.000000</td>\n",
       "      <td>42.545455</td>\n",
       "      <td>46.0</td>\n",
       "      <td>50.0</td>\n",
       "      <td>45.0</td>\n",
       "      <td>5.0</td>\n",
       "    </tr>\n",
       "  </tbody>\n",
       "</table>\n",
       "<p>5 rows × 42 columns</p>\n",
       "</div>"
      ],
      "text/plain": [
       "   index    subID  r_squared_subt  nrmse_subt   aic_subt    center  PSE_subt  \\\n",
       "0      0  30002.0        0.978946    0.059585 -35.485036  0.546183  0.552951   \n",
       "1      1  30004.0        0.994784    0.031310 -44.493407  0.311200  0.276896   \n",
       "2      2  30005.0        0.985636    0.048320 -38.418617  0.380063  0.320583   \n",
       "3      3  30006.0        0.983710    0.057399 -36.008190  0.465887  0.464823   \n",
       "4      4  30008.0        0.900792    0.110236 -26.871886  0.385415  0.325118   \n",
       "\n",
       "   sigma_subt  bias_xmin_subt  bias_xmax_subt  ...       comm  posAffect  \\\n",
       "0    0.103360        0.031291        0.067887  ...  16.000000       20.0   \n",
       "1    0.076866        0.194061        0.000105  ...  15.000000       25.0   \n",
       "2    0.115353        0.249789        0.040080  ...  16.000000       20.0   \n",
       "3    0.079221        0.009433        0.001171  ...   3.000000       25.0   \n",
       "4    0.172585        0.289378        0.128370  ...  12.222222       28.0   \n",
       "\n",
       "   negAffect  neuroticism  extraversion   openness  agreeableness  \\\n",
       "0        0.0         38.0     28.000000  31.000000           34.0   \n",
       "1       11.0         38.0     26.181818  50.000000           50.0   \n",
       "2       21.0         51.0     39.000000  40.000000           43.0   \n",
       "3        0.0         18.0     41.000000  31.000000           44.0   \n",
       "4        4.0         27.0     46.000000  42.545455           46.0   \n",
       "\n",
       "   conscientiousness  loneliness  nfriends  \n",
       "0               39.0        56.0       3.0  \n",
       "1               46.0        56.0       3.0  \n",
       "2               19.0        41.0       5.0  \n",
       "3               57.0        30.0       4.0  \n",
       "4               50.0        45.0       5.0  \n",
       "\n",
       "[5 rows x 42 columns]"
      ]
     },
     "metadata": {},
     "execution_count": 77
    }
   ],
   "metadata": {}
  },
  {
   "cell_type": "code",
   "execution_count": 78,
   "source": [
    "print(df.shape)\n",
    "df.dropna(inplace=True)\n",
    "print(df.shape)"
   ],
   "outputs": [
    {
     "output_type": "stream",
     "name": "stdout",
     "text": [
      "(276, 42)\n",
      "(275, 42)\n"
     ]
    }
   ],
   "metadata": {}
  },
  {
   "cell_type": "code",
   "execution_count": 79,
   "source": [
    "cols_pref = ['r_squared','sigma','center','obj_center','bias_xmin','bias_xmax','bias_diff','bias_ratio','bias_xmin_norm','mean_bias','amplitude']"
   ],
   "outputs": [],
   "metadata": {}
  },
  {
   "cell_type": "code",
   "execution_count": 80,
   "source": [
    "df.columns"
   ],
   "outputs": [
    {
     "output_type": "execute_result",
     "data": {
      "text/plain": [
       "Index(['index', 'subID', 'r_squared_subt', 'nrmse_subt', 'aic_subt', 'center',\n",
       "       'PSE_subt', 'sigma_subt', 'bias_xmin_subt', 'bias_xmax_subt',\n",
       "       'bias_lower_subt', 'bias_upper_subt', 'flipped_subt', 'range_subt',\n",
       "       'bias_subt', 'r_squared_pf', 'nrmse_pf', 'aic_pf', 'PSE_pf', 'slope_pf',\n",
       "       'intercept', 'bias_xmin_pf', 'bias_xmax_pf', 'bias_lower_pf',\n",
       "       'bias_upper_pf', 'flipped_pf', 'range_pf', 'bias_pf', 'social_skill',\n",
       "       'attn_switch', 'img', 'attn_to_det', 'comm', 'posAffect', 'negAffect',\n",
       "       'neuroticism', 'extraversion', 'openness', 'agreeableness',\n",
       "       'conscientiousness', 'loneliness', 'nfriends'],\n",
       "      dtype='object')"
      ]
     },
     "metadata": {},
     "execution_count": 80
    }
   ],
   "metadata": {}
  },
  {
   "cell_type": "code",
   "execution_count": 81,
   "source": [
    "start_ind"
   ],
   "outputs": [
    {
     "output_type": "execute_result",
     "data": {
      "text/plain": [
       "28"
      ]
     },
     "metadata": {},
     "execution_count": 81
    }
   ],
   "metadata": {}
  },
  {
   "cell_type": "code",
   "execution_count": 82,
   "source": [
    "trait_cols = ['subID']\n",
    "start_ind = np.where(df.columns == 'social_skill')[0][0]\n",
    "trait_cols.extend(df.columns[start_ind:])#[i for i in df.columns if 'reweigh' in i])\n",
    "trait_cols"
   ],
   "outputs": [
    {
     "output_type": "execute_result",
     "data": {
      "text/plain": [
       "['subID',\n",
       " 'social_skill',\n",
       " 'attn_switch',\n",
       " 'img',\n",
       " 'attn_to_det',\n",
       " 'comm',\n",
       " 'posAffect',\n",
       " 'negAffect',\n",
       " 'neuroticism',\n",
       " 'extraversion',\n",
       " 'openness',\n",
       " 'agreeableness',\n",
       " 'conscientiousness',\n",
       " 'loneliness',\n",
       " 'nfriends']"
      ]
     },
     "metadata": {},
     "execution_count": 82
    }
   ],
   "metadata": {}
  },
  {
   "cell_type": "code",
   "execution_count": 83,
   "source": [
    "X = df[trait_cols]\n",
    "print(X.shape)"
   ],
   "outputs": [
    {
     "output_type": "stream",
     "name": "stdout",
     "text": [
      "(275, 15)\n"
     ]
    }
   ],
   "metadata": {}
  },
  {
   "cell_type": "code",
   "execution_count": 84,
   "source": [
    "# X = aX[~X.isna().any(axis=1)]\n",
    "pca = PCA().fit(X.iloc[:,1:])"
   ],
   "outputs": [],
   "metadata": {}
  },
  {
   "cell_type": "code",
   "execution_count": 85,
   "source": [
    "results_dir = '../../results/subtlety_playfight_mixed/trait-beh_pflinear'"
   ],
   "outputs": [],
   "metadata": {}
  },
  {
   "cell_type": "code",
   "execution_count": 86,
   "source": [
    "# plotting explained variance\n",
    "fig,axs = plt.subplots(figsize = (7,5), nrows = 1, ncols = 2,sharey=True,sharex=True)\n",
    "ax = axs[0]\n",
    "ax.plot(range(1, len(pca.explained_variance_ratio_) + 1), np.cumsum(pca.explained_variance_ratio_), marker='o', linestyle='-')\n",
    "ax.set_xlabel('Number of Components')\n",
    "ax.set_ylabel('Cum. Explained Variance')\n",
    "ax.set_title('Explained Variance',fontweight='bold')\n",
    "# ax.grid(True)\n",
    "ax.set_ylim(0, 1.05)\n",
    "\n",
    "ax = axs[1]\n",
    "ax.plot(range(1, len(pca.explained_variance_ratio_) + 1),pca.explained_variance_ratio_, marker='o', linestyle='-')\n",
    "ax.set_xlabel('Number of Components')\n",
    "ax.set_ylabel('% variance (norm.)')\n",
    "ax.set_title('Scree plot',fontweight='bold')\n",
    "# plt.grid(True)\n",
    "ax.set_ylim(0, 1.05)\n",
    "ax.set_xticks(np.arange(0,15,2))\n",
    "\n",
    "plt.tight_layout()\n",
    "plt.savefig(f'{results_dir}/PCA_scree_EV_mixeddesign.png')\n"
   ],
   "outputs": [
    {
     "output_type": "display_data",
     "data": {
      "image/png": "[encoded data removed]",
      "text/plain": [
       "<Figure size 504x360 with 2 Axes>"
      ]
     },
     "metadata": {
      "needs_background": "light"
     }
    }
   ],
   "metadata": {}
  },
  {
   "cell_type": "code",
   "execution_count": 87,
   "source": [
    "pca_sublevel = PCA().fit_transform(X.iloc[:,1:])\n",
    "pca_sublevel.shape"
   ],
   "outputs": [
    {
     "output_type": "execute_result",
     "data": {
      "text/plain": [
       "(275, 14)"
      ]
     },
     "metadata": {},
     "execution_count": 87
    }
   ],
   "metadata": {}
  },
  {
   "cell_type": "markdown",
   "source": [
    "nPCs_of_interest = 1"
   ],
   "metadata": {}
  },
  {
   "cell_type": "code",
   "execution_count": 88,
   "source": [
    "# PC1\n",
    "loadings = pd.DataFrame(pca.components_, columns=X.columns[1:])\n",
    "loading_values = loadings.iloc[0,:].values[:,np.newaxis]\n",
    "loading_values.shape"
   ],
   "outputs": [
    {
     "output_type": "execute_result",
     "data": {
      "text/plain": [
       "(14, 1)"
      ]
     },
     "metadata": {},
     "execution_count": 88
    }
   ],
   "metadata": {}
  },
  {
   "cell_type": "code",
   "execution_count": 89,
   "source": [
    "cmap = 'BrBG'#'RdBu_r'?"
   ],
   "outputs": [],
   "metadata": {}
  },
  {
   "cell_type": "code",
   "execution_count": 90,
   "source": [
    "fig, ax = plt.subplots(figsize=(3, 10))\n",
    "sns.heatmap(loading_values, annot=True, fmt='.2f', cmap=cmap, vmin=-1, vmax=1,annot_kws={\"size\": 20})\n",
    "plt.yticks(.5+np.arange(14),loadings.columns,rotation=0,fontsize=20)\n",
    "plt.xticks([.5],['PC1'], rotation=0,fontsize=20)\n",
    "yticks = plt.gca().get_yticklabels()\n",
    "plt.gca().set_yticklabels(['_'.join(i.get_text().split('_')[:-1]) if '_' in i.get_text() else i for i in yticks])\n",
    "plt.savefig(f'{results_dir}/PC1_loadings.png',dpi = 300, bbox_inches = 'tight')"
   ],
   "outputs": [
    {
     "output_type": "display_data",
     "data": {
      "image/png": "[encoded data removed]",
      "text/plain": [
       "<Figure size 216x720 with 2 Axes>"
      ]
     },
     "metadata": {
      "needs_background": "light"
     }
    }
   ],
   "metadata": {}
  },
  {
   "cell_type": "code",
   "execution_count": 91,
   "source": [
    "pca_sublevel = PCA().fit_transform(X.iloc[:,1:])\n",
    "pca_sublevel.shape"
   ],
   "outputs": [
    {
     "output_type": "execute_result",
     "data": {
      "text/plain": [
       "(275, 14)"
      ]
     },
     "metadata": {},
     "execution_count": 91
    }
   ],
   "metadata": {}
  },
  {
   "cell_type": "code",
   "execution_count": 92,
   "source": [
    "pca_sublevel = pca_sublevel[:,0]\n",
    "pca_sublevel.shape"
   ],
   "outputs": [
    {
     "output_type": "execute_result",
     "data": {
      "text/plain": [
       "(275,)"
      ]
     },
     "metadata": {},
     "execution_count": 92
    }
   ],
   "metadata": {}
  },
  {
   "cell_type": "markdown",
   "source": [
    "# plots"
   ],
   "metadata": {}
  },
  {
   "cell_type": "code",
   "execution_count": 93,
   "source": [
    "from scipy import stats\n",
    "\n",
    "def get_p(p):\n",
    "    if p < .001:\n",
    "        return \"p < .001\"\n",
    "    elif p < .01:\n",
    "        return f\"p={p:.3f}\"\n",
    "    else:\n",
    "        return f\"p={p:.2f}\""
   ],
   "outputs": [],
   "metadata": {}
  },
  {
   "cell_type": "code",
   "execution_count": 94,
   "source": [
    "pca_sublevel.max(),pca_sublevel.min()"
   ],
   "outputs": [
    {
     "output_type": "execute_result",
     "data": {
      "text/plain": [
       "(59.31156603181244, -46.79400960821824)"
      ]
     },
     "metadata": {},
     "execution_count": 94
    }
   ],
   "metadata": {}
  },
  {
   "cell_type": "code",
   "execution_count": 95,
   "source": [
    "X['PC1'] = pca_sublevel\n",
    "X"
   ],
   "outputs": [
    {
     "output_type": "stream",
     "name": "stderr",
     "text": [
      "/Users/f0053cz/anaconda3/envs/py37/lib/python3.7/site-packages/ipykernel_launcher.py:1: SettingWithCopyWarning: \n",
      "A value is trying to be set on a copy of a slice from a DataFrame.\n",
      "Try using .loc[row_indexer,col_indexer] = value instead\n",
      "\n",
      "See the caveats in the documentation: https://pandas.pydata.org/pandas-docs/stable/user_guide/indexing.html#returning-a-view-versus-a-copy\n",
      "  \"\"\"Entry point for launching an IPython kernel.\n"
     ]
    },
    {
     "output_type": "execute_result",
     "data": {
      "text/html": [
       "<div>\n",
       "<style scoped>\n",
       "    .dataframe tbody tr th:only-of-type {\n",
       "        vertical-align: middle;\n",
       "    }\n",
       "\n",
       "    .dataframe tbody tr th {\n",
       "        vertical-align: top;\n",
       "    }\n",
       "\n",
       "    .dataframe thead th {\n",
       "        text-align: right;\n",
       "    }\n",
       "</style>\n",
       "<table border=\"1\" class=\"dataframe\">\n",
       "  <thead>\n",
       "    <tr style=\"text-align: right;\">\n",
       "      <th></th>\n",
       "      <th>subID</th>\n",
       "      <th>social_skill</th>\n",
       "      <th>attn_switch</th>\n",
       "      <th>img</th>\n",
       "      <th>attn_to_det</th>\n",
       "      <th>comm</th>\n",
       "      <th>posAffect</th>\n",
       "      <th>negAffect</th>\n",
       "      <th>neuroticism</th>\n",
       "      <th>extraversion</th>\n",
       "      <th>openness</th>\n",
       "      <th>agreeableness</th>\n",
       "      <th>conscientiousness</th>\n",
       "      <th>loneliness</th>\n",
       "      <th>nfriends</th>\n",
       "      <th>PC1</th>\n",
       "    </tr>\n",
       "  </thead>\n",
       "  <tbody>\n",
       "    <tr>\n",
       "      <th>0</th>\n",
       "      <td>30002.0</td>\n",
       "      <td>21.0</td>\n",
       "      <td>23.0</td>\n",
       "      <td>9.0</td>\n",
       "      <td>10.0</td>\n",
       "      <td>16.000000</td>\n",
       "      <td>20.0</td>\n",
       "      <td>0.0</td>\n",
       "      <td>38.0</td>\n",
       "      <td>28.000000</td>\n",
       "      <td>31.000000</td>\n",
       "      <td>34.0</td>\n",
       "      <td>39.0</td>\n",
       "      <td>56.0</td>\n",
       "      <td>3.0</td>\n",
       "      <td>16.107847</td>\n",
       "    </tr>\n",
       "    <tr>\n",
       "      <th>1</th>\n",
       "      <td>30004.0</td>\n",
       "      <td>21.0</td>\n",
       "      <td>20.0</td>\n",
       "      <td>9.0</td>\n",
       "      <td>15.0</td>\n",
       "      <td>15.000000</td>\n",
       "      <td>25.0</td>\n",
       "      <td>11.0</td>\n",
       "      <td>38.0</td>\n",
       "      <td>26.181818</td>\n",
       "      <td>50.000000</td>\n",
       "      <td>50.0</td>\n",
       "      <td>46.0</td>\n",
       "      <td>56.0</td>\n",
       "      <td>3.0</td>\n",
       "      <td>13.408261</td>\n",
       "    </tr>\n",
       "    <tr>\n",
       "      <th>2</th>\n",
       "      <td>30005.0</td>\n",
       "      <td>17.0</td>\n",
       "      <td>29.0</td>\n",
       "      <td>21.0</td>\n",
       "      <td>16.0</td>\n",
       "      <td>16.000000</td>\n",
       "      <td>20.0</td>\n",
       "      <td>21.0</td>\n",
       "      <td>51.0</td>\n",
       "      <td>39.000000</td>\n",
       "      <td>40.000000</td>\n",
       "      <td>43.0</td>\n",
       "      <td>19.0</td>\n",
       "      <td>41.0</td>\n",
       "      <td>5.0</td>\n",
       "      <td>20.628666</td>\n",
       "    </tr>\n",
       "    <tr>\n",
       "      <th>3</th>\n",
       "      <td>30006.0</td>\n",
       "      <td>8.0</td>\n",
       "      <td>10.0</td>\n",
       "      <td>5.0</td>\n",
       "      <td>10.0</td>\n",
       "      <td>3.000000</td>\n",
       "      <td>25.0</td>\n",
       "      <td>0.0</td>\n",
       "      <td>18.0</td>\n",
       "      <td>41.000000</td>\n",
       "      <td>31.000000</td>\n",
       "      <td>44.0</td>\n",
       "      <td>57.0</td>\n",
       "      <td>30.0</td>\n",
       "      <td>4.0</td>\n",
       "      <td>-27.570412</td>\n",
       "    </tr>\n",
       "    <tr>\n",
       "      <th>4</th>\n",
       "      <td>30008.0</td>\n",
       "      <td>5.0</td>\n",
       "      <td>15.0</td>\n",
       "      <td>12.0</td>\n",
       "      <td>17.0</td>\n",
       "      <td>12.222222</td>\n",
       "      <td>28.0</td>\n",
       "      <td>4.0</td>\n",
       "      <td>27.0</td>\n",
       "      <td>46.000000</td>\n",
       "      <td>42.545455</td>\n",
       "      <td>46.0</td>\n",
       "      <td>50.0</td>\n",
       "      <td>45.0</td>\n",
       "      <td>5.0</td>\n",
       "      <td>-12.516037</td>\n",
       "    </tr>\n",
       "    <tr>\n",
       "      <th>...</th>\n",
       "      <td>...</td>\n",
       "      <td>...</td>\n",
       "      <td>...</td>\n",
       "      <td>...</td>\n",
       "      <td>...</td>\n",
       "      <td>...</td>\n",
       "      <td>...</td>\n",
       "      <td>...</td>\n",
       "      <td>...</td>\n",
       "      <td>...</td>\n",
       "      <td>...</td>\n",
       "      <td>...</td>\n",
       "      <td>...</td>\n",
       "      <td>...</td>\n",
       "      <td>...</td>\n",
       "      <td>...</td>\n",
       "    </tr>\n",
       "    <tr>\n",
       "      <th>271</th>\n",
       "      <td>30344.0</td>\n",
       "      <td>27.0</td>\n",
       "      <td>18.0</td>\n",
       "      <td>19.0</td>\n",
       "      <td>20.0</td>\n",
       "      <td>16.000000</td>\n",
       "      <td>14.0</td>\n",
       "      <td>0.0</td>\n",
       "      <td>25.0</td>\n",
       "      <td>29.000000</td>\n",
       "      <td>49.000000</td>\n",
       "      <td>35.0</td>\n",
       "      <td>56.0</td>\n",
       "      <td>41.0</td>\n",
       "      <td>6.0</td>\n",
       "      <td>0.116869</td>\n",
       "    </tr>\n",
       "    <tr>\n",
       "      <th>272</th>\n",
       "      <td>30345.0</td>\n",
       "      <td>15.0</td>\n",
       "      <td>14.0</td>\n",
       "      <td>6.0</td>\n",
       "      <td>13.0</td>\n",
       "      <td>5.000000</td>\n",
       "      <td>15.0</td>\n",
       "      <td>15.0</td>\n",
       "      <td>36.0</td>\n",
       "      <td>23.000000</td>\n",
       "      <td>37.000000</td>\n",
       "      <td>45.0</td>\n",
       "      <td>54.0</td>\n",
       "      <td>72.0</td>\n",
       "      <td>1.0</td>\n",
       "      <td>20.240816</td>\n",
       "    </tr>\n",
       "    <tr>\n",
       "      <th>273</th>\n",
       "      <td>30346.0</td>\n",
       "      <td>16.0</td>\n",
       "      <td>25.0</td>\n",
       "      <td>7.0</td>\n",
       "      <td>16.0</td>\n",
       "      <td>8.000000</td>\n",
       "      <td>27.0</td>\n",
       "      <td>6.0</td>\n",
       "      <td>49.0</td>\n",
       "      <td>36.000000</td>\n",
       "      <td>36.000000</td>\n",
       "      <td>43.0</td>\n",
       "      <td>44.0</td>\n",
       "      <td>56.0</td>\n",
       "      <td>3.0</td>\n",
       "      <td>12.867489</td>\n",
       "    </tr>\n",
       "    <tr>\n",
       "      <th>274</th>\n",
       "      <td>30348.0</td>\n",
       "      <td>8.0</td>\n",
       "      <td>7.0</td>\n",
       "      <td>4.0</td>\n",
       "      <td>11.0</td>\n",
       "      <td>2.000000</td>\n",
       "      <td>27.0</td>\n",
       "      <td>0.0</td>\n",
       "      <td>18.0</td>\n",
       "      <td>42.000000</td>\n",
       "      <td>41.000000</td>\n",
       "      <td>48.0</td>\n",
       "      <td>53.0</td>\n",
       "      <td>24.0</td>\n",
       "      <td>4.0</td>\n",
       "      <td>-32.053054</td>\n",
       "    </tr>\n",
       "    <tr>\n",
       "      <th>275</th>\n",
       "      <td>30352.0</td>\n",
       "      <td>8.0</td>\n",
       "      <td>6.0</td>\n",
       "      <td>7.0</td>\n",
       "      <td>12.0</td>\n",
       "      <td>4.000000</td>\n",
       "      <td>22.0</td>\n",
       "      <td>0.0</td>\n",
       "      <td>17.0</td>\n",
       "      <td>46.000000</td>\n",
       "      <td>47.000000</td>\n",
       "      <td>48.0</td>\n",
       "      <td>56.0</td>\n",
       "      <td>20.0</td>\n",
       "      <td>4.0</td>\n",
       "      <td>-34.819169</td>\n",
       "    </tr>\n",
       "  </tbody>\n",
       "</table>\n",
       "<p>275 rows × 16 columns</p>\n",
       "</div>"
      ],
      "text/plain": [
       "       subID  social_skill  attn_switch   img  attn_to_det       comm  \\\n",
       "0    30002.0          21.0         23.0   9.0         10.0  16.000000   \n",
       "1    30004.0          21.0         20.0   9.0         15.0  15.000000   \n",
       "2    30005.0          17.0         29.0  21.0         16.0  16.000000   \n",
       "3    30006.0           8.0         10.0   5.0         10.0   3.000000   \n",
       "4    30008.0           5.0         15.0  12.0         17.0  12.222222   \n",
       "..       ...           ...          ...   ...          ...        ...   \n",
       "271  30344.0          27.0         18.0  19.0         20.0  16.000000   \n",
       "272  30345.0          15.0         14.0   6.0         13.0   5.000000   \n",
       "273  30346.0          16.0         25.0   7.0         16.0   8.000000   \n",
       "274  30348.0           8.0          7.0   4.0         11.0   2.000000   \n",
       "275  30352.0           8.0          6.0   7.0         12.0   4.000000   \n",
       "\n",
       "     posAffect  negAffect  neuroticism  extraversion   openness  \\\n",
       "0         20.0        0.0         38.0     28.000000  31.000000   \n",
       "1         25.0       11.0         38.0     26.181818  50.000000   \n",
       "2         20.0       21.0         51.0     39.000000  40.000000   \n",
       "3         25.0        0.0         18.0     41.000000  31.000000   \n",
       "4         28.0        4.0         27.0     46.000000  42.545455   \n",
       "..         ...        ...          ...           ...        ...   \n",
       "271       14.0        0.0         25.0     29.000000  49.000000   \n",
       "272       15.0       15.0         36.0     23.000000  37.000000   \n",
       "273       27.0        6.0         49.0     36.000000  36.000000   \n",
       "274       27.0        0.0         18.0     42.000000  41.000000   \n",
       "275       22.0        0.0         17.0     46.000000  47.000000   \n",
       "\n",
       "     agreeableness  conscientiousness  loneliness  nfriends        PC1  \n",
       "0             34.0               39.0        56.0       3.0  16.107847  \n",
       "1             50.0               46.0        56.0       3.0  13.408261  \n",
       "2             43.0               19.0        41.0       5.0  20.628666  \n",
       "3             44.0               57.0        30.0       4.0 -27.570412  \n",
       "4             46.0               50.0        45.0       5.0 -12.516037  \n",
       "..             ...                ...         ...       ...        ...  \n",
       "271           35.0               56.0        41.0       6.0   0.116869  \n",
       "272           45.0               54.0        72.0       1.0  20.240816  \n",
       "273           43.0               44.0        56.0       3.0  12.867489  \n",
       "274           48.0               53.0        24.0       4.0 -32.053054  \n",
       "275           48.0               56.0        20.0       4.0 -34.819169  \n",
       "\n",
       "[275 rows x 16 columns]"
      ]
     },
     "metadata": {},
     "execution_count": 95
    }
   ],
   "metadata": {}
  },
  {
   "cell_type": "code",
   "execution_count": 96,
   "source": [
    "df['PC1'] = pca_sublevel\n",
    "df.shape"
   ],
   "outputs": [
    {
     "output_type": "execute_result",
     "data": {
      "text/plain": [
       "(275, 43)"
      ]
     },
     "metadata": {},
     "execution_count": 96
    }
   ],
   "metadata": {}
  },
  {
   "cell_type": "code",
   "execution_count": 97,
   "source": [
    "df.to_csv(f'{root_dir}/curvefit_traits_merged_linearpf_withPC1.csv')"
   ],
   "outputs": [],
   "metadata": {}
  },
  {
   "cell_type": "code",
   "execution_count": 98,
   "source": [
    "subt_col_labels = ['PSE_subt', 'range_subt', 'bias_subt','sigma_subt']\n",
    "pf_col_labels = ['PSE_pf','slope_pf','bias_pf']"
   ],
   "outputs": [],
   "metadata": {}
  },
  {
   "cell_type": "code",
   "execution_count": 99,
   "source": [
    "df"
   ],
   "outputs": [
    {
     "output_type": "execute_result",
     "data": {
      "text/html": [
       "<div>\n",
       "<style scoped>\n",
       "    .dataframe tbody tr th:only-of-type {\n",
       "        vertical-align: middle;\n",
       "    }\n",
       "\n",
       "    .dataframe tbody tr th {\n",
       "        vertical-align: top;\n",
       "    }\n",
       "\n",
       "    .dataframe thead th {\n",
       "        text-align: right;\n",
       "    }\n",
       "</style>\n",
       "<table border=\"1\" class=\"dataframe\">\n",
       "  <thead>\n",
       "    <tr style=\"text-align: right;\">\n",
       "      <th></th>\n",
       "      <th>index</th>\n",
       "      <th>subID</th>\n",
       "      <th>r_squared_subt</th>\n",
       "      <th>nrmse_subt</th>\n",
       "      <th>aic_subt</th>\n",
       "      <th>center</th>\n",
       "      <th>PSE_subt</th>\n",
       "      <th>sigma_subt</th>\n",
       "      <th>bias_xmin_subt</th>\n",
       "      <th>bias_xmax_subt</th>\n",
       "      <th>...</th>\n",
       "      <th>posAffect</th>\n",
       "      <th>negAffect</th>\n",
       "      <th>neuroticism</th>\n",
       "      <th>extraversion</th>\n",
       "      <th>openness</th>\n",
       "      <th>agreeableness</th>\n",
       "      <th>conscientiousness</th>\n",
       "      <th>loneliness</th>\n",
       "      <th>nfriends</th>\n",
       "      <th>PC1</th>\n",
       "    </tr>\n",
       "  </thead>\n",
       "  <tbody>\n",
       "    <tr>\n",
       "      <th>0</th>\n",
       "      <td>0</td>\n",
       "      <td>30002.0</td>\n",
       "      <td>0.978946</td>\n",
       "      <td>0.059585</td>\n",
       "      <td>-35.485036</td>\n",
       "      <td>0.546183</td>\n",
       "      <td>0.552951</td>\n",
       "      <td>0.103360</td>\n",
       "      <td>0.031291</td>\n",
       "      <td>0.067887</td>\n",
       "      <td>...</td>\n",
       "      <td>20.0</td>\n",
       "      <td>0.0</td>\n",
       "      <td>38.0</td>\n",
       "      <td>28.000000</td>\n",
       "      <td>31.000000</td>\n",
       "      <td>34.0</td>\n",
       "      <td>39.0</td>\n",
       "      <td>56.0</td>\n",
       "      <td>3.0</td>\n",
       "      <td>16.107847</td>\n",
       "    </tr>\n",
       "    <tr>\n",
       "      <th>1</th>\n",
       "      <td>1</td>\n",
       "      <td>30004.0</td>\n",
       "      <td>0.994784</td>\n",
       "      <td>0.031310</td>\n",
       "      <td>-44.493407</td>\n",
       "      <td>0.311200</td>\n",
       "      <td>0.276896</td>\n",
       "      <td>0.076866</td>\n",
       "      <td>0.194061</td>\n",
       "      <td>0.000105</td>\n",
       "      <td>...</td>\n",
       "      <td>25.0</td>\n",
       "      <td>11.0</td>\n",
       "      <td>38.0</td>\n",
       "      <td>26.181818</td>\n",
       "      <td>50.000000</td>\n",
       "      <td>50.0</td>\n",
       "      <td>46.0</td>\n",
       "      <td>56.0</td>\n",
       "      <td>3.0</td>\n",
       "      <td>13.408261</td>\n",
       "    </tr>\n",
       "    <tr>\n",
       "      <th>2</th>\n",
       "      <td>2</td>\n",
       "      <td>30005.0</td>\n",
       "      <td>0.985636</td>\n",
       "      <td>0.048320</td>\n",
       "      <td>-38.418617</td>\n",
       "      <td>0.380063</td>\n",
       "      <td>0.320583</td>\n",
       "      <td>0.115353</td>\n",
       "      <td>0.249789</td>\n",
       "      <td>0.040080</td>\n",
       "      <td>...</td>\n",
       "      <td>20.0</td>\n",
       "      <td>21.0</td>\n",
       "      <td>51.0</td>\n",
       "      <td>39.000000</td>\n",
       "      <td>40.000000</td>\n",
       "      <td>43.0</td>\n",
       "      <td>19.0</td>\n",
       "      <td>41.0</td>\n",
       "      <td>5.0</td>\n",
       "      <td>20.628666</td>\n",
       "    </tr>\n",
       "    <tr>\n",
       "      <th>3</th>\n",
       "      <td>3</td>\n",
       "      <td>30006.0</td>\n",
       "      <td>0.983710</td>\n",
       "      <td>0.057399</td>\n",
       "      <td>-36.008190</td>\n",
       "      <td>0.465887</td>\n",
       "      <td>0.464823</td>\n",
       "      <td>0.079221</td>\n",
       "      <td>0.009433</td>\n",
       "      <td>0.001171</td>\n",
       "      <td>...</td>\n",
       "      <td>25.0</td>\n",
       "      <td>0.0</td>\n",
       "      <td>18.0</td>\n",
       "      <td>41.000000</td>\n",
       "      <td>31.000000</td>\n",
       "      <td>44.0</td>\n",
       "      <td>57.0</td>\n",
       "      <td>30.0</td>\n",
       "      <td>4.0</td>\n",
       "      <td>-27.570412</td>\n",
       "    </tr>\n",
       "    <tr>\n",
       "      <th>4</th>\n",
       "      <td>4</td>\n",
       "      <td>30008.0</td>\n",
       "      <td>0.900792</td>\n",
       "      <td>0.110236</td>\n",
       "      <td>-26.871886</td>\n",
       "      <td>0.385415</td>\n",
       "      <td>0.325118</td>\n",
       "      <td>0.172585</td>\n",
       "      <td>0.289378</td>\n",
       "      <td>0.128370</td>\n",
       "      <td>...</td>\n",
       "      <td>28.0</td>\n",
       "      <td>4.0</td>\n",
       "      <td>27.0</td>\n",
       "      <td>46.000000</td>\n",
       "      <td>42.545455</td>\n",
       "      <td>46.0</td>\n",
       "      <td>50.0</td>\n",
       "      <td>45.0</td>\n",
       "      <td>5.0</td>\n",
       "      <td>-12.516037</td>\n",
       "    </tr>\n",
       "    <tr>\n",
       "      <th>...</th>\n",
       "      <td>...</td>\n",
       "      <td>...</td>\n",
       "      <td>...</td>\n",
       "      <td>...</td>\n",
       "      <td>...</td>\n",
       "      <td>...</td>\n",
       "      <td>...</td>\n",
       "      <td>...</td>\n",
       "      <td>...</td>\n",
       "      <td>...</td>\n",
       "      <td>...</td>\n",
       "      <td>...</td>\n",
       "      <td>...</td>\n",
       "      <td>...</td>\n",
       "      <td>...</td>\n",
       "      <td>...</td>\n",
       "      <td>...</td>\n",
       "      <td>...</td>\n",
       "      <td>...</td>\n",
       "      <td>...</td>\n",
       "      <td>...</td>\n",
       "    </tr>\n",
       "    <tr>\n",
       "      <th>271</th>\n",
       "      <td>271</td>\n",
       "      <td>30344.0</td>\n",
       "      <td>0.982096</td>\n",
       "      <td>0.049413</td>\n",
       "      <td>-38.105636</td>\n",
       "      <td>0.436226</td>\n",
       "      <td>0.361233</td>\n",
       "      <td>0.135840</td>\n",
       "      <td>0.273528</td>\n",
       "      <td>0.070757</td>\n",
       "      <td>...</td>\n",
       "      <td>14.0</td>\n",
       "      <td>0.0</td>\n",
       "      <td>25.0</td>\n",
       "      <td>29.000000</td>\n",
       "      <td>49.000000</td>\n",
       "      <td>35.0</td>\n",
       "      <td>56.0</td>\n",
       "      <td>41.0</td>\n",
       "      <td>6.0</td>\n",
       "      <td>0.116869</td>\n",
       "    </tr>\n",
       "    <tr>\n",
       "      <th>272</th>\n",
       "      <td>272</td>\n",
       "      <td>30345.0</td>\n",
       "      <td>0.900182</td>\n",
       "      <td>0.135227</td>\n",
       "      <td>-24.011227</td>\n",
       "      <td>0.480709</td>\n",
       "      <td>0.475067</td>\n",
       "      <td>0.013915</td>\n",
       "      <td>0.166667</td>\n",
       "      <td>0.000000</td>\n",
       "      <td>...</td>\n",
       "      <td>15.0</td>\n",
       "      <td>15.0</td>\n",
       "      <td>36.0</td>\n",
       "      <td>23.000000</td>\n",
       "      <td>37.000000</td>\n",
       "      <td>45.0</td>\n",
       "      <td>54.0</td>\n",
       "      <td>72.0</td>\n",
       "      <td>1.0</td>\n",
       "      <td>20.240816</td>\n",
       "    </tr>\n",
       "    <tr>\n",
       "      <th>273</th>\n",
       "      <td>273</td>\n",
       "      <td>30346.0</td>\n",
       "      <td>0.995720</td>\n",
       "      <td>0.031059</td>\n",
       "      <td>-44.606204</td>\n",
       "      <td>0.426850</td>\n",
       "      <td>0.426850</td>\n",
       "      <td>0.045409</td>\n",
       "      <td>0.000083</td>\n",
       "      <td>0.000003</td>\n",
       "      <td>...</td>\n",
       "      <td>27.0</td>\n",
       "      <td>6.0</td>\n",
       "      <td>49.0</td>\n",
       "      <td>36.000000</td>\n",
       "      <td>36.000000</td>\n",
       "      <td>43.0</td>\n",
       "      <td>44.0</td>\n",
       "      <td>56.0</td>\n",
       "      <td>3.0</td>\n",
       "      <td>12.867489</td>\n",
       "    </tr>\n",
       "    <tr>\n",
       "      <th>274</th>\n",
       "      <td>274</td>\n",
       "      <td>30348.0</td>\n",
       "      <td>0.405749</td>\n",
       "      <td>0.219546</td>\n",
       "      <td>-17.226706</td>\n",
       "      <td>0.604790</td>\n",
       "      <td>0.729328</td>\n",
       "      <td>0.392303</td>\n",
       "      <td>0.355133</td>\n",
       "      <td>0.444629</td>\n",
       "      <td>...</td>\n",
       "      <td>27.0</td>\n",
       "      <td>0.0</td>\n",
       "      <td>18.0</td>\n",
       "      <td>42.000000</td>\n",
       "      <td>41.000000</td>\n",
       "      <td>48.0</td>\n",
       "      <td>53.0</td>\n",
       "      <td>24.0</td>\n",
       "      <td>4.0</td>\n",
       "      <td>-32.053054</td>\n",
       "    </tr>\n",
       "    <tr>\n",
       "      <th>275</th>\n",
       "      <td>275</td>\n",
       "      <td>30352.0</td>\n",
       "      <td>0.872976</td>\n",
       "      <td>0.124697</td>\n",
       "      <td>-25.146107</td>\n",
       "      <td>0.394443</td>\n",
       "      <td>0.392464</td>\n",
       "      <td>0.153343</td>\n",
       "      <td>0.279987</td>\n",
       "      <td>0.249770</td>\n",
       "      <td>...</td>\n",
       "      <td>22.0</td>\n",
       "      <td>0.0</td>\n",
       "      <td>17.0</td>\n",
       "      <td>46.000000</td>\n",
       "      <td>47.000000</td>\n",
       "      <td>48.0</td>\n",
       "      <td>56.0</td>\n",
       "      <td>20.0</td>\n",
       "      <td>4.0</td>\n",
       "      <td>-34.819169</td>\n",
       "    </tr>\n",
       "  </tbody>\n",
       "</table>\n",
       "<p>275 rows × 43 columns</p>\n",
       "</div>"
      ],
      "text/plain": [
       "     index    subID  r_squared_subt  nrmse_subt   aic_subt    center  \\\n",
       "0        0  30002.0        0.978946    0.059585 -35.485036  0.546183   \n",
       "1        1  30004.0        0.994784    0.031310 -44.493407  0.311200   \n",
       "2        2  30005.0        0.985636    0.048320 -38.418617  0.380063   \n",
       "3        3  30006.0        0.983710    0.057399 -36.008190  0.465887   \n",
       "4        4  30008.0        0.900792    0.110236 -26.871886  0.385415   \n",
       "..     ...      ...             ...         ...        ...       ...   \n",
       "271    271  30344.0        0.982096    0.049413 -38.105636  0.436226   \n",
       "272    272  30345.0        0.900182    0.135227 -24.011227  0.480709   \n",
       "273    273  30346.0        0.995720    0.031059 -44.606204  0.426850   \n",
       "274    274  30348.0        0.405749    0.219546 -17.226706  0.604790   \n",
       "275    275  30352.0        0.872976    0.124697 -25.146107  0.394443   \n",
       "\n",
       "     PSE_subt  sigma_subt  bias_xmin_subt  bias_xmax_subt  ...  posAffect  \\\n",
       "0    0.552951    0.103360        0.031291        0.067887  ...       20.0   \n",
       "1    0.276896    0.076866        0.194061        0.000105  ...       25.0   \n",
       "2    0.320583    0.115353        0.249789        0.040080  ...       20.0   \n",
       "3    0.464823    0.079221        0.009433        0.001171  ...       25.0   \n",
       "4    0.325118    0.172585        0.289378        0.128370  ...       28.0   \n",
       "..        ...         ...             ...             ...  ...        ...   \n",
       "271  0.361233    0.135840        0.273528        0.070757  ...       14.0   \n",
       "272  0.475067    0.013915        0.166667        0.000000  ...       15.0   \n",
       "273  0.426850    0.045409        0.000083        0.000003  ...       27.0   \n",
       "274  0.729328    0.392303        0.355133        0.444629  ...       27.0   \n",
       "275  0.392464    0.153343        0.279987        0.249770  ...       22.0   \n",
       "\n",
       "     negAffect  neuroticism  extraversion   openness  agreeableness  \\\n",
       "0          0.0         38.0     28.000000  31.000000           34.0   \n",
       "1         11.0         38.0     26.181818  50.000000           50.0   \n",
       "2         21.0         51.0     39.000000  40.000000           43.0   \n",
       "3          0.0         18.0     41.000000  31.000000           44.0   \n",
       "4          4.0         27.0     46.000000  42.545455           46.0   \n",
       "..         ...          ...           ...        ...            ...   \n",
       "271        0.0         25.0     29.000000  49.000000           35.0   \n",
       "272       15.0         36.0     23.000000  37.000000           45.0   \n",
       "273        6.0         49.0     36.000000  36.000000           43.0   \n",
       "274        0.0         18.0     42.000000  41.000000           48.0   \n",
       "275        0.0         17.0     46.000000  47.000000           48.0   \n",
       "\n",
       "     conscientiousness  loneliness  nfriends        PC1  \n",
       "0                 39.0        56.0       3.0  16.107847  \n",
       "1                 46.0        56.0       3.0  13.408261  \n",
       "2                 19.0        41.0       5.0  20.628666  \n",
       "3                 57.0        30.0       4.0 -27.570412  \n",
       "4                 50.0        45.0       5.0 -12.516037  \n",
       "..                 ...         ...       ...        ...  \n",
       "271               56.0        41.0       6.0   0.116869  \n",
       "272               54.0        72.0       1.0  20.240816  \n",
       "273               44.0        56.0       3.0  12.867489  \n",
       "274               53.0        24.0       4.0 -32.053054  \n",
       "275               56.0        20.0       4.0 -34.819169  \n",
       "\n",
       "[275 rows x 43 columns]"
      ]
     },
     "metadata": {},
     "execution_count": 99
    }
   ],
   "metadata": {}
  },
  {
   "cell_type": "code",
   "execution_count": 103,
   "source": [
    "r_subt=np.full((len(subt_col_labels),1),np.nan)\n",
    "p_subt=np.full((len(subt_col_labels),1),np.nan)\n",
    "\n",
    "fig,axs = plt.subplots(ncols=len(subt_col_labels),nrows=1,figsize=(3*len(subt_col_labels),3.5))#,sharex=True)\n",
    "for i,param in enumerate(subt_col_labels):#y_subt.columns):\n",
    "    # param = param + '_subt'\n",
    "    ax = axs[i]\n",
    "\n",
    "    x,y = pca_sublevel, df[param]#y_subt[param]\n",
    "    rows = (~np.isnan(x)) & (~np.isnan(y)) & (~np.isinf(x)) & (~np.isinf(y))\n",
    "    x = x[rows]\n",
    "    y = y[rows]\n",
    "\n",
    "    sns.regplot(x=x, y = y,ax=ax, marker='.', color = 'tab:blue')\n",
    "    ax.set_title(f'PC{i+1} vs.\\n{param}')\n",
    "    ax.set_ylabel('_'.join(param.split('_')[:-1]))\n",
    "    ax.set_xlabel('PC1')\n",
    "    ax.set_xlim(-52,62)\n",
    "    # ax.set_ylim(ylims[i][0],ylims[i][1])\n",
    "\n",
    "    r,p = stats.pearsonr(x,y)\n",
    "    r_subt[i],p_subt[i] = r,p\n",
    "    if p < .05:\n",
    "        color = 'r'\n",
    "    else:\n",
    "        color = 'k'\n",
    "\n",
    "    xy = (0.05,.25)\n",
    "    ax.annotate(f'r={r:.2f}\\n({get_p(p)})',xy=xy,xycoords='axes fraction', color = color,ha='left',va='top')\n",
    "    ax.set_title(f'PC1 vs. {param[:-5]}',fontweight='bold')\n",
    "    ax.set_xlabel('PC1')\n",
    "\n",
    "plt.suptitle('params subtlety', fontweight='bold')\n",
    "plt.tight_layout()\n",
    "\n",
    "# plt.savefig('../results/PC1_vs_curvefit_params_subtlety_final_withsigma.png')"
   ],
   "outputs": [
    {
     "output_type": "display_data",
     "data": {
      "image/png": "[encoded data removed]",
      "text/plain": [
       "<Figure size 864x252 with 4 Axes>"
      ]
     },
     "metadata": {
      "needs_background": "light"
     }
    }
   ],
   "metadata": {}
  },
  {
   "cell_type": "code",
   "execution_count": 106,
   "source": [
    "r_pf=np.full((len(pf_col_labels),1),np.nan)\n",
    "p_pf=np.full((len(pf_col_labels),1),np.nan)\n",
    "\n",
    "fig,axs = plt.subplots(ncols=len(pf_col_labels),nrows=1,figsize=(3*len(pf_col_labels),3.5))#,sharex=True)\n",
    "for i,param in enumerate(pf_col_labels):#y_pf.columns):\n",
    "    # param = param + '_pf'\n",
    "    ax = axs[i]\n",
    "    \n",
    "    x,y = pca_sublevel, df[param]#_pf[param]\n",
    "    rows = (~np.isnan(x)) & (~np.isnan(y)) & (~np.isinf(x)) & (~np.isinf(y))\n",
    "    x = x[rows]\n",
    "    y = y[rows]\n",
    "\n",
    "    sns.regplot(x=x, y = y, ax=ax, marker='.', color = 'tab:red')\n",
    "    ax.set_ylabel('_'.join(param.split('_')[:-1]))\n",
    "    ax.set_xlabel('PC1')\n",
    "    ax.set_xlim(-52,62)\n",
    "    # ax.set_ylim(ylims[i][0],ylims[i][1])\n",
    "    \n",
    "    r,p = stats.pearsonr(x,y)\n",
    "    r_pf[i],p_pf[i] = r,p\n",
    "    if p < .05:\n",
    "        color = 'r'\n",
    "    else:\n",
    "        color = 'k'\n",
    "    \n",
    "    # if i == 2:\n",
    "    #     xy = (0.05,.95)\n",
    "    # else:\n",
    "    xy = (0.05,.25)\n",
    "    ax.annotate(f'r={r:.2f}\\n({get_p(p)})',xy=xy,xycoords='axes fraction', color = color,ha='left',va='top')\n",
    "    ax.set_title(f'PC1 vs. {param[:-3]}',fontweight='bold')\n",
    "\n",
    "plt.suptitle('params playfight', fontweight='bold')\n",
    "plt.tight_layout()\n",
    "# plt.savefig('../results/PC1_vs_curvefit_params_pf_final.png')"
   ],
   "outputs": [
    {
     "output_type": "display_data",
     "data": {
      "image/png": "[encoded data removed]",
      "text/plain": [
       "<Figure size 648x252 with 3 Axes>"
      ]
     },
     "metadata": {
      "needs_background": "light"
     }
    }
   ],
   "metadata": {}
  },
  {
   "cell_type": "markdown",
   "source": [
    "# diff plots (scrapped)"
   ],
   "metadata": {}
  },
  {
   "cell_type": "code",
   "execution_count": 107,
   "source": [
    "# r_diff=np.full((len(new_params[:-1]),1),np.nan)\n",
    "# p_diff=np.full((len(new_params[:-1]),1),np.nan)\n",
    "\n",
    "# fig,axs = plt.subplots(ncols=len(new_params[:-1]),nrows=1,figsize=(3*len(new_params[:-1]),3))#,sharex=True)\n",
    "\n",
    "# for i,param in enumerate(new_params[:-1]):\n",
    "    \n",
    "#     ax = axs[i]\n",
    "#     # param = param + '_diff'\n",
    "    \n",
    "#     x,y = pca_sublevel, df[param]#y_diff[param]\n",
    "#     rows = (~np.isnan(x)) & (~np.isnan(y)) & (~np.isinf(x)) & (~np.isinf(y))\n",
    "#     x=x[rows]\n",
    "#     y=y[rows]\n",
    "\n",
    "#     sns.regplot(x=x, y = y,ax=ax, marker='.', color = 'k')\n",
    "#     # ax.set_ylabel('_'.join(param.split('_')[:-1]))\n",
    "#     ax.set_xlabel('PC1')\n",
    "#     ax.set_xlim(-52,62)\n",
    "#     ax.hlines(0,-52,62,ls=':',color = 'grey')\n",
    "#     r,p = pearsonr(x,y)\n",
    "#     r_diff[i],p_diff[i] = r,p\n",
    "#     if p < .05:\n",
    "#         color = 'r'\n",
    "#     else:\n",
    "#         color = 'k'\n",
    "#     ax.annotate(f'r={r:.2f}\\n({get_p(p)})',xy=(0.05,.25),xycoords='axes fraction', color = color,ha='left',va='top')\n",
    "#     ax.set_title(f'PC1 vs. {param}',fontweight='bold')\n",
    "\n",
    "# plt.suptitle('params playfight - subtlety', fontweight='bold')\n",
    "\n",
    "# plt.tight_layout()\n",
    "# plt.savefig('../results/PC1_vs_curvefit_params_pf-subtlety_final.png')"
   ],
   "outputs": [],
   "metadata": {}
  },
  {
   "cell_type": "code",
   "execution_count": 108,
   "source": [
    "# ind=1\n",
    "# param_ = new_terms[ind]\n",
    "# print(param_)\n",
    "# # x,y = pca_sublevel, df[new_terms[ind]+'_subt']#_pf[param]\n",
    "# x,y1,y2 = pca_sublevel, df[new_terms[ind]+'_subt'], df[new_terms[ind]+'_pf']#_pf[param]\n",
    "# subID = X['subID']\n",
    "# rows = (~np.isnan(x)) & (~np.isnan(y1)) & (~np.isnan(y2)) & (~np.isinf(x)) & (~np.isinf(y1))  & (~np.isinf(y2))\n",
    "# x = x[rows]\n",
    "# y1 = y1[rows].values\n",
    "# y2 = y2[rows].values\n",
    "# subID = subID[rows].values\n",
    "\n",
    "# x = x-x.min()\n",
    "# x=x/x.max()\n",
    "# all_df = pd.DataFrame({'subID':subID, 'pc1':x, param_ + '_subt': y1, param_ + '_pf':y2})\n",
    "# all_df[param_ + '_pf-subt'] = all_df[param_ + '_pf'] - all_df[param_ + '_subt']\n",
    "# # all_df.sort_values(by=[param_ + '_pf-subt'],ascending=False,inplace=True)\n",
    "# all_df.sort_values(by=[param_ + '_pf'],ascending=True,inplace=True)\n",
    "# all_df.head(20)"
   ],
   "outputs": [],
   "metadata": {}
  }
 ],
 "metadata": {
  "language_info": {
   "name": "python",
   "version": "3.7.11",
   "mimetype": "text/x-python",
   "codemirror_mode": {
    "name": "ipython",
    "version": 3
   },
   "pygments_lexer": "ipython3",
   "nbconvert_exporter": "python",
   "file_extension": ".py"
  },
  "kernelspec": {
   "name": "python3",
   "display_name": "Python 3.7.11 64-bit ('py37': conda)"
  },
  "interpreter": {
   "hash": "30fd9c97283ec1278eec212a8f8afab06ad903f38228c32cacb469eba8e56f4f"
  }
 },
 "nbformat": 4,
 "nbformat_minor": 2
}
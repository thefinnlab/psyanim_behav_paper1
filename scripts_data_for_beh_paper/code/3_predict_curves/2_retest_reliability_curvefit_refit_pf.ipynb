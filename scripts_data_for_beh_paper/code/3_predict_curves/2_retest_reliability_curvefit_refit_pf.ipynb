{
 "cells": [
  {
   "cell_type": "markdown",
   "source": [
    "# This notebook is used to plot curvefit for the playfight data"
   ],
   "metadata": {}
  },
  {
   "cell_type": "code",
   "execution_count": 1,
   "source": [
    "import numpy as np\n",
    "import pandas as pd\n",
    "import matplotlib.pyplot as plt\n",
    "import warnings\n",
    "from scipy.stats import ttest_rel,wilcoxon\n",
    "import os"
   ],
   "outputs": [],
   "metadata": {}
  },
  {
   "cell_type": "code",
   "execution_count": 2,
   "source": [
    "path_to_add = os.path.abspath('../')\n",
    "path_to_add"
   ],
   "outputs": [
    {
     "output_type": "execute_result",
     "data": {
      "text/plain": [
       "'/Users/f0053cz/Dartmouth College Dropbox/Rekha Sreekumar Varrier/postdoc_Dartmouth/psyanim_behav_paper/version2/scripts_data_for_beh_paper/code'"
      ]
     },
     "metadata": {},
     "execution_count": 2
    }
   ],
   "metadata": {}
  },
  {
   "cell_type": "code",
   "execution_count": 3,
   "source": [
    "sys.path.append(path_to_add)\n",
    "from func_curvefit import *\n",
    "import seaborn as sns"
   ],
   "outputs": [],
   "metadata": {}
  },
  {
   "cell_type": "code",
   "execution_count": 4,
   "source": [
    "root_data_file = '../../data/playfight_data'"
   ],
   "outputs": [],
   "metadata": {}
  },
  {
   "cell_type": "code",
   "execution_count": 74,
   "source": [
    "## import dataframes (curvefit)\n",
    "df_params_test = pd.read_csv(f'{root_data_file}/curve_fit_pf_ses1_linear/all_params_1k_play_linear.csv')\n",
    "df_params_retest = pd.read_csv(f'{root_data_file}/curve_fit_pf_ses2_linear/all_params_1k_play_linear.csv')\n",
    "df_params_test.shape, df_params_retest.shape"
   ],
   "outputs": [
    {
     "output_type": "execute_result",
     "data": {
      "text/plain": [
       "((319, 12), (269, 12))"
      ]
     },
     "metadata": {},
     "execution_count": 74
    }
   ],
   "metadata": {}
  },
  {
   "cell_type": "code",
   "execution_count": 75,
   "source": [
    "## merging the two curvefit params dataframe\n",
    "df_params_merge = df_params_test.merge(df_params_retest, on = 'subID', suffixes = ('_ses1', '_ses2'))\n",
    "df_params_merge"
   ],
   "outputs": [
    {
     "output_type": "execute_result",
     "data": {
      "text/html": [
       "<div>\n",
       "<style scoped>\n",
       "    .dataframe tbody tr th:only-of-type {\n",
       "        vertical-align: middle;\n",
       "    }\n",
       "\n",
       "    .dataframe tbody tr th {\n",
       "        vertical-align: top;\n",
       "    }\n",
       "\n",
       "    .dataframe thead th {\n",
       "        text-align: right;\n",
       "    }\n",
       "</style>\n",
       "<table border=\"1\" class=\"dataframe\">\n",
       "  <thead>\n",
       "    <tr style=\"text-align: right;\">\n",
       "      <th></th>\n",
       "      <th>subID</th>\n",
       "      <th>r_squared_ses1</th>\n",
       "      <th>nrmse_ses1</th>\n",
       "      <th>aic_ses1</th>\n",
       "      <th>obj_center_ses1</th>\n",
       "      <th>slope_ses1</th>\n",
       "      <th>intercept_ses1</th>\n",
       "      <th>bias_xmin_ses1</th>\n",
       "      <th>bias_xmax_ses1</th>\n",
       "      <th>bias_lower_ses1</th>\n",
       "      <th>...</th>\n",
       "      <th>nrmse_ses2</th>\n",
       "      <th>aic_ses2</th>\n",
       "      <th>obj_center_ses2</th>\n",
       "      <th>slope_ses2</th>\n",
       "      <th>intercept_ses2</th>\n",
       "      <th>bias_xmin_ses2</th>\n",
       "      <th>bias_xmax_ses2</th>\n",
       "      <th>bias_lower_ses2</th>\n",
       "      <th>bias_upper_ses2</th>\n",
       "      <th>flipped_ses2</th>\n",
       "    </tr>\n",
       "  </thead>\n",
       "  <tbody>\n",
       "    <tr>\n",
       "      <th>0</th>\n",
       "      <td>26000.0</td>\n",
       "      <td>0.940373</td>\n",
       "      <td>0.089823</td>\n",
       "      <td>-35.492508</td>\n",
       "      <td>0.290396</td>\n",
       "      <td>0.709500</td>\n",
       "      <td>0.293964</td>\n",
       "      <td>0.293964</td>\n",
       "      <td>-0.003464</td>\n",
       "      <td>0.0</td>\n",
       "      <td>...</td>\n",
       "      <td>0.114475</td>\n",
       "      <td>-39.241819</td>\n",
       "      <td>0.124705</td>\n",
       "      <td>0.477381</td>\n",
       "      <td>0.440468</td>\n",
       "      <td>0.440468</td>\n",
       "      <td>0.082151</td>\n",
       "      <td>0.0</td>\n",
       "      <td>0.0</td>\n",
       "      <td>False</td>\n",
       "    </tr>\n",
       "    <tr>\n",
       "      <th>1</th>\n",
       "      <td>26001.0</td>\n",
       "      <td>0.823224</td>\n",
       "      <td>0.147384</td>\n",
       "      <td>-35.444795</td>\n",
       "      <td>0.405999</td>\n",
       "      <td>0.386857</td>\n",
       "      <td>0.342937</td>\n",
       "      <td>0.342937</td>\n",
       "      <td>0.270206</td>\n",
       "      <td>0.0</td>\n",
       "      <td>...</td>\n",
       "      <td>0.140828</td>\n",
       "      <td>-30.664804</td>\n",
       "      <td>0.495616</td>\n",
       "      <td>0.521357</td>\n",
       "      <td>0.241607</td>\n",
       "      <td>0.241607</td>\n",
       "      <td>0.237036</td>\n",
       "      <td>0.0</td>\n",
       "      <td>0.0</td>\n",
       "      <td>False</td>\n",
       "    </tr>\n",
       "    <tr>\n",
       "      <th>2</th>\n",
       "      <td>26003.0</td>\n",
       "      <td>0.915302</td>\n",
       "      <td>0.110593</td>\n",
       "      <td>-26.826571</td>\n",
       "      <td>0.485000</td>\n",
       "      <td>1.000000</td>\n",
       "      <td>0.015000</td>\n",
       "      <td>0.015000</td>\n",
       "      <td>-0.015000</td>\n",
       "      <td>0.0</td>\n",
       "      <td>...</td>\n",
       "      <td>0.087003</td>\n",
       "      <td>-31.126282</td>\n",
       "      <td>0.507930</td>\n",
       "      <td>0.984191</td>\n",
       "      <td>0.000100</td>\n",
       "      <td>0.000100</td>\n",
       "      <td>0.015709</td>\n",
       "      <td>0.0</td>\n",
       "      <td>0.0</td>\n",
       "      <td>False</td>\n",
       "    </tr>\n",
       "    <tr>\n",
       "      <th>3</th>\n",
       "      <td>26004.0</td>\n",
       "      <td>0.972040</td>\n",
       "      <td>0.051894</td>\n",
       "      <td>-43.866039</td>\n",
       "      <td>0.473363</td>\n",
       "      <td>0.579214</td>\n",
       "      <td>0.225821</td>\n",
       "      <td>0.225821</td>\n",
       "      <td>0.194964</td>\n",
       "      <td>0.0</td>\n",
       "      <td>...</td>\n",
       "      <td>0.130596</td>\n",
       "      <td>-45.074530</td>\n",
       "      <td>0.202595</td>\n",
       "      <td>0.214714</td>\n",
       "      <td>0.456500</td>\n",
       "      <td>0.456500</td>\n",
       "      <td>0.328786</td>\n",
       "      <td>0.0</td>\n",
       "      <td>0.0</td>\n",
       "      <td>False</td>\n",
       "    </tr>\n",
       "    <tr>\n",
       "      <th>4</th>\n",
       "      <td>26005.0</td>\n",
       "      <td>0.936739</td>\n",
       "      <td>0.089287</td>\n",
       "      <td>-38.116158</td>\n",
       "      <td>0.579699</td>\n",
       "      <td>0.570000</td>\n",
       "      <td>0.169571</td>\n",
       "      <td>0.169571</td>\n",
       "      <td>0.260429</td>\n",
       "      <td>0.0</td>\n",
       "      <td>...</td>\n",
       "      <td>0.053982</td>\n",
       "      <td>-40.003157</td>\n",
       "      <td>0.369992</td>\n",
       "      <td>0.870643</td>\n",
       "      <td>0.177869</td>\n",
       "      <td>0.177869</td>\n",
       "      <td>-0.048512</td>\n",
       "      <td>0.0</td>\n",
       "      <td>0.0</td>\n",
       "      <td>False</td>\n",
       "    </tr>\n",
       "    <tr>\n",
       "      <th>...</th>\n",
       "      <td>...</td>\n",
       "      <td>...</td>\n",
       "      <td>...</td>\n",
       "      <td>...</td>\n",
       "      <td>...</td>\n",
       "      <td>...</td>\n",
       "      <td>...</td>\n",
       "      <td>...</td>\n",
       "      <td>...</td>\n",
       "      <td>...</td>\n",
       "      <td>...</td>\n",
       "      <td>...</td>\n",
       "      <td>...</td>\n",
       "      <td>...</td>\n",
       "      <td>...</td>\n",
       "      <td>...</td>\n",
       "      <td>...</td>\n",
       "      <td>...</td>\n",
       "      <td>...</td>\n",
       "      <td>...</td>\n",
       "      <td>...</td>\n",
       "    </tr>\n",
       "    <tr>\n",
       "      <th>257</th>\n",
       "      <td>26343.0</td>\n",
       "      <td>0.881986</td>\n",
       "      <td>0.130820</td>\n",
       "      <td>-32.029021</td>\n",
       "      <td>0.398139</td>\n",
       "      <td>0.625500</td>\n",
       "      <td>0.250964</td>\n",
       "      <td>0.250964</td>\n",
       "      <td>0.123536</td>\n",
       "      <td>0.0</td>\n",
       "      <td>...</td>\n",
       "      <td>0.080978</td>\n",
       "      <td>-35.254970</td>\n",
       "      <td>0.427334</td>\n",
       "      <td>0.676286</td>\n",
       "      <td>0.211000</td>\n",
       "      <td>0.211000</td>\n",
       "      <td>0.112714</td>\n",
       "      <td>0.0</td>\n",
       "      <td>0.0</td>\n",
       "      <td>False</td>\n",
       "    </tr>\n",
       "    <tr>\n",
       "      <th>258</th>\n",
       "      <td>26344.0</td>\n",
       "      <td>0.868675</td>\n",
       "      <td>0.141112</td>\n",
       "      <td>-25.061996</td>\n",
       "      <td>0.376172</td>\n",
       "      <td>0.967929</td>\n",
       "      <td>0.135893</td>\n",
       "      <td>0.135893</td>\n",
       "      <td>-0.103821</td>\n",
       "      <td>0.0</td>\n",
       "      <td>...</td>\n",
       "      <td>0.094923</td>\n",
       "      <td>-31.778106</td>\n",
       "      <td>0.358499</td>\n",
       "      <td>0.895500</td>\n",
       "      <td>0.178964</td>\n",
       "      <td>0.178964</td>\n",
       "      <td>-0.074464</td>\n",
       "      <td>0.0</td>\n",
       "      <td>0.0</td>\n",
       "      <td>False</td>\n",
       "    </tr>\n",
       "    <tr>\n",
       "      <th>259</th>\n",
       "      <td>26346.0</td>\n",
       "      <td>0.855388</td>\n",
       "      <td>0.122336</td>\n",
       "      <td>-30.751435</td>\n",
       "      <td>0.488752</td>\n",
       "      <td>0.609643</td>\n",
       "      <td>0.202036</td>\n",
       "      <td>0.202036</td>\n",
       "      <td>0.188321</td>\n",
       "      <td>0.0</td>\n",
       "      <td>...</td>\n",
       "      <td>0.083382</td>\n",
       "      <td>-39.407191</td>\n",
       "      <td>0.546918</td>\n",
       "      <td>0.523714</td>\n",
       "      <td>0.213571</td>\n",
       "      <td>0.213571</td>\n",
       "      <td>0.262714</td>\n",
       "      <td>0.0</td>\n",
       "      <td>0.0</td>\n",
       "      <td>False</td>\n",
       "    </tr>\n",
       "    <tr>\n",
       "      <th>260</th>\n",
       "      <td>26347.0</td>\n",
       "      <td>0.852070</td>\n",
       "      <td>0.125535</td>\n",
       "      <td>-43.857648</td>\n",
       "      <td>0.175750</td>\n",
       "      <td>0.235905</td>\n",
       "      <td>0.458540</td>\n",
       "      <td>0.458540</td>\n",
       "      <td>0.305556</td>\n",
       "      <td>0.0</td>\n",
       "      <td>...</td>\n",
       "      <td>0.085602</td>\n",
       "      <td>-47.646641</td>\n",
       "      <td>0.273320</td>\n",
       "      <td>0.282476</td>\n",
       "      <td>0.422794</td>\n",
       "      <td>0.422794</td>\n",
       "      <td>0.294730</td>\n",
       "      <td>0.0</td>\n",
       "      <td>0.0</td>\n",
       "      <td>False</td>\n",
       "    </tr>\n",
       "    <tr>\n",
       "      <th>261</th>\n",
       "      <td>26348.0</td>\n",
       "      <td>0.864797</td>\n",
       "      <td>0.125619</td>\n",
       "      <td>-34.010792</td>\n",
       "      <td>0.582796</td>\n",
       "      <td>0.502286</td>\n",
       "      <td>0.207270</td>\n",
       "      <td>0.207270</td>\n",
       "      <td>0.290444</td>\n",
       "      <td>0.0</td>\n",
       "      <td>...</td>\n",
       "      <td>0.119057</td>\n",
       "      <td>-29.326493</td>\n",
       "      <td>0.381822</td>\n",
       "      <td>0.791786</td>\n",
       "      <td>0.197679</td>\n",
       "      <td>0.197679</td>\n",
       "      <td>0.010536</td>\n",
       "      <td>0.0</td>\n",
       "      <td>0.0</td>\n",
       "      <td>False</td>\n",
       "    </tr>\n",
       "  </tbody>\n",
       "</table>\n",
       "<p>262 rows × 23 columns</p>\n",
       "</div>"
      ],
      "text/plain": [
       "       subID  r_squared_ses1  nrmse_ses1   aic_ses1  obj_center_ses1  \\\n",
       "0    26000.0        0.940373    0.089823 -35.492508         0.290396   \n",
       "1    26001.0        0.823224    0.147384 -35.444795         0.405999   \n",
       "2    26003.0        0.915302    0.110593 -26.826571         0.485000   \n",
       "3    26004.0        0.972040    0.051894 -43.866039         0.473363   \n",
       "4    26005.0        0.936739    0.089287 -38.116158         0.579699   \n",
       "..       ...             ...         ...        ...              ...   \n",
       "257  26343.0        0.881986    0.130820 -32.029021         0.398139   \n",
       "258  26344.0        0.868675    0.141112 -25.061996         0.376172   \n",
       "259  26346.0        0.855388    0.122336 -30.751435         0.488752   \n",
       "260  26347.0        0.852070    0.125535 -43.857648         0.175750   \n",
       "261  26348.0        0.864797    0.125619 -34.010792         0.582796   \n",
       "\n",
       "     slope_ses1  intercept_ses1  bias_xmin_ses1  bias_xmax_ses1  \\\n",
       "0      0.709500        0.293964        0.293964       -0.003464   \n",
       "1      0.386857        0.342937        0.342937        0.270206   \n",
       "2      1.000000        0.015000        0.015000       -0.015000   \n",
       "3      0.579214        0.225821        0.225821        0.194964   \n",
       "4      0.570000        0.169571        0.169571        0.260429   \n",
       "..          ...             ...             ...             ...   \n",
       "257    0.625500        0.250964        0.250964        0.123536   \n",
       "258    0.967929        0.135893        0.135893       -0.103821   \n",
       "259    0.609643        0.202036        0.202036        0.188321   \n",
       "260    0.235905        0.458540        0.458540        0.305556   \n",
       "261    0.502286        0.207270        0.207270        0.290444   \n",
       "\n",
       "     bias_lower_ses1  ...  nrmse_ses2   aic_ses2  obj_center_ses2  slope_ses2  \\\n",
       "0                0.0  ...    0.114475 -39.241819         0.124705    0.477381   \n",
       "1                0.0  ...    0.140828 -30.664804         0.495616    0.521357   \n",
       "2                0.0  ...    0.087003 -31.126282         0.507930    0.984191   \n",
       "3                0.0  ...    0.130596 -45.074530         0.202595    0.214714   \n",
       "4                0.0  ...    0.053982 -40.003157         0.369992    0.870643   \n",
       "..               ...  ...         ...        ...              ...         ...   \n",
       "257              0.0  ...    0.080978 -35.254970         0.427334    0.676286   \n",
       "258              0.0  ...    0.094923 -31.778106         0.358499    0.895500   \n",
       "259              0.0  ...    0.083382 -39.407191         0.546918    0.523714   \n",
       "260              0.0  ...    0.085602 -47.646641         0.273320    0.282476   \n",
       "261              0.0  ...    0.119057 -29.326493         0.381822    0.791786   \n",
       "\n",
       "     intercept_ses2  bias_xmin_ses2  bias_xmax_ses2  bias_lower_ses2  \\\n",
       "0          0.440468        0.440468        0.082151              0.0   \n",
       "1          0.241607        0.241607        0.237036              0.0   \n",
       "2          0.000100        0.000100        0.015709              0.0   \n",
       "3          0.456500        0.456500        0.328786              0.0   \n",
       "4          0.177869        0.177869       -0.048512              0.0   \n",
       "..              ...             ...             ...              ...   \n",
       "257        0.211000        0.211000        0.112714              0.0   \n",
       "258        0.178964        0.178964       -0.074464              0.0   \n",
       "259        0.213571        0.213571        0.262714              0.0   \n",
       "260        0.422794        0.422794        0.294730              0.0   \n",
       "261        0.197679        0.197679        0.010536              0.0   \n",
       "\n",
       "     bias_upper_ses2  flipped_ses2  \n",
       "0                0.0         False  \n",
       "1                0.0         False  \n",
       "2                0.0         False  \n",
       "3                0.0         False  \n",
       "4                0.0         False  \n",
       "..               ...           ...  \n",
       "257              0.0         False  \n",
       "258              0.0         False  \n",
       "259              0.0         False  \n",
       "260              0.0         False  \n",
       "261              0.0         False  \n",
       "\n",
       "[262 rows x 23 columns]"
      ]
     },
     "metadata": {},
     "execution_count": 75
    }
   ],
   "metadata": {}
  },
  {
   "cell_type": "code",
   "execution_count": 76,
   "source": [
    "print('before:',df_params_merge.shape)\n",
    "df_params_merge.dropna(inplace=True)\n",
    "df_params_merge.shape"
   ],
   "outputs": [
    {
     "output_type": "stream",
     "name": "stdout",
     "text": [
      "before: (262, 23)\n"
     ]
    },
    {
     "output_type": "execute_result",
     "data": {
      "text/plain": [
       "(252, 23)"
      ]
     },
     "metadata": {},
     "execution_count": 76
    }
   ],
   "metadata": {}
  },
  {
   "cell_type": "code",
   "execution_count": 77,
   "source": [
    "## import raw dataframes (rating)\n",
    "df_data_test = pd.read_csv(f'{root_data_file}/final_data_triallevel_sorted_ses1.csv')\n",
    "df_data_retest = pd.read_csv(f'{root_data_file}/final_data_triallevel_sorted_ses2.csv')"
   ],
   "outputs": [],
   "metadata": {}
  },
  {
   "cell_type": "markdown",
   "source": [
    "## Plotting all results: curves & ratings from ses 1 and ses 2"
   ],
   "metadata": {}
  },
  {
   "cell_type": "code",
   "execution_count": 78,
   "source": [
    "rootfile_results = '../../results/playfight/refit_across_sessions'"
   ],
   "outputs": [],
   "metadata": {}
  },
  {
   "cell_type": "code",
   "execution_count": 79,
   "source": [
    "# filter behavioral scores\n",
    "df_data_ses1 = df_data_test.loc[:, df_data_test.columns != 'stim_file']\n",
    "df_data_ses2 = df_data_retest.loc[:, df_data_retest.columns != 'stim_file']\n",
    "\n",
    "## preprocess the dataframe\n",
    "df_data_ses1 = df_data_test.loc[:, df_data_test.columns != 'stim_file']\n",
    "# df_data_ses1 = df_data_ses1.drop(['condition'], axis=1)\n",
    "df_data_ses1 = df_data_ses1.groupby(['subID','chargeSpeeds']).mean().reset_index()\n",
    "\n",
    "df_data_ses2 = df_data_retest.loc[:, df_data_retest.columns != 'stim_file']\n",
    "# df_data_ses2 = df_data_ses2.drop(['condition'], axis=1)\n",
    "df_data_ses2 = df_data_ses2.groupby(['subID','chargeSpeeds']).mean().reset_index()"
   ],
   "outputs": [],
   "metadata": {}
  },
  {
   "cell_type": "code",
   "execution_count": 80,
   "source": [
    "## merging the two rating df \n",
    "df_rating_merge = df_data_ses1.merge(df_data_ses2, on=['subID', 'chargeSpeeds'], suffixes = ('_ses1', '_ses2'))\n",
    "df_rating_merge.head()"
   ],
   "outputs": [
    {
     "output_type": "execute_result",
     "data": {
      "text/html": [
       "<div>\n",
       "<style scoped>\n",
       "    .dataframe tbody tr th:only-of-type {\n",
       "        vertical-align: middle;\n",
       "    }\n",
       "\n",
       "    .dataframe tbody tr th {\n",
       "        vertical-align: top;\n",
       "    }\n",
       "\n",
       "    .dataframe thead th {\n",
       "        text-align: right;\n",
       "    }\n",
       "</style>\n",
       "<table border=\"1\" class=\"dataframe\">\n",
       "  <thead>\n",
       "    <tr style=\"text-align: right;\">\n",
       "      <th></th>\n",
       "      <th>subID</th>\n",
       "      <th>chargeSpeeds</th>\n",
       "      <th>Unnamed: 0_ses1</th>\n",
       "      <th>stimset_rows_ses1</th>\n",
       "      <th>stim_dur_ses1</th>\n",
       "      <th>responses_ses1</th>\n",
       "      <th>RT_ses1</th>\n",
       "      <th>trial_num_ses1</th>\n",
       "      <th>Unnamed: 0_ses2</th>\n",
       "      <th>stimset_rows_ses2</th>\n",
       "      <th>stim_dur_ses2</th>\n",
       "      <th>responses_ses2</th>\n",
       "      <th>RT_ses2</th>\n",
       "      <th>trial_num_ses2</th>\n",
       "    </tr>\n",
       "  </thead>\n",
       "  <tbody>\n",
       "    <tr>\n",
       "      <th>0</th>\n",
       "      <td>26000</td>\n",
       "      <td>1.50</td>\n",
       "      <td>30.9</td>\n",
       "      <td>266.0</td>\n",
       "      <td>7718.3</td>\n",
       "      <td>3.5</td>\n",
       "      <td>2.061</td>\n",
       "      <td>30.9</td>\n",
       "      <td>36.6</td>\n",
       "      <td>NaN</td>\n",
       "      <td>7944.6</td>\n",
       "      <td>13.100000</td>\n",
       "      <td>2.470000</td>\n",
       "      <td>36.6</td>\n",
       "    </tr>\n",
       "    <tr>\n",
       "      <th>1</th>\n",
       "      <td>26000</td>\n",
       "      <td>2.75</td>\n",
       "      <td>25.9</td>\n",
       "      <td>266.0</td>\n",
       "      <td>7716.7</td>\n",
       "      <td>11.1</td>\n",
       "      <td>1.768</td>\n",
       "      <td>25.9</td>\n",
       "      <td>23.7</td>\n",
       "      <td>NaN</td>\n",
       "      <td>7948.5</td>\n",
       "      <td>13.333333</td>\n",
       "      <td>2.392222</td>\n",
       "      <td>23.7</td>\n",
       "    </tr>\n",
       "    <tr>\n",
       "      <th>2</th>\n",
       "      <td>26000</td>\n",
       "      <td>4.00</td>\n",
       "      <td>30.8</td>\n",
       "      <td>266.0</td>\n",
       "      <td>7716.3</td>\n",
       "      <td>25.8</td>\n",
       "      <td>1.914</td>\n",
       "      <td>30.8</td>\n",
       "      <td>24.6</td>\n",
       "      <td>NaN</td>\n",
       "      <td>7937.2</td>\n",
       "      <td>15.555556</td>\n",
       "      <td>3.117778</td>\n",
       "      <td>24.6</td>\n",
       "    </tr>\n",
       "    <tr>\n",
       "      <th>3</th>\n",
       "      <td>26000</td>\n",
       "      <td>5.25</td>\n",
       "      <td>41.1</td>\n",
       "      <td>266.0</td>\n",
       "      <td>7693.9</td>\n",
       "      <td>22.8</td>\n",
       "      <td>2.018</td>\n",
       "      <td>41.1</td>\n",
       "      <td>32.5</td>\n",
       "      <td>NaN</td>\n",
       "      <td>7942.2</td>\n",
       "      <td>35.300000</td>\n",
       "      <td>2.474000</td>\n",
       "      <td>32.5</td>\n",
       "    </tr>\n",
       "    <tr>\n",
       "      <th>4</th>\n",
       "      <td>26000</td>\n",
       "      <td>6.50</td>\n",
       "      <td>34.3</td>\n",
       "      <td>266.0</td>\n",
       "      <td>7700.8</td>\n",
       "      <td>45.6</td>\n",
       "      <td>1.680</td>\n",
       "      <td>34.3</td>\n",
       "      <td>41.7</td>\n",
       "      <td>NaN</td>\n",
       "      <td>7912.9</td>\n",
       "      <td>43.200000</td>\n",
       "      <td>2.162000</td>\n",
       "      <td>41.7</td>\n",
       "    </tr>\n",
       "  </tbody>\n",
       "</table>\n",
       "</div>"
      ],
      "text/plain": [
       "   subID  chargeSpeeds  Unnamed: 0_ses1  stimset_rows_ses1  stim_dur_ses1  \\\n",
       "0  26000          1.50             30.9              266.0         7718.3   \n",
       "1  26000          2.75             25.9              266.0         7716.7   \n",
       "2  26000          4.00             30.8              266.0         7716.3   \n",
       "3  26000          5.25             41.1              266.0         7693.9   \n",
       "4  26000          6.50             34.3              266.0         7700.8   \n",
       "\n",
       "   responses_ses1  RT_ses1  trial_num_ses1  Unnamed: 0_ses2  \\\n",
       "0             3.5    2.061            30.9             36.6   \n",
       "1            11.1    1.768            25.9             23.7   \n",
       "2            25.8    1.914            30.8             24.6   \n",
       "3            22.8    2.018            41.1             32.5   \n",
       "4            45.6    1.680            34.3             41.7   \n",
       "\n",
       "   stimset_rows_ses2  stim_dur_ses2  responses_ses2   RT_ses2  trial_num_ses2  \n",
       "0                NaN         7944.6       13.100000  2.470000            36.6  \n",
       "1                NaN         7948.5       13.333333  2.392222            23.7  \n",
       "2                NaN         7937.2       15.555556  3.117778            24.6  \n",
       "3                NaN         7942.2       35.300000  2.474000            32.5  \n",
       "4                NaN         7912.9       43.200000  2.162000            41.7  "
      ]
     },
     "metadata": {},
     "execution_count": 80
    }
   ],
   "metadata": {}
  },
  {
   "cell_type": "code",
   "execution_count": 81,
   "source": [
    "df_rating_merge.shape"
   ],
   "outputs": [
    {
     "output_type": "execute_result",
     "data": {
      "text/plain": [
       "(1834, 14)"
      ]
     },
     "metadata": {},
     "execution_count": 81
    }
   ],
   "metadata": {}
  },
  {
   "cell_type": "markdown",
   "source": [
    "## Fitting own data from one session to another"
   ],
   "metadata": {}
  },
  {
   "cell_type": "code",
   "execution_count": 82,
   "source": [
    "df_params_merge"
   ],
   "outputs": [
    {
     "output_type": "execute_result",
     "data": {
      "text/html": [
       "<div>\n",
       "<style scoped>\n",
       "    .dataframe tbody tr th:only-of-type {\n",
       "        vertical-align: middle;\n",
       "    }\n",
       "\n",
       "    .dataframe tbody tr th {\n",
       "        vertical-align: top;\n",
       "    }\n",
       "\n",
       "    .dataframe thead th {\n",
       "        text-align: right;\n",
       "    }\n",
       "</style>\n",
       "<table border=\"1\" class=\"dataframe\">\n",
       "  <thead>\n",
       "    <tr style=\"text-align: right;\">\n",
       "      <th></th>\n",
       "      <th>subID</th>\n",
       "      <th>r_squared_ses1</th>\n",
       "      <th>nrmse_ses1</th>\n",
       "      <th>aic_ses1</th>\n",
       "      <th>obj_center_ses1</th>\n",
       "      <th>slope_ses1</th>\n",
       "      <th>intercept_ses1</th>\n",
       "      <th>bias_xmin_ses1</th>\n",
       "      <th>bias_xmax_ses1</th>\n",
       "      <th>bias_lower_ses1</th>\n",
       "      <th>...</th>\n",
       "      <th>nrmse_ses2</th>\n",
       "      <th>aic_ses2</th>\n",
       "      <th>obj_center_ses2</th>\n",
       "      <th>slope_ses2</th>\n",
       "      <th>intercept_ses2</th>\n",
       "      <th>bias_xmin_ses2</th>\n",
       "      <th>bias_xmax_ses2</th>\n",
       "      <th>bias_lower_ses2</th>\n",
       "      <th>bias_upper_ses2</th>\n",
       "      <th>flipped_ses2</th>\n",
       "    </tr>\n",
       "  </thead>\n",
       "  <tbody>\n",
       "    <tr>\n",
       "      <th>0</th>\n",
       "      <td>26000.0</td>\n",
       "      <td>0.940373</td>\n",
       "      <td>0.089823</td>\n",
       "      <td>-35.492508</td>\n",
       "      <td>0.290396</td>\n",
       "      <td>0.709500</td>\n",
       "      <td>0.293964</td>\n",
       "      <td>0.293964</td>\n",
       "      <td>-0.003464</td>\n",
       "      <td>0.0</td>\n",
       "      <td>...</td>\n",
       "      <td>0.114475</td>\n",
       "      <td>-39.241819</td>\n",
       "      <td>0.124705</td>\n",
       "      <td>0.477381</td>\n",
       "      <td>0.440468</td>\n",
       "      <td>0.440468</td>\n",
       "      <td>0.082151</td>\n",
       "      <td>0.0</td>\n",
       "      <td>0.0</td>\n",
       "      <td>False</td>\n",
       "    </tr>\n",
       "    <tr>\n",
       "      <th>1</th>\n",
       "      <td>26001.0</td>\n",
       "      <td>0.823224</td>\n",
       "      <td>0.147384</td>\n",
       "      <td>-35.444795</td>\n",
       "      <td>0.405999</td>\n",
       "      <td>0.386857</td>\n",
       "      <td>0.342937</td>\n",
       "      <td>0.342937</td>\n",
       "      <td>0.270206</td>\n",
       "      <td>0.0</td>\n",
       "      <td>...</td>\n",
       "      <td>0.140828</td>\n",
       "      <td>-30.664804</td>\n",
       "      <td>0.495616</td>\n",
       "      <td>0.521357</td>\n",
       "      <td>0.241607</td>\n",
       "      <td>0.241607</td>\n",
       "      <td>0.237036</td>\n",
       "      <td>0.0</td>\n",
       "      <td>0.0</td>\n",
       "      <td>False</td>\n",
       "    </tr>\n",
       "    <tr>\n",
       "      <th>2</th>\n",
       "      <td>26003.0</td>\n",
       "      <td>0.915302</td>\n",
       "      <td>0.110593</td>\n",
       "      <td>-26.826571</td>\n",
       "      <td>0.485000</td>\n",
       "      <td>1.000000</td>\n",
       "      <td>0.015000</td>\n",
       "      <td>0.015000</td>\n",
       "      <td>-0.015000</td>\n",
       "      <td>0.0</td>\n",
       "      <td>...</td>\n",
       "      <td>0.087003</td>\n",
       "      <td>-31.126282</td>\n",
       "      <td>0.507930</td>\n",
       "      <td>0.984191</td>\n",
       "      <td>0.000100</td>\n",
       "      <td>0.000100</td>\n",
       "      <td>0.015709</td>\n",
       "      <td>0.0</td>\n",
       "      <td>0.0</td>\n",
       "      <td>False</td>\n",
       "    </tr>\n",
       "    <tr>\n",
       "      <th>3</th>\n",
       "      <td>26004.0</td>\n",
       "      <td>0.972040</td>\n",
       "      <td>0.051894</td>\n",
       "      <td>-43.866039</td>\n",
       "      <td>0.473363</td>\n",
       "      <td>0.579214</td>\n",
       "      <td>0.225821</td>\n",
       "      <td>0.225821</td>\n",
       "      <td>0.194964</td>\n",
       "      <td>0.0</td>\n",
       "      <td>...</td>\n",
       "      <td>0.130596</td>\n",
       "      <td>-45.074530</td>\n",
       "      <td>0.202595</td>\n",
       "      <td>0.214714</td>\n",
       "      <td>0.456500</td>\n",
       "      <td>0.456500</td>\n",
       "      <td>0.328786</td>\n",
       "      <td>0.0</td>\n",
       "      <td>0.0</td>\n",
       "      <td>False</td>\n",
       "    </tr>\n",
       "    <tr>\n",
       "      <th>4</th>\n",
       "      <td>26005.0</td>\n",
       "      <td>0.936739</td>\n",
       "      <td>0.089287</td>\n",
       "      <td>-38.116158</td>\n",
       "      <td>0.579699</td>\n",
       "      <td>0.570000</td>\n",
       "      <td>0.169571</td>\n",
       "      <td>0.169571</td>\n",
       "      <td>0.260429</td>\n",
       "      <td>0.0</td>\n",
       "      <td>...</td>\n",
       "      <td>0.053982</td>\n",
       "      <td>-40.003157</td>\n",
       "      <td>0.369992</td>\n",
       "      <td>0.870643</td>\n",
       "      <td>0.177869</td>\n",
       "      <td>0.177869</td>\n",
       "      <td>-0.048512</td>\n",
       "      <td>0.0</td>\n",
       "      <td>0.0</td>\n",
       "      <td>False</td>\n",
       "    </tr>\n",
       "    <tr>\n",
       "      <th>...</th>\n",
       "      <td>...</td>\n",
       "      <td>...</td>\n",
       "      <td>...</td>\n",
       "      <td>...</td>\n",
       "      <td>...</td>\n",
       "      <td>...</td>\n",
       "      <td>...</td>\n",
       "      <td>...</td>\n",
       "      <td>...</td>\n",
       "      <td>...</td>\n",
       "      <td>...</td>\n",
       "      <td>...</td>\n",
       "      <td>...</td>\n",
       "      <td>...</td>\n",
       "      <td>...</td>\n",
       "      <td>...</td>\n",
       "      <td>...</td>\n",
       "      <td>...</td>\n",
       "      <td>...</td>\n",
       "      <td>...</td>\n",
       "      <td>...</td>\n",
       "    </tr>\n",
       "    <tr>\n",
       "      <th>257</th>\n",
       "      <td>26343.0</td>\n",
       "      <td>0.881986</td>\n",
       "      <td>0.130820</td>\n",
       "      <td>-32.029021</td>\n",
       "      <td>0.398139</td>\n",
       "      <td>0.625500</td>\n",
       "      <td>0.250964</td>\n",
       "      <td>0.250964</td>\n",
       "      <td>0.123536</td>\n",
       "      <td>0.0</td>\n",
       "      <td>...</td>\n",
       "      <td>0.080978</td>\n",
       "      <td>-35.254970</td>\n",
       "      <td>0.427334</td>\n",
       "      <td>0.676286</td>\n",
       "      <td>0.211000</td>\n",
       "      <td>0.211000</td>\n",
       "      <td>0.112714</td>\n",
       "      <td>0.0</td>\n",
       "      <td>0.0</td>\n",
       "      <td>False</td>\n",
       "    </tr>\n",
       "    <tr>\n",
       "      <th>258</th>\n",
       "      <td>26344.0</td>\n",
       "      <td>0.868675</td>\n",
       "      <td>0.141112</td>\n",
       "      <td>-25.061996</td>\n",
       "      <td>0.376172</td>\n",
       "      <td>0.967929</td>\n",
       "      <td>0.135893</td>\n",
       "      <td>0.135893</td>\n",
       "      <td>-0.103821</td>\n",
       "      <td>0.0</td>\n",
       "      <td>...</td>\n",
       "      <td>0.094923</td>\n",
       "      <td>-31.778106</td>\n",
       "      <td>0.358499</td>\n",
       "      <td>0.895500</td>\n",
       "      <td>0.178964</td>\n",
       "      <td>0.178964</td>\n",
       "      <td>-0.074464</td>\n",
       "      <td>0.0</td>\n",
       "      <td>0.0</td>\n",
       "      <td>False</td>\n",
       "    </tr>\n",
       "    <tr>\n",
       "      <th>259</th>\n",
       "      <td>26346.0</td>\n",
       "      <td>0.855388</td>\n",
       "      <td>0.122336</td>\n",
       "      <td>-30.751435</td>\n",
       "      <td>0.488752</td>\n",
       "      <td>0.609643</td>\n",
       "      <td>0.202036</td>\n",
       "      <td>0.202036</td>\n",
       "      <td>0.188321</td>\n",
       "      <td>0.0</td>\n",
       "      <td>...</td>\n",
       "      <td>0.083382</td>\n",
       "      <td>-39.407191</td>\n",
       "      <td>0.546918</td>\n",
       "      <td>0.523714</td>\n",
       "      <td>0.213571</td>\n",
       "      <td>0.213571</td>\n",
       "      <td>0.262714</td>\n",
       "      <td>0.0</td>\n",
       "      <td>0.0</td>\n",
       "      <td>False</td>\n",
       "    </tr>\n",
       "    <tr>\n",
       "      <th>260</th>\n",
       "      <td>26347.0</td>\n",
       "      <td>0.852070</td>\n",
       "      <td>0.125535</td>\n",
       "      <td>-43.857648</td>\n",
       "      <td>0.175750</td>\n",
       "      <td>0.235905</td>\n",
       "      <td>0.458540</td>\n",
       "      <td>0.458540</td>\n",
       "      <td>0.305556</td>\n",
       "      <td>0.0</td>\n",
       "      <td>...</td>\n",
       "      <td>0.085602</td>\n",
       "      <td>-47.646641</td>\n",
       "      <td>0.273320</td>\n",
       "      <td>0.282476</td>\n",
       "      <td>0.422794</td>\n",
       "      <td>0.422794</td>\n",
       "      <td>0.294730</td>\n",
       "      <td>0.0</td>\n",
       "      <td>0.0</td>\n",
       "      <td>False</td>\n",
       "    </tr>\n",
       "    <tr>\n",
       "      <th>261</th>\n",
       "      <td>26348.0</td>\n",
       "      <td>0.864797</td>\n",
       "      <td>0.125619</td>\n",
       "      <td>-34.010792</td>\n",
       "      <td>0.582796</td>\n",
       "      <td>0.502286</td>\n",
       "      <td>0.207270</td>\n",
       "      <td>0.207270</td>\n",
       "      <td>0.290444</td>\n",
       "      <td>0.0</td>\n",
       "      <td>...</td>\n",
       "      <td>0.119057</td>\n",
       "      <td>-29.326493</td>\n",
       "      <td>0.381822</td>\n",
       "      <td>0.791786</td>\n",
       "      <td>0.197679</td>\n",
       "      <td>0.197679</td>\n",
       "      <td>0.010536</td>\n",
       "      <td>0.0</td>\n",
       "      <td>0.0</td>\n",
       "      <td>False</td>\n",
       "    </tr>\n",
       "  </tbody>\n",
       "</table>\n",
       "<p>252 rows × 23 columns</p>\n",
       "</div>"
      ],
      "text/plain": [
       "       subID  r_squared_ses1  nrmse_ses1   aic_ses1  obj_center_ses1  \\\n",
       "0    26000.0        0.940373    0.089823 -35.492508         0.290396   \n",
       "1    26001.0        0.823224    0.147384 -35.444795         0.405999   \n",
       "2    26003.0        0.915302    0.110593 -26.826571         0.485000   \n",
       "3    26004.0        0.972040    0.051894 -43.866039         0.473363   \n",
       "4    26005.0        0.936739    0.089287 -38.116158         0.579699   \n",
       "..       ...             ...         ...        ...              ...   \n",
       "257  26343.0        0.881986    0.130820 -32.029021         0.398139   \n",
       "258  26344.0        0.868675    0.141112 -25.061996         0.376172   \n",
       "259  26346.0        0.855388    0.122336 -30.751435         0.488752   \n",
       "260  26347.0        0.852070    0.125535 -43.857648         0.175750   \n",
       "261  26348.0        0.864797    0.125619 -34.010792         0.582796   \n",
       "\n",
       "     slope_ses1  intercept_ses1  bias_xmin_ses1  bias_xmax_ses1  \\\n",
       "0      0.709500        0.293964        0.293964       -0.003464   \n",
       "1      0.386857        0.342937        0.342937        0.270206   \n",
       "2      1.000000        0.015000        0.015000       -0.015000   \n",
       "3      0.579214        0.225821        0.225821        0.194964   \n",
       "4      0.570000        0.169571        0.169571        0.260429   \n",
       "..          ...             ...             ...             ...   \n",
       "257    0.625500        0.250964        0.250964        0.123536   \n",
       "258    0.967929        0.135893        0.135893       -0.103821   \n",
       "259    0.609643        0.202036        0.202036        0.188321   \n",
       "260    0.235905        0.458540        0.458540        0.305556   \n",
       "261    0.502286        0.207270        0.207270        0.290444   \n",
       "\n",
       "     bias_lower_ses1  ...  nrmse_ses2   aic_ses2  obj_center_ses2  slope_ses2  \\\n",
       "0                0.0  ...    0.114475 -39.241819         0.124705    0.477381   \n",
       "1                0.0  ...    0.140828 -30.664804         0.495616    0.521357   \n",
       "2                0.0  ...    0.087003 -31.126282         0.507930    0.984191   \n",
       "3                0.0  ...    0.130596 -45.074530         0.202595    0.214714   \n",
       "4                0.0  ...    0.053982 -40.003157         0.369992    0.870643   \n",
       "..               ...  ...         ...        ...              ...         ...   \n",
       "257              0.0  ...    0.080978 -35.254970         0.427334    0.676286   \n",
       "258              0.0  ...    0.094923 -31.778106         0.358499    0.895500   \n",
       "259              0.0  ...    0.083382 -39.407191         0.546918    0.523714   \n",
       "260              0.0  ...    0.085602 -47.646641         0.273320    0.282476   \n",
       "261              0.0  ...    0.119057 -29.326493         0.381822    0.791786   \n",
       "\n",
       "     intercept_ses2  bias_xmin_ses2  bias_xmax_ses2  bias_lower_ses2  \\\n",
       "0          0.440468        0.440468        0.082151              0.0   \n",
       "1          0.241607        0.241607        0.237036              0.0   \n",
       "2          0.000100        0.000100        0.015709              0.0   \n",
       "3          0.456500        0.456500        0.328786              0.0   \n",
       "4          0.177869        0.177869       -0.048512              0.0   \n",
       "..              ...             ...             ...              ...   \n",
       "257        0.211000        0.211000        0.112714              0.0   \n",
       "258        0.178964        0.178964       -0.074464              0.0   \n",
       "259        0.213571        0.213571        0.262714              0.0   \n",
       "260        0.422794        0.422794        0.294730              0.0   \n",
       "261        0.197679        0.197679        0.010536              0.0   \n",
       "\n",
       "     bias_upper_ses2  flipped_ses2  \n",
       "0                0.0         False  \n",
       "1                0.0         False  \n",
       "2                0.0         False  \n",
       "3                0.0         False  \n",
       "4                0.0         False  \n",
       "..               ...           ...  \n",
       "257              0.0         False  \n",
       "258              0.0         False  \n",
       "259              0.0         False  \n",
       "260              0.0         False  \n",
       "261              0.0         False  \n",
       "\n",
       "[252 rows x 23 columns]"
      ]
     },
     "metadata": {},
     "execution_count": 82
    }
   ],
   "metadata": {}
  },
  {
   "cell_type": "code",
   "execution_count": 83,
   "source": [
    "s=16 # CHANGE FONTSIZE HERE\n",
    "plt.rc('font', size=s) #controls default text size\n",
    "plt.rc('axes', titlesize=s) #fontsize of the title\n",
    "plt.rc('axes', labelsize=s) #fontsize of the x and y labels\n",
    "plt.rc('xtick', labelsize=s) #fontsize of the x tick labels\n",
    "plt.rc('ytick', labelsize=s) #fontsize of the y tick labels\n",
    "plt.rc('legend', fontsize=s) #fontsize of the legend"
   ],
   "outputs": [],
   "metadata": {}
  },
  {
   "cell_type": "code",
   "execution_count": 86,
   "source": [
    "# function that plots refit graph for self\n",
    "def plot_refit_curvefit_self(nrows, ncols, df_params, df_rating, param_ses, rating_ses, flname,title):#, r2_list, rmse_list):\n",
    "    # arguments: \n",
    "    # nrow,ncol - nr of rows and columns in the plot\n",
    "    # df_params, df_rating: curve fit param and raw data dataframes\n",
    "    # param_ses: train session, rating_ses: test ses\n",
    "    # flname: full filename to save results in\n",
    "    # ((not there anymore: r2_list, rmse_list - empty lists to store r1 and rmse in))\n",
    "    # ((returning: nothing. the r2 and rmse lists update outside the function automatically))\n",
    "    # returning: dataframe with subID, r2 and rmse\n",
    "\n",
    "    r2_list = []\n",
    "    rmse_list = []\n",
    "    subID_all = []\n",
    "    fig,axs = plt.subplots(nrows=nrows, ncols=ncols, figsize=(ncols*2,nrows*2.1), sharey=True,sharex=True)#(20, 70))\n",
    "    \n",
    "    # for isub in range(350):\n",
    "    for isub,subID in enumerate(df_params_merge['subID']):\n",
    "        # print(isub,subID)\n",
    "        # ax = plt.subplot(nrows, ncols, isub)\n",
    "        r = int(np.floor(isub/ncols))\n",
    "        c = isub%ncols\n",
    "        ax = axs[r,c]\n",
    "        ax.set_xlim(-0.05, 1.05)\n",
    "        ax.set_ylim(-0.05, 1.05)\n",
    "\n",
    "        # subID =  isub+1\n",
    "\n",
    "        if isub%50 == 0:\n",
    "            print('subID=',subID)\n",
    "\n",
    "        # try:\n",
    "        # behavior\n",
    "        xfit = 1-(df_rating.loc[df_rating['subID'] ==subID, 'chargeSpeeds'].values-1.5) / 7.5\n",
    "        yfit = (100-df_rating.loc[df_rating['subID'] == subID, f'responses_ses{rating_ses}'].values)/100 #for playfulness\n",
    "        \n",
    "        # print(xfit)\n",
    "        x = np.array(xfit)\n",
    "        y = np.array(yfit)\n",
    "\n",
    "        # print(xfit,yfit)\n",
    "\n",
    "        # Plot behavioral dots\n",
    "        ax.plot(x, y, '.', alpha=0.5, color='black')\n",
    "\n",
    "        intercept = df_params_merge.loc[df_params_merge['subID'] == subID, f'intercept_ses{param_ses}'].values #f'bias_xmin_ses{param_ses}'].values\n",
    "        slope = df_params_merge.loc[df_params_merge['subID'] == subID, f'slope_ses{param_ses}'].values #f'bias_xmin_ses{param_ses}'].values\n",
    "        # center = df_params_merge.loc[df_params_merge['subID'] == subID, f'center_ses{param_ses}'].values\n",
    "        # sigma = df_params_merge.loc[df_params_merge['subID'] == subID, f'sigma_ses{param_ses}'].values\n",
    "        # bias_upper = df_params_merge.loc[df_params_merge['subID'] == subID, f'bias_xmax_ses{param_ses}'].values\n",
    "\n",
    "        # amplitude = 1 - intercept - bias_upper\n",
    "        x_values = np.linspace(np.nanmin(x), np.nanmax(x), 100)\n",
    "        # y_values = intercept + amplitude * sigmoid(x_values, sigma, center)\n",
    "        y_values = linear(x_values, slope, intercept)\n",
    "\n",
    "        # Plot the curves\n",
    "        ax.plot(x_values, y_values, '-', color='tab:red')\n",
    "\n",
    "        # Calculate the r_squared and rmse\n",
    "        y_pred = linear(x, slope, intercept) #intercept + amplitude * sigmoid(x, sigma, center)\n",
    "        r_sq = r_squared(y, y_pred)\n",
    "        rmse = normalized_error(y, y_pred)\n",
    "\n",
    "        r2_list.append(r_sq)\n",
    "        rmse_list.append(rmse)\n",
    "        subID_all.append(subID)\n",
    "\n",
    "        if rmse <= 0.2:\n",
    "            color = 'k'\n",
    "        else:\n",
    "            color = 'r'\n",
    "        ax.set_title(f'Subject {subID}')\n",
    "        ax.annotate(\"r_2: %.2f\" % r_sq, xy=(1, 0.2), xycoords ='axes fraction', color=color,ha='right')\n",
    "        ax.annotate(\"rmse: %.2f\" % rmse, xy=(1, 0), xycoords ='axes fraction', color=color,ha='right')\n",
    "\n",
    "        # except:\n",
    "        #     print('isub, error!')\n",
    "        #     plt.delaxes(ax)  \n",
    "        #     r2_list.append(np.nan) # to keep list the same length as df\n",
    "        #     rmse_list.append(np.nan)\n",
    "        #     subID_all.append(subID)      \n",
    "        \n",
    "        ax.set_xticks([0,1],['9','1.5'])\n",
    "    \n",
    "        # break\n",
    "\n",
    "    for isub in np.arange(df_params_merge.shape[0],nrows*ncols):\n",
    "        ax =  plt.subplot(nrows, ncols, isub + 1)\n",
    "        plt.delaxes(ax)  \n",
    "\n",
    "    plt.suptitle(title, fontweight='bold',fontsize=24)\n",
    "    plt.tight_layout() \n",
    "    plt.subplots_adjust(wspace=0.5, hspace=0.5) \n",
    "    plt.savefig(flname, facecolor='w')\n",
    "    plt.clf()\n",
    "    \n",
    "    df = pd.DataFrame({'subID':subID_all,'R2':r2_list, 'RMSE': rmse_list})\n",
    "    \n",
    "    return df"
   ],
   "outputs": [],
   "metadata": {}
  },
  {
   "cell_type": "code",
   "execution_count": 87,
   "source": [
    "df_params_merge.shape"
   ],
   "outputs": [
    {
     "output_type": "execute_result",
     "data": {
      "text/plain": [
       "(252, 23)"
      ]
     },
     "metadata": {},
     "execution_count": 87
    }
   ],
   "metadata": {}
  },
  {
   "cell_type": "code",
   "execution_count": 88,
   "source": [
    "df_params_merge.loc[np.isnan(df_params_merge['intercept_ses1']),:]"
   ],
   "outputs": [
    {
     "output_type": "execute_result",
     "data": {
      "text/html": [
       "<div>\n",
       "<style scoped>\n",
       "    .dataframe tbody tr th:only-of-type {\n",
       "        vertical-align: middle;\n",
       "    }\n",
       "\n",
       "    .dataframe tbody tr th {\n",
       "        vertical-align: top;\n",
       "    }\n",
       "\n",
       "    .dataframe thead th {\n",
       "        text-align: right;\n",
       "    }\n",
       "</style>\n",
       "<table border=\"1\" class=\"dataframe\">\n",
       "  <thead>\n",
       "    <tr style=\"text-align: right;\">\n",
       "      <th></th>\n",
       "      <th>subID</th>\n",
       "      <th>r_squared_ses1</th>\n",
       "      <th>nrmse_ses1</th>\n",
       "      <th>aic_ses1</th>\n",
       "      <th>obj_center_ses1</th>\n",
       "      <th>slope_ses1</th>\n",
       "      <th>intercept_ses1</th>\n",
       "      <th>bias_xmin_ses1</th>\n",
       "      <th>bias_xmax_ses1</th>\n",
       "      <th>bias_lower_ses1</th>\n",
       "      <th>...</th>\n",
       "      <th>nrmse_ses2</th>\n",
       "      <th>aic_ses2</th>\n",
       "      <th>obj_center_ses2</th>\n",
       "      <th>slope_ses2</th>\n",
       "      <th>intercept_ses2</th>\n",
       "      <th>bias_xmin_ses2</th>\n",
       "      <th>bias_xmax_ses2</th>\n",
       "      <th>bias_lower_ses2</th>\n",
       "      <th>bias_upper_ses2</th>\n",
       "      <th>flipped_ses2</th>\n",
       "    </tr>\n",
       "  </thead>\n",
       "  <tbody>\n",
       "  </tbody>\n",
       "</table>\n",
       "<p>0 rows × 23 columns</p>\n",
       "</div>"
      ],
      "text/plain": [
       "Empty DataFrame\n",
       "Columns: [subID, r_squared_ses1, nrmse_ses1, aic_ses1, obj_center_ses1, slope_ses1, intercept_ses1, bias_xmin_ses1, bias_xmax_ses1, bias_lower_ses1, bias_upper_ses1, flipped_ses1, r_squared_ses2, nrmse_ses2, aic_ses2, obj_center_ses2, slope_ses2, intercept_ses2, bias_xmin_ses2, bias_xmax_ses2, bias_lower_ses2, bias_upper_ses2, flipped_ses2]\n",
       "Index: []\n",
       "\n",
       "[0 rows x 23 columns]"
      ]
     },
     "metadata": {},
     "execution_count": 88
    }
   ],
   "metadata": {}
  },
  {
   "cell_type": "code",
   "execution_count": 89,
   "source": [
    "df_params_merge.loc[np.isnan(df_params_merge['intercept_ses2']),:]"
   ],
   "outputs": [
    {
     "output_type": "execute_result",
     "data": {
      "text/html": [
       "<div>\n",
       "<style scoped>\n",
       "    .dataframe tbody tr th:only-of-type {\n",
       "        vertical-align: middle;\n",
       "    }\n",
       "\n",
       "    .dataframe tbody tr th {\n",
       "        vertical-align: top;\n",
       "    }\n",
       "\n",
       "    .dataframe thead th {\n",
       "        text-align: right;\n",
       "    }\n",
       "</style>\n",
       "<table border=\"1\" class=\"dataframe\">\n",
       "  <thead>\n",
       "    <tr style=\"text-align: right;\">\n",
       "      <th></th>\n",
       "      <th>subID</th>\n",
       "      <th>r_squared_ses1</th>\n",
       "      <th>nrmse_ses1</th>\n",
       "      <th>aic_ses1</th>\n",
       "      <th>obj_center_ses1</th>\n",
       "      <th>slope_ses1</th>\n",
       "      <th>intercept_ses1</th>\n",
       "      <th>bias_xmin_ses1</th>\n",
       "      <th>bias_xmax_ses1</th>\n",
       "      <th>bias_lower_ses1</th>\n",
       "      <th>...</th>\n",
       "      <th>nrmse_ses2</th>\n",
       "      <th>aic_ses2</th>\n",
       "      <th>obj_center_ses2</th>\n",
       "      <th>slope_ses2</th>\n",
       "      <th>intercept_ses2</th>\n",
       "      <th>bias_xmin_ses2</th>\n",
       "      <th>bias_xmax_ses2</th>\n",
       "      <th>bias_lower_ses2</th>\n",
       "      <th>bias_upper_ses2</th>\n",
       "      <th>flipped_ses2</th>\n",
       "    </tr>\n",
       "  </thead>\n",
       "  <tbody>\n",
       "  </tbody>\n",
       "</table>\n",
       "<p>0 rows × 23 columns</p>\n",
       "</div>"
      ],
      "text/plain": [
       "Empty DataFrame\n",
       "Columns: [subID, r_squared_ses1, nrmse_ses1, aic_ses1, obj_center_ses1, slope_ses1, intercept_ses1, bias_xmin_ses1, bias_xmax_ses1, bias_lower_ses1, bias_upper_ses1, flipped_ses1, r_squared_ses2, nrmse_ses2, aic_ses2, obj_center_ses2, slope_ses2, intercept_ses2, bias_xmin_ses2, bias_xmax_ses2, bias_lower_ses2, bias_upper_ses2, flipped_ses2]\n",
       "Index: []\n",
       "\n",
       "[0 rows x 23 columns]"
      ]
     },
     "metadata": {},
     "execution_count": 89
    }
   ],
   "metadata": {}
  },
  {
   "cell_type": "code",
   "execution_count": 90,
   "source": [
    "df_params_merge.dropna().shape"
   ],
   "outputs": [
    {
     "output_type": "execute_result",
     "data": {
      "text/plain": [
       "(252, 23)"
      ]
     },
     "metadata": {},
     "execution_count": 90
    }
   ],
   "metadata": {}
  },
  {
   "cell_type": "code",
   "execution_count": 91,
   "source": [
    "df_params_merge.dropna(inplace=True)\n",
    "df_params_merge.shape"
   ],
   "outputs": [
    {
     "output_type": "execute_result",
     "data": {
      "text/plain": [
       "(252, 23)"
      ]
     },
     "metadata": {},
     "execution_count": 91
    }
   ],
   "metadata": {}
  },
  {
   "cell_type": "code",
   "execution_count": 92,
   "source": [
    "nrows, ncols = 14, 20"
   ],
   "outputs": [],
   "metadata": {}
  },
  {
   "cell_type": "code",
   "execution_count": 93,
   "source": [
    "self_fit_ses1"
   ],
   "outputs": [
    {
     "output_type": "execute_result",
     "data": {
      "text/html": [
       "<div>\n",
       "<style scoped>\n",
       "    .dataframe tbody tr th:only-of-type {\n",
       "        vertical-align: middle;\n",
       "    }\n",
       "\n",
       "    .dataframe tbody tr th {\n",
       "        vertical-align: top;\n",
       "    }\n",
       "\n",
       "    .dataframe thead th {\n",
       "        text-align: right;\n",
       "    }\n",
       "</style>\n",
       "<table border=\"1\" class=\"dataframe\">\n",
       "  <thead>\n",
       "    <tr style=\"text-align: right;\">\n",
       "      <th></th>\n",
       "      <th>subID</th>\n",
       "      <th>R2</th>\n",
       "      <th>RMSE</th>\n",
       "    </tr>\n",
       "  </thead>\n",
       "  <tbody>\n",
       "    <tr>\n",
       "      <th>0</th>\n",
       "      <td>26000.0</td>\n",
       "      <td>0.940373</td>\n",
       "      <td>0.089823</td>\n",
       "    </tr>\n",
       "    <tr>\n",
       "      <th>1</th>\n",
       "      <td>26001.0</td>\n",
       "      <td>0.823224</td>\n",
       "      <td>0.147384</td>\n",
       "    </tr>\n",
       "    <tr>\n",
       "      <th>2</th>\n",
       "      <td>26003.0</td>\n",
       "      <td>0.915302</td>\n",
       "      <td>0.110593</td>\n",
       "    </tr>\n",
       "    <tr>\n",
       "      <th>3</th>\n",
       "      <td>26004.0</td>\n",
       "      <td>0.972040</td>\n",
       "      <td>0.051894</td>\n",
       "    </tr>\n",
       "    <tr>\n",
       "      <th>4</th>\n",
       "      <td>26005.0</td>\n",
       "      <td>0.936739</td>\n",
       "      <td>0.089287</td>\n",
       "    </tr>\n",
       "    <tr>\n",
       "      <th>...</th>\n",
       "      <td>...</td>\n",
       "      <td>...</td>\n",
       "      <td>...</td>\n",
       "    </tr>\n",
       "    <tr>\n",
       "      <th>257</th>\n",
       "      <td>26343.0</td>\n",
       "      <td>0.881986</td>\n",
       "      <td>0.130820</td>\n",
       "    </tr>\n",
       "    <tr>\n",
       "      <th>258</th>\n",
       "      <td>26344.0</td>\n",
       "      <td>0.868675</td>\n",
       "      <td>0.141112</td>\n",
       "    </tr>\n",
       "    <tr>\n",
       "      <th>259</th>\n",
       "      <td>26346.0</td>\n",
       "      <td>0.855388</td>\n",
       "      <td>0.122336</td>\n",
       "    </tr>\n",
       "    <tr>\n",
       "      <th>260</th>\n",
       "      <td>26347.0</td>\n",
       "      <td>0.852070</td>\n",
       "      <td>0.125535</td>\n",
       "    </tr>\n",
       "    <tr>\n",
       "      <th>261</th>\n",
       "      <td>26348.0</td>\n",
       "      <td>0.864797</td>\n",
       "      <td>0.125619</td>\n",
       "    </tr>\n",
       "  </tbody>\n",
       "</table>\n",
       "<p>262 rows × 3 columns</p>\n",
       "</div>"
      ],
      "text/plain": [
       "       subID        R2      RMSE\n",
       "0    26000.0  0.940373  0.089823\n",
       "1    26001.0  0.823224  0.147384\n",
       "2    26003.0  0.915302  0.110593\n",
       "3    26004.0  0.972040  0.051894\n",
       "4    26005.0  0.936739  0.089287\n",
       "..       ...       ...       ...\n",
       "257  26343.0  0.881986  0.130820\n",
       "258  26344.0  0.868675  0.141112\n",
       "259  26346.0  0.855388  0.122336\n",
       "260  26347.0  0.852070  0.125535\n",
       "261  26348.0  0.864797  0.125619\n",
       "\n",
       "[262 rows x 3 columns]"
      ]
     },
     "metadata": {},
     "execution_count": 93
    }
   ],
   "metadata": {}
  },
  {
   "cell_type": "code",
   "execution_count": 94,
   "source": [
    "# Fitting ses 1 (curvefit param) to ses 1 (behavioral rating)\n",
    "# self_r_sqaure_ses1_t_ses1 = []\n",
    "# self_rmse_ses1_t_ses1 = []\n",
    "title = 'ses1_to_ses1'\n",
    "flname = f'{rootfile_results}/sublevel/{title}_sublevel.png'\n",
    "self_fit_ses1 = plot_refit_curvefit_self(nrows, ncols, df_params_merge, df_rating_merge,\n",
    "                    1, 1,flname,title)#, self_r_sqaure_ses1_t_ses1, self_rmse_ses1_t_ses1)"
   ],
   "outputs": [
    {
     "output_type": "stream",
     "name": "stdout",
     "text": [
      "subID= 26000.0\n",
      "subID= 26079.0\n",
      "subID= 26137.0\n",
      "subID= 26215.0\n",
      "subID= 26280.0\n",
      "subID= 26347.0\n"
     ]
    },
    {
     "output_type": "display_data",
     "data": {
      "text/plain": [
       "<Figure size 2880x2116.8 with 0 Axes>"
      ]
     },
     "metadata": {}
    }
   ],
   "metadata": {}
  },
  {
   "cell_type": "code",
   "execution_count": 95,
   "source": [
    "# Fitting ses 2  (curvefit param) to ses 2 (behavioral rating)\n",
    "# self_r_sqaure_ses2_t_ses2 = []\n",
    "# self_rmse_ses2_t_ses2 = []\n",
    "title = 'ses2_to_ses2' \n",
    "flname = f'{rootfile_results}/sublevel/{title}_sublevel.png'\n",
    "self_fit_ses2 = plot_refit_curvefit_self(nrows, ncols, df_params_merge, df_rating_merge,\n",
    "                    2, 2, flname,title) #self_r_sqaure_ses2_t_ses2, self_rmse_ses2_t_ses2)"
   ],
   "outputs": [
    {
     "output_type": "stream",
     "name": "stdout",
     "text": [
      "subID= 26000.0\n",
      "subID= 26079.0\n",
      "subID= 26137.0\n",
      "subID= 26215.0\n",
      "subID= 26280.0\n",
      "subID= 26347.0\n"
     ]
    },
    {
     "output_type": "display_data",
     "data": {
      "text/plain": [
       "<Figure size 2880x2116.8 with 0 Axes>"
      ]
     },
     "metadata": {}
    }
   ],
   "metadata": {}
  },
  {
   "cell_type": "code",
   "execution_count": 96,
   "source": [
    "# Fitting ses 1 (curvefit param) to ses 2 (behavioral rating)\n",
    "# self_r_sqaure_ses1_t_ses2 = []\n",
    "# self_rmse_ses1_t_ses2 = []\n",
    "title = 'ses1_to_ses2' \n",
    "flname = f'{rootfile_results}/sublevel/{title}_sublevel.png'\n",
    "cross_fit_ses1to2 = plot_refit_curvefit_self(nrows, ncols, df_params_merge, df_rating_merge,\n",
    "                    1, 2,flname,title) #, self_r_sqaure_ses1_t_ses2, self_rmse_ses1_t_ses2)"
   ],
   "outputs": [
    {
     "output_type": "stream",
     "name": "stdout",
     "text": [
      "subID= 26000.0\n",
      "subID= 26079.0\n",
      "subID= 26137.0\n",
      "subID= 26215.0\n",
      "subID= 26280.0\n",
      "subID= 26347.0\n"
     ]
    },
    {
     "output_type": "display_data",
     "data": {
      "text/plain": [
       "<Figure size 2880x2116.8 with 0 Axes>"
      ]
     },
     "metadata": {}
    }
   ],
   "metadata": {
    "scrolled": true
   }
  },
  {
   "cell_type": "code",
   "execution_count": 97,
   "source": [
    "# Fitting ses 2 (curvefit param) to ses 1 (behavioral rating)\n",
    "# self_r_sqaure_ses2_t_ses1 = []\n",
    "# self_rmse_ses2_t_ses1 = []\n",
    "title = 'ses2_to_ses1'\n",
    "flname = f'{rootfile_results}/sublevel/{title}_sublevel.png'\n",
    "cross_fit_ses2to1 = plot_refit_curvefit_self(nrows, ncols, df_params_merge, df_rating_merge,\n",
    "                    2, 1, flname,title)#, self_r_sqaure_ses2_t_ses1, self_rmse_ses2_t_ses1)"
   ],
   "outputs": [
    {
     "output_type": "stream",
     "name": "stdout",
     "text": [
      "subID= 26000.0\n",
      "subID= 26079.0\n",
      "subID= 26137.0\n",
      "subID= 26215.0\n",
      "subID= 26280.0\n",
      "subID= 26347.0\n"
     ]
    },
    {
     "output_type": "display_data",
     "data": {
      "text/plain": [
       "<Figure size 2880x2116.8 with 0 Axes>"
      ]
     },
     "metadata": {}
    }
   ],
   "metadata": {
    "scrolled": true
   }
  },
  {
   "cell_type": "markdown",
   "source": [
    "## Fitting mean of all other participants to self"
   ],
   "metadata": {}
  },
  {
   "cell_type": "code",
   "execution_count": 114,
   "source": [
    "## fit the mean to self\n",
    "def plot_refit_curvefit_mean(nrows, ncols, df_params, df_rating, param_ses, rating_ses, flname, title):#, r2_list, rmse_list):\n",
    "    # compares each sub's true data (test) to mean data from another session excluding that sub(train)\n",
    "    \n",
    "    # arguments: \n",
    "    # nrow,ncol - nr of rows and columns in the plot\n",
    "    # df_params, df_rating: curve fit param and raw data dataframes\n",
    "    # param_ses: train session, rating_ses: test ses\n",
    "    # flname: full filename to save results in\n",
    "    # ((not there anymore: r2_list, rmse_list - empty lists to store r1 and rmse in))\n",
    "    # ((returning: nothing. the r2 and rmse lists update outside the function automatically))\n",
    "    # returning: dataframe with subID, r2 and rmse\n",
    "\n",
    "    subID_all = []\n",
    "    r2_list = []\n",
    "    rmse_list = []\n",
    "\n",
    "    # plt.subplots(nrows=nrow, ncols=ncol, figsize=(20, 70))\n",
    "    fig,axs = plt.subplots(nrows=nrows, ncols=ncols, figsize=(ncols*3.25,nrows*3), sharey=True,sharex=True)#(20, 70))\n",
    "    \n",
    "    for isub,subID in enumerate(df_params_merge['subID']):\n",
    "    # for isub in range(350):\n",
    "        r = int(np.floor(isub/ncols))\n",
    "        c = isub%ncols\n",
    "        ax = axs[r,c]\n",
    "        # ax = plt.subplot(nrow, ncol, isub + 1)\n",
    "        ax.set_xlim(-0.05, 1.05)\n",
    "        ax.set_ylim(-0.05, 1.05)\n",
    "\n",
    "        if isub%50==0:\n",
    "            print('subID=',subID)\n",
    "\n",
    "        # try:\n",
    "        # behavior\n",
    "        xfit = 1-(df_rating.loc[df_rating['subID'] ==subID, 'chargeSpeeds'].values-1.5) / 7.5\n",
    "        yfit = (100-df_rating.loc[df_rating['subID'] == subID, f'responses_ses{rating_ses}'].values)/100 #for playfulness\n",
    "         \n",
    "        x = np.array(xfit)\n",
    "        y = np.array(yfit)\n",
    "\n",
    "        # Plot behavioral dots\n",
    "        ax.plot(x, y, '.', alpha=0.5, color='black')\n",
    "\n",
    "        df_temp = df_params_merge[df_params_merge['subID'] != subID].copy() # exclude current sub\n",
    "        # other_mean: curve fit\n",
    "        param_mean = df_temp.mean()\n",
    "\n",
    "        intercept = param_mean[f'intercept_ses{param_ses}'] #df_params_merge.loc[df_params_merge['subID'] == subID, f'intercept_ses{param_ses}'].values #f'bias_xmin_ses{param_ses}'].values\n",
    "        slope = param_mean[f'slope_ses{param_ses}'] #df_params_merge.loc[df_params_merge['subID'] == subID, f'slope_ses{param_ses}'].values #f'bias_xmin_ses{param_ses}'].values\n",
    "        # intercept = param_mean[f'bias_xmin_ses{param_ses}']\n",
    "        # center = param_mean[f'center_ses{param_ses}']\n",
    "        # sigma = param_mean[f'sigma_ses{param_ses}']\n",
    "        # bias_upper = param_mean[f'bias_xmax_ses{param_ses}']\n",
    "        # amplitude = 1 - intercept - bias_upper\n",
    "    \n",
    "        x_values = np.linspace(np.nanmin(x), np.nanmax(x), 100)\n",
    "        y_values = linear(x_values, slope, intercept)\n",
    "        # Plot the curves\n",
    "        ax.plot(x_values, y_values, '-', color='tab:red')\n",
    "\n",
    "        # Calculate the r_squared and rmse\n",
    "        y_pred = linear(x, slope, intercept) #intercept + amplitude * sigmoid(x, sigma, center)\n",
    "        r_sq = r_squared(y, y_pred)\n",
    "        rmse = normalized_error(y, y_pred)\n",
    "\n",
    "        r2_list.append(r_sq)\n",
    "        rmse_list.append(rmse)\n",
    "        subID_all.append(subID)\n",
    "\n",
    "        if rmse <= 0.2:\n",
    "            color = 'k'\n",
    "        else:\n",
    "            color = 'r'\n",
    "\n",
    "        ax.set_title(f'Subject {subID}')\n",
    "        ax.annotate(\"r_2: %.2f\" % r_sq, xy=(1, 0.2), xycoords ='axes fraction', color=color,ha='right')\n",
    "        ax.annotate(\"rmse: %.2f\" % rmse, xy=(1, 0), xycoords ='axes fraction', color=color,ha='right')\n",
    "\n",
    "        # except:\n",
    "        #     plt.delaxes(ax)  \n",
    "        #     r2_list.append(np.nan) # to keep list the same length as df\n",
    "        #     rmse_list.append(np.nan)\n",
    "\n",
    "    ax.set_xticks([0,1],['180','0'])\n",
    "    ax.set_yticks([0,0.5,1])\n",
    "   \n",
    "    for isub in np.arange(df_params_merge.shape[0],nrows*ncols):\n",
    "        ax =  plt.subplot(nrows, ncols, isub + 1)\n",
    "        plt.delaxes(ax)  \n",
    "\n",
    "    plt.suptitle(title, fontweight='bold',fontsize=24)\n",
    "    plt.tight_layout() \n",
    "    # plt.subplots_adjust(wspace=0.5, hspace=0.5) \n",
    "    plt.savefig(flname, facecolor='w')\n",
    "    plt.clf()\n",
    "\n",
    "    df = pd.DataFrame({'subID':subID_all,'R2':r2_list, 'RMSE': rmse_list})\n",
    "    \n",
    "    return df"
   ],
   "outputs": [],
   "metadata": {}
  },
  {
   "cell_type": "code",
   "execution_count": 117,
   "source": [
    "# fit mean to self: ses 1 mean (curvit) to ses 1 self(rating)\n",
    "# mean_r_sqaure_ses1_t_ses1 = []\n",
    "# mean_rmse_ses1_t_ses1 = []\n",
    "title = 'ses1mean_to_ses1'\n",
    "flname = f'{rootfile_results}/mean/{title}_mean.png'\n",
    "self_fit_mean_ses1 = plot_refit_curvefit_mean(nrows, ncols, df_params_merge, df_rating_merge,\n",
    "                    1, 1,flname,title)#, mean_r_sqaure_ses1_t_ses1, mean_rmse_ses1_t_ses1)"
   ],
   "outputs": [
    {
     "output_type": "stream",
     "name": "stdout",
     "text": [
      "subID= 26000.0\n",
      "subID= 26079.0\n",
      "subID= 26137.0\n",
      "subID= 26215.0\n",
      "subID= 26280.0\n",
      "subID= 26347.0\n"
     ]
    },
    {
     "output_type": "display_data",
     "data": {
      "text/plain": [
       "<Figure size 4680x3024 with 0 Axes>"
      ]
     },
     "metadata": {}
    }
   ],
   "metadata": {
    "scrolled": true
   }
  },
  {
   "cell_type": "code",
   "execution_count": 118,
   "source": [
    "# fit mean to self: ses 1 mean (curvefit) to ses 2 self(rating)\n",
    "# nrow, ncol = 35, 10\n",
    "# mean_r_sqaure_ses1_t_ses2 = []\n",
    "# mean_rmse_ses1_t_ses2 = []\n",
    "title = 'ses1mean_to_ses2'\n",
    "flname = f'{rootfile_results}/mean/{title}_mean.png'\n",
    "cross_fit_mean_ses1_to_ses2 = plot_refit_curvefit_mean(nrows, ncols, df_params_merge, df_rating_merge,\n",
    "                    1, 2,flname,title)#, mean_r_sqaure_ses1_t_ses2, mean_rmse_ses1_t_ses2)"
   ],
   "outputs": [
    {
     "output_type": "stream",
     "name": "stdout",
     "text": [
      "subID= 26000.0\n",
      "subID= 26079.0\n",
      "subID= 26137.0\n",
      "subID= 26215.0\n",
      "subID= 26280.0\n",
      "subID= 26347.0\n"
     ]
    },
    {
     "output_type": "display_data",
     "data": {
      "text/plain": [
       "<Figure size 4680x3024 with 0 Axes>"
      ]
     },
     "metadata": {}
    }
   ],
   "metadata": {
    "scrolled": true
   }
  },
  {
   "cell_type": "code",
   "execution_count": 119,
   "source": [
    "# fit mean to self: ses 2 mean (curvefit) to ses 2 self(rating)\n",
    "# mean_r_sqaure_ses2_t_ses2 = []\n",
    "# mean_rmse_ses2_t_ses2 = []\n",
    "title = 'ses2mean_to_ses2'\n",
    "flname = f'{rootfile_results}/mean/{title}_mean.png'\n",
    "self_fit_mean_ses2 = plot_refit_curvefit_mean(nrows, ncols, df_params_merge, df_rating_merge,\n",
    "                    2, 2,flname,title)#, mean_r_sqaure_ses2_t_ses2, mean_rmse_ses2_t_ses2)"
   ],
   "outputs": [
    {
     "output_type": "stream",
     "name": "stdout",
     "text": [
      "subID= 26000.0\n",
      "subID= 26079.0\n",
      "subID= 26137.0\n",
      "subID= 26215.0\n",
      "subID= 26280.0\n",
      "subID= 26347.0\n"
     ]
    },
    {
     "output_type": "display_data",
     "data": {
      "text/plain": [
       "<Figure size 4680x3024 with 0 Axes>"
      ]
     },
     "metadata": {}
    }
   ],
   "metadata": {
    "scrolled": true
   }
  },
  {
   "cell_type": "code",
   "execution_count": 120,
   "source": [
    "# fit mean to self: ses 2 mean (curvefit) to ses 1 self(rating)\n",
    "# mean_r_sqaure_ses2_t_ses1 = []\n",
    "# mean_rmse_ses2_t_ses1 = []\n",
    "title = 'ses2mean_to_ses1'\n",
    "flname = f'{rootfile_results}/mean/{title}_mean.png'\n",
    "cross_fit_mean_ses2_to_ses1 =cross_fit_mean_ses2_to_ses1 =plot_refit_curvefit_mean(nrows, ncols, df_params_merge, df_rating_merge,\n",
    "                    2, 1,flname,title)# mean_r_sqaure_ses2_t_ses1, mean_rmse_ses2_t_ses1)"
   ],
   "outputs": [
    {
     "output_type": "stream",
     "name": "stdout",
     "text": [
      "subID= 26000.0\n",
      "subID= 26079.0\n",
      "subID= 26137.0\n",
      "subID= 26215.0\n",
      "subID= 26280.0\n",
      "subID= 26347.0\n"
     ]
    },
    {
     "output_type": "display_data",
     "data": {
      "text/plain": [
       "<Figure size 4680x3024 with 0 Axes>"
      ]
     },
     "metadata": {}
    }
   ],
   "metadata": {
    "scrolled": true
   }
  },
  {
   "cell_type": "markdown",
   "source": [
    "## Fitting other's individual to self"
   ],
   "metadata": {}
  },
  {
   "cell_type": "code",
   "execution_count": 121,
   "source": [
    "df_other_fit = df_params_merge.copy()\n",
    "df_other_fit = df_other_fit.dropna()"
   ],
   "outputs": [],
   "metadata": {}
  },
  {
   "cell_type": "code",
   "execution_count": 122,
   "source": [
    "# def plot_refit_curvefit_other(df_params, df_rating, param_ses, rating_ses, r2_list, rmse_list):\n",
    "#     for idxsub in range(len(df_params['subID'].values)): # test data (row); mean ratings\n",
    "#         isub = df_params['subID'].values[idxsub]\n",
    "#         try:\n",
    "#             xfit = (180 - df_rating.loc[df_rating['subID'] == (isub), 'subtlety'].values) / 180\n",
    "#             yfit = df_rating.loc[df_rating['subID'] == (isub), f'slider_ses{rating_ses}'].values / 100\n",
    "\n",
    "#             x = np.array(xfit)\n",
    "#             y = np.array(yfit)\n",
    "\n",
    "#             for idxsub2 in range(len(df_params['subID'].values)): # train data (curve fit params)\n",
    "#                 other = df_params['subID'].values[idxsub2]\n",
    "#                 if isub != other: # added by RV\n",
    "#                     df_temp = df_params[df_params['subID'] == other]\n",
    "                    \n",
    "#                     intercept = df_temp[f'bias_xmin_ses{param_ses}'].values\n",
    "#                     center = df_temp[f'center_ses{param_ses}'].values\n",
    "#                     sigma = df_temp[f'sigma_ses{param_ses}'].values\n",
    "#                     bias_upper = df_temp[f'bias_xmax_ses{param_ses}'].values\n",
    "#                     amplitude = 1 - intercept - bias_upper\n",
    "                \n",
    "#                     x_values = np.linspace(np.nanmin(x), np.nanmax(x), 100)\n",
    "#                     y_pred = intercept + amplitude * sigmoid(x, sigma, center)\n",
    "                    \n",
    "#                     ## calculate the r_squared\n",
    "#                     r2_list[idxsub, idxsub2] = r_squared(y, y_pred)\n",
    "#                     rmse_list[idxsub, idxsub2] = normalized_error(y, y_pred)\n",
    "#         except:\n",
    "#             continue\n",
    "#     plt.imshow(rmse_list, cmap='Blues', vmin=0, vmax=1)\n",
    "#     plt.title(f'Fitting self vs other (ses {param_ses} to ses {rating_ses})')\n",
    "#     plt.colorbar()"
   ],
   "outputs": [],
   "metadata": {}
  },
  {
   "cell_type": "code",
   "execution_count": 123,
   "source": [
    "# # using others to fit self: other ses 1(curvefit) to self ses 1(rating)\n",
    "# # other_R2_ses1_t_ses1 = np.zeros((len(df_other_fit['subID'].values),len(df_other_fit['subID'].values))) * np.nan\n",
    "# # other_rmse_ses1_t_ses1 = np.zeros((len(df_other_fit['subID'].values),len(df_other_fit['subID'].values))) * np.nan\n",
    "# other_R2_ses1_t_ses1 = np.zeros((len(df_params_merge['subID'].values),len(df_params_merge['subID'].values))) * np.nan\n",
    "# other_rmse_ses1_t_ses1 = np.zeros((len(df_params_merge['subID'].values),len(df_params_merge['subID'].values))) * np.nan\n",
    "# plot_refit_curvefit_other(df_params_merge, df_rating_merge, 1, 1, other_R2_ses1_t_ses1, other_rmse_ses1_t_ses1)"
   ],
   "outputs": [],
   "metadata": {
    "scrolled": false
   }
  },
  {
   "cell_type": "code",
   "execution_count": 124,
   "source": [
    "# # using others to fit self: other ses 1(curvefit) to self ses 2(rating)\n",
    "# other_r_sqaure_ses1_t_ses2 = np.zeros((len(df_other_fit['subID'].values),len(df_other_fit['subID'].values))) * np.nan\n",
    "# other_rmse_ses1_t_ses2 = np.zeros((len(df_other_fit['subID'].values),len(df_other_fit['subID'].values))) * np.nan\n",
    "# plot_refit_curvefit_other(df_other_fit, df_rating_merge, 1, 2, other_r_sqaure_ses1_t_ses2, other_rmse_ses1_t_ses2)"
   ],
   "outputs": [],
   "metadata": {}
  },
  {
   "cell_type": "code",
   "execution_count": 125,
   "source": [
    "# # using others to fit self: other ses 2(curvefit) to self ses 2(rating)\n",
    "# other_r_sqaure_ses2_t_ses2 = np.zeros((len(df_other_fit['subID'].values),len(df_other_fit['subID'].values))) * np.nan\n",
    "# other_rmse_ses2_t_ses2 = np.zeros((len(df_other_fit['subID'].values),len(df_other_fit['subID'].values))) * np.nan\n",
    "# plot_refit_curvefit_other(df_other_fit, df_rating_merge, 2, 2, other_r_sqaure_ses2_t_ses2, other_rmse_ses2_t_ses2)"
   ],
   "outputs": [],
   "metadata": {}
  },
  {
   "cell_type": "code",
   "execution_count": 126,
   "source": [
    "# # using others to fit self: other ses 2(curvefit) to self ses 1(rating)\n",
    "# other_r_sqaure_ses2_t_ses1 = np.zeros((len(df_other_fit['subID'].values),len(df_other_fit['subID'].values))) * np.nan\n",
    "# other_rmse_ses2_t_ses1 = np.zeros((len(df_other_fit['subID'].values),len(df_other_fit['subID'].values))) * np.nan\n",
    "# plot_refit_curvefit_other(df_other_fit, df_rating_merge, 2, 1, other_r_sqaure_ses2_t_ses1, other_rmse_ses2_t_ses1)"
   ],
   "outputs": [],
   "metadata": {}
  },
  {
   "cell_type": "markdown",
   "source": [
    "## compare the rmse between conditions"
   ],
   "metadata": {}
  },
  {
   "cell_type": "code",
   "execution_count": 181,
   "source": [
    "def get_other_param(other, operation):\n",
    "    operations = {\n",
    "        'mean': lambda x: np.nanmean(x),\n",
    "        'median': lambda x: np.nanmedian(x),\n",
    "        'min': lambda x: np.nanmin(x)\n",
    "    }\n",
    "    result = [operations[operation](sublist) for sublist in other] # mean, median or min rmse from each row (when fitted using every other sub (column) in the array)\n",
    "    return result\n",
    "\n",
    "\n",
    "# def plot_rmse_dist(self, mean, other, ses_to_ses):\n",
    "#     params = ['other_ind_mean', 'other_ind_median', 'other_ind_min']\n",
    "#     df_bootstrap = pd.DataFrame()\n",
    "#     df_bootstrap['self'] =[x for x in self if not np.isnan(x)]\n",
    "#     df_bootstrap['mean'] = [x for x in mean if not np.isnan(x)]\n",
    "#     df_bootstrap[params[0]] = get_other_param(other, 'mean')\n",
    "#     df_bootstrap[params[1]] = get_other_param(other, 'median')\n",
    "#     df_bootstrap[params[2]] = get_other_param(other, 'min')\n",
    "\n",
    "#     for param in params: #  ['other_ind_mean', 'other_ind_median', 'other_ind_min']\n",
    "#         plt.figure(figsize=(8, 6))\n",
    "#         data_list = [df_bootstrap['self'], df_bootstrap['mean'], df_bootstrap[param]]\n",
    "#         positions = [1, 2, 3]  \n",
    "#         plt.violinplot(data_list, positions=positions, showmeans=True)\n",
    "\n",
    "#         t_statistic_1, p_value_1 = ttest_rel(df_bootstrap['self'], df_bootstrap[param])\n",
    "#         t_statistic_2, p_value_2 = ttest_rel(df_bootstrap['self'], df_bootstrap['mean'])\n",
    "#         t_statistic_3, p_value_3 = ttest_rel(df_bootstrap['mean'], df_bootstrap[param])\n",
    "#         plt.title(f'Distribution of refitted rsme ({ses_to_ses}) \\n self vs mean vs {param}')\n",
    "#         plt.xticks(positions, ['self_rmse', 'mean', f'{param}'])\n",
    "#         print(f'Self v {param} - Paired t-test : t = {t_statistic_1:.2f}, p-value = {p_value_1:.2f}')\n",
    "#         print(f'Self v mean - Paired t-test: t = {t_statistic_2:.2f}, p-value = {p_value_2:.2f}')\n",
    "#         print(f'mean v {param} - Paired t-test: t = {t_statistic_3:.2f}, p-value = {p_value_3:.2f}')\n",
    "#         plt.ylim(0, 2)\n",
    "#         plt.show()\n",
    "def get_p(p):\n",
    "    if p < .001:\n",
    "        return \"p < .001\"\n",
    "    elif p < .01:\n",
    "        return f\"p={p:.3f}\"\n",
    "    else:\n",
    "        return f\"p={p:.2f}\"\n",
    "\n",
    "def plot_rmse_dist_reduced(self, mean, flname, ses_to_ses):\n",
    "    # params = ['other_ind_mean', 'other_ind_median', 'other_ind_min']\n",
    "    df_bootstrap = pd.DataFrame()\n",
    "    df_bootstrap['self'] =[x for x in self if not np.isnan(x)]\n",
    "    df_bootstrap['mean'] = [x for x in mean if not np.isnan(x)]\n",
    "    # df_bootstrap[params[0]] = get_other_param(other, 'mean')\n",
    "    # df_bootstrap[params[1]] = get_other_param(other, 'median')\n",
    "    # df_bootstrap[params[2]] = get_other_param(other, 'min')\n",
    "\n",
    "    # for param in params: #  ['other_ind_mean', 'other_ind_median', 'other_ind_min']\n",
    "    plt.figure(figsize=(5, 8))\n",
    "    data_list = [df_bootstrap['self'], df_bootstrap['mean']]\n",
    "    positions = [0,1]  \n",
    "    # widths = .8\n",
    "    # boxprops = dict(color='k', linewidth=2)\n",
    "    # medianprops = dict(color='k', linewidth=2, marker=None, markerfacecolor='k')\n",
    "    # plt.boxplot(data_list, positions=positions,boxprops=boxprops,medianprops=medianprops,widths=widths)#, showmeans=True)\n",
    "    \n",
    "\n",
    "    parts = plt.violinplot(data_list, positions=positions, showmeans=True)\n",
    "    print(parts['bodies'])\n",
    "\n",
    "    # Customize the body color\n",
    "    for i,pc in enumerate(parts['bodies']):\n",
    "        pc.set_facecolor('tab:red')\n",
    "        pc.set_edgecolor('tab:red')\n",
    "        pc.set_alpha(0.5)\n",
    "\n",
    "        # Get the paths and modify them to only show a half\n",
    "        if i ==0:\n",
    "            path = pc.get_paths()[0]\n",
    "            vertices = path.vertices\n",
    "            vertices[:, 0] = np.clip(vertices[:, 0], -np.inf,0)\n",
    "        else:\n",
    "            path = pc.get_paths()[0]\n",
    "            vertices = path.vertices\n",
    "            vertices[:, 0] = np.clip(vertices[:, 0], 1,np.inf)\n",
    "\n",
    "    \n",
    "\n",
    "    # Customize the median line color\n",
    "    # parts['cmedians'].set_edgecolor('k')\n",
    "\n",
    "    # Customize the mean line color\n",
    "    parts['cmeans'].set_edgecolor('k')\n",
    "\n",
    "    # Customize the minimum and maximum lines color\n",
    "    parts['cmins'].set_edgecolor('k')\n",
    "    parts['cmaxes'].set_edgecolor('k')\n",
    "\n",
    "    for line in ['cbars', 'cmins', 'cmaxes']:\n",
    "        if line in parts:\n",
    "            parts[line].set_edgecolor('tab:red')\n",
    "    \n",
    "    plt.plot(data_list,color = 'grey',alpha=.1)\n",
    "\n",
    "    t_statistic, p_value = ttest_rel(df_bootstrap['self'], df_bootstrap['mean'])\n",
    "    stat_wilc, p_wilc = wilcoxon(df_bootstrap['self'], df_bootstrap['mean'])\n",
    "    MD = (df_bootstrap['self'] - df_bootstrap['mean']).mean()\n",
    "    txt = f'MD={MD:.2f}\\n(t-test:{get_p(p_value)},\\nwilc.:{get_p(p_wilc)})'\n",
    "    plt.gca().annotate(txt, xy=(0.05,.95),ha='left',va='top',xycoords='axes fraction')\n",
    "    \n",
    "    # t_statistic_1, p_value_1 = ttest_rel(df_bootstrap['self'], df_bootstrap[param])\n",
    "    # t_statistic_2, p_value_2 = ttest_rel(df_bootstrap['self'], df_bootstrap['mean'])\n",
    "    # t_statistic_3, p_value_3 = ttest_rel(df_bootstrap['mean'], df_bootstrap[param])\n",
    "    # plt.title(f'Distribution of refitted rsme ({ses_to_ses}) \\n self vs mean vs {param}')\n",
    "    plt.title(f'{ses_to_ses}', fontweight='bold')\n",
    "    # plt.xticks(positions, ['self_rmse', 'mean', f'{param}'])\n",
    "    plt.xticks(positions, ['own params', \"mean params\\nfrom all others\"])\n",
    "    # print(f'Self v {param} - Paired t-test : t = {t_statistic_1:.2f}, p-value = {p_value_1:.2f}')\n",
    "    print(f'Self v mean:')\n",
    "    print(f'Paired t-test: t = {t_statistic:.2f}, p-value = {p_value:.2f}')\n",
    "    print(f'Wilcoxon signed rank test: t = {stat_wilc:.2f}, p-value = {p_wilc:.2f}')\n",
    "    # print(f'mean v {param} - Paired t-test: t = {t_statistic_3:.2f}, p-value = {p_value_3:.2f}')\n",
    "    plt.ylim(-.1, 10)\n",
    "    plt.ylabel('NRMSE')\n",
    "    # plt.show()\n",
    "    plt.savefig(flname + '.png')\n",
    "    plt.clf()"
   ],
   "outputs": [],
   "metadata": {}
  },
  {
   "cell_type": "markdown",
   "source": [
    "### ses 1 to ses 1"
   ],
   "metadata": {}
  },
  {
   "cell_type": "code",
   "execution_count": 182,
   "source": [
    "self_fit_mean_ses1['RMSE'].max()"
   ],
   "outputs": [
    {
     "output_type": "execute_result",
     "data": {
      "text/plain": [
       "8.31915667538362"
      ]
     },
     "metadata": {},
     "execution_count": 182
    }
   ],
   "metadata": {}
  },
  {
   "cell_type": "code",
   "execution_count": 183,
   "source": [
    "# plot_rmse_dist(self_fit_ses1['RMSE'], self_fit_mean_ses1['RMSE'], other_rmse_ses1_t_ses1, 'ses 1 to ses 1')\n",
    "title = 'within session (ses1)'\n",
    "flname = f'{rootfile_results}/within_session_ses1_to_ses1'\n",
    "plot_rmse_dist_reduced(self_fit_ses1['RMSE'], self_fit_mean_ses1['RMSE'], flname, title)"
   ],
   "outputs": [
    {
     "output_type": "stream",
     "name": "stdout",
     "text": [
      "[<matplotlib.collections.PolyCollection object at 0x7f7a49c43b10>, <matplotlib.collections.PolyCollection object at 0x7f7a49c50fd0>]\n",
      "Self v mean:\n",
      "Paired t-test: t = -5.33, p-value = 0.00\n",
      "Wilcoxon signed rank test: t = 0.00, p-value = 0.00\n"
     ]
    },
    {
     "output_type": "display_data",
     "data": {
      "text/plain": [
       "<Figure size 360x576 with 0 Axes>"
      ]
     },
     "metadata": {}
    }
   ],
   "metadata": {
    "scrolled": false
   }
  },
  {
   "cell_type": "markdown",
   "source": [
    "### ses 1 to ses 2"
   ],
   "metadata": {}
  },
  {
   "cell_type": "code",
   "execution_count": 184,
   "source": [
    "# plot_rmse_dist(self_rmse_ses1_t_ses2, mean_rmse_ses1_t_ses2, other_rmse_ses1_t_ses2, 'ses 1 to ses 2')\n",
    "title = 'across sessions (ses 1 to ses 2)'\n",
    "flname = f'{rootfile_results}/across_sessions_ses1_to_ses2'\n",
    "plot_rmse_dist_reduced(cross_fit_ses1to2['RMSE'], cross_fit_mean_ses1_to_ses2['RMSE'], flname, title)"
   ],
   "outputs": [
    {
     "output_type": "stream",
     "name": "stdout",
     "text": [
      "[<matplotlib.collections.PolyCollection object at 0x7f7a1adc4550>, <matplotlib.collections.PolyCollection object at 0x7f7a1adcfbd0>]\n",
      "Self v mean:\n",
      "Paired t-test: t = -1.79, p-value = 0.07\n",
      "Wilcoxon signed rank test: t = 11623.00, p-value = 0.00\n"
     ]
    },
    {
     "output_type": "display_data",
     "data": {
      "text/plain": [
       "<Figure size 360x576 with 0 Axes>"
      ]
     },
     "metadata": {}
    }
   ],
   "metadata": {
    "scrolled": false
   }
  },
  {
   "cell_type": "markdown",
   "source": [
    "### ses 2 to ses 2"
   ],
   "metadata": {}
  },
  {
   "cell_type": "code",
   "execution_count": 185,
   "source": [
    "title = 'within session (ses 2 to ses 2)'\n",
    "flname = f'{rootfile_results}/within_session_ses2_to_ses2'\n",
    "# plot_rmse_dist(self_rmse_ses2_t_ses2, mean_rmse_ses2_t_ses2, other_rmse_ses2_t_ses2, 'ses 2 to ses 2')\n",
    "plot_rmse_dist_reduced(self_fit_ses2['RMSE'], self_fit_mean_ses2['RMSE'], flname, title)"
   ],
   "outputs": [
    {
     "output_type": "stream",
     "name": "stdout",
     "text": [
      "[<matplotlib.collections.PolyCollection object at 0x7f7a3a031c50>, <matplotlib.collections.PolyCollection object at 0x7f7a3a065f50>]\n",
      "Self v mean:\n",
      "Paired t-test: t = -3.40, p-value = 0.00\n",
      "Wilcoxon signed rank test: t = 0.00, p-value = 0.00\n"
     ]
    },
    {
     "output_type": "display_data",
     "data": {
      "text/plain": [
       "<Figure size 360x576 with 0 Axes>"
      ]
     },
     "metadata": {}
    }
   ],
   "metadata": {
    "scrolled": true
   }
  },
  {
   "cell_type": "markdown",
   "source": [
    "### ses 2 to ses 1"
   ],
   "metadata": {}
  },
  {
   "cell_type": "code",
   "execution_count": 186,
   "source": [
    "title = 'across sessions (ses 2 to ses 1)'\n",
    "flname = f'{rootfile_results}/across_sessions_ses2_to_ses1'\n",
    "# plot_rmse_dist(self_rmse_ses2_t_ses1, mean_rmse_ses2_t_ses1, other_rmse_ses2_t_ses1, 'ses 2 to ses 1')\n",
    "plot_rmse_dist_reduced(cross_fit_ses2to1['RMSE'], cross_fit_mean_ses2_to_ses1['RMSE'], flname, title)"
   ],
   "outputs": [
    {
     "output_type": "stream",
     "name": "stdout",
     "text": [
      "[<matplotlib.collections.PolyCollection object at 0x7f7a2b461150>, <matplotlib.collections.PolyCollection object at 0x7f7a4b364710>]\n",
      "Self v mean:\n",
      "Paired t-test: t = -2.80, p-value = 0.01\n",
      "Wilcoxon signed rank test: t = 12026.00, p-value = 0.00\n"
     ]
    },
    {
     "output_type": "display_data",
     "data": {
      "text/plain": [
       "<Figure size 360x576 with 0 Axes>"
      ]
     },
     "metadata": {}
    }
   ],
   "metadata": {
    "scrolled": true
   }
  },
  {
   "cell_type": "code",
   "execution_count": 194,
   "source": [
    "def return_stats(x,y):\n",
    "    t,p = ttest_rel(x,y)\n",
    "    MD = (x-y).mean()\n",
    "    return MD,t,p\n",
    "\n",
    "def plot_rmse_dist_4_plots(self, self_altses, mean, mean_altses, flname, title,ylabel,ylims):\n",
    "    # params = ['other_ind_mean', 'other_ind_median', 'other_ind_min']\n",
    "    df_bootstrap = pd.DataFrame()\n",
    "    df_bootstrap['self_sameses'] =[x for x in self if not np.isnan(x)]\n",
    "    df_bootstrap['self_altses'] =[x for x in self_altses if not np.isnan(x)]\n",
    "    df_bootstrap['mean_sameses'] = [x for x in mean if not np.isnan(x)]\n",
    "    df_bootstrap['mean_altses'] = [x for x in mean_altses if not np.isnan(x)]\n",
    "    \n",
    "    # for param in params: #  ['other_ind_mean', 'other_ind_median', 'other_ind_min']\n",
    "    plt.figure(figsize=(10, 8))\n",
    "    data_list = [df_bootstrap['self_sameses'], df_bootstrap['self_altses'], df_bootstrap['mean_sameses'], df_bootstrap['mean_altses']]\n",
    "    positions = [0,1,2,3]    \n",
    "\n",
    "    parts = plt.violinplot(data_list, positions=positions, showmeans=True)\n",
    "    # print(parts['bodies'])\n",
    "\n",
    "    # Customize the body color\n",
    "    for i,pc in enumerate(parts['bodies']):\n",
    "        pc.set_facecolor('tab:red')\n",
    "        pc.set_edgecolor('tab:red')\n",
    "        pc.set_alpha(0.5)\n",
    "\n",
    "        # Get the paths and modify them to only show a half\n",
    "        # if i ==0:\n",
    "        #     path = pc.get_paths()[0]\n",
    "        #     vertices = path.vertices\n",
    "        #     vertices[:, 0] = np.clip(vertices[:, 0], -np.inf,0)\n",
    "        # else:\n",
    "        #     path = pc.get_paths()[0]\n",
    "        #     vertices = path.vertices\n",
    "        #     vertices[:, 0] = np.clip(vertices[:, 0], 1,np.inf)\n",
    "\n",
    "    # Customize the mean line color\n",
    "    parts['cmeans'].set_edgecolor('k')\n",
    "\n",
    "    # Customize the minimum and maximum lines color\n",
    "    parts['cmins'].set_edgecolor('k')\n",
    "    parts['cmaxes'].set_edgecolor('k')\n",
    "\n",
    "    # Change the color of the whiskers (vertical lines)\n",
    "    for line in ['cbars', 'cmins', 'cmaxes']:\n",
    "        if line in parts:\n",
    "            parts[line].set_edgecolor('tab:red')\n",
    "    \n",
    "    plt.plot(data_list,color = 'grey',alpha=.1)\n",
    "\n",
    "    stats_array = np.full((6,3),np.nan) #MD,t,p\n",
    "    count = -1\n",
    "    all_grps = ['self_sameses', 'self_altses','mean_sameses','mean_altses']\n",
    "    for i,param1 in enumerate(all_grps[:-1]):\n",
    "        for j,param2 in enumerate(all_grps[i+1:]):\n",
    "            count += 1\n",
    "            x = df_bootstrap[param1]\n",
    "            y = df_bootstrap[param2]\n",
    "            stats_array[count,:] = return_stats(x,y)\n",
    "            print(f'{count}. param1:{param1},param2:{param2},MD:{stats_array[count,0]:.2f},t={stats_array[count,1]:.2f} ({get_p(stats_array[count,2])})')\n",
    "    # t1, p1 = ttest_rel(df_bootstrap['self_sameses'], df_bootstrap['self_altses']) # 12\n",
    "    # t2, p2 = ttest_rel(df_bootstrap['self_sameses'], df_bootstrap['mean_sameses']) # 13\n",
    "    # t3, p3 = ttest_rel(df_bootstrap['self_sameses'], df_bootstrap['mean_altses']) # 14\n",
    "    # t4, p4 = ttest_rel(df_bootstrap['self_altses'], df_bootstrap['mean_sameses']) # 23\n",
    "    # t5, p5 = ttest_rel(df_bootstrap['self_altses'], df_bootstrap['mean_altses']) # 24\n",
    "    # t6, p6 = ttest_rel(df_bootstrap['mean_sameses'], df_bootstrap['mean_altses']) #34\n",
    "    # stat_wilc, p_wilc = wilcoxon(df_bootstrap['self'], df_bootstrap['mean'])\n",
    "    # MD = (df_bootstrap['self'] - df_bootstrap['mean']).mean()\n",
    "\n",
    "    lbls = ['12','13','14','23','24','34']\n",
    "    ypos = 1\n",
    "    for i in range(stats_array.shape[0]):\n",
    "        MD = stats_array[i,0]\n",
    "        p = stats_array[i,2]\n",
    "        txt = f'MD{lbls[i]}={MD:.2f}(t-test:{get_p(p)})'  #,\\nwilc.:{get_p(p_wilc)})'\n",
    "        plt.gca().annotate(txt, xy=(0.05,ypos),ha='left',va='top',xycoords='axes fraction')\n",
    "        ypos = ypos - .05\n",
    "    \n",
    "    plt.title(title, fontweight='bold')\n",
    "    plt.xticks(positions, ['own params\\n(within sess;\\ntraining set)', 'own params\\n(across sess;\\ntest set)', \\\n",
    "        \"mean params\\nfrom others\\n(within sess;\\ntraining set)\", \"mean params\\nfrom others\\n(across sess;\\ntest set)\"])\n",
    "    print(f'Self v mean:')\n",
    "    # print(f'Paired t-test results: t = {t_statistic:.2f}, p-value = {p_value:.2f}')\n",
    "    # print(f'Wilcoxon signed rank test: t = {stat_wilc:.2f}, p-value = {p_wilc:.2f}')\n",
    "    ymin,ymax = ylims\n",
    "    plt.ylim(ymin,ymax)\n",
    "    plt.ylabel(ylabel)\n",
    "    plt.savefig(flname + '.png', bbox_inches='tight',dpi=300)\n",
    "    # plt.clf()"
   ],
   "outputs": [],
   "metadata": {}
  },
  {
   "cell_type": "code",
   "execution_count": 197,
   "source": [
    "# plot_rmse_dist(self_rmse_ses1_t_ses2, mean_rmse_ses1_t_ses2, other_rmse_ses1_t_ses2, 'ses 1 to ses 2')\n",
    "ylims = 0,16\n",
    "title = 'Predicting session 1 in 4 ways'# es1_to_ses2_all4\n",
    "ylabel = 'Error in predicting ses1'\n",
    "flname = f'{rootfile_results}/predicting_session1'\n",
    "plot_rmse_dist_4_plots(self_fit_ses1['RMSE'], cross_fit_ses2to1['RMSE'], self_fit_mean_ses1['RMSE'], cross_fit_mean_ses2_to_ses1['RMSE'], flname, title,ylabel,ylims)\n",
    "\n",
    "\n",
    "ylims = 0,2\n",
    "title = ''# es1_to_ses2_all4\n",
    "ylabel = 'Error in predicting ses1'\n",
    "flname = f'{rootfile_results}/predicting_session1_zoom'\n",
    "plot_rmse_dist_4_plots(self_fit_ses1['RMSE'], cross_fit_ses2to1['RMSE'], self_fit_mean_ses1['RMSE'], cross_fit_mean_ses2_to_ses1['RMSE'], flname, title,ylabel,ylims)\n"
   ],
   "outputs": [
    {
     "output_type": "stream",
     "name": "stdout",
     "text": [
      "0. param1:self_sameses,param2:self_altses,MD:-0.12,t=-8.96 (p < .001)\n",
      "1. param1:self_sameses,param2:mean_sameses,MD:-0.19,t=-5.33 (p < .001)\n",
      "2. param1:self_sameses,param2:mean_altses,MD:-0.20,t=-5.25 (p < .001)\n",
      "3. param1:self_altses,param2:mean_sameses,MD:-0.07,t=-2.72 (p=0.007)\n",
      "4. param1:self_altses,param2:mean_altses,MD:-0.08,t=-2.80 (p=0.006)\n",
      "5. param1:mean_sameses,param2:mean_altses,MD:-0.01,t=-3.30 (p=0.001)\n",
      "Self v mean:\n",
      "0. param1:self_sameses,param2:self_altses,MD:-0.12,t=-8.96 (p < .001)\n",
      "1. param1:self_sameses,param2:mean_sameses,MD:-0.19,t=-5.33 (p < .001)\n",
      "2. param1:self_sameses,param2:mean_altses,MD:-0.20,t=-5.25 (p < .001)\n",
      "3. param1:self_altses,param2:mean_sameses,MD:-0.07,t=-2.72 (p=0.007)\n",
      "4. param1:self_altses,param2:mean_altses,MD:-0.08,t=-2.80 (p=0.006)\n",
      "5. param1:mean_sameses,param2:mean_altses,MD:-0.01,t=-3.30 (p=0.001)\n",
      "Self v mean:\n"
     ]
    },
    {
     "output_type": "display_data",
     "data": {
      "image/png": "[encoded data removed]",
      "text/plain": [
       "<Figure size 720x576 with 1 Axes>"
      ]
     },
     "metadata": {
      "needs_background": "light"
     }
    },
    {
     "output_type": "display_data",
     "data": {
      "image/png": "[encoded data removed]",
      "text/plain": [
       "<Figure size 720x576 with 1 Axes>"
      ]
     },
     "metadata": {
      "needs_background": "light"
     }
    }
   ],
   "metadata": {}
  },
  {
   "cell_type": "code",
   "execution_count": 199,
   "source": [
    "# plot_rmse_dist(self_rmse_ses1_t_ses2, mean_rmse_ses1_t_ses2, other_rmse_ses1_t_ses2, 'ses 1 to ses 2')\n",
    "ylims = 0,16\n",
    "title = 'Predicting session 2 in 4 ways'# es1_to_ses2_all4\n",
    "flname = f'{rootfile_results}/Predicting_session2'\n",
    "ylabel = 'Error in predicting ses2'\n",
    "# plot_rmse_dist_4_plots(self_fit_ses1['RMSE'], cross_fit_ses2to1['RMSE'], self_fit_mean_ses1['RMSE'], cross_fit_mean_ses2_to_ses1['RMSE'], flname, title)\n",
    "plot_rmse_dist_4_plots(self_fit_ses2['RMSE'], cross_fit_ses1to2['RMSE'], self_fit_mean_ses2['RMSE'], cross_fit_mean_ses1_to_ses2['RMSE'], flname, title,ylabel,ylims)\n",
    "\n",
    "\n",
    "ylims = 0,2\n",
    "title = 'Predicting session 2 in 4 ways'# es1_to_ses2_all4\n",
    "flname = f'{rootfile_results}/Predicting_session2_zoom'\n",
    "ylabel = 'Error in predicting ses2'\n",
    "# plot_rmse_dist_4_plots(self_fit_ses1['RMSE'], cross_fit_ses2to1['RMSE'], self_fit_mean_ses1['RMSE'], cross_fit_mean_ses2_to_ses1['RMSE'], flname, title)\n",
    "plot_rmse_dist_4_plots(self_fit_ses2['RMSE'], cross_fit_ses1to2['RMSE'], self_fit_mean_ses2['RMSE'], cross_fit_mean_ses1_to_ses2['RMSE'], flname, title,ylabel,ylims)\n"
   ],
   "outputs": [
    {
     "output_type": "stream",
     "name": "stdout",
     "text": [
      "0. param1:self_sameses,param2:self_altses,MD:-0.13,t=-6.12 (p < .001)\n",
      "1. param1:self_sameses,param2:mean_sameses,MD:-0.21,t=-3.40 (p < .001)\n",
      "2. param1:self_sameses,param2:mean_altses,MD:-0.21,t=-3.46 (p < .001)\n",
      "3. param1:self_altses,param2:mean_sameses,MD:-0.08,t=-1.84 (p=0.07)\n",
      "4. param1:self_altses,param2:mean_altses,MD:-0.07,t=-1.79 (p=0.07)\n",
      "5. param1:mean_sameses,param2:mean_altses,MD:0.01,t=2.27 (p=0.02)\n",
      "Self v mean:\n",
      "0. param1:self_sameses,param2:self_altses,MD:-0.13,t=-6.12 (p < .001)\n",
      "1. param1:self_sameses,param2:mean_sameses,MD:-0.21,t=-3.40 (p < .001)\n",
      "2. param1:self_sameses,param2:mean_altses,MD:-0.21,t=-3.46 (p < .001)\n",
      "3. param1:self_altses,param2:mean_sameses,MD:-0.08,t=-1.84 (p=0.07)\n",
      "4. param1:self_altses,param2:mean_altses,MD:-0.07,t=-1.79 (p=0.07)\n",
      "5. param1:mean_sameses,param2:mean_altses,MD:0.01,t=2.27 (p=0.02)\n",
      "Self v mean:\n"
     ]
    },
    {
     "output_type": "display_data",
     "data": {
      "image/png": "[encoded data removed]",
      "text/plain": [
       "<Figure size 720x576 with 1 Axes>"
      ]
     },
     "metadata": {
      "needs_background": "light"
     }
    },
    {
     "output_type": "display_data",
     "data": {
      "image/png": "[encoded data removed]",
      "text/plain": [
       "<Figure size 720x576 with 1 Axes>"
      ]
     },
     "metadata": {
      "needs_background": "light"
     }
    }
   ],
   "metadata": {}
  },
  {
   "cell_type": "code",
   "execution_count": null,
   "source": [],
   "outputs": [],
   "metadata": {}
  },
  {
   "cell_type": "code",
   "execution_count": null,
   "source": [],
   "outputs": [],
   "metadata": {}
  },
  {
   "cell_type": "code",
   "execution_count": null,
   "source": [],
   "outputs": [],
   "metadata": {}
  },
  {
   "cell_type": "code",
   "execution_count": null,
   "source": [],
   "outputs": [],
   "metadata": {}
  },
  {
   "cell_type": "markdown",
   "source": [
    "## comparision between fits for self vs mean & ind_min"
   ],
   "metadata": {}
  },
  {
   "cell_type": "code",
   "execution_count": 146,
   "source": [
    "def remove_outliers(df, columns):\n",
    "    for col in columns:\n",
    "        Q1 = df[col].quantile(0.25)\n",
    "        Q3 = df[col].quantile(0.75)\n",
    "        IQR = Q3 - Q1\n",
    "        lower_bound = Q1 - 1.5 * IQR\n",
    "        upper_bound = Q3 + 1.5 * IQR\n",
    "        df = df[(df[col] >= lower_bound) & (df[col] <= upper_bound)]\n",
    "    return df\n",
    "\n",
    "def plot_sep_dist(self, mean, other, ses_to_ses, remove_outlier):\n",
    "    df_bootstrap = pd.DataFrame()\n",
    "    df_bootstrap['self'] =[x for x in self if not np.isnan(x)]\n",
    "    df_bootstrap['mean'] = [x for x in mean if not np.isnan(x)]\n",
    "    df_bootstrap['other_ind_min'] = get_other_param(other, 'min')\n",
    "    \n",
    "    # trim the dataframe so that can exlude outliers\n",
    "    if remove_outlier == True:\n",
    "        df_bootstrap = remove_outliers(df_bootstrap, ['self', 'mean', 'other_ind_min'])\n",
    "\n",
    "    ###### plot self vs. mean\n",
    "    plt.figure(figsize=(10, 5))\n",
    "    plt.boxplot([df_bootstrap['self'], df_bootstrap['mean']], positions=[0, 1])\n",
    "    violin1 = sns.violinplot(data=df_bootstrap[['self', 'mean']], palette=['tab:red', 'tab:red'], inner=None)\n",
    "    \n",
    "    for collection in violin1.collections:\n",
    "        collection.set_alpha(0.5)\n",
    "        \n",
    "    plt.scatter([0] * len(df_bootstrap['self']), df_bootstrap['self'], \n",
    "                color='tab:red', alpha = 0.1, label='self')\n",
    "    plt.scatter([1] * len(df_bootstrap['mean']), df_bootstrap['mean'], \n",
    "                color='tab:red', alpha = 0.1, label='mean')\n",
    "    min_len = min(len(df_bootstrap['self']), len(df_bootstrap['mean']))\n",
    "    for i in range(min_len):\n",
    "        plt.plot([0, 1], [df_bootstrap['self'].iloc[i], df_bootstrap['mean'].iloc[i]], \n",
    "                 color='gray', linestyle='--', alpha=0.1)\n",
    "    \n",
    "    plt.title(f'Distribution of refitted rsme ({ses_to_ses}) \\n self vs mean')\n",
    "    t_stat, p_value = ttest_rel(df_bootstrap['self'], df_bootstrap['mean'])\n",
    "    plt.xticks([0, 1], ['self', 'mean'])\n",
    "    plt.text(0.35, -0.02, f't-test: {t_stat:.2f}, p-value: {p_value:.2f}')\n",
    "    plt.show()\n",
    "    \n",
    "    \n",
    "    \n",
    "    ######## plot self vs. ind_min\n",
    "    plt.figure(figsize=(10, 5))\n",
    "    plt.boxplot([df_bootstrap['self'], df_bootstrap['other_ind_min']], positions=[0, 1])\n",
    "    violin2 = sns.violinplot(data=df_bootstrap[['self', 'other_ind_min']], positions=[1,2], \n",
    "                   palette=['tab:red', 'tab:green'], inner=None)\n",
    "    \n",
    "    for collection in violin2.collections:\n",
    "        collection.set_alpha(0.5)\n",
    "    plt.scatter([0] * len(df_bootstrap['self']), df_bootstrap['self'], \n",
    "                color='tab:red', alpha = 0.1, label='self')\n",
    "    plt.scatter([1] * len(df_bootstrap['other_ind_min']), df_bootstrap['other_ind_min'], \n",
    "                color='tab:green', alpha = 0.1, label='other_ind_min')\n",
    "    min_len = min(len(df_bootstrap['self']), len(df_bootstrap['other_ind_min']))\n",
    "    for i in range(min_len):\n",
    "        plt.plot([0, 1], [df_bootstrap['self'].iloc[i], df_bootstrap['other_ind_min'].iloc[i]], \n",
    "                 color='gray', linestyle='--', alpha=0.1)\n",
    "    \n",
    "    \n",
    "    plt.title(f'Distribution of refitted rsme ({ses_to_ses}) \\n self vs other_ind_min')\n",
    "    t_stat, p_value = ttest_rel(df_bootstrap['self'], df_bootstrap['other_ind_min'])\n",
    "    plt.xticks([0, 1], ['self', 'other_ind_min'])\n",
    "    plt.text(0.35, -0.015, f't-test: {t_stat:.2f}, p-value: {p_value:.2f}')\n",
    "    plt.show()"
   ],
   "outputs": [],
   "metadata": {}
  },
  {
   "cell_type": "markdown",
   "source": [
    "### ses 1 to ses 1"
   ],
   "metadata": {}
  },
  {
   "cell_type": "code",
   "execution_count": null,
   "source": [
    "plot_sep_dist(self_rmse_ses1_t_ses1, mean_rmse_ses1_t_ses1, other_rmse_ses1_t_ses1, 'ses 1 to ses 1', False)"
   ],
   "outputs": [],
   "metadata": {
    "scrolled": false
   }
  },
  {
   "cell_type": "markdown",
   "source": [
    "### ses 1 to ses 2"
   ],
   "metadata": {}
  },
  {
   "cell_type": "code",
   "execution_count": null,
   "source": [
    "plot_sep_dist(self_rmse_ses1_t_ses2, mean_rmse_ses1_t_ses2, other_rmse_ses1_t_ses2, 'ses 1 to ses 2', False)"
   ],
   "outputs": [],
   "metadata": {}
  },
  {
   "cell_type": "markdown",
   "source": [
    "### ses 2 to ses 2"
   ],
   "metadata": {}
  },
  {
   "cell_type": "code",
   "execution_count": null,
   "source": [
    "plot_sep_dist(self_rmse_ses2_t_ses2, mean_rmse_ses2_t_ses2, other_rmse_ses2_t_ses2, 'ses 2 to ses 2', False)"
   ],
   "outputs": [],
   "metadata": {}
  },
  {
   "cell_type": "markdown",
   "source": [
    "### ses 2 to ses 1"
   ],
   "metadata": {}
  },
  {
   "cell_type": "code",
   "execution_count": null,
   "source": [
    "plot_sep_dist(self_rmse_ses2_t_ses1, mean_rmse_ses2_t_ses1, other_rmse_ses2_t_ses1, 'ses 2 to ses 1', False)"
   ],
   "outputs": [],
   "metadata": {}
  },
  {
   "cell_type": "markdown",
   "source": [
    "## plot between self-->self to see if one session fit is better than another"
   ],
   "metadata": {}
  },
  {
   "cell_type": "code",
   "execution_count": null,
   "source": [
    "plt.figure(figsize=(10, 5))\n",
    "self_rmse_ses1_t_ses2_clean = [x for x in self_rmse_ses1_t_ses2 if not np.isnan(x)]\n",
    "self_rmse_ses2_t_ses1_clean = [x for x in self_rmse_ses2_t_ses1 if not np.isnan(x)]\n",
    "\n",
    "\n",
    "plt.boxplot([self_rmse_ses1_t_ses2_clean, self_rmse_ses2_t_ses1_clean], positions=[0, 1])\n",
    "violin = sns.violinplot([self_rmse_ses1_t_ses2_clean, self_rmse_ses2_t_ses1_clean], \n",
    "                        palette=['tab:red', 'tab:purple'], inner = None)\n",
    "\n",
    "for col in violin.collections:\n",
    "    col.set_alpha(0.5)\n",
    "\n",
    "plt.scatter([0] * len(self_rmse_ses1_t_ses2_clean), self_rmse_ses1_t_ses2_clean, \n",
    "            color='tab:red', alpha = 0.1, label='ses1-ses2')\n",
    "plt.scatter([1] * len(self_rmse_ses2_t_ses1_clean), self_rmse_ses2_t_ses1_clean, \n",
    "            color='tab:purple', alpha = 0.1, label='ses2-ses1')\n",
    "min_len = min(len(self_rmse_ses1_t_ses2_clean), len(self_rmse_ses2_t_ses1_clean))\n",
    "for i in range(min_len):\n",
    "    plt.plot([0, 1], [self_rmse_ses1_t_ses2_clean[i], self_rmse_ses2_t_ses1_clean[i]], \n",
    "             color='gray', linestyle='--', alpha=0.1)\n",
    "\n",
    "plt.title(f'Distribution of refitted rsme (ses1-ses2 vs ses2-ses1')\n",
    "\n",
    "t_stat, p_value = ttest_rel(self_rmse_ses1_t_ses2_clean, self_rmse_ses2_t_ses1_clean)\n",
    "plt.xticks([0, 1], ['ses1-ses2', 'ses2-ses1'])\n",
    "plt.text(0.35, -0.02, f't-test: {t_stat:.2f}, p-value: {p_value:.2f}')\n",
    "plt.show()"
   ],
   "outputs": [],
   "metadata": {}
  },
  {
   "cell_type": "code",
   "execution_count": null,
   "source": [],
   "outputs": [],
   "metadata": {}
  }
 ],
 "metadata": {
  "kernelspec": {
   "name": "python3",
   "display_name": "Python 3.7.11 64-bit ('py37': conda)"
  },
  "language_info": {
   "codemirror_mode": {
    "name": "ipython",
    "version": 3
   },
   "file_extension": ".py",
   "mimetype": "text/x-python",
   "name": "python",
   "nbconvert_exporter": "python",
   "pygments_lexer": "ipython3",
   "version": "3.7.11"
  },
  "interpreter": {
   "hash": "30fd9c97283ec1278eec212a8f8afab06ad903f38228c32cacb469eba8e56f4f"
  }
 },
 "nbformat": 4,
 "nbformat_minor": 5
}
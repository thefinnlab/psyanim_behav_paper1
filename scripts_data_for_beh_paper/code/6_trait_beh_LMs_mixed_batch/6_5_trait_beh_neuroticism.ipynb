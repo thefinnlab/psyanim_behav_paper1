{
 "cells": [
  {
   "cell_type": "code",
   "execution_count": 1,
   "source": [
    "print(\"Hello, R in Jupyter!\")"
   ],
   "outputs": [
    {
     "output_type": "stream",
     "name": "stdout",
     "text": [
      "[1] \"Hello, R in Jupyter!\"\n"
     ]
    }
   ],
   "metadata": {}
  },
  {
   "cell_type": "code",
   "execution_count": 2,
   "source": [
    "# Basic arithmetic\n",
    "result <- 2 + 2\n",
    "print(result)"
   ],
   "outputs": [
    {
     "output_type": "stream",
     "name": "stdout",
     "text": [
      "[1] 4\n"
     ]
    }
   ],
   "metadata": {}
  },
  {
   "cell_type": "code",
   "execution_count": 3,
   "source": [
    "root_dir = '../../data/subtlety_playfight_data/'#/Users/f0053cz/Documents/psyanim_v2/scripts_for_beh_paper/data/subtlety_playfight_data/'\n",
    "data <- read.csv(paste(root_dir,'curvefit_traits_merged_linearpf_withPC1.csv', sep = \"/\"))\n",
    "# print(data)\n",
    "head(data, 5)"
   ],
   "outputs": [
    {
     "output_type": "display_data",
     "data": {
      "text/html": [
       "<table class=\"dataframe\">\n",
       "<caption>A data.frame: 5 × 44</caption>\n",
       "<thead>\n",
       "\t<tr><th></th><th scope=col>X</th><th scope=col>index</th><th scope=col>subID</th><th scope=col>r_squared_subt</th><th scope=col>nrmse_subt</th><th scope=col>aic_subt</th><th scope=col>center</th><th scope=col>PSE_subt</th><th scope=col>sigma_subt</th><th scope=col>bias_xmin_subt</th><th scope=col>⋯</th><th scope=col>posAffect</th><th scope=col>negAffect</th><th scope=col>neuroticism</th><th scope=col>extraversion</th><th scope=col>openness</th><th scope=col>agreeableness</th><th scope=col>conscientiousness</th><th scope=col>loneliness</th><th scope=col>nfriends</th><th scope=col>PC1</th></tr>\n",
       "\t<tr><th></th><th scope=col>&lt;int&gt;</th><th scope=col>&lt;int&gt;</th><th scope=col>&lt;dbl&gt;</th><th scope=col>&lt;dbl&gt;</th><th scope=col>&lt;dbl&gt;</th><th scope=col>&lt;dbl&gt;</th><th scope=col>&lt;dbl&gt;</th><th scope=col>&lt;dbl&gt;</th><th scope=col>&lt;dbl&gt;</th><th scope=col>&lt;dbl&gt;</th><th scope=col>⋯</th><th scope=col>&lt;dbl&gt;</th><th scope=col>&lt;dbl&gt;</th><th scope=col>&lt;dbl&gt;</th><th scope=col>&lt;dbl&gt;</th><th scope=col>&lt;dbl&gt;</th><th scope=col>&lt;dbl&gt;</th><th scope=col>&lt;dbl&gt;</th><th scope=col>&lt;dbl&gt;</th><th scope=col>&lt;dbl&gt;</th><th scope=col>&lt;dbl&gt;</th></tr>\n",
       "</thead>\n",
       "<tbody>\n",
       "\t<tr><th scope=row>1</th><td>0</td><td>0</td><td>30002</td><td>0.9789465</td><td>0.05958450</td><td>-35.48504</td><td>0.5461832</td><td>0.5529510</td><td>0.10335957</td><td>0.031291240</td><td>⋯</td><td>20</td><td> 0</td><td>38</td><td>28.00000</td><td>31.00000</td><td>34</td><td>39</td><td>56</td><td>3</td><td> 16.10785</td></tr>\n",
       "\t<tr><th scope=row>2</th><td>1</td><td>1</td><td>30004</td><td>0.9947840</td><td>0.03131009</td><td>-44.49341</td><td>0.3112003</td><td>0.2768959</td><td>0.07686605</td><td>0.194060972</td><td>⋯</td><td>25</td><td>11</td><td>38</td><td>26.18182</td><td>50.00000</td><td>50</td><td>46</td><td>56</td><td>3</td><td> 13.40826</td></tr>\n",
       "\t<tr><th scope=row>3</th><td>2</td><td>2</td><td>30005</td><td>0.9856356</td><td>0.04832041</td><td>-38.41862</td><td>0.3800630</td><td>0.3205832</td><td>0.11535284</td><td>0.249788688</td><td>⋯</td><td>20</td><td>21</td><td>51</td><td>39.00000</td><td>40.00000</td><td>43</td><td>19</td><td>41</td><td>5</td><td> 20.62867</td></tr>\n",
       "\t<tr><th scope=row>4</th><td>3</td><td>3</td><td>30006</td><td>0.9837098</td><td>0.05739903</td><td>-36.00819</td><td>0.4658866</td><td>0.4648232</td><td>0.07922090</td><td>0.009432723</td><td>⋯</td><td>25</td><td> 0</td><td>18</td><td>41.00000</td><td>31.00000</td><td>44</td><td>57</td><td>30</td><td>4</td><td>-27.57041</td></tr>\n",
       "\t<tr><th scope=row>5</th><td>4</td><td>4</td><td>30008</td><td>0.9007922</td><td>0.11023567</td><td>-26.87189</td><td>0.3854147</td><td>0.3251178</td><td>0.17258480</td><td>0.289378203</td><td>⋯</td><td>28</td><td> 4</td><td>27</td><td>46.00000</td><td>42.54545</td><td>46</td><td>50</td><td>45</td><td>5</td><td>-12.51604</td></tr>\n",
       "</tbody>\n",
       "</table>\n"
      ],
      "text/latex": [
       "A data.frame: 5 × 44\n",
       "\\begin{tabular}{r|lllllllllllllllllllll}\n",
       "  & X & index & subID & r\\_squared\\_subt & nrmse\\_subt & aic\\_subt & center & PSE\\_subt & sigma\\_subt & bias\\_xmin\\_subt & ⋯ & posAffect & negAffect & neuroticism & extraversion & openness & agreeableness & conscientiousness & loneliness & nfriends & PC1\\\\\n",
       "  & <int> & <int> & <dbl> & <dbl> & <dbl> & <dbl> & <dbl> & <dbl> & <dbl> & <dbl> & ⋯ & <dbl> & <dbl> & <dbl> & <dbl> & <dbl> & <dbl> & <dbl> & <dbl> & <dbl> & <dbl>\\\\\n",
       "\\hline\n",
       "\t1 & 0 & 0 & 30002 & 0.9789465 & 0.05958450 & -35.48504 & 0.5461832 & 0.5529510 & 0.10335957 & 0.031291240 & ⋯ & 20 &  0 & 38 & 28.00000 & 31.00000 & 34 & 39 & 56 & 3 &  16.10785\\\\\n",
       "\t2 & 1 & 1 & 30004 & 0.9947840 & 0.03131009 & -44.49341 & 0.3112003 & 0.2768959 & 0.07686605 & 0.194060972 & ⋯ & 25 & 11 & 38 & 26.18182 & 50.00000 & 50 & 46 & 56 & 3 &  13.40826\\\\\n",
       "\t3 & 2 & 2 & 30005 & 0.9856356 & 0.04832041 & -38.41862 & 0.3800630 & 0.3205832 & 0.11535284 & 0.249788688 & ⋯ & 20 & 21 & 51 & 39.00000 & 40.00000 & 43 & 19 & 41 & 5 &  20.62867\\\\\n",
       "\t4 & 3 & 3 & 30006 & 0.9837098 & 0.05739903 & -36.00819 & 0.4658866 & 0.4648232 & 0.07922090 & 0.009432723 & ⋯ & 25 &  0 & 18 & 41.00000 & 31.00000 & 44 & 57 & 30 & 4 & -27.57041\\\\\n",
       "\t5 & 4 & 4 & 30008 & 0.9007922 & 0.11023567 & -26.87189 & 0.3854147 & 0.3251178 & 0.17258480 & 0.289378203 & ⋯ & 28 &  4 & 27 & 46.00000 & 42.54545 & 46 & 50 & 45 & 5 & -12.51604\\\\\n",
       "\\end{tabular}\n"
      ],
      "text/markdown": [
       "\n",
       "A data.frame: 5 × 44\n",
       "\n",
       "| <!--/--> | X &lt;int&gt; | index &lt;int&gt; | subID &lt;dbl&gt; | r_squared_subt &lt;dbl&gt; | nrmse_subt &lt;dbl&gt; | aic_subt &lt;dbl&gt; | center &lt;dbl&gt; | PSE_subt &lt;dbl&gt; | sigma_subt &lt;dbl&gt; | bias_xmin_subt &lt;dbl&gt; | ⋯ ⋯ | posAffect &lt;dbl&gt; | negAffect &lt;dbl&gt; | neuroticism &lt;dbl&gt; | extraversion &lt;dbl&gt; | openness &lt;dbl&gt; | agreeableness &lt;dbl&gt; | conscientiousness &lt;dbl&gt; | loneliness &lt;dbl&gt; | nfriends &lt;dbl&gt; | PC1 &lt;dbl&gt; |\n",
       "|---|---|---|---|---|---|---|---|---|---|---|---|---|---|---|---|---|---|---|---|---|---|\n",
       "| 1 | 0 | 0 | 30002 | 0.9789465 | 0.05958450 | -35.48504 | 0.5461832 | 0.5529510 | 0.10335957 | 0.031291240 | ⋯ | 20 |  0 | 38 | 28.00000 | 31.00000 | 34 | 39 | 56 | 3 |  16.10785 |\n",
       "| 2 | 1 | 1 | 30004 | 0.9947840 | 0.03131009 | -44.49341 | 0.3112003 | 0.2768959 | 0.07686605 | 0.194060972 | ⋯ | 25 | 11 | 38 | 26.18182 | 50.00000 | 50 | 46 | 56 | 3 |  13.40826 |\n",
       "| 3 | 2 | 2 | 30005 | 0.9856356 | 0.04832041 | -38.41862 | 0.3800630 | 0.3205832 | 0.11535284 | 0.249788688 | ⋯ | 20 | 21 | 51 | 39.00000 | 40.00000 | 43 | 19 | 41 | 5 |  20.62867 |\n",
       "| 4 | 3 | 3 | 30006 | 0.9837098 | 0.05739903 | -36.00819 | 0.4658866 | 0.4648232 | 0.07922090 | 0.009432723 | ⋯ | 25 |  0 | 18 | 41.00000 | 31.00000 | 44 | 57 | 30 | 4 | -27.57041 |\n",
       "| 5 | 4 | 4 | 30008 | 0.9007922 | 0.11023567 | -26.87189 | 0.3854147 | 0.3251178 | 0.17258480 | 0.289378203 | ⋯ | 28 |  4 | 27 | 46.00000 | 42.54545 | 46 | 50 | 45 | 5 | -12.51604 |\n",
       "\n"
      ],
      "text/plain": [
       "  X index subID r_squared_subt nrmse_subt aic_subt  center    PSE_subt \n",
       "1 0 0     30002 0.9789465      0.05958450 -35.48504 0.5461832 0.5529510\n",
       "2 1 1     30004 0.9947840      0.03131009 -44.49341 0.3112003 0.2768959\n",
       "3 2 2     30005 0.9856356      0.04832041 -38.41862 0.3800630 0.3205832\n",
       "4 3 3     30006 0.9837098      0.05739903 -36.00819 0.4658866 0.4648232\n",
       "5 4 4     30008 0.9007922      0.11023567 -26.87189 0.3854147 0.3251178\n",
       "  sigma_subt bias_xmin_subt ⋯ posAffect negAffect neuroticism extraversion\n",
       "1 0.10335957 0.031291240    ⋯ 20         0        38          28.00000    \n",
       "2 0.07686605 0.194060972    ⋯ 25        11        38          26.18182    \n",
       "3 0.11535284 0.249788688    ⋯ 20        21        51          39.00000    \n",
       "4 0.07922090 0.009432723    ⋯ 25         0        18          41.00000    \n",
       "5 0.17258480 0.289378203    ⋯ 28         4        27          46.00000    \n",
       "  openness agreeableness conscientiousness loneliness nfriends PC1      \n",
       "1 31.00000 34            39                56         3         16.10785\n",
       "2 50.00000 50            46                56         3         13.40826\n",
       "3 40.00000 43            19                41         5         20.62867\n",
       "4 31.00000 44            57                30         4        -27.57041\n",
       "5 42.54545 46            50                45         5        -12.51604"
      ]
     },
     "metadata": {}
    }
   ],
   "metadata": {}
  },
  {
   "cell_type": "code",
   "execution_count": 4,
   "source": [
    "colnames(data)"
   ],
   "outputs": [
    {
     "output_type": "display_data",
     "data": {
      "text/html": [
       "<style>\n",
       ".list-inline {list-style: none; margin:0; padding: 0}\n",
       ".list-inline>li {display: inline-block}\n",
       ".list-inline>li:not(:last-child)::after {content: \"\\00b7\"; padding: 0 .5ex}\n",
       "</style>\n",
       "<ol class=list-inline><li>'X'</li><li>'index'</li><li>'subID'</li><li>'r_squared_subt'</li><li>'nrmse_subt'</li><li>'aic_subt'</li><li>'center'</li><li>'PSE_subt'</li><li>'sigma_subt'</li><li>'bias_xmin_subt'</li><li>'bias_xmax_subt'</li><li>'bias_lower_subt'</li><li>'bias_upper_subt'</li><li>'flipped_subt'</li><li>'range_subt'</li><li>'bias_subt'</li><li>'r_squared_pf'</li><li>'nrmse_pf'</li><li>'aic_pf'</li><li>'PSE_pf'</li><li>'slope_pf'</li><li>'intercept'</li><li>'bias_xmin_pf'</li><li>'bias_xmax_pf'</li><li>'bias_lower_pf'</li><li>'bias_upper_pf'</li><li>'flipped_pf'</li><li>'range_pf'</li><li>'bias_pf'</li><li>'social_skill'</li><li>'attn_switch'</li><li>'img'</li><li>'attn_to_det'</li><li>'comm'</li><li>'posAffect'</li><li>'negAffect'</li><li>'neuroticism'</li><li>'extraversion'</li><li>'openness'</li><li>'agreeableness'</li><li>'conscientiousness'</li><li>'loneliness'</li><li>'nfriends'</li><li>'PC1'</li></ol>\n"
      ],
      "text/latex": [
       "\\begin{enumerate*}\n",
       "\\item 'X'\n",
       "\\item 'index'\n",
       "\\item 'subID'\n",
       "\\item 'r\\_squared\\_subt'\n",
       "\\item 'nrmse\\_subt'\n",
       "\\item 'aic\\_subt'\n",
       "\\item 'center'\n",
       "\\item 'PSE\\_subt'\n",
       "\\item 'sigma\\_subt'\n",
       "\\item 'bias\\_xmin\\_subt'\n",
       "\\item 'bias\\_xmax\\_subt'\n",
       "\\item 'bias\\_lower\\_subt'\n",
       "\\item 'bias\\_upper\\_subt'\n",
       "\\item 'flipped\\_subt'\n",
       "\\item 'range\\_subt'\n",
       "\\item 'bias\\_subt'\n",
       "\\item 'r\\_squared\\_pf'\n",
       "\\item 'nrmse\\_pf'\n",
       "\\item 'aic\\_pf'\n",
       "\\item 'PSE\\_pf'\n",
       "\\item 'slope\\_pf'\n",
       "\\item 'intercept'\n",
       "\\item 'bias\\_xmin\\_pf'\n",
       "\\item 'bias\\_xmax\\_pf'\n",
       "\\item 'bias\\_lower\\_pf'\n",
       "\\item 'bias\\_upper\\_pf'\n",
       "\\item 'flipped\\_pf'\n",
       "\\item 'range\\_pf'\n",
       "\\item 'bias\\_pf'\n",
       "\\item 'social\\_skill'\n",
       "\\item 'attn\\_switch'\n",
       "\\item 'img'\n",
       "\\item 'attn\\_to\\_det'\n",
       "\\item 'comm'\n",
       "\\item 'posAffect'\n",
       "\\item 'negAffect'\n",
       "\\item 'neuroticism'\n",
       "\\item 'extraversion'\n",
       "\\item 'openness'\n",
       "\\item 'agreeableness'\n",
       "\\item 'conscientiousness'\n",
       "\\item 'loneliness'\n",
       "\\item 'nfriends'\n",
       "\\item 'PC1'\n",
       "\\end{enumerate*}\n"
      ],
      "text/markdown": [
       "1. 'X'\n",
       "2. 'index'\n",
       "3. 'subID'\n",
       "4. 'r_squared_subt'\n",
       "5. 'nrmse_subt'\n",
       "6. 'aic_subt'\n",
       "7. 'center'\n",
       "8. 'PSE_subt'\n",
       "9. 'sigma_subt'\n",
       "10. 'bias_xmin_subt'\n",
       "11. 'bias_xmax_subt'\n",
       "12. 'bias_lower_subt'\n",
       "13. 'bias_upper_subt'\n",
       "14. 'flipped_subt'\n",
       "15. 'range_subt'\n",
       "16. 'bias_subt'\n",
       "17. 'r_squared_pf'\n",
       "18. 'nrmse_pf'\n",
       "19. 'aic_pf'\n",
       "20. 'PSE_pf'\n",
       "21. 'slope_pf'\n",
       "22. 'intercept'\n",
       "23. 'bias_xmin_pf'\n",
       "24. 'bias_xmax_pf'\n",
       "25. 'bias_lower_pf'\n",
       "26. 'bias_upper_pf'\n",
       "27. 'flipped_pf'\n",
       "28. 'range_pf'\n",
       "29. 'bias_pf'\n",
       "30. 'social_skill'\n",
       "31. 'attn_switch'\n",
       "32. 'img'\n",
       "33. 'attn_to_det'\n",
       "34. 'comm'\n",
       "35. 'posAffect'\n",
       "36. 'negAffect'\n",
       "37. 'neuroticism'\n",
       "38. 'extraversion'\n",
       "39. 'openness'\n",
       "40. 'agreeableness'\n",
       "41. 'conscientiousness'\n",
       "42. 'loneliness'\n",
       "43. 'nfriends'\n",
       "44. 'PC1'\n",
       "\n",
       "\n"
      ],
      "text/plain": [
       " [1] \"X\"                 \"index\"             \"subID\"            \n",
       " [4] \"r_squared_subt\"    \"nrmse_subt\"        \"aic_subt\"         \n",
       " [7] \"center\"            \"PSE_subt\"          \"sigma_subt\"       \n",
       "[10] \"bias_xmin_subt\"    \"bias_xmax_subt\"    \"bias_lower_subt\"  \n",
       "[13] \"bias_upper_subt\"   \"flipped_subt\"      \"range_subt\"       \n",
       "[16] \"bias_subt\"         \"r_squared_pf\"      \"nrmse_pf\"         \n",
       "[19] \"aic_pf\"            \"PSE_pf\"            \"slope_pf\"         \n",
       "[22] \"intercept\"         \"bias_xmin_pf\"      \"bias_xmax_pf\"     \n",
       "[25] \"bias_lower_pf\"     \"bias_upper_pf\"     \"flipped_pf\"       \n",
       "[28] \"range_pf\"          \"bias_pf\"           \"social_skill\"     \n",
       "[31] \"attn_switch\"       \"img\"               \"attn_to_det\"      \n",
       "[34] \"comm\"              \"posAffect\"         \"negAffect\"        \n",
       "[37] \"neuroticism\"       \"extraversion\"      \"openness\"         \n",
       "[40] \"agreeableness\"     \"conscientiousness\" \"loneliness\"       \n",
       "[43] \"nfriends\"          \"PC1\"              "
      ]
     },
     "metadata": {}
    }
   ],
   "metadata": {}
  },
  {
   "cell_type": "code",
   "execution_count": 5,
   "source": [
    "# Print the dimensions of the data frame\n",
    "print(dim(data))\n",
    "\n",
    "# Drop rows with NA values\n",
    "data <- na.omit(data)\n",
    "\n",
    "# Print the dimensions of the data frame after dropping NA values\n",
    "print(dim(data))"
   ],
   "outputs": [
    {
     "output_type": "stream",
     "name": "stdout",
     "text": [
      "[1] 275  44\n",
      "[1] 275  44\n"
     ]
    }
   ],
   "metadata": {}
  },
  {
   "cell_type": "code",
   "execution_count": 6,
   "source": [
    "trait <- 'neuroticism'"
   ],
   "outputs": [],
   "metadata": {}
  },
  {
   "cell_type": "code",
   "execution_count": 7,
   "source": [
    "# new_terms = ['obj_center','amplitude','bias_xmin_norm','sigma']\n",
    "new_terms <- c(trait,'PSE_subt', 'range_subt', 'bias_subt', 'sigma_subt', 'PSE_pf', 'range_pf', 'bias_pf', 'slope_pf')\n",
    "new_terms"
   ],
   "outputs": [
    {
     "output_type": "display_data",
     "data": {
      "text/html": [
       "<style>\n",
       ".list-inline {list-style: none; margin:0; padding: 0}\n",
       ".list-inline>li {display: inline-block}\n",
       ".list-inline>li:not(:last-child)::after {content: \"\\00b7\"; padding: 0 .5ex}\n",
       "</style>\n",
       "<ol class=list-inline><li>'neuroticism'</li><li>'PSE_subt'</li><li>'range_subt'</li><li>'bias_subt'</li><li>'sigma_subt'</li><li>'PSE_pf'</li><li>'range_pf'</li><li>'bias_pf'</li><li>'slope_pf'</li></ol>\n"
      ],
      "text/latex": [
       "\\begin{enumerate*}\n",
       "\\item 'neuroticism'\n",
       "\\item 'PSE\\_subt'\n",
       "\\item 'range\\_subt'\n",
       "\\item 'bias\\_subt'\n",
       "\\item 'sigma\\_subt'\n",
       "\\item 'PSE\\_pf'\n",
       "\\item 'range\\_pf'\n",
       "\\item 'bias\\_pf'\n",
       "\\item 'slope\\_pf'\n",
       "\\end{enumerate*}\n"
      ],
      "text/markdown": [
       "1. 'neuroticism'\n",
       "2. 'PSE_subt'\n",
       "3. 'range_subt'\n",
       "4. 'bias_subt'\n",
       "5. 'sigma_subt'\n",
       "6. 'PSE_pf'\n",
       "7. 'range_pf'\n",
       "8. 'bias_pf'\n",
       "9. 'slope_pf'\n",
       "\n",
       "\n"
      ],
      "text/plain": [
       "[1] \"neuroticism\" \"PSE_subt\"    \"range_subt\"  \"bias_subt\"   \"sigma_subt\" \n",
       "[6] \"PSE_pf\"      \"range_pf\"    \"bias_pf\"     \"slope_pf\"   "
      ]
     },
     "metadata": {}
    }
   ],
   "metadata": {}
  },
  {
   "cell_type": "markdown",
   "source": [
    "# mult reg (relevant traits and curve fits)"
   ],
   "metadata": {}
  },
  {
   "cell_type": "code",
   "execution_count": 8,
   "source": [
    "# install.packages(\"dplyr\")\n",
    "library(dplyr)\n",
    "\n",
    "# # Rename specific columns\n",
    "# data <- data %>% rename(\n",
    "#   pos_affect = Positive_reweigh,\n",
    "#   PSE_subt = obj_center_subt,\n",
    "#   range_subt = amplitude_subt,\n",
    "#   bias_subt = bias_xmin_norm_subt,\n",
    "#   PSE_pf = obj_center_pf,\n",
    "#   range_pf = amplitude_pf,\n",
    "#   bias_pf = bias_xmin_norm_pf,\n",
    "#   PSE_diff = obj_center_diff,\n",
    "#   range_diff = amplitude_diff,\n",
    "#   bias_diff = bias_xmin_norm_diff\n",
    "# )"
   ],
   "outputs": [
    {
     "output_type": "stream",
     "name": "stderr",
     "text": [
      "\n",
      "Attaching package: ‘dplyr’\n",
      "\n",
      "\n",
      "The following objects are masked from ‘package:stats’:\n",
      "\n",
      "    filter, lag\n",
      "\n",
      "\n",
      "The following objects are masked from ‘package:base’:\n",
      "\n",
      "    intersect, setdiff, setequal, union\n",
      "\n",
      "\n"
     ]
    }
   ],
   "metadata": {}
  },
  {
   "cell_type": "code",
   "execution_count": 9,
   "source": [
    "head(data, 5)"
   ],
   "outputs": [
    {
     "output_type": "display_data",
     "data": {
      "text/html": [
       "<table class=\"dataframe\">\n",
       "<caption>A data.frame: 5 × 44</caption>\n",
       "<thead>\n",
       "\t<tr><th></th><th scope=col>X</th><th scope=col>index</th><th scope=col>subID</th><th scope=col>r_squared_subt</th><th scope=col>nrmse_subt</th><th scope=col>aic_subt</th><th scope=col>center</th><th scope=col>PSE_subt</th><th scope=col>sigma_subt</th><th scope=col>bias_xmin_subt</th><th scope=col>⋯</th><th scope=col>posAffect</th><th scope=col>negAffect</th><th scope=col>neuroticism</th><th scope=col>extraversion</th><th scope=col>openness</th><th scope=col>agreeableness</th><th scope=col>conscientiousness</th><th scope=col>loneliness</th><th scope=col>nfriends</th><th scope=col>PC1</th></tr>\n",
       "\t<tr><th></th><th scope=col>&lt;int&gt;</th><th scope=col>&lt;int&gt;</th><th scope=col>&lt;dbl&gt;</th><th scope=col>&lt;dbl&gt;</th><th scope=col>&lt;dbl&gt;</th><th scope=col>&lt;dbl&gt;</th><th scope=col>&lt;dbl&gt;</th><th scope=col>&lt;dbl&gt;</th><th scope=col>&lt;dbl&gt;</th><th scope=col>&lt;dbl&gt;</th><th scope=col>⋯</th><th scope=col>&lt;dbl&gt;</th><th scope=col>&lt;dbl&gt;</th><th scope=col>&lt;dbl&gt;</th><th scope=col>&lt;dbl&gt;</th><th scope=col>&lt;dbl&gt;</th><th scope=col>&lt;dbl&gt;</th><th scope=col>&lt;dbl&gt;</th><th scope=col>&lt;dbl&gt;</th><th scope=col>&lt;dbl&gt;</th><th scope=col>&lt;dbl&gt;</th></tr>\n",
       "</thead>\n",
       "<tbody>\n",
       "\t<tr><th scope=row>1</th><td>0</td><td>0</td><td>30002</td><td>0.9789465</td><td>0.05958450</td><td>-35.48504</td><td>0.5461832</td><td>0.5529510</td><td>0.10335957</td><td>0.031291240</td><td>⋯</td><td>20</td><td> 0</td><td>38</td><td>28.00000</td><td>31.00000</td><td>34</td><td>39</td><td>56</td><td>3</td><td> 16.10785</td></tr>\n",
       "\t<tr><th scope=row>2</th><td>1</td><td>1</td><td>30004</td><td>0.9947840</td><td>0.03131009</td><td>-44.49341</td><td>0.3112003</td><td>0.2768959</td><td>0.07686605</td><td>0.194060972</td><td>⋯</td><td>25</td><td>11</td><td>38</td><td>26.18182</td><td>50.00000</td><td>50</td><td>46</td><td>56</td><td>3</td><td> 13.40826</td></tr>\n",
       "\t<tr><th scope=row>3</th><td>2</td><td>2</td><td>30005</td><td>0.9856356</td><td>0.04832041</td><td>-38.41862</td><td>0.3800630</td><td>0.3205832</td><td>0.11535284</td><td>0.249788688</td><td>⋯</td><td>20</td><td>21</td><td>51</td><td>39.00000</td><td>40.00000</td><td>43</td><td>19</td><td>41</td><td>5</td><td> 20.62867</td></tr>\n",
       "\t<tr><th scope=row>4</th><td>3</td><td>3</td><td>30006</td><td>0.9837098</td><td>0.05739903</td><td>-36.00819</td><td>0.4658866</td><td>0.4648232</td><td>0.07922090</td><td>0.009432723</td><td>⋯</td><td>25</td><td> 0</td><td>18</td><td>41.00000</td><td>31.00000</td><td>44</td><td>57</td><td>30</td><td>4</td><td>-27.57041</td></tr>\n",
       "\t<tr><th scope=row>5</th><td>4</td><td>4</td><td>30008</td><td>0.9007922</td><td>0.11023567</td><td>-26.87189</td><td>0.3854147</td><td>0.3251178</td><td>0.17258480</td><td>0.289378203</td><td>⋯</td><td>28</td><td> 4</td><td>27</td><td>46.00000</td><td>42.54545</td><td>46</td><td>50</td><td>45</td><td>5</td><td>-12.51604</td></tr>\n",
       "</tbody>\n",
       "</table>\n"
      ],
      "text/latex": [
       "A data.frame: 5 × 44\n",
       "\\begin{tabular}{r|lllllllllllllllllllll}\n",
       "  & X & index & subID & r\\_squared\\_subt & nrmse\\_subt & aic\\_subt & center & PSE\\_subt & sigma\\_subt & bias\\_xmin\\_subt & ⋯ & posAffect & negAffect & neuroticism & extraversion & openness & agreeableness & conscientiousness & loneliness & nfriends & PC1\\\\\n",
       "  & <int> & <int> & <dbl> & <dbl> & <dbl> & <dbl> & <dbl> & <dbl> & <dbl> & <dbl> & ⋯ & <dbl> & <dbl> & <dbl> & <dbl> & <dbl> & <dbl> & <dbl> & <dbl> & <dbl> & <dbl>\\\\\n",
       "\\hline\n",
       "\t1 & 0 & 0 & 30002 & 0.9789465 & 0.05958450 & -35.48504 & 0.5461832 & 0.5529510 & 0.10335957 & 0.031291240 & ⋯ & 20 &  0 & 38 & 28.00000 & 31.00000 & 34 & 39 & 56 & 3 &  16.10785\\\\\n",
       "\t2 & 1 & 1 & 30004 & 0.9947840 & 0.03131009 & -44.49341 & 0.3112003 & 0.2768959 & 0.07686605 & 0.194060972 & ⋯ & 25 & 11 & 38 & 26.18182 & 50.00000 & 50 & 46 & 56 & 3 &  13.40826\\\\\n",
       "\t3 & 2 & 2 & 30005 & 0.9856356 & 0.04832041 & -38.41862 & 0.3800630 & 0.3205832 & 0.11535284 & 0.249788688 & ⋯ & 20 & 21 & 51 & 39.00000 & 40.00000 & 43 & 19 & 41 & 5 &  20.62867\\\\\n",
       "\t4 & 3 & 3 & 30006 & 0.9837098 & 0.05739903 & -36.00819 & 0.4658866 & 0.4648232 & 0.07922090 & 0.009432723 & ⋯ & 25 &  0 & 18 & 41.00000 & 31.00000 & 44 & 57 & 30 & 4 & -27.57041\\\\\n",
       "\t5 & 4 & 4 & 30008 & 0.9007922 & 0.11023567 & -26.87189 & 0.3854147 & 0.3251178 & 0.17258480 & 0.289378203 & ⋯ & 28 &  4 & 27 & 46.00000 & 42.54545 & 46 & 50 & 45 & 5 & -12.51604\\\\\n",
       "\\end{tabular}\n"
      ],
      "text/markdown": [
       "\n",
       "A data.frame: 5 × 44\n",
       "\n",
       "| <!--/--> | X &lt;int&gt; | index &lt;int&gt; | subID &lt;dbl&gt; | r_squared_subt &lt;dbl&gt; | nrmse_subt &lt;dbl&gt; | aic_subt &lt;dbl&gt; | center &lt;dbl&gt; | PSE_subt &lt;dbl&gt; | sigma_subt &lt;dbl&gt; | bias_xmin_subt &lt;dbl&gt; | ⋯ ⋯ | posAffect &lt;dbl&gt; | negAffect &lt;dbl&gt; | neuroticism &lt;dbl&gt; | extraversion &lt;dbl&gt; | openness &lt;dbl&gt; | agreeableness &lt;dbl&gt; | conscientiousness &lt;dbl&gt; | loneliness &lt;dbl&gt; | nfriends &lt;dbl&gt; | PC1 &lt;dbl&gt; |\n",
       "|---|---|---|---|---|---|---|---|---|---|---|---|---|---|---|---|---|---|---|---|---|---|\n",
       "| 1 | 0 | 0 | 30002 | 0.9789465 | 0.05958450 | -35.48504 | 0.5461832 | 0.5529510 | 0.10335957 | 0.031291240 | ⋯ | 20 |  0 | 38 | 28.00000 | 31.00000 | 34 | 39 | 56 | 3 |  16.10785 |\n",
       "| 2 | 1 | 1 | 30004 | 0.9947840 | 0.03131009 | -44.49341 | 0.3112003 | 0.2768959 | 0.07686605 | 0.194060972 | ⋯ | 25 | 11 | 38 | 26.18182 | 50.00000 | 50 | 46 | 56 | 3 |  13.40826 |\n",
       "| 3 | 2 | 2 | 30005 | 0.9856356 | 0.04832041 | -38.41862 | 0.3800630 | 0.3205832 | 0.11535284 | 0.249788688 | ⋯ | 20 | 21 | 51 | 39.00000 | 40.00000 | 43 | 19 | 41 | 5 |  20.62867 |\n",
       "| 4 | 3 | 3 | 30006 | 0.9837098 | 0.05739903 | -36.00819 | 0.4658866 | 0.4648232 | 0.07922090 | 0.009432723 | ⋯ | 25 |  0 | 18 | 41.00000 | 31.00000 | 44 | 57 | 30 | 4 | -27.57041 |\n",
       "| 5 | 4 | 4 | 30008 | 0.9007922 | 0.11023567 | -26.87189 | 0.3854147 | 0.3251178 | 0.17258480 | 0.289378203 | ⋯ | 28 |  4 | 27 | 46.00000 | 42.54545 | 46 | 50 | 45 | 5 | -12.51604 |\n",
       "\n"
      ],
      "text/plain": [
       "  X index subID r_squared_subt nrmse_subt aic_subt  center    PSE_subt \n",
       "1 0 0     30002 0.9789465      0.05958450 -35.48504 0.5461832 0.5529510\n",
       "2 1 1     30004 0.9947840      0.03131009 -44.49341 0.3112003 0.2768959\n",
       "3 2 2     30005 0.9856356      0.04832041 -38.41862 0.3800630 0.3205832\n",
       "4 3 3     30006 0.9837098      0.05739903 -36.00819 0.4658866 0.4648232\n",
       "5 4 4     30008 0.9007922      0.11023567 -26.87189 0.3854147 0.3251178\n",
       "  sigma_subt bias_xmin_subt ⋯ posAffect negAffect neuroticism extraversion\n",
       "1 0.10335957 0.031291240    ⋯ 20         0        38          28.00000    \n",
       "2 0.07686605 0.194060972    ⋯ 25        11        38          26.18182    \n",
       "3 0.11535284 0.249788688    ⋯ 20        21        51          39.00000    \n",
       "4 0.07922090 0.009432723    ⋯ 25         0        18          41.00000    \n",
       "5 0.17258480 0.289378203    ⋯ 28         4        27          46.00000    \n",
       "  openness agreeableness conscientiousness loneliness nfriends PC1      \n",
       "1 31.00000 34            39                56         3         16.10785\n",
       "2 50.00000 50            46                56         3         13.40826\n",
       "3 40.00000 43            19                41         5         20.62867\n",
       "4 31.00000 44            57                30         4        -27.57041\n",
       "5 42.54545 46            50                45         5        -12.51604"
      ]
     },
     "metadata": {}
    }
   ],
   "metadata": {}
  },
  {
   "cell_type": "code",
   "execution_count": 10,
   "source": [
    "names(data)"
   ],
   "outputs": [
    {
     "output_type": "display_data",
     "data": {
      "text/html": [
       "<style>\n",
       ".list-inline {list-style: none; margin:0; padding: 0}\n",
       ".list-inline>li {display: inline-block}\n",
       ".list-inline>li:not(:last-child)::after {content: \"\\00b7\"; padding: 0 .5ex}\n",
       "</style>\n",
       "<ol class=list-inline><li>'X'</li><li>'index'</li><li>'subID'</li><li>'r_squared_subt'</li><li>'nrmse_subt'</li><li>'aic_subt'</li><li>'center'</li><li>'PSE_subt'</li><li>'sigma_subt'</li><li>'bias_xmin_subt'</li><li>'bias_xmax_subt'</li><li>'bias_lower_subt'</li><li>'bias_upper_subt'</li><li>'flipped_subt'</li><li>'range_subt'</li><li>'bias_subt'</li><li>'r_squared_pf'</li><li>'nrmse_pf'</li><li>'aic_pf'</li><li>'PSE_pf'</li><li>'slope_pf'</li><li>'intercept'</li><li>'bias_xmin_pf'</li><li>'bias_xmax_pf'</li><li>'bias_lower_pf'</li><li>'bias_upper_pf'</li><li>'flipped_pf'</li><li>'range_pf'</li><li>'bias_pf'</li><li>'social_skill'</li><li>'attn_switch'</li><li>'img'</li><li>'attn_to_det'</li><li>'comm'</li><li>'posAffect'</li><li>'negAffect'</li><li>'neuroticism'</li><li>'extraversion'</li><li>'openness'</li><li>'agreeableness'</li><li>'conscientiousness'</li><li>'loneliness'</li><li>'nfriends'</li><li>'PC1'</li></ol>\n"
      ],
      "text/latex": [
       "\\begin{enumerate*}\n",
       "\\item 'X'\n",
       "\\item 'index'\n",
       "\\item 'subID'\n",
       "\\item 'r\\_squared\\_subt'\n",
       "\\item 'nrmse\\_subt'\n",
       "\\item 'aic\\_subt'\n",
       "\\item 'center'\n",
       "\\item 'PSE\\_subt'\n",
       "\\item 'sigma\\_subt'\n",
       "\\item 'bias\\_xmin\\_subt'\n",
       "\\item 'bias\\_xmax\\_subt'\n",
       "\\item 'bias\\_lower\\_subt'\n",
       "\\item 'bias\\_upper\\_subt'\n",
       "\\item 'flipped\\_subt'\n",
       "\\item 'range\\_subt'\n",
       "\\item 'bias\\_subt'\n",
       "\\item 'r\\_squared\\_pf'\n",
       "\\item 'nrmse\\_pf'\n",
       "\\item 'aic\\_pf'\n",
       "\\item 'PSE\\_pf'\n",
       "\\item 'slope\\_pf'\n",
       "\\item 'intercept'\n",
       "\\item 'bias\\_xmin\\_pf'\n",
       "\\item 'bias\\_xmax\\_pf'\n",
       "\\item 'bias\\_lower\\_pf'\n",
       "\\item 'bias\\_upper\\_pf'\n",
       "\\item 'flipped\\_pf'\n",
       "\\item 'range\\_pf'\n",
       "\\item 'bias\\_pf'\n",
       "\\item 'social\\_skill'\n",
       "\\item 'attn\\_switch'\n",
       "\\item 'img'\n",
       "\\item 'attn\\_to\\_det'\n",
       "\\item 'comm'\n",
       "\\item 'posAffect'\n",
       "\\item 'negAffect'\n",
       "\\item 'neuroticism'\n",
       "\\item 'extraversion'\n",
       "\\item 'openness'\n",
       "\\item 'agreeableness'\n",
       "\\item 'conscientiousness'\n",
       "\\item 'loneliness'\n",
       "\\item 'nfriends'\n",
       "\\item 'PC1'\n",
       "\\end{enumerate*}\n"
      ],
      "text/markdown": [
       "1. 'X'\n",
       "2. 'index'\n",
       "3. 'subID'\n",
       "4. 'r_squared_subt'\n",
       "5. 'nrmse_subt'\n",
       "6. 'aic_subt'\n",
       "7. 'center'\n",
       "8. 'PSE_subt'\n",
       "9. 'sigma_subt'\n",
       "10. 'bias_xmin_subt'\n",
       "11. 'bias_xmax_subt'\n",
       "12. 'bias_lower_subt'\n",
       "13. 'bias_upper_subt'\n",
       "14. 'flipped_subt'\n",
       "15. 'range_subt'\n",
       "16. 'bias_subt'\n",
       "17. 'r_squared_pf'\n",
       "18. 'nrmse_pf'\n",
       "19. 'aic_pf'\n",
       "20. 'PSE_pf'\n",
       "21. 'slope_pf'\n",
       "22. 'intercept'\n",
       "23. 'bias_xmin_pf'\n",
       "24. 'bias_xmax_pf'\n",
       "25. 'bias_lower_pf'\n",
       "26. 'bias_upper_pf'\n",
       "27. 'flipped_pf'\n",
       "28. 'range_pf'\n",
       "29. 'bias_pf'\n",
       "30. 'social_skill'\n",
       "31. 'attn_switch'\n",
       "32. 'img'\n",
       "33. 'attn_to_det'\n",
       "34. 'comm'\n",
       "35. 'posAffect'\n",
       "36. 'negAffect'\n",
       "37. 'neuroticism'\n",
       "38. 'extraversion'\n",
       "39. 'openness'\n",
       "40. 'agreeableness'\n",
       "41. 'conscientiousness'\n",
       "42. 'loneliness'\n",
       "43. 'nfriends'\n",
       "44. 'PC1'\n",
       "\n",
       "\n"
      ],
      "text/plain": [
       " [1] \"X\"                 \"index\"             \"subID\"            \n",
       " [4] \"r_squared_subt\"    \"nrmse_subt\"        \"aic_subt\"         \n",
       " [7] \"center\"            \"PSE_subt\"          \"sigma_subt\"       \n",
       "[10] \"bias_xmin_subt\"    \"bias_xmax_subt\"    \"bias_lower_subt\"  \n",
       "[13] \"bias_upper_subt\"   \"flipped_subt\"      \"range_subt\"       \n",
       "[16] \"bias_subt\"         \"r_squared_pf\"      \"nrmse_pf\"         \n",
       "[19] \"aic_pf\"            \"PSE_pf\"            \"slope_pf\"         \n",
       "[22] \"intercept\"         \"bias_xmin_pf\"      \"bias_xmax_pf\"     \n",
       "[25] \"bias_lower_pf\"     \"bias_upper_pf\"     \"flipped_pf\"       \n",
       "[28] \"range_pf\"          \"bias_pf\"           \"social_skill\"     \n",
       "[31] \"attn_switch\"       \"img\"               \"attn_to_det\"      \n",
       "[34] \"comm\"              \"posAffect\"         \"negAffect\"        \n",
       "[37] \"neuroticism\"       \"extraversion\"      \"openness\"         \n",
       "[40] \"agreeableness\"     \"conscientiousness\" \"loneliness\"       \n",
       "[43] \"nfriends\"          \"PC1\"              "
      ]
     },
     "metadata": {}
    }
   ],
   "metadata": {}
  },
  {
   "cell_type": "code",
   "execution_count": 11,
   "source": [
    "formula <- as.formula(paste(trait,\" ~ PSE_subt + range_subt + bias_subt + sigma_subt\"))\n",
    "m1 <- lm(formula, data = data)\n",
    "summary(m1)"
   ],
   "outputs": [
    {
     "output_type": "display_data",
     "data": {
      "text/plain": [
       "\n",
       "Call:\n",
       "lm(formula = formula, data = data)\n",
       "\n",
       "Residuals:\n",
       "     Min       1Q   Median       3Q      Max \n",
       "-23.1566  -8.4887   0.8502   7.8305  24.1796 \n",
       "\n",
       "Coefficients:\n",
       "            Estimate Std. Error t value Pr(>|t|)    \n",
       "(Intercept) 30.91829    5.04845   6.124  3.2e-09 ***\n",
       "PSE_subt    -1.31594    7.99217  -0.165    0.869    \n",
       "range_subt   4.44299    4.81511   0.923    0.357    \n",
       "bias_subt   -0.04075    4.40530  -0.009    0.993    \n",
       "sigma_subt  10.42335   15.68057   0.665    0.507    \n",
       "---\n",
       "Signif. codes:  0 ‘***’ 0.001 ‘**’ 0.01 ‘*’ 0.05 ‘.’ 0.1 ‘ ’ 1\n",
       "\n",
       "Residual standard error: 10.76 on 270 degrees of freedom\n",
       "Multiple R-squared:  0.004655,\tAdjusted R-squared:  -0.01009 \n",
       "F-statistic: 0.3157 on 4 and 270 DF,  p-value: 0.8674\n"
      ]
     },
     "metadata": {}
    }
   ],
   "metadata": {}
  },
  {
   "cell_type": "code",
   "execution_count": 12,
   "source": [
    "# Select specific columns (e.g., A and C) and z-score them\n",
    "df_zscore <- as.data.frame(scale(data[, c(trait,\"PSE_subt\", \"range_subt\",\"bias_subt\",\"sigma_subt\",\"PSE_pf\",\"slope_pf\",\"bias_pf\")]))\n",
    "\n",
    "# Print the new data frame with z-scored values\n",
    "head(df_zscore,5)"
   ],
   "outputs": [
    {
     "output_type": "display_data",
     "data": {
      "text/html": [
       "<table class=\"dataframe\">\n",
       "<caption>A data.frame: 5 × 8</caption>\n",
       "<thead>\n",
       "\t<tr><th></th><th scope=col>neuroticism</th><th scope=col>PSE_subt</th><th scope=col>range_subt</th><th scope=col>bias_subt</th><th scope=col>sigma_subt</th><th scope=col>PSE_pf</th><th scope=col>slope_pf</th><th scope=col>bias_pf</th></tr>\n",
       "\t<tr><th></th><th scope=col>&lt;dbl&gt;</th><th scope=col>&lt;dbl&gt;</th><th scope=col>&lt;dbl&gt;</th><th scope=col>&lt;dbl&gt;</th><th scope=col>&lt;dbl&gt;</th><th scope=col>&lt;dbl&gt;</th><th scope=col>&lt;dbl&gt;</th><th scope=col>&lt;dbl&gt;</th></tr>\n",
       "</thead>\n",
       "<tbody>\n",
       "\t<tr><th scope=row>1</th><td> 0.3282499</td><td> 1.5767321</td><td> 1.14088842</td><td>-2.1658855</td><td> 0.1395287</td><td> 0.2326507</td><td> 0.7313928</td><td>-0.0852494</td></tr>\n",
       "\t<tr><th scope=row>2</th><td> 0.3282499</td><td>-0.8390867</td><td> 0.62095979</td><td> 1.3894942</td><td>-0.4557972</td><td>-2.0430898</td><td>-0.7165475</td><td> 0.9400053</td></tr>\n",
       "\t<tr><th scope=row>3</th><td> 1.5428864</td><td>-0.4567697</td><td> 0.09711613</td><td> 0.6735449</td><td> 0.4090250</td><td> 0.3044776</td><td> 0.9973410</td><td>-0.2247607</td></tr>\n",
       "\t<tr><th scope=row>4</th><td>-1.5404216</td><td> 0.8055069</td><td> 1.62571731</td><td> 0.8182752</td><td>-0.4028821</td><td>-1.2009126</td><td> 0.4588780</td><td> 1.5583760</td></tr>\n",
       "\t<tr><th scope=row>5</th><td>-0.6995194</td><td>-0.4170865</td><td>-0.60284999</td><td>-0.2050663</td><td> 1.6950628</td><td>-0.8078972</td><td>-0.5244737</td><td> 0.4165962</td></tr>\n",
       "</tbody>\n",
       "</table>\n"
      ],
      "text/latex": [
       "A data.frame: 5 × 8\n",
       "\\begin{tabular}{r|llllllll}\n",
       "  & neuroticism & PSE\\_subt & range\\_subt & bias\\_subt & sigma\\_subt & PSE\\_pf & slope\\_pf & bias\\_pf\\\\\n",
       "  & <dbl> & <dbl> & <dbl> & <dbl> & <dbl> & <dbl> & <dbl> & <dbl>\\\\\n",
       "\\hline\n",
       "\t1 &  0.3282499 &  1.5767321 &  1.14088842 & -2.1658855 &  0.1395287 &  0.2326507 &  0.7313928 & -0.0852494\\\\\n",
       "\t2 &  0.3282499 & -0.8390867 &  0.62095979 &  1.3894942 & -0.4557972 & -2.0430898 & -0.7165475 &  0.9400053\\\\\n",
       "\t3 &  1.5428864 & -0.4567697 &  0.09711613 &  0.6735449 &  0.4090250 &  0.3044776 &  0.9973410 & -0.2247607\\\\\n",
       "\t4 & -1.5404216 &  0.8055069 &  1.62571731 &  0.8182752 & -0.4028821 & -1.2009126 &  0.4588780 &  1.5583760\\\\\n",
       "\t5 & -0.6995194 & -0.4170865 & -0.60284999 & -0.2050663 &  1.6950628 & -0.8078972 & -0.5244737 &  0.4165962\\\\\n",
       "\\end{tabular}\n"
      ],
      "text/markdown": [
       "\n",
       "A data.frame: 5 × 8\n",
       "\n",
       "| <!--/--> | neuroticism &lt;dbl&gt; | PSE_subt &lt;dbl&gt; | range_subt &lt;dbl&gt; | bias_subt &lt;dbl&gt; | sigma_subt &lt;dbl&gt; | PSE_pf &lt;dbl&gt; | slope_pf &lt;dbl&gt; | bias_pf &lt;dbl&gt; |\n",
       "|---|---|---|---|---|---|---|---|---|\n",
       "| 1 |  0.3282499 |  1.5767321 |  1.14088842 | -2.1658855 |  0.1395287 |  0.2326507 |  0.7313928 | -0.0852494 |\n",
       "| 2 |  0.3282499 | -0.8390867 |  0.62095979 |  1.3894942 | -0.4557972 | -2.0430898 | -0.7165475 |  0.9400053 |\n",
       "| 3 |  1.5428864 | -0.4567697 |  0.09711613 |  0.6735449 |  0.4090250 |  0.3044776 |  0.9973410 | -0.2247607 |\n",
       "| 4 | -1.5404216 |  0.8055069 |  1.62571731 |  0.8182752 | -0.4028821 | -1.2009126 |  0.4588780 |  1.5583760 |\n",
       "| 5 | -0.6995194 | -0.4170865 | -0.60284999 | -0.2050663 |  1.6950628 | -0.8078972 | -0.5244737 |  0.4165962 |\n",
       "\n"
      ],
      "text/plain": [
       "  neuroticism PSE_subt   range_subt  bias_subt  sigma_subt PSE_pf    \n",
       "1  0.3282499   1.5767321  1.14088842 -2.1658855  0.1395287  0.2326507\n",
       "2  0.3282499  -0.8390867  0.62095979  1.3894942 -0.4557972 -2.0430898\n",
       "3  1.5428864  -0.4567697  0.09711613  0.6735449  0.4090250  0.3044776\n",
       "4 -1.5404216   0.8055069  1.62571731  0.8182752 -0.4028821 -1.2009126\n",
       "5 -0.6995194  -0.4170865 -0.60284999 -0.2050663  1.6950628 -0.8078972\n",
       "  slope_pf   bias_pf   \n",
       "1  0.7313928 -0.0852494\n",
       "2 -0.7165475  0.9400053\n",
       "3  0.9973410 -0.2247607\n",
       "4  0.4588780  1.5583760\n",
       "5 -0.5244737  0.4165962"
      ]
     },
     "metadata": {}
    }
   ],
   "metadata": {}
  },
  {
   "cell_type": "code",
   "execution_count": 13,
   "source": [
    "formula <- as.formula(paste(trait,\" ~ PSE_subt + range_subt + bias_subt + sigma_subt\"))\n",
    "m1z <- lm(formula, data = df_zscore)\n",
    "summary(m1z)"
   ],
   "outputs": [
    {
     "output_type": "display_data",
     "data": {
      "text/plain": [
       "\n",
       "Call:\n",
       "lm(formula = formula, data = df_zscore)\n",
       "\n",
       "Residuals:\n",
       "     Min       1Q   Median       3Q      Max \n",
       "-2.16361 -0.79313  0.07944  0.73163  2.25918 \n",
       "\n",
       "Coefficients:\n",
       "              Estimate Std. Error t value Pr(>|t|)\n",
       "(Intercept) -1.512e-16  6.061e-02   0.000    1.000\n",
       "PSE_subt    -1.405e-02  8.533e-02  -0.165    0.869\n",
       "range_subt   7.584e-02  8.219e-02   0.923    0.357\n",
       "bias_subt   -7.325e-04  7.918e-02  -0.009    0.993\n",
       "sigma_subt   4.334e-02  6.520e-02   0.665    0.507\n",
       "\n",
       "Residual standard error: 1.005 on 270 degrees of freedom\n",
       "Multiple R-squared:  0.004655,\tAdjusted R-squared:  -0.01009 \n",
       "F-statistic: 0.3157 on 4 and 270 DF,  p-value: 0.8674\n"
      ]
     },
     "metadata": {}
    }
   ],
   "metadata": {}
  },
  {
   "cell_type": "code",
   "execution_count": 14,
   "source": [
    "formula <- as.formula(paste(trait,\" ~ PSE_subt*range_subt + PSE_subt*bias_subt + PSE_subt*sigma_subt + range_subt*bias_subt + range_subt*sigma_subt + bias_subt*sigma_subt\"))\n",
    "m1a <- lm(formula, data = data)\n",
    "summary(m1a)"
   ],
   "outputs": [
    {
     "output_type": "display_data",
     "data": {
      "text/plain": [
       "\n",
       "Call:\n",
       "lm(formula = formula, data = data)\n",
       "\n",
       "Residuals:\n",
       "     Min       1Q   Median       3Q      Max \n",
       "-23.3399  -8.6746  -0.1341   7.6452  25.4548 \n",
       "\n",
       "Coefficients:\n",
       "                      Estimate Std. Error t value Pr(>|t|)\n",
       "(Intercept)             15.671     27.777   0.564    0.573\n",
       "PSE_subt               -15.844     43.264  -0.366    0.715\n",
       "range_subt              22.833     30.385   0.751    0.453\n",
       "bias_subt               22.475     27.934   0.805    0.422\n",
       "sigma_subt              73.718    113.661   0.649    0.517\n",
       "PSE_subt:range_subt     -5.653     37.762  -0.150    0.881\n",
       "PSE_subt:bias_subt      46.903     33.774   1.389    0.166\n",
       "PSE_subt:sigma_subt    -99.533    119.770  -0.831    0.407\n",
       "range_subt:bias_subt   -40.022     27.523  -1.454    0.147\n",
       "range_subt:sigma_subt   97.339     72.779   1.337    0.182\n",
       "bias_subt:sigma_subt  -109.186    123.201  -0.886    0.376\n",
       "\n",
       "Residual standard error: 10.73 on 264 degrees of freedom\n",
       "Multiple R-squared:  0.03095,\tAdjusted R-squared:  -0.005752 \n",
       "F-statistic: 0.8433 on 10 and 264 DF,  p-value: 0.5873\n"
      ]
     },
     "metadata": {}
    }
   ],
   "metadata": {}
  },
  {
   "cell_type": "code",
   "execution_count": 15,
   "source": [
    "formula <- as.formula(paste(trait,\" ~ PSE_subt*range_subt + PSE_subt*bias_subt + PSE_subt*sigma_subt + range_subt*bias_subt + range_subt*sigma_subt + bias_subt*sigma_subt\"))\n",
    "m1az <- lm(formula, data = df_zscore)\n",
    "summary(m1az)"
   ],
   "outputs": [
    {
     "output_type": "display_data",
     "data": {
      "text/plain": [
       "\n",
       "Call:\n",
       "lm(formula = formula, data = df_zscore)\n",
       "\n",
       "Residuals:\n",
       "     Min       1Q   Median       3Q      Max \n",
       "-2.18073 -0.81050 -0.01253  0.71432  2.37833 \n",
       "\n",
       "Coefficients:\n",
       "                      Estimate Std. Error t value Pr(>|t|)\n",
       "(Intercept)            0.08730    0.07908   1.104    0.271\n",
       "PSE_subt               0.05246    0.11896   0.441    0.660\n",
       "range_subt             0.01501    0.09059   0.166    0.869\n",
       "bias_subt              0.02949    0.09780   0.302    0.763\n",
       "sigma_subt             0.10008    0.07801   1.283    0.201\n",
       "PSE_subt:range_subt   -0.01103    0.07366  -0.150    0.881\n",
       "PSE_subt:bias_subt     0.09633    0.06937   1.389    0.166\n",
       "PSE_subt:sigma_subt   -0.04729    0.05691  -0.831    0.407\n",
       "range_subt:bias_subt  -0.13142    0.09038  -1.454    0.147\n",
       "range_subt:sigma_subt  0.07394    0.05529   1.337    0.182\n",
       "bias_subt:sigma_subt  -0.08734    0.09855  -0.886    0.376\n",
       "\n",
       "Residual standard error: 1.003 on 264 degrees of freedom\n",
       "Multiple R-squared:  0.03095,\tAdjusted R-squared:  -0.005752 \n",
       "F-statistic: 0.8433 on 10 and 264 DF,  p-value: 0.5873\n"
      ]
     },
     "metadata": {}
    }
   ],
   "metadata": {}
  },
  {
   "cell_type": "code",
   "execution_count": 16,
   "source": [
    "formula <- as.formula(paste(trait,\" ~ PSE_pf + slope_pf + bias_pf\"))\n",
    "m2 <- lm(formula, data = data)\n",
    "summary(m2)"
   ],
   "outputs": [
    {
     "output_type": "display_data",
     "data": {
      "text/plain": [
       "\n",
       "Call:\n",
       "lm(formula = formula, data = data)\n",
       "\n",
       "Residuals:\n",
       "     Min       1Q   Median       3Q      Max \n",
       "-22.3581  -8.2807   0.5465   7.8736  25.9978 \n",
       "\n",
       "Coefficients:\n",
       "            Estimate Std. Error t value Pr(>|t|)    \n",
       "(Intercept)   38.239      4.082   9.368   <2e-16 ***\n",
       "PSE_pf        -8.381      5.964  -1.405    0.161    \n",
       "slope_pf       3.958      3.182   1.244    0.215    \n",
       "bias_pf       -4.298      3.377  -1.273    0.204    \n",
       "---\n",
       "Signif. codes:  0 ‘***’ 0.001 ‘**’ 0.01 ‘*’ 0.05 ‘.’ 0.1 ‘ ’ 1\n",
       "\n",
       "Residual standard error: 10.71 on 271 degrees of freedom\n",
       "Multiple R-squared:  0.009951,\tAdjusted R-squared:  -0.001009 \n",
       "F-statistic: 0.908 on 3 and 271 DF,  p-value: 0.4376\n"
      ]
     },
     "metadata": {}
    }
   ],
   "metadata": {}
  },
  {
   "cell_type": "code",
   "execution_count": 17,
   "source": [
    "formula <- as.formula(paste(trait,\" ~ PSE_pf + slope_pf + bias_pf\"))\n",
    "m2z <- lm(formula, data = df_zscore)\n",
    "summary(m2z)"
   ],
   "outputs": [
    {
     "output_type": "display_data",
     "data": {
      "text/plain": [
       "\n",
       "Call:\n",
       "lm(formula = formula, data = df_zscore)\n",
       "\n",
       "Residuals:\n",
       "     Min       1Q   Median       3Q      Max \n",
       "-2.08899 -0.77369  0.05106  0.73565  2.42907 \n",
       "\n",
       "Coefficients:\n",
       "              Estimate Std. Error t value Pr(>|t|)\n",
       "(Intercept) -1.542e-16  6.033e-02   0.000    1.000\n",
       "PSE_pf      -1.238e-01  8.811e-02  -1.405    0.161\n",
       "slope_pf     8.045e-02  6.468e-02   1.244    0.215\n",
       "bias_pf     -1.106e-01  8.688e-02  -1.273    0.204\n",
       "\n",
       "Residual standard error: 1.001 on 271 degrees of freedom\n",
       "Multiple R-squared:  0.009951,\tAdjusted R-squared:  -0.001009 \n",
       "F-statistic: 0.908 on 3 and 271 DF,  p-value: 0.4376\n"
      ]
     },
     "metadata": {}
    }
   ],
   "metadata": {}
  },
  {
   "cell_type": "code",
   "execution_count": 18,
   "source": [
    "formula <- as.formula(paste(trait,\" ~ PSE_pf*slope_pf + PSE_pf*bias_pf + slope_pf*bias_pf\"))\n",
    "m2a <- lm(formula, data = data)\n",
    "summary(m2a)"
   ],
   "outputs": [
    {
     "output_type": "display_data",
     "data": {
      "text/plain": [
       "\n",
       "Call:\n",
       "lm(formula = formula, data = data)\n",
       "\n",
       "Residuals:\n",
       "     Min       1Q   Median       3Q      Max \n",
       "-22.3642  -8.2547   0.5397   7.8553  26.3193 \n",
       "\n",
       "Coefficients:\n",
       "                 Estimate Std. Error t value Pr(>|t|)   \n",
       "(Intercept)        41.475     14.996   2.766  0.00607 **\n",
       "PSE_pf            -11.242     14.461  -0.777  0.43761   \n",
       "slope_pf            1.152     16.712   0.069  0.94510   \n",
       "bias_pf            -8.614     20.560  -0.419  0.67559   \n",
       "PSE_pf:slope_pf     1.477     25.642   0.058  0.95411   \n",
       "PSE_pf:bias_pf      1.797     16.250   0.111  0.91203   \n",
       "slope_pf:bias_pf    3.963     21.541   0.184  0.85419   \n",
       "---\n",
       "Signif. codes:  0 ‘***’ 0.001 ‘**’ 0.01 ‘*’ 0.05 ‘.’ 0.1 ‘ ’ 1\n",
       "\n",
       "Residual standard error: 10.77 on 268 degrees of freedom\n",
       "Multiple R-squared:  0.01016,\tAdjusted R-squared:  -0.012 \n",
       "F-statistic: 0.4585 on 6 and 268 DF,  p-value: 0.8386\n"
      ]
     },
     "metadata": {}
    }
   ],
   "metadata": {}
  },
  {
   "cell_type": "code",
   "execution_count": 19,
   "source": [
    "formula <- as.formula(paste(trait,\" ~ PSE_pf*slope_pf + PSE_pf*bias_pf + slope_pf*bias_pf\"))\n",
    "m2az <- lm(formula, data = df_zscore)\n",
    "summary(m2az)"
   ],
   "outputs": [
    {
     "output_type": "display_data",
     "data": {
      "text/plain": [
       "\n",
       "Call:\n",
       "lm(formula = formula, data = df_zscore)\n",
       "\n",
       "Residuals:\n",
       "     Min       1Q   Median       3Q      Max \n",
       "-2.08957 -0.77126  0.05043  0.73395  2.45910 \n",
       "\n",
       "Coefficients:\n",
       "                  Estimate Std. Error t value Pr(>|t|)\n",
       "(Intercept)       0.002062   0.078241   0.026    0.979\n",
       "PSE_pf           -0.137287   0.204447  -0.672    0.502\n",
       "slope_pf          0.082914   0.068026   1.219    0.224\n",
       "bias_pf          -0.137046   0.205151  -0.668    0.505\n",
       "PSE_pf:slope_pf   0.004747   0.082417   0.058    0.954\n",
       "PSE_pf:bias_pf    0.007310   0.066100   0.111    0.912\n",
       "slope_pf:bias_pf  0.022176   0.120552   0.184    0.854\n",
       "\n",
       "Residual standard error: 1.006 on 268 degrees of freedom\n",
       "Multiple R-squared:  0.01016,\tAdjusted R-squared:  -0.012 \n",
       "F-statistic: 0.4585 on 6 and 268 DF,  p-value: 0.8386\n"
      ]
     },
     "metadata": {}
    }
   ],
   "metadata": {}
  },
  {
   "cell_type": "code",
   "execution_count": 20,
   "source": [
    "formula <- as.formula(paste(trait,\" ~ PSE_subt + range_subt + bias_subt + sigma_subt + PSE_pf + slope_pf + bias_pf\"))\n",
    "m3 <- lm(formula, data = data)\n",
    "summary(m3)"
   ],
   "outputs": [
    {
     "output_type": "display_data",
     "data": {
      "text/plain": [
       "\n",
       "Call:\n",
       "lm(formula = formula, data = data)\n",
       "\n",
       "Residuals:\n",
       "     Min       1Q   Median       3Q      Max \n",
       "-22.6506  -8.4839   0.7432   8.0641  25.7373 \n",
       "\n",
       "Coefficients:\n",
       "            Estimate Std. Error t value Pr(>|t|)    \n",
       "(Intercept)  35.8889     6.2114   5.778  2.1e-08 ***\n",
       "PSE_subt     -1.1249     8.0271  -0.140    0.889    \n",
       "range_subt    3.3479     5.0468   0.663    0.508    \n",
       "bias_subt    -0.4027     4.6086  -0.087    0.930    \n",
       "sigma_subt   10.6549    15.7525   0.676    0.499    \n",
       "PSE_pf       -8.2255     6.0241  -1.365    0.173    \n",
       "slope_pf      3.2507     3.7378   0.870    0.385    \n",
       "bias_pf      -4.1520     3.4083  -1.218    0.224    \n",
       "---\n",
       "Signif. codes:  0 ‘***’ 0.001 ‘**’ 0.01 ‘*’ 0.05 ‘.’ 0.1 ‘ ’ 1\n",
       "\n",
       "Residual standard error: 10.77 on 267 degrees of freedom\n",
       "Multiple R-squared:  0.01271,\tAdjusted R-squared:  -0.01317 \n",
       "F-statistic: 0.491 on 7 and 267 DF,  p-value: 0.8408\n"
      ]
     },
     "metadata": {}
    }
   ],
   "metadata": {}
  },
  {
   "cell_type": "code",
   "execution_count": 21,
   "source": [
    "formula <- as.formula(paste(trait,\" ~ PSE_subt + range_subt + bias_subt + sigma_subt + PSE_pf + slope_pf + bias_pf\"))\n",
    "m3z <- lm(formula, data = df_zscore)\n",
    "summary(m3z)"
   ],
   "outputs": [
    {
     "output_type": "display_data",
     "data": {
      "text/plain": [
       "\n",
       "Call:\n",
       "lm(formula = formula, data = df_zscore)\n",
       "\n",
       "Residuals:\n",
       "     Min       1Q   Median       3Q      Max \n",
       "-2.11633 -0.79268  0.06944  0.75346  2.40473 \n",
       "\n",
       "Coefficients:\n",
       "              Estimate Std. Error t value Pr(>|t|)\n",
       "(Intercept) -1.673e-16  6.070e-02   0.000    1.000\n",
       "PSE_subt    -1.201e-02  8.570e-02  -0.140    0.889\n",
       "range_subt   5.715e-02  8.615e-02   0.663    0.508\n",
       "bias_subt   -7.237e-03  8.284e-02  -0.087    0.930\n",
       "sigma_subt   4.430e-02  6.550e-02   0.676    0.499\n",
       "PSE_pf      -1.215e-01  8.900e-02  -1.365    0.173\n",
       "slope_pf     6.607e-02  7.598e-02   0.870    0.385\n",
       "bias_pf     -1.068e-01  8.768e-02  -1.218    0.224\n",
       "\n",
       "Residual standard error: 1.007 on 267 degrees of freedom\n",
       "Multiple R-squared:  0.01271,\tAdjusted R-squared:  -0.01317 \n",
       "F-statistic: 0.491 on 7 and 267 DF,  p-value: 0.8408\n"
      ]
     },
     "metadata": {}
    }
   ],
   "metadata": {}
  },
  {
   "cell_type": "code",
   "execution_count": 22,
   "source": [
    "formula <- as.formula(paste(trait,\" ~ PSE_subt*range_subt + PSE_subt*bias_subt + PSE_subt*sigma_subt + range_subt*bias_subt + range_subt*sigma_subt + bias_subt*sigma_subt + PSE_pf*slope_pf + PSE_pf*bias_pf + slope_pf*bias_pf\"))\n",
    "m3a <- lm(formula, data = data)\n",
    "summary(m3a)"
   ],
   "outputs": [
    {
     "output_type": "display_data",
     "data": {
      "text/plain": [
       "\n",
       "Call:\n",
       "lm(formula = formula, data = data)\n",
       "\n",
       "Residuals:\n",
       "     Min       1Q   Median       3Q      Max \n",
       "-22.9895  -7.9891   0.1745   7.8746  26.1314 \n",
       "\n",
       "Coefficients:\n",
       "                      Estimate Std. Error t value Pr(>|t|)  \n",
       "(Intercept)             19.734     32.489   0.607   0.5441  \n",
       "PSE_subt               -15.694     43.669  -0.359   0.7196  \n",
       "range_subt              28.334     30.907   0.917   0.3601  \n",
       "bias_subt               25.568     28.789   0.888   0.3753  \n",
       "sigma_subt              92.294    116.745   0.791   0.4299  \n",
       "PSE_pf                  -8.549     14.775  -0.579   0.5634  \n",
       "slope_pf                -1.025     16.965  -0.060   0.9519  \n",
       "bias_pf                 -7.247     21.063  -0.344   0.7311  \n",
       "PSE_subt:range_subt     -9.470     38.080  -0.249   0.8038  \n",
       "PSE_subt:bias_subt      53.464     34.569   1.547   0.1232  \n",
       "PSE_subt:sigma_subt   -114.304    122.437  -0.934   0.3514  \n",
       "range_subt:bias_subt   -47.068     28.337  -1.661   0.0979 .\n",
       "range_subt:sigma_subt   89.892     73.584   1.222   0.2230  \n",
       "bias_subt:sigma_subt  -119.686    125.975  -0.950   0.3430  \n",
       "PSE_pf:slope_pf          2.288     25.938   0.088   0.9298  \n",
       "PSE_pf:bias_pf          -7.739     17.804  -0.435   0.6642  \n",
       "slope_pf:bias_pf         6.604     21.962   0.301   0.7639  \n",
       "---\n",
       "Signif. codes:  0 ‘***’ 0.001 ‘**’ 0.01 ‘*’ 0.05 ‘.’ 0.1 ‘ ’ 1\n",
       "\n",
       "Residual standard error: 10.79 on 258 degrees of freedom\n",
       "Multiple R-squared:  0.04229,\tAdjusted R-squared:  -0.01711 \n",
       "F-statistic: 0.712 on 16 and 258 DF,  p-value: 0.7811\n"
      ]
     },
     "metadata": {}
    }
   ],
   "metadata": {}
  },
  {
   "cell_type": "code",
   "execution_count": 23,
   "source": [
    "formula <- as.formula(paste(trait,\" ~ PSE_subt*range_subt + PSE_subt*bias_subt + PSE_subt*sigma_subt + range_subt*bias_subt + range_subt*sigma_subt + bias_subt*sigma_subt + PSE_pf*slope_pf + PSE_pf*bias_pf + slope_pf*bias_pf\"))\n",
    "m3az <- lm(formula, data = df_zscore)\n",
    "summary(m3az)"
   ],
   "outputs": [
    {
     "output_type": "display_data",
     "data": {
      "text/plain": [
       "\n",
       "Call:\n",
       "lm(formula = formula, data = df_zscore)\n",
       "\n",
       "Residuals:\n",
       "     Min       1Q   Median       3Q      Max \n",
       "-2.14799 -0.74645  0.01631  0.73575  2.44155 \n",
       "\n",
       "Coefficients:\n",
       "                       Estimate Std. Error t value Pr(>|t|)  \n",
       "(Intercept)            0.071795   0.092053   0.780   0.4361  \n",
       "PSE_subt               0.061804   0.121515   0.509   0.6115  \n",
       "range_subt            -0.015779   0.095845  -0.165   0.8694  \n",
       "bias_subt              0.023044   0.104734   0.220   0.8260  \n",
       "sigma_subt             0.101020   0.080000   1.263   0.2078  \n",
       "PSE_pf                -0.170448   0.207260  -0.822   0.4116  \n",
       "slope_pf               0.076742   0.080966   0.948   0.3441  \n",
       "bias_pf               -0.169840   0.207101  -0.820   0.4129  \n",
       "PSE_subt:range_subt   -0.018473   0.074278  -0.249   0.8038  \n",
       "PSE_subt:bias_subt     0.109809   0.071001   1.547   0.1232  \n",
       "PSE_subt:sigma_subt   -0.054310   0.058174  -0.934   0.3514  \n",
       "range_subt:bias_subt  -0.154557   0.093051  -1.661   0.0979 .\n",
       "range_subt:sigma_subt  0.068286   0.055898   1.222   0.2230  \n",
       "bias_subt:sigma_subt  -0.095735   0.100766  -0.950   0.3430  \n",
       "PSE_pf:slope_pf        0.007355   0.083369   0.088   0.9298  \n",
       "PSE_pf:bias_pf        -0.031480   0.072423  -0.435   0.6642  \n",
       "slope_pf:bias_pf       0.036960   0.122908   0.301   0.7639  \n",
       "---\n",
       "Signif. codes:  0 ‘***’ 0.001 ‘**’ 0.01 ‘*’ 0.05 ‘.’ 0.1 ‘ ’ 1\n",
       "\n",
       "Residual standard error: 1.009 on 258 degrees of freedom\n",
       "Multiple R-squared:  0.04229,\tAdjusted R-squared:  -0.01711 \n",
       "F-statistic: 0.712 on 16 and 258 DF,  p-value: 0.7811\n"
      ]
     },
     "metadata": {}
    }
   ],
   "metadata": {}
  },
  {
   "cell_type": "code",
   "execution_count": 24,
   "source": [
    "formula <- as.formula(paste(trait,\" ~ PSE_subt*PSE_pf + PSE_subt*slope_pf + PSE_subt*bias_pf + range_subt*PSE_pf + range_subt*slope_pf + range_subt*bias_pf + bias_subt*PSE_pf + bias_subt*slope_pf + bias_subt*bias_pf +  sigma_subt*PSE_pf + sigma_subt*slope_pf + sigma_subt*bias_pf\"))\n",
    "m3b <- lm(formula, data = data)\n",
    "summary(m3b)"
   ],
   "outputs": [
    {
     "output_type": "display_data",
     "data": {
      "text/plain": [
       "\n",
       "Call:\n",
       "lm(formula = formula, data = data)\n",
       "\n",
       "Residuals:\n",
       "     Min       1Q   Median       3Q      Max \n",
       "-23.2787  -7.7757   0.1436   7.7861  24.6444 \n",
       "\n",
       "Coefficients:\n",
       "                    Estimate Std. Error t value Pr(>|t|)  \n",
       "(Intercept)           -4.254     40.828  -0.104   0.9171  \n",
       "PSE_subt              -3.134     60.396  -0.052   0.9586  \n",
       "PSE_pf                32.481     55.676   0.583   0.5601  \n",
       "slope_pf              -3.156     31.554  -0.100   0.9204  \n",
       "bias_pf               40.570     36.542   1.110   0.2679  \n",
       "range_subt            16.843     31.390   0.537   0.5920  \n",
       "bias_subt             19.046     30.535   0.624   0.5334  \n",
       "sigma_subt           190.875    126.568   1.508   0.1328  \n",
       "PSE_subt:PSE_pf       43.699     89.518   0.488   0.6259  \n",
       "PSE_subt:slope_pf    -11.496     45.387  -0.253   0.8003  \n",
       "PSE_subt:bias_pf     -14.147     54.031  -0.262   0.7937  \n",
       "PSE_pf:range_subt    -32.033     48.306  -0.663   0.5079  \n",
       "slope_pf:range_subt    6.823     24.636   0.277   0.7820  \n",
       "bias_pf:range_subt   -10.431     30.882  -0.338   0.7358  \n",
       "PSE_pf:bias_subt      -1.819     48.547  -0.037   0.9701  \n",
       "slope_pf:bias_subt    -9.029     23.614  -0.382   0.7025  \n",
       "bias_pf:bias_subt    -19.569     26.222  -0.746   0.4562  \n",
       "PSE_pf:sigma_subt   -354.293    183.838  -1.927   0.0551 .\n",
       "slope_pf:sigma_subt  127.695     88.521   1.443   0.1504  \n",
       "bias_pf:sigma_subt  -172.327    104.174  -1.654   0.0993 .\n",
       "---\n",
       "Signif. codes:  0 ‘***’ 0.001 ‘**’ 0.01 ‘*’ 0.05 ‘.’ 0.1 ‘ ’ 1\n",
       "\n",
       "Residual standard error: 10.86 on 255 degrees of freedom\n",
       "Multiple R-squared:  0.04112,\tAdjusted R-squared:  -0.03032 \n",
       "F-statistic: 0.5756 on 19 and 255 DF,  p-value: 0.9218\n"
      ]
     },
     "metadata": {}
    }
   ],
   "metadata": {}
  },
  {
   "cell_type": "code",
   "execution_count": 25,
   "source": [
    "formula <- as.formula(paste(trait,\" ~ PSE_subt*PSE_pf + PSE_subt*slope_pf + PSE_subt*bias_pf + range_subt*PSE_pf + range_subt*slope_pf + range_subt*bias_pf + bias_subt*PSE_pf + bias_subt*slope_pf + bias_subt*bias_pf +  sigma_subt*PSE_pf + sigma_subt*slope_pf + sigma_subt*bias_pf\"))\n",
    "m3bz <- lm(formula, data = df_zscore)\n",
    "summary(m3bz)"
   ],
   "outputs": [
    {
     "output_type": "display_data",
     "data": {
      "text/plain": [
       "\n",
       "Call:\n",
       "lm(formula = formula, data = df_zscore)\n",
       "\n",
       "Residuals:\n",
       "     Min       1Q   Median       3Q      Max \n",
       "-2.17501 -0.72651  0.01342  0.72749  2.30261 \n",
       "\n",
       "Coefficients:\n",
       "                    Estimate Std. Error t value Pr(>|t|)  \n",
       "(Intercept)          0.03099    0.07041   0.440   0.6602  \n",
       "PSE_subt             0.01359    0.09331   0.146   0.8843  \n",
       "PSE_pf              -0.13533    0.10757  -1.258   0.2095  \n",
       "slope_pf             0.06256    0.08235   0.760   0.4481  \n",
       "bias_pf             -0.07704    0.13234  -0.582   0.5610  \n",
       "range_subt           0.01252    0.09275   0.135   0.8927  \n",
       "bias_subt            0.02533    0.08734   0.290   0.7720  \n",
       "sigma_subt           0.05335    0.07137   0.748   0.4554  \n",
       "PSE_subt:PSE_pf      0.07377    0.15113   0.488   0.6259  \n",
       "PSE_subt:slope_pf   -0.02670    0.10542  -0.253   0.8003  \n",
       "PSE_subt:bias_pf    -0.04158    0.15883  -0.262   0.7937  \n",
       "PSE_pf:range_subt   -0.08646    0.13039  -0.663   0.5079  \n",
       "slope_pf:range_subt  0.02534    0.09149   0.277   0.7820  \n",
       "bias_pf:range_subt  -0.04902    0.14514  -0.338   0.7358  \n",
       "PSE_pf:bias_subt    -0.00517    0.13798  -0.037   0.9701  \n",
       "slope_pf:bias_subt  -0.03531    0.09234  -0.382   0.7025  \n",
       "bias_pf:bias_subt   -0.09684    0.12977  -0.746   0.4562  \n",
       "PSE_pf:sigma_subt   -0.23295    0.12087  -1.927   0.0551 .\n",
       "slope_pf:sigma_subt  0.11551    0.08007   1.443   0.1504  \n",
       "bias_pf:sigma_subt  -0.19729    0.11926  -1.654   0.0993 .\n",
       "---\n",
       "Signif. codes:  0 ‘***’ 0.001 ‘**’ 0.01 ‘*’ 0.05 ‘.’ 0.1 ‘ ’ 1\n",
       "\n",
       "Residual standard error: 1.015 on 255 degrees of freedom\n",
       "Multiple R-squared:  0.04112,\tAdjusted R-squared:  -0.03032 \n",
       "F-statistic: 0.5756 on 19 and 255 DF,  p-value: 0.9218\n"
      ]
     },
     "metadata": {}
    }
   ],
   "metadata": {}
  },
  {
   "cell_type": "code",
   "execution_count": 26,
   "source": [
    "formula <- as.formula(paste(trait,\" ~ PSE_subt*range_subt + PSE_subt*bias_subt + PSE_subt*sigma_subt + range_subt*bias_subt + range_subt*sigma_subt + bias_subt*sigma_subt + PSE_pf*slope_pf + PSE_pf*bias_pf + slope_pf*bias_pf + PSE_subt*PSE_pf + PSE_subt*slope_pf + PSE_subt*bias_pf + range_subt*PSE_pf + range_subt*slope_pf + range_subt*bias_pf + bias_subt*PSE_pf + bias_subt*slope_pf + bias_subt*bias_pf +  sigma_subt*PSE_pf + sigma_subt*slope_pf + sigma_subt*bias_pf + PSE_subt*PSE_pf + PSE_subt*slope_pf + PSE_subt*bias_pf + range_subt*PSE_pf + range_subt*slope_pf + range_subt*bias_pf + bias_subt*PSE_pf + bias_subt*slope_pf + bias_subt*bias_pf +  sigma_subt*PSE_pf + sigma_subt*slope_pf + sigma_subt*bias_pf\"))\n",
    "m3c <- lm(formula, data = data)\n",
    "summary(m3c)"
   ],
   "outputs": [
    {
     "output_type": "display_data",
     "data": {
      "text/plain": [
       "\n",
       "Call:\n",
       "lm(formula = formula, data = data)\n",
       "\n",
       "Residuals:\n",
       "     Min       1Q   Median       3Q      Max \n",
       "-22.7938  -7.5651  -0.1142   7.4495  25.2048 \n",
       "\n",
       "Coefficients:\n",
       "                      Estimate Std. Error t value Pr(>|t|)  \n",
       "(Intercept)            -19.497     50.983  -0.382   0.7025  \n",
       "PSE_subt               -13.016     73.963  -0.176   0.8605  \n",
       "range_subt              55.012     46.901   1.173   0.2420  \n",
       "bias_subt               60.340     45.374   1.330   0.1848  \n",
       "sigma_subt             309.464    172.181   1.797   0.0735 .\n",
       "PSE_pf                  16.534     59.465   0.278   0.7812  \n",
       "slope_pf               -27.124     43.442  -0.624   0.5330  \n",
       "bias_pf                 25.611     42.305   0.605   0.5455  \n",
       "PSE_subt:range_subt     -7.345     42.659  -0.172   0.8634  \n",
       "PSE_subt:bias_subt      59.318     37.635   1.576   0.1163  \n",
       "PSE_subt:sigma_subt   -180.686    131.045  -1.379   0.1692  \n",
       "range_subt:bias_subt   -52.781     33.586  -1.572   0.1173  \n",
       "range_subt:sigma_subt   43.894     89.237   0.492   0.6232  \n",
       "bias_subt:sigma_subt  -217.359    142.655  -1.524   0.1289  \n",
       "PSE_pf:slope_pf         22.833     29.803   0.766   0.4443  \n",
       "PSE_pf:bias_pf          -1.816     18.827  -0.096   0.9232  \n",
       "slope_pf:bias_pf        24.315     28.035   0.867   0.3866  \n",
       "PSE_subt:PSE_pf         68.043     93.236   0.730   0.4662  \n",
       "PSE_subt:slope_pf      -49.439     51.041  -0.969   0.3337  \n",
       "PSE_subt:bias_pf        -3.269     55.683  -0.059   0.9532  \n",
       "range_subt:PSE_pf      -57.608     52.485  -1.098   0.2734  \n",
       "range_subt:slope_pf     30.782     26.499   1.162   0.2465  \n",
       "range_subt:bias_pf     -24.558     34.135  -0.719   0.4726  \n",
       "bias_subt:PSE_pf         2.653     49.893   0.053   0.9576  \n",
       "bias_subt:slope_pf     -18.982     25.989  -0.730   0.4658  \n",
       "bias_subt:bias_pf      -20.426     26.678  -0.766   0.4446  \n",
       "sigma_subt:PSE_pf     -287.330    194.941  -1.474   0.1418  \n",
       "sigma_subt:slope_pf    177.621    117.834   1.507   0.1330  \n",
       "sigma_subt:bias_pf    -138.312    107.310  -1.289   0.1986  \n",
       "---\n",
       "Signif. codes:  0 ‘***’ 0.001 ‘**’ 0.01 ‘*’ 0.05 ‘.’ 0.1 ‘ ’ 1\n",
       "\n",
       "Residual standard error: 10.87 on 246 degrees of freedom\n",
       "Multiple R-squared:  0.07416,\tAdjusted R-squared:  -0.03122 \n",
       "F-statistic: 0.7037 on 28 and 246 DF,  p-value: 0.8666\n"
      ]
     },
     "metadata": {}
    }
   ],
   "metadata": {}
  },
  {
   "cell_type": "code",
   "execution_count": 27,
   "source": [
    "formula <- as.formula(paste(trait,\" ~ PSE_subt*range_subt + PSE_subt*bias_subt + PSE_subt*sigma_subt + range_subt*bias_subt + range_subt*sigma_subt + bias_subt*sigma_subt + PSE_pf*slope_pf + PSE_pf*bias_pf + slope_pf*bias_pf + PSE_subt*PSE_pf + PSE_subt*slope_pf + PSE_subt*bias_pf + range_subt*PSE_pf + range_subt*slope_pf + range_subt*bias_pf + bias_subt*PSE_pf + bias_subt*slope_pf + bias_subt*bias_pf +  sigma_subt*PSE_pf + sigma_subt*slope_pf + sigma_subt*bias_pf + PSE_subt*PSE_pf + PSE_subt*slope_pf + PSE_subt*bias_pf + range_subt*PSE_pf + range_subt*slope_pf + range_subt*bias_pf + bias_subt*PSE_pf + bias_subt*slope_pf + bias_subt*bias_pf +  sigma_subt*PSE_pf + sigma_subt*slope_pf + sigma_subt*bias_pf\"))\n",
    "m3cz <- lm(formula, data = df_zscore)\n",
    "summary(m3cz)"
   ],
   "outputs": [
    {
     "output_type": "display_data",
     "data": {
      "text/plain": [
       "\n",
       "Call:\n",
       "lm(formula = formula, data = df_zscore)\n",
       "\n",
       "Residuals:\n",
       "     Min       1Q   Median       3Q      Max \n",
       "-2.12970 -0.70684 -0.01067  0.69604  2.35498 \n",
       "\n",
       "Coefficients:\n",
       "                       Estimate Std. Error t value Pr(>|t|)\n",
       "(Intercept)            0.073470   0.097459   0.754    0.452\n",
       "PSE_subt               0.060111   0.125589   0.479    0.633\n",
       "range_subt            -0.048082   0.100289  -0.479    0.632\n",
       "bias_subt              0.044150   0.107958   0.409    0.683\n",
       "sigma_subt             0.066910   0.082800   0.808    0.420\n",
       "PSE_pf                -0.158417   0.229739  -0.690    0.491\n",
       "slope_pf               0.066614   0.088781   0.750    0.454\n",
       "bias_pf               -0.170309   0.243235  -0.700    0.484\n",
       "PSE_subt:range_subt   -0.014327   0.083208  -0.172    0.863\n",
       "PSE_subt:bias_subt     0.121832   0.077298   1.576    0.116\n",
       "PSE_subt:sigma_subt   -0.085850   0.062264  -1.379    0.169\n",
       "range_subt:bias_subt  -0.173320   0.110288  -1.572    0.117\n",
       "range_subt:sigma_subt  0.033344   0.067788   0.492    0.623\n",
       "bias_subt:sigma_subt  -0.173863   0.114108  -1.524    0.129\n",
       "PSE_pf:slope_pf        0.073389   0.095792   0.766    0.444\n",
       "PSE_pf:bias_pf        -0.007387   0.076585  -0.096    0.923\n",
       "slope_pf:bias_pf       0.136077   0.156900   0.867    0.387\n",
       "PSE_subt:PSE_pf        0.114873   0.157406   0.730    0.466\n",
       "PSE_subt:slope_pf     -0.114832   0.118554  -0.969    0.334\n",
       "PSE_subt:bias_pf      -0.009611   0.163686  -0.059    0.953\n",
       "range_subt:PSE_pf     -0.155494   0.141665  -1.098    0.273\n",
       "range_subt:slope_pf    0.114308   0.098405   1.162    0.247\n",
       "range_subt:bias_pf    -0.115419   0.160430  -0.719    0.473\n",
       "bias_subt:PSE_pf       0.007541   0.141803   0.053    0.958\n",
       "bias_subt:slope_pf    -0.074226   0.101623  -0.730    0.466\n",
       "bias_subt:bias_pf     -0.101085   0.132025  -0.766    0.445\n",
       "sigma_subt:PSE_pf     -0.188917   0.128172  -1.474    0.142\n",
       "sigma_subt:slope_pf    0.160673   0.106591   1.507    0.133\n",
       "sigma_subt:bias_pf    -0.158344   0.122851  -1.289    0.199\n",
       "\n",
       "Residual standard error: 1.015 on 246 degrees of freedom\n",
       "Multiple R-squared:  0.07416,\tAdjusted R-squared:  -0.03122 \n",
       "F-statistic: 0.7037 on 28 and 246 DF,  p-value: 0.8666\n"
      ]
     },
     "metadata": {}
    }
   ],
   "metadata": {}
  },
  {
   "cell_type": "code",
   "execution_count": 28,
   "source": [
    "anova(m3a,m3c)"
   ],
   "outputs": [
    {
     "output_type": "display_data",
     "data": {
      "text/html": [
       "<table class=\"dataframe\">\n",
       "<caption>A anova: 2 × 6</caption>\n",
       "<thead>\n",
       "\t<tr><th></th><th scope=col>Res.Df</th><th scope=col>RSS</th><th scope=col>Df</th><th scope=col>Sum of Sq</th><th scope=col>F</th><th scope=col>Pr(&gt;F)</th></tr>\n",
       "\t<tr><th></th><th scope=col>&lt;dbl&gt;</th><th scope=col>&lt;dbl&gt;</th><th scope=col>&lt;dbl&gt;</th><th scope=col>&lt;dbl&gt;</th><th scope=col>&lt;dbl&gt;</th><th scope=col>&lt;dbl&gt;</th></tr>\n",
       "</thead>\n",
       "<tbody>\n",
       "\t<tr><th scope=row>1</th><td>258</td><td>30059.39</td><td>NA</td><td>      NA</td><td>       NA</td><td>       NA</td></tr>\n",
       "\t<tr><th scope=row>2</th><td>246</td><td>29059.01</td><td>12</td><td>1000.387</td><td>0.7057341</td><td>0.7454114</td></tr>\n",
       "</tbody>\n",
       "</table>\n"
      ],
      "text/latex": [
       "A anova: 2 × 6\n",
       "\\begin{tabular}{r|llllll}\n",
       "  & Res.Df & RSS & Df & Sum of Sq & F & Pr(>F)\\\\\n",
       "  & <dbl> & <dbl> & <dbl> & <dbl> & <dbl> & <dbl>\\\\\n",
       "\\hline\n",
       "\t1 & 258 & 30059.39 & NA &       NA &        NA &        NA\\\\\n",
       "\t2 & 246 & 29059.01 & 12 & 1000.387 & 0.7057341 & 0.7454114\\\\\n",
       "\\end{tabular}\n"
      ],
      "text/markdown": [
       "\n",
       "A anova: 2 × 6\n",
       "\n",
       "| <!--/--> | Res.Df &lt;dbl&gt; | RSS &lt;dbl&gt; | Df &lt;dbl&gt; | Sum of Sq &lt;dbl&gt; | F &lt;dbl&gt; | Pr(&gt;F) &lt;dbl&gt; |\n",
       "|---|---|---|---|---|---|---|\n",
       "| 1 | 258 | 30059.39 | NA |       NA |        NA |        NA |\n",
       "| 2 | 246 | 29059.01 | 12 | 1000.387 | 0.7057341 | 0.7454114 |\n",
       "\n"
      ],
      "text/plain": [
       "  Res.Df RSS      Df Sum of Sq F         Pr(>F)   \n",
       "1 258    30059.39 NA       NA         NA        NA\n",
       "2 246    29059.01 12 1000.387  0.7057341 0.7454114"
      ]
     },
     "metadata": {}
    }
   ],
   "metadata": {}
  },
  {
   "cell_type": "code",
   "execution_count": 29,
   "source": [
    "anova(m3az,m3cz)"
   ],
   "outputs": [
    {
     "output_type": "display_data",
     "data": {
      "text/html": [
       "<table class=\"dataframe\">\n",
       "<caption>A anova: 2 × 6</caption>\n",
       "<thead>\n",
       "\t<tr><th></th><th scope=col>Res.Df</th><th scope=col>RSS</th><th scope=col>Df</th><th scope=col>Sum of Sq</th><th scope=col>F</th><th scope=col>Pr(&gt;F)</th></tr>\n",
       "\t<tr><th></th><th scope=col>&lt;dbl&gt;</th><th scope=col>&lt;dbl&gt;</th><th scope=col>&lt;dbl&gt;</th><th scope=col>&lt;dbl&gt;</th><th scope=col>&lt;dbl&gt;</th><th scope=col>&lt;dbl&gt;</th></tr>\n",
       "</thead>\n",
       "<tbody>\n",
       "\t<tr><th scope=row>1</th><td>258</td><td>262.4135</td><td>NA</td><td>      NA</td><td>       NA</td><td>       NA</td></tr>\n",
       "\t<tr><th scope=row>2</th><td>246</td><td>253.6803</td><td>12</td><td>8.733211</td><td>0.7057341</td><td>0.7454114</td></tr>\n",
       "</tbody>\n",
       "</table>\n"
      ],
      "text/latex": [
       "A anova: 2 × 6\n",
       "\\begin{tabular}{r|llllll}\n",
       "  & Res.Df & RSS & Df & Sum of Sq & F & Pr(>F)\\\\\n",
       "  & <dbl> & <dbl> & <dbl> & <dbl> & <dbl> & <dbl>\\\\\n",
       "\\hline\n",
       "\t1 & 258 & 262.4135 & NA &       NA &        NA &        NA\\\\\n",
       "\t2 & 246 & 253.6803 & 12 & 8.733211 & 0.7057341 & 0.7454114\\\\\n",
       "\\end{tabular}\n"
      ],
      "text/markdown": [
       "\n",
       "A anova: 2 × 6\n",
       "\n",
       "| <!--/--> | Res.Df &lt;dbl&gt; | RSS &lt;dbl&gt; | Df &lt;dbl&gt; | Sum of Sq &lt;dbl&gt; | F &lt;dbl&gt; | Pr(&gt;F) &lt;dbl&gt; |\n",
       "|---|---|---|---|---|---|---|\n",
       "| 1 | 258 | 262.4135 | NA |       NA |        NA |        NA |\n",
       "| 2 | 246 | 253.6803 | 12 | 8.733211 | 0.7057341 | 0.7454114 |\n",
       "\n"
      ],
      "text/plain": [
       "  Res.Df RSS      Df Sum of Sq F         Pr(>F)   \n",
       "1 258    262.4135 NA       NA         NA        NA\n",
       "2 246    253.6803 12 8.733211  0.7057341 0.7454114"
      ]
     },
     "metadata": {}
    }
   ],
   "metadata": {}
  },
  {
   "cell_type": "code",
   "execution_count": 30,
   "source": [
    "m3a"
   ],
   "outputs": [
    {
     "output_type": "display_data",
     "data": {
      "text/plain": [
       "\n",
       "Call:\n",
       "lm(formula = formula, data = data)\n",
       "\n",
       "Coefficients:\n",
       "          (Intercept)               PSE_subt             range_subt  \n",
       "               19.734                -15.694                 28.334  \n",
       "            bias_subt             sigma_subt                 PSE_pf  \n",
       "               25.568                 92.294                 -8.549  \n",
       "             slope_pf                bias_pf    PSE_subt:range_subt  \n",
       "               -1.025                 -7.247                 -9.470  \n",
       "   PSE_subt:bias_subt    PSE_subt:sigma_subt   range_subt:bias_subt  \n",
       "               53.464               -114.304                -47.068  \n",
       "range_subt:sigma_subt   bias_subt:sigma_subt        PSE_pf:slope_pf  \n",
       "               89.892               -119.686                  2.288  \n",
       "       PSE_pf:bias_pf       slope_pf:bias_pf  \n",
       "               -7.739                  6.604  \n"
      ]
     },
     "metadata": {}
    }
   ],
   "metadata": {}
  },
  {
   "cell_type": "code",
   "execution_count": 31,
   "source": [
    "anova(m1,m3,m3a,m3c)"
   ],
   "outputs": [
    {
     "output_type": "display_data",
     "data": {
      "text/html": [
       "<table class=\"dataframe\">\n",
       "<caption>A anova: 4 × 6</caption>\n",
       "<thead>\n",
       "\t<tr><th></th><th scope=col>Res.Df</th><th scope=col>RSS</th><th scope=col>Df</th><th scope=col>Sum of Sq</th><th scope=col>F</th><th scope=col>Pr(&gt;F)</th></tr>\n",
       "\t<tr><th></th><th scope=col>&lt;dbl&gt;</th><th scope=col>&lt;dbl&gt;</th><th scope=col>&lt;dbl&gt;</th><th scope=col>&lt;dbl&gt;</th><th scope=col>&lt;dbl&gt;</th><th scope=col>&lt;dbl&gt;</th></tr>\n",
       "</thead>\n",
       "<tbody>\n",
       "\t<tr><th scope=row>1</th><td>270</td><td>31240.52</td><td>NA</td><td>       NA</td><td>       NA</td><td>       NA</td></tr>\n",
       "\t<tr><th scope=row>2</th><td>267</td><td>30987.71</td><td> 3</td><td> 252.8090</td><td>0.7133878</td><td>0.5448188</td></tr>\n",
       "\t<tr><th scope=row>3</th><td>258</td><td>30059.39</td><td> 9</td><td> 928.3154</td><td>0.8731873</td><td>0.5498248</td></tr>\n",
       "\t<tr><th scope=row>4</th><td>246</td><td>29059.01</td><td>12</td><td>1000.3869</td><td>0.7057341</td><td>0.7454114</td></tr>\n",
       "</tbody>\n",
       "</table>\n"
      ],
      "text/latex": [
       "A anova: 4 × 6\n",
       "\\begin{tabular}{r|llllll}\n",
       "  & Res.Df & RSS & Df & Sum of Sq & F & Pr(>F)\\\\\n",
       "  & <dbl> & <dbl> & <dbl> & <dbl> & <dbl> & <dbl>\\\\\n",
       "\\hline\n",
       "\t1 & 270 & 31240.52 & NA &        NA &        NA &        NA\\\\\n",
       "\t2 & 267 & 30987.71 &  3 &  252.8090 & 0.7133878 & 0.5448188\\\\\n",
       "\t3 & 258 & 30059.39 &  9 &  928.3154 & 0.8731873 & 0.5498248\\\\\n",
       "\t4 & 246 & 29059.01 & 12 & 1000.3869 & 0.7057341 & 0.7454114\\\\\n",
       "\\end{tabular}\n"
      ],
      "text/markdown": [
       "\n",
       "A anova: 4 × 6\n",
       "\n",
       "| <!--/--> | Res.Df &lt;dbl&gt; | RSS &lt;dbl&gt; | Df &lt;dbl&gt; | Sum of Sq &lt;dbl&gt; | F &lt;dbl&gt; | Pr(&gt;F) &lt;dbl&gt; |\n",
       "|---|---|---|---|---|---|---|\n",
       "| 1 | 270 | 31240.52 | NA |        NA |        NA |        NA |\n",
       "| 2 | 267 | 30987.71 |  3 |  252.8090 | 0.7133878 | 0.5448188 |\n",
       "| 3 | 258 | 30059.39 |  9 |  928.3154 | 0.8731873 | 0.5498248 |\n",
       "| 4 | 246 | 29059.01 | 12 | 1000.3869 | 0.7057341 | 0.7454114 |\n",
       "\n"
      ],
      "text/plain": [
       "  Res.Df RSS      Df Sum of Sq F         Pr(>F)   \n",
       "1 270    31240.52 NA        NA        NA        NA\n",
       "2 267    30987.71  3  252.8090 0.7133878 0.5448188\n",
       "3 258    30059.39  9  928.3154 0.8731873 0.5498248\n",
       "4 246    29059.01 12 1000.3869 0.7057341 0.7454114"
      ]
     },
     "metadata": {}
    }
   ],
   "metadata": {}
  },
  {
   "cell_type": "code",
   "execution_count": 32,
   "source": [
    "anova(m1z,m3z,m3az,m3cz)"
   ],
   "outputs": [
    {
     "output_type": "display_data",
     "data": {
      "text/html": [
       "<table class=\"dataframe\">\n",
       "<caption>A anova: 4 × 6</caption>\n",
       "<thead>\n",
       "\t<tr><th></th><th scope=col>Res.Df</th><th scope=col>RSS</th><th scope=col>Df</th><th scope=col>Sum of Sq</th><th scope=col>F</th><th scope=col>Pr(&gt;F)</th></tr>\n",
       "\t<tr><th></th><th scope=col>&lt;dbl&gt;</th><th scope=col>&lt;dbl&gt;</th><th scope=col>&lt;dbl&gt;</th><th scope=col>&lt;dbl&gt;</th><th scope=col>&lt;dbl&gt;</th><th scope=col>&lt;dbl&gt;</th></tr>\n",
       "</thead>\n",
       "<tbody>\n",
       "\t<tr><th scope=row>1</th><td>270</td><td>272.7245</td><td>NA</td><td>      NA</td><td>       NA</td><td>       NA</td></tr>\n",
       "\t<tr><th scope=row>2</th><td>267</td><td>270.5175</td><td> 3</td><td>2.206981</td><td>0.7133878</td><td>0.5448188</td></tr>\n",
       "\t<tr><th scope=row>3</th><td>258</td><td>262.4135</td><td> 9</td><td>8.104039</td><td>0.8731873</td><td>0.5498248</td></tr>\n",
       "\t<tr><th scope=row>4</th><td>246</td><td>253.6803</td><td>12</td><td>8.733211</td><td>0.7057341</td><td>0.7454114</td></tr>\n",
       "</tbody>\n",
       "</table>\n"
      ],
      "text/latex": [
       "A anova: 4 × 6\n",
       "\\begin{tabular}{r|llllll}\n",
       "  & Res.Df & RSS & Df & Sum of Sq & F & Pr(>F)\\\\\n",
       "  & <dbl> & <dbl> & <dbl> & <dbl> & <dbl> & <dbl>\\\\\n",
       "\\hline\n",
       "\t1 & 270 & 272.7245 & NA &       NA &        NA &        NA\\\\\n",
       "\t2 & 267 & 270.5175 &  3 & 2.206981 & 0.7133878 & 0.5448188\\\\\n",
       "\t3 & 258 & 262.4135 &  9 & 8.104039 & 0.8731873 & 0.5498248\\\\\n",
       "\t4 & 246 & 253.6803 & 12 & 8.733211 & 0.7057341 & 0.7454114\\\\\n",
       "\\end{tabular}\n"
      ],
      "text/markdown": [
       "\n",
       "A anova: 4 × 6\n",
       "\n",
       "| <!--/--> | Res.Df &lt;dbl&gt; | RSS &lt;dbl&gt; | Df &lt;dbl&gt; | Sum of Sq &lt;dbl&gt; | F &lt;dbl&gt; | Pr(&gt;F) &lt;dbl&gt; |\n",
       "|---|---|---|---|---|---|---|\n",
       "| 1 | 270 | 272.7245 | NA |       NA |        NA |        NA |\n",
       "| 2 | 267 | 270.5175 |  3 | 2.206981 | 0.7133878 | 0.5448188 |\n",
       "| 3 | 258 | 262.4135 |  9 | 8.104039 | 0.8731873 | 0.5498248 |\n",
       "| 4 | 246 | 253.6803 | 12 | 8.733211 | 0.7057341 | 0.7454114 |\n",
       "\n"
      ],
      "text/plain": [
       "  Res.Df RSS      Df Sum of Sq F         Pr(>F)   \n",
       "1 270    272.7245 NA       NA         NA        NA\n",
       "2 267    270.5175  3 2.206981  0.7133878 0.5448188\n",
       "3 258    262.4135  9 8.104039  0.8731873 0.5498248\n",
       "4 246    253.6803 12 8.733211  0.7057341 0.7454114"
      ]
     },
     "metadata": {}
    }
   ],
   "metadata": {}
  },
  {
   "cell_type": "code",
   "execution_count": 33,
   "source": [
    "anova(m2,m3,m3a,m3c)"
   ],
   "outputs": [
    {
     "output_type": "display_data",
     "data": {
      "text/html": [
       "<table class=\"dataframe\">\n",
       "<caption>A anova: 4 × 6</caption>\n",
       "<thead>\n",
       "\t<tr><th></th><th scope=col>Res.Df</th><th scope=col>RSS</th><th scope=col>Df</th><th scope=col>Sum of Sq</th><th scope=col>F</th><th scope=col>Pr(&gt;F)</th></tr>\n",
       "\t<tr><th></th><th scope=col>&lt;dbl&gt;</th><th scope=col>&lt;dbl&gt;</th><th scope=col>&lt;dbl&gt;</th><th scope=col>&lt;dbl&gt;</th><th scope=col>&lt;dbl&gt;</th><th scope=col>&lt;dbl&gt;</th></tr>\n",
       "</thead>\n",
       "<tbody>\n",
       "\t<tr><th scope=row>1</th><td>271</td><td>31074.29</td><td>NA</td><td>        NA</td><td>       NA</td><td>       NA</td></tr>\n",
       "\t<tr><th scope=row>2</th><td>267</td><td>30987.71</td><td> 4</td><td>  86.58271</td><td>0.1832422</td><td>0.9469630</td></tr>\n",
       "\t<tr><th scope=row>3</th><td>258</td><td>30059.39</td><td> 9</td><td> 928.31541</td><td>0.8731873</td><td>0.5498248</td></tr>\n",
       "\t<tr><th scope=row>4</th><td>246</td><td>29059.01</td><td>12</td><td>1000.38692</td><td>0.7057341</td><td>0.7454114</td></tr>\n",
       "</tbody>\n",
       "</table>\n"
      ],
      "text/latex": [
       "A anova: 4 × 6\n",
       "\\begin{tabular}{r|llllll}\n",
       "  & Res.Df & RSS & Df & Sum of Sq & F & Pr(>F)\\\\\n",
       "  & <dbl> & <dbl> & <dbl> & <dbl> & <dbl> & <dbl>\\\\\n",
       "\\hline\n",
       "\t1 & 271 & 31074.29 & NA &         NA &        NA &        NA\\\\\n",
       "\t2 & 267 & 30987.71 &  4 &   86.58271 & 0.1832422 & 0.9469630\\\\\n",
       "\t3 & 258 & 30059.39 &  9 &  928.31541 & 0.8731873 & 0.5498248\\\\\n",
       "\t4 & 246 & 29059.01 & 12 & 1000.38692 & 0.7057341 & 0.7454114\\\\\n",
       "\\end{tabular}\n"
      ],
      "text/markdown": [
       "\n",
       "A anova: 4 × 6\n",
       "\n",
       "| <!--/--> | Res.Df &lt;dbl&gt; | RSS &lt;dbl&gt; | Df &lt;dbl&gt; | Sum of Sq &lt;dbl&gt; | F &lt;dbl&gt; | Pr(&gt;F) &lt;dbl&gt; |\n",
       "|---|---|---|---|---|---|---|\n",
       "| 1 | 271 | 31074.29 | NA |         NA |        NA |        NA |\n",
       "| 2 | 267 | 30987.71 |  4 |   86.58271 | 0.1832422 | 0.9469630 |\n",
       "| 3 | 258 | 30059.39 |  9 |  928.31541 | 0.8731873 | 0.5498248 |\n",
       "| 4 | 246 | 29059.01 | 12 | 1000.38692 | 0.7057341 | 0.7454114 |\n",
       "\n"
      ],
      "text/plain": [
       "  Res.Df RSS      Df Sum of Sq  F         Pr(>F)   \n",
       "1 271    31074.29 NA         NA        NA        NA\n",
       "2 267    30987.71  4   86.58271 0.1832422 0.9469630\n",
       "3 258    30059.39  9  928.31541 0.8731873 0.5498248\n",
       "4 246    29059.01 12 1000.38692 0.7057341 0.7454114"
      ]
     },
     "metadata": {}
    }
   ],
   "metadata": {}
  },
  {
   "cell_type": "code",
   "execution_count": 34,
   "source": [
    "anova(m2z,m3z,m3az,m3cz)"
   ],
   "outputs": [
    {
     "output_type": "display_data",
     "data": {
      "text/html": [
       "<table class=\"dataframe\">\n",
       "<caption>A anova: 4 × 6</caption>\n",
       "<thead>\n",
       "\t<tr><th></th><th scope=col>Res.Df</th><th scope=col>RSS</th><th scope=col>Df</th><th scope=col>Sum of Sq</th><th scope=col>F</th><th scope=col>Pr(&gt;F)</th></tr>\n",
       "\t<tr><th></th><th scope=col>&lt;dbl&gt;</th><th scope=col>&lt;dbl&gt;</th><th scope=col>&lt;dbl&gt;</th><th scope=col>&lt;dbl&gt;</th><th scope=col>&lt;dbl&gt;</th><th scope=col>&lt;dbl&gt;</th></tr>\n",
       "</thead>\n",
       "<tbody>\n",
       "\t<tr><th scope=row>1</th><td>271</td><td>271.2734</td><td>NA</td><td>       NA</td><td>       NA</td><td>       NA</td></tr>\n",
       "\t<tr><th scope=row>2</th><td>267</td><td>270.5175</td><td> 4</td><td>0.7558526</td><td>0.1832422</td><td>0.9469630</td></tr>\n",
       "\t<tr><th scope=row>3</th><td>258</td><td>262.4135</td><td> 9</td><td>8.1040389</td><td>0.8731873</td><td>0.5498248</td></tr>\n",
       "\t<tr><th scope=row>4</th><td>246</td><td>253.6803</td><td>12</td><td>8.7332112</td><td>0.7057341</td><td>0.7454114</td></tr>\n",
       "</tbody>\n",
       "</table>\n"
      ],
      "text/latex": [
       "A anova: 4 × 6\n",
       "\\begin{tabular}{r|llllll}\n",
       "  & Res.Df & RSS & Df & Sum of Sq & F & Pr(>F)\\\\\n",
       "  & <dbl> & <dbl> & <dbl> & <dbl> & <dbl> & <dbl>\\\\\n",
       "\\hline\n",
       "\t1 & 271 & 271.2734 & NA &        NA &        NA &        NA\\\\\n",
       "\t2 & 267 & 270.5175 &  4 & 0.7558526 & 0.1832422 & 0.9469630\\\\\n",
       "\t3 & 258 & 262.4135 &  9 & 8.1040389 & 0.8731873 & 0.5498248\\\\\n",
       "\t4 & 246 & 253.6803 & 12 & 8.7332112 & 0.7057341 & 0.7454114\\\\\n",
       "\\end{tabular}\n"
      ],
      "text/markdown": [
       "\n",
       "A anova: 4 × 6\n",
       "\n",
       "| <!--/--> | Res.Df &lt;dbl&gt; | RSS &lt;dbl&gt; | Df &lt;dbl&gt; | Sum of Sq &lt;dbl&gt; | F &lt;dbl&gt; | Pr(&gt;F) &lt;dbl&gt; |\n",
       "|---|---|---|---|---|---|---|\n",
       "| 1 | 271 | 271.2734 | NA |        NA |        NA |        NA |\n",
       "| 2 | 267 | 270.5175 |  4 | 0.7558526 | 0.1832422 | 0.9469630 |\n",
       "| 3 | 258 | 262.4135 |  9 | 8.1040389 | 0.8731873 | 0.5498248 |\n",
       "| 4 | 246 | 253.6803 | 12 | 8.7332112 | 0.7057341 | 0.7454114 |\n",
       "\n"
      ],
      "text/plain": [
       "  Res.Df RSS      Df Sum of Sq F         Pr(>F)   \n",
       "1 271    271.2734 NA        NA        NA        NA\n",
       "2 267    270.5175  4 0.7558526 0.1832422 0.9469630\n",
       "3 258    262.4135  9 8.1040389 0.8731873 0.5498248\n",
       "4 246    253.6803 12 8.7332112 0.7057341 0.7454114"
      ]
     },
     "metadata": {}
    }
   ],
   "metadata": {}
  },
  {
   "cell_type": "code",
   "execution_count": 35,
   "source": [
    "anova(m1,m1a,m3a,m3c)"
   ],
   "outputs": [
    {
     "output_type": "display_data",
     "data": {
      "text/html": [
       "<table class=\"dataframe\">\n",
       "<caption>A anova: 4 × 6</caption>\n",
       "<thead>\n",
       "\t<tr><th></th><th scope=col>Res.Df</th><th scope=col>RSS</th><th scope=col>Df</th><th scope=col>Sum of Sq</th><th scope=col>F</th><th scope=col>Pr(&gt;F)</th></tr>\n",
       "\t<tr><th></th><th scope=col>&lt;dbl&gt;</th><th scope=col>&lt;dbl&gt;</th><th scope=col>&lt;dbl&gt;</th><th scope=col>&lt;dbl&gt;</th><th scope=col>&lt;dbl&gt;</th><th scope=col>&lt;dbl&gt;</th></tr>\n",
       "</thead>\n",
       "<tbody>\n",
       "\t<tr><th scope=row>1</th><td>270</td><td>31240.52</td><td>NA</td><td>       NA</td><td>       NA</td><td>       NA</td></tr>\n",
       "\t<tr><th scope=row>2</th><td>264</td><td>30415.08</td><td> 6</td><td> 825.4377</td><td>1.1646285</td><td>0.3258603</td></tr>\n",
       "\t<tr><th scope=row>3</th><td>258</td><td>30059.39</td><td> 6</td><td> 355.6867</td><td>0.5018463</td><td>0.8067050</td></tr>\n",
       "\t<tr><th scope=row>4</th><td>246</td><td>29059.01</td><td>12</td><td>1000.3869</td><td>0.7057341</td><td>0.7454114</td></tr>\n",
       "</tbody>\n",
       "</table>\n"
      ],
      "text/latex": [
       "A anova: 4 × 6\n",
       "\\begin{tabular}{r|llllll}\n",
       "  & Res.Df & RSS & Df & Sum of Sq & F & Pr(>F)\\\\\n",
       "  & <dbl> & <dbl> & <dbl> & <dbl> & <dbl> & <dbl>\\\\\n",
       "\\hline\n",
       "\t1 & 270 & 31240.52 & NA &        NA &        NA &        NA\\\\\n",
       "\t2 & 264 & 30415.08 &  6 &  825.4377 & 1.1646285 & 0.3258603\\\\\n",
       "\t3 & 258 & 30059.39 &  6 &  355.6867 & 0.5018463 & 0.8067050\\\\\n",
       "\t4 & 246 & 29059.01 & 12 & 1000.3869 & 0.7057341 & 0.7454114\\\\\n",
       "\\end{tabular}\n"
      ],
      "text/markdown": [
       "\n",
       "A anova: 4 × 6\n",
       "\n",
       "| <!--/--> | Res.Df &lt;dbl&gt; | RSS &lt;dbl&gt; | Df &lt;dbl&gt; | Sum of Sq &lt;dbl&gt; | F &lt;dbl&gt; | Pr(&gt;F) &lt;dbl&gt; |\n",
       "|---|---|---|---|---|---|---|\n",
       "| 1 | 270 | 31240.52 | NA |        NA |        NA |        NA |\n",
       "| 2 | 264 | 30415.08 |  6 |  825.4377 | 1.1646285 | 0.3258603 |\n",
       "| 3 | 258 | 30059.39 |  6 |  355.6867 | 0.5018463 | 0.8067050 |\n",
       "| 4 | 246 | 29059.01 | 12 | 1000.3869 | 0.7057341 | 0.7454114 |\n",
       "\n"
      ],
      "text/plain": [
       "  Res.Df RSS      Df Sum of Sq F         Pr(>F)   \n",
       "1 270    31240.52 NA        NA        NA        NA\n",
       "2 264    30415.08  6  825.4377 1.1646285 0.3258603\n",
       "3 258    30059.39  6  355.6867 0.5018463 0.8067050\n",
       "4 246    29059.01 12 1000.3869 0.7057341 0.7454114"
      ]
     },
     "metadata": {}
    }
   ],
   "metadata": {}
  },
  {
   "cell_type": "code",
   "execution_count": 36,
   "source": [
    "anova(m1z,m1az,m3az,m3cz)"
   ],
   "outputs": [
    {
     "output_type": "display_data",
     "data": {
      "text/html": [
       "<table class=\"dataframe\">\n",
       "<caption>A anova: 4 × 6</caption>\n",
       "<thead>\n",
       "\t<tr><th></th><th scope=col>Res.Df</th><th scope=col>RSS</th><th scope=col>Df</th><th scope=col>Sum of Sq</th><th scope=col>F</th><th scope=col>Pr(&gt;F)</th></tr>\n",
       "\t<tr><th></th><th scope=col>&lt;dbl&gt;</th><th scope=col>&lt;dbl&gt;</th><th scope=col>&lt;dbl&gt;</th><th scope=col>&lt;dbl&gt;</th><th scope=col>&lt;dbl&gt;</th><th scope=col>&lt;dbl&gt;</th></tr>\n",
       "</thead>\n",
       "<tbody>\n",
       "\t<tr><th scope=row>1</th><td>270</td><td>272.7245</td><td>NA</td><td>      NA</td><td>       NA</td><td>       NA</td></tr>\n",
       "\t<tr><th scope=row>2</th><td>264</td><td>265.5186</td><td> 6</td><td>7.205934</td><td>1.1646285</td><td>0.3258603</td></tr>\n",
       "\t<tr><th scope=row>3</th><td>258</td><td>262.4135</td><td> 6</td><td>3.105086</td><td>0.5018463</td><td>0.8067050</td></tr>\n",
       "\t<tr><th scope=row>4</th><td>246</td><td>253.6803</td><td>12</td><td>8.733211</td><td>0.7057341</td><td>0.7454114</td></tr>\n",
       "</tbody>\n",
       "</table>\n"
      ],
      "text/latex": [
       "A anova: 4 × 6\n",
       "\\begin{tabular}{r|llllll}\n",
       "  & Res.Df & RSS & Df & Sum of Sq & F & Pr(>F)\\\\\n",
       "  & <dbl> & <dbl> & <dbl> & <dbl> & <dbl> & <dbl>\\\\\n",
       "\\hline\n",
       "\t1 & 270 & 272.7245 & NA &       NA &        NA &        NA\\\\\n",
       "\t2 & 264 & 265.5186 &  6 & 7.205934 & 1.1646285 & 0.3258603\\\\\n",
       "\t3 & 258 & 262.4135 &  6 & 3.105086 & 0.5018463 & 0.8067050\\\\\n",
       "\t4 & 246 & 253.6803 & 12 & 8.733211 & 0.7057341 & 0.7454114\\\\\n",
       "\\end{tabular}\n"
      ],
      "text/markdown": [
       "\n",
       "A anova: 4 × 6\n",
       "\n",
       "| <!--/--> | Res.Df &lt;dbl&gt; | RSS &lt;dbl&gt; | Df &lt;dbl&gt; | Sum of Sq &lt;dbl&gt; | F &lt;dbl&gt; | Pr(&gt;F) &lt;dbl&gt; |\n",
       "|---|---|---|---|---|---|---|\n",
       "| 1 | 270 | 272.7245 | NA |       NA |        NA |        NA |\n",
       "| 2 | 264 | 265.5186 |  6 | 7.205934 | 1.1646285 | 0.3258603 |\n",
       "| 3 | 258 | 262.4135 |  6 | 3.105086 | 0.5018463 | 0.8067050 |\n",
       "| 4 | 246 | 253.6803 | 12 | 8.733211 | 0.7057341 | 0.7454114 |\n",
       "\n"
      ],
      "text/plain": [
       "  Res.Df RSS      Df Sum of Sq F         Pr(>F)   \n",
       "1 270    272.7245 NA       NA         NA        NA\n",
       "2 264    265.5186  6 7.205934  1.1646285 0.3258603\n",
       "3 258    262.4135  6 3.105086  0.5018463 0.8067050\n",
       "4 246    253.6803 12 8.733211  0.7057341 0.7454114"
      ]
     },
     "metadata": {}
    }
   ],
   "metadata": {}
  },
  {
   "cell_type": "code",
   "execution_count": 37,
   "source": [
    "anova(m2,m2a,m3a,m3c)"
   ],
   "outputs": [
    {
     "output_type": "display_data",
     "data": {
      "text/html": [
       "<table class=\"dataframe\">\n",
       "<caption>A anova: 4 × 6</caption>\n",
       "<thead>\n",
       "\t<tr><th></th><th scope=col>Res.Df</th><th scope=col>RSS</th><th scope=col>Df</th><th scope=col>Sum of Sq</th><th scope=col>F</th><th scope=col>Pr(&gt;F)</th></tr>\n",
       "\t<tr><th></th><th scope=col>&lt;dbl&gt;</th><th scope=col>&lt;dbl&gt;</th><th scope=col>&lt;dbl&gt;</th><th scope=col>&lt;dbl&gt;</th><th scope=col>&lt;dbl&gt;</th><th scope=col>&lt;dbl&gt;</th></tr>\n",
       "</thead>\n",
       "<tbody>\n",
       "\t<tr><th scope=row>1</th><td>271</td><td>31074.29</td><td>NA</td><td>         NA</td><td>        NA</td><td>       NA</td></tr>\n",
       "\t<tr><th scope=row>2</th><td>268</td><td>31067.70</td><td> 3</td><td>   6.591494</td><td>0.01860017</td><td>0.9965426</td></tr>\n",
       "\t<tr><th scope=row>3</th><td>258</td><td>30059.39</td><td>10</td><td>1008.306630</td><td>0.85358541</td><td>0.5775395</td></tr>\n",
       "\t<tr><th scope=row>4</th><td>246</td><td>29059.01</td><td>12</td><td>1000.386922</td><td>0.70573413</td><td>0.7454114</td></tr>\n",
       "</tbody>\n",
       "</table>\n"
      ],
      "text/latex": [
       "A anova: 4 × 6\n",
       "\\begin{tabular}{r|llllll}\n",
       "  & Res.Df & RSS & Df & Sum of Sq & F & Pr(>F)\\\\\n",
       "  & <dbl> & <dbl> & <dbl> & <dbl> & <dbl> & <dbl>\\\\\n",
       "\\hline\n",
       "\t1 & 271 & 31074.29 & NA &          NA &         NA &        NA\\\\\n",
       "\t2 & 268 & 31067.70 &  3 &    6.591494 & 0.01860017 & 0.9965426\\\\\n",
       "\t3 & 258 & 30059.39 & 10 & 1008.306630 & 0.85358541 & 0.5775395\\\\\n",
       "\t4 & 246 & 29059.01 & 12 & 1000.386922 & 0.70573413 & 0.7454114\\\\\n",
       "\\end{tabular}\n"
      ],
      "text/markdown": [
       "\n",
       "A anova: 4 × 6\n",
       "\n",
       "| <!--/--> | Res.Df &lt;dbl&gt; | RSS &lt;dbl&gt; | Df &lt;dbl&gt; | Sum of Sq &lt;dbl&gt; | F &lt;dbl&gt; | Pr(&gt;F) &lt;dbl&gt; |\n",
       "|---|---|---|---|---|---|---|\n",
       "| 1 | 271 | 31074.29 | NA |          NA |         NA |        NA |\n",
       "| 2 | 268 | 31067.70 |  3 |    6.591494 | 0.01860017 | 0.9965426 |\n",
       "| 3 | 258 | 30059.39 | 10 | 1008.306630 | 0.85358541 | 0.5775395 |\n",
       "| 4 | 246 | 29059.01 | 12 | 1000.386922 | 0.70573413 | 0.7454114 |\n",
       "\n"
      ],
      "text/plain": [
       "  Res.Df RSS      Df Sum of Sq   F          Pr(>F)   \n",
       "1 271    31074.29 NA          NA         NA        NA\n",
       "2 268    31067.70  3    6.591494 0.01860017 0.9965426\n",
       "3 258    30059.39 10 1008.306630 0.85358541 0.5775395\n",
       "4 246    29059.01 12 1000.386922 0.70573413 0.7454114"
      ]
     },
     "metadata": {}
    }
   ],
   "metadata": {}
  },
  {
   "cell_type": "code",
   "execution_count": 38,
   "source": [
    "anova(m2z,m2az,m3az,m3cz)"
   ],
   "outputs": [
    {
     "output_type": "display_data",
     "data": {
      "text/html": [
       "<table class=\"dataframe\">\n",
       "<caption>A anova: 4 × 6</caption>\n",
       "<thead>\n",
       "\t<tr><th></th><th scope=col>Res.Df</th><th scope=col>RSS</th><th scope=col>Df</th><th scope=col>Sum of Sq</th><th scope=col>F</th><th scope=col>Pr(&gt;F)</th></tr>\n",
       "\t<tr><th></th><th scope=col>&lt;dbl&gt;</th><th scope=col>&lt;dbl&gt;</th><th scope=col>&lt;dbl&gt;</th><th scope=col>&lt;dbl&gt;</th><th scope=col>&lt;dbl&gt;</th><th scope=col>&lt;dbl&gt;</th></tr>\n",
       "</thead>\n",
       "<tbody>\n",
       "\t<tr><th scope=row>1</th><td>271</td><td>271.2734</td><td>NA</td><td>        NA</td><td>        NA</td><td>       NA</td></tr>\n",
       "\t<tr><th scope=row>2</th><td>268</td><td>271.2158</td><td> 3</td><td>0.05754264</td><td>0.01860017</td><td>0.9965426</td></tr>\n",
       "\t<tr><th scope=row>3</th><td>258</td><td>262.4135</td><td>10</td><td>8.80234891</td><td>0.85358541</td><td>0.5775395</td></tr>\n",
       "\t<tr><th scope=row>4</th><td>246</td><td>253.6803</td><td>12</td><td>8.73321117</td><td>0.70573413</td><td>0.7454114</td></tr>\n",
       "</tbody>\n",
       "</table>\n"
      ],
      "text/latex": [
       "A anova: 4 × 6\n",
       "\\begin{tabular}{r|llllll}\n",
       "  & Res.Df & RSS & Df & Sum of Sq & F & Pr(>F)\\\\\n",
       "  & <dbl> & <dbl> & <dbl> & <dbl> & <dbl> & <dbl>\\\\\n",
       "\\hline\n",
       "\t1 & 271 & 271.2734 & NA &         NA &         NA &        NA\\\\\n",
       "\t2 & 268 & 271.2158 &  3 & 0.05754264 & 0.01860017 & 0.9965426\\\\\n",
       "\t3 & 258 & 262.4135 & 10 & 8.80234891 & 0.85358541 & 0.5775395\\\\\n",
       "\t4 & 246 & 253.6803 & 12 & 8.73321117 & 0.70573413 & 0.7454114\\\\\n",
       "\\end{tabular}\n"
      ],
      "text/markdown": [
       "\n",
       "A anova: 4 × 6\n",
       "\n",
       "| <!--/--> | Res.Df &lt;dbl&gt; | RSS &lt;dbl&gt; | Df &lt;dbl&gt; | Sum of Sq &lt;dbl&gt; | F &lt;dbl&gt; | Pr(&gt;F) &lt;dbl&gt; |\n",
       "|---|---|---|---|---|---|---|\n",
       "| 1 | 271 | 271.2734 | NA |         NA |         NA |        NA |\n",
       "| 2 | 268 | 271.2158 |  3 | 0.05754264 | 0.01860017 | 0.9965426 |\n",
       "| 3 | 258 | 262.4135 | 10 | 8.80234891 | 0.85358541 | 0.5775395 |\n",
       "| 4 | 246 | 253.6803 | 12 | 8.73321117 | 0.70573413 | 0.7454114 |\n",
       "\n"
      ],
      "text/plain": [
       "  Res.Df RSS      Df Sum of Sq  F          Pr(>F)   \n",
       "1 271    271.2734 NA         NA         NA        NA\n",
       "2 268    271.2158  3 0.05754264 0.01860017 0.9965426\n",
       "3 258    262.4135 10 8.80234891 0.85358541 0.5775395\n",
       "4 246    253.6803 12 8.73321117 0.70573413 0.7454114"
      ]
     },
     "metadata": {}
    }
   ],
   "metadata": {}
  },
  {
   "cell_type": "code",
   "execution_count": 39,
   "source": [
    "anova(m3,m3b,m3c)"
   ],
   "outputs": [
    {
     "output_type": "display_data",
     "data": {
      "text/html": [
       "<table class=\"dataframe\">\n",
       "<caption>A anova: 3 × 6</caption>\n",
       "<thead>\n",
       "\t<tr><th></th><th scope=col>Res.Df</th><th scope=col>RSS</th><th scope=col>Df</th><th scope=col>Sum of Sq</th><th scope=col>F</th><th scope=col>Pr(&gt;F)</th></tr>\n",
       "\t<tr><th></th><th scope=col>&lt;dbl&gt;</th><th scope=col>&lt;dbl&gt;</th><th scope=col>&lt;dbl&gt;</th><th scope=col>&lt;dbl&gt;</th><th scope=col>&lt;dbl&gt;</th><th scope=col>&lt;dbl&gt;</th></tr>\n",
       "</thead>\n",
       "<tbody>\n",
       "\t<tr><th scope=row>1</th><td>267</td><td>30987.71</td><td>NA</td><td>       NA</td><td>       NA</td><td>       NA</td></tr>\n",
       "\t<tr><th scope=row>2</th><td>255</td><td>30095.90</td><td>12</td><td> 891.8126</td><td>0.6291392</td><td>0.8165747</td></tr>\n",
       "\t<tr><th scope=row>3</th><td>246</td><td>29059.01</td><td> 9</td><td>1036.8897</td><td>0.9753139</td><td>0.4609723</td></tr>\n",
       "</tbody>\n",
       "</table>\n"
      ],
      "text/latex": [
       "A anova: 3 × 6\n",
       "\\begin{tabular}{r|llllll}\n",
       "  & Res.Df & RSS & Df & Sum of Sq & F & Pr(>F)\\\\\n",
       "  & <dbl> & <dbl> & <dbl> & <dbl> & <dbl> & <dbl>\\\\\n",
       "\\hline\n",
       "\t1 & 267 & 30987.71 & NA &        NA &        NA &        NA\\\\\n",
       "\t2 & 255 & 30095.90 & 12 &  891.8126 & 0.6291392 & 0.8165747\\\\\n",
       "\t3 & 246 & 29059.01 &  9 & 1036.8897 & 0.9753139 & 0.4609723\\\\\n",
       "\\end{tabular}\n"
      ],
      "text/markdown": [
       "\n",
       "A anova: 3 × 6\n",
       "\n",
       "| <!--/--> | Res.Df &lt;dbl&gt; | RSS &lt;dbl&gt; | Df &lt;dbl&gt; | Sum of Sq &lt;dbl&gt; | F &lt;dbl&gt; | Pr(&gt;F) &lt;dbl&gt; |\n",
       "|---|---|---|---|---|---|---|\n",
       "| 1 | 267 | 30987.71 | NA |        NA |        NA |        NA |\n",
       "| 2 | 255 | 30095.90 | 12 |  891.8126 | 0.6291392 | 0.8165747 |\n",
       "| 3 | 246 | 29059.01 |  9 | 1036.8897 | 0.9753139 | 0.4609723 |\n",
       "\n"
      ],
      "text/plain": [
       "  Res.Df RSS      Df Sum of Sq F         Pr(>F)   \n",
       "1 267    30987.71 NA        NA        NA        NA\n",
       "2 255    30095.90 12  891.8126 0.6291392 0.8165747\n",
       "3 246    29059.01  9 1036.8897 0.9753139 0.4609723"
      ]
     },
     "metadata": {}
    }
   ],
   "metadata": {}
  },
  {
   "cell_type": "code",
   "execution_count": 44,
   "source": [
    "aic_results <- AIC(m1,m1a,m2,m2a,m3,m3a,m3b,m3c)\n",
    "aic_results"
   ],
   "outputs": [
    {
     "output_type": "display_data",
     "data": {
      "text/html": [
       "<table class=\"dataframe\">\n",
       "<caption>A data.frame: 8 × 2</caption>\n",
       "<thead>\n",
       "\t<tr><th></th><th scope=col>df</th><th scope=col>AIC</th></tr>\n",
       "\t<tr><th></th><th scope=col>&lt;dbl&gt;</th><th scope=col>&lt;dbl&gt;</th></tr>\n",
       "</thead>\n",
       "<tbody>\n",
       "\t<tr><th scope=row>m1</th><td> 6</td><td>1726.613</td></tr>\n",
       "\t<tr><th scope=row>m1a</th><td>12</td><td>1728.313</td></tr>\n",
       "\t<tr><th scope=row>m2</th><td> 5</td><td>1723.599</td></tr>\n",
       "\t<tr><th scope=row>m2a</th><td> 8</td><td>1725.976</td></tr>\n",
       "\t<tr><th scope=row>m3</th><td> 9</td><td>1727.248</td></tr>\n",
       "\t<tr><th scope=row>m3a</th><td>18</td><td>1730.333</td></tr>\n",
       "\t<tr><th scope=row>m3b</th><td>21</td><td>1735.149</td></tr>\n",
       "\t<tr><th scope=row>m3c</th><td>30</td><td>1737.574</td></tr>\n",
       "</tbody>\n",
       "</table>\n"
      ],
      "text/latex": [
       "A data.frame: 8 × 2\n",
       "\\begin{tabular}{r|ll}\n",
       "  & df & AIC\\\\\n",
       "  & <dbl> & <dbl>\\\\\n",
       "\\hline\n",
       "\tm1 &  6 & 1726.613\\\\\n",
       "\tm1a & 12 & 1728.313\\\\\n",
       "\tm2 &  5 & 1723.599\\\\\n",
       "\tm2a &  8 & 1725.976\\\\\n",
       "\tm3 &  9 & 1727.248\\\\\n",
       "\tm3a & 18 & 1730.333\\\\\n",
       "\tm3b & 21 & 1735.149\\\\\n",
       "\tm3c & 30 & 1737.574\\\\\n",
       "\\end{tabular}\n"
      ],
      "text/markdown": [
       "\n",
       "A data.frame: 8 × 2\n",
       "\n",
       "| <!--/--> | df &lt;dbl&gt; | AIC &lt;dbl&gt; |\n",
       "|---|---|---|\n",
       "| m1 |  6 | 1726.613 |\n",
       "| m1a | 12 | 1728.313 |\n",
       "| m2 |  5 | 1723.599 |\n",
       "| m2a |  8 | 1725.976 |\n",
       "| m3 |  9 | 1727.248 |\n",
       "| m3a | 18 | 1730.333 |\n",
       "| m3b | 21 | 1735.149 |\n",
       "| m3c | 30 | 1737.574 |\n",
       "\n"
      ],
      "text/plain": [
       "    df AIC     \n",
       "m1   6 1726.613\n",
       "m1a 12 1728.313\n",
       "m2   5 1723.599\n",
       "m2a  8 1725.976\n",
       "m3   9 1727.248\n",
       "m3a 18 1730.333\n",
       "m3b 21 1735.149\n",
       "m3c 30 1737.574"
      ]
     },
     "metadata": {}
    }
   ],
   "metadata": {}
  },
  {
   "cell_type": "code",
   "execution_count": 45,
   "source": [
    "aic_results <- AIC(m1z,m1az,m2z,m2az,m3z,m3az,m3bz,m3cz)\n",
    "aic_results"
   ],
   "outputs": [
    {
     "output_type": "display_data",
     "data": {
      "text/html": [
       "<table class=\"dataframe\">\n",
       "<caption>A data.frame: 8 × 2</caption>\n",
       "<thead>\n",
       "\t<tr><th></th><th scope=col>df</th><th scope=col>AIC</th></tr>\n",
       "\t<tr><th></th><th scope=col>&lt;dbl&gt;</th><th scope=col>&lt;dbl&gt;</th></tr>\n",
       "</thead>\n",
       "<tbody>\n",
       "\t<tr><th scope=row>m1z</th><td> 6</td><td>785.7877</td></tr>\n",
       "\t<tr><th scope=row>m1az</th><td>12</td><td>787.4877</td></tr>\n",
       "\t<tr><th scope=row>m2z</th><td> 5</td><td>782.7735</td></tr>\n",
       "\t<tr><th scope=row>m2az</th><td> 8</td><td>785.1510</td></tr>\n",
       "\t<tr><th scope=row>m3z</th><td> 9</td><td>786.4228</td></tr>\n",
       "\t<tr><th scope=row>m3az</th><td>18</td><td>789.5074</td></tr>\n",
       "\t<tr><th scope=row>m3bz</th><td>21</td><td>794.3239</td></tr>\n",
       "\t<tr><th scope=row>m3cz</th><td>30</td><td>796.7493</td></tr>\n",
       "</tbody>\n",
       "</table>\n"
      ],
      "text/latex": [
       "A data.frame: 8 × 2\n",
       "\\begin{tabular}{r|ll}\n",
       "  & df & AIC\\\\\n",
       "  & <dbl> & <dbl>\\\\\n",
       "\\hline\n",
       "\tm1z &  6 & 785.7877\\\\\n",
       "\tm1az & 12 & 787.4877\\\\\n",
       "\tm2z &  5 & 782.7735\\\\\n",
       "\tm2az &  8 & 785.1510\\\\\n",
       "\tm3z &  9 & 786.4228\\\\\n",
       "\tm3az & 18 & 789.5074\\\\\n",
       "\tm3bz & 21 & 794.3239\\\\\n",
       "\tm3cz & 30 & 796.7493\\\\\n",
       "\\end{tabular}\n"
      ],
      "text/markdown": [
       "\n",
       "A data.frame: 8 × 2\n",
       "\n",
       "| <!--/--> | df &lt;dbl&gt; | AIC &lt;dbl&gt; |\n",
       "|---|---|---|\n",
       "| m1z |  6 | 785.7877 |\n",
       "| m1az | 12 | 787.4877 |\n",
       "| m2z |  5 | 782.7735 |\n",
       "| m2az |  8 | 785.1510 |\n",
       "| m3z |  9 | 786.4228 |\n",
       "| m3az | 18 | 789.5074 |\n",
       "| m3bz | 21 | 794.3239 |\n",
       "| m3cz | 30 | 796.7493 |\n",
       "\n"
      ],
      "text/plain": [
       "     df AIC     \n",
       "m1z   6 785.7877\n",
       "m1az 12 787.4877\n",
       "m2z   5 782.7735\n",
       "m2az  8 785.1510\n",
       "m3z   9 786.4228\n",
       "m3az 18 789.5074\n",
       "m3bz 21 794.3239\n",
       "m3cz 30 796.7493"
      ]
     },
     "metadata": {}
    }
   ],
   "metadata": {}
  },
  {
   "cell_type": "code",
   "execution_count": null,
   "source": [],
   "outputs": [],
   "metadata": {}
  },
  {
   "cell_type": "code",
   "execution_count": null,
   "source": [],
   "outputs": [],
   "metadata": {}
  }
 ],
 "metadata": {
  "interpreter": {
   "hash": "aee8b7b246df8f9039afb4144a1f6fd8d2ca17a180786b69acc140d282b71a49"
  },
  "kernelspec": {
   "name": "python3124jvsc74a57bd04a074528bc854e8a1fdc819f4bc249979b3b196bce4de5afb134a947ed71fa2f",
   "display_name": "R",
   "language": "R"
  },
  "language_info": {
   "name": "R",
   "codemirror_mode": "r",
   "pygments_lexer": "r",
   "mimetype": "text/x-r-source",
   "file_extension": ".r",
   "version": "4.3.3"
  }
 },
 "nbformat": 4,
 "nbformat_minor": 4
}
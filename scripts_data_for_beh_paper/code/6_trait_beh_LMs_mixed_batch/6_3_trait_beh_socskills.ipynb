{
 "cells": [
  {
   "cell_type": "code",
   "execution_count": 1,
   "source": [
    "print(\"Hello, R in Jupyter!\")"
   ],
   "outputs": [
    {
     "output_type": "stream",
     "name": "stdout",
     "text": [
      "[1] \"Hello, R in Jupyter!\"\n"
     ]
    }
   ],
   "metadata": {}
  },
  {
   "cell_type": "code",
   "execution_count": 2,
   "source": [
    "# Basic arithmetic\n",
    "result <- 2 + 2\n",
    "print(result)"
   ],
   "outputs": [
    {
     "output_type": "stream",
     "name": "stdout",
     "text": [
      "[1] 4\n"
     ]
    }
   ],
   "metadata": {}
  },
  {
   "cell_type": "code",
   "execution_count": 3,
   "source": [
    "root_dir = '../../data/subtlety_playfight_data/'#/Users/f0053cz/Documents/psyanim_v2/scripts_for_beh_paper/data/subtlety_playfight_data/'\n",
    "data <- read.csv(paste(root_dir,'curvefit_traits_merged_linearpf_withPC1.csv', sep = \"/\"))\n",
    "# print(data)\n",
    "head(data, 5)"
   ],
   "outputs": [
    {
     "output_type": "display_data",
     "data": {
      "text/html": [
       "<table class=\"dataframe\">\n",
       "<caption>A data.frame: 5 × 44</caption>\n",
       "<thead>\n",
       "\t<tr><th></th><th scope=col>X</th><th scope=col>index</th><th scope=col>subID</th><th scope=col>r_squared_subt</th><th scope=col>nrmse_subt</th><th scope=col>aic_subt</th><th scope=col>center</th><th scope=col>PSE_subt</th><th scope=col>sigma_subt</th><th scope=col>bias_xmin_subt</th><th scope=col>⋯</th><th scope=col>posAffect</th><th scope=col>negAffect</th><th scope=col>neuroticism</th><th scope=col>extraversion</th><th scope=col>openness</th><th scope=col>agreeableness</th><th scope=col>conscientiousness</th><th scope=col>loneliness</th><th scope=col>nfriends</th><th scope=col>PC1</th></tr>\n",
       "\t<tr><th></th><th scope=col>&lt;int&gt;</th><th scope=col>&lt;int&gt;</th><th scope=col>&lt;dbl&gt;</th><th scope=col>&lt;dbl&gt;</th><th scope=col>&lt;dbl&gt;</th><th scope=col>&lt;dbl&gt;</th><th scope=col>&lt;dbl&gt;</th><th scope=col>&lt;dbl&gt;</th><th scope=col>&lt;dbl&gt;</th><th scope=col>&lt;dbl&gt;</th><th scope=col>⋯</th><th scope=col>&lt;dbl&gt;</th><th scope=col>&lt;dbl&gt;</th><th scope=col>&lt;dbl&gt;</th><th scope=col>&lt;dbl&gt;</th><th scope=col>&lt;dbl&gt;</th><th scope=col>&lt;dbl&gt;</th><th scope=col>&lt;dbl&gt;</th><th scope=col>&lt;dbl&gt;</th><th scope=col>&lt;dbl&gt;</th><th scope=col>&lt;dbl&gt;</th></tr>\n",
       "</thead>\n",
       "<tbody>\n",
       "\t<tr><th scope=row>1</th><td>0</td><td>0</td><td>30002</td><td>0.9789465</td><td>0.05958450</td><td>-35.48504</td><td>0.5461832</td><td>0.5529510</td><td>0.10335957</td><td>0.031291240</td><td>⋯</td><td>20</td><td> 0</td><td>38</td><td>28.00000</td><td>31.00000</td><td>34</td><td>39</td><td>56</td><td>3</td><td> 16.10785</td></tr>\n",
       "\t<tr><th scope=row>2</th><td>1</td><td>1</td><td>30004</td><td>0.9947840</td><td>0.03131009</td><td>-44.49341</td><td>0.3112003</td><td>0.2768959</td><td>0.07686605</td><td>0.194060972</td><td>⋯</td><td>25</td><td>11</td><td>38</td><td>26.18182</td><td>50.00000</td><td>50</td><td>46</td><td>56</td><td>3</td><td> 13.40826</td></tr>\n",
       "\t<tr><th scope=row>3</th><td>2</td><td>2</td><td>30005</td><td>0.9856356</td><td>0.04832041</td><td>-38.41862</td><td>0.3800630</td><td>0.3205832</td><td>0.11535284</td><td>0.249788688</td><td>⋯</td><td>20</td><td>21</td><td>51</td><td>39.00000</td><td>40.00000</td><td>43</td><td>19</td><td>41</td><td>5</td><td> 20.62867</td></tr>\n",
       "\t<tr><th scope=row>4</th><td>3</td><td>3</td><td>30006</td><td>0.9837098</td><td>0.05739903</td><td>-36.00819</td><td>0.4658866</td><td>0.4648232</td><td>0.07922090</td><td>0.009432723</td><td>⋯</td><td>25</td><td> 0</td><td>18</td><td>41.00000</td><td>31.00000</td><td>44</td><td>57</td><td>30</td><td>4</td><td>-27.57041</td></tr>\n",
       "\t<tr><th scope=row>5</th><td>4</td><td>4</td><td>30008</td><td>0.9007922</td><td>0.11023567</td><td>-26.87189</td><td>0.3854147</td><td>0.3251178</td><td>0.17258480</td><td>0.289378203</td><td>⋯</td><td>28</td><td> 4</td><td>27</td><td>46.00000</td><td>42.54545</td><td>46</td><td>50</td><td>45</td><td>5</td><td>-12.51604</td></tr>\n",
       "</tbody>\n",
       "</table>\n"
      ],
      "text/latex": [
       "A data.frame: 5 × 44\n",
       "\\begin{tabular}{r|lllllllllllllllllllll}\n",
       "  & X & index & subID & r\\_squared\\_subt & nrmse\\_subt & aic\\_subt & center & PSE\\_subt & sigma\\_subt & bias\\_xmin\\_subt & ⋯ & posAffect & negAffect & neuroticism & extraversion & openness & agreeableness & conscientiousness & loneliness & nfriends & PC1\\\\\n",
       "  & <int> & <int> & <dbl> & <dbl> & <dbl> & <dbl> & <dbl> & <dbl> & <dbl> & <dbl> & ⋯ & <dbl> & <dbl> & <dbl> & <dbl> & <dbl> & <dbl> & <dbl> & <dbl> & <dbl> & <dbl>\\\\\n",
       "\\hline\n",
       "\t1 & 0 & 0 & 30002 & 0.9789465 & 0.05958450 & -35.48504 & 0.5461832 & 0.5529510 & 0.10335957 & 0.031291240 & ⋯ & 20 &  0 & 38 & 28.00000 & 31.00000 & 34 & 39 & 56 & 3 &  16.10785\\\\\n",
       "\t2 & 1 & 1 & 30004 & 0.9947840 & 0.03131009 & -44.49341 & 0.3112003 & 0.2768959 & 0.07686605 & 0.194060972 & ⋯ & 25 & 11 & 38 & 26.18182 & 50.00000 & 50 & 46 & 56 & 3 &  13.40826\\\\\n",
       "\t3 & 2 & 2 & 30005 & 0.9856356 & 0.04832041 & -38.41862 & 0.3800630 & 0.3205832 & 0.11535284 & 0.249788688 & ⋯ & 20 & 21 & 51 & 39.00000 & 40.00000 & 43 & 19 & 41 & 5 &  20.62867\\\\\n",
       "\t4 & 3 & 3 & 30006 & 0.9837098 & 0.05739903 & -36.00819 & 0.4658866 & 0.4648232 & 0.07922090 & 0.009432723 & ⋯ & 25 &  0 & 18 & 41.00000 & 31.00000 & 44 & 57 & 30 & 4 & -27.57041\\\\\n",
       "\t5 & 4 & 4 & 30008 & 0.9007922 & 0.11023567 & -26.87189 & 0.3854147 & 0.3251178 & 0.17258480 & 0.289378203 & ⋯ & 28 &  4 & 27 & 46.00000 & 42.54545 & 46 & 50 & 45 & 5 & -12.51604\\\\\n",
       "\\end{tabular}\n"
      ],
      "text/markdown": [
       "\n",
       "A data.frame: 5 × 44\n",
       "\n",
       "| <!--/--> | X &lt;int&gt; | index &lt;int&gt; | subID &lt;dbl&gt; | r_squared_subt &lt;dbl&gt; | nrmse_subt &lt;dbl&gt; | aic_subt &lt;dbl&gt; | center &lt;dbl&gt; | PSE_subt &lt;dbl&gt; | sigma_subt &lt;dbl&gt; | bias_xmin_subt &lt;dbl&gt; | ⋯ ⋯ | posAffect &lt;dbl&gt; | negAffect &lt;dbl&gt; | neuroticism &lt;dbl&gt; | extraversion &lt;dbl&gt; | openness &lt;dbl&gt; | agreeableness &lt;dbl&gt; | conscientiousness &lt;dbl&gt; | loneliness &lt;dbl&gt; | nfriends &lt;dbl&gt; | PC1 &lt;dbl&gt; |\n",
       "|---|---|---|---|---|---|---|---|---|---|---|---|---|---|---|---|---|---|---|---|---|---|\n",
       "| 1 | 0 | 0 | 30002 | 0.9789465 | 0.05958450 | -35.48504 | 0.5461832 | 0.5529510 | 0.10335957 | 0.031291240 | ⋯ | 20 |  0 | 38 | 28.00000 | 31.00000 | 34 | 39 | 56 | 3 |  16.10785 |\n",
       "| 2 | 1 | 1 | 30004 | 0.9947840 | 0.03131009 | -44.49341 | 0.3112003 | 0.2768959 | 0.07686605 | 0.194060972 | ⋯ | 25 | 11 | 38 | 26.18182 | 50.00000 | 50 | 46 | 56 | 3 |  13.40826 |\n",
       "| 3 | 2 | 2 | 30005 | 0.9856356 | 0.04832041 | -38.41862 | 0.3800630 | 0.3205832 | 0.11535284 | 0.249788688 | ⋯ | 20 | 21 | 51 | 39.00000 | 40.00000 | 43 | 19 | 41 | 5 |  20.62867 |\n",
       "| 4 | 3 | 3 | 30006 | 0.9837098 | 0.05739903 | -36.00819 | 0.4658866 | 0.4648232 | 0.07922090 | 0.009432723 | ⋯ | 25 |  0 | 18 | 41.00000 | 31.00000 | 44 | 57 | 30 | 4 | -27.57041 |\n",
       "| 5 | 4 | 4 | 30008 | 0.9007922 | 0.11023567 | -26.87189 | 0.3854147 | 0.3251178 | 0.17258480 | 0.289378203 | ⋯ | 28 |  4 | 27 | 46.00000 | 42.54545 | 46 | 50 | 45 | 5 | -12.51604 |\n",
       "\n"
      ],
      "text/plain": [
       "  X index subID r_squared_subt nrmse_subt aic_subt  center    PSE_subt \n",
       "1 0 0     30002 0.9789465      0.05958450 -35.48504 0.5461832 0.5529510\n",
       "2 1 1     30004 0.9947840      0.03131009 -44.49341 0.3112003 0.2768959\n",
       "3 2 2     30005 0.9856356      0.04832041 -38.41862 0.3800630 0.3205832\n",
       "4 3 3     30006 0.9837098      0.05739903 -36.00819 0.4658866 0.4648232\n",
       "5 4 4     30008 0.9007922      0.11023567 -26.87189 0.3854147 0.3251178\n",
       "  sigma_subt bias_xmin_subt ⋯ posAffect negAffect neuroticism extraversion\n",
       "1 0.10335957 0.031291240    ⋯ 20         0        38          28.00000    \n",
       "2 0.07686605 0.194060972    ⋯ 25        11        38          26.18182    \n",
       "3 0.11535284 0.249788688    ⋯ 20        21        51          39.00000    \n",
       "4 0.07922090 0.009432723    ⋯ 25         0        18          41.00000    \n",
       "5 0.17258480 0.289378203    ⋯ 28         4        27          46.00000    \n",
       "  openness agreeableness conscientiousness loneliness nfriends PC1      \n",
       "1 31.00000 34            39                56         3         16.10785\n",
       "2 50.00000 50            46                56         3         13.40826\n",
       "3 40.00000 43            19                41         5         20.62867\n",
       "4 31.00000 44            57                30         4        -27.57041\n",
       "5 42.54545 46            50                45         5        -12.51604"
      ]
     },
     "metadata": {}
    }
   ],
   "metadata": {}
  },
  {
   "cell_type": "code",
   "execution_count": 4,
   "source": [
    "colnames(data)"
   ],
   "outputs": [
    {
     "output_type": "display_data",
     "data": {
      "text/html": [
       "<style>\n",
       ".list-inline {list-style: none; margin:0; padding: 0}\n",
       ".list-inline>li {display: inline-block}\n",
       ".list-inline>li:not(:last-child)::after {content: \"\\00b7\"; padding: 0 .5ex}\n",
       "</style>\n",
       "<ol class=list-inline><li>'X'</li><li>'index'</li><li>'subID'</li><li>'r_squared_subt'</li><li>'nrmse_subt'</li><li>'aic_subt'</li><li>'center'</li><li>'PSE_subt'</li><li>'sigma_subt'</li><li>'bias_xmin_subt'</li><li>'bias_xmax_subt'</li><li>'bias_lower_subt'</li><li>'bias_upper_subt'</li><li>'flipped_subt'</li><li>'range_subt'</li><li>'bias_subt'</li><li>'r_squared_pf'</li><li>'nrmse_pf'</li><li>'aic_pf'</li><li>'PSE_pf'</li><li>'slope_pf'</li><li>'intercept'</li><li>'bias_xmin_pf'</li><li>'bias_xmax_pf'</li><li>'bias_lower_pf'</li><li>'bias_upper_pf'</li><li>'flipped_pf'</li><li>'range_pf'</li><li>'bias_pf'</li><li>'social_skill'</li><li>'attn_switch'</li><li>'img'</li><li>'attn_to_det'</li><li>'comm'</li><li>'posAffect'</li><li>'negAffect'</li><li>'neuroticism'</li><li>'extraversion'</li><li>'openness'</li><li>'agreeableness'</li><li>'conscientiousness'</li><li>'loneliness'</li><li>'nfriends'</li><li>'PC1'</li></ol>\n"
      ],
      "text/latex": [
       "\\begin{enumerate*}\n",
       "\\item 'X'\n",
       "\\item 'index'\n",
       "\\item 'subID'\n",
       "\\item 'r\\_squared\\_subt'\n",
       "\\item 'nrmse\\_subt'\n",
       "\\item 'aic\\_subt'\n",
       "\\item 'center'\n",
       "\\item 'PSE\\_subt'\n",
       "\\item 'sigma\\_subt'\n",
       "\\item 'bias\\_xmin\\_subt'\n",
       "\\item 'bias\\_xmax\\_subt'\n",
       "\\item 'bias\\_lower\\_subt'\n",
       "\\item 'bias\\_upper\\_subt'\n",
       "\\item 'flipped\\_subt'\n",
       "\\item 'range\\_subt'\n",
       "\\item 'bias\\_subt'\n",
       "\\item 'r\\_squared\\_pf'\n",
       "\\item 'nrmse\\_pf'\n",
       "\\item 'aic\\_pf'\n",
       "\\item 'PSE\\_pf'\n",
       "\\item 'slope\\_pf'\n",
       "\\item 'intercept'\n",
       "\\item 'bias\\_xmin\\_pf'\n",
       "\\item 'bias\\_xmax\\_pf'\n",
       "\\item 'bias\\_lower\\_pf'\n",
       "\\item 'bias\\_upper\\_pf'\n",
       "\\item 'flipped\\_pf'\n",
       "\\item 'range\\_pf'\n",
       "\\item 'bias\\_pf'\n",
       "\\item 'social\\_skill'\n",
       "\\item 'attn\\_switch'\n",
       "\\item 'img'\n",
       "\\item 'attn\\_to\\_det'\n",
       "\\item 'comm'\n",
       "\\item 'posAffect'\n",
       "\\item 'negAffect'\n",
       "\\item 'neuroticism'\n",
       "\\item 'extraversion'\n",
       "\\item 'openness'\n",
       "\\item 'agreeableness'\n",
       "\\item 'conscientiousness'\n",
       "\\item 'loneliness'\n",
       "\\item 'nfriends'\n",
       "\\item 'PC1'\n",
       "\\end{enumerate*}\n"
      ],
      "text/markdown": [
       "1. 'X'\n",
       "2. 'index'\n",
       "3. 'subID'\n",
       "4. 'r_squared_subt'\n",
       "5. 'nrmse_subt'\n",
       "6. 'aic_subt'\n",
       "7. 'center'\n",
       "8. 'PSE_subt'\n",
       "9. 'sigma_subt'\n",
       "10. 'bias_xmin_subt'\n",
       "11. 'bias_xmax_subt'\n",
       "12. 'bias_lower_subt'\n",
       "13. 'bias_upper_subt'\n",
       "14. 'flipped_subt'\n",
       "15. 'range_subt'\n",
       "16. 'bias_subt'\n",
       "17. 'r_squared_pf'\n",
       "18. 'nrmse_pf'\n",
       "19. 'aic_pf'\n",
       "20. 'PSE_pf'\n",
       "21. 'slope_pf'\n",
       "22. 'intercept'\n",
       "23. 'bias_xmin_pf'\n",
       "24. 'bias_xmax_pf'\n",
       "25. 'bias_lower_pf'\n",
       "26. 'bias_upper_pf'\n",
       "27. 'flipped_pf'\n",
       "28. 'range_pf'\n",
       "29. 'bias_pf'\n",
       "30. 'social_skill'\n",
       "31. 'attn_switch'\n",
       "32. 'img'\n",
       "33. 'attn_to_det'\n",
       "34. 'comm'\n",
       "35. 'posAffect'\n",
       "36. 'negAffect'\n",
       "37. 'neuroticism'\n",
       "38. 'extraversion'\n",
       "39. 'openness'\n",
       "40. 'agreeableness'\n",
       "41. 'conscientiousness'\n",
       "42. 'loneliness'\n",
       "43. 'nfriends'\n",
       "44. 'PC1'\n",
       "\n",
       "\n"
      ],
      "text/plain": [
       " [1] \"X\"                 \"index\"             \"subID\"            \n",
       " [4] \"r_squared_subt\"    \"nrmse_subt\"        \"aic_subt\"         \n",
       " [7] \"center\"            \"PSE_subt\"          \"sigma_subt\"       \n",
       "[10] \"bias_xmin_subt\"    \"bias_xmax_subt\"    \"bias_lower_subt\"  \n",
       "[13] \"bias_upper_subt\"   \"flipped_subt\"      \"range_subt\"       \n",
       "[16] \"bias_subt\"         \"r_squared_pf\"      \"nrmse_pf\"         \n",
       "[19] \"aic_pf\"            \"PSE_pf\"            \"slope_pf\"         \n",
       "[22] \"intercept\"         \"bias_xmin_pf\"      \"bias_xmax_pf\"     \n",
       "[25] \"bias_lower_pf\"     \"bias_upper_pf\"     \"flipped_pf\"       \n",
       "[28] \"range_pf\"          \"bias_pf\"           \"social_skill\"     \n",
       "[31] \"attn_switch\"       \"img\"               \"attn_to_det\"      \n",
       "[34] \"comm\"              \"posAffect\"         \"negAffect\"        \n",
       "[37] \"neuroticism\"       \"extraversion\"      \"openness\"         \n",
       "[40] \"agreeableness\"     \"conscientiousness\" \"loneliness\"       \n",
       "[43] \"nfriends\"          \"PC1\"              "
      ]
     },
     "metadata": {}
    }
   ],
   "metadata": {}
  },
  {
   "cell_type": "code",
   "execution_count": 5,
   "source": [
    "# Print the dimensions of the data frame\n",
    "print(dim(data))\n",
    "\n",
    "# Drop rows with NA values\n",
    "data <- na.omit(data)\n",
    "\n",
    "# Print the dimensions of the data frame after dropping NA values\n",
    "print(dim(data))"
   ],
   "outputs": [
    {
     "output_type": "stream",
     "name": "stdout",
     "text": [
      "[1] 275  44\n",
      "[1] 275  44\n"
     ]
    }
   ],
   "metadata": {}
  },
  {
   "cell_type": "code",
   "execution_count": 13,
   "source": [
    "trait <- 'social_skill'"
   ],
   "outputs": [],
   "metadata": {}
  },
  {
   "cell_type": "code",
   "execution_count": 14,
   "source": [
    "# new_terms = ['obj_center','amplitude','bias_xmin_norm','sigma']\n",
    "new_terms <- c(trait,'PSE_subt', 'range_subt', 'bias_subt', 'sigma_subt', 'PSE_pf', 'range_pf', 'bias_pf', 'slope_pf')\n",
    "new_terms"
   ],
   "outputs": [
    {
     "output_type": "display_data",
     "data": {
      "text/html": [
       "<style>\n",
       ".list-inline {list-style: none; margin:0; padding: 0}\n",
       ".list-inline>li {display: inline-block}\n",
       ".list-inline>li:not(:last-child)::after {content: \"\\00b7\"; padding: 0 .5ex}\n",
       "</style>\n",
       "<ol class=list-inline><li>'social_skill'</li><li>'PSE_subt'</li><li>'range_subt'</li><li>'bias_subt'</li><li>'sigma_subt'</li><li>'PSE_pf'</li><li>'range_pf'</li><li>'bias_pf'</li><li>'slope_pf'</li></ol>\n"
      ],
      "text/latex": [
       "\\begin{enumerate*}\n",
       "\\item 'social\\_skill'\n",
       "\\item 'PSE\\_subt'\n",
       "\\item 'range\\_subt'\n",
       "\\item 'bias\\_subt'\n",
       "\\item 'sigma\\_subt'\n",
       "\\item 'PSE\\_pf'\n",
       "\\item 'range\\_pf'\n",
       "\\item 'bias\\_pf'\n",
       "\\item 'slope\\_pf'\n",
       "\\end{enumerate*}\n"
      ],
      "text/markdown": [
       "1. 'social_skill'\n",
       "2. 'PSE_subt'\n",
       "3. 'range_subt'\n",
       "4. 'bias_subt'\n",
       "5. 'sigma_subt'\n",
       "6. 'PSE_pf'\n",
       "7. 'range_pf'\n",
       "8. 'bias_pf'\n",
       "9. 'slope_pf'\n",
       "\n",
       "\n"
      ],
      "text/plain": [
       "[1] \"social_skill\" \"PSE_subt\"     \"range_subt\"   \"bias_subt\"    \"sigma_subt\"  \n",
       "[6] \"PSE_pf\"       \"range_pf\"     \"bias_pf\"      \"slope_pf\"    "
      ]
     },
     "metadata": {}
    }
   ],
   "metadata": {}
  },
  {
   "cell_type": "markdown",
   "source": [
    "# mult reg (relevant traits and curve fits)"
   ],
   "metadata": {}
  },
  {
   "cell_type": "code",
   "execution_count": 15,
   "source": [
    "# install.packages(\"dplyr\")\n",
    "library(dplyr)\n",
    "\n",
    "# # Rename specific columns\n",
    "# data <- data %>% rename(\n",
    "#   pos_affect = Positive_reweigh,\n",
    "#   PSE_subt = obj_center_subt,\n",
    "#   range_subt = amplitude_subt,\n",
    "#   bias_subt = bias_xmin_norm_subt,\n",
    "#   PSE_pf = obj_center_pf,\n",
    "#   range_pf = amplitude_pf,\n",
    "#   bias_pf = bias_xmin_norm_pf,\n",
    "#   PSE_diff = obj_center_diff,\n",
    "#   range_diff = amplitude_diff,\n",
    "#   bias_diff = bias_xmin_norm_diff\n",
    "# )"
   ],
   "outputs": [],
   "metadata": {}
  },
  {
   "cell_type": "code",
   "execution_count": 16,
   "source": [
    "head(data, 5)"
   ],
   "outputs": [
    {
     "output_type": "display_data",
     "data": {
      "text/html": [
       "<table class=\"dataframe\">\n",
       "<caption>A data.frame: 5 × 44</caption>\n",
       "<thead>\n",
       "\t<tr><th></th><th scope=col>X</th><th scope=col>index</th><th scope=col>subID</th><th scope=col>r_squared_subt</th><th scope=col>nrmse_subt</th><th scope=col>aic_subt</th><th scope=col>center</th><th scope=col>PSE_subt</th><th scope=col>sigma_subt</th><th scope=col>bias_xmin_subt</th><th scope=col>⋯</th><th scope=col>posAffect</th><th scope=col>negAffect</th><th scope=col>neuroticism</th><th scope=col>extraversion</th><th scope=col>openness</th><th scope=col>agreeableness</th><th scope=col>conscientiousness</th><th scope=col>loneliness</th><th scope=col>nfriends</th><th scope=col>PC1</th></tr>\n",
       "\t<tr><th></th><th scope=col>&lt;int&gt;</th><th scope=col>&lt;int&gt;</th><th scope=col>&lt;dbl&gt;</th><th scope=col>&lt;dbl&gt;</th><th scope=col>&lt;dbl&gt;</th><th scope=col>&lt;dbl&gt;</th><th scope=col>&lt;dbl&gt;</th><th scope=col>&lt;dbl&gt;</th><th scope=col>&lt;dbl&gt;</th><th scope=col>&lt;dbl&gt;</th><th scope=col>⋯</th><th scope=col>&lt;dbl&gt;</th><th scope=col>&lt;dbl&gt;</th><th scope=col>&lt;dbl&gt;</th><th scope=col>&lt;dbl&gt;</th><th scope=col>&lt;dbl&gt;</th><th scope=col>&lt;dbl&gt;</th><th scope=col>&lt;dbl&gt;</th><th scope=col>&lt;dbl&gt;</th><th scope=col>&lt;dbl&gt;</th><th scope=col>&lt;dbl&gt;</th></tr>\n",
       "</thead>\n",
       "<tbody>\n",
       "\t<tr><th scope=row>1</th><td>0</td><td>0</td><td>30002</td><td>0.9789465</td><td>0.05958450</td><td>-35.48504</td><td>0.5461832</td><td>0.5529510</td><td>0.10335957</td><td>0.031291240</td><td>⋯</td><td>20</td><td> 0</td><td>38</td><td>28.00000</td><td>31.00000</td><td>34</td><td>39</td><td>56</td><td>3</td><td> 16.10785</td></tr>\n",
       "\t<tr><th scope=row>2</th><td>1</td><td>1</td><td>30004</td><td>0.9947840</td><td>0.03131009</td><td>-44.49341</td><td>0.3112003</td><td>0.2768959</td><td>0.07686605</td><td>0.194060972</td><td>⋯</td><td>25</td><td>11</td><td>38</td><td>26.18182</td><td>50.00000</td><td>50</td><td>46</td><td>56</td><td>3</td><td> 13.40826</td></tr>\n",
       "\t<tr><th scope=row>3</th><td>2</td><td>2</td><td>30005</td><td>0.9856356</td><td>0.04832041</td><td>-38.41862</td><td>0.3800630</td><td>0.3205832</td><td>0.11535284</td><td>0.249788688</td><td>⋯</td><td>20</td><td>21</td><td>51</td><td>39.00000</td><td>40.00000</td><td>43</td><td>19</td><td>41</td><td>5</td><td> 20.62867</td></tr>\n",
       "\t<tr><th scope=row>4</th><td>3</td><td>3</td><td>30006</td><td>0.9837098</td><td>0.05739903</td><td>-36.00819</td><td>0.4658866</td><td>0.4648232</td><td>0.07922090</td><td>0.009432723</td><td>⋯</td><td>25</td><td> 0</td><td>18</td><td>41.00000</td><td>31.00000</td><td>44</td><td>57</td><td>30</td><td>4</td><td>-27.57041</td></tr>\n",
       "\t<tr><th scope=row>5</th><td>4</td><td>4</td><td>30008</td><td>0.9007922</td><td>0.11023567</td><td>-26.87189</td><td>0.3854147</td><td>0.3251178</td><td>0.17258480</td><td>0.289378203</td><td>⋯</td><td>28</td><td> 4</td><td>27</td><td>46.00000</td><td>42.54545</td><td>46</td><td>50</td><td>45</td><td>5</td><td>-12.51604</td></tr>\n",
       "</tbody>\n",
       "</table>\n"
      ],
      "text/latex": [
       "A data.frame: 5 × 44\n",
       "\\begin{tabular}{r|lllllllllllllllllllll}\n",
       "  & X & index & subID & r\\_squared\\_subt & nrmse\\_subt & aic\\_subt & center & PSE\\_subt & sigma\\_subt & bias\\_xmin\\_subt & ⋯ & posAffect & negAffect & neuroticism & extraversion & openness & agreeableness & conscientiousness & loneliness & nfriends & PC1\\\\\n",
       "  & <int> & <int> & <dbl> & <dbl> & <dbl> & <dbl> & <dbl> & <dbl> & <dbl> & <dbl> & ⋯ & <dbl> & <dbl> & <dbl> & <dbl> & <dbl> & <dbl> & <dbl> & <dbl> & <dbl> & <dbl>\\\\\n",
       "\\hline\n",
       "\t1 & 0 & 0 & 30002 & 0.9789465 & 0.05958450 & -35.48504 & 0.5461832 & 0.5529510 & 0.10335957 & 0.031291240 & ⋯ & 20 &  0 & 38 & 28.00000 & 31.00000 & 34 & 39 & 56 & 3 &  16.10785\\\\\n",
       "\t2 & 1 & 1 & 30004 & 0.9947840 & 0.03131009 & -44.49341 & 0.3112003 & 0.2768959 & 0.07686605 & 0.194060972 & ⋯ & 25 & 11 & 38 & 26.18182 & 50.00000 & 50 & 46 & 56 & 3 &  13.40826\\\\\n",
       "\t3 & 2 & 2 & 30005 & 0.9856356 & 0.04832041 & -38.41862 & 0.3800630 & 0.3205832 & 0.11535284 & 0.249788688 & ⋯ & 20 & 21 & 51 & 39.00000 & 40.00000 & 43 & 19 & 41 & 5 &  20.62867\\\\\n",
       "\t4 & 3 & 3 & 30006 & 0.9837098 & 0.05739903 & -36.00819 & 0.4658866 & 0.4648232 & 0.07922090 & 0.009432723 & ⋯ & 25 &  0 & 18 & 41.00000 & 31.00000 & 44 & 57 & 30 & 4 & -27.57041\\\\\n",
       "\t5 & 4 & 4 & 30008 & 0.9007922 & 0.11023567 & -26.87189 & 0.3854147 & 0.3251178 & 0.17258480 & 0.289378203 & ⋯ & 28 &  4 & 27 & 46.00000 & 42.54545 & 46 & 50 & 45 & 5 & -12.51604\\\\\n",
       "\\end{tabular}\n"
      ],
      "text/markdown": [
       "\n",
       "A data.frame: 5 × 44\n",
       "\n",
       "| <!--/--> | X &lt;int&gt; | index &lt;int&gt; | subID &lt;dbl&gt; | r_squared_subt &lt;dbl&gt; | nrmse_subt &lt;dbl&gt; | aic_subt &lt;dbl&gt; | center &lt;dbl&gt; | PSE_subt &lt;dbl&gt; | sigma_subt &lt;dbl&gt; | bias_xmin_subt &lt;dbl&gt; | ⋯ ⋯ | posAffect &lt;dbl&gt; | negAffect &lt;dbl&gt; | neuroticism &lt;dbl&gt; | extraversion &lt;dbl&gt; | openness &lt;dbl&gt; | agreeableness &lt;dbl&gt; | conscientiousness &lt;dbl&gt; | loneliness &lt;dbl&gt; | nfriends &lt;dbl&gt; | PC1 &lt;dbl&gt; |\n",
       "|---|---|---|---|---|---|---|---|---|---|---|---|---|---|---|---|---|---|---|---|---|---|\n",
       "| 1 | 0 | 0 | 30002 | 0.9789465 | 0.05958450 | -35.48504 | 0.5461832 | 0.5529510 | 0.10335957 | 0.031291240 | ⋯ | 20 |  0 | 38 | 28.00000 | 31.00000 | 34 | 39 | 56 | 3 |  16.10785 |\n",
       "| 2 | 1 | 1 | 30004 | 0.9947840 | 0.03131009 | -44.49341 | 0.3112003 | 0.2768959 | 0.07686605 | 0.194060972 | ⋯ | 25 | 11 | 38 | 26.18182 | 50.00000 | 50 | 46 | 56 | 3 |  13.40826 |\n",
       "| 3 | 2 | 2 | 30005 | 0.9856356 | 0.04832041 | -38.41862 | 0.3800630 | 0.3205832 | 0.11535284 | 0.249788688 | ⋯ | 20 | 21 | 51 | 39.00000 | 40.00000 | 43 | 19 | 41 | 5 |  20.62867 |\n",
       "| 4 | 3 | 3 | 30006 | 0.9837098 | 0.05739903 | -36.00819 | 0.4658866 | 0.4648232 | 0.07922090 | 0.009432723 | ⋯ | 25 |  0 | 18 | 41.00000 | 31.00000 | 44 | 57 | 30 | 4 | -27.57041 |\n",
       "| 5 | 4 | 4 | 30008 | 0.9007922 | 0.11023567 | -26.87189 | 0.3854147 | 0.3251178 | 0.17258480 | 0.289378203 | ⋯ | 28 |  4 | 27 | 46.00000 | 42.54545 | 46 | 50 | 45 | 5 | -12.51604 |\n",
       "\n"
      ],
      "text/plain": [
       "  X index subID r_squared_subt nrmse_subt aic_subt  center    PSE_subt \n",
       "1 0 0     30002 0.9789465      0.05958450 -35.48504 0.5461832 0.5529510\n",
       "2 1 1     30004 0.9947840      0.03131009 -44.49341 0.3112003 0.2768959\n",
       "3 2 2     30005 0.9856356      0.04832041 -38.41862 0.3800630 0.3205832\n",
       "4 3 3     30006 0.9837098      0.05739903 -36.00819 0.4658866 0.4648232\n",
       "5 4 4     30008 0.9007922      0.11023567 -26.87189 0.3854147 0.3251178\n",
       "  sigma_subt bias_xmin_subt ⋯ posAffect negAffect neuroticism extraversion\n",
       "1 0.10335957 0.031291240    ⋯ 20         0        38          28.00000    \n",
       "2 0.07686605 0.194060972    ⋯ 25        11        38          26.18182    \n",
       "3 0.11535284 0.249788688    ⋯ 20        21        51          39.00000    \n",
       "4 0.07922090 0.009432723    ⋯ 25         0        18          41.00000    \n",
       "5 0.17258480 0.289378203    ⋯ 28         4        27          46.00000    \n",
       "  openness agreeableness conscientiousness loneliness nfriends PC1      \n",
       "1 31.00000 34            39                56         3         16.10785\n",
       "2 50.00000 50            46                56         3         13.40826\n",
       "3 40.00000 43            19                41         5         20.62867\n",
       "4 31.00000 44            57                30         4        -27.57041\n",
       "5 42.54545 46            50                45         5        -12.51604"
      ]
     },
     "metadata": {}
    }
   ],
   "metadata": {}
  },
  {
   "cell_type": "code",
   "execution_count": 17,
   "source": [
    "names(data)"
   ],
   "outputs": [
    {
     "output_type": "display_data",
     "data": {
      "text/html": [
       "<style>\n",
       ".list-inline {list-style: none; margin:0; padding: 0}\n",
       ".list-inline>li {display: inline-block}\n",
       ".list-inline>li:not(:last-child)::after {content: \"\\00b7\"; padding: 0 .5ex}\n",
       "</style>\n",
       "<ol class=list-inline><li>'X'</li><li>'index'</li><li>'subID'</li><li>'r_squared_subt'</li><li>'nrmse_subt'</li><li>'aic_subt'</li><li>'center'</li><li>'PSE_subt'</li><li>'sigma_subt'</li><li>'bias_xmin_subt'</li><li>'bias_xmax_subt'</li><li>'bias_lower_subt'</li><li>'bias_upper_subt'</li><li>'flipped_subt'</li><li>'range_subt'</li><li>'bias_subt'</li><li>'r_squared_pf'</li><li>'nrmse_pf'</li><li>'aic_pf'</li><li>'PSE_pf'</li><li>'slope_pf'</li><li>'intercept'</li><li>'bias_xmin_pf'</li><li>'bias_xmax_pf'</li><li>'bias_lower_pf'</li><li>'bias_upper_pf'</li><li>'flipped_pf'</li><li>'range_pf'</li><li>'bias_pf'</li><li>'social_skill'</li><li>'attn_switch'</li><li>'img'</li><li>'attn_to_det'</li><li>'comm'</li><li>'posAffect'</li><li>'negAffect'</li><li>'neuroticism'</li><li>'extraversion'</li><li>'openness'</li><li>'agreeableness'</li><li>'conscientiousness'</li><li>'loneliness'</li><li>'nfriends'</li><li>'PC1'</li></ol>\n"
      ],
      "text/latex": [
       "\\begin{enumerate*}\n",
       "\\item 'X'\n",
       "\\item 'index'\n",
       "\\item 'subID'\n",
       "\\item 'r\\_squared\\_subt'\n",
       "\\item 'nrmse\\_subt'\n",
       "\\item 'aic\\_subt'\n",
       "\\item 'center'\n",
       "\\item 'PSE\\_subt'\n",
       "\\item 'sigma\\_subt'\n",
       "\\item 'bias\\_xmin\\_subt'\n",
       "\\item 'bias\\_xmax\\_subt'\n",
       "\\item 'bias\\_lower\\_subt'\n",
       "\\item 'bias\\_upper\\_subt'\n",
       "\\item 'flipped\\_subt'\n",
       "\\item 'range\\_subt'\n",
       "\\item 'bias\\_subt'\n",
       "\\item 'r\\_squared\\_pf'\n",
       "\\item 'nrmse\\_pf'\n",
       "\\item 'aic\\_pf'\n",
       "\\item 'PSE\\_pf'\n",
       "\\item 'slope\\_pf'\n",
       "\\item 'intercept'\n",
       "\\item 'bias\\_xmin\\_pf'\n",
       "\\item 'bias\\_xmax\\_pf'\n",
       "\\item 'bias\\_lower\\_pf'\n",
       "\\item 'bias\\_upper\\_pf'\n",
       "\\item 'flipped\\_pf'\n",
       "\\item 'range\\_pf'\n",
       "\\item 'bias\\_pf'\n",
       "\\item 'social\\_skill'\n",
       "\\item 'attn\\_switch'\n",
       "\\item 'img'\n",
       "\\item 'attn\\_to\\_det'\n",
       "\\item 'comm'\n",
       "\\item 'posAffect'\n",
       "\\item 'negAffect'\n",
       "\\item 'neuroticism'\n",
       "\\item 'extraversion'\n",
       "\\item 'openness'\n",
       "\\item 'agreeableness'\n",
       "\\item 'conscientiousness'\n",
       "\\item 'loneliness'\n",
       "\\item 'nfriends'\n",
       "\\item 'PC1'\n",
       "\\end{enumerate*}\n"
      ],
      "text/markdown": [
       "1. 'X'\n",
       "2. 'index'\n",
       "3. 'subID'\n",
       "4. 'r_squared_subt'\n",
       "5. 'nrmse_subt'\n",
       "6. 'aic_subt'\n",
       "7. 'center'\n",
       "8. 'PSE_subt'\n",
       "9. 'sigma_subt'\n",
       "10. 'bias_xmin_subt'\n",
       "11. 'bias_xmax_subt'\n",
       "12. 'bias_lower_subt'\n",
       "13. 'bias_upper_subt'\n",
       "14. 'flipped_subt'\n",
       "15. 'range_subt'\n",
       "16. 'bias_subt'\n",
       "17. 'r_squared_pf'\n",
       "18. 'nrmse_pf'\n",
       "19. 'aic_pf'\n",
       "20. 'PSE_pf'\n",
       "21. 'slope_pf'\n",
       "22. 'intercept'\n",
       "23. 'bias_xmin_pf'\n",
       "24. 'bias_xmax_pf'\n",
       "25. 'bias_lower_pf'\n",
       "26. 'bias_upper_pf'\n",
       "27. 'flipped_pf'\n",
       "28. 'range_pf'\n",
       "29. 'bias_pf'\n",
       "30. 'social_skill'\n",
       "31. 'attn_switch'\n",
       "32. 'img'\n",
       "33. 'attn_to_det'\n",
       "34. 'comm'\n",
       "35. 'posAffect'\n",
       "36. 'negAffect'\n",
       "37. 'neuroticism'\n",
       "38. 'extraversion'\n",
       "39. 'openness'\n",
       "40. 'agreeableness'\n",
       "41. 'conscientiousness'\n",
       "42. 'loneliness'\n",
       "43. 'nfriends'\n",
       "44. 'PC1'\n",
       "\n",
       "\n"
      ],
      "text/plain": [
       " [1] \"X\"                 \"index\"             \"subID\"            \n",
       " [4] \"r_squared_subt\"    \"nrmse_subt\"        \"aic_subt\"         \n",
       " [7] \"center\"            \"PSE_subt\"          \"sigma_subt\"       \n",
       "[10] \"bias_xmin_subt\"    \"bias_xmax_subt\"    \"bias_lower_subt\"  \n",
       "[13] \"bias_upper_subt\"   \"flipped_subt\"      \"range_subt\"       \n",
       "[16] \"bias_subt\"         \"r_squared_pf\"      \"nrmse_pf\"         \n",
       "[19] \"aic_pf\"            \"PSE_pf\"            \"slope_pf\"         \n",
       "[22] \"intercept\"         \"bias_xmin_pf\"      \"bias_xmax_pf\"     \n",
       "[25] \"bias_lower_pf\"     \"bias_upper_pf\"     \"flipped_pf\"       \n",
       "[28] \"range_pf\"          \"bias_pf\"           \"social_skill\"     \n",
       "[31] \"attn_switch\"       \"img\"               \"attn_to_det\"      \n",
       "[34] \"comm\"              \"posAffect\"         \"negAffect\"        \n",
       "[37] \"neuroticism\"       \"extraversion\"      \"openness\"         \n",
       "[40] \"agreeableness\"     \"conscientiousness\" \"loneliness\"       \n",
       "[43] \"nfriends\"          \"PC1\"              "
      ]
     },
     "metadata": {}
    }
   ],
   "metadata": {}
  },
  {
   "cell_type": "code",
   "execution_count": 18,
   "source": [
    "formula <- as.formula(paste(trait,\" ~ PSE_subt + range_subt + bias_subt + sigma_subt\"))\n",
    "m1 <- lm(formula, data = data)\n",
    "summary(m1)"
   ],
   "outputs": [
    {
     "output_type": "display_data",
     "data": {
      "text/plain": [
       "\n",
       "Call:\n",
       "lm(formula = formula, data = data)\n",
       "\n",
       "Residuals:\n",
       "     Min       1Q   Median       3Q      Max \n",
       "-12.5770  -4.9317  -0.3901   4.3093  14.6710 \n",
       "\n",
       "Coefficients:\n",
       "            Estimate Std. Error t value Pr(>|t|)    \n",
       "(Intercept)   14.969      2.926   5.116 5.94e-07 ***\n",
       "PSE_subt      -1.850      4.632  -0.399   0.6899    \n",
       "range_subt     4.119      2.791   1.476   0.1412    \n",
       "bias_subt     -4.714      2.553  -1.846   0.0659 .  \n",
       "sigma_subt    -3.921      9.089  -0.431   0.6665    \n",
       "---\n",
       "Signif. codes:  0 ‘***’ 0.001 ‘**’ 0.01 ‘*’ 0.05 ‘.’ 0.1 ‘ ’ 1\n",
       "\n",
       "Residual standard error: 6.235 on 270 degrees of freedom\n",
       "Multiple R-squared:  0.02267,\tAdjusted R-squared:  0.008186 \n",
       "F-statistic: 1.565 on 4 and 270 DF,  p-value: 0.1838\n"
      ]
     },
     "metadata": {}
    }
   ],
   "metadata": {}
  },
  {
   "cell_type": "code",
   "execution_count": 19,
   "source": [
    "# Select specific columns (e.g., A and C) and z-score them\n",
    "df_zscore <- as.data.frame(scale(data[, c(trait,\"PSE_subt\", \"range_subt\",\"bias_subt\",\"sigma_subt\",\"PSE_pf\",\"slope_pf\",\"bias_pf\")]))\n",
    "\n",
    "# Print the new data frame with z-scored values\n",
    "head(df_zscore,5)"
   ],
   "outputs": [
    {
     "output_type": "display_data",
     "data": {
      "text/html": [
       "<table class=\"dataframe\">\n",
       "<caption>A data.frame: 5 × 8</caption>\n",
       "<thead>\n",
       "\t<tr><th></th><th scope=col>social_skill</th><th scope=col>PSE_subt</th><th scope=col>range_subt</th><th scope=col>bias_subt</th><th scope=col>sigma_subt</th><th scope=col>PSE_pf</th><th scope=col>slope_pf</th><th scope=col>bias_pf</th></tr>\n",
       "\t<tr><th></th><th scope=col>&lt;dbl&gt;</th><th scope=col>&lt;dbl&gt;</th><th scope=col>&lt;dbl&gt;</th><th scope=col>&lt;dbl&gt;</th><th scope=col>&lt;dbl&gt;</th><th scope=col>&lt;dbl&gt;</th><th scope=col>&lt;dbl&gt;</th><th scope=col>&lt;dbl&gt;</th></tr>\n",
       "</thead>\n",
       "<tbody>\n",
       "\t<tr><th scope=row>1</th><td> 1.2302588</td><td> 1.5767321</td><td> 1.14088842</td><td>-2.1658855</td><td> 0.1395287</td><td> 0.2326507</td><td> 0.7313928</td><td>-0.0852494</td></tr>\n",
       "\t<tr><th scope=row>2</th><td> 1.2302588</td><td>-0.8390867</td><td> 0.62095979</td><td> 1.3894942</td><td>-0.4557972</td><td>-2.0430898</td><td>-0.7165475</td><td> 0.9400053</td></tr>\n",
       "\t<tr><th scope=row>3</th><td> 0.5913142</td><td>-0.4567697</td><td> 0.09711613</td><td> 0.6735449</td><td> 0.4090250</td><td> 0.3044776</td><td> 0.9973410</td><td>-0.2247607</td></tr>\n",
       "\t<tr><th scope=row>4</th><td>-0.8463112</td><td> 0.8055069</td><td> 1.62571731</td><td> 0.8182752</td><td>-0.4028821</td><td>-1.2009126</td><td> 0.4588780</td><td> 1.5583760</td></tr>\n",
       "\t<tr><th scope=row>5</th><td>-1.3255197</td><td>-0.4170865</td><td>-0.60284999</td><td>-0.2050663</td><td> 1.6950628</td><td>-0.8078972</td><td>-0.5244737</td><td> 0.4165962</td></tr>\n",
       "</tbody>\n",
       "</table>\n"
      ],
      "text/latex": [
       "A data.frame: 5 × 8\n",
       "\\begin{tabular}{r|llllllll}\n",
       "  & social\\_skill & PSE\\_subt & range\\_subt & bias\\_subt & sigma\\_subt & PSE\\_pf & slope\\_pf & bias\\_pf\\\\\n",
       "  & <dbl> & <dbl> & <dbl> & <dbl> & <dbl> & <dbl> & <dbl> & <dbl>\\\\\n",
       "\\hline\n",
       "\t1 &  1.2302588 &  1.5767321 &  1.14088842 & -2.1658855 &  0.1395287 &  0.2326507 &  0.7313928 & -0.0852494\\\\\n",
       "\t2 &  1.2302588 & -0.8390867 &  0.62095979 &  1.3894942 & -0.4557972 & -2.0430898 & -0.7165475 &  0.9400053\\\\\n",
       "\t3 &  0.5913142 & -0.4567697 &  0.09711613 &  0.6735449 &  0.4090250 &  0.3044776 &  0.9973410 & -0.2247607\\\\\n",
       "\t4 & -0.8463112 &  0.8055069 &  1.62571731 &  0.8182752 & -0.4028821 & -1.2009126 &  0.4588780 &  1.5583760\\\\\n",
       "\t5 & -1.3255197 & -0.4170865 & -0.60284999 & -0.2050663 &  1.6950628 & -0.8078972 & -0.5244737 &  0.4165962\\\\\n",
       "\\end{tabular}\n"
      ],
      "text/markdown": [
       "\n",
       "A data.frame: 5 × 8\n",
       "\n",
       "| <!--/--> | social_skill &lt;dbl&gt; | PSE_subt &lt;dbl&gt; | range_subt &lt;dbl&gt; | bias_subt &lt;dbl&gt; | sigma_subt &lt;dbl&gt; | PSE_pf &lt;dbl&gt; | slope_pf &lt;dbl&gt; | bias_pf &lt;dbl&gt; |\n",
       "|---|---|---|---|---|---|---|---|---|\n",
       "| 1 |  1.2302588 |  1.5767321 |  1.14088842 | -2.1658855 |  0.1395287 |  0.2326507 |  0.7313928 | -0.0852494 |\n",
       "| 2 |  1.2302588 | -0.8390867 |  0.62095979 |  1.3894942 | -0.4557972 | -2.0430898 | -0.7165475 |  0.9400053 |\n",
       "| 3 |  0.5913142 | -0.4567697 |  0.09711613 |  0.6735449 |  0.4090250 |  0.3044776 |  0.9973410 | -0.2247607 |\n",
       "| 4 | -0.8463112 |  0.8055069 |  1.62571731 |  0.8182752 | -0.4028821 | -1.2009126 |  0.4588780 |  1.5583760 |\n",
       "| 5 | -1.3255197 | -0.4170865 | -0.60284999 | -0.2050663 |  1.6950628 | -0.8078972 | -0.5244737 |  0.4165962 |\n",
       "\n"
      ],
      "text/plain": [
       "  social_skill PSE_subt   range_subt  bias_subt  sigma_subt PSE_pf    \n",
       "1  1.2302588    1.5767321  1.14088842 -2.1658855  0.1395287  0.2326507\n",
       "2  1.2302588   -0.8390867  0.62095979  1.3894942 -0.4557972 -2.0430898\n",
       "3  0.5913142   -0.4567697  0.09711613  0.6735449  0.4090250  0.3044776\n",
       "4 -0.8463112    0.8055069  1.62571731  0.8182752 -0.4028821 -1.2009126\n",
       "5 -1.3255197   -0.4170865 -0.60284999 -0.2050663  1.6950628 -0.8078972\n",
       "  slope_pf   bias_pf   \n",
       "1  0.7313928 -0.0852494\n",
       "2 -0.7165475  0.9400053\n",
       "3  0.9973410 -0.2247607\n",
       "4  0.4588780  1.5583760\n",
       "5 -0.5244737  0.4165962"
      ]
     },
     "metadata": {}
    }
   ],
   "metadata": {}
  },
  {
   "cell_type": "code",
   "execution_count": 20,
   "source": [
    "formula <- as.formula(paste(trait,\" ~ PSE_subt + range_subt + bias_subt + sigma_subt\"))\n",
    "m1z <- lm(formula, data = df_zscore)\n",
    "summary(m1z)"
   ],
   "outputs": [
    {
     "output_type": "display_data",
     "data": {
      "text/plain": [
       "\n",
       "Call:\n",
       "lm(formula = formula, data = df_zscore)\n",
       "\n",
       "Residuals:\n",
       "     Min       1Q   Median       3Q      Max \n",
       "-2.00901 -0.78777 -0.06231  0.68836  2.34349 \n",
       "\n",
       "Coefficients:\n",
       "              Estimate Std. Error t value Pr(>|t|)  \n",
       "(Intercept) -9.958e-17  6.005e-02   0.000   1.0000  \n",
       "PSE_subt    -3.378e-02  8.455e-02  -0.399   0.6899  \n",
       "range_subt   1.202e-01  8.145e-02   1.476   0.1412  \n",
       "bias_subt   -1.449e-01  7.846e-02  -1.846   0.0659 .\n",
       "sigma_subt  -2.787e-02  6.461e-02  -0.431   0.6665  \n",
       "---\n",
       "Signif. codes:  0 ‘***’ 0.001 ‘**’ 0.01 ‘*’ 0.05 ‘.’ 0.1 ‘ ’ 1\n",
       "\n",
       "Residual standard error: 0.9959 on 270 degrees of freedom\n",
       "Multiple R-squared:  0.02267,\tAdjusted R-squared:  0.008186 \n",
       "F-statistic: 1.565 on 4 and 270 DF,  p-value: 0.1838\n"
      ]
     },
     "metadata": {}
    }
   ],
   "metadata": {}
  },
  {
   "cell_type": "code",
   "execution_count": 21,
   "source": [
    "formula <- as.formula(paste(trait,\" ~ PSE_subt*range_subt + PSE_subt*bias_subt + PSE_subt*sigma_subt + range_subt*bias_subt + range_subt*sigma_subt + bias_subt*sigma_subt\"))\n",
    "m1a <- lm(formula, data = data)\n",
    "summary(m1a)"
   ],
   "outputs": [
    {
     "output_type": "display_data",
     "data": {
      "text/plain": [
       "\n",
       "Call:\n",
       "lm(formula = formula, data = data)\n",
       "\n",
       "Residuals:\n",
       "     Min       1Q   Median       3Q      Max \n",
       "-12.8530  -5.0421  -0.6373   4.1192  15.4703 \n",
       "\n",
       "Coefficients:\n",
       "                      Estimate Std. Error t value Pr(>|t|)\n",
       "(Intercept)             -6.953     16.218  -0.429    0.668\n",
       "PSE_subt                19.872     25.260   0.787    0.432\n",
       "range_subt              28.852     17.740   1.626    0.105\n",
       "bias_subt               16.072     16.309   0.985    0.325\n",
       "sigma_subt              32.764     66.362   0.494    0.622\n",
       "PSE_subt:range_subt    -23.155     22.048  -1.050    0.295\n",
       "PSE_subt:bias_subt       2.139     19.719   0.108    0.914\n",
       "PSE_subt:sigma_subt    -58.749     69.929  -0.840    0.402\n",
       "range_subt:bias_subt   -24.936     16.069  -1.552    0.122\n",
       "range_subt:sigma_subt    3.512     42.492   0.083    0.934\n",
       "bias_subt:sigma_subt   -24.997     71.932  -0.348    0.728\n",
       "\n",
       "Residual standard error: 6.267 on 264 degrees of freedom\n",
       "Multiple R-squared:  0.03448,\tAdjusted R-squared:  -0.002088 \n",
       "F-statistic: 0.9429 on 10 and 264 DF,  p-value: 0.4942\n"
      ]
     },
     "metadata": {}
    }
   ],
   "metadata": {}
  },
  {
   "cell_type": "code",
   "execution_count": 22,
   "source": [
    "formula <- as.formula(paste(trait,\" ~ PSE_subt*range_subt + PSE_subt*bias_subt + PSE_subt*sigma_subt + range_subt*bias_subt + range_subt*sigma_subt + bias_subt*sigma_subt\"))\n",
    "m1az <- lm(formula, data = df_zscore)\n",
    "summary(m1az)"
   ],
   "outputs": [
    {
     "output_type": "display_data",
     "data": {
      "text/plain": [
       "\n",
       "Call:\n",
       "lm(formula = formula, data = df_zscore)\n",
       "\n",
       "Residuals:\n",
       "    Min      1Q  Median      3Q     Max \n",
       "-2.0531 -0.8054 -0.1018  0.6580  2.4712 \n",
       "\n",
       "Coefficients:\n",
       "                       Estimate Std. Error t value Pr(>|t|)\n",
       "(Intercept)            0.060871   0.078939   0.771    0.441\n",
       "PSE_subt              -0.005500   0.118741  -0.046    0.963\n",
       "range_subt             0.067272   0.090420   0.744    0.458\n",
       "bias_subt             -0.086785   0.097620  -0.889    0.375\n",
       "sigma_subt            -0.035589   0.077863  -0.457    0.648\n",
       "PSE_subt:range_subt   -0.077214   0.073523  -1.050    0.295\n",
       "PSE_subt:bias_subt     0.007512   0.069242   0.108    0.914\n",
       "PSE_subt:sigma_subt   -0.047722   0.056804  -0.840    0.402\n",
       "range_subt:bias_subt  -0.139987   0.090212  -1.552    0.122\n",
       "range_subt:sigma_subt  0.004561   0.055185   0.083    0.934\n",
       "bias_subt:sigma_subt  -0.034184   0.098367  -0.348    0.728\n",
       "\n",
       "Residual standard error: 1.001 on 264 degrees of freedom\n",
       "Multiple R-squared:  0.03448,\tAdjusted R-squared:  -0.002088 \n",
       "F-statistic: 0.9429 on 10 and 264 DF,  p-value: 0.4942\n"
      ]
     },
     "metadata": {}
    }
   ],
   "metadata": {}
  },
  {
   "cell_type": "code",
   "execution_count": 23,
   "source": [
    "formula <- as.formula(paste(trait,\" ~ PSE_pf + slope_pf + bias_pf\"))\n",
    "m2 <- lm(formula, data = data)\n",
    "summary(m2)"
   ],
   "outputs": [
    {
     "output_type": "display_data",
     "data": {
      "text/plain": [
       "\n",
       "Call:\n",
       "lm(formula = formula, data = data)\n",
       "\n",
       "Residuals:\n",
       "     Min       1Q   Median       3Q      Max \n",
       "-12.6688  -5.1380  -0.7555   4.6452  16.0099 \n",
       "\n",
       "Coefficients:\n",
       "            Estimate Std. Error t value Pr(>|t|)    \n",
       "(Intercept) 16.66296    2.38984   6.972 2.38e-11 ***\n",
       "PSE_pf      -4.89561    3.49178  -1.402    0.162    \n",
       "slope_pf     0.07053    1.86299   0.038    0.970    \n",
       "bias_pf     -2.11072    1.97727  -1.067    0.287    \n",
       "---\n",
       "Signif. codes:  0 ‘***’ 0.001 ‘**’ 0.01 ‘*’ 0.05 ‘.’ 0.1 ‘ ’ 1\n",
       "\n",
       "Residual standard error: 6.269 on 271 degrees of freedom\n",
       "Multiple R-squared:  0.008092,\tAdjusted R-squared:  -0.002889 \n",
       "F-statistic: 0.7369 on 3 and 271 DF,  p-value: 0.5308\n"
      ]
     },
     "metadata": {}
    }
   ],
   "metadata": {}
  },
  {
   "cell_type": "code",
   "execution_count": 24,
   "source": [
    "formula <- as.formula(paste(trait,\" ~ PSE_pf + slope_pf + bias_pf\"))\n",
    "m2z <- lm(formula, data = df_zscore)\n",
    "summary(m2z)"
   ],
   "outputs": [
    {
     "output_type": "display_data",
     "data": {
      "text/plain": [
       "\n",
       "Call:\n",
       "lm(formula = formula, data = df_zscore)\n",
       "\n",
       "Residuals:\n",
       "    Min      1Q  Median      3Q     Max \n",
       "-2.0237 -0.8207 -0.1207  0.7420  2.5574 \n",
       "\n",
       "Coefficients:\n",
       "              Estimate Std. Error t value Pr(>|t|)\n",
       "(Intercept) -1.237e-16  6.039e-02   0.000    1.000\n",
       "PSE_pf      -1.237e-01  8.820e-02  -1.402    0.162\n",
       "slope_pf     2.451e-03  6.474e-02   0.038    0.970\n",
       "bias_pf     -9.283e-02  8.696e-02  -1.067    0.287\n",
       "\n",
       "Residual standard error: 1.001 on 271 degrees of freedom\n",
       "Multiple R-squared:  0.008092,\tAdjusted R-squared:  -0.002889 \n",
       "F-statistic: 0.7369 on 3 and 271 DF,  p-value: 0.5308\n"
      ]
     },
     "metadata": {}
    }
   ],
   "metadata": {}
  },
  {
   "cell_type": "code",
   "execution_count": 25,
   "source": [
    "formula <- as.formula(paste(trait,\" ~ PSE_pf*slope_pf + PSE_pf*bias_pf + slope_pf*bias_pf\"))\n",
    "m2a <- lm(formula, data = data)\n",
    "summary(m2a)"
   ],
   "outputs": [
    {
     "output_type": "display_data",
     "data": {
      "text/plain": [
       "\n",
       "Call:\n",
       "lm(formula = formula, data = data)\n",
       "\n",
       "Residuals:\n",
       "     Min       1Q   Median       3Q      Max \n",
       "-12.4692  -5.0958  -0.6766   4.5223  16.1784 \n",
       "\n",
       "Coefficients:\n",
       "                 Estimate Std. Error t value Pr(>|t|)   \n",
       "(Intercept)       25.1409     8.7321   2.879  0.00431 **\n",
       "PSE_pf           -15.2742     8.4204  -1.814  0.07080 . \n",
       "slope_pf         -16.0054     9.7312  -1.645  0.10119   \n",
       "bias_pf           -9.5075    11.9719  -0.794  0.42781   \n",
       "PSE_pf:slope_pf   22.1292    14.9311   1.482  0.13949   \n",
       "PSE_pf:bias_pf     0.4493     9.4621   0.047  0.96216   \n",
       "slope_pf:bias_pf  11.0213    12.5430   0.879  0.38036   \n",
       "---\n",
       "Signif. codes:  0 ‘***’ 0.001 ‘**’ 0.01 ‘*’ 0.05 ‘.’ 0.1 ‘ ’ 1\n",
       "\n",
       "Residual standard error: 6.269 on 268 degrees of freedom\n",
       "Multiple R-squared:  0.01904,\tAdjusted R-squared:  -0.002923 \n",
       "F-statistic: 0.8669 on 6 and 268 DF,  p-value: 0.5197\n"
      ]
     },
     "metadata": {}
    }
   ],
   "metadata": {}
  },
  {
   "cell_type": "code",
   "execution_count": 26,
   "source": [
    "formula <- as.formula(paste(trait,\" ~ PSE_pf*slope_pf + PSE_pf*bias_pf + slope_pf*bias_pf\"))\n",
    "m2az <- lm(formula, data = df_zscore)\n",
    "summary(m2az)"
   ],
   "outputs": [
    {
     "output_type": "display_data",
     "data": {
      "text/plain": [
       "\n",
       "Call:\n",
       "lm(formula = formula, data = df_zscore)\n",
       "\n",
       "Residuals:\n",
       "    Min      1Q  Median      3Q     Max \n",
       "-1.9918 -0.8140 -0.1081  0.7224  2.5843 \n",
       "\n",
       "Coefficients:\n",
       "                  Estimate Std. Error t value Pr(>|t|)\n",
       "(Intercept)      -0.030393   0.077889  -0.390    0.697\n",
       "PSE_pf           -0.029885   0.203528  -0.147    0.883\n",
       "slope_pf          0.008641   0.067720   0.128    0.899\n",
       "bias_pf          -0.106213   0.204228  -0.520    0.603\n",
       "PSE_pf:slope_pf   0.121599   0.082046   1.482    0.139\n",
       "PSE_pf:bias_pf    0.003125   0.065803   0.047    0.962\n",
       "slope_pf:bias_pf  0.105450   0.120010   0.879    0.380\n",
       "\n",
       "Residual standard error: 1.001 on 268 degrees of freedom\n",
       "Multiple R-squared:  0.01904,\tAdjusted R-squared:  -0.002923 \n",
       "F-statistic: 0.8669 on 6 and 268 DF,  p-value: 0.5197\n"
      ]
     },
     "metadata": {}
    }
   ],
   "metadata": {}
  },
  {
   "cell_type": "code",
   "execution_count": 27,
   "source": [
    "formula <- as.formula(paste(trait,\" ~ PSE_subt + range_subt + bias_subt + sigma_subt + PSE_pf + slope_pf + bias_pf\"))\n",
    "m3 <- lm(formula, data = data)\n",
    "summary(m3)"
   ],
   "outputs": [
    {
     "output_type": "display_data",
     "data": {
      "text/plain": [
       "\n",
       "Call:\n",
       "lm(formula = formula, data = data)\n",
       "\n",
       "Residuals:\n",
       "     Min       1Q   Median       3Q      Max \n",
       "-12.1136  -4.8490  -0.3907   4.3796  15.1139 \n",
       "\n",
       "Coefficients:\n",
       "            Estimate Std. Error t value Pr(>|t|)    \n",
       "(Intercept)  17.5915     3.6022   4.884  1.8e-06 ***\n",
       "PSE_subt     -1.5860     4.6552  -0.341    0.734    \n",
       "range_subt    4.3831     2.9268   1.498    0.135    \n",
       "bias_subt    -4.1634     2.6727  -1.558    0.120    \n",
       "sigma_subt   -3.9752     9.1354  -0.435    0.664    \n",
       "PSE_pf       -4.1637     3.4936  -1.192    0.234    \n",
       "slope_pf     -0.3494     2.1677  -0.161    0.872    \n",
       "bias_pf      -2.1186     1.9766  -1.072    0.285    \n",
       "---\n",
       "Signif. codes:  0 ‘***’ 0.001 ‘**’ 0.01 ‘*’ 0.05 ‘.’ 0.1 ‘ ’ 1\n",
       "\n",
       "Residual standard error: 6.248 on 267 degrees of freedom\n",
       "Multiple R-squared:  0.02948,\tAdjusted R-squared:  0.004034 \n",
       "F-statistic: 1.159 on 7 and 267 DF,  p-value: 0.327\n"
      ]
     },
     "metadata": {}
    }
   ],
   "metadata": {}
  },
  {
   "cell_type": "code",
   "execution_count": 28,
   "source": [
    "formula <- as.formula(paste(trait,\" ~ PSE_subt + range_subt + bias_subt + sigma_subt + PSE_pf + slope_pf + bias_pf\"))\n",
    "m3z <- lm(formula, data = df_zscore)\n",
    "summary(m3z)"
   ],
   "outputs": [
    {
     "output_type": "display_data",
     "data": {
      "text/plain": [
       "\n",
       "Call:\n",
       "lm(formula = formula, data = df_zscore)\n",
       "\n",
       "Residuals:\n",
       "     Min       1Q   Median       3Q      Max \n",
       "-1.93498 -0.77456 -0.06241  0.69959  2.41424 \n",
       "\n",
       "Coefficients:\n",
       "              Estimate Std. Error t value Pr(>|t|)\n",
       "(Intercept) -1.181e-16  6.018e-02   0.000    1.000\n",
       "PSE_subt    -2.895e-02  8.497e-02  -0.341    0.734\n",
       "range_subt   1.279e-01  8.541e-02   1.498    0.135\n",
       "bias_subt   -1.279e-01  8.213e-02  -1.558    0.120\n",
       "sigma_subt  -2.826e-02  6.494e-02  -0.435    0.664\n",
       "PSE_pf      -1.052e-01  8.824e-02  -1.192    0.234\n",
       "slope_pf    -1.214e-02  7.533e-02  -0.161    0.872\n",
       "bias_pf     -9.318e-02  8.693e-02  -1.072    0.285\n",
       "\n",
       "Residual standard error: 0.998 on 267 degrees of freedom\n",
       "Multiple R-squared:  0.02948,\tAdjusted R-squared:  0.004034 \n",
       "F-statistic: 1.159 on 7 and 267 DF,  p-value: 0.327\n"
      ]
     },
     "metadata": {}
    }
   ],
   "metadata": {}
  },
  {
   "cell_type": "code",
   "execution_count": 29,
   "source": [
    "formula <- as.formula(paste(trait,\" ~ PSE_subt*range_subt + PSE_subt*bias_subt + PSE_subt*sigma_subt + range_subt*bias_subt + range_subt*sigma_subt + bias_subt*sigma_subt + PSE_pf*slope_pf + PSE_pf*bias_pf + slope_pf*bias_pf\"))\n",
    "m3a <- lm(formula, data = data)\n",
    "summary(m3a)"
   ],
   "outputs": [
    {
     "output_type": "display_data",
     "data": {
      "text/plain": [
       "\n",
       "Call:\n",
       "lm(formula = formula, data = data)\n",
       "\n",
       "Residuals:\n",
       "     Min       1Q   Median       3Q      Max \n",
       "-12.0821  -5.0200  -0.4342   4.1579  16.2214 \n",
       "\n",
       "Coefficients:\n",
       "                      Estimate Std. Error t value Pr(>|t|)  \n",
       "(Intercept)             2.1515    18.8691   0.114   0.9093  \n",
       "PSE_subt               18.1967    25.3625   0.717   0.4737  \n",
       "range_subt             32.6373    17.9507   1.818   0.0702 .\n",
       "bias_subt              18.0105    16.7203   1.077   0.2824  \n",
       "sigma_subt             34.2420    67.8043   0.505   0.6140  \n",
       "PSE_pf                -13.7793     8.5812  -1.606   0.1095  \n",
       "slope_pf              -16.6763     9.8532  -1.692   0.0918 .\n",
       "bias_pf                -7.8054    12.2330  -0.638   0.5240  \n",
       "PSE_subt:range_subt   -23.8766    22.1166  -1.080   0.2813  \n",
       "PSE_subt:bias_subt      6.4830    20.0773   0.323   0.7470  \n",
       "PSE_subt:sigma_subt   -58.6516    71.1097  -0.825   0.4102  \n",
       "range_subt:bias_subt  -29.5224    16.4578  -1.794   0.0740 .\n",
       "range_subt:sigma_subt  -0.5962    42.7367  -0.014   0.9889  \n",
       "bias_subt:sigma_subt  -22.8753    73.1651  -0.313   0.7548  \n",
       "PSE_pf:slope_pf        23.5184    15.0647   1.561   0.1197  \n",
       "PSE_pf:bias_pf         -2.9153    10.3404  -0.282   0.7782  \n",
       "slope_pf:bias_pf       10.5878    12.7550   0.830   0.4073  \n",
       "---\n",
       "Signif. codes:  0 ‘***’ 0.001 ‘**’ 0.01 ‘*’ 0.05 ‘.’ 0.1 ‘ ’ 1\n",
       "\n",
       "Residual standard error: 6.269 on 258 degrees of freedom\n",
       "Multiple R-squared:  0.05578,\tAdjusted R-squared:  -0.002774 \n",
       "F-statistic: 0.9526 on 16 and 258 DF,  p-value: 0.5096\n"
      ]
     },
     "metadata": {}
    }
   ],
   "metadata": {}
  },
  {
   "cell_type": "code",
   "execution_count": 30,
   "source": [
    "formula <- as.formula(paste(trait,\" ~ PSE_subt*range_subt + PSE_subt*bias_subt + PSE_subt*sigma_subt + range_subt*bias_subt + range_subt*sigma_subt + bias_subt*sigma_subt + PSE_pf*slope_pf + PSE_pf*bias_pf + slope_pf*bias_pf\"))\n",
    "m3az <- lm(formula, data = df_zscore)\n",
    "summary(m3az)"
   ],
   "outputs": [
    {
     "output_type": "display_data",
     "data": {
      "text/plain": [
       "\n",
       "Call:\n",
       "lm(formula = formula, data = df_zscore)\n",
       "\n",
       "Residuals:\n",
       "     Min       1Q   Median       3Q      Max \n",
       "-1.92995 -0.80187 -0.06936  0.66416  2.59114 \n",
       "\n",
       "Coefficients:\n",
       "                        Estimate Std. Error t value Pr(>|t|)  \n",
       "(Intercept)            0.0256734  0.0914025   0.281    0.779  \n",
       "PSE_subt               0.0130225  0.1206555   0.108    0.914  \n",
       "range_subt             0.0602226  0.0951675   0.633    0.527  \n",
       "bias_subt             -0.0687101  0.1039938  -0.661    0.509  \n",
       "sigma_subt            -0.0340019  0.0794342  -0.428    0.669  \n",
       "PSE_pf                -0.0187099  0.2057943  -0.091    0.928  \n",
       "slope_pf              -0.0015423  0.0803932  -0.019    0.985  \n",
       "bias_pf               -0.1098851  0.2056365  -0.534    0.594  \n",
       "PSE_subt:range_subt   -0.0796212  0.0737523  -1.080    0.281  \n",
       "PSE_subt:bias_subt     0.0227643  0.0704987   0.323    0.747  \n",
       "PSE_subt:sigma_subt   -0.0476430  0.0577628  -0.825    0.410  \n",
       "range_subt:bias_subt  -0.1657365  0.0923931  -1.794    0.074 .\n",
       "range_subt:sigma_subt -0.0007743  0.0555024  -0.014    0.989  \n",
       "bias_subt:sigma_subt  -0.0312821  0.1000537  -0.313    0.755  \n",
       "PSE_pf:slope_pf        0.1292331  0.0827800   1.561    0.120  \n",
       "PSE_pf:bias_pf        -0.0202740  0.0719110  -0.282    0.778  \n",
       "slope_pf:bias_pf       0.1013029  0.1220384   0.830    0.407  \n",
       "---\n",
       "Signif. codes:  0 ‘***’ 0.001 ‘**’ 0.01 ‘*’ 0.05 ‘.’ 0.1 ‘ ’ 1\n",
       "\n",
       "Residual standard error: 1.001 on 258 degrees of freedom\n",
       "Multiple R-squared:  0.05578,\tAdjusted R-squared:  -0.002774 \n",
       "F-statistic: 0.9526 on 16 and 258 DF,  p-value: 0.5096\n"
      ]
     },
     "metadata": {}
    }
   ],
   "metadata": {}
  },
  {
   "cell_type": "code",
   "execution_count": 31,
   "source": [
    "formula <- as.formula(paste(trait,\" ~ PSE_subt*PSE_pf + PSE_subt*slope_pf + PSE_subt*bias_pf + range_subt*PSE_pf + range_subt*slope_pf + range_subt*bias_pf + bias_subt*PSE_pf + bias_subt*slope_pf + bias_subt*bias_pf +  sigma_subt*PSE_pf + sigma_subt*slope_pf + sigma_subt*bias_pf\"))\n",
    "m3b <- lm(formula, data = data)\n",
    "summary(m3b)"
   ],
   "outputs": [
    {
     "output_type": "display_data",
     "data": {
      "text/plain": [
       "\n",
       "Call:\n",
       "lm(formula = formula, data = data)\n",
       "\n",
       "Residuals:\n",
       "     Min       1Q   Median       3Q      Max \n",
       "-13.2087  -4.3317  -0.3203   4.1503  14.3206 \n",
       "\n",
       "Coefficients:\n",
       "                     Estimate Std. Error t value Pr(>|t|)  \n",
       "(Intercept)          -22.1914    23.3531  -0.950   0.3429  \n",
       "PSE_subt              53.5116    34.5457   1.549   0.1226  \n",
       "PSE_pf                21.7011    31.8459   0.681   0.4962  \n",
       "slope_pf              14.4732    18.0483   0.802   0.4233  \n",
       "bias_pf               31.9028    20.9015   1.526   0.1282  \n",
       "range_subt             0.8567    17.9548   0.048   0.9620  \n",
       "bias_subt             10.4485    17.4654   0.598   0.5502  \n",
       "sigma_subt           100.1086    72.3948   1.383   0.1679  \n",
       "PSE_subt:PSE_pf      -57.7927    51.2031  -1.129   0.2601  \n",
       "PSE_subt:slope_pf     18.9043    25.9610   0.728   0.4672  \n",
       "PSE_subt:bias_pf     -68.9075    30.9047  -2.230   0.0266 *\n",
       "PSE_pf:range_subt     22.3738    27.6306   0.810   0.4188  \n",
       "slope_pf:range_subt  -32.0794    14.0913  -2.277   0.0236 *\n",
       "bias_pf:range_subt    20.1964    17.6639   1.143   0.2540  \n",
       "PSE_pf:bias_subt      -9.1994    27.7682  -0.331   0.7407  \n",
       "slope_pf:bias_subt     6.7079    13.5071   0.497   0.6199  \n",
       "bias_pf:bias_subt    -23.8109    14.9986  -1.588   0.1136  \n",
       "PSE_pf:sigma_subt   -124.2715   105.1528  -1.182   0.2384  \n",
       "slope_pf:sigma_subt  -42.4332    50.6327  -0.838   0.4028  \n",
       "bias_pf:sigma_subt   -40.7136    59.5861  -0.683   0.4951  \n",
       "---\n",
       "Signif. codes:  0 ‘***’ 0.001 ‘**’ 0.01 ‘*’ 0.05 ‘.’ 0.1 ‘ ’ 1\n",
       "\n",
       "Residual standard error: 6.214 on 255 degrees of freedom\n",
       "Multiple R-squared:  0.08308,\tAdjusted R-squared:  0.01476 \n",
       "F-statistic: 1.216 on 19 and 255 DF,  p-value: 0.2443\n"
      ]
     },
     "metadata": {}
    }
   ],
   "metadata": {}
  },
  {
   "cell_type": "code",
   "execution_count": 32,
   "source": [
    "formula <- as.formula(paste(trait,\" ~ PSE_subt*PSE_pf + PSE_subt*slope_pf + PSE_subt*bias_pf + range_subt*PSE_pf + range_subt*slope_pf + range_subt*bias_pf + bias_subt*PSE_pf + bias_subt*slope_pf + bias_subt*bias_pf +  sigma_subt*PSE_pf + sigma_subt*slope_pf + sigma_subt*bias_pf\"))\n",
    "m3bz <- lm(formula, data = df_zscore)\n",
    "summary(m3bz)"
   ],
   "outputs": [
    {
     "output_type": "display_data",
     "data": {
      "text/plain": [
       "\n",
       "Call:\n",
       "lm(formula = formula, data = df_zscore)\n",
       "\n",
       "Residuals:\n",
       "     Min       1Q   Median       3Q      Max \n",
       "-2.10990 -0.69193 -0.05117  0.66296  2.28752 \n",
       "\n",
       "Coefficients:\n",
       "                      Estimate Std. Error t value Pr(>|t|)  \n",
       "(Intercept)          0.0617729  0.0688521   0.897   0.3705  \n",
       "PSE_subt            -0.0005001  0.0912489  -0.005   0.9956  \n",
       "PSE_pf              -0.0798118  0.1051895  -0.759   0.4487  \n",
       "slope_pf             0.0033979  0.0805233   0.042   0.9664  \n",
       "bias_pf             -0.0523090  0.1294114  -0.404   0.6864  \n",
       "range_subt           0.0701578  0.0906983   0.774   0.4399  \n",
       "bias_subt           -0.0950601  0.0854113  -1.113   0.2668  \n",
       "sigma_subt          -0.0398511  0.0697937  -0.571   0.5685  \n",
       "PSE_subt:PSE_pf     -0.1668054  0.1477861  -1.129   0.2601  \n",
       "PSE_subt:slope_pf    0.0750680  0.1030896   0.728   0.4672  \n",
       "PSE_subt:bias_pf    -0.3463013  0.1553146  -2.230   0.0266 *\n",
       "PSE_pf:range_subt    0.1032449  0.1275023   0.810   0.4188  \n",
       "slope_pf:range_subt -0.2036628  0.0894619  -2.277   0.0236 *\n",
       "bias_pf:range_subt   0.1622751  0.1419275   1.143   0.2540  \n",
       "PSE_pf:bias_subt    -0.0447001  0.1349259  -0.331   0.7407  \n",
       "slope_pf:bias_subt   0.0448426  0.0902958   0.497   0.6199  \n",
       "bias_pf:bias_subt   -0.2014528  0.1268964  -1.588   0.1136  \n",
       "PSE_pf:sigma_subt   -0.1396890  0.1181984  -1.182   0.2384  \n",
       "slope_pf:sigma_subt -0.0656226  0.0783031  -0.838   0.4028  \n",
       "bias_pf:sigma_subt  -0.0796857  0.1166235  -0.683   0.4951  \n",
       "---\n",
       "Signif. codes:  0 ‘***’ 0.001 ‘**’ 0.01 ‘*’ 0.05 ‘.’ 0.1 ‘ ’ 1\n",
       "\n",
       "Residual standard error: 0.9926 on 255 degrees of freedom\n",
       "Multiple R-squared:  0.08308,\tAdjusted R-squared:  0.01476 \n",
       "F-statistic: 1.216 on 19 and 255 DF,  p-value: 0.2443\n"
      ]
     },
     "metadata": {}
    }
   ],
   "metadata": {}
  },
  {
   "cell_type": "code",
   "execution_count": 33,
   "source": [
    "formula <- as.formula(paste(trait,\" ~ PSE_subt*range_subt + PSE_subt*bias_subt + PSE_subt*sigma_subt + range_subt*bias_subt + range_subt*sigma_subt + bias_subt*sigma_subt + PSE_pf*slope_pf + PSE_pf*bias_pf + slope_pf*bias_pf + PSE_subt*PSE_pf + PSE_subt*slope_pf + PSE_subt*bias_pf + range_subt*PSE_pf + range_subt*slope_pf + range_subt*bias_pf + bias_subt*PSE_pf + bias_subt*slope_pf + bias_subt*bias_pf +  sigma_subt*PSE_pf + sigma_subt*slope_pf + sigma_subt*bias_pf + PSE_subt*PSE_pf + PSE_subt*slope_pf + PSE_subt*bias_pf + range_subt*PSE_pf + range_subt*slope_pf + range_subt*bias_pf + bias_subt*PSE_pf + bias_subt*slope_pf + bias_subt*bias_pf +  sigma_subt*PSE_pf + sigma_subt*slope_pf + sigma_subt*bias_pf\"))\n",
    "m3c <- lm(formula, data = data)\n",
    "summary(m3c)"
   ],
   "outputs": [
    {
     "output_type": "display_data",
     "data": {
      "text/plain": [
       "\n",
       "Call:\n",
       "lm(formula = formula, data = data)\n",
       "\n",
       "Residuals:\n",
       "     Min       1Q   Median       3Q      Max \n",
       "-13.3667  -4.5693  -0.2637   4.2843  14.9495 \n",
       "\n",
       "Coefficients:\n",
       "                       Estimate Std. Error t value Pr(>|t|)  \n",
       "(Intercept)            -30.7640    29.2996  -1.050   0.2948  \n",
       "PSE_subt                60.7602    42.5058   1.429   0.1541  \n",
       "range_subt              34.6259    26.9535   1.285   0.2001  \n",
       "bias_subt               26.3651    26.0760   1.011   0.3130  \n",
       "sigma_subt              97.2882    98.9504   0.983   0.3265  \n",
       "PSE_pf                  13.6493    34.1736   0.399   0.6899  \n",
       "slope_pf               -17.0180    24.9655  -0.682   0.4961  \n",
       "bias_pf                 31.1987    24.3119   1.283   0.2006  \n",
       "PSE_subt:range_subt    -15.6279    24.5155  -0.637   0.5244  \n",
       "PSE_subt:bias_subt       1.3564    21.6285   0.063   0.9500  \n",
       "PSE_subt:sigma_subt    -46.2472    75.3099  -0.614   0.5397  \n",
       "range_subt:bias_subt   -19.0851    19.3017  -0.989   0.3237  \n",
       "range_subt:sigma_subt  -20.2050    51.2834  -0.394   0.6939  \n",
       "bias_subt:sigma_subt    -3.1960    81.9823  -0.039   0.9689  \n",
       "PSE_pf:slope_pf         32.3631    17.1277   1.890   0.0600 .\n",
       "PSE_pf:bias_pf          -2.0184    10.8198  -0.187   0.8522  \n",
       "slope_pf:bias_pf        18.6958    16.1116   1.160   0.2470  \n",
       "PSE_subt:PSE_pf        -41.3626    53.5819  -0.772   0.4409  \n",
       "PSE_subt:slope_pf       16.0061    29.3328   0.546   0.5858  \n",
       "PSE_subt:bias_pf       -62.6988    32.0005  -1.959   0.0512 .\n",
       "range_subt:PSE_pf        0.6957    30.1624   0.023   0.9816  \n",
       "range_subt:slope_pf    -24.1434    15.2287  -1.585   0.1142  \n",
       "range_subt:bias_pf       4.0141    19.6173   0.205   0.8380  \n",
       "bias_subt:PSE_pf        -7.5290    28.6729  -0.263   0.7931  \n",
       "bias_subt:slope_pf       5.5948    14.9355   0.375   0.7083  \n",
       "bias_subt:bias_pf      -26.1066    15.3318  -1.703   0.0899 .\n",
       "sigma_subt:PSE_pf     -104.2949   112.0305  -0.931   0.3528  \n",
       "sigma_subt:slope_pf    -14.5595    67.7180  -0.215   0.8299  \n",
       "sigma_subt:bias_pf     -28.4491    61.6697  -0.461   0.6450  \n",
       "---\n",
       "Signif. codes:  0 ‘***’ 0.001 ‘**’ 0.01 ‘*’ 0.05 ‘.’ 0.1 ‘ ’ 1\n",
       "\n",
       "Residual standard error: 6.246 on 246 degrees of freedom\n",
       "Multiple R-squared:  0.1063,\tAdjusted R-squared:  0.004555 \n",
       "F-statistic: 1.045 on 28 and 246 DF,  p-value: 0.4088\n"
      ]
     },
     "metadata": {}
    }
   ],
   "metadata": {}
  },
  {
   "cell_type": "code",
   "execution_count": 34,
   "source": [
    "formula <- as.formula(paste(trait,\" ~ PSE_subt*range_subt + PSE_subt*bias_subt + PSE_subt*sigma_subt + range_subt*bias_subt + range_subt*sigma_subt + bias_subt*sigma_subt + PSE_pf*slope_pf + PSE_pf*bias_pf + slope_pf*bias_pf + PSE_subt*PSE_pf + PSE_subt*slope_pf + PSE_subt*bias_pf + range_subt*PSE_pf + range_subt*slope_pf + range_subt*bias_pf + bias_subt*PSE_pf + bias_subt*slope_pf + bias_subt*bias_pf +  sigma_subt*PSE_pf + sigma_subt*slope_pf + sigma_subt*bias_pf + PSE_subt*PSE_pf + PSE_subt*slope_pf + PSE_subt*bias_pf + range_subt*PSE_pf + range_subt*slope_pf + range_subt*bias_pf + bias_subt*PSE_pf + bias_subt*slope_pf + bias_subt*bias_pf +  sigma_subt*PSE_pf + sigma_subt*slope_pf + sigma_subt*bias_pf\"))\n",
    "m3cz <- lm(formula, data = df_zscore)\n",
    "summary(m3cz)"
   ],
   "outputs": [
    {
     "output_type": "display_data",
     "data": {
      "text/plain": [
       "\n",
       "Call:\n",
       "lm(formula = formula, data = df_zscore)\n",
       "\n",
       "Residuals:\n",
       "     Min       1Q   Median       3Q      Max \n",
       "-2.13514 -0.72988 -0.04213  0.68437  2.38798 \n",
       "\n",
       "Coefficients:\n",
       "                       Estimate Std. Error t value Pr(>|t|)  \n",
       "(Intercept)            0.038090   0.095753   0.398   0.6911  \n",
       "PSE_subt               0.037051   0.123391   0.300   0.7642  \n",
       "range_subt             0.010949   0.098534   0.111   0.9116  \n",
       "bias_subt             -0.044577   0.106069  -0.420   0.6747  \n",
       "sigma_subt            -0.060959   0.081351  -0.749   0.4544  \n",
       "PSE_pf                 0.054238   0.225718   0.240   0.8103  \n",
       "slope_pf               0.005438   0.087227   0.062   0.9503  \n",
       "bias_pf               -0.021691   0.238978  -0.091   0.9278  \n",
       "PSE_subt:range_subt   -0.052114   0.081752  -0.637   0.5244  \n",
       "PSE_subt:bias_subt     0.004763   0.075946   0.063   0.9500  \n",
       "PSE_subt:sigma_subt   -0.037567   0.061175  -0.614   0.5397  \n",
       "range_subt:bias_subt  -0.107142   0.108358  -0.989   0.3237  \n",
       "range_subt:sigma_subt -0.026240   0.066602  -0.394   0.6939  \n",
       "bias_subt:sigma_subt  -0.004371   0.112111  -0.039   0.9689  \n",
       "PSE_pf:slope_pf        0.177834   0.094116   1.890   0.0600 .\n",
       "PSE_pf:bias_pf        -0.014037   0.075245  -0.187   0.8522  \n",
       "slope_pf:bias_pf       0.178880   0.154154   1.160   0.2470  \n",
       "PSE_subt:PSE_pf       -0.119384   0.154652  -0.772   0.4409  \n",
       "PSE_subt:slope_pf      0.063559   0.116479   0.546   0.5858  \n",
       "PSE_subt:bias_pf      -0.315099   0.160822  -1.959   0.0512 .\n",
       "range_subt:PSE_pf      0.003211   0.139186   0.023   0.9816  \n",
       "range_subt:slope_pf   -0.153280   0.096683  -1.585   0.1142  \n",
       "range_subt:bias_pf     0.032253   0.157622   0.205   0.8380  \n",
       "bias_subt:PSE_pf      -0.036583   0.139321  -0.263   0.7931  \n",
       "bias_subt:slope_pf     0.037402   0.099844   0.375   0.7083  \n",
       "bias_subt:bias_pf     -0.220876   0.129715  -1.703   0.0899 .\n",
       "sigma_subt:PSE_pf     -0.117234   0.125929  -0.931   0.3528  \n",
       "sigma_subt:slope_pf   -0.022516   0.104725  -0.215   0.8299  \n",
       "sigma_subt:bias_pf    -0.055681   0.120702  -0.461   0.6450  \n",
       "---\n",
       "Signif. codes:  0 ‘***’ 0.001 ‘**’ 0.01 ‘*’ 0.05 ‘.’ 0.1 ‘ ’ 1\n",
       "\n",
       "Residual standard error: 0.9977 on 246 degrees of freedom\n",
       "Multiple R-squared:  0.1063,\tAdjusted R-squared:  0.004555 \n",
       "F-statistic: 1.045 on 28 and 246 DF,  p-value: 0.4088\n"
      ]
     },
     "metadata": {}
    }
   ],
   "metadata": {}
  },
  {
   "cell_type": "code",
   "execution_count": 35,
   "source": [
    "anova(m3a,m3c)"
   ],
   "outputs": [
    {
     "output_type": "display_data",
     "data": {
      "text/html": [
       "<table class=\"dataframe\">\n",
       "<caption>A anova: 2 × 6</caption>\n",
       "<thead>\n",
       "\t<tr><th></th><th scope=col>Res.Df</th><th scope=col>RSS</th><th scope=col>Df</th><th scope=col>Sum of Sq</th><th scope=col>F</th><th scope=col>Pr(&gt;F)</th></tr>\n",
       "\t<tr><th></th><th scope=col>&lt;dbl&gt;</th><th scope=col>&lt;dbl&gt;</th><th scope=col>&lt;dbl&gt;</th><th scope=col>&lt;dbl&gt;</th><th scope=col>&lt;dbl&gt;</th><th scope=col>&lt;dbl&gt;</th></tr>\n",
       "</thead>\n",
       "<tbody>\n",
       "\t<tr><th scope=row>1</th><td>258</td><td>10139.493</td><td>NA</td><td>      NA</td><td>     NA</td><td>       NA</td></tr>\n",
       "\t<tr><th scope=row>2</th><td>246</td><td> 9597.235</td><td>12</td><td>542.2579</td><td>1.15828</td><td>0.3141111</td></tr>\n",
       "</tbody>\n",
       "</table>\n"
      ],
      "text/latex": [
       "A anova: 2 × 6\n",
       "\\begin{tabular}{r|llllll}\n",
       "  & Res.Df & RSS & Df & Sum of Sq & F & Pr(>F)\\\\\n",
       "  & <dbl> & <dbl> & <dbl> & <dbl> & <dbl> & <dbl>\\\\\n",
       "\\hline\n",
       "\t1 & 258 & 10139.493 & NA &       NA &      NA &        NA\\\\\n",
       "\t2 & 246 &  9597.235 & 12 & 542.2579 & 1.15828 & 0.3141111\\\\\n",
       "\\end{tabular}\n"
      ],
      "text/markdown": [
       "\n",
       "A anova: 2 × 6\n",
       "\n",
       "| <!--/--> | Res.Df &lt;dbl&gt; | RSS &lt;dbl&gt; | Df &lt;dbl&gt; | Sum of Sq &lt;dbl&gt; | F &lt;dbl&gt; | Pr(&gt;F) &lt;dbl&gt; |\n",
       "|---|---|---|---|---|---|---|\n",
       "| 1 | 258 | 10139.493 | NA |       NA |      NA |        NA |\n",
       "| 2 | 246 |  9597.235 | 12 | 542.2579 | 1.15828 | 0.3141111 |\n",
       "\n"
      ],
      "text/plain": [
       "  Res.Df RSS       Df Sum of Sq F       Pr(>F)   \n",
       "1 258    10139.493 NA       NA       NA        NA\n",
       "2 246     9597.235 12 542.2579  1.15828 0.3141111"
      ]
     },
     "metadata": {}
    }
   ],
   "metadata": {}
  },
  {
   "cell_type": "code",
   "execution_count": 36,
   "source": [
    "anova(m3az,m3cz)"
   ],
   "outputs": [
    {
     "output_type": "display_data",
     "data": {
      "text/html": [
       "<table class=\"dataframe\">\n",
       "<caption>A anova: 2 × 6</caption>\n",
       "<thead>\n",
       "\t<tr><th></th><th scope=col>Res.Df</th><th scope=col>RSS</th><th scope=col>Df</th><th scope=col>Sum of Sq</th><th scope=col>F</th><th scope=col>Pr(&gt;F)</th></tr>\n",
       "\t<tr><th></th><th scope=col>&lt;dbl&gt;</th><th scope=col>&lt;dbl&gt;</th><th scope=col>&lt;dbl&gt;</th><th scope=col>&lt;dbl&gt;</th><th scope=col>&lt;dbl&gt;</th><th scope=col>&lt;dbl&gt;</th></tr>\n",
       "</thead>\n",
       "<tbody>\n",
       "\t<tr><th scope=row>1</th><td>258</td><td>258.7156</td><td>NA</td><td>      NA</td><td>     NA</td><td>       NA</td></tr>\n",
       "\t<tr><th scope=row>2</th><td>246</td><td>244.8796</td><td>12</td><td>13.83606</td><td>1.15828</td><td>0.3141111</td></tr>\n",
       "</tbody>\n",
       "</table>\n"
      ],
      "text/latex": [
       "A anova: 2 × 6\n",
       "\\begin{tabular}{r|llllll}\n",
       "  & Res.Df & RSS & Df & Sum of Sq & F & Pr(>F)\\\\\n",
       "  & <dbl> & <dbl> & <dbl> & <dbl> & <dbl> & <dbl>\\\\\n",
       "\\hline\n",
       "\t1 & 258 & 258.7156 & NA &       NA &      NA &        NA\\\\\n",
       "\t2 & 246 & 244.8796 & 12 & 13.83606 & 1.15828 & 0.3141111\\\\\n",
       "\\end{tabular}\n"
      ],
      "text/markdown": [
       "\n",
       "A anova: 2 × 6\n",
       "\n",
       "| <!--/--> | Res.Df &lt;dbl&gt; | RSS &lt;dbl&gt; | Df &lt;dbl&gt; | Sum of Sq &lt;dbl&gt; | F &lt;dbl&gt; | Pr(&gt;F) &lt;dbl&gt; |\n",
       "|---|---|---|---|---|---|---|\n",
       "| 1 | 258 | 258.7156 | NA |       NA |      NA |        NA |\n",
       "| 2 | 246 | 244.8796 | 12 | 13.83606 | 1.15828 | 0.3141111 |\n",
       "\n"
      ],
      "text/plain": [
       "  Res.Df RSS      Df Sum of Sq F       Pr(>F)   \n",
       "1 258    258.7156 NA       NA       NA        NA\n",
       "2 246    244.8796 12 13.83606  1.15828 0.3141111"
      ]
     },
     "metadata": {}
    }
   ],
   "metadata": {}
  },
  {
   "cell_type": "code",
   "execution_count": 37,
   "source": [
    "m3a"
   ],
   "outputs": [
    {
     "output_type": "display_data",
     "data": {
      "text/plain": [
       "\n",
       "Call:\n",
       "lm(formula = formula, data = data)\n",
       "\n",
       "Coefficients:\n",
       "          (Intercept)               PSE_subt             range_subt  \n",
       "               2.1515                18.1967                32.6373  \n",
       "            bias_subt             sigma_subt                 PSE_pf  \n",
       "              18.0105                34.2420               -13.7793  \n",
       "             slope_pf                bias_pf    PSE_subt:range_subt  \n",
       "             -16.6763                -7.8054               -23.8766  \n",
       "   PSE_subt:bias_subt    PSE_subt:sigma_subt   range_subt:bias_subt  \n",
       "               6.4830               -58.6516               -29.5224  \n",
       "range_subt:sigma_subt   bias_subt:sigma_subt        PSE_pf:slope_pf  \n",
       "              -0.5962               -22.8753                23.5184  \n",
       "       PSE_pf:bias_pf       slope_pf:bias_pf  \n",
       "              -2.9153                10.5878  \n"
      ]
     },
     "metadata": {}
    }
   ],
   "metadata": {}
  },
  {
   "cell_type": "code",
   "execution_count": 38,
   "source": [
    "anova(m1,m3,m3a,m3c)"
   ],
   "outputs": [
    {
     "output_type": "display_data",
     "data": {
      "text/html": [
       "<table class=\"dataframe\">\n",
       "<caption>A anova: 4 × 6</caption>\n",
       "<thead>\n",
       "\t<tr><th></th><th scope=col>Res.Df</th><th scope=col>RSS</th><th scope=col>Df</th><th scope=col>Sum of Sq</th><th scope=col>F</th><th scope=col>Pr(&gt;F)</th></tr>\n",
       "\t<tr><th></th><th scope=col>&lt;dbl&gt;</th><th scope=col>&lt;dbl&gt;</th><th scope=col>&lt;dbl&gt;</th><th scope=col>&lt;dbl&gt;</th><th scope=col>&lt;dbl&gt;</th><th scope=col>&lt;dbl&gt;</th></tr>\n",
       "</thead>\n",
       "<tbody>\n",
       "\t<tr><th scope=row>1</th><td>270</td><td>10495.123</td><td>NA</td><td>       NA</td><td>       NA</td><td>       NA</td></tr>\n",
       "\t<tr><th scope=row>2</th><td>267</td><td>10421.956</td><td> 3</td><td> 73.16714</td><td>0.6251494</td><td>0.5993671</td></tr>\n",
       "\t<tr><th scope=row>3</th><td>258</td><td>10139.493</td><td> 9</td><td>282.46305</td><td>0.8044668</td><td>0.6125001</td></tr>\n",
       "\t<tr><th scope=row>4</th><td>246</td><td> 9597.235</td><td>12</td><td>542.25790</td><td>1.1582801</td><td>0.3141111</td></tr>\n",
       "</tbody>\n",
       "</table>\n"
      ],
      "text/latex": [
       "A anova: 4 × 6\n",
       "\\begin{tabular}{r|llllll}\n",
       "  & Res.Df & RSS & Df & Sum of Sq & F & Pr(>F)\\\\\n",
       "  & <dbl> & <dbl> & <dbl> & <dbl> & <dbl> & <dbl>\\\\\n",
       "\\hline\n",
       "\t1 & 270 & 10495.123 & NA &        NA &        NA &        NA\\\\\n",
       "\t2 & 267 & 10421.956 &  3 &  73.16714 & 0.6251494 & 0.5993671\\\\\n",
       "\t3 & 258 & 10139.493 &  9 & 282.46305 & 0.8044668 & 0.6125001\\\\\n",
       "\t4 & 246 &  9597.235 & 12 & 542.25790 & 1.1582801 & 0.3141111\\\\\n",
       "\\end{tabular}\n"
      ],
      "text/markdown": [
       "\n",
       "A anova: 4 × 6\n",
       "\n",
       "| <!--/--> | Res.Df &lt;dbl&gt; | RSS &lt;dbl&gt; | Df &lt;dbl&gt; | Sum of Sq &lt;dbl&gt; | F &lt;dbl&gt; | Pr(&gt;F) &lt;dbl&gt; |\n",
       "|---|---|---|---|---|---|---|\n",
       "| 1 | 270 | 10495.123 | NA |        NA |        NA |        NA |\n",
       "| 2 | 267 | 10421.956 |  3 |  73.16714 | 0.6251494 | 0.5993671 |\n",
       "| 3 | 258 | 10139.493 |  9 | 282.46305 | 0.8044668 | 0.6125001 |\n",
       "| 4 | 246 |  9597.235 | 12 | 542.25790 | 1.1582801 | 0.3141111 |\n",
       "\n"
      ],
      "text/plain": [
       "  Res.Df RSS       Df Sum of Sq F         Pr(>F)   \n",
       "1 270    10495.123 NA        NA        NA        NA\n",
       "2 267    10421.956  3  73.16714 0.6251494 0.5993671\n",
       "3 258    10139.493  9 282.46305 0.8044668 0.6125001\n",
       "4 246     9597.235 12 542.25790 1.1582801 0.3141111"
      ]
     },
     "metadata": {}
    }
   ],
   "metadata": {}
  },
  {
   "cell_type": "code",
   "execution_count": 39,
   "source": [
    "anova(m1z,m3z,m3az,m3cz)"
   ],
   "outputs": [
    {
     "output_type": "display_data",
     "data": {
      "text/html": [
       "<table class=\"dataframe\">\n",
       "<caption>A anova: 4 × 6</caption>\n",
       "<thead>\n",
       "\t<tr><th></th><th scope=col>Res.Df</th><th scope=col>RSS</th><th scope=col>Df</th><th scope=col>Sum of Sq</th><th scope=col>F</th><th scope=col>Pr(&gt;F)</th></tr>\n",
       "\t<tr><th></th><th scope=col>&lt;dbl&gt;</th><th scope=col>&lt;dbl&gt;</th><th scope=col>&lt;dbl&gt;</th><th scope=col>&lt;dbl&gt;</th><th scope=col>&lt;dbl&gt;</th><th scope=col>&lt;dbl&gt;</th></tr>\n",
       "</thead>\n",
       "<tbody>\n",
       "\t<tr><th scope=row>1</th><td>270</td><td>267.7898</td><td>NA</td><td>       NA</td><td>       NA</td><td>       NA</td></tr>\n",
       "\t<tr><th scope=row>2</th><td>267</td><td>265.9229</td><td> 3</td><td> 1.866906</td><td>0.6251494</td><td>0.5993671</td></tr>\n",
       "\t<tr><th scope=row>3</th><td>258</td><td>258.7156</td><td> 9</td><td> 7.207225</td><td>0.8044668</td><td>0.6125001</td></tr>\n",
       "\t<tr><th scope=row>4</th><td>246</td><td>244.8796</td><td>12</td><td>13.836057</td><td>1.1582801</td><td>0.3141111</td></tr>\n",
       "</tbody>\n",
       "</table>\n"
      ],
      "text/latex": [
       "A anova: 4 × 6\n",
       "\\begin{tabular}{r|llllll}\n",
       "  & Res.Df & RSS & Df & Sum of Sq & F & Pr(>F)\\\\\n",
       "  & <dbl> & <dbl> & <dbl> & <dbl> & <dbl> & <dbl>\\\\\n",
       "\\hline\n",
       "\t1 & 270 & 267.7898 & NA &        NA &        NA &        NA\\\\\n",
       "\t2 & 267 & 265.9229 &  3 &  1.866906 & 0.6251494 & 0.5993671\\\\\n",
       "\t3 & 258 & 258.7156 &  9 &  7.207225 & 0.8044668 & 0.6125001\\\\\n",
       "\t4 & 246 & 244.8796 & 12 & 13.836057 & 1.1582801 & 0.3141111\\\\\n",
       "\\end{tabular}\n"
      ],
      "text/markdown": [
       "\n",
       "A anova: 4 × 6\n",
       "\n",
       "| <!--/--> | Res.Df &lt;dbl&gt; | RSS &lt;dbl&gt; | Df &lt;dbl&gt; | Sum of Sq &lt;dbl&gt; | F &lt;dbl&gt; | Pr(&gt;F) &lt;dbl&gt; |\n",
       "|---|---|---|---|---|---|---|\n",
       "| 1 | 270 | 267.7898 | NA |        NA |        NA |        NA |\n",
       "| 2 | 267 | 265.9229 |  3 |  1.866906 | 0.6251494 | 0.5993671 |\n",
       "| 3 | 258 | 258.7156 |  9 |  7.207225 | 0.8044668 | 0.6125001 |\n",
       "| 4 | 246 | 244.8796 | 12 | 13.836057 | 1.1582801 | 0.3141111 |\n",
       "\n"
      ],
      "text/plain": [
       "  Res.Df RSS      Df Sum of Sq F         Pr(>F)   \n",
       "1 270    267.7898 NA        NA        NA        NA\n",
       "2 267    265.9229  3  1.866906 0.6251494 0.5993671\n",
       "3 258    258.7156  9  7.207225 0.8044668 0.6125001\n",
       "4 246    244.8796 12 13.836057 1.1582801 0.3141111"
      ]
     },
     "metadata": {}
    }
   ],
   "metadata": {}
  },
  {
   "cell_type": "code",
   "execution_count": 40,
   "source": [
    "anova(m2,m3,m3a,m3c)"
   ],
   "outputs": [
    {
     "output_type": "display_data",
     "data": {
      "text/html": [
       "<table class=\"dataframe\">\n",
       "<caption>A anova: 4 × 6</caption>\n",
       "<thead>\n",
       "\t<tr><th></th><th scope=col>Res.Df</th><th scope=col>RSS</th><th scope=col>Df</th><th scope=col>Sum of Sq</th><th scope=col>F</th><th scope=col>Pr(&gt;F)</th></tr>\n",
       "\t<tr><th></th><th scope=col>&lt;dbl&gt;</th><th scope=col>&lt;dbl&gt;</th><th scope=col>&lt;dbl&gt;</th><th scope=col>&lt;dbl&gt;</th><th scope=col>&lt;dbl&gt;</th><th scope=col>&lt;dbl&gt;</th></tr>\n",
       "</thead>\n",
       "<tbody>\n",
       "\t<tr><th scope=row>1</th><td>271</td><td>10651.619</td><td>NA</td><td>      NA</td><td>       NA</td><td>       NA</td></tr>\n",
       "\t<tr><th scope=row>2</th><td>267</td><td>10421.956</td><td> 4</td><td>229.6625</td><td>1.4716992</td><td>0.2113398</td></tr>\n",
       "\t<tr><th scope=row>3</th><td>258</td><td>10139.493</td><td> 9</td><td>282.4631</td><td>0.8044668</td><td>0.6125001</td></tr>\n",
       "\t<tr><th scope=row>4</th><td>246</td><td> 9597.235</td><td>12</td><td>542.2579</td><td>1.1582801</td><td>0.3141111</td></tr>\n",
       "</tbody>\n",
       "</table>\n"
      ],
      "text/latex": [
       "A anova: 4 × 6\n",
       "\\begin{tabular}{r|llllll}\n",
       "  & Res.Df & RSS & Df & Sum of Sq & F & Pr(>F)\\\\\n",
       "  & <dbl> & <dbl> & <dbl> & <dbl> & <dbl> & <dbl>\\\\\n",
       "\\hline\n",
       "\t1 & 271 & 10651.619 & NA &       NA &        NA &        NA\\\\\n",
       "\t2 & 267 & 10421.956 &  4 & 229.6625 & 1.4716992 & 0.2113398\\\\\n",
       "\t3 & 258 & 10139.493 &  9 & 282.4631 & 0.8044668 & 0.6125001\\\\\n",
       "\t4 & 246 &  9597.235 & 12 & 542.2579 & 1.1582801 & 0.3141111\\\\\n",
       "\\end{tabular}\n"
      ],
      "text/markdown": [
       "\n",
       "A anova: 4 × 6\n",
       "\n",
       "| <!--/--> | Res.Df &lt;dbl&gt; | RSS &lt;dbl&gt; | Df &lt;dbl&gt; | Sum of Sq &lt;dbl&gt; | F &lt;dbl&gt; | Pr(&gt;F) &lt;dbl&gt; |\n",
       "|---|---|---|---|---|---|---|\n",
       "| 1 | 271 | 10651.619 | NA |       NA |        NA |        NA |\n",
       "| 2 | 267 | 10421.956 |  4 | 229.6625 | 1.4716992 | 0.2113398 |\n",
       "| 3 | 258 | 10139.493 |  9 | 282.4631 | 0.8044668 | 0.6125001 |\n",
       "| 4 | 246 |  9597.235 | 12 | 542.2579 | 1.1582801 | 0.3141111 |\n",
       "\n"
      ],
      "text/plain": [
       "  Res.Df RSS       Df Sum of Sq F         Pr(>F)   \n",
       "1 271    10651.619 NA       NA         NA        NA\n",
       "2 267    10421.956  4 229.6625  1.4716992 0.2113398\n",
       "3 258    10139.493  9 282.4631  0.8044668 0.6125001\n",
       "4 246     9597.235 12 542.2579  1.1582801 0.3141111"
      ]
     },
     "metadata": {}
    }
   ],
   "metadata": {}
  },
  {
   "cell_type": "code",
   "execution_count": 41,
   "source": [
    "anova(m2z,m3z,m3az,m3cz)"
   ],
   "outputs": [
    {
     "output_type": "display_data",
     "data": {
      "text/html": [
       "<table class=\"dataframe\">\n",
       "<caption>A anova: 4 × 6</caption>\n",
       "<thead>\n",
       "\t<tr><th></th><th scope=col>Res.Df</th><th scope=col>RSS</th><th scope=col>Df</th><th scope=col>Sum of Sq</th><th scope=col>F</th><th scope=col>Pr(&gt;F)</th></tr>\n",
       "\t<tr><th></th><th scope=col>&lt;dbl&gt;</th><th scope=col>&lt;dbl&gt;</th><th scope=col>&lt;dbl&gt;</th><th scope=col>&lt;dbl&gt;</th><th scope=col>&lt;dbl&gt;</th><th scope=col>&lt;dbl&gt;</th></tr>\n",
       "</thead>\n",
       "<tbody>\n",
       "\t<tr><th scope=row>1</th><td>271</td><td>271.7829</td><td>NA</td><td>       NA</td><td>       NA</td><td>       NA</td></tr>\n",
       "\t<tr><th scope=row>2</th><td>267</td><td>265.9229</td><td> 4</td><td> 5.859985</td><td>1.4716992</td><td>0.2113398</td></tr>\n",
       "\t<tr><th scope=row>3</th><td>258</td><td>258.7156</td><td> 9</td><td> 7.207225</td><td>0.8044668</td><td>0.6125001</td></tr>\n",
       "\t<tr><th scope=row>4</th><td>246</td><td>244.8796</td><td>12</td><td>13.836057</td><td>1.1582801</td><td>0.3141111</td></tr>\n",
       "</tbody>\n",
       "</table>\n"
      ],
      "text/latex": [
       "A anova: 4 × 6\n",
       "\\begin{tabular}{r|llllll}\n",
       "  & Res.Df & RSS & Df & Sum of Sq & F & Pr(>F)\\\\\n",
       "  & <dbl> & <dbl> & <dbl> & <dbl> & <dbl> & <dbl>\\\\\n",
       "\\hline\n",
       "\t1 & 271 & 271.7829 & NA &        NA &        NA &        NA\\\\\n",
       "\t2 & 267 & 265.9229 &  4 &  5.859985 & 1.4716992 & 0.2113398\\\\\n",
       "\t3 & 258 & 258.7156 &  9 &  7.207225 & 0.8044668 & 0.6125001\\\\\n",
       "\t4 & 246 & 244.8796 & 12 & 13.836057 & 1.1582801 & 0.3141111\\\\\n",
       "\\end{tabular}\n"
      ],
      "text/markdown": [
       "\n",
       "A anova: 4 × 6\n",
       "\n",
       "| <!--/--> | Res.Df &lt;dbl&gt; | RSS &lt;dbl&gt; | Df &lt;dbl&gt; | Sum of Sq &lt;dbl&gt; | F &lt;dbl&gt; | Pr(&gt;F) &lt;dbl&gt; |\n",
       "|---|---|---|---|---|---|---|\n",
       "| 1 | 271 | 271.7829 | NA |        NA |        NA |        NA |\n",
       "| 2 | 267 | 265.9229 |  4 |  5.859985 | 1.4716992 | 0.2113398 |\n",
       "| 3 | 258 | 258.7156 |  9 |  7.207225 | 0.8044668 | 0.6125001 |\n",
       "| 4 | 246 | 244.8796 | 12 | 13.836057 | 1.1582801 | 0.3141111 |\n",
       "\n"
      ],
      "text/plain": [
       "  Res.Df RSS      Df Sum of Sq F         Pr(>F)   \n",
       "1 271    271.7829 NA        NA        NA        NA\n",
       "2 267    265.9229  4  5.859985 1.4716992 0.2113398\n",
       "3 258    258.7156  9  7.207225 0.8044668 0.6125001\n",
       "4 246    244.8796 12 13.836057 1.1582801 0.3141111"
      ]
     },
     "metadata": {}
    }
   ],
   "metadata": {}
  },
  {
   "cell_type": "code",
   "execution_count": 42,
   "source": [
    "anova(m1,m1a,m3a,m3c)"
   ],
   "outputs": [
    {
     "output_type": "display_data",
     "data": {
      "text/html": [
       "<table class=\"dataframe\">\n",
       "<caption>A anova: 4 × 6</caption>\n",
       "<thead>\n",
       "\t<tr><th></th><th scope=col>Res.Df</th><th scope=col>RSS</th><th scope=col>Df</th><th scope=col>Sum of Sq</th><th scope=col>F</th><th scope=col>Pr(&gt;F)</th></tr>\n",
       "\t<tr><th></th><th scope=col>&lt;dbl&gt;</th><th scope=col>&lt;dbl&gt;</th><th scope=col>&lt;dbl&gt;</th><th scope=col>&lt;dbl&gt;</th><th scope=col>&lt;dbl&gt;</th><th scope=col>&lt;dbl&gt;</th></tr>\n",
       "</thead>\n",
       "<tbody>\n",
       "\t<tr><th scope=row>1</th><td>270</td><td>10495.123</td><td>NA</td><td>      NA</td><td>       NA</td><td>       NA</td></tr>\n",
       "\t<tr><th scope=row>2</th><td>264</td><td>10368.202</td><td> 6</td><td>126.9211</td><td>0.5422150</td><td>0.7758191</td></tr>\n",
       "\t<tr><th scope=row>3</th><td>258</td><td>10139.493</td><td> 6</td><td>228.7091</td><td>0.9770598</td><td>0.4412949</td></tr>\n",
       "\t<tr><th scope=row>4</th><td>246</td><td> 9597.235</td><td>12</td><td>542.2579</td><td>1.1582801</td><td>0.3141111</td></tr>\n",
       "</tbody>\n",
       "</table>\n"
      ],
      "text/latex": [
       "A anova: 4 × 6\n",
       "\\begin{tabular}{r|llllll}\n",
       "  & Res.Df & RSS & Df & Sum of Sq & F & Pr(>F)\\\\\n",
       "  & <dbl> & <dbl> & <dbl> & <dbl> & <dbl> & <dbl>\\\\\n",
       "\\hline\n",
       "\t1 & 270 & 10495.123 & NA &       NA &        NA &        NA\\\\\n",
       "\t2 & 264 & 10368.202 &  6 & 126.9211 & 0.5422150 & 0.7758191\\\\\n",
       "\t3 & 258 & 10139.493 &  6 & 228.7091 & 0.9770598 & 0.4412949\\\\\n",
       "\t4 & 246 &  9597.235 & 12 & 542.2579 & 1.1582801 & 0.3141111\\\\\n",
       "\\end{tabular}\n"
      ],
      "text/markdown": [
       "\n",
       "A anova: 4 × 6\n",
       "\n",
       "| <!--/--> | Res.Df &lt;dbl&gt; | RSS &lt;dbl&gt; | Df &lt;dbl&gt; | Sum of Sq &lt;dbl&gt; | F &lt;dbl&gt; | Pr(&gt;F) &lt;dbl&gt; |\n",
       "|---|---|---|---|---|---|---|\n",
       "| 1 | 270 | 10495.123 | NA |       NA |        NA |        NA |\n",
       "| 2 | 264 | 10368.202 |  6 | 126.9211 | 0.5422150 | 0.7758191 |\n",
       "| 3 | 258 | 10139.493 |  6 | 228.7091 | 0.9770598 | 0.4412949 |\n",
       "| 4 | 246 |  9597.235 | 12 | 542.2579 | 1.1582801 | 0.3141111 |\n",
       "\n"
      ],
      "text/plain": [
       "  Res.Df RSS       Df Sum of Sq F         Pr(>F)   \n",
       "1 270    10495.123 NA       NA         NA        NA\n",
       "2 264    10368.202  6 126.9211  0.5422150 0.7758191\n",
       "3 258    10139.493  6 228.7091  0.9770598 0.4412949\n",
       "4 246     9597.235 12 542.2579  1.1582801 0.3141111"
      ]
     },
     "metadata": {}
    }
   ],
   "metadata": {}
  },
  {
   "cell_type": "code",
   "execution_count": 43,
   "source": [
    "anova(m1z,m1az,m3az,m3cz)"
   ],
   "outputs": [
    {
     "output_type": "display_data",
     "data": {
      "text/html": [
       "<table class=\"dataframe\">\n",
       "<caption>A anova: 4 × 6</caption>\n",
       "<thead>\n",
       "\t<tr><th></th><th scope=col>Res.Df</th><th scope=col>RSS</th><th scope=col>Df</th><th scope=col>Sum of Sq</th><th scope=col>F</th><th scope=col>Pr(&gt;F)</th></tr>\n",
       "\t<tr><th></th><th scope=col>&lt;dbl&gt;</th><th scope=col>&lt;dbl&gt;</th><th scope=col>&lt;dbl&gt;</th><th scope=col>&lt;dbl&gt;</th><th scope=col>&lt;dbl&gt;</th><th scope=col>&lt;dbl&gt;</th></tr>\n",
       "</thead>\n",
       "<tbody>\n",
       "\t<tr><th scope=row>1</th><td>270</td><td>267.7898</td><td>NA</td><td>       NA</td><td>       NA</td><td>       NA</td></tr>\n",
       "\t<tr><th scope=row>2</th><td>264</td><td>264.5513</td><td> 6</td><td> 3.238473</td><td>0.5422150</td><td>0.7758191</td></tr>\n",
       "\t<tr><th scope=row>3</th><td>258</td><td>258.7156</td><td> 6</td><td> 5.835659</td><td>0.9770598</td><td>0.4412949</td></tr>\n",
       "\t<tr><th scope=row>4</th><td>246</td><td>244.8796</td><td>12</td><td>13.836057</td><td>1.1582801</td><td>0.3141111</td></tr>\n",
       "</tbody>\n",
       "</table>\n"
      ],
      "text/latex": [
       "A anova: 4 × 6\n",
       "\\begin{tabular}{r|llllll}\n",
       "  & Res.Df & RSS & Df & Sum of Sq & F & Pr(>F)\\\\\n",
       "  & <dbl> & <dbl> & <dbl> & <dbl> & <dbl> & <dbl>\\\\\n",
       "\\hline\n",
       "\t1 & 270 & 267.7898 & NA &        NA &        NA &        NA\\\\\n",
       "\t2 & 264 & 264.5513 &  6 &  3.238473 & 0.5422150 & 0.7758191\\\\\n",
       "\t3 & 258 & 258.7156 &  6 &  5.835659 & 0.9770598 & 0.4412949\\\\\n",
       "\t4 & 246 & 244.8796 & 12 & 13.836057 & 1.1582801 & 0.3141111\\\\\n",
       "\\end{tabular}\n"
      ],
      "text/markdown": [
       "\n",
       "A anova: 4 × 6\n",
       "\n",
       "| <!--/--> | Res.Df &lt;dbl&gt; | RSS &lt;dbl&gt; | Df &lt;dbl&gt; | Sum of Sq &lt;dbl&gt; | F &lt;dbl&gt; | Pr(&gt;F) &lt;dbl&gt; |\n",
       "|---|---|---|---|---|---|---|\n",
       "| 1 | 270 | 267.7898 | NA |        NA |        NA |        NA |\n",
       "| 2 | 264 | 264.5513 |  6 |  3.238473 | 0.5422150 | 0.7758191 |\n",
       "| 3 | 258 | 258.7156 |  6 |  5.835659 | 0.9770598 | 0.4412949 |\n",
       "| 4 | 246 | 244.8796 | 12 | 13.836057 | 1.1582801 | 0.3141111 |\n",
       "\n"
      ],
      "text/plain": [
       "  Res.Df RSS      Df Sum of Sq F         Pr(>F)   \n",
       "1 270    267.7898 NA        NA        NA        NA\n",
       "2 264    264.5513  6  3.238473 0.5422150 0.7758191\n",
       "3 258    258.7156  6  5.835659 0.9770598 0.4412949\n",
       "4 246    244.8796 12 13.836057 1.1582801 0.3141111"
      ]
     },
     "metadata": {}
    }
   ],
   "metadata": {}
  },
  {
   "cell_type": "code",
   "execution_count": 44,
   "source": [
    "anova(m2,m2a,m3a,m3c)"
   ],
   "outputs": [
    {
     "output_type": "display_data",
     "data": {
      "text/html": [
       "<table class=\"dataframe\">\n",
       "<caption>A anova: 4 × 6</caption>\n",
       "<thead>\n",
       "\t<tr><th></th><th scope=col>Res.Df</th><th scope=col>RSS</th><th scope=col>Df</th><th scope=col>Sum of Sq</th><th scope=col>F</th><th scope=col>Pr(&gt;F)</th></tr>\n",
       "\t<tr><th></th><th scope=col>&lt;dbl&gt;</th><th scope=col>&lt;dbl&gt;</th><th scope=col>&lt;dbl&gt;</th><th scope=col>&lt;dbl&gt;</th><th scope=col>&lt;dbl&gt;</th><th scope=col>&lt;dbl&gt;</th></tr>\n",
       "</thead>\n",
       "<tbody>\n",
       "\t<tr><th scope=row>1</th><td>271</td><td>10651.619</td><td>NA</td><td>      NA</td><td>      NA</td><td>       NA</td></tr>\n",
       "\t<tr><th scope=row>2</th><td>268</td><td>10534.063</td><td> 3</td><td>117.5561</td><td>1.004414</td><td>0.3914699</td></tr>\n",
       "\t<tr><th scope=row>3</th><td>258</td><td>10139.493</td><td>10</td><td>394.5695</td><td>1.011376</td><td>0.4342554</td></tr>\n",
       "\t<tr><th scope=row>4</th><td>246</td><td> 9597.235</td><td>12</td><td>542.2579</td><td>1.158280</td><td>0.3141111</td></tr>\n",
       "</tbody>\n",
       "</table>\n"
      ],
      "text/latex": [
       "A anova: 4 × 6\n",
       "\\begin{tabular}{r|llllll}\n",
       "  & Res.Df & RSS & Df & Sum of Sq & F & Pr(>F)\\\\\n",
       "  & <dbl> & <dbl> & <dbl> & <dbl> & <dbl> & <dbl>\\\\\n",
       "\\hline\n",
       "\t1 & 271 & 10651.619 & NA &       NA &       NA &        NA\\\\\n",
       "\t2 & 268 & 10534.063 &  3 & 117.5561 & 1.004414 & 0.3914699\\\\\n",
       "\t3 & 258 & 10139.493 & 10 & 394.5695 & 1.011376 & 0.4342554\\\\\n",
       "\t4 & 246 &  9597.235 & 12 & 542.2579 & 1.158280 & 0.3141111\\\\\n",
       "\\end{tabular}\n"
      ],
      "text/markdown": [
       "\n",
       "A anova: 4 × 6\n",
       "\n",
       "| <!--/--> | Res.Df &lt;dbl&gt; | RSS &lt;dbl&gt; | Df &lt;dbl&gt; | Sum of Sq &lt;dbl&gt; | F &lt;dbl&gt; | Pr(&gt;F) &lt;dbl&gt; |\n",
       "|---|---|---|---|---|---|---|\n",
       "| 1 | 271 | 10651.619 | NA |       NA |       NA |        NA |\n",
       "| 2 | 268 | 10534.063 |  3 | 117.5561 | 1.004414 | 0.3914699 |\n",
       "| 3 | 258 | 10139.493 | 10 | 394.5695 | 1.011376 | 0.4342554 |\n",
       "| 4 | 246 |  9597.235 | 12 | 542.2579 | 1.158280 | 0.3141111 |\n",
       "\n"
      ],
      "text/plain": [
       "  Res.Df RSS       Df Sum of Sq F        Pr(>F)   \n",
       "1 271    10651.619 NA       NA        NA        NA\n",
       "2 268    10534.063  3 117.5561  1.004414 0.3914699\n",
       "3 258    10139.493 10 394.5695  1.011376 0.4342554\n",
       "4 246     9597.235 12 542.2579  1.158280 0.3141111"
      ]
     },
     "metadata": {}
    }
   ],
   "metadata": {}
  },
  {
   "cell_type": "code",
   "execution_count": 45,
   "source": [
    "anova(m2z,m2az,m3az,m3cz)"
   ],
   "outputs": [
    {
     "output_type": "display_data",
     "data": {
      "text/html": [
       "<table class=\"dataframe\">\n",
       "<caption>A anova: 4 × 6</caption>\n",
       "<thead>\n",
       "\t<tr><th></th><th scope=col>Res.Df</th><th scope=col>RSS</th><th scope=col>Df</th><th scope=col>Sum of Sq</th><th scope=col>F</th><th scope=col>Pr(&gt;F)</th></tr>\n",
       "\t<tr><th></th><th scope=col>&lt;dbl&gt;</th><th scope=col>&lt;dbl&gt;</th><th scope=col>&lt;dbl&gt;</th><th scope=col>&lt;dbl&gt;</th><th scope=col>&lt;dbl&gt;</th><th scope=col>&lt;dbl&gt;</th></tr>\n",
       "</thead>\n",
       "<tbody>\n",
       "\t<tr><th scope=row>1</th><td>271</td><td>271.7829</td><td>NA</td><td>       NA</td><td>      NA</td><td>       NA</td></tr>\n",
       "\t<tr><th scope=row>2</th><td>268</td><td>268.7833</td><td> 3</td><td> 2.999518</td><td>1.004414</td><td>0.3914699</td></tr>\n",
       "\t<tr><th scope=row>3</th><td>258</td><td>258.7156</td><td>10</td><td>10.067693</td><td>1.011376</td><td>0.4342554</td></tr>\n",
       "\t<tr><th scope=row>4</th><td>246</td><td>244.8796</td><td>12</td><td>13.836057</td><td>1.158280</td><td>0.3141111</td></tr>\n",
       "</tbody>\n",
       "</table>\n"
      ],
      "text/latex": [
       "A anova: 4 × 6\n",
       "\\begin{tabular}{r|llllll}\n",
       "  & Res.Df & RSS & Df & Sum of Sq & F & Pr(>F)\\\\\n",
       "  & <dbl> & <dbl> & <dbl> & <dbl> & <dbl> & <dbl>\\\\\n",
       "\\hline\n",
       "\t1 & 271 & 271.7829 & NA &        NA &       NA &        NA\\\\\n",
       "\t2 & 268 & 268.7833 &  3 &  2.999518 & 1.004414 & 0.3914699\\\\\n",
       "\t3 & 258 & 258.7156 & 10 & 10.067693 & 1.011376 & 0.4342554\\\\\n",
       "\t4 & 246 & 244.8796 & 12 & 13.836057 & 1.158280 & 0.3141111\\\\\n",
       "\\end{tabular}\n"
      ],
      "text/markdown": [
       "\n",
       "A anova: 4 × 6\n",
       "\n",
       "| <!--/--> | Res.Df &lt;dbl&gt; | RSS &lt;dbl&gt; | Df &lt;dbl&gt; | Sum of Sq &lt;dbl&gt; | F &lt;dbl&gt; | Pr(&gt;F) &lt;dbl&gt; |\n",
       "|---|---|---|---|---|---|---|\n",
       "| 1 | 271 | 271.7829 | NA |        NA |       NA |        NA |\n",
       "| 2 | 268 | 268.7833 |  3 |  2.999518 | 1.004414 | 0.3914699 |\n",
       "| 3 | 258 | 258.7156 | 10 | 10.067693 | 1.011376 | 0.4342554 |\n",
       "| 4 | 246 | 244.8796 | 12 | 13.836057 | 1.158280 | 0.3141111 |\n",
       "\n"
      ],
      "text/plain": [
       "  Res.Df RSS      Df Sum of Sq F        Pr(>F)   \n",
       "1 271    271.7829 NA        NA       NA        NA\n",
       "2 268    268.7833  3  2.999518 1.004414 0.3914699\n",
       "3 258    258.7156 10 10.067693 1.011376 0.4342554\n",
       "4 246    244.8796 12 13.836057 1.158280 0.3141111"
      ]
     },
     "metadata": {}
    }
   ],
   "metadata": {}
  },
  {
   "cell_type": "code",
   "execution_count": 46,
   "source": [
    "anova(m3,m3b,m3c)"
   ],
   "outputs": [
    {
     "output_type": "display_data",
     "data": {
      "text/html": [
       "<table class=\"dataframe\">\n",
       "<caption>A anova: 3 × 6</caption>\n",
       "<thead>\n",
       "\t<tr><th></th><th scope=col>Res.Df</th><th scope=col>RSS</th><th scope=col>Df</th><th scope=col>Sum of Sq</th><th scope=col>F</th><th scope=col>Pr(&gt;F)</th></tr>\n",
       "\t<tr><th></th><th scope=col>&lt;dbl&gt;</th><th scope=col>&lt;dbl&gt;</th><th scope=col>&lt;dbl&gt;</th><th scope=col>&lt;dbl&gt;</th><th scope=col>&lt;dbl&gt;</th><th scope=col>&lt;dbl&gt;</th></tr>\n",
       "</thead>\n",
       "<tbody>\n",
       "\t<tr><th scope=row>1</th><td>267</td><td>10421.956</td><td>NA</td><td>      NA</td><td>       NA</td><td>       NA</td></tr>\n",
       "\t<tr><th scope=row>2</th><td>255</td><td> 9846.377</td><td>12</td><td>575.5792</td><td>1.2294554</td><td>0.2630852</td></tr>\n",
       "\t<tr><th scope=row>3</th><td>246</td><td> 9597.235</td><td> 9</td><td>249.1418</td><td>0.7095664</td><td>0.6999500</td></tr>\n",
       "</tbody>\n",
       "</table>\n"
      ],
      "text/latex": [
       "A anova: 3 × 6\n",
       "\\begin{tabular}{r|llllll}\n",
       "  & Res.Df & RSS & Df & Sum of Sq & F & Pr(>F)\\\\\n",
       "  & <dbl> & <dbl> & <dbl> & <dbl> & <dbl> & <dbl>\\\\\n",
       "\\hline\n",
       "\t1 & 267 & 10421.956 & NA &       NA &        NA &        NA\\\\\n",
       "\t2 & 255 &  9846.377 & 12 & 575.5792 & 1.2294554 & 0.2630852\\\\\n",
       "\t3 & 246 &  9597.235 &  9 & 249.1418 & 0.7095664 & 0.6999500\\\\\n",
       "\\end{tabular}\n"
      ],
      "text/markdown": [
       "\n",
       "A anova: 3 × 6\n",
       "\n",
       "| <!--/--> | Res.Df &lt;dbl&gt; | RSS &lt;dbl&gt; | Df &lt;dbl&gt; | Sum of Sq &lt;dbl&gt; | F &lt;dbl&gt; | Pr(&gt;F) &lt;dbl&gt; |\n",
       "|---|---|---|---|---|---|---|\n",
       "| 1 | 267 | 10421.956 | NA |       NA |        NA |        NA |\n",
       "| 2 | 255 |  9846.377 | 12 | 575.5792 | 1.2294554 | 0.2630852 |\n",
       "| 3 | 246 |  9597.235 |  9 | 249.1418 | 0.7095664 | 0.6999500 |\n",
       "\n"
      ],
      "text/plain": [
       "  Res.Df RSS       Df Sum of Sq F         Pr(>F)   \n",
       "1 267    10421.956 NA       NA         NA        NA\n",
       "2 255     9846.377 12 575.5792  1.2294554 0.2630852\n",
       "3 246     9597.235  9 249.1418  0.7095664 0.6999500"
      ]
     },
     "metadata": {}
    }
   ],
   "metadata": {}
  },
  {
   "cell_type": "code",
   "execution_count": 47,
   "source": [
    "aic_results <- AIC(m1,m1a,m2,m2a,m3,m3a,m3b,m3c)\n",
    "aic_results"
   ],
   "outputs": [
    {
     "output_type": "display_data",
     "data": {
      "text/html": [
       "<table class=\"dataframe\">\n",
       "<caption>A data.frame: 8 × 2</caption>\n",
       "<thead>\n",
       "\t<tr><th></th><th scope=col>df</th><th scope=col>AIC</th></tr>\n",
       "\t<tr><th></th><th scope=col>&lt;dbl&gt;</th><th scope=col>&lt;dbl&gt;</th></tr>\n",
       "</thead>\n",
       "<tbody>\n",
       "\t<tr><th scope=row>m1</th><td> 6</td><td>1793.937</td></tr>\n",
       "\t<tr><th scope=row>m1a</th><td>12</td><td>1802.591</td></tr>\n",
       "\t<tr><th scope=row>m2</th><td> 5</td><td>1796.008</td></tr>\n",
       "\t<tr><th scope=row>m2a</th><td> 8</td><td>1798.956</td></tr>\n",
       "\t<tr><th scope=row>m3</th><td> 9</td><td>1798.013</td></tr>\n",
       "\t<tr><th scope=row>m3a</th><td>18</td><td>1808.457</td></tr>\n",
       "\t<tr><th scope=row>m3b</th><td>21</td><td>1806.390</td></tr>\n",
       "\t<tr><th scope=row>m3c</th><td>30</td><td>1817.342</td></tr>\n",
       "</tbody>\n",
       "</table>\n"
      ],
      "text/latex": [
       "A data.frame: 8 × 2\n",
       "\\begin{tabular}{r|ll}\n",
       "  & df & AIC\\\\\n",
       "  & <dbl> & <dbl>\\\\\n",
       "\\hline\n",
       "\tm1 &  6 & 1793.937\\\\\n",
       "\tm1a & 12 & 1802.591\\\\\n",
       "\tm2 &  5 & 1796.008\\\\\n",
       "\tm2a &  8 & 1798.956\\\\\n",
       "\tm3 &  9 & 1798.013\\\\\n",
       "\tm3a & 18 & 1808.457\\\\\n",
       "\tm3b & 21 & 1806.390\\\\\n",
       "\tm3c & 30 & 1817.342\\\\\n",
       "\\end{tabular}\n"
      ],
      "text/markdown": [
       "\n",
       "A data.frame: 8 × 2\n",
       "\n",
       "| <!--/--> | df &lt;dbl&gt; | AIC &lt;dbl&gt; |\n",
       "|---|---|---|\n",
       "| m1 |  6 | 1793.937 |\n",
       "| m1a | 12 | 1802.591 |\n",
       "| m2 |  5 | 1796.008 |\n",
       "| m2a |  8 | 1798.956 |\n",
       "| m3 |  9 | 1798.013 |\n",
       "| m3a | 18 | 1808.457 |\n",
       "| m3b | 21 | 1806.390 |\n",
       "| m3c | 30 | 1817.342 |\n",
       "\n"
      ],
      "text/plain": [
       "    df AIC     \n",
       "m1   6 1793.937\n",
       "m1a 12 1802.591\n",
       "m2   5 1796.008\n",
       "m2a  8 1798.956\n",
       "m3   9 1798.013\n",
       "m3a 18 1808.457\n",
       "m3b 21 1806.390\n",
       "m3c 30 1817.342"
      ]
     },
     "metadata": {}
    }
   ],
   "metadata": {}
  },
  {
   "cell_type": "code",
   "execution_count": 48,
   "source": [
    "aic_results <- AIC(m1z,m1az,m2z,m2az,m3z,m3az,m3bz,m3cz)\n",
    "aic_results"
   ],
   "outputs": [
    {
     "output_type": "display_data",
     "data": {
      "text/html": [
       "<table class=\"dataframe\">\n",
       "<caption>A data.frame: 8 × 2</caption>\n",
       "<thead>\n",
       "\t<tr><th></th><th scope=col>df</th><th scope=col>AIC</th></tr>\n",
       "\t<tr><th></th><th scope=col>&lt;dbl&gt;</th><th scope=col>&lt;dbl&gt;</th></tr>\n",
       "</thead>\n",
       "<tbody>\n",
       "\t<tr><th scope=row>m1z</th><td> 6</td><td>785.1098</td></tr>\n",
       "\t<tr><th scope=row>m1az</th><td>12</td><td>793.7638</td></tr>\n",
       "\t<tr><th scope=row>m2z</th><td> 5</td><td>787.1801</td></tr>\n",
       "\t<tr><th scope=row>m2az</th><td> 8</td><td>790.1282</td></tr>\n",
       "\t<tr><th scope=row>m3z</th><td> 9</td><td>789.1859</td></tr>\n",
       "\t<tr><th scope=row>m3az</th><td>18</td><td>799.6298</td></tr>\n",
       "\t<tr><th scope=row>m3bz</th><td>21</td><td>797.5628</td></tr>\n",
       "\t<tr><th scope=row>m3cz</th><td>30</td><td>808.5150</td></tr>\n",
       "</tbody>\n",
       "</table>\n"
      ],
      "text/latex": [
       "A data.frame: 8 × 2\n",
       "\\begin{tabular}{r|ll}\n",
       "  & df & AIC\\\\\n",
       "  & <dbl> & <dbl>\\\\\n",
       "\\hline\n",
       "\tm1z &  6 & 785.1098\\\\\n",
       "\tm1az & 12 & 793.7638\\\\\n",
       "\tm2z &  5 & 787.1801\\\\\n",
       "\tm2az &  8 & 790.1282\\\\\n",
       "\tm3z &  9 & 789.1859\\\\\n",
       "\tm3az & 18 & 799.6298\\\\\n",
       "\tm3bz & 21 & 797.5628\\\\\n",
       "\tm3cz & 30 & 808.5150\\\\\n",
       "\\end{tabular}\n"
      ],
      "text/markdown": [
       "\n",
       "A data.frame: 8 × 2\n",
       "\n",
       "| <!--/--> | df &lt;dbl&gt; | AIC &lt;dbl&gt; |\n",
       "|---|---|---|\n",
       "| m1z |  6 | 785.1098 |\n",
       "| m1az | 12 | 793.7638 |\n",
       "| m2z |  5 | 787.1801 |\n",
       "| m2az |  8 | 790.1282 |\n",
       "| m3z |  9 | 789.1859 |\n",
       "| m3az | 18 | 799.6298 |\n",
       "| m3bz | 21 | 797.5628 |\n",
       "| m3cz | 30 | 808.5150 |\n",
       "\n"
      ],
      "text/plain": [
       "     df AIC     \n",
       "m1z   6 785.1098\n",
       "m1az 12 793.7638\n",
       "m2z   5 787.1801\n",
       "m2az  8 790.1282\n",
       "m3z   9 789.1859\n",
       "m3az 18 799.6298\n",
       "m3bz 21 797.5628\n",
       "m3cz 30 808.5150"
      ]
     },
     "metadata": {}
    }
   ],
   "metadata": {}
  }
 ],
 "metadata": {
  "interpreter": {
   "hash": "fd4f9b4a611f13030669d34296d320a89181368ed7f3667f4142a08b4c2c4fbe"
  },
  "kernelspec": {
   "name": "python3124jvsc74a57bd04a074528bc854e8a1fdc819f4bc249979b3b196bce4de5afb134a947ed71fa2f",
   "display_name": "R",
   "language": "R"
  },
  "language_info": {
   "name": "R",
   "codemirror_mode": "r",
   "pygments_lexer": "r",
   "mimetype": "text/x-r-source",
   "file_extension": ".r",
   "version": "4.3.3"
  }
 },
 "nbformat": 4,
 "nbformat_minor": 4
}
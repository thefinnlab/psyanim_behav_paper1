{
 "cells": [
  {
   "cell_type": "code",
   "execution_count": 1,
   "source": [
    "import pandas as pd\n",
    "import seaborn as sns\n",
    "import matplotlib.pyplot as plt"
   ],
   "outputs": [],
   "metadata": {}
  },
  {
   "cell_type": "code",
   "execution_count": 2,
   "source": [
    "root_folder = '../../data/text_responses/'"
   ],
   "outputs": [],
   "metadata": {}
  },
  {
   "cell_type": "code",
   "execution_count": 3,
   "source": [
    "df = pd.read_csv(f'{root_folder}/playfight/without_cover_story/data_all_subs_forQC_anonymised.csv',index_col=[0])\n",
    "df.head()"
   ],
   "outputs": [
    {
     "output_type": "execute_result",
     "data": {
      "text/html": [
       "<div>\n",
       "<style scoped>\n",
       "    .dataframe tbody tr th:only-of-type {\n",
       "        vertical-align: middle;\n",
       "    }\n",
       "\n",
       "    .dataframe tbody tr th {\n",
       "        vertical-align: top;\n",
       "    }\n",
       "\n",
       "    .dataframe thead th {\n",
       "        text-align: right;\n",
       "    }\n",
       "</style>\n",
       "<table border=\"1\" class=\"dataframe\">\n",
       "  <thead>\n",
       "    <tr style=\"text-align: right;\">\n",
       "      <th></th>\n",
       "      <th>index</th>\n",
       "      <th>sub_ind</th>\n",
       "      <th>PID</th>\n",
       "      <th>month</th>\n",
       "      <th>date</th>\n",
       "      <th>stimset_rows</th>\n",
       "      <th>total_trials</th>\n",
       "      <th>nplanned_trialIDs</th>\n",
       "      <th>npresented_trialIDs</th>\n",
       "      <th>planned_trialIDs_all</th>\n",
       "      <th>presented_trialIDs_all</th>\n",
       "      <th>chargeSpeed</th>\n",
       "      <th>stim_dur</th>\n",
       "      <th>chargeSpeed_sorted</th>\n",
       "      <th>agent1_color</th>\n",
       "      <th>responses</th>\n",
       "      <th>agents_type</th>\n",
       "      <th>strategy</th>\n",
       "      <th>feedback</th>\n",
       "    </tr>\n",
       "  </thead>\n",
       "  <tbody>\n",
       "    <tr>\n",
       "      <th>0</th>\n",
       "      <td>0</td>\n",
       "      <td>28000</td>\n",
       "      <td>5c61ab19776b38000156cc95</td>\n",
       "      <td>7</td>\n",
       "      <td>23</td>\n",
       "      <td>26</td>\n",
       "      <td>48</td>\n",
       "      <td>7</td>\n",
       "      <td>7</td>\n",
       "      <td>['29e7c94f-a6bf-4f1d-8ea1-46efbdb6a836', '88ff...</td>\n",
       "      <td>['8bee64f6-a3cb-48f4-be48-142b9065f5d7', '29e7...</td>\n",
       "      <td>[6.5, 1.5, 7.75, 4.0, 9.0, 5.25, 2.75]</td>\n",
       "      <td>[8025, 8234, 8015, 8173, 7657, 8076, 8116]</td>\n",
       "      <td>[1.5, 2.75, 4.0, 5.25, 6.5, 7.75, 9.0]</td>\n",
       "      <td>['black', 'black', 'grey', 'black', 'grey', 'b...</td>\n",
       "      <td>['collided and then moved apart', 'collided an...</td>\n",
       "      <td>children</td>\n",
       "      <td>I tried to view the whole screen do I didn't m...</td>\n",
       "      <td>This was interesting, thank you.</td>\n",
       "    </tr>\n",
       "    <tr>\n",
       "      <th>1</th>\n",
       "      <td>1</td>\n",
       "      <td>28001</td>\n",
       "      <td>65d3bc83f2bc39eb45280518</td>\n",
       "      <td>7</td>\n",
       "      <td>23</td>\n",
       "      <td>25</td>\n",
       "      <td>48</td>\n",
       "      <td>7</td>\n",
       "      <td>7</td>\n",
       "      <td>['e838dadb-c02f-4273-ae93-210720dcd06c', '42a6...</td>\n",
       "      <td>['44ab78ba-bb99-4b6d-a69b-ede18f9116ec', 'e838...</td>\n",
       "      <td>[7.75, 1.5, 9.0, 5.25, 4.0, 2.75, 6.5]</td>\n",
       "      <td>[7882, 8130, 8035, 8046, 8047, 8075, 7976]</td>\n",
       "      <td>[1.5, 2.75, 4.0, 5.25, 6.5, 7.75, 9.0]</td>\n",
       "      <td>['black', 'grey', 'black', 'grey', 'black', 'b...</td>\n",
       "      <td>['The dots mostly meaninglessly wandered away ...</td>\n",
       "      <td>adults</td>\n",
       "      <td>Creative thinking I guess</td>\n",
       "      <td>None</td>\n",
       "    </tr>\n",
       "    <tr>\n",
       "      <th>2</th>\n",
       "      <td>2</td>\n",
       "      <td>28002</td>\n",
       "      <td>66606754fdd32139664147b3</td>\n",
       "      <td>7</td>\n",
       "      <td>23</td>\n",
       "      <td>28</td>\n",
       "      <td>48</td>\n",
       "      <td>7</td>\n",
       "      <td>7</td>\n",
       "      <td>['b3a507ff-2289-4ad3-8922-1a3d0532e154', '94ea...</td>\n",
       "      <td>['93e661c0-3f68-4205-9141-04164911b7e4', '9301...</td>\n",
       "      <td>[6.5, 9.0, 2.75, 1.5, 4.0, 7.75, 5.25]</td>\n",
       "      <td>[8392, 8346, 8320, 8325, 8315, 8156, 8355]</td>\n",
       "      <td>[1.5, 2.75, 4.0, 5.25, 6.5, 7.75, 9.0]</td>\n",
       "      <td>['grey', 'black', 'grey', 'grey', 'black', 'gr...</td>\n",
       "      <td>['they hit each other twice', 'hit twice and s...</td>\n",
       "      <td>children</td>\n",
       "      <td>no just watched</td>\n",
       "      <td>the text on the screen is very big</td>\n",
       "    </tr>\n",
       "    <tr>\n",
       "      <th>3</th>\n",
       "      <td>3</td>\n",
       "      <td>28003</td>\n",
       "      <td>5e04f438afb8b0f5afa75f08</td>\n",
       "      <td>7</td>\n",
       "      <td>23</td>\n",
       "      <td>29</td>\n",
       "      <td>48</td>\n",
       "      <td>7</td>\n",
       "      <td>7</td>\n",
       "      <td>['1b1159fc-de2b-4ae5-a736-d98d8524a366', 'cc65...</td>\n",
       "      <td>['0890b767-b394-4f89-aea1-c60cab7014af', '1be4...</td>\n",
       "      <td>[4.0, 9.0, 6.5, 5.25, 7.75, 2.75, 1.5]</td>\n",
       "      <td>[8082, 8160, 8061, 8018, 8071, 8097, 8085]</td>\n",
       "      <td>[1.5, 2.75, 4.0, 5.25, 6.5, 7.75, 9.0]</td>\n",
       "      <td>['grey', 'grey', 'black', 'grey', 'black', 'bl...</td>\n",
       "      <td>['the dots bumped into each other twice', 'the...</td>\n",
       "      <td>animals</td>\n",
       "      <td>None, I simply paid attention to the movement ...</td>\n",
       "      <td>None</td>\n",
       "    </tr>\n",
       "    <tr>\n",
       "      <th>4</th>\n",
       "      <td>4</td>\n",
       "      <td>28004</td>\n",
       "      <td>6659f7178ffcf5f7bbd42ce0</td>\n",
       "      <td>7</td>\n",
       "      <td>23</td>\n",
       "      <td>32</td>\n",
       "      <td>48</td>\n",
       "      <td>7</td>\n",
       "      <td>7</td>\n",
       "      <td>['1f6c6525-a740-48c2-8dfc-9c4fb520c630', '46c1...</td>\n",
       "      <td>['1f7aa6f4-6516-4b90-8eeb-142b1437644b', '3c21...</td>\n",
       "      <td>[4.0, 6.5, 9.0, 7.75, 1.5, 2.75, 5.25]</td>\n",
       "      <td>[8096, 8134, 8093, 7376, 8069, 8079, 8060]</td>\n",
       "      <td>[1.5, 2.75, 4.0, 5.25, 6.5, 7.75, 9.0]</td>\n",
       "      <td>['black', 'grey', 'grey', 'black', 'black', 'g...</td>\n",
       "      <td>['they swirled around and bumped into each oth...</td>\n",
       "      <td>animals</td>\n",
       "      <td>no</td>\n",
       "      <td>no</td>\n",
       "    </tr>\n",
       "  </tbody>\n",
       "</table>\n",
       "</div>"
      ],
      "text/plain": [
       "   index  sub_ind                       PID  month  date  stimset_rows  \\\n",
       "0      0    28000  5c61ab19776b38000156cc95      7    23            26   \n",
       "1      1    28001  65d3bc83f2bc39eb45280518      7    23            25   \n",
       "2      2    28002  66606754fdd32139664147b3      7    23            28   \n",
       "3      3    28003  5e04f438afb8b0f5afa75f08      7    23            29   \n",
       "4      4    28004  6659f7178ffcf5f7bbd42ce0      7    23            32   \n",
       "\n",
       "   total_trials  nplanned_trialIDs  npresented_trialIDs  \\\n",
       "0            48                  7                    7   \n",
       "1            48                  7                    7   \n",
       "2            48                  7                    7   \n",
       "3            48                  7                    7   \n",
       "4            48                  7                    7   \n",
       "\n",
       "                                planned_trialIDs_all  \\\n",
       "0  ['29e7c94f-a6bf-4f1d-8ea1-46efbdb6a836', '88ff...   \n",
       "1  ['e838dadb-c02f-4273-ae93-210720dcd06c', '42a6...   \n",
       "2  ['b3a507ff-2289-4ad3-8922-1a3d0532e154', '94ea...   \n",
       "3  ['1b1159fc-de2b-4ae5-a736-d98d8524a366', 'cc65...   \n",
       "4  ['1f6c6525-a740-48c2-8dfc-9c4fb520c630', '46c1...   \n",
       "\n",
       "                              presented_trialIDs_all  \\\n",
       "0  ['8bee64f6-a3cb-48f4-be48-142b9065f5d7', '29e7...   \n",
       "1  ['44ab78ba-bb99-4b6d-a69b-ede18f9116ec', 'e838...   \n",
       "2  ['93e661c0-3f68-4205-9141-04164911b7e4', '9301...   \n",
       "3  ['0890b767-b394-4f89-aea1-c60cab7014af', '1be4...   \n",
       "4  ['1f7aa6f4-6516-4b90-8eeb-142b1437644b', '3c21...   \n",
       "\n",
       "                              chargeSpeed  \\\n",
       "0  [6.5, 1.5, 7.75, 4.0, 9.0, 5.25, 2.75]   \n",
       "1  [7.75, 1.5, 9.0, 5.25, 4.0, 2.75, 6.5]   \n",
       "2  [6.5, 9.0, 2.75, 1.5, 4.0, 7.75, 5.25]   \n",
       "3  [4.0, 9.0, 6.5, 5.25, 7.75, 2.75, 1.5]   \n",
       "4  [4.0, 6.5, 9.0, 7.75, 1.5, 2.75, 5.25]   \n",
       "\n",
       "                                     stim_dur  \\\n",
       "0  [8025, 8234, 8015, 8173, 7657, 8076, 8116]   \n",
       "1  [7882, 8130, 8035, 8046, 8047, 8075, 7976]   \n",
       "2  [8392, 8346, 8320, 8325, 8315, 8156, 8355]   \n",
       "3  [8082, 8160, 8061, 8018, 8071, 8097, 8085]   \n",
       "4  [8096, 8134, 8093, 7376, 8069, 8079, 8060]   \n",
       "\n",
       "                       chargeSpeed_sorted  \\\n",
       "0  [1.5, 2.75, 4.0, 5.25, 6.5, 7.75, 9.0]   \n",
       "1  [1.5, 2.75, 4.0, 5.25, 6.5, 7.75, 9.0]   \n",
       "2  [1.5, 2.75, 4.0, 5.25, 6.5, 7.75, 9.0]   \n",
       "3  [1.5, 2.75, 4.0, 5.25, 6.5, 7.75, 9.0]   \n",
       "4  [1.5, 2.75, 4.0, 5.25, 6.5, 7.75, 9.0]   \n",
       "\n",
       "                                        agent1_color  \\\n",
       "0  ['black', 'black', 'grey', 'black', 'grey', 'b...   \n",
       "1  ['black', 'grey', 'black', 'grey', 'black', 'b...   \n",
       "2  ['grey', 'black', 'grey', 'grey', 'black', 'gr...   \n",
       "3  ['grey', 'grey', 'black', 'grey', 'black', 'bl...   \n",
       "4  ['black', 'grey', 'grey', 'black', 'black', 'g...   \n",
       "\n",
       "                                           responses agents_type  \\\n",
       "0  ['collided and then moved apart', 'collided an...    children   \n",
       "1  ['The dots mostly meaninglessly wandered away ...      adults   \n",
       "2  ['they hit each other twice', 'hit twice and s...    children   \n",
       "3  ['the dots bumped into each other twice', 'the...     animals   \n",
       "4  ['they swirled around and bumped into each oth...     animals   \n",
       "\n",
       "                                            strategy  \\\n",
       "0  I tried to view the whole screen do I didn't m...   \n",
       "1                          Creative thinking I guess   \n",
       "2                                    no just watched   \n",
       "3  None, I simply paid attention to the movement ...   \n",
       "4                                                 no   \n",
       "\n",
       "                             feedback  \n",
       "0    This was interesting, thank you.  \n",
       "1                                None  \n",
       "2  the text on the screen is very big  \n",
       "3                                None  \n",
       "4                                  no  "
      ]
     },
     "metadata": {},
     "execution_count": 3
    }
   ],
   "metadata": {}
  },
  {
   "cell_type": "code",
   "execution_count": 4,
   "source": [
    "df.shape"
   ],
   "outputs": [
    {
     "output_type": "execute_result",
     "data": {
      "text/plain": [
       "(103, 19)"
      ]
     },
     "metadata": {},
     "execution_count": 4
    }
   ],
   "metadata": {}
  },
  {
   "cell_type": "code",
   "execution_count": 5,
   "source": [
    "df.groupby(['agents_type']).count().iloc[:,0]"
   ],
   "outputs": [
    {
     "output_type": "execute_result",
     "data": {
      "text/plain": [
       "agents_type\n",
       "                                               3\n",
       "adults                                         4\n",
       "animals                                       34\n",
       "balls                                          8\n",
       "children                                       9\n",
       "insects                                        2\n",
       "magnets                                       40\n",
       "something else (describe on the next page)     3\n",
       "Name: index, dtype: int64"
      ]
     },
     "metadata": {},
     "execution_count": 5
    }
   ],
   "metadata": {}
  },
  {
   "cell_type": "code",
   "execution_count": 6,
   "source": [
    "df.loc[df['agents_type']== 'something else (describe on the next page)',['sub_ind','strategy','feedback']].values"
   ],
   "outputs": [
    {
     "output_type": "execute_result",
     "data": {
      "text/plain": [
       "array([[28035, 'no I just watched their movements ', 'no'],\n",
       "       [28041, 'I thought of parallels within aspects of life', 'None'],\n",
       "       [28071,\n",
       "        'I saw a relationship between two people. I measured the strength and the speed movement.',\n",
       "        'No.']], dtype=object)"
      ]
     },
     "metadata": {},
     "execution_count": 6
    }
   ],
   "metadata": {}
  },
  {
   "cell_type": "code",
   "execution_count": 7,
   "source": [
    "df.loc[df['sub_ind']== 28071,['sub_ind','agents_type','strategy']]"
   ],
   "outputs": [
    {
     "output_type": "execute_result",
     "data": {
      "text/html": [
       "<div>\n",
       "<style scoped>\n",
       "    .dataframe tbody tr th:only-of-type {\n",
       "        vertical-align: middle;\n",
       "    }\n",
       "\n",
       "    .dataframe tbody tr th {\n",
       "        vertical-align: top;\n",
       "    }\n",
       "\n",
       "    .dataframe thead th {\n",
       "        text-align: right;\n",
       "    }\n",
       "</style>\n",
       "<table border=\"1\" class=\"dataframe\">\n",
       "  <thead>\n",
       "    <tr style=\"text-align: right;\">\n",
       "      <th></th>\n",
       "      <th>sub_ind</th>\n",
       "      <th>agents_type</th>\n",
       "      <th>strategy</th>\n",
       "    </tr>\n",
       "  </thead>\n",
       "  <tbody>\n",
       "    <tr>\n",
       "      <th>71</th>\n",
       "      <td>28071</td>\n",
       "      <td>something else (describe on the next page)</td>\n",
       "      <td>I saw a relationship between two people. I mea...</td>\n",
       "    </tr>\n",
       "  </tbody>\n",
       "</table>\n",
       "</div>"
      ],
      "text/plain": [
       "    sub_ind                                 agents_type  \\\n",
       "71    28071  something else (describe on the next page)   \n",
       "\n",
       "                                             strategy  \n",
       "71  I saw a relationship between two people. I mea...  "
      ]
     },
     "metadata": {},
     "execution_count": 7
    }
   ],
   "metadata": {}
  },
  {
   "cell_type": "code",
   "execution_count": 8,
   "source": [
    "df.loc[df['sub_ind']== 28071,'agents_type'] = 'adults'"
   ],
   "outputs": [],
   "metadata": {}
  },
  {
   "cell_type": "code",
   "execution_count": 9,
   "source": [
    "df.loc[df['agents_type']== 'something else (describe on the next page)',['sub_ind','strategy','feedback']].values"
   ],
   "outputs": [
    {
     "output_type": "execute_result",
     "data": {
      "text/plain": [
       "array([[28035, 'no I just watched their movements ', 'no'],\n",
       "       [28041, 'I thought of parallels within aspects of life', 'None']],\n",
       "      dtype=object)"
      ]
     },
     "metadata": {},
     "execution_count": 9
    }
   ],
   "metadata": {}
  },
  {
   "cell_type": "markdown",
   "source": [
    "- since there is no description of something else in these 2 cases, going to drop these rows"
   ],
   "metadata": {}
  },
  {
   "cell_type": "code",
   "execution_count": 10,
   "source": [
    "df.loc[df['agents_type']== 'something else (describe on the next page)',['strategy','feedback']].shape"
   ],
   "outputs": [
    {
     "output_type": "execute_result",
     "data": {
      "text/plain": [
       "(2, 2)"
      ]
     },
     "metadata": {},
     "execution_count": 10
    }
   ],
   "metadata": {}
  },
  {
   "cell_type": "code",
   "execution_count": 11,
   "source": [
    "df = df[df['agents_type'] != 'something else (describe on the next page)']\n",
    "df.shape"
   ],
   "outputs": [
    {
     "output_type": "execute_result",
     "data": {
      "text/plain": [
       "(101, 19)"
      ]
     },
     "metadata": {},
     "execution_count": 11
    }
   ],
   "metadata": {}
  },
  {
   "cell_type": "code",
   "execution_count": 12,
   "source": [
    "df = df[df['agents_type'] != ' ']\n",
    "df.shape"
   ],
   "outputs": [
    {
     "output_type": "execute_result",
     "data": {
      "text/plain": [
       "(98, 19)"
      ]
     },
     "metadata": {},
     "execution_count": 12
    }
   ],
   "metadata": {}
  },
  {
   "cell_type": "code",
   "execution_count": 13,
   "source": [
    "df_count = df.groupby(['agents_type']).count().iloc[:,0].reset_index()\n",
    "if 'index' in df_count.columns:\n",
    "    df_count.rename(columns = {'index':'count'},inplace=True)\n",
    "\n",
    "df_count.sort_values(by=['count'],inplace=True,ascending=False)\n",
    "df_count['count_pc'] = 100*df_count['count']/df_count['count'].sum()"
   ],
   "outputs": [],
   "metadata": {}
  },
  {
   "cell_type": "code",
   "execution_count": 14,
   "source": [
    "results_loc = '../../results/text_analysis/pf/no_cover_story'"
   ],
   "outputs": [],
   "metadata": {}
  },
  {
   "cell_type": "code",
   "execution_count": 15,
   "source": [
    "s=14 # CHANGE FONTSIZE HERE\n",
    "plt.rc('font', size=s) #controls default text size\n",
    "plt.rc('axes', titlesize=s) #fontsize of the title\n",
    "plt.rc('axes', labelsize=s) #fontsize of the x and y labels\n",
    "plt.rc('xtick', labelsize=s) #fontsize of the x tick labels\n",
    "plt.rc('ytick', labelsize=s) #fontsize of the y tick labels\n",
    "plt.rc('legend', fontsize=s) #fontsize of the legend"
   ],
   "outputs": [],
   "metadata": {}
  },
  {
   "cell_type": "code",
   "execution_count": 16,
   "source": [
    "plt.figure(figsize=(7,3))\n",
    "sns.barplot(data=df_count,x='agents_type',y='count_pc',color = 'grey')\n",
    "plt.ylabel('% subs')\n",
    "plt.xlabel('')\n",
    "plt.savefig(f'{results_loc}/agents_type_bar.png')"
   ],
   "outputs": [
    {
     "output_type": "display_data",
     "data": {
      "image/png": "[encoded data removed]",
      "text/plain": [
       "<Figure size 504x216 with 1 Axes>"
      ]
     },
     "metadata": {
      "needs_background": "light"
     }
    }
   ],
   "metadata": {}
  },
  {
   "cell_type": "code",
   "execution_count": 17,
   "source": [
    "df_count"
   ],
   "outputs": [
    {
     "output_type": "execute_result",
     "data": {
      "text/html": [
       "<div>\n",
       "<style scoped>\n",
       "    .dataframe tbody tr th:only-of-type {\n",
       "        vertical-align: middle;\n",
       "    }\n",
       "\n",
       "    .dataframe tbody tr th {\n",
       "        vertical-align: top;\n",
       "    }\n",
       "\n",
       "    .dataframe thead th {\n",
       "        text-align: right;\n",
       "    }\n",
       "</style>\n",
       "<table border=\"1\" class=\"dataframe\">\n",
       "  <thead>\n",
       "    <tr style=\"text-align: right;\">\n",
       "      <th></th>\n",
       "      <th>agents_type</th>\n",
       "      <th>count</th>\n",
       "      <th>count_pc</th>\n",
       "    </tr>\n",
       "  </thead>\n",
       "  <tbody>\n",
       "    <tr>\n",
       "      <th>5</th>\n",
       "      <td>magnets</td>\n",
       "      <td>40</td>\n",
       "      <td>40.816327</td>\n",
       "    </tr>\n",
       "    <tr>\n",
       "      <th>1</th>\n",
       "      <td>animals</td>\n",
       "      <td>34</td>\n",
       "      <td>34.693878</td>\n",
       "    </tr>\n",
       "    <tr>\n",
       "      <th>3</th>\n",
       "      <td>children</td>\n",
       "      <td>9</td>\n",
       "      <td>9.183673</td>\n",
       "    </tr>\n",
       "    <tr>\n",
       "      <th>2</th>\n",
       "      <td>balls</td>\n",
       "      <td>8</td>\n",
       "      <td>8.163265</td>\n",
       "    </tr>\n",
       "    <tr>\n",
       "      <th>0</th>\n",
       "      <td>adults</td>\n",
       "      <td>5</td>\n",
       "      <td>5.102041</td>\n",
       "    </tr>\n",
       "    <tr>\n",
       "      <th>4</th>\n",
       "      <td>insects</td>\n",
       "      <td>2</td>\n",
       "      <td>2.040816</td>\n",
       "    </tr>\n",
       "  </tbody>\n",
       "</table>\n",
       "</div>"
      ],
      "text/plain": [
       "  agents_type  count   count_pc\n",
       "5     magnets     40  40.816327\n",
       "1     animals     34  34.693878\n",
       "3    children      9   9.183673\n",
       "2       balls      8   8.163265\n",
       "0      adults      5   5.102041\n",
       "4     insects      2   2.040816"
      ]
     },
     "metadata": {},
     "execution_count": 17
    }
   ],
   "metadata": {}
  },
  {
   "cell_type": "code",
   "execution_count": 18,
   "source": [
    "df_count['agent_type_withpc'] = [f\"{row['agents_type']}\\n({row['count_pc']:.1f}%)\" for _,row in df_count.iterrows()]\n",
    "df_count"
   ],
   "outputs": [
    {
     "output_type": "execute_result",
     "data": {
      "text/html": [
       "<div>\n",
       "<style scoped>\n",
       "    .dataframe tbody tr th:only-of-type {\n",
       "        vertical-align: middle;\n",
       "    }\n",
       "\n",
       "    .dataframe tbody tr th {\n",
       "        vertical-align: top;\n",
       "    }\n",
       "\n",
       "    .dataframe thead th {\n",
       "        text-align: right;\n",
       "    }\n",
       "</style>\n",
       "<table border=\"1\" class=\"dataframe\">\n",
       "  <thead>\n",
       "    <tr style=\"text-align: right;\">\n",
       "      <th></th>\n",
       "      <th>agents_type</th>\n",
       "      <th>count</th>\n",
       "      <th>count_pc</th>\n",
       "      <th>agent_type_withpc</th>\n",
       "    </tr>\n",
       "  </thead>\n",
       "  <tbody>\n",
       "    <tr>\n",
       "      <th>5</th>\n",
       "      <td>magnets</td>\n",
       "      <td>40</td>\n",
       "      <td>40.816327</td>\n",
       "      <td>magnets\\n(40.8%)</td>\n",
       "    </tr>\n",
       "    <tr>\n",
       "      <th>1</th>\n",
       "      <td>animals</td>\n",
       "      <td>34</td>\n",
       "      <td>34.693878</td>\n",
       "      <td>animals\\n(34.7%)</td>\n",
       "    </tr>\n",
       "    <tr>\n",
       "      <th>3</th>\n",
       "      <td>children</td>\n",
       "      <td>9</td>\n",
       "      <td>9.183673</td>\n",
       "      <td>children\\n(9.2%)</td>\n",
       "    </tr>\n",
       "    <tr>\n",
       "      <th>2</th>\n",
       "      <td>balls</td>\n",
       "      <td>8</td>\n",
       "      <td>8.163265</td>\n",
       "      <td>balls\\n(8.2%)</td>\n",
       "    </tr>\n",
       "    <tr>\n",
       "      <th>0</th>\n",
       "      <td>adults</td>\n",
       "      <td>5</td>\n",
       "      <td>5.102041</td>\n",
       "      <td>adults\\n(5.1%)</td>\n",
       "    </tr>\n",
       "    <tr>\n",
       "      <th>4</th>\n",
       "      <td>insects</td>\n",
       "      <td>2</td>\n",
       "      <td>2.040816</td>\n",
       "      <td>insects\\n(2.0%)</td>\n",
       "    </tr>\n",
       "  </tbody>\n",
       "</table>\n",
       "</div>"
      ],
      "text/plain": [
       "  agents_type  count   count_pc agent_type_withpc\n",
       "5     magnets     40  40.816327  magnets\\n(40.8%)\n",
       "1     animals     34  34.693878  animals\\n(34.7%)\n",
       "3    children      9   9.183673  children\\n(9.2%)\n",
       "2       balls      8   8.163265     balls\\n(8.2%)\n",
       "0      adults      5   5.102041    adults\\n(5.1%)\n",
       "4     insects      2   2.040816   insects\\n(2.0%)"
      ]
     },
     "metadata": {},
     "execution_count": 18
    }
   ],
   "metadata": {}
  },
  {
   "cell_type": "code",
   "execution_count": 19,
   "source": [
    "df_count = df_count.loc[df_count['agents_type']!='insects',:]\n",
    "df_count"
   ],
   "outputs": [
    {
     "output_type": "execute_result",
     "data": {
      "text/html": [
       "<div>\n",
       "<style scoped>\n",
       "    .dataframe tbody tr th:only-of-type {\n",
       "        vertical-align: middle;\n",
       "    }\n",
       "\n",
       "    .dataframe tbody tr th {\n",
       "        vertical-align: top;\n",
       "    }\n",
       "\n",
       "    .dataframe thead th {\n",
       "        text-align: right;\n",
       "    }\n",
       "</style>\n",
       "<table border=\"1\" class=\"dataframe\">\n",
       "  <thead>\n",
       "    <tr style=\"text-align: right;\">\n",
       "      <th></th>\n",
       "      <th>agents_type</th>\n",
       "      <th>count</th>\n",
       "      <th>count_pc</th>\n",
       "      <th>agent_type_withpc</th>\n",
       "    </tr>\n",
       "  </thead>\n",
       "  <tbody>\n",
       "    <tr>\n",
       "      <th>5</th>\n",
       "      <td>magnets</td>\n",
       "      <td>40</td>\n",
       "      <td>40.816327</td>\n",
       "      <td>magnets\\n(40.8%)</td>\n",
       "    </tr>\n",
       "    <tr>\n",
       "      <th>1</th>\n",
       "      <td>animals</td>\n",
       "      <td>34</td>\n",
       "      <td>34.693878</td>\n",
       "      <td>animals\\n(34.7%)</td>\n",
       "    </tr>\n",
       "    <tr>\n",
       "      <th>3</th>\n",
       "      <td>children</td>\n",
       "      <td>9</td>\n",
       "      <td>9.183673</td>\n",
       "      <td>children\\n(9.2%)</td>\n",
       "    </tr>\n",
       "    <tr>\n",
       "      <th>2</th>\n",
       "      <td>balls</td>\n",
       "      <td>8</td>\n",
       "      <td>8.163265</td>\n",
       "      <td>balls\\n(8.2%)</td>\n",
       "    </tr>\n",
       "    <tr>\n",
       "      <th>0</th>\n",
       "      <td>adults</td>\n",
       "      <td>5</td>\n",
       "      <td>5.102041</td>\n",
       "      <td>adults\\n(5.1%)</td>\n",
       "    </tr>\n",
       "  </tbody>\n",
       "</table>\n",
       "</div>"
      ],
      "text/plain": [
       "  agents_type  count   count_pc agent_type_withpc\n",
       "5     magnets     40  40.816327  magnets\\n(40.8%)\n",
       "1     animals     34  34.693878  animals\\n(34.7%)\n",
       "3    children      9   9.183673  children\\n(9.2%)\n",
       "2       balls      8   8.163265     balls\\n(8.2%)\n",
       "0      adults      5   5.102041    adults\\n(5.1%)"
      ]
     },
     "metadata": {},
     "execution_count": 19
    }
   ],
   "metadata": {}
  },
  {
   "cell_type": "code",
   "execution_count": 20,
   "source": [
    "df_count['animacy'] = ['inanimate','animate','animate','inanimate','animate']\n",
    "df_count"
   ],
   "outputs": [
    {
     "output_type": "stream",
     "name": "stderr",
     "text": [
      "/Users/f0053cz/anaconda3/envs/py37/lib/python3.7/site-packages/ipykernel_launcher.py:1: SettingWithCopyWarning: \n",
      "A value is trying to be set on a copy of a slice from a DataFrame.\n",
      "Try using .loc[row_indexer,col_indexer] = value instead\n",
      "\n",
      "See the caveats in the documentation: https://pandas.pydata.org/pandas-docs/stable/user_guide/indexing.html#returning-a-view-versus-a-copy\n",
      "  \"\"\"Entry point for launching an IPython kernel.\n"
     ]
    },
    {
     "output_type": "execute_result",
     "data": {
      "text/html": [
       "<div>\n",
       "<style scoped>\n",
       "    .dataframe tbody tr th:only-of-type {\n",
       "        vertical-align: middle;\n",
       "    }\n",
       "\n",
       "    .dataframe tbody tr th {\n",
       "        vertical-align: top;\n",
       "    }\n",
       "\n",
       "    .dataframe thead th {\n",
       "        text-align: right;\n",
       "    }\n",
       "</style>\n",
       "<table border=\"1\" class=\"dataframe\">\n",
       "  <thead>\n",
       "    <tr style=\"text-align: right;\">\n",
       "      <th></th>\n",
       "      <th>agents_type</th>\n",
       "      <th>count</th>\n",
       "      <th>count_pc</th>\n",
       "      <th>agent_type_withpc</th>\n",
       "      <th>animacy</th>\n",
       "    </tr>\n",
       "  </thead>\n",
       "  <tbody>\n",
       "    <tr>\n",
       "      <th>5</th>\n",
       "      <td>magnets</td>\n",
       "      <td>40</td>\n",
       "      <td>40.816327</td>\n",
       "      <td>magnets\\n(40.8%)</td>\n",
       "      <td>inanimate</td>\n",
       "    </tr>\n",
       "    <tr>\n",
       "      <th>1</th>\n",
       "      <td>animals</td>\n",
       "      <td>34</td>\n",
       "      <td>34.693878</td>\n",
       "      <td>animals\\n(34.7%)</td>\n",
       "      <td>animate</td>\n",
       "    </tr>\n",
       "    <tr>\n",
       "      <th>3</th>\n",
       "      <td>children</td>\n",
       "      <td>9</td>\n",
       "      <td>9.183673</td>\n",
       "      <td>children\\n(9.2%)</td>\n",
       "      <td>animate</td>\n",
       "    </tr>\n",
       "    <tr>\n",
       "      <th>2</th>\n",
       "      <td>balls</td>\n",
       "      <td>8</td>\n",
       "      <td>8.163265</td>\n",
       "      <td>balls\\n(8.2%)</td>\n",
       "      <td>inanimate</td>\n",
       "    </tr>\n",
       "    <tr>\n",
       "      <th>0</th>\n",
       "      <td>adults</td>\n",
       "      <td>5</td>\n",
       "      <td>5.102041</td>\n",
       "      <td>adults\\n(5.1%)</td>\n",
       "      <td>animate</td>\n",
       "    </tr>\n",
       "  </tbody>\n",
       "</table>\n",
       "</div>"
      ],
      "text/plain": [
       "  agents_type  count   count_pc agent_type_withpc    animacy\n",
       "5     magnets     40  40.816327  magnets\\n(40.8%)  inanimate\n",
       "1     animals     34  34.693878  animals\\n(34.7%)    animate\n",
       "3    children      9   9.183673  children\\n(9.2%)    animate\n",
       "2       balls      8   8.163265     balls\\n(8.2%)  inanimate\n",
       "0      adults      5   5.102041    adults\\n(5.1%)    animate"
      ]
     },
     "metadata": {},
     "execution_count": 20
    }
   ],
   "metadata": {}
  },
  {
   "cell_type": "code",
   "execution_count": 21,
   "source": [
    "df_count.sort_values(by=['animacy','agents_type'],inplace=True)\n",
    "df_count"
   ],
   "outputs": [
    {
     "output_type": "stream",
     "name": "stderr",
     "text": [
      "/Users/f0053cz/anaconda3/envs/py37/lib/python3.7/site-packages/pandas/util/_decorators.py:311: SettingWithCopyWarning: \n",
      "A value is trying to be set on a copy of a slice from a DataFrame\n",
      "\n",
      "See the caveats in the documentation: https://pandas.pydata.org/pandas-docs/stable/user_guide/indexing.html#returning-a-view-versus-a-copy\n",
      "  return func(*args, **kwargs)\n"
     ]
    },
    {
     "output_type": "execute_result",
     "data": {
      "text/html": [
       "<div>\n",
       "<style scoped>\n",
       "    .dataframe tbody tr th:only-of-type {\n",
       "        vertical-align: middle;\n",
       "    }\n",
       "\n",
       "    .dataframe tbody tr th {\n",
       "        vertical-align: top;\n",
       "    }\n",
       "\n",
       "    .dataframe thead th {\n",
       "        text-align: right;\n",
       "    }\n",
       "</style>\n",
       "<table border=\"1\" class=\"dataframe\">\n",
       "  <thead>\n",
       "    <tr style=\"text-align: right;\">\n",
       "      <th></th>\n",
       "      <th>agents_type</th>\n",
       "      <th>count</th>\n",
       "      <th>count_pc</th>\n",
       "      <th>agent_type_withpc</th>\n",
       "      <th>animacy</th>\n",
       "    </tr>\n",
       "  </thead>\n",
       "  <tbody>\n",
       "    <tr>\n",
       "      <th>0</th>\n",
       "      <td>adults</td>\n",
       "      <td>5</td>\n",
       "      <td>5.102041</td>\n",
       "      <td>adults\\n(5.1%)</td>\n",
       "      <td>animate</td>\n",
       "    </tr>\n",
       "    <tr>\n",
       "      <th>1</th>\n",
       "      <td>animals</td>\n",
       "      <td>34</td>\n",
       "      <td>34.693878</td>\n",
       "      <td>animals\\n(34.7%)</td>\n",
       "      <td>animate</td>\n",
       "    </tr>\n",
       "    <tr>\n",
       "      <th>3</th>\n",
       "      <td>children</td>\n",
       "      <td>9</td>\n",
       "      <td>9.183673</td>\n",
       "      <td>children\\n(9.2%)</td>\n",
       "      <td>animate</td>\n",
       "    </tr>\n",
       "    <tr>\n",
       "      <th>2</th>\n",
       "      <td>balls</td>\n",
       "      <td>8</td>\n",
       "      <td>8.163265</td>\n",
       "      <td>balls\\n(8.2%)</td>\n",
       "      <td>inanimate</td>\n",
       "    </tr>\n",
       "    <tr>\n",
       "      <th>5</th>\n",
       "      <td>magnets</td>\n",
       "      <td>40</td>\n",
       "      <td>40.816327</td>\n",
       "      <td>magnets\\n(40.8%)</td>\n",
       "      <td>inanimate</td>\n",
       "    </tr>\n",
       "  </tbody>\n",
       "</table>\n",
       "</div>"
      ],
      "text/plain": [
       "  agents_type  count   count_pc agent_type_withpc    animacy\n",
       "0      adults      5   5.102041    adults\\n(5.1%)    animate\n",
       "1     animals     34  34.693878  animals\\n(34.7%)    animate\n",
       "3    children      9   9.183673  children\\n(9.2%)    animate\n",
       "2       balls      8   8.163265     balls\\n(8.2%)  inanimate\n",
       "5     magnets     40  40.816327  magnets\\n(40.8%)  inanimate"
      ]
     },
     "metadata": {},
     "execution_count": 21
    }
   ],
   "metadata": {}
  },
  {
   "cell_type": "code",
   "execution_count": 24,
   "source": [
    "import numpy as np"
   ],
   "outputs": [],
   "metadata": {}
  },
  {
   "cell_type": "code",
   "execution_count": 31,
   "source": [
    "# size=.3\n",
    "# cmap = plt.get_cmap(\"tab20c\")\n",
    "# outer_colors = cmap(np.arange(2))\n",
    "# inner_colors = cmap(np.array([1, 2, 3, 4, 5]))\n",
    "\n",
    "# fig, ax = plt.subplots()\n",
    "# ax.pie(df_count.groupby(['animacy']).sum().reset_index(), radius=1, colors=outer_colors,\n",
    "#        wedgeprops=dict(width=size, edgecolor='w'))\n",
    "\n",
    "# ax.pie(df_count['count_pc'], radius=1-size, colors=inner_colors,\n",
    "#        wedgeprops=dict(width=size, edgecolor='w'))"
   ],
   "outputs": [],
   "metadata": {}
  },
  {
   "cell_type": "code",
   "execution_count": 33,
   "source": [
    "plt.pie(df_count['count_pc'],labels=df_count['agent_type_withpc'])\n",
    "plt.savefig(f'{results_loc}/agents_type_pie.png',bbox_inches='tight')"
   ],
   "outputs": [
    {
     "output_type": "display_data",
     "data": {
      "image/png": "[encoded data removed]",
      "text/plain": [
       "<Figure size 432x288 with 1 Axes>"
      ]
     },
     "metadata": {}
    }
   ],
   "metadata": {}
  },
  {
   "cell_type": "code",
   "execution_count": null,
   "source": [],
   "outputs": [],
   "metadata": {}
  }
 ],
 "metadata": {
  "orig_nbformat": 4,
  "language_info": {
   "name": "python",
   "version": "3.7.11",
   "mimetype": "text/x-python",
   "codemirror_mode": {
    "name": "ipython",
    "version": 3
   },
   "pygments_lexer": "ipython3",
   "nbconvert_exporter": "python",
   "file_extension": ".py"
  },
  "kernelspec": {
   "name": "python3",
   "display_name": "Python 3.7.11 64-bit ('py37': conda)"
  },
  "interpreter": {
   "hash": "30fd9c97283ec1278eec212a8f8afab06ad903f38228c32cacb469eba8e56f4f"
  }
 },
 "nbformat": 4,
 "nbformat_minor": 2
}
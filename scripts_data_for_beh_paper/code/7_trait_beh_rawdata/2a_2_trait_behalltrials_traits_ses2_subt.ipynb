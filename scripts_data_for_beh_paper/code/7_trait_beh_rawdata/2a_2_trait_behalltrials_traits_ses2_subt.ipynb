{
 "cells": [
  {
   "cell_type": "code",
   "execution_count": 1,
   "source": [
    "print(\"Hello, R in Jupyter!\")"
   ],
   "outputs": [
    {
     "output_type": "stream",
     "name": "stdout",
     "text": [
      "[1] \"Hello, R in Jupyter!\"\n"
     ]
    }
   ],
   "metadata": {}
  },
  {
   "cell_type": "code",
   "execution_count": 2,
   "source": [
    "# Basic arithmetic\n",
    "result <- 2 + 2\n",
    "print(result)"
   ],
   "outputs": [
    {
     "output_type": "stream",
     "name": "stdout",
     "text": [
      "[1] 4\n"
     ]
    }
   ],
   "metadata": {}
  },
  {
   "cell_type": "code",
   "execution_count": 3,
   "source": [
    "ses <- 2"
   ],
   "outputs": [],
   "metadata": {}
  },
  {
   "cell_type": "code",
   "execution_count": 8,
   "source": [
    "root_dir = '../../data/subtlety_data/'#/Users/f0053cz/Documents/psyanim_v2/scripts_for_beh_paper/data/subtlety_playfight_data/'\n",
    "flname = paste('mean_apr_ses',ses,'_traits_alltrials.csv', sep = \"\")\n",
    "data <- read.csv(paste(root_dir,flname, sep = \"/\"))\n",
    "# print(data)\n",
    "head(data, 5)"
   ],
   "outputs": [
    {
     "output_type": "display_data",
     "data": {
      "text/html": [
       "<table class=\"dataframe\">\n",
       "<caption>A data.frame: 5 × 25</caption>\n",
       "<thead>\n",
       "\t<tr><th></th><th scope=col>X</th><th scope=col>stim_file</th><th scope=col>condition</th><th scope=col>subtlety</th><th scope=col>slider</th><th scope=col>RT</th><th scope=col>accuracy</th><th scope=col>subID</th><th scope=col>trial_ind</th><th scope=col>aq_social_skill</th><th scope=col>⋯</th><th scope=col>panas_neg</th><th scope=col>ffi_neuroticism</th><th scope=col>ffi_extraversion</th><th scope=col>ffi_openness</th><th scope=col>ffi_agreeableness</th><th scope=col>ffi_conscientiousness</th><th scope=col>ucla</th><th scope=col>friend_num</th><th scope=col>bias</th><th scope=col>amplitude</th></tr>\n",
       "\t<tr><th></th><th scope=col>&lt;int&gt;</th><th scope=col>&lt;chr&gt;</th><th scope=col>&lt;chr&gt;</th><th scope=col>&lt;int&gt;</th><th scope=col>&lt;dbl&gt;</th><th scope=col>&lt;dbl&gt;</th><th scope=col>&lt;int&gt;</th><th scope=col>&lt;int&gt;</th><th scope=col>&lt;int&gt;</th><th scope=col>&lt;dbl&gt;</th><th scope=col>⋯</th><th scope=col>&lt;dbl&gt;</th><th scope=col>&lt;dbl&gt;</th><th scope=col>&lt;dbl&gt;</th><th scope=col>&lt;dbl&gt;</th><th scope=col>&lt;dbl&gt;</th><th scope=col>&lt;dbl&gt;</th><th scope=col>&lt;dbl&gt;</th><th scope=col>&lt;dbl&gt;</th><th scope=col>&lt;dbl&gt;</th><th scope=col>&lt;dbl&gt;</th></tr>\n",
       "</thead>\n",
       "<tbody>\n",
       "\t<tr><th scope=row>1</th><td>0</td><td>7d329546-ecf4-4612-8f00-c127c77d5d6c</td><td>chase </td><td> 60</td><td>100</td><td>2.264</td><td>1</td><td>265</td><td>0</td><td>28</td><td>⋯</td><td>23</td><td>54</td><td>23</td><td>42</td><td>42</td><td>27</td><td>67</td><td>3</td><td>0.1232791</td><td>0.6278015</td></tr>\n",
       "\t<tr><th scope=row>2</th><td>1</td><td>68be0cf8-ea92-4566-b84a-cbd60b2e5547</td><td>wander</td><td>180</td><td> 19</td><td>3.469</td><td>1</td><td>265</td><td>1</td><td>28</td><td>⋯</td><td>23</td><td>54</td><td>23</td><td>42</td><td>42</td><td>27</td><td>67</td><td>3</td><td>0.1232791</td><td>0.6278015</td></tr>\n",
       "\t<tr><th scope=row>3</th><td>2</td><td>884bc951-67a6-42bd-8ea7-ece0c8745d3f</td><td>chase </td><td>  0</td><td>100</td><td>2.826</td><td>1</td><td>265</td><td>2</td><td>28</td><td>⋯</td><td>23</td><td>54</td><td>23</td><td>42</td><td>42</td><td>27</td><td>67</td><td>3</td><td>0.1232791</td><td>0.6278015</td></tr>\n",
       "\t<tr><th scope=row>4</th><td>3</td><td>24724e9a-8a79-4ab8-a58f-e007c5d00714</td><td>chase </td><td>120</td><td> 95</td><td>3.256</td><td>1</td><td>265</td><td>3</td><td>28</td><td>⋯</td><td>23</td><td>54</td><td>23</td><td>42</td><td>42</td><td>27</td><td>67</td><td>3</td><td>0.1232791</td><td>0.6278015</td></tr>\n",
       "\t<tr><th scope=row>5</th><td>4</td><td>cd9d4d31-b57e-4c3d-86c6-267ce9eec948</td><td>chase </td><td> 60</td><td>100</td><td>2.497</td><td>1</td><td>265</td><td>4</td><td>28</td><td>⋯</td><td>23</td><td>54</td><td>23</td><td>42</td><td>42</td><td>27</td><td>67</td><td>3</td><td>0.1232791</td><td>0.6278015</td></tr>\n",
       "</tbody>\n",
       "</table>\n"
      ],
      "text/latex": [
       "A data.frame: 5 × 25\n",
       "\\begin{tabular}{r|lllllllllllllllllllll}\n",
       "  & X & stim\\_file & condition & subtlety & slider & RT & accuracy & subID & trial\\_ind & aq\\_social\\_skill & ⋯ & panas\\_neg & ffi\\_neuroticism & ffi\\_extraversion & ffi\\_openness & ffi\\_agreeableness & ffi\\_conscientiousness & ucla & friend\\_num & bias & amplitude\\\\\n",
       "  & <int> & <chr> & <chr> & <int> & <dbl> & <dbl> & <int> & <int> & <int> & <dbl> & ⋯ & <dbl> & <dbl> & <dbl> & <dbl> & <dbl> & <dbl> & <dbl> & <dbl> & <dbl> & <dbl>\\\\\n",
       "\\hline\n",
       "\t1 & 0 & 7d329546-ecf4-4612-8f00-c127c77d5d6c & chase  &  60 & 100 & 2.264 & 1 & 265 & 0 & 28 & ⋯ & 23 & 54 & 23 & 42 & 42 & 27 & 67 & 3 & 0.1232791 & 0.6278015\\\\\n",
       "\t2 & 1 & 68be0cf8-ea92-4566-b84a-cbd60b2e5547 & wander & 180 &  19 & 3.469 & 1 & 265 & 1 & 28 & ⋯ & 23 & 54 & 23 & 42 & 42 & 27 & 67 & 3 & 0.1232791 & 0.6278015\\\\\n",
       "\t3 & 2 & 884bc951-67a6-42bd-8ea7-ece0c8745d3f & chase  &   0 & 100 & 2.826 & 1 & 265 & 2 & 28 & ⋯ & 23 & 54 & 23 & 42 & 42 & 27 & 67 & 3 & 0.1232791 & 0.6278015\\\\\n",
       "\t4 & 3 & 24724e9a-8a79-4ab8-a58f-e007c5d00714 & chase  & 120 &  95 & 3.256 & 1 & 265 & 3 & 28 & ⋯ & 23 & 54 & 23 & 42 & 42 & 27 & 67 & 3 & 0.1232791 & 0.6278015\\\\\n",
       "\t5 & 4 & cd9d4d31-b57e-4c3d-86c6-267ce9eec948 & chase  &  60 & 100 & 2.497 & 1 & 265 & 4 & 28 & ⋯ & 23 & 54 & 23 & 42 & 42 & 27 & 67 & 3 & 0.1232791 & 0.6278015\\\\\n",
       "\\end{tabular}\n"
      ],
      "text/markdown": [
       "\n",
       "A data.frame: 5 × 25\n",
       "\n",
       "| <!--/--> | X &lt;int&gt; | stim_file &lt;chr&gt; | condition &lt;chr&gt; | subtlety &lt;int&gt; | slider &lt;dbl&gt; | RT &lt;dbl&gt; | accuracy &lt;int&gt; | subID &lt;int&gt; | trial_ind &lt;int&gt; | aq_social_skill &lt;dbl&gt; | ⋯ ⋯ | panas_neg &lt;dbl&gt; | ffi_neuroticism &lt;dbl&gt; | ffi_extraversion &lt;dbl&gt; | ffi_openness &lt;dbl&gt; | ffi_agreeableness &lt;dbl&gt; | ffi_conscientiousness &lt;dbl&gt; | ucla &lt;dbl&gt; | friend_num &lt;dbl&gt; | bias &lt;dbl&gt; | amplitude &lt;dbl&gt; |\n",
       "|---|---|---|---|---|---|---|---|---|---|---|---|---|---|---|---|---|---|---|---|---|---|\n",
       "| 1 | 0 | 7d329546-ecf4-4612-8f00-c127c77d5d6c | chase  |  60 | 100 | 2.264 | 1 | 265 | 0 | 28 | ⋯ | 23 | 54 | 23 | 42 | 42 | 27 | 67 | 3 | 0.1232791 | 0.6278015 |\n",
       "| 2 | 1 | 68be0cf8-ea92-4566-b84a-cbd60b2e5547 | wander | 180 |  19 | 3.469 | 1 | 265 | 1 | 28 | ⋯ | 23 | 54 | 23 | 42 | 42 | 27 | 67 | 3 | 0.1232791 | 0.6278015 |\n",
       "| 3 | 2 | 884bc951-67a6-42bd-8ea7-ece0c8745d3f | chase  |   0 | 100 | 2.826 | 1 | 265 | 2 | 28 | ⋯ | 23 | 54 | 23 | 42 | 42 | 27 | 67 | 3 | 0.1232791 | 0.6278015 |\n",
       "| 4 | 3 | 24724e9a-8a79-4ab8-a58f-e007c5d00714 | chase  | 120 |  95 | 3.256 | 1 | 265 | 3 | 28 | ⋯ | 23 | 54 | 23 | 42 | 42 | 27 | 67 | 3 | 0.1232791 | 0.6278015 |\n",
       "| 5 | 4 | cd9d4d31-b57e-4c3d-86c6-267ce9eec948 | chase  |  60 | 100 | 2.497 | 1 | 265 | 4 | 28 | ⋯ | 23 | 54 | 23 | 42 | 42 | 27 | 67 | 3 | 0.1232791 | 0.6278015 |\n",
       "\n"
      ],
      "text/plain": [
       "  X stim_file                            condition subtlety slider RT   \n",
       "1 0 7d329546-ecf4-4612-8f00-c127c77d5d6c chase      60      100    2.264\n",
       "2 1 68be0cf8-ea92-4566-b84a-cbd60b2e5547 wander    180       19    3.469\n",
       "3 2 884bc951-67a6-42bd-8ea7-ece0c8745d3f chase       0      100    2.826\n",
       "4 3 24724e9a-8a79-4ab8-a58f-e007c5d00714 chase     120       95    3.256\n",
       "5 4 cd9d4d31-b57e-4c3d-86c6-267ce9eec948 chase      60      100    2.497\n",
       "  accuracy subID trial_ind aq_social_skill ⋯ panas_neg ffi_neuroticism\n",
       "1 1        265   0         28              ⋯ 23        54             \n",
       "2 1        265   1         28              ⋯ 23        54             \n",
       "3 1        265   2         28              ⋯ 23        54             \n",
       "4 1        265   3         28              ⋯ 23        54             \n",
       "5 1        265   4         28              ⋯ 23        54             \n",
       "  ffi_extraversion ffi_openness ffi_agreeableness ffi_conscientiousness ucla\n",
       "1 23               42           42                27                    67  \n",
       "2 23               42           42                27                    67  \n",
       "3 23               42           42                27                    67  \n",
       "4 23               42           42                27                    67  \n",
       "5 23               42           42                27                    67  \n",
       "  friend_num bias      amplitude\n",
       "1 3          0.1232791 0.6278015\n",
       "2 3          0.1232791 0.6278015\n",
       "3 3          0.1232791 0.6278015\n",
       "4 3          0.1232791 0.6278015\n",
       "5 3          0.1232791 0.6278015"
      ]
     },
     "metadata": {}
    }
   ],
   "metadata": {}
  },
  {
   "cell_type": "code",
   "execution_count": 9,
   "source": [
    "colnames(data)"
   ],
   "outputs": [
    {
     "output_type": "display_data",
     "data": {
      "text/html": [
       "<style>\n",
       ".list-inline {list-style: none; margin:0; padding: 0}\n",
       ".list-inline>li {display: inline-block}\n",
       ".list-inline>li:not(:last-child)::after {content: \"\\00b7\"; padding: 0 .5ex}\n",
       "</style>\n",
       "<ol class=list-inline><li>'X'</li><li>'stim_file'</li><li>'condition'</li><li>'subtlety'</li><li>'slider'</li><li>'RT'</li><li>'accuracy'</li><li>'subID'</li><li>'trial_ind'</li><li>'aq_social_skill'</li><li>'aq_attn_switch'</li><li>'aq_img'</li><li>'aq_attn_to_det'</li><li>'aq_comm'</li><li>'panas_pos'</li><li>'panas_neg'</li><li>'ffi_neuroticism'</li><li>'ffi_extraversion'</li><li>'ffi_openness'</li><li>'ffi_agreeableness'</li><li>'ffi_conscientiousness'</li><li>'ucla'</li><li>'friend_num'</li><li>'bias'</li><li>'amplitude'</li></ol>\n"
      ],
      "text/latex": [
       "\\begin{enumerate*}\n",
       "\\item 'X'\n",
       "\\item 'stim\\_file'\n",
       "\\item 'condition'\n",
       "\\item 'subtlety'\n",
       "\\item 'slider'\n",
       "\\item 'RT'\n",
       "\\item 'accuracy'\n",
       "\\item 'subID'\n",
       "\\item 'trial\\_ind'\n",
       "\\item 'aq\\_social\\_skill'\n",
       "\\item 'aq\\_attn\\_switch'\n",
       "\\item 'aq\\_img'\n",
       "\\item 'aq\\_attn\\_to\\_det'\n",
       "\\item 'aq\\_comm'\n",
       "\\item 'panas\\_pos'\n",
       "\\item 'panas\\_neg'\n",
       "\\item 'ffi\\_neuroticism'\n",
       "\\item 'ffi\\_extraversion'\n",
       "\\item 'ffi\\_openness'\n",
       "\\item 'ffi\\_agreeableness'\n",
       "\\item 'ffi\\_conscientiousness'\n",
       "\\item 'ucla'\n",
       "\\item 'friend\\_num'\n",
       "\\item 'bias'\n",
       "\\item 'amplitude'\n",
       "\\end{enumerate*}\n"
      ],
      "text/markdown": [
       "1. 'X'\n",
       "2. 'stim_file'\n",
       "3. 'condition'\n",
       "4. 'subtlety'\n",
       "5. 'slider'\n",
       "6. 'RT'\n",
       "7. 'accuracy'\n",
       "8. 'subID'\n",
       "9. 'trial_ind'\n",
       "10. 'aq_social_skill'\n",
       "11. 'aq_attn_switch'\n",
       "12. 'aq_img'\n",
       "13. 'aq_attn_to_det'\n",
       "14. 'aq_comm'\n",
       "15. 'panas_pos'\n",
       "16. 'panas_neg'\n",
       "17. 'ffi_neuroticism'\n",
       "18. 'ffi_extraversion'\n",
       "19. 'ffi_openness'\n",
       "20. 'ffi_agreeableness'\n",
       "21. 'ffi_conscientiousness'\n",
       "22. 'ucla'\n",
       "23. 'friend_num'\n",
       "24. 'bias'\n",
       "25. 'amplitude'\n",
       "\n",
       "\n"
      ],
      "text/plain": [
       " [1] \"X\"                     \"stim_file\"             \"condition\"            \n",
       " [4] \"subtlety\"              \"slider\"                \"RT\"                   \n",
       " [7] \"accuracy\"              \"subID\"                 \"trial_ind\"            \n",
       "[10] \"aq_social_skill\"       \"aq_attn_switch\"        \"aq_img\"               \n",
       "[13] \"aq_attn_to_det\"        \"aq_comm\"               \"panas_pos\"            \n",
       "[16] \"panas_neg\"             \"ffi_neuroticism\"       \"ffi_extraversion\"     \n",
       "[19] \"ffi_openness\"          \"ffi_agreeableness\"     \"ffi_conscientiousness\"\n",
       "[22] \"ucla\"                  \"friend_num\"            \"bias\"                 \n",
       "[25] \"amplitude\"            "
      ]
     },
     "metadata": {}
    }
   ],
   "metadata": {}
  },
  {
   "cell_type": "code",
   "execution_count": 10,
   "source": [
    "# Print the dimensions of the data frame\n",
    "print(dim(data))\n",
    "\n",
    "# Drop rows with NA values\n",
    "data <- na.omit(data)\n",
    "\n",
    "# Print the dimensions of the data frame after dropping NA values\n",
    "print(dim(data))"
   ],
   "outputs": [
    {
     "output_type": "stream",
     "name": "stdout",
     "text": [
      "[1] 19152    25\n",
      "[1] 19056    25\n"
     ]
    }
   ],
   "metadata": {}
  },
  {
   "cell_type": "markdown",
   "source": [
    "# mult reg (relevant traits and curve fits)"
   ],
   "metadata": {}
  },
  {
   "cell_type": "code",
   "execution_count": 40,
   "source": [
    "# install.packages(\"lme4\") \n",
    "# install.packages(\"dplyr\")\n",
    "# install.packages(\"lmerTest\")"
   ],
   "outputs": [
    {
     "output_type": "stream",
     "name": "stderr",
     "text": [
      "Updating HTML index of packages in '.Library'\n",
      "\n",
      "Making 'packages.html' ...\n",
      " done\n",
      "\n",
      "Updating HTML index of packages in '.Library'\n",
      "\n",
      "Making 'packages.html' ...\n",
      " done\n",
      "\n"
     ]
    }
   ],
   "metadata": {}
  },
  {
   "cell_type": "code",
   "execution_count": 41,
   "source": [
    "library(dplyr)\n",
    "# library(lme4)\n",
    "library(lmerTest)"
   ],
   "outputs": [
    {
     "output_type": "stream",
     "name": "stderr",
     "text": [
      "\n",
      "Attaching package: ‘lmerTest’\n",
      "\n",
      "\n",
      "The following object is masked from ‘package:lme4’:\n",
      "\n",
      "    lmer\n",
      "\n",
      "\n",
      "The following object is masked from ‘package:stats’:\n",
      "\n",
      "    step\n",
      "\n",
      "\n"
     ]
    }
   ],
   "metadata": {}
  },
  {
   "cell_type": "code",
   "execution_count": 42,
   "source": [
    "# # Rename specific columns\n",
    "# data <- data %>% rename(\n",
    "#   pos_affect = Positive_reweigh,\n",
    "#   PSE_subt = obj_center_subt,\n",
    "#   range_subt = amplitude_subt,\n",
    "#   bias_subt = bias_xmin_norm_subt,\n",
    "#   PSE_pf = obj_center_pf,\n",
    "#   range_pf = amplitude_pf,\n",
    "#   bias_pf = bias_xmin_norm_pf,\n",
    "#   PSE_diff = obj_center_diff,\n",
    "#   range_diff = amplitude_diff,\n",
    "#   bias_diff = bias_xmin_norm_diff\n",
    "# )"
   ],
   "outputs": [],
   "metadata": {}
  },
  {
   "cell_type": "code",
   "execution_count": 43,
   "source": [
    "head(data, 5)"
   ],
   "outputs": [
    {
     "output_type": "display_data",
     "data": {
      "text/html": [
       "<table class=\"dataframe\">\n",
       "<caption>A data.frame: 5 × 25</caption>\n",
       "<thead>\n",
       "\t<tr><th></th><th scope=col>X</th><th scope=col>stim_file</th><th scope=col>condition</th><th scope=col>subtlety</th><th scope=col>slider</th><th scope=col>RT</th><th scope=col>accuracy</th><th scope=col>subID</th><th scope=col>trial_ind</th><th scope=col>aq_social_skill</th><th scope=col>⋯</th><th scope=col>panas_neg</th><th scope=col>ffi_neuroticism</th><th scope=col>ffi_extraversion</th><th scope=col>ffi_openness</th><th scope=col>ffi_agreeableness</th><th scope=col>ffi_conscientiousness</th><th scope=col>ucla</th><th scope=col>friend_num</th><th scope=col>bias</th><th scope=col>amplitude</th></tr>\n",
       "\t<tr><th></th><th scope=col>&lt;int&gt;</th><th scope=col>&lt;chr&gt;</th><th scope=col>&lt;chr&gt;</th><th scope=col>&lt;int&gt;</th><th scope=col>&lt;dbl&gt;</th><th scope=col>&lt;dbl&gt;</th><th scope=col>&lt;int&gt;</th><th scope=col>&lt;int&gt;</th><th scope=col>&lt;int&gt;</th><th scope=col>&lt;dbl&gt;</th><th scope=col>⋯</th><th scope=col>&lt;dbl&gt;</th><th scope=col>&lt;dbl&gt;</th><th scope=col>&lt;dbl&gt;</th><th scope=col>&lt;dbl&gt;</th><th scope=col>&lt;dbl&gt;</th><th scope=col>&lt;dbl&gt;</th><th scope=col>&lt;dbl&gt;</th><th scope=col>&lt;dbl&gt;</th><th scope=col>&lt;dbl&gt;</th><th scope=col>&lt;dbl&gt;</th></tr>\n",
       "</thead>\n",
       "<tbody>\n",
       "\t<tr><th scope=row>1</th><td>0</td><td>7d329546-ecf4-4612-8f00-c127c77d5d6c</td><td>chase </td><td> 60</td><td>100</td><td>2.264</td><td>1</td><td>265</td><td>0</td><td>28</td><td>⋯</td><td>23</td><td>54</td><td>23</td><td>42</td><td>42</td><td>27</td><td>67</td><td>3</td><td>0.1232791</td><td>0.6278015</td></tr>\n",
       "\t<tr><th scope=row>2</th><td>1</td><td>68be0cf8-ea92-4566-b84a-cbd60b2e5547</td><td>wander</td><td>180</td><td> 19</td><td>3.469</td><td>1</td><td>265</td><td>1</td><td>28</td><td>⋯</td><td>23</td><td>54</td><td>23</td><td>42</td><td>42</td><td>27</td><td>67</td><td>3</td><td>0.1232791</td><td>0.6278015</td></tr>\n",
       "\t<tr><th scope=row>3</th><td>2</td><td>884bc951-67a6-42bd-8ea7-ece0c8745d3f</td><td>chase </td><td>  0</td><td>100</td><td>2.826</td><td>1</td><td>265</td><td>2</td><td>28</td><td>⋯</td><td>23</td><td>54</td><td>23</td><td>42</td><td>42</td><td>27</td><td>67</td><td>3</td><td>0.1232791</td><td>0.6278015</td></tr>\n",
       "\t<tr><th scope=row>4</th><td>3</td><td>24724e9a-8a79-4ab8-a58f-e007c5d00714</td><td>chase </td><td>120</td><td> 95</td><td>3.256</td><td>1</td><td>265</td><td>3</td><td>28</td><td>⋯</td><td>23</td><td>54</td><td>23</td><td>42</td><td>42</td><td>27</td><td>67</td><td>3</td><td>0.1232791</td><td>0.6278015</td></tr>\n",
       "\t<tr><th scope=row>5</th><td>4</td><td>cd9d4d31-b57e-4c3d-86c6-267ce9eec948</td><td>chase </td><td> 60</td><td>100</td><td>2.497</td><td>1</td><td>265</td><td>4</td><td>28</td><td>⋯</td><td>23</td><td>54</td><td>23</td><td>42</td><td>42</td><td>27</td><td>67</td><td>3</td><td>0.1232791</td><td>0.6278015</td></tr>\n",
       "</tbody>\n",
       "</table>\n"
      ],
      "text/latex": [
       "A data.frame: 5 × 25\n",
       "\\begin{tabular}{r|lllllllllllllllllllll}\n",
       "  & X & stim\\_file & condition & subtlety & slider & RT & accuracy & subID & trial\\_ind & aq\\_social\\_skill & ⋯ & panas\\_neg & ffi\\_neuroticism & ffi\\_extraversion & ffi\\_openness & ffi\\_agreeableness & ffi\\_conscientiousness & ucla & friend\\_num & bias & amplitude\\\\\n",
       "  & <int> & <chr> & <chr> & <int> & <dbl> & <dbl> & <int> & <int> & <int> & <dbl> & ⋯ & <dbl> & <dbl> & <dbl> & <dbl> & <dbl> & <dbl> & <dbl> & <dbl> & <dbl> & <dbl>\\\\\n",
       "\\hline\n",
       "\t1 & 0 & 7d329546-ecf4-4612-8f00-c127c77d5d6c & chase  &  60 & 100 & 2.264 & 1 & 265 & 0 & 28 & ⋯ & 23 & 54 & 23 & 42 & 42 & 27 & 67 & 3 & 0.1232791 & 0.6278015\\\\\n",
       "\t2 & 1 & 68be0cf8-ea92-4566-b84a-cbd60b2e5547 & wander & 180 &  19 & 3.469 & 1 & 265 & 1 & 28 & ⋯ & 23 & 54 & 23 & 42 & 42 & 27 & 67 & 3 & 0.1232791 & 0.6278015\\\\\n",
       "\t3 & 2 & 884bc951-67a6-42bd-8ea7-ece0c8745d3f & chase  &   0 & 100 & 2.826 & 1 & 265 & 2 & 28 & ⋯ & 23 & 54 & 23 & 42 & 42 & 27 & 67 & 3 & 0.1232791 & 0.6278015\\\\\n",
       "\t4 & 3 & 24724e9a-8a79-4ab8-a58f-e007c5d00714 & chase  & 120 &  95 & 3.256 & 1 & 265 & 3 & 28 & ⋯ & 23 & 54 & 23 & 42 & 42 & 27 & 67 & 3 & 0.1232791 & 0.6278015\\\\\n",
       "\t5 & 4 & cd9d4d31-b57e-4c3d-86c6-267ce9eec948 & chase  &  60 & 100 & 2.497 & 1 & 265 & 4 & 28 & ⋯ & 23 & 54 & 23 & 42 & 42 & 27 & 67 & 3 & 0.1232791 & 0.6278015\\\\\n",
       "\\end{tabular}\n"
      ],
      "text/markdown": [
       "\n",
       "A data.frame: 5 × 25\n",
       "\n",
       "| <!--/--> | X &lt;int&gt; | stim_file &lt;chr&gt; | condition &lt;chr&gt; | subtlety &lt;int&gt; | slider &lt;dbl&gt; | RT &lt;dbl&gt; | accuracy &lt;int&gt; | subID &lt;int&gt; | trial_ind &lt;int&gt; | aq_social_skill &lt;dbl&gt; | ⋯ ⋯ | panas_neg &lt;dbl&gt; | ffi_neuroticism &lt;dbl&gt; | ffi_extraversion &lt;dbl&gt; | ffi_openness &lt;dbl&gt; | ffi_agreeableness &lt;dbl&gt; | ffi_conscientiousness &lt;dbl&gt; | ucla &lt;dbl&gt; | friend_num &lt;dbl&gt; | bias &lt;dbl&gt; | amplitude &lt;dbl&gt; |\n",
       "|---|---|---|---|---|---|---|---|---|---|---|---|---|---|---|---|---|---|---|---|---|---|\n",
       "| 1 | 0 | 7d329546-ecf4-4612-8f00-c127c77d5d6c | chase  |  60 | 100 | 2.264 | 1 | 265 | 0 | 28 | ⋯ | 23 | 54 | 23 | 42 | 42 | 27 | 67 | 3 | 0.1232791 | 0.6278015 |\n",
       "| 2 | 1 | 68be0cf8-ea92-4566-b84a-cbd60b2e5547 | wander | 180 |  19 | 3.469 | 1 | 265 | 1 | 28 | ⋯ | 23 | 54 | 23 | 42 | 42 | 27 | 67 | 3 | 0.1232791 | 0.6278015 |\n",
       "| 3 | 2 | 884bc951-67a6-42bd-8ea7-ece0c8745d3f | chase  |   0 | 100 | 2.826 | 1 | 265 | 2 | 28 | ⋯ | 23 | 54 | 23 | 42 | 42 | 27 | 67 | 3 | 0.1232791 | 0.6278015 |\n",
       "| 4 | 3 | 24724e9a-8a79-4ab8-a58f-e007c5d00714 | chase  | 120 |  95 | 3.256 | 1 | 265 | 3 | 28 | ⋯ | 23 | 54 | 23 | 42 | 42 | 27 | 67 | 3 | 0.1232791 | 0.6278015 |\n",
       "| 5 | 4 | cd9d4d31-b57e-4c3d-86c6-267ce9eec948 | chase  |  60 | 100 | 2.497 | 1 | 265 | 4 | 28 | ⋯ | 23 | 54 | 23 | 42 | 42 | 27 | 67 | 3 | 0.1232791 | 0.6278015 |\n",
       "\n"
      ],
      "text/plain": [
       "  X stim_file                            condition subtlety slider RT   \n",
       "1 0 7d329546-ecf4-4612-8f00-c127c77d5d6c chase      60      100    2.264\n",
       "2 1 68be0cf8-ea92-4566-b84a-cbd60b2e5547 wander    180       19    3.469\n",
       "3 2 884bc951-67a6-42bd-8ea7-ece0c8745d3f chase       0      100    2.826\n",
       "4 3 24724e9a-8a79-4ab8-a58f-e007c5d00714 chase     120       95    3.256\n",
       "5 4 cd9d4d31-b57e-4c3d-86c6-267ce9eec948 chase      60      100    2.497\n",
       "  accuracy subID trial_ind aq_social_skill ⋯ panas_neg ffi_neuroticism\n",
       "1 1        265   0         28              ⋯ 23        54             \n",
       "2 1        265   1         28              ⋯ 23        54             \n",
       "3 1        265   2         28              ⋯ 23        54             \n",
       "4 1        265   3         28              ⋯ 23        54             \n",
       "5 1        265   4         28              ⋯ 23        54             \n",
       "  ffi_extraversion ffi_openness ffi_agreeableness ffi_conscientiousness ucla\n",
       "1 23               42           42                27                    67  \n",
       "2 23               42           42                27                    67  \n",
       "3 23               42           42                27                    67  \n",
       "4 23               42           42                27                    67  \n",
       "5 23               42           42                27                    67  \n",
       "  friend_num bias      amplitude\n",
       "1 3          0.1232791 0.6278015\n",
       "2 3          0.1232791 0.6278015\n",
       "3 3          0.1232791 0.6278015\n",
       "4 3          0.1232791 0.6278015\n",
       "5 3          0.1232791 0.6278015"
      ]
     },
     "metadata": {}
    }
   ],
   "metadata": {}
  },
  {
   "cell_type": "code",
   "execution_count": 44,
   "source": [
    "colnames(data)"
   ],
   "outputs": [
    {
     "output_type": "display_data",
     "data": {
      "text/html": [
       "<style>\n",
       ".list-inline {list-style: none; margin:0; padding: 0}\n",
       ".list-inline>li {display: inline-block}\n",
       ".list-inline>li:not(:last-child)::after {content: \"\\00b7\"; padding: 0 .5ex}\n",
       "</style>\n",
       "<ol class=list-inline><li>'X'</li><li>'stim_file'</li><li>'condition'</li><li>'subtlety'</li><li>'slider'</li><li>'RT'</li><li>'accuracy'</li><li>'subID'</li><li>'trial_ind'</li><li>'aq_social_skill'</li><li>'aq_attn_switch'</li><li>'aq_img'</li><li>'aq_attn_to_det'</li><li>'aq_comm'</li><li>'panas_pos'</li><li>'panas_neg'</li><li>'ffi_neuroticism'</li><li>'ffi_extraversion'</li><li>'ffi_openness'</li><li>'ffi_agreeableness'</li><li>'ffi_conscientiousness'</li><li>'ucla'</li><li>'friend_num'</li><li>'bias'</li><li>'amplitude'</li></ol>\n"
      ],
      "text/latex": [
       "\\begin{enumerate*}\n",
       "\\item 'X'\n",
       "\\item 'stim\\_file'\n",
       "\\item 'condition'\n",
       "\\item 'subtlety'\n",
       "\\item 'slider'\n",
       "\\item 'RT'\n",
       "\\item 'accuracy'\n",
       "\\item 'subID'\n",
       "\\item 'trial\\_ind'\n",
       "\\item 'aq\\_social\\_skill'\n",
       "\\item 'aq\\_attn\\_switch'\n",
       "\\item 'aq\\_img'\n",
       "\\item 'aq\\_attn\\_to\\_det'\n",
       "\\item 'aq\\_comm'\n",
       "\\item 'panas\\_pos'\n",
       "\\item 'panas\\_neg'\n",
       "\\item 'ffi\\_neuroticism'\n",
       "\\item 'ffi\\_extraversion'\n",
       "\\item 'ffi\\_openness'\n",
       "\\item 'ffi\\_agreeableness'\n",
       "\\item 'ffi\\_conscientiousness'\n",
       "\\item 'ucla'\n",
       "\\item 'friend\\_num'\n",
       "\\item 'bias'\n",
       "\\item 'amplitude'\n",
       "\\end{enumerate*}\n"
      ],
      "text/markdown": [
       "1. 'X'\n",
       "2. 'stim_file'\n",
       "3. 'condition'\n",
       "4. 'subtlety'\n",
       "5. 'slider'\n",
       "6. 'RT'\n",
       "7. 'accuracy'\n",
       "8. 'subID'\n",
       "9. 'trial_ind'\n",
       "10. 'aq_social_skill'\n",
       "11. 'aq_attn_switch'\n",
       "12. 'aq_img'\n",
       "13. 'aq_attn_to_det'\n",
       "14. 'aq_comm'\n",
       "15. 'panas_pos'\n",
       "16. 'panas_neg'\n",
       "17. 'ffi_neuroticism'\n",
       "18. 'ffi_extraversion'\n",
       "19. 'ffi_openness'\n",
       "20. 'ffi_agreeableness'\n",
       "21. 'ffi_conscientiousness'\n",
       "22. 'ucla'\n",
       "23. 'friend_num'\n",
       "24. 'bias'\n",
       "25. 'amplitude'\n",
       "\n",
       "\n"
      ],
      "text/plain": [
       " [1] \"X\"                     \"stim_file\"             \"condition\"            \n",
       " [4] \"subtlety\"              \"slider\"                \"RT\"                   \n",
       " [7] \"accuracy\"              \"subID\"                 \"trial_ind\"            \n",
       "[10] \"aq_social_skill\"       \"aq_attn_switch\"        \"aq_img\"               \n",
       "[13] \"aq_attn_to_det\"        \"aq_comm\"               \"panas_pos\"            \n",
       "[16] \"panas_neg\"             \"ffi_neuroticism\"       \"ffi_extraversion\"     \n",
       "[19] \"ffi_openness\"          \"ffi_agreeableness\"     \"ffi_conscientiousness\"\n",
       "[22] \"ucla\"                  \"friend_num\"            \"bias\"                 \n",
       "[25] \"amplitude\"            "
      ]
     },
     "metadata": {}
    }
   ],
   "metadata": {}
  },
  {
   "cell_type": "code",
   "execution_count": 47,
   "source": [
    "formula <- as.formula(\"slider ~ subtlety + (1|subID) + (1|stim_file)\")\n",
    "m1 <- lmer(formula, data = data)\n",
    "summary(m1)"
   ],
   "outputs": [
    {
     "output_type": "display_data",
     "data": {
      "text/plain": [
       "Linear mixed model fit by REML. t-tests use Satterthwaite's method [\n",
       "lmerModLmerTest]\n",
       "Formula: formula\n",
       "   Data: data\n",
       "\n",
       "REML criterion at convergence: 165179.6\n",
       "\n",
       "Scaled residuals: \n",
       "    Min      1Q  Median      3Q     Max \n",
       "-5.2546 -0.5707  0.0304  0.5783  5.0629 \n",
       "\n",
       "Random effects:\n",
       " Groups    Name        Variance Std.Dev.\n",
       " subID     (Intercept)  55.85    7.473  \n",
       " stim_file (Intercept) 149.32   12.220  \n",
       " Residual              322.79   17.966  \n",
       "Number of obs: 19056, groups:  subID, 228; stim_file, 84\n",
       "\n",
       "Fixed effects:\n",
       "             Estimate Std. Error        df t value Pr(>|t|)    \n",
       "(Intercept) 101.93049    2.46522  88.98187   41.35   <2e-16 ***\n",
       "subtlety     -0.43039    0.02233  82.01520  -19.28   <2e-16 ***\n",
       "---\n",
       "Signif. codes:  0 ‘***’ 0.001 ‘**’ 0.01 ‘*’ 0.05 ‘.’ 0.1 ‘ ’ 1\n",
       "\n",
       "Correlation of Fixed Effects:\n",
       "         (Intr)\n",
       "subtlety -0.815"
      ]
     },
     "metadata": {}
    }
   ],
   "metadata": {}
  },
  {
   "cell_type": "code",
   "execution_count": 49,
   "source": [
    "formula <- as.formula(\"slider ~ aq_social_skill + (1|subID) + (1|stim_file)\")\n",
    "m2 <- lmer(formula, data = data)\n",
    "summary(m2)"
   ],
   "outputs": [
    {
     "output_type": "display_data",
     "data": {
      "text/plain": [
       "Linear mixed model fit by REML. t-tests use Satterthwaite's method [\n",
       "lmerModLmerTest]\n",
       "Formula: formula\n",
       "   Data: data\n",
       "\n",
       "REML criterion at convergence: 165314.6\n",
       "\n",
       "Scaled residuals: \n",
       "    Min      1Q  Median      3Q     Max \n",
       "-5.2466 -0.5697  0.0305  0.5789  5.0732 \n",
       "\n",
       "Random effects:\n",
       " Groups    Name        Variance Std.Dev.\n",
       " subID     (Intercept)  54.97    7.414  \n",
       " stim_file (Intercept) 822.43   28.678  \n",
       " Residual              322.79   17.966  \n",
       "Number of obs: 19056, groups:  subID, 228; stim_file, 84\n",
       "\n",
       "Fixed effects:\n",
       "                 Estimate Std. Error        df t value Pr(>|t|)    \n",
       "(Intercept)      65.62496    3.37759 111.18653  19.429   <2e-16 ***\n",
       "aq_social_skill  -0.17364    0.08331 225.99338  -2.084   0.0383 *  \n",
       "---\n",
       "Signif. codes:  0 ‘***’ 0.001 ‘**’ 0.01 ‘*’ 0.05 ‘.’ 0.1 ‘ ’ 1\n",
       "\n",
       "Correlation of Fixed Effects:\n",
       "            (Intr)\n",
       "aq_scl_skll -0.345"
      ]
     },
     "metadata": {}
    }
   ],
   "metadata": {}
  },
  {
   "cell_type": "code",
   "execution_count": 50,
   "source": [
    "formula <- as.formula(\"slider ~ subtlety + aq_social_skill + (1|subID) + (1|stim_file)\")\n",
    "m3 <- lmer(formula, data = data)\n",
    "summary(m3)"
   ],
   "outputs": [
    {
     "output_type": "display_data",
     "data": {
      "text/plain": [
       "Linear mixed model fit by REML. t-tests use Satterthwaite's method [\n",
       "lmerModLmerTest]\n",
       "Formula: formula\n",
       "   Data: data\n",
       "\n",
       "REML criterion at convergence: 165178.4\n",
       "\n",
       "Scaled residuals: \n",
       "    Min      1Q  Median      3Q     Max \n",
       "-5.2544 -0.5707  0.0300  0.5795  5.0664 \n",
       "\n",
       "Random effects:\n",
       " Groups    Name        Variance Std.Dev.\n",
       " subID     (Intercept)  54.98    7.415  \n",
       " stim_file (Intercept) 149.34   12.221  \n",
       " Residual              322.79   17.966  \n",
       "Number of obs: 19056, groups:  subID, 228; stim_file, 84\n",
       "\n",
       "Fixed effects:\n",
       "                 Estimate Std. Error        df t value Pr(>|t|)    \n",
       "(Intercept)     104.36054    2.72646 129.54701  38.277   <2e-16 ***\n",
       "subtlety         -0.43039    0.02233  81.99663 -19.275   <2e-16 ***\n",
       "aq_social_skill  -0.17365    0.08331 225.99228  -2.084   0.0383 *  \n",
       "---\n",
       "Signif. codes:  0 ‘***’ 0.001 ‘**’ 0.01 ‘*’ 0.05 ‘.’ 0.1 ‘ ’ 1\n",
       "\n",
       "Correlation of Fixed Effects:\n",
       "            (Intr) sbtlty\n",
       "subtlety    -0.737       \n",
       "aq_scl_skll -0.428  0.000"
      ]
     },
     "metadata": {}
    }
   ],
   "metadata": {}
  },
  {
   "cell_type": "code",
   "execution_count": 52,
   "source": [
    "anova(m1,m3) "
   ],
   "outputs": [
    {
     "output_type": "stream",
     "name": "stderr",
     "text": [
      "refitting model(s) with ML (instead of REML)\n",
      "\n"
     ]
    },
    {
     "output_type": "display_data",
     "data": {
      "text/html": [
       "<table class=\"dataframe\">\n",
       "<caption>A anova: 2 × 8</caption>\n",
       "<thead>\n",
       "\t<tr><th></th><th scope=col>npar</th><th scope=col>AIC</th><th scope=col>BIC</th><th scope=col>logLik</th><th scope=col>deviance</th><th scope=col>Chisq</th><th scope=col>Df</th><th scope=col>Pr(&gt;Chisq)</th></tr>\n",
       "\t<tr><th></th><th scope=col>&lt;dbl&gt;</th><th scope=col>&lt;dbl&gt;</th><th scope=col>&lt;dbl&gt;</th><th scope=col>&lt;dbl&gt;</th><th scope=col>&lt;dbl&gt;</th><th scope=col>&lt;dbl&gt;</th><th scope=col>&lt;dbl&gt;</th><th scope=col>&lt;dbl&gt;</th></tr>\n",
       "</thead>\n",
       "<tbody>\n",
       "\t<tr><th scope=row>m1</th><td>5</td><td>165186.4</td><td>165225.6</td><td>-82588.18</td><td>165176.4</td><td>      NA</td><td>NA</td><td>        NA</td></tr>\n",
       "\t<tr><th scope=row>m3</th><td>6</td><td>165184.0</td><td>165231.2</td><td>-82586.02</td><td>165172.0</td><td>4.324732</td><td> 1</td><td>0.03756233</td></tr>\n",
       "</tbody>\n",
       "</table>\n"
      ],
      "text/latex": [
       "A anova: 2 × 8\n",
       "\\begin{tabular}{r|llllllll}\n",
       "  & npar & AIC & BIC & logLik & deviance & Chisq & Df & Pr(>Chisq)\\\\\n",
       "  & <dbl> & <dbl> & <dbl> & <dbl> & <dbl> & <dbl> & <dbl> & <dbl>\\\\\n",
       "\\hline\n",
       "\tm1 & 5 & 165186.4 & 165225.6 & -82588.18 & 165176.4 &       NA & NA &         NA\\\\\n",
       "\tm3 & 6 & 165184.0 & 165231.2 & -82586.02 & 165172.0 & 4.324732 &  1 & 0.03756233\\\\\n",
       "\\end{tabular}\n"
      ],
      "text/markdown": [
       "\n",
       "A anova: 2 × 8\n",
       "\n",
       "| <!--/--> | npar &lt;dbl&gt; | AIC &lt;dbl&gt; | BIC &lt;dbl&gt; | logLik &lt;dbl&gt; | deviance &lt;dbl&gt; | Chisq &lt;dbl&gt; | Df &lt;dbl&gt; | Pr(&gt;Chisq) &lt;dbl&gt; |\n",
       "|---|---|---|---|---|---|---|---|---|\n",
       "| m1 | 5 | 165186.4 | 165225.6 | -82588.18 | 165176.4 |       NA | NA |         NA |\n",
       "| m3 | 6 | 165184.0 | 165231.2 | -82586.02 | 165172.0 | 4.324732 |  1 | 0.03756233 |\n",
       "\n"
      ],
      "text/plain": [
       "   npar AIC      BIC      logLik    deviance Chisq    Df Pr(>Chisq)\n",
       "m1 5    165186.4 165225.6 -82588.18 165176.4       NA NA         NA\n",
       "m3 6    165184.0 165231.2 -82586.02 165172.0 4.324732  1 0.03756233"
      ]
     },
     "metadata": {}
    }
   ],
   "metadata": {}
  },
  {
   "cell_type": "code",
   "execution_count": 53,
   "source": [
    "anova(m2,m3) "
   ],
   "outputs": [
    {
     "output_type": "stream",
     "name": "stderr",
     "text": [
      "refitting model(s) with ML (instead of REML)\n",
      "\n"
     ]
    },
    {
     "output_type": "display_data",
     "data": {
      "text/html": [
       "<table class=\"dataframe\">\n",
       "<caption>A anova: 2 × 8</caption>\n",
       "<thead>\n",
       "\t<tr><th></th><th scope=col>npar</th><th scope=col>AIC</th><th scope=col>BIC</th><th scope=col>logLik</th><th scope=col>deviance</th><th scope=col>Chisq</th><th scope=col>Df</th><th scope=col>Pr(&gt;Chisq)</th></tr>\n",
       "\t<tr><th></th><th scope=col>&lt;dbl&gt;</th><th scope=col>&lt;dbl&gt;</th><th scope=col>&lt;dbl&gt;</th><th scope=col>&lt;dbl&gt;</th><th scope=col>&lt;dbl&gt;</th><th scope=col>&lt;dbl&gt;</th><th scope=col>&lt;dbl&gt;</th><th scope=col>&lt;dbl&gt;</th></tr>\n",
       "</thead>\n",
       "<tbody>\n",
       "\t<tr><th scope=row>m2</th><td>5</td><td>165325.6</td><td>165364.9</td><td>-82657.80</td><td>165315.6</td><td>      NA</td><td>NA</td><td>          NA</td></tr>\n",
       "\t<tr><th scope=row>m3</th><td>6</td><td>165184.0</td><td>165231.2</td><td>-82586.02</td><td>165172.0</td><td>143.5686</td><td> 1</td><td>4.414719e-33</td></tr>\n",
       "</tbody>\n",
       "</table>\n"
      ],
      "text/latex": [
       "A anova: 2 × 8\n",
       "\\begin{tabular}{r|llllllll}\n",
       "  & npar & AIC & BIC & logLik & deviance & Chisq & Df & Pr(>Chisq)\\\\\n",
       "  & <dbl> & <dbl> & <dbl> & <dbl> & <dbl> & <dbl> & <dbl> & <dbl>\\\\\n",
       "\\hline\n",
       "\tm2 & 5 & 165325.6 & 165364.9 & -82657.80 & 165315.6 &       NA & NA &           NA\\\\\n",
       "\tm3 & 6 & 165184.0 & 165231.2 & -82586.02 & 165172.0 & 143.5686 &  1 & 4.414719e-33\\\\\n",
       "\\end{tabular}\n"
      ],
      "text/markdown": [
       "\n",
       "A anova: 2 × 8\n",
       "\n",
       "| <!--/--> | npar &lt;dbl&gt; | AIC &lt;dbl&gt; | BIC &lt;dbl&gt; | logLik &lt;dbl&gt; | deviance &lt;dbl&gt; | Chisq &lt;dbl&gt; | Df &lt;dbl&gt; | Pr(&gt;Chisq) &lt;dbl&gt; |\n",
       "|---|---|---|---|---|---|---|---|---|\n",
       "| m2 | 5 | 165325.6 | 165364.9 | -82657.80 | 165315.6 |       NA | NA |           NA |\n",
       "| m3 | 6 | 165184.0 | 165231.2 | -82586.02 | 165172.0 | 143.5686 |  1 | 4.414719e-33 |\n",
       "\n"
      ],
      "text/plain": [
       "   npar AIC      BIC      logLik    deviance Chisq    Df Pr(>Chisq)  \n",
       "m2 5    165325.6 165364.9 -82657.80 165315.6       NA NA           NA\n",
       "m3 6    165184.0 165231.2 -82586.02 165172.0 143.5686  1 4.414719e-33"
      ]
     },
     "metadata": {}
    }
   ],
   "metadata": {}
  },
  {
   "cell_type": "code",
   "execution_count": null,
   "source": [],
   "outputs": [],
   "metadata": {}
  }
 ],
 "metadata": {
  "interpreter": {
   "hash": "fd4f9b4a611f13030669d34296d320a89181368ed7f3667f4142a08b4c2c4fbe"
  },
  "kernelspec": {
   "name": "python3124jvsc74a57bd04a074528bc854e8a1fdc819f4bc249979b3b196bce4de5afb134a947ed71fa2f",
   "display_name": "R",
   "language": "R"
  },
  "language_info": {
   "name": "R",
   "codemirror_mode": "r",
   "pygments_lexer": "r",
   "mimetype": "text/x-r-source",
   "file_extension": ".r",
   "version": "4.3.3"
  }
 },
 "nbformat": 4,
 "nbformat_minor": 4
}
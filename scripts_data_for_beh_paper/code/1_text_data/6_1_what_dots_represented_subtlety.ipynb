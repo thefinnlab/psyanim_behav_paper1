{
 "cells": [
  {
   "cell_type": "code",
   "execution_count": 1,
   "source": [
    "import pandas as pd\n",
    "import seaborn as sns\n",
    "import matplotlib.pyplot as plt"
   ],
   "outputs": [],
   "metadata": {}
  },
  {
   "cell_type": "code",
   "execution_count": 2,
   "source": [
    "root_folder = '../../data/text_responses/'"
   ],
   "outputs": [],
   "metadata": {}
  },
  {
   "cell_type": "markdown",
   "source": [
    "# Subtlety"
   ],
   "metadata": {}
  },
  {
   "cell_type": "code",
   "execution_count": 3,
   "source": [
    "df = pd.read_csv(f'{root_folder}/subtlety/without_cover_story/data_all_subs_forQC_anonymised.csv',index_col=[0])\n",
    "df.head()"
   ],
   "outputs": [
    {
     "output_type": "execute_result",
     "data": {
      "text/html": [
       "<div>\n",
       "<style scoped>\n",
       "    .dataframe tbody tr th:only-of-type {\n",
       "        vertical-align: middle;\n",
       "    }\n",
       "\n",
       "    .dataframe tbody tr th {\n",
       "        vertical-align: top;\n",
       "    }\n",
       "\n",
       "    .dataframe thead th {\n",
       "        text-align: right;\n",
       "    }\n",
       "</style>\n",
       "<table border=\"1\" class=\"dataframe\">\n",
       "  <thead>\n",
       "    <tr style=\"text-align: right;\">\n",
       "      <th></th>\n",
       "      <th>index</th>\n",
       "      <th>sub_ind</th>\n",
       "      <th>PID</th>\n",
       "      <th>date</th>\n",
       "      <th>stimset_rows</th>\n",
       "      <th>total_trials</th>\n",
       "      <th>nplanned_trialIDs</th>\n",
       "      <th>npresented_trialIDs</th>\n",
       "      <th>planned_trialIDs_all</th>\n",
       "      <th>presented_trialIDs_all</th>\n",
       "      <th>subtlety</th>\n",
       "      <th>subtlety_sorted</th>\n",
       "      <th>pred_color</th>\n",
       "      <th>pred_pos</th>\n",
       "      <th>responses</th>\n",
       "      <th>agents_type</th>\n",
       "      <th>strategy</th>\n",
       "      <th>feedback</th>\n",
       "    </tr>\n",
       "  </thead>\n",
       "  <tbody>\n",
       "    <tr>\n",
       "      <th>0</th>\n",
       "      <td>0</td>\n",
       "      <td>15000</td>\n",
       "      <td>6106b17736d5140741ee5e8a</td>\n",
       "      <td>12</td>\n",
       "      <td>0</td>\n",
       "      <td>48</td>\n",
       "      <td>7</td>\n",
       "      <td>7</td>\n",
       "      <td>['07cdb9d7-6577-428d-9498-8a7243527554', '0ea5...</td>\n",
       "      <td>['07cdb9d7-6577-428d-9498-8a7243527554', 'b726...</td>\n",
       "      <td>[0, 120, 150, 180, 30, 60, 90]</td>\n",
       "      <td>[0, 30, 60, 90, 120, 150, 180]</td>\n",
       "      <td>['grey', 'grey', 'black', 'black', 'black', 'b...</td>\n",
       "      <td>[250, 550, 550, 550, 250, 550, 250]</td>\n",
       "      <td>['grey dot following black dot', 'moving towar...</td>\n",
       "      <td>animals</td>\n",
       "      <td>trying to see patterns in behaviour</td>\n",
       "      <td>no</td>\n",
       "    </tr>\n",
       "    <tr>\n",
       "      <th>1</th>\n",
       "      <td>1</td>\n",
       "      <td>15001</td>\n",
       "      <td>6316270236b53462f94c6f0c</td>\n",
       "      <td>12</td>\n",
       "      <td>1</td>\n",
       "      <td>48</td>\n",
       "      <td>7</td>\n",
       "      <td>7</td>\n",
       "      <td>['53613c0d-b07e-4b22-b6ec-56dda26edc8f', '17e4...</td>\n",
       "      <td>['17e4063d-b2f1-4406-8a8f-be7151fd23c1', '7bee...</td>\n",
       "      <td>[30, 180, 90, 120, 150, 60, 0]</td>\n",
       "      <td>[0, 30, 60, 90, 120, 150, 180]</td>\n",
       "      <td>['black', 'grey', 'black', 'black', 'grey', 'b...</td>\n",
       "      <td>[550, 250, 250, 550, 550, 550, 250]</td>\n",
       "      <td>['A black dot seemed to follow a grey dot from...</td>\n",
       "      <td>children</td>\n",
       "      <td>I pretended that the dots had some sentient ca...</td>\n",
       "      <td>NaN</td>\n",
       "    </tr>\n",
       "    <tr>\n",
       "      <th>2</th>\n",
       "      <td>2</td>\n",
       "      <td>15002</td>\n",
       "      <td>61099e438a2f56f2770b7cd2</td>\n",
       "      <td>12</td>\n",
       "      <td>2</td>\n",
       "      <td>48</td>\n",
       "      <td>7</td>\n",
       "      <td>7</td>\n",
       "      <td>['19c65966-3d88-4851-afe4-ae34c498748c', '69cb...</td>\n",
       "      <td>['19c65966-3d88-4851-afe4-ae34c498748c', 'adf2...</td>\n",
       "      <td>[0, 60, 180, 30, 90, 120, 150]</td>\n",
       "      <td>[0, 30, 60, 90, 120, 150, 180]</td>\n",
       "      <td>['grey', 'grey', 'black', 'black', 'grey', 'gr...</td>\n",
       "      <td>[550, 250, 550, 250, 550, 250, 250]</td>\n",
       "      <td>['the black dot seemed to be running away from...</td>\n",
       "      <td>children</td>\n",
       "      <td>i watched if the dots were following the same ...</td>\n",
       "      <td>no</td>\n",
       "    </tr>\n",
       "    <tr>\n",
       "      <th>3</th>\n",
       "      <td>3</td>\n",
       "      <td>15003</td>\n",
       "      <td>60de1d590358b86167255a80</td>\n",
       "      <td>12</td>\n",
       "      <td>3</td>\n",
       "      <td>48</td>\n",
       "      <td>7</td>\n",
       "      <td>7</td>\n",
       "      <td>['c188e383-94d7-475e-9da5-6d1f0a1184bb', '57db...</td>\n",
       "      <td>['18487641-212a-4e1e-8730-31709d721382', '57db...</td>\n",
       "      <td>[150, 30, 0, 60, 180, 120, 90]</td>\n",
       "      <td>[0, 30, 60, 90, 120, 150, 180]</td>\n",
       "      <td>['grey', 'grey', 'black', 'black', 'grey', 'bl...</td>\n",
       "      <td>[250, 550, 250, 550, 550, 250, 250]</td>\n",
       "      <td>['Grey dot was moving similarly to a snake. Bl...</td>\n",
       "      <td>something else (describe on the next page)</td>\n",
       "      <td>I observed both dots to see if they were makin...</td>\n",
       "      <td>Interesting</td>\n",
       "    </tr>\n",
       "    <tr>\n",
       "      <th>4</th>\n",
       "      <td>4</td>\n",
       "      <td>15004</td>\n",
       "      <td>641a19d78805c5e3e319826d</td>\n",
       "      <td>12</td>\n",
       "      <td>6</td>\n",
       "      <td>48</td>\n",
       "      <td>7</td>\n",
       "      <td>7</td>\n",
       "      <td>['49e5ac90-6e7f-4243-9552-8c4c10545895', 'c532...</td>\n",
       "      <td>['5d69d5c8-83dd-43c4-be85-f1c2ff45960d', '7e11...</td>\n",
       "      <td>[120, 150, 60, 0, 30, 180, 90]</td>\n",
       "      <td>[0, 30, 60, 90, 120, 150, 180]</td>\n",
       "      <td>['grey', 'black', 'black', 'black', 'black', '...</td>\n",
       "      <td>[550, 250, 250, 550, 250, 250, 550]</td>\n",
       "      <td>['Black dot is moving on the left, grey on the...</td>\n",
       "      <td>balls</td>\n",
       "      <td>no</td>\n",
       "      <td>no</td>\n",
       "    </tr>\n",
       "  </tbody>\n",
       "</table>\n",
       "</div>"
      ],
      "text/plain": [
       "   index  sub_ind                       PID  date  stimset_rows  total_trials  \\\n",
       "0      0    15000  6106b17736d5140741ee5e8a    12             0            48   \n",
       "1      1    15001  6316270236b53462f94c6f0c    12             1            48   \n",
       "2      2    15002  61099e438a2f56f2770b7cd2    12             2            48   \n",
       "3      3    15003  60de1d590358b86167255a80    12             3            48   \n",
       "4      4    15004  641a19d78805c5e3e319826d    12             6            48   \n",
       "\n",
       "   nplanned_trialIDs  npresented_trialIDs  \\\n",
       "0                  7                    7   \n",
       "1                  7                    7   \n",
       "2                  7                    7   \n",
       "3                  7                    7   \n",
       "4                  7                    7   \n",
       "\n",
       "                                planned_trialIDs_all  \\\n",
       "0  ['07cdb9d7-6577-428d-9498-8a7243527554', '0ea5...   \n",
       "1  ['53613c0d-b07e-4b22-b6ec-56dda26edc8f', '17e4...   \n",
       "2  ['19c65966-3d88-4851-afe4-ae34c498748c', '69cb...   \n",
       "3  ['c188e383-94d7-475e-9da5-6d1f0a1184bb', '57db...   \n",
       "4  ['49e5ac90-6e7f-4243-9552-8c4c10545895', 'c532...   \n",
       "\n",
       "                              presented_trialIDs_all  \\\n",
       "0  ['07cdb9d7-6577-428d-9498-8a7243527554', 'b726...   \n",
       "1  ['17e4063d-b2f1-4406-8a8f-be7151fd23c1', '7bee...   \n",
       "2  ['19c65966-3d88-4851-afe4-ae34c498748c', 'adf2...   \n",
       "3  ['18487641-212a-4e1e-8730-31709d721382', '57db...   \n",
       "4  ['5d69d5c8-83dd-43c4-be85-f1c2ff45960d', '7e11...   \n",
       "\n",
       "                         subtlety                 subtlety_sorted  \\\n",
       "0  [0, 120, 150, 180, 30, 60, 90]  [0, 30, 60, 90, 120, 150, 180]   \n",
       "1  [30, 180, 90, 120, 150, 60, 0]  [0, 30, 60, 90, 120, 150, 180]   \n",
       "2  [0, 60, 180, 30, 90, 120, 150]  [0, 30, 60, 90, 120, 150, 180]   \n",
       "3  [150, 30, 0, 60, 180, 120, 90]  [0, 30, 60, 90, 120, 150, 180]   \n",
       "4  [120, 150, 60, 0, 30, 180, 90]  [0, 30, 60, 90, 120, 150, 180]   \n",
       "\n",
       "                                          pred_color  \\\n",
       "0  ['grey', 'grey', 'black', 'black', 'black', 'b...   \n",
       "1  ['black', 'grey', 'black', 'black', 'grey', 'b...   \n",
       "2  ['grey', 'grey', 'black', 'black', 'grey', 'gr...   \n",
       "3  ['grey', 'grey', 'black', 'black', 'grey', 'bl...   \n",
       "4  ['grey', 'black', 'black', 'black', 'black', '...   \n",
       "\n",
       "                              pred_pos  \\\n",
       "0  [250, 550, 550, 550, 250, 550, 250]   \n",
       "1  [550, 250, 250, 550, 550, 550, 250]   \n",
       "2  [550, 250, 550, 250, 550, 250, 250]   \n",
       "3  [250, 550, 250, 550, 550, 250, 250]   \n",
       "4  [550, 250, 250, 550, 250, 250, 550]   \n",
       "\n",
       "                                           responses  \\\n",
       "0  ['grey dot following black dot', 'moving towar...   \n",
       "1  ['A black dot seemed to follow a grey dot from...   \n",
       "2  ['the black dot seemed to be running away from...   \n",
       "3  ['Grey dot was moving similarly to a snake. Bl...   \n",
       "4  ['Black dot is moving on the left, grey on the...   \n",
       "\n",
       "                                  agents_type  \\\n",
       "0                                     animals   \n",
       "1                                    children   \n",
       "2                                    children   \n",
       "3  something else (describe on the next page)   \n",
       "4                                       balls   \n",
       "\n",
       "                                            strategy      feedback  \n",
       "0                trying to see patterns in behaviour            no  \n",
       "1  I pretended that the dots had some sentient ca...           NaN  \n",
       "2  i watched if the dots were following the same ...            no  \n",
       "3  I observed both dots to see if they were makin...  Interesting   \n",
       "4                                                 no            no  "
      ]
     },
     "metadata": {},
     "execution_count": 3
    }
   ],
   "metadata": {}
  },
  {
   "cell_type": "code",
   "execution_count": 4,
   "source": [
    "df.shape"
   ],
   "outputs": [
    {
     "output_type": "execute_result",
     "data": {
      "text/plain": [
       "(60, 18)"
      ]
     },
     "metadata": {},
     "execution_count": 4
    }
   ],
   "metadata": {}
  },
  {
   "cell_type": "code",
   "execution_count": 5,
   "source": [
    "df.groupby(['agents_type']).count().iloc[:,0]"
   ],
   "outputs": [
    {
     "output_type": "execute_result",
     "data": {
      "text/plain": [
       "agents_type\n",
       "adults                                         5\n",
       "animals                                       16\n",
       "balls                                         13\n",
       "children                                       5\n",
       "magnets                                       13\n",
       "something else (describe on the next page)     8\n",
       "Name: index, dtype: int64"
      ]
     },
     "metadata": {},
     "execution_count": 5
    }
   ],
   "metadata": {}
  },
  {
   "cell_type": "code",
   "execution_count": 6,
   "source": [
    "df.loc[df['agents_type']== 'something else (describe on the next page)',['strategy','feedback']].values"
   ],
   "outputs": [
    {
     "output_type": "execute_result",
     "data": {
      "text/plain": [
       "array([['I observed both dots to see if they were making similar movements. Also observed the distance between the dots',\n",
       "        'Interesting '],\n",
       "       ['Just paying full attention to the screen, no distractions',\n",
       "        'It was unclear what the dots were representing'],\n",
       "       ['the dots didnt move in a specific pattern linked to any of the options on the former screen',\n",
       "        'No feedback'],\n",
       "       ['I tended to give them personalities and reasons for their movements.',\n",
       "        \"It was unclear what was wanted after the test video. Wasn't sure if we needed to describe the test movements or acknowledge we understood the information present (ex. like saying we understood we needed to describe since that was the informing page). Also, unsure if the dots were meant to be anything. I didn't think so so I said 'something else' thinking I'll be saying what next page and next page was something unrelated. Just would have said 'they were just dots'. \"],\n",
       "       ['none', 'Nope'],\n",
       "       [\"I think it was perhaps letters it was drawing. I tried to focus on both balls so didn't pick up on this early on. If I had just focused in on one ball I would have noticed this sooner.\",\n",
       "        'None'],\n",
       "       [\"I didn't feel as if the dots represented anything, but it did seem like they were chasing each other. I didn't use any strategy that I am aware of.\",\n",
       "        'An interesting task. No other comments.'],\n",
       "       ['Yes', 'no']], dtype=object)"
      ]
     },
     "metadata": {},
     "execution_count": 6
    }
   ],
   "metadata": {}
  },
  {
   "cell_type": "markdown",
   "source": [
    "- No description of something else - so going to drop these rows"
   ],
   "metadata": {}
  },
  {
   "cell_type": "code",
   "execution_count": 7,
   "source": [
    "df.loc[df['agents_type']== 'something else (describe on the next page)',['strategy','feedback']].shape"
   ],
   "outputs": [
    {
     "output_type": "execute_result",
     "data": {
      "text/plain": [
       "(8, 2)"
      ]
     },
     "metadata": {},
     "execution_count": 7
    }
   ],
   "metadata": {}
  },
  {
   "cell_type": "code",
   "execution_count": 8,
   "source": [
    "df = df[df['agents_type'] != 'something else (describe on the next page)']\n",
    "df.shape"
   ],
   "outputs": [
    {
     "output_type": "execute_result",
     "data": {
      "text/plain": [
       "(52, 18)"
      ]
     },
     "metadata": {},
     "execution_count": 8
    }
   ],
   "metadata": {}
  },
  {
   "cell_type": "code",
   "execution_count": 9,
   "source": [
    "df_count = df.groupby(['agents_type']).count().iloc[:,0].reset_index()\n",
    "if 'index' in df_count.columns:\n",
    "    df_count.rename(columns = {'index':'count'},inplace=True)\n",
    "\n",
    "df_count.sort_values(by=['count'],inplace=True,ascending=False)\n",
    "df_count['count_pc'] = 100*df_count['count']/df_count['count'].sum()"
   ],
   "outputs": [],
   "metadata": {}
  },
  {
   "cell_type": "code",
   "execution_count": 10,
   "source": [
    "results_loc = '../../results/text_analysis/subtlety/no_cover_story'"
   ],
   "outputs": [],
   "metadata": {}
  },
  {
   "cell_type": "code",
   "execution_count": 11,
   "source": [
    "s=16 # CHANGE FONTSIZE HERE\n",
    "plt.rc('font', size=s) #controls default text size\n",
    "plt.rc('axes', titlesize=s) #fontsize of the title\n",
    "plt.rc('axes', labelsize=s) #fontsize of the x and y labels\n",
    "plt.rc('xtick', labelsize=s) #fontsize of the x tick labels\n",
    "plt.rc('ytick', labelsize=s) #fontsize of the y tick labels\n",
    "plt.rc('legend', fontsize=s) #fontsize of the legend"
   ],
   "outputs": [],
   "metadata": {}
  },
  {
   "cell_type": "code",
   "execution_count": 12,
   "source": [
    "plt.figure(figsize=(7,3))\n",
    "sns.barplot(data=df_count,x='agents_type',y='count_pc',color = 'grey')\n",
    "plt.ylabel('% subs')\n",
    "plt.xlabel('')\n",
    "plt.savefig(f'{results_loc}/agents_type_bar.png')"
   ],
   "outputs": [
    {
     "output_type": "display_data",
     "data": {
      "image/png": "[encoded data removed]",
      "text/plain": [
       "<Figure size 504x216 with 1 Axes>"
      ]
     },
     "metadata": {
      "needs_background": "light"
     }
    }
   ],
   "metadata": {}
  },
  {
   "cell_type": "code",
   "execution_count": 14,
   "source": [
    "df_count"
   ],
   "outputs": [
    {
     "output_type": "execute_result",
     "data": {
      "text/html": [
       "<div>\n",
       "<style scoped>\n",
       "    .dataframe tbody tr th:only-of-type {\n",
       "        vertical-align: middle;\n",
       "    }\n",
       "\n",
       "    .dataframe tbody tr th {\n",
       "        vertical-align: top;\n",
       "    }\n",
       "\n",
       "    .dataframe thead th {\n",
       "        text-align: right;\n",
       "    }\n",
       "</style>\n",
       "<table border=\"1\" class=\"dataframe\">\n",
       "  <thead>\n",
       "    <tr style=\"text-align: right;\">\n",
       "      <th></th>\n",
       "      <th>agents_type</th>\n",
       "      <th>count</th>\n",
       "      <th>count_pc</th>\n",
       "    </tr>\n",
       "  </thead>\n",
       "  <tbody>\n",
       "    <tr>\n",
       "      <th>1</th>\n",
       "      <td>animals</td>\n",
       "      <td>16</td>\n",
       "      <td>30.769231</td>\n",
       "    </tr>\n",
       "    <tr>\n",
       "      <th>2</th>\n",
       "      <td>balls</td>\n",
       "      <td>13</td>\n",
       "      <td>25.000000</td>\n",
       "    </tr>\n",
       "    <tr>\n",
       "      <th>4</th>\n",
       "      <td>magnets</td>\n",
       "      <td>13</td>\n",
       "      <td>25.000000</td>\n",
       "    </tr>\n",
       "    <tr>\n",
       "      <th>0</th>\n",
       "      <td>adults</td>\n",
       "      <td>5</td>\n",
       "      <td>9.615385</td>\n",
       "    </tr>\n",
       "    <tr>\n",
       "      <th>3</th>\n",
       "      <td>children</td>\n",
       "      <td>5</td>\n",
       "      <td>9.615385</td>\n",
       "    </tr>\n",
       "  </tbody>\n",
       "</table>\n",
       "</div>"
      ],
      "text/plain": [
       "  agents_type  count   count_pc\n",
       "1     animals     16  30.769231\n",
       "2       balls     13  25.000000\n",
       "4     magnets     13  25.000000\n",
       "0      adults      5   9.615385\n",
       "3    children      5   9.615385"
      ]
     },
     "metadata": {},
     "execution_count": 14
    }
   ],
   "metadata": {}
  },
  {
   "cell_type": "code",
   "execution_count": 16,
   "source": [
    "df_count['agent_type_withpc'] = [f\"{row['agents_type']}\\n({row['count_pc']:.1f}%)\" for _,row in df_count.iterrows()]\n",
    "df_count"
   ],
   "outputs": [
    {
     "output_type": "execute_result",
     "data": {
      "text/html": [
       "<div>\n",
       "<style scoped>\n",
       "    .dataframe tbody tr th:only-of-type {\n",
       "        vertical-align: middle;\n",
       "    }\n",
       "\n",
       "    .dataframe tbody tr th {\n",
       "        vertical-align: top;\n",
       "    }\n",
       "\n",
       "    .dataframe thead th {\n",
       "        text-align: right;\n",
       "    }\n",
       "</style>\n",
       "<table border=\"1\" class=\"dataframe\">\n",
       "  <thead>\n",
       "    <tr style=\"text-align: right;\">\n",
       "      <th></th>\n",
       "      <th>agents_type</th>\n",
       "      <th>count</th>\n",
       "      <th>count_pc</th>\n",
       "      <th>agent_type_withpc</th>\n",
       "    </tr>\n",
       "  </thead>\n",
       "  <tbody>\n",
       "    <tr>\n",
       "      <th>1</th>\n",
       "      <td>animals</td>\n",
       "      <td>16</td>\n",
       "      <td>30.769231</td>\n",
       "      <td>animals\\n(30.8%)</td>\n",
       "    </tr>\n",
       "    <tr>\n",
       "      <th>2</th>\n",
       "      <td>balls</td>\n",
       "      <td>13</td>\n",
       "      <td>25.000000</td>\n",
       "      <td>balls\\n(25.0%)</td>\n",
       "    </tr>\n",
       "    <tr>\n",
       "      <th>4</th>\n",
       "      <td>magnets</td>\n",
       "      <td>13</td>\n",
       "      <td>25.000000</td>\n",
       "      <td>magnets\\n(25.0%)</td>\n",
       "    </tr>\n",
       "    <tr>\n",
       "      <th>0</th>\n",
       "      <td>adults</td>\n",
       "      <td>5</td>\n",
       "      <td>9.615385</td>\n",
       "      <td>adults\\n(9.6%)</td>\n",
       "    </tr>\n",
       "    <tr>\n",
       "      <th>3</th>\n",
       "      <td>children</td>\n",
       "      <td>5</td>\n",
       "      <td>9.615385</td>\n",
       "      <td>children\\n(9.6%)</td>\n",
       "    </tr>\n",
       "  </tbody>\n",
       "</table>\n",
       "</div>"
      ],
      "text/plain": [
       "  agents_type  count   count_pc agent_type_withpc\n",
       "1     animals     16  30.769231  animals\\n(30.8%)\n",
       "2       balls     13  25.000000    balls\\n(25.0%)\n",
       "4     magnets     13  25.000000  magnets\\n(25.0%)\n",
       "0      adults      5   9.615385    adults\\n(9.6%)\n",
       "3    children      5   9.615385  children\\n(9.6%)"
      ]
     },
     "metadata": {},
     "execution_count": 16
    }
   ],
   "metadata": {}
  },
  {
   "cell_type": "code",
   "execution_count": 17,
   "source": [
    "df_count['animacy'] = ['animate','inanimate','inanimate','animate','animate']\n",
    "df_count"
   ],
   "outputs": [
    {
     "output_type": "execute_result",
     "data": {
      "text/html": [
       "<div>\n",
       "<style scoped>\n",
       "    .dataframe tbody tr th:only-of-type {\n",
       "        vertical-align: middle;\n",
       "    }\n",
       "\n",
       "    .dataframe tbody tr th {\n",
       "        vertical-align: top;\n",
       "    }\n",
       "\n",
       "    .dataframe thead th {\n",
       "        text-align: right;\n",
       "    }\n",
       "</style>\n",
       "<table border=\"1\" class=\"dataframe\">\n",
       "  <thead>\n",
       "    <tr style=\"text-align: right;\">\n",
       "      <th></th>\n",
       "      <th>agents_type</th>\n",
       "      <th>count</th>\n",
       "      <th>count_pc</th>\n",
       "      <th>agent_type_withpc</th>\n",
       "      <th>animacy</th>\n",
       "    </tr>\n",
       "  </thead>\n",
       "  <tbody>\n",
       "    <tr>\n",
       "      <th>1</th>\n",
       "      <td>animals</td>\n",
       "      <td>16</td>\n",
       "      <td>30.769231</td>\n",
       "      <td>animals\\n(30.8%)</td>\n",
       "      <td>animate</td>\n",
       "    </tr>\n",
       "    <tr>\n",
       "      <th>2</th>\n",
       "      <td>balls</td>\n",
       "      <td>13</td>\n",
       "      <td>25.000000</td>\n",
       "      <td>balls\\n(25.0%)</td>\n",
       "      <td>inanimate</td>\n",
       "    </tr>\n",
       "    <tr>\n",
       "      <th>4</th>\n",
       "      <td>magnets</td>\n",
       "      <td>13</td>\n",
       "      <td>25.000000</td>\n",
       "      <td>magnets\\n(25.0%)</td>\n",
       "      <td>inanimate</td>\n",
       "    </tr>\n",
       "    <tr>\n",
       "      <th>0</th>\n",
       "      <td>adults</td>\n",
       "      <td>5</td>\n",
       "      <td>9.615385</td>\n",
       "      <td>adults\\n(9.6%)</td>\n",
       "      <td>animate</td>\n",
       "    </tr>\n",
       "    <tr>\n",
       "      <th>3</th>\n",
       "      <td>children</td>\n",
       "      <td>5</td>\n",
       "      <td>9.615385</td>\n",
       "      <td>children\\n(9.6%)</td>\n",
       "      <td>animate</td>\n",
       "    </tr>\n",
       "  </tbody>\n",
       "</table>\n",
       "</div>"
      ],
      "text/plain": [
       "  agents_type  count   count_pc agent_type_withpc    animacy\n",
       "1     animals     16  30.769231  animals\\n(30.8%)    animate\n",
       "2       balls     13  25.000000    balls\\n(25.0%)  inanimate\n",
       "4     magnets     13  25.000000  magnets\\n(25.0%)  inanimate\n",
       "0      adults      5   9.615385    adults\\n(9.6%)    animate\n",
       "3    children      5   9.615385  children\\n(9.6%)    animate"
      ]
     },
     "metadata": {},
     "execution_count": 17
    }
   ],
   "metadata": {}
  },
  {
   "cell_type": "code",
   "execution_count": 21,
   "source": [
    "df_count.sort_values(by=['animacy','agents_type'],inplace=True)"
   ],
   "outputs": [],
   "metadata": {}
  },
  {
   "cell_type": "code",
   "execution_count": 22,
   "source": [
    "plt.pie(df_count['count_pc'],labels=df_count['agent_type_withpc'])\n",
    "plt.savefig(f'{results_loc}/agents_type_pie.png',bbox_inches='tight')"
   ],
   "outputs": [
    {
     "output_type": "display_data",
     "data": {
      "image/png": "[encoded data removed]",
      "text/plain": [
       "<Figure size 432x288 with 1 Axes>"
      ]
     },
     "metadata": {}
    }
   ],
   "metadata": {}
  },
  {
   "cell_type": "code",
   "execution_count": null,
   "source": [],
   "outputs": [],
   "metadata": {}
  }
 ],
 "metadata": {
  "orig_nbformat": 4,
  "language_info": {
   "name": "python",
   "version": "3.7.11",
   "mimetype": "text/x-python",
   "codemirror_mode": {
    "name": "ipython",
    "version": 3
   },
   "pygments_lexer": "ipython3",
   "nbconvert_exporter": "python",
   "file_extension": ".py"
  },
  "kernelspec": {
   "name": "python3",
   "display_name": "Python 3.7.11 64-bit ('py37': conda)"
  },
  "interpreter": {
   "hash": "30fd9c97283ec1278eec212a8f8afab06ad903f38228c32cacb469eba8e56f4f"
  }
 },
 "nbformat": 4,
 "nbformat_minor": 2
}